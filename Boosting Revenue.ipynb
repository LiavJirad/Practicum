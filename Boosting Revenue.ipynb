{
 "cells": [
  {
   "cell_type": "markdown",
   "metadata": {},
   "source": [
    "# Introduction\n",
    "In this project I will analyze which is the best hypothesis for boosting the revenue.\n",
    "## Outlines\n",
    "1. I will prioritize hypotheses.\n",
    "2. Conduct an A/B test.\n",
    "3. Make decision based on it.\n",
    "### Tasks\n",
    "I will check the data integrity, examine the hypothesis,divide the users by their group and calculate which is better for business.\n",
    "\n",
    "## Table of contents:\n",
    "1. Unfolding of the data \n",
    "2. Prioritizing Hypotheses \n",
    "3. Conclusions and recommendations \n",
    "4. A/B test analysis \n",
    "5. conclusions and recommendations"
   ]
  },
  {
   "cell_type": "code",
   "execution_count": 1,
   "metadata": {},
   "outputs": [
    {
     "name": "stdout",
     "output_type": "stream",
     "text": [
      "Defaulting to user installation because normal site-packages is not writeable\n",
      "Collecting seaborn\n",
      "  Downloading seaborn-0.11.2-py3-none-any.whl (292 kB)\n",
      "\u001b[K     |████████████████████████████████| 292 kB 1.4 MB/s eta 0:00:01\n",
      "\u001b[?25hRequirement already satisfied, skipping upgrade: numpy>=1.15 in /opt/conda/lib/python3.7/site-packages (from seaborn) (1.19.5)\n",
      "Requirement already satisfied, skipping upgrade: matplotlib>=2.2 in /opt/conda/lib/python3.7/site-packages (from seaborn) (3.1.0)\n",
      "Requirement already satisfied, skipping upgrade: pandas>=0.23 in /opt/conda/lib/python3.7/site-packages (from seaborn) (0.25.1)\n",
      "Requirement already satisfied, skipping upgrade: scipy>=1.0 in /opt/conda/lib/python3.7/site-packages (from seaborn) (1.4.1)\n",
      "Requirement already satisfied, skipping upgrade: pyparsing!=2.0.4,!=2.1.2,!=2.1.6,>=2.0.1 in /opt/conda/lib/python3.7/site-packages (from matplotlib>=2.2->seaborn) (2.4.7)\n",
      "Requirement already satisfied, skipping upgrade: kiwisolver>=1.0.1 in /opt/conda/lib/python3.7/site-packages (from matplotlib>=2.2->seaborn) (1.3.1)\n",
      "Requirement already satisfied, skipping upgrade: python-dateutil>=2.1 in /opt/conda/lib/python3.7/site-packages (from matplotlib>=2.2->seaborn) (2.8.1)\n",
      "Requirement already satisfied, skipping upgrade: cycler>=0.10 in /opt/conda/lib/python3.7/site-packages (from matplotlib>=2.2->seaborn) (0.10.0)\n",
      "Requirement already satisfied, skipping upgrade: pytz>=2017.2 in /opt/conda/lib/python3.7/site-packages (from pandas>=0.23->seaborn) (2021.1)\n",
      "Requirement already satisfied, skipping upgrade: six>=1.5 in /opt/conda/lib/python3.7/site-packages (from python-dateutil>=2.1->matplotlib>=2.2->seaborn) (1.15.0)\n",
      "Installing collected packages: seaborn\n",
      "Successfully installed seaborn-0.11.2\n",
      "Note: you may need to restart the kernel to use updated packages.\n"
     ]
    }
   ],
   "source": [
    "pip install -U seaborn"
   ]
  },
  {
   "cell_type": "code",
   "execution_count": 2,
   "metadata": {},
   "outputs": [
    {
     "name": "stdout",
     "output_type": "stream",
     "text": [
      "Defaulting to user installation because normal site-packages is not writeable\n",
      "Collecting plotly\n",
      "  Downloading plotly-5.6.0-py2.py3-none-any.whl (27.7 MB)\n",
      "\u001b[K     |████████████████████████████████| 27.7 MB 4.5 kB/s eta 0:00:01\n",
      "\u001b[?25hCollecting tenacity>=6.2.0\n",
      "  Downloading tenacity-8.0.1-py3-none-any.whl (24 kB)\n",
      "Requirement already satisfied, skipping upgrade: six in /opt/conda/lib/python3.7/site-packages (from plotly) (1.15.0)\n",
      "Installing collected packages: tenacity, plotly\n",
      "Successfully installed plotly-5.6.0 tenacity-8.0.1\n",
      "Note: you may need to restart the kernel to use updated packages.\n"
     ]
    }
   ],
   "source": [
    "pip install -U plotly"
   ]
  },
  {
   "cell_type": "code",
   "execution_count": 3,
   "metadata": {},
   "outputs": [
    {
     "name": "stdout",
     "output_type": "stream",
     "text": [
      "Defaulting to user installation because normal site-packages is not writeable\n",
      "Collecting sidetable\n",
      "  Downloading sidetable-0.9.0-py3-none-any.whl (17 kB)\n",
      "Collecting pandas>=1.0\n",
      "  Downloading pandas-1.3.5-cp37-cp37m-manylinux_2_17_x86_64.manylinux2014_x86_64.whl (11.3 MB)\n",
      "\u001b[K     |████████████████████████████████| 11.3 MB 3.3 MB/s eta 0:00:01    |██████████████████████████▍     | 9.3 MB 3.3 MB/s eta 0:00:01\n",
      "\u001b[?25hRequirement already satisfied, skipping upgrade: python-dateutil>=2.7.3 in /opt/conda/lib/python3.7/site-packages (from pandas>=1.0->sidetable) (2.8.1)\n",
      "Requirement already satisfied, skipping upgrade: pytz>=2017.3 in /opt/conda/lib/python3.7/site-packages (from pandas>=1.0->sidetable) (2021.1)\n",
      "Requirement already satisfied, skipping upgrade: numpy>=1.17.3; platform_machine != \"aarch64\" and platform_machine != \"arm64\" and python_version < \"3.10\" in /opt/conda/lib/python3.7/site-packages (from pandas>=1.0->sidetable) (1.19.5)\n",
      "Requirement already satisfied, skipping upgrade: six>=1.5 in /opt/conda/lib/python3.7/site-packages (from python-dateutil>=2.7.3->pandas>=1.0->sidetable) (1.15.0)\n",
      "Installing collected packages: pandas, sidetable\n",
      "Successfully installed pandas-1.3.5 sidetable-0.9.0\n",
      "Note: you may need to restart the kernel to use updated packages.\n"
     ]
    }
   ],
   "source": [
    "pip install -U sidetable"
   ]
  },
  {
   "cell_type": "code",
   "execution_count": 4,
   "metadata": {
    "scrolled": true
   },
   "outputs": [
    {
     "name": "stderr",
     "output_type": "stream",
     "text": [
      "/opt/conda/lib/python3.7/site-packages/statsmodels/tools/_testing.py:19: FutureWarning: pandas.util.testing is deprecated. Use the functions in the public API at pandas.testing instead.\n",
      "  import pandas.util.testing as tm\n"
     ]
    }
   ],
   "source": [
    "import pandas as pd\n",
    "import math\n",
    "import random\n",
    "import datetime as dt\n",
    "import numpy as np\n",
    "import scipy.stats as stats\n",
    "from datetime import datetime\n",
    "from statsmodels.stats.proportion import proportions_ztest\n",
    "import sidetable\n",
    "import seaborn as sns\n",
    "import matplotlib.pyplot as plt\n",
    "import plotly.express as px\n",
    "import plotly.graph_objects as go"
   ]
  },
  {
   "cell_type": "code",
   "execution_count": 5,
   "metadata": {},
   "outputs": [
    {
     "name": "stderr",
     "output_type": "stream",
     "text": [
      "/opt/conda/lib/python3.7/site-packages/ipykernel_launcher.py:3: FutureWarning: Passing a negative integer is deprecated in version 1.0 and will not be supported in future version. Instead, use None to not limit the column width.\n",
      "  This is separate from the ipykernel package so we can avoid doing imports until\n"
     ]
    },
    {
     "data": {
      "text/html": [
       "<div>\n",
       "<style scoped>\n",
       "    .dataframe tbody tr th:only-of-type {\n",
       "        vertical-align: middle;\n",
       "    }\n",
       "\n",
       "    .dataframe tbody tr th {\n",
       "        vertical-align: top;\n",
       "    }\n",
       "\n",
       "    .dataframe thead th {\n",
       "        text-align: right;\n",
       "    }\n",
       "</style>\n",
       "<table border=\"1\" class=\"dataframe\">\n",
       "  <thead>\n",
       "    <tr style=\"text-align: right;\">\n",
       "      <th></th>\n",
       "      <th>hypothesis</th>\n",
       "      <th>reach</th>\n",
       "      <th>impact</th>\n",
       "      <th>confidence</th>\n",
       "      <th>effort</th>\n",
       "    </tr>\n",
       "  </thead>\n",
       "  <tbody>\n",
       "    <tr>\n",
       "      <th>0</th>\n",
       "      <td>Add two new channels for attracting traffic. This will bring 30% more users</td>\n",
       "      <td>3</td>\n",
       "      <td>10</td>\n",
       "      <td>8</td>\n",
       "      <td>6</td>\n",
       "    </tr>\n",
       "    <tr>\n",
       "      <th>1</th>\n",
       "      <td>Launch your own delivery service. This will shorten delivery time</td>\n",
       "      <td>2</td>\n",
       "      <td>5</td>\n",
       "      <td>4</td>\n",
       "      <td>10</td>\n",
       "    </tr>\n",
       "    <tr>\n",
       "      <th>2</th>\n",
       "      <td>Add product recommendation blocks to the store's site. This will increase conversion and average purchase size</td>\n",
       "      <td>8</td>\n",
       "      <td>3</td>\n",
       "      <td>7</td>\n",
       "      <td>3</td>\n",
       "    </tr>\n",
       "    <tr>\n",
       "      <th>3</th>\n",
       "      <td>Change the category structure. This will increase conversion since users will find the products they want more quickly</td>\n",
       "      <td>8</td>\n",
       "      <td>3</td>\n",
       "      <td>3</td>\n",
       "      <td>8</td>\n",
       "    </tr>\n",
       "    <tr>\n",
       "      <th>4</th>\n",
       "      <td>Change the background color on the main page. This will increase user engagement</td>\n",
       "      <td>3</td>\n",
       "      <td>1</td>\n",
       "      <td>1</td>\n",
       "      <td>1</td>\n",
       "    </tr>\n",
       "    <tr>\n",
       "      <th>5</th>\n",
       "      <td>Add a customer review page. This will increase the number of orders</td>\n",
       "      <td>3</td>\n",
       "      <td>2</td>\n",
       "      <td>2</td>\n",
       "      <td>3</td>\n",
       "    </tr>\n",
       "    <tr>\n",
       "      <th>6</th>\n",
       "      <td>Show banners with current offers and sales on the main page. This will boost conversion</td>\n",
       "      <td>5</td>\n",
       "      <td>3</td>\n",
       "      <td>8</td>\n",
       "      <td>3</td>\n",
       "    </tr>\n",
       "    <tr>\n",
       "      <th>7</th>\n",
       "      <td>Add a subscription form to all the main pages. This will help you compile a mailing list</td>\n",
       "      <td>10</td>\n",
       "      <td>7</td>\n",
       "      <td>8</td>\n",
       "      <td>5</td>\n",
       "    </tr>\n",
       "    <tr>\n",
       "      <th>8</th>\n",
       "      <td>Launch a promotion that gives users discounts on their birthdays</td>\n",
       "      <td>1</td>\n",
       "      <td>9</td>\n",
       "      <td>9</td>\n",
       "      <td>5</td>\n",
       "    </tr>\n",
       "  </tbody>\n",
       "</table>\n",
       "</div>"
      ],
      "text/plain": [
       "                                                                                                               hypothesis  \\\n",
       "0  Add two new channels for attracting traffic. This will bring 30% more users                                              \n",
       "1  Launch your own delivery service. This will shorten delivery time                                                        \n",
       "2  Add product recommendation blocks to the store's site. This will increase conversion and average purchase size           \n",
       "3  Change the category structure. This will increase conversion since users will find the products they want more quickly   \n",
       "4  Change the background color on the main page. This will increase user engagement                                         \n",
       "5  Add a customer review page. This will increase the number of orders                                                      \n",
       "6  Show banners with current offers and sales on the main page. This will boost conversion                                  \n",
       "7  Add a subscription form to all the main pages. This will help you compile a mailing list                                 \n",
       "8  Launch a promotion that gives users discounts on their birthdays                                                         \n",
       "\n",
       "   reach  impact  confidence  effort  \n",
       "0  3      10      8           6       \n",
       "1  2      5       4           10      \n",
       "2  8      3       7           3       \n",
       "3  8      3       3           8       \n",
       "4  3      1       1           1       \n",
       "5  3      2       2           3       \n",
       "6  5      3       8           3       \n",
       "7  10     7       8           5       \n",
       "8  1      9       9           5       "
      ]
     },
     "execution_count": 5,
     "metadata": {},
     "output_type": "execute_result"
    }
   ],
   "source": [
    "hypotheses = pd.read_csv('/datasets/hypotheses_us.csv', sep = ';')\n",
    "hypotheses.columns = hypotheses.columns.str.lower()\n",
    "pd.set_option(\"display.max_colwidth\", -1)\n",
    "hypotheses"
   ]
  },
  {
   "cell_type": "markdown",
   "metadata": {},
   "source": [
    "There are 9 hypothesis with different marks on 4 assessing parameters."
   ]
  },
  {
   "cell_type": "code",
   "execution_count": 6,
   "metadata": {},
   "outputs": [
    {
     "data": {
      "text/html": [
       "<div>\n",
       "<style scoped>\n",
       "    .dataframe tbody tr th:only-of-type {\n",
       "        vertical-align: middle;\n",
       "    }\n",
       "\n",
       "    .dataframe tbody tr th {\n",
       "        vertical-align: top;\n",
       "    }\n",
       "\n",
       "    .dataframe thead th {\n",
       "        text-align: right;\n",
       "    }\n",
       "</style>\n",
       "<table border=\"1\" class=\"dataframe\">\n",
       "  <thead>\n",
       "    <tr style=\"text-align: right;\">\n",
       "      <th></th>\n",
       "      <th>hypothesis</th>\n",
       "      <th>reach</th>\n",
       "      <th>impact</th>\n",
       "      <th>confidence</th>\n",
       "      <th>effort</th>\n",
       "    </tr>\n",
       "  </thead>\n",
       "  <tbody>\n",
       "    <tr>\n",
       "      <th>0</th>\n",
       "      <td>hypothesis_1</td>\n",
       "      <td>3</td>\n",
       "      <td>10</td>\n",
       "      <td>8</td>\n",
       "      <td>6</td>\n",
       "    </tr>\n",
       "    <tr>\n",
       "      <th>1</th>\n",
       "      <td>hypothesis_2</td>\n",
       "      <td>2</td>\n",
       "      <td>5</td>\n",
       "      <td>4</td>\n",
       "      <td>10</td>\n",
       "    </tr>\n",
       "    <tr>\n",
       "      <th>2</th>\n",
       "      <td>hypothesis_3</td>\n",
       "      <td>8</td>\n",
       "      <td>3</td>\n",
       "      <td>7</td>\n",
       "      <td>3</td>\n",
       "    </tr>\n",
       "    <tr>\n",
       "      <th>3</th>\n",
       "      <td>hypothesis_4</td>\n",
       "      <td>8</td>\n",
       "      <td>3</td>\n",
       "      <td>3</td>\n",
       "      <td>8</td>\n",
       "    </tr>\n",
       "    <tr>\n",
       "      <th>4</th>\n",
       "      <td>hypothesis_5</td>\n",
       "      <td>3</td>\n",
       "      <td>1</td>\n",
       "      <td>1</td>\n",
       "      <td>1</td>\n",
       "    </tr>\n",
       "    <tr>\n",
       "      <th>5</th>\n",
       "      <td>hypothesis_6</td>\n",
       "      <td>3</td>\n",
       "      <td>2</td>\n",
       "      <td>2</td>\n",
       "      <td>3</td>\n",
       "    </tr>\n",
       "    <tr>\n",
       "      <th>6</th>\n",
       "      <td>hypothesis_7</td>\n",
       "      <td>5</td>\n",
       "      <td>3</td>\n",
       "      <td>8</td>\n",
       "      <td>3</td>\n",
       "    </tr>\n",
       "    <tr>\n",
       "      <th>7</th>\n",
       "      <td>hypothesis_8</td>\n",
       "      <td>10</td>\n",
       "      <td>7</td>\n",
       "      <td>8</td>\n",
       "      <td>5</td>\n",
       "    </tr>\n",
       "    <tr>\n",
       "      <th>8</th>\n",
       "      <td>hypothesis_9</td>\n",
       "      <td>1</td>\n",
       "      <td>9</td>\n",
       "      <td>9</td>\n",
       "      <td>5</td>\n",
       "    </tr>\n",
       "  </tbody>\n",
       "</table>\n",
       "</div>"
      ],
      "text/plain": [
       "     hypothesis  reach  impact  confidence  effort\n",
       "0  hypothesis_1  3      10      8           6     \n",
       "1  hypothesis_2  2      5       4           10    \n",
       "2  hypothesis_3  8      3       7           3     \n",
       "3  hypothesis_4  8      3       3           8     \n",
       "4  hypothesis_5  3      1       1           1     \n",
       "5  hypothesis_6  3      2       2           3     \n",
       "6  hypothesis_7  5      3       8           3     \n",
       "7  hypothesis_8  10     7       8           5     \n",
       "8  hypothesis_9  1      9       9           5     "
      ]
     },
     "execution_count": 6,
     "metadata": {},
     "output_type": "execute_result"
    }
   ],
   "source": [
    "data = [['hypothesis_1', 3, 10, 8, 6], ['hypothesis_2', 2, 5, 4, 10], ['hypothesis_3', 8, 3, 7, 3], ['hypothesis_4', 8, 3, 3, 8], ['hypothesis_5', 3, 1, 1, 1], ['hypothesis_6', 3, 2, 2, 3], ['hypothesis_7', 5, 3, 8, 3], ['hypothesis_8', 10, 7, 8, 5], ['hypothesis_9', 1, 9, 9, 5]]\n",
    "hypotheses = pd.DataFrame(data, columns = ['hypothesis', 'reach', 'impact', 'confidence', 'effort'])\n",
    "hypotheses"
   ]
  },
  {
   "cell_type": "code",
   "execution_count": 7,
   "metadata": {},
   "outputs": [
    {
     "data": {
      "text/html": [
       "<style type=\"text/css\">\n",
       "</style>\n",
       "<table id=\"T_96562_\">\n",
       "  <thead>\n",
       "    <tr>\n",
       "      <th class=\"blank level0\" >&nbsp;</th>\n",
       "      <th class=\"col_heading level0 col0\" >missing</th>\n",
       "      <th class=\"col_heading level0 col1\" >total</th>\n",
       "      <th class=\"col_heading level0 col2\" >percent</th>\n",
       "    </tr>\n",
       "  </thead>\n",
       "  <tbody>\n",
       "    <tr>\n",
       "      <th id=\"T_96562_level0_row0\" class=\"row_heading level0 row0\" >hypothesis</th>\n",
       "      <td id=\"T_96562_row0_col0\" class=\"data row0 col0\" >0</td>\n",
       "      <td id=\"T_96562_row0_col1\" class=\"data row0 col1\" >9</td>\n",
       "      <td id=\"T_96562_row0_col2\" class=\"data row0 col2\" >0.00%</td>\n",
       "    </tr>\n",
       "    <tr>\n",
       "      <th id=\"T_96562_level0_row1\" class=\"row_heading level0 row1\" >reach</th>\n",
       "      <td id=\"T_96562_row1_col0\" class=\"data row1 col0\" >0</td>\n",
       "      <td id=\"T_96562_row1_col1\" class=\"data row1 col1\" >9</td>\n",
       "      <td id=\"T_96562_row1_col2\" class=\"data row1 col2\" >0.00%</td>\n",
       "    </tr>\n",
       "    <tr>\n",
       "      <th id=\"T_96562_level0_row2\" class=\"row_heading level0 row2\" >impact</th>\n",
       "      <td id=\"T_96562_row2_col0\" class=\"data row2 col0\" >0</td>\n",
       "      <td id=\"T_96562_row2_col1\" class=\"data row2 col1\" >9</td>\n",
       "      <td id=\"T_96562_row2_col2\" class=\"data row2 col2\" >0.00%</td>\n",
       "    </tr>\n",
       "    <tr>\n",
       "      <th id=\"T_96562_level0_row3\" class=\"row_heading level0 row3\" >confidence</th>\n",
       "      <td id=\"T_96562_row3_col0\" class=\"data row3 col0\" >0</td>\n",
       "      <td id=\"T_96562_row3_col1\" class=\"data row3 col1\" >9</td>\n",
       "      <td id=\"T_96562_row3_col2\" class=\"data row3 col2\" >0.00%</td>\n",
       "    </tr>\n",
       "    <tr>\n",
       "      <th id=\"T_96562_level0_row4\" class=\"row_heading level0 row4\" >effort</th>\n",
       "      <td id=\"T_96562_row4_col0\" class=\"data row4 col0\" >0</td>\n",
       "      <td id=\"T_96562_row4_col1\" class=\"data row4 col1\" >9</td>\n",
       "      <td id=\"T_96562_row4_col2\" class=\"data row4 col2\" >0.00%</td>\n",
       "    </tr>\n",
       "  </tbody>\n",
       "</table>\n"
      ],
      "text/plain": [
       "<pandas.io.formats.style.Styler at 0x7f5b341cdfd0>"
      ]
     },
     "execution_count": 7,
     "metadata": {},
     "output_type": "execute_result"
    }
   ],
   "source": [
    "hypotheses.stb.missing(style = True)"
   ]
  },
  {
   "cell_type": "code",
   "execution_count": 8,
   "metadata": {},
   "outputs": [
    {
     "data": {
      "text/html": [
       "<div>\n",
       "<style scoped>\n",
       "    .dataframe tbody tr th:only-of-type {\n",
       "        vertical-align: middle;\n",
       "    }\n",
       "\n",
       "    .dataframe tbody tr th {\n",
       "        vertical-align: top;\n",
       "    }\n",
       "\n",
       "    .dataframe thead th {\n",
       "        text-align: right;\n",
       "    }\n",
       "</style>\n",
       "<table border=\"1\" class=\"dataframe\">\n",
       "  <thead>\n",
       "    <tr style=\"text-align: right;\">\n",
       "      <th></th>\n",
       "      <th>transactionId</th>\n",
       "      <th>visitorId</th>\n",
       "      <th>date</th>\n",
       "      <th>revenue</th>\n",
       "      <th>group</th>\n",
       "    </tr>\n",
       "  </thead>\n",
       "  <tbody>\n",
       "    <tr>\n",
       "      <th>0</th>\n",
       "      <td>3667963787</td>\n",
       "      <td>3312258926</td>\n",
       "      <td>2019-08-15</td>\n",
       "      <td>30.4</td>\n",
       "      <td>B</td>\n",
       "    </tr>\n",
       "    <tr>\n",
       "      <th>1</th>\n",
       "      <td>2804400009</td>\n",
       "      <td>3642806036</td>\n",
       "      <td>2019-08-15</td>\n",
       "      <td>15.2</td>\n",
       "      <td>B</td>\n",
       "    </tr>\n",
       "    <tr>\n",
       "      <th>2</th>\n",
       "      <td>2961555356</td>\n",
       "      <td>4069496402</td>\n",
       "      <td>2019-08-15</td>\n",
       "      <td>10.2</td>\n",
       "      <td>A</td>\n",
       "    </tr>\n",
       "    <tr>\n",
       "      <th>3</th>\n",
       "      <td>3797467345</td>\n",
       "      <td>1196621759</td>\n",
       "      <td>2019-08-15</td>\n",
       "      <td>155.1</td>\n",
       "      <td>B</td>\n",
       "    </tr>\n",
       "    <tr>\n",
       "      <th>4</th>\n",
       "      <td>2282983706</td>\n",
       "      <td>2322279887</td>\n",
       "      <td>2019-08-15</td>\n",
       "      <td>40.5</td>\n",
       "      <td>B</td>\n",
       "    </tr>\n",
       "  </tbody>\n",
       "</table>\n",
       "</div>"
      ],
      "text/plain": [
       "   transactionId   visitorId        date  revenue group\n",
       "0  3667963787     3312258926  2019-08-15  30.4     B   \n",
       "1  2804400009     3642806036  2019-08-15  15.2     B   \n",
       "2  2961555356     4069496402  2019-08-15  10.2     A   \n",
       "3  3797467345     1196621759  2019-08-15  155.1    B   \n",
       "4  2282983706     2322279887  2019-08-15  40.5     B   "
      ]
     },
     "execution_count": 8,
     "metadata": {},
     "output_type": "execute_result"
    }
   ],
   "source": [
    "orders = pd.read_csv('/datasets/orders_us.csv')\n",
    "orders.head()"
   ]
  },
  {
   "cell_type": "code",
   "execution_count": 9,
   "metadata": {},
   "outputs": [
    {
     "data": {
      "text/html": [
       "<div>\n",
       "<style scoped>\n",
       "    .dataframe tbody tr th:only-of-type {\n",
       "        vertical-align: middle;\n",
       "    }\n",
       "\n",
       "    .dataframe tbody tr th {\n",
       "        vertical-align: top;\n",
       "    }\n",
       "\n",
       "    .dataframe thead th {\n",
       "        text-align: right;\n",
       "    }\n",
       "</style>\n",
       "<table border=\"1\" class=\"dataframe\">\n",
       "  <thead>\n",
       "    <tr style=\"text-align: right;\">\n",
       "      <th></th>\n",
       "      <th>date</th>\n",
       "      <th>group</th>\n",
       "      <th>visits</th>\n",
       "    </tr>\n",
       "  </thead>\n",
       "  <tbody>\n",
       "    <tr>\n",
       "      <th>0</th>\n",
       "      <td>2019-08-01</td>\n",
       "      <td>A</td>\n",
       "      <td>719</td>\n",
       "    </tr>\n",
       "    <tr>\n",
       "      <th>1</th>\n",
       "      <td>2019-08-02</td>\n",
       "      <td>A</td>\n",
       "      <td>619</td>\n",
       "    </tr>\n",
       "    <tr>\n",
       "      <th>2</th>\n",
       "      <td>2019-08-03</td>\n",
       "      <td>A</td>\n",
       "      <td>507</td>\n",
       "    </tr>\n",
       "    <tr>\n",
       "      <th>3</th>\n",
       "      <td>2019-08-04</td>\n",
       "      <td>A</td>\n",
       "      <td>717</td>\n",
       "    </tr>\n",
       "    <tr>\n",
       "      <th>4</th>\n",
       "      <td>2019-08-05</td>\n",
       "      <td>A</td>\n",
       "      <td>756</td>\n",
       "    </tr>\n",
       "  </tbody>\n",
       "</table>\n",
       "</div>"
      ],
      "text/plain": [
       "         date group  visits\n",
       "0  2019-08-01  A     719   \n",
       "1  2019-08-02  A     619   \n",
       "2  2019-08-03  A     507   \n",
       "3  2019-08-04  A     717   \n",
       "4  2019-08-05  A     756   "
      ]
     },
     "execution_count": 9,
     "metadata": {},
     "output_type": "execute_result"
    }
   ],
   "source": [
    "visits = pd.read_csv('/datasets/visits_us.csv')\n",
    "visits.head()"
   ]
  },
  {
   "cell_type": "code",
   "execution_count": 10,
   "metadata": {},
   "outputs": [
    {
     "data": {
      "text/html": [
       "<div>\n",
       "<style scoped>\n",
       "    .dataframe tbody tr th:only-of-type {\n",
       "        vertical-align: middle;\n",
       "    }\n",
       "\n",
       "    .dataframe tbody tr th {\n",
       "        vertical-align: top;\n",
       "    }\n",
       "\n",
       "    .dataframe thead th {\n",
       "        text-align: right;\n",
       "    }\n",
       "</style>\n",
       "<table border=\"1\" class=\"dataframe\">\n",
       "  <thead>\n",
       "    <tr style=\"text-align: right;\">\n",
       "      <th></th>\n",
       "      <th>index</th>\n",
       "      <th>date</th>\n",
       "      <th>group</th>\n",
       "      <th>visits</th>\n",
       "    </tr>\n",
       "  </thead>\n",
       "  <tbody>\n",
       "    <tr>\n",
       "      <th>0</th>\n",
       "      <td>0</td>\n",
       "      <td>2019-08-01</td>\n",
       "      <td>A</td>\n",
       "      <td>719</td>\n",
       "    </tr>\n",
       "    <tr>\n",
       "      <th>1</th>\n",
       "      <td>1</td>\n",
       "      <td>2019-08-02</td>\n",
       "      <td>A</td>\n",
       "      <td>619</td>\n",
       "    </tr>\n",
       "    <tr>\n",
       "      <th>2</th>\n",
       "      <td>2</td>\n",
       "      <td>2019-08-03</td>\n",
       "      <td>A</td>\n",
       "      <td>507</td>\n",
       "    </tr>\n",
       "    <tr>\n",
       "      <th>3</th>\n",
       "      <td>3</td>\n",
       "      <td>2019-08-04</td>\n",
       "      <td>A</td>\n",
       "      <td>717</td>\n",
       "    </tr>\n",
       "    <tr>\n",
       "      <th>4</th>\n",
       "      <td>4</td>\n",
       "      <td>2019-08-05</td>\n",
       "      <td>A</td>\n",
       "      <td>756</td>\n",
       "    </tr>\n",
       "    <tr>\n",
       "      <th>...</th>\n",
       "      <td>...</td>\n",
       "      <td>...</td>\n",
       "      <td>...</td>\n",
       "      <td>...</td>\n",
       "    </tr>\n",
       "    <tr>\n",
       "      <th>57</th>\n",
       "      <td>57</td>\n",
       "      <td>2019-08-27</td>\n",
       "      <td>B</td>\n",
       "      <td>720</td>\n",
       "    </tr>\n",
       "    <tr>\n",
       "      <th>58</th>\n",
       "      <td>58</td>\n",
       "      <td>2019-08-28</td>\n",
       "      <td>B</td>\n",
       "      <td>654</td>\n",
       "    </tr>\n",
       "    <tr>\n",
       "      <th>59</th>\n",
       "      <td>59</td>\n",
       "      <td>2019-08-29</td>\n",
       "      <td>B</td>\n",
       "      <td>531</td>\n",
       "    </tr>\n",
       "    <tr>\n",
       "      <th>60</th>\n",
       "      <td>60</td>\n",
       "      <td>2019-08-30</td>\n",
       "      <td>B</td>\n",
       "      <td>490</td>\n",
       "    </tr>\n",
       "    <tr>\n",
       "      <th>61</th>\n",
       "      <td>61</td>\n",
       "      <td>2019-08-31</td>\n",
       "      <td>B</td>\n",
       "      <td>718</td>\n",
       "    </tr>\n",
       "  </tbody>\n",
       "</table>\n",
       "<p>62 rows × 4 columns</p>\n",
       "</div>"
      ],
      "text/plain": [
       "    index        date group  visits\n",
       "0   0      2019-08-01  A     719   \n",
       "1   1      2019-08-02  A     619   \n",
       "2   2      2019-08-03  A     507   \n",
       "3   3      2019-08-04  A     717   \n",
       "4   4      2019-08-05  A     756   \n",
       ".. ..             ... ..     ...   \n",
       "57  57     2019-08-27  B     720   \n",
       "58  58     2019-08-28  B     654   \n",
       "59  59     2019-08-29  B     531   \n",
       "60  60     2019-08-30  B     490   \n",
       "61  61     2019-08-31  B     718   \n",
       "\n",
       "[62 rows x 4 columns]"
      ]
     },
     "execution_count": 10,
     "metadata": {},
     "output_type": "execute_result"
    }
   ],
   "source": [
    "visits.drop_duplicates().reset_index()"
   ]
  },
  {
   "cell_type": "code",
   "execution_count": 11,
   "metadata": {},
   "outputs": [
    {
     "name": "stdout",
     "output_type": "stream",
     "text": [
      "<class 'pandas.core.frame.DataFrame'>\n",
      "RangeIndex: 62 entries, 0 to 61\n",
      "Data columns (total 3 columns):\n",
      " #   Column  Non-Null Count  Dtype \n",
      "---  ------  --------------  ----- \n",
      " 0   date    62 non-null     object\n",
      " 1   group   62 non-null     object\n",
      " 2   visits  62 non-null     int64 \n",
      "dtypes: int64(1), object(2)\n",
      "memory usage: 1.6+ KB\n"
     ]
    }
   ],
   "source": [
    "visits.info()"
   ]
  },
  {
   "cell_type": "code",
   "execution_count": 12,
   "metadata": {},
   "outputs": [
    {
     "data": {
      "text/html": [
       "<div>\n",
       "<style scoped>\n",
       "    .dataframe tbody tr th:only-of-type {\n",
       "        vertical-align: middle;\n",
       "    }\n",
       "\n",
       "    .dataframe tbody tr th {\n",
       "        vertical-align: top;\n",
       "    }\n",
       "\n",
       "    .dataframe thead th {\n",
       "        text-align: right;\n",
       "    }\n",
       "</style>\n",
       "<table border=\"1\" class=\"dataframe\">\n",
       "  <thead>\n",
       "    <tr style=\"text-align: right;\">\n",
       "      <th></th>\n",
       "      <th>index</th>\n",
       "      <th>transactionId</th>\n",
       "      <th>visitorId</th>\n",
       "      <th>date</th>\n",
       "      <th>revenue</th>\n",
       "      <th>group</th>\n",
       "    </tr>\n",
       "  </thead>\n",
       "  <tbody>\n",
       "    <tr>\n",
       "      <th>0</th>\n",
       "      <td>0</td>\n",
       "      <td>3667963787</td>\n",
       "      <td>3312258926</td>\n",
       "      <td>2019-08-15</td>\n",
       "      <td>30.4</td>\n",
       "      <td>B</td>\n",
       "    </tr>\n",
       "    <tr>\n",
       "      <th>1</th>\n",
       "      <td>1</td>\n",
       "      <td>2804400009</td>\n",
       "      <td>3642806036</td>\n",
       "      <td>2019-08-15</td>\n",
       "      <td>15.2</td>\n",
       "      <td>B</td>\n",
       "    </tr>\n",
       "    <tr>\n",
       "      <th>2</th>\n",
       "      <td>2</td>\n",
       "      <td>2961555356</td>\n",
       "      <td>4069496402</td>\n",
       "      <td>2019-08-15</td>\n",
       "      <td>10.2</td>\n",
       "      <td>A</td>\n",
       "    </tr>\n",
       "    <tr>\n",
       "      <th>3</th>\n",
       "      <td>3</td>\n",
       "      <td>3797467345</td>\n",
       "      <td>1196621759</td>\n",
       "      <td>2019-08-15</td>\n",
       "      <td>155.1</td>\n",
       "      <td>B</td>\n",
       "    </tr>\n",
       "    <tr>\n",
       "      <th>4</th>\n",
       "      <td>4</td>\n",
       "      <td>2282983706</td>\n",
       "      <td>2322279887</td>\n",
       "      <td>2019-08-15</td>\n",
       "      <td>40.5</td>\n",
       "      <td>B</td>\n",
       "    </tr>\n",
       "    <tr>\n",
       "      <th>...</th>\n",
       "      <td>...</td>\n",
       "      <td>...</td>\n",
       "      <td>...</td>\n",
       "      <td>...</td>\n",
       "      <td>...</td>\n",
       "      <td>...</td>\n",
       "    </tr>\n",
       "    <tr>\n",
       "      <th>1192</th>\n",
       "      <td>1192</td>\n",
       "      <td>2662137336</td>\n",
       "      <td>3733762160</td>\n",
       "      <td>2019-08-14</td>\n",
       "      <td>100.8</td>\n",
       "      <td>B</td>\n",
       "    </tr>\n",
       "    <tr>\n",
       "      <th>1193</th>\n",
       "      <td>1193</td>\n",
       "      <td>2203539145</td>\n",
       "      <td>370388673</td>\n",
       "      <td>2019-08-14</td>\n",
       "      <td>50.1</td>\n",
       "      <td>A</td>\n",
       "    </tr>\n",
       "    <tr>\n",
       "      <th>1194</th>\n",
       "      <td>1194</td>\n",
       "      <td>1807773912</td>\n",
       "      <td>573423106</td>\n",
       "      <td>2019-08-14</td>\n",
       "      <td>165.3</td>\n",
       "      <td>A</td>\n",
       "    </tr>\n",
       "    <tr>\n",
       "      <th>1195</th>\n",
       "      <td>1195</td>\n",
       "      <td>1947021204</td>\n",
       "      <td>1614305549</td>\n",
       "      <td>2019-08-14</td>\n",
       "      <td>5.5</td>\n",
       "      <td>A</td>\n",
       "    </tr>\n",
       "    <tr>\n",
       "      <th>1196</th>\n",
       "      <td>1196</td>\n",
       "      <td>3936777065</td>\n",
       "      <td>2108080724</td>\n",
       "      <td>2019-08-15</td>\n",
       "      <td>3120.1</td>\n",
       "      <td>B</td>\n",
       "    </tr>\n",
       "  </tbody>\n",
       "</table>\n",
       "<p>1197 rows × 6 columns</p>\n",
       "</div>"
      ],
      "text/plain": [
       "      index  transactionId   visitorId        date  revenue group\n",
       "0     0      3667963787     3312258926  2019-08-15  30.4     B   \n",
       "1     1      2804400009     3642806036  2019-08-15  15.2     B   \n",
       "2     2      2961555356     4069496402  2019-08-15  10.2     A   \n",
       "3     3      3797467345     1196621759  2019-08-15  155.1    B   \n",
       "4     4      2282983706     2322279887  2019-08-15  40.5     B   \n",
       "...  ..             ...            ...         ...   ...    ..   \n",
       "1192  1192   2662137336     3733762160  2019-08-14  100.8    B   \n",
       "1193  1193   2203539145     370388673   2019-08-14  50.1     A   \n",
       "1194  1194   1807773912     573423106   2019-08-14  165.3    A   \n",
       "1195  1195   1947021204     1614305549  2019-08-14  5.5      A   \n",
       "1196  1196   3936777065     2108080724  2019-08-15  3120.1   B   \n",
       "\n",
       "[1197 rows x 6 columns]"
      ]
     },
     "execution_count": 12,
     "metadata": {},
     "output_type": "execute_result"
    }
   ],
   "source": [
    "orders.drop_duplicates().reset_index()"
   ]
  },
  {
   "cell_type": "code",
   "execution_count": 13,
   "metadata": {},
   "outputs": [
    {
     "name": "stdout",
     "output_type": "stream",
     "text": [
      "<class 'pandas.core.frame.DataFrame'>\n",
      "RangeIndex: 1197 entries, 0 to 1196\n",
      "Data columns (total 5 columns):\n",
      " #   Column         Non-Null Count  Dtype  \n",
      "---  ------         --------------  -----  \n",
      " 0   transactionId  1197 non-null   int64  \n",
      " 1   visitorId      1197 non-null   int64  \n",
      " 2   date           1197 non-null   object \n",
      " 3   revenue        1197 non-null   float64\n",
      " 4   group          1197 non-null   object \n",
      "dtypes: float64(1), int64(2), object(2)\n",
      "memory usage: 46.9+ KB\n"
     ]
    }
   ],
   "source": [
    "orders.info()"
   ]
  },
  {
   "cell_type": "markdown",
   "metadata": {},
   "source": [
    "All the data seems intact & in the appropriate type."
   ]
  },
  {
   "cell_type": "code",
   "execution_count": 14,
   "metadata": {},
   "outputs": [
    {
     "name": "stdout",
     "output_type": "stream",
     "text": [
      "     hypothesis        ICE\n",
      "8  hypothesis_9  16.200000\n",
      "0  hypothesis_1  13.333333\n",
      "7  hypothesis_8  11.200000\n",
      "6  hypothesis_7  8.000000 \n",
      "2  hypothesis_3  7.000000 \n",
      "1  hypothesis_2  2.000000 \n",
      "5  hypothesis_6  1.333333 \n",
      "3  hypothesis_4  1.125000 \n",
      "4  hypothesis_5  1.000000 \n"
     ]
    }
   ],
   "source": [
    "hypotheses['ICE'] = (hypotheses['impact'] * hypotheses['confidence']) / hypotheses['effort']\n",
    "print(hypotheses[['hypothesis', 'ICE']].sort_values(['ICE'], ascending = False))"
   ]
  },
  {
   "cell_type": "markdown",
   "metadata": {},
   "source": [
    "As I can see hypothesis 9 is the most profitable one considering all the variants, 1 & 8 are also quit good. 2, 6, 4 & 5 are terrible."
   ]
  },
  {
   "cell_type": "code",
   "execution_count": 15,
   "metadata": {},
   "outputs": [
    {
     "name": "stdout",
     "output_type": "stream",
     "text": [
      "     hypothesis   RICE\n",
      "7  hypothesis_8  112.0\n",
      "2  hypothesis_3  56.0 \n",
      "0  hypothesis_1  40.0 \n",
      "6  hypothesis_7  40.0 \n",
      "8  hypothesis_9  16.2 \n",
      "3  hypothesis_4  9.0  \n",
      "1  hypothesis_2  4.0  \n",
      "5  hypothesis_6  4.0  \n",
      "4  hypothesis_5  3.0  \n"
     ]
    }
   ],
   "source": [
    "hypotheses['RICE'] = (hypotheses['reach'] * hypotheses['impact'] * hypotheses['confidence']) / hypotheses['effort']\n",
    "print(hypotheses[['hypothesis', 'RICE']].sort_values(['RICE'], ascending = False))"
   ]
  },
  {
   "cell_type": "markdown",
   "metadata": {},
   "source": [
    "Here hypothesis 8 is leading by a long shot, falling behind are 3, 1 & 7.The 'worst' are 9, 4, 2 & 3 "
   ]
  },
  {
   "cell_type": "markdown",
   "metadata": {},
   "source": [
    "### It seems that the leading hypothesis 9 in the ICE framework id one of the worst in the RICE framework and so with different hypothesis, perhaps the best way is to use several frameworks combined and with the average we can look into which one is the most profitable hypothesis.\n",
    "### The RICE framework takes into account the Reach parameter, something that the ICE framework is missing and therefore less accurate."
   ]
  },
  {
   "cell_type": "markdown",
   "metadata": {},
   "source": [
    "### In this part of the project I will conduct an A/B test from the data in orders_us.csv & visits_us.csv dataframes."
   ]
  },
  {
   "cell_type": "code",
   "execution_count": 16,
   "metadata": {},
   "outputs": [],
   "source": [
    "orders['date'] = orders['date'].map(lambda x: dt.datetime.strptime(x, '%Y-%m-%d'))\n",
    "visits['date'] = visits['date'].map(lambda x: dt.datetime.strptime(x, '%Y-%m-%d'))"
   ]
  },
  {
   "cell_type": "code",
   "execution_count": 17,
   "metadata": {},
   "outputs": [],
   "source": [
    "list_users = list(orders.groupby(['visitorId'])['group'].nunique().reset_index().query('group > 1')['visitorId'])\n",
    "orders = orders[~orders['visitorId'].isin(['list_users'])]"
   ]
  },
  {
   "cell_type": "code",
   "execution_count": 18,
   "metadata": {},
   "outputs": [
    {
     "data": {
      "text/html": [
       "<div>\n",
       "<style scoped>\n",
       "    .dataframe tbody tr th:only-of-type {\n",
       "        vertical-align: middle;\n",
       "    }\n",
       "\n",
       "    .dataframe tbody tr th {\n",
       "        vertical-align: top;\n",
       "    }\n",
       "\n",
       "    .dataframe thead th {\n",
       "        text-align: right;\n",
       "    }\n",
       "</style>\n",
       "<table border=\"1\" class=\"dataframe\">\n",
       "  <thead>\n",
       "    <tr style=\"text-align: right;\">\n",
       "      <th></th>\n",
       "      <th>index</th>\n",
       "      <th>date</th>\n",
       "      <th>group</th>\n",
       "      <th>visits</th>\n",
       "    </tr>\n",
       "  </thead>\n",
       "  <tbody>\n",
       "    <tr>\n",
       "      <th>0</th>\n",
       "      <td>0</td>\n",
       "      <td>2019-08-01</td>\n",
       "      <td>A</td>\n",
       "      <td>719</td>\n",
       "    </tr>\n",
       "    <tr>\n",
       "      <th>1</th>\n",
       "      <td>1</td>\n",
       "      <td>2019-08-02</td>\n",
       "      <td>A</td>\n",
       "      <td>619</td>\n",
       "    </tr>\n",
       "    <tr>\n",
       "      <th>2</th>\n",
       "      <td>2</td>\n",
       "      <td>2019-08-03</td>\n",
       "      <td>A</td>\n",
       "      <td>507</td>\n",
       "    </tr>\n",
       "    <tr>\n",
       "      <th>3</th>\n",
       "      <td>3</td>\n",
       "      <td>2019-08-04</td>\n",
       "      <td>A</td>\n",
       "      <td>717</td>\n",
       "    </tr>\n",
       "    <tr>\n",
       "      <th>4</th>\n",
       "      <td>4</td>\n",
       "      <td>2019-08-05</td>\n",
       "      <td>A</td>\n",
       "      <td>756</td>\n",
       "    </tr>\n",
       "    <tr>\n",
       "      <th>5</th>\n",
       "      <td>5</td>\n",
       "      <td>2019-08-06</td>\n",
       "      <td>A</td>\n",
       "      <td>667</td>\n",
       "    </tr>\n",
       "    <tr>\n",
       "      <th>6</th>\n",
       "      <td>6</td>\n",
       "      <td>2019-08-07</td>\n",
       "      <td>A</td>\n",
       "      <td>644</td>\n",
       "    </tr>\n",
       "    <tr>\n",
       "      <th>7</th>\n",
       "      <td>7</td>\n",
       "      <td>2019-08-08</td>\n",
       "      <td>A</td>\n",
       "      <td>610</td>\n",
       "    </tr>\n",
       "    <tr>\n",
       "      <th>8</th>\n",
       "      <td>8</td>\n",
       "      <td>2019-08-09</td>\n",
       "      <td>A</td>\n",
       "      <td>617</td>\n",
       "    </tr>\n",
       "    <tr>\n",
       "      <th>9</th>\n",
       "      <td>9</td>\n",
       "      <td>2019-08-10</td>\n",
       "      <td>A</td>\n",
       "      <td>406</td>\n",
       "    </tr>\n",
       "    <tr>\n",
       "      <th>10</th>\n",
       "      <td>10</td>\n",
       "      <td>2019-08-11</td>\n",
       "      <td>A</td>\n",
       "      <td>718</td>\n",
       "    </tr>\n",
       "    <tr>\n",
       "      <th>11</th>\n",
       "      <td>11</td>\n",
       "      <td>2019-08-12</td>\n",
       "      <td>A</td>\n",
       "      <td>595</td>\n",
       "    </tr>\n",
       "    <tr>\n",
       "      <th>12</th>\n",
       "      <td>12</td>\n",
       "      <td>2019-08-13</td>\n",
       "      <td>A</td>\n",
       "      <td>748</td>\n",
       "    </tr>\n",
       "    <tr>\n",
       "      <th>13</th>\n",
       "      <td>13</td>\n",
       "      <td>2019-08-14</td>\n",
       "      <td>A</td>\n",
       "      <td>735</td>\n",
       "    </tr>\n",
       "    <tr>\n",
       "      <th>14</th>\n",
       "      <td>14</td>\n",
       "      <td>2019-08-15</td>\n",
       "      <td>A</td>\n",
       "      <td>628</td>\n",
       "    </tr>\n",
       "    <tr>\n",
       "      <th>15</th>\n",
       "      <td>15</td>\n",
       "      <td>2019-08-16</td>\n",
       "      <td>A</td>\n",
       "      <td>361</td>\n",
       "    </tr>\n",
       "    <tr>\n",
       "      <th>16</th>\n",
       "      <td>16</td>\n",
       "      <td>2019-08-17</td>\n",
       "      <td>A</td>\n",
       "      <td>412</td>\n",
       "    </tr>\n",
       "    <tr>\n",
       "      <th>17</th>\n",
       "      <td>17</td>\n",
       "      <td>2019-08-18</td>\n",
       "      <td>A</td>\n",
       "      <td>668</td>\n",
       "    </tr>\n",
       "    <tr>\n",
       "      <th>18</th>\n",
       "      <td>18</td>\n",
       "      <td>2019-08-19</td>\n",
       "      <td>A</td>\n",
       "      <td>502</td>\n",
       "    </tr>\n",
       "    <tr>\n",
       "      <th>19</th>\n",
       "      <td>19</td>\n",
       "      <td>2019-08-20</td>\n",
       "      <td>A</td>\n",
       "      <td>575</td>\n",
       "    </tr>\n",
       "    <tr>\n",
       "      <th>20</th>\n",
       "      <td>20</td>\n",
       "      <td>2019-08-21</td>\n",
       "      <td>A</td>\n",
       "      <td>646</td>\n",
       "    </tr>\n",
       "    <tr>\n",
       "      <th>21</th>\n",
       "      <td>21</td>\n",
       "      <td>2019-08-22</td>\n",
       "      <td>A</td>\n",
       "      <td>609</td>\n",
       "    </tr>\n",
       "    <tr>\n",
       "      <th>22</th>\n",
       "      <td>22</td>\n",
       "      <td>2019-08-23</td>\n",
       "      <td>A</td>\n",
       "      <td>468</td>\n",
       "    </tr>\n",
       "    <tr>\n",
       "      <th>23</th>\n",
       "      <td>23</td>\n",
       "      <td>2019-08-24</td>\n",
       "      <td>A</td>\n",
       "      <td>395</td>\n",
       "    </tr>\n",
       "    <tr>\n",
       "      <th>24</th>\n",
       "      <td>24</td>\n",
       "      <td>2019-08-25</td>\n",
       "      <td>A</td>\n",
       "      <td>621</td>\n",
       "    </tr>\n",
       "    <tr>\n",
       "      <th>25</th>\n",
       "      <td>25</td>\n",
       "      <td>2019-08-26</td>\n",
       "      <td>A</td>\n",
       "      <td>722</td>\n",
       "    </tr>\n",
       "    <tr>\n",
       "      <th>26</th>\n",
       "      <td>26</td>\n",
       "      <td>2019-08-27</td>\n",
       "      <td>A</td>\n",
       "      <td>711</td>\n",
       "    </tr>\n",
       "    <tr>\n",
       "      <th>27</th>\n",
       "      <td>27</td>\n",
       "      <td>2019-08-28</td>\n",
       "      <td>A</td>\n",
       "      <td>594</td>\n",
       "    </tr>\n",
       "    <tr>\n",
       "      <th>28</th>\n",
       "      <td>28</td>\n",
       "      <td>2019-08-29</td>\n",
       "      <td>A</td>\n",
       "      <td>577</td>\n",
       "    </tr>\n",
       "    <tr>\n",
       "      <th>29</th>\n",
       "      <td>29</td>\n",
       "      <td>2019-08-30</td>\n",
       "      <td>A</td>\n",
       "      <td>490</td>\n",
       "    </tr>\n",
       "    <tr>\n",
       "      <th>30</th>\n",
       "      <td>30</td>\n",
       "      <td>2019-08-31</td>\n",
       "      <td>A</td>\n",
       "      <td>699</td>\n",
       "    </tr>\n",
       "  </tbody>\n",
       "</table>\n",
       "</div>"
      ],
      "text/plain": [
       "    index       date group  visits\n",
       "0   0     2019-08-01  A     719   \n",
       "1   1     2019-08-02  A     619   \n",
       "2   2     2019-08-03  A     507   \n",
       "3   3     2019-08-04  A     717   \n",
       "4   4     2019-08-05  A     756   \n",
       "5   5     2019-08-06  A     667   \n",
       "6   6     2019-08-07  A     644   \n",
       "7   7     2019-08-08  A     610   \n",
       "8   8     2019-08-09  A     617   \n",
       "9   9     2019-08-10  A     406   \n",
       "10  10    2019-08-11  A     718   \n",
       "11  11    2019-08-12  A     595   \n",
       "12  12    2019-08-13  A     748   \n",
       "13  13    2019-08-14  A     735   \n",
       "14  14    2019-08-15  A     628   \n",
       "15  15    2019-08-16  A     361   \n",
       "16  16    2019-08-17  A     412   \n",
       "17  17    2019-08-18  A     668   \n",
       "18  18    2019-08-19  A     502   \n",
       "19  19    2019-08-20  A     575   \n",
       "20  20    2019-08-21  A     646   \n",
       "21  21    2019-08-22  A     609   \n",
       "22  22    2019-08-23  A     468   \n",
       "23  23    2019-08-24  A     395   \n",
       "24  24    2019-08-25  A     621   \n",
       "25  25    2019-08-26  A     722   \n",
       "26  26    2019-08-27  A     711   \n",
       "27  27    2019-08-28  A     594   \n",
       "28  28    2019-08-29  A     577   \n",
       "29  29    2019-08-30  A     490   \n",
       "30  30    2019-08-31  A     699   "
      ]
     },
     "execution_count": 18,
     "metadata": {},
     "output_type": "execute_result"
    }
   ],
   "source": [
    "visitsA = visits.query('group == \"A\"').reset_index()\n",
    "visitsA"
   ]
  },
  {
   "cell_type": "code",
   "execution_count": 19,
   "metadata": {},
   "outputs": [
    {
     "data": {
      "text/html": [
       "<div>\n",
       "<style scoped>\n",
       "    .dataframe tbody tr th:only-of-type {\n",
       "        vertical-align: middle;\n",
       "    }\n",
       "\n",
       "    .dataframe tbody tr th {\n",
       "        vertical-align: top;\n",
       "    }\n",
       "\n",
       "    .dataframe thead th {\n",
       "        text-align: right;\n",
       "    }\n",
       "</style>\n",
       "<table border=\"1\" class=\"dataframe\">\n",
       "  <thead>\n",
       "    <tr style=\"text-align: right;\">\n",
       "      <th></th>\n",
       "      <th>index</th>\n",
       "      <th>date</th>\n",
       "      <th>group</th>\n",
       "      <th>visits</th>\n",
       "    </tr>\n",
       "  </thead>\n",
       "  <tbody>\n",
       "    <tr>\n",
       "      <th>0</th>\n",
       "      <td>31</td>\n",
       "      <td>2019-08-01</td>\n",
       "      <td>B</td>\n",
       "      <td>713</td>\n",
       "    </tr>\n",
       "    <tr>\n",
       "      <th>1</th>\n",
       "      <td>32</td>\n",
       "      <td>2019-08-02</td>\n",
       "      <td>B</td>\n",
       "      <td>581</td>\n",
       "    </tr>\n",
       "    <tr>\n",
       "      <th>2</th>\n",
       "      <td>33</td>\n",
       "      <td>2019-08-03</td>\n",
       "      <td>B</td>\n",
       "      <td>509</td>\n",
       "    </tr>\n",
       "    <tr>\n",
       "      <th>3</th>\n",
       "      <td>34</td>\n",
       "      <td>2019-08-04</td>\n",
       "      <td>B</td>\n",
       "      <td>770</td>\n",
       "    </tr>\n",
       "    <tr>\n",
       "      <th>4</th>\n",
       "      <td>35</td>\n",
       "      <td>2019-08-05</td>\n",
       "      <td>B</td>\n",
       "      <td>707</td>\n",
       "    </tr>\n",
       "    <tr>\n",
       "      <th>5</th>\n",
       "      <td>36</td>\n",
       "      <td>2019-08-06</td>\n",
       "      <td>B</td>\n",
       "      <td>655</td>\n",
       "    </tr>\n",
       "    <tr>\n",
       "      <th>6</th>\n",
       "      <td>37</td>\n",
       "      <td>2019-08-07</td>\n",
       "      <td>B</td>\n",
       "      <td>709</td>\n",
       "    </tr>\n",
       "    <tr>\n",
       "      <th>7</th>\n",
       "      <td>38</td>\n",
       "      <td>2019-08-08</td>\n",
       "      <td>B</td>\n",
       "      <td>654</td>\n",
       "    </tr>\n",
       "    <tr>\n",
       "      <th>8</th>\n",
       "      <td>39</td>\n",
       "      <td>2019-08-09</td>\n",
       "      <td>B</td>\n",
       "      <td>610</td>\n",
       "    </tr>\n",
       "    <tr>\n",
       "      <th>9</th>\n",
       "      <td>40</td>\n",
       "      <td>2019-08-10</td>\n",
       "      <td>B</td>\n",
       "      <td>369</td>\n",
       "    </tr>\n",
       "    <tr>\n",
       "      <th>10</th>\n",
       "      <td>41</td>\n",
       "      <td>2019-08-11</td>\n",
       "      <td>B</td>\n",
       "      <td>721</td>\n",
       "    </tr>\n",
       "    <tr>\n",
       "      <th>11</th>\n",
       "      <td>42</td>\n",
       "      <td>2019-08-12</td>\n",
       "      <td>B</td>\n",
       "      <td>543</td>\n",
       "    </tr>\n",
       "    <tr>\n",
       "      <th>12</th>\n",
       "      <td>43</td>\n",
       "      <td>2019-08-13</td>\n",
       "      <td>B</td>\n",
       "      <td>769</td>\n",
       "    </tr>\n",
       "    <tr>\n",
       "      <th>13</th>\n",
       "      <td>44</td>\n",
       "      <td>2019-08-14</td>\n",
       "      <td>B</td>\n",
       "      <td>746</td>\n",
       "    </tr>\n",
       "    <tr>\n",
       "      <th>14</th>\n",
       "      <td>45</td>\n",
       "      <td>2019-08-15</td>\n",
       "      <td>B</td>\n",
       "      <td>544</td>\n",
       "    </tr>\n",
       "    <tr>\n",
       "      <th>15</th>\n",
       "      <td>46</td>\n",
       "      <td>2019-08-16</td>\n",
       "      <td>B</td>\n",
       "      <td>413</td>\n",
       "    </tr>\n",
       "    <tr>\n",
       "      <th>16</th>\n",
       "      <td>47</td>\n",
       "      <td>2019-08-17</td>\n",
       "      <td>B</td>\n",
       "      <td>421</td>\n",
       "    </tr>\n",
       "    <tr>\n",
       "      <th>17</th>\n",
       "      <td>48</td>\n",
       "      <td>2019-08-18</td>\n",
       "      <td>B</td>\n",
       "      <td>737</td>\n",
       "    </tr>\n",
       "    <tr>\n",
       "      <th>18</th>\n",
       "      <td>49</td>\n",
       "      <td>2019-08-19</td>\n",
       "      <td>B</td>\n",
       "      <td>487</td>\n",
       "    </tr>\n",
       "    <tr>\n",
       "      <th>19</th>\n",
       "      <td>50</td>\n",
       "      <td>2019-08-20</td>\n",
       "      <td>B</td>\n",
       "      <td>560</td>\n",
       "    </tr>\n",
       "    <tr>\n",
       "      <th>20</th>\n",
       "      <td>51</td>\n",
       "      <td>2019-08-21</td>\n",
       "      <td>B</td>\n",
       "      <td>656</td>\n",
       "    </tr>\n",
       "    <tr>\n",
       "      <th>21</th>\n",
       "      <td>52</td>\n",
       "      <td>2019-08-22</td>\n",
       "      <td>B</td>\n",
       "      <td>650</td>\n",
       "    </tr>\n",
       "    <tr>\n",
       "      <th>22</th>\n",
       "      <td>53</td>\n",
       "      <td>2019-08-23</td>\n",
       "      <td>B</td>\n",
       "      <td>546</td>\n",
       "    </tr>\n",
       "    <tr>\n",
       "      <th>23</th>\n",
       "      <td>54</td>\n",
       "      <td>2019-08-24</td>\n",
       "      <td>B</td>\n",
       "      <td>378</td>\n",
       "    </tr>\n",
       "    <tr>\n",
       "      <th>24</th>\n",
       "      <td>55</td>\n",
       "      <td>2019-08-25</td>\n",
       "      <td>B</td>\n",
       "      <td>679</td>\n",
       "    </tr>\n",
       "    <tr>\n",
       "      <th>25</th>\n",
       "      <td>56</td>\n",
       "      <td>2019-08-26</td>\n",
       "      <td>B</td>\n",
       "      <td>676</td>\n",
       "    </tr>\n",
       "    <tr>\n",
       "      <th>26</th>\n",
       "      <td>57</td>\n",
       "      <td>2019-08-27</td>\n",
       "      <td>B</td>\n",
       "      <td>720</td>\n",
       "    </tr>\n",
       "    <tr>\n",
       "      <th>27</th>\n",
       "      <td>58</td>\n",
       "      <td>2019-08-28</td>\n",
       "      <td>B</td>\n",
       "      <td>654</td>\n",
       "    </tr>\n",
       "    <tr>\n",
       "      <th>28</th>\n",
       "      <td>59</td>\n",
       "      <td>2019-08-29</td>\n",
       "      <td>B</td>\n",
       "      <td>531</td>\n",
       "    </tr>\n",
       "    <tr>\n",
       "      <th>29</th>\n",
       "      <td>60</td>\n",
       "      <td>2019-08-30</td>\n",
       "      <td>B</td>\n",
       "      <td>490</td>\n",
       "    </tr>\n",
       "    <tr>\n",
       "      <th>30</th>\n",
       "      <td>61</td>\n",
       "      <td>2019-08-31</td>\n",
       "      <td>B</td>\n",
       "      <td>718</td>\n",
       "    </tr>\n",
       "  </tbody>\n",
       "</table>\n",
       "</div>"
      ],
      "text/plain": [
       "    index       date group  visits\n",
       "0   31    2019-08-01  B     713   \n",
       "1   32    2019-08-02  B     581   \n",
       "2   33    2019-08-03  B     509   \n",
       "3   34    2019-08-04  B     770   \n",
       "4   35    2019-08-05  B     707   \n",
       "5   36    2019-08-06  B     655   \n",
       "6   37    2019-08-07  B     709   \n",
       "7   38    2019-08-08  B     654   \n",
       "8   39    2019-08-09  B     610   \n",
       "9   40    2019-08-10  B     369   \n",
       "10  41    2019-08-11  B     721   \n",
       "11  42    2019-08-12  B     543   \n",
       "12  43    2019-08-13  B     769   \n",
       "13  44    2019-08-14  B     746   \n",
       "14  45    2019-08-15  B     544   \n",
       "15  46    2019-08-16  B     413   \n",
       "16  47    2019-08-17  B     421   \n",
       "17  48    2019-08-18  B     737   \n",
       "18  49    2019-08-19  B     487   \n",
       "19  50    2019-08-20  B     560   \n",
       "20  51    2019-08-21  B     656   \n",
       "21  52    2019-08-22  B     650   \n",
       "22  53    2019-08-23  B     546   \n",
       "23  54    2019-08-24  B     378   \n",
       "24  55    2019-08-25  B     679   \n",
       "25  56    2019-08-26  B     676   \n",
       "26  57    2019-08-27  B     720   \n",
       "27  58    2019-08-28  B     654   \n",
       "28  59    2019-08-29  B     531   \n",
       "29  60    2019-08-30  B     490   \n",
       "30  61    2019-08-31  B     718   "
      ]
     },
     "execution_count": 19,
     "metadata": {},
     "output_type": "execute_result"
    }
   ],
   "source": [
    "visitsB = visits.query('group == \"B\"').reset_index()\n",
    "visitsB"
   ]
  },
  {
   "cell_type": "code",
   "execution_count": 20,
   "metadata": {},
   "outputs": [
    {
     "data": {
      "text/html": [
       "<div>\n",
       "<style scoped>\n",
       "    .dataframe tbody tr th:only-of-type {\n",
       "        vertical-align: middle;\n",
       "    }\n",
       "\n",
       "    .dataframe tbody tr th {\n",
       "        vertical-align: top;\n",
       "    }\n",
       "\n",
       "    .dataframe thead th {\n",
       "        text-align: right;\n",
       "    }\n",
       "</style>\n",
       "<table border=\"1\" class=\"dataframe\">\n",
       "  <thead>\n",
       "    <tr style=\"text-align: right;\">\n",
       "      <th></th>\n",
       "      <th>transactionId</th>\n",
       "      <th>visitorId</th>\n",
       "      <th>date</th>\n",
       "      <th>revenue</th>\n",
       "      <th>group</th>\n",
       "    </tr>\n",
       "  </thead>\n",
       "  <tbody>\n",
       "    <tr>\n",
       "      <th>2</th>\n",
       "      <td>2961555356</td>\n",
       "      <td>4069496402</td>\n",
       "      <td>2019-08-15</td>\n",
       "      <td>10.2</td>\n",
       "      <td>A</td>\n",
       "    </tr>\n",
       "    <tr>\n",
       "      <th>7</th>\n",
       "      <td>2626614568</td>\n",
       "      <td>78758296</td>\n",
       "      <td>2019-08-15</td>\n",
       "      <td>20.1</td>\n",
       "      <td>A</td>\n",
       "    </tr>\n",
       "    <tr>\n",
       "      <th>8</th>\n",
       "      <td>1576988021</td>\n",
       "      <td>295230930</td>\n",
       "      <td>2019-08-15</td>\n",
       "      <td>215.9</td>\n",
       "      <td>A</td>\n",
       "    </tr>\n",
       "    <tr>\n",
       "      <th>10</th>\n",
       "      <td>3649131742</td>\n",
       "      <td>879864040</td>\n",
       "      <td>2019-08-15</td>\n",
       "      <td>65.7</td>\n",
       "      <td>A</td>\n",
       "    </tr>\n",
       "    <tr>\n",
       "      <th>12</th>\n",
       "      <td>2809384911</td>\n",
       "      <td>3213223594</td>\n",
       "      <td>2019-08-15</td>\n",
       "      <td>115.4</td>\n",
       "      <td>A</td>\n",
       "    </tr>\n",
       "    <tr>\n",
       "      <th>...</th>\n",
       "      <td>...</td>\n",
       "      <td>...</td>\n",
       "      <td>...</td>\n",
       "      <td>...</td>\n",
       "      <td>...</td>\n",
       "    </tr>\n",
       "    <tr>\n",
       "      <th>1187</th>\n",
       "      <td>2274188238</td>\n",
       "      <td>132143192</td>\n",
       "      <td>2019-08-14</td>\n",
       "      <td>15.5</td>\n",
       "      <td>A</td>\n",
       "    </tr>\n",
       "    <tr>\n",
       "      <th>1188</th>\n",
       "      <td>1692103379</td>\n",
       "      <td>1022829655</td>\n",
       "      <td>2019-08-14</td>\n",
       "      <td>5.7</td>\n",
       "      <td>A</td>\n",
       "    </tr>\n",
       "    <tr>\n",
       "      <th>1193</th>\n",
       "      <td>2203539145</td>\n",
       "      <td>370388673</td>\n",
       "      <td>2019-08-14</td>\n",
       "      <td>50.1</td>\n",
       "      <td>A</td>\n",
       "    </tr>\n",
       "    <tr>\n",
       "      <th>1194</th>\n",
       "      <td>1807773912</td>\n",
       "      <td>573423106</td>\n",
       "      <td>2019-08-14</td>\n",
       "      <td>165.3</td>\n",
       "      <td>A</td>\n",
       "    </tr>\n",
       "    <tr>\n",
       "      <th>1195</th>\n",
       "      <td>1947021204</td>\n",
       "      <td>1614305549</td>\n",
       "      <td>2019-08-14</td>\n",
       "      <td>5.5</td>\n",
       "      <td>A</td>\n",
       "    </tr>\n",
       "  </tbody>\n",
       "</table>\n",
       "<p>557 rows × 5 columns</p>\n",
       "</div>"
      ],
      "text/plain": [
       "      transactionId   visitorId       date  revenue group\n",
       "2     2961555356     4069496402 2019-08-15  10.2     A   \n",
       "7     2626614568     78758296   2019-08-15  20.1     A   \n",
       "8     1576988021     295230930  2019-08-15  215.9    A   \n",
       "10    3649131742     879864040  2019-08-15  65.7     A   \n",
       "12    2809384911     3213223594 2019-08-15  115.4    A   \n",
       "...          ...            ...        ...    ...   ..   \n",
       "1187  2274188238     132143192  2019-08-14  15.5     A   \n",
       "1188  1692103379     1022829655 2019-08-14  5.7      A   \n",
       "1193  2203539145     370388673  2019-08-14  50.1     A   \n",
       "1194  1807773912     573423106  2019-08-14  165.3    A   \n",
       "1195  1947021204     1614305549 2019-08-14  5.5      A   \n",
       "\n",
       "[557 rows x 5 columns]"
      ]
     },
     "execution_count": 20,
     "metadata": {},
     "output_type": "execute_result"
    }
   ],
   "source": [
    "ordersA = orders.query('group == \"A\"')\n",
    "ordersA"
   ]
  },
  {
   "cell_type": "code",
   "execution_count": 21,
   "metadata": {},
   "outputs": [
    {
     "data": {
      "text/html": [
       "<div>\n",
       "<style scoped>\n",
       "    .dataframe tbody tr th:only-of-type {\n",
       "        vertical-align: middle;\n",
       "    }\n",
       "\n",
       "    .dataframe tbody tr th {\n",
       "        vertical-align: top;\n",
       "    }\n",
       "\n",
       "    .dataframe thead th {\n",
       "        text-align: right;\n",
       "    }\n",
       "</style>\n",
       "<table border=\"1\" class=\"dataframe\">\n",
       "  <thead>\n",
       "    <tr style=\"text-align: right;\">\n",
       "      <th></th>\n",
       "      <th>transactionId</th>\n",
       "      <th>visitorId</th>\n",
       "      <th>date</th>\n",
       "      <th>revenue</th>\n",
       "      <th>group</th>\n",
       "    </tr>\n",
       "  </thead>\n",
       "  <tbody>\n",
       "    <tr>\n",
       "      <th>0</th>\n",
       "      <td>3667963787</td>\n",
       "      <td>3312258926</td>\n",
       "      <td>2019-08-15</td>\n",
       "      <td>30.4</td>\n",
       "      <td>B</td>\n",
       "    </tr>\n",
       "    <tr>\n",
       "      <th>1</th>\n",
       "      <td>2804400009</td>\n",
       "      <td>3642806036</td>\n",
       "      <td>2019-08-15</td>\n",
       "      <td>15.2</td>\n",
       "      <td>B</td>\n",
       "    </tr>\n",
       "    <tr>\n",
       "      <th>3</th>\n",
       "      <td>3797467345</td>\n",
       "      <td>1196621759</td>\n",
       "      <td>2019-08-15</td>\n",
       "      <td>155.1</td>\n",
       "      <td>B</td>\n",
       "    </tr>\n",
       "    <tr>\n",
       "      <th>4</th>\n",
       "      <td>2282983706</td>\n",
       "      <td>2322279887</td>\n",
       "      <td>2019-08-15</td>\n",
       "      <td>40.5</td>\n",
       "      <td>B</td>\n",
       "    </tr>\n",
       "    <tr>\n",
       "      <th>5</th>\n",
       "      <td>182168103</td>\n",
       "      <td>935554773</td>\n",
       "      <td>2019-08-15</td>\n",
       "      <td>35.0</td>\n",
       "      <td>B</td>\n",
       "    </tr>\n",
       "    <tr>\n",
       "      <th>...</th>\n",
       "      <td>...</td>\n",
       "      <td>...</td>\n",
       "      <td>...</td>\n",
       "      <td>...</td>\n",
       "      <td>...</td>\n",
       "    </tr>\n",
       "    <tr>\n",
       "      <th>1189</th>\n",
       "      <td>4082620617</td>\n",
       "      <td>393266494</td>\n",
       "      <td>2019-08-14</td>\n",
       "      <td>490.4</td>\n",
       "      <td>B</td>\n",
       "    </tr>\n",
       "    <tr>\n",
       "      <th>1190</th>\n",
       "      <td>38478481</td>\n",
       "      <td>1197745035</td>\n",
       "      <td>2019-08-14</td>\n",
       "      <td>135.3</td>\n",
       "      <td>B</td>\n",
       "    </tr>\n",
       "    <tr>\n",
       "      <th>1191</th>\n",
       "      <td>3592955527</td>\n",
       "      <td>608641596</td>\n",
       "      <td>2019-08-14</td>\n",
       "      <td>255.7</td>\n",
       "      <td>B</td>\n",
       "    </tr>\n",
       "    <tr>\n",
       "      <th>1192</th>\n",
       "      <td>2662137336</td>\n",
       "      <td>3733762160</td>\n",
       "      <td>2019-08-14</td>\n",
       "      <td>100.8</td>\n",
       "      <td>B</td>\n",
       "    </tr>\n",
       "    <tr>\n",
       "      <th>1196</th>\n",
       "      <td>3936777065</td>\n",
       "      <td>2108080724</td>\n",
       "      <td>2019-08-15</td>\n",
       "      <td>3120.1</td>\n",
       "      <td>B</td>\n",
       "    </tr>\n",
       "  </tbody>\n",
       "</table>\n",
       "<p>640 rows × 5 columns</p>\n",
       "</div>"
      ],
      "text/plain": [
       "      transactionId   visitorId       date  revenue group\n",
       "0     3667963787     3312258926 2019-08-15  30.4     B   \n",
       "1     2804400009     3642806036 2019-08-15  15.2     B   \n",
       "3     3797467345     1196621759 2019-08-15  155.1    B   \n",
       "4     2282983706     2322279887 2019-08-15  40.5     B   \n",
       "5     182168103      935554773  2019-08-15  35.0     B   \n",
       "...         ...            ...         ...   ...    ..   \n",
       "1189  4082620617     393266494  2019-08-14  490.4    B   \n",
       "1190  38478481       1197745035 2019-08-14  135.3    B   \n",
       "1191  3592955527     608641596  2019-08-14  255.7    B   \n",
       "1192  2662137336     3733762160 2019-08-14  100.8    B   \n",
       "1196  3936777065     2108080724 2019-08-15  3120.1   B   \n",
       "\n",
       "[640 rows x 5 columns]"
      ]
     },
     "execution_count": 21,
     "metadata": {},
     "output_type": "execute_result"
    }
   ],
   "source": [
    "ordersB = orders.query('group == \"B\"')\n",
    "ordersB"
   ]
  },
  {
   "cell_type": "code",
   "execution_count": 22,
   "metadata": {},
   "outputs": [
    {
     "data": {
      "text/html": [
       "<div>\n",
       "<style scoped>\n",
       "    .dataframe tbody tr th:only-of-type {\n",
       "        vertical-align: middle;\n",
       "    }\n",
       "\n",
       "    .dataframe tbody tr th {\n",
       "        vertical-align: top;\n",
       "    }\n",
       "\n",
       "    .dataframe thead th {\n",
       "        text-align: right;\n",
       "    }\n",
       "</style>\n",
       "<table border=\"1\" class=\"dataframe\">\n",
       "  <thead>\n",
       "    <tr style=\"text-align: right;\">\n",
       "      <th></th>\n",
       "      <th>date</th>\n",
       "      <th>revenue</th>\n",
       "      <th>transactionId</th>\n",
       "      <th>visitorId</th>\n",
       "    </tr>\n",
       "  </thead>\n",
       "  <tbody>\n",
       "    <tr>\n",
       "      <th>0</th>\n",
       "      <td>2019-08-01</td>\n",
       "      <td>2356.8</td>\n",
       "      <td>24</td>\n",
       "      <td>20</td>\n",
       "    </tr>\n",
       "    <tr>\n",
       "      <th>1</th>\n",
       "      <td>2019-08-02</td>\n",
       "      <td>1503.5</td>\n",
       "      <td>20</td>\n",
       "      <td>19</td>\n",
       "    </tr>\n",
       "    <tr>\n",
       "      <th>2</th>\n",
       "      <td>2019-08-03</td>\n",
       "      <td>1815.2</td>\n",
       "      <td>24</td>\n",
       "      <td>24</td>\n",
       "    </tr>\n",
       "    <tr>\n",
       "      <th>3</th>\n",
       "      <td>2019-08-04</td>\n",
       "      <td>1146.6</td>\n",
       "      <td>16</td>\n",
       "      <td>15</td>\n",
       "    </tr>\n",
       "    <tr>\n",
       "      <th>4</th>\n",
       "      <td>2019-08-05</td>\n",
       "      <td>1988.1</td>\n",
       "      <td>25</td>\n",
       "      <td>25</td>\n",
       "    </tr>\n",
       "    <tr>\n",
       "      <th>5</th>\n",
       "      <td>2019-08-06</td>\n",
       "      <td>789.8</td>\n",
       "      <td>18</td>\n",
       "      <td>15</td>\n",
       "    </tr>\n",
       "    <tr>\n",
       "      <th>6</th>\n",
       "      <td>2019-08-07</td>\n",
       "      <td>2242.9</td>\n",
       "      <td>18</td>\n",
       "      <td>18</td>\n",
       "    </tr>\n",
       "    <tr>\n",
       "      <th>7</th>\n",
       "      <td>2019-08-08</td>\n",
       "      <td>1530.4</td>\n",
       "      <td>16</td>\n",
       "      <td>16</td>\n",
       "    </tr>\n",
       "    <tr>\n",
       "      <th>8</th>\n",
       "      <td>2019-08-09</td>\n",
       "      <td>2947.1</td>\n",
       "      <td>16</td>\n",
       "      <td>14</td>\n",
       "    </tr>\n",
       "    <tr>\n",
       "      <th>9</th>\n",
       "      <td>2019-08-10</td>\n",
       "      <td>3288.2</td>\n",
       "      <td>16</td>\n",
       "      <td>16</td>\n",
       "    </tr>\n",
       "    <tr>\n",
       "      <th>10</th>\n",
       "      <td>2019-08-11</td>\n",
       "      <td>1229.7</td>\n",
       "      <td>13</td>\n",
       "      <td>13</td>\n",
       "    </tr>\n",
       "    <tr>\n",
       "      <th>11</th>\n",
       "      <td>2019-08-12</td>\n",
       "      <td>3910.8</td>\n",
       "      <td>24</td>\n",
       "      <td>24</td>\n",
       "    </tr>\n",
       "    <tr>\n",
       "      <th>12</th>\n",
       "      <td>2019-08-13</td>\n",
       "      <td>4096.9</td>\n",
       "      <td>14</td>\n",
       "      <td>14</td>\n",
       "    </tr>\n",
       "    <tr>\n",
       "      <th>13</th>\n",
       "      <td>2019-08-14</td>\n",
       "      <td>1064.8</td>\n",
       "      <td>24</td>\n",
       "      <td>24</td>\n",
       "    </tr>\n",
       "    <tr>\n",
       "      <th>14</th>\n",
       "      <td>2019-08-15</td>\n",
       "      <td>1408.2</td>\n",
       "      <td>15</td>\n",
       "      <td>15</td>\n",
       "    </tr>\n",
       "    <tr>\n",
       "      <th>15</th>\n",
       "      <td>2019-08-16</td>\n",
       "      <td>1599.1</td>\n",
       "      <td>18</td>\n",
       "      <td>18</td>\n",
       "    </tr>\n",
       "    <tr>\n",
       "      <th>16</th>\n",
       "      <td>2019-08-17</td>\n",
       "      <td>805.5</td>\n",
       "      <td>10</td>\n",
       "      <td>9</td>\n",
       "    </tr>\n",
       "    <tr>\n",
       "      <th>17</th>\n",
       "      <td>2019-08-18</td>\n",
       "      <td>1171.8</td>\n",
       "      <td>17</td>\n",
       "      <td>17</td>\n",
       "    </tr>\n",
       "    <tr>\n",
       "      <th>18</th>\n",
       "      <td>2019-08-19</td>\n",
       "      <td>2989.1</td>\n",
       "      <td>22</td>\n",
       "      <td>22</td>\n",
       "    </tr>\n",
       "    <tr>\n",
       "      <th>19</th>\n",
       "      <td>2019-08-20</td>\n",
       "      <td>1232.3</td>\n",
       "      <td>12</td>\n",
       "      <td>12</td>\n",
       "    </tr>\n",
       "    <tr>\n",
       "      <th>20</th>\n",
       "      <td>2019-08-21</td>\n",
       "      <td>2755.5</td>\n",
       "      <td>23</td>\n",
       "      <td>22</td>\n",
       "    </tr>\n",
       "    <tr>\n",
       "      <th>21</th>\n",
       "      <td>2019-08-22</td>\n",
       "      <td>1783.3</td>\n",
       "      <td>16</td>\n",
       "      <td>16</td>\n",
       "    </tr>\n",
       "    <tr>\n",
       "      <th>22</th>\n",
       "      <td>2019-08-23</td>\n",
       "      <td>1888.0</td>\n",
       "      <td>25</td>\n",
       "      <td>25</td>\n",
       "    </tr>\n",
       "    <tr>\n",
       "      <th>23</th>\n",
       "      <td>2019-08-24</td>\n",
       "      <td>2002.7</td>\n",
       "      <td>15</td>\n",
       "      <td>15</td>\n",
       "    </tr>\n",
       "    <tr>\n",
       "      <th>24</th>\n",
       "      <td>2019-08-25</td>\n",
       "      <td>1078.9</td>\n",
       "      <td>10</td>\n",
       "      <td>10</td>\n",
       "    </tr>\n",
       "    <tr>\n",
       "      <th>25</th>\n",
       "      <td>2019-08-26</td>\n",
       "      <td>2464.8</td>\n",
       "      <td>16</td>\n",
       "      <td>16</td>\n",
       "    </tr>\n",
       "    <tr>\n",
       "      <th>26</th>\n",
       "      <td>2019-08-27</td>\n",
       "      <td>4511.1</td>\n",
       "      <td>28</td>\n",
       "      <td>28</td>\n",
       "    </tr>\n",
       "    <tr>\n",
       "      <th>27</th>\n",
       "      <td>2019-08-28</td>\n",
       "      <td>1602.6</td>\n",
       "      <td>17</td>\n",
       "      <td>17</td>\n",
       "    </tr>\n",
       "    <tr>\n",
       "      <th>28</th>\n",
       "      <td>2019-08-29</td>\n",
       "      <td>4995.5</td>\n",
       "      <td>22</td>\n",
       "      <td>22</td>\n",
       "    </tr>\n",
       "    <tr>\n",
       "      <th>29</th>\n",
       "      <td>2019-08-30</td>\n",
       "      <td>1364.3</td>\n",
       "      <td>11</td>\n",
       "      <td>10</td>\n",
       "    </tr>\n",
       "    <tr>\n",
       "      <th>30</th>\n",
       "      <td>2019-08-31</td>\n",
       "      <td>991.4</td>\n",
       "      <td>12</td>\n",
       "      <td>12</td>\n",
       "    </tr>\n",
       "  </tbody>\n",
       "</table>\n",
       "</div>"
      ],
      "text/plain": [
       "         date  revenue  transactionId  visitorId\n",
       "0  2019-08-01  2356.8   24             20       \n",
       "1  2019-08-02  1503.5   20             19       \n",
       "2  2019-08-03  1815.2   24             24       \n",
       "3  2019-08-04  1146.6   16             15       \n",
       "4  2019-08-05  1988.1   25             25       \n",
       "5  2019-08-06  789.8    18             15       \n",
       "6  2019-08-07  2242.9   18             18       \n",
       "7  2019-08-08  1530.4   16             16       \n",
       "8  2019-08-09  2947.1   16             14       \n",
       "9  2019-08-10  3288.2   16             16       \n",
       "10 2019-08-11  1229.7   13             13       \n",
       "11 2019-08-12  3910.8   24             24       \n",
       "12 2019-08-13  4096.9   14             14       \n",
       "13 2019-08-14  1064.8   24             24       \n",
       "14 2019-08-15  1408.2   15             15       \n",
       "15 2019-08-16  1599.1   18             18       \n",
       "16 2019-08-17  805.5    10             9        \n",
       "17 2019-08-18  1171.8   17             17       \n",
       "18 2019-08-19  2989.1   22             22       \n",
       "19 2019-08-20  1232.3   12             12       \n",
       "20 2019-08-21  2755.5   23             22       \n",
       "21 2019-08-22  1783.3   16             16       \n",
       "22 2019-08-23  1888.0   25             25       \n",
       "23 2019-08-24  2002.7   15             15       \n",
       "24 2019-08-25  1078.9   10             10       \n",
       "25 2019-08-26  2464.8   16             16       \n",
       "26 2019-08-27  4511.1   28             28       \n",
       "27 2019-08-28  1602.6   17             17       \n",
       "28 2019-08-29  4995.5   22             22       \n",
       "29 2019-08-30  1364.3   11             10       \n",
       "30 2019-08-31  991.4    12             12       "
      ]
     },
     "execution_count": 22,
     "metadata": {},
     "output_type": "execute_result"
    }
   ],
   "source": [
    "ordersA = ordersA.groupby('date').agg({'revenue' : 'sum', 'transactionId' : 'nunique', 'visitorId' : 'nunique'}).reset_index()\n",
    "ordersB = ordersB.groupby('date').agg({'revenue' : 'sum', 'transactionId' : 'nunique', 'visitorId' : 'nunique'}).reset_index()\n",
    "ordersA"
   ]
  },
  {
   "cell_type": "code",
   "execution_count": 23,
   "metadata": {},
   "outputs": [],
   "source": [
    "ordersA['cumrev'] = ordersA['revenue'].cumsum()\n",
    "ordersB['cumrev'] = ordersB['revenue'].cumsum()"
   ]
  },
  {
   "cell_type": "code",
   "execution_count": 24,
   "metadata": {},
   "outputs": [
    {
     "name": "stderr",
     "output_type": "stream",
     "text": [
      "/opt/conda/lib/python3.7/site-packages/matplotlib/cbook/__init__.py:1402: FutureWarning: Support for multi-dimensional indexing (e.g. `obj[:, None]`) is deprecated and will be removed in a future version.  Convert to a numpy array before indexing instead.\n",
      "  x[:, None]\n",
      "/opt/conda/lib/python3.7/site-packages/matplotlib/cbook/__init__.py:1402: FutureWarning: Support for multi-dimensional indexing (e.g. `obj[:, None]`) is deprecated and will be removed in a future version.  Convert to a numpy array before indexing instead.\n",
      "  x[:, None]\n",
      "/opt/conda/lib/python3.7/site-packages/matplotlib/axes/_base.py:276: FutureWarning: Support for multi-dimensional indexing (e.g. `obj[:, None]`) is deprecated and will be removed in a future version.  Convert to a numpy array before indexing instead.\n",
      "  x = x[:, np.newaxis]\n",
      "/opt/conda/lib/python3.7/site-packages/matplotlib/axes/_base.py:278: FutureWarning: Support for multi-dimensional indexing (e.g. `obj[:, None]`) is deprecated and will be removed in a future version.  Convert to a numpy array before indexing instead.\n",
      "  y = y[:, np.newaxis]\n",
      "/opt/conda/lib/python3.7/site-packages/matplotlib/cbook/__init__.py:1402: FutureWarning: Support for multi-dimensional indexing (e.g. `obj[:, None]`) is deprecated and will be removed in a future version.  Convert to a numpy array before indexing instead.\n",
      "  x[:, None]\n",
      "/opt/conda/lib/python3.7/site-packages/matplotlib/axes/_base.py:276: FutureWarning: Support for multi-dimensional indexing (e.g. `obj[:, None]`) is deprecated and will be removed in a future version.  Convert to a numpy array before indexing instead.\n",
      "  x = x[:, np.newaxis]\n",
      "/opt/conda/lib/python3.7/site-packages/matplotlib/axes/_base.py:278: FutureWarning: Support for multi-dimensional indexing (e.g. `obj[:, None]`) is deprecated and will be removed in a future version.  Convert to a numpy array before indexing instead.\n",
      "  y = y[:, np.newaxis]\n"
     ]
    },
    {
     "data": {
      "image/png": "[encoded data removed]",
      "text/plain": [
       "<Figure size 1080x432 with 1 Axes>"
      ]
     },
     "metadata": {
      "needs_background": "light"
     },
     "output_type": "display_data"
    }
   ],
   "source": [
    "plt.rcParams[\"figure.figsize\"] = (15, 6)\n",
    "plt.plot(ordersA['date'], ordersA['cumrev'], label = 'A')\n",
    "plt.plot(ordersB['date'], ordersB['cumrev'], label = 'B')\n",
    "plt.suptitle('Cumulative Revenue')\n",
    "plt.ylabel('Revenue')\n",
    "plt.xlabel('Date')\n",
    "plt.legend()\n",
    "plt.show()"
   ]
  },
  {
   "cell_type": "markdown",
   "metadata": {},
   "source": [
    "The cumulative revenue groped shows similarity untill approximately 19.8.2019 that's when group B started consistently generate more revenue. There was a huge leap of 20,000 in a matter of a day."
   ]
  },
  {
   "cell_type": "code",
   "execution_count": 25,
   "metadata": {
    "scrolled": false
   },
   "outputs": [
    {
     "data": {
      "text/html": [
       "<div>\n",
       "<style scoped>\n",
       "    .dataframe tbody tr th:only-of-type {\n",
       "        vertical-align: middle;\n",
       "    }\n",
       "\n",
       "    .dataframe tbody tr th {\n",
       "        vertical-align: top;\n",
       "    }\n",
       "\n",
       "    .dataframe thead th {\n",
       "        text-align: right;\n",
       "    }\n",
       "</style>\n",
       "<table border=\"1\" class=\"dataframe\">\n",
       "  <thead>\n",
       "    <tr style=\"text-align: right;\">\n",
       "      <th></th>\n",
       "      <th>date</th>\n",
       "      <th>revenue</th>\n",
       "      <th>transactionId</th>\n",
       "      <th>visitorId</th>\n",
       "      <th>cumrev</th>\n",
       "      <th>cumpur</th>\n",
       "      <th>cumavg</th>\n",
       "    </tr>\n",
       "  </thead>\n",
       "  <tbody>\n",
       "    <tr>\n",
       "      <th>0</th>\n",
       "      <td>2019-08-01</td>\n",
       "      <td>2356.8</td>\n",
       "      <td>24</td>\n",
       "      <td>20</td>\n",
       "      <td>2356.8</td>\n",
       "      <td>719</td>\n",
       "      <td>3.277886</td>\n",
       "    </tr>\n",
       "    <tr>\n",
       "      <th>1</th>\n",
       "      <td>2019-08-02</td>\n",
       "      <td>1503.5</td>\n",
       "      <td>20</td>\n",
       "      <td>19</td>\n",
       "      <td>3860.3</td>\n",
       "      <td>1338</td>\n",
       "      <td>2.885127</td>\n",
       "    </tr>\n",
       "    <tr>\n",
       "      <th>2</th>\n",
       "      <td>2019-08-03</td>\n",
       "      <td>1815.2</td>\n",
       "      <td>24</td>\n",
       "      <td>24</td>\n",
       "      <td>5675.5</td>\n",
       "      <td>1845</td>\n",
       "      <td>3.076152</td>\n",
       "    </tr>\n",
       "    <tr>\n",
       "      <th>3</th>\n",
       "      <td>2019-08-04</td>\n",
       "      <td>1146.6</td>\n",
       "      <td>16</td>\n",
       "      <td>15</td>\n",
       "      <td>6822.1</td>\n",
       "      <td>2562</td>\n",
       "      <td>2.662802</td>\n",
       "    </tr>\n",
       "    <tr>\n",
       "      <th>4</th>\n",
       "      <td>2019-08-05</td>\n",
       "      <td>1988.1</td>\n",
       "      <td>25</td>\n",
       "      <td>25</td>\n",
       "      <td>8810.2</td>\n",
       "      <td>3318</td>\n",
       "      <td>2.655274</td>\n",
       "    </tr>\n",
       "    <tr>\n",
       "      <th>5</th>\n",
       "      <td>2019-08-06</td>\n",
       "      <td>789.8</td>\n",
       "      <td>18</td>\n",
       "      <td>15</td>\n",
       "      <td>9600.0</td>\n",
       "      <td>3985</td>\n",
       "      <td>2.409034</td>\n",
       "    </tr>\n",
       "    <tr>\n",
       "      <th>6</th>\n",
       "      <td>2019-08-07</td>\n",
       "      <td>2242.9</td>\n",
       "      <td>18</td>\n",
       "      <td>18</td>\n",
       "      <td>11842.9</td>\n",
       "      <td>4629</td>\n",
       "      <td>2.558414</td>\n",
       "    </tr>\n",
       "    <tr>\n",
       "      <th>7</th>\n",
       "      <td>2019-08-08</td>\n",
       "      <td>1530.4</td>\n",
       "      <td>16</td>\n",
       "      <td>16</td>\n",
       "      <td>13373.3</td>\n",
       "      <td>5239</td>\n",
       "      <td>2.552644</td>\n",
       "    </tr>\n",
       "    <tr>\n",
       "      <th>8</th>\n",
       "      <td>2019-08-09</td>\n",
       "      <td>2947.1</td>\n",
       "      <td>16</td>\n",
       "      <td>14</td>\n",
       "      <td>16320.4</td>\n",
       "      <td>5856</td>\n",
       "      <td>2.786954</td>\n",
       "    </tr>\n",
       "    <tr>\n",
       "      <th>9</th>\n",
       "      <td>2019-08-10</td>\n",
       "      <td>3288.2</td>\n",
       "      <td>16</td>\n",
       "      <td>16</td>\n",
       "      <td>19608.6</td>\n",
       "      <td>6262</td>\n",
       "      <td>3.131364</td>\n",
       "    </tr>\n",
       "    <tr>\n",
       "      <th>10</th>\n",
       "      <td>2019-08-11</td>\n",
       "      <td>1229.7</td>\n",
       "      <td>13</td>\n",
       "      <td>13</td>\n",
       "      <td>20838.3</td>\n",
       "      <td>6980</td>\n",
       "      <td>2.985430</td>\n",
       "    </tr>\n",
       "    <tr>\n",
       "      <th>11</th>\n",
       "      <td>2019-08-12</td>\n",
       "      <td>3910.8</td>\n",
       "      <td>24</td>\n",
       "      <td>24</td>\n",
       "      <td>24749.1</td>\n",
       "      <td>7575</td>\n",
       "      <td>3.267208</td>\n",
       "    </tr>\n",
       "    <tr>\n",
       "      <th>12</th>\n",
       "      <td>2019-08-13</td>\n",
       "      <td>4096.9</td>\n",
       "      <td>14</td>\n",
       "      <td>14</td>\n",
       "      <td>28846.0</td>\n",
       "      <td>8323</td>\n",
       "      <td>3.465818</td>\n",
       "    </tr>\n",
       "    <tr>\n",
       "      <th>13</th>\n",
       "      <td>2019-08-14</td>\n",
       "      <td>1064.8</td>\n",
       "      <td>24</td>\n",
       "      <td>24</td>\n",
       "      <td>29910.8</td>\n",
       "      <td>9058</td>\n",
       "      <td>3.302142</td>\n",
       "    </tr>\n",
       "    <tr>\n",
       "      <th>14</th>\n",
       "      <td>2019-08-15</td>\n",
       "      <td>1408.2</td>\n",
       "      <td>15</td>\n",
       "      <td>15</td>\n",
       "      <td>31319.0</td>\n",
       "      <td>9686</td>\n",
       "      <td>3.233430</td>\n",
       "    </tr>\n",
       "    <tr>\n",
       "      <th>15</th>\n",
       "      <td>2019-08-16</td>\n",
       "      <td>1599.1</td>\n",
       "      <td>18</td>\n",
       "      <td>18</td>\n",
       "      <td>32918.1</td>\n",
       "      <td>10047</td>\n",
       "      <td>3.276411</td>\n",
       "    </tr>\n",
       "    <tr>\n",
       "      <th>16</th>\n",
       "      <td>2019-08-17</td>\n",
       "      <td>805.5</td>\n",
       "      <td>10</td>\n",
       "      <td>9</td>\n",
       "      <td>33723.6</td>\n",
       "      <td>10459</td>\n",
       "      <td>3.224362</td>\n",
       "    </tr>\n",
       "    <tr>\n",
       "      <th>17</th>\n",
       "      <td>2019-08-18</td>\n",
       "      <td>1171.8</td>\n",
       "      <td>17</td>\n",
       "      <td>17</td>\n",
       "      <td>34895.4</td>\n",
       "      <td>11127</td>\n",
       "      <td>3.136101</td>\n",
       "    </tr>\n",
       "    <tr>\n",
       "      <th>18</th>\n",
       "      <td>2019-08-19</td>\n",
       "      <td>2989.1</td>\n",
       "      <td>22</td>\n",
       "      <td>22</td>\n",
       "      <td>37884.5</td>\n",
       "      <td>11629</td>\n",
       "      <td>3.257761</td>\n",
       "    </tr>\n",
       "    <tr>\n",
       "      <th>19</th>\n",
       "      <td>2019-08-20</td>\n",
       "      <td>1232.3</td>\n",
       "      <td>12</td>\n",
       "      <td>12</td>\n",
       "      <td>39116.8</td>\n",
       "      <td>12204</td>\n",
       "      <td>3.205244</td>\n",
       "    </tr>\n",
       "    <tr>\n",
       "      <th>20</th>\n",
       "      <td>2019-08-21</td>\n",
       "      <td>2755.5</td>\n",
       "      <td>23</td>\n",
       "      <td>22</td>\n",
       "      <td>41872.3</td>\n",
       "      <td>12850</td>\n",
       "      <td>3.258545</td>\n",
       "    </tr>\n",
       "    <tr>\n",
       "      <th>21</th>\n",
       "      <td>2019-08-22</td>\n",
       "      <td>1783.3</td>\n",
       "      <td>16</td>\n",
       "      <td>16</td>\n",
       "      <td>43655.6</td>\n",
       "      <td>13459</td>\n",
       "      <td>3.243599</td>\n",
       "    </tr>\n",
       "    <tr>\n",
       "      <th>22</th>\n",
       "      <td>2019-08-23</td>\n",
       "      <td>1888.0</td>\n",
       "      <td>25</td>\n",
       "      <td>25</td>\n",
       "      <td>45543.6</td>\n",
       "      <td>13927</td>\n",
       "      <td>3.270166</td>\n",
       "    </tr>\n",
       "    <tr>\n",
       "      <th>23</th>\n",
       "      <td>2019-08-24</td>\n",
       "      <td>2002.7</td>\n",
       "      <td>15</td>\n",
       "      <td>15</td>\n",
       "      <td>47546.3</td>\n",
       "      <td>14322</td>\n",
       "      <td>3.319809</td>\n",
       "    </tr>\n",
       "    <tr>\n",
       "      <th>24</th>\n",
       "      <td>2019-08-25</td>\n",
       "      <td>1078.9</td>\n",
       "      <td>10</td>\n",
       "      <td>10</td>\n",
       "      <td>48625.2</td>\n",
       "      <td>14943</td>\n",
       "      <td>3.254045</td>\n",
       "    </tr>\n",
       "    <tr>\n",
       "      <th>25</th>\n",
       "      <td>2019-08-26</td>\n",
       "      <td>2464.8</td>\n",
       "      <td>16</td>\n",
       "      <td>16</td>\n",
       "      <td>51090.0</td>\n",
       "      <td>15665</td>\n",
       "      <td>3.261411</td>\n",
       "    </tr>\n",
       "    <tr>\n",
       "      <th>26</th>\n",
       "      <td>2019-08-27</td>\n",
       "      <td>4511.1</td>\n",
       "      <td>28</td>\n",
       "      <td>28</td>\n",
       "      <td>55601.1</td>\n",
       "      <td>16376</td>\n",
       "      <td>3.395280</td>\n",
       "    </tr>\n",
       "    <tr>\n",
       "      <th>27</th>\n",
       "      <td>2019-08-28</td>\n",
       "      <td>1602.6</td>\n",
       "      <td>17</td>\n",
       "      <td>17</td>\n",
       "      <td>57203.7</td>\n",
       "      <td>16970</td>\n",
       "      <td>3.370872</td>\n",
       "    </tr>\n",
       "    <tr>\n",
       "      <th>28</th>\n",
       "      <td>2019-08-29</td>\n",
       "      <td>4995.5</td>\n",
       "      <td>22</td>\n",
       "      <td>22</td>\n",
       "      <td>62199.2</td>\n",
       "      <td>17547</td>\n",
       "      <td>3.544720</td>\n",
       "    </tr>\n",
       "    <tr>\n",
       "      <th>29</th>\n",
       "      <td>2019-08-30</td>\n",
       "      <td>1364.3</td>\n",
       "      <td>11</td>\n",
       "      <td>10</td>\n",
       "      <td>63563.5</td>\n",
       "      <td>18037</td>\n",
       "      <td>3.524062</td>\n",
       "    </tr>\n",
       "    <tr>\n",
       "      <th>30</th>\n",
       "      <td>2019-08-31</td>\n",
       "      <td>991.4</td>\n",
       "      <td>12</td>\n",
       "      <td>12</td>\n",
       "      <td>64554.9</td>\n",
       "      <td>18736</td>\n",
       "      <td>3.445501</td>\n",
       "    </tr>\n",
       "  </tbody>\n",
       "</table>\n",
       "</div>"
      ],
      "text/plain": [
       "         date  revenue  transactionId  visitorId   cumrev  cumpur    cumavg\n",
       "0  2019-08-01  2356.8   24             20         2356.8   719     3.277886\n",
       "1  2019-08-02  1503.5   20             19         3860.3   1338    2.885127\n",
       "2  2019-08-03  1815.2   24             24         5675.5   1845    3.076152\n",
       "3  2019-08-04  1146.6   16             15         6822.1   2562    2.662802\n",
       "4  2019-08-05  1988.1   25             25         8810.2   3318    2.655274\n",
       "5  2019-08-06  789.8    18             15         9600.0   3985    2.409034\n",
       "6  2019-08-07  2242.9   18             18         11842.9  4629    2.558414\n",
       "7  2019-08-08  1530.4   16             16         13373.3  5239    2.552644\n",
       "8  2019-08-09  2947.1   16             14         16320.4  5856    2.786954\n",
       "9  2019-08-10  3288.2   16             16         19608.6  6262    3.131364\n",
       "10 2019-08-11  1229.7   13             13         20838.3  6980    2.985430\n",
       "11 2019-08-12  3910.8   24             24         24749.1  7575    3.267208\n",
       "12 2019-08-13  4096.9   14             14         28846.0  8323    3.465818\n",
       "13 2019-08-14  1064.8   24             24         29910.8  9058    3.302142\n",
       "14 2019-08-15  1408.2   15             15         31319.0  9686    3.233430\n",
       "15 2019-08-16  1599.1   18             18         32918.1  10047   3.276411\n",
       "16 2019-08-17  805.5    10             9          33723.6  10459   3.224362\n",
       "17 2019-08-18  1171.8   17             17         34895.4  11127   3.136101\n",
       "18 2019-08-19  2989.1   22             22         37884.5  11629   3.257761\n",
       "19 2019-08-20  1232.3   12             12         39116.8  12204   3.205244\n",
       "20 2019-08-21  2755.5   23             22         41872.3  12850   3.258545\n",
       "21 2019-08-22  1783.3   16             16         43655.6  13459   3.243599\n",
       "22 2019-08-23  1888.0   25             25         45543.6  13927   3.270166\n",
       "23 2019-08-24  2002.7   15             15         47546.3  14322   3.319809\n",
       "24 2019-08-25  1078.9   10             10         48625.2  14943   3.254045\n",
       "25 2019-08-26  2464.8   16             16         51090.0  15665   3.261411\n",
       "26 2019-08-27  4511.1   28             28         55601.1  16376   3.395280\n",
       "27 2019-08-28  1602.6   17             17         57203.7  16970   3.370872\n",
       "28 2019-08-29  4995.5   22             22         62199.2  17547   3.544720\n",
       "29 2019-08-30  1364.3   11             10         63563.5  18037   3.524062\n",
       "30 2019-08-31  991.4    12             12         64554.9  18736   3.445501"
      ]
     },
     "execution_count": 25,
     "metadata": {},
     "output_type": "execute_result"
    }
   ],
   "source": [
    "ordersA['cumpur'] = visitsA['visits'].cumsum()\n",
    "ordersA['cumavg'] = ordersA['cumrev'] / ordersA['cumpur']\n",
    "ordersA"
   ]
  },
  {
   "cell_type": "code",
   "execution_count": 26,
   "metadata": {},
   "outputs": [
    {
     "data": {
      "text/html": [
       "<div>\n",
       "<style scoped>\n",
       "    .dataframe tbody tr th:only-of-type {\n",
       "        vertical-align: middle;\n",
       "    }\n",
       "\n",
       "    .dataframe tbody tr th {\n",
       "        vertical-align: top;\n",
       "    }\n",
       "\n",
       "    .dataframe thead th {\n",
       "        text-align: right;\n",
       "    }\n",
       "</style>\n",
       "<table border=\"1\" class=\"dataframe\">\n",
       "  <thead>\n",
       "    <tr style=\"text-align: right;\">\n",
       "      <th></th>\n",
       "      <th>date</th>\n",
       "      <th>revenue</th>\n",
       "      <th>transactionId</th>\n",
       "      <th>visitorId</th>\n",
       "      <th>cumrev</th>\n",
       "      <th>cumpur</th>\n",
       "      <th>cumavg</th>\n",
       "    </tr>\n",
       "  </thead>\n",
       "  <tbody>\n",
       "    <tr>\n",
       "      <th>0</th>\n",
       "      <td>2019-08-01</td>\n",
       "      <td>1620.0</td>\n",
       "      <td>21</td>\n",
       "      <td>20</td>\n",
       "      <td>1620.0</td>\n",
       "      <td>713</td>\n",
       "      <td>2.272090</td>\n",
       "    </tr>\n",
       "    <tr>\n",
       "      <th>1</th>\n",
       "      <td>2019-08-02</td>\n",
       "      <td>2623.8</td>\n",
       "      <td>24</td>\n",
       "      <td>23</td>\n",
       "      <td>4243.8</td>\n",
       "      <td>1294</td>\n",
       "      <td>3.279598</td>\n",
       "    </tr>\n",
       "    <tr>\n",
       "      <th>2</th>\n",
       "      <td>2019-08-03</td>\n",
       "      <td>1806.8</td>\n",
       "      <td>16</td>\n",
       "      <td>16</td>\n",
       "      <td>6050.6</td>\n",
       "      <td>1803</td>\n",
       "      <td>3.355851</td>\n",
       "    </tr>\n",
       "    <tr>\n",
       "      <th>3</th>\n",
       "      <td>2019-08-04</td>\n",
       "      <td>1717.3</td>\n",
       "      <td>17</td>\n",
       "      <td>16</td>\n",
       "      <td>7767.9</td>\n",
       "      <td>2573</td>\n",
       "      <td>3.019005</td>\n",
       "    </tr>\n",
       "    <tr>\n",
       "      <th>4</th>\n",
       "      <td>2019-08-05</td>\n",
       "      <td>1495.0</td>\n",
       "      <td>23</td>\n",
       "      <td>23</td>\n",
       "      <td>9262.9</td>\n",
       "      <td>3280</td>\n",
       "      <td>2.824055</td>\n",
       "    </tr>\n",
       "    <tr>\n",
       "      <th>5</th>\n",
       "      <td>2019-08-06</td>\n",
       "      <td>3806.4</td>\n",
       "      <td>28</td>\n",
       "      <td>26</td>\n",
       "      <td>13069.3</td>\n",
       "      <td>3935</td>\n",
       "      <td>3.321296</td>\n",
       "    </tr>\n",
       "    <tr>\n",
       "      <th>6</th>\n",
       "      <td>2019-08-07</td>\n",
       "      <td>3531.5</td>\n",
       "      <td>24</td>\n",
       "      <td>24</td>\n",
       "      <td>16600.8</td>\n",
       "      <td>4644</td>\n",
       "      <td>3.574677</td>\n",
       "    </tr>\n",
       "    <tr>\n",
       "      <th>7</th>\n",
       "      <td>2019-08-08</td>\n",
       "      <td>3487.8</td>\n",
       "      <td>27</td>\n",
       "      <td>27</td>\n",
       "      <td>20088.6</td>\n",
       "      <td>5298</td>\n",
       "      <td>3.791733</td>\n",
       "    </tr>\n",
       "    <tr>\n",
       "      <th>8</th>\n",
       "      <td>2019-08-09</td>\n",
       "      <td>2558.1</td>\n",
       "      <td>25</td>\n",
       "      <td>24</td>\n",
       "      <td>22646.7</td>\n",
       "      <td>5908</td>\n",
       "      <td>3.833226</td>\n",
       "    </tr>\n",
       "    <tr>\n",
       "      <th>9</th>\n",
       "      <td>2019-08-10</td>\n",
       "      <td>1720.4</td>\n",
       "      <td>23</td>\n",
       "      <td>23</td>\n",
       "      <td>24367.1</td>\n",
       "      <td>6277</td>\n",
       "      <td>3.881966</td>\n",
       "    </tr>\n",
       "    <tr>\n",
       "      <th>10</th>\n",
       "      <td>2019-08-11</td>\n",
       "      <td>861.2</td>\n",
       "      <td>13</td>\n",
       "      <td>13</td>\n",
       "      <td>25228.3</td>\n",
       "      <td>6998</td>\n",
       "      <td>3.605073</td>\n",
       "    </tr>\n",
       "    <tr>\n",
       "      <th>11</th>\n",
       "      <td>2019-08-12</td>\n",
       "      <td>2245.7</td>\n",
       "      <td>23</td>\n",
       "      <td>22</td>\n",
       "      <td>27474.0</td>\n",
       "      <td>7541</td>\n",
       "      <td>3.643283</td>\n",
       "    </tr>\n",
       "    <tr>\n",
       "      <th>12</th>\n",
       "      <td>2019-08-13</td>\n",
       "      <td>1910.0</td>\n",
       "      <td>21</td>\n",
       "      <td>21</td>\n",
       "      <td>29384.0</td>\n",
       "      <td>8310</td>\n",
       "      <td>3.535981</td>\n",
       "    </tr>\n",
       "    <tr>\n",
       "      <th>13</th>\n",
       "      <td>2019-08-14</td>\n",
       "      <td>2711.7</td>\n",
       "      <td>23</td>\n",
       "      <td>22</td>\n",
       "      <td>32095.7</td>\n",
       "      <td>9056</td>\n",
       "      <td>3.544136</td>\n",
       "    </tr>\n",
       "    <tr>\n",
       "      <th>14</th>\n",
       "      <td>2019-08-15</td>\n",
       "      <td>5361.9</td>\n",
       "      <td>31</td>\n",
       "      <td>31</td>\n",
       "      <td>37457.6</td>\n",
       "      <td>9600</td>\n",
       "      <td>3.901833</td>\n",
       "    </tr>\n",
       "    <tr>\n",
       "      <th>15</th>\n",
       "      <td>2019-08-16</td>\n",
       "      <td>2697.7</td>\n",
       "      <td>20</td>\n",
       "      <td>20</td>\n",
       "      <td>40155.3</td>\n",
       "      <td>10013</td>\n",
       "      <td>4.010317</td>\n",
       "    </tr>\n",
       "    <tr>\n",
       "      <th>16</th>\n",
       "      <td>2019-08-17</td>\n",
       "      <td>1281.5</td>\n",
       "      <td>14</td>\n",
       "      <td>14</td>\n",
       "      <td>41436.8</td>\n",
       "      <td>10434</td>\n",
       "      <td>3.971325</td>\n",
       "    </tr>\n",
       "    <tr>\n",
       "      <th>17</th>\n",
       "      <td>2019-08-18</td>\n",
       "      <td>1044.9</td>\n",
       "      <td>9</td>\n",
       "      <td>9</td>\n",
       "      <td>42481.7</td>\n",
       "      <td>11171</td>\n",
       "      <td>3.802856</td>\n",
       "    </tr>\n",
       "    <tr>\n",
       "      <th>18</th>\n",
       "      <td>2019-08-19</td>\n",
       "      <td>22064.9</td>\n",
       "      <td>21</td>\n",
       "      <td>20</td>\n",
       "      <td>64546.6</td>\n",
       "      <td>11658</td>\n",
       "      <td>5.536679</td>\n",
       "    </tr>\n",
       "    <tr>\n",
       "      <th>19</th>\n",
       "      <td>2019-08-20</td>\n",
       "      <td>2324.6</td>\n",
       "      <td>20</td>\n",
       "      <td>20</td>\n",
       "      <td>66871.2</td>\n",
       "      <td>12218</td>\n",
       "      <td>5.473171</td>\n",
       "    </tr>\n",
       "    <tr>\n",
       "      <th>20</th>\n",
       "      <td>2019-08-21</td>\n",
       "      <td>2555.9</td>\n",
       "      <td>14</td>\n",
       "      <td>14</td>\n",
       "      <td>69427.1</td>\n",
       "      <td>12874</td>\n",
       "      <td>5.392815</td>\n",
       "    </tr>\n",
       "    <tr>\n",
       "      <th>21</th>\n",
       "      <td>2019-08-22</td>\n",
       "      <td>2560.8</td>\n",
       "      <td>25</td>\n",
       "      <td>24</td>\n",
       "      <td>71987.9</td>\n",
       "      <td>13524</td>\n",
       "      <td>5.322974</td>\n",
       "    </tr>\n",
       "    <tr>\n",
       "      <th>22</th>\n",
       "      <td>2019-08-23</td>\n",
       "      <td>1799.5</td>\n",
       "      <td>15</td>\n",
       "      <td>15</td>\n",
       "      <td>73787.4</td>\n",
       "      <td>14070</td>\n",
       "      <td>5.244307</td>\n",
       "    </tr>\n",
       "    <tr>\n",
       "      <th>23</th>\n",
       "      <td>2019-08-24</td>\n",
       "      <td>1527.2</td>\n",
       "      <td>16</td>\n",
       "      <td>16</td>\n",
       "      <td>75314.6</td>\n",
       "      <td>14448</td>\n",
       "      <td>5.212805</td>\n",
       "    </tr>\n",
       "    <tr>\n",
       "      <th>24</th>\n",
       "      <td>2019-08-25</td>\n",
       "      <td>1626.5</td>\n",
       "      <td>14</td>\n",
       "      <td>14</td>\n",
       "      <td>76941.1</td>\n",
       "      <td>15127</td>\n",
       "      <td>5.086342</td>\n",
       "    </tr>\n",
       "    <tr>\n",
       "      <th>25</th>\n",
       "      <td>2019-08-26</td>\n",
       "      <td>2900.4</td>\n",
       "      <td>25</td>\n",
       "      <td>24</td>\n",
       "      <td>79841.5</td>\n",
       "      <td>15803</td>\n",
       "      <td>5.052300</td>\n",
       "    </tr>\n",
       "    <tr>\n",
       "      <th>26</th>\n",
       "      <td>2019-08-27</td>\n",
       "      <td>2319.8</td>\n",
       "      <td>16</td>\n",
       "      <td>16</td>\n",
       "      <td>82161.3</td>\n",
       "      <td>16523</td>\n",
       "      <td>4.972541</td>\n",
       "    </tr>\n",
       "    <tr>\n",
       "      <th>27</th>\n",
       "      <td>2019-08-28</td>\n",
       "      <td>1558.0</td>\n",
       "      <td>28</td>\n",
       "      <td>27</td>\n",
       "      <td>83719.3</td>\n",
       "      <td>17177</td>\n",
       "      <td>4.873919</td>\n",
       "    </tr>\n",
       "    <tr>\n",
       "      <th>28</th>\n",
       "      <td>2019-08-29</td>\n",
       "      <td>3623.7</td>\n",
       "      <td>20</td>\n",
       "      <td>20</td>\n",
       "      <td>87343.0</td>\n",
       "      <td>17708</td>\n",
       "      <td>4.932403</td>\n",
       "    </tr>\n",
       "    <tr>\n",
       "      <th>29</th>\n",
       "      <td>2019-08-30</td>\n",
       "      <td>3393.3</td>\n",
       "      <td>24</td>\n",
       "      <td>24</td>\n",
       "      <td>90736.3</td>\n",
       "      <td>18198</td>\n",
       "      <td>4.986059</td>\n",
       "    </tr>\n",
       "    <tr>\n",
       "      <th>30</th>\n",
       "      <td>2019-08-31</td>\n",
       "      <td>2104.3</td>\n",
       "      <td>20</td>\n",
       "      <td>20</td>\n",
       "      <td>92840.6</td>\n",
       "      <td>18916</td>\n",
       "      <td>4.908046</td>\n",
       "    </tr>\n",
       "  </tbody>\n",
       "</table>\n",
       "</div>"
      ],
      "text/plain": [
       "         date  revenue  transactionId  visitorId   cumrev  cumpur    cumavg\n",
       "0  2019-08-01  1620.0   21             20         1620.0   713     2.272090\n",
       "1  2019-08-02  2623.8   24             23         4243.8   1294    3.279598\n",
       "2  2019-08-03  1806.8   16             16         6050.6   1803    3.355851\n",
       "3  2019-08-04  1717.3   17             16         7767.9   2573    3.019005\n",
       "4  2019-08-05  1495.0   23             23         9262.9   3280    2.824055\n",
       "5  2019-08-06  3806.4   28             26         13069.3  3935    3.321296\n",
       "6  2019-08-07  3531.5   24             24         16600.8  4644    3.574677\n",
       "7  2019-08-08  3487.8   27             27         20088.6  5298    3.791733\n",
       "8  2019-08-09  2558.1   25             24         22646.7  5908    3.833226\n",
       "9  2019-08-10  1720.4   23             23         24367.1  6277    3.881966\n",
       "10 2019-08-11  861.2    13             13         25228.3  6998    3.605073\n",
       "11 2019-08-12  2245.7   23             22         27474.0  7541    3.643283\n",
       "12 2019-08-13  1910.0   21             21         29384.0  8310    3.535981\n",
       "13 2019-08-14  2711.7   23             22         32095.7  9056    3.544136\n",
       "14 2019-08-15  5361.9   31             31         37457.6  9600    3.901833\n",
       "15 2019-08-16  2697.7   20             20         40155.3  10013   4.010317\n",
       "16 2019-08-17  1281.5   14             14         41436.8  10434   3.971325\n",
       "17 2019-08-18  1044.9   9              9          42481.7  11171   3.802856\n",
       "18 2019-08-19  22064.9  21             20         64546.6  11658   5.536679\n",
       "19 2019-08-20  2324.6   20             20         66871.2  12218   5.473171\n",
       "20 2019-08-21  2555.9   14             14         69427.1  12874   5.392815\n",
       "21 2019-08-22  2560.8   25             24         71987.9  13524   5.322974\n",
       "22 2019-08-23  1799.5   15             15         73787.4  14070   5.244307\n",
       "23 2019-08-24  1527.2   16             16         75314.6  14448   5.212805\n",
       "24 2019-08-25  1626.5   14             14         76941.1  15127   5.086342\n",
       "25 2019-08-26  2900.4   25             24         79841.5  15803   5.052300\n",
       "26 2019-08-27  2319.8   16             16         82161.3  16523   4.972541\n",
       "27 2019-08-28  1558.0   28             27         83719.3  17177   4.873919\n",
       "28 2019-08-29  3623.7   20             20         87343.0  17708   4.932403\n",
       "29 2019-08-30  3393.3   24             24         90736.3  18198   4.986059\n",
       "30 2019-08-31  2104.3   20             20         92840.6  18916   4.908046"
      ]
     },
     "execution_count": 26,
     "metadata": {},
     "output_type": "execute_result"
    }
   ],
   "source": [
    "ordersB['cumpur'] = visitsB['visits'].cumsum()\n",
    "ordersB['cumavg'] = ordersB['cumrev'] / ordersB['cumpur']\n",
    "ordersB"
   ]
  },
  {
   "cell_type": "code",
   "execution_count": 27,
   "metadata": {},
   "outputs": [
    {
     "name": "stderr",
     "output_type": "stream",
     "text": [
      "/opt/conda/lib/python3.7/site-packages/matplotlib/cbook/__init__.py:1402: FutureWarning: Support for multi-dimensional indexing (e.g. `obj[:, None]`) is deprecated and will be removed in a future version.  Convert to a numpy array before indexing instead.\n",
      "  x[:, None]\n",
      "/opt/conda/lib/python3.7/site-packages/matplotlib/cbook/__init__.py:1402: FutureWarning: Support for multi-dimensional indexing (e.g. `obj[:, None]`) is deprecated and will be removed in a future version.  Convert to a numpy array before indexing instead.\n",
      "  x[:, None]\n",
      "/opt/conda/lib/python3.7/site-packages/matplotlib/axes/_base.py:276: FutureWarning: Support for multi-dimensional indexing (e.g. `obj[:, None]`) is deprecated and will be removed in a future version.  Convert to a numpy array before indexing instead.\n",
      "  x = x[:, np.newaxis]\n",
      "/opt/conda/lib/python3.7/site-packages/matplotlib/axes/_base.py:278: FutureWarning: Support for multi-dimensional indexing (e.g. `obj[:, None]`) is deprecated and will be removed in a future version.  Convert to a numpy array before indexing instead.\n",
      "  y = y[:, np.newaxis]\n",
      "/opt/conda/lib/python3.7/site-packages/matplotlib/cbook/__init__.py:1402: FutureWarning: Support for multi-dimensional indexing (e.g. `obj[:, None]`) is deprecated and will be removed in a future version.  Convert to a numpy array before indexing instead.\n",
      "  x[:, None]\n",
      "/opt/conda/lib/python3.7/site-packages/matplotlib/axes/_base.py:276: FutureWarning: Support for multi-dimensional indexing (e.g. `obj[:, None]`) is deprecated and will be removed in a future version.  Convert to a numpy array before indexing instead.\n",
      "  x = x[:, np.newaxis]\n",
      "/opt/conda/lib/python3.7/site-packages/matplotlib/axes/_base.py:278: FutureWarning: Support for multi-dimensional indexing (e.g. `obj[:, None]`) is deprecated and will be removed in a future version.  Convert to a numpy array before indexing instead.\n",
      "  y = y[:, np.newaxis]\n"
     ]
    },
    {
     "data": {
      "image/png": "[encoded data removed]",
      "text/plain": [
       "<Figure size 1080x432 with 1 Axes>"
      ]
     },
     "metadata": {
      "needs_background": "light"
     },
     "output_type": "display_data"
    }
   ],
   "source": [
    "plt.plot(ordersA['date'], ordersA['cumavg'], label = 'A')\n",
    "plt.plot(ordersB['date'], ordersB['cumavg'], label = 'B')\n",
    "plt.legend()\n",
    "plt.suptitle('Cumulative Average')\n",
    "plt.ylabel('Cumavg')\n",
    "plt.xlabel('Date')\n",
    "plt.show()"
   ]
  },
  {
   "cell_type": "markdown",
   "metadata": {},
   "source": [
    "Cumulative average shows that group B is leading in average throughout most of the month (except the first day or two) and in 19/8/2019 we see that there is a big leap that is gradually declining, while group A is quite steady."
   ]
  },
  {
   "cell_type": "code",
   "execution_count": 28,
   "metadata": {},
   "outputs": [],
   "source": [
    "ordersA['cov'] = ordersA['visitorId'] / visitsA['visits']\n",
    "ordersB['cov'] = ordersB['visitorId'] / visitsB['visits'] "
   ]
  },
  {
   "cell_type": "code",
   "execution_count": 29,
   "metadata": {},
   "outputs": [
    {
     "name": "stderr",
     "output_type": "stream",
     "text": [
      "/opt/conda/lib/python3.7/site-packages/matplotlib/cbook/__init__.py:1402: FutureWarning: Support for multi-dimensional indexing (e.g. `obj[:, None]`) is deprecated and will be removed in a future version.  Convert to a numpy array before indexing instead.\n",
      "  x[:, None]\n",
      "/opt/conda/lib/python3.7/site-packages/matplotlib/axes/_base.py:276: FutureWarning: Support for multi-dimensional indexing (e.g. `obj[:, None]`) is deprecated and will be removed in a future version.  Convert to a numpy array before indexing instead.\n",
      "  x = x[:, np.newaxis]\n",
      "/opt/conda/lib/python3.7/site-packages/matplotlib/axes/_base.py:278: FutureWarning: Support for multi-dimensional indexing (e.g. `obj[:, None]`) is deprecated and will be removed in a future version.  Convert to a numpy array before indexing instead.\n",
      "  y = y[:, np.newaxis]\n",
      "/opt/conda/lib/python3.7/site-packages/matplotlib/cbook/__init__.py:1402: FutureWarning: Support for multi-dimensional indexing (e.g. `obj[:, None]`) is deprecated and will be removed in a future version.  Convert to a numpy array before indexing instead.\n",
      "  x[:, None]\n",
      "/opt/conda/lib/python3.7/site-packages/matplotlib/axes/_base.py:276: FutureWarning: Support for multi-dimensional indexing (e.g. `obj[:, None]`) is deprecated and will be removed in a future version.  Convert to a numpy array before indexing instead.\n",
      "  x = x[:, np.newaxis]\n",
      "/opt/conda/lib/python3.7/site-packages/matplotlib/axes/_base.py:278: FutureWarning: Support for multi-dimensional indexing (e.g. `obj[:, None]`) is deprecated and will be removed in a future version.  Convert to a numpy array before indexing instead.\n",
      "  y = y[:, np.newaxis]\n"
     ]
    },
    {
     "data": {
      "image/png": "[encoded data removed]",
      "text/plain": [
       "<Figure size 1080x432 with 1 Axes>"
      ]
     },
     "metadata": {
      "needs_background": "light"
     },
     "output_type": "display_data"
    }
   ],
   "source": [
    "plt.plot(ordersA['date'], ordersA['cov'], label = 'A')\n",
    "plt.plot(ordersB['date'], ordersB['cov'], label = 'B')\n",
    "plt.legend()\n",
    "plt.suptitle('Conversion Rate')\n",
    "plt.ylabel('Cov')\n",
    "plt.xlabel('Date')\n",
    "plt.show()"
   ]
  },
  {
   "cell_type": "markdown",
   "metadata": {},
   "source": [
    "The conversion rate of group A seems greater although, there are spikes indicating problems while group B is showing more consistent outcomes."
   ]
  },
  {
   "cell_type": "code",
   "execution_count": 30,
   "metadata": {},
   "outputs": [],
   "source": [
    "ordersA['cov'] = ordersA['visitorId'].cumsum() / visitsA['visits'].cumsum()\n",
    "ordersB['cov'] = ordersB['visitorId'].cumsum() / visitsB['visits'].cumsum()"
   ]
  },
  {
   "cell_type": "code",
   "execution_count": 31,
   "metadata": {},
   "outputs": [
    {
     "name": "stderr",
     "output_type": "stream",
     "text": [
      "/opt/conda/lib/python3.7/site-packages/matplotlib/cbook/__init__.py:1402: FutureWarning: Support for multi-dimensional indexing (e.g. `obj[:, None]`) is deprecated and will be removed in a future version.  Convert to a numpy array before indexing instead.\n",
      "  x[:, None]\n",
      "/opt/conda/lib/python3.7/site-packages/matplotlib/axes/_base.py:276: FutureWarning: Support for multi-dimensional indexing (e.g. `obj[:, None]`) is deprecated and will be removed in a future version.  Convert to a numpy array before indexing instead.\n",
      "  x = x[:, np.newaxis]\n",
      "/opt/conda/lib/python3.7/site-packages/matplotlib/axes/_base.py:278: FutureWarning: Support for multi-dimensional indexing (e.g. `obj[:, None]`) is deprecated and will be removed in a future version.  Convert to a numpy array before indexing instead.\n",
      "  y = y[:, np.newaxis]\n",
      "/opt/conda/lib/python3.7/site-packages/matplotlib/cbook/__init__.py:1402: FutureWarning: Support for multi-dimensional indexing (e.g. `obj[:, None]`) is deprecated and will be removed in a future version.  Convert to a numpy array before indexing instead.\n",
      "  x[:, None]\n",
      "/opt/conda/lib/python3.7/site-packages/matplotlib/axes/_base.py:276: FutureWarning: Support for multi-dimensional indexing (e.g. `obj[:, None]`) is deprecated and will be removed in a future version.  Convert to a numpy array before indexing instead.\n",
      "  x = x[:, np.newaxis]\n",
      "/opt/conda/lib/python3.7/site-packages/matplotlib/axes/_base.py:278: FutureWarning: Support for multi-dimensional indexing (e.g. `obj[:, None]`) is deprecated and will be removed in a future version.  Convert to a numpy array before indexing instead.\n",
      "  y = y[:, np.newaxis]\n"
     ]
    },
    {
     "data": {
      "image/png": "[encoded data removed]",
      "text/plain": [
       "<Figure size 1080x432 with 1 Axes>"
      ]
     },
     "metadata": {
      "needs_background": "light"
     },
     "output_type": "display_data"
    }
   ],
   "source": [
    "plt.plot(ordersA['date'], ordersA['cov'], label = 'A')\n",
    "plt.plot(ordersB['date'], ordersB['cov'], label = 'B')\n",
    "plt.legend()\n",
    "plt.suptitle('Cumulative Conversion')\n",
    "plt.ylabel('Cov')\n",
    "plt.xlabel('Date')\n",
    "plt.show()"
   ]
  },
  {
   "cell_type": "markdown",
   "metadata": {},
   "source": [
    "We can see that, at the beginning group B had better conversion rate as a total than group A but later on ~19/8/17 there was a shift a group A took the lead and quit consistent one."
   ]
  },
  {
   "cell_type": "markdown",
   "metadata": {},
   "source": [
    "In this part I will calculate the number of orders per user."
   ]
  },
  {
   "cell_type": "code",
   "execution_count": 32,
   "metadata": {},
   "outputs": [],
   "source": [
    "ordersA['visits'] = visitsA['visits']"
   ]
  },
  {
   "cell_type": "code",
   "execution_count": 33,
   "metadata": {
    "scrolled": false
   },
   "outputs": [
    {
     "data": {
      "text/html": [
       "<div>\n",
       "<style scoped>\n",
       "    .dataframe tbody tr th:only-of-type {\n",
       "        vertical-align: middle;\n",
       "    }\n",
       "\n",
       "    .dataframe tbody tr th {\n",
       "        vertical-align: top;\n",
       "    }\n",
       "\n",
       "    .dataframe thead th {\n",
       "        text-align: right;\n",
       "    }\n",
       "</style>\n",
       "<table border=\"1\" class=\"dataframe\">\n",
       "  <thead>\n",
       "    <tr style=\"text-align: right;\">\n",
       "      <th></th>\n",
       "      <th>index</th>\n",
       "      <th>date</th>\n",
       "      <th>revenue</th>\n",
       "      <th>transactionId</th>\n",
       "      <th>visitorId</th>\n",
       "      <th>cumrev</th>\n",
       "      <th>cumpur</th>\n",
       "      <th>cumavg</th>\n",
       "      <th>cov</th>\n",
       "      <th>visits</th>\n",
       "    </tr>\n",
       "  </thead>\n",
       "  <tbody>\n",
       "    <tr>\n",
       "      <th>0</th>\n",
       "      <td>0</td>\n",
       "      <td>2019-08-01</td>\n",
       "      <td>2356.8</td>\n",
       "      <td>24</td>\n",
       "      <td>20</td>\n",
       "      <td>2356.8</td>\n",
       "      <td>719</td>\n",
       "      <td>3.277886</td>\n",
       "      <td>0.027816</td>\n",
       "      <td>719</td>\n",
       "    </tr>\n",
       "    <tr>\n",
       "      <th>1</th>\n",
       "      <td>1</td>\n",
       "      <td>2019-08-02</td>\n",
       "      <td>1503.5</td>\n",
       "      <td>20</td>\n",
       "      <td>19</td>\n",
       "      <td>3860.3</td>\n",
       "      <td>1338</td>\n",
       "      <td>2.885127</td>\n",
       "      <td>0.029148</td>\n",
       "      <td>619</td>\n",
       "    </tr>\n",
       "    <tr>\n",
       "      <th>2</th>\n",
       "      <td>2</td>\n",
       "      <td>2019-08-03</td>\n",
       "      <td>1815.2</td>\n",
       "      <td>24</td>\n",
       "      <td>24</td>\n",
       "      <td>5675.5</td>\n",
       "      <td>1845</td>\n",
       "      <td>3.076152</td>\n",
       "      <td>0.034146</td>\n",
       "      <td>507</td>\n",
       "    </tr>\n",
       "    <tr>\n",
       "      <th>3</th>\n",
       "      <td>3</td>\n",
       "      <td>2019-08-04</td>\n",
       "      <td>1146.6</td>\n",
       "      <td>16</td>\n",
       "      <td>15</td>\n",
       "      <td>6822.1</td>\n",
       "      <td>2562</td>\n",
       "      <td>2.662802</td>\n",
       "      <td>0.030445</td>\n",
       "      <td>717</td>\n",
       "    </tr>\n",
       "    <tr>\n",
       "      <th>4</th>\n",
       "      <td>4</td>\n",
       "      <td>2019-08-05</td>\n",
       "      <td>1988.1</td>\n",
       "      <td>25</td>\n",
       "      <td>25</td>\n",
       "      <td>8810.2</td>\n",
       "      <td>3318</td>\n",
       "      <td>2.655274</td>\n",
       "      <td>0.031043</td>\n",
       "      <td>756</td>\n",
       "    </tr>\n",
       "    <tr>\n",
       "      <th>5</th>\n",
       "      <td>5</td>\n",
       "      <td>2019-08-06</td>\n",
       "      <td>789.8</td>\n",
       "      <td>18</td>\n",
       "      <td>15</td>\n",
       "      <td>9600.0</td>\n",
       "      <td>3985</td>\n",
       "      <td>2.409034</td>\n",
       "      <td>0.029611</td>\n",
       "      <td>667</td>\n",
       "    </tr>\n",
       "    <tr>\n",
       "      <th>6</th>\n",
       "      <td>6</td>\n",
       "      <td>2019-08-07</td>\n",
       "      <td>2242.9</td>\n",
       "      <td>18</td>\n",
       "      <td>18</td>\n",
       "      <td>11842.9</td>\n",
       "      <td>4629</td>\n",
       "      <td>2.558414</td>\n",
       "      <td>0.029380</td>\n",
       "      <td>644</td>\n",
       "    </tr>\n",
       "    <tr>\n",
       "      <th>7</th>\n",
       "      <td>7</td>\n",
       "      <td>2019-08-08</td>\n",
       "      <td>1530.4</td>\n",
       "      <td>16</td>\n",
       "      <td>16</td>\n",
       "      <td>13373.3</td>\n",
       "      <td>5239</td>\n",
       "      <td>2.552644</td>\n",
       "      <td>0.029013</td>\n",
       "      <td>610</td>\n",
       "    </tr>\n",
       "    <tr>\n",
       "      <th>8</th>\n",
       "      <td>8</td>\n",
       "      <td>2019-08-09</td>\n",
       "      <td>2947.1</td>\n",
       "      <td>16</td>\n",
       "      <td>14</td>\n",
       "      <td>16320.4</td>\n",
       "      <td>5856</td>\n",
       "      <td>2.786954</td>\n",
       "      <td>0.028347</td>\n",
       "      <td>617</td>\n",
       "    </tr>\n",
       "    <tr>\n",
       "      <th>9</th>\n",
       "      <td>9</td>\n",
       "      <td>2019-08-10</td>\n",
       "      <td>3288.2</td>\n",
       "      <td>16</td>\n",
       "      <td>16</td>\n",
       "      <td>19608.6</td>\n",
       "      <td>6262</td>\n",
       "      <td>3.131364</td>\n",
       "      <td>0.029064</td>\n",
       "      <td>406</td>\n",
       "    </tr>\n",
       "    <tr>\n",
       "      <th>10</th>\n",
       "      <td>10</td>\n",
       "      <td>2019-08-11</td>\n",
       "      <td>1229.7</td>\n",
       "      <td>13</td>\n",
       "      <td>13</td>\n",
       "      <td>20838.3</td>\n",
       "      <td>6980</td>\n",
       "      <td>2.985430</td>\n",
       "      <td>0.027937</td>\n",
       "      <td>718</td>\n",
       "    </tr>\n",
       "    <tr>\n",
       "      <th>11</th>\n",
       "      <td>11</td>\n",
       "      <td>2019-08-12</td>\n",
       "      <td>3910.8</td>\n",
       "      <td>24</td>\n",
       "      <td>24</td>\n",
       "      <td>24749.1</td>\n",
       "      <td>7575</td>\n",
       "      <td>3.267208</td>\n",
       "      <td>0.028911</td>\n",
       "      <td>595</td>\n",
       "    </tr>\n",
       "    <tr>\n",
       "      <th>12</th>\n",
       "      <td>12</td>\n",
       "      <td>2019-08-13</td>\n",
       "      <td>4096.9</td>\n",
       "      <td>14</td>\n",
       "      <td>14</td>\n",
       "      <td>28846.0</td>\n",
       "      <td>8323</td>\n",
       "      <td>3.465818</td>\n",
       "      <td>0.027995</td>\n",
       "      <td>748</td>\n",
       "    </tr>\n",
       "    <tr>\n",
       "      <th>13</th>\n",
       "      <td>13</td>\n",
       "      <td>2019-08-14</td>\n",
       "      <td>1064.8</td>\n",
       "      <td>24</td>\n",
       "      <td>24</td>\n",
       "      <td>29910.8</td>\n",
       "      <td>9058</td>\n",
       "      <td>3.302142</td>\n",
       "      <td>0.028373</td>\n",
       "      <td>735</td>\n",
       "    </tr>\n",
       "    <tr>\n",
       "      <th>14</th>\n",
       "      <td>14</td>\n",
       "      <td>2019-08-15</td>\n",
       "      <td>1408.2</td>\n",
       "      <td>15</td>\n",
       "      <td>15</td>\n",
       "      <td>31319.0</td>\n",
       "      <td>9686</td>\n",
       "      <td>3.233430</td>\n",
       "      <td>0.028082</td>\n",
       "      <td>628</td>\n",
       "    </tr>\n",
       "    <tr>\n",
       "      <th>15</th>\n",
       "      <td>15</td>\n",
       "      <td>2019-08-16</td>\n",
       "      <td>1599.1</td>\n",
       "      <td>18</td>\n",
       "      <td>18</td>\n",
       "      <td>32918.1</td>\n",
       "      <td>10047</td>\n",
       "      <td>3.276411</td>\n",
       "      <td>0.028864</td>\n",
       "      <td>361</td>\n",
       "    </tr>\n",
       "    <tr>\n",
       "      <th>16</th>\n",
       "      <td>16</td>\n",
       "      <td>2019-08-17</td>\n",
       "      <td>805.5</td>\n",
       "      <td>10</td>\n",
       "      <td>9</td>\n",
       "      <td>33723.6</td>\n",
       "      <td>10459</td>\n",
       "      <td>3.224362</td>\n",
       "      <td>0.028588</td>\n",
       "      <td>412</td>\n",
       "    </tr>\n",
       "    <tr>\n",
       "      <th>17</th>\n",
       "      <td>17</td>\n",
       "      <td>2019-08-18</td>\n",
       "      <td>1171.8</td>\n",
       "      <td>17</td>\n",
       "      <td>17</td>\n",
       "      <td>34895.4</td>\n",
       "      <td>11127</td>\n",
       "      <td>3.136101</td>\n",
       "      <td>0.028399</td>\n",
       "      <td>668</td>\n",
       "    </tr>\n",
       "    <tr>\n",
       "      <th>18</th>\n",
       "      <td>18</td>\n",
       "      <td>2019-08-19</td>\n",
       "      <td>2989.1</td>\n",
       "      <td>22</td>\n",
       "      <td>22</td>\n",
       "      <td>37884.5</td>\n",
       "      <td>11629</td>\n",
       "      <td>3.257761</td>\n",
       "      <td>0.029065</td>\n",
       "      <td>502</td>\n",
       "    </tr>\n",
       "    <tr>\n",
       "      <th>19</th>\n",
       "      <td>19</td>\n",
       "      <td>2019-08-20</td>\n",
       "      <td>1232.3</td>\n",
       "      <td>12</td>\n",
       "      <td>12</td>\n",
       "      <td>39116.8</td>\n",
       "      <td>12204</td>\n",
       "      <td>3.205244</td>\n",
       "      <td>0.028679</td>\n",
       "      <td>575</td>\n",
       "    </tr>\n",
       "    <tr>\n",
       "      <th>20</th>\n",
       "      <td>20</td>\n",
       "      <td>2019-08-21</td>\n",
       "      <td>2755.5</td>\n",
       "      <td>23</td>\n",
       "      <td>22</td>\n",
       "      <td>41872.3</td>\n",
       "      <td>12850</td>\n",
       "      <td>3.258545</td>\n",
       "      <td>0.028949</td>\n",
       "      <td>646</td>\n",
       "    </tr>\n",
       "    <tr>\n",
       "      <th>21</th>\n",
       "      <td>21</td>\n",
       "      <td>2019-08-22</td>\n",
       "      <td>1783.3</td>\n",
       "      <td>16</td>\n",
       "      <td>16</td>\n",
       "      <td>43655.6</td>\n",
       "      <td>13459</td>\n",
       "      <td>3.243599</td>\n",
       "      <td>0.028828</td>\n",
       "      <td>609</td>\n",
       "    </tr>\n",
       "    <tr>\n",
       "      <th>22</th>\n",
       "      <td>22</td>\n",
       "      <td>2019-08-23</td>\n",
       "      <td>1888.0</td>\n",
       "      <td>25</td>\n",
       "      <td>25</td>\n",
       "      <td>45543.6</td>\n",
       "      <td>13927</td>\n",
       "      <td>3.270166</td>\n",
       "      <td>0.029655</td>\n",
       "      <td>468</td>\n",
       "    </tr>\n",
       "    <tr>\n",
       "      <th>23</th>\n",
       "      <td>23</td>\n",
       "      <td>2019-08-24</td>\n",
       "      <td>2002.7</td>\n",
       "      <td>15</td>\n",
       "      <td>15</td>\n",
       "      <td>47546.3</td>\n",
       "      <td>14322</td>\n",
       "      <td>3.319809</td>\n",
       "      <td>0.029884</td>\n",
       "      <td>395</td>\n",
       "    </tr>\n",
       "    <tr>\n",
       "      <th>24</th>\n",
       "      <td>24</td>\n",
       "      <td>2019-08-25</td>\n",
       "      <td>1078.9</td>\n",
       "      <td>10</td>\n",
       "      <td>10</td>\n",
       "      <td>48625.2</td>\n",
       "      <td>14943</td>\n",
       "      <td>3.254045</td>\n",
       "      <td>0.029311</td>\n",
       "      <td>621</td>\n",
       "    </tr>\n",
       "    <tr>\n",
       "      <th>25</th>\n",
       "      <td>25</td>\n",
       "      <td>2019-08-26</td>\n",
       "      <td>2464.8</td>\n",
       "      <td>16</td>\n",
       "      <td>16</td>\n",
       "      <td>51090.0</td>\n",
       "      <td>15665</td>\n",
       "      <td>3.261411</td>\n",
       "      <td>0.028982</td>\n",
       "      <td>722</td>\n",
       "    </tr>\n",
       "    <tr>\n",
       "      <th>26</th>\n",
       "      <td>26</td>\n",
       "      <td>2019-08-27</td>\n",
       "      <td>4511.1</td>\n",
       "      <td>28</td>\n",
       "      <td>28</td>\n",
       "      <td>55601.1</td>\n",
       "      <td>16376</td>\n",
       "      <td>3.395280</td>\n",
       "      <td>0.029433</td>\n",
       "      <td>711</td>\n",
       "    </tr>\n",
       "    <tr>\n",
       "      <th>27</th>\n",
       "      <td>27</td>\n",
       "      <td>2019-08-28</td>\n",
       "      <td>1602.6</td>\n",
       "      <td>17</td>\n",
       "      <td>17</td>\n",
       "      <td>57203.7</td>\n",
       "      <td>16970</td>\n",
       "      <td>3.370872</td>\n",
       "      <td>0.029405</td>\n",
       "      <td>594</td>\n",
       "    </tr>\n",
       "    <tr>\n",
       "      <th>28</th>\n",
       "      <td>28</td>\n",
       "      <td>2019-08-29</td>\n",
       "      <td>4995.5</td>\n",
       "      <td>22</td>\n",
       "      <td>22</td>\n",
       "      <td>62199.2</td>\n",
       "      <td>17547</td>\n",
       "      <td>3.544720</td>\n",
       "      <td>0.029692</td>\n",
       "      <td>577</td>\n",
       "    </tr>\n",
       "    <tr>\n",
       "      <th>29</th>\n",
       "      <td>29</td>\n",
       "      <td>2019-08-30</td>\n",
       "      <td>1364.3</td>\n",
       "      <td>11</td>\n",
       "      <td>10</td>\n",
       "      <td>63563.5</td>\n",
       "      <td>18037</td>\n",
       "      <td>3.524062</td>\n",
       "      <td>0.029439</td>\n",
       "      <td>490</td>\n",
       "    </tr>\n",
       "    <tr>\n",
       "      <th>30</th>\n",
       "      <td>30</td>\n",
       "      <td>2019-08-31</td>\n",
       "      <td>991.4</td>\n",
       "      <td>12</td>\n",
       "      <td>12</td>\n",
       "      <td>64554.9</td>\n",
       "      <td>18736</td>\n",
       "      <td>3.445501</td>\n",
       "      <td>0.028982</td>\n",
       "      <td>699</td>\n",
       "    </tr>\n",
       "  </tbody>\n",
       "</table>\n",
       "</div>"
      ],
      "text/plain": [
       "    index       date  revenue  transactionId  visitorId   cumrev  cumpur  \\\n",
       "0   0     2019-08-01  2356.8   24             20         2356.8   719      \n",
       "1   1     2019-08-02  1503.5   20             19         3860.3   1338     \n",
       "2   2     2019-08-03  1815.2   24             24         5675.5   1845     \n",
       "3   3     2019-08-04  1146.6   16             15         6822.1   2562     \n",
       "4   4     2019-08-05  1988.1   25             25         8810.2   3318     \n",
       "5   5     2019-08-06  789.8    18             15         9600.0   3985     \n",
       "6   6     2019-08-07  2242.9   18             18         11842.9  4629     \n",
       "7   7     2019-08-08  1530.4   16             16         13373.3  5239     \n",
       "8   8     2019-08-09  2947.1   16             14         16320.4  5856     \n",
       "9   9     2019-08-10  3288.2   16             16         19608.6  6262     \n",
       "10  10    2019-08-11  1229.7   13             13         20838.3  6980     \n",
       "11  11    2019-08-12  3910.8   24             24         24749.1  7575     \n",
       "12  12    2019-08-13  4096.9   14             14         28846.0  8323     \n",
       "13  13    2019-08-14  1064.8   24             24         29910.8  9058     \n",
       "14  14    2019-08-15  1408.2   15             15         31319.0  9686     \n",
       "15  15    2019-08-16  1599.1   18             18         32918.1  10047    \n",
       "16  16    2019-08-17  805.5    10             9          33723.6  10459    \n",
       "17  17    2019-08-18  1171.8   17             17         34895.4  11127    \n",
       "18  18    2019-08-19  2989.1   22             22         37884.5  11629    \n",
       "19  19    2019-08-20  1232.3   12             12         39116.8  12204    \n",
       "20  20    2019-08-21  2755.5   23             22         41872.3  12850    \n",
       "21  21    2019-08-22  1783.3   16             16         43655.6  13459    \n",
       "22  22    2019-08-23  1888.0   25             25         45543.6  13927    \n",
       "23  23    2019-08-24  2002.7   15             15         47546.3  14322    \n",
       "24  24    2019-08-25  1078.9   10             10         48625.2  14943    \n",
       "25  25    2019-08-26  2464.8   16             16         51090.0  15665    \n",
       "26  26    2019-08-27  4511.1   28             28         55601.1  16376    \n",
       "27  27    2019-08-28  1602.6   17             17         57203.7  16970    \n",
       "28  28    2019-08-29  4995.5   22             22         62199.2  17547    \n",
       "29  29    2019-08-30  1364.3   11             10         63563.5  18037    \n",
       "30  30    2019-08-31  991.4    12             12         64554.9  18736    \n",
       "\n",
       "      cumavg       cov  visits  \n",
       "0   3.277886  0.027816  719     \n",
       "1   2.885127  0.029148  619     \n",
       "2   3.076152  0.034146  507     \n",
       "3   2.662802  0.030445  717     \n",
       "4   2.655274  0.031043  756     \n",
       "5   2.409034  0.029611  667     \n",
       "6   2.558414  0.029380  644     \n",
       "7   2.552644  0.029013  610     \n",
       "8   2.786954  0.028347  617     \n",
       "9   3.131364  0.029064  406     \n",
       "10  2.985430  0.027937  718     \n",
       "11  3.267208  0.028911  595     \n",
       "12  3.465818  0.027995  748     \n",
       "13  3.302142  0.028373  735     \n",
       "14  3.233430  0.028082  628     \n",
       "15  3.276411  0.028864  361     \n",
       "16  3.224362  0.028588  412     \n",
       "17  3.136101  0.028399  668     \n",
       "18  3.257761  0.029065  502     \n",
       "19  3.205244  0.028679  575     \n",
       "20  3.258545  0.028949  646     \n",
       "21  3.243599  0.028828  609     \n",
       "22  3.270166  0.029655  468     \n",
       "23  3.319809  0.029884  395     \n",
       "24  3.254045  0.029311  621     \n",
       "25  3.261411  0.028982  722     \n",
       "26  3.395280  0.029433  711     \n",
       "27  3.370872  0.029405  594     \n",
       "28  3.544720  0.029692  577     \n",
       "29  3.524062  0.029439  490     \n",
       "30  3.445501  0.028982  699     "
      ]
     },
     "execution_count": 33,
     "metadata": {},
     "output_type": "execute_result"
    }
   ],
   "source": [
    "ordersA.reset_index()"
   ]
  },
  {
   "cell_type": "code",
   "execution_count": 34,
   "metadata": {},
   "outputs": [
    {
     "name": "stdout",
     "output_type": "stream",
     "text": [
      "         date  revenue  transactionId  visitorId   cumrev  cumpur    cumavg  \\\n",
      "4  2019-08-05  1988.1   25             25         8810.2   3318    2.655274   \n",
      "12 2019-08-13  4096.9   14             14         28846.0  8323    3.465818   \n",
      "13 2019-08-14  1064.8   24             24         29910.8  9058    3.302142   \n",
      "25 2019-08-26  2464.8   16             16         51090.0  15665   3.261411   \n",
      "0  2019-08-01  2356.8   24             20         2356.8   719     3.277886   \n",
      "10 2019-08-11  1229.7   13             13         20838.3  6980    2.985430   \n",
      "3  2019-08-04  1146.6   16             15         6822.1   2562    2.662802   \n",
      "26 2019-08-27  4511.1   28             28         55601.1  16376   3.395280   \n",
      "30 2019-08-31  991.4    12             12         64554.9  18736   3.445501   \n",
      "17 2019-08-18  1171.8   17             17         34895.4  11127   3.136101   \n",
      "\n",
      "         cov  visits  \n",
      "4   0.031043  756     \n",
      "12  0.027995  748     \n",
      "13  0.028373  735     \n",
      "25  0.028982  722     \n",
      "0   0.027816  719     \n",
      "10  0.027937  718     \n",
      "3   0.030445  717     \n",
      "26  0.029433  711     \n",
      "30  0.028982  699     \n",
      "17  0.028399  668     \n"
     ]
    }
   ],
   "source": [
    "print(ordersA.sort_values(by='visits', ascending=False).head(10))"
   ]
  },
  {
   "cell_type": "code",
   "execution_count": 35,
   "metadata": {},
   "outputs": [
    {
     "data": {
      "image/png": "[encoded data removed]",
      "text/plain": [
       "<Figure size 288x144 with 1 Axes>"
      ]
     },
     "metadata": {
      "needs_background": "light"
     },
     "output_type": "display_data"
    }
   ],
   "source": [
    "plt.rcParams[\"figure.figsize\"] = (4, 2)\n",
    "x_values = pd.Series(range(0,len(ordersA['revenue'])))\n",
    "plt.scatter(x_values, ordersA['revenue']) \n",
    "plt.suptitle('Orders Per User')\n",
    "plt.ylabel('Orders')\n",
    "plt.xlabel('People')\n",
    "plt.show()"
   ]
  },
  {
   "cell_type": "markdown",
   "metadata": {},
   "source": [
    "I would say that most people bought around ~11 items in this group."
   ]
  },
  {
   "cell_type": "code",
   "execution_count": 36,
   "metadata": {},
   "outputs": [],
   "source": [
    "ordersB['visits'] = visitsB['visits']"
   ]
  },
  {
   "cell_type": "code",
   "execution_count": 37,
   "metadata": {},
   "outputs": [
    {
     "data": {
      "text/html": [
       "<div>\n",
       "<style scoped>\n",
       "    .dataframe tbody tr th:only-of-type {\n",
       "        vertical-align: middle;\n",
       "    }\n",
       "\n",
       "    .dataframe tbody tr th {\n",
       "        vertical-align: top;\n",
       "    }\n",
       "\n",
       "    .dataframe thead th {\n",
       "        text-align: right;\n",
       "    }\n",
       "</style>\n",
       "<table border=\"1\" class=\"dataframe\">\n",
       "  <thead>\n",
       "    <tr style=\"text-align: right;\">\n",
       "      <th></th>\n",
       "      <th>index</th>\n",
       "      <th>date</th>\n",
       "      <th>revenue</th>\n",
       "      <th>transactionId</th>\n",
       "      <th>visitorId</th>\n",
       "      <th>cumrev</th>\n",
       "      <th>cumpur</th>\n",
       "      <th>cumavg</th>\n",
       "      <th>cov</th>\n",
       "      <th>visits</th>\n",
       "    </tr>\n",
       "  </thead>\n",
       "  <tbody>\n",
       "    <tr>\n",
       "      <th>0</th>\n",
       "      <td>0</td>\n",
       "      <td>2019-08-01</td>\n",
       "      <td>1620.0</td>\n",
       "      <td>21</td>\n",
       "      <td>20</td>\n",
       "      <td>1620.0</td>\n",
       "      <td>713</td>\n",
       "      <td>2.272090</td>\n",
       "      <td>0.028050</td>\n",
       "      <td>713</td>\n",
       "    </tr>\n",
       "    <tr>\n",
       "      <th>1</th>\n",
       "      <td>1</td>\n",
       "      <td>2019-08-02</td>\n",
       "      <td>2623.8</td>\n",
       "      <td>24</td>\n",
       "      <td>23</td>\n",
       "      <td>4243.8</td>\n",
       "      <td>1294</td>\n",
       "      <td>3.279598</td>\n",
       "      <td>0.033230</td>\n",
       "      <td>581</td>\n",
       "    </tr>\n",
       "    <tr>\n",
       "      <th>2</th>\n",
       "      <td>2</td>\n",
       "      <td>2019-08-03</td>\n",
       "      <td>1806.8</td>\n",
       "      <td>16</td>\n",
       "      <td>16</td>\n",
       "      <td>6050.6</td>\n",
       "      <td>1803</td>\n",
       "      <td>3.355851</td>\n",
       "      <td>0.032723</td>\n",
       "      <td>509</td>\n",
       "    </tr>\n",
       "    <tr>\n",
       "      <th>3</th>\n",
       "      <td>3</td>\n",
       "      <td>2019-08-04</td>\n",
       "      <td>1717.3</td>\n",
       "      <td>17</td>\n",
       "      <td>16</td>\n",
       "      <td>7767.9</td>\n",
       "      <td>2573</td>\n",
       "      <td>3.019005</td>\n",
       "      <td>0.029149</td>\n",
       "      <td>770</td>\n",
       "    </tr>\n",
       "    <tr>\n",
       "      <th>4</th>\n",
       "      <td>4</td>\n",
       "      <td>2019-08-05</td>\n",
       "      <td>1495.0</td>\n",
       "      <td>23</td>\n",
       "      <td>23</td>\n",
       "      <td>9262.9</td>\n",
       "      <td>3280</td>\n",
       "      <td>2.824055</td>\n",
       "      <td>0.029878</td>\n",
       "      <td>707</td>\n",
       "    </tr>\n",
       "    <tr>\n",
       "      <th>5</th>\n",
       "      <td>5</td>\n",
       "      <td>2019-08-06</td>\n",
       "      <td>3806.4</td>\n",
       "      <td>28</td>\n",
       "      <td>26</td>\n",
       "      <td>13069.3</td>\n",
       "      <td>3935</td>\n",
       "      <td>3.321296</td>\n",
       "      <td>0.031512</td>\n",
       "      <td>655</td>\n",
       "    </tr>\n",
       "    <tr>\n",
       "      <th>6</th>\n",
       "      <td>6</td>\n",
       "      <td>2019-08-07</td>\n",
       "      <td>3531.5</td>\n",
       "      <td>24</td>\n",
       "      <td>24</td>\n",
       "      <td>16600.8</td>\n",
       "      <td>4644</td>\n",
       "      <td>3.574677</td>\n",
       "      <td>0.031869</td>\n",
       "      <td>709</td>\n",
       "    </tr>\n",
       "    <tr>\n",
       "      <th>7</th>\n",
       "      <td>7</td>\n",
       "      <td>2019-08-08</td>\n",
       "      <td>3487.8</td>\n",
       "      <td>27</td>\n",
       "      <td>27</td>\n",
       "      <td>20088.6</td>\n",
       "      <td>5298</td>\n",
       "      <td>3.791733</td>\n",
       "      <td>0.033031</td>\n",
       "      <td>654</td>\n",
       "    </tr>\n",
       "    <tr>\n",
       "      <th>8</th>\n",
       "      <td>8</td>\n",
       "      <td>2019-08-09</td>\n",
       "      <td>2558.1</td>\n",
       "      <td>25</td>\n",
       "      <td>24</td>\n",
       "      <td>22646.7</td>\n",
       "      <td>5908</td>\n",
       "      <td>3.833226</td>\n",
       "      <td>0.033683</td>\n",
       "      <td>610</td>\n",
       "    </tr>\n",
       "    <tr>\n",
       "      <th>9</th>\n",
       "      <td>9</td>\n",
       "      <td>2019-08-10</td>\n",
       "      <td>1720.4</td>\n",
       "      <td>23</td>\n",
       "      <td>23</td>\n",
       "      <td>24367.1</td>\n",
       "      <td>6277</td>\n",
       "      <td>3.881966</td>\n",
       "      <td>0.035367</td>\n",
       "      <td>369</td>\n",
       "    </tr>\n",
       "    <tr>\n",
       "      <th>10</th>\n",
       "      <td>10</td>\n",
       "      <td>2019-08-11</td>\n",
       "      <td>861.2</td>\n",
       "      <td>13</td>\n",
       "      <td>13</td>\n",
       "      <td>25228.3</td>\n",
       "      <td>6998</td>\n",
       "      <td>3.605073</td>\n",
       "      <td>0.033581</td>\n",
       "      <td>721</td>\n",
       "    </tr>\n",
       "    <tr>\n",
       "      <th>11</th>\n",
       "      <td>11</td>\n",
       "      <td>2019-08-12</td>\n",
       "      <td>2245.7</td>\n",
       "      <td>23</td>\n",
       "      <td>22</td>\n",
       "      <td>27474.0</td>\n",
       "      <td>7541</td>\n",
       "      <td>3.643283</td>\n",
       "      <td>0.034080</td>\n",
       "      <td>543</td>\n",
       "    </tr>\n",
       "    <tr>\n",
       "      <th>12</th>\n",
       "      <td>12</td>\n",
       "      <td>2019-08-13</td>\n",
       "      <td>1910.0</td>\n",
       "      <td>21</td>\n",
       "      <td>21</td>\n",
       "      <td>29384.0</td>\n",
       "      <td>8310</td>\n",
       "      <td>3.535981</td>\n",
       "      <td>0.033454</td>\n",
       "      <td>769</td>\n",
       "    </tr>\n",
       "    <tr>\n",
       "      <th>13</th>\n",
       "      <td>13</td>\n",
       "      <td>2019-08-14</td>\n",
       "      <td>2711.7</td>\n",
       "      <td>23</td>\n",
       "      <td>22</td>\n",
       "      <td>32095.7</td>\n",
       "      <td>9056</td>\n",
       "      <td>3.544136</td>\n",
       "      <td>0.033127</td>\n",
       "      <td>746</td>\n",
       "    </tr>\n",
       "    <tr>\n",
       "      <th>14</th>\n",
       "      <td>14</td>\n",
       "      <td>2019-08-15</td>\n",
       "      <td>5361.9</td>\n",
       "      <td>31</td>\n",
       "      <td>31</td>\n",
       "      <td>37457.6</td>\n",
       "      <td>9600</td>\n",
       "      <td>3.901833</td>\n",
       "      <td>0.034479</td>\n",
       "      <td>544</td>\n",
       "    </tr>\n",
       "    <tr>\n",
       "      <th>15</th>\n",
       "      <td>15</td>\n",
       "      <td>2019-08-16</td>\n",
       "      <td>2697.7</td>\n",
       "      <td>20</td>\n",
       "      <td>20</td>\n",
       "      <td>40155.3</td>\n",
       "      <td>10013</td>\n",
       "      <td>4.010317</td>\n",
       "      <td>0.035054</td>\n",
       "      <td>413</td>\n",
       "    </tr>\n",
       "    <tr>\n",
       "      <th>16</th>\n",
       "      <td>16</td>\n",
       "      <td>2019-08-17</td>\n",
       "      <td>1281.5</td>\n",
       "      <td>14</td>\n",
       "      <td>14</td>\n",
       "      <td>41436.8</td>\n",
       "      <td>10434</td>\n",
       "      <td>3.971325</td>\n",
       "      <td>0.034982</td>\n",
       "      <td>421</td>\n",
       "    </tr>\n",
       "    <tr>\n",
       "      <th>17</th>\n",
       "      <td>17</td>\n",
       "      <td>2019-08-18</td>\n",
       "      <td>1044.9</td>\n",
       "      <td>9</td>\n",
       "      <td>9</td>\n",
       "      <td>42481.7</td>\n",
       "      <td>11171</td>\n",
       "      <td>3.802856</td>\n",
       "      <td>0.033480</td>\n",
       "      <td>737</td>\n",
       "    </tr>\n",
       "    <tr>\n",
       "      <th>18</th>\n",
       "      <td>18</td>\n",
       "      <td>2019-08-19</td>\n",
       "      <td>22064.9</td>\n",
       "      <td>21</td>\n",
       "      <td>20</td>\n",
       "      <td>64546.6</td>\n",
       "      <td>11658</td>\n",
       "      <td>5.536679</td>\n",
       "      <td>0.033797</td>\n",
       "      <td>487</td>\n",
       "    </tr>\n",
       "    <tr>\n",
       "      <th>19</th>\n",
       "      <td>19</td>\n",
       "      <td>2019-08-20</td>\n",
       "      <td>2324.6</td>\n",
       "      <td>20</td>\n",
       "      <td>20</td>\n",
       "      <td>66871.2</td>\n",
       "      <td>12218</td>\n",
       "      <td>5.473171</td>\n",
       "      <td>0.033884</td>\n",
       "      <td>560</td>\n",
       "    </tr>\n",
       "    <tr>\n",
       "      <th>20</th>\n",
       "      <td>20</td>\n",
       "      <td>2019-08-21</td>\n",
       "      <td>2555.9</td>\n",
       "      <td>14</td>\n",
       "      <td>14</td>\n",
       "      <td>69427.1</td>\n",
       "      <td>12874</td>\n",
       "      <td>5.392815</td>\n",
       "      <td>0.033245</td>\n",
       "      <td>656</td>\n",
       "    </tr>\n",
       "    <tr>\n",
       "      <th>21</th>\n",
       "      <td>21</td>\n",
       "      <td>2019-08-22</td>\n",
       "      <td>2560.8</td>\n",
       "      <td>25</td>\n",
       "      <td>24</td>\n",
       "      <td>71987.9</td>\n",
       "      <td>13524</td>\n",
       "      <td>5.322974</td>\n",
       "      <td>0.033422</td>\n",
       "      <td>650</td>\n",
       "    </tr>\n",
       "    <tr>\n",
       "      <th>22</th>\n",
       "      <td>22</td>\n",
       "      <td>2019-08-23</td>\n",
       "      <td>1799.5</td>\n",
       "      <td>15</td>\n",
       "      <td>15</td>\n",
       "      <td>73787.4</td>\n",
       "      <td>14070</td>\n",
       "      <td>5.244307</td>\n",
       "      <td>0.033191</td>\n",
       "      <td>546</td>\n",
       "    </tr>\n",
       "    <tr>\n",
       "      <th>23</th>\n",
       "      <td>23</td>\n",
       "      <td>2019-08-24</td>\n",
       "      <td>1527.2</td>\n",
       "      <td>16</td>\n",
       "      <td>16</td>\n",
       "      <td>75314.6</td>\n",
       "      <td>14448</td>\n",
       "      <td>5.212805</td>\n",
       "      <td>0.033430</td>\n",
       "      <td>378</td>\n",
       "    </tr>\n",
       "    <tr>\n",
       "      <th>24</th>\n",
       "      <td>24</td>\n",
       "      <td>2019-08-25</td>\n",
       "      <td>1626.5</td>\n",
       "      <td>14</td>\n",
       "      <td>14</td>\n",
       "      <td>76941.1</td>\n",
       "      <td>15127</td>\n",
       "      <td>5.086342</td>\n",
       "      <td>0.032855</td>\n",
       "      <td>679</td>\n",
       "    </tr>\n",
       "    <tr>\n",
       "      <th>25</th>\n",
       "      <td>25</td>\n",
       "      <td>2019-08-26</td>\n",
       "      <td>2900.4</td>\n",
       "      <td>25</td>\n",
       "      <td>24</td>\n",
       "      <td>79841.5</td>\n",
       "      <td>15803</td>\n",
       "      <td>5.052300</td>\n",
       "      <td>0.032968</td>\n",
       "      <td>676</td>\n",
       "    </tr>\n",
       "    <tr>\n",
       "      <th>26</th>\n",
       "      <td>26</td>\n",
       "      <td>2019-08-27</td>\n",
       "      <td>2319.8</td>\n",
       "      <td>16</td>\n",
       "      <td>16</td>\n",
       "      <td>82161.3</td>\n",
       "      <td>16523</td>\n",
       "      <td>4.972541</td>\n",
       "      <td>0.032500</td>\n",
       "      <td>720</td>\n",
       "    </tr>\n",
       "    <tr>\n",
       "      <th>27</th>\n",
       "      <td>27</td>\n",
       "      <td>2019-08-28</td>\n",
       "      <td>1558.0</td>\n",
       "      <td>28</td>\n",
       "      <td>27</td>\n",
       "      <td>83719.3</td>\n",
       "      <td>17177</td>\n",
       "      <td>4.873919</td>\n",
       "      <td>0.032835</td>\n",
       "      <td>654</td>\n",
       "    </tr>\n",
       "    <tr>\n",
       "      <th>28</th>\n",
       "      <td>28</td>\n",
       "      <td>2019-08-29</td>\n",
       "      <td>3623.7</td>\n",
       "      <td>20</td>\n",
       "      <td>20</td>\n",
       "      <td>87343.0</td>\n",
       "      <td>17708</td>\n",
       "      <td>4.932403</td>\n",
       "      <td>0.032979</td>\n",
       "      <td>531</td>\n",
       "    </tr>\n",
       "    <tr>\n",
       "      <th>29</th>\n",
       "      <td>29</td>\n",
       "      <td>2019-08-30</td>\n",
       "      <td>3393.3</td>\n",
       "      <td>24</td>\n",
       "      <td>24</td>\n",
       "      <td>90736.3</td>\n",
       "      <td>18198</td>\n",
       "      <td>4.986059</td>\n",
       "      <td>0.033410</td>\n",
       "      <td>490</td>\n",
       "    </tr>\n",
       "    <tr>\n",
       "      <th>30</th>\n",
       "      <td>30</td>\n",
       "      <td>2019-08-31</td>\n",
       "      <td>2104.3</td>\n",
       "      <td>20</td>\n",
       "      <td>20</td>\n",
       "      <td>92840.6</td>\n",
       "      <td>18916</td>\n",
       "      <td>4.908046</td>\n",
       "      <td>0.033199</td>\n",
       "      <td>718</td>\n",
       "    </tr>\n",
       "  </tbody>\n",
       "</table>\n",
       "</div>"
      ],
      "text/plain": [
       "    index       date  revenue  transactionId  visitorId   cumrev  cumpur  \\\n",
       "0   0     2019-08-01  1620.0   21             20         1620.0   713      \n",
       "1   1     2019-08-02  2623.8   24             23         4243.8   1294     \n",
       "2   2     2019-08-03  1806.8   16             16         6050.6   1803     \n",
       "3   3     2019-08-04  1717.3   17             16         7767.9   2573     \n",
       "4   4     2019-08-05  1495.0   23             23         9262.9   3280     \n",
       "5   5     2019-08-06  3806.4   28             26         13069.3  3935     \n",
       "6   6     2019-08-07  3531.5   24             24         16600.8  4644     \n",
       "7   7     2019-08-08  3487.8   27             27         20088.6  5298     \n",
       "8   8     2019-08-09  2558.1   25             24         22646.7  5908     \n",
       "9   9     2019-08-10  1720.4   23             23         24367.1  6277     \n",
       "10  10    2019-08-11  861.2    13             13         25228.3  6998     \n",
       "11  11    2019-08-12  2245.7   23             22         27474.0  7541     \n",
       "12  12    2019-08-13  1910.0   21             21         29384.0  8310     \n",
       "13  13    2019-08-14  2711.7   23             22         32095.7  9056     \n",
       "14  14    2019-08-15  5361.9   31             31         37457.6  9600     \n",
       "15  15    2019-08-16  2697.7   20             20         40155.3  10013    \n",
       "16  16    2019-08-17  1281.5   14             14         41436.8  10434    \n",
       "17  17    2019-08-18  1044.9   9              9          42481.7  11171    \n",
       "18  18    2019-08-19  22064.9  21             20         64546.6  11658    \n",
       "19  19    2019-08-20  2324.6   20             20         66871.2  12218    \n",
       "20  20    2019-08-21  2555.9   14             14         69427.1  12874    \n",
       "21  21    2019-08-22  2560.8   25             24         71987.9  13524    \n",
       "22  22    2019-08-23  1799.5   15             15         73787.4  14070    \n",
       "23  23    2019-08-24  1527.2   16             16         75314.6  14448    \n",
       "24  24    2019-08-25  1626.5   14             14         76941.1  15127    \n",
       "25  25    2019-08-26  2900.4   25             24         79841.5  15803    \n",
       "26  26    2019-08-27  2319.8   16             16         82161.3  16523    \n",
       "27  27    2019-08-28  1558.0   28             27         83719.3  17177    \n",
       "28  28    2019-08-29  3623.7   20             20         87343.0  17708    \n",
       "29  29    2019-08-30  3393.3   24             24         90736.3  18198    \n",
       "30  30    2019-08-31  2104.3   20             20         92840.6  18916    \n",
       "\n",
       "      cumavg       cov  visits  \n",
       "0   2.272090  0.028050  713     \n",
       "1   3.279598  0.033230  581     \n",
       "2   3.355851  0.032723  509     \n",
       "3   3.019005  0.029149  770     \n",
       "4   2.824055  0.029878  707     \n",
       "5   3.321296  0.031512  655     \n",
       "6   3.574677  0.031869  709     \n",
       "7   3.791733  0.033031  654     \n",
       "8   3.833226  0.033683  610     \n",
       "9   3.881966  0.035367  369     \n",
       "10  3.605073  0.033581  721     \n",
       "11  3.643283  0.034080  543     \n",
       "12  3.535981  0.033454  769     \n",
       "13  3.544136  0.033127  746     \n",
       "14  3.901833  0.034479  544     \n",
       "15  4.010317  0.035054  413     \n",
       "16  3.971325  0.034982  421     \n",
       "17  3.802856  0.033480  737     \n",
       "18  5.536679  0.033797  487     \n",
       "19  5.473171  0.033884  560     \n",
       "20  5.392815  0.033245  656     \n",
       "21  5.322974  0.033422  650     \n",
       "22  5.244307  0.033191  546     \n",
       "23  5.212805  0.033430  378     \n",
       "24  5.086342  0.032855  679     \n",
       "25  5.052300  0.032968  676     \n",
       "26  4.972541  0.032500  720     \n",
       "27  4.873919  0.032835  654     \n",
       "28  4.932403  0.032979  531     \n",
       "29  4.986059  0.033410  490     \n",
       "30  4.908046  0.033199  718     "
      ]
     },
     "execution_count": 37,
     "metadata": {},
     "output_type": "execute_result"
    }
   ],
   "source": [
    "ordersB.reset_index()"
   ]
  },
  {
   "cell_type": "code",
   "execution_count": 38,
   "metadata": {},
   "outputs": [
    {
     "data": {
      "image/png": "[encoded data removed]",
      "text/plain": [
       "<Figure size 288x144 with 1 Axes>"
      ]
     },
     "metadata": {
      "needs_background": "light"
     },
     "output_type": "display_data"
    }
   ],
   "source": [
    "plt.rcParams[\"figure.figsize\"] = (4, 2)\n",
    "x_values = pd.Series(range(0,len(ordersB['revenue'])))\n",
    "plt.scatter(x_values, ordersB['revenue']) \n",
    "plt.suptitle('Orders Per User')\n",
    "plt.ylabel('People')\n",
    "plt.xlabel('Orders')\n",
    "plt.show()"
   ]
  },
  {
   "cell_type": "markdown",
   "metadata": {},
   "source": [
    "In this group we can see that it is divided into 2 group of shoppers the first with 14 items a an average and the other with around ~16 items(outlier), more than group A as a whole."
   ]
  },
  {
   "cell_type": "code",
   "execution_count": 39,
   "metadata": {},
   "outputs": [
    {
     "data": {
      "text/plain": [
       "array([3910.8 , 4850.18])"
      ]
     },
     "execution_count": 39,
     "metadata": {},
     "output_type": "execute_result"
    }
   ],
   "source": [
    "np.percentile(ordersA['revenue'], [90, 99])"
   ]
  },
  {
   "cell_type": "code",
   "execution_count": 40,
   "metadata": {},
   "outputs": [
    {
     "data": {
      "text/plain": [
       "array([ 3623.7, 17054. ])"
      ]
     },
     "execution_count": 40,
     "metadata": {},
     "output_type": "execute_result"
    }
   ],
   "source": [
    "np.percentile(ordersB['revenue'], [90, 99])"
   ]
  },
  {
   "cell_type": "markdown",
   "metadata": {},
   "source": [
    "Group B have in the +90 percentage Group A does not show a huge leap forward in terms of items bought."
   ]
  },
  {
   "cell_type": "code",
   "execution_count": 41,
   "metadata": {},
   "outputs": [
    {
     "data": {
      "text/html": [
       "<div>\n",
       "<style scoped>\n",
       "    .dataframe tbody tr th:only-of-type {\n",
       "        vertical-align: middle;\n",
       "    }\n",
       "\n",
       "    .dataframe tbody tr th {\n",
       "        vertical-align: top;\n",
       "    }\n",
       "\n",
       "    .dataframe thead th {\n",
       "        text-align: right;\n",
       "    }\n",
       "</style>\n",
       "<table border=\"1\" class=\"dataframe\">\n",
       "  <thead>\n",
       "    <tr style=\"text-align: right;\">\n",
       "      <th></th>\n",
       "      <th>date</th>\n",
       "      <th>revenue</th>\n",
       "      <th>transactionId</th>\n",
       "      <th>visitorId</th>\n",
       "      <th>cumrev</th>\n",
       "      <th>cumpur</th>\n",
       "      <th>cumavg</th>\n",
       "      <th>cov</th>\n",
       "      <th>visits</th>\n",
       "    </tr>\n",
       "  </thead>\n",
       "  <tbody>\n",
       "    <tr>\n",
       "      <th>0</th>\n",
       "      <td>2019-08-01</td>\n",
       "      <td>1620.0</td>\n",
       "      <td>21</td>\n",
       "      <td>20</td>\n",
       "      <td>1620.0</td>\n",
       "      <td>713</td>\n",
       "      <td>2.272090</td>\n",
       "      <td>0.028050</td>\n",
       "      <td>713</td>\n",
       "    </tr>\n",
       "    <tr>\n",
       "      <th>1</th>\n",
       "      <td>2019-08-02</td>\n",
       "      <td>2623.8</td>\n",
       "      <td>24</td>\n",
       "      <td>23</td>\n",
       "      <td>4243.8</td>\n",
       "      <td>1294</td>\n",
       "      <td>3.279598</td>\n",
       "      <td>0.033230</td>\n",
       "      <td>581</td>\n",
       "    </tr>\n",
       "    <tr>\n",
       "      <th>2</th>\n",
       "      <td>2019-08-03</td>\n",
       "      <td>1806.8</td>\n",
       "      <td>16</td>\n",
       "      <td>16</td>\n",
       "      <td>6050.6</td>\n",
       "      <td>1803</td>\n",
       "      <td>3.355851</td>\n",
       "      <td>0.032723</td>\n",
       "      <td>509</td>\n",
       "    </tr>\n",
       "    <tr>\n",
       "      <th>3</th>\n",
       "      <td>2019-08-04</td>\n",
       "      <td>1717.3</td>\n",
       "      <td>17</td>\n",
       "      <td>16</td>\n",
       "      <td>7767.9</td>\n",
       "      <td>2573</td>\n",
       "      <td>3.019005</td>\n",
       "      <td>0.029149</td>\n",
       "      <td>770</td>\n",
       "    </tr>\n",
       "    <tr>\n",
       "      <th>4</th>\n",
       "      <td>2019-08-05</td>\n",
       "      <td>1495.0</td>\n",
       "      <td>23</td>\n",
       "      <td>23</td>\n",
       "      <td>9262.9</td>\n",
       "      <td>3280</td>\n",
       "      <td>2.824055</td>\n",
       "      <td>0.029878</td>\n",
       "      <td>707</td>\n",
       "    </tr>\n",
       "    <tr>\n",
       "      <th>5</th>\n",
       "      <td>2019-08-06</td>\n",
       "      <td>3806.4</td>\n",
       "      <td>28</td>\n",
       "      <td>26</td>\n",
       "      <td>13069.3</td>\n",
       "      <td>3935</td>\n",
       "      <td>3.321296</td>\n",
       "      <td>0.031512</td>\n",
       "      <td>655</td>\n",
       "    </tr>\n",
       "    <tr>\n",
       "      <th>6</th>\n",
       "      <td>2019-08-07</td>\n",
       "      <td>3531.5</td>\n",
       "      <td>24</td>\n",
       "      <td>24</td>\n",
       "      <td>16600.8</td>\n",
       "      <td>4644</td>\n",
       "      <td>3.574677</td>\n",
       "      <td>0.031869</td>\n",
       "      <td>709</td>\n",
       "    </tr>\n",
       "    <tr>\n",
       "      <th>7</th>\n",
       "      <td>2019-08-08</td>\n",
       "      <td>3487.8</td>\n",
       "      <td>27</td>\n",
       "      <td>27</td>\n",
       "      <td>20088.6</td>\n",
       "      <td>5298</td>\n",
       "      <td>3.791733</td>\n",
       "      <td>0.033031</td>\n",
       "      <td>654</td>\n",
       "    </tr>\n",
       "    <tr>\n",
       "      <th>8</th>\n",
       "      <td>2019-08-09</td>\n",
       "      <td>2558.1</td>\n",
       "      <td>25</td>\n",
       "      <td>24</td>\n",
       "      <td>22646.7</td>\n",
       "      <td>5908</td>\n",
       "      <td>3.833226</td>\n",
       "      <td>0.033683</td>\n",
       "      <td>610</td>\n",
       "    </tr>\n",
       "    <tr>\n",
       "      <th>9</th>\n",
       "      <td>2019-08-10</td>\n",
       "      <td>1720.4</td>\n",
       "      <td>23</td>\n",
       "      <td>23</td>\n",
       "      <td>24367.1</td>\n",
       "      <td>6277</td>\n",
       "      <td>3.881966</td>\n",
       "      <td>0.035367</td>\n",
       "      <td>369</td>\n",
       "    </tr>\n",
       "    <tr>\n",
       "      <th>10</th>\n",
       "      <td>2019-08-11</td>\n",
       "      <td>861.2</td>\n",
       "      <td>13</td>\n",
       "      <td>13</td>\n",
       "      <td>25228.3</td>\n",
       "      <td>6998</td>\n",
       "      <td>3.605073</td>\n",
       "      <td>0.033581</td>\n",
       "      <td>721</td>\n",
       "    </tr>\n",
       "    <tr>\n",
       "      <th>11</th>\n",
       "      <td>2019-08-12</td>\n",
       "      <td>2245.7</td>\n",
       "      <td>23</td>\n",
       "      <td>22</td>\n",
       "      <td>27474.0</td>\n",
       "      <td>7541</td>\n",
       "      <td>3.643283</td>\n",
       "      <td>0.034080</td>\n",
       "      <td>543</td>\n",
       "    </tr>\n",
       "    <tr>\n",
       "      <th>12</th>\n",
       "      <td>2019-08-13</td>\n",
       "      <td>1910.0</td>\n",
       "      <td>21</td>\n",
       "      <td>21</td>\n",
       "      <td>29384.0</td>\n",
       "      <td>8310</td>\n",
       "      <td>3.535981</td>\n",
       "      <td>0.033454</td>\n",
       "      <td>769</td>\n",
       "    </tr>\n",
       "    <tr>\n",
       "      <th>13</th>\n",
       "      <td>2019-08-14</td>\n",
       "      <td>2711.7</td>\n",
       "      <td>23</td>\n",
       "      <td>22</td>\n",
       "      <td>32095.7</td>\n",
       "      <td>9056</td>\n",
       "      <td>3.544136</td>\n",
       "      <td>0.033127</td>\n",
       "      <td>746</td>\n",
       "    </tr>\n",
       "    <tr>\n",
       "      <th>14</th>\n",
       "      <td>2019-08-15</td>\n",
       "      <td>5361.9</td>\n",
       "      <td>31</td>\n",
       "      <td>31</td>\n",
       "      <td>37457.6</td>\n",
       "      <td>9600</td>\n",
       "      <td>3.901833</td>\n",
       "      <td>0.034479</td>\n",
       "      <td>544</td>\n",
       "    </tr>\n",
       "    <tr>\n",
       "      <th>15</th>\n",
       "      <td>2019-08-16</td>\n",
       "      <td>2697.7</td>\n",
       "      <td>20</td>\n",
       "      <td>20</td>\n",
       "      <td>40155.3</td>\n",
       "      <td>10013</td>\n",
       "      <td>4.010317</td>\n",
       "      <td>0.035054</td>\n",
       "      <td>413</td>\n",
       "    </tr>\n",
       "    <tr>\n",
       "      <th>16</th>\n",
       "      <td>2019-08-17</td>\n",
       "      <td>1281.5</td>\n",
       "      <td>14</td>\n",
       "      <td>14</td>\n",
       "      <td>41436.8</td>\n",
       "      <td>10434</td>\n",
       "      <td>3.971325</td>\n",
       "      <td>0.034982</td>\n",
       "      <td>421</td>\n",
       "    </tr>\n",
       "    <tr>\n",
       "      <th>17</th>\n",
       "      <td>2019-08-18</td>\n",
       "      <td>1044.9</td>\n",
       "      <td>9</td>\n",
       "      <td>9</td>\n",
       "      <td>42481.7</td>\n",
       "      <td>11171</td>\n",
       "      <td>3.802856</td>\n",
       "      <td>0.033480</td>\n",
       "      <td>737</td>\n",
       "    </tr>\n",
       "    <tr>\n",
       "      <th>18</th>\n",
       "      <td>2019-08-19</td>\n",
       "      <td>22064.9</td>\n",
       "      <td>21</td>\n",
       "      <td>20</td>\n",
       "      <td>64546.6</td>\n",
       "      <td>11658</td>\n",
       "      <td>5.536679</td>\n",
       "      <td>0.033797</td>\n",
       "      <td>487</td>\n",
       "    </tr>\n",
       "    <tr>\n",
       "      <th>19</th>\n",
       "      <td>2019-08-20</td>\n",
       "      <td>2324.6</td>\n",
       "      <td>20</td>\n",
       "      <td>20</td>\n",
       "      <td>66871.2</td>\n",
       "      <td>12218</td>\n",
       "      <td>5.473171</td>\n",
       "      <td>0.033884</td>\n",
       "      <td>560</td>\n",
       "    </tr>\n",
       "    <tr>\n",
       "      <th>20</th>\n",
       "      <td>2019-08-21</td>\n",
       "      <td>2555.9</td>\n",
       "      <td>14</td>\n",
       "      <td>14</td>\n",
       "      <td>69427.1</td>\n",
       "      <td>12874</td>\n",
       "      <td>5.392815</td>\n",
       "      <td>0.033245</td>\n",
       "      <td>656</td>\n",
       "    </tr>\n",
       "    <tr>\n",
       "      <th>21</th>\n",
       "      <td>2019-08-22</td>\n",
       "      <td>2560.8</td>\n",
       "      <td>25</td>\n",
       "      <td>24</td>\n",
       "      <td>71987.9</td>\n",
       "      <td>13524</td>\n",
       "      <td>5.322974</td>\n",
       "      <td>0.033422</td>\n",
       "      <td>650</td>\n",
       "    </tr>\n",
       "    <tr>\n",
       "      <th>22</th>\n",
       "      <td>2019-08-23</td>\n",
       "      <td>1799.5</td>\n",
       "      <td>15</td>\n",
       "      <td>15</td>\n",
       "      <td>73787.4</td>\n",
       "      <td>14070</td>\n",
       "      <td>5.244307</td>\n",
       "      <td>0.033191</td>\n",
       "      <td>546</td>\n",
       "    </tr>\n",
       "    <tr>\n",
       "      <th>23</th>\n",
       "      <td>2019-08-24</td>\n",
       "      <td>1527.2</td>\n",
       "      <td>16</td>\n",
       "      <td>16</td>\n",
       "      <td>75314.6</td>\n",
       "      <td>14448</td>\n",
       "      <td>5.212805</td>\n",
       "      <td>0.033430</td>\n",
       "      <td>378</td>\n",
       "    </tr>\n",
       "    <tr>\n",
       "      <th>24</th>\n",
       "      <td>2019-08-25</td>\n",
       "      <td>1626.5</td>\n",
       "      <td>14</td>\n",
       "      <td>14</td>\n",
       "      <td>76941.1</td>\n",
       "      <td>15127</td>\n",
       "      <td>5.086342</td>\n",
       "      <td>0.032855</td>\n",
       "      <td>679</td>\n",
       "    </tr>\n",
       "    <tr>\n",
       "      <th>25</th>\n",
       "      <td>2019-08-26</td>\n",
       "      <td>2900.4</td>\n",
       "      <td>25</td>\n",
       "      <td>24</td>\n",
       "      <td>79841.5</td>\n",
       "      <td>15803</td>\n",
       "      <td>5.052300</td>\n",
       "      <td>0.032968</td>\n",
       "      <td>676</td>\n",
       "    </tr>\n",
       "    <tr>\n",
       "      <th>26</th>\n",
       "      <td>2019-08-27</td>\n",
       "      <td>2319.8</td>\n",
       "      <td>16</td>\n",
       "      <td>16</td>\n",
       "      <td>82161.3</td>\n",
       "      <td>16523</td>\n",
       "      <td>4.972541</td>\n",
       "      <td>0.032500</td>\n",
       "      <td>720</td>\n",
       "    </tr>\n",
       "    <tr>\n",
       "      <th>27</th>\n",
       "      <td>2019-08-28</td>\n",
       "      <td>1558.0</td>\n",
       "      <td>28</td>\n",
       "      <td>27</td>\n",
       "      <td>83719.3</td>\n",
       "      <td>17177</td>\n",
       "      <td>4.873919</td>\n",
       "      <td>0.032835</td>\n",
       "      <td>654</td>\n",
       "    </tr>\n",
       "    <tr>\n",
       "      <th>28</th>\n",
       "      <td>2019-08-29</td>\n",
       "      <td>3623.7</td>\n",
       "      <td>20</td>\n",
       "      <td>20</td>\n",
       "      <td>87343.0</td>\n",
       "      <td>17708</td>\n",
       "      <td>4.932403</td>\n",
       "      <td>0.032979</td>\n",
       "      <td>531</td>\n",
       "    </tr>\n",
       "    <tr>\n",
       "      <th>29</th>\n",
       "      <td>2019-08-30</td>\n",
       "      <td>3393.3</td>\n",
       "      <td>24</td>\n",
       "      <td>24</td>\n",
       "      <td>90736.3</td>\n",
       "      <td>18198</td>\n",
       "      <td>4.986059</td>\n",
       "      <td>0.033410</td>\n",
       "      <td>490</td>\n",
       "    </tr>\n",
       "    <tr>\n",
       "      <th>30</th>\n",
       "      <td>2019-08-31</td>\n",
       "      <td>2104.3</td>\n",
       "      <td>20</td>\n",
       "      <td>20</td>\n",
       "      <td>92840.6</td>\n",
       "      <td>18916</td>\n",
       "      <td>4.908046</td>\n",
       "      <td>0.033199</td>\n",
       "      <td>718</td>\n",
       "    </tr>\n",
       "  </tbody>\n",
       "</table>\n",
       "</div>"
      ],
      "text/plain": [
       "         date  revenue  transactionId  visitorId   cumrev  cumpur    cumavg  \\\n",
       "0  2019-08-01  1620.0   21             20         1620.0   713     2.272090   \n",
       "1  2019-08-02  2623.8   24             23         4243.8   1294    3.279598   \n",
       "2  2019-08-03  1806.8   16             16         6050.6   1803    3.355851   \n",
       "3  2019-08-04  1717.3   17             16         7767.9   2573    3.019005   \n",
       "4  2019-08-05  1495.0   23             23         9262.9   3280    2.824055   \n",
       "5  2019-08-06  3806.4   28             26         13069.3  3935    3.321296   \n",
       "6  2019-08-07  3531.5   24             24         16600.8  4644    3.574677   \n",
       "7  2019-08-08  3487.8   27             27         20088.6  5298    3.791733   \n",
       "8  2019-08-09  2558.1   25             24         22646.7  5908    3.833226   \n",
       "9  2019-08-10  1720.4   23             23         24367.1  6277    3.881966   \n",
       "10 2019-08-11  861.2    13             13         25228.3  6998    3.605073   \n",
       "11 2019-08-12  2245.7   23             22         27474.0  7541    3.643283   \n",
       "12 2019-08-13  1910.0   21             21         29384.0  8310    3.535981   \n",
       "13 2019-08-14  2711.7   23             22         32095.7  9056    3.544136   \n",
       "14 2019-08-15  5361.9   31             31         37457.6  9600    3.901833   \n",
       "15 2019-08-16  2697.7   20             20         40155.3  10013   4.010317   \n",
       "16 2019-08-17  1281.5   14             14         41436.8  10434   3.971325   \n",
       "17 2019-08-18  1044.9   9              9          42481.7  11171   3.802856   \n",
       "18 2019-08-19  22064.9  21             20         64546.6  11658   5.536679   \n",
       "19 2019-08-20  2324.6   20             20         66871.2  12218   5.473171   \n",
       "20 2019-08-21  2555.9   14             14         69427.1  12874   5.392815   \n",
       "21 2019-08-22  2560.8   25             24         71987.9  13524   5.322974   \n",
       "22 2019-08-23  1799.5   15             15         73787.4  14070   5.244307   \n",
       "23 2019-08-24  1527.2   16             16         75314.6  14448   5.212805   \n",
       "24 2019-08-25  1626.5   14             14         76941.1  15127   5.086342   \n",
       "25 2019-08-26  2900.4   25             24         79841.5  15803   5.052300   \n",
       "26 2019-08-27  2319.8   16             16         82161.3  16523   4.972541   \n",
       "27 2019-08-28  1558.0   28             27         83719.3  17177   4.873919   \n",
       "28 2019-08-29  3623.7   20             20         87343.0  17708   4.932403   \n",
       "29 2019-08-30  3393.3   24             24         90736.3  18198   4.986059   \n",
       "30 2019-08-31  2104.3   20             20         92840.6  18916   4.908046   \n",
       "\n",
       "         cov  visits  \n",
       "0   0.028050  713     \n",
       "1   0.033230  581     \n",
       "2   0.032723  509     \n",
       "3   0.029149  770     \n",
       "4   0.029878  707     \n",
       "5   0.031512  655     \n",
       "6   0.031869  709     \n",
       "7   0.033031  654     \n",
       "8   0.033683  610     \n",
       "9   0.035367  369     \n",
       "10  0.033581  721     \n",
       "11  0.034080  543     \n",
       "12  0.033454  769     \n",
       "13  0.033127  746     \n",
       "14  0.034479  544     \n",
       "15  0.035054  413     \n",
       "16  0.034982  421     \n",
       "17  0.033480  737     \n",
       "18  0.033797  487     \n",
       "19  0.033884  560     \n",
       "20  0.033245  656     \n",
       "21  0.033422  650     \n",
       "22  0.033191  546     \n",
       "23  0.033430  378     \n",
       "24  0.032855  679     \n",
       "25  0.032968  676     \n",
       "26  0.032500  720     \n",
       "27  0.032835  654     \n",
       "28  0.032979  531     \n",
       "29  0.033410  490     \n",
       "30  0.033199  718     "
      ]
     },
     "execution_count": 41,
     "metadata": {},
     "output_type": "execute_result"
    }
   ],
   "source": [
    "ordersB"
   ]
  },
  {
   "cell_type": "markdown",
   "metadata": {},
   "source": [
    "In this part I will show the order prices."
   ]
  },
  {
   "cell_type": "code",
   "execution_count": 42,
   "metadata": {},
   "outputs": [],
   "source": [
    "ordersB['cost'] = ordersB['revenue'] / ordersB['transactionId']"
   ]
  },
  {
   "cell_type": "code",
   "execution_count": 43,
   "metadata": {},
   "outputs": [],
   "source": [
    "ordersA['cost'] = ordersA['revenue'] / ordersA['transactionId']"
   ]
  },
  {
   "cell_type": "code",
   "execution_count": 44,
   "metadata": {},
   "outputs": [
    {
     "data": {
      "image/png": "[encoded data removed]",
      "text/plain": [
       "<Figure size 432x288 with 1 Axes>"
      ]
     },
     "metadata": {
      "needs_background": "light"
     },
     "output_type": "display_data"
    }
   ],
   "source": [
    "ordersA.sort_values(by='revenue',ascending=False)\n",
    "plt.rcParams[\"figure.figsize\"] = (6, 4)\n",
    "x_values = pd.Series(range(0,len(ordersA)))\n",
    "plt.scatter(x_values, ordersA['cost']) \n",
    "plt.suptitle('Order Prices')\n",
    "plt.ylabel('Price')\n",
    "plt.xlabel('Number of Orders')\n",
    "plt.show()"
   ]
  },
  {
   "cell_type": "markdown",
   "metadata": {},
   "source": [
    "The majority of orders are at around 600 (probably dollars)."
   ]
  },
  {
   "cell_type": "code",
   "execution_count": 45,
   "metadata": {},
   "outputs": [
    {
     "data": {
      "image/png": "[encoded data removed]",
      "text/plain": [
       "<Figure size 432x288 with 1 Axes>"
      ]
     },
     "metadata": {
      "needs_background": "light"
     },
     "output_type": "display_data"
    }
   ],
   "source": [
    "ordersB.sort_values(by='revenue',ascending=False)\n",
    "plt.rcParams[\"figure.figsize\"] = (6, 4)\n",
    "x_values = pd.Series(range(0,len(ordersB)))\n",
    "plt.scatter(x_values, ordersB['cost']) \n",
    "plt.suptitle('Order Prices')\n",
    "plt.ylabel('Price')\n",
    "plt.xlabel('Number of Orders')\n",
    "plt.show()"
   ]
  },
  {
   "cell_type": "markdown",
   "metadata": {},
   "source": [
    "Group B shows a whole different story, items in all kind of different prices are sold quit evenly at around 100 with an outline at 1000 dollars."
   ]
  },
  {
   "cell_type": "code",
   "execution_count": 46,
   "metadata": {},
   "outputs": [
    {
     "data": {
      "text/plain": [
       "array([184.19375   , 272.96545455])"
      ]
     },
     "execution_count": 46,
     "metadata": {},
     "output_type": "execute_result"
    }
   ],
   "source": [
    "np.percentile(ordersA['cost'], [90, 99])"
   ]
  },
  {
   "cell_type": "markdown",
   "metadata": {},
   "source": [
    "There isn't a visible anomaly point at this group as far as can see."
   ]
  },
  {
   "cell_type": "code",
   "execution_count": 47,
   "metadata": {},
   "outputs": [
    {
     "data": {
      "text/plain": [
       "array([172.96451613, 790.26595238])"
      ]
     },
     "execution_count": 47,
     "metadata": {},
     "output_type": "execute_result"
    }
   ],
   "source": [
    "np.percentile(ordersB['cost'], [90, 99])"
   ]
  },
  {
   "cell_type": "markdown",
   "metadata": {},
   "source": [
    "In group B at the 98 percentile there is a huge leap in the price."
   ]
  },
  {
   "cell_type": "markdown",
   "metadata": {},
   "source": [
    "In this part I will find the statistical significance of the different conversion between the groups."
   ]
  },
  {
   "cell_type": "code",
   "execution_count": 48,
   "metadata": {},
   "outputs": [],
   "source": [
    "sampleA = pd.concat([orders['visitorId'],pd.Series(0, index=np.arange(visits[visits['group']=='A']['visits'].sum() - len(orders['visitorId'])), name='orders')],axis=0)"
   ]
  },
  {
   "cell_type": "code",
   "execution_count": 49,
   "metadata": {},
   "outputs": [],
   "source": [
    "sampleB = pd.concat([orders['visitorId'],pd.Series(0, index=np.arange(visits[visits['group']=='B']['visits'].sum() - len(orders['visitorId'])), name='orders')],axis=0)"
   ]
  },
  {
   "cell_type": "markdown",
   "metadata": {},
   "source": [
    "H0: The statistical significance of the difference in conversion of group A and group B are the same.\n",
    "\n",
    "H1: The statistical significance of the difference in conversion of group A and group B are differ."
   ]
  },
  {
   "cell_type": "code",
   "execution_count": 51,
   "metadata": {},
   "outputs": [
    {
     "data": {
      "text/plain": [
       "'0.405'"
      ]
     },
     "execution_count": 51,
     "metadata": {},
     "output_type": "execute_result"
    }
   ],
   "source": [
    "\"{0:.3f}\".format(stats.mannwhitneyu(sampleA, sampleB)[1])"
   ]
  },
  {
   "cell_type": "markdown",
   "metadata": {},
   "source": [
    "There is no significant difference between the two (higher than 0.05)"
   ]
  },
  {
   "cell_type": "code",
   "execution_count": 52,
   "metadata": {},
   "outputs": [
    {
     "data": {
      "text/plain": [
       "'-0.010'"
      ]
     },
     "execution_count": 52,
     "metadata": {},
     "output_type": "execute_result"
    }
   ],
   "source": [
    "\"{0:.3f}\".format(sampleB.mean()/sampleA.mean()-1)"
   ]
  },
  {
   "cell_type": "markdown",
   "metadata": {},
   "source": [
    "Sample A which is group A is a bit lower (which is 'losing') compared to group B"
   ]
  },
  {
   "cell_type": "markdown",
   "metadata": {},
   "source": [
    "H0: The statistical significance of the difference in average order size of group A and group B are the same.\n",
    "\n",
    "H1: The statistical significance of the difference in average order size of group A and group B are differ."
   ]
  },
  {
   "cell_type": "code",
   "execution_count": 53,
   "metadata": {},
   "outputs": [
    {
     "data": {
      "text/plain": [
       "'0.346'"
      ]
     },
     "execution_count": 53,
     "metadata": {},
     "output_type": "execute_result"
    }
   ],
   "source": [
    "'{0:.3f}'.format(stats.mannwhitneyu(orders[orders['group']=='A']['revenue'], orders[orders['group']=='B']['revenue'])[1])"
   ]
  },
  {
   "cell_type": "markdown",
   "metadata": {},
   "source": [
    "The average order dosent differ between the groups as it is higher than 0.05"
   ]
  },
  {
   "cell_type": "code",
   "execution_count": 54,
   "metadata": {},
   "outputs": [
    {
     "data": {
      "text/plain": [
       "'0.252'"
      ]
     },
     "execution_count": 54,
     "metadata": {},
     "output_type": "execute_result"
    }
   ],
   "source": [
    "'{0:.3f}'.format(orders[orders['group']=='B']['revenue'].mean()/orders[orders['group']=='A']['revenue'].mean()-1)"
   ]
  },
  {
   "cell_type": "markdown",
   "metadata": {},
   "source": [
    "The revenue of group B is higher than of group A"
   ]
  },
  {
   "cell_type": "code",
   "execution_count": 55,
   "metadata": {},
   "outputs": [],
   "source": [
    "usersWithManyOrders = pd.concat([ordersA[ordersA['transactionId'] < 16]['visitorId'], ordersB[ordersB['transactionId'] < 16]['visitorId']], axis = 0)\n",
    "usersWithExpensiveOrders = orders[orders['revenue'] > 200]['visitorId']\n",
    "abnormalUsers = pd.concat([usersWithManyOrders, usersWithExpensiveOrders], axis = 0).drop_duplicates().sort_values()"
   ]
  },
  {
   "cell_type": "code",
   "execution_count": 56,
   "metadata": {},
   "outputs": [],
   "source": [
    "sampleAFiltered = pd.concat([ordersA[np.logical_not(ordersA['visitorId'].isin(abnormalUsers))]['transactionId'],pd.Series(0, index=np.arange(visits[visits['group']=='A']['visits'].sum() - len(ordersA['transactionId'])),name='orders')],axis=0)"
   ]
  },
  {
   "cell_type": "code",
   "execution_count": 57,
   "metadata": {},
   "outputs": [],
   "source": [
    "sampleBFiltered = pd.concat([ordersB[np.logical_not(ordersB['visitorId'].isin(abnormalUsers))]['transactionId'],pd.Series(0, index=np.arange(visits[visits['group']=='B']['visits'].sum() - len(ordersA['transactionId'])),name='orders')],axis=0)"
   ]
  },
  {
   "cell_type": "markdown",
   "metadata": {},
   "source": [
    "H0: The statistical significance of the difference in conversion of group A and group B are the same.\n",
    "\n",
    "H1: The statistical significance of the difference in conversion of group A and group B are differ."
   ]
  },
  {
   "cell_type": "code",
   "execution_count": 58,
   "metadata": {},
   "outputs": [
    {
     "data": {
      "text/plain": [
       "'0.191'"
      ]
     },
     "execution_count": 58,
     "metadata": {},
     "output_type": "execute_result"
    }
   ],
   "source": [
    "\"{0:.3f}\".format(stats.mannwhitneyu(sampleAFiltered, sampleBFiltered)[1])"
   ]
  },
  {
   "cell_type": "markdown",
   "metadata": {},
   "source": [
    "There is still no significant change in the groupes even after filtration."
   ]
  },
  {
   "cell_type": "code",
   "execution_count": 59,
   "metadata": {},
   "outputs": [
    {
     "data": {
      "text/plain": [
       "'0.406'"
      ]
     },
     "execution_count": 59,
     "metadata": {},
     "output_type": "execute_result"
    }
   ],
   "source": [
    "\"{0:.3f}\".format(sampleBFiltered.mean()/sampleAFiltered.mean()-1)"
   ]
  },
  {
   "cell_type": "markdown",
   "metadata": {},
   "source": [
    "Here we can see a big change from negative to positive in favor of group B"
   ]
  },
  {
   "cell_type": "markdown",
   "metadata": {},
   "source": [
    "H0: The statistical significance of the difference in average order size of group A and group B are the same.\n",
    "\n",
    "H1: The statistical significance of the difference in average order size of group A and group B are differ."
   ]
  },
  {
   "cell_type": "code",
   "execution_count": 60,
   "metadata": {},
   "outputs": [
    {
     "data": {
      "text/plain": [
       "'0.266'"
      ]
     },
     "execution_count": 60,
     "metadata": {},
     "output_type": "execute_result"
    }
   ],
   "source": [
    "'{0:.3f}'.format(stats.mannwhitneyu(orders[np.logical_and(orders['group']=='A',np.logical_not(orders['visitorId'].isin(abnormalUsers)))]['revenue'],orders[np.logical_and(orders['group']=='B',np.logical_not(orders['visitorId'].isin(abnormalUsers)))]['revenue'])[1])"
   ]
  },
  {
   "cell_type": "markdown",
   "metadata": {},
   "source": [
    "The p value didn't change by a lot."
   ]
  },
  {
   "cell_type": "code",
   "execution_count": 61,
   "metadata": {},
   "outputs": [
    {
     "data": {
      "text/plain": [
       "'0.022'"
      ]
     },
     "execution_count": 61,
     "metadata": {},
     "output_type": "execute_result"
    }
   ],
   "source": [
    "'{0:.3f}'.format(orders[np.logical_and(orders['group']=='B',np.logical_not(orders['visitorId'].isin(abnormalUsers)))]['revenue'].mean()/orders[np.logical_and(orders['group']=='A',np.logical_not(orders['visitorId'].isin(abnormalUsers)))]['revenue'].mean() - 1)"
   ]
  },
  {
   "cell_type": "markdown",
   "metadata": {},
   "source": [
    "The difference changed dramatically and now there is a significant change."
   ]
  },
  {
   "cell_type": "code",
   "execution_count": 62,
   "metadata": {},
   "outputs": [
    {
     "name": "stdout",
     "output_type": "stream",
     "text": [
      "Trials: 18736\n",
      "Successes: 543\n"
     ]
    }
   ],
   "source": [
    "ordersA_trials = visitsA['visits'].sum()\n",
    "print('Trials:', ordersA_trials)\n",
    "ordersA_successes = ordersA['visitorId'].sum()\n",
    "print('Successes:', ordersA_successes)"
   ]
  },
  {
   "cell_type": "code",
   "execution_count": 63,
   "metadata": {},
   "outputs": [
    {
     "name": "stdout",
     "output_type": "stream",
     "text": [
      "Trials: 18916\n",
      "Successes: 628\n"
     ]
    }
   ],
   "source": [
    "ordersB_trials = visitsB['visits'].sum()\n",
    "print('Trials:', ordersB_trials)\n",
    "ordersB_successes = ordersB['visitorId'].sum()\n",
    "print('Successes:', ordersB_successes)"
   ]
  },
  {
   "cell_type": "markdown",
   "metadata": {},
   "source": [
    "Group A is the leader here because both have 31 Successes but group A had smaller number of trials the ratio is in their favor."
   ]
  },
  {
   "cell_type": "code",
   "execution_count": 64,
   "metadata": {},
   "outputs": [],
   "source": [
    "def check_hypothesis(successes1, trials1, successes2, trials2, alpha = .05):\n",
    "    p1 = successes1 / trials1\n",
    "    p2 = successes2 / trials2\n",
    "    p_combined = (successes1 + successes2) / (trials1 + trials2)\n",
    "    difference = p2 - p1\n",
    "    z_value = difference / math.sqrt(p_combined * (1 - p_combined) * (1 / trials1 + 1 / trials2))\n",
    "    distr = stats.norm(0, 1)\n",
    "    p_value = (1 - distr.cdf(abs(z_value))) * 2\n",
    "    print('p_value:', p_value)"
   ]
  },
  {
   "cell_type": "code",
   "execution_count": 65,
   "metadata": {},
   "outputs": [
    {
     "name": "stdout",
     "output_type": "stream",
     "text": [
      "p_value: 0.01840751744395841\n"
     ]
    }
   ],
   "source": [
    "check_hypothesis(ordersA_successes, ordersA_trials, ordersB_successes, ordersB_trials)"
   ]
  },
  {
   "cell_type": "markdown",
   "metadata": {},
   "source": [
    "The 2 groups shown to be different and have statistical significance."
   ]
  },
  {
   "cell_type": "code",
   "execution_count": 66,
   "metadata": {},
   "outputs": [
    {
     "data": {
      "image/png": "[encoded data removed]",
      "text/plain": [
       "<Figure size 432x288 with 1 Axes>"
      ]
     },
     "metadata": {
      "needs_background": "light"
     },
     "output_type": "display_data"
    }
   ],
   "source": [
    "plt.hist(ordersA['cov'], alpha = .05, label = 'A', color = (\"green\"))\n",
    "plt.hist(ordersB['cov'], alpha = .05, label = 'B', color = (\"blue\"))\n",
    "plt.legend(loc = 'upper right')\n",
    "plt.suptitle('Average Daily Conversion')\n",
    "plt.ylabel('Conversion Rate')\n",
    "plt.xlabel('Average')\n",
    "plt.show()"
   ]
  },
  {
   "cell_type": "markdown",
   "metadata": {},
   "source": [
    "We can see that group A is far more successful than group B with an immense spike at the average."
   ]
  },
  {
   "cell_type": "markdown",
   "metadata": {},
   "source": [
    "H0: The average conversion rate of group A and group B are the same.\n",
    "\n",
    "H1: The average conversion rate of group A and group B are differ."
   ]
  },
  {
   "cell_type": "code",
   "execution_count": 67,
   "metadata": {},
   "outputs": [],
   "source": [
    "def testing_average(sample1, sample2, alpha = .05):\n",
    "    sample1 = sample1.dropna()\n",
    "    sample2 = sample2.dropna()\n",
    "    stat1, p1_norm = stats.shapiro(sample1)\n",
    "    stat2, p2_norm = stats.shapiro(sample2)\n",
    "    if p1_norm > alpha and p2_norm > alpha:\n",
    "        statslev, p_levene = stats.levene(sample1, sample2)\n",
    "        if p_levene < alpha:\n",
    "            statist, p_value = stats.ttest_ind(sample1, sample2, equel_var = False)\n",
    "        else:\n",
    "            statist, p_value = stats.ttest_ind(sample1, sample2, equel_var = True)\n",
    "    else:\n",
    "        statist, p_value = stats.mannwhitneyu(sample1, sample2)\n",
    "    print(p_value)\n",
    "    if p_value < alpha:\n",
    "        print('Reject H0: The average conversion rate of group A and group B are differ.')\n",
    "    else:\n",
    "        print('Fail to reject H0: The average conversion rate of group A and group B are the same.')      "
   ]
  },
  {
   "cell_type": "code",
   "execution_count": 68,
   "metadata": {},
   "outputs": [
    {
     "name": "stdout",
     "output_type": "stream",
     "text": [
      "3.308392197858232e-09\n",
      "Reject H0: The average conversion rate of group A and group B are differ.\n"
     ]
    }
   ],
   "source": [
    "testing_average(ordersA['cov'], ordersB['cov'], alpha = .05)"
   ]
  },
  {
   "cell_type": "code",
   "execution_count": 69,
   "metadata": {},
   "outputs": [],
   "source": [
    "ordersA['avg_che'] = ordersA['revenue'] / visitsA['visits']\n",
    "ordersB['avg_che'] = ordersB['revenue'] / visitsB['visits']"
   ]
  },
  {
   "cell_type": "code",
   "execution_count": 70,
   "metadata": {},
   "outputs": [
    {
     "data": {
      "text/plain": [
       "3.568051532152876"
      ]
     },
     "execution_count": 70,
     "metadata": {},
     "output_type": "execute_result"
    }
   ],
   "source": [
    "ordersA['avg_che'].mean()"
   ]
  },
  {
   "cell_type": "code",
   "execution_count": 71,
   "metadata": {},
   "outputs": [
    {
     "data": {
      "text/plain": [
       "5.340773580268349"
      ]
     },
     "execution_count": 71,
     "metadata": {},
     "output_type": "execute_result"
    }
   ],
   "source": [
    "ordersB['avg_che'].mean()"
   ]
  },
  {
   "cell_type": "code",
   "execution_count": 72,
   "metadata": {},
   "outputs": [
    {
     "name": "stdout",
     "output_type": "stream",
     "text": [
      "0.08383948423730775\n",
      "Fail to reject H0: The average conversion rate of group A and group B are the same.\n"
     ]
    }
   ],
   "source": [
    "testing_average(ordersA['avg_che'], ordersB['avg_che'], alpha = .05)"
   ]
  },
  {
   "cell_type": "markdown",
   "metadata": {},
   "source": [
    "# conclusion\n",
    "Even thought there is a difference in conversion rate between the 2 groups, there isn't enough of a diffrance to say they are diffrant. With what I can see and say to stop the test for there isn't enough difference to reject the null hypothesis and by that money should be used in other A/B test.\n",
    "## Additionally\n",
    "There is a slight difference for what I can tell in those 2 groups that can be explained in the daily use of users in the macro level, and that might be with studying for better results and future understanding of human behavior."
   ]
  }
 ],
 "metadata": {
  "ExecuteTimeLog": [
   {
    "duration": 22969,
    "start_time": "2022-01-16T13:28:49.737Z"
   },
   {
    "duration": 134986,
    "start_time": "2022-01-16T13:29:12.709Z"
   },
   {
    "duration": 7254,
    "start_time": "2022-01-16T13:32:16.032Z"
   },
   {
    "duration": 54060,
    "start_time": "2022-01-16T13:34:41.882Z"
   },
   {
    "duration": 70982,
    "start_time": "2022-01-16T13:35:35.944Z"
   },
   {
    "duration": 37835,
    "start_time": "2022-01-16T13:36:46.928Z"
   },
   {
    "duration": 1255,
    "start_time": "2022-01-16T13:37:24.765Z"
   },
   {
    "duration": 300,
    "start_time": "2022-01-16T13:37:26.021Z"
   },
   {
    "duration": 49,
    "start_time": "2022-01-16T13:37:26.323Z"
   },
   {
    "duration": 21,
    "start_time": "2022-01-16T13:37:26.374Z"
   },
   {
    "duration": 282,
    "start_time": "2022-01-16T13:40:42.279Z"
   },
   {
    "duration": 20,
    "start_time": "2022-01-16T13:40:58.453Z"
   },
   {
    "duration": 53,
    "start_time": "2022-01-16T13:41:28.271Z"
   },
   {
    "duration": 40,
    "start_time": "2022-01-16T13:41:49.400Z"
   },
   {
    "duration": 18,
    "start_time": "2022-01-16T13:42:41.727Z"
   },
   {
    "duration": 17,
    "start_time": "2022-01-16T13:42:59.714Z"
   },
   {
    "duration": 18,
    "start_time": "2022-01-16T13:43:08.537Z"
   },
   {
    "duration": 105134,
    "start_time": "2022-01-16T13:43:17.692Z"
   },
   {
    "duration": 104968,
    "start_time": "2022-01-16T13:45:02.828Z"
   },
   {
    "duration": 2566,
    "start_time": "2022-01-16T13:46:47.799Z"
   },
   {
    "duration": 1251,
    "start_time": "2022-01-16T13:46:50.367Z"
   },
   {
    "duration": 22,
    "start_time": "2022-01-16T13:46:51.619Z"
   },
   {
    "duration": 266,
    "start_time": "2022-01-16T13:46:51.642Z"
   },
   {
    "duration": 40,
    "start_time": "2022-01-16T13:46:51.910Z"
   },
   {
    "duration": 11,
    "start_time": "2022-01-16T13:46:51.952Z"
   },
   {
    "duration": 39,
    "start_time": "2022-01-16T13:46:51.965Z"
   },
   {
    "duration": 9,
    "start_time": "2022-01-16T13:46:52.006Z"
   },
   {
    "duration": 265,
    "start_time": "2022-01-16T13:52:36.530Z"
   },
   {
    "duration": 65884,
    "start_time": "2022-01-16T13:52:47.050Z"
   },
   {
    "duration": 99811,
    "start_time": "2022-01-16T13:55:45.136Z"
   },
   {
    "duration": 99752,
    "start_time": "2022-01-16T13:58:53.626Z"
   },
   {
    "duration": 2185,
    "start_time": "2022-01-16T14:00:33.381Z"
   },
   {
    "duration": 99793,
    "start_time": "2022-01-16T14:00:35.569Z"
   },
   {
    "duration": 1248,
    "start_time": "2022-01-16T14:02:15.364Z"
   },
   {
    "duration": 21,
    "start_time": "2022-01-16T14:02:16.614Z"
   },
   {
    "duration": 284,
    "start_time": "2022-01-16T14:02:16.637Z"
   },
   {
    "duration": 39,
    "start_time": "2022-01-16T14:02:16.923Z"
   },
   {
    "duration": 10,
    "start_time": "2022-01-16T14:02:16.964Z"
   },
   {
    "duration": 33,
    "start_time": "2022-01-16T14:02:16.976Z"
   },
   {
    "duration": 12,
    "start_time": "2022-01-16T14:02:17.010Z"
   },
   {
    "duration": 2219,
    "start_time": "2022-01-16T14:02:17.024Z"
   },
   {
    "duration": -248,
    "start_time": "2022-01-16T14:02:19.493Z"
   },
   {
    "duration": 3222,
    "start_time": "2022-01-16T14:27:48.248Z"
   },
   {
    "duration": 2242,
    "start_time": "2022-01-16T14:27:57.833Z"
   },
   {
    "duration": 2301,
    "start_time": "2022-01-16T14:28:28.127Z"
   },
   {
    "duration": 185,
    "start_time": "2022-01-16T14:32:44.810Z"
   },
   {
    "duration": 19,
    "start_time": "2022-01-16T14:39:12.293Z"
   },
   {
    "duration": 18,
    "start_time": "2022-01-16T14:41:12.255Z"
   },
   {
    "duration": 195,
    "start_time": "2022-01-16T14:41:47.883Z"
   },
   {
    "duration": 193,
    "start_time": "2022-01-16T14:42:28.817Z"
   },
   {
    "duration": 16,
    "start_time": "2022-01-16T14:42:42.769Z"
   },
   {
    "duration": 19,
    "start_time": "2022-01-16T14:42:54.957Z"
   },
   {
    "duration": 20,
    "start_time": "2022-01-16T14:43:02.880Z"
   },
   {
    "duration": 19,
    "start_time": "2022-01-16T14:43:08.584Z"
   },
   {
    "duration": 21,
    "start_time": "2022-01-16T14:43:50.009Z"
   },
   {
    "duration": 18,
    "start_time": "2022-01-16T14:43:56.153Z"
   },
   {
    "duration": 17,
    "start_time": "2022-01-16T14:44:59.583Z"
   },
   {
    "duration": 17,
    "start_time": "2022-01-16T14:46:12.173Z"
   },
   {
    "duration": 19,
    "start_time": "2022-01-16T14:52:29.271Z"
   },
   {
    "duration": 16,
    "start_time": "2022-01-16T14:52:36.636Z"
   },
   {
    "duration": 99843,
    "start_time": "2022-01-16T14:52:59.398Z"
   },
   {
    "duration": 99808,
    "start_time": "2022-01-16T14:54:39.243Z"
   },
   {
    "duration": 85012,
    "start_time": "2022-01-16T14:56:19.054Z"
   },
   {
    "duration": 1270,
    "start_time": "2022-01-16T14:57:44.068Z"
   },
   {
    "duration": 23,
    "start_time": "2022-01-16T14:57:45.339Z"
   },
   {
    "duration": 285,
    "start_time": "2022-01-16T14:57:45.364Z"
   },
   {
    "duration": 40,
    "start_time": "2022-01-16T14:57:45.650Z"
   },
   {
    "duration": 11,
    "start_time": "2022-01-16T14:57:45.692Z"
   },
   {
    "duration": 19,
    "start_time": "2022-01-16T14:57:45.706Z"
   },
   {
    "duration": 10,
    "start_time": "2022-01-16T14:57:45.727Z"
   },
   {
    "duration": 2286,
    "start_time": "2022-01-16T14:57:45.739Z"
   },
   {
    "duration": -277,
    "start_time": "2022-01-16T14:57:48.304Z"
   },
   {
    "duration": 2268,
    "start_time": "2022-01-16T15:08:23.531Z"
   },
   {
    "duration": 55,
    "start_time": "2022-01-16T15:08:52.075Z"
   },
   {
    "duration": 36788,
    "start_time": "2022-01-16T15:15:26.734Z"
   },
   {
    "duration": 99792,
    "start_time": "2022-01-16T15:16:03.525Z"
   },
   {
    "duration": 32831,
    "start_time": "2022-01-16T15:17:43.319Z"
   },
   {
    "duration": 1172,
    "start_time": "2022-01-16T15:18:16.152Z"
   },
   {
    "duration": 23,
    "start_time": "2022-01-16T15:18:17.325Z"
   },
   {
    "duration": 9,
    "start_time": "2022-01-16T15:18:17.350Z"
   },
   {
    "duration": 289,
    "start_time": "2022-01-16T15:18:17.361Z"
   },
   {
    "duration": 40,
    "start_time": "2022-01-16T15:18:17.652Z"
   },
   {
    "duration": 11,
    "start_time": "2022-01-16T15:18:17.693Z"
   },
   {
    "duration": 17,
    "start_time": "2022-01-16T15:18:17.706Z"
   },
   {
    "duration": 9,
    "start_time": "2022-01-16T15:18:17.725Z"
   },
   {
    "duration": 395,
    "start_time": "2022-01-16T15:18:17.735Z"
   },
   {
    "duration": -165,
    "start_time": "2022-01-16T15:18:18.297Z"
   },
   {
    "duration": 32773,
    "start_time": "2022-01-16T15:19:50.568Z"
   },
   {
    "duration": 99778,
    "start_time": "2022-01-16T15:20:23.343Z"
   },
   {
    "duration": 32812,
    "start_time": "2022-01-16T15:22:03.125Z"
   },
   {
    "duration": 1178,
    "start_time": "2022-01-16T15:22:35.939Z"
   },
   {
    "duration": 22,
    "start_time": "2022-01-16T15:22:37.119Z"
   },
   {
    "duration": 10,
    "start_time": "2022-01-16T15:22:37.142Z"
   },
   {
    "duration": 306,
    "start_time": "2022-01-16T15:22:37.154Z"
   },
   {
    "duration": 39,
    "start_time": "2022-01-16T15:22:37.463Z"
   },
   {
    "duration": 11,
    "start_time": "2022-01-16T15:22:37.504Z"
   },
   {
    "duration": 22,
    "start_time": "2022-01-16T15:22:37.517Z"
   },
   {
    "duration": 11,
    "start_time": "2022-01-16T15:22:37.541Z"
   },
   {
    "duration": 274,
    "start_time": "2022-01-16T15:22:37.553Z"
   },
   {
    "duration": -174,
    "start_time": "2022-01-16T15:22:38.003Z"
   },
   {
    "duration": 99806,
    "start_time": "2022-01-16T15:25:11.499Z"
   },
   {
    "duration": 65916,
    "start_time": "2022-01-16T15:26:51.307Z"
   },
   {
    "duration": 99845,
    "start_time": "2022-01-16T15:27:57.225Z"
   },
   {
    "duration": 1276,
    "start_time": "2022-01-16T15:29:37.072Z"
   },
   {
    "duration": 23,
    "start_time": "2022-01-16T15:29:38.350Z"
   },
   {
    "duration": 10,
    "start_time": "2022-01-16T15:29:38.375Z"
   },
   {
    "duration": 294,
    "start_time": "2022-01-16T15:29:38.387Z"
   },
   {
    "duration": 39,
    "start_time": "2022-01-16T15:29:38.684Z"
   },
   {
    "duration": 10,
    "start_time": "2022-01-16T15:29:38.725Z"
   },
   {
    "duration": 18,
    "start_time": "2022-01-16T15:29:38.737Z"
   },
   {
    "duration": 10,
    "start_time": "2022-01-16T15:29:38.757Z"
   },
   {
    "duration": 9,
    "start_time": "2022-01-16T15:29:38.768Z"
   },
   {
    "duration": 9,
    "start_time": "2022-01-16T15:29:38.779Z"
   },
   {
    "duration": 929,
    "start_time": "2022-01-16T15:53:35.200Z"
   },
   {
    "duration": -333,
    "start_time": "2022-01-16T15:53:36.464Z"
   },
   {
    "duration": 58,
    "start_time": "2022-01-16T15:54:48.534Z"
   },
   {
    "duration": 169,
    "start_time": "2022-01-16T15:55:46.894Z"
   },
   {
    "duration": 32904,
    "start_time": "2022-01-16T15:56:17.670Z"
   },
   {
    "duration": 99911,
    "start_time": "2022-01-16T15:56:50.576Z"
   },
   {
    "duration": 99896,
    "start_time": "2022-01-16T15:58:30.490Z"
   },
   {
    "duration": 1257,
    "start_time": "2022-01-16T16:00:10.389Z"
   },
   {
    "duration": 22,
    "start_time": "2022-01-16T16:00:11.648Z"
   },
   {
    "duration": 11,
    "start_time": "2022-01-16T16:00:11.672Z"
   },
   {
    "duration": 364,
    "start_time": "2022-01-16T16:00:11.692Z"
   },
   {
    "duration": 48,
    "start_time": "2022-01-16T16:00:12.058Z"
   },
   {
    "duration": 11,
    "start_time": "2022-01-16T16:00:12.109Z"
   },
   {
    "duration": 19,
    "start_time": "2022-01-16T16:00:12.122Z"
   },
   {
    "duration": 10,
    "start_time": "2022-01-16T16:00:12.143Z"
   },
   {
    "duration": 16,
    "start_time": "2022-01-16T16:00:12.155Z"
   },
   {
    "duration": 19,
    "start_time": "2022-01-16T16:00:12.173Z"
   },
   {
    "duration": 57,
    "start_time": "2022-01-16T16:00:12.194Z"
   },
   {
    "duration": -190,
    "start_time": "2022-01-16T16:00:12.443Z"
   },
   {
    "duration": -190,
    "start_time": "2022-01-16T16:00:12.444Z"
   },
   {
    "duration": -195,
    "start_time": "2022-01-16T16:00:12.450Z"
   },
   {
    "duration": 993,
    "start_time": "2022-01-16T16:00:33.964Z"
   },
   {
    "duration": 931,
    "start_time": "2022-01-16T16:00:57.382Z"
   },
   {
    "duration": 2,
    "start_time": "2022-01-16T16:01:13.786Z"
   },
   {
    "duration": 60,
    "start_time": "2022-01-16T16:01:18.521Z"
   },
   {
    "duration": 3,
    "start_time": "2022-01-16T16:01:33.720Z"
   },
   {
    "duration": 242,
    "start_time": "2022-01-16T16:01:34.465Z"
   },
   {
    "duration": 218,
    "start_time": "2022-01-16T16:01:35.801Z"
   },
   {
    "duration": 7,
    "start_time": "2022-01-16T16:02:40.352Z"
   },
   {
    "duration": 257,
    "start_time": "2022-01-16T16:04:24.061Z"
   },
   {
    "duration": 276,
    "start_time": "2022-01-16T16:04:52.054Z"
   },
   {
    "duration": 229,
    "start_time": "2022-01-16T16:04:57.220Z"
   },
   {
    "duration": 84924,
    "start_time": "2022-01-16T16:05:54.076Z"
   },
   {
    "duration": 99730,
    "start_time": "2022-01-16T16:07:19.002Z"
   },
   {
    "duration": 17238,
    "start_time": "2022-01-16T16:08:58.735Z"
   },
   {
    "duration": 1228,
    "start_time": "2022-01-16T16:09:15.975Z"
   },
   {
    "duration": 22,
    "start_time": "2022-01-16T16:09:17.205Z"
   },
   {
    "duration": 10,
    "start_time": "2022-01-16T16:09:17.228Z"
   },
   {
    "duration": 350,
    "start_time": "2022-01-16T16:09:17.240Z"
   },
   {
    "duration": 40,
    "start_time": "2022-01-16T16:09:17.592Z"
   },
   {
    "duration": 11,
    "start_time": "2022-01-16T16:09:17.635Z"
   },
   {
    "duration": 20,
    "start_time": "2022-01-16T16:09:17.648Z"
   },
   {
    "duration": 10,
    "start_time": "2022-01-16T16:09:17.670Z"
   },
   {
    "duration": 9,
    "start_time": "2022-01-16T16:09:17.682Z"
   },
   {
    "duration": 9,
    "start_time": "2022-01-16T16:09:17.692Z"
   },
   {
    "duration": 6,
    "start_time": "2022-01-16T16:09:17.702Z"
   },
   {
    "duration": 4,
    "start_time": "2022-01-16T16:09:17.710Z"
   },
   {
    "duration": 240,
    "start_time": "2022-01-16T16:09:17.716Z"
   },
   {
    "duration": 241,
    "start_time": "2022-01-16T16:09:17.957Z"
   },
   {
    "duration": 300,
    "start_time": "2022-01-16T16:09:18.200Z"
   },
   {
    "duration": 230,
    "start_time": "2022-01-16T16:09:18.502Z"
   },
   {
    "duration": 229,
    "start_time": "2022-01-16T16:12:37.139Z"
   },
   {
    "duration": 229,
    "start_time": "2022-01-16T16:12:44.002Z"
   },
   {
    "duration": 232,
    "start_time": "2022-01-16T16:12:53.914Z"
   },
   {
    "duration": 317,
    "start_time": "2022-01-16T16:12:59.066Z"
   },
   {
    "duration": 285,
    "start_time": "2022-01-16T16:13:01.315Z"
   },
   {
    "duration": 100044,
    "start_time": "2022-01-16T16:13:58.099Z"
   },
   {
    "duration": 100128,
    "start_time": "2022-01-16T16:15:38.145Z"
   },
   {
    "duration": 2166,
    "start_time": "2022-01-16T16:17:18.275Z"
   },
   {
    "duration": 1204,
    "start_time": "2022-01-16T16:17:20.444Z"
   },
   {
    "duration": 23,
    "start_time": "2022-01-16T16:17:21.650Z"
   },
   {
    "duration": 16,
    "start_time": "2022-01-16T16:17:21.676Z"
   },
   {
    "duration": 294,
    "start_time": "2022-01-16T16:17:21.694Z"
   },
   {
    "duration": 39,
    "start_time": "2022-01-16T16:17:21.989Z"
   },
   {
    "duration": 11,
    "start_time": "2022-01-16T16:17:22.031Z"
   },
   {
    "duration": 23,
    "start_time": "2022-01-16T16:17:22.043Z"
   },
   {
    "duration": 11,
    "start_time": "2022-01-16T16:17:22.068Z"
   },
   {
    "duration": 16,
    "start_time": "2022-01-16T16:17:22.081Z"
   },
   {
    "duration": 9,
    "start_time": "2022-01-16T16:17:22.099Z"
   },
   {
    "duration": 231,
    "start_time": "2022-01-16T16:17:22.109Z"
   },
   {
    "duration": 243,
    "start_time": "2022-01-16T16:17:22.342Z"
   },
   {
    "duration": 4,
    "start_time": "2022-01-16T16:17:23.131Z"
   },
   {
    "duration": 7,
    "start_time": "2022-01-16T16:17:23.136Z"
   },
   {
    "duration": 279,
    "start_time": "2022-01-16T16:17:30.611Z"
   },
   {
    "duration": 176,
    "start_time": "2022-01-16T16:17:31.130Z"
   },
   {
    "duration": 4,
    "start_time": "2022-01-16T16:17:50.322Z"
   },
   {
    "duration": 3,
    "start_time": "2022-01-16T16:17:53.530Z"
   },
   {
    "duration": 6,
    "start_time": "2022-01-16T16:18:23.827Z"
   },
   {
    "duration": 6,
    "start_time": "2022-01-16T16:18:24.786Z"
   },
   {
    "duration": 8,
    "start_time": "2022-01-16T16:19:10.409Z"
   },
   {
    "duration": 5,
    "start_time": "2022-01-16T16:19:11.193Z"
   },
   {
    "duration": 173,
    "start_time": "2022-01-16T16:19:40.252Z"
   },
   {
    "duration": 186,
    "start_time": "2022-01-16T16:19:42.938Z"
   },
   {
    "duration": 462,
    "start_time": "2022-01-17T12:07:01.717Z"
   },
   {
    "duration": 472,
    "start_time": "2022-01-17T12:07:07.359Z"
   },
   {
    "duration": 881,
    "start_time": "2022-01-17T12:07:26.743Z"
   },
   {
    "duration": -117,
    "start_time": "2022-01-17T12:07:27.744Z"
   },
   {
    "duration": -221,
    "start_time": "2022-01-17T12:07:27.849Z"
   },
   {
    "duration": 229,
    "start_time": "2022-01-17T12:07:27.703Z"
   },
   {
    "duration": -124,
    "start_time": "2022-01-17T12:07:28.058Z"
   },
   {
    "duration": 230,
    "start_time": "2022-01-17T12:07:28.055Z"
   },
   {
    "duration": -113,
    "start_time": "2022-01-17T12:07:28.399Z"
   },
   {
    "duration": 229,
    "start_time": "2022-01-17T12:07:28.438Z"
   },
   {
    "duration": -114,
    "start_time": "2022-01-17T12:07:28.783Z"
   },
   {
    "duration": 307,
    "start_time": "2022-01-17T12:07:28.822Z"
   },
   {
    "duration": -111,
    "start_time": "2022-01-17T12:07:29.242Z"
   },
   {
    "duration": 252,
    "start_time": "2022-01-17T12:07:29.215Z"
   },
   {
    "duration": -115,
    "start_time": "2022-01-17T12:07:29.584Z"
   },
   {
    "duration": 565,
    "start_time": "2022-01-17T12:07:30.755Z"
   },
   {
    "duration": 3262,
    "start_time": "2022-01-17T12:07:39.110Z"
   },
   {
    "duration": 12920,
    "start_time": "2022-01-17T12:07:42.374Z"
   },
   {
    "duration": 6964,
    "start_time": "2022-01-17T12:07:55.297Z"
   },
   {
    "duration": 1580,
    "start_time": "2022-01-17T12:08:02.263Z"
   },
   {
    "duration": 50,
    "start_time": "2022-01-17T12:08:03.845Z"
   },
   {
    "duration": 11,
    "start_time": "2022-01-17T12:08:03.897Z"
   },
   {
    "duration": 458,
    "start_time": "2022-01-17T12:08:03.909Z"
   },
   {
    "duration": 67,
    "start_time": "2022-01-17T12:08:04.369Z"
   },
   {
    "duration": 11,
    "start_time": "2022-01-17T12:08:04.438Z"
   },
   {
    "duration": 25,
    "start_time": "2022-01-17T12:08:04.450Z"
   },
   {
    "duration": 10,
    "start_time": "2022-01-17T12:08:04.476Z"
   },
   {
    "duration": 14,
    "start_time": "2022-01-17T12:08:04.488Z"
   },
   {
    "duration": 9,
    "start_time": "2022-01-17T12:08:04.504Z"
   },
   {
    "duration": 229,
    "start_time": "2022-01-17T12:08:04.514Z"
   },
   {
    "duration": 218,
    "start_time": "2022-01-17T12:08:04.744Z"
   },
   {
    "duration": 5,
    "start_time": "2022-01-17T12:08:04.964Z"
   },
   {
    "duration": 31,
    "start_time": "2022-01-17T12:08:04.970Z"
   },
   {
    "duration": 335,
    "start_time": "2022-01-17T12:18:05.738Z"
   },
   {
    "duration": 250,
    "start_time": "2022-01-17T12:18:46.417Z"
   },
   {
    "duration": 250,
    "start_time": "2022-01-17T12:19:01.363Z"
   },
   {
    "duration": 6,
    "start_time": "2022-01-17T12:21:25.053Z"
   },
   {
    "duration": 9,
    "start_time": "2022-01-17T12:21:34.901Z"
   },
   {
    "duration": 263,
    "start_time": "2022-01-17T12:26:25.336Z"
   },
   {
    "duration": 157,
    "start_time": "2022-01-17T12:26:55.864Z"
   },
   {
    "duration": 263,
    "start_time": "2022-01-17T12:27:48.992Z"
   },
   {
    "duration": 114,
    "start_time": "2022-01-17T12:28:14.952Z"
   },
   {
    "duration": 157,
    "start_time": "2022-01-17T12:28:28.641Z"
   },
   {
    "duration": 75,
    "start_time": "2022-01-17T12:28:45.823Z"
   },
   {
    "duration": 76,
    "start_time": "2022-01-17T12:28:56.182Z"
   },
   {
    "duration": 188,
    "start_time": "2022-01-17T12:32:20.530Z"
   },
   {
    "duration": 154,
    "start_time": "2022-01-17T12:34:09.385Z"
   },
   {
    "duration": 79,
    "start_time": "2022-01-17T12:34:15.795Z"
   },
   {
    "duration": 156,
    "start_time": "2022-01-17T12:34:44.040Z"
   },
   {
    "duration": 162,
    "start_time": "2022-01-17T12:37:00.966Z"
   },
   {
    "duration": 179,
    "start_time": "2022-01-17T12:37:04.854Z"
   },
   {
    "duration": 226,
    "start_time": "2022-01-17T12:41:46.913Z"
   },
   {
    "duration": 234,
    "start_time": "2022-01-17T12:41:49.562Z"
   },
   {
    "duration": 239,
    "start_time": "2022-01-17T12:41:55.876Z"
   },
   {
    "duration": 249,
    "start_time": "2022-01-17T12:42:26.433Z"
   },
   {
    "duration": 155,
    "start_time": "2022-01-17T12:43:43.456Z"
   },
   {
    "duration": 312,
    "start_time": "2022-01-17T12:44:12.039Z"
   },
   {
    "duration": 304,
    "start_time": "2022-01-17T12:45:37.309Z"
   },
   {
    "duration": -3264,
    "start_time": "2022-01-17T12:45:40.879Z"
   },
   {
    "duration": 2485,
    "start_time": "2022-01-17T12:45:48.462Z"
   },
   {
    "duration": 2480,
    "start_time": "2022-01-17T12:45:50.950Z"
   },
   {
    "duration": 2529,
    "start_time": "2022-01-17T12:45:53.433Z"
   },
   {
    "duration": 5733,
    "start_time": "2022-01-17T12:45:55.964Z"
   },
   {
    "duration": 144,
    "start_time": "2022-01-17T12:46:01.699Z"
   },
   {
    "duration": 11,
    "start_time": "2022-01-17T12:46:01.845Z"
   },
   {
    "duration": 664,
    "start_time": "2022-01-17T12:46:01.858Z"
   },
   {
    "duration": 69,
    "start_time": "2022-01-17T12:46:02.525Z"
   },
   {
    "duration": 12,
    "start_time": "2022-01-17T12:46:02.596Z"
   },
   {
    "duration": 47,
    "start_time": "2022-01-17T12:46:02.610Z"
   },
   {
    "duration": 12,
    "start_time": "2022-01-17T12:46:02.659Z"
   },
   {
    "duration": 22,
    "start_time": "2022-01-17T12:46:02.673Z"
   },
   {
    "duration": 38,
    "start_time": "2022-01-17T12:46:02.697Z"
   },
   {
    "duration": 384,
    "start_time": "2022-01-17T12:46:02.738Z"
   },
   {
    "duration": 237,
    "start_time": "2022-01-17T12:46:03.124Z"
   },
   {
    "duration": 6,
    "start_time": "2022-01-17T12:46:03.364Z"
   },
   {
    "duration": 60,
    "start_time": "2022-01-17T12:46:03.372Z"
   },
   {
    "duration": 714,
    "start_time": "2022-01-17T12:48:30.264Z"
   },
   {
    "duration": 2325,
    "start_time": "2022-01-17T12:48:38.505Z"
   },
   {
    "duration": 2340,
    "start_time": "2022-01-17T12:48:40.832Z"
   },
   {
    "duration": 2269,
    "start_time": "2022-01-17T12:48:43.174Z"
   },
   {
    "duration": 5144,
    "start_time": "2022-01-17T12:48:45.445Z"
   },
   {
    "duration": 144,
    "start_time": "2022-01-17T12:48:50.591Z"
   },
   {
    "duration": 10,
    "start_time": "2022-01-17T12:48:50.737Z"
   },
   {
    "duration": 527,
    "start_time": "2022-01-17T12:48:50.749Z"
   },
   {
    "duration": 66,
    "start_time": "2022-01-17T12:48:51.277Z"
   },
   {
    "duration": 10,
    "start_time": "2022-01-17T12:48:51.345Z"
   },
   {
    "duration": 27,
    "start_time": "2022-01-17T12:48:51.356Z"
   },
   {
    "duration": 10,
    "start_time": "2022-01-17T12:48:51.385Z"
   },
   {
    "duration": 11,
    "start_time": "2022-01-17T12:48:51.397Z"
   },
   {
    "duration": 20,
    "start_time": "2022-01-17T12:48:51.409Z"
   },
   {
    "duration": 297,
    "start_time": "2022-01-17T12:48:51.430Z"
   },
   {
    "duration": 190,
    "start_time": "2022-01-17T12:48:51.729Z"
   },
   {
    "duration": 4,
    "start_time": "2022-01-17T12:48:51.921Z"
   },
   {
    "duration": 7,
    "start_time": "2022-01-17T12:48:51.926Z"
   },
   {
    "duration": 284,
    "start_time": "2022-01-17T12:49:25.042Z"
   },
   {
    "duration": 2430,
    "start_time": "2022-01-17T12:49:44.205Z"
   },
   {
    "duration": 2688,
    "start_time": "2022-01-17T12:49:46.638Z"
   },
   {
    "duration": 2659,
    "start_time": "2022-01-17T12:49:49.328Z"
   },
   {
    "duration": 6195,
    "start_time": "2022-01-17T12:49:51.990Z"
   },
   {
    "duration": 196,
    "start_time": "2022-01-17T12:49:58.186Z"
   },
   {
    "duration": 14,
    "start_time": "2022-01-17T12:49:58.383Z"
   },
   {
    "duration": 821,
    "start_time": "2022-01-17T12:49:58.398Z"
   },
   {
    "duration": 67,
    "start_time": "2022-01-17T12:49:59.221Z"
   },
   {
    "duration": 12,
    "start_time": "2022-01-17T12:49:59.291Z"
   },
   {
    "duration": 25,
    "start_time": "2022-01-17T12:49:59.305Z"
   },
   {
    "duration": 10,
    "start_time": "2022-01-17T12:49:59.331Z"
   },
   {
    "duration": 13,
    "start_time": "2022-01-17T12:49:59.342Z"
   },
   {
    "duration": 12,
    "start_time": "2022-01-17T12:49:59.356Z"
   },
   {
    "duration": 286,
    "start_time": "2022-01-17T12:49:59.370Z"
   },
   {
    "duration": 207,
    "start_time": "2022-01-17T12:49:59.657Z"
   },
   {
    "duration": 5,
    "start_time": "2022-01-17T12:49:59.866Z"
   },
   {
    "duration": 9,
    "start_time": "2022-01-17T12:49:59.872Z"
   },
   {
    "duration": 238,
    "start_time": "2022-01-17T12:49:59.882Z"
   },
   {
    "duration": 176,
    "start_time": "2022-01-17T12:50:00.121Z"
   },
   {
    "duration": 155,
    "start_time": "2022-01-17T13:00:50.431Z"
   },
   {
    "duration": 338,
    "start_time": "2022-01-17T13:01:03.870Z"
   },
   {
    "duration": 164,
    "start_time": "2022-01-17T13:01:09.395Z"
   },
   {
    "duration": 302,
    "start_time": "2022-01-17T13:01:19.606Z"
   },
   {
    "duration": 164,
    "start_time": "2022-01-17T13:01:32.646Z"
   },
   {
    "duration": 1517,
    "start_time": "2022-01-17T13:04:53.442Z"
   },
   {
    "duration": 229,
    "start_time": "2022-01-17T13:16:14.551Z"
   },
   {
    "duration": 2351,
    "start_time": "2022-01-17T13:18:20.139Z"
   },
   {
    "duration": 2561,
    "start_time": "2022-01-17T13:18:22.492Z"
   },
   {
    "duration": 2373,
    "start_time": "2022-01-17T13:18:25.056Z"
   },
   {
    "duration": 1247,
    "start_time": "2022-01-17T13:18:27.432Z"
   },
   {
    "duration": 25,
    "start_time": "2022-01-17T13:18:28.681Z"
   },
   {
    "duration": 13,
    "start_time": "2022-01-17T13:18:28.708Z"
   },
   {
    "duration": 446,
    "start_time": "2022-01-17T13:18:28.723Z"
   },
   {
    "duration": 44,
    "start_time": "2022-01-17T13:18:29.171Z"
   },
   {
    "duration": 11,
    "start_time": "2022-01-17T13:18:29.217Z"
   },
   {
    "duration": 24,
    "start_time": "2022-01-17T13:18:29.230Z"
   },
   {
    "duration": 9,
    "start_time": "2022-01-17T13:18:29.256Z"
   },
   {
    "duration": 8,
    "start_time": "2022-01-17T13:18:29.267Z"
   },
   {
    "duration": 10,
    "start_time": "2022-01-17T13:18:29.276Z"
   },
   {
    "duration": 219,
    "start_time": "2022-01-17T13:18:29.287Z"
   },
   {
    "duration": 203,
    "start_time": "2022-01-17T13:18:29.508Z"
   },
   {
    "duration": 5,
    "start_time": "2022-01-17T13:18:29.713Z"
   },
   {
    "duration": 22,
    "start_time": "2022-01-17T13:18:29.720Z"
   },
   {
    "duration": 440,
    "start_time": "2022-01-18T14:25:49.850Z"
   },
   {
    "duration": 4624,
    "start_time": "2022-01-18T14:26:05.631Z"
   },
   {
    "duration": 21360,
    "start_time": "2022-01-18T14:26:10.258Z"
   },
   {
    "duration": 11922,
    "start_time": "2022-01-18T14:26:31.623Z"
   },
   {
    "duration": 1729,
    "start_time": "2022-01-18T14:26:43.548Z"
   },
   {
    "duration": 28,
    "start_time": "2022-01-18T14:26:45.279Z"
   },
   {
    "duration": 15,
    "start_time": "2022-01-18T14:26:45.310Z"
   },
   {
    "duration": 1246,
    "start_time": "2022-01-18T14:26:45.327Z"
   },
   {
    "duration": 57,
    "start_time": "2022-01-18T14:26:46.575Z"
   },
   {
    "duration": 17,
    "start_time": "2022-01-18T14:26:46.636Z"
   },
   {
    "duration": 36,
    "start_time": "2022-01-18T14:26:46.656Z"
   },
   {
    "duration": 15,
    "start_time": "2022-01-18T14:26:46.694Z"
   },
   {
    "duration": 13,
    "start_time": "2022-01-18T14:26:46.712Z"
   },
   {
    "duration": 18,
    "start_time": "2022-01-18T14:26:46.728Z"
   },
   {
    "duration": 369,
    "start_time": "2022-01-18T14:26:46.749Z"
   },
   {
    "duration": 347,
    "start_time": "2022-01-18T14:26:47.120Z"
   },
   {
    "duration": 7,
    "start_time": "2022-01-18T14:26:47.469Z"
   },
   {
    "duration": 9,
    "start_time": "2022-01-18T14:26:47.478Z"
   },
   {
    "duration": 353,
    "start_time": "2022-01-18T14:26:47.489Z"
   },
   {
    "duration": 286,
    "start_time": "2022-01-18T14:26:47.845Z"
   },
   {
    "duration": 8,
    "start_time": "2022-01-18T14:26:48.135Z"
   },
   {
    "duration": 11,
    "start_time": "2022-01-18T14:26:48.160Z"
   },
   {
    "duration": 10,
    "start_time": "2022-01-18T14:26:48.173Z"
   },
   {
    "duration": 618,
    "start_time": "2022-01-18T14:28:46.208Z"
   },
   {
    "duration": 12,
    "start_time": "2022-01-18T14:30:51.600Z"
   },
   {
    "duration": 13,
    "start_time": "2022-01-18T14:31:06.329Z"
   },
   {
    "duration": 8,
    "start_time": "2022-01-18T16:00:09.590Z"
   },
   {
    "duration": 6,
    "start_time": "2022-01-18T16:00:31.885Z"
   },
   {
    "duration": 5,
    "start_time": "2022-01-18T16:00:38.428Z"
   },
   {
    "duration": 13,
    "start_time": "2022-01-18T16:03:16.011Z"
   },
   {
    "duration": 378,
    "start_time": "2022-01-18T16:03:21.674Z"
   },
   {
    "duration": 454,
    "start_time": "2022-01-18T16:04:11.362Z"
   },
   {
    "duration": 12,
    "start_time": "2022-01-18T16:04:25.849Z"
   },
   {
    "duration": 421,
    "start_time": "2022-01-18T16:04:28.909Z"
   },
   {
    "duration": 367,
    "start_time": "2022-01-18T16:06:25.151Z"
   },
   {
    "duration": 12,
    "start_time": "2022-01-18T16:08:06.377Z"
   },
   {
    "duration": 6,
    "start_time": "2022-01-18T16:08:07.453Z"
   },
   {
    "duration": 7,
    "start_time": "2022-01-18T16:08:16.336Z"
   },
   {
    "duration": 7,
    "start_time": "2022-01-18T16:08:23.142Z"
   },
   {
    "duration": 8,
    "start_time": "2022-01-18T16:08:58.397Z"
   },
   {
    "duration": 175,
    "start_time": "2022-01-18T16:09:33.251Z"
   },
   {
    "duration": 7,
    "start_time": "2022-01-18T16:09:38.132Z"
   },
   {
    "duration": 7,
    "start_time": "2022-01-18T16:09:43.764Z"
   },
   {
    "duration": 3654,
    "start_time": "2022-01-18T16:10:01.453Z"
   },
   {
    "duration": 4134,
    "start_time": "2022-01-18T16:10:05.111Z"
   },
   {
    "duration": 5467,
    "start_time": "2022-01-18T16:10:09.249Z"
   },
   {
    "duration": 1798,
    "start_time": "2022-01-18T16:10:14.719Z"
   },
   {
    "duration": 37,
    "start_time": "2022-01-18T16:10:16.520Z"
   },
   {
    "duration": 22,
    "start_time": "2022-01-18T16:10:16.560Z"
   },
   {
    "duration": 863,
    "start_time": "2022-01-18T16:10:16.584Z"
   },
   {
    "duration": 47,
    "start_time": "2022-01-18T16:10:17.449Z"
   },
   {
    "duration": 16,
    "start_time": "2022-01-18T16:10:17.500Z"
   },
   {
    "duration": 29,
    "start_time": "2022-01-18T16:10:17.519Z"
   },
   {
    "duration": 15,
    "start_time": "2022-01-18T16:10:17.550Z"
   },
   {
    "duration": 17,
    "start_time": "2022-01-18T16:10:17.568Z"
   },
   {
    "duration": 15,
    "start_time": "2022-01-18T16:10:17.587Z"
   },
   {
    "duration": 390,
    "start_time": "2022-01-18T16:10:17.604Z"
   },
   {
    "duration": 377,
    "start_time": "2022-01-18T16:10:17.996Z"
   },
   {
    "duration": 7,
    "start_time": "2022-01-18T16:10:18.376Z"
   },
   {
    "duration": 7,
    "start_time": "2022-01-18T16:10:18.385Z"
   },
   {
    "duration": 396,
    "start_time": "2022-01-18T16:10:18.394Z"
   },
   {
    "duration": 306,
    "start_time": "2022-01-18T16:10:18.793Z"
   },
   {
    "duration": 7,
    "start_time": "2022-01-18T16:10:19.102Z"
   },
   {
    "duration": 9,
    "start_time": "2022-01-18T16:10:19.111Z"
   },
   {
    "duration": 39,
    "start_time": "2022-01-18T16:10:19.122Z"
   },
   {
    "duration": 17,
    "start_time": "2022-01-18T16:10:19.164Z"
   },
   {
    "duration": 7,
    "start_time": "2022-01-18T16:10:19.183Z"
   },
   {
    "duration": 7,
    "start_time": "2022-01-18T16:10:19.192Z"
   },
   {
    "duration": 5,
    "start_time": "2022-01-18T16:10:19.202Z"
   },
   {
    "duration": 53,
    "start_time": "2022-01-18T16:10:19.211Z"
   },
   {
    "duration": 12,
    "start_time": "2022-01-18T16:10:19.267Z"
   },
   {
    "duration": 6,
    "start_time": "2022-01-18T16:18:46.630Z"
   },
   {
    "duration": 507,
    "start_time": "2022-01-18T16:18:47.878Z"
   },
   {
    "duration": 404,
    "start_time": "2022-01-18T16:19:43.726Z"
   },
   {
    "duration": 12,
    "start_time": "2022-01-18T16:19:57.734Z"
   },
   {
    "duration": 13,
    "start_time": "2022-01-18T16:21:16.580Z"
   },
   {
    "duration": 4525,
    "start_time": "2022-01-19T12:49:18.971Z"
   },
   {
    "duration": 25087,
    "start_time": "2022-01-19T12:49:23.499Z"
   },
   {
    "duration": 10679,
    "start_time": "2022-01-19T12:49:48.590Z"
   },
   {
    "duration": 2099,
    "start_time": "2022-01-19T12:49:59.272Z"
   },
   {
    "duration": 45,
    "start_time": "2022-01-19T12:50:01.374Z"
   },
   {
    "duration": 16,
    "start_time": "2022-01-19T12:50:01.422Z"
   },
   {
    "duration": 595,
    "start_time": "2022-01-19T12:50:01.441Z"
   },
   {
    "duration": 101,
    "start_time": "2022-01-19T12:50:02.039Z"
   },
   {
    "duration": 16,
    "start_time": "2022-01-19T12:50:02.145Z"
   },
   {
    "duration": 52,
    "start_time": "2022-01-19T12:50:02.164Z"
   },
   {
    "duration": 15,
    "start_time": "2022-01-19T12:50:02.218Z"
   },
   {
    "duration": 25,
    "start_time": "2022-01-19T12:50:02.236Z"
   },
   {
    "duration": 34,
    "start_time": "2022-01-19T12:50:02.263Z"
   },
   {
    "duration": 25,
    "start_time": "2022-01-19T12:50:02.300Z"
   },
   {
    "duration": 423,
    "start_time": "2022-01-19T12:50:02.328Z"
   },
   {
    "duration": 375,
    "start_time": "2022-01-19T12:50:02.753Z"
   },
   {
    "duration": 6,
    "start_time": "2022-01-19T12:50:03.130Z"
   },
   {
    "duration": 30,
    "start_time": "2022-01-19T12:50:03.139Z"
   },
   {
    "duration": 350,
    "start_time": "2022-01-19T12:50:03.171Z"
   },
   {
    "duration": 287,
    "start_time": "2022-01-19T12:50:03.524Z"
   },
   {
    "duration": 6,
    "start_time": "2022-01-19T12:50:03.814Z"
   },
   {
    "duration": 25,
    "start_time": "2022-01-19T12:50:03.823Z"
   },
   {
    "duration": 20,
    "start_time": "2022-01-19T12:50:03.851Z"
   },
   {
    "duration": 18,
    "start_time": "2022-01-19T12:50:03.873Z"
   },
   {
    "duration": 13,
    "start_time": "2022-01-19T12:50:03.893Z"
   },
   {
    "duration": 16,
    "start_time": "2022-01-19T12:50:03.908Z"
   },
   {
    "duration": 20,
    "start_time": "2022-01-19T12:50:03.929Z"
   },
   {
    "duration": 27,
    "start_time": "2022-01-19T12:50:03.952Z"
   },
   {
    "duration": 17,
    "start_time": "2022-01-19T12:50:03.982Z"
   },
   {
    "duration": 11,
    "start_time": "2022-01-19T12:50:04.001Z"
   },
   {
    "duration": 36,
    "start_time": "2022-01-19T12:50:04.014Z"
   },
   {
    "duration": 12,
    "start_time": "2022-01-19T12:50:04.053Z"
   },
   {
    "duration": 3610,
    "start_time": "2022-01-19T15:26:51.732Z"
   },
   {
    "duration": 3406,
    "start_time": "2022-01-19T15:26:55.345Z"
   },
   {
    "duration": 3634,
    "start_time": "2022-01-19T15:26:58.754Z"
   },
   {
    "duration": 1674,
    "start_time": "2022-01-19T15:27:02.391Z"
   },
   {
    "duration": 3,
    "start_time": "2022-01-19T15:27:04.069Z"
   },
   {
    "duration": 30,
    "start_time": "2022-01-19T15:27:04.074Z"
   },
   {
    "duration": 14,
    "start_time": "2022-01-19T15:27:04.107Z"
   },
   {
    "duration": 607,
    "start_time": "2022-01-19T15:27:04.125Z"
   },
   {
    "duration": 81,
    "start_time": "2022-01-19T15:27:04.735Z"
   },
   {
    "duration": 16,
    "start_time": "2022-01-19T15:27:04.818Z"
   },
   {
    "duration": 29,
    "start_time": "2022-01-19T15:27:04.836Z"
   },
   {
    "duration": 15,
    "start_time": "2022-01-19T15:27:04.867Z"
   },
   {
    "duration": 16,
    "start_time": "2022-01-19T15:27:04.884Z"
   },
   {
    "duration": 16,
    "start_time": "2022-01-19T15:27:04.903Z"
   },
   {
    "duration": 1471,
    "start_time": "2022-01-19T15:27:04.921Z"
   },
   {
    "duration": -414,
    "start_time": "2022-01-19T15:27:06.811Z"
   },
   {
    "duration": -414,
    "start_time": "2022-01-19T15:27:06.812Z"
   },
   {
    "duration": -413,
    "start_time": "2022-01-19T15:27:06.813Z"
   },
   {
    "duration": -414,
    "start_time": "2022-01-19T15:27:06.815Z"
   },
   {
    "duration": -413,
    "start_time": "2022-01-19T15:27:06.816Z"
   },
   {
    "duration": -414,
    "start_time": "2022-01-19T15:27:06.818Z"
   },
   {
    "duration": -414,
    "start_time": "2022-01-19T15:27:06.819Z"
   },
   {
    "duration": -414,
    "start_time": "2022-01-19T15:27:06.821Z"
   },
   {
    "duration": -414,
    "start_time": "2022-01-19T15:27:06.822Z"
   },
   {
    "duration": -414,
    "start_time": "2022-01-19T15:27:06.824Z"
   },
   {
    "duration": -414,
    "start_time": "2022-01-19T15:27:06.825Z"
   },
   {
    "duration": -414,
    "start_time": "2022-01-19T15:27:06.827Z"
   },
   {
    "duration": -413,
    "start_time": "2022-01-19T15:27:06.828Z"
   },
   {
    "duration": -411,
    "start_time": "2022-01-19T15:27:06.829Z"
   },
   {
    "duration": -513,
    "start_time": "2022-01-19T15:27:06.934Z"
   },
   {
    "duration": -515,
    "start_time": "2022-01-19T15:27:06.938Z"
   },
   {
    "duration": -515,
    "start_time": "2022-01-19T15:27:06.940Z"
   },
   {
    "duration": -515,
    "start_time": "2022-01-19T15:27:06.942Z"
   },
   {
    "duration": -514,
    "start_time": "2022-01-19T15:27:06.943Z"
   },
   {
    "duration": 3469,
    "start_time": "2022-01-19T15:27:57.067Z"
   },
   {
    "duration": 3804,
    "start_time": "2022-01-19T15:28:00.539Z"
   },
   {
    "duration": 3612,
    "start_time": "2022-01-19T15:28:04.348Z"
   },
   {
    "duration": 1085,
    "start_time": "2022-01-19T15:28:07.964Z"
   },
   {
    "duration": -285,
    "start_time": "2022-01-19T15:28:09.338Z"
   },
   {
    "duration": -287,
    "start_time": "2022-01-19T15:28:09.342Z"
   },
   {
    "duration": -287,
    "start_time": "2022-01-19T15:28:09.344Z"
   },
   {
    "duration": -445,
    "start_time": "2022-01-19T15:28:09.503Z"
   },
   {
    "duration": -446,
    "start_time": "2022-01-19T15:28:09.506Z"
   },
   {
    "duration": -447,
    "start_time": "2022-01-19T15:28:09.508Z"
   },
   {
    "duration": -453,
    "start_time": "2022-01-19T15:28:09.516Z"
   },
   {
    "duration": -454,
    "start_time": "2022-01-19T15:28:09.518Z"
   },
   {
    "duration": -453,
    "start_time": "2022-01-19T15:28:09.519Z"
   },
   {
    "duration": -453,
    "start_time": "2022-01-19T15:28:09.521Z"
   },
   {
    "duration": -454,
    "start_time": "2022-01-19T15:28:09.523Z"
   },
   {
    "duration": -453,
    "start_time": "2022-01-19T15:28:09.524Z"
   },
   {
    "duration": -454,
    "start_time": "2022-01-19T15:28:09.526Z"
   },
   {
    "duration": -561,
    "start_time": "2022-01-19T15:28:09.635Z"
   },
   {
    "duration": -562,
    "start_time": "2022-01-19T15:28:09.637Z"
   },
   {
    "duration": -562,
    "start_time": "2022-01-19T15:28:09.639Z"
   },
   {
    "duration": -562,
    "start_time": "2022-01-19T15:28:09.640Z"
   },
   {
    "duration": -561,
    "start_time": "2022-01-19T15:28:09.641Z"
   },
   {
    "duration": -562,
    "start_time": "2022-01-19T15:28:09.643Z"
   },
   {
    "duration": -561,
    "start_time": "2022-01-19T15:28:09.644Z"
   },
   {
    "duration": -566,
    "start_time": "2022-01-19T15:28:09.650Z"
   },
   {
    "duration": -565,
    "start_time": "2022-01-19T15:28:09.651Z"
   },
   {
    "duration": -566,
    "start_time": "2022-01-19T15:28:09.653Z"
   },
   {
    "duration": -565,
    "start_time": "2022-01-19T15:28:09.654Z"
   },
   {
    "duration": -565,
    "start_time": "2022-01-19T15:28:09.655Z"
   },
   {
    "duration": -663,
    "start_time": "2022-01-19T15:28:09.755Z"
   },
   {
    "duration": -674,
    "start_time": "2022-01-19T15:28:09.767Z"
   },
   {
    "duration": -674,
    "start_time": "2022-01-19T15:28:09.768Z"
   },
   {
    "duration": -674,
    "start_time": "2022-01-19T15:28:09.770Z"
   },
   {
    "duration": -674,
    "start_time": "2022-01-19T15:28:09.771Z"
   },
   {
    "duration": 1019,
    "start_time": "2022-01-19T15:28:25.659Z"
   },
   {
    "duration": 4,
    "start_time": "2022-01-19T15:28:26.681Z"
   },
   {
    "duration": 31,
    "start_time": "2022-01-19T15:28:26.688Z"
   },
   {
    "duration": 16,
    "start_time": "2022-01-19T15:28:26.722Z"
   },
   {
    "duration": 678,
    "start_time": "2022-01-19T15:28:26.825Z"
   },
   {
    "duration": 58,
    "start_time": "2022-01-19T15:28:27.506Z"
   },
   {
    "duration": 16,
    "start_time": "2022-01-19T15:28:27.568Z"
   },
   {
    "duration": 26,
    "start_time": "2022-01-19T15:28:27.586Z"
   },
   {
    "duration": 16,
    "start_time": "2022-01-19T15:28:27.614Z"
   },
   {
    "duration": 11,
    "start_time": "2022-01-19T15:28:27.665Z"
   },
   {
    "duration": 12,
    "start_time": "2022-01-19T15:28:27.888Z"
   },
   {
    "duration": 23,
    "start_time": "2022-01-19T15:28:28.072Z"
   },
   {
    "duration": 12,
    "start_time": "2022-01-19T15:28:28.224Z"
   },
   {
    "duration": 361,
    "start_time": "2022-01-19T15:28:28.416Z"
   },
   {
    "duration": 386,
    "start_time": "2022-01-19T15:28:28.780Z"
   },
   {
    "duration": 7,
    "start_time": "2022-01-19T15:28:29.169Z"
   },
   {
    "duration": 8,
    "start_time": "2022-01-19T15:28:29.179Z"
   },
   {
    "duration": 391,
    "start_time": "2022-01-19T15:28:29.190Z"
   },
   {
    "duration": 300,
    "start_time": "2022-01-19T15:28:29.584Z"
   },
   {
    "duration": 7,
    "start_time": "2022-01-19T15:28:29.887Z"
   },
   {
    "duration": 10,
    "start_time": "2022-01-19T15:28:29.897Z"
   },
   {
    "duration": 10,
    "start_time": "2022-01-19T15:28:29.909Z"
   },
   {
    "duration": 15,
    "start_time": "2022-01-19T15:28:30.096Z"
   },
   {
    "duration": 7,
    "start_time": "2022-01-19T15:28:30.289Z"
   },
   {
    "duration": 6,
    "start_time": "2022-01-19T15:28:30.472Z"
   },
   {
    "duration": 6,
    "start_time": "2022-01-19T15:28:30.665Z"
   },
   {
    "duration": 13,
    "start_time": "2022-01-19T15:28:30.859Z"
   },
   {
    "duration": 10,
    "start_time": "2022-01-19T15:28:31.055Z"
   },
   {
    "duration": 6,
    "start_time": "2022-01-19T15:28:31.239Z"
   },
   {
    "duration": 14,
    "start_time": "2022-01-19T15:28:31.466Z"
   },
   {
    "duration": 12,
    "start_time": "2022-01-19T15:28:32.592Z"
   },
   {
    "duration": 3559,
    "start_time": "2022-01-19T15:36:57.963Z"
   },
   {
    "duration": 3517,
    "start_time": "2022-01-19T15:37:01.525Z"
   },
   {
    "duration": 3474,
    "start_time": "2022-01-19T15:37:05.045Z"
   },
   {
    "duration": 1664,
    "start_time": "2022-01-19T15:37:08.523Z"
   },
   {
    "duration": 27,
    "start_time": "2022-01-19T15:37:10.189Z"
   },
   {
    "duration": 15,
    "start_time": "2022-01-19T15:37:10.218Z"
   },
   {
    "duration": 586,
    "start_time": "2022-01-19T15:37:10.236Z"
   },
   {
    "duration": 59,
    "start_time": "2022-01-19T15:37:10.824Z"
   },
   {
    "duration": 17,
    "start_time": "2022-01-19T15:37:10.886Z"
   },
   {
    "duration": 23,
    "start_time": "2022-01-19T15:37:10.906Z"
   },
   {
    "duration": 15,
    "start_time": "2022-01-19T15:37:10.931Z"
   },
   {
    "duration": 32,
    "start_time": "2022-01-19T15:37:10.949Z"
   },
   {
    "duration": 15,
    "start_time": "2022-01-19T15:37:10.985Z"
   },
   {
    "duration": 26,
    "start_time": "2022-01-19T15:37:11.003Z"
   },
   {
    "duration": 45,
    "start_time": "2022-01-19T15:37:11.032Z"
   },
   {
    "duration": 19,
    "start_time": "2022-01-19T15:37:11.079Z"
   },
   {
    "duration": 18,
    "start_time": "2022-01-19T15:37:11.100Z"
   },
   {
    "duration": 7,
    "start_time": "2022-01-19T15:37:11.120Z"
   },
   {
    "duration": 489,
    "start_time": "2022-01-19T15:37:11.129Z"
   },
   {
    "duration": 48,
    "start_time": "2022-01-19T15:37:11.621Z"
   },
   {
    "duration": 27,
    "start_time": "2022-01-19T15:37:11.672Z"
   },
   {
    "duration": 460,
    "start_time": "2022-01-19T15:39:29.647Z"
   },
   {
    "duration": 541,
    "start_time": "2022-01-19T15:39:40.536Z"
   },
   {
    "duration": 23,
    "start_time": "2022-01-19T15:43:08.178Z"
   },
   {
    "duration": 21,
    "start_time": "2022-01-19T15:43:08.945Z"
   },
   {
    "duration": 3443,
    "start_time": "2022-01-19T15:45:19.163Z"
   },
   {
    "duration": 3512,
    "start_time": "2022-01-19T15:45:22.609Z"
   },
   {
    "duration": 3471,
    "start_time": "2022-01-19T15:45:26.125Z"
   },
   {
    "duration": 1694,
    "start_time": "2022-01-19T15:45:29.599Z"
   },
   {
    "duration": 28,
    "start_time": "2022-01-19T15:45:31.295Z"
   },
   {
    "duration": 17,
    "start_time": "2022-01-19T15:45:31.328Z"
   },
   {
    "duration": 625,
    "start_time": "2022-01-19T15:45:31.348Z"
   },
   {
    "duration": 49,
    "start_time": "2022-01-19T15:45:31.975Z"
   },
   {
    "duration": 17,
    "start_time": "2022-01-19T15:45:32.028Z"
   },
   {
    "duration": 21,
    "start_time": "2022-01-19T15:45:32.047Z"
   },
   {
    "duration": 13,
    "start_time": "2022-01-19T15:45:32.071Z"
   },
   {
    "duration": 11,
    "start_time": "2022-01-19T15:45:32.086Z"
   },
   {
    "duration": 11,
    "start_time": "2022-01-19T15:45:32.099Z"
   },
   {
    "duration": 57,
    "start_time": "2022-01-19T15:45:32.112Z"
   },
   {
    "duration": 13,
    "start_time": "2022-01-19T15:45:32.172Z"
   },
   {
    "duration": 19,
    "start_time": "2022-01-19T15:45:32.187Z"
   },
   {
    "duration": 18,
    "start_time": "2022-01-19T15:45:32.208Z"
   },
   {
    "duration": 6,
    "start_time": "2022-01-19T15:45:32.229Z"
   },
   {
    "duration": 480,
    "start_time": "2022-01-19T15:45:32.270Z"
   },
   {
    "duration": 40,
    "start_time": "2022-01-19T15:45:32.753Z"
   },
   {
    "duration": 29,
    "start_time": "2022-01-19T15:45:32.796Z"
   },
   {
    "duration": 461,
    "start_time": "2022-01-19T15:46:00.306Z"
   },
   {
    "duration": 29,
    "start_time": "2022-01-19T15:46:00.928Z"
   },
   {
    "duration": 45,
    "start_time": "2022-01-19T15:46:20.954Z"
   },
   {
    "duration": 26,
    "start_time": "2022-01-19T15:46:37.946Z"
   },
   {
    "duration": 3503,
    "start_time": "2022-01-19T15:48:51.274Z"
   },
   {
    "duration": 10,
    "start_time": "2022-01-19T15:49:05.197Z"
   },
   {
    "duration": 30,
    "start_time": "2022-01-19T15:49:08.739Z"
   },
   {
    "duration": 11,
    "start_time": "2022-01-19T15:49:59.372Z"
   },
   {
    "duration": 12,
    "start_time": "2022-01-19T15:50:11.485Z"
   },
   {
    "duration": 10,
    "start_time": "2022-01-19T15:51:09.050Z"
   },
   {
    "duration": 30,
    "start_time": "2022-01-19T15:51:19.275Z"
   },
   {
    "duration": 326,
    "start_time": "2022-01-19T15:52:53.096Z"
   },
   {
    "duration": 29,
    "start_time": "2022-01-19T15:53:03.842Z"
   },
   {
    "duration": 27,
    "start_time": "2022-01-19T15:53:21.888Z"
   },
   {
    "duration": 40,
    "start_time": "2022-01-19T15:53:30.663Z"
   },
   {
    "duration": 30,
    "start_time": "2022-01-19T15:53:31.174Z"
   },
   {
    "duration": 29,
    "start_time": "2022-01-19T15:54:51.902Z"
   },
   {
    "duration": 29,
    "start_time": "2022-01-19T15:54:57.741Z"
   },
   {
    "duration": 31,
    "start_time": "2022-01-19T15:54:58.197Z"
   },
   {
    "duration": 30,
    "start_time": "2022-01-19T15:55:30.638Z"
   },
   {
    "duration": 31,
    "start_time": "2022-01-19T15:55:31.056Z"
   },
   {
    "duration": 29,
    "start_time": "2022-01-19T15:55:57.686Z"
   },
   {
    "duration": 28,
    "start_time": "2022-01-19T15:56:00.533Z"
   },
   {
    "duration": 31,
    "start_time": "2022-01-19T15:56:00.889Z"
   },
   {
    "duration": 28,
    "start_time": "2022-01-19T15:56:40.483Z"
   },
   {
    "duration": 34,
    "start_time": "2022-01-19T15:56:40.932Z"
   },
   {
    "duration": 30,
    "start_time": "2022-01-19T15:56:41.413Z"
   },
   {
    "duration": 4,
    "start_time": "2022-01-19T16:00:07.490Z"
   },
   {
    "duration": 24,
    "start_time": "2022-01-19T16:00:07.714Z"
   },
   {
    "duration": 18,
    "start_time": "2022-01-19T16:00:07.906Z"
   },
   {
    "duration": 18,
    "start_time": "2022-01-19T16:00:08.204Z"
   },
   {
    "duration": 67,
    "start_time": "2022-01-19T16:00:08.407Z"
   },
   {
    "duration": 18,
    "start_time": "2022-01-19T16:00:08.576Z"
   },
   {
    "duration": 21,
    "start_time": "2022-01-19T16:00:08.761Z"
   },
   {
    "duration": 16,
    "start_time": "2022-01-19T16:00:08.928Z"
   },
   {
    "duration": 12,
    "start_time": "2022-01-19T16:00:09.104Z"
   },
   {
    "duration": 12,
    "start_time": "2022-01-19T16:00:09.285Z"
   },
   {
    "duration": 22,
    "start_time": "2022-01-19T16:00:09.456Z"
   },
   {
    "duration": 12,
    "start_time": "2022-01-19T16:00:09.643Z"
   },
   {
    "duration": 16,
    "start_time": "2022-01-19T16:00:09.823Z"
   },
   {
    "duration": 16,
    "start_time": "2022-01-19T16:00:10.007Z"
   },
   {
    "duration": 21,
    "start_time": "2022-01-19T16:00:10.173Z"
   },
   {
    "duration": 21,
    "start_time": "2022-01-19T16:00:10.343Z"
   },
   {
    "duration": 8,
    "start_time": "2022-01-19T16:00:10.519Z"
   },
   {
    "duration": 531,
    "start_time": "2022-01-19T16:00:10.708Z"
   },
   {
    "duration": 37,
    "start_time": "2022-01-19T16:00:11.241Z"
   },
   {
    "duration": 30,
    "start_time": "2022-01-19T16:00:12.632Z"
   },
   {
    "duration": 28,
    "start_time": "2022-01-19T16:00:13.824Z"
   },
   {
    "duration": 29,
    "start_time": "2022-01-19T16:01:09.204Z"
   },
   {
    "duration": 27,
    "start_time": "2022-01-19T16:01:21.279Z"
   },
   {
    "duration": 3362,
    "start_time": "2022-01-19T16:01:34.173Z"
   },
   {
    "duration": 3442,
    "start_time": "2022-01-19T16:01:37.538Z"
   },
   {
    "duration": 3448,
    "start_time": "2022-01-19T16:01:40.984Z"
   },
   {
    "duration": 1734,
    "start_time": "2022-01-19T16:01:44.435Z"
   },
   {
    "duration": 32,
    "start_time": "2022-01-19T16:01:46.172Z"
   },
   {
    "duration": 16,
    "start_time": "2022-01-19T16:01:46.207Z"
   },
   {
    "duration": 598,
    "start_time": "2022-01-19T16:01:46.225Z"
   },
   {
    "duration": 55,
    "start_time": "2022-01-19T16:01:46.827Z"
   },
   {
    "duration": 17,
    "start_time": "2022-01-19T16:01:46.885Z"
   },
   {
    "duration": 26,
    "start_time": "2022-01-19T16:01:46.904Z"
   },
   {
    "duration": 15,
    "start_time": "2022-01-19T16:01:46.933Z"
   },
   {
    "duration": 28,
    "start_time": "2022-01-19T16:01:46.950Z"
   },
   {
    "duration": 15,
    "start_time": "2022-01-19T16:01:46.981Z"
   },
   {
    "duration": 25,
    "start_time": "2022-01-19T16:01:46.999Z"
   },
   {
    "duration": 44,
    "start_time": "2022-01-19T16:01:47.027Z"
   },
   {
    "duration": 16,
    "start_time": "2022-01-19T16:01:47.073Z"
   },
   {
    "duration": 22,
    "start_time": "2022-01-19T16:01:47.092Z"
   },
   {
    "duration": 19,
    "start_time": "2022-01-19T16:01:47.117Z"
   },
   {
    "duration": 48,
    "start_time": "2022-01-19T16:01:47.139Z"
   },
   {
    "duration": 8,
    "start_time": "2022-01-19T16:01:47.190Z"
   },
   {
    "duration": 497,
    "start_time": "2022-01-19T16:01:47.201Z"
   },
   {
    "duration": 4,
    "start_time": "2022-01-19T16:01:47.701Z"
   },
   {
    "duration": 29,
    "start_time": "2022-01-19T16:01:47.711Z"
   },
   {
    "duration": 3484,
    "start_time": "2022-01-19T16:01:47.771Z"
   },
   {
    "duration": 28,
    "start_time": "2022-01-19T16:16:43.334Z"
   },
   {
    "duration": 25,
    "start_time": "2022-01-19T16:19:40.500Z"
   },
   {
    "duration": 450,
    "start_time": "2022-01-19T16:23:01.889Z"
   },
   {
    "duration": 3526,
    "start_time": "2022-01-19T16:26:18.254Z"
   },
   {
    "duration": 8,
    "start_time": "2022-01-19T16:26:34.110Z"
   },
   {
    "duration": 537,
    "start_time": "2022-01-19T16:26:34.989Z"
   },
   {
    "duration": 7,
    "start_time": "2022-01-19T16:29:10.873Z"
   },
   {
    "duration": 6,
    "start_time": "2022-01-19T16:29:22.722Z"
   },
   {
    "duration": 6,
    "start_time": "2022-01-19T16:29:28.660Z"
   },
   {
    "duration": 9,
    "start_time": "2022-01-19T16:30:17.370Z"
   },
   {
    "duration": 5,
    "start_time": "2022-01-19T16:33:03.613Z"
   },
   {
    "duration": 22,
    "start_time": "2022-01-19T16:33:04.367Z"
   },
   {
    "duration": 17,
    "start_time": "2022-01-19T16:33:04.522Z"
   },
   {
    "duration": 17,
    "start_time": "2022-01-19T16:33:04.719Z"
   },
   {
    "duration": 50,
    "start_time": "2022-01-19T16:33:05.006Z"
   },
   {
    "duration": 17,
    "start_time": "2022-01-19T16:33:05.222Z"
   },
   {
    "duration": 22,
    "start_time": "2022-01-19T16:33:05.365Z"
   },
   {
    "duration": 16,
    "start_time": "2022-01-19T16:33:05.530Z"
   },
   {
    "duration": 11,
    "start_time": "2022-01-19T16:33:05.655Z"
   },
   {
    "duration": 12,
    "start_time": "2022-01-19T16:33:05.831Z"
   },
   {
    "duration": 29,
    "start_time": "2022-01-19T16:33:06.016Z"
   },
   {
    "duration": 12,
    "start_time": "2022-01-19T16:33:06.208Z"
   },
   {
    "duration": 16,
    "start_time": "2022-01-19T16:33:06.398Z"
   },
   {
    "duration": 16,
    "start_time": "2022-01-19T16:33:06.575Z"
   },
   {
    "duration": 22,
    "start_time": "2022-01-19T16:33:06.774Z"
   },
   {
    "duration": 21,
    "start_time": "2022-01-19T16:33:06.950Z"
   },
   {
    "duration": 7,
    "start_time": "2022-01-19T16:33:07.127Z"
   },
   {
    "duration": 456,
    "start_time": "2022-01-19T16:33:07.335Z"
   },
   {
    "duration": 32,
    "start_time": "2022-01-19T16:33:07.793Z"
   },
   {
    "duration": 60,
    "start_time": "2022-01-19T16:33:07.828Z"
   },
   {
    "duration": 442,
    "start_time": "2022-01-19T16:33:07.891Z"
   },
   {
    "duration": 7,
    "start_time": "2022-01-19T16:33:08.336Z"
   },
   {
    "duration": 459,
    "start_time": "2022-01-19T16:33:08.345Z"
   },
   {
    "duration": 7,
    "start_time": "2022-01-19T16:33:11.839Z"
   },
   {
    "duration": 6,
    "start_time": "2022-01-19T16:33:12.606Z"
   },
   {
    "duration": 320,
    "start_time": "2022-01-19T16:33:13.150Z"
   },
   {
    "duration": 6,
    "start_time": "2022-01-19T16:35:28.789Z"
   },
   {
    "duration": -442,
    "start_time": "2022-01-19T16:36:09.679Z"
   },
   {
    "duration": 6,
    "start_time": "2022-01-19T16:36:16.898Z"
   },
   {
    "duration": 3425,
    "start_time": "2022-01-19T16:36:17.220Z"
   },
   {
    "duration": 6,
    "start_time": "2022-01-19T16:36:28.764Z"
   },
   {
    "duration": 6,
    "start_time": "2022-01-19T16:37:09.915Z"
   },
   {
    "duration": 6,
    "start_time": "2022-01-19T16:37:33.555Z"
   },
   {
    "duration": 8,
    "start_time": "2022-01-19T16:44:46.873Z"
   },
   {
    "duration": 277,
    "start_time": "2022-01-19T16:46:45.395Z"
   },
   {
    "duration": 6,
    "start_time": "2022-01-19T16:46:53.409Z"
   },
   {
    "duration": 7,
    "start_time": "2022-01-19T16:46:53.705Z"
   },
   {
    "duration": 6,
    "start_time": "2022-01-19T16:46:53.963Z"
   },
   {
    "duration": 5,
    "start_time": "2022-01-19T16:46:54.193Z"
   },
   {
    "duration": 5,
    "start_time": "2022-01-19T16:46:54.425Z"
   },
   {
    "duration": 640,
    "start_time": "2022-01-19T16:46:54.744Z"
   },
   {
    "duration": 6,
    "start_time": "2022-01-19T16:47:10.721Z"
   },
   {
    "duration": 6,
    "start_time": "2022-01-19T16:47:11.096Z"
   },
   {
    "duration": 276,
    "start_time": "2022-01-19T16:50:43.454Z"
   },
   {
    "duration": 3625,
    "start_time": "2022-01-19T16:50:56.391Z"
   },
   {
    "duration": 3559,
    "start_time": "2022-01-19T16:51:00.019Z"
   },
   {
    "duration": 3531,
    "start_time": "2022-01-19T16:51:03.581Z"
   },
   {
    "duration": 1680,
    "start_time": "2022-01-19T16:51:07.115Z"
   },
   {
    "duration": 28,
    "start_time": "2022-01-19T16:51:08.798Z"
   },
   {
    "duration": 16,
    "start_time": "2022-01-19T16:51:08.828Z"
   },
   {
    "duration": 624,
    "start_time": "2022-01-19T16:51:08.849Z"
   },
   {
    "duration": 80,
    "start_time": "2022-01-19T16:51:09.476Z"
   },
   {
    "duration": 19,
    "start_time": "2022-01-19T16:51:09.558Z"
   },
   {
    "duration": 29,
    "start_time": "2022-01-19T16:51:09.580Z"
   },
   {
    "duration": 19,
    "start_time": "2022-01-19T16:51:09.612Z"
   },
   {
    "duration": 11,
    "start_time": "2022-01-19T16:51:09.634Z"
   },
   {
    "duration": 12,
    "start_time": "2022-01-19T16:51:09.670Z"
   },
   {
    "duration": 21,
    "start_time": "2022-01-19T16:51:09.685Z"
   },
   {
    "duration": 19,
    "start_time": "2022-01-19T16:51:09.709Z"
   },
   {
    "duration": 54,
    "start_time": "2022-01-19T16:51:09.731Z"
   },
   {
    "duration": 30,
    "start_time": "2022-01-19T16:51:09.788Z"
   },
   {
    "duration": 22,
    "start_time": "2022-01-19T16:51:09.821Z"
   },
   {
    "duration": 41,
    "start_time": "2022-01-19T16:51:09.845Z"
   },
   {
    "duration": 8,
    "start_time": "2022-01-19T16:51:09.888Z"
   },
   {
    "duration": 519,
    "start_time": "2022-01-19T16:51:09.898Z"
   },
   {
    "duration": 47,
    "start_time": "2022-01-19T16:51:10.422Z"
   },
   {
    "duration": 37,
    "start_time": "2022-01-19T16:51:10.473Z"
   },
   {
    "duration": 471,
    "start_time": "2022-01-19T16:51:10.514Z"
   },
   {
    "duration": 11,
    "start_time": "2022-01-19T16:51:10.988Z"
   },
   {
    "duration": 563,
    "start_time": "2022-01-19T16:51:11.002Z"
   },
   {
    "duration": 8,
    "start_time": "2022-01-19T16:51:11.570Z"
   },
   {
    "duration": 9,
    "start_time": "2022-01-19T16:51:11.580Z"
   },
   {
    "duration": 7,
    "start_time": "2022-01-19T16:51:11.591Z"
   },
   {
    "duration": 6,
    "start_time": "2022-01-19T16:51:11.601Z"
   },
   {
    "duration": 6,
    "start_time": "2022-01-19T16:51:11.609Z"
   },
   {
    "duration": 6,
    "start_time": "2022-01-19T16:51:11.670Z"
   },
   {
    "duration": 8,
    "start_time": "2022-01-19T16:51:11.678Z"
   },
   {
    "duration": 3497,
    "start_time": "2022-01-19T16:52:15.782Z"
   },
   {
    "duration": 4001,
    "start_time": "2022-01-19T16:52:19.282Z"
   },
   {
    "duration": 3738,
    "start_time": "2022-01-19T16:52:23.286Z"
   },
   {
    "duration": 2970,
    "start_time": "2022-01-19T16:52:27.027Z"
   },
   {
    "duration": 28,
    "start_time": "2022-01-19T16:52:30.000Z"
   },
   {
    "duration": 17,
    "start_time": "2022-01-19T16:52:30.031Z"
   },
   {
    "duration": 596,
    "start_time": "2022-01-19T16:52:30.071Z"
   },
   {
    "duration": 58,
    "start_time": "2022-01-19T16:52:30.672Z"
   },
   {
    "duration": 17,
    "start_time": "2022-01-19T16:52:30.735Z"
   },
   {
    "duration": 38,
    "start_time": "2022-01-19T16:52:30.755Z"
   },
   {
    "duration": 15,
    "start_time": "2022-01-19T16:52:30.796Z"
   },
   {
    "duration": 19,
    "start_time": "2022-01-19T16:52:30.814Z"
   },
   {
    "duration": 18,
    "start_time": "2022-01-19T16:52:30.836Z"
   },
   {
    "duration": 35,
    "start_time": "2022-01-19T16:52:30.856Z"
   },
   {
    "duration": 16,
    "start_time": "2022-01-19T16:52:30.894Z"
   },
   {
    "duration": 24,
    "start_time": "2022-01-19T16:52:30.913Z"
   },
   {
    "duration": 41,
    "start_time": "2022-01-19T16:52:30.941Z"
   },
   {
    "duration": 21,
    "start_time": "2022-01-19T16:52:30.984Z"
   },
   {
    "duration": 19,
    "start_time": "2022-01-19T16:52:31.007Z"
   },
   {
    "duration": 44,
    "start_time": "2022-01-19T16:52:31.029Z"
   },
   {
    "duration": 478,
    "start_time": "2022-01-19T16:52:31.076Z"
   },
   {
    "duration": 36,
    "start_time": "2022-01-19T16:52:31.557Z"
   },
   {
    "duration": 30,
    "start_time": "2022-01-19T16:52:31.598Z"
   },
   {
    "duration": 543,
    "start_time": "2022-01-19T16:52:31.632Z"
   },
   {
    "duration": 9,
    "start_time": "2022-01-19T16:52:32.178Z"
   },
   {
    "duration": 547,
    "start_time": "2022-01-19T16:52:32.191Z"
   },
   {
    "duration": 6,
    "start_time": "2022-01-19T16:52:32.741Z"
   },
   {
    "duration": 22,
    "start_time": "2022-01-19T16:52:32.750Z"
   },
   {
    "duration": 7,
    "start_time": "2022-01-19T16:52:32.775Z"
   },
   {
    "duration": 12,
    "start_time": "2022-01-19T16:52:32.785Z"
   },
   {
    "duration": 6,
    "start_time": "2022-01-19T16:52:32.799Z"
   },
   {
    "duration": 9,
    "start_time": "2022-01-19T16:52:32.807Z"
   },
   {
    "duration": 16,
    "start_time": "2022-01-19T16:52:32.819Z"
   },
   {
    "duration": 859,
    "start_time": "2022-01-19T16:54:17.902Z"
   },
   {
    "duration": 863,
    "start_time": "2022-01-19T16:54:38.994Z"
   },
   {
    "duration": 456,
    "start_time": "2022-01-19T16:54:47.760Z"
   },
   {
    "duration": 3554,
    "start_time": "2022-01-19T17:02:52.400Z"
   },
   {
    "duration": 3624,
    "start_time": "2022-01-19T17:02:55.957Z"
   },
   {
    "duration": 3532,
    "start_time": "2022-01-19T17:02:59.585Z"
   },
   {
    "duration": 1657,
    "start_time": "2022-01-19T17:03:03.120Z"
   },
   {
    "duration": 27,
    "start_time": "2022-01-19T17:03:04.780Z"
   },
   {
    "duration": 15,
    "start_time": "2022-01-19T17:03:04.810Z"
   },
   {
    "duration": 655,
    "start_time": "2022-01-19T17:03:04.827Z"
   },
   {
    "duration": 74,
    "start_time": "2022-01-19T17:03:05.485Z"
   },
   {
    "duration": 15,
    "start_time": "2022-01-19T17:03:05.563Z"
   },
   {
    "duration": 36,
    "start_time": "2022-01-19T17:03:05.582Z"
   },
   {
    "duration": 15,
    "start_time": "2022-01-19T17:03:05.621Z"
   },
   {
    "duration": 16,
    "start_time": "2022-01-19T17:03:05.638Z"
   },
   {
    "duration": 20,
    "start_time": "2022-01-19T17:03:05.657Z"
   },
   {
    "duration": 24,
    "start_time": "2022-01-19T17:03:05.679Z"
   },
   {
    "duration": 11,
    "start_time": "2022-01-19T17:03:05.706Z"
   },
   {
    "duration": 14,
    "start_time": "2022-01-19T17:03:05.720Z"
   },
   {
    "duration": 16,
    "start_time": "2022-01-19T17:03:05.769Z"
   },
   {
    "duration": 24,
    "start_time": "2022-01-19T17:03:05.788Z"
   },
   {
    "duration": 55,
    "start_time": "2022-01-19T17:03:05.814Z"
   },
   {
    "duration": 8,
    "start_time": "2022-01-19T17:03:05.873Z"
   },
   {
    "duration": 510,
    "start_time": "2022-01-19T17:03:05.884Z"
   },
   {
    "duration": 30,
    "start_time": "2022-01-19T17:03:06.396Z"
   },
   {
    "duration": 53,
    "start_time": "2022-01-19T17:03:06.428Z"
   },
   {
    "duration": 427,
    "start_time": "2022-01-19T17:03:06.483Z"
   },
   {
    "duration": 7,
    "start_time": "2022-01-19T17:03:06.912Z"
   },
   {
    "duration": 539,
    "start_time": "2022-01-19T17:03:06.922Z"
   },
   {
    "duration": 5,
    "start_time": "2022-01-19T17:03:07.471Z"
   },
   {
    "duration": 10,
    "start_time": "2022-01-19T17:03:07.479Z"
   },
   {
    "duration": 8,
    "start_time": "2022-01-19T17:03:07.491Z"
   },
   {
    "duration": 7,
    "start_time": "2022-01-19T17:03:07.501Z"
   },
   {
    "duration": 6,
    "start_time": "2022-01-19T17:03:07.510Z"
   },
   {
    "duration": 8,
    "start_time": "2022-01-19T17:03:07.518Z"
   },
   {
    "duration": 52,
    "start_time": "2022-01-19T17:03:07.528Z"
   },
   {
    "duration": 456,
    "start_time": "2022-01-19T17:03:07.583Z"
   },
   {
    "duration": 7,
    "start_time": "2022-01-19T17:03:08.041Z"
   },
   {
    "duration": 760,
    "start_time": "2022-01-19T17:04:20.075Z"
   },
   {
    "duration": 7,
    "start_time": "2022-01-19T17:06:59.458Z"
   },
   {
    "duration": 583,
    "start_time": "2022-01-19T17:07:00.016Z"
   },
   {
    "duration": 7,
    "start_time": "2022-01-19T17:07:13.577Z"
   },
   {
    "duration": 549,
    "start_time": "2022-01-19T17:07:13.847Z"
   },
   {
    "duration": 391,
    "start_time": "2022-01-19T17:11:17.957Z"
   },
   {
    "duration": 548,
    "start_time": "2022-01-19T17:11:18.351Z"
   },
   {
    "duration": 4,
    "start_time": "2022-01-19T17:12:10.810Z"
   },
   {
    "duration": 7,
    "start_time": "2022-01-19T17:12:11.220Z"
   },
   {
    "duration": 610,
    "start_time": "2022-01-19T17:12:11.675Z"
   },
   {
    "duration": 3544,
    "start_time": "2022-01-19T17:12:25.060Z"
   },
   {
    "duration": 3627,
    "start_time": "2022-01-19T17:12:28.607Z"
   },
   {
    "duration": 3778,
    "start_time": "2022-01-19T17:12:32.237Z"
   },
   {
    "duration": 1734,
    "start_time": "2022-01-19T17:12:36.019Z"
   },
   {
    "duration": 26,
    "start_time": "2022-01-19T17:12:37.756Z"
   },
   {
    "duration": 14,
    "start_time": "2022-01-19T17:12:37.785Z"
   },
   {
    "duration": 605,
    "start_time": "2022-01-19T17:12:37.801Z"
   },
   {
    "duration": 49,
    "start_time": "2022-01-19T17:12:38.408Z"
   },
   {
    "duration": 16,
    "start_time": "2022-01-19T17:12:38.461Z"
   },
   {
    "duration": 28,
    "start_time": "2022-01-19T17:12:38.480Z"
   },
   {
    "duration": 15,
    "start_time": "2022-01-19T17:12:38.510Z"
   },
   {
    "duration": 12,
    "start_time": "2022-01-19T17:12:38.528Z"
   },
   {
    "duration": 31,
    "start_time": "2022-01-19T17:12:38.543Z"
   },
   {
    "duration": 22,
    "start_time": "2022-01-19T17:12:38.576Z"
   },
   {
    "duration": 14,
    "start_time": "2022-01-19T17:12:38.601Z"
   },
   {
    "duration": 15,
    "start_time": "2022-01-19T17:12:38.617Z"
   },
   {
    "duration": 41,
    "start_time": "2022-01-19T17:12:38.635Z"
   },
   {
    "duration": 22,
    "start_time": "2022-01-19T17:12:38.679Z"
   },
   {
    "duration": 19,
    "start_time": "2022-01-19T17:12:38.704Z"
   },
   {
    "duration": 7,
    "start_time": "2022-01-19T17:12:38.725Z"
   },
   {
    "duration": 490,
    "start_time": "2022-01-19T17:12:38.734Z"
   },
   {
    "duration": 27,
    "start_time": "2022-01-19T17:12:39.227Z"
   },
   {
    "duration": 34,
    "start_time": "2022-01-19T17:12:39.257Z"
   },
   {
    "duration": 406,
    "start_time": "2022-01-19T17:12:39.293Z"
   },
   {
    "duration": 7,
    "start_time": "2022-01-19T17:12:39.702Z"
   },
   {
    "duration": 650,
    "start_time": "2022-01-19T17:12:39.711Z"
   },
   {
    "duration": 6,
    "start_time": "2022-01-19T17:12:40.370Z"
   },
   {
    "duration": 6,
    "start_time": "2022-01-19T17:12:40.379Z"
   },
   {
    "duration": 5,
    "start_time": "2022-01-19T17:12:40.388Z"
   },
   {
    "duration": 9,
    "start_time": "2022-01-19T17:12:40.396Z"
   },
   {
    "duration": 7,
    "start_time": "2022-01-19T17:12:40.408Z"
   },
   {
    "duration": 53,
    "start_time": "2022-01-19T17:12:40.418Z"
   },
   {
    "duration": 12,
    "start_time": "2022-01-19T17:12:40.474Z"
   },
   {
    "duration": 456,
    "start_time": "2022-01-19T17:12:40.488Z"
   },
   {
    "duration": 4,
    "start_time": "2022-01-19T17:12:40.947Z"
   },
   {
    "duration": 18,
    "start_time": "2022-01-19T17:12:40.953Z"
   },
   {
    "duration": 647,
    "start_time": "2022-01-19T17:12:40.974Z"
   },
   {
    "duration": 6,
    "start_time": "2022-01-19T17:13:04.873Z"
   },
   {
    "duration": 8,
    "start_time": "2022-01-19T17:13:05.350Z"
   },
   {
    "duration": 7,
    "start_time": "2022-01-19T17:13:17.079Z"
   },
   {
    "duration": 7,
    "start_time": "2022-01-19T17:13:17.469Z"
   },
   {
    "duration": 7,
    "start_time": "2022-01-19T17:36:03.006Z"
   },
   {
    "duration": 10,
    "start_time": "2022-01-19T17:36:03.686Z"
   },
   {
    "duration": 8,
    "start_time": "2022-01-19T17:36:38.862Z"
   },
   {
    "duration": 7,
    "start_time": "2022-01-19T17:36:40.356Z"
   },
   {
    "duration": 284,
    "start_time": "2022-01-19T17:37:33.534Z"
   },
   {
    "duration": 7,
    "start_time": "2022-01-19T17:37:41.958Z"
   },
   {
    "duration": 83,
    "start_time": "2022-01-19T18:03:53.829Z"
   },
   {
    "duration": 7,
    "start_time": "2022-01-19T18:07:44.811Z"
   },
   {
    "duration": 6,
    "start_time": "2022-01-19T18:07:47.760Z"
   },
   {
    "duration": 455,
    "start_time": "2022-01-20T16:08:13.636Z"
   },
   {
    "duration": 330,
    "start_time": "2022-01-20T16:08:27.646Z"
   },
   {
    "duration": 4517,
    "start_time": "2022-01-20T16:09:43.157Z"
   },
   {
    "duration": 19265,
    "start_time": "2022-01-20T16:09:47.677Z"
   },
   {
    "duration": 10177,
    "start_time": "2022-01-20T16:10:06.946Z"
   },
   {
    "duration": 2074,
    "start_time": "2022-01-20T16:10:17.126Z"
   },
   {
    "duration": 27,
    "start_time": "2022-01-20T16:10:19.202Z"
   },
   {
    "duration": 15,
    "start_time": "2022-01-20T16:10:19.233Z"
   },
   {
    "duration": 617,
    "start_time": "2022-01-20T16:10:19.250Z"
   },
   {
    "duration": 40,
    "start_time": "2022-01-20T16:10:19.870Z"
   },
   {
    "duration": 16,
    "start_time": "2022-01-20T16:10:19.914Z"
   },
   {
    "duration": 50,
    "start_time": "2022-01-20T16:10:19.933Z"
   },
   {
    "duration": 14,
    "start_time": "2022-01-20T16:10:19.985Z"
   },
   {
    "duration": 18,
    "start_time": "2022-01-20T16:10:20.001Z"
   },
   {
    "duration": 19,
    "start_time": "2022-01-20T16:10:20.022Z"
   },
   {
    "duration": 31,
    "start_time": "2022-01-20T16:10:20.044Z"
   },
   {
    "duration": 24,
    "start_time": "2022-01-20T16:10:20.078Z"
   },
   {
    "duration": 16,
    "start_time": "2022-01-20T16:10:20.105Z"
   },
   {
    "duration": 21,
    "start_time": "2022-01-20T16:10:20.124Z"
   },
   {
    "duration": 27,
    "start_time": "2022-01-20T16:10:20.148Z"
   },
   {
    "duration": 20,
    "start_time": "2022-01-20T16:10:20.178Z"
   },
   {
    "duration": 36,
    "start_time": "2022-01-20T16:10:20.201Z"
   },
   {
    "duration": 454,
    "start_time": "2022-01-20T16:10:20.239Z"
   },
   {
    "duration": 42,
    "start_time": "2022-01-20T16:10:20.695Z"
   },
   {
    "duration": 27,
    "start_time": "2022-01-20T16:10:20.740Z"
   },
   {
    "duration": 420,
    "start_time": "2022-01-20T16:10:20.769Z"
   },
   {
    "duration": 8,
    "start_time": "2022-01-20T16:10:21.191Z"
   },
   {
    "duration": 532,
    "start_time": "2022-01-20T16:10:21.202Z"
   },
   {
    "duration": 6,
    "start_time": "2022-01-20T16:10:21.742Z"
   },
   {
    "duration": 10,
    "start_time": "2022-01-20T16:10:21.751Z"
   },
   {
    "duration": 14,
    "start_time": "2022-01-20T16:10:21.763Z"
   },
   {
    "duration": 10,
    "start_time": "2022-01-20T16:10:21.779Z"
   },
   {
    "duration": 6,
    "start_time": "2022-01-20T16:10:21.791Z"
   },
   {
    "duration": 5,
    "start_time": "2022-01-20T16:10:21.832Z"
   },
   {
    "duration": 11,
    "start_time": "2022-01-20T16:10:21.840Z"
   },
   {
    "duration": 433,
    "start_time": "2022-01-20T16:10:21.853Z"
   },
   {
    "duration": 8,
    "start_time": "2022-01-20T16:10:22.289Z"
   },
   {
    "duration": 32,
    "start_time": "2022-01-20T16:10:22.300Z"
   },
   {
    "duration": 11,
    "start_time": "2022-01-20T16:10:22.336Z"
   },
   {
    "duration": 8,
    "start_time": "2022-01-20T16:10:22.350Z"
   },
   {
    "duration": 7,
    "start_time": "2022-01-20T16:10:22.361Z"
   },
   {
    "duration": 9,
    "start_time": "2022-01-20T16:10:22.371Z"
   },
   {
    "duration": 61012,
    "start_time": "2022-01-21T16:21:20.067Z"
   },
   {
    "duration": 101184,
    "start_time": "2022-01-21T16:22:21.081Z"
   },
   {
    "duration": 65665,
    "start_time": "2022-01-21T16:24:02.268Z"
   },
   {
    "duration": 1707,
    "start_time": "2022-01-21T16:25:07.935Z"
   },
   {
    "duration": 29,
    "start_time": "2022-01-21T16:25:09.644Z"
   },
   {
    "duration": 9,
    "start_time": "2022-01-21T16:25:09.675Z"
   },
   {
    "duration": 69469,
    "start_time": "2022-01-21T16:25:09.686Z"
   },
   {
    "duration": 45,
    "start_time": "2022-01-21T16:26:19.157Z"
   },
   {
    "duration": 12,
    "start_time": "2022-01-21T16:26:19.204Z"
   },
   {
    "duration": 29,
    "start_time": "2022-01-21T16:26:19.218Z"
   },
   {
    "duration": 9,
    "start_time": "2022-01-21T16:26:19.249Z"
   },
   {
    "duration": 9,
    "start_time": "2022-01-21T16:26:19.260Z"
   },
   {
    "duration": 16,
    "start_time": "2022-01-21T16:26:19.271Z"
   },
   {
    "duration": 23,
    "start_time": "2022-01-21T16:26:19.289Z"
   },
   {
    "duration": 38,
    "start_time": "2022-01-21T16:26:19.314Z"
   },
   {
    "duration": 10,
    "start_time": "2022-01-21T16:26:19.354Z"
   },
   {
    "duration": 15,
    "start_time": "2022-01-21T16:26:19.367Z"
   },
   {
    "duration": 22,
    "start_time": "2022-01-21T16:26:19.385Z"
   },
   {
    "duration": 34,
    "start_time": "2022-01-21T16:26:19.409Z"
   },
   {
    "duration": 5,
    "start_time": "2022-01-21T16:26:19.445Z"
   },
   {
    "duration": 354,
    "start_time": "2022-01-21T16:26:19.452Z"
   },
   {
    "duration": 22,
    "start_time": "2022-01-21T16:26:19.808Z"
   },
   {
    "duration": 20,
    "start_time": "2022-01-21T16:26:19.842Z"
   },
   {
    "duration": 308,
    "start_time": "2022-01-21T16:26:19.864Z"
   },
   {
    "duration": 6,
    "start_time": "2022-01-21T16:26:20.174Z"
   },
   {
    "duration": 391,
    "start_time": "2022-01-21T16:26:20.183Z"
   },
   {
    "duration": 4,
    "start_time": "2022-01-21T16:26:20.578Z"
   },
   {
    "duration": 12,
    "start_time": "2022-01-21T16:26:20.585Z"
   },
   {
    "duration": 11,
    "start_time": "2022-01-21T16:26:20.599Z"
   },
   {
    "duration": 13,
    "start_time": "2022-01-21T16:26:20.613Z"
   },
   {
    "duration": 18,
    "start_time": "2022-01-21T16:26:20.628Z"
   },
   {
    "duration": 12,
    "start_time": "2022-01-21T16:26:20.648Z"
   },
   {
    "duration": 13,
    "start_time": "2022-01-21T16:26:20.661Z"
   },
   {
    "duration": 406,
    "start_time": "2022-01-21T16:26:20.675Z"
   },
   {
    "duration": 6,
    "start_time": "2022-01-21T16:26:21.084Z"
   },
   {
    "duration": 10,
    "start_time": "2022-01-21T16:26:21.092Z"
   },
   {
    "duration": 14,
    "start_time": "2022-01-21T16:26:21.104Z"
   },
   {
    "duration": 13,
    "start_time": "2022-01-21T16:26:21.119Z"
   },
   {
    "duration": 11,
    "start_time": "2022-01-21T16:26:21.134Z"
   },
   {
    "duration": 11,
    "start_time": "2022-01-21T16:26:21.147Z"
   },
   {
    "duration": 65701,
    "start_time": "2022-01-21T16:30:54.377Z"
   },
   {
    "duration": 59080,
    "start_time": "2022-01-21T16:32:00.081Z"
   },
   {
    "duration": 63808,
    "start_time": "2022-01-21T16:32:59.163Z"
   },
   {
    "duration": 1314,
    "start_time": "2022-01-21T16:34:02.973Z"
   },
   {
    "duration": 26,
    "start_time": "2022-01-21T16:34:04.289Z"
   },
   {
    "duration": 10,
    "start_time": "2022-01-21T16:34:04.317Z"
   },
   {
    "duration": 108332,
    "start_time": "2022-01-21T16:34:04.329Z"
   },
   {
    "duration": 44,
    "start_time": "2022-01-21T16:35:52.663Z"
   },
   {
    "duration": 12,
    "start_time": "2022-01-21T16:35:52.709Z"
   },
   {
    "duration": 50,
    "start_time": "2022-01-21T16:35:52.722Z"
   },
   {
    "duration": 10,
    "start_time": "2022-01-21T16:35:52.773Z"
   },
   {
    "duration": 23,
    "start_time": "2022-01-21T16:35:52.785Z"
   },
   {
    "duration": 32,
    "start_time": "2022-01-21T16:35:52.810Z"
   },
   {
    "duration": 36,
    "start_time": "2022-01-21T16:35:52.843Z"
   },
   {
    "duration": 48,
    "start_time": "2022-01-21T16:35:52.880Z"
   },
   {
    "duration": 17,
    "start_time": "2022-01-21T16:35:52.930Z"
   },
   {
    "duration": 32,
    "start_time": "2022-01-21T16:35:52.948Z"
   },
   {
    "duration": 17,
    "start_time": "2022-01-21T16:35:52.982Z"
   },
   {
    "duration": 12,
    "start_time": "2022-01-21T16:35:53.001Z"
   },
   {
    "duration": 5,
    "start_time": "2022-01-21T16:35:53.015Z"
   },
   {
    "duration": 357,
    "start_time": "2022-01-21T16:35:53.022Z"
   },
   {
    "duration": 20,
    "start_time": "2022-01-21T16:35:53.381Z"
   },
   {
    "duration": 16,
    "start_time": "2022-01-21T16:35:53.403Z"
   },
   {
    "duration": 285,
    "start_time": "2022-01-21T16:35:53.420Z"
   },
   {
    "duration": 6,
    "start_time": "2022-01-21T16:35:53.707Z"
   },
   {
    "duration": 351,
    "start_time": "2022-01-21T16:35:53.715Z"
   },
   {
    "duration": 4,
    "start_time": "2022-01-21T16:35:54.070Z"
   },
   {
    "duration": 7,
    "start_time": "2022-01-21T16:35:54.076Z"
   },
   {
    "duration": 5,
    "start_time": "2022-01-21T16:35:54.085Z"
   },
   {
    "duration": 5,
    "start_time": "2022-01-21T16:35:54.091Z"
   },
   {
    "duration": 5,
    "start_time": "2022-01-21T16:35:54.098Z"
   },
   {
    "duration": 11,
    "start_time": "2022-01-21T16:35:54.105Z"
   },
   {
    "duration": 6,
    "start_time": "2022-01-21T16:35:54.143Z"
   },
   {
    "duration": 260,
    "start_time": "2022-01-21T16:35:54.150Z"
   },
   {
    "duration": 5,
    "start_time": "2022-01-21T16:35:54.411Z"
   },
   {
    "duration": 29,
    "start_time": "2022-01-21T16:35:54.417Z"
   },
   {
    "duration": 29,
    "start_time": "2022-01-21T16:35:54.448Z"
   },
   {
    "duration": 16,
    "start_time": "2022-01-21T16:35:54.478Z"
   },
   {
    "duration": 15,
    "start_time": "2022-01-21T16:35:54.496Z"
   },
   {
    "duration": 23,
    "start_time": "2022-01-21T16:35:54.513Z"
   },
   {
    "duration": 16,
    "start_time": "2022-01-21T17:04:22.037Z"
   },
   {
    "duration": 5,
    "start_time": "2022-01-21T17:04:40.131Z"
   },
   {
    "duration": 11,
    "start_time": "2022-01-21T17:05:45.887Z"
   },
   {
    "duration": 18,
    "start_time": "2022-01-21T17:06:44.830Z"
   },
   {
    "duration": 16,
    "start_time": "2022-01-21T17:09:01.595Z"
   },
   {
    "duration": 13,
    "start_time": "2022-01-21T17:09:27.466Z"
   },
   {
    "duration": 6,
    "start_time": "2022-01-21T17:09:34.969Z"
   },
   {
    "duration": 6,
    "start_time": "2022-01-21T17:09:47.497Z"
   },
   {
    "duration": 253,
    "start_time": "2022-01-21T17:09:57.168Z"
   },
   {
    "duration": 235,
    "start_time": "2022-01-21T17:10:19.230Z"
   },
   {
    "duration": 17,
    "start_time": "2022-01-21T17:17:26.371Z"
   },
   {
    "duration": 15,
    "start_time": "2022-01-21T17:18:38.175Z"
   },
   {
    "duration": 8,
    "start_time": "2022-01-21T17:19:22.954Z"
   },
   {
    "duration": 6,
    "start_time": "2022-01-21T17:19:31.939Z"
   },
   {
    "duration": 21,
    "start_time": "2022-01-21T17:19:38.339Z"
   },
   {
    "duration": 9,
    "start_time": "2022-01-21T17:19:47.194Z"
   },
   {
    "duration": 6,
    "start_time": "2022-01-21T17:19:49.434Z"
   },
   {
    "duration": 9,
    "start_time": "2022-01-21T17:19:52.282Z"
   },
   {
    "duration": 9,
    "start_time": "2022-01-21T17:20:23.702Z"
   },
   {
    "duration": 10,
    "start_time": "2022-01-21T17:20:42.850Z"
   },
   {
    "duration": 377,
    "start_time": "2022-01-21T17:20:58.577Z"
   },
   {
    "duration": 15,
    "start_time": "2022-01-21T17:21:19.573Z"
   },
   {
    "duration": 9,
    "start_time": "2022-01-21T17:21:24.476Z"
   },
   {
    "duration": 15,
    "start_time": "2022-01-21T17:21:27.654Z"
   },
   {
    "duration": 255,
    "start_time": "2022-01-21T17:21:46.011Z"
   },
   {
    "duration": 9,
    "start_time": "2022-01-21T17:21:52.454Z"
   },
   {
    "duration": 253,
    "start_time": "2022-01-21T17:22:05.129Z"
   },
   {
    "duration": 24,
    "start_time": "2022-01-21T17:25:00.831Z"
   },
   {
    "duration": 17,
    "start_time": "2022-01-21T17:25:48.363Z"
   },
   {
    "duration": 16,
    "start_time": "2022-01-21T17:31:42.590Z"
   },
   {
    "duration": 16,
    "start_time": "2022-01-21T17:34:09.581Z"
   },
   {
    "duration": 4,
    "start_time": "2022-01-21T17:36:23.718Z"
   },
   {
    "duration": 4,
    "start_time": "2022-01-21T17:36:27.726Z"
   },
   {
    "duration": 16,
    "start_time": "2022-01-21T17:37:05.315Z"
   },
   {
    "duration": 87359,
    "start_time": "2022-01-21T17:47:51.225Z"
   },
   {
    "duration": 99788,
    "start_time": "2022-01-21T17:49:18.586Z"
   },
   {
    "duration": 120468,
    "start_time": "2022-01-21T17:50:58.376Z"
   },
   {
    "duration": 297,
    "start_time": "2022-01-21T17:52:58.846Z"
   },
   {
    "duration": -1958,
    "start_time": "2022-01-21T17:53:01.104Z"
   },
   {
    "duration": -1970,
    "start_time": "2022-01-21T17:53:01.117Z"
   },
   {
    "duration": -1976,
    "start_time": "2022-01-21T17:53:01.124Z"
   },
   {
    "duration": -1977,
    "start_time": "2022-01-21T17:53:01.126Z"
   },
   {
    "duration": -1978,
    "start_time": "2022-01-21T17:53:01.128Z"
   },
   {
    "duration": -1979,
    "start_time": "2022-01-21T17:53:01.130Z"
   },
   {
    "duration": -1982,
    "start_time": "2022-01-21T17:53:01.134Z"
   },
   {
    "duration": -1985,
    "start_time": "2022-01-21T17:53:01.138Z"
   },
   {
    "duration": -1985,
    "start_time": "2022-01-21T17:53:01.140Z"
   },
   {
    "duration": -1987,
    "start_time": "2022-01-21T17:53:01.143Z"
   },
   {
    "duration": -1988,
    "start_time": "2022-01-21T17:53:01.145Z"
   },
   {
    "duration": -1989,
    "start_time": "2022-01-21T17:53:01.147Z"
   },
   {
    "duration": -1990,
    "start_time": "2022-01-21T17:53:01.149Z"
   },
   {
    "duration": -1992,
    "start_time": "2022-01-21T17:53:01.152Z"
   },
   {
    "duration": -1993,
    "start_time": "2022-01-21T17:53:01.154Z"
   },
   {
    "duration": -1994,
    "start_time": "2022-01-21T17:53:01.156Z"
   },
   {
    "duration": -1995,
    "start_time": "2022-01-21T17:53:01.158Z"
   },
   {
    "duration": -1996,
    "start_time": "2022-01-21T17:53:01.160Z"
   },
   {
    "duration": -2004,
    "start_time": "2022-01-21T17:53:01.169Z"
   },
   {
    "duration": -2007,
    "start_time": "2022-01-21T17:53:01.172Z"
   },
   {
    "duration": -2007,
    "start_time": "2022-01-21T17:53:01.174Z"
   },
   {
    "duration": -2007,
    "start_time": "2022-01-21T17:53:01.175Z"
   },
   {
    "duration": -2008,
    "start_time": "2022-01-21T17:53:01.177Z"
   },
   {
    "duration": -2010,
    "start_time": "2022-01-21T17:53:01.179Z"
   },
   {
    "duration": -1939,
    "start_time": "2022-01-21T17:53:01.180Z"
   },
   {
    "duration": -1941,
    "start_time": "2022-01-21T17:53:01.183Z"
   },
   {
    "duration": -1943,
    "start_time": "2022-01-21T17:53:01.186Z"
   },
   {
    "duration": -1944,
    "start_time": "2022-01-21T17:53:01.188Z"
   },
   {
    "duration": -1945,
    "start_time": "2022-01-21T17:53:01.190Z"
   },
   {
    "duration": -1946,
    "start_time": "2022-01-21T17:53:01.192Z"
   },
   {
    "duration": -1947,
    "start_time": "2022-01-21T17:53:01.194Z"
   },
   {
    "duration": -1948,
    "start_time": "2022-01-21T17:53:01.196Z"
   },
   {
    "duration": -1949,
    "start_time": "2022-01-21T17:53:01.198Z"
   },
   {
    "duration": -1951,
    "start_time": "2022-01-21T17:53:01.201Z"
   },
   {
    "duration": -1952,
    "start_time": "2022-01-21T17:53:01.203Z"
   },
   {
    "duration": -1953,
    "start_time": "2022-01-21T17:53:01.205Z"
   },
   {
    "duration": 8595,
    "start_time": "2022-01-21T17:53:31.234Z"
   },
   {
    "duration": 3,
    "start_time": "2022-01-21T17:59:03.987Z"
   },
   {
    "duration": 2,
    "start_time": "2022-01-21T17:59:15.303Z"
   },
   {
    "duration": 5,
    "start_time": "2022-01-21T17:59:15.307Z"
   },
   {
    "duration": 3,
    "start_time": "2022-01-21T17:59:15.314Z"
   },
   {
    "duration": 1165,
    "start_time": "2022-01-21T17:59:15.319Z"
   },
   {
    "duration": -1909,
    "start_time": "2022-01-21T17:59:18.396Z"
   },
   {
    "duration": -1918,
    "start_time": "2022-01-21T17:59:18.406Z"
   },
   {
    "duration": -1920,
    "start_time": "2022-01-21T17:59:18.409Z"
   },
   {
    "duration": -1921,
    "start_time": "2022-01-21T17:59:18.411Z"
   },
   {
    "duration": -1923,
    "start_time": "2022-01-21T17:59:18.414Z"
   },
   {
    "duration": -1927,
    "start_time": "2022-01-21T17:59:18.418Z"
   },
   {
    "duration": -1928,
    "start_time": "2022-01-21T17:59:18.420Z"
   },
   {
    "duration": -1929,
    "start_time": "2022-01-21T17:59:18.422Z"
   },
   {
    "duration": -1930,
    "start_time": "2022-01-21T17:59:18.424Z"
   },
   {
    "duration": -1932,
    "start_time": "2022-01-21T17:59:18.426Z"
   },
   {
    "duration": -1932,
    "start_time": "2022-01-21T17:59:18.427Z"
   },
   {
    "duration": -1934,
    "start_time": "2022-01-21T17:59:18.430Z"
   },
   {
    "duration": -1936,
    "start_time": "2022-01-21T17:59:18.433Z"
   },
   {
    "duration": -1938,
    "start_time": "2022-01-21T17:59:18.436Z"
   },
   {
    "duration": -1940,
    "start_time": "2022-01-21T17:59:18.438Z"
   },
   {
    "duration": -1941,
    "start_time": "2022-01-21T17:59:18.440Z"
   },
   {
    "duration": -1942,
    "start_time": "2022-01-21T17:59:18.442Z"
   },
   {
    "duration": -1944,
    "start_time": "2022-01-21T17:59:18.444Z"
   },
   {
    "duration": -1944,
    "start_time": "2022-01-21T17:59:18.445Z"
   },
   {
    "duration": -1946,
    "start_time": "2022-01-21T17:59:18.448Z"
   },
   {
    "duration": -1948,
    "start_time": "2022-01-21T17:59:18.451Z"
   },
   {
    "duration": -1949,
    "start_time": "2022-01-21T17:59:18.453Z"
   },
   {
    "duration": -1951,
    "start_time": "2022-01-21T17:59:18.455Z"
   },
   {
    "duration": -1951,
    "start_time": "2022-01-21T17:59:18.456Z"
   },
   {
    "duration": -1952,
    "start_time": "2022-01-21T17:59:18.458Z"
   },
   {
    "duration": -1953,
    "start_time": "2022-01-21T17:59:18.460Z"
   },
   {
    "duration": -1954,
    "start_time": "2022-01-21T17:59:18.462Z"
   },
   {
    "duration": -1956,
    "start_time": "2022-01-21T17:59:18.464Z"
   },
   {
    "duration": -1959,
    "start_time": "2022-01-21T17:59:18.468Z"
   },
   {
    "duration": -1960,
    "start_time": "2022-01-21T17:59:18.470Z"
   },
   {
    "duration": -1961,
    "start_time": "2022-01-21T17:59:18.472Z"
   },
   {
    "duration": -1962,
    "start_time": "2022-01-21T17:59:18.474Z"
   },
   {
    "duration": -1996,
    "start_time": "2022-01-21T17:59:18.509Z"
   },
   {
    "duration": -2005,
    "start_time": "2022-01-21T17:59:18.519Z"
   },
   {
    "duration": -2013,
    "start_time": "2022-01-21T17:59:18.528Z"
   },
   {
    "duration": -2035,
    "start_time": "2022-01-21T17:59:18.550Z"
   },
   {
    "duration": 5,
    "start_time": "2022-01-21T17:59:41.157Z"
   },
   {
    "duration": 23,
    "start_time": "2022-01-21T17:59:44.917Z"
   },
   {
    "duration": 10,
    "start_time": "2022-01-21T17:59:45.405Z"
   },
   {
    "duration": 3,
    "start_time": "2022-01-21T17:59:45.655Z"
   },
   {
    "duration": 44,
    "start_time": "2022-01-21T17:59:45.754Z"
   },
   {
    "duration": 3,
    "start_time": "2022-01-21T17:59:45.856Z"
   },
   {
    "duration": 19,
    "start_time": "2022-01-21T17:59:46.165Z"
   },
   {
    "duration": 3,
    "start_time": "2022-01-21T17:59:46.341Z"
   },
   {
    "duration": 13,
    "start_time": "2022-01-21T17:59:46.788Z"
   },
   {
    "duration": 9,
    "start_time": "2022-01-21T17:59:47.509Z"
   },
   {
    "duration": 13,
    "start_time": "2022-01-21T17:59:48.670Z"
   },
   {
    "duration": 9,
    "start_time": "2022-01-21T17:59:48.917Z"
   },
   {
    "duration": 11,
    "start_time": "2022-01-21T17:59:49.141Z"
   },
   {
    "duration": 10,
    "start_time": "2022-01-21T17:59:49.359Z"
   },
   {
    "duration": 13,
    "start_time": "2022-01-21T17:59:49.495Z"
   },
   {
    "duration": 13,
    "start_time": "2022-01-21T17:59:49.608Z"
   },
   {
    "duration": 6,
    "start_time": "2022-01-21T17:59:49.828Z"
   },
   {
    "duration": 260,
    "start_time": "2022-01-21T17:59:49.952Z"
   },
   {
    "duration": 18,
    "start_time": "2022-01-21T17:59:50.315Z"
   },
   {
    "duration": 18,
    "start_time": "2022-01-21T17:59:50.453Z"
   },
   {
    "duration": 227,
    "start_time": "2022-01-21T17:59:50.648Z"
   },
   {
    "duration": 6,
    "start_time": "2022-01-21T17:59:51.228Z"
   },
   {
    "duration": 241,
    "start_time": "2022-01-21T17:59:51.532Z"
   },
   {
    "duration": 5,
    "start_time": "2022-01-21T17:59:52.412Z"
   },
   {
    "duration": 4,
    "start_time": "2022-01-21T17:59:52.529Z"
   },
   {
    "duration": 4,
    "start_time": "2022-01-21T17:59:52.932Z"
   },
   {
    "duration": 4,
    "start_time": "2022-01-21T17:59:53.069Z"
   },
   {
    "duration": 4,
    "start_time": "2022-01-21T17:59:53.293Z"
   },
   {
    "duration": 4,
    "start_time": "2022-01-21T17:59:53.413Z"
   },
   {
    "duration": 4,
    "start_time": "2022-01-21T17:59:53.525Z"
   },
   {
    "duration": 239,
    "start_time": "2022-01-21T17:59:53.654Z"
   },
   {
    "duration": 4,
    "start_time": "2022-01-21T17:59:53.915Z"
   },
   {
    "duration": 6,
    "start_time": "2022-01-21T17:59:54.041Z"
   },
   {
    "duration": 6,
    "start_time": "2022-01-21T17:59:54.172Z"
   },
   {
    "duration": 4,
    "start_time": "2022-01-21T17:59:54.286Z"
   },
   {
    "duration": 5,
    "start_time": "2022-01-21T17:59:54.812Z"
   },
   {
    "duration": 7,
    "start_time": "2022-01-21T17:59:55.452Z"
   },
   {
    "duration": 4831,
    "start_time": "2022-01-22T17:34:46.931Z"
   },
   {
    "duration": 19382,
    "start_time": "2022-01-22T17:34:51.764Z"
   },
   {
    "duration": 10727,
    "start_time": "2022-01-22T17:35:11.148Z"
   },
   {
    "duration": 1691,
    "start_time": "2022-01-22T17:35:21.879Z"
   },
   {
    "duration": 29,
    "start_time": "2022-01-22T17:35:23.573Z"
   },
   {
    "duration": 15,
    "start_time": "2022-01-22T17:35:23.604Z"
   },
   {
    "duration": 691,
    "start_time": "2022-01-22T17:35:23.622Z"
   },
   {
    "duration": 46,
    "start_time": "2022-01-22T17:35:24.316Z"
   },
   {
    "duration": 15,
    "start_time": "2022-01-22T17:35:24.365Z"
   },
   {
    "duration": 27,
    "start_time": "2022-01-22T17:35:24.383Z"
   },
   {
    "duration": 14,
    "start_time": "2022-01-22T17:35:24.413Z"
   },
   {
    "duration": 14,
    "start_time": "2022-01-22T17:35:24.429Z"
   },
   {
    "duration": 13,
    "start_time": "2022-01-22T17:35:24.466Z"
   },
   {
    "duration": 5450,
    "start_time": "2022-01-22T17:35:24.482Z"
   },
   {
    "duration": -507,
    "start_time": "2022-01-22T17:35:30.442Z"
   },
   {
    "duration": -513,
    "start_time": "2022-01-22T17:35:30.450Z"
   },
   {
    "duration": -515,
    "start_time": "2022-01-22T17:35:30.454Z"
   },
   {
    "duration": -517,
    "start_time": "2022-01-22T17:35:30.458Z"
   },
   {
    "duration": -525,
    "start_time": "2022-01-22T17:35:30.468Z"
   },
   {
    "duration": -527,
    "start_time": "2022-01-22T17:35:30.471Z"
   },
   {
    "duration": -530,
    "start_time": "2022-01-22T17:35:30.476Z"
   },
   {
    "duration": -531,
    "start_time": "2022-01-22T17:35:30.479Z"
   },
   {
    "duration": -533,
    "start_time": "2022-01-22T17:35:30.482Z"
   },
   {
    "duration": -535,
    "start_time": "2022-01-22T17:35:30.485Z"
   },
   {
    "duration": -535,
    "start_time": "2022-01-22T17:35:30.487Z"
   },
   {
    "duration": -536,
    "start_time": "2022-01-22T17:35:30.490Z"
   },
   {
    "duration": -538,
    "start_time": "2022-01-22T17:35:30.493Z"
   },
   {
    "duration": -539,
    "start_time": "2022-01-22T17:35:30.496Z"
   },
   {
    "duration": -540,
    "start_time": "2022-01-22T17:35:30.498Z"
   },
   {
    "duration": -540,
    "start_time": "2022-01-22T17:35:30.500Z"
   },
   {
    "duration": -542,
    "start_time": "2022-01-22T17:35:30.503Z"
   },
   {
    "duration": -543,
    "start_time": "2022-01-22T17:35:30.505Z"
   },
   {
    "duration": -543,
    "start_time": "2022-01-22T17:35:30.507Z"
   },
   {
    "duration": -604,
    "start_time": "2022-01-22T17:35:30.569Z"
   },
   {
    "duration": -608,
    "start_time": "2022-01-22T17:35:30.574Z"
   },
   {
    "duration": -609,
    "start_time": "2022-01-22T17:35:30.577Z"
   },
   {
    "duration": -610,
    "start_time": "2022-01-22T17:35:30.579Z"
   },
   {
    "duration": -611,
    "start_time": "2022-01-22T17:35:30.581Z"
   },
   {
    "duration": -611,
    "start_time": "2022-01-22T17:35:30.583Z"
   },
   {
    "duration": -612,
    "start_time": "2022-01-22T17:35:30.586Z"
   },
   {
    "duration": 19,
    "start_time": "2022-01-22T17:37:55.575Z"
   },
   {
    "duration": 14,
    "start_time": "2022-01-22T17:37:57.933Z"
   },
   {
    "duration": 12,
    "start_time": "2022-01-22T17:39:05.493Z"
   },
   {
    "duration": 14,
    "start_time": "2022-01-22T17:39:10.004Z"
   },
   {
    "duration": 17,
    "start_time": "2022-01-22T17:39:16.404Z"
   },
   {
    "duration": 16,
    "start_time": "2022-01-22T17:39:22.764Z"
   },
   {
    "duration": 17,
    "start_time": "2022-01-22T17:40:09.324Z"
   },
   {
    "duration": 12,
    "start_time": "2022-01-22T17:40:09.585Z"
   },
   {
    "duration": 16,
    "start_time": "2022-01-22T17:40:12.245Z"
   },
   {
    "duration": 12,
    "start_time": "2022-01-22T17:40:13.869Z"
   },
   {
    "duration": 15,
    "start_time": "2022-01-22T17:40:21.667Z"
   },
   {
    "duration": 12,
    "start_time": "2022-01-22T17:40:21.865Z"
   },
   {
    "duration": 4010,
    "start_time": "2022-01-22T17:41:36.615Z"
   },
   {
    "duration": 3751,
    "start_time": "2022-01-22T17:41:40.627Z"
   },
   {
    "duration": 3739,
    "start_time": "2022-01-22T17:41:44.382Z"
   },
   {
    "duration": 1681,
    "start_time": "2022-01-22T17:41:48.125Z"
   },
   {
    "duration": 29,
    "start_time": "2022-01-22T17:41:49.808Z"
   },
   {
    "duration": 15,
    "start_time": "2022-01-22T17:41:49.840Z"
   },
   {
    "duration": 724,
    "start_time": "2022-01-22T17:41:49.865Z"
   },
   {
    "duration": 46,
    "start_time": "2022-01-22T17:41:50.591Z"
   },
   {
    "duration": 15,
    "start_time": "2022-01-22T17:41:50.641Z"
   },
   {
    "duration": 29,
    "start_time": "2022-01-22T17:41:50.660Z"
   },
   {
    "duration": 13,
    "start_time": "2022-01-22T17:41:50.692Z"
   },
   {
    "duration": 17,
    "start_time": "2022-01-22T17:41:50.709Z"
   },
   {
    "duration": 15,
    "start_time": "2022-01-22T17:41:50.729Z"
   },
   {
    "duration": 33,
    "start_time": "2022-01-22T17:41:50.747Z"
   },
   {
    "duration": 12,
    "start_time": "2022-01-22T17:41:50.783Z"
   },
   {
    "duration": 16,
    "start_time": "2022-01-22T17:41:50.798Z"
   },
   {
    "duration": 53,
    "start_time": "2022-01-22T17:41:50.817Z"
   },
   {
    "duration": 4195,
    "start_time": "2022-01-22T17:41:50.873Z"
   },
   {
    "duration": -385,
    "start_time": "2022-01-22T17:41:55.459Z"
   },
   {
    "duration": -386,
    "start_time": "2022-01-22T17:41:55.462Z"
   },
   {
    "duration": -387,
    "start_time": "2022-01-22T17:41:55.465Z"
   },
   {
    "duration": -387,
    "start_time": "2022-01-22T17:41:55.467Z"
   },
   {
    "duration": -387,
    "start_time": "2022-01-22T17:41:55.469Z"
   },
   {
    "duration": -387,
    "start_time": "2022-01-22T17:41:55.472Z"
   },
   {
    "duration": -387,
    "start_time": "2022-01-22T17:41:55.474Z"
   },
   {
    "duration": -387,
    "start_time": "2022-01-22T17:41:55.476Z"
   },
   {
    "duration": -386,
    "start_time": "2022-01-22T17:41:55.478Z"
   },
   {
    "duration": -386,
    "start_time": "2022-01-22T17:41:55.480Z"
   },
   {
    "duration": -387,
    "start_time": "2022-01-22T17:41:55.482Z"
   },
   {
    "duration": -387,
    "start_time": "2022-01-22T17:41:55.484Z"
   },
   {
    "duration": -387,
    "start_time": "2022-01-22T17:41:55.486Z"
   },
   {
    "duration": -386,
    "start_time": "2022-01-22T17:41:55.488Z"
   },
   {
    "duration": -386,
    "start_time": "2022-01-22T17:41:55.490Z"
   },
   {
    "duration": -386,
    "start_time": "2022-01-22T17:41:55.492Z"
   },
   {
    "duration": -387,
    "start_time": "2022-01-22T17:41:55.495Z"
   },
   {
    "duration": -387,
    "start_time": "2022-01-22T17:41:55.497Z"
   },
   {
    "duration": -333,
    "start_time": "2022-01-22T17:41:55.498Z"
   },
   {
    "duration": -333,
    "start_time": "2022-01-22T17:41:55.500Z"
   },
   {
    "duration": -413,
    "start_time": "2022-01-22T17:41:55.582Z"
   },
   {
    "duration": -414,
    "start_time": "2022-01-22T17:41:55.585Z"
   },
   {
    "duration": -414,
    "start_time": "2022-01-22T17:41:55.587Z"
   },
   {
    "duration": -413,
    "start_time": "2022-01-22T17:41:55.589Z"
   },
   {
    "duration": -414,
    "start_time": "2022-01-22T17:41:55.591Z"
   },
   {
    "duration": -414,
    "start_time": "2022-01-22T17:41:55.593Z"
   },
   {
    "duration": 3459,
    "start_time": "2022-01-22T17:43:38.280Z"
   },
   {
    "duration": 3571,
    "start_time": "2022-01-22T17:43:41.742Z"
   },
   {
    "duration": 3676,
    "start_time": "2022-01-22T17:43:45.318Z"
   },
   {
    "duration": 1646,
    "start_time": "2022-01-22T17:43:48.997Z"
   },
   {
    "duration": 29,
    "start_time": "2022-01-22T17:43:50.645Z"
   },
   {
    "duration": 16,
    "start_time": "2022-01-22T17:43:50.676Z"
   },
   {
    "duration": 690,
    "start_time": "2022-01-22T17:43:50.694Z"
   },
   {
    "duration": 44,
    "start_time": "2022-01-22T17:43:51.388Z"
   },
   {
    "duration": 14,
    "start_time": "2022-01-22T17:43:51.435Z"
   },
   {
    "duration": 22,
    "start_time": "2022-01-22T17:43:51.452Z"
   },
   {
    "duration": 14,
    "start_time": "2022-01-22T17:43:51.476Z"
   },
   {
    "duration": 14,
    "start_time": "2022-01-22T17:43:51.493Z"
   },
   {
    "duration": 13,
    "start_time": "2022-01-22T17:43:51.509Z"
   },
   {
    "duration": 42,
    "start_time": "2022-01-22T17:43:51.524Z"
   },
   {
    "duration": 11,
    "start_time": "2022-01-22T17:43:51.568Z"
   },
   {
    "duration": 11,
    "start_time": "2022-01-22T17:43:51.582Z"
   },
   {
    "duration": 15,
    "start_time": "2022-01-22T17:43:51.596Z"
   },
   {
    "duration": 4647,
    "start_time": "2022-01-22T17:43:51.614Z"
   },
   {
    "duration": -374,
    "start_time": "2022-01-22T17:43:56.640Z"
   },
   {
    "duration": -375,
    "start_time": "2022-01-22T17:43:56.643Z"
   },
   {
    "duration": -376,
    "start_time": "2022-01-22T17:43:56.646Z"
   },
   {
    "duration": -376,
    "start_time": "2022-01-22T17:43:56.648Z"
   },
   {
    "duration": -376,
    "start_time": "2022-01-22T17:43:56.651Z"
   },
   {
    "duration": -375,
    "start_time": "2022-01-22T17:43:56.652Z"
   },
   {
    "duration": -376,
    "start_time": "2022-01-22T17:43:56.655Z"
   },
   {
    "duration": -376,
    "start_time": "2022-01-22T17:43:56.657Z"
   },
   {
    "duration": -376,
    "start_time": "2022-01-22T17:43:56.659Z"
   },
   {
    "duration": -376,
    "start_time": "2022-01-22T17:43:56.661Z"
   },
   {
    "duration": -375,
    "start_time": "2022-01-22T17:43:56.663Z"
   },
   {
    "duration": -375,
    "start_time": "2022-01-22T17:43:56.665Z"
   },
   {
    "duration": -375,
    "start_time": "2022-01-22T17:43:56.667Z"
   },
   {
    "duration": -375,
    "start_time": "2022-01-22T17:43:56.669Z"
   },
   {
    "duration": -375,
    "start_time": "2022-01-22T17:43:56.671Z"
   },
   {
    "duration": -375,
    "start_time": "2022-01-22T17:43:56.673Z"
   },
   {
    "duration": -375,
    "start_time": "2022-01-22T17:43:56.675Z"
   },
   {
    "duration": -376,
    "start_time": "2022-01-22T17:43:56.677Z"
   },
   {
    "duration": -377,
    "start_time": "2022-01-22T17:43:56.679Z"
   },
   {
    "duration": -437,
    "start_time": "2022-01-22T17:43:56.741Z"
   },
   {
    "duration": -384,
    "start_time": "2022-01-22T17:43:56.749Z"
   },
   {
    "duration": -386,
    "start_time": "2022-01-22T17:43:56.752Z"
   },
   {
    "duration": -386,
    "start_time": "2022-01-22T17:43:56.754Z"
   },
   {
    "duration": -387,
    "start_time": "2022-01-22T17:43:56.756Z"
   },
   {
    "duration": -387,
    "start_time": "2022-01-22T17:43:56.758Z"
   },
   {
    "duration": -388,
    "start_time": "2022-01-22T17:43:56.760Z"
   },
   {
    "duration": 3375,
    "start_time": "2022-01-22T17:44:16.265Z"
   },
   {
    "duration": 3964,
    "start_time": "2022-01-22T17:44:19.643Z"
   },
   {
    "duration": 3840,
    "start_time": "2022-01-22T17:44:23.610Z"
   },
   {
    "duration": 1688,
    "start_time": "2022-01-22T17:44:27.453Z"
   },
   {
    "duration": 29,
    "start_time": "2022-01-22T17:44:29.143Z"
   },
   {
    "duration": 15,
    "start_time": "2022-01-22T17:44:29.175Z"
   },
   {
    "duration": 695,
    "start_time": "2022-01-22T17:44:29.193Z"
   },
   {
    "duration": 45,
    "start_time": "2022-01-22T17:44:29.892Z"
   },
   {
    "duration": 14,
    "start_time": "2022-01-22T17:44:29.941Z"
   },
   {
    "duration": 34,
    "start_time": "2022-01-22T17:44:29.958Z"
   },
   {
    "duration": 12,
    "start_time": "2022-01-22T17:44:29.995Z"
   },
   {
    "duration": 21,
    "start_time": "2022-01-22T17:44:30.010Z"
   },
   {
    "duration": 17,
    "start_time": "2022-01-22T17:44:30.034Z"
   },
   {
    "duration": 22,
    "start_time": "2022-01-22T17:44:30.054Z"
   },
   {
    "duration": 15,
    "start_time": "2022-01-22T17:44:30.079Z"
   },
   {
    "duration": 7119,
    "start_time": "2022-01-22T17:44:30.097Z"
   },
   {
    "duration": -380,
    "start_time": "2022-01-22T17:44:37.600Z"
   },
   {
    "duration": -382,
    "start_time": "2022-01-22T17:44:37.603Z"
   },
   {
    "duration": -383,
    "start_time": "2022-01-22T17:44:37.605Z"
   },
   {
    "duration": -384,
    "start_time": "2022-01-22T17:44:37.608Z"
   },
   {
    "duration": -385,
    "start_time": "2022-01-22T17:44:37.610Z"
   },
   {
    "duration": -385,
    "start_time": "2022-01-22T17:44:37.612Z"
   },
   {
    "duration": -386,
    "start_time": "2022-01-22T17:44:37.614Z"
   },
   {
    "duration": -386,
    "start_time": "2022-01-22T17:44:37.616Z"
   },
   {
    "duration": -386,
    "start_time": "2022-01-22T17:44:37.618Z"
   },
   {
    "duration": -387,
    "start_time": "2022-01-22T17:44:37.620Z"
   },
   {
    "duration": -388,
    "start_time": "2022-01-22T17:44:37.622Z"
   },
   {
    "duration": -389,
    "start_time": "2022-01-22T17:44:37.625Z"
   },
   {
    "duration": -527,
    "start_time": "2022-01-22T17:44:37.764Z"
   },
   {
    "duration": -537,
    "start_time": "2022-01-22T17:44:37.775Z"
   },
   {
    "duration": -537,
    "start_time": "2022-01-22T17:44:37.777Z"
   },
   {
    "duration": -539,
    "start_time": "2022-01-22T17:44:37.780Z"
   },
   {
    "duration": -540,
    "start_time": "2022-01-22T17:44:37.782Z"
   },
   {
    "duration": -540,
    "start_time": "2022-01-22T17:44:37.784Z"
   },
   {
    "duration": -541,
    "start_time": "2022-01-22T17:44:37.786Z"
   },
   {
    "duration": -542,
    "start_time": "2022-01-22T17:44:37.788Z"
   },
   {
    "duration": -542,
    "start_time": "2022-01-22T17:44:37.790Z"
   },
   {
    "duration": -544,
    "start_time": "2022-01-22T17:44:37.793Z"
   },
   {
    "duration": -544,
    "start_time": "2022-01-22T17:44:37.795Z"
   },
   {
    "duration": -545,
    "start_time": "2022-01-22T17:44:37.797Z"
   },
   {
    "duration": -545,
    "start_time": "2022-01-22T17:44:37.799Z"
   },
   {
    "duration": -554,
    "start_time": "2022-01-22T17:44:37.809Z"
   },
   {
    "duration": 3438,
    "start_time": "2022-01-22T17:45:19.433Z"
   },
   {
    "duration": 4267,
    "start_time": "2022-01-22T17:45:22.874Z"
   },
   {
    "duration": 5364,
    "start_time": "2022-01-22T17:45:27.146Z"
   },
   {
    "duration": 1823,
    "start_time": "2022-01-22T17:45:32.515Z"
   },
   {
    "duration": 29,
    "start_time": "2022-01-22T17:45:34.341Z"
   },
   {
    "duration": 14,
    "start_time": "2022-01-22T17:45:34.373Z"
   },
   {
    "duration": 1423,
    "start_time": "2022-01-22T17:45:34.389Z"
   },
   {
    "duration": 48,
    "start_time": "2022-01-22T17:45:35.816Z"
   },
   {
    "duration": 17,
    "start_time": "2022-01-22T17:45:35.868Z"
   },
   {
    "duration": 32,
    "start_time": "2022-01-22T17:45:35.887Z"
   },
   {
    "duration": 14,
    "start_time": "2022-01-22T17:45:35.921Z"
   },
   {
    "duration": 36,
    "start_time": "2022-01-22T17:45:35.937Z"
   },
   {
    "duration": 16,
    "start_time": "2022-01-22T17:45:35.976Z"
   },
   {
    "duration": 24,
    "start_time": "2022-01-22T17:45:35.995Z"
   },
   {
    "duration": 13,
    "start_time": "2022-01-22T17:45:36.022Z"
   },
   {
    "duration": 12,
    "start_time": "2022-01-22T17:45:36.065Z"
   },
   {
    "duration": 13,
    "start_time": "2022-01-22T17:45:36.079Z"
   },
   {
    "duration": 4441,
    "start_time": "2022-01-22T17:45:36.094Z"
   },
   {
    "duration": -380,
    "start_time": "2022-01-22T17:45:40.919Z"
   },
   {
    "duration": -386,
    "start_time": "2022-01-22T17:45:40.927Z"
   },
   {
    "duration": -389,
    "start_time": "2022-01-22T17:45:40.931Z"
   },
   {
    "duration": -393,
    "start_time": "2022-01-22T17:45:40.937Z"
   },
   {
    "duration": -401,
    "start_time": "2022-01-22T17:45:40.946Z"
   },
   {
    "duration": -403,
    "start_time": "2022-01-22T17:45:40.949Z"
   },
   {
    "duration": -405,
    "start_time": "2022-01-22T17:45:40.953Z"
   },
   {
    "duration": -413,
    "start_time": "2022-01-22T17:45:40.963Z"
   },
   {
    "duration": -415,
    "start_time": "2022-01-22T17:45:40.966Z"
   },
   {
    "duration": -418,
    "start_time": "2022-01-22T17:45:40.971Z"
   },
   {
    "duration": -426,
    "start_time": "2022-01-22T17:45:40.980Z"
   },
   {
    "duration": -428,
    "start_time": "2022-01-22T17:45:40.984Z"
   },
   {
    "duration": -488,
    "start_time": "2022-01-22T17:45:41.045Z"
   },
   {
    "duration": -504,
    "start_time": "2022-01-22T17:45:41.062Z"
   },
   {
    "duration": -504,
    "start_time": "2022-01-22T17:45:41.064Z"
   },
   {
    "duration": -506,
    "start_time": "2022-01-22T17:45:41.067Z"
   },
   {
    "duration": -508,
    "start_time": "2022-01-22T17:45:41.071Z"
   },
   {
    "duration": -516,
    "start_time": "2022-01-22T17:45:41.080Z"
   },
   {
    "duration": -516,
    "start_time": "2022-01-22T17:45:41.082Z"
   },
   {
    "duration": -519,
    "start_time": "2022-01-22T17:45:41.086Z"
   },
   {
    "duration": -527,
    "start_time": "2022-01-22T17:45:41.096Z"
   },
   {
    "duration": -529,
    "start_time": "2022-01-22T17:45:41.099Z"
   },
   {
    "duration": -530,
    "start_time": "2022-01-22T17:45:41.101Z"
   },
   {
    "duration": -532,
    "start_time": "2022-01-22T17:45:41.105Z"
   },
   {
    "duration": -539,
    "start_time": "2022-01-22T17:45:41.113Z"
   },
   {
    "duration": -552,
    "start_time": "2022-01-22T17:45:41.128Z"
   },
   {
    "duration": 1232,
    "start_time": "2022-01-22T17:46:26.889Z"
   },
   {
    "duration": 3420,
    "start_time": "2022-01-22T17:46:34.607Z"
   },
   {
    "duration": 3591,
    "start_time": "2022-01-22T17:46:38.030Z"
   },
   {
    "duration": 3347,
    "start_time": "2022-01-22T17:46:41.624Z"
   },
   {
    "duration": 1664,
    "start_time": "2022-01-22T17:46:44.974Z"
   },
   {
    "duration": 30,
    "start_time": "2022-01-22T17:46:46.640Z"
   },
   {
    "duration": 14,
    "start_time": "2022-01-22T17:46:46.672Z"
   },
   {
    "duration": 695,
    "start_time": "2022-01-22T17:46:46.688Z"
   },
   {
    "duration": 45,
    "start_time": "2022-01-22T17:46:47.386Z"
   },
   {
    "duration": 15,
    "start_time": "2022-01-22T17:46:47.435Z"
   },
   {
    "duration": 27,
    "start_time": "2022-01-22T17:46:47.453Z"
   },
   {
    "duration": 13,
    "start_time": "2022-01-22T17:46:47.482Z"
   },
   {
    "duration": 28,
    "start_time": "2022-01-22T17:46:47.497Z"
   },
   {
    "duration": 24,
    "start_time": "2022-01-22T17:46:47.528Z"
   },
   {
    "duration": 25,
    "start_time": "2022-01-22T17:46:47.555Z"
   },
   {
    "duration": 16,
    "start_time": "2022-01-22T17:46:47.583Z"
   },
   {
    "duration": 21,
    "start_time": "2022-01-22T17:46:47.602Z"
   },
   {
    "duration": 29,
    "start_time": "2022-01-22T17:46:47.626Z"
   },
   {
    "duration": 3880,
    "start_time": "2022-01-22T17:46:47.658Z"
   },
   {
    "duration": -377,
    "start_time": "2022-01-22T17:46:51.920Z"
   },
   {
    "duration": -378,
    "start_time": "2022-01-22T17:46:51.923Z"
   },
   {
    "duration": -378,
    "start_time": "2022-01-22T17:46:51.925Z"
   },
   {
    "duration": -379,
    "start_time": "2022-01-22T17:46:51.927Z"
   },
   {
    "duration": -379,
    "start_time": "2022-01-22T17:46:51.929Z"
   },
   {
    "duration": -379,
    "start_time": "2022-01-22T17:46:51.931Z"
   },
   {
    "duration": -379,
    "start_time": "2022-01-22T17:46:51.933Z"
   },
   {
    "duration": -379,
    "start_time": "2022-01-22T17:46:51.935Z"
   },
   {
    "duration": -379,
    "start_time": "2022-01-22T17:46:51.937Z"
   },
   {
    "duration": -379,
    "start_time": "2022-01-22T17:46:51.939Z"
   },
   {
    "duration": -379,
    "start_time": "2022-01-22T17:46:51.941Z"
   },
   {
    "duration": -379,
    "start_time": "2022-01-22T17:46:51.943Z"
   },
   {
    "duration": -379,
    "start_time": "2022-01-22T17:46:51.945Z"
   },
   {
    "duration": -380,
    "start_time": "2022-01-22T17:46:51.947Z"
   },
   {
    "duration": -466,
    "start_time": "2022-01-22T17:46:52.035Z"
   },
   {
    "duration": -488,
    "start_time": "2022-01-22T17:46:52.058Z"
   },
   {
    "duration": -487,
    "start_time": "2022-01-22T17:46:52.059Z"
   },
   {
    "duration": -488,
    "start_time": "2022-01-22T17:46:52.061Z"
   },
   {
    "duration": -489,
    "start_time": "2022-01-22T17:46:52.063Z"
   },
   {
    "duration": -487,
    "start_time": "2022-01-22T17:46:52.065Z"
   },
   {
    "duration": -487,
    "start_time": "2022-01-22T17:46:52.067Z"
   },
   {
    "duration": -488,
    "start_time": "2022-01-22T17:46:52.069Z"
   },
   {
    "duration": -488,
    "start_time": "2022-01-22T17:46:52.071Z"
   },
   {
    "duration": -488,
    "start_time": "2022-01-22T17:46:52.073Z"
   },
   {
    "duration": -489,
    "start_time": "2022-01-22T17:46:52.075Z"
   },
   {
    "duration": -489,
    "start_time": "2022-01-22T17:46:52.077Z"
   },
   {
    "duration": 4284,
    "start_time": "2022-01-22T17:47:07.290Z"
   },
   {
    "duration": 4191,
    "start_time": "2022-01-22T17:47:28.463Z"
   },
   {
    "duration": 4815,
    "start_time": "2022-01-22T17:47:32.657Z"
   },
   {
    "duration": 3572,
    "start_time": "2022-01-22T17:47:37.476Z"
   },
   {
    "duration": 1712,
    "start_time": "2022-01-22T17:47:41.052Z"
   },
   {
    "duration": 31,
    "start_time": "2022-01-22T17:47:42.767Z"
   },
   {
    "duration": 23,
    "start_time": "2022-01-22T17:47:42.802Z"
   },
   {
    "duration": 758,
    "start_time": "2022-01-22T17:47:42.828Z"
   },
   {
    "duration": 50,
    "start_time": "2022-01-22T17:47:43.589Z"
   },
   {
    "duration": 17,
    "start_time": "2022-01-22T17:47:43.642Z"
   },
   {
    "duration": 26,
    "start_time": "2022-01-22T17:47:43.662Z"
   },
   {
    "duration": 15,
    "start_time": "2022-01-22T17:47:43.690Z"
   },
   {
    "duration": 23,
    "start_time": "2022-01-22T17:47:43.708Z"
   },
   {
    "duration": 33,
    "start_time": "2022-01-22T17:47:43.733Z"
   },
   {
    "duration": 24,
    "start_time": "2022-01-22T17:47:43.769Z"
   },
   {
    "duration": 19,
    "start_time": "2022-01-22T17:47:43.796Z"
   },
   {
    "duration": 48,
    "start_time": "2022-01-22T17:47:43.818Z"
   },
   {
    "duration": 14,
    "start_time": "2022-01-22T17:47:43.869Z"
   },
   {
    "duration": 24,
    "start_time": "2022-01-22T17:47:43.885Z"
   },
   {
    "duration": 23,
    "start_time": "2022-01-22T17:47:43.912Z"
   },
   {
    "duration": 37,
    "start_time": "2022-01-22T17:47:43.938Z"
   },
   {
    "duration": 19,
    "start_time": "2022-01-22T17:47:43.979Z"
   },
   {
    "duration": 26,
    "start_time": "2022-01-22T17:47:44.000Z"
   },
   {
    "duration": 49,
    "start_time": "2022-01-22T17:47:44.032Z"
   },
   {
    "duration": 11,
    "start_time": "2022-01-22T17:47:44.085Z"
   },
   {
    "duration": 642,
    "start_time": "2022-01-22T17:47:44.099Z"
   },
   {
    "duration": 55,
    "start_time": "2022-01-22T17:47:44.745Z"
   },
   {
    "duration": 64,
    "start_time": "2022-01-22T17:47:44.803Z"
   },
   {
    "duration": 546,
    "start_time": "2022-01-22T17:47:44.870Z"
   },
   {
    "duration": 10,
    "start_time": "2022-01-22T17:47:45.420Z"
   },
   {
    "duration": 527,
    "start_time": "2022-01-22T17:47:45.432Z"
   },
   {
    "duration": 6,
    "start_time": "2022-01-22T17:47:45.964Z"
   },
   {
    "duration": 10,
    "start_time": "2022-01-22T17:47:45.973Z"
   },
   {
    "duration": 7,
    "start_time": "2022-01-22T17:47:45.985Z"
   },
   {
    "duration": 7,
    "start_time": "2022-01-22T17:47:45.994Z"
   },
   {
    "duration": 8,
    "start_time": "2022-01-22T17:47:46.004Z"
   },
   {
    "duration": 7,
    "start_time": "2022-01-22T17:47:46.066Z"
   },
   {
    "duration": 9,
    "start_time": "2022-01-22T17:47:46.075Z"
   },
   {
    "duration": 634,
    "start_time": "2022-01-22T17:47:46.087Z"
   },
   {
    "duration": 7,
    "start_time": "2022-01-22T17:47:46.723Z"
   },
   {
    "duration": 17,
    "start_time": "2022-01-22T17:47:46.733Z"
   },
   {
    "duration": 10,
    "start_time": "2022-01-22T17:47:46.765Z"
   },
   {
    "duration": 8,
    "start_time": "2022-01-22T17:47:46.778Z"
   },
   {
    "duration": 12,
    "start_time": "2022-01-22T17:47:46.788Z"
   },
   {
    "duration": 7,
    "start_time": "2022-01-22T17:47:46.803Z"
   },
   {
    "duration": 4378,
    "start_time": "2022-01-22T17:51:59.584Z"
   },
   {
    "duration": 3466,
    "start_time": "2022-01-22T17:52:03.966Z"
   },
   {
    "duration": 3717,
    "start_time": "2022-01-22T17:52:07.435Z"
   },
   {
    "duration": 1779,
    "start_time": "2022-01-22T17:52:11.155Z"
   },
   {
    "duration": 33,
    "start_time": "2022-01-22T17:52:12.937Z"
   },
   {
    "duration": 16,
    "start_time": "2022-01-22T17:52:12.973Z"
   },
   {
    "duration": 709,
    "start_time": "2022-01-22T17:52:12.992Z"
   },
   {
    "duration": 49,
    "start_time": "2022-01-22T17:52:13.705Z"
   },
   {
    "duration": 16,
    "start_time": "2022-01-22T17:52:13.757Z"
   },
   {
    "duration": 30,
    "start_time": "2022-01-22T17:52:13.776Z"
   },
   {
    "duration": 14,
    "start_time": "2022-01-22T17:52:13.808Z"
   },
   {
    "duration": 21,
    "start_time": "2022-01-22T17:52:13.824Z"
   },
   {
    "duration": 27,
    "start_time": "2022-01-22T17:52:13.848Z"
   },
   {
    "duration": 23,
    "start_time": "2022-01-22T17:52:13.878Z"
   },
   {
    "duration": 12,
    "start_time": "2022-01-22T17:52:13.904Z"
   },
   {
    "duration": 11,
    "start_time": "2022-01-22T17:52:13.918Z"
   },
   {
    "duration": 12,
    "start_time": "2022-01-22T17:52:13.965Z"
   },
   {
    "duration": 21,
    "start_time": "2022-01-22T17:52:13.980Z"
   },
   {
    "duration": 19,
    "start_time": "2022-01-22T17:52:14.003Z"
   },
   {
    "duration": 39,
    "start_time": "2022-01-22T17:52:14.025Z"
   },
   {
    "duration": 14,
    "start_time": "2022-01-22T17:52:14.067Z"
   },
   {
    "duration": 24,
    "start_time": "2022-01-22T17:52:14.084Z"
   },
   {
    "duration": 19,
    "start_time": "2022-01-22T17:52:14.113Z"
   },
   {
    "duration": 35,
    "start_time": "2022-01-22T17:52:14.135Z"
   },
   {
    "duration": 449,
    "start_time": "2022-01-22T17:52:14.173Z"
   },
   {
    "duration": 46,
    "start_time": "2022-01-22T17:52:14.625Z"
   },
   {
    "duration": 26,
    "start_time": "2022-01-22T17:52:14.674Z"
   },
   {
    "duration": 427,
    "start_time": "2022-01-22T17:52:14.703Z"
   },
   {
    "duration": 8,
    "start_time": "2022-01-22T17:52:15.132Z"
   },
   {
    "duration": 564,
    "start_time": "2022-01-22T17:52:15.143Z"
   },
   {
    "duration": 7,
    "start_time": "2022-01-22T17:52:15.710Z"
   },
   {
    "duration": 17,
    "start_time": "2022-01-22T17:52:15.719Z"
   },
   {
    "duration": 17,
    "start_time": "2022-01-22T17:52:15.738Z"
   },
   {
    "duration": 6,
    "start_time": "2022-01-22T17:52:15.765Z"
   },
   {
    "duration": 16,
    "start_time": "2022-01-22T17:52:15.773Z"
   },
   {
    "duration": 14,
    "start_time": "2022-01-22T17:52:15.791Z"
   },
   {
    "duration": 10,
    "start_time": "2022-01-22T17:52:15.808Z"
   },
   {
    "duration": 430,
    "start_time": "2022-01-22T17:52:15.820Z"
   },
   {
    "duration": 15,
    "start_time": "2022-01-22T17:52:16.253Z"
   },
   {
    "duration": 14,
    "start_time": "2022-01-22T17:52:16.270Z"
   },
   {
    "duration": 10,
    "start_time": "2022-01-22T17:52:16.286Z"
   },
   {
    "duration": 12,
    "start_time": "2022-01-22T17:52:16.298Z"
   },
   {
    "duration": 7,
    "start_time": "2022-01-22T17:52:16.313Z"
   },
   {
    "duration": 43,
    "start_time": "2022-01-22T17:52:16.322Z"
   },
   {
    "duration": 4159,
    "start_time": "2022-01-23T10:34:20.191Z"
   },
   {
    "duration": 19912,
    "start_time": "2022-01-23T10:34:24.353Z"
   },
   {
    "duration": 9409,
    "start_time": "2022-01-23T10:34:44.268Z"
   },
   {
    "duration": 1561,
    "start_time": "2022-01-23T10:34:53.679Z"
   },
   {
    "duration": 28,
    "start_time": "2022-01-23T10:34:55.243Z"
   },
   {
    "duration": 13,
    "start_time": "2022-01-23T10:34:55.273Z"
   },
   {
    "duration": 606,
    "start_time": "2022-01-23T10:34:55.289Z"
   },
   {
    "duration": 60,
    "start_time": "2022-01-23T10:34:55.899Z"
   },
   {
    "duration": 14,
    "start_time": "2022-01-23T10:34:55.962Z"
   },
   {
    "duration": 27,
    "start_time": "2022-01-23T10:34:55.978Z"
   },
   {
    "duration": 13,
    "start_time": "2022-01-23T10:34:56.007Z"
   },
   {
    "duration": 20,
    "start_time": "2022-01-23T10:34:56.022Z"
   },
   {
    "duration": 12,
    "start_time": "2022-01-23T10:34:56.044Z"
   },
   {
    "duration": 20,
    "start_time": "2022-01-23T10:34:56.058Z"
   },
   {
    "duration": 43,
    "start_time": "2022-01-23T10:34:56.080Z"
   },
   {
    "duration": 12,
    "start_time": "2022-01-23T10:34:56.126Z"
   },
   {
    "duration": 13,
    "start_time": "2022-01-23T10:34:56.141Z"
   },
   {
    "duration": 22,
    "start_time": "2022-01-23T10:34:56.157Z"
   },
   {
    "duration": 47,
    "start_time": "2022-01-23T10:34:56.181Z"
   },
   {
    "duration": 13,
    "start_time": "2022-01-23T10:34:56.230Z"
   },
   {
    "duration": 13,
    "start_time": "2022-01-23T10:34:56.245Z"
   },
   {
    "duration": 17,
    "start_time": "2022-01-23T10:34:56.261Z"
   },
   {
    "duration": 47,
    "start_time": "2022-01-23T10:34:56.282Z"
   },
   {
    "duration": 16,
    "start_time": "2022-01-23T10:34:56.332Z"
   },
   {
    "duration": 3590,
    "start_time": "2022-01-23T10:34:56.351Z"
   },
   {
    "duration": -224,
    "start_time": "2022-01-23T10:35:00.169Z"
   },
   {
    "duration": -225,
    "start_time": "2022-01-23T10:35:00.171Z"
   },
   {
    "duration": -226,
    "start_time": "2022-01-23T10:35:00.174Z"
   },
   {
    "duration": -225,
    "start_time": "2022-01-23T10:35:00.176Z"
   },
   {
    "duration": -225,
    "start_time": "2022-01-23T10:35:00.178Z"
   },
   {
    "duration": -225,
    "start_time": "2022-01-23T10:35:00.180Z"
   },
   {
    "duration": -225,
    "start_time": "2022-01-23T10:35:00.182Z"
   },
   {
    "duration": -225,
    "start_time": "2022-01-23T10:35:00.184Z"
   },
   {
    "duration": -224,
    "start_time": "2022-01-23T10:35:00.186Z"
   },
   {
    "duration": -225,
    "start_time": "2022-01-23T10:35:00.189Z"
   },
   {
    "duration": -224,
    "start_time": "2022-01-23T10:35:00.191Z"
   },
   {
    "duration": -224,
    "start_time": "2022-01-23T10:35:00.193Z"
   },
   {
    "duration": -224,
    "start_time": "2022-01-23T10:35:00.195Z"
   },
   {
    "duration": -224,
    "start_time": "2022-01-23T10:35:00.197Z"
   },
   {
    "duration": -224,
    "start_time": "2022-01-23T10:35:00.199Z"
   },
   {
    "duration": -223,
    "start_time": "2022-01-23T10:35:00.201Z"
   },
   {
    "duration": -223,
    "start_time": "2022-01-23T10:35:00.203Z"
   },
   {
    "duration": -230,
    "start_time": "2022-01-23T10:35:00.212Z"
   },
   {
    "duration": -302,
    "start_time": "2022-01-23T10:35:00.286Z"
   },
   {
    "duration": 35,
    "start_time": "2022-01-23T10:36:18.171Z"
   },
   {
    "duration": 14,
    "start_time": "2022-01-23T10:38:27.609Z"
   },
   {
    "duration": 17,
    "start_time": "2022-01-23T10:38:36.383Z"
   },
   {
    "duration": 10,
    "start_time": "2022-01-23T10:38:57.600Z"
   },
   {
    "duration": 3775,
    "start_time": "2022-01-23T10:38:58.128Z"
   },
   {
    "duration": 16,
    "start_time": "2022-01-23T10:39:32.455Z"
   },
   {
    "duration": 10,
    "start_time": "2022-01-23T10:39:44.887Z"
   },
   {
    "duration": 4032,
    "start_time": "2022-01-23T10:39:45.630Z"
   },
   {
    "duration": 3835,
    "start_time": "2022-01-23T10:40:21.247Z"
   },
   {
    "duration": 22,
    "start_time": "2022-01-23T10:41:19.509Z"
   },
   {
    "duration": 20,
    "start_time": "2022-01-23T10:41:21.320Z"
   },
   {
    "duration": 6,
    "start_time": "2022-01-23T10:41:24.236Z"
   },
   {
    "duration": 472,
    "start_time": "2022-01-23T10:41:25.784Z"
   },
   {
    "duration": 3217,
    "start_time": "2022-01-23T10:41:38.564Z"
   },
   {
    "duration": 3311,
    "start_time": "2022-01-23T10:41:41.784Z"
   },
   {
    "duration": 3444,
    "start_time": "2022-01-23T10:41:45.098Z"
   },
   {
    "duration": 1523,
    "start_time": "2022-01-23T10:41:48.545Z"
   },
   {
    "duration": 26,
    "start_time": "2022-01-23T10:41:50.071Z"
   },
   {
    "duration": 25,
    "start_time": "2022-01-23T10:41:50.100Z"
   },
   {
    "duration": 600,
    "start_time": "2022-01-23T10:41:50.127Z"
   },
   {
    "duration": 39,
    "start_time": "2022-01-23T10:41:50.729Z"
   },
   {
    "duration": 17,
    "start_time": "2022-01-23T10:41:50.774Z"
   },
   {
    "duration": 25,
    "start_time": "2022-01-23T10:41:50.794Z"
   },
   {
    "duration": 14,
    "start_time": "2022-01-23T10:41:50.822Z"
   },
   {
    "duration": 33,
    "start_time": "2022-01-23T10:41:50.838Z"
   },
   {
    "duration": 14,
    "start_time": "2022-01-23T10:41:50.873Z"
   },
   {
    "duration": 19,
    "start_time": "2022-01-23T10:41:50.890Z"
   },
   {
    "duration": 11,
    "start_time": "2022-01-23T10:41:50.923Z"
   },
   {
    "duration": 27,
    "start_time": "2022-01-23T10:41:50.936Z"
   },
   {
    "duration": 18,
    "start_time": "2022-01-23T10:41:50.966Z"
   },
   {
    "duration": 31,
    "start_time": "2022-01-23T10:41:50.986Z"
   },
   {
    "duration": 13,
    "start_time": "2022-01-23T10:41:51.019Z"
   },
   {
    "duration": 19,
    "start_time": "2022-01-23T10:41:51.035Z"
   },
   {
    "duration": 23,
    "start_time": "2022-01-23T10:41:51.056Z"
   },
   {
    "duration": 23,
    "start_time": "2022-01-23T10:41:51.081Z"
   },
   {
    "duration": 33,
    "start_time": "2022-01-23T10:41:51.107Z"
   },
   {
    "duration": 6,
    "start_time": "2022-01-23T10:41:51.142Z"
   },
   {
    "duration": 473,
    "start_time": "2022-01-23T10:41:51.150Z"
   },
   {
    "duration": 27,
    "start_time": "2022-01-23T10:41:51.626Z"
   },
   {
    "duration": 26,
    "start_time": "2022-01-23T10:41:51.658Z"
   },
   {
    "duration": 423,
    "start_time": "2022-01-23T10:41:51.724Z"
   },
   {
    "duration": 7,
    "start_time": "2022-01-23T10:41:52.151Z"
   },
   {
    "duration": 488,
    "start_time": "2022-01-23T10:41:52.161Z"
   },
   {
    "duration": 7,
    "start_time": "2022-01-23T10:41:52.652Z"
   },
   {
    "duration": 7,
    "start_time": "2022-01-23T10:41:52.661Z"
   },
   {
    "duration": 6,
    "start_time": "2022-01-23T10:41:52.670Z"
   },
   {
    "duration": 46,
    "start_time": "2022-01-23T10:41:52.679Z"
   },
   {
    "duration": 6,
    "start_time": "2022-01-23T10:41:52.727Z"
   },
   {
    "duration": 7,
    "start_time": "2022-01-23T10:41:52.735Z"
   },
   {
    "duration": 7,
    "start_time": "2022-01-23T10:41:52.744Z"
   },
   {
    "duration": 472,
    "start_time": "2022-01-23T10:41:52.754Z"
   },
   {
    "duration": 7,
    "start_time": "2022-01-23T10:41:53.228Z"
   },
   {
    "duration": 11,
    "start_time": "2022-01-23T10:41:53.237Z"
   },
   {
    "duration": 10,
    "start_time": "2022-01-23T10:41:53.250Z"
   },
   {
    "duration": 7,
    "start_time": "2022-01-23T10:41:53.263Z"
   },
   {
    "duration": 8,
    "start_time": "2022-01-23T10:41:53.272Z"
   },
   {
    "duration": 43,
    "start_time": "2022-01-23T10:41:53.282Z"
   },
   {
    "duration": 19,
    "start_time": "2022-01-23T10:42:24.920Z"
   },
   {
    "duration": 13,
    "start_time": "2022-01-23T10:42:50.191Z"
   },
   {
    "duration": 405,
    "start_time": "2022-01-23T10:42:50.974Z"
   },
   {
    "duration": 3214,
    "start_time": "2022-01-23T10:42:59.612Z"
   },
   {
    "duration": 3304,
    "start_time": "2022-01-23T10:43:02.829Z"
   },
   {
    "duration": 3364,
    "start_time": "2022-01-23T10:43:06.136Z"
   },
   {
    "duration": 1527,
    "start_time": "2022-01-23T10:43:09.503Z"
   },
   {
    "duration": 28,
    "start_time": "2022-01-23T10:43:11.033Z"
   },
   {
    "duration": 13,
    "start_time": "2022-01-23T10:43:11.064Z"
   },
   {
    "duration": 619,
    "start_time": "2022-01-23T10:43:11.080Z"
   },
   {
    "duration": 38,
    "start_time": "2022-01-23T10:43:11.701Z"
   },
   {
    "duration": 16,
    "start_time": "2022-01-23T10:43:11.743Z"
   },
   {
    "duration": 21,
    "start_time": "2022-01-23T10:43:11.762Z"
   },
   {
    "duration": 13,
    "start_time": "2022-01-23T10:43:11.786Z"
   },
   {
    "duration": 36,
    "start_time": "2022-01-23T10:43:11.802Z"
   },
   {
    "duration": 12,
    "start_time": "2022-01-23T10:43:11.841Z"
   },
   {
    "duration": 22,
    "start_time": "2022-01-23T10:43:11.856Z"
   },
   {
    "duration": 43,
    "start_time": "2022-01-23T10:43:11.880Z"
   },
   {
    "duration": 10,
    "start_time": "2022-01-23T10:43:11.925Z"
   },
   {
    "duration": 11,
    "start_time": "2022-01-23T10:43:11.938Z"
   },
   {
    "duration": 21,
    "start_time": "2022-01-23T10:43:11.952Z"
   },
   {
    "duration": 49,
    "start_time": "2022-01-23T10:43:11.975Z"
   },
   {
    "duration": 14,
    "start_time": "2022-01-23T10:43:12.026Z"
   },
   {
    "duration": 17,
    "start_time": "2022-01-23T10:43:12.042Z"
   },
   {
    "duration": 18,
    "start_time": "2022-01-23T10:43:12.061Z"
   },
   {
    "duration": 56,
    "start_time": "2022-01-23T10:43:12.081Z"
   },
   {
    "duration": 15,
    "start_time": "2022-01-23T10:43:12.140Z"
   },
   {
    "duration": 536,
    "start_time": "2022-01-23T10:43:12.157Z"
   },
   {
    "duration": 41,
    "start_time": "2022-01-23T10:43:12.696Z"
   },
   {
    "duration": 25,
    "start_time": "2022-01-23T10:43:12.745Z"
   },
   {
    "duration": 423,
    "start_time": "2022-01-23T10:43:12.774Z"
   },
   {
    "duration": 9,
    "start_time": "2022-01-23T10:43:13.200Z"
   },
   {
    "duration": 474,
    "start_time": "2022-01-23T10:43:13.224Z"
   },
   {
    "duration": 6,
    "start_time": "2022-01-23T10:43:13.700Z"
   },
   {
    "duration": 5,
    "start_time": "2022-01-23T10:43:13.724Z"
   },
   {
    "duration": 6,
    "start_time": "2022-01-23T10:43:13.731Z"
   },
   {
    "duration": 5,
    "start_time": "2022-01-23T10:43:13.739Z"
   },
   {
    "duration": 5,
    "start_time": "2022-01-23T10:43:13.747Z"
   },
   {
    "duration": 10,
    "start_time": "2022-01-23T10:43:13.754Z"
   },
   {
    "duration": 56,
    "start_time": "2022-01-23T10:43:13.767Z"
   },
   {
    "duration": 382,
    "start_time": "2022-01-23T10:43:13.825Z"
   },
   {
    "duration": 13,
    "start_time": "2022-01-23T10:43:14.210Z"
   },
   {
    "duration": 9,
    "start_time": "2022-01-23T10:43:14.225Z"
   },
   {
    "duration": 11,
    "start_time": "2022-01-23T10:43:14.236Z"
   },
   {
    "duration": 6,
    "start_time": "2022-01-23T10:43:14.249Z"
   },
   {
    "duration": 7,
    "start_time": "2022-01-23T10:43:14.257Z"
   },
   {
    "duration": 6,
    "start_time": "2022-01-23T10:43:14.267Z"
   },
   {
    "duration": 15,
    "start_time": "2022-01-23T10:43:33.043Z"
   },
   {
    "duration": 3658,
    "start_time": "2022-01-23T10:43:33.395Z"
   },
   {
    "duration": 3484,
    "start_time": "2022-01-23T10:45:46.194Z"
   },
   {
    "duration": -209,
    "start_time": "2022-01-23T10:45:49.890Z"
   },
   {
    "duration": -204,
    "start_time": "2022-01-23T10:46:17.174Z"
   },
   {
    "duration": 13,
    "start_time": "2022-01-23T10:46:20.665Z"
   },
   {
    "duration": 3803,
    "start_time": "2022-01-23T10:46:21.304Z"
   },
   {
    "duration": 4369,
    "start_time": "2022-01-23T10:50:31.276Z"
   },
   {
    "duration": 3158,
    "start_time": "2022-01-23T10:50:40.575Z"
   },
   {
    "duration": 3257,
    "start_time": "2022-01-23T10:50:43.737Z"
   },
   {
    "duration": 3056,
    "start_time": "2022-01-23T10:50:46.997Z"
   },
   {
    "duration": 1481,
    "start_time": "2022-01-23T10:50:50.056Z"
   },
   {
    "duration": 28,
    "start_time": "2022-01-23T10:50:51.540Z"
   },
   {
    "duration": 17,
    "start_time": "2022-01-23T10:50:51.571Z"
   },
   {
    "duration": 639,
    "start_time": "2022-01-23T10:50:51.591Z"
   },
   {
    "duration": 37,
    "start_time": "2022-01-23T10:50:52.232Z"
   },
   {
    "duration": 14,
    "start_time": "2022-01-23T10:50:52.273Z"
   },
   {
    "duration": 19,
    "start_time": "2022-01-23T10:50:52.289Z"
   },
   {
    "duration": 14,
    "start_time": "2022-01-23T10:50:52.310Z"
   },
   {
    "duration": 23,
    "start_time": "2022-01-23T10:50:52.327Z"
   },
   {
    "duration": 24,
    "start_time": "2022-01-23T10:50:52.352Z"
   },
   {
    "duration": 34,
    "start_time": "2022-01-23T10:50:52.378Z"
   },
   {
    "duration": 15,
    "start_time": "2022-01-23T10:50:52.415Z"
   },
   {
    "duration": 15,
    "start_time": "2022-01-23T10:50:52.432Z"
   },
   {
    "duration": 13,
    "start_time": "2022-01-23T10:50:52.449Z"
   },
   {
    "duration": 22,
    "start_time": "2022-01-23T10:50:52.465Z"
   },
   {
    "duration": 34,
    "start_time": "2022-01-23T10:50:52.489Z"
   },
   {
    "duration": 15,
    "start_time": "2022-01-23T10:50:52.525Z"
   },
   {
    "duration": 13,
    "start_time": "2022-01-23T10:50:52.542Z"
   },
   {
    "duration": 17,
    "start_time": "2022-01-23T10:50:52.557Z"
   },
   {
    "duration": 50,
    "start_time": "2022-01-23T10:50:52.577Z"
   },
   {
    "duration": 8,
    "start_time": "2022-01-23T10:50:52.630Z"
   },
   {
    "duration": 10726,
    "start_time": "2022-01-23T10:50:52.640Z"
   },
   {
    "duration": -209,
    "start_time": "2022-01-23T10:51:03.580Z"
   },
   {
    "duration": -210,
    "start_time": "2022-01-23T10:51:03.583Z"
   },
   {
    "duration": -210,
    "start_time": "2022-01-23T10:51:03.586Z"
   },
   {
    "duration": -211,
    "start_time": "2022-01-23T10:51:03.589Z"
   },
   {
    "duration": -211,
    "start_time": "2022-01-23T10:51:03.591Z"
   },
   {
    "duration": -210,
    "start_time": "2022-01-23T10:51:03.593Z"
   },
   {
    "duration": -210,
    "start_time": "2022-01-23T10:51:03.595Z"
   },
   {
    "duration": -210,
    "start_time": "2022-01-23T10:51:03.597Z"
   },
   {
    "duration": -209,
    "start_time": "2022-01-23T10:51:03.599Z"
   },
   {
    "duration": -218,
    "start_time": "2022-01-23T10:51:03.610Z"
   },
   {
    "duration": -216,
    "start_time": "2022-01-23T10:51:03.612Z"
   },
   {
    "duration": -216,
    "start_time": "2022-01-23T10:51:03.614Z"
   },
   {
    "duration": -217,
    "start_time": "2022-01-23T10:51:03.617Z"
   },
   {
    "duration": -223,
    "start_time": "2022-01-23T10:51:03.626Z"
   },
   {
    "duration": -224,
    "start_time": "2022-01-23T10:51:03.629Z"
   },
   {
    "duration": -210,
    "start_time": "2022-01-23T10:51:03.632Z"
   },
   {
    "duration": -212,
    "start_time": "2022-01-23T10:51:03.636Z"
   },
   {
    "duration": -219,
    "start_time": "2022-01-23T10:51:03.646Z"
   },
   {
    "duration": -220,
    "start_time": "2022-01-23T10:51:03.649Z"
   },
   {
    "duration": 290,
    "start_time": "2022-01-23T10:55:27.485Z"
   },
   {
    "duration": -209,
    "start_time": "2022-01-23T10:55:27.987Z"
   },
   {
    "duration": 3186,
    "start_time": "2022-01-23T10:55:43.284Z"
   },
   {
    "duration": 3272,
    "start_time": "2022-01-23T10:55:46.473Z"
   },
   {
    "duration": 3143,
    "start_time": "2022-01-23T10:55:49.749Z"
   },
   {
    "duration": 1566,
    "start_time": "2022-01-23T10:55:52.896Z"
   },
   {
    "duration": 28,
    "start_time": "2022-01-23T10:55:54.464Z"
   },
   {
    "duration": 13,
    "start_time": "2022-01-23T10:55:54.494Z"
   },
   {
    "duration": 592,
    "start_time": "2022-01-23T10:55:54.510Z"
   },
   {
    "duration": 38,
    "start_time": "2022-01-23T10:55:55.105Z"
   },
   {
    "duration": 15,
    "start_time": "2022-01-23T10:55:55.146Z"
   },
   {
    "duration": 25,
    "start_time": "2022-01-23T10:55:55.163Z"
   },
   {
    "duration": 13,
    "start_time": "2022-01-23T10:55:55.191Z"
   },
   {
    "duration": 28,
    "start_time": "2022-01-23T10:55:55.206Z"
   },
   {
    "duration": 12,
    "start_time": "2022-01-23T10:55:55.236Z"
   },
   {
    "duration": 20,
    "start_time": "2022-01-23T10:55:55.250Z"
   },
   {
    "duration": 12,
    "start_time": "2022-01-23T10:55:55.272Z"
   },
   {
    "duration": 47,
    "start_time": "2022-01-23T10:55:55.287Z"
   },
   {
    "duration": 13,
    "start_time": "2022-01-23T10:55:55.336Z"
   },
   {
    "duration": 21,
    "start_time": "2022-01-23T10:55:55.351Z"
   },
   {
    "duration": 14,
    "start_time": "2022-01-23T10:55:55.374Z"
   },
   {
    "duration": 38,
    "start_time": "2022-01-23T10:55:55.390Z"
   },
   {
    "duration": 13,
    "start_time": "2022-01-23T10:55:55.431Z"
   },
   {
    "duration": 19,
    "start_time": "2022-01-23T10:55:55.447Z"
   },
   {
    "duration": 18,
    "start_time": "2022-01-23T10:55:55.470Z"
   },
   {
    "duration": 8,
    "start_time": "2022-01-23T10:55:55.525Z"
   },
   {
    "duration": 14,
    "start_time": "2022-01-23T10:55:55.536Z"
   },
   {
    "duration": 3644,
    "start_time": "2022-01-23T10:55:55.552Z"
   },
   {
    "duration": -228,
    "start_time": "2022-01-23T10:55:59.426Z"
   },
   {
    "duration": -229,
    "start_time": "2022-01-23T10:55:59.429Z"
   },
   {
    "duration": -228,
    "start_time": "2022-01-23T10:55:59.430Z"
   },
   {
    "duration": -230,
    "start_time": "2022-01-23T10:55:59.433Z"
   },
   {
    "duration": -235,
    "start_time": "2022-01-23T10:55:59.440Z"
   },
   {
    "duration": -236,
    "start_time": "2022-01-23T10:55:59.442Z"
   },
   {
    "duration": -237,
    "start_time": "2022-01-23T10:55:59.445Z"
   },
   {
    "duration": -238,
    "start_time": "2022-01-23T10:55:59.447Z"
   },
   {
    "duration": -239,
    "start_time": "2022-01-23T10:55:59.450Z"
   },
   {
    "duration": -245,
    "start_time": "2022-01-23T10:55:59.457Z"
   },
   {
    "duration": -246,
    "start_time": "2022-01-23T10:55:59.460Z"
   },
   {
    "duration": -246,
    "start_time": "2022-01-23T10:55:59.462Z"
   },
   {
    "duration": -248,
    "start_time": "2022-01-23T10:55:59.465Z"
   },
   {
    "duration": -253,
    "start_time": "2022-01-23T10:55:59.472Z"
   },
   {
    "duration": -253,
    "start_time": "2022-01-23T10:55:59.474Z"
   },
   {
    "duration": -255,
    "start_time": "2022-01-23T10:55:59.477Z"
   },
   {
    "duration": -256,
    "start_time": "2022-01-23T10:55:59.479Z"
   },
   {
    "duration": -256,
    "start_time": "2022-01-23T10:55:59.481Z"
   },
   {
    "duration": -257,
    "start_time": "2022-01-23T10:55:59.483Z"
   },
   {
    "duration": 18,
    "start_time": "2022-01-23T10:56:19.277Z"
   },
   {
    "duration": 9,
    "start_time": "2022-01-23T10:57:08.047Z"
   },
   {
    "duration": 21,
    "start_time": "2022-01-23T10:57:17.247Z"
   },
   {
    "duration": 7,
    "start_time": "2022-01-23T10:57:27.268Z"
   },
   {
    "duration": 3485,
    "start_time": "2022-01-23T10:57:30.167Z"
   },
   {
    "duration": 10,
    "start_time": "2022-01-23T10:58:19.399Z"
   },
   {
    "duration": 5,
    "start_time": "2022-01-23T10:58:20.269Z"
   },
   {
    "duration": 359,
    "start_time": "2022-01-23T10:58:21.390Z"
   },
   {
    "duration": 753,
    "start_time": "2022-01-23T11:02:17.803Z"
   },
   {
    "duration": 396,
    "start_time": "2022-01-23T11:02:24.578Z"
   },
   {
    "duration": 295,
    "start_time": "2022-01-23T11:02:48.954Z"
   },
   {
    "duration": 5,
    "start_time": "2022-01-23T11:02:49.449Z"
   },
   {
    "duration": 332,
    "start_time": "2022-01-23T11:02:50.169Z"
   },
   {
    "duration": 288,
    "start_time": "2022-01-23T11:04:02.310Z"
   },
   {
    "duration": 3148,
    "start_time": "2022-01-23T11:04:15.017Z"
   },
   {
    "duration": 3443,
    "start_time": "2022-01-23T11:04:18.168Z"
   },
   {
    "duration": 3150,
    "start_time": "2022-01-23T11:04:21.614Z"
   },
   {
    "duration": 1658,
    "start_time": "2022-01-23T11:04:24.768Z"
   },
   {
    "duration": 27,
    "start_time": "2022-01-23T11:04:26.429Z"
   },
   {
    "duration": 14,
    "start_time": "2022-01-23T11:04:26.458Z"
   },
   {
    "duration": 605,
    "start_time": "2022-01-23T11:04:26.475Z"
   },
   {
    "duration": 53,
    "start_time": "2022-01-23T11:04:27.082Z"
   },
   {
    "duration": 16,
    "start_time": "2022-01-23T11:04:27.139Z"
   },
   {
    "duration": 24,
    "start_time": "2022-01-23T11:04:27.159Z"
   },
   {
    "duration": 38,
    "start_time": "2022-01-23T11:04:27.185Z"
   },
   {
    "duration": 18,
    "start_time": "2022-01-23T11:04:27.225Z"
   },
   {
    "duration": 15,
    "start_time": "2022-01-23T11:04:27.246Z"
   },
   {
    "duration": 27,
    "start_time": "2022-01-23T11:04:27.264Z"
   },
   {
    "duration": 38,
    "start_time": "2022-01-23T11:04:27.294Z"
   },
   {
    "duration": 13,
    "start_time": "2022-01-23T11:04:27.335Z"
   },
   {
    "duration": 17,
    "start_time": "2022-01-23T11:04:27.350Z"
   },
   {
    "duration": 23,
    "start_time": "2022-01-23T11:04:27.370Z"
   },
   {
    "duration": 12,
    "start_time": "2022-01-23T11:04:27.423Z"
   },
   {
    "duration": 18,
    "start_time": "2022-01-23T11:04:27.437Z"
   },
   {
    "duration": 18,
    "start_time": "2022-01-23T11:04:27.457Z"
   },
   {
    "duration": 45,
    "start_time": "2022-01-23T11:04:27.478Z"
   },
   {
    "duration": 18,
    "start_time": "2022-01-23T11:04:27.526Z"
   },
   {
    "duration": 11,
    "start_time": "2022-01-23T11:04:27.546Z"
   },
   {
    "duration": 14,
    "start_time": "2022-01-23T11:04:27.559Z"
   },
   {
    "duration": 470,
    "start_time": "2022-01-23T11:04:27.576Z"
   },
   {
    "duration": 25,
    "start_time": "2022-01-23T11:04:28.051Z"
   },
   {
    "duration": 44,
    "start_time": "2022-01-23T11:04:28.079Z"
   },
   {
    "duration": 383,
    "start_time": "2022-01-23T11:04:28.125Z"
   },
   {
    "duration": 14,
    "start_time": "2022-01-23T11:04:28.511Z"
   },
   {
    "duration": 465,
    "start_time": "2022-01-23T11:04:28.527Z"
   },
   {
    "duration": 6,
    "start_time": "2022-01-23T11:04:28.994Z"
   },
   {
    "duration": 23,
    "start_time": "2022-01-23T11:04:29.003Z"
   },
   {
    "duration": 7,
    "start_time": "2022-01-23T11:04:29.028Z"
   },
   {
    "duration": 7,
    "start_time": "2022-01-23T11:04:29.037Z"
   },
   {
    "duration": 5,
    "start_time": "2022-01-23T11:04:29.047Z"
   },
   {
    "duration": 11,
    "start_time": "2022-01-23T11:04:29.054Z"
   },
   {
    "duration": 12,
    "start_time": "2022-01-23T11:04:29.068Z"
   },
   {
    "duration": 421,
    "start_time": "2022-01-23T11:04:29.082Z"
   },
   {
    "duration": 6,
    "start_time": "2022-01-23T11:04:29.506Z"
   },
   {
    "duration": 6,
    "start_time": "2022-01-23T11:04:29.524Z"
   },
   {
    "duration": 8,
    "start_time": "2022-01-23T11:04:29.532Z"
   },
   {
    "duration": 6,
    "start_time": "2022-01-23T11:04:29.542Z"
   },
   {
    "duration": 6,
    "start_time": "2022-01-23T11:04:29.550Z"
   },
   {
    "duration": 924,
    "start_time": "2022-01-23T11:04:29.558Z"
   },
   {
    "duration": 19,
    "start_time": "2022-01-23T11:06:05.850Z"
   },
   {
    "duration": 7,
    "start_time": "2022-01-23T11:06:06.296Z"
   },
   {
    "duration": 386,
    "start_time": "2022-01-23T11:06:06.705Z"
   },
   {
    "duration": 3333,
    "start_time": "2022-01-23T11:06:14.429Z"
   },
   {
    "duration": 3548,
    "start_time": "2022-01-23T11:06:17.768Z"
   },
   {
    "duration": 3391,
    "start_time": "2022-01-23T11:06:21.320Z"
   },
   {
    "duration": 1686,
    "start_time": "2022-01-23T11:06:24.714Z"
   },
   {
    "duration": 32,
    "start_time": "2022-01-23T11:06:26.402Z"
   },
   {
    "duration": 15,
    "start_time": "2022-01-23T11:06:26.437Z"
   },
   {
    "duration": 639,
    "start_time": "2022-01-23T11:06:26.455Z"
   },
   {
    "duration": 47,
    "start_time": "2022-01-23T11:06:27.096Z"
   },
   {
    "duration": 17,
    "start_time": "2022-01-23T11:06:27.147Z"
   },
   {
    "duration": 20,
    "start_time": "2022-01-23T11:06:27.167Z"
   },
   {
    "duration": 37,
    "start_time": "2022-01-23T11:06:27.190Z"
   },
   {
    "duration": 18,
    "start_time": "2022-01-23T11:06:27.230Z"
   },
   {
    "duration": 24,
    "start_time": "2022-01-23T11:06:27.250Z"
   },
   {
    "duration": 47,
    "start_time": "2022-01-23T11:06:27.276Z"
   },
   {
    "duration": 17,
    "start_time": "2022-01-23T11:06:27.326Z"
   },
   {
    "duration": 13,
    "start_time": "2022-01-23T11:06:27.346Z"
   },
   {
    "duration": 11,
    "start_time": "2022-01-23T11:06:27.361Z"
   },
   {
    "duration": 69,
    "start_time": "2022-01-23T11:06:27.374Z"
   },
   {
    "duration": 14,
    "start_time": "2022-01-23T11:06:27.445Z"
   },
   {
    "duration": 15,
    "start_time": "2022-01-23T11:06:27.461Z"
   },
   {
    "duration": 49,
    "start_time": "2022-01-23T11:06:27.478Z"
   },
   {
    "duration": 24,
    "start_time": "2022-01-23T11:06:27.530Z"
   },
   {
    "duration": 18,
    "start_time": "2022-01-23T11:06:27.557Z"
   },
   {
    "duration": 49,
    "start_time": "2022-01-23T11:06:27.577Z"
   },
   {
    "duration": 8,
    "start_time": "2022-01-23T11:06:27.629Z"
   },
   {
    "duration": 530,
    "start_time": "2022-01-23T11:06:27.640Z"
   },
   {
    "duration": 61,
    "start_time": "2022-01-23T11:06:28.192Z"
   },
   {
    "duration": 33,
    "start_time": "2022-01-23T11:06:28.257Z"
   },
   {
    "duration": 454,
    "start_time": "2022-01-23T11:06:28.292Z"
   },
   {
    "duration": 8,
    "start_time": "2022-01-23T11:06:28.748Z"
   },
   {
    "duration": 623,
    "start_time": "2022-01-23T11:06:28.758Z"
   },
   {
    "duration": 7,
    "start_time": "2022-01-23T11:06:29.384Z"
   },
   {
    "duration": 33,
    "start_time": "2022-01-23T11:06:29.394Z"
   },
   {
    "duration": 8,
    "start_time": "2022-01-23T11:06:29.430Z"
   },
   {
    "duration": 8,
    "start_time": "2022-01-23T11:06:29.440Z"
   },
   {
    "duration": 6,
    "start_time": "2022-01-23T11:06:29.451Z"
   },
   {
    "duration": 9,
    "start_time": "2022-01-23T11:06:29.459Z"
   },
   {
    "duration": 7,
    "start_time": "2022-01-23T11:06:29.471Z"
   },
   {
    "duration": 449,
    "start_time": "2022-01-23T11:06:29.480Z"
   },
   {
    "duration": 10,
    "start_time": "2022-01-23T11:06:29.932Z"
   },
   {
    "duration": 8,
    "start_time": "2022-01-23T11:06:29.945Z"
   },
   {
    "duration": 9,
    "start_time": "2022-01-23T11:06:29.956Z"
   },
   {
    "duration": 12,
    "start_time": "2022-01-23T11:06:29.967Z"
   },
   {
    "duration": 45,
    "start_time": "2022-01-23T11:06:29.981Z"
   },
   {
    "duration": 21,
    "start_time": "2022-01-23T11:06:30.029Z"
   },
   {
    "duration": 11,
    "start_time": "2022-01-23T11:08:45.659Z"
   },
   {
    "duration": 6,
    "start_time": "2022-01-23T11:08:58.482Z"
   },
   {
    "duration": 4814,
    "start_time": "2022-01-23T11:09:01.571Z"
   },
   {
    "duration": -230,
    "start_time": "2022-01-23T11:09:06.618Z"
   },
   {
    "duration": 3225,
    "start_time": "2022-01-23T11:09:48.330Z"
   },
   {
    "duration": 3390,
    "start_time": "2022-01-23T11:09:51.557Z"
   },
   {
    "duration": 3351,
    "start_time": "2022-01-23T11:09:54.950Z"
   },
   {
    "duration": 1621,
    "start_time": "2022-01-23T11:09:58.305Z"
   },
   {
    "duration": 27,
    "start_time": "2022-01-23T11:09:59.929Z"
   },
   {
    "duration": 14,
    "start_time": "2022-01-23T11:09:59.958Z"
   },
   {
    "duration": 825,
    "start_time": "2022-01-23T11:09:59.975Z"
   },
   {
    "duration": 40,
    "start_time": "2022-01-23T11:10:00.805Z"
   },
   {
    "duration": 16,
    "start_time": "2022-01-23T11:10:00.848Z"
   },
   {
    "duration": 28,
    "start_time": "2022-01-23T11:10:00.867Z"
   },
   {
    "duration": 17,
    "start_time": "2022-01-23T11:10:00.897Z"
   },
   {
    "duration": 18,
    "start_time": "2022-01-23T11:10:00.923Z"
   },
   {
    "duration": 12,
    "start_time": "2022-01-23T11:10:00.943Z"
   },
   {
    "duration": 26,
    "start_time": "2022-01-23T11:10:00.958Z"
   },
   {
    "duration": 48,
    "start_time": "2022-01-23T11:10:00.986Z"
   },
   {
    "duration": 17,
    "start_time": "2022-01-23T11:10:01.036Z"
   },
   {
    "duration": 12,
    "start_time": "2022-01-23T11:10:01.055Z"
   },
   {
    "duration": 55,
    "start_time": "2022-01-23T11:10:01.070Z"
   },
   {
    "duration": 16,
    "start_time": "2022-01-23T11:10:01.128Z"
   },
   {
    "duration": 14,
    "start_time": "2022-01-23T11:10:01.147Z"
   },
   {
    "duration": 34,
    "start_time": "2022-01-23T11:10:01.164Z"
   },
   {
    "duration": 41,
    "start_time": "2022-01-23T11:10:01.201Z"
   },
   {
    "duration": 28,
    "start_time": "2022-01-23T11:10:01.249Z"
   },
   {
    "duration": 7,
    "start_time": "2022-01-23T11:10:01.280Z"
   },
   {
    "duration": 5088,
    "start_time": "2022-01-23T11:10:01.290Z"
   },
   {
    "duration": -246,
    "start_time": "2022-01-23T11:10:06.627Z"
   },
   {
    "duration": -252,
    "start_time": "2022-01-23T11:10:06.635Z"
   },
   {
    "duration": -254,
    "start_time": "2022-01-23T11:10:06.639Z"
   },
   {
    "duration": -256,
    "start_time": "2022-01-23T11:10:06.642Z"
   },
   {
    "duration": -264,
    "start_time": "2022-01-23T11:10:06.652Z"
   },
   {
    "duration": -266,
    "start_time": "2022-01-23T11:10:06.655Z"
   },
   {
    "duration": -268,
    "start_time": "2022-01-23T11:10:06.658Z"
   },
   {
    "duration": -270,
    "start_time": "2022-01-23T11:10:06.662Z"
   },
   {
    "duration": -271,
    "start_time": "2022-01-23T11:10:06.664Z"
   },
   {
    "duration": -273,
    "start_time": "2022-01-23T11:10:06.667Z"
   },
   {
    "duration": -274,
    "start_time": "2022-01-23T11:10:06.670Z"
   },
   {
    "duration": -276,
    "start_time": "2022-01-23T11:10:06.673Z"
   },
   {
    "duration": -278,
    "start_time": "2022-01-23T11:10:06.676Z"
   },
   {
    "duration": -279,
    "start_time": "2022-01-23T11:10:06.679Z"
   },
   {
    "duration": -280,
    "start_time": "2022-01-23T11:10:06.681Z"
   },
   {
    "duration": -356,
    "start_time": "2022-01-23T11:10:06.758Z"
   },
   {
    "duration": -356,
    "start_time": "2022-01-23T11:10:06.760Z"
   },
   {
    "duration": -366,
    "start_time": "2022-01-23T11:10:06.771Z"
   },
   {
    "duration": -367,
    "start_time": "2022-01-23T11:10:06.774Z"
   },
   {
    "duration": -369,
    "start_time": "2022-01-23T11:10:06.777Z"
   },
   {
    "duration": 308,
    "start_time": "2022-01-23T11:10:47.712Z"
   },
   {
    "duration": 3,
    "start_time": "2022-01-23T11:10:48.177Z"
   },
   {
    "duration": 4793,
    "start_time": "2022-01-23T11:10:48.496Z"
   },
   {
    "duration": 469,
    "start_time": "2022-01-23T11:11:21.944Z"
   },
   {
    "duration": 327,
    "start_time": "2022-01-23T11:11:39.832Z"
   },
   {
    "duration": 17,
    "start_time": "2022-01-23T11:16:20.936Z"
   },
   {
    "duration": 16,
    "start_time": "2022-01-23T11:16:32.867Z"
   },
   {
    "duration": 19,
    "start_time": "2022-01-23T11:16:33.692Z"
   },
   {
    "duration": 20,
    "start_time": "2022-01-23T11:18:48.248Z"
   },
   {
    "duration": 21,
    "start_time": "2022-01-23T11:19:02.585Z"
   },
   {
    "duration": 397,
    "start_time": "2022-01-23T11:19:04.830Z"
   },
   {
    "duration": 9,
    "start_time": "2022-01-23T11:19:25.848Z"
   },
   {
    "duration": 3,
    "start_time": "2022-01-23T11:19:27.368Z"
   },
   {
    "duration": 3762,
    "start_time": "2022-01-23T11:20:06.843Z"
   },
   {
    "duration": 3340,
    "start_time": "2022-01-23T11:20:10.608Z"
   },
   {
    "duration": 3540,
    "start_time": "2022-01-23T11:20:13.951Z"
   },
   {
    "duration": 1635,
    "start_time": "2022-01-23T11:20:17.494Z"
   },
   {
    "duration": 28,
    "start_time": "2022-01-23T11:20:19.132Z"
   },
   {
    "duration": 16,
    "start_time": "2022-01-23T11:20:19.162Z"
   },
   {
    "duration": 688,
    "start_time": "2022-01-23T11:20:19.181Z"
   },
   {
    "duration": 37,
    "start_time": "2022-01-23T11:20:19.874Z"
   },
   {
    "duration": 16,
    "start_time": "2022-01-23T11:20:19.914Z"
   },
   {
    "duration": 21,
    "start_time": "2022-01-23T11:20:19.933Z"
   },
   {
    "duration": 15,
    "start_time": "2022-01-23T11:20:19.957Z"
   },
   {
    "duration": 49,
    "start_time": "2022-01-23T11:20:19.974Z"
   },
   {
    "duration": 13,
    "start_time": "2022-01-23T11:20:20.026Z"
   },
   {
    "duration": 25,
    "start_time": "2022-01-23T11:20:20.042Z"
   },
   {
    "duration": 12,
    "start_time": "2022-01-23T11:20:20.070Z"
   },
   {
    "duration": 44,
    "start_time": "2022-01-23T11:20:20.085Z"
   },
   {
    "duration": 11,
    "start_time": "2022-01-23T11:20:20.132Z"
   },
   {
    "duration": 25,
    "start_time": "2022-01-23T11:20:20.146Z"
   },
   {
    "duration": 14,
    "start_time": "2022-01-23T11:20:20.173Z"
   },
   {
    "duration": 50,
    "start_time": "2022-01-23T11:20:20.189Z"
   },
   {
    "duration": 19,
    "start_time": "2022-01-23T11:20:20.242Z"
   },
   {
    "duration": 22,
    "start_time": "2022-01-23T11:20:20.265Z"
   },
   {
    "duration": 22,
    "start_time": "2022-01-23T11:20:20.327Z"
   },
   {
    "duration": 12,
    "start_time": "2022-01-23T11:20:20.352Z"
   },
   {
    "duration": 13,
    "start_time": "2022-01-23T11:20:20.366Z"
   },
   {
    "duration": 3718,
    "start_time": "2022-01-23T11:20:20.381Z"
   },
   {
    "duration": -227,
    "start_time": "2022-01-23T11:20:24.330Z"
   },
   {
    "duration": -227,
    "start_time": "2022-01-23T11:20:24.332Z"
   },
   {
    "duration": -228,
    "start_time": "2022-01-23T11:20:24.335Z"
   },
   {
    "duration": -227,
    "start_time": "2022-01-23T11:20:24.337Z"
   },
   {
    "duration": -227,
    "start_time": "2022-01-23T11:20:24.339Z"
   },
   {
    "duration": -228,
    "start_time": "2022-01-23T11:20:24.342Z"
   },
   {
    "duration": -228,
    "start_time": "2022-01-23T11:20:24.344Z"
   },
   {
    "duration": -227,
    "start_time": "2022-01-23T11:20:24.346Z"
   },
   {
    "duration": -228,
    "start_time": "2022-01-23T11:20:24.349Z"
   },
   {
    "duration": -228,
    "start_time": "2022-01-23T11:20:24.351Z"
   },
   {
    "duration": -227,
    "start_time": "2022-01-23T11:20:24.353Z"
   },
   {
    "duration": -228,
    "start_time": "2022-01-23T11:20:24.356Z"
   },
   {
    "duration": -228,
    "start_time": "2022-01-23T11:20:24.358Z"
   },
   {
    "duration": -229,
    "start_time": "2022-01-23T11:20:24.361Z"
   },
   {
    "duration": -228,
    "start_time": "2022-01-23T11:20:24.363Z"
   },
   {
    "duration": -229,
    "start_time": "2022-01-23T11:20:24.366Z"
   },
   {
    "duration": -229,
    "start_time": "2022-01-23T11:20:24.368Z"
   },
   {
    "duration": -229,
    "start_time": "2022-01-23T11:20:24.370Z"
   },
   {
    "duration": -298,
    "start_time": "2022-01-23T11:20:24.441Z"
   },
   {
    "duration": 3575,
    "start_time": "2022-01-23T11:28:06.747Z"
   },
   {
    "duration": 4009,
    "start_time": "2022-01-23T11:28:31.993Z"
   },
   {
    "duration": 3369,
    "start_time": "2022-01-23T11:28:39.553Z"
   },
   {
    "duration": 3352,
    "start_time": "2022-01-23T11:28:42.925Z"
   },
   {
    "duration": 4255,
    "start_time": "2022-01-23T11:28:46.280Z"
   },
   {
    "duration": 2277,
    "start_time": "2022-01-23T11:28:50.539Z"
   },
   {
    "duration": 36,
    "start_time": "2022-01-23T11:28:52.819Z"
   },
   {
    "duration": 16,
    "start_time": "2022-01-23T11:28:52.858Z"
   },
   {
    "duration": 659,
    "start_time": "2022-01-23T11:28:52.876Z"
   },
   {
    "duration": 38,
    "start_time": "2022-01-23T11:28:53.539Z"
   },
   {
    "duration": 15,
    "start_time": "2022-01-23T11:28:53.580Z"
   },
   {
    "duration": 25,
    "start_time": "2022-01-23T11:28:53.597Z"
   },
   {
    "duration": 14,
    "start_time": "2022-01-23T11:28:53.624Z"
   },
   {
    "duration": 17,
    "start_time": "2022-01-23T11:28:53.641Z"
   },
   {
    "duration": 13,
    "start_time": "2022-01-23T11:28:53.661Z"
   },
   {
    "duration": 60,
    "start_time": "2022-01-23T11:28:53.676Z"
   },
   {
    "duration": 14,
    "start_time": "2022-01-23T11:28:53.738Z"
   },
   {
    "duration": 12,
    "start_time": "2022-01-23T11:28:53.754Z"
   },
   {
    "duration": 14,
    "start_time": "2022-01-23T11:28:53.768Z"
   },
   {
    "duration": 57,
    "start_time": "2022-01-23T11:28:53.785Z"
   },
   {
    "duration": 15,
    "start_time": "2022-01-23T11:28:53.844Z"
   },
   {
    "duration": 22,
    "start_time": "2022-01-23T11:28:53.862Z"
   },
   {
    "duration": 51,
    "start_time": "2022-01-23T11:28:53.888Z"
   },
   {
    "duration": 24,
    "start_time": "2022-01-23T11:28:53.942Z"
   },
   {
    "duration": 19,
    "start_time": "2022-01-23T11:28:53.972Z"
   },
   {
    "duration": 450,
    "start_time": "2022-01-23T11:28:54.025Z"
   },
   {
    "duration": -128,
    "start_time": "2022-01-23T11:28:54.606Z"
   },
   {
    "duration": -130,
    "start_time": "2022-01-23T11:28:54.609Z"
   },
   {
    "duration": -132,
    "start_time": "2022-01-23T11:28:54.612Z"
   },
   {
    "duration": -132,
    "start_time": "2022-01-23T11:28:54.614Z"
   },
   {
    "duration": -132,
    "start_time": "2022-01-23T11:28:54.616Z"
   },
   {
    "duration": -132,
    "start_time": "2022-01-23T11:28:54.618Z"
   },
   {
    "duration": -134,
    "start_time": "2022-01-23T11:28:54.621Z"
   },
   {
    "duration": -135,
    "start_time": "2022-01-23T11:28:54.623Z"
   },
   {
    "duration": -136,
    "start_time": "2022-01-23T11:28:54.625Z"
   },
   {
    "duration": -137,
    "start_time": "2022-01-23T11:28:54.628Z"
   },
   {
    "duration": -137,
    "start_time": "2022-01-23T11:28:54.629Z"
   },
   {
    "duration": -220,
    "start_time": "2022-01-23T11:28:54.714Z"
   },
   {
    "duration": -221,
    "start_time": "2022-01-23T11:28:54.716Z"
   },
   {
    "duration": -223,
    "start_time": "2022-01-23T11:28:54.719Z"
   },
   {
    "duration": -223,
    "start_time": "2022-01-23T11:28:54.721Z"
   },
   {
    "duration": -224,
    "start_time": "2022-01-23T11:28:54.723Z"
   },
   {
    "duration": -225,
    "start_time": "2022-01-23T11:28:54.725Z"
   },
   {
    "duration": -226,
    "start_time": "2022-01-23T11:28:54.728Z"
   },
   {
    "duration": -227,
    "start_time": "2022-01-23T11:28:54.730Z"
   },
   {
    "duration": -228,
    "start_time": "2022-01-23T11:28:54.733Z"
   },
   {
    "duration": -227,
    "start_time": "2022-01-23T11:28:54.735Z"
   },
   {
    "duration": 13,
    "start_time": "2022-01-23T11:29:34.273Z"
   },
   {
    "duration": 13,
    "start_time": "2022-01-23T11:29:35.256Z"
   },
   {
    "duration": 4060,
    "start_time": "2022-01-23T11:29:36.353Z"
   },
   {
    "duration": 19,
    "start_time": "2022-01-23T11:29:56.712Z"
   },
   {
    "duration": 7,
    "start_time": "2022-01-23T11:30:28.256Z"
   },
   {
    "duration": 399,
    "start_time": "2022-01-23T11:30:30.183Z"
   },
   {
    "duration": 488,
    "start_time": "2022-01-23T11:30:30.994Z"
   },
   {
    "duration": 296,
    "start_time": "2022-01-23T11:30:59.375Z"
   },
   {
    "duration": 275,
    "start_time": "2022-01-23T11:30:59.717Z"
   },
   {
    "duration": 6,
    "start_time": "2022-01-23T11:31:27.712Z"
   },
   {
    "duration": 24,
    "start_time": "2022-01-23T11:31:28.702Z"
   },
   {
    "duration": 15,
    "start_time": "2022-01-23T11:31:29.350Z"
   },
   {
    "duration": 16,
    "start_time": "2022-01-23T11:31:29.797Z"
   },
   {
    "duration": 42,
    "start_time": "2022-01-23T11:31:30.038Z"
   },
   {
    "duration": 25,
    "start_time": "2022-01-23T11:31:30.269Z"
   },
   {
    "duration": 21,
    "start_time": "2022-01-23T11:31:30.518Z"
   },
   {
    "duration": 18,
    "start_time": "2022-01-23T11:31:30.757Z"
   },
   {
    "duration": 27,
    "start_time": "2022-01-23T11:31:30.982Z"
   },
   {
    "duration": 13,
    "start_time": "2022-01-23T11:31:31.222Z"
   },
   {
    "duration": 27,
    "start_time": "2022-01-23T11:31:31.463Z"
   },
   {
    "duration": 17,
    "start_time": "2022-01-23T11:31:31.694Z"
   },
   {
    "duration": 11,
    "start_time": "2022-01-23T11:31:32.414Z"
   },
   {
    "duration": 15,
    "start_time": "2022-01-23T11:31:33.127Z"
   },
   {
    "duration": 38,
    "start_time": "2022-01-23T11:31:34.894Z"
   },
   {
    "duration": 17,
    "start_time": "2022-01-23T11:31:35.406Z"
   },
   {
    "duration": 22,
    "start_time": "2022-01-23T11:31:35.915Z"
   },
   {
    "duration": 24,
    "start_time": "2022-01-23T11:31:36.533Z"
   },
   {
    "duration": 28,
    "start_time": "2022-01-23T11:31:36.997Z"
   },
   {
    "duration": 26,
    "start_time": "2022-01-23T11:31:37.278Z"
   },
   {
    "duration": 17,
    "start_time": "2022-01-23T11:31:38.427Z"
   },
   {
    "duration": 9,
    "start_time": "2022-01-23T11:31:39.133Z"
   },
   {
    "duration": 3681,
    "start_time": "2022-01-23T11:31:39.630Z"
   },
   {
    "duration": 32,
    "start_time": "2022-01-23T11:31:59.191Z"
   },
   {
    "duration": 5,
    "start_time": "2022-01-23T11:32:00.877Z"
   },
   {
    "duration": 4085,
    "start_time": "2022-01-23T11:32:01.366Z"
   },
   {
    "duration": 4,
    "start_time": "2022-01-23T11:32:14.390Z"
   },
   {
    "duration": 25,
    "start_time": "2022-01-23T11:32:15.085Z"
   },
   {
    "duration": 16,
    "start_time": "2022-01-23T11:32:15.814Z"
   },
   {
    "duration": 15,
    "start_time": "2022-01-23T11:32:16.164Z"
   },
   {
    "duration": 37,
    "start_time": "2022-01-23T11:32:16.540Z"
   },
   {
    "duration": 15,
    "start_time": "2022-01-23T11:32:17.404Z"
   },
   {
    "duration": 20,
    "start_time": "2022-01-23T11:32:17.581Z"
   },
   {
    "duration": 16,
    "start_time": "2022-01-23T11:32:17.765Z"
   },
   {
    "duration": 18,
    "start_time": "2022-01-23T11:32:17.935Z"
   },
   {
    "duration": 12,
    "start_time": "2022-01-23T11:32:18.097Z"
   },
   {
    "duration": 20,
    "start_time": "2022-01-23T11:32:18.249Z"
   },
   {
    "duration": 13,
    "start_time": "2022-01-23T11:32:18.394Z"
   },
   {
    "duration": 11,
    "start_time": "2022-01-23T11:32:19.229Z"
   },
   {
    "duration": 12,
    "start_time": "2022-01-23T11:32:20.132Z"
   },
   {
    "duration": 25,
    "start_time": "2022-01-23T11:32:22.412Z"
   },
   {
    "duration": 11,
    "start_time": "2022-01-23T11:32:23.132Z"
   },
   {
    "duration": 16,
    "start_time": "2022-01-23T11:32:24.092Z"
   },
   {
    "duration": 15,
    "start_time": "2022-01-23T11:32:24.884Z"
   },
   {
    "duration": 20,
    "start_time": "2022-01-23T11:32:25.253Z"
   },
   {
    "duration": 19,
    "start_time": "2022-01-23T11:32:25.732Z"
   },
   {
    "duration": 25,
    "start_time": "2022-01-23T11:32:26.748Z"
   },
   {
    "duration": 7,
    "start_time": "2022-01-23T11:32:27.292Z"
   },
   {
    "duration": 425,
    "start_time": "2022-01-23T11:32:28.181Z"
   },
   {
    "duration": 19,
    "start_time": "2022-01-23T11:33:09.021Z"
   },
   {
    "duration": 19,
    "start_time": "2022-01-23T11:33:19.236Z"
   },
   {
    "duration": 5,
    "start_time": "2022-01-23T11:33:27.317Z"
   },
   {
    "duration": 25,
    "start_time": "2022-01-23T11:33:27.849Z"
   },
   {
    "duration": 16,
    "start_time": "2022-01-23T11:33:28.477Z"
   },
   {
    "duration": 16,
    "start_time": "2022-01-23T11:33:28.827Z"
   },
   {
    "duration": 38,
    "start_time": "2022-01-23T11:33:29.012Z"
   },
   {
    "duration": 18,
    "start_time": "2022-01-23T11:33:29.185Z"
   },
   {
    "duration": 22,
    "start_time": "2022-01-23T11:33:29.348Z"
   },
   {
    "duration": 14,
    "start_time": "2022-01-23T11:33:29.524Z"
   },
   {
    "duration": 18,
    "start_time": "2022-01-23T11:33:29.683Z"
   },
   {
    "duration": 13,
    "start_time": "2022-01-23T11:33:29.853Z"
   },
   {
    "duration": 23,
    "start_time": "2022-01-23T11:33:30.028Z"
   },
   {
    "duration": 13,
    "start_time": "2022-01-23T11:33:30.211Z"
   },
   {
    "duration": 11,
    "start_time": "2022-01-23T11:33:30.740Z"
   },
   {
    "duration": 12,
    "start_time": "2022-01-23T11:33:31.284Z"
   },
   {
    "duration": 20,
    "start_time": "2022-01-23T11:33:32.483Z"
   },
   {
    "duration": 11,
    "start_time": "2022-01-23T11:33:32.844Z"
   },
   {
    "duration": 16,
    "start_time": "2022-01-23T11:33:33.228Z"
   },
   {
    "duration": 15,
    "start_time": "2022-01-23T11:33:33.603Z"
   },
   {
    "duration": 20,
    "start_time": "2022-01-23T11:33:33.781Z"
   },
   {
    "duration": 21,
    "start_time": "2022-01-23T11:33:33.972Z"
   },
   {
    "duration": 25,
    "start_time": "2022-01-23T11:33:34.313Z"
   },
   {
    "duration": 7,
    "start_time": "2022-01-23T11:33:34.480Z"
   },
   {
    "duration": 414,
    "start_time": "2022-01-23T11:33:34.660Z"
   },
   {
    "duration": 26,
    "start_time": "2022-01-23T11:34:15.653Z"
   },
   {
    "duration": 6,
    "start_time": "2022-01-23T11:34:19.939Z"
   },
   {
    "duration": 436,
    "start_time": "2022-01-23T11:34:20.508Z"
   },
   {
    "duration": 4267,
    "start_time": "2022-01-23T11:34:49.532Z"
   },
   {
    "duration": 3562,
    "start_time": "2022-01-23T11:34:53.802Z"
   },
   {
    "duration": 3945,
    "start_time": "2022-01-23T11:34:57.368Z"
   },
   {
    "duration": 1735,
    "start_time": "2022-01-23T11:35:01.317Z"
   },
   {
    "duration": 29,
    "start_time": "2022-01-23T11:35:03.055Z"
   },
   {
    "duration": 35,
    "start_time": "2022-01-23T11:35:03.088Z"
   },
   {
    "duration": 690,
    "start_time": "2022-01-23T11:35:03.126Z"
   },
   {
    "duration": 43,
    "start_time": "2022-01-23T11:35:03.819Z"
   },
   {
    "duration": 24,
    "start_time": "2022-01-23T11:35:03.868Z"
   },
   {
    "duration": 27,
    "start_time": "2022-01-23T11:35:03.897Z"
   },
   {
    "duration": 15,
    "start_time": "2022-01-23T11:35:03.927Z"
   },
   {
    "duration": 18,
    "start_time": "2022-01-23T11:35:03.945Z"
   },
   {
    "duration": 17,
    "start_time": "2022-01-23T11:35:03.965Z"
   },
   {
    "duration": 22,
    "start_time": "2022-01-23T11:35:04.024Z"
   },
   {
    "duration": 13,
    "start_time": "2022-01-23T11:35:04.048Z"
   },
   {
    "duration": 13,
    "start_time": "2022-01-23T11:35:04.064Z"
   },
   {
    "duration": 51,
    "start_time": "2022-01-23T11:35:04.080Z"
   },
   {
    "duration": 24,
    "start_time": "2022-01-23T11:35:04.133Z"
   },
   {
    "duration": 13,
    "start_time": "2022-01-23T11:35:04.159Z"
   },
   {
    "duration": 49,
    "start_time": "2022-01-23T11:35:04.174Z"
   },
   {
    "duration": 17,
    "start_time": "2022-01-23T11:35:04.227Z"
   },
   {
    "duration": 25,
    "start_time": "2022-01-23T11:35:04.247Z"
   },
   {
    "duration": 64,
    "start_time": "2022-01-23T11:35:04.275Z"
   },
   {
    "duration": 42,
    "start_time": "2022-01-23T11:35:04.341Z"
   },
   {
    "duration": 7,
    "start_time": "2022-01-23T11:35:04.385Z"
   },
   {
    "duration": 392,
    "start_time": "2022-01-23T11:35:04.395Z"
   },
   {
    "duration": 434,
    "start_time": "2022-01-23T11:35:04.794Z"
   },
   {
    "duration": -133,
    "start_time": "2022-01-23T11:35:05.365Z"
   },
   {
    "duration": -136,
    "start_time": "2022-01-23T11:35:05.369Z"
   },
   {
    "duration": -136,
    "start_time": "2022-01-23T11:35:05.371Z"
   },
   {
    "duration": -141,
    "start_time": "2022-01-23T11:35:05.377Z"
   },
   {
    "duration": -142,
    "start_time": "2022-01-23T11:35:05.380Z"
   },
   {
    "duration": -143,
    "start_time": "2022-01-23T11:35:05.382Z"
   },
   {
    "duration": -143,
    "start_time": "2022-01-23T11:35:05.384Z"
   },
   {
    "duration": -144,
    "start_time": "2022-01-23T11:35:05.386Z"
   },
   {
    "duration": -148,
    "start_time": "2022-01-23T11:35:05.392Z"
   },
   {
    "duration": -150,
    "start_time": "2022-01-23T11:35:05.395Z"
   },
   {
    "duration": -150,
    "start_time": "2022-01-23T11:35:05.397Z"
   },
   {
    "duration": -151,
    "start_time": "2022-01-23T11:35:05.399Z"
   },
   {
    "duration": -151,
    "start_time": "2022-01-23T11:35:05.401Z"
   },
   {
    "duration": -152,
    "start_time": "2022-01-23T11:35:05.403Z"
   },
   {
    "duration": -198,
    "start_time": "2022-01-23T11:35:05.451Z"
   },
   {
    "duration": -199,
    "start_time": "2022-01-23T11:35:05.454Z"
   },
   {
    "duration": -218,
    "start_time": "2022-01-23T11:35:05.474Z"
   },
   {
    "duration": -219,
    "start_time": "2022-01-23T11:35:05.477Z"
   },
   {
    "duration": 27,
    "start_time": "2022-01-23T11:35:30.092Z"
   },
   {
    "duration": 8,
    "start_time": "2022-01-23T11:35:31.401Z"
   },
   {
    "duration": 390,
    "start_time": "2022-01-23T11:35:31.915Z"
   },
   {
    "duration": 317,
    "start_time": "2022-01-23T11:35:35.425Z"
   },
   {
    "duration": 3277,
    "start_time": "2022-01-23T11:36:16.323Z"
   },
   {
    "duration": 3581,
    "start_time": "2022-01-23T11:36:19.603Z"
   },
   {
    "duration": 3459,
    "start_time": "2022-01-23T11:36:23.187Z"
   },
   {
    "duration": 1647,
    "start_time": "2022-01-23T11:36:26.649Z"
   },
   {
    "duration": 34,
    "start_time": "2022-01-23T11:36:28.298Z"
   },
   {
    "duration": 21,
    "start_time": "2022-01-23T11:36:28.335Z"
   },
   {
    "duration": 792,
    "start_time": "2022-01-23T11:36:28.359Z"
   },
   {
    "duration": 39,
    "start_time": "2022-01-23T11:36:29.154Z"
   },
   {
    "duration": 26,
    "start_time": "2022-01-23T11:36:29.197Z"
   },
   {
    "duration": 20,
    "start_time": "2022-01-23T11:36:29.225Z"
   },
   {
    "duration": 17,
    "start_time": "2022-01-23T11:36:29.247Z"
   },
   {
    "duration": 19,
    "start_time": "2022-01-23T11:36:29.267Z"
   },
   {
    "duration": 14,
    "start_time": "2022-01-23T11:36:29.323Z"
   },
   {
    "duration": 22,
    "start_time": "2022-01-23T11:36:29.340Z"
   },
   {
    "duration": 13,
    "start_time": "2022-01-23T11:36:29.365Z"
   },
   {
    "duration": 50,
    "start_time": "2022-01-23T11:36:29.380Z"
   },
   {
    "duration": 12,
    "start_time": "2022-01-23T11:36:29.432Z"
   },
   {
    "duration": 37,
    "start_time": "2022-01-23T11:36:29.446Z"
   },
   {
    "duration": 14,
    "start_time": "2022-01-23T11:36:29.486Z"
   },
   {
    "duration": 33,
    "start_time": "2022-01-23T11:36:29.502Z"
   },
   {
    "duration": 16,
    "start_time": "2022-01-23T11:36:29.537Z"
   },
   {
    "duration": 21,
    "start_time": "2022-01-23T11:36:29.555Z"
   },
   {
    "duration": 63,
    "start_time": "2022-01-23T11:36:29.584Z"
   },
   {
    "duration": 19,
    "start_time": "2022-01-23T11:36:29.650Z"
   },
   {
    "duration": 9,
    "start_time": "2022-01-23T11:36:29.672Z"
   },
   {
    "duration": 465,
    "start_time": "2022-01-23T11:36:29.683Z"
   },
   {
    "duration": 838,
    "start_time": "2022-01-23T11:36:30.151Z"
   },
   {
    "duration": -141,
    "start_time": "2022-01-23T11:36:31.132Z"
   },
   {
    "duration": -142,
    "start_time": "2022-01-23T11:36:31.135Z"
   },
   {
    "duration": -143,
    "start_time": "2022-01-23T11:36:31.137Z"
   },
   {
    "duration": -143,
    "start_time": "2022-01-23T11:36:31.139Z"
   },
   {
    "duration": -144,
    "start_time": "2022-01-23T11:36:31.141Z"
   },
   {
    "duration": -149,
    "start_time": "2022-01-23T11:36:31.148Z"
   },
   {
    "duration": -151,
    "start_time": "2022-01-23T11:36:31.151Z"
   },
   {
    "duration": -151,
    "start_time": "2022-01-23T11:36:31.153Z"
   },
   {
    "duration": -255,
    "start_time": "2022-01-23T11:36:31.258Z"
   },
   {
    "duration": -260,
    "start_time": "2022-01-23T11:36:31.265Z"
   },
   {
    "duration": -261,
    "start_time": "2022-01-23T11:36:31.267Z"
   },
   {
    "duration": -262,
    "start_time": "2022-01-23T11:36:31.270Z"
   },
   {
    "duration": -269,
    "start_time": "2022-01-23T11:36:31.279Z"
   },
   {
    "duration": -274,
    "start_time": "2022-01-23T11:36:31.285Z"
   },
   {
    "duration": -277,
    "start_time": "2022-01-23T11:36:31.290Z"
   },
   {
    "duration": -279,
    "start_time": "2022-01-23T11:36:31.293Z"
   },
   {
    "duration": -275,
    "start_time": "2022-01-23T11:36:31.294Z"
   },
   {
    "duration": -276,
    "start_time": "2022-01-23T11:36:31.297Z"
   },
   {
    "duration": 10,
    "start_time": "2022-01-23T11:37:23.042Z"
   },
   {
    "duration": 3859,
    "start_time": "2022-01-23T11:37:47.770Z"
   },
   {
    "duration": 13,
    "start_time": "2022-01-23T12:46:43.156Z"
   },
   {
    "duration": 3269,
    "start_time": "2022-01-23T12:46:57.776Z"
   },
   {
    "duration": 3814,
    "start_time": "2022-01-23T12:47:01.047Z"
   },
   {
    "duration": 3508,
    "start_time": "2022-01-23T12:47:04.864Z"
   },
   {
    "duration": 1577,
    "start_time": "2022-01-23T12:47:08.375Z"
   },
   {
    "duration": 29,
    "start_time": "2022-01-23T12:47:09.954Z"
   },
   {
    "duration": 14,
    "start_time": "2022-01-23T12:47:09.986Z"
   },
   {
    "duration": 641,
    "start_time": "2022-01-23T12:47:10.003Z"
   },
   {
    "duration": 39,
    "start_time": "2022-01-23T12:47:10.650Z"
   },
   {
    "duration": 15,
    "start_time": "2022-01-23T12:47:10.691Z"
   },
   {
    "duration": 20,
    "start_time": "2022-01-23T12:47:10.708Z"
   },
   {
    "duration": 20,
    "start_time": "2022-01-23T12:47:10.731Z"
   },
   {
    "duration": 24,
    "start_time": "2022-01-23T12:47:10.754Z"
   },
   {
    "duration": 46,
    "start_time": "2022-01-23T12:47:10.781Z"
   },
   {
    "duration": 25,
    "start_time": "2022-01-23T12:47:10.829Z"
   },
   {
    "duration": 12,
    "start_time": "2022-01-23T12:47:10.856Z"
   },
   {
    "duration": 17,
    "start_time": "2022-01-23T12:47:10.870Z"
   },
   {
    "duration": 36,
    "start_time": "2022-01-23T12:47:10.890Z"
   },
   {
    "duration": 24,
    "start_time": "2022-01-23T12:47:10.928Z"
   },
   {
    "duration": 11,
    "start_time": "2022-01-23T12:47:10.954Z"
   },
   {
    "duration": 13,
    "start_time": "2022-01-23T12:47:10.967Z"
   },
   {
    "duration": 44,
    "start_time": "2022-01-23T12:47:10.982Z"
   },
   {
    "duration": 19,
    "start_time": "2022-01-23T12:47:11.028Z"
   },
   {
    "duration": 19,
    "start_time": "2022-01-23T12:47:11.052Z"
   },
   {
    "duration": 13,
    "start_time": "2022-01-23T12:47:11.074Z"
   },
   {
    "duration": 4142,
    "start_time": "2022-01-23T12:47:11.122Z"
   },
   {
    "duration": -284,
    "start_time": "2022-01-23T12:47:15.551Z"
   },
   {
    "duration": -285,
    "start_time": "2022-01-23T12:47:15.554Z"
   },
   {
    "duration": -285,
    "start_time": "2022-01-23T12:47:15.556Z"
   },
   {
    "duration": -285,
    "start_time": "2022-01-23T12:47:15.558Z"
   },
   {
    "duration": -285,
    "start_time": "2022-01-23T12:47:15.560Z"
   },
   {
    "duration": -286,
    "start_time": "2022-01-23T12:47:15.563Z"
   },
   {
    "duration": -286,
    "start_time": "2022-01-23T12:47:15.565Z"
   },
   {
    "duration": -286,
    "start_time": "2022-01-23T12:47:15.567Z"
   },
   {
    "duration": -286,
    "start_time": "2022-01-23T12:47:15.569Z"
   },
   {
    "duration": -285,
    "start_time": "2022-01-23T12:47:15.571Z"
   },
   {
    "duration": -285,
    "start_time": "2022-01-23T12:47:15.573Z"
   },
   {
    "duration": -285,
    "start_time": "2022-01-23T12:47:15.575Z"
   },
   {
    "duration": -285,
    "start_time": "2022-01-23T12:47:15.577Z"
   },
   {
    "duration": -285,
    "start_time": "2022-01-23T12:47:15.579Z"
   },
   {
    "duration": -285,
    "start_time": "2022-01-23T12:47:15.581Z"
   },
   {
    "duration": -286,
    "start_time": "2022-01-23T12:47:15.583Z"
   },
   {
    "duration": -355,
    "start_time": "2022-01-23T12:47:15.654Z"
   },
   {
    "duration": -363,
    "start_time": "2022-01-23T12:47:15.665Z"
   },
   {
    "duration": -365,
    "start_time": "2022-01-23T12:47:15.669Z"
   },
   {
    "duration": -366,
    "start_time": "2022-01-23T12:47:15.672Z"
   },
   {
    "duration": 3,
    "start_time": "2022-01-23T12:48:44.551Z"
   },
   {
    "duration": 4087,
    "start_time": "2022-01-23T12:48:47.382Z"
   },
   {
    "duration": 4113,
    "start_time": "2022-01-23T12:49:20.487Z"
   },
   {
    "duration": 4002,
    "start_time": "2022-01-23T12:49:39.548Z"
   },
   {
    "duration": 4076,
    "start_time": "2022-01-23T12:49:43.554Z"
   },
   {
    "duration": 4043,
    "start_time": "2022-01-23T12:49:47.634Z"
   },
   {
    "duration": 2062,
    "start_time": "2022-01-23T12:49:51.681Z"
   },
   {
    "duration": 28,
    "start_time": "2022-01-23T12:49:53.747Z"
   },
   {
    "duration": 14,
    "start_time": "2022-01-23T12:49:53.778Z"
   },
   {
    "duration": 717,
    "start_time": "2022-01-23T12:49:53.794Z"
   },
   {
    "duration": 47,
    "start_time": "2022-01-23T12:49:54.515Z"
   },
   {
    "duration": 17,
    "start_time": "2022-01-23T12:49:54.565Z"
   },
   {
    "duration": 26,
    "start_time": "2022-01-23T12:49:54.584Z"
   },
   {
    "duration": 15,
    "start_time": "2022-01-23T12:49:54.612Z"
   },
   {
    "duration": 25,
    "start_time": "2022-01-23T12:49:54.630Z"
   },
   {
    "duration": 25,
    "start_time": "2022-01-23T12:49:54.658Z"
   },
   {
    "duration": 45,
    "start_time": "2022-01-23T12:49:54.686Z"
   },
   {
    "duration": 14,
    "start_time": "2022-01-23T12:49:54.734Z"
   },
   {
    "duration": 19,
    "start_time": "2022-01-23T12:49:54.751Z"
   },
   {
    "duration": 53,
    "start_time": "2022-01-23T12:49:54.773Z"
   },
   {
    "duration": 45,
    "start_time": "2022-01-23T12:49:54.829Z"
   },
   {
    "duration": 14,
    "start_time": "2022-01-23T12:49:54.877Z"
   },
   {
    "duration": 36,
    "start_time": "2022-01-23T12:49:54.894Z"
   },
   {
    "duration": 25,
    "start_time": "2022-01-23T12:49:54.934Z"
   },
   {
    "duration": 29,
    "start_time": "2022-01-23T12:49:54.961Z"
   },
   {
    "duration": 43,
    "start_time": "2022-01-23T12:49:54.995Z"
   },
   {
    "duration": 19,
    "start_time": "2022-01-23T12:49:55.042Z"
   },
   {
    "duration": 9,
    "start_time": "2022-01-23T12:49:55.063Z"
   },
   {
    "duration": 4312,
    "start_time": "2022-01-23T12:49:55.074Z"
   },
   {
    "duration": -311,
    "start_time": "2022-01-23T12:49:59.701Z"
   },
   {
    "duration": -312,
    "start_time": "2022-01-23T12:49:59.704Z"
   },
   {
    "duration": -312,
    "start_time": "2022-01-23T12:49:59.706Z"
   },
   {
    "duration": -314,
    "start_time": "2022-01-23T12:49:59.710Z"
   },
   {
    "duration": -319,
    "start_time": "2022-01-23T12:49:59.717Z"
   },
   {
    "duration": -321,
    "start_time": "2022-01-23T12:49:59.720Z"
   },
   {
    "duration": -322,
    "start_time": "2022-01-23T12:49:59.723Z"
   },
   {
    "duration": -325,
    "start_time": "2022-01-23T12:49:59.727Z"
   },
   {
    "duration": -330,
    "start_time": "2022-01-23T12:49:59.734Z"
   },
   {
    "duration": -332,
    "start_time": "2022-01-23T12:49:59.737Z"
   },
   {
    "duration": -334,
    "start_time": "2022-01-23T12:49:59.740Z"
   },
   {
    "duration": -336,
    "start_time": "2022-01-23T12:49:59.744Z"
   },
   {
    "duration": -337,
    "start_time": "2022-01-23T12:49:59.746Z"
   },
   {
    "duration": -339,
    "start_time": "2022-01-23T12:49:59.749Z"
   },
   {
    "duration": -339,
    "start_time": "2022-01-23T12:49:59.751Z"
   },
   {
    "duration": -340,
    "start_time": "2022-01-23T12:49:59.753Z"
   },
   {
    "duration": -341,
    "start_time": "2022-01-23T12:49:59.755Z"
   },
   {
    "duration": -341,
    "start_time": "2022-01-23T12:49:59.757Z"
   },
   {
    "duration": -397,
    "start_time": "2022-01-23T12:49:59.814Z"
   },
   {
    "duration": 3942,
    "start_time": "2022-01-23T12:50:18.009Z"
   },
   {
    "duration": 4341,
    "start_time": "2022-01-23T12:50:27.643Z"
   },
   {
    "duration": 4015,
    "start_time": "2022-01-23T12:50:31.987Z"
   },
   {
    "duration": 4128,
    "start_time": "2022-01-23T12:50:36.005Z"
   },
   {
    "duration": 1673,
    "start_time": "2022-01-23T12:50:40.137Z"
   },
   {
    "duration": 31,
    "start_time": "2022-01-23T12:50:41.813Z"
   },
   {
    "duration": 17,
    "start_time": "2022-01-23T12:50:41.848Z"
   },
   {
    "duration": 792,
    "start_time": "2022-01-23T12:50:41.868Z"
   },
   {
    "duration": 41,
    "start_time": "2022-01-23T12:50:42.664Z"
   },
   {
    "duration": 17,
    "start_time": "2022-01-23T12:50:42.708Z"
   },
   {
    "duration": 24,
    "start_time": "2022-01-23T12:50:42.728Z"
   },
   {
    "duration": 16,
    "start_time": "2022-01-23T12:50:42.755Z"
   },
   {
    "duration": 21,
    "start_time": "2022-01-23T12:50:42.774Z"
   },
   {
    "duration": 37,
    "start_time": "2022-01-23T12:50:42.798Z"
   },
   {
    "duration": 30,
    "start_time": "2022-01-23T12:50:42.838Z"
   },
   {
    "duration": 14,
    "start_time": "2022-01-23T12:50:42.871Z"
   },
   {
    "duration": 39,
    "start_time": "2022-01-23T12:50:42.888Z"
   },
   {
    "duration": 18,
    "start_time": "2022-01-23T12:50:42.930Z"
   },
   {
    "duration": 24,
    "start_time": "2022-01-23T12:50:42.950Z"
   },
   {
    "duration": 61,
    "start_time": "2022-01-23T12:50:42.977Z"
   },
   {
    "duration": 104,
    "start_time": "2022-01-23T12:50:43.050Z"
   },
   {
    "duration": 136,
    "start_time": "2022-01-23T12:50:43.163Z"
   },
   {
    "duration": 38,
    "start_time": "2022-01-23T12:50:43.302Z"
   },
   {
    "duration": 33,
    "start_time": "2022-01-23T12:50:43.348Z"
   },
   {
    "duration": 22,
    "start_time": "2022-01-23T12:50:43.384Z"
   },
   {
    "duration": 16,
    "start_time": "2022-01-23T12:50:43.409Z"
   },
   {
    "duration": 4238,
    "start_time": "2022-01-23T12:50:43.427Z"
   },
   {
    "duration": -290,
    "start_time": "2022-01-23T12:50:47.958Z"
   },
   {
    "duration": -291,
    "start_time": "2022-01-23T12:50:47.961Z"
   },
   {
    "duration": -291,
    "start_time": "2022-01-23T12:50:47.963Z"
   },
   {
    "duration": -292,
    "start_time": "2022-01-23T12:50:47.966Z"
   },
   {
    "duration": -292,
    "start_time": "2022-01-23T12:50:47.968Z"
   },
   {
    "duration": -292,
    "start_time": "2022-01-23T12:50:47.970Z"
   },
   {
    "duration": -293,
    "start_time": "2022-01-23T12:50:47.972Z"
   },
   {
    "duration": -293,
    "start_time": "2022-01-23T12:50:47.974Z"
   },
   {
    "duration": -293,
    "start_time": "2022-01-23T12:50:47.976Z"
   },
   {
    "duration": -294,
    "start_time": "2022-01-23T12:50:47.978Z"
   },
   {
    "duration": -294,
    "start_time": "2022-01-23T12:50:47.980Z"
   },
   {
    "duration": -294,
    "start_time": "2022-01-23T12:50:47.982Z"
   },
   {
    "duration": -294,
    "start_time": "2022-01-23T12:50:47.984Z"
   },
   {
    "duration": -294,
    "start_time": "2022-01-23T12:50:47.986Z"
   },
   {
    "duration": -294,
    "start_time": "2022-01-23T12:50:47.988Z"
   },
   {
    "duration": -294,
    "start_time": "2022-01-23T12:50:47.990Z"
   },
   {
    "duration": -294,
    "start_time": "2022-01-23T12:50:47.992Z"
   },
   {
    "duration": -294,
    "start_time": "2022-01-23T12:50:47.994Z"
   },
   {
    "duration": -367,
    "start_time": "2022-01-23T12:50:48.069Z"
   },
   {
    "duration": 311,
    "start_time": "2022-01-23T12:51:13.049Z"
   },
   {
    "duration": 3531,
    "start_time": "2022-01-23T12:51:33.498Z"
   },
   {
    "duration": 4051,
    "start_time": "2022-01-23T12:52:44.979Z"
   },
   {
    "duration": 5109,
    "start_time": "2022-01-23T12:52:49.034Z"
   },
   {
    "duration": 3849,
    "start_time": "2022-01-23T12:52:54.150Z"
   },
   {
    "duration": 1691,
    "start_time": "2022-01-23T12:52:58.003Z"
   },
   {
    "duration": 34,
    "start_time": "2022-01-23T12:52:59.697Z"
   },
   {
    "duration": 25,
    "start_time": "2022-01-23T12:52:59.735Z"
   },
   {
    "duration": 784,
    "start_time": "2022-01-23T12:52:59.763Z"
   },
   {
    "duration": 40,
    "start_time": "2022-01-23T12:53:00.551Z"
   },
   {
    "duration": 27,
    "start_time": "2022-01-23T12:53:00.596Z"
   },
   {
    "duration": 30,
    "start_time": "2022-01-23T12:53:00.626Z"
   },
   {
    "duration": 22,
    "start_time": "2022-01-23T12:53:00.659Z"
   },
   {
    "duration": 48,
    "start_time": "2022-01-23T12:53:00.685Z"
   },
   {
    "duration": 35,
    "start_time": "2022-01-23T12:53:00.736Z"
   },
   {
    "duration": 45,
    "start_time": "2022-01-23T12:53:00.775Z"
   },
   {
    "duration": 29,
    "start_time": "2022-01-23T12:53:00.824Z"
   },
   {
    "duration": 24,
    "start_time": "2022-01-23T12:53:00.857Z"
   },
   {
    "duration": 23,
    "start_time": "2022-01-23T12:53:00.884Z"
   },
   {
    "duration": 21,
    "start_time": "2022-01-23T12:53:00.925Z"
   },
   {
    "duration": 21,
    "start_time": "2022-01-23T12:53:00.949Z"
   },
   {
    "duration": 17,
    "start_time": "2022-01-23T12:53:00.973Z"
   },
   {
    "duration": 17,
    "start_time": "2022-01-23T12:53:01.024Z"
   },
   {
    "duration": 47,
    "start_time": "2022-01-23T12:53:01.044Z"
   },
   {
    "duration": 53,
    "start_time": "2022-01-23T12:53:01.099Z"
   },
   {
    "duration": 19,
    "start_time": "2022-01-23T12:53:01.155Z"
   },
   {
    "duration": 21,
    "start_time": "2022-01-23T12:53:01.177Z"
   },
   {
    "duration": 4610,
    "start_time": "2022-01-23T12:53:01.223Z"
   },
   {
    "duration": -294,
    "start_time": "2022-01-23T12:53:06.132Z"
   },
   {
    "duration": -294,
    "start_time": "2022-01-23T12:53:06.135Z"
   },
   {
    "duration": -296,
    "start_time": "2022-01-23T12:53:06.139Z"
   },
   {
    "duration": -295,
    "start_time": "2022-01-23T12:53:06.141Z"
   },
   {
    "duration": -295,
    "start_time": "2022-01-23T12:53:06.144Z"
   },
   {
    "duration": -295,
    "start_time": "2022-01-23T12:53:06.146Z"
   },
   {
    "duration": -294,
    "start_time": "2022-01-23T12:53:06.148Z"
   },
   {
    "duration": -293,
    "start_time": "2022-01-23T12:53:06.150Z"
   },
   {
    "duration": -292,
    "start_time": "2022-01-23T12:53:06.152Z"
   },
   {
    "duration": -292,
    "start_time": "2022-01-23T12:53:06.155Z"
   },
   {
    "duration": -292,
    "start_time": "2022-01-23T12:53:06.157Z"
   },
   {
    "duration": -292,
    "start_time": "2022-01-23T12:53:06.160Z"
   },
   {
    "duration": -372,
    "start_time": "2022-01-23T12:53:06.242Z"
   },
   {
    "duration": -378,
    "start_time": "2022-01-23T12:53:06.251Z"
   },
   {
    "duration": -332,
    "start_time": "2022-01-23T12:53:06.254Z"
   },
   {
    "duration": -331,
    "start_time": "2022-01-23T12:53:06.256Z"
   },
   {
    "duration": -331,
    "start_time": "2022-01-23T12:53:06.259Z"
   },
   {
    "duration": -330,
    "start_time": "2022-01-23T12:53:06.261Z"
   },
   {
    "duration": -329,
    "start_time": "2022-01-23T12:53:06.263Z"
   },
   {
    "duration": 287,
    "start_time": "2022-01-23T12:53:55.212Z"
   },
   {
    "duration": 19,
    "start_time": "2022-01-23T12:54:10.372Z"
   },
   {
    "duration": 9,
    "start_time": "2022-01-23T12:54:13.905Z"
   },
   {
    "duration": 4906,
    "start_time": "2022-01-23T12:54:14.419Z"
   },
   {
    "duration": 4855,
    "start_time": "2022-01-23T12:58:46.430Z"
   },
   {
    "duration": 4,
    "start_time": "2022-01-23T13:00:22.500Z"
   },
   {
    "duration": 6,
    "start_time": "2022-01-23T13:00:23.156Z"
   },
   {
    "duration": 3542,
    "start_time": "2022-01-23T13:00:23.652Z"
   },
   {
    "duration": 3469,
    "start_time": "2022-01-23T13:00:33.333Z"
   },
   {
    "duration": 4489,
    "start_time": "2022-01-23T13:00:36.806Z"
   },
   {
    "duration": 3335,
    "start_time": "2022-01-23T13:00:41.299Z"
   },
   {
    "duration": 2176,
    "start_time": "2022-01-23T13:00:44.637Z"
   },
   {
    "duration": 35,
    "start_time": "2022-01-23T13:00:46.816Z"
   },
   {
    "duration": 16,
    "start_time": "2022-01-23T13:00:46.854Z"
   },
   {
    "duration": 704,
    "start_time": "2022-01-23T13:00:46.872Z"
   },
   {
    "duration": 38,
    "start_time": "2022-01-23T13:00:47.579Z"
   },
   {
    "duration": 19,
    "start_time": "2022-01-23T13:00:47.620Z"
   },
   {
    "duration": 23,
    "start_time": "2022-01-23T13:00:47.641Z"
   },
   {
    "duration": 19,
    "start_time": "2022-01-23T13:00:47.667Z"
   },
   {
    "duration": 45,
    "start_time": "2022-01-23T13:00:47.689Z"
   },
   {
    "duration": 13,
    "start_time": "2022-01-23T13:00:47.736Z"
   },
   {
    "duration": 33,
    "start_time": "2022-01-23T13:00:47.752Z"
   },
   {
    "duration": 19,
    "start_time": "2022-01-23T13:00:47.823Z"
   },
   {
    "duration": 11,
    "start_time": "2022-01-23T13:00:47.845Z"
   },
   {
    "duration": 11,
    "start_time": "2022-01-23T13:00:47.859Z"
   },
   {
    "duration": 65,
    "start_time": "2022-01-23T13:00:47.873Z"
   },
   {
    "duration": 18,
    "start_time": "2022-01-23T13:00:47.940Z"
   },
   {
    "duration": 15,
    "start_time": "2022-01-23T13:00:47.960Z"
   },
   {
    "duration": 50,
    "start_time": "2022-01-23T13:00:47.977Z"
   },
   {
    "duration": 21,
    "start_time": "2022-01-23T13:00:48.030Z"
   },
   {
    "duration": 20,
    "start_time": "2022-01-23T13:00:48.056Z"
   },
   {
    "duration": 46,
    "start_time": "2022-01-23T13:00:48.079Z"
   },
   {
    "duration": 8,
    "start_time": "2022-01-23T13:00:48.128Z"
   },
   {
    "duration": 340,
    "start_time": "2022-01-23T13:00:48.139Z"
   },
   {
    "duration": 522,
    "start_time": "2022-01-23T13:00:48.482Z"
   },
   {
    "duration": -193,
    "start_time": "2022-01-23T13:00:49.201Z"
   },
   {
    "duration": -193,
    "start_time": "2022-01-23T13:00:49.204Z"
   },
   {
    "duration": -194,
    "start_time": "2022-01-23T13:00:49.208Z"
   },
   {
    "duration": -199,
    "start_time": "2022-01-23T13:00:49.216Z"
   },
   {
    "duration": -200,
    "start_time": "2022-01-23T13:00:49.219Z"
   },
   {
    "duration": -201,
    "start_time": "2022-01-23T13:00:49.223Z"
   },
   {
    "duration": -208,
    "start_time": "2022-01-23T13:00:49.232Z"
   },
   {
    "duration": -210,
    "start_time": "2022-01-23T13:00:49.236Z"
   },
   {
    "duration": -212,
    "start_time": "2022-01-23T13:00:49.240Z"
   },
   {
    "duration": -218,
    "start_time": "2022-01-23T13:00:49.248Z"
   },
   {
    "duration": -219,
    "start_time": "2022-01-23T13:00:49.251Z"
   },
   {
    "duration": -222,
    "start_time": "2022-01-23T13:00:49.255Z"
   },
   {
    "duration": -229,
    "start_time": "2022-01-23T13:00:49.263Z"
   },
   {
    "duration": -230,
    "start_time": "2022-01-23T13:00:49.266Z"
   },
   {
    "duration": -231,
    "start_time": "2022-01-23T13:00:49.269Z"
   },
   {
    "duration": -259,
    "start_time": "2022-01-23T13:00:49.298Z"
   },
   {
    "duration": -260,
    "start_time": "2022-01-23T13:00:49.300Z"
   },
   {
    "duration": -261,
    "start_time": "2022-01-23T13:00:49.303Z"
   },
   {
    "duration": 7,
    "start_time": "2022-01-23T13:01:03.825Z"
   },
   {
    "duration": 14,
    "start_time": "2022-01-23T13:01:04.257Z"
   },
   {
    "duration": 306,
    "start_time": "2022-01-23T13:01:04.464Z"
   },
   {
    "duration": 3645,
    "start_time": "2022-01-23T13:01:15.144Z"
   },
   {
    "duration": 4404,
    "start_time": "2022-01-23T13:01:18.792Z"
   },
   {
    "duration": 3772,
    "start_time": "2022-01-23T13:01:23.200Z"
   },
   {
    "duration": 2548,
    "start_time": "2022-01-23T13:01:26.976Z"
   },
   {
    "duration": 39,
    "start_time": "2022-01-23T13:01:29.528Z"
   },
   {
    "duration": 16,
    "start_time": "2022-01-23T13:01:29.569Z"
   },
   {
    "duration": 742,
    "start_time": "2022-01-23T13:01:29.588Z"
   },
   {
    "duration": 44,
    "start_time": "2022-01-23T13:01:30.333Z"
   },
   {
    "duration": 23,
    "start_time": "2022-01-23T13:01:30.382Z"
   },
   {
    "duration": 36,
    "start_time": "2022-01-23T13:01:30.410Z"
   },
   {
    "duration": 19,
    "start_time": "2022-01-23T13:01:30.449Z"
   },
   {
    "duration": 33,
    "start_time": "2022-01-23T13:01:30.471Z"
   },
   {
    "duration": 33,
    "start_time": "2022-01-23T13:01:30.507Z"
   },
   {
    "duration": 43,
    "start_time": "2022-01-23T13:01:30.543Z"
   },
   {
    "duration": 40,
    "start_time": "2022-01-23T13:01:30.589Z"
   },
   {
    "duration": 21,
    "start_time": "2022-01-23T13:01:30.632Z"
   },
   {
    "duration": 21,
    "start_time": "2022-01-23T13:01:30.656Z"
   },
   {
    "duration": 64,
    "start_time": "2022-01-23T13:01:30.681Z"
   },
   {
    "duration": 16,
    "start_time": "2022-01-23T13:01:30.748Z"
   },
   {
    "duration": 22,
    "start_time": "2022-01-23T13:01:30.767Z"
   },
   {
    "duration": 42,
    "start_time": "2022-01-23T13:01:30.792Z"
   },
   {
    "duration": 30,
    "start_time": "2022-01-23T13:01:30.836Z"
   },
   {
    "duration": 23,
    "start_time": "2022-01-23T13:01:30.869Z"
   },
   {
    "duration": 33,
    "start_time": "2022-01-23T13:01:30.895Z"
   },
   {
    "duration": 29,
    "start_time": "2022-01-23T13:01:30.930Z"
   },
   {
    "duration": 302,
    "start_time": "2022-01-23T13:01:30.962Z"
   },
   {
    "duration": 579,
    "start_time": "2022-01-23T13:01:31.270Z"
   },
   {
    "duration": -187,
    "start_time": "2022-01-23T13:01:32.040Z"
   },
   {
    "duration": -192,
    "start_time": "2022-01-23T13:01:32.048Z"
   },
   {
    "duration": -193,
    "start_time": "2022-01-23T13:01:32.051Z"
   },
   {
    "duration": -194,
    "start_time": "2022-01-23T13:01:32.054Z"
   },
   {
    "duration": -195,
    "start_time": "2022-01-23T13:01:32.057Z"
   },
   {
    "duration": -195,
    "start_time": "2022-01-23T13:01:32.059Z"
   },
   {
    "duration": -195,
    "start_time": "2022-01-23T13:01:32.062Z"
   },
   {
    "duration": -194,
    "start_time": "2022-01-23T13:01:32.063Z"
   },
   {
    "duration": -195,
    "start_time": "2022-01-23T13:01:32.066Z"
   },
   {
    "duration": -202,
    "start_time": "2022-01-23T13:01:32.075Z"
   },
   {
    "duration": -204,
    "start_time": "2022-01-23T13:01:32.078Z"
   },
   {
    "duration": -205,
    "start_time": "2022-01-23T13:01:32.081Z"
   },
   {
    "duration": -205,
    "start_time": "2022-01-23T13:01:32.084Z"
   },
   {
    "duration": -205,
    "start_time": "2022-01-23T13:01:32.086Z"
   },
   {
    "duration": -206,
    "start_time": "2022-01-23T13:01:32.089Z"
   },
   {
    "duration": -204,
    "start_time": "2022-01-23T13:01:32.092Z"
   },
   {
    "duration": -248,
    "start_time": "2022-01-23T13:01:32.138Z"
   },
   {
    "duration": -218,
    "start_time": "2022-01-23T13:01:32.141Z"
   },
   {
    "duration": 5125,
    "start_time": "2022-01-23T13:02:06.587Z"
   },
   {
    "duration": 5,
    "start_time": "2022-01-23T13:02:25.854Z"
   },
   {
    "duration": 6,
    "start_time": "2022-01-23T13:02:26.138Z"
   },
   {
    "duration": 4188,
    "start_time": "2022-01-23T13:02:26.667Z"
   },
   {
    "duration": 11,
    "start_time": "2022-01-23T13:02:57.705Z"
   },
   {
    "duration": 310,
    "start_time": "2022-01-23T13:02:59.082Z"
   },
   {
    "duration": 658,
    "start_time": "2022-01-23T13:02:59.499Z"
   },
   {
    "duration": 368,
    "start_time": "2022-01-23T13:07:31.782Z"
   },
   {
    "duration": 4818,
    "start_time": "2022-01-23T13:07:37.592Z"
   },
   {
    "duration": 3523,
    "start_time": "2022-01-23T13:07:42.414Z"
   },
   {
    "duration": 4065,
    "start_time": "2022-01-23T13:07:45.941Z"
   },
   {
    "duration": 1650,
    "start_time": "2022-01-23T13:07:50.010Z"
   },
   {
    "duration": 30,
    "start_time": "2022-01-23T13:07:51.663Z"
   },
   {
    "duration": 29,
    "start_time": "2022-01-23T13:07:51.696Z"
   },
   {
    "duration": 655,
    "start_time": "2022-01-23T13:07:51.727Z"
   },
   {
    "duration": 40,
    "start_time": "2022-01-23T13:07:52.385Z"
   },
   {
    "duration": 17,
    "start_time": "2022-01-23T13:07:52.430Z"
   },
   {
    "duration": 28,
    "start_time": "2022-01-23T13:07:52.450Z"
   },
   {
    "duration": 19,
    "start_time": "2022-01-23T13:07:52.480Z"
   },
   {
    "duration": 39,
    "start_time": "2022-01-23T13:07:52.501Z"
   },
   {
    "duration": 15,
    "start_time": "2022-01-23T13:07:52.543Z"
   },
   {
    "duration": 32,
    "start_time": "2022-01-23T13:07:52.561Z"
   },
   {
    "duration": 13,
    "start_time": "2022-01-23T13:07:52.624Z"
   },
   {
    "duration": 18,
    "start_time": "2022-01-23T13:07:52.640Z"
   },
   {
    "duration": 11,
    "start_time": "2022-01-23T13:07:52.661Z"
   },
   {
    "duration": 55,
    "start_time": "2022-01-23T13:07:52.675Z"
   },
   {
    "duration": 15,
    "start_time": "2022-01-23T13:07:52.733Z"
   },
   {
    "duration": 18,
    "start_time": "2022-01-23T13:07:52.750Z"
   },
   {
    "duration": 18,
    "start_time": "2022-01-23T13:07:52.771Z"
   },
   {
    "duration": 21,
    "start_time": "2022-01-23T13:07:52.824Z"
   },
   {
    "duration": 22,
    "start_time": "2022-01-23T13:07:52.853Z"
   },
   {
    "duration": 57,
    "start_time": "2022-01-23T13:07:52.879Z"
   },
   {
    "duration": 10,
    "start_time": "2022-01-23T13:07:52.938Z"
   },
   {
    "duration": 5619,
    "start_time": "2022-01-23T13:07:52.951Z"
   },
   {
    "duration": -302,
    "start_time": "2022-01-23T13:07:58.875Z"
   },
   {
    "duration": -304,
    "start_time": "2022-01-23T13:07:58.879Z"
   },
   {
    "duration": -305,
    "start_time": "2022-01-23T13:07:58.881Z"
   },
   {
    "duration": -307,
    "start_time": "2022-01-23T13:07:58.884Z"
   },
   {
    "duration": -310,
    "start_time": "2022-01-23T13:07:58.889Z"
   },
   {
    "duration": -313,
    "start_time": "2022-01-23T13:07:58.893Z"
   },
   {
    "duration": -313,
    "start_time": "2022-01-23T13:07:58.895Z"
   },
   {
    "duration": -314,
    "start_time": "2022-01-23T13:07:58.898Z"
   },
   {
    "duration": -315,
    "start_time": "2022-01-23T13:07:58.900Z"
   },
   {
    "duration": -317,
    "start_time": "2022-01-23T13:07:58.903Z"
   },
   {
    "duration": -319,
    "start_time": "2022-01-23T13:07:58.907Z"
   },
   {
    "duration": -321,
    "start_time": "2022-01-23T13:07:58.910Z"
   },
   {
    "duration": -322,
    "start_time": "2022-01-23T13:07:58.912Z"
   },
   {
    "duration": -324,
    "start_time": "2022-01-23T13:07:58.916Z"
   },
   {
    "duration": -325,
    "start_time": "2022-01-23T13:07:58.918Z"
   },
   {
    "duration": -327,
    "start_time": "2022-01-23T13:07:58.922Z"
   },
   {
    "duration": -387,
    "start_time": "2022-01-23T13:07:58.983Z"
   },
   {
    "duration": -388,
    "start_time": "2022-01-23T13:07:58.986Z"
   },
   {
    "duration": -392,
    "start_time": "2022-01-23T13:07:58.991Z"
   },
   {
    "duration": 22,
    "start_time": "2022-01-23T13:10:15.837Z"
   },
   {
    "duration": 3866,
    "start_time": "2022-01-23T13:10:22.205Z"
   },
   {
    "duration": 3765,
    "start_time": "2022-01-23T13:10:26.074Z"
   },
   {
    "duration": 4045,
    "start_time": "2022-01-23T13:10:29.842Z"
   },
   {
    "duration": 1841,
    "start_time": "2022-01-23T13:10:33.891Z"
   },
   {
    "duration": 40,
    "start_time": "2022-01-23T13:10:35.736Z"
   },
   {
    "duration": 21,
    "start_time": "2022-01-23T13:10:35.780Z"
   },
   {
    "duration": 991,
    "start_time": "2022-01-23T13:10:35.824Z"
   },
   {
    "duration": 49,
    "start_time": "2022-01-23T13:10:36.821Z"
   },
   {
    "duration": 26,
    "start_time": "2022-01-23T13:10:36.875Z"
   },
   {
    "duration": 32,
    "start_time": "2022-01-23T13:10:36.904Z"
   },
   {
    "duration": 24,
    "start_time": "2022-01-23T13:10:36.940Z"
   },
   {
    "duration": 34,
    "start_time": "2022-01-23T13:10:36.967Z"
   },
   {
    "duration": 33,
    "start_time": "2022-01-23T13:10:37.008Z"
   },
   {
    "duration": 35,
    "start_time": "2022-01-23T13:10:37.045Z"
   },
   {
    "duration": 18,
    "start_time": "2022-01-23T13:10:37.083Z"
   },
   {
    "duration": 35,
    "start_time": "2022-01-23T13:10:37.104Z"
   },
   {
    "duration": 14,
    "start_time": "2022-01-23T13:10:37.143Z"
   },
   {
    "duration": 26,
    "start_time": "2022-01-23T13:10:37.159Z"
   },
   {
    "duration": 61,
    "start_time": "2022-01-23T13:10:37.188Z"
   },
   {
    "duration": 27,
    "start_time": "2022-01-23T13:10:37.252Z"
   },
   {
    "duration": 17,
    "start_time": "2022-01-23T13:10:37.282Z"
   },
   {
    "duration": 41,
    "start_time": "2022-01-23T13:10:37.302Z"
   },
   {
    "duration": 22,
    "start_time": "2022-01-23T13:10:37.350Z"
   },
   {
    "duration": 64,
    "start_time": "2022-01-23T13:10:37.375Z"
   },
   {
    "duration": 8,
    "start_time": "2022-01-23T13:10:37.441Z"
   },
   {
    "duration": 466,
    "start_time": "2022-01-23T13:10:37.451Z"
   },
   {
    "duration": 526,
    "start_time": "2022-01-23T13:10:37.923Z"
   },
   {
    "duration": -208,
    "start_time": "2022-01-23T13:10:38.660Z"
   },
   {
    "duration": -209,
    "start_time": "2022-01-23T13:10:38.663Z"
   },
   {
    "duration": -210,
    "start_time": "2022-01-23T13:10:38.666Z"
   },
   {
    "duration": -210,
    "start_time": "2022-01-23T13:10:38.669Z"
   },
   {
    "duration": -215,
    "start_time": "2022-01-23T13:10:38.676Z"
   },
   {
    "duration": -214,
    "start_time": "2022-01-23T13:10:38.678Z"
   },
   {
    "duration": -215,
    "start_time": "2022-01-23T13:10:38.681Z"
   },
   {
    "duration": -215,
    "start_time": "2022-01-23T13:10:38.683Z"
   },
   {
    "duration": -216,
    "start_time": "2022-01-23T13:10:38.686Z"
   },
   {
    "duration": -216,
    "start_time": "2022-01-23T13:10:38.688Z"
   },
   {
    "duration": -220,
    "start_time": "2022-01-23T13:10:38.694Z"
   },
   {
    "duration": -220,
    "start_time": "2022-01-23T13:10:38.696Z"
   },
   {
    "duration": -220,
    "start_time": "2022-01-23T13:10:38.698Z"
   },
   {
    "duration": -220,
    "start_time": "2022-01-23T13:10:38.700Z"
   },
   {
    "duration": -244,
    "start_time": "2022-01-23T13:10:38.726Z"
   },
   {
    "duration": -246,
    "start_time": "2022-01-23T13:10:38.730Z"
   },
   {
    "duration": -246,
    "start_time": "2022-01-23T13:10:38.732Z"
   },
   {
    "duration": -246,
    "start_time": "2022-01-23T13:10:38.734Z"
   },
   {
    "duration": 22,
    "start_time": "2022-01-23T13:11:10.817Z"
   },
   {
    "duration": 325,
    "start_time": "2022-01-23T13:13:12.264Z"
   },
   {
    "duration": 344,
    "start_time": "2022-01-23T13:14:29.247Z"
   },
   {
    "duration": 3262,
    "start_time": "2022-01-23T13:15:11.477Z"
   },
   {
    "duration": 3935,
    "start_time": "2022-01-23T13:15:14.743Z"
   },
   {
    "duration": 3453,
    "start_time": "2022-01-23T13:15:18.683Z"
   },
   {
    "duration": 1800,
    "start_time": "2022-01-23T13:15:22.140Z"
   },
   {
    "duration": 29,
    "start_time": "2022-01-23T13:15:23.942Z"
   },
   {
    "duration": 15,
    "start_time": "2022-01-23T13:15:23.974Z"
   },
   {
    "duration": 872,
    "start_time": "2022-01-23T13:15:23.991Z"
   },
   {
    "duration": 39,
    "start_time": "2022-01-23T13:15:24.867Z"
   },
   {
    "duration": 16,
    "start_time": "2022-01-23T13:15:24.909Z"
   },
   {
    "duration": 21,
    "start_time": "2022-01-23T13:15:24.928Z"
   },
   {
    "duration": 15,
    "start_time": "2022-01-23T13:15:24.951Z"
   },
   {
    "duration": 18,
    "start_time": "2022-01-23T13:15:24.969Z"
   },
   {
    "duration": 45,
    "start_time": "2022-01-23T13:15:24.989Z"
   },
   {
    "duration": 27,
    "start_time": "2022-01-23T13:15:25.036Z"
   },
   {
    "duration": 14,
    "start_time": "2022-01-23T13:15:25.065Z"
   },
   {
    "duration": 49,
    "start_time": "2022-01-23T13:15:25.081Z"
   },
   {
    "duration": 12,
    "start_time": "2022-01-23T13:15:25.133Z"
   },
   {
    "duration": 24,
    "start_time": "2022-01-23T13:15:25.148Z"
   },
   {
    "duration": 53,
    "start_time": "2022-01-23T13:15:25.175Z"
   },
   {
    "duration": 15,
    "start_time": "2022-01-23T13:15:25.231Z"
   },
   {
    "duration": 19,
    "start_time": "2022-01-23T13:15:25.249Z"
   },
   {
    "duration": 71,
    "start_time": "2022-01-23T13:15:25.271Z"
   },
   {
    "duration": 34,
    "start_time": "2022-01-23T13:15:25.352Z"
   },
   {
    "duration": 1987,
    "start_time": "2022-01-23T13:15:25.391Z"
   },
   {
    "duration": -536,
    "start_time": "2022-01-23T13:15:27.917Z"
   },
   {
    "duration": -537,
    "start_time": "2022-01-23T13:15:27.920Z"
   },
   {
    "duration": -544,
    "start_time": "2022-01-23T13:15:27.929Z"
   },
   {
    "duration": -544,
    "start_time": "2022-01-23T13:15:27.931Z"
   },
   {
    "duration": -546,
    "start_time": "2022-01-23T13:15:27.935Z"
   },
   {
    "duration": -553,
    "start_time": "2022-01-23T13:15:27.944Z"
   },
   {
    "duration": -553,
    "start_time": "2022-01-23T13:15:27.946Z"
   },
   {
    "duration": -554,
    "start_time": "2022-01-23T13:15:27.948Z"
   },
   {
    "duration": -557,
    "start_time": "2022-01-23T13:15:27.953Z"
   },
   {
    "duration": -565,
    "start_time": "2022-01-23T13:15:27.962Z"
   },
   {
    "duration": -565,
    "start_time": "2022-01-23T13:15:27.964Z"
   },
   {
    "duration": -544,
    "start_time": "2022-01-23T13:15:27.967Z"
   },
   {
    "duration": -552,
    "start_time": "2022-01-23T13:15:27.977Z"
   },
   {
    "duration": -553,
    "start_time": "2022-01-23T13:15:27.979Z"
   },
   {
    "duration": -555,
    "start_time": "2022-01-23T13:15:27.983Z"
   },
   {
    "duration": -572,
    "start_time": "2022-01-23T13:15:28.002Z"
   },
   {
    "duration": -578,
    "start_time": "2022-01-23T13:15:28.010Z"
   },
   {
    "duration": -580,
    "start_time": "2022-01-23T13:15:28.013Z"
   },
   {
    "duration": -582,
    "start_time": "2022-01-23T13:15:28.017Z"
   },
   {
    "duration": -590,
    "start_time": "2022-01-23T13:15:28.026Z"
   },
   {
    "duration": -591,
    "start_time": "2022-01-23T13:15:28.029Z"
   },
   {
    "duration": 19,
    "start_time": "2022-01-23T13:15:47.797Z"
   },
   {
    "duration": 25,
    "start_time": "2022-01-23T13:16:12.708Z"
   },
   {
    "duration": 11,
    "start_time": "2022-01-23T13:16:13.019Z"
   },
   {
    "duration": 4773,
    "start_time": "2022-01-23T13:16:14.603Z"
   },
   {
    "duration": 3153,
    "start_time": "2022-01-23T15:56:35.946Z"
   },
   {
    "duration": 3166,
    "start_time": "2022-01-23T15:56:39.102Z"
   },
   {
    "duration": 3106,
    "start_time": "2022-01-23T15:56:42.271Z"
   },
   {
    "duration": 1573,
    "start_time": "2022-01-23T15:56:45.381Z"
   },
   {
    "duration": 27,
    "start_time": "2022-01-23T15:56:46.957Z"
   },
   {
    "duration": 14,
    "start_time": "2022-01-23T15:56:46.986Z"
   },
   {
    "duration": 619,
    "start_time": "2022-01-23T15:56:47.003Z"
   },
   {
    "duration": 39,
    "start_time": "2022-01-23T15:56:47.626Z"
   },
   {
    "duration": 16,
    "start_time": "2022-01-23T15:56:47.669Z"
   },
   {
    "duration": 31,
    "start_time": "2022-01-23T15:56:47.687Z"
   },
   {
    "duration": 14,
    "start_time": "2022-01-23T15:56:47.720Z"
   },
   {
    "duration": 16,
    "start_time": "2022-01-23T15:56:47.737Z"
   },
   {
    "duration": 12,
    "start_time": "2022-01-23T15:56:47.755Z"
   },
   {
    "duration": 63,
    "start_time": "2022-01-23T15:56:47.770Z"
   },
   {
    "duration": 13,
    "start_time": "2022-01-23T15:56:47.836Z"
   },
   {
    "duration": 12,
    "start_time": "2022-01-23T15:56:47.852Z"
   },
   {
    "duration": 11,
    "start_time": "2022-01-23T15:56:47.867Z"
   },
   {
    "duration": 58,
    "start_time": "2022-01-23T15:56:47.880Z"
   },
   {
    "duration": 16,
    "start_time": "2022-01-23T15:56:47.940Z"
   },
   {
    "duration": 15,
    "start_time": "2022-01-23T15:56:47.958Z"
   },
   {
    "duration": 21,
    "start_time": "2022-01-23T15:56:47.976Z"
   },
   {
    "duration": 45,
    "start_time": "2022-01-23T15:56:47.999Z"
   },
   {
    "duration": 18,
    "start_time": "2022-01-23T15:56:48.051Z"
   },
   {
    "duration": 53,
    "start_time": "2022-01-23T15:56:48.073Z"
   },
   {
    "duration": 9,
    "start_time": "2022-01-23T15:56:48.129Z"
   },
   {
    "duration": 4324,
    "start_time": "2022-01-23T15:56:48.141Z"
   },
   {
    "duration": -411,
    "start_time": "2022-01-23T15:56:52.878Z"
   },
   {
    "duration": -412,
    "start_time": "2022-01-23T15:56:52.881Z"
   },
   {
    "duration": -413,
    "start_time": "2022-01-23T15:56:52.883Z"
   },
   {
    "duration": -413,
    "start_time": "2022-01-23T15:56:52.885Z"
   },
   {
    "duration": -415,
    "start_time": "2022-01-23T15:56:52.888Z"
   },
   {
    "duration": -416,
    "start_time": "2022-01-23T15:56:52.890Z"
   },
   {
    "duration": -416,
    "start_time": "2022-01-23T15:56:52.892Z"
   },
   {
    "duration": -417,
    "start_time": "2022-01-23T15:56:52.894Z"
   },
   {
    "duration": -418,
    "start_time": "2022-01-23T15:56:52.897Z"
   },
   {
    "duration": -418,
    "start_time": "2022-01-23T15:56:52.898Z"
   },
   {
    "duration": -418,
    "start_time": "2022-01-23T15:56:52.900Z"
   },
   {
    "duration": -419,
    "start_time": "2022-01-23T15:56:52.902Z"
   },
   {
    "duration": -419,
    "start_time": "2022-01-23T15:56:52.904Z"
   },
   {
    "duration": -420,
    "start_time": "2022-01-23T15:56:52.906Z"
   },
   {
    "duration": -420,
    "start_time": "2022-01-23T15:56:52.908Z"
   },
   {
    "duration": -421,
    "start_time": "2022-01-23T15:56:52.910Z"
   },
   {
    "duration": -423,
    "start_time": "2022-01-23T15:56:52.913Z"
   },
   {
    "duration": -423,
    "start_time": "2022-01-23T15:56:52.915Z"
   },
   {
    "duration": -495,
    "start_time": "2022-01-23T15:56:52.988Z"
   },
   {
    "duration": 818,
    "start_time": "2022-01-23T16:01:27.967Z"
   },
   {
    "duration": 16,
    "start_time": "2022-01-23T16:01:50.016Z"
   },
   {
    "duration": 5989,
    "start_time": "2022-01-23T16:03:43.429Z"
   },
   {
    "duration": 4143,
    "start_time": "2022-01-23T16:08:30.593Z"
   },
   {
    "duration": 18,
    "start_time": "2022-01-23T16:13:12.172Z"
   },
   {
    "duration": 4546,
    "start_time": "2022-01-23T16:13:18.517Z"
   },
   {
    "duration": 3786,
    "start_time": "2022-01-23T16:13:23.066Z"
   },
   {
    "duration": 3473,
    "start_time": "2022-01-23T16:13:26.855Z"
   },
   {
    "duration": 1651,
    "start_time": "2022-01-23T16:13:30.332Z"
   },
   {
    "duration": 30,
    "start_time": "2022-01-23T16:13:31.986Z"
   },
   {
    "duration": 18,
    "start_time": "2022-01-23T16:13:32.019Z"
   },
   {
    "duration": 946,
    "start_time": "2022-01-23T16:13:32.040Z"
   },
   {
    "duration": 51,
    "start_time": "2022-01-23T16:13:32.990Z"
   },
   {
    "duration": 17,
    "start_time": "2022-01-23T16:13:33.044Z"
   },
   {
    "duration": 22,
    "start_time": "2022-01-23T16:13:33.063Z"
   },
   {
    "duration": 15,
    "start_time": "2022-01-23T16:13:33.088Z"
   },
   {
    "duration": 18,
    "start_time": "2022-01-23T16:13:33.123Z"
   },
   {
    "duration": 14,
    "start_time": "2022-01-23T16:13:33.144Z"
   },
   {
    "duration": 33,
    "start_time": "2022-01-23T16:13:33.161Z"
   },
   {
    "duration": 18,
    "start_time": "2022-01-23T16:13:33.224Z"
   },
   {
    "duration": 13,
    "start_time": "2022-01-23T16:13:33.245Z"
   },
   {
    "duration": 13,
    "start_time": "2022-01-23T16:13:33.261Z"
   },
   {
    "duration": 65,
    "start_time": "2022-01-23T16:13:33.277Z"
   },
   {
    "duration": 16,
    "start_time": "2022-01-23T16:13:33.345Z"
   },
   {
    "duration": 15,
    "start_time": "2022-01-23T16:13:33.364Z"
   },
   {
    "duration": 45,
    "start_time": "2022-01-23T16:13:33.381Z"
   },
   {
    "duration": 25,
    "start_time": "2022-01-23T16:13:33.429Z"
   },
   {
    "duration": 19,
    "start_time": "2022-01-23T16:13:33.459Z"
   },
   {
    "duration": 51,
    "start_time": "2022-01-23T16:13:33.481Z"
   },
   {
    "duration": 10,
    "start_time": "2022-01-23T16:13:33.535Z"
   },
   {
    "duration": 4054,
    "start_time": "2022-01-23T16:13:33.548Z"
   },
   {
    "duration": -551,
    "start_time": "2022-01-23T16:13:38.155Z"
   },
   {
    "duration": -553,
    "start_time": "2022-01-23T16:13:38.159Z"
   },
   {
    "duration": -553,
    "start_time": "2022-01-23T16:13:38.161Z"
   },
   {
    "duration": -554,
    "start_time": "2022-01-23T16:13:38.163Z"
   },
   {
    "duration": -543,
    "start_time": "2022-01-23T16:13:38.165Z"
   },
   {
    "duration": -543,
    "start_time": "2022-01-23T16:13:38.167Z"
   },
   {
    "duration": -544,
    "start_time": "2022-01-23T16:13:38.169Z"
   },
   {
    "duration": -546,
    "start_time": "2022-01-23T16:13:38.172Z"
   },
   {
    "duration": -546,
    "start_time": "2022-01-23T16:13:38.174Z"
   },
   {
    "duration": -547,
    "start_time": "2022-01-23T16:13:38.176Z"
   },
   {
    "duration": -548,
    "start_time": "2022-01-23T16:13:38.179Z"
   },
   {
    "duration": -549,
    "start_time": "2022-01-23T16:13:38.181Z"
   },
   {
    "duration": -549,
    "start_time": "2022-01-23T16:13:38.183Z"
   },
   {
    "duration": -550,
    "start_time": "2022-01-23T16:13:38.185Z"
   },
   {
    "duration": -550,
    "start_time": "2022-01-23T16:13:38.187Z"
   },
   {
    "duration": -551,
    "start_time": "2022-01-23T16:13:38.189Z"
   },
   {
    "duration": -552,
    "start_time": "2022-01-23T16:13:38.191Z"
   },
   {
    "duration": -552,
    "start_time": "2022-01-23T16:13:38.193Z"
   },
   {
    "duration": -553,
    "start_time": "2022-01-23T16:13:38.195Z"
   },
   {
    "duration": 3374,
    "start_time": "2022-01-23T16:17:19.534Z"
   },
   {
    "duration": 3364,
    "start_time": "2022-01-23T16:17:22.911Z"
   },
   {
    "duration": 4706,
    "start_time": "2022-01-23T16:17:26.278Z"
   },
   {
    "duration": 2453,
    "start_time": "2022-01-23T16:17:30.989Z"
   },
   {
    "duration": 30,
    "start_time": "2022-01-23T16:17:33.444Z"
   },
   {
    "duration": 16,
    "start_time": "2022-01-23T16:17:33.477Z"
   },
   {
    "duration": 671,
    "start_time": "2022-01-23T16:17:33.496Z"
   },
   {
    "duration": 57,
    "start_time": "2022-01-23T16:17:34.170Z"
   },
   {
    "duration": 16,
    "start_time": "2022-01-23T16:17:34.233Z"
   },
   {
    "duration": 21,
    "start_time": "2022-01-23T16:17:34.254Z"
   },
   {
    "duration": 15,
    "start_time": "2022-01-23T16:17:34.277Z"
   },
   {
    "duration": 49,
    "start_time": "2022-01-23T16:17:34.294Z"
   },
   {
    "duration": 16,
    "start_time": "2022-01-23T16:17:34.347Z"
   },
   {
    "duration": 65,
    "start_time": "2022-01-23T16:17:34.366Z"
   },
   {
    "duration": 13,
    "start_time": "2022-01-23T16:17:34.433Z"
   },
   {
    "duration": 14,
    "start_time": "2022-01-23T16:17:34.449Z"
   },
   {
    "duration": 57,
    "start_time": "2022-01-23T16:17:34.466Z"
   },
   {
    "duration": 21,
    "start_time": "2022-01-23T16:17:34.526Z"
   },
   {
    "duration": 13,
    "start_time": "2022-01-23T16:17:34.550Z"
   },
   {
    "duration": 19,
    "start_time": "2022-01-23T16:17:34.565Z"
   },
   {
    "duration": 45,
    "start_time": "2022-01-23T16:17:34.588Z"
   },
   {
    "duration": 6,
    "start_time": "2022-01-23T16:17:34.636Z"
   },
   {
    "duration": 19,
    "start_time": "2022-01-23T16:17:34.645Z"
   },
   {
    "duration": 8,
    "start_time": "2022-01-23T16:17:34.667Z"
   },
   {
    "duration": 431,
    "start_time": "2022-01-23T16:17:34.678Z"
   },
   {
    "duration": -324,
    "start_time": "2022-01-23T16:17:35.438Z"
   },
   {
    "duration": -328,
    "start_time": "2022-01-23T16:17:35.443Z"
   },
   {
    "duration": -329,
    "start_time": "2022-01-23T16:17:35.446Z"
   },
   {
    "duration": -336,
    "start_time": "2022-01-23T16:17:35.454Z"
   },
   {
    "duration": -338,
    "start_time": "2022-01-23T16:17:35.458Z"
   },
   {
    "duration": -340,
    "start_time": "2022-01-23T16:17:35.461Z"
   },
   {
    "duration": -341,
    "start_time": "2022-01-23T16:17:35.464Z"
   },
   {
    "duration": -342,
    "start_time": "2022-01-23T16:17:35.466Z"
   },
   {
    "duration": -360,
    "start_time": "2022-01-23T16:17:35.486Z"
   },
   {
    "duration": -362,
    "start_time": "2022-01-23T16:17:35.489Z"
   },
   {
    "duration": -362,
    "start_time": "2022-01-23T16:17:35.491Z"
   },
   {
    "duration": -368,
    "start_time": "2022-01-23T16:17:35.499Z"
   },
   {
    "duration": -409,
    "start_time": "2022-01-23T16:17:35.541Z"
   },
   {
    "duration": -411,
    "start_time": "2022-01-23T16:17:35.544Z"
   },
   {
    "duration": -411,
    "start_time": "2022-01-23T16:17:35.546Z"
   },
   {
    "duration": -411,
    "start_time": "2022-01-23T16:17:35.548Z"
   },
   {
    "duration": -412,
    "start_time": "2022-01-23T16:17:35.550Z"
   },
   {
    "duration": -413,
    "start_time": "2022-01-23T16:17:35.553Z"
   },
   {
    "duration": -413,
    "start_time": "2022-01-23T16:17:35.555Z"
   },
   {
    "duration": -414,
    "start_time": "2022-01-23T16:17:35.557Z"
   },
   {
    "duration": -414,
    "start_time": "2022-01-23T16:17:35.559Z"
   },
   {
    "duration": 22,
    "start_time": "2022-01-23T16:17:45.941Z"
   },
   {
    "duration": 7,
    "start_time": "2022-01-23T16:17:48.923Z"
   },
   {
    "duration": 680,
    "start_time": "2022-01-23T16:17:49.564Z"
   },
   {
    "duration": 19,
    "start_time": "2022-01-23T16:18:17.124Z"
   },
   {
    "duration": 14,
    "start_time": "2022-01-23T16:18:18.165Z"
   },
   {
    "duration": 4155,
    "start_time": "2022-01-23T16:18:19.166Z"
   },
   {
    "duration": 21,
    "start_time": "2022-01-23T16:20:29.635Z"
   },
   {
    "duration": 28,
    "start_time": "2022-01-23T16:20:30.881Z"
   },
   {
    "duration": 308,
    "start_time": "2022-01-23T16:20:35.689Z"
   },
   {
    "duration": 307,
    "start_time": "2022-01-23T16:20:43.551Z"
   },
   {
    "duration": 3498,
    "start_time": "2022-01-23T16:20:55.277Z"
   },
   {
    "duration": 3324,
    "start_time": "2022-01-23T16:20:58.778Z"
   },
   {
    "duration": 3368,
    "start_time": "2022-01-23T16:21:02.106Z"
   },
   {
    "duration": 1630,
    "start_time": "2022-01-23T16:21:05.476Z"
   },
   {
    "duration": 29,
    "start_time": "2022-01-23T16:21:07.109Z"
   },
   {
    "duration": 16,
    "start_time": "2022-01-23T16:21:07.140Z"
   },
   {
    "duration": 629,
    "start_time": "2022-01-23T16:21:07.159Z"
   },
   {
    "duration": 51,
    "start_time": "2022-01-23T16:21:07.792Z"
   },
   {
    "duration": 17,
    "start_time": "2022-01-23T16:21:07.847Z"
   },
   {
    "duration": 23,
    "start_time": "2022-01-23T16:21:07.866Z"
   },
   {
    "duration": 14,
    "start_time": "2022-01-23T16:21:07.892Z"
   },
   {
    "duration": 29,
    "start_time": "2022-01-23T16:21:07.908Z"
   },
   {
    "duration": 13,
    "start_time": "2022-01-23T16:21:07.939Z"
   },
   {
    "duration": 23,
    "start_time": "2022-01-23T16:21:07.954Z"
   },
   {
    "duration": 51,
    "start_time": "2022-01-23T16:21:07.979Z"
   },
   {
    "duration": 12,
    "start_time": "2022-01-23T16:21:08.033Z"
   },
   {
    "duration": 10,
    "start_time": "2022-01-23T16:21:08.048Z"
   },
   {
    "duration": 24,
    "start_time": "2022-01-23T16:21:08.061Z"
   },
   {
    "duration": 45,
    "start_time": "2022-01-23T16:21:08.088Z"
   },
   {
    "duration": 16,
    "start_time": "2022-01-23T16:21:08.135Z"
   },
   {
    "duration": 23,
    "start_time": "2022-01-23T16:21:08.154Z"
   },
   {
    "duration": 67,
    "start_time": "2022-01-23T16:21:08.180Z"
   },
   {
    "duration": 27,
    "start_time": "2022-01-23T16:21:08.255Z"
   },
   {
    "duration": 583,
    "start_time": "2022-01-23T16:21:08.287Z"
   },
   {
    "duration": -331,
    "start_time": "2022-01-23T16:21:09.204Z"
   },
   {
    "duration": -334,
    "start_time": "2022-01-23T16:21:09.209Z"
   },
   {
    "duration": -336,
    "start_time": "2022-01-23T16:21:09.212Z"
   },
   {
    "duration": -345,
    "start_time": "2022-01-23T16:21:09.223Z"
   },
   {
    "duration": -346,
    "start_time": "2022-01-23T16:21:09.226Z"
   },
   {
    "duration": -348,
    "start_time": "2022-01-23T16:21:09.229Z"
   },
   {
    "duration": -349,
    "start_time": "2022-01-23T16:21:09.232Z"
   },
   {
    "duration": -350,
    "start_time": "2022-01-23T16:21:09.235Z"
   },
   {
    "duration": -350,
    "start_time": "2022-01-23T16:21:09.237Z"
   },
   {
    "duration": -410,
    "start_time": "2022-01-23T16:21:09.298Z"
   },
   {
    "duration": -413,
    "start_time": "2022-01-23T16:21:09.302Z"
   },
   {
    "duration": -413,
    "start_time": "2022-01-23T16:21:09.304Z"
   },
   {
    "duration": -415,
    "start_time": "2022-01-23T16:21:09.307Z"
   },
   {
    "duration": -416,
    "start_time": "2022-01-23T16:21:09.310Z"
   },
   {
    "duration": -417,
    "start_time": "2022-01-23T16:21:09.313Z"
   },
   {
    "duration": -418,
    "start_time": "2022-01-23T16:21:09.315Z"
   },
   {
    "duration": -418,
    "start_time": "2022-01-23T16:21:09.317Z"
   },
   {
    "duration": -420,
    "start_time": "2022-01-23T16:21:09.320Z"
   },
   {
    "duration": -421,
    "start_time": "2022-01-23T16:21:09.322Z"
   },
   {
    "duration": -422,
    "start_time": "2022-01-23T16:21:09.325Z"
   },
   {
    "duration": -424,
    "start_time": "2022-01-23T16:21:09.328Z"
   },
   {
    "duration": 20,
    "start_time": "2022-01-23T16:21:46.556Z"
   },
   {
    "duration": 10,
    "start_time": "2022-01-23T16:21:48.938Z"
   },
   {
    "duration": 3739,
    "start_time": "2022-01-23T16:21:49.556Z"
   },
   {
    "duration": 19,
    "start_time": "2022-01-23T16:22:12.003Z"
   },
   {
    "duration": 272,
    "start_time": "2022-01-31T09:35:37.102Z"
   },
   {
    "duration": 54482,
    "start_time": "2022-01-31T09:35:49.861Z"
   },
   {
    "duration": 104845,
    "start_time": "2022-01-31T09:36:44.345Z"
   },
   {
    "duration": 44021,
    "start_time": "2022-01-31T09:38:29.193Z"
   },
   {
    "duration": 1360,
    "start_time": "2022-01-31T09:39:13.217Z"
   },
   {
    "duration": 25,
    "start_time": "2022-01-31T09:39:14.578Z"
   },
   {
    "duration": 8,
    "start_time": "2022-01-31T09:39:14.605Z"
   },
   {
    "duration": 277,
    "start_time": "2022-01-31T09:39:14.615Z"
   },
   {
    "duration": 43,
    "start_time": "2022-01-31T09:39:14.895Z"
   },
   {
    "duration": 11,
    "start_time": "2022-01-31T09:39:14.940Z"
   },
   {
    "duration": 22,
    "start_time": "2022-01-31T09:39:14.953Z"
   },
   {
    "duration": 9,
    "start_time": "2022-01-31T09:39:14.977Z"
   },
   {
    "duration": 14,
    "start_time": "2022-01-31T09:39:14.988Z"
   },
   {
    "duration": 9,
    "start_time": "2022-01-31T09:39:15.004Z"
   },
   {
    "duration": 23,
    "start_time": "2022-01-31T09:39:15.015Z"
   },
   {
    "duration": 26,
    "start_time": "2022-01-31T09:39:15.040Z"
   },
   {
    "duration": 13,
    "start_time": "2022-01-31T09:39:15.068Z"
   },
   {
    "duration": 14,
    "start_time": "2022-01-31T09:39:15.083Z"
   },
   {
    "duration": 26,
    "start_time": "2022-01-31T09:39:15.099Z"
   },
   {
    "duration": 14,
    "start_time": "2022-01-31T09:39:15.127Z"
   },
   {
    "duration": 25,
    "start_time": "2022-01-31T09:39:15.143Z"
   },
   {
    "duration": 12,
    "start_time": "2022-01-31T09:39:15.170Z"
   },
   {
    "duration": 15,
    "start_time": "2022-01-31T09:39:15.184Z"
   },
   {
    "duration": 13,
    "start_time": "2022-01-31T09:39:15.202Z"
   },
   {
    "duration": 44,
    "start_time": "2022-01-31T09:39:15.217Z"
   },
   {
    "duration": 10,
    "start_time": "2022-01-31T09:39:15.263Z"
   },
   {
    "duration": 2217,
    "start_time": "2022-01-31T09:39:15.274Z"
   },
   {
    "duration": 474,
    "start_time": "2022-01-31T09:39:17.020Z"
   },
   {
    "duration": 474,
    "start_time": "2022-01-31T09:39:17.021Z"
   },
   {
    "duration": 474,
    "start_time": "2022-01-31T09:39:17.023Z"
   },
   {
    "duration": 473,
    "start_time": "2022-01-31T09:39:17.025Z"
   },
   {
    "duration": 473,
    "start_time": "2022-01-31T09:39:17.027Z"
   },
   {
    "duration": 472,
    "start_time": "2022-01-31T09:39:17.029Z"
   },
   {
    "duration": 378,
    "start_time": "2022-01-31T09:39:17.124Z"
   },
   {
    "duration": 369,
    "start_time": "2022-01-31T09:39:17.135Z"
   },
   {
    "duration": 367,
    "start_time": "2022-01-31T09:39:17.138Z"
   },
   {
    "duration": 365,
    "start_time": "2022-01-31T09:39:17.141Z"
   },
   {
    "duration": 365,
    "start_time": "2022-01-31T09:39:17.143Z"
   },
   {
    "duration": 365,
    "start_time": "2022-01-31T09:39:17.144Z"
   },
   {
    "duration": 364,
    "start_time": "2022-01-31T09:39:17.146Z"
   },
   {
    "duration": 364,
    "start_time": "2022-01-31T09:39:17.148Z"
   },
   {
    "duration": 364,
    "start_time": "2022-01-31T09:39:17.149Z"
   },
   {
    "duration": 364,
    "start_time": "2022-01-31T09:39:17.151Z"
   },
   {
    "duration": 363,
    "start_time": "2022-01-31T09:39:17.153Z"
   },
   {
    "duration": 363,
    "start_time": "2022-01-31T09:39:17.155Z"
   },
   {
    "duration": 362,
    "start_time": "2022-01-31T09:39:17.157Z"
   },
   {
    "duration": 16,
    "start_time": "2022-01-31T09:41:08.038Z"
   },
   {
    "duration": 3,
    "start_time": "2022-01-31T09:41:24.249Z"
   },
   {
    "duration": 24,
    "start_time": "2022-01-31T09:41:24.849Z"
   },
   {
    "duration": 11,
    "start_time": "2022-01-31T09:41:25.569Z"
   },
   {
    "duration": 12,
    "start_time": "2022-01-31T09:41:25.944Z"
   },
   {
    "duration": 49,
    "start_time": "2022-01-31T09:41:26.119Z"
   },
   {
    "duration": 13,
    "start_time": "2022-01-31T09:41:26.317Z"
   },
   {
    "duration": 21,
    "start_time": "2022-01-31T09:41:26.495Z"
   },
   {
    "duration": 12,
    "start_time": "2022-01-31T09:41:26.695Z"
   },
   {
    "duration": 14,
    "start_time": "2022-01-31T09:41:26.880Z"
   },
   {
    "duration": 9,
    "start_time": "2022-01-31T09:41:27.072Z"
   },
   {
    "duration": 14,
    "start_time": "2022-01-31T09:41:27.280Z"
   },
   {
    "duration": 9,
    "start_time": "2022-01-31T09:41:27.471Z"
   },
   {
    "duration": 9,
    "start_time": "2022-01-31T09:41:29.296Z"
   },
   {
    "duration": 8,
    "start_time": "2022-01-31T09:41:30.385Z"
   },
   {
    "duration": 14,
    "start_time": "2022-01-31T09:41:32.568Z"
   },
   {
    "duration": 8,
    "start_time": "2022-01-31T09:41:33.168Z"
   },
   {
    "duration": 11,
    "start_time": "2022-01-31T09:41:34.233Z"
   },
   {
    "duration": 11,
    "start_time": "2022-01-31T09:41:35.920Z"
   },
   {
    "duration": 15,
    "start_time": "2022-01-31T09:41:36.272Z"
   },
   {
    "duration": 14,
    "start_time": "2022-01-31T09:41:36.785Z"
   },
   {
    "duration": 19,
    "start_time": "2022-01-31T09:41:37.912Z"
   },
   {
    "duration": 18,
    "start_time": "2022-01-31T09:41:58.621Z"
   },
   {
    "duration": 9,
    "start_time": "2022-01-31T09:42:09.734Z"
   },
   {
    "duration": 3,
    "start_time": "2022-01-31T09:42:20.250Z"
   },
   {
    "duration": 24,
    "start_time": "2022-01-31T09:42:21.113Z"
   },
   {
    "duration": 12,
    "start_time": "2022-01-31T09:42:21.969Z"
   },
   {
    "duration": 12,
    "start_time": "2022-01-31T09:42:22.368Z"
   },
   {
    "duration": 43,
    "start_time": "2022-01-31T09:42:22.601Z"
   },
   {
    "duration": 12,
    "start_time": "2022-01-31T09:42:22.800Z"
   },
   {
    "duration": 21,
    "start_time": "2022-01-31T09:42:23.024Z"
   },
   {
    "duration": 10,
    "start_time": "2022-01-31T09:42:23.273Z"
   },
   {
    "duration": 14,
    "start_time": "2022-01-31T09:42:23.481Z"
   },
   {
    "duration": 9,
    "start_time": "2022-01-31T09:42:23.696Z"
   },
   {
    "duration": 15,
    "start_time": "2022-01-31T09:42:23.913Z"
   },
   {
    "duration": 9,
    "start_time": "2022-01-31T09:42:24.128Z"
   },
   {
    "duration": 7,
    "start_time": "2022-01-31T09:42:24.785Z"
   },
   {
    "duration": 8,
    "start_time": "2022-01-31T09:42:25.601Z"
   },
   {
    "duration": 14,
    "start_time": "2022-01-31T09:42:27.320Z"
   },
   {
    "duration": 8,
    "start_time": "2022-01-31T09:42:28.168Z"
   },
   {
    "duration": 11,
    "start_time": "2022-01-31T09:42:29.929Z"
   },
   {
    "duration": 12,
    "start_time": "2022-01-31T09:42:30.897Z"
   },
   {
    "duration": 16,
    "start_time": "2022-01-31T09:42:31.505Z"
   },
   {
    "duration": 15,
    "start_time": "2022-01-31T09:42:31.937Z"
   },
   {
    "duration": 13,
    "start_time": "2022-01-31T09:42:33.641Z"
   },
   {
    "duration": 16,
    "start_time": "2022-01-31T09:44:01.695Z"
   },
   {
    "duration": 54010,
    "start_time": "2022-01-31T09:44:07.687Z"
   },
   {
    "duration": 43108,
    "start_time": "2022-01-31T09:45:01.699Z"
   },
   {
    "duration": 2106,
    "start_time": "2022-01-31T09:45:44.810Z"
   },
   {
    "duration": 1167,
    "start_time": "2022-01-31T09:45:46.918Z"
   },
   {
    "duration": 26,
    "start_time": "2022-01-31T09:45:48.087Z"
   },
   {
    "duration": 10,
    "start_time": "2022-01-31T09:45:48.115Z"
   },
   {
    "duration": 291,
    "start_time": "2022-01-31T09:45:48.126Z"
   },
   {
    "duration": 45,
    "start_time": "2022-01-31T09:45:48.419Z"
   },
   {
    "duration": 11,
    "start_time": "2022-01-31T09:45:48.466Z"
   },
   {
    "duration": 21,
    "start_time": "2022-01-31T09:45:48.478Z"
   },
   {
    "duration": 9,
    "start_time": "2022-01-31T09:45:48.501Z"
   },
   {
    "duration": 12,
    "start_time": "2022-01-31T09:45:48.512Z"
   },
   {
    "duration": 8,
    "start_time": "2022-01-31T09:45:48.526Z"
   },
   {
    "duration": 16,
    "start_time": "2022-01-31T09:45:48.560Z"
   },
   {
    "duration": 9,
    "start_time": "2022-01-31T09:45:48.578Z"
   },
   {
    "duration": 11,
    "start_time": "2022-01-31T09:45:48.589Z"
   },
   {
    "duration": 14,
    "start_time": "2022-01-31T09:45:48.602Z"
   },
   {
    "duration": 52,
    "start_time": "2022-01-31T09:45:48.618Z"
   },
   {
    "duration": 12,
    "start_time": "2022-01-31T09:45:48.671Z"
   },
   {
    "duration": 12,
    "start_time": "2022-01-31T09:45:48.685Z"
   },
   {
    "duration": 11,
    "start_time": "2022-01-31T09:45:48.699Z"
   },
   {
    "duration": 57,
    "start_time": "2022-01-31T09:45:48.712Z"
   },
   {
    "duration": 14,
    "start_time": "2022-01-31T09:45:48.773Z"
   },
   {
    "duration": 18,
    "start_time": "2022-01-31T09:45:48.790Z"
   },
   {
    "duration": 6,
    "start_time": "2022-01-31T09:45:48.810Z"
   },
   {
    "duration": 556,
    "start_time": "2022-01-31T09:45:48.818Z"
   },
   {
    "duration": 549,
    "start_time": "2022-01-31T09:45:48.828Z"
   },
   {
    "duration": 547,
    "start_time": "2022-01-31T09:45:48.831Z"
   },
   {
    "duration": 547,
    "start_time": "2022-01-31T09:45:48.832Z"
   },
   {
    "duration": 547,
    "start_time": "2022-01-31T09:45:48.834Z"
   },
   {
    "duration": 547,
    "start_time": "2022-01-31T09:45:48.835Z"
   },
   {
    "duration": 547,
    "start_time": "2022-01-31T09:45:48.837Z"
   },
   {
    "duration": 547,
    "start_time": "2022-01-31T09:45:48.838Z"
   },
   {
    "duration": 546,
    "start_time": "2022-01-31T09:45:48.841Z"
   },
   {
    "duration": 545,
    "start_time": "2022-01-31T09:45:48.843Z"
   },
   {
    "duration": 545,
    "start_time": "2022-01-31T09:45:48.844Z"
   },
   {
    "duration": 545,
    "start_time": "2022-01-31T09:45:48.846Z"
   },
   {
    "duration": 545,
    "start_time": "2022-01-31T09:45:48.847Z"
   },
   {
    "duration": 545,
    "start_time": "2022-01-31T09:45:48.849Z"
   },
   {
    "duration": 545,
    "start_time": "2022-01-31T09:45:48.850Z"
   },
   {
    "duration": 542,
    "start_time": "2022-01-31T09:45:48.854Z"
   },
   {
    "duration": 542,
    "start_time": "2022-01-31T09:45:48.856Z"
   },
   {
    "duration": 541,
    "start_time": "2022-01-31T09:45:48.858Z"
   },
   {
    "duration": 541,
    "start_time": "2022-01-31T09:45:48.859Z"
   },
   {
    "duration": 527,
    "start_time": "2022-01-31T09:45:48.875Z"
   },
   {
    "duration": 477,
    "start_time": "2022-01-31T09:49:20.114Z"
   },
   {
    "duration": 869,
    "start_time": "2022-01-31T09:49:29.730Z"
   },
   {
    "duration": 303,
    "start_time": "2022-01-31T09:49:43.835Z"
   },
   {
    "duration": 14,
    "start_time": "2022-01-31T09:50:25.067Z"
   },
   {
    "duration": 5,
    "start_time": "2022-01-31T09:50:25.601Z"
   },
   {
    "duration": 260,
    "start_time": "2022-01-31T09:50:26.107Z"
   },
   {
    "duration": 265,
    "start_time": "2022-01-31T09:50:49.999Z"
   },
   {
    "duration": 3204,
    "start_time": "2022-01-31T16:01:24.364Z"
   },
   {
    "duration": 12964,
    "start_time": "2022-01-31T16:01:27.571Z"
   },
   {
    "duration": 7791,
    "start_time": "2022-01-31T16:01:40.537Z"
   },
   {
    "duration": 1463,
    "start_time": "2022-01-31T16:01:48.331Z"
   },
   {
    "duration": 51,
    "start_time": "2022-01-31T16:01:49.796Z"
   },
   {
    "duration": 12,
    "start_time": "2022-01-31T16:01:49.850Z"
   },
   {
    "duration": 515,
    "start_time": "2022-01-31T16:01:49.864Z"
   },
   {
    "duration": 69,
    "start_time": "2022-01-31T16:01:50.382Z"
   },
   {
    "duration": 11,
    "start_time": "2022-01-31T16:01:50.453Z"
   },
   {
    "duration": 24,
    "start_time": "2022-01-31T16:01:50.466Z"
   },
   {
    "duration": 10,
    "start_time": "2022-01-31T16:01:50.492Z"
   },
   {
    "duration": 13,
    "start_time": "2022-01-31T16:01:50.503Z"
   },
   {
    "duration": 8,
    "start_time": "2022-01-31T16:01:50.518Z"
   },
   {
    "duration": 16,
    "start_time": "2022-01-31T16:01:50.528Z"
   },
   {
    "duration": 9,
    "start_time": "2022-01-31T16:01:50.545Z"
   },
   {
    "duration": 9,
    "start_time": "2022-01-31T16:01:50.555Z"
   },
   {
    "duration": 9,
    "start_time": "2022-01-31T16:01:50.566Z"
   },
   {
    "duration": 42,
    "start_time": "2022-01-31T16:01:50.577Z"
   },
   {
    "duration": 8,
    "start_time": "2022-01-31T16:01:50.621Z"
   },
   {
    "duration": 12,
    "start_time": "2022-01-31T16:01:50.631Z"
   },
   {
    "duration": 15,
    "start_time": "2022-01-31T16:01:50.645Z"
   },
   {
    "duration": 16,
    "start_time": "2022-01-31T16:01:50.662Z"
   },
   {
    "duration": 37,
    "start_time": "2022-01-31T16:01:50.682Z"
   },
   {
    "duration": 16,
    "start_time": "2022-01-31T16:01:50.721Z"
   },
   {
    "duration": 8,
    "start_time": "2022-01-31T16:01:50.739Z"
   },
   {
    "duration": 294,
    "start_time": "2022-01-31T16:01:50.749Z"
   },
   {
    "duration": 17,
    "start_time": "2022-01-31T16:01:51.046Z"
   },
   {
    "duration": 20,
    "start_time": "2022-01-31T16:01:51.065Z"
   },
   {
    "duration": 271,
    "start_time": "2022-01-31T16:01:51.087Z"
   },
   {
    "duration": 3231,
    "start_time": "2022-01-31T16:01:51.360Z"
   },
   {
    "duration": 613,
    "start_time": "2022-01-31T16:01:53.980Z"
   },
   {
    "duration": 611,
    "start_time": "2022-01-31T16:01:53.983Z"
   },
   {
    "duration": 611,
    "start_time": "2022-01-31T16:01:53.984Z"
   },
   {
    "duration": 610,
    "start_time": "2022-01-31T16:01:53.986Z"
   },
   {
    "duration": 609,
    "start_time": "2022-01-31T16:01:53.988Z"
   },
   {
    "duration": 608,
    "start_time": "2022-01-31T16:01:53.990Z"
   },
   {
    "duration": 607,
    "start_time": "2022-01-31T16:01:53.992Z"
   },
   {
    "duration": 606,
    "start_time": "2022-01-31T16:01:53.994Z"
   },
   {
    "duration": 605,
    "start_time": "2022-01-31T16:01:53.996Z"
   },
   {
    "duration": 604,
    "start_time": "2022-01-31T16:01:53.998Z"
   },
   {
    "duration": 604,
    "start_time": "2022-01-31T16:01:53.999Z"
   },
   {
    "duration": 603,
    "start_time": "2022-01-31T16:01:54.001Z"
   },
   {
    "duration": 601,
    "start_time": "2022-01-31T16:01:54.003Z"
   },
   {
    "duration": 599,
    "start_time": "2022-01-31T16:01:54.006Z"
   },
   {
    "duration": 599,
    "start_time": "2022-01-31T16:01:54.007Z"
   },
   {
    "duration": 15,
    "start_time": "2022-01-31T16:13:46.400Z"
   },
   {
    "duration": 2374,
    "start_time": "2022-01-31T16:14:19.711Z"
   },
   {
    "duration": 2467,
    "start_time": "2022-01-31T16:14:22.088Z"
   },
   {
    "duration": 2404,
    "start_time": "2022-01-31T16:14:24.557Z"
   },
   {
    "duration": 1220,
    "start_time": "2022-01-31T16:14:26.964Z"
   },
   {
    "duration": 25,
    "start_time": "2022-01-31T16:14:28.186Z"
   },
   {
    "duration": 9,
    "start_time": "2022-01-31T16:14:28.213Z"
   },
   {
    "duration": 470,
    "start_time": "2022-01-31T16:14:28.223Z"
   },
   {
    "duration": 45,
    "start_time": "2022-01-31T16:14:28.696Z"
   },
   {
    "duration": 12,
    "start_time": "2022-01-31T16:14:28.743Z"
   },
   {
    "duration": 22,
    "start_time": "2022-01-31T16:14:28.756Z"
   },
   {
    "duration": 12,
    "start_time": "2022-01-31T16:14:28.780Z"
   },
   {
    "duration": 15,
    "start_time": "2022-01-31T16:14:28.794Z"
   },
   {
    "duration": 13,
    "start_time": "2022-01-31T16:14:28.810Z"
   },
   {
    "duration": 17,
    "start_time": "2022-01-31T16:14:28.825Z"
   },
   {
    "duration": 9,
    "start_time": "2022-01-31T16:14:28.845Z"
   },
   {
    "duration": 9,
    "start_time": "2022-01-31T16:14:28.856Z"
   },
   {
    "duration": 10,
    "start_time": "2022-01-31T16:14:28.867Z"
   },
   {
    "duration": 16,
    "start_time": "2022-01-31T16:14:28.919Z"
   },
   {
    "duration": 11,
    "start_time": "2022-01-31T16:14:28.936Z"
   },
   {
    "duration": 10,
    "start_time": "2022-01-31T16:14:28.949Z"
   },
   {
    "duration": 11,
    "start_time": "2022-01-31T16:14:28.961Z"
   },
   {
    "duration": 15,
    "start_time": "2022-01-31T16:14:28.975Z"
   },
   {
    "duration": 14,
    "start_time": "2022-01-31T16:14:29.019Z"
   },
   {
    "duration": 19,
    "start_time": "2022-01-31T16:14:29.035Z"
   },
   {
    "duration": 4,
    "start_time": "2022-01-31T16:14:29.057Z"
   },
   {
    "duration": 285,
    "start_time": "2022-01-31T16:14:29.063Z"
   },
   {
    "duration": 15,
    "start_time": "2022-01-31T16:14:29.350Z"
   },
   {
    "duration": 20,
    "start_time": "2022-01-31T16:14:29.367Z"
   },
   {
    "duration": 279,
    "start_time": "2022-01-31T16:14:29.389Z"
   },
   {
    "duration": 3176,
    "start_time": "2022-01-31T16:14:29.670Z"
   },
   {
    "duration": 611,
    "start_time": "2022-01-31T16:14:32.237Z"
   },
   {
    "duration": 611,
    "start_time": "2022-01-31T16:14:32.238Z"
   },
   {
    "duration": 610,
    "start_time": "2022-01-31T16:14:32.240Z"
   },
   {
    "duration": 609,
    "start_time": "2022-01-31T16:14:32.242Z"
   },
   {
    "duration": 608,
    "start_time": "2022-01-31T16:14:32.244Z"
   },
   {
    "duration": 607,
    "start_time": "2022-01-31T16:14:32.245Z"
   },
   {
    "duration": 606,
    "start_time": "2022-01-31T16:14:32.247Z"
   },
   {
    "duration": 605,
    "start_time": "2022-01-31T16:14:32.249Z"
   },
   {
    "duration": 604,
    "start_time": "2022-01-31T16:14:32.251Z"
   },
   {
    "duration": 604,
    "start_time": "2022-01-31T16:14:32.252Z"
   },
   {
    "duration": 603,
    "start_time": "2022-01-31T16:14:32.254Z"
   },
   {
    "duration": 603,
    "start_time": "2022-01-31T16:14:32.256Z"
   },
   {
    "duration": 603,
    "start_time": "2022-01-31T16:14:32.257Z"
   },
   {
    "duration": 601,
    "start_time": "2022-01-31T16:14:32.260Z"
   },
   {
    "duration": 529,
    "start_time": "2022-01-31T16:14:32.333Z"
   },
   {
    "duration": 16,
    "start_time": "2022-01-31T16:24:11.201Z"
   },
   {
    "duration": 16,
    "start_time": "2022-01-31T16:24:16.745Z"
   },
   {
    "duration": 341,
    "start_time": "2022-01-31T16:37:39.261Z"
   },
   {
    "duration": 15,
    "start_time": "2022-01-31T16:38:06.994Z"
   },
   {
    "duration": 15,
    "start_time": "2022-01-31T16:38:12.265Z"
   },
   {
    "duration": 16,
    "start_time": "2022-01-31T16:38:20.917Z"
   },
   {
    "duration": 20,
    "start_time": "2022-01-31T16:38:26.925Z"
   },
   {
    "duration": 15,
    "start_time": "2022-01-31T16:38:49.809Z"
   },
   {
    "duration": 17,
    "start_time": "2022-01-31T16:39:01.363Z"
   },
   {
    "duration": 8,
    "start_time": "2022-01-31T16:39:24.598Z"
   },
   {
    "duration": 8,
    "start_time": "2022-01-31T16:39:31.389Z"
   },
   {
    "duration": 7,
    "start_time": "2022-01-31T16:39:40.862Z"
   },
   {
    "duration": 15,
    "start_time": "2022-01-31T16:40:12.410Z"
   },
   {
    "duration": 13,
    "start_time": "2022-01-31T16:54:37.755Z"
   },
   {
    "duration": 13,
    "start_time": "2022-01-31T16:54:43.186Z"
   },
   {
    "duration": 15,
    "start_time": "2022-01-31T16:54:48.962Z"
   },
   {
    "duration": 14,
    "start_time": "2022-01-31T16:54:48.980Z"
   },
   {
    "duration": 2401,
    "start_time": "2022-01-31T16:54:55.394Z"
   },
   {
    "duration": 2413,
    "start_time": "2022-01-31T16:54:57.797Z"
   },
   {
    "duration": 2964,
    "start_time": "2022-01-31T16:55:00.212Z"
   },
   {
    "duration": 1324,
    "start_time": "2022-01-31T16:55:03.178Z"
   },
   {
    "duration": 27,
    "start_time": "2022-01-31T16:55:04.504Z"
   },
   {
    "duration": 11,
    "start_time": "2022-01-31T16:55:04.533Z"
   },
   {
    "duration": 483,
    "start_time": "2022-01-31T16:55:04.546Z"
   },
   {
    "duration": 46,
    "start_time": "2022-01-31T16:55:05.032Z"
   },
   {
    "duration": 13,
    "start_time": "2022-01-31T16:55:05.080Z"
   },
   {
    "duration": 25,
    "start_time": "2022-01-31T16:55:05.095Z"
   },
   {
    "duration": 10,
    "start_time": "2022-01-31T16:55:05.122Z"
   },
   {
    "duration": 17,
    "start_time": "2022-01-31T16:55:05.134Z"
   },
   {
    "duration": 13,
    "start_time": "2022-01-31T16:55:05.152Z"
   },
   {
    "duration": 18,
    "start_time": "2022-01-31T16:55:05.167Z"
   },
   {
    "duration": 9,
    "start_time": "2022-01-31T16:55:05.186Z"
   },
   {
    "duration": 28,
    "start_time": "2022-01-31T16:55:05.197Z"
   },
   {
    "duration": 13,
    "start_time": "2022-01-31T16:55:05.227Z"
   },
   {
    "duration": 19,
    "start_time": "2022-01-31T16:55:05.242Z"
   },
   {
    "duration": 14,
    "start_time": "2022-01-31T16:55:05.263Z"
   },
   {
    "duration": 12,
    "start_time": "2022-01-31T16:55:05.279Z"
   },
   {
    "duration": 32,
    "start_time": "2022-01-31T16:55:05.293Z"
   },
   {
    "duration": 18,
    "start_time": "2022-01-31T16:55:05.327Z"
   },
   {
    "duration": 14,
    "start_time": "2022-01-31T16:55:05.348Z"
   },
   {
    "duration": 19,
    "start_time": "2022-01-31T16:55:05.364Z"
   },
   {
    "duration": 4,
    "start_time": "2022-01-31T16:55:05.385Z"
   },
   {
    "duration": 293,
    "start_time": "2022-01-31T16:55:05.390Z"
   },
   {
    "duration": 15,
    "start_time": "2022-01-31T16:55:05.685Z"
   },
   {
    "duration": 29,
    "start_time": "2022-01-31T16:55:05.702Z"
   },
   {
    "duration": 274,
    "start_time": "2022-01-31T16:55:05.733Z"
   },
   {
    "duration": 3339,
    "start_time": "2022-01-31T16:55:06.009Z"
   },
   {
    "duration": 632,
    "start_time": "2022-01-31T16:55:08.718Z"
   },
   {
    "duration": 631,
    "start_time": "2022-01-31T16:55:08.720Z"
   },
   {
    "duration": 629,
    "start_time": "2022-01-31T16:55:08.723Z"
   },
   {
    "duration": 629,
    "start_time": "2022-01-31T16:55:08.724Z"
   },
   {
    "duration": 627,
    "start_time": "2022-01-31T16:55:08.727Z"
   },
   {
    "duration": 622,
    "start_time": "2022-01-31T16:55:08.733Z"
   },
   {
    "duration": 620,
    "start_time": "2022-01-31T16:55:08.736Z"
   },
   {
    "duration": 619,
    "start_time": "2022-01-31T16:55:08.738Z"
   },
   {
    "duration": 619,
    "start_time": "2022-01-31T16:55:08.740Z"
   },
   {
    "duration": 619,
    "start_time": "2022-01-31T16:55:08.741Z"
   },
   {
    "duration": 617,
    "start_time": "2022-01-31T16:55:08.744Z"
   },
   {
    "duration": 611,
    "start_time": "2022-01-31T16:55:08.750Z"
   },
   {
    "duration": 610,
    "start_time": "2022-01-31T16:55:08.752Z"
   },
   {
    "duration": 608,
    "start_time": "2022-01-31T16:55:08.755Z"
   },
   {
    "duration": 607,
    "start_time": "2022-01-31T16:55:08.757Z"
   },
   {
    "duration": 249,
    "start_time": "2022-01-31T17:12:09.635Z"
   },
   {
    "duration": 2519,
    "start_time": "2022-01-31T17:12:17.729Z"
   },
   {
    "duration": 2688,
    "start_time": "2022-01-31T17:12:20.250Z"
   },
   {
    "duration": 2560,
    "start_time": "2022-01-31T17:12:22.942Z"
   },
   {
    "duration": 1338,
    "start_time": "2022-01-31T17:12:25.505Z"
   },
   {
    "duration": 31,
    "start_time": "2022-01-31T17:12:26.846Z"
   },
   {
    "duration": 9,
    "start_time": "2022-01-31T17:12:26.879Z"
   },
   {
    "duration": 549,
    "start_time": "2022-01-31T17:12:26.890Z"
   },
   {
    "duration": 45,
    "start_time": "2022-01-31T17:12:27.441Z"
   },
   {
    "duration": 11,
    "start_time": "2022-01-31T17:12:27.489Z"
   },
   {
    "duration": 24,
    "start_time": "2022-01-31T17:12:27.502Z"
   },
   {
    "duration": 17,
    "start_time": "2022-01-31T17:12:27.528Z"
   },
   {
    "duration": 14,
    "start_time": "2022-01-31T17:12:27.547Z"
   },
   {
    "duration": 10,
    "start_time": "2022-01-31T17:12:27.563Z"
   },
   {
    "duration": 45,
    "start_time": "2022-01-31T17:12:27.575Z"
   },
   {
    "duration": 15,
    "start_time": "2022-01-31T17:12:27.622Z"
   },
   {
    "duration": 15,
    "start_time": "2022-01-31T17:12:27.640Z"
   },
   {
    "duration": 13,
    "start_time": "2022-01-31T17:12:27.657Z"
   },
   {
    "duration": 24,
    "start_time": "2022-01-31T17:12:27.671Z"
   },
   {
    "duration": 17,
    "start_time": "2022-01-31T17:12:27.696Z"
   },
   {
    "duration": 14,
    "start_time": "2022-01-31T17:12:27.714Z"
   },
   {
    "duration": 22,
    "start_time": "2022-01-31T17:12:27.731Z"
   },
   {
    "duration": 19,
    "start_time": "2022-01-31T17:12:27.754Z"
   },
   {
    "duration": 14,
    "start_time": "2022-01-31T17:12:27.775Z"
   },
   {
    "duration": 43,
    "start_time": "2022-01-31T17:12:27.791Z"
   },
   {
    "duration": 6,
    "start_time": "2022-01-31T17:12:27.836Z"
   },
   {
    "duration": 266,
    "start_time": "2022-01-31T17:12:27.845Z"
   },
   {
    "duration": 26,
    "start_time": "2022-01-31T17:12:28.114Z"
   },
   {
    "duration": 16,
    "start_time": "2022-01-31T17:12:28.143Z"
   },
   {
    "duration": 315,
    "start_time": "2022-01-31T17:12:28.161Z"
   },
   {
    "duration": 4,
    "start_time": "2022-01-31T17:12:28.478Z"
   },
   {
    "duration": 358,
    "start_time": "2022-01-31T17:12:28.484Z"
   },
   {
    "duration": 5,
    "start_time": "2022-01-31T17:12:28.844Z"
   },
   {
    "duration": 7,
    "start_time": "2022-01-31T17:12:28.850Z"
   },
   {
    "duration": 9,
    "start_time": "2022-01-31T17:12:28.859Z"
   },
   {
    "duration": 7,
    "start_time": "2022-01-31T17:12:28.870Z"
   },
   {
    "duration": 6,
    "start_time": "2022-01-31T17:12:28.878Z"
   },
   {
    "duration": 7,
    "start_time": "2022-01-31T17:12:28.886Z"
   },
   {
    "duration": 26,
    "start_time": "2022-01-31T17:12:28.895Z"
   },
   {
    "duration": 318,
    "start_time": "2022-01-31T17:12:28.923Z"
   },
   {
    "duration": 14,
    "start_time": "2022-01-31T17:12:29.246Z"
   },
   {
    "duration": 42,
    "start_time": "2022-01-31T17:12:29.266Z"
   },
   {
    "duration": 76,
    "start_time": "2022-01-31T17:12:29.327Z"
   },
   {
    "duration": 127,
    "start_time": "2022-01-31T17:12:29.405Z"
   },
   {
    "duration": 125,
    "start_time": "2022-01-31T17:12:29.534Z"
   },
   {
    "duration": 107,
    "start_time": "2022-01-31T17:12:29.662Z"
   },
   {
    "duration": 3168,
    "start_time": "2022-01-31T18:01:02.529Z"
   },
   {
    "duration": 3175,
    "start_time": "2022-01-31T18:01:05.700Z"
   },
   {
    "duration": 2929,
    "start_time": "2022-01-31T18:01:08.878Z"
   },
   {
    "duration": 1608,
    "start_time": "2022-01-31T18:01:11.810Z"
   },
   {
    "duration": 32,
    "start_time": "2022-01-31T18:01:13.421Z"
   },
   {
    "duration": 11,
    "start_time": "2022-01-31T18:01:13.455Z"
   },
   {
    "duration": 624,
    "start_time": "2022-01-31T18:01:13.468Z"
   },
   {
    "duration": 49,
    "start_time": "2022-01-31T18:01:14.095Z"
   },
   {
    "duration": 13,
    "start_time": "2022-01-31T18:01:14.146Z"
   },
   {
    "duration": 27,
    "start_time": "2022-01-31T18:01:14.161Z"
   },
   {
    "duration": 11,
    "start_time": "2022-01-31T18:01:14.190Z"
   },
   {
    "duration": 16,
    "start_time": "2022-01-31T18:01:14.203Z"
   },
   {
    "duration": 15,
    "start_time": "2022-01-31T18:01:14.221Z"
   },
   {
    "duration": 27,
    "start_time": "2022-01-31T18:01:14.239Z"
   },
   {
    "duration": 12,
    "start_time": "2022-01-31T18:01:14.268Z"
   },
   {
    "duration": 12,
    "start_time": "2022-01-31T18:01:14.282Z"
   },
   {
    "duration": 31,
    "start_time": "2022-01-31T18:01:14.296Z"
   },
   {
    "duration": 31,
    "start_time": "2022-01-31T18:01:14.329Z"
   },
   {
    "duration": 12,
    "start_time": "2022-01-31T18:01:14.362Z"
   },
   {
    "duration": 13,
    "start_time": "2022-01-31T18:01:14.376Z"
   },
   {
    "duration": 15,
    "start_time": "2022-01-31T18:01:14.390Z"
   },
   {
    "duration": 22,
    "start_time": "2022-01-31T18:01:14.419Z"
   },
   {
    "duration": 14,
    "start_time": "2022-01-31T18:01:14.446Z"
   },
   {
    "duration": 387,
    "start_time": "2022-01-31T18:01:14.462Z"
   },
   {
    "duration": 392,
    "start_time": "2022-01-31T18:01:14.459Z"
   },
   {
    "duration": 391,
    "start_time": "2022-01-31T18:01:14.461Z"
   },
   {
    "duration": 390,
    "start_time": "2022-01-31T18:01:14.463Z"
   },
   {
    "duration": 387,
    "start_time": "2022-01-31T18:01:14.466Z"
   },
   {
    "duration": 386,
    "start_time": "2022-01-31T18:01:14.468Z"
   },
   {
    "duration": 382,
    "start_time": "2022-01-31T18:01:14.473Z"
   },
   {
    "duration": 381,
    "start_time": "2022-01-31T18:01:14.475Z"
   },
   {
    "duration": 379,
    "start_time": "2022-01-31T18:01:14.478Z"
   },
   {
    "duration": 379,
    "start_time": "2022-01-31T18:01:14.479Z"
   },
   {
    "duration": 378,
    "start_time": "2022-01-31T18:01:14.481Z"
   },
   {
    "duration": 378,
    "start_time": "2022-01-31T18:01:14.482Z"
   },
   {
    "duration": 377,
    "start_time": "2022-01-31T18:01:14.484Z"
   },
   {
    "duration": 333,
    "start_time": "2022-01-31T18:01:14.528Z"
   },
   {
    "duration": 332,
    "start_time": "2022-01-31T18:01:14.530Z"
   },
   {
    "duration": 331,
    "start_time": "2022-01-31T18:01:14.532Z"
   },
   {
    "duration": 331,
    "start_time": "2022-01-31T18:01:14.533Z"
   },
   {
    "duration": 330,
    "start_time": "2022-01-31T18:01:14.535Z"
   },
   {
    "duration": 330,
    "start_time": "2022-01-31T18:01:14.537Z"
   },
   {
    "duration": 330,
    "start_time": "2022-01-31T18:01:14.538Z"
   },
   {
    "duration": 329,
    "start_time": "2022-01-31T18:01:14.540Z"
   },
   {
    "duration": 329,
    "start_time": "2022-01-31T18:01:14.541Z"
   },
   {
    "duration": 18,
    "start_time": "2022-01-31T18:01:55.888Z"
   },
   {
    "duration": 115,
    "start_time": "2022-01-31T18:02:15.765Z"
   },
   {
    "duration": 21,
    "start_time": "2022-01-31T18:03:30.590Z"
   },
   {
    "duration": 5,
    "start_time": "2022-01-31T18:12:06.959Z"
   },
   {
    "duration": 273,
    "start_time": "2022-01-31T18:12:10.606Z"
   },
   {
    "duration": 78,
    "start_time": "2022-01-31T18:14:03.300Z"
   },
   {
    "duration": 106,
    "start_time": "2022-01-31T18:14:21.648Z"
   },
   {
    "duration": 318,
    "start_time": "2022-01-31T18:14:36.612Z"
   },
   {
    "duration": 18,
    "start_time": "2022-01-31T18:14:47.274Z"
   },
   {
    "duration": 2494,
    "start_time": "2022-01-31T18:14:52.796Z"
   },
   {
    "duration": 2775,
    "start_time": "2022-01-31T18:14:55.293Z"
   },
   {
    "duration": 2443,
    "start_time": "2022-01-31T18:14:58.070Z"
   },
   {
    "duration": 1351,
    "start_time": "2022-01-31T18:15:00.516Z"
   },
   {
    "duration": 28,
    "start_time": "2022-01-31T18:15:01.869Z"
   },
   {
    "duration": 19,
    "start_time": "2022-01-31T18:15:01.899Z"
   },
   {
    "duration": 452,
    "start_time": "2022-01-31T18:15:01.920Z"
   },
   {
    "duration": 44,
    "start_time": "2022-01-31T18:15:02.374Z"
   },
   {
    "duration": 10,
    "start_time": "2022-01-31T18:15:02.421Z"
   },
   {
    "duration": 20,
    "start_time": "2022-01-31T18:15:02.434Z"
   },
   {
    "duration": 9,
    "start_time": "2022-01-31T18:15:02.456Z"
   },
   {
    "duration": 15,
    "start_time": "2022-01-31T18:15:02.467Z"
   },
   {
    "duration": 11,
    "start_time": "2022-01-31T18:15:02.483Z"
   },
   {
    "duration": 33,
    "start_time": "2022-01-31T18:15:02.496Z"
   },
   {
    "duration": 8,
    "start_time": "2022-01-31T18:15:02.531Z"
   },
   {
    "duration": 11,
    "start_time": "2022-01-31T18:15:02.541Z"
   },
   {
    "duration": 28,
    "start_time": "2022-01-31T18:15:02.553Z"
   },
   {
    "duration": 16,
    "start_time": "2022-01-31T18:15:02.583Z"
   },
   {
    "duration": 16,
    "start_time": "2022-01-31T18:15:02.601Z"
   },
   {
    "duration": 11,
    "start_time": "2022-01-31T18:15:02.619Z"
   },
   {
    "duration": 13,
    "start_time": "2022-01-31T18:15:02.632Z"
   },
   {
    "duration": 18,
    "start_time": "2022-01-31T18:15:02.647Z"
   },
   {
    "duration": 17,
    "start_time": "2022-01-31T18:15:02.667Z"
   },
   {
    "duration": 37,
    "start_time": "2022-01-31T18:15:02.685Z"
   },
   {
    "duration": 6,
    "start_time": "2022-01-31T18:15:02.724Z"
   },
   {
    "duration": 265,
    "start_time": "2022-01-31T18:15:02.731Z"
   },
   {
    "duration": 24,
    "start_time": "2022-01-31T18:15:02.999Z"
   },
   {
    "duration": 18,
    "start_time": "2022-01-31T18:15:03.025Z"
   },
   {
    "duration": 268,
    "start_time": "2022-01-31T18:15:03.044Z"
   },
   {
    "duration": 4,
    "start_time": "2022-01-31T18:15:03.319Z"
   },
   {
    "duration": 353,
    "start_time": "2022-01-31T18:15:03.325Z"
   },
   {
    "duration": 6,
    "start_time": "2022-01-31T18:15:03.680Z"
   },
   {
    "duration": 6,
    "start_time": "2022-01-31T18:15:03.688Z"
   },
   {
    "duration": 26,
    "start_time": "2022-01-31T18:15:03.696Z"
   },
   {
    "duration": 7,
    "start_time": "2022-01-31T18:15:03.724Z"
   },
   {
    "duration": 5,
    "start_time": "2022-01-31T18:15:03.733Z"
   },
   {
    "duration": 10,
    "start_time": "2022-01-31T18:15:03.740Z"
   },
   {
    "duration": 8,
    "start_time": "2022-01-31T18:15:03.752Z"
   },
   {
    "duration": 294,
    "start_time": "2022-01-31T18:15:03.762Z"
   },
   {
    "duration": 5,
    "start_time": "2022-01-31T18:15:04.058Z"
   },
   {
    "duration": 19,
    "start_time": "2022-01-31T18:15:04.065Z"
   },
   {
    "duration": 8,
    "start_time": "2022-01-31T18:15:04.086Z"
   },
   {
    "duration": 15,
    "start_time": "2022-01-31T18:15:04.095Z"
   },
   {
    "duration": 8,
    "start_time": "2022-01-31T18:15:04.112Z"
   },
   {
    "duration": 8,
    "start_time": "2022-01-31T18:15:04.122Z"
   },
   {
    "duration": 387,
    "start_time": "2022-01-31T18:19:59.959Z"
   },
   {
    "duration": 4,
    "start_time": "2022-01-31T18:24:43.920Z"
   },
   {
    "duration": 5,
    "start_time": "2022-01-31T18:24:45.359Z"
   },
   {
    "duration": 410,
    "start_time": "2022-02-02T17:21:10.313Z"
   },
   {
    "duration": 23580,
    "start_time": "2022-02-02T17:21:26.279Z"
   },
   {
    "duration": 29752,
    "start_time": "2022-02-02T17:21:49.862Z"
   },
   {
    "duration": 11251,
    "start_time": "2022-02-02T17:22:19.618Z"
   },
   {
    "duration": 1786,
    "start_time": "2022-02-02T17:22:30.873Z"
   },
   {
    "duration": 54,
    "start_time": "2022-02-02T17:22:32.662Z"
   },
   {
    "duration": 22,
    "start_time": "2022-02-02T17:22:32.719Z"
   },
   {
    "duration": 742,
    "start_time": "2022-02-02T17:22:32.745Z"
   },
   {
    "duration": 148,
    "start_time": "2022-02-02T17:22:33.493Z"
   },
   {
    "duration": 18,
    "start_time": "2022-02-02T17:22:33.644Z"
   },
   {
    "duration": 31,
    "start_time": "2022-02-02T17:22:33.665Z"
   },
   {
    "duration": 28,
    "start_time": "2022-02-02T17:22:33.699Z"
   },
   {
    "duration": 24,
    "start_time": "2022-02-02T17:22:33.730Z"
   },
   {
    "duration": 14,
    "start_time": "2022-02-02T17:22:33.757Z"
   },
   {
    "duration": 52,
    "start_time": "2022-02-02T17:22:33.773Z"
   },
   {
    "duration": 17,
    "start_time": "2022-02-02T17:22:33.828Z"
   },
   {
    "duration": 13,
    "start_time": "2022-02-02T17:22:33.848Z"
   },
   {
    "duration": 60,
    "start_time": "2022-02-02T17:22:33.864Z"
   },
   {
    "duration": 34,
    "start_time": "2022-02-02T17:22:33.927Z"
   },
   {
    "duration": 12,
    "start_time": "2022-02-02T17:22:33.963Z"
   },
   {
    "duration": 18,
    "start_time": "2022-02-02T17:22:33.977Z"
   },
   {
    "duration": 22,
    "start_time": "2022-02-02T17:22:34.024Z"
   },
   {
    "duration": 24,
    "start_time": "2022-02-02T17:22:34.049Z"
   },
   {
    "duration": 24,
    "start_time": "2022-02-02T17:22:34.124Z"
   },
   {
    "duration": 28,
    "start_time": "2022-02-02T17:22:34.152Z"
   },
   {
    "duration": 5,
    "start_time": "2022-02-02T17:22:34.183Z"
   },
   {
    "duration": 470,
    "start_time": "2022-02-02T17:22:34.223Z"
   },
   {
    "duration": 45,
    "start_time": "2022-02-02T17:22:34.696Z"
   },
   {
    "duration": 25,
    "start_time": "2022-02-02T17:22:34.743Z"
   },
   {
    "duration": 475,
    "start_time": "2022-02-02T17:22:34.771Z"
   },
   {
    "duration": 8,
    "start_time": "2022-02-02T17:22:35.249Z"
   },
   {
    "duration": 581,
    "start_time": "2022-02-02T17:22:35.260Z"
   },
   {
    "duration": 6,
    "start_time": "2022-02-02T17:22:35.843Z"
   },
   {
    "duration": 10,
    "start_time": "2022-02-02T17:22:35.852Z"
   },
   {
    "duration": 6,
    "start_time": "2022-02-02T17:22:35.865Z"
   },
   {
    "duration": 8,
    "start_time": "2022-02-02T17:22:35.873Z"
   },
   {
    "duration": 44,
    "start_time": "2022-02-02T17:22:35.884Z"
   },
   {
    "duration": 16,
    "start_time": "2022-02-02T17:22:35.931Z"
   },
   {
    "duration": 9,
    "start_time": "2022-02-02T17:22:35.950Z"
   },
   {
    "duration": 481,
    "start_time": "2022-02-02T17:22:35.962Z"
   },
   {
    "duration": 7,
    "start_time": "2022-02-02T17:22:36.445Z"
   },
   {
    "duration": 10,
    "start_time": "2022-02-02T17:22:36.454Z"
   },
   {
    "duration": 11,
    "start_time": "2022-02-02T17:22:36.467Z"
   },
   {
    "duration": 57,
    "start_time": "2022-02-02T17:22:36.481Z"
   },
   {
    "duration": 6,
    "start_time": "2022-02-02T17:22:36.541Z"
   },
   {
    "duration": 6,
    "start_time": "2022-02-02T17:22:36.550Z"
   },
   {
    "duration": 3933,
    "start_time": "2022-02-02T17:28:14.338Z"
   },
   {
    "duration": 3928,
    "start_time": "2022-02-02T17:28:18.274Z"
   },
   {
    "duration": 3754,
    "start_time": "2022-02-02T17:28:22.205Z"
   },
   {
    "duration": 1673,
    "start_time": "2022-02-02T17:28:25.962Z"
   },
   {
    "duration": 30,
    "start_time": "2022-02-02T17:28:27.638Z"
   },
   {
    "duration": 15,
    "start_time": "2022-02-02T17:28:27.670Z"
   },
   {
    "duration": 715,
    "start_time": "2022-02-02T17:28:27.688Z"
   },
   {
    "duration": 58,
    "start_time": "2022-02-02T17:28:28.406Z"
   },
   {
    "duration": 15,
    "start_time": "2022-02-02T17:28:28.468Z"
   },
   {
    "duration": 22,
    "start_time": "2022-02-02T17:28:28.486Z"
   },
   {
    "duration": 24,
    "start_time": "2022-02-02T17:28:28.510Z"
   },
   {
    "duration": 23,
    "start_time": "2022-02-02T17:28:28.537Z"
   },
   {
    "duration": 13,
    "start_time": "2022-02-02T17:28:28.564Z"
   },
   {
    "duration": 56,
    "start_time": "2022-02-02T17:28:28.580Z"
   },
   {
    "duration": 12,
    "start_time": "2022-02-02T17:28:28.639Z"
   },
   {
    "duration": 11,
    "start_time": "2022-02-02T17:28:28.654Z"
   },
   {
    "duration": 15,
    "start_time": "2022-02-02T17:28:28.668Z"
   },
   {
    "duration": 30,
    "start_time": "2022-02-02T17:28:28.724Z"
   },
   {
    "duration": 14,
    "start_time": "2022-02-02T17:28:28.756Z"
   },
   {
    "duration": 57,
    "start_time": "2022-02-02T17:28:28.772Z"
   },
   {
    "duration": 26,
    "start_time": "2022-02-02T17:28:28.831Z"
   },
   {
    "duration": 21,
    "start_time": "2022-02-02T17:28:28.860Z"
   },
   {
    "duration": 58,
    "start_time": "2022-02-02T17:28:28.883Z"
   },
   {
    "duration": 26,
    "start_time": "2022-02-02T17:28:28.943Z"
   },
   {
    "duration": 5,
    "start_time": "2022-02-02T17:28:28.972Z"
   },
   {
    "duration": 485,
    "start_time": "2022-02-02T17:28:28.979Z"
   },
   {
    "duration": 24,
    "start_time": "2022-02-02T17:28:29.469Z"
   },
   {
    "duration": 52,
    "start_time": "2022-02-02T17:28:29.496Z"
   },
   {
    "duration": 496,
    "start_time": "2022-02-02T17:28:29.550Z"
   },
   {
    "duration": 6,
    "start_time": "2022-02-02T17:28:30.048Z"
   },
   {
    "duration": 553,
    "start_time": "2022-02-02T17:28:30.056Z"
   },
   {
    "duration": 25,
    "start_time": "2022-02-02T17:28:30.611Z"
   },
   {
    "duration": 6,
    "start_time": "2022-02-02T17:28:30.640Z"
   },
   {
    "duration": 11,
    "start_time": "2022-02-02T17:28:30.649Z"
   },
   {
    "duration": 6,
    "start_time": "2022-02-02T17:28:30.663Z"
   },
   {
    "duration": 8,
    "start_time": "2022-02-02T17:28:30.672Z"
   },
   {
    "duration": 16,
    "start_time": "2022-02-02T17:28:30.723Z"
   },
   {
    "duration": 9,
    "start_time": "2022-02-02T17:28:30.742Z"
   },
   {
    "duration": 497,
    "start_time": "2022-02-02T17:28:30.753Z"
   },
   {
    "duration": 7,
    "start_time": "2022-02-02T17:28:31.252Z"
   },
   {
    "duration": 10,
    "start_time": "2022-02-02T17:28:31.262Z"
   },
   {
    "duration": 6,
    "start_time": "2022-02-02T17:28:31.275Z"
   },
   {
    "duration": 49,
    "start_time": "2022-02-02T17:28:31.283Z"
   },
   {
    "duration": 13,
    "start_time": "2022-02-02T17:28:31.334Z"
   },
   {
    "duration": 6,
    "start_time": "2022-02-02T17:28:31.350Z"
   },
   {
    "duration": 488,
    "start_time": "2022-02-02T17:37:26.192Z"
   },
   {
    "duration": 478,
    "start_time": "2022-02-02T17:38:40.799Z"
   },
   {
    "duration": 480,
    "start_time": "2022-02-02T17:40:43.862Z"
   },
   {
    "duration": 527,
    "start_time": "2022-02-02T17:41:09.506Z"
   },
   {
    "duration": 497,
    "start_time": "2022-02-02T17:43:47.787Z"
   },
   {
    "duration": 110,
    "start_time": "2022-02-02T17:54:27.086Z"
   },
   {
    "duration": 3798,
    "start_time": "2022-02-02T17:57:06.907Z"
   },
   {
    "duration": 3630,
    "start_time": "2022-02-02T17:57:10.708Z"
   },
   {
    "duration": 3509,
    "start_time": "2022-02-02T17:57:14.341Z"
   },
   {
    "duration": 1704,
    "start_time": "2022-02-02T17:57:17.854Z"
   },
   {
    "duration": 36,
    "start_time": "2022-02-02T17:57:19.561Z"
   },
   {
    "duration": 30,
    "start_time": "2022-02-02T17:57:19.601Z"
   },
   {
    "duration": 1072,
    "start_time": "2022-02-02T17:57:19.635Z"
   },
   {
    "duration": 49,
    "start_time": "2022-02-02T17:57:20.711Z"
   },
   {
    "duration": 17,
    "start_time": "2022-02-02T17:57:20.764Z"
   },
   {
    "duration": 24,
    "start_time": "2022-02-02T17:57:20.784Z"
   },
   {
    "duration": 17,
    "start_time": "2022-02-02T17:57:20.810Z"
   },
   {
    "duration": 27,
    "start_time": "2022-02-02T17:57:20.829Z"
   },
   {
    "duration": 12,
    "start_time": "2022-02-02T17:57:20.859Z"
   },
   {
    "duration": 25,
    "start_time": "2022-02-02T17:57:20.874Z"
   },
   {
    "duration": 21,
    "start_time": "2022-02-02T17:57:20.922Z"
   },
   {
    "duration": 12,
    "start_time": "2022-02-02T17:57:20.946Z"
   },
   {
    "duration": 12,
    "start_time": "2022-02-02T17:57:20.960Z"
   },
   {
    "duration": 60,
    "start_time": "2022-02-02T17:57:20.974Z"
   },
   {
    "duration": 16,
    "start_time": "2022-02-02T17:57:21.036Z"
   },
   {
    "duration": 26,
    "start_time": "2022-02-02T17:57:21.055Z"
   },
   {
    "duration": 48,
    "start_time": "2022-02-02T17:57:21.084Z"
   },
   {
    "duration": 36,
    "start_time": "2022-02-02T17:57:21.135Z"
   },
   {
    "duration": 20,
    "start_time": "2022-02-02T17:57:21.176Z"
   },
   {
    "duration": 48,
    "start_time": "2022-02-02T17:57:21.199Z"
   },
   {
    "duration": 11,
    "start_time": "2022-02-02T17:57:21.249Z"
   },
   {
    "duration": 465,
    "start_time": "2022-02-02T17:57:21.263Z"
   },
   {
    "duration": 27,
    "start_time": "2022-02-02T17:57:21.731Z"
   },
   {
    "duration": 26,
    "start_time": "2022-02-02T17:57:21.761Z"
   },
   {
    "duration": 468,
    "start_time": "2022-02-02T17:57:21.789Z"
   },
   {
    "duration": 6,
    "start_time": "2022-02-02T17:57:22.259Z"
   },
   {
    "duration": 540,
    "start_time": "2022-02-02T17:57:22.268Z"
   },
   {
    "duration": 15,
    "start_time": "2022-02-02T17:57:22.811Z"
   },
   {
    "duration": 17,
    "start_time": "2022-02-02T17:57:22.828Z"
   },
   {
    "duration": 19,
    "start_time": "2022-02-02T17:57:22.847Z"
   },
   {
    "duration": 8,
    "start_time": "2022-02-02T17:57:22.869Z"
   },
   {
    "duration": 6,
    "start_time": "2022-02-02T17:57:22.880Z"
   },
   {
    "duration": 10,
    "start_time": "2022-02-02T17:57:22.888Z"
   },
   {
    "duration": 473,
    "start_time": "2022-02-02T17:57:22.924Z"
   },
   {
    "duration": 6,
    "start_time": "2022-02-02T17:57:23.400Z"
   },
   {
    "duration": 34,
    "start_time": "2022-02-02T17:57:23.408Z"
   },
   {
    "duration": 8,
    "start_time": "2022-02-02T17:57:23.445Z"
   },
   {
    "duration": 8,
    "start_time": "2022-02-02T17:57:23.456Z"
   },
   {
    "duration": 7,
    "start_time": "2022-02-02T17:57:23.466Z"
   },
   {
    "duration": 7,
    "start_time": "2022-02-02T17:57:23.475Z"
   },
   {
    "duration": 68100,
    "start_time": "2022-02-03T13:58:06.149Z"
   },
   {
    "duration": 112096,
    "start_time": "2022-02-03T13:59:14.252Z"
   },
   {
    "duration": 141199,
    "start_time": "2022-02-03T14:01:06.353Z"
   },
   {
    "duration": 10464,
    "start_time": "2022-02-03T14:03:27.555Z"
   },
   {
    "duration": 28,
    "start_time": "2022-02-03T14:03:38.021Z"
   },
   {
    "duration": 57,
    "start_time": "2022-02-03T14:03:38.051Z"
   },
   {
    "duration": 117876,
    "start_time": "2022-02-03T14:03:38.111Z"
   },
   {
    "duration": 46,
    "start_time": "2022-02-03T14:05:36.007Z"
   },
   {
    "duration": 15,
    "start_time": "2022-02-03T14:05:36.056Z"
   },
   {
    "duration": 35,
    "start_time": "2022-02-03T14:05:36.073Z"
   },
   {
    "duration": 13,
    "start_time": "2022-02-03T14:05:36.110Z"
   },
   {
    "duration": 23,
    "start_time": "2022-02-03T14:05:36.125Z"
   },
   {
    "duration": 12,
    "start_time": "2022-02-03T14:05:36.150Z"
   },
   {
    "duration": 45,
    "start_time": "2022-02-03T14:05:36.164Z"
   },
   {
    "duration": 11,
    "start_time": "2022-02-03T14:05:36.211Z"
   },
   {
    "duration": 11,
    "start_time": "2022-02-03T14:05:36.224Z"
   },
   {
    "duration": 16,
    "start_time": "2022-02-03T14:05:36.238Z"
   },
   {
    "duration": 31,
    "start_time": "2022-02-03T14:05:36.256Z"
   },
   {
    "duration": 27,
    "start_time": "2022-02-03T14:05:36.289Z"
   },
   {
    "duration": 16,
    "start_time": "2022-02-03T14:05:36.319Z"
   },
   {
    "duration": 26,
    "start_time": "2022-02-03T14:05:36.337Z"
   },
   {
    "duration": 34,
    "start_time": "2022-02-03T14:05:36.365Z"
   },
   {
    "duration": 22,
    "start_time": "2022-02-03T14:05:36.401Z"
   },
   {
    "duration": 23,
    "start_time": "2022-02-03T14:05:36.424Z"
   },
   {
    "duration": 6,
    "start_time": "2022-02-03T14:05:36.450Z"
   },
   {
    "duration": 358,
    "start_time": "2022-02-03T14:05:36.461Z"
   },
   {
    "duration": 20,
    "start_time": "2022-02-03T14:05:36.822Z"
   },
   {
    "duration": 25,
    "start_time": "2022-02-03T14:05:36.844Z"
   },
   {
    "duration": 342,
    "start_time": "2022-02-03T14:05:36.872Z"
   },
   {
    "duration": 6,
    "start_time": "2022-02-03T14:05:37.216Z"
   },
   {
    "duration": 448,
    "start_time": "2022-02-03T14:05:37.225Z"
   },
   {
    "duration": 6,
    "start_time": "2022-02-03T14:05:37.676Z"
   },
   {
    "duration": 30,
    "start_time": "2022-02-03T14:05:37.684Z"
   },
   {
    "duration": 11,
    "start_time": "2022-02-03T14:05:37.716Z"
   },
   {
    "duration": 14,
    "start_time": "2022-02-03T14:05:37.729Z"
   },
   {
    "duration": 29,
    "start_time": "2022-02-03T14:05:37.745Z"
   },
   {
    "duration": 9,
    "start_time": "2022-02-03T14:05:37.776Z"
   },
   {
    "duration": 327,
    "start_time": "2022-02-03T14:05:37.788Z"
   },
   {
    "duration": 6,
    "start_time": "2022-02-03T14:05:38.117Z"
   },
   {
    "duration": 17,
    "start_time": "2022-02-03T14:05:38.126Z"
   },
   {
    "duration": 7,
    "start_time": "2022-02-03T14:05:38.146Z"
   },
   {
    "duration": 10,
    "start_time": "2022-02-03T14:05:38.155Z"
   },
   {
    "duration": 11,
    "start_time": "2022-02-03T14:05:38.167Z"
   },
   {
    "duration": 30,
    "start_time": "2022-02-03T14:05:38.180Z"
   },
   {
    "duration": 80165,
    "start_time": "2022-02-03T14:36:12.266Z"
   },
   {
    "duration": 67117,
    "start_time": "2022-02-03T14:37:32.434Z"
   },
   {
    "duration": 59693,
    "start_time": "2022-02-03T14:41:45.811Z"
   },
   {
    "duration": 53995,
    "start_time": "2022-02-03T14:42:45.506Z"
   },
   {
    "duration": 3,
    "start_time": "2022-02-03T14:43:39.504Z"
   },
   {
    "duration": 1396,
    "start_time": "2022-02-03T14:43:39.509Z"
   },
   {
    "duration": 29,
    "start_time": "2022-02-03T14:43:40.907Z"
   },
   {
    "duration": 13,
    "start_time": "2022-02-03T14:43:40.937Z"
   },
   {
    "duration": 366,
    "start_time": "2022-02-03T14:43:40.952Z"
   },
   {
    "duration": -585,
    "start_time": "2022-02-03T14:43:41.906Z"
   },
   {
    "duration": -589,
    "start_time": "2022-02-03T14:43:41.911Z"
   },
   {
    "duration": -590,
    "start_time": "2022-02-03T14:43:41.913Z"
   },
   {
    "duration": -600,
    "start_time": "2022-02-03T14:43:41.924Z"
   },
   {
    "duration": -604,
    "start_time": "2022-02-03T14:43:41.929Z"
   },
   {
    "duration": -612,
    "start_time": "2022-02-03T14:43:41.938Z"
   },
   {
    "duration": -614,
    "start_time": "2022-02-03T14:43:41.941Z"
   },
   {
    "duration": -622,
    "start_time": "2022-02-03T14:43:41.950Z"
   },
   {
    "duration": -627,
    "start_time": "2022-02-03T14:43:41.955Z"
   },
   {
    "duration": -629,
    "start_time": "2022-02-03T14:43:41.958Z"
   },
   {
    "duration": -632,
    "start_time": "2022-02-03T14:43:41.962Z"
   },
   {
    "duration": -631,
    "start_time": "2022-02-03T14:43:41.963Z"
   },
   {
    "duration": -631,
    "start_time": "2022-02-03T14:43:41.964Z"
   },
   {
    "duration": -633,
    "start_time": "2022-02-03T14:43:41.966Z"
   },
   {
    "duration": -636,
    "start_time": "2022-02-03T14:43:41.970Z"
   },
   {
    "duration": -640,
    "start_time": "2022-02-03T14:43:41.975Z"
   },
   {
    "duration": -642,
    "start_time": "2022-02-03T14:43:41.978Z"
   },
   {
    "duration": -643,
    "start_time": "2022-02-03T14:43:41.980Z"
   },
   {
    "duration": -646,
    "start_time": "2022-02-03T14:43:41.984Z"
   },
   {
    "duration": -658,
    "start_time": "2022-02-03T14:43:41.997Z"
   },
   {
    "duration": -666,
    "start_time": "2022-02-03T14:43:42.006Z"
   },
   {
    "duration": -669,
    "start_time": "2022-02-03T14:43:42.010Z"
   },
   {
    "duration": -673,
    "start_time": "2022-02-03T14:43:42.015Z"
   },
   {
    "duration": -677,
    "start_time": "2022-02-03T14:43:42.020Z"
   },
   {
    "duration": -683,
    "start_time": "2022-02-03T14:43:42.027Z"
   },
   {
    "duration": -684,
    "start_time": "2022-02-03T14:43:42.029Z"
   },
   {
    "duration": -686,
    "start_time": "2022-02-03T14:43:42.031Z"
   },
   {
    "duration": -686,
    "start_time": "2022-02-03T14:43:42.032Z"
   },
   {
    "duration": -686,
    "start_time": "2022-02-03T14:43:42.034Z"
   },
   {
    "duration": -694,
    "start_time": "2022-02-03T14:43:42.044Z"
   },
   {
    "duration": -698,
    "start_time": "2022-02-03T14:43:42.049Z"
   },
   {
    "duration": -702,
    "start_time": "2022-02-03T14:43:42.054Z"
   },
   {
    "duration": -704,
    "start_time": "2022-02-03T14:43:42.057Z"
   },
   {
    "duration": -706,
    "start_time": "2022-02-03T14:43:42.059Z"
   },
   {
    "duration": -707,
    "start_time": "2022-02-03T14:43:42.061Z"
   },
   {
    "duration": -708,
    "start_time": "2022-02-03T14:43:42.063Z"
   },
   {
    "duration": -708,
    "start_time": "2022-02-03T14:43:42.064Z"
   },
   {
    "duration": 4307,
    "start_time": "2022-02-07T16:17:51.002Z"
   },
   {
    "duration": 22147,
    "start_time": "2022-02-07T16:17:55.313Z"
   },
   {
    "duration": 13803,
    "start_time": "2022-02-07T16:18:17.463Z"
   },
   {
    "duration": 1674,
    "start_time": "2022-02-07T16:18:31.270Z"
   },
   {
    "duration": 30,
    "start_time": "2022-02-07T16:18:32.946Z"
   },
   {
    "duration": 15,
    "start_time": "2022-02-07T16:18:32.980Z"
   },
   {
    "duration": 616,
    "start_time": "2022-02-07T16:18:32.997Z"
   },
   {
    "duration": 47,
    "start_time": "2022-02-07T16:18:33.616Z"
   },
   {
    "duration": 3,
    "start_time": "2022-02-07T16:18:33.667Z"
   },
   {
    "duration": 25,
    "start_time": "2022-02-07T16:18:33.672Z"
   },
   {
    "duration": 3,
    "start_time": "2022-02-07T16:18:33.699Z"
   },
   {
    "duration": 32,
    "start_time": "2022-02-07T16:18:33.704Z"
   },
   {
    "duration": 16,
    "start_time": "2022-02-07T16:18:33.739Z"
   },
   {
    "duration": 22,
    "start_time": "2022-02-07T16:18:33.757Z"
   },
   {
    "duration": 13,
    "start_time": "2022-02-07T16:18:33.781Z"
   },
   {
    "duration": 42,
    "start_time": "2022-02-07T16:18:33.797Z"
   },
   {
    "duration": 14,
    "start_time": "2022-02-07T16:18:33.842Z"
   },
   {
    "duration": 27,
    "start_time": "2022-02-07T16:18:33.858Z"
   },
   {
    "duration": 46,
    "start_time": "2022-02-07T16:18:33.887Z"
   },
   {
    "duration": 21,
    "start_time": "2022-02-07T16:18:33.935Z"
   },
   {
    "duration": 19,
    "start_time": "2022-02-07T16:18:33.959Z"
   },
   {
    "duration": 53,
    "start_time": "2022-02-07T16:18:33.981Z"
   },
   {
    "duration": 20,
    "start_time": "2022-02-07T16:18:34.039Z"
   },
   {
    "duration": 30,
    "start_time": "2022-02-07T16:18:34.062Z"
   },
   {
    "duration": 56,
    "start_time": "2022-02-07T16:18:34.094Z"
   },
   {
    "duration": 6,
    "start_time": "2022-02-07T16:18:34.152Z"
   },
   {
    "duration": 465,
    "start_time": "2022-02-07T16:18:34.161Z"
   },
   {
    "duration": 24,
    "start_time": "2022-02-07T16:18:34.628Z"
   },
   {
    "duration": 27,
    "start_time": "2022-02-07T16:18:34.654Z"
   },
   {
    "duration": 469,
    "start_time": "2022-02-07T16:18:34.683Z"
   },
   {
    "duration": 6,
    "start_time": "2022-02-07T16:18:35.155Z"
   },
   {
    "duration": 687,
    "start_time": "2022-02-07T16:18:35.164Z"
   },
   {
    "duration": 6,
    "start_time": "2022-02-07T16:18:35.854Z"
   },
   {
    "duration": 1275,
    "start_time": "2022-02-07T16:18:35.863Z"
   },
   {
    "duration": 373,
    "start_time": "2022-02-07T16:18:37.141Z"
   },
   {
    "duration": 897,
    "start_time": "2022-02-07T16:18:37.517Z"
   },
   {
    "duration": 2045,
    "start_time": "2022-02-07T16:18:38.417Z"
   },
   {
    "duration": 230,
    "start_time": "2022-02-07T16:18:40.465Z"
   },
   {
    "duration": 510,
    "start_time": "2022-02-07T16:18:40.700Z"
   },
   {
    "duration": 20,
    "start_time": "2022-02-07T16:18:41.213Z"
   },
   {
    "duration": 746,
    "start_time": "2022-02-07T16:18:41.236Z"
   },
   {
    "duration": 402,
    "start_time": "2022-02-07T16:18:41.584Z"
   },
   {
    "duration": 401,
    "start_time": "2022-02-07T16:18:41.587Z"
   },
   {
    "duration": 320,
    "start_time": "2022-02-07T16:18:41.671Z"
   },
   {
    "duration": 316,
    "start_time": "2022-02-07T16:18:41.677Z"
   },
   {
    "duration": 27,
    "start_time": "2022-02-07T16:26:54.459Z"
   },
   {
    "duration": 3492,
    "start_time": "2022-02-07T16:27:00.734Z"
   },
   {
    "duration": 3780,
    "start_time": "2022-02-07T16:27:04.229Z"
   },
   {
    "duration": 4481,
    "start_time": "2022-02-07T16:27:08.012Z"
   },
   {
    "duration": 1797,
    "start_time": "2022-02-07T16:27:12.496Z"
   },
   {
    "duration": 30,
    "start_time": "2022-02-07T16:27:14.296Z"
   },
   {
    "duration": 15,
    "start_time": "2022-02-07T16:27:14.332Z"
   },
   {
    "duration": 689,
    "start_time": "2022-02-07T16:27:14.350Z"
   },
   {
    "duration": 41,
    "start_time": "2022-02-07T16:27:15.043Z"
   },
   {
    "duration": 4,
    "start_time": "2022-02-07T16:27:15.088Z"
   },
   {
    "duration": 28,
    "start_time": "2022-02-07T16:27:15.095Z"
   },
   {
    "duration": 7,
    "start_time": "2022-02-07T16:27:15.126Z"
   },
   {
    "duration": 19,
    "start_time": "2022-02-07T16:27:15.136Z"
   },
   {
    "duration": 13,
    "start_time": "2022-02-07T16:27:15.157Z"
   },
   {
    "duration": 65,
    "start_time": "2022-02-07T16:27:15.173Z"
   },
   {
    "duration": 18,
    "start_time": "2022-02-07T16:27:15.242Z"
   },
   {
    "duration": 13,
    "start_time": "2022-02-07T16:27:15.262Z"
   },
   {
    "duration": 11,
    "start_time": "2022-02-07T16:27:15.277Z"
   },
   {
    "duration": 56,
    "start_time": "2022-02-07T16:27:15.291Z"
   },
   {
    "duration": 13,
    "start_time": "2022-02-07T16:27:15.349Z"
   },
   {
    "duration": 17,
    "start_time": "2022-02-07T16:27:15.364Z"
   },
   {
    "duration": 54,
    "start_time": "2022-02-07T16:27:15.383Z"
   },
   {
    "duration": 24,
    "start_time": "2022-02-07T16:27:15.439Z"
   },
   {
    "duration": 20,
    "start_time": "2022-02-07T16:27:15.468Z"
   },
   {
    "duration": 58,
    "start_time": "2022-02-07T16:27:15.491Z"
   },
   {
    "duration": 27,
    "start_time": "2022-02-07T16:27:15.551Z"
   },
   {
    "duration": 6,
    "start_time": "2022-02-07T16:27:15.580Z"
   },
   {
    "duration": 491,
    "start_time": "2022-02-07T16:27:15.588Z"
   },
   {
    "duration": 24,
    "start_time": "2022-02-07T16:27:16.081Z"
   },
   {
    "duration": 45,
    "start_time": "2022-02-07T16:27:16.107Z"
   },
   {
    "duration": 458,
    "start_time": "2022-02-07T16:27:16.155Z"
   },
   {
    "duration": 17,
    "start_time": "2022-02-07T16:27:16.616Z"
   },
   {
    "duration": 497,
    "start_time": "2022-02-07T16:27:16.636Z"
   },
   {
    "duration": 6,
    "start_time": "2022-02-07T16:27:17.136Z"
   },
   {
    "duration": 7,
    "start_time": "2022-02-07T16:27:17.145Z"
   },
   {
    "duration": 7,
    "start_time": "2022-02-07T16:27:17.155Z"
   },
   {
    "duration": 6,
    "start_time": "2022-02-07T16:27:17.165Z"
   },
   {
    "duration": 59,
    "start_time": "2022-02-07T16:27:17.173Z"
   },
   {
    "duration": 15,
    "start_time": "2022-02-07T16:27:17.234Z"
   },
   {
    "duration": 466,
    "start_time": "2022-02-07T16:27:17.251Z"
   },
   {
    "duration": 14,
    "start_time": "2022-02-07T16:27:17.719Z"
   },
   {
    "duration": 611,
    "start_time": "2022-02-07T16:27:17.736Z"
   },
   {
    "duration": 420,
    "start_time": "2022-02-07T16:27:17.930Z"
   },
   {
    "duration": 330,
    "start_time": "2022-02-07T16:27:18.021Z"
   },
   {
    "duration": 325,
    "start_time": "2022-02-07T16:27:18.028Z"
   },
   {
    "duration": 323,
    "start_time": "2022-02-07T16:27:18.031Z"
   },
   {
    "duration": 3246,
    "start_time": "2022-02-07T16:29:13.973Z"
   },
   {
    "duration": 3398,
    "start_time": "2022-02-07T16:29:17.222Z"
   },
   {
    "duration": 3447,
    "start_time": "2022-02-07T16:29:20.623Z"
   },
   {
    "duration": 1696,
    "start_time": "2022-02-07T16:29:24.073Z"
   },
   {
    "duration": 30,
    "start_time": "2022-02-07T16:29:25.771Z"
   },
   {
    "duration": 15,
    "start_time": "2022-02-07T16:29:25.804Z"
   },
   {
    "duration": 698,
    "start_time": "2022-02-07T16:29:25.821Z"
   },
   {
    "duration": 41,
    "start_time": "2022-02-07T16:29:26.523Z"
   },
   {
    "duration": 3,
    "start_time": "2022-02-07T16:29:26.568Z"
   },
   {
    "duration": 33,
    "start_time": "2022-02-07T16:29:26.574Z"
   },
   {
    "duration": 3,
    "start_time": "2022-02-07T16:29:26.609Z"
   },
   {
    "duration": 18,
    "start_time": "2022-02-07T16:29:26.615Z"
   },
   {
    "duration": 13,
    "start_time": "2022-02-07T16:29:26.636Z"
   },
   {
    "duration": 23,
    "start_time": "2022-02-07T16:29:26.651Z"
   },
   {
    "duration": 14,
    "start_time": "2022-02-07T16:29:26.677Z"
   },
   {
    "duration": 44,
    "start_time": "2022-02-07T16:29:26.693Z"
   },
   {
    "duration": 15,
    "start_time": "2022-02-07T16:29:26.739Z"
   },
   {
    "duration": 23,
    "start_time": "2022-02-07T16:29:26.757Z"
   },
   {
    "duration": 14,
    "start_time": "2022-02-07T16:29:26.783Z"
   },
   {
    "duration": 47,
    "start_time": "2022-02-07T16:29:26.799Z"
   },
   {
    "duration": 22,
    "start_time": "2022-02-07T16:29:26.849Z"
   },
   {
    "duration": 20,
    "start_time": "2022-02-07T16:29:26.873Z"
   },
   {
    "duration": 48,
    "start_time": "2022-02-07T16:29:26.900Z"
   },
   {
    "duration": 27,
    "start_time": "2022-02-07T16:29:26.951Z"
   },
   {
    "duration": 72,
    "start_time": "2022-02-07T16:29:26.981Z"
   },
   {
    "duration": 8,
    "start_time": "2022-02-07T16:29:27.057Z"
   },
   {
    "duration": 504,
    "start_time": "2022-02-07T16:29:27.068Z"
   },
   {
    "duration": 25,
    "start_time": "2022-02-07T16:29:27.574Z"
   },
   {
    "duration": 44,
    "start_time": "2022-02-07T16:29:27.602Z"
   },
   {
    "duration": 454,
    "start_time": "2022-02-07T16:29:27.648Z"
   },
   {
    "duration": 7,
    "start_time": "2022-02-07T16:29:28.106Z"
   },
   {
    "duration": 537,
    "start_time": "2022-02-07T16:29:28.132Z"
   },
   {
    "duration": 8,
    "start_time": "2022-02-07T16:29:28.672Z"
   },
   {
    "duration": 9,
    "start_time": "2022-02-07T16:29:28.683Z"
   },
   {
    "duration": 41,
    "start_time": "2022-02-07T16:29:28.694Z"
   },
   {
    "duration": 8,
    "start_time": "2022-02-07T16:29:28.737Z"
   },
   {
    "duration": 8,
    "start_time": "2022-02-07T16:29:28.747Z"
   },
   {
    "duration": 9,
    "start_time": "2022-02-07T16:29:28.757Z"
   },
   {
    "duration": 500,
    "start_time": "2022-02-07T16:29:28.769Z"
   },
   {
    "duration": 7,
    "start_time": "2022-02-07T16:29:29.271Z"
   },
   {
    "duration": 13,
    "start_time": "2022-02-07T16:29:29.280Z"
   },
   {
    "duration": 6,
    "start_time": "2022-02-07T16:29:29.295Z"
   },
   {
    "duration": 30,
    "start_time": "2022-02-07T16:29:29.303Z"
   },
   {
    "duration": 5,
    "start_time": "2022-02-07T16:29:29.336Z"
   },
   {
    "duration": 10,
    "start_time": "2022-02-07T16:29:29.344Z"
   },
   {
    "duration": 3418,
    "start_time": "2022-02-07T16:31:44.375Z"
   },
   {
    "duration": 3531,
    "start_time": "2022-02-07T16:31:47.796Z"
   },
   {
    "duration": 3617,
    "start_time": "2022-02-07T16:31:51.330Z"
   },
   {
    "duration": 1685,
    "start_time": "2022-02-07T16:31:54.950Z"
   },
   {
    "duration": 30,
    "start_time": "2022-02-07T16:31:56.638Z"
   },
   {
    "duration": 14,
    "start_time": "2022-02-07T16:31:56.671Z"
   },
   {
    "duration": 583,
    "start_time": "2022-02-07T16:31:56.688Z"
   },
   {
    "duration": 49,
    "start_time": "2022-02-07T16:31:57.276Z"
   },
   {
    "duration": 4,
    "start_time": "2022-02-07T16:31:57.329Z"
   },
   {
    "duration": 26,
    "start_time": "2022-02-07T16:31:57.335Z"
   },
   {
    "duration": 3,
    "start_time": "2022-02-07T16:31:57.363Z"
   },
   {
    "duration": 22,
    "start_time": "2022-02-07T16:31:57.369Z"
   },
   {
    "duration": 40,
    "start_time": "2022-02-07T16:31:57.393Z"
   },
   {
    "duration": 28,
    "start_time": "2022-02-07T16:31:57.436Z"
   },
   {
    "duration": 13,
    "start_time": "2022-02-07T16:31:57.466Z"
   },
   {
    "duration": 13,
    "start_time": "2022-02-07T16:31:57.482Z"
   },
   {
    "duration": 14,
    "start_time": "2022-02-07T16:31:57.533Z"
   },
   {
    "duration": 22,
    "start_time": "2022-02-07T16:31:57.549Z"
   },
   {
    "duration": 11,
    "start_time": "2022-02-07T16:31:57.574Z"
   },
   {
    "duration": 46,
    "start_time": "2022-02-07T16:31:57.587Z"
   },
   {
    "duration": 18,
    "start_time": "2022-02-07T16:31:57.635Z"
   },
   {
    "duration": 22,
    "start_time": "2022-02-07T16:31:57.656Z"
   },
   {
    "duration": 57,
    "start_time": "2022-02-07T16:31:57.684Z"
   },
   {
    "duration": 29,
    "start_time": "2022-02-07T16:31:57.744Z"
   },
   {
    "duration": 59,
    "start_time": "2022-02-07T16:31:57.776Z"
   },
   {
    "duration": 8,
    "start_time": "2022-02-07T16:31:57.838Z"
   },
   {
    "duration": 473,
    "start_time": "2022-02-07T16:31:57.849Z"
   },
   {
    "duration": 28,
    "start_time": "2022-02-07T16:31:58.324Z"
   },
   {
    "duration": 25,
    "start_time": "2022-02-07T16:31:58.355Z"
   },
   {
    "duration": 499,
    "start_time": "2022-02-07T16:31:58.383Z"
   },
   {
    "duration": 7,
    "start_time": "2022-02-07T16:31:58.884Z"
   },
   {
    "duration": 587,
    "start_time": "2022-02-07T16:31:58.894Z"
   },
   {
    "duration": 6,
    "start_time": "2022-02-07T16:31:59.483Z"
   },
   {
    "duration": 470,
    "start_time": "2022-02-07T16:31:59.492Z"
   },
   {
    "duration": 9,
    "start_time": "2022-02-07T16:31:59.965Z"
   },
   {
    "duration": 10,
    "start_time": "2022-02-07T16:31:59.977Z"
   },
   {
    "duration": 8,
    "start_time": "2022-02-07T16:31:59.990Z"
   },
   {
    "duration": 7,
    "start_time": "2022-02-07T16:32:00.033Z"
   },
   {
    "duration": 10,
    "start_time": "2022-02-07T16:32:00.043Z"
   },
   {
    "duration": 13,
    "start_time": "2022-02-07T16:32:00.056Z"
   },
   {
    "duration": 505,
    "start_time": "2022-02-07T16:32:00.072Z"
   },
   {
    "duration": 8,
    "start_time": "2022-02-07T16:32:00.580Z"
   },
   {
    "duration": 24,
    "start_time": "2022-02-07T16:32:00.591Z"
   },
   {
    "duration": 25,
    "start_time": "2022-02-07T16:32:00.618Z"
   },
   {
    "duration": 18,
    "start_time": "2022-02-07T16:32:00.646Z"
   },
   {
    "duration": 19,
    "start_time": "2022-02-07T16:32:00.667Z"
   },
   {
    "duration": 14,
    "start_time": "2022-02-07T16:32:00.688Z"
   },
   {
    "duration": 6,
    "start_time": "2022-02-07T16:32:18.670Z"
   },
   {
    "duration": 4350,
    "start_time": "2022-02-07T16:32:27.463Z"
   },
   {
    "duration": 4499,
    "start_time": "2022-02-07T16:32:31.817Z"
   },
   {
    "duration": 3397,
    "start_time": "2022-02-07T16:32:36.319Z"
   },
   {
    "duration": 2015,
    "start_time": "2022-02-07T16:32:39.720Z"
   },
   {
    "duration": 29,
    "start_time": "2022-02-07T16:32:41.738Z"
   },
   {
    "duration": 15,
    "start_time": "2022-02-07T16:32:41.770Z"
   },
   {
    "duration": 604,
    "start_time": "2022-02-07T16:32:41.787Z"
   },
   {
    "duration": 39,
    "start_time": "2022-02-07T16:32:42.395Z"
   },
   {
    "duration": 3,
    "start_time": "2022-02-07T16:32:42.437Z"
   },
   {
    "duration": 27,
    "start_time": "2022-02-07T16:32:42.442Z"
   },
   {
    "duration": 3,
    "start_time": "2022-02-07T16:32:42.472Z"
   },
   {
    "duration": 22,
    "start_time": "2022-02-07T16:32:42.478Z"
   },
   {
    "duration": 34,
    "start_time": "2022-02-07T16:32:42.503Z"
   },
   {
    "duration": 24,
    "start_time": "2022-02-07T16:32:42.539Z"
   },
   {
    "duration": 17,
    "start_time": "2022-02-07T16:32:42.566Z"
   },
   {
    "duration": 13,
    "start_time": "2022-02-07T16:32:42.585Z"
   },
   {
    "duration": 10,
    "start_time": "2022-02-07T16:32:42.633Z"
   },
   {
    "duration": 33,
    "start_time": "2022-02-07T16:32:42.646Z"
   },
   {
    "duration": 11,
    "start_time": "2022-02-07T16:32:42.681Z"
   },
   {
    "duration": 16,
    "start_time": "2022-02-07T16:32:42.695Z"
   },
   {
    "duration": 16,
    "start_time": "2022-02-07T16:32:42.733Z"
   },
   {
    "duration": 21,
    "start_time": "2022-02-07T16:32:42.751Z"
   },
   {
    "duration": 19,
    "start_time": "2022-02-07T16:32:42.777Z"
   },
   {
    "duration": 55,
    "start_time": "2022-02-07T16:32:42.799Z"
   },
   {
    "duration": 26,
    "start_time": "2022-02-07T16:32:42.857Z"
   },
   {
    "duration": 13,
    "start_time": "2022-02-07T16:32:42.885Z"
   },
   {
    "duration": 462,
    "start_time": "2022-02-07T16:32:42.900Z"
   },
   {
    "duration": 25,
    "start_time": "2022-02-07T16:32:43.364Z"
   },
   {
    "duration": 45,
    "start_time": "2022-02-07T16:32:43.392Z"
   },
   {
    "duration": 452,
    "start_time": "2022-02-07T16:32:43.439Z"
   },
   {
    "duration": 9,
    "start_time": "2022-02-07T16:32:43.894Z"
   },
   {
    "duration": 790,
    "start_time": "2022-02-07T16:32:43.906Z"
   },
   {
    "duration": 6,
    "start_time": "2022-02-07T16:32:44.698Z"
   },
   {
    "duration": 458,
    "start_time": "2022-02-07T16:32:44.706Z"
   },
   {
    "duration": 7,
    "start_time": "2022-02-07T16:32:45.166Z"
   },
   {
    "duration": 9,
    "start_time": "2022-02-07T16:32:45.175Z"
   },
   {
    "duration": 6,
    "start_time": "2022-02-07T16:32:45.186Z"
   },
   {
    "duration": 42,
    "start_time": "2022-02-07T16:32:45.194Z"
   },
   {
    "duration": 7,
    "start_time": "2022-02-07T16:32:45.239Z"
   },
   {
    "duration": 8,
    "start_time": "2022-02-07T16:32:45.248Z"
   },
   {
    "duration": 724,
    "start_time": "2022-02-07T16:32:45.260Z"
   },
   {
    "duration": 10,
    "start_time": "2022-02-07T16:32:45.987Z"
   },
   {
    "duration": 10,
    "start_time": "2022-02-07T16:32:46.000Z"
   },
   {
    "duration": 6,
    "start_time": "2022-02-07T16:32:46.032Z"
   },
   {
    "duration": 10,
    "start_time": "2022-02-07T16:32:46.042Z"
   },
   {
    "duration": 7,
    "start_time": "2022-02-07T16:32:46.055Z"
   },
   {
    "duration": 12,
    "start_time": "2022-02-07T16:32:46.065Z"
   },
   {
    "duration": 3528,
    "start_time": "2022-02-07T16:34:18.829Z"
   },
   {
    "duration": 3854,
    "start_time": "2022-02-07T16:34:22.360Z"
   },
   {
    "duration": 3563,
    "start_time": "2022-02-07T16:34:26.217Z"
   },
   {
    "duration": 1643,
    "start_time": "2022-02-07T16:34:29.783Z"
   },
   {
    "duration": 30,
    "start_time": "2022-02-07T16:34:31.429Z"
   },
   {
    "duration": 16,
    "start_time": "2022-02-07T16:34:31.462Z"
   },
   {
    "duration": 631,
    "start_time": "2022-02-07T16:34:31.480Z"
   },
   {
    "duration": 40,
    "start_time": "2022-02-07T16:34:32.115Z"
   },
   {
    "duration": 4,
    "start_time": "2022-02-07T16:34:32.159Z"
   },
   {
    "duration": 23,
    "start_time": "2022-02-07T16:34:32.166Z"
   },
   {
    "duration": 3,
    "start_time": "2022-02-07T16:34:32.191Z"
   },
   {
    "duration": 17,
    "start_time": "2022-02-07T16:34:32.197Z"
   },
   {
    "duration": 25,
    "start_time": "2022-02-07T16:34:32.217Z"
   },
   {
    "duration": 26,
    "start_time": "2022-02-07T16:34:32.244Z"
   },
   {
    "duration": 12,
    "start_time": "2022-02-07T16:34:32.272Z"
   },
   {
    "duration": 46,
    "start_time": "2022-02-07T16:34:32.287Z"
   },
   {
    "duration": 11,
    "start_time": "2022-02-07T16:34:32.336Z"
   },
   {
    "duration": 27,
    "start_time": "2022-02-07T16:34:32.349Z"
   },
   {
    "duration": 10,
    "start_time": "2022-02-07T16:34:32.378Z"
   },
   {
    "duration": 46,
    "start_time": "2022-02-07T16:34:32.390Z"
   },
   {
    "duration": 18,
    "start_time": "2022-02-07T16:34:32.438Z"
   },
   {
    "duration": 21,
    "start_time": "2022-02-07T16:34:32.459Z"
   },
   {
    "duration": 48,
    "start_time": "2022-02-07T16:34:32.485Z"
   },
   {
    "duration": 28,
    "start_time": "2022-02-07T16:34:32.536Z"
   },
   {
    "duration": 26,
    "start_time": "2022-02-07T16:34:32.566Z"
   },
   {
    "duration": 39,
    "start_time": "2022-02-07T16:34:32.594Z"
   },
   {
    "duration": 469,
    "start_time": "2022-02-07T16:34:32.636Z"
   },
   {
    "duration": 33,
    "start_time": "2022-02-07T16:34:33.107Z"
   },
   {
    "duration": 25,
    "start_time": "2022-02-07T16:34:33.142Z"
   },
   {
    "duration": 477,
    "start_time": "2022-02-07T16:34:33.169Z"
   },
   {
    "duration": 6,
    "start_time": "2022-02-07T16:34:33.648Z"
   },
   {
    "duration": 656,
    "start_time": "2022-02-07T16:34:33.656Z"
   },
   {
    "duration": 19,
    "start_time": "2022-02-07T16:34:34.315Z"
   },
   {
    "duration": 454,
    "start_time": "2022-02-07T16:34:34.336Z"
   },
   {
    "duration": 7,
    "start_time": "2022-02-07T16:34:34.793Z"
   },
   {
    "duration": 31,
    "start_time": "2022-02-07T16:34:34.803Z"
   },
   {
    "duration": 6,
    "start_time": "2022-02-07T16:34:34.837Z"
   },
   {
    "duration": 6,
    "start_time": "2022-02-07T16:34:34.846Z"
   },
   {
    "duration": 5,
    "start_time": "2022-02-07T16:34:34.855Z"
   },
   {
    "duration": 9,
    "start_time": "2022-02-07T16:34:34.863Z"
   },
   {
    "duration": 598,
    "start_time": "2022-02-07T16:34:34.874Z"
   },
   {
    "duration": 7,
    "start_time": "2022-02-07T16:34:35.476Z"
   },
   {
    "duration": 13,
    "start_time": "2022-02-07T16:34:35.486Z"
   },
   {
    "duration": 36,
    "start_time": "2022-02-07T16:34:35.502Z"
   },
   {
    "duration": 11,
    "start_time": "2022-02-07T16:34:35.540Z"
   },
   {
    "duration": 9,
    "start_time": "2022-02-07T16:34:35.553Z"
   },
   {
    "duration": 11,
    "start_time": "2022-02-07T16:34:35.565Z"
   },
   {
    "duration": 11,
    "start_time": "2022-02-07T16:34:56.232Z"
   },
   {
    "duration": 3743,
    "start_time": "2022-02-07T16:41:31.398Z"
   },
   {
    "duration": 3447,
    "start_time": "2022-02-07T16:41:35.146Z"
   },
   {
    "duration": 4003,
    "start_time": "2022-02-07T16:41:38.597Z"
   },
   {
    "duration": 2468,
    "start_time": "2022-02-07T16:41:42.604Z"
   },
   {
    "duration": 33,
    "start_time": "2022-02-07T16:41:45.075Z"
   },
   {
    "duration": 27,
    "start_time": "2022-02-07T16:41:45.112Z"
   },
   {
    "duration": 570,
    "start_time": "2022-02-07T16:41:45.142Z"
   },
   {
    "duration": 42,
    "start_time": "2022-02-07T16:41:45.715Z"
   },
   {
    "duration": 3,
    "start_time": "2022-02-07T16:41:45.763Z"
   },
   {
    "duration": 26,
    "start_time": "2022-02-07T16:41:45.769Z"
   },
   {
    "duration": 3,
    "start_time": "2022-02-07T16:41:45.797Z"
   },
   {
    "duration": 24,
    "start_time": "2022-02-07T16:41:45.803Z"
   },
   {
    "duration": 13,
    "start_time": "2022-02-07T16:41:45.829Z"
   },
   {
    "duration": 23,
    "start_time": "2022-02-07T16:41:45.845Z"
   },
   {
    "duration": 13,
    "start_time": "2022-02-07T16:41:45.871Z"
   },
   {
    "duration": 50,
    "start_time": "2022-02-07T16:41:45.886Z"
   },
   {
    "duration": 12,
    "start_time": "2022-02-07T16:41:45.939Z"
   },
   {
    "duration": 27,
    "start_time": "2022-02-07T16:41:45.953Z"
   },
   {
    "duration": 14,
    "start_time": "2022-02-07T16:41:45.983Z"
   },
   {
    "duration": 45,
    "start_time": "2022-02-07T16:41:45.999Z"
   },
   {
    "duration": 18,
    "start_time": "2022-02-07T16:41:46.048Z"
   },
   {
    "duration": 22,
    "start_time": "2022-02-07T16:41:46.069Z"
   },
   {
    "duration": 23,
    "start_time": "2022-02-07T16:41:46.133Z"
   },
   {
    "duration": 29,
    "start_time": "2022-02-07T16:41:46.158Z"
   },
   {
    "duration": 54,
    "start_time": "2022-02-07T16:41:46.189Z"
   },
   {
    "duration": 6,
    "start_time": "2022-02-07T16:41:46.245Z"
   },
   {
    "duration": 481,
    "start_time": "2022-02-07T16:41:46.257Z"
   },
   {
    "duration": 25,
    "start_time": "2022-02-07T16:41:46.742Z"
   },
   {
    "duration": 28,
    "start_time": "2022-02-07T16:41:46.771Z"
   },
   {
    "duration": 448,
    "start_time": "2022-02-07T16:41:46.833Z"
   },
   {
    "duration": 6,
    "start_time": "2022-02-07T16:41:47.283Z"
   },
   {
    "duration": 551,
    "start_time": "2022-02-07T16:41:47.292Z"
   },
   {
    "duration": 7,
    "start_time": "2022-02-07T16:41:47.846Z"
   },
   {
    "duration": 463,
    "start_time": "2022-02-07T16:41:47.856Z"
   },
   {
    "duration": 11,
    "start_time": "2022-02-07T16:41:48.332Z"
   },
   {
    "duration": 11,
    "start_time": "2022-02-07T16:41:48.346Z"
   },
   {
    "duration": 8,
    "start_time": "2022-02-07T16:41:48.360Z"
   },
   {
    "duration": 10,
    "start_time": "2022-02-07T16:41:48.370Z"
   },
   {
    "duration": 49,
    "start_time": "2022-02-07T16:41:48.382Z"
   },
   {
    "duration": 6,
    "start_time": "2022-02-07T16:41:48.434Z"
   },
   {
    "duration": 479,
    "start_time": "2022-02-07T16:41:48.443Z"
   },
   {
    "duration": 12,
    "start_time": "2022-02-07T16:41:48.924Z"
   },
   {
    "duration": 8,
    "start_time": "2022-02-07T16:41:48.938Z"
   },
   {
    "duration": 8,
    "start_time": "2022-02-07T16:41:48.948Z"
   },
   {
    "duration": 13,
    "start_time": "2022-02-07T16:41:48.958Z"
   },
   {
    "duration": 8,
    "start_time": "2022-02-07T16:41:48.974Z"
   },
   {
    "duration": 50,
    "start_time": "2022-02-07T16:41:48.984Z"
   },
   {
    "duration": 32,
    "start_time": "2022-02-07T16:56:13.351Z"
   },
   {
    "duration": 3379,
    "start_time": "2022-02-07T17:03:15.039Z"
   },
   {
    "duration": 4394,
    "start_time": "2022-02-07T17:03:18.422Z"
   },
   {
    "duration": 3519,
    "start_time": "2022-02-07T17:03:22.819Z"
   },
   {
    "duration": 2263,
    "start_time": "2022-02-07T17:03:26.341Z"
   },
   {
    "duration": 40,
    "start_time": "2022-02-07T17:03:28.607Z"
   },
   {
    "duration": 21,
    "start_time": "2022-02-07T17:03:28.651Z"
   },
   {
    "duration": 590,
    "start_time": "2022-02-07T17:03:28.675Z"
   },
   {
    "duration": 41,
    "start_time": "2022-02-07T17:03:29.269Z"
   },
   {
    "duration": 21,
    "start_time": "2022-02-07T17:03:29.313Z"
   },
   {
    "duration": 17,
    "start_time": "2022-02-07T17:03:29.337Z"
   },
   {
    "duration": 15,
    "start_time": "2022-02-07T17:03:29.357Z"
   },
   {
    "duration": 71,
    "start_time": "2022-02-07T17:03:29.375Z"
   },
   {
    "duration": 19,
    "start_time": "2022-02-07T17:03:29.449Z"
   },
   {
    "duration": 17,
    "start_time": "2022-02-07T17:03:29.471Z"
   },
   {
    "duration": 51,
    "start_time": "2022-02-07T17:03:29.491Z"
   },
   {
    "duration": 33,
    "start_time": "2022-02-07T17:03:29.545Z"
   },
   {
    "duration": 15,
    "start_time": "2022-02-07T17:03:29.581Z"
   },
   {
    "duration": 20,
    "start_time": "2022-02-07T17:03:29.631Z"
   },
   {
    "duration": 22,
    "start_time": "2022-02-07T17:03:29.655Z"
   },
   {
    "duration": 69,
    "start_time": "2022-02-07T17:03:29.680Z"
   },
   {
    "duration": 32,
    "start_time": "2022-02-07T17:03:29.752Z"
   },
   {
    "duration": 68,
    "start_time": "2022-02-07T17:03:29.787Z"
   },
   {
    "duration": 39,
    "start_time": "2022-02-07T17:03:29.864Z"
   },
   {
    "duration": 34,
    "start_time": "2022-02-07T17:03:29.908Z"
   },
   {
    "duration": 451,
    "start_time": "2022-02-07T17:03:29.944Z"
   },
   {
    "duration": 51,
    "start_time": "2022-02-07T17:03:30.398Z"
   },
   {
    "duration": 38,
    "start_time": "2022-02-07T17:03:30.452Z"
   },
   {
    "duration": 500,
    "start_time": "2022-02-07T17:03:30.493Z"
   },
   {
    "duration": 8,
    "start_time": "2022-02-07T17:03:30.995Z"
   },
   {
    "duration": 570,
    "start_time": "2022-02-07T17:03:31.006Z"
   },
   {
    "duration": 6,
    "start_time": "2022-02-07T17:03:31.579Z"
   },
   {
    "duration": 479,
    "start_time": "2022-02-07T17:03:31.588Z"
   },
   {
    "duration": 28,
    "start_time": "2022-02-07T17:03:32.071Z"
   },
   {
    "duration": 625,
    "start_time": "2022-02-07T17:03:32.102Z"
   },
   {
    "duration": 417,
    "start_time": "2022-02-07T17:03:32.313Z"
   },
   {
    "duration": 415,
    "start_time": "2022-02-07T17:03:32.317Z"
   },
   {
    "duration": 415,
    "start_time": "2022-02-07T17:03:32.319Z"
   },
   {
    "duration": 411,
    "start_time": "2022-02-07T17:03:32.325Z"
   },
   {
    "duration": 409,
    "start_time": "2022-02-07T17:03:32.328Z"
   },
   {
    "duration": 407,
    "start_time": "2022-02-07T17:03:32.331Z"
   },
   {
    "duration": 405,
    "start_time": "2022-02-07T17:03:32.334Z"
   },
   {
    "duration": 399,
    "start_time": "2022-02-07T17:03:32.341Z"
   },
   {
    "duration": 398,
    "start_time": "2022-02-07T17:03:32.344Z"
   },
   {
    "duration": 397,
    "start_time": "2022-02-07T17:03:32.346Z"
   },
   {
    "duration": 392,
    "start_time": "2022-02-07T17:03:32.352Z"
   },
   {
    "duration": 388,
    "start_time": "2022-02-07T17:03:32.357Z"
   },
   {
    "duration": 386,
    "start_time": "2022-02-07T17:03:32.360Z"
   },
   {
    "duration": 385,
    "start_time": "2022-02-07T17:03:32.363Z"
   },
   {
    "duration": 11,
    "start_time": "2022-02-07T17:04:09.274Z"
   },
   {
    "duration": 260,
    "start_time": "2022-02-07T17:04:11.857Z"
   },
   {
    "duration": 8,
    "start_time": "2022-02-07T17:08:07.778Z"
   },
   {
    "duration": 290,
    "start_time": "2022-02-07T17:08:39.718Z"
   },
   {
    "duration": 247,
    "start_time": "2022-02-07T17:08:48.791Z"
   },
   {
    "duration": 10,
    "start_time": "2022-02-07T17:08:57.563Z"
   },
   {
    "duration": 4,
    "start_time": "2022-02-07T17:09:52.527Z"
   },
   {
    "duration": 10,
    "start_time": "2022-02-07T17:09:56.708Z"
   },
   {
    "duration": 503,
    "start_time": "2022-02-07T17:10:47.087Z"
   },
   {
    "duration": 4227,
    "start_time": "2022-02-07T17:10:56.705Z"
   },
   {
    "duration": 3934,
    "start_time": "2022-02-07T17:11:00.935Z"
   },
   {
    "duration": 3463,
    "start_time": "2022-02-07T17:11:04.877Z"
   },
   {
    "duration": 1676,
    "start_time": "2022-02-07T17:11:08.344Z"
   },
   {
    "duration": 39,
    "start_time": "2022-02-07T17:11:10.023Z"
   },
   {
    "duration": 16,
    "start_time": "2022-02-07T17:11:10.064Z"
   },
   {
    "duration": 585,
    "start_time": "2022-02-07T17:11:10.084Z"
   },
   {
    "duration": 47,
    "start_time": "2022-02-07T17:11:10.674Z"
   },
   {
    "duration": 21,
    "start_time": "2022-02-07T17:11:10.724Z"
   },
   {
    "duration": 21,
    "start_time": "2022-02-07T17:11:10.748Z"
   },
   {
    "duration": 15,
    "start_time": "2022-02-07T17:11:10.772Z"
   },
   {
    "duration": 62,
    "start_time": "2022-02-07T17:11:10.789Z"
   },
   {
    "duration": 13,
    "start_time": "2022-02-07T17:11:10.853Z"
   },
   {
    "duration": 15,
    "start_time": "2022-02-07T17:11:10.869Z"
   },
   {
    "duration": 60,
    "start_time": "2022-02-07T17:11:10.887Z"
   },
   {
    "duration": 37,
    "start_time": "2022-02-07T17:11:10.951Z"
   },
   {
    "duration": 45,
    "start_time": "2022-02-07T17:11:10.991Z"
   },
   {
    "duration": 26,
    "start_time": "2022-02-07T17:11:11.039Z"
   },
   {
    "duration": 34,
    "start_time": "2022-02-07T17:11:11.068Z"
   },
   {
    "duration": 45,
    "start_time": "2022-02-07T17:11:11.105Z"
   },
   {
    "duration": 22,
    "start_time": "2022-02-07T17:11:11.153Z"
   },
   {
    "duration": 67,
    "start_time": "2022-02-07T17:11:11.184Z"
   },
   {
    "duration": 29,
    "start_time": "2022-02-07T17:11:11.255Z"
   },
   {
    "duration": 11,
    "start_time": "2022-02-07T17:11:11.286Z"
   },
   {
    "duration": 686,
    "start_time": "2022-02-07T17:11:11.299Z"
   },
   {
    "duration": 27,
    "start_time": "2022-02-07T17:11:11.988Z"
   },
   {
    "duration": 36,
    "start_time": "2022-02-07T17:11:12.033Z"
   },
   {
    "duration": 495,
    "start_time": "2022-02-07T17:11:12.072Z"
   },
   {
    "duration": 8,
    "start_time": "2022-02-07T17:11:12.570Z"
   },
   {
    "duration": 572,
    "start_time": "2022-02-07T17:11:12.581Z"
   },
   {
    "duration": 7,
    "start_time": "2022-02-07T17:11:13.155Z"
   },
   {
    "duration": 477,
    "start_time": "2022-02-07T17:11:13.164Z"
   },
   {
    "duration": 25,
    "start_time": "2022-02-07T17:11:13.644Z"
   },
   {
    "duration": 6,
    "start_time": "2022-02-07T17:11:13.672Z"
   },
   {
    "duration": 6,
    "start_time": "2022-02-07T17:11:13.680Z"
   },
   {
    "duration": 43,
    "start_time": "2022-02-07T17:11:13.689Z"
   },
   {
    "duration": 501,
    "start_time": "2022-02-07T17:11:13.736Z"
   },
   {
    "duration": 401,
    "start_time": "2022-02-07T17:11:14.240Z"
   },
   {
    "duration": 289,
    "start_time": "2022-02-07T17:11:14.354Z"
   },
   {
    "duration": 289,
    "start_time": "2022-02-07T17:11:14.356Z"
   },
   {
    "duration": 289,
    "start_time": "2022-02-07T17:11:14.358Z"
   },
   {
    "duration": 289,
    "start_time": "2022-02-07T17:11:14.360Z"
   },
   {
    "duration": 286,
    "start_time": "2022-02-07T17:11:14.364Z"
   },
   {
    "duration": 285,
    "start_time": "2022-02-07T17:11:14.367Z"
   },
   {
    "duration": 285,
    "start_time": "2022-02-07T17:11:14.369Z"
   },
   {
    "duration": 284,
    "start_time": "2022-02-07T17:11:14.371Z"
   },
   {
    "duration": 284,
    "start_time": "2022-02-07T17:11:14.373Z"
   },
   {
    "duration": 283,
    "start_time": "2022-02-07T17:11:14.375Z"
   },
   {
    "duration": 284,
    "start_time": "2022-02-07T17:11:14.376Z"
   },
   {
    "duration": 282,
    "start_time": "2022-02-07T17:11:14.379Z"
   },
   {
    "duration": 282,
    "start_time": "2022-02-07T17:14:27.128Z"
   },
   {
    "duration": 249,
    "start_time": "2022-02-07T17:14:47.419Z"
   },
   {
    "duration": 4,
    "start_time": "2022-02-07T17:17:26.456Z"
   },
   {
    "duration": 26,
    "start_time": "2022-02-07T17:17:28.712Z"
   },
   {
    "duration": 10,
    "start_time": "2022-02-07T17:17:51.917Z"
   },
   {
    "duration": 4,
    "start_time": "2022-02-07T17:17:58.035Z"
   },
   {
    "duration": 9,
    "start_time": "2022-02-07T17:18:00.492Z"
   },
   {
    "duration": 538,
    "start_time": "2022-02-07T17:18:04.436Z"
   },
   {
    "duration": 3,
    "start_time": "2022-02-07T17:18:23.944Z"
   },
   {
    "duration": 9,
    "start_time": "2022-02-07T17:18:24.703Z"
   },
   {
    "duration": 5038,
    "start_time": "2022-02-07T17:18:25.696Z"
   },
   {
    "duration": 3992,
    "start_time": "2022-02-07T17:18:47.051Z"
   },
   {
    "duration": 3468,
    "start_time": "2022-02-07T17:18:51.047Z"
   },
   {
    "duration": 3578,
    "start_time": "2022-02-07T17:18:54.519Z"
   },
   {
    "duration": 1722,
    "start_time": "2022-02-07T17:18:58.100Z"
   },
   {
    "duration": 30,
    "start_time": "2022-02-07T17:18:59.824Z"
   },
   {
    "duration": 18,
    "start_time": "2022-02-07T17:18:59.857Z"
   },
   {
    "duration": 1517,
    "start_time": "2022-02-07T17:18:59.879Z"
   },
   {
    "duration": 49,
    "start_time": "2022-02-07T17:19:01.402Z"
   },
   {
    "duration": 27,
    "start_time": "2022-02-07T17:19:01.455Z"
   },
   {
    "duration": 18,
    "start_time": "2022-02-07T17:19:01.485Z"
   },
   {
    "duration": 16,
    "start_time": "2022-02-07T17:19:01.533Z"
   },
   {
    "duration": 40,
    "start_time": "2022-02-07T17:19:01.552Z"
   },
   {
    "duration": 38,
    "start_time": "2022-02-07T17:19:01.595Z"
   },
   {
    "duration": 16,
    "start_time": "2022-02-07T17:19:01.637Z"
   },
   {
    "duration": 16,
    "start_time": "2022-02-07T17:19:01.656Z"
   },
   {
    "duration": 64,
    "start_time": "2022-02-07T17:19:01.675Z"
   },
   {
    "duration": 14,
    "start_time": "2022-02-07T17:19:01.742Z"
   },
   {
    "duration": 30,
    "start_time": "2022-02-07T17:19:01.758Z"
   },
   {
    "duration": 52,
    "start_time": "2022-02-07T17:19:01.791Z"
   },
   {
    "duration": 39,
    "start_time": "2022-02-07T17:19:01.846Z"
   },
   {
    "duration": 46,
    "start_time": "2022-02-07T17:19:01.888Z"
   },
   {
    "duration": 40,
    "start_time": "2022-02-07T17:19:01.938Z"
   },
   {
    "duration": 56,
    "start_time": "2022-02-07T17:19:01.987Z"
   },
   {
    "duration": 6,
    "start_time": "2022-02-07T17:19:02.048Z"
   },
   {
    "duration": 481,
    "start_time": "2022-02-07T17:19:02.056Z"
   },
   {
    "duration": 24,
    "start_time": "2022-02-07T17:19:02.540Z"
   },
   {
    "duration": 67,
    "start_time": "2022-02-07T17:19:02.567Z"
   },
   {
    "duration": 490,
    "start_time": "2022-02-07T17:19:02.637Z"
   },
   {
    "duration": 6,
    "start_time": "2022-02-07T17:19:03.133Z"
   },
   {
    "duration": 574,
    "start_time": "2022-02-07T17:19:03.141Z"
   },
   {
    "duration": 16,
    "start_time": "2022-02-07T17:19:03.718Z"
   },
   {
    "duration": 469,
    "start_time": "2022-02-07T17:19:03.737Z"
   },
   {
    "duration": 4,
    "start_time": "2022-02-07T17:19:04.209Z"
   },
   {
    "duration": 44,
    "start_time": "2022-02-07T17:19:04.216Z"
   },
   {
    "duration": 12,
    "start_time": "2022-02-07T17:19:04.263Z"
   },
   {
    "duration": 9,
    "start_time": "2022-02-07T17:19:04.278Z"
   },
   {
    "duration": 47,
    "start_time": "2022-02-07T17:19:04.289Z"
   },
   {
    "duration": 501,
    "start_time": "2022-02-07T17:19:04.339Z"
   },
   {
    "duration": 389,
    "start_time": "2022-02-07T17:19:04.842Z"
   },
   {
    "duration": 443,
    "start_time": "2022-02-07T17:19:04.791Z"
   },
   {
    "duration": 334,
    "start_time": "2022-02-07T17:19:04.901Z"
   },
   {
    "duration": 322,
    "start_time": "2022-02-07T17:19:04.915Z"
   },
   {
    "duration": 321,
    "start_time": "2022-02-07T17:19:04.918Z"
   },
   {
    "duration": 320,
    "start_time": "2022-02-07T17:19:04.920Z"
   },
   {
    "duration": 320,
    "start_time": "2022-02-07T17:19:04.922Z"
   },
   {
    "duration": 318,
    "start_time": "2022-02-07T17:19:04.925Z"
   },
   {
    "duration": 317,
    "start_time": "2022-02-07T17:19:04.928Z"
   },
   {
    "duration": 317,
    "start_time": "2022-02-07T17:19:04.930Z"
   },
   {
    "duration": 317,
    "start_time": "2022-02-07T17:19:04.932Z"
   },
   {
    "duration": 317,
    "start_time": "2022-02-07T17:19:04.934Z"
   },
   {
    "duration": 317,
    "start_time": "2022-02-07T17:19:04.936Z"
   },
   {
    "duration": 604,
    "start_time": "2022-02-07T17:19:54.739Z"
   },
   {
    "duration": 5,
    "start_time": "2022-02-07T17:20:04.251Z"
   },
   {
    "duration": 40,
    "start_time": "2022-02-07T17:20:04.571Z"
   },
   {
    "duration": 13,
    "start_time": "2022-02-07T17:20:04.923Z"
   },
   {
    "duration": 662,
    "start_time": "2022-02-07T17:20:07.275Z"
   },
   {
    "duration": 8,
    "start_time": "2022-02-07T17:20:50.739Z"
   },
   {
    "duration": 4,
    "start_time": "2022-02-07T17:22:04.188Z"
   },
   {
    "duration": 8,
    "start_time": "2022-02-07T17:22:05.851Z"
   },
   {
    "duration": 495,
    "start_time": "2022-02-07T17:22:10.483Z"
   },
   {
    "duration": 12,
    "start_time": "2022-02-07T17:22:36.336Z"
   },
   {
    "duration": 958,
    "start_time": "2022-02-07T17:22:36.775Z"
   },
   {
    "duration": 12,
    "start_time": "2022-02-07T17:24:58.348Z"
   },
   {
    "duration": 956,
    "start_time": "2022-02-07T17:24:59.117Z"
   },
   {
    "duration": 9,
    "start_time": "2022-02-07T17:25:06.677Z"
   },
   {
    "duration": 4,
    "start_time": "2022-02-07T17:25:07.957Z"
   },
   {
    "duration": 7,
    "start_time": "2022-02-07T17:25:09.654Z"
   },
   {
    "duration": 551,
    "start_time": "2022-02-07T17:25:11.765Z"
   },
   {
    "duration": 293,
    "start_time": "2022-02-07T17:26:18.293Z"
   },
   {
    "duration": 25,
    "start_time": "2022-02-07T17:26:18.914Z"
   },
   {
    "duration": 27,
    "start_time": "2022-02-07T17:26:40.659Z"
   },
   {
    "duration": 78,
    "start_time": "2022-02-07T17:26:43.470Z"
   },
   {
    "duration": 28,
    "start_time": "2022-02-07T17:26:43.953Z"
   },
   {
    "duration": 9,
    "start_time": "2022-02-07T17:26:44.754Z"
   },
   {
    "duration": 4,
    "start_time": "2022-02-07T17:26:46.017Z"
   },
   {
    "duration": 10,
    "start_time": "2022-02-07T17:26:46.846Z"
   },
   {
    "duration": 486,
    "start_time": "2022-02-07T17:26:47.886Z"
   },
   {
    "duration": 4,
    "start_time": "2022-02-07T17:28:45.403Z"
   },
   {
    "duration": 29,
    "start_time": "2022-02-07T17:28:45.754Z"
   },
   {
    "duration": 9,
    "start_time": "2022-02-07T17:28:46.052Z"
   },
   {
    "duration": 4,
    "start_time": "2022-02-07T17:28:46.357Z"
   },
   {
    "duration": 9,
    "start_time": "2022-02-07T17:28:46.725Z"
   },
   {
    "duration": 555,
    "start_time": "2022-02-07T17:28:47.418Z"
   },
   {
    "duration": 258,
    "start_time": "2022-02-07T17:28:49.662Z"
   },
   {
    "duration": 545,
    "start_time": "2022-02-07T17:31:02.896Z"
   },
   {
    "duration": 12,
    "start_time": "2022-02-07T17:31:13.118Z"
   },
   {
    "duration": 500,
    "start_time": "2022-02-07T17:31:19.319Z"
   },
   {
    "duration": 5,
    "start_time": "2022-02-07T17:32:47.996Z"
   },
   {
    "duration": 45,
    "start_time": "2022-02-07T17:32:48.314Z"
   },
   {
    "duration": 656,
    "start_time": "2022-02-07T17:32:48.615Z"
   },
   {
    "duration": 3767,
    "start_time": "2022-02-07T17:33:17.333Z"
   },
   {
    "duration": 3451,
    "start_time": "2022-02-07T17:33:21.104Z"
   },
   {
    "duration": 3474,
    "start_time": "2022-02-07T17:33:24.564Z"
   },
   {
    "duration": 1690,
    "start_time": "2022-02-07T17:33:28.042Z"
   },
   {
    "duration": 30,
    "start_time": "2022-02-07T17:33:29.735Z"
   },
   {
    "duration": 17,
    "start_time": "2022-02-07T17:33:29.767Z"
   },
   {
    "duration": 571,
    "start_time": "2022-02-07T17:33:29.789Z"
   },
   {
    "duration": 42,
    "start_time": "2022-02-07T17:33:30.365Z"
   },
   {
    "duration": 24,
    "start_time": "2022-02-07T17:33:30.410Z"
   },
   {
    "duration": 18,
    "start_time": "2022-02-07T17:33:30.437Z"
   },
   {
    "duration": 21,
    "start_time": "2022-02-07T17:33:30.458Z"
   },
   {
    "duration": 62,
    "start_time": "2022-02-07T17:33:30.482Z"
   },
   {
    "duration": 14,
    "start_time": "2022-02-07T17:33:30.547Z"
   },
   {
    "duration": 24,
    "start_time": "2022-02-07T17:33:30.564Z"
   },
   {
    "duration": 45,
    "start_time": "2022-02-07T17:33:30.590Z"
   },
   {
    "duration": 33,
    "start_time": "2022-02-07T17:33:30.638Z"
   },
   {
    "duration": 23,
    "start_time": "2022-02-07T17:33:30.673Z"
   },
   {
    "duration": 34,
    "start_time": "2022-02-07T17:33:30.698Z"
   },
   {
    "duration": 29,
    "start_time": "2022-02-07T17:33:30.735Z"
   },
   {
    "duration": 29,
    "start_time": "2022-02-07T17:33:30.767Z"
   },
   {
    "duration": 51,
    "start_time": "2022-02-07T17:33:30.799Z"
   },
   {
    "duration": 32,
    "start_time": "2022-02-07T17:33:30.858Z"
   },
   {
    "duration": 68,
    "start_time": "2022-02-07T17:33:30.894Z"
   },
   {
    "duration": 8,
    "start_time": "2022-02-07T17:33:30.966Z"
   },
   {
    "duration": 614,
    "start_time": "2022-02-07T17:33:30.977Z"
   },
   {
    "duration": 50,
    "start_time": "2022-02-07T17:33:31.594Z"
   },
   {
    "duration": 27,
    "start_time": "2022-02-07T17:33:31.647Z"
   },
   {
    "duration": 537,
    "start_time": "2022-02-07T17:33:31.677Z"
   },
   {
    "duration": 21,
    "start_time": "2022-02-07T17:33:32.217Z"
   },
   {
    "duration": 555,
    "start_time": "2022-02-07T17:33:32.240Z"
   },
   {
    "duration": 6,
    "start_time": "2022-02-07T17:33:32.798Z"
   },
   {
    "duration": 506,
    "start_time": "2022-02-07T17:33:32.807Z"
   },
   {
    "duration": 17,
    "start_time": "2022-02-07T17:33:33.316Z"
   },
   {
    "duration": 44,
    "start_time": "2022-02-07T17:33:33.336Z"
   },
   {
    "duration": 51,
    "start_time": "2022-02-07T17:33:33.383Z"
   },
   {
    "duration": 517,
    "start_time": "2022-02-07T17:33:33.436Z"
   },
   {
    "duration": 4,
    "start_time": "2022-02-07T17:33:33.956Z"
   },
   {
    "duration": 33,
    "start_time": "2022-02-07T17:33:33.963Z"
   },
   {
    "duration": 550,
    "start_time": "2022-02-07T17:33:33.999Z"
   },
   {
    "duration": 6,
    "start_time": "2022-02-07T17:33:34.552Z"
   },
   {
    "duration": 11,
    "start_time": "2022-02-07T17:33:34.560Z"
   },
   {
    "duration": 6,
    "start_time": "2022-02-07T17:33:34.573Z"
   },
   {
    "duration": 9,
    "start_time": "2022-02-07T17:33:34.581Z"
   },
   {
    "duration": 560,
    "start_time": "2022-02-07T17:33:34.593Z"
   },
   {
    "duration": 8,
    "start_time": "2022-02-07T17:33:35.155Z"
   },
   {
    "duration": 21,
    "start_time": "2022-02-07T17:33:35.166Z"
   },
   {
    "duration": 8,
    "start_time": "2022-02-07T17:33:35.190Z"
   },
   {
    "duration": 7,
    "start_time": "2022-02-07T17:33:35.233Z"
   },
   {
    "duration": 16,
    "start_time": "2022-02-07T17:33:35.242Z"
   },
   {
    "duration": 23,
    "start_time": "2022-02-07T17:33:35.260Z"
   },
   {
    "duration": 386,
    "start_time": "2022-02-07T17:35:42.254Z"
   },
   {
    "duration": 392,
    "start_time": "2022-02-07T17:35:48.993Z"
   },
   {
    "duration": 396,
    "start_time": "2022-02-07T17:35:59.098Z"
   },
   {
    "duration": 368,
    "start_time": "2022-02-07T17:36:06.234Z"
   },
   {
    "duration": 354,
    "start_time": "2022-02-07T17:36:09.937Z"
   },
   {
    "duration": 310,
    "start_time": "2022-02-07T17:36:14.053Z"
   },
   {
    "duration": 456,
    "start_time": "2022-02-07T17:36:19.114Z"
   },
   {
    "duration": 477,
    "start_time": "2022-02-07T17:36:30.301Z"
   },
   {
    "duration": 342,
    "start_time": "2022-02-07T17:38:38.983Z"
   },
   {
    "duration": 339,
    "start_time": "2022-02-07T17:38:52.848Z"
   },
   {
    "duration": 466,
    "start_time": "2022-02-07T17:39:11.884Z"
   },
   {
    "duration": 457,
    "start_time": "2022-02-07T17:39:17.340Z"
   },
   {
    "duration": 8,
    "start_time": "2022-02-07T17:44:33.648Z"
   },
   {
    "duration": 9,
    "start_time": "2022-02-07T17:44:35.024Z"
   },
   {
    "duration": 9,
    "start_time": "2022-02-07T17:44:59.133Z"
   },
   {
    "duration": 8,
    "start_time": "2022-02-07T17:45:00.393Z"
   },
   {
    "duration": 14,
    "start_time": "2022-02-07T17:47:08.090Z"
   },
   {
    "duration": 382,
    "start_time": "2022-02-07T17:47:08.916Z"
   },
   {
    "duration": 448,
    "start_time": "2022-02-07T17:47:19.543Z"
   },
   {
    "duration": 21,
    "start_time": "2022-02-07T17:47:29.906Z"
   },
   {
    "duration": 446,
    "start_time": "2022-02-07T17:47:30.571Z"
   },
   {
    "duration": 376,
    "start_time": "2022-02-07T17:48:45.767Z"
   },
   {
    "duration": 357,
    "start_time": "2022-02-07T17:49:06.503Z"
   },
   {
    "duration": 7,
    "start_time": "2022-02-07T17:49:14.613Z"
   },
   {
    "duration": 106,
    "start_time": "2022-02-07T17:51:05.039Z"
   },
   {
    "duration": 9,
    "start_time": "2022-02-07T17:51:15.147Z"
   },
   {
    "duration": 347,
    "start_time": "2022-02-07T17:51:16.104Z"
   },
   {
    "duration": 5,
    "start_time": "2022-02-07T17:51:48.223Z"
   },
   {
    "duration": 358,
    "start_time": "2022-02-07T17:51:48.991Z"
   },
   {
    "duration": 439,
    "start_time": "2022-02-07T17:52:05.760Z"
   },
   {
    "duration": 3414,
    "start_time": "2022-02-07T17:53:30.289Z"
   },
   {
    "duration": 3465,
    "start_time": "2022-02-07T17:53:33.706Z"
   },
   {
    "duration": 3410,
    "start_time": "2022-02-07T17:53:37.175Z"
   },
   {
    "duration": 1718,
    "start_time": "2022-02-07T17:53:40.588Z"
   },
   {
    "duration": 40,
    "start_time": "2022-02-07T17:53:42.309Z"
   },
   {
    "duration": 14,
    "start_time": "2022-02-07T17:53:42.352Z"
   },
   {
    "duration": 586,
    "start_time": "2022-02-07T17:53:42.369Z"
   },
   {
    "duration": 42,
    "start_time": "2022-02-07T17:53:42.958Z"
   },
   {
    "duration": 22,
    "start_time": "2022-02-07T17:53:43.004Z"
   },
   {
    "duration": 20,
    "start_time": "2022-02-07T17:53:43.030Z"
   },
   {
    "duration": 18,
    "start_time": "2022-02-07T17:53:43.052Z"
   },
   {
    "duration": 62,
    "start_time": "2022-02-07T17:53:43.073Z"
   },
   {
    "duration": 30,
    "start_time": "2022-02-07T17:53:43.138Z"
   },
   {
    "duration": 15,
    "start_time": "2022-02-07T17:53:43.171Z"
   },
   {
    "duration": 44,
    "start_time": "2022-02-07T17:53:43.189Z"
   },
   {
    "duration": 25,
    "start_time": "2022-02-07T17:53:43.236Z"
   },
   {
    "duration": 13,
    "start_time": "2022-02-07T17:53:43.264Z"
   },
   {
    "duration": 17,
    "start_time": "2022-02-07T17:53:43.280Z"
   },
   {
    "duration": 25,
    "start_time": "2022-02-07T17:53:43.332Z"
   },
   {
    "duration": 24,
    "start_time": "2022-02-07T17:53:43.360Z"
   },
   {
    "duration": 64,
    "start_time": "2022-02-07T17:53:43.387Z"
   },
   {
    "duration": 27,
    "start_time": "2022-02-07T17:53:43.453Z"
   },
   {
    "duration": 55,
    "start_time": "2022-02-07T17:53:43.482Z"
   },
   {
    "duration": 8,
    "start_time": "2022-02-07T17:53:43.541Z"
   },
   {
    "duration": 690,
    "start_time": "2022-02-07T17:53:43.552Z"
   },
   {
    "duration": 24,
    "start_time": "2022-02-07T17:53:44.245Z"
   },
   {
    "duration": 60,
    "start_time": "2022-02-07T17:53:44.275Z"
   },
   {
    "duration": 486,
    "start_time": "2022-02-07T17:53:44.339Z"
   },
   {
    "duration": 5,
    "start_time": "2022-02-07T17:53:44.833Z"
   },
   {
    "duration": 548,
    "start_time": "2022-02-07T17:53:44.841Z"
   },
   {
    "duration": 6,
    "start_time": "2022-02-07T17:53:45.392Z"
   },
   {
    "duration": 478,
    "start_time": "2022-02-07T17:53:45.401Z"
   },
   {
    "duration": 6,
    "start_time": "2022-02-07T17:53:45.882Z"
   },
   {
    "duration": 56,
    "start_time": "2022-02-07T17:53:45.891Z"
   },
   {
    "duration": 12,
    "start_time": "2022-02-07T17:53:45.950Z"
   },
   {
    "duration": 13,
    "start_time": "2022-02-07T17:53:45.965Z"
   },
   {
    "duration": 15,
    "start_time": "2022-02-07T17:53:45.981Z"
   },
   {
    "duration": 372,
    "start_time": "2022-02-07T17:53:45.999Z"
   },
   {
    "duration": 6,
    "start_time": "2022-02-07T17:53:46.374Z"
   },
   {
    "duration": 56,
    "start_time": "2022-02-07T17:53:46.382Z"
   },
   {
    "duration": 13,
    "start_time": "2022-02-07T17:53:46.440Z"
   },
   {
    "duration": 15,
    "start_time": "2022-02-07T17:53:46.455Z"
   },
   {
    "duration": 308,
    "start_time": "2022-02-07T17:53:46.472Z"
   },
   {
    "duration": 8,
    "start_time": "2022-02-07T17:53:46.783Z"
   },
   {
    "duration": 39,
    "start_time": "2022-02-07T17:53:46.794Z"
   },
   {
    "duration": 7,
    "start_time": "2022-02-07T17:53:46.835Z"
   },
   {
    "duration": 6,
    "start_time": "2022-02-07T17:53:46.844Z"
   },
   {
    "duration": 6,
    "start_time": "2022-02-07T17:53:46.852Z"
   },
   {
    "duration": 14,
    "start_time": "2022-02-07T17:53:46.861Z"
   },
   {
    "duration": 357,
    "start_time": "2022-02-07T17:53:46.878Z"
   },
   {
    "duration": 10,
    "start_time": "2022-02-07T17:53:47.238Z"
   },
   {
    "duration": 16,
    "start_time": "2022-02-07T17:53:47.251Z"
   },
   {
    "duration": 13,
    "start_time": "2022-02-07T17:53:47.270Z"
   },
   {
    "duration": 9,
    "start_time": "2022-02-07T17:53:47.286Z"
   },
   {
    "duration": 7,
    "start_time": "2022-02-07T17:53:47.332Z"
   },
   {
    "duration": 7,
    "start_time": "2022-02-07T17:53:47.341Z"
   },
   {
    "duration": 8,
    "start_time": "2022-02-07T17:54:11.150Z"
   },
   {
    "duration": 3,
    "start_time": "2022-02-07T17:54:12.299Z"
   },
   {
    "duration": 314,
    "start_time": "2022-02-07T17:54:12.870Z"
   },
   {
    "duration": 9,
    "start_time": "2022-02-07T17:54:35.659Z"
   },
   {
    "duration": 3,
    "start_time": "2022-02-07T17:54:36.100Z"
   },
   {
    "duration": 305,
    "start_time": "2022-02-07T17:54:36.466Z"
   },
   {
    "duration": 8,
    "start_time": "2022-02-07T17:54:58.847Z"
   },
   {
    "duration": 4,
    "start_time": "2022-02-07T17:54:59.175Z"
   },
   {
    "duration": 342,
    "start_time": "2022-02-07T17:54:59.599Z"
   },
   {
    "duration": 478,
    "start_time": "2022-02-07T17:55:30.712Z"
   },
   {
    "duration": 378,
    "start_time": "2022-02-07T17:55:35.133Z"
   },
   {
    "duration": 8,
    "start_time": "2022-02-07T17:56:33.685Z"
   },
   {
    "duration": 3259,
    "start_time": "2022-02-07T17:56:34.766Z"
   },
   {
    "duration": 3360,
    "start_time": "2022-02-07T17:56:44.072Z"
   },
   {
    "duration": 3715,
    "start_time": "2022-02-07T17:56:47.436Z"
   },
   {
    "duration": 3410,
    "start_time": "2022-02-07T17:56:51.159Z"
   },
   {
    "duration": 1844,
    "start_time": "2022-02-07T17:56:54.572Z"
   },
   {
    "duration": 38,
    "start_time": "2022-02-07T17:56:56.418Z"
   },
   {
    "duration": 21,
    "start_time": "2022-02-07T17:56:56.459Z"
   },
   {
    "duration": 763,
    "start_time": "2022-02-07T17:56:56.486Z"
   },
   {
    "duration": 41,
    "start_time": "2022-02-07T17:56:57.254Z"
   },
   {
    "duration": 21,
    "start_time": "2022-02-07T17:56:57.297Z"
   },
   {
    "duration": 18,
    "start_time": "2022-02-07T17:56:57.332Z"
   },
   {
    "duration": 16,
    "start_time": "2022-02-07T17:56:57.353Z"
   },
   {
    "duration": 70,
    "start_time": "2022-02-07T17:56:57.372Z"
   },
   {
    "duration": 13,
    "start_time": "2022-02-07T17:56:57.444Z"
   },
   {
    "duration": 14,
    "start_time": "2022-02-07T17:56:57.459Z"
   },
   {
    "duration": 59,
    "start_time": "2022-02-07T17:56:57.475Z"
   },
   {
    "duration": 22,
    "start_time": "2022-02-07T17:56:57.536Z"
   },
   {
    "duration": 17,
    "start_time": "2022-02-07T17:56:57.560Z"
   },
   {
    "duration": 56,
    "start_time": "2022-02-07T17:56:57.579Z"
   },
   {
    "duration": 21,
    "start_time": "2022-02-07T17:56:57.638Z"
   },
   {
    "duration": 71,
    "start_time": "2022-02-07T17:56:57.663Z"
   },
   {
    "duration": 21,
    "start_time": "2022-02-07T17:56:57.737Z"
   },
   {
    "duration": 25,
    "start_time": "2022-02-07T17:56:57.764Z"
   },
   {
    "duration": 64,
    "start_time": "2022-02-07T17:56:57.792Z"
   },
   {
    "duration": 5,
    "start_time": "2022-02-07T17:56:57.859Z"
   },
   {
    "duration": 696,
    "start_time": "2022-02-07T17:56:57.867Z"
   },
   {
    "duration": 40,
    "start_time": "2022-02-07T17:56:58.566Z"
   },
   {
    "duration": 58,
    "start_time": "2022-02-07T17:56:58.609Z"
   },
   {
    "duration": 496,
    "start_time": "2022-02-07T17:56:58.670Z"
   },
   {
    "duration": 7,
    "start_time": "2022-02-07T17:56:59.169Z"
   },
   {
    "duration": 598,
    "start_time": "2022-02-07T17:56:59.179Z"
   },
   {
    "duration": 6,
    "start_time": "2022-02-07T17:56:59.779Z"
   },
   {
    "duration": 502,
    "start_time": "2022-02-07T17:56:59.787Z"
   },
   {
    "duration": 6,
    "start_time": "2022-02-07T17:57:00.292Z"
   },
   {
    "duration": 72,
    "start_time": "2022-02-07T17:57:00.301Z"
   },
   {
    "duration": 24,
    "start_time": "2022-02-07T17:57:00.376Z"
   },
   {
    "duration": 494,
    "start_time": "2022-02-07T17:57:00.404Z"
   },
   {
    "duration": 5,
    "start_time": "2022-02-07T17:57:00.902Z"
   },
   {
    "duration": 49,
    "start_time": "2022-02-07T17:57:00.909Z"
   },
   {
    "duration": 370,
    "start_time": "2022-02-07T17:57:00.962Z"
   },
   {
    "duration": 9,
    "start_time": "2022-02-07T17:57:01.335Z"
   },
   {
    "duration": 3116,
    "start_time": "2022-02-07T17:57:01.347Z"
   },
   {
    "duration": 370,
    "start_time": "2022-02-07T17:57:04.096Z"
   },
   {
    "duration": 370,
    "start_time": "2022-02-07T17:57:04.099Z"
   },
   {
    "duration": 370,
    "start_time": "2022-02-07T17:57:04.101Z"
   },
   {
    "duration": 369,
    "start_time": "2022-02-07T17:57:04.104Z"
   },
   {
    "duration": 368,
    "start_time": "2022-02-07T17:57:04.107Z"
   },
   {
    "duration": 368,
    "start_time": "2022-02-07T17:57:04.109Z"
   },
   {
    "duration": 368,
    "start_time": "2022-02-07T17:57:04.111Z"
   },
   {
    "duration": 368,
    "start_time": "2022-02-07T17:57:04.113Z"
   },
   {
    "duration": 368,
    "start_time": "2022-02-07T17:57:04.115Z"
   },
   {
    "duration": 368,
    "start_time": "2022-02-07T17:57:04.117Z"
   },
   {
    "duration": 368,
    "start_time": "2022-02-07T17:57:04.119Z"
   },
   {
    "duration": 9,
    "start_time": "2022-02-07T17:57:10.611Z"
   },
   {
    "duration": 8,
    "start_time": "2022-02-07T17:58:50.206Z"
   },
   {
    "duration": 7,
    "start_time": "2022-02-07T17:59:05.366Z"
   },
   {
    "duration": 7,
    "start_time": "2022-02-07T17:59:06.028Z"
   },
   {
    "duration": 8,
    "start_time": "2022-02-07T17:59:24.666Z"
   },
   {
    "duration": 8,
    "start_time": "2022-02-07T17:59:26.577Z"
   },
   {
    "duration": 6,
    "start_time": "2022-02-07T17:59:56.558Z"
   },
   {
    "duration": 11,
    "start_time": "2022-02-07T18:00:16.626Z"
   },
   {
    "duration": 7,
    "start_time": "2022-02-07T18:00:17.673Z"
   },
   {
    "duration": 355,
    "start_time": "2022-02-07T18:05:21.612Z"
   },
   {
    "duration": 317,
    "start_time": "2022-02-07T18:05:29.684Z"
   },
   {
    "duration": 409,
    "start_time": "2022-02-07T18:06:23.300Z"
   },
   {
    "duration": 9,
    "start_time": "2022-02-07T18:06:54.753Z"
   },
   {
    "duration": 9,
    "start_time": "2022-02-07T18:06:55.785Z"
   },
   {
    "duration": 8,
    "start_time": "2022-02-07T18:10:58.706Z"
   },
   {
    "duration": 9,
    "start_time": "2022-02-07T18:11:04.819Z"
   },
   {
    "duration": 9,
    "start_time": "2022-02-07T18:11:09.898Z"
   },
   {
    "duration": 8,
    "start_time": "2022-02-07T18:11:20.204Z"
   },
   {
    "duration": 7,
    "start_time": "2022-02-07T18:11:23.637Z"
   },
   {
    "duration": 7,
    "start_time": "2022-02-07T18:11:28.853Z"
   },
   {
    "duration": 7,
    "start_time": "2022-02-07T18:11:33.270Z"
   },
   {
    "duration": 8,
    "start_time": "2022-02-07T18:11:36.861Z"
   },
   {
    "duration": 9,
    "start_time": "2022-02-07T18:11:40.677Z"
   },
   {
    "duration": 8,
    "start_time": "2022-02-07T18:11:44.340Z"
   },
   {
    "duration": 8,
    "start_time": "2022-02-07T18:11:58.138Z"
   },
   {
    "duration": 8,
    "start_time": "2022-02-07T18:12:01.121Z"
   },
   {
    "duration": 8,
    "start_time": "2022-02-07T18:12:06.345Z"
   },
   {
    "duration": 7,
    "start_time": "2022-02-07T18:12:15.034Z"
   },
   {
    "duration": 7,
    "start_time": "2022-02-07T18:12:19.470Z"
   },
   {
    "duration": 6,
    "start_time": "2022-02-07T18:12:22.623Z"
   },
   {
    "duration": 7,
    "start_time": "2022-02-07T18:12:25.301Z"
   },
   {
    "duration": 7,
    "start_time": "2022-02-07T18:13:12.675Z"
   },
   {
    "duration": 303,
    "start_time": "2022-02-07T20:18:36.192Z"
   },
   {
    "duration": 339,
    "start_time": "2022-02-07T20:18:49.624Z"
   },
   {
    "duration": 693,
    "start_time": "2022-02-07T20:21:14.022Z"
   },
   {
    "duration": 434,
    "start_time": "2022-02-07T20:21:31.172Z"
   },
   {
    "duration": 338,
    "start_time": "2022-02-07T20:21:38.573Z"
   },
   {
    "duration": 376,
    "start_time": "2022-02-07T20:21:45.744Z"
   },
   {
    "duration": 621,
    "start_time": "2022-02-07T20:24:23.311Z"
   },
   {
    "duration": 7,
    "start_time": "2022-02-07T20:31:12.897Z"
   },
   {
    "duration": 7,
    "start_time": "2022-02-07T20:31:13.945Z"
   },
   {
    "duration": 367,
    "start_time": "2022-02-07T20:31:45.484Z"
   },
   {
    "duration": 377,
    "start_time": "2022-02-07T20:34:02.885Z"
   },
   {
    "duration": 463,
    "start_time": "2022-02-07T20:34:33.593Z"
   },
   {
    "duration": 9,
    "start_time": "2022-02-07T20:35:00.606Z"
   },
   {
    "duration": 77,
    "start_time": "2022-02-07T20:36:42.989Z"
   },
   {
    "duration": 79,
    "start_time": "2022-02-07T20:37:19.251Z"
   },
   {
    "duration": 4025,
    "start_time": "2022-02-07T20:38:01.693Z"
   },
   {
    "duration": 3482,
    "start_time": "2022-02-07T20:38:05.721Z"
   },
   {
    "duration": 3269,
    "start_time": "2022-02-07T20:38:09.206Z"
   },
   {
    "duration": 1623,
    "start_time": "2022-02-07T20:38:12.478Z"
   },
   {
    "duration": 35,
    "start_time": "2022-02-07T20:38:14.104Z"
   },
   {
    "duration": 15,
    "start_time": "2022-02-07T20:38:14.142Z"
   },
   {
    "duration": 594,
    "start_time": "2022-02-07T20:38:14.160Z"
   },
   {
    "duration": 40,
    "start_time": "2022-02-07T20:38:14.757Z"
   },
   {
    "duration": 19,
    "start_time": "2022-02-07T20:38:14.800Z"
   },
   {
    "duration": 29,
    "start_time": "2022-02-07T20:38:14.823Z"
   },
   {
    "duration": 18,
    "start_time": "2022-02-07T20:38:14.855Z"
   },
   {
    "duration": 71,
    "start_time": "2022-02-07T20:38:14.876Z"
   },
   {
    "duration": 19,
    "start_time": "2022-02-07T20:38:14.950Z"
   },
   {
    "duration": 14,
    "start_time": "2022-02-07T20:38:14.972Z"
   },
   {
    "duration": 56,
    "start_time": "2022-02-07T20:38:14.989Z"
   },
   {
    "duration": 34,
    "start_time": "2022-02-07T20:38:15.049Z"
   },
   {
    "duration": 48,
    "start_time": "2022-02-07T20:38:15.086Z"
   },
   {
    "duration": 25,
    "start_time": "2022-02-07T20:38:15.138Z"
   },
   {
    "duration": 26,
    "start_time": "2022-02-07T20:38:15.165Z"
   },
   {
    "duration": 49,
    "start_time": "2022-02-07T20:38:15.193Z"
   },
   {
    "duration": 27,
    "start_time": "2022-02-07T20:38:15.244Z"
   },
   {
    "duration": 69,
    "start_time": "2022-02-07T20:38:15.275Z"
   },
   {
    "duration": 40,
    "start_time": "2022-02-07T20:38:15.353Z"
   },
   {
    "duration": 7,
    "start_time": "2022-02-07T20:38:15.398Z"
   },
   {
    "duration": 463,
    "start_time": "2022-02-07T20:38:15.433Z"
   },
   {
    "duration": 45,
    "start_time": "2022-02-07T20:38:15.899Z"
   },
   {
    "duration": 26,
    "start_time": "2022-02-07T20:38:15.947Z"
   },
   {
    "duration": 593,
    "start_time": "2022-02-07T20:38:15.976Z"
   },
   {
    "duration": 6,
    "start_time": "2022-02-07T20:38:16.571Z"
   },
   {
    "duration": 559,
    "start_time": "2022-02-07T20:38:16.579Z"
   },
   {
    "duration": 6,
    "start_time": "2022-02-07T20:38:17.140Z"
   },
   {
    "duration": 472,
    "start_time": "2022-02-07T20:38:17.148Z"
   },
   {
    "duration": 13,
    "start_time": "2022-02-07T20:38:17.622Z"
   },
   {
    "duration": 46,
    "start_time": "2022-02-07T20:38:17.637Z"
   },
   {
    "duration": 13,
    "start_time": "2022-02-07T20:38:17.685Z"
   },
   {
    "duration": 379,
    "start_time": "2022-02-07T20:38:17.700Z"
   },
   {
    "duration": 4,
    "start_time": "2022-02-07T20:38:18.081Z"
   },
   {
    "duration": 48,
    "start_time": "2022-02-07T20:38:18.087Z"
   },
   {
    "duration": 354,
    "start_time": "2022-02-07T20:38:18.138Z"
   },
   {
    "duration": 7,
    "start_time": "2022-02-07T20:38:18.494Z"
   },
   {
    "duration": 28,
    "start_time": "2022-02-07T20:38:18.504Z"
   },
   {
    "duration": 95,
    "start_time": "2022-02-07T20:38:18.535Z"
   },
   {
    "duration": -66,
    "start_time": "2022-02-07T20:38:18.699Z"
   },
   {
    "duration": -71,
    "start_time": "2022-02-07T20:38:18.706Z"
   },
   {
    "duration": -73,
    "start_time": "2022-02-07T20:38:18.710Z"
   },
   {
    "duration": -75,
    "start_time": "2022-02-07T20:38:18.713Z"
   },
   {
    "duration": -75,
    "start_time": "2022-02-07T20:38:18.715Z"
   },
   {
    "duration": -76,
    "start_time": "2022-02-07T20:38:18.717Z"
   },
   {
    "duration": -81,
    "start_time": "2022-02-07T20:38:18.723Z"
   },
   {
    "duration": -84,
    "start_time": "2022-02-07T20:38:18.727Z"
   },
   {
    "duration": -85,
    "start_time": "2022-02-07T20:38:18.729Z"
   },
   {
    "duration": -87,
    "start_time": "2022-02-07T20:38:18.732Z"
   },
   {
    "duration": -88,
    "start_time": "2022-02-07T20:38:18.734Z"
   },
   {
    "duration": -89,
    "start_time": "2022-02-07T20:38:18.736Z"
   },
   {
    "duration": -95,
    "start_time": "2022-02-07T20:38:18.743Z"
   },
   {
    "duration": -97,
    "start_time": "2022-02-07T20:38:18.746Z"
   },
   {
    "duration": -98,
    "start_time": "2022-02-07T20:38:18.748Z"
   },
   {
    "duration": -99,
    "start_time": "2022-02-07T20:38:18.750Z"
   },
   {
    "duration": 5,
    "start_time": "2022-02-07T20:38:26.798Z"
   },
   {
    "duration": 5,
    "start_time": "2022-02-07T20:38:27.830Z"
   },
   {
    "duration": 344,
    "start_time": "2022-02-07T20:38:28.264Z"
   },
   {
    "duration": 368,
    "start_time": "2022-02-07T20:38:32.481Z"
   },
   {
    "duration": 7,
    "start_time": "2022-02-07T20:38:32.853Z"
   },
   {
    "duration": 92,
    "start_time": "2022-02-07T20:38:32.863Z"
   },
   {
    "duration": 8,
    "start_time": "2022-02-07T20:38:33.327Z"
   },
   {
    "duration": 7,
    "start_time": "2022-02-07T20:38:41.722Z"
   },
   {
    "duration": 7,
    "start_time": "2022-02-07T20:38:47.401Z"
   },
   {
    "duration": 8,
    "start_time": "2022-02-07T20:38:51.514Z"
   },
   {
    "duration": 346,
    "start_time": "2022-02-07T20:39:17.175Z"
   },
   {
    "duration": 405,
    "start_time": "2022-02-07T20:39:28.887Z"
   },
   {
    "duration": 6,
    "start_time": "2022-02-07T20:39:38.135Z"
   },
   {
    "duration": 7,
    "start_time": "2022-02-07T20:39:41.784Z"
   },
   {
    "duration": 7,
    "start_time": "2022-02-07T20:39:45.883Z"
   },
   {
    "duration": 517,
    "start_time": "2022-02-07T20:40:39.768Z"
   },
   {
    "duration": 420,
    "start_time": "2022-02-07T20:40:53.300Z"
   },
   {
    "duration": 7,
    "start_time": "2022-02-07T20:42:26.576Z"
   },
   {
    "duration": 9,
    "start_time": "2022-02-07T20:42:27.079Z"
   },
   {
    "duration": 7,
    "start_time": "2022-02-07T20:42:46.444Z"
   },
   {
    "duration": 7,
    "start_time": "2022-02-07T20:42:51.875Z"
   },
   {
    "duration": 9,
    "start_time": "2022-02-07T20:42:55.674Z"
   },
   {
    "duration": 7,
    "start_time": "2022-02-07T20:42:59.987Z"
   },
   {
    "duration": 6,
    "start_time": "2022-02-07T20:44:09.292Z"
   },
   {
    "duration": 6,
    "start_time": "2022-02-07T20:44:13.659Z"
   },
   {
    "duration": 7,
    "start_time": "2022-02-07T20:44:16.600Z"
   },
   {
    "duration": 554,
    "start_time": "2022-02-07T20:44:19.008Z"
   },
   {
    "duration": 7,
    "start_time": "2022-02-07T20:44:21.984Z"
   },
   {
    "duration": 7,
    "start_time": "2022-02-07T20:44:26.216Z"
   },
   {
    "duration": 8,
    "start_time": "2022-02-07T20:44:29.816Z"
   },
   {
    "duration": 7,
    "start_time": "2022-02-07T20:44:35.376Z"
   },
   {
    "duration": 9,
    "start_time": "2022-02-07T20:44:40.360Z"
   },
   {
    "duration": 7,
    "start_time": "2022-02-07T20:44:43.847Z"
   },
   {
    "duration": 6,
    "start_time": "2022-02-07T20:44:51.580Z"
   },
   {
    "duration": 7,
    "start_time": "2022-02-07T20:44:56.741Z"
   },
   {
    "duration": 87,
    "start_time": "2022-02-07T20:53:28.140Z"
   },
   {
    "duration": 127,
    "start_time": "2022-02-07T20:53:47.292Z"
   },
   {
    "duration": 83,
    "start_time": "2022-02-07T20:53:55.679Z"
   },
   {
    "duration": 86,
    "start_time": "2022-02-07T20:54:57.609Z"
   },
   {
    "duration": 78,
    "start_time": "2022-02-07T20:56:58.664Z"
   },
   {
    "duration": 10,
    "start_time": "2022-02-07T21:01:49.454Z"
   },
   {
    "duration": 8,
    "start_time": "2022-02-07T21:02:21.409Z"
   },
   {
    "duration": 10,
    "start_time": "2022-02-07T21:02:22.077Z"
   },
   {
    "duration": 8,
    "start_time": "2022-02-07T21:03:15.862Z"
   },
   {
    "duration": 8,
    "start_time": "2022-02-07T21:03:20.649Z"
   },
   {
    "duration": 106,
    "start_time": "2022-02-07T21:07:23.335Z"
   },
   {
    "duration": 80,
    "start_time": "2022-02-07T21:08:01.611Z"
   },
   {
    "duration": 11,
    "start_time": "2022-02-07T21:08:05.978Z"
   },
   {
    "duration": 11,
    "start_time": "2022-02-07T21:08:23.387Z"
   },
   {
    "duration": 421,
    "start_time": "2022-02-07T21:09:45.232Z"
   },
   {
    "duration": 88,
    "start_time": "2022-02-07T21:10:55.176Z"
   },
   {
    "duration": 39352,
    "start_time": "2022-02-08T19:13:41.487Z"
   },
   {
    "duration": 38113,
    "start_time": "2022-02-08T19:14:20.841Z"
   },
   {
    "duration": 63180,
    "start_time": "2022-02-08T19:14:58.956Z"
   },
   {
    "duration": 1239,
    "start_time": "2022-02-08T19:16:02.137Z"
   },
   {
    "duration": 56,
    "start_time": "2022-02-08T19:16:03.378Z"
   },
   {
    "duration": 9,
    "start_time": "2022-02-08T19:16:03.436Z"
   },
   {
    "duration": 42931,
    "start_time": "2022-02-08T19:16:03.446Z"
   },
   {
    "duration": 70,
    "start_time": "2022-02-08T19:16:46.380Z"
   },
   {
    "duration": 48,
    "start_time": "2022-02-08T19:16:46.452Z"
   },
   {
    "duration": 11,
    "start_time": "2022-02-08T19:16:46.501Z"
   },
   {
    "duration": 35,
    "start_time": "2022-02-08T19:16:46.513Z"
   },
   {
    "duration": 27,
    "start_time": "2022-02-08T19:16:46.549Z"
   },
   {
    "duration": 10,
    "start_time": "2022-02-08T19:16:46.578Z"
   },
   {
    "duration": 15,
    "start_time": "2022-02-08T19:16:46.589Z"
   },
   {
    "duration": 27,
    "start_time": "2022-02-08T19:16:46.605Z"
   },
   {
    "duration": 30,
    "start_time": "2022-02-08T19:16:46.634Z"
   },
   {
    "duration": 20,
    "start_time": "2022-02-08T19:16:46.666Z"
   },
   {
    "duration": 15,
    "start_time": "2022-02-08T19:16:46.688Z"
   },
   {
    "duration": 23,
    "start_time": "2022-02-08T19:16:46.704Z"
   },
   {
    "duration": 20,
    "start_time": "2022-02-08T19:16:46.728Z"
   },
   {
    "duration": 19,
    "start_time": "2022-02-08T19:16:46.749Z"
   },
   {
    "duration": 22,
    "start_time": "2022-02-08T19:16:46.769Z"
   },
   {
    "duration": 15,
    "start_time": "2022-02-08T19:16:46.795Z"
   },
   {
    "duration": 21,
    "start_time": "2022-02-08T19:16:46.811Z"
   },
   {
    "duration": 251,
    "start_time": "2022-02-08T19:16:46.834Z"
   },
   {
    "duration": 17,
    "start_time": "2022-02-08T19:16:47.087Z"
   },
   {
    "duration": 20,
    "start_time": "2022-02-08T19:16:47.105Z"
   },
   {
    "duration": 259,
    "start_time": "2022-02-08T19:16:47.126Z"
   },
   {
    "duration": 3,
    "start_time": "2022-02-08T19:16:47.387Z"
   },
   {
    "duration": 317,
    "start_time": "2022-02-08T19:16:47.392Z"
   },
   {
    "duration": 5,
    "start_time": "2022-02-08T19:16:47.710Z"
   },
   {
    "duration": 258,
    "start_time": "2022-02-08T19:16:47.716Z"
   },
   {
    "duration": 3,
    "start_time": "2022-02-08T19:16:47.976Z"
   },
   {
    "duration": 27,
    "start_time": "2022-02-08T19:16:47.980Z"
   },
   {
    "duration": 8,
    "start_time": "2022-02-08T19:16:48.009Z"
   },
   {
    "duration": 277,
    "start_time": "2022-02-08T19:16:48.018Z"
   },
   {
    "duration": 4,
    "start_time": "2022-02-08T19:16:48.297Z"
   },
   {
    "duration": 28,
    "start_time": "2022-02-08T19:16:48.302Z"
   },
   {
    "duration": 261,
    "start_time": "2022-02-08T19:16:48.331Z"
   },
   {
    "duration": 5,
    "start_time": "2022-02-08T19:16:48.594Z"
   },
   {
    "duration": 20,
    "start_time": "2022-02-08T19:16:48.600Z"
   },
   {
    "duration": 20,
    "start_time": "2022-02-08T19:16:48.622Z"
   },
   {
    "duration": 12,
    "start_time": "2022-02-08T19:16:48.644Z"
   },
   {
    "duration": 358,
    "start_time": "2022-02-08T19:16:48.658Z"
   },
   {
    "duration": 280,
    "start_time": "2022-02-08T19:16:49.018Z"
   },
   {
    "duration": 4,
    "start_time": "2022-02-08T19:16:49.299Z"
   },
   {
    "duration": 13,
    "start_time": "2022-02-08T19:16:49.304Z"
   },
   {
    "duration": 17,
    "start_time": "2022-02-08T19:16:49.319Z"
   },
   {
    "duration": 20,
    "start_time": "2022-02-08T19:16:49.337Z"
   },
   {
    "duration": 15,
    "start_time": "2022-02-08T19:16:49.358Z"
   },
   {
    "duration": 18,
    "start_time": "2022-02-08T19:16:49.375Z"
   },
   {
    "duration": 17,
    "start_time": "2022-02-08T19:16:49.394Z"
   },
   {
    "duration": 10,
    "start_time": "2022-02-08T19:16:49.412Z"
   },
   {
    "duration": 22,
    "start_time": "2022-02-08T19:16:49.423Z"
   },
   {
    "duration": 11,
    "start_time": "2022-02-08T19:16:49.446Z"
   },
   {
    "duration": 19,
    "start_time": "2022-02-08T19:16:49.459Z"
   },
   {
    "duration": 25,
    "start_time": "2022-02-08T19:16:49.479Z"
   },
   {
    "duration": 200,
    "start_time": "2022-02-08T19:16:49.506Z"
   },
   {
    "duration": 4,
    "start_time": "2022-02-08T19:16:49.708Z"
   },
   {
    "duration": 6,
    "start_time": "2022-02-08T19:16:49.714Z"
   },
   {
    "duration": 4,
    "start_time": "2022-02-08T19:16:49.721Z"
   },
   {
    "duration": 5,
    "start_time": "2022-02-08T19:16:49.727Z"
   },
   {
    "duration": 4,
    "start_time": "2022-02-08T19:16:49.733Z"
   },
   {
    "duration": 4,
    "start_time": "2022-02-08T19:16:49.739Z"
   },
   {
    "duration": 21,
    "start_time": "2022-02-08T19:19:46.692Z"
   },
   {
    "duration": 10,
    "start_time": "2022-02-08T19:19:47.709Z"
   },
   {
    "duration": 10,
    "start_time": "2022-02-08T19:19:48.180Z"
   },
   {
    "duration": 40,
    "start_time": "2022-02-08T19:19:48.332Z"
   },
   {
    "duration": 18,
    "start_time": "2022-02-08T19:19:48.495Z"
   },
   {
    "duration": 10,
    "start_time": "2022-02-08T19:19:48.660Z"
   },
   {
    "duration": 8,
    "start_time": "2022-02-08T19:19:48.812Z"
   },
   {
    "duration": 14,
    "start_time": "2022-02-08T19:19:48.963Z"
   },
   {
    "duration": 9,
    "start_time": "2022-02-08T19:19:49.131Z"
   },
   {
    "duration": 8,
    "start_time": "2022-02-08T19:19:49.915Z"
   },
   {
    "duration": 8,
    "start_time": "2022-02-08T19:19:50.380Z"
   },
   {
    "duration": 14,
    "start_time": "2022-02-08T19:19:51.850Z"
   },
   {
    "duration": 7,
    "start_time": "2022-02-08T19:19:52.187Z"
   },
   {
    "duration": 12,
    "start_time": "2022-02-08T19:19:52.507Z"
   },
   {
    "duration": 16,
    "start_time": "2022-02-08T19:19:52.851Z"
   },
   {
    "duration": 13,
    "start_time": "2022-02-08T19:19:53.011Z"
   },
   {
    "duration": 13,
    "start_time": "2022-02-08T19:19:53.179Z"
   },
   {
    "duration": 17,
    "start_time": "2022-02-08T19:19:53.516Z"
   },
   {
    "duration": 2,
    "start_time": "2022-02-08T19:19:53.836Z"
   },
   {
    "duration": 4,
    "start_time": "2022-02-08T19:19:54.170Z"
   },
   {
    "duration": 239,
    "start_time": "2022-02-08T19:19:54.338Z"
   },
   {
    "duration": 16,
    "start_time": "2022-02-08T19:19:54.995Z"
   },
   {
    "duration": 16,
    "start_time": "2022-02-08T19:19:55.155Z"
   },
   {
    "duration": 246,
    "start_time": "2022-02-08T19:19:55.314Z"
   },
   {
    "duration": 5,
    "start_time": "2022-02-08T19:19:55.954Z"
   },
   {
    "duration": 240,
    "start_time": "2022-02-08T19:19:56.274Z"
   },
   {
    "duration": 4,
    "start_time": "2022-02-08T19:19:56.931Z"
   },
   {
    "duration": 241,
    "start_time": "2022-02-08T19:19:57.114Z"
   },
   {
    "duration": 4,
    "start_time": "2022-02-08T19:19:57.618Z"
   },
   {
    "duration": 17,
    "start_time": "2022-02-08T19:19:57.754Z"
   },
   {
    "duration": 8,
    "start_time": "2022-02-08T19:19:57.916Z"
   },
   {
    "duration": 311,
    "start_time": "2022-02-08T19:19:58.083Z"
   },
   {
    "duration": 3,
    "start_time": "2022-02-08T19:19:58.396Z"
   },
   {
    "duration": 16,
    "start_time": "2022-02-08T19:19:58.531Z"
   },
   {
    "duration": 197,
    "start_time": "2022-02-08T19:19:58.715Z"
   },
   {
    "duration": 5,
    "start_time": "2022-02-08T19:19:59.037Z"
   },
   {
    "duration": 4,
    "start_time": "2022-02-08T19:19:59.170Z"
   },
   {
    "duration": 4,
    "start_time": "2022-02-08T19:19:59.507Z"
   },
   {
    "duration": 3,
    "start_time": "2022-02-08T19:19:59.675Z"
   },
   {
    "duration": 247,
    "start_time": "2022-02-08T19:19:59.826Z"
   },
   {
    "duration": 291,
    "start_time": "2022-02-08T19:20:00.163Z"
   },
   {
    "duration": 5,
    "start_time": "2022-02-08T19:20:00.502Z"
   },
   {
    "duration": 4,
    "start_time": "2022-02-08T19:20:00.842Z"
   },
   {
    "duration": 6,
    "start_time": "2022-02-08T19:20:01.179Z"
   },
   {
    "duration": 6,
    "start_time": "2022-02-08T19:20:01.347Z"
   },
   {
    "duration": 6,
    "start_time": "2022-02-08T19:20:01.530Z"
   },
   {
    "duration": 4,
    "start_time": "2022-02-08T19:20:01.850Z"
   },
   {
    "duration": 7,
    "start_time": "2022-02-08T19:20:02.194Z"
   },
   {
    "duration": 6,
    "start_time": "2022-02-08T19:20:02.522Z"
   },
   {
    "duration": 4,
    "start_time": "2022-02-08T19:20:02.867Z"
   },
   {
    "duration": 4,
    "start_time": "2022-02-08T19:20:03.035Z"
   },
   {
    "duration": 4,
    "start_time": "2022-02-08T19:20:03.707Z"
   },
   {
    "duration": 5,
    "start_time": "2022-02-08T19:20:03.883Z"
   },
   {
    "duration": 186,
    "start_time": "2022-02-08T19:20:04.227Z"
   },
   {
    "duration": 5,
    "start_time": "2022-02-08T19:20:04.898Z"
   },
   {
    "duration": 5,
    "start_time": "2022-02-08T19:20:05.083Z"
   },
   {
    "duration": 5,
    "start_time": "2022-02-08T19:20:05.258Z"
   },
   {
    "duration": 4,
    "start_time": "2022-02-08T19:20:05.442Z"
   },
   {
    "duration": 4,
    "start_time": "2022-02-08T19:20:05.618Z"
   },
   {
    "duration": 5,
    "start_time": "2022-02-08T19:20:05.802Z"
   },
   {
    "duration": 4,
    "start_time": "2022-02-08T19:42:57.559Z"
   },
   {
    "duration": 4,
    "start_time": "2022-02-08T19:43:01.918Z"
   },
   {
    "duration": 5,
    "start_time": "2022-02-08T19:43:04.967Z"
   },
   {
    "duration": 340,
    "start_time": "2022-02-10T12:17:18.221Z"
   },
   {
    "duration": 3825,
    "start_time": "2022-02-10T12:17:24.644Z"
   },
   {
    "duration": 13576,
    "start_time": "2022-02-10T12:17:28.471Z"
   },
   {
    "duration": 7612,
    "start_time": "2022-02-10T12:17:42.049Z"
   },
   {
    "duration": 1286,
    "start_time": "2022-02-10T12:17:49.664Z"
   },
   {
    "duration": 25,
    "start_time": "2022-02-10T12:17:50.952Z"
   },
   {
    "duration": 10,
    "start_time": "2022-02-10T12:17:50.979Z"
   },
   {
    "duration": 616,
    "start_time": "2022-02-10T12:17:50.990Z"
   },
   {
    "duration": 34,
    "start_time": "2022-02-10T12:17:51.608Z"
   },
   {
    "duration": 16,
    "start_time": "2022-02-10T12:17:51.644Z"
   },
   {
    "duration": 13,
    "start_time": "2022-02-10T12:17:51.662Z"
   },
   {
    "duration": 11,
    "start_time": "2022-02-10T12:17:51.676Z"
   },
   {
    "duration": 17,
    "start_time": "2022-02-10T12:17:51.689Z"
   },
   {
    "duration": 16,
    "start_time": "2022-02-10T12:17:51.708Z"
   },
   {
    "duration": 8,
    "start_time": "2022-02-10T12:17:51.726Z"
   },
   {
    "duration": 15,
    "start_time": "2022-02-10T12:17:51.736Z"
   },
   {
    "duration": 26,
    "start_time": "2022-02-10T12:17:51.753Z"
   },
   {
    "duration": 12,
    "start_time": "2022-02-10T12:17:51.781Z"
   },
   {
    "duration": 12,
    "start_time": "2022-02-10T12:17:51.795Z"
   },
   {
    "duration": 12,
    "start_time": "2022-02-10T12:17:51.818Z"
   },
   {
    "duration": 15,
    "start_time": "2022-02-10T12:17:51.831Z"
   },
   {
    "duration": 14,
    "start_time": "2022-02-10T12:17:51.847Z"
   },
   {
    "duration": 17,
    "start_time": "2022-02-10T12:17:51.862Z"
   },
   {
    "duration": 4,
    "start_time": "2022-02-10T12:17:51.882Z"
   },
   {
    "duration": 336,
    "start_time": "2022-02-10T12:17:51.888Z"
   },
   {
    "duration": 18,
    "start_time": "2022-02-10T12:17:52.226Z"
   },
   {
    "duration": 48,
    "start_time": "2022-02-10T12:17:52.246Z"
   },
   {
    "duration": 292,
    "start_time": "2022-02-10T12:17:52.296Z"
   },
   {
    "duration": 5,
    "start_time": "2022-02-10T12:17:52.590Z"
   },
   {
    "duration": 367,
    "start_time": "2022-02-10T12:17:52.597Z"
   },
   {
    "duration": 5,
    "start_time": "2022-02-10T12:17:52.965Z"
   },
   {
    "duration": 302,
    "start_time": "2022-02-10T12:17:52.971Z"
   },
   {
    "duration": 3,
    "start_time": "2022-02-10T12:17:53.275Z"
   },
   {
    "duration": 21,
    "start_time": "2022-02-10T12:17:53.280Z"
   },
   {
    "duration": 23,
    "start_time": "2022-02-10T12:17:53.303Z"
   },
   {
    "duration": 260,
    "start_time": "2022-02-10T12:17:53.328Z"
   },
   {
    "duration": 4,
    "start_time": "2022-02-10T12:17:53.590Z"
   },
   {
    "duration": 35,
    "start_time": "2022-02-10T12:17:53.596Z"
   },
   {
    "duration": 252,
    "start_time": "2022-02-10T12:17:53.633Z"
   },
   {
    "duration": 6,
    "start_time": "2022-02-10T12:17:53.887Z"
   },
   {
    "duration": 24,
    "start_time": "2022-02-10T12:17:53.895Z"
   },
   {
    "duration": 3,
    "start_time": "2022-02-10T12:17:53.921Z"
   },
   {
    "duration": 9,
    "start_time": "2022-02-10T12:17:53.926Z"
   },
   {
    "duration": 299,
    "start_time": "2022-02-10T12:17:53.937Z"
   },
   {
    "duration": 301,
    "start_time": "2022-02-10T12:17:54.238Z"
   },
   {
    "duration": 5,
    "start_time": "2022-02-10T12:17:54.540Z"
   },
   {
    "duration": 8,
    "start_time": "2022-02-10T12:17:54.547Z"
   },
   {
    "duration": 7,
    "start_time": "2022-02-10T12:17:54.556Z"
   },
   {
    "duration": 11,
    "start_time": "2022-02-10T12:17:54.564Z"
   },
   {
    "duration": 10,
    "start_time": "2022-02-10T12:17:54.576Z"
   },
   {
    "duration": 4,
    "start_time": "2022-02-10T12:17:54.588Z"
   },
   {
    "duration": 8,
    "start_time": "2022-02-10T12:17:54.619Z"
   },
   {
    "duration": 18,
    "start_time": "2022-02-10T12:17:54.629Z"
   },
   {
    "duration": 26,
    "start_time": "2022-02-10T12:17:54.648Z"
   },
   {
    "duration": 24,
    "start_time": "2022-02-10T12:17:54.675Z"
   },
   {
    "duration": 15,
    "start_time": "2022-02-10T12:17:54.700Z"
   },
   {
    "duration": 20,
    "start_time": "2022-02-10T12:17:54.717Z"
   },
   {
    "duration": 220,
    "start_time": "2022-02-10T12:17:54.739Z"
   },
   {
    "duration": 4,
    "start_time": "2022-02-10T12:17:54.961Z"
   },
   {
    "duration": 29,
    "start_time": "2022-02-10T12:17:54.966Z"
   },
   {
    "duration": 17,
    "start_time": "2022-02-10T12:17:54.997Z"
   },
   {
    "duration": 8,
    "start_time": "2022-02-10T12:17:55.015Z"
   },
   {
    "duration": 13,
    "start_time": "2022-02-10T12:17:55.025Z"
   },
   {
    "duration": 7,
    "start_time": "2022-02-10T12:17:55.040Z"
   },
   {
    "duration": 377,
    "start_time": "2022-02-10T12:18:29.455Z"
   },
   {
    "duration": 264,
    "start_time": "2022-02-10T12:18:55.537Z"
   },
   {
    "duration": 246,
    "start_time": "2022-02-10T12:19:46.735Z"
   },
   {
    "duration": 5,
    "start_time": "2022-02-10T12:21:15.387Z"
   },
   {
    "duration": 5,
    "start_time": "2022-02-10T12:21:20.636Z"
   },
   {
    "duration": 6,
    "start_time": "2022-02-10T12:22:26.147Z"
   },
   {
    "duration": 5,
    "start_time": "2022-02-10T12:22:33.115Z"
   },
   {
    "duration": 5,
    "start_time": "2022-02-10T12:22:51.952Z"
   },
   {
    "duration": 5,
    "start_time": "2022-02-10T12:22:56.584Z"
   },
   {
    "duration": 5,
    "start_time": "2022-02-10T12:23:03.432Z"
   },
   {
    "duration": 5,
    "start_time": "2022-02-10T12:23:07.465Z"
   },
   {
    "duration": 5,
    "start_time": "2022-02-10T12:23:12.523Z"
   },
   {
    "duration": 5,
    "start_time": "2022-02-10T12:23:16.132Z"
   },
   {
    "duration": 5,
    "start_time": "2022-02-10T12:23:19.212Z"
   },
   {
    "duration": 5,
    "start_time": "2022-02-10T12:23:22.996Z"
   },
   {
    "duration": 5,
    "start_time": "2022-02-10T12:23:25.460Z"
   },
   {
    "duration": 5,
    "start_time": "2022-02-10T12:23:27.716Z"
   },
   {
    "duration": 5,
    "start_time": "2022-02-10T12:23:30.163Z"
   },
   {
    "duration": 5,
    "start_time": "2022-02-10T12:23:33.052Z"
   },
   {
    "duration": 6,
    "start_time": "2022-02-10T12:23:36.629Z"
   },
   {
    "duration": 5,
    "start_time": "2022-02-10T12:23:40.412Z"
   },
   {
    "duration": 5,
    "start_time": "2022-02-10T12:23:44.576Z"
   },
   {
    "duration": 6,
    "start_time": "2022-02-10T12:23:49.000Z"
   },
   {
    "duration": 5,
    "start_time": "2022-02-10T12:23:51.871Z"
   },
   {
    "duration": 7,
    "start_time": "2022-02-10T12:23:54.264Z"
   },
   {
    "duration": 5,
    "start_time": "2022-02-10T12:24:00.151Z"
   },
   {
    "duration": 5,
    "start_time": "2022-02-10T12:24:05.673Z"
   },
   {
    "duration": 5,
    "start_time": "2022-02-10T12:24:08.336Z"
   },
   {
    "duration": 5,
    "start_time": "2022-02-10T12:24:12.044Z"
   },
   {
    "duration": 5,
    "start_time": "2022-02-10T12:24:15.564Z"
   },
   {
    "duration": 5,
    "start_time": "2022-02-10T12:24:18.588Z"
   },
   {
    "duration": 5,
    "start_time": "2022-02-10T12:24:35.341Z"
   },
   {
    "duration": 5,
    "start_time": "2022-02-10T12:24:38.668Z"
   },
   {
    "duration": 6,
    "start_time": "2022-02-10T12:24:43.712Z"
   },
   {
    "duration": 97,
    "start_time": "2022-02-10T12:29:31.790Z"
   },
   {
    "duration": 2843,
    "start_time": "2022-02-10T12:31:01.290Z"
   },
   {
    "duration": 2792,
    "start_time": "2022-02-10T12:31:04.135Z"
   },
   {
    "duration": 2632,
    "start_time": "2022-02-10T12:31:06.929Z"
   },
   {
    "duration": 1343,
    "start_time": "2022-02-10T12:31:09.564Z"
   },
   {
    "duration": 20,
    "start_time": "2022-02-10T12:31:10.909Z"
   },
   {
    "duration": 11,
    "start_time": "2022-02-10T12:31:10.931Z"
   },
   {
    "duration": 608,
    "start_time": "2022-02-10T12:31:10.944Z"
   },
   {
    "duration": 26,
    "start_time": "2022-02-10T12:31:11.555Z"
   },
   {
    "duration": 23,
    "start_time": "2022-02-10T12:31:11.584Z"
   },
   {
    "duration": 18,
    "start_time": "2022-02-10T12:31:11.609Z"
   },
   {
    "duration": 10,
    "start_time": "2022-02-10T12:31:11.629Z"
   },
   {
    "duration": 18,
    "start_time": "2022-02-10T12:31:11.642Z"
   },
   {
    "duration": 9,
    "start_time": "2022-02-10T12:31:11.662Z"
   },
   {
    "duration": 9,
    "start_time": "2022-02-10T12:31:11.673Z"
   },
   {
    "duration": 41,
    "start_time": "2022-02-10T12:31:11.684Z"
   },
   {
    "duration": 17,
    "start_time": "2022-02-10T12:31:11.727Z"
   },
   {
    "duration": 18,
    "start_time": "2022-02-10T12:31:11.746Z"
   },
   {
    "duration": 16,
    "start_time": "2022-02-10T12:31:11.765Z"
   },
   {
    "duration": 20,
    "start_time": "2022-02-10T12:31:11.783Z"
   },
   {
    "duration": 24,
    "start_time": "2022-02-10T12:31:11.805Z"
   },
   {
    "duration": 14,
    "start_time": "2022-02-10T12:31:11.831Z"
   },
   {
    "duration": 20,
    "start_time": "2022-02-10T12:31:11.847Z"
   },
   {
    "duration": 4,
    "start_time": "2022-02-10T12:31:11.871Z"
   },
   {
    "duration": 307,
    "start_time": "2022-02-10T12:31:11.878Z"
   },
   {
    "duration": 30,
    "start_time": "2022-02-10T12:31:12.188Z"
   },
   {
    "duration": 19,
    "start_time": "2022-02-10T12:31:12.221Z"
   },
   {
    "duration": 317,
    "start_time": "2022-02-10T12:31:12.242Z"
   },
   {
    "duration": 5,
    "start_time": "2022-02-10T12:31:12.560Z"
   },
   {
    "duration": 365,
    "start_time": "2022-02-10T12:31:12.567Z"
   },
   {
    "duration": 5,
    "start_time": "2022-02-10T12:31:12.934Z"
   },
   {
    "duration": 320,
    "start_time": "2022-02-10T12:31:12.941Z"
   },
   {
    "duration": 3,
    "start_time": "2022-02-10T12:31:13.263Z"
   },
   {
    "duration": 28,
    "start_time": "2022-02-10T12:31:13.268Z"
   },
   {
    "duration": 8,
    "start_time": "2022-02-10T12:31:13.298Z"
   },
   {
    "duration": 288,
    "start_time": "2022-02-10T12:31:13.318Z"
   },
   {
    "duration": 12,
    "start_time": "2022-02-10T12:31:13.608Z"
   },
   {
    "duration": 26,
    "start_time": "2022-02-10T12:31:13.622Z"
   },
   {
    "duration": 255,
    "start_time": "2022-02-10T12:31:13.650Z"
   },
   {
    "duration": 14,
    "start_time": "2022-02-10T12:31:13.907Z"
   },
   {
    "duration": 9,
    "start_time": "2022-02-10T12:31:13.923Z"
   },
   {
    "duration": 5075,
    "start_time": "2022-02-10T12:31:13.934Z"
   },
   {
    "duration": 533,
    "start_time": "2022-02-10T12:31:18.478Z"
   },
   {
    "duration": 531,
    "start_time": "2022-02-10T12:31:18.482Z"
   },
   {
    "duration": 528,
    "start_time": "2022-02-10T12:31:18.487Z"
   },
   {
    "duration": 526,
    "start_time": "2022-02-10T12:31:18.490Z"
   },
   {
    "duration": 524,
    "start_time": "2022-02-10T12:31:18.493Z"
   },
   {
    "duration": 523,
    "start_time": "2022-02-10T12:31:18.496Z"
   },
   {
    "duration": 522,
    "start_time": "2022-02-10T12:31:18.499Z"
   },
   {
    "duration": 521,
    "start_time": "2022-02-10T12:31:18.501Z"
   },
   {
    "duration": 521,
    "start_time": "2022-02-10T12:31:18.504Z"
   },
   {
    "duration": 521,
    "start_time": "2022-02-10T12:31:18.506Z"
   },
   {
    "duration": 457,
    "start_time": "2022-02-10T12:31:18.571Z"
   },
   {
    "duration": 456,
    "start_time": "2022-02-10T12:31:18.573Z"
   },
   {
    "duration": 454,
    "start_time": "2022-02-10T12:31:18.576Z"
   },
   {
    "duration": 453,
    "start_time": "2022-02-10T12:31:18.578Z"
   },
   {
    "duration": 452,
    "start_time": "2022-02-10T12:31:18.580Z"
   },
   {
    "duration": 450,
    "start_time": "2022-02-10T12:31:18.583Z"
   },
   {
    "duration": 449,
    "start_time": "2022-02-10T12:31:18.585Z"
   },
   {
    "duration": 447,
    "start_time": "2022-02-10T12:31:18.588Z"
   },
   {
    "duration": 446,
    "start_time": "2022-02-10T12:31:18.590Z"
   },
   {
    "duration": 445,
    "start_time": "2022-02-10T12:31:18.592Z"
   },
   {
    "duration": 443,
    "start_time": "2022-02-10T12:31:18.595Z"
   },
   {
    "duration": 442,
    "start_time": "2022-02-10T12:31:18.597Z"
   },
   {
    "duration": 439,
    "start_time": "2022-02-10T12:31:18.600Z"
   },
   {
    "duration": 438,
    "start_time": "2022-02-10T12:31:18.602Z"
   },
   {
    "duration": 6,
    "start_time": "2022-02-10T12:33:25.895Z"
   },
   {
    "duration": 6,
    "start_time": "2022-02-10T12:33:32.371Z"
   },
   {
    "duration": 4,
    "start_time": "2022-02-10T12:33:35.602Z"
   },
   {
    "duration": 5,
    "start_time": "2022-02-10T12:33:36.037Z"
   },
   {
    "duration": 10,
    "start_time": "2022-02-10T12:34:47.028Z"
   },
   {
    "duration": 7,
    "start_time": "2022-02-10T12:34:47.306Z"
   },
   {
    "duration": 3,
    "start_time": "2022-02-10T12:34:47.923Z"
   },
   {
    "duration": 3,
    "start_time": "2022-02-10T12:34:48.115Z"
   },
   {
    "duration": 4270,
    "start_time": "2022-02-10T12:35:14.214Z"
   },
   {
    "duration": 444,
    "start_time": "2022-02-10T12:35:34.186Z"
   },
   {
    "duration": 423,
    "start_time": "2022-02-10T12:36:56.876Z"
   },
   {
    "duration": 8,
    "start_time": "2022-02-10T12:37:13.679Z"
   },
   {
    "duration": 6,
    "start_time": "2022-02-10T12:37:13.960Z"
   },
   {
    "duration": 4,
    "start_time": "2022-02-10T12:37:14.215Z"
   },
   {
    "duration": 4,
    "start_time": "2022-02-10T12:37:14.536Z"
   },
   {
    "duration": 414,
    "start_time": "2022-02-10T12:37:15.472Z"
   },
   {
    "duration": 441,
    "start_time": "2022-02-10T12:37:54.052Z"
   },
   {
    "duration": 314,
    "start_time": "2022-02-10T12:38:06.272Z"
   },
   {
    "duration": 11,
    "start_time": "2022-02-10T12:38:21.296Z"
   },
   {
    "duration": 2180,
    "start_time": "2022-02-10T12:40:51.836Z"
   },
   {
    "duration": 3030,
    "start_time": "2022-02-10T12:41:19.698Z"
   },
   {
    "duration": 1831,
    "start_time": "2022-02-10T12:41:27.249Z"
   },
   {
    "duration": 6,
    "start_time": "2022-02-10T12:42:00.222Z"
   },
   {
    "duration": 4,
    "start_time": "2022-02-10T12:42:21.370Z"
   },
   {
    "duration": 4,
    "start_time": "2022-02-10T12:42:25.978Z"
   },
   {
    "duration": 5,
    "start_time": "2022-02-10T12:42:26.321Z"
   },
   {
    "duration": 4,
    "start_time": "2022-02-10T12:42:26.649Z"
   },
   {
    "duration": 8,
    "start_time": "2022-02-10T12:42:27.298Z"
   },
   {
    "duration": 320,
    "start_time": "2022-02-10T12:42:34.950Z"
   },
   {
    "duration": 4,
    "start_time": "2022-02-10T12:43:09.019Z"
   },
   {
    "duration": 4,
    "start_time": "2022-02-10T12:43:09.401Z"
   },
   {
    "duration": 4,
    "start_time": "2022-02-10T12:43:09.785Z"
   },
   {
    "duration": 6,
    "start_time": "2022-02-10T12:43:10.345Z"
   },
   {
    "duration": 5,
    "start_time": "2022-02-10T12:43:19.985Z"
   },
   {
    "duration": 4,
    "start_time": "2022-02-10T12:43:21.169Z"
   },
   {
    "duration": 3,
    "start_time": "2022-02-10T12:43:21.562Z"
   },
   {
    "duration": 6,
    "start_time": "2022-02-10T12:43:21.849Z"
   },
   {
    "duration": 7,
    "start_time": "2022-02-10T12:43:43.238Z"
   },
   {
    "duration": 8,
    "start_time": "2022-02-10T12:43:43.565Z"
   },
   {
    "duration": 1855,
    "start_time": "2022-02-10T12:43:43.797Z"
   },
   {
    "duration": 558,
    "start_time": "2022-02-10T12:43:45.096Z"
   },
   {
    "duration": 554,
    "start_time": "2022-02-10T12:43:45.101Z"
   },
   {
    "duration": 552,
    "start_time": "2022-02-10T12:43:45.104Z"
   },
   {
    "duration": 17,
    "start_time": "2022-02-10T12:51:25.924Z"
   },
   {
    "duration": 277,
    "start_time": "2022-02-10T12:53:39.925Z"
   },
   {
    "duration": 9,
    "start_time": "2022-02-10T12:53:48.001Z"
   },
   {
    "duration": 10,
    "start_time": "2022-02-10T12:54:05.249Z"
   },
   {
    "duration": 1912,
    "start_time": "2022-02-10T12:54:06.145Z"
   },
   {
    "duration": 2,
    "start_time": "2022-02-10T12:54:17.375Z"
   },
   {
    "duration": 4,
    "start_time": "2022-02-10T12:54:25.005Z"
   },
   {
    "duration": 4,
    "start_time": "2022-02-10T12:54:25.460Z"
   },
   {
    "duration": 8,
    "start_time": "2022-02-10T12:54:26.252Z"
   },
   {
    "duration": 371,
    "start_time": "2022-02-10T12:54:36.557Z"
   },
   {
    "duration": 267,
    "start_time": "2022-02-10T13:12:52.504Z"
   },
   {
    "duration": 9,
    "start_time": "2022-02-10T13:13:28.804Z"
   },
   {
    "duration": 8,
    "start_time": "2022-02-10T13:13:29.667Z"
   },
   {
    "duration": 2,
    "start_time": "2022-02-10T13:13:30.452Z"
   },
   {
    "duration": 4,
    "start_time": "2022-02-10T13:13:31.844Z"
   },
   {
    "duration": 4,
    "start_time": "2022-02-10T13:13:32.115Z"
   },
   {
    "duration": 9,
    "start_time": "2022-02-10T13:13:32.803Z"
   },
   {
    "duration": 7,
    "start_time": "2022-02-10T13:22:10.985Z"
   },
   {
    "duration": 7,
    "start_time": "2022-02-10T13:22:11.409Z"
   },
   {
    "duration": 3,
    "start_time": "2022-02-10T13:22:14.466Z"
   },
   {
    "duration": 4,
    "start_time": "2022-02-10T13:22:14.794Z"
   },
   {
    "duration": 3,
    "start_time": "2022-02-10T13:22:15.067Z"
   },
   {
    "duration": 9,
    "start_time": "2022-02-10T13:22:15.642Z"
   },
   {
    "duration": 472,
    "start_time": "2022-02-10T13:30:40.795Z"
   },
   {
    "duration": 278,
    "start_time": "2022-02-10T13:30:51.361Z"
   },
   {
    "duration": 8,
    "start_time": "2022-02-10T13:31:26.521Z"
   },
   {
    "duration": 7,
    "start_time": "2022-02-10T13:31:26.850Z"
   },
   {
    "duration": 3,
    "start_time": "2022-02-10T13:31:27.217Z"
   },
   {
    "duration": 4,
    "start_time": "2022-02-10T13:31:27.529Z"
   },
   {
    "duration": 4,
    "start_time": "2022-02-10T13:31:27.925Z"
   },
   {
    "duration": 8,
    "start_time": "2022-02-10T13:31:28.341Z"
   },
   {
    "duration": 7,
    "start_time": "2022-02-10T13:31:47.577Z"
   },
   {
    "duration": 6,
    "start_time": "2022-02-10T13:31:47.937Z"
   },
   {
    "duration": 2,
    "start_time": "2022-02-10T13:31:48.265Z"
   },
   {
    "duration": 4,
    "start_time": "2022-02-10T13:31:48.720Z"
   },
   {
    "duration": 3,
    "start_time": "2022-02-10T13:31:50.585Z"
   },
   {
    "duration": 9,
    "start_time": "2022-02-10T13:31:51.329Z"
   },
   {
    "duration": 343,
    "start_time": "2022-02-10T13:31:55.730Z"
   },
   {
    "duration": 417,
    "start_time": "2022-02-10T13:32:18.574Z"
   },
   {
    "duration": 427,
    "start_time": "2022-02-10T13:34:10.263Z"
   },
   {
    "duration": 2517,
    "start_time": "2022-02-10T13:34:18.423Z"
   },
   {
    "duration": 2501,
    "start_time": "2022-02-10T13:34:20.943Z"
   },
   {
    "duration": 2572,
    "start_time": "2022-02-10T13:34:23.447Z"
   },
   {
    "duration": 1274,
    "start_time": "2022-02-10T13:34:26.022Z"
   },
   {
    "duration": 21,
    "start_time": "2022-02-10T13:34:27.298Z"
   },
   {
    "duration": 9,
    "start_time": "2022-02-10T13:34:27.321Z"
   },
   {
    "duration": 509,
    "start_time": "2022-02-10T13:34:27.332Z"
   },
   {
    "duration": 24,
    "start_time": "2022-02-10T13:34:27.843Z"
   },
   {
    "duration": 13,
    "start_time": "2022-02-10T13:34:27.869Z"
   },
   {
    "duration": 13,
    "start_time": "2022-02-10T13:34:27.884Z"
   },
   {
    "duration": 10,
    "start_time": "2022-02-10T13:34:27.898Z"
   },
   {
    "duration": 13,
    "start_time": "2022-02-10T13:34:27.918Z"
   },
   {
    "duration": 8,
    "start_time": "2022-02-10T13:34:27.933Z"
   },
   {
    "duration": 11,
    "start_time": "2022-02-10T13:34:27.943Z"
   },
   {
    "duration": 12,
    "start_time": "2022-02-10T13:34:27.955Z"
   },
   {
    "duration": 18,
    "start_time": "2022-02-10T13:34:27.968Z"
   },
   {
    "duration": 30,
    "start_time": "2022-02-10T13:34:27.988Z"
   },
   {
    "duration": 24,
    "start_time": "2022-02-10T13:34:28.020Z"
   },
   {
    "duration": 41,
    "start_time": "2022-02-10T13:34:28.045Z"
   },
   {
    "duration": 33,
    "start_time": "2022-02-10T13:34:28.088Z"
   },
   {
    "duration": 16,
    "start_time": "2022-02-10T13:34:28.123Z"
   },
   {
    "duration": 29,
    "start_time": "2022-02-10T13:34:28.141Z"
   },
   {
    "duration": 4,
    "start_time": "2022-02-10T13:34:28.175Z"
   },
   {
    "duration": 279,
    "start_time": "2022-02-10T13:34:28.182Z"
   },
   {
    "duration": 18,
    "start_time": "2022-02-10T13:34:28.463Z"
   },
   {
    "duration": 36,
    "start_time": "2022-02-10T13:34:28.482Z"
   },
   {
    "duration": 304,
    "start_time": "2022-02-10T13:34:28.520Z"
   },
   {
    "duration": 6,
    "start_time": "2022-02-10T13:34:28.826Z"
   },
   {
    "duration": 369,
    "start_time": "2022-02-10T13:34:28.833Z"
   },
   {
    "duration": 18,
    "start_time": "2022-02-10T13:34:29.204Z"
   },
   {
    "duration": 298,
    "start_time": "2022-02-10T13:34:29.224Z"
   },
   {
    "duration": 3,
    "start_time": "2022-02-10T13:34:29.524Z"
   },
   {
    "duration": 25,
    "start_time": "2022-02-10T13:34:29.529Z"
   },
   {
    "duration": 11,
    "start_time": "2022-02-10T13:34:29.556Z"
   },
   {
    "duration": 269,
    "start_time": "2022-02-10T13:34:29.569Z"
   },
   {
    "duration": 3,
    "start_time": "2022-02-10T13:34:29.840Z"
   },
   {
    "duration": 22,
    "start_time": "2022-02-10T13:34:29.845Z"
   },
   {
    "duration": 253,
    "start_time": "2022-02-10T13:34:29.868Z"
   },
   {
    "duration": 6,
    "start_time": "2022-02-10T13:34:30.123Z"
   },
   {
    "duration": 12,
    "start_time": "2022-02-10T13:34:30.131Z"
   },
   {
    "duration": 40,
    "start_time": "2022-02-10T13:34:30.145Z"
   },
   {
    "duration": 20,
    "start_time": "2022-02-10T13:34:30.187Z"
   },
   {
    "duration": 23,
    "start_time": "2022-02-10T13:34:30.209Z"
   },
   {
    "duration": 579,
    "start_time": "2022-02-10T13:34:30.234Z"
   },
   {
    "duration": 678,
    "start_time": "2022-02-10T13:34:30.137Z"
   },
   {
    "duration": 674,
    "start_time": "2022-02-10T13:34:30.144Z"
   },
   {
    "duration": 672,
    "start_time": "2022-02-10T13:34:30.147Z"
   },
   {
    "duration": 598,
    "start_time": "2022-02-10T13:34:30.222Z"
   },
   {
    "duration": 593,
    "start_time": "2022-02-10T13:34:30.228Z"
   },
   {
    "duration": 591,
    "start_time": "2022-02-10T13:34:30.231Z"
   },
   {
    "duration": 589,
    "start_time": "2022-02-10T13:34:30.234Z"
   },
   {
    "duration": 588,
    "start_time": "2022-02-10T13:34:30.236Z"
   },
   {
    "duration": 586,
    "start_time": "2022-02-10T13:34:30.239Z"
   },
   {
    "duration": 585,
    "start_time": "2022-02-10T13:34:30.241Z"
   },
   {
    "duration": 583,
    "start_time": "2022-02-10T13:34:30.244Z"
   },
   {
    "duration": 580,
    "start_time": "2022-02-10T13:34:30.247Z"
   },
   {
    "duration": 579,
    "start_time": "2022-02-10T13:34:30.249Z"
   },
   {
    "duration": 578,
    "start_time": "2022-02-10T13:34:30.251Z"
   },
   {
    "duration": 576,
    "start_time": "2022-02-10T13:34:30.254Z"
   },
   {
    "duration": 575,
    "start_time": "2022-02-10T13:34:30.256Z"
   },
   {
    "duration": 572,
    "start_time": "2022-02-10T13:34:30.259Z"
   },
   {
    "duration": 571,
    "start_time": "2022-02-10T13:34:30.261Z"
   },
   {
    "duration": 569,
    "start_time": "2022-02-10T13:34:30.264Z"
   },
   {
    "duration": 568,
    "start_time": "2022-02-10T13:34:30.266Z"
   },
   {
    "duration": 4256,
    "start_time": "2022-02-10T13:35:03.727Z"
   },
   {
    "duration": 4,
    "start_time": "2022-02-10T13:35:14.966Z"
   },
   {
    "duration": 4,
    "start_time": "2022-02-10T13:35:15.359Z"
   },
   {
    "duration": 294,
    "start_time": "2022-02-10T13:35:15.712Z"
   },
   {
    "duration": 303,
    "start_time": "2022-02-10T13:35:22.599Z"
   },
   {
    "duration": 6,
    "start_time": "2022-02-10T13:35:30.055Z"
   },
   {
    "duration": 6,
    "start_time": "2022-02-10T13:35:31.503Z"
   },
   {
    "duration": 3,
    "start_time": "2022-02-10T13:36:13.391Z"
   },
   {
    "duration": 4,
    "start_time": "2022-02-10T13:36:13.742Z"
   },
   {
    "duration": 313,
    "start_time": "2022-02-10T13:36:14.199Z"
   },
   {
    "duration": 258,
    "start_time": "2022-02-10T13:36:16.447Z"
   },
   {
    "duration": 5,
    "start_time": "2022-02-10T13:36:30.646Z"
   },
   {
    "duration": 5,
    "start_time": "2022-02-10T13:36:32.154Z"
   },
   {
    "duration": 4,
    "start_time": "2022-02-10T13:37:34.763Z"
   },
   {
    "duration": 4,
    "start_time": "2022-02-10T13:37:35.139Z"
   },
   {
    "duration": 325,
    "start_time": "2022-02-10T13:37:35.602Z"
   },
   {
    "duration": 318,
    "start_time": "2022-02-10T13:37:38.107Z"
   },
   {
    "duration": 5,
    "start_time": "2022-02-10T13:37:46.100Z"
   },
   {
    "duration": 6,
    "start_time": "2022-02-10T13:37:46.962Z"
   },
   {
    "duration": 2737,
    "start_time": "2022-02-10T13:44:11.728Z"
   },
   {
    "duration": 2692,
    "start_time": "2022-02-10T13:44:14.468Z"
   },
   {
    "duration": 2482,
    "start_time": "2022-02-10T13:44:17.162Z"
   },
   {
    "duration": 1286,
    "start_time": "2022-02-10T13:44:19.647Z"
   },
   {
    "duration": 20,
    "start_time": "2022-02-10T13:44:20.935Z"
   },
   {
    "duration": 10,
    "start_time": "2022-02-10T13:44:20.956Z"
   },
   {
    "duration": 567,
    "start_time": "2022-02-10T13:44:20.968Z"
   },
   {
    "duration": 25,
    "start_time": "2022-02-10T13:44:21.537Z"
   },
   {
    "duration": 14,
    "start_time": "2022-02-10T13:44:21.565Z"
   },
   {
    "duration": 15,
    "start_time": "2022-02-10T13:44:21.581Z"
   },
   {
    "duration": 32,
    "start_time": "2022-02-10T13:44:21.598Z"
   },
   {
    "duration": 19,
    "start_time": "2022-02-10T13:44:21.632Z"
   },
   {
    "duration": 12,
    "start_time": "2022-02-10T13:44:21.653Z"
   },
   {
    "duration": 57,
    "start_time": "2022-02-10T13:44:21.667Z"
   },
   {
    "duration": 28,
    "start_time": "2022-02-10T13:44:21.726Z"
   },
   {
    "duration": 22,
    "start_time": "2022-02-10T13:44:21.756Z"
   },
   {
    "duration": 15,
    "start_time": "2022-02-10T13:44:21.780Z"
   },
   {
    "duration": 26,
    "start_time": "2022-02-10T13:44:21.796Z"
   },
   {
    "duration": 14,
    "start_time": "2022-02-10T13:44:21.823Z"
   },
   {
    "duration": 13,
    "start_time": "2022-02-10T13:44:21.839Z"
   },
   {
    "duration": 12,
    "start_time": "2022-02-10T13:44:21.854Z"
   },
   {
    "duration": 54,
    "start_time": "2022-02-10T13:44:21.868Z"
   },
   {
    "duration": 7,
    "start_time": "2022-02-10T13:44:21.928Z"
   },
   {
    "duration": 299,
    "start_time": "2022-02-10T13:44:21.938Z"
   },
   {
    "duration": 20,
    "start_time": "2022-02-10T13:44:22.239Z"
   },
   {
    "duration": 18,
    "start_time": "2022-02-10T13:44:22.261Z"
   },
   {
    "duration": 308,
    "start_time": "2022-02-10T13:44:22.281Z"
   },
   {
    "duration": 6,
    "start_time": "2022-02-10T13:44:22.591Z"
   },
   {
    "duration": 361,
    "start_time": "2022-02-10T13:44:22.619Z"
   },
   {
    "duration": 5,
    "start_time": "2022-02-10T13:44:22.981Z"
   },
   {
    "duration": 316,
    "start_time": "2022-02-10T13:44:22.987Z"
   },
   {
    "duration": 18,
    "start_time": "2022-02-10T13:44:23.305Z"
   },
   {
    "duration": 22,
    "start_time": "2022-02-10T13:44:23.324Z"
   },
   {
    "duration": 9,
    "start_time": "2022-02-10T13:44:23.350Z"
   },
   {
    "duration": 264,
    "start_time": "2022-02-10T13:44:23.361Z"
   },
   {
    "duration": 4,
    "start_time": "2022-02-10T13:44:23.626Z"
   },
   {
    "duration": 25,
    "start_time": "2022-02-10T13:44:23.632Z"
   },
   {
    "duration": 261,
    "start_time": "2022-02-10T13:44:23.659Z"
   },
   {
    "duration": 6,
    "start_time": "2022-02-10T13:44:23.922Z"
   },
   {
    "duration": 7,
    "start_time": "2022-02-10T13:44:23.930Z"
   },
   {
    "duration": 22,
    "start_time": "2022-02-10T13:44:23.939Z"
   },
   {
    "duration": 5,
    "start_time": "2022-02-10T13:44:23.964Z"
   },
   {
    "duration": 51,
    "start_time": "2022-02-10T13:44:23.971Z"
   },
   {
    "duration": 311,
    "start_time": "2022-02-10T13:44:24.024Z"
   },
   {
    "duration": 290,
    "start_time": "2022-02-10T13:44:24.337Z"
   },
   {
    "duration": 5,
    "start_time": "2022-02-10T13:44:24.629Z"
   },
   {
    "duration": 13,
    "start_time": "2022-02-10T13:44:24.635Z"
   },
   {
    "duration": 14,
    "start_time": "2022-02-10T13:44:24.649Z"
   },
   {
    "duration": 9,
    "start_time": "2022-02-10T13:44:24.665Z"
   },
   {
    "duration": 10,
    "start_time": "2022-02-10T13:44:24.676Z"
   },
   {
    "duration": 5,
    "start_time": "2022-02-10T13:44:24.718Z"
   },
   {
    "duration": 15,
    "start_time": "2022-02-10T13:44:24.725Z"
   },
   {
    "duration": 8,
    "start_time": "2022-02-10T13:44:24.741Z"
   },
   {
    "duration": 10,
    "start_time": "2022-02-10T13:44:24.750Z"
   },
   {
    "duration": 6,
    "start_time": "2022-02-10T13:44:24.762Z"
   },
   {
    "duration": 52,
    "start_time": "2022-02-10T13:44:24.770Z"
   },
   {
    "duration": 11,
    "start_time": "2022-02-10T13:44:24.824Z"
   },
   {
    "duration": 235,
    "start_time": "2022-02-10T13:44:24.836Z"
   },
   {
    "duration": 5,
    "start_time": "2022-02-10T13:44:25.073Z"
   },
   {
    "duration": 11,
    "start_time": "2022-02-10T13:44:25.080Z"
   },
   {
    "duration": 8,
    "start_time": "2022-02-10T13:44:25.119Z"
   },
   {
    "duration": 13,
    "start_time": "2022-02-10T13:44:25.129Z"
   },
   {
    "duration": 8,
    "start_time": "2022-02-10T13:44:25.144Z"
   },
   {
    "duration": 12,
    "start_time": "2022-02-10T13:44:25.153Z"
   },
   {
    "duration": 7,
    "start_time": "2022-02-10T14:02:05.836Z"
   },
   {
    "duration": 5,
    "start_time": "2022-02-10T14:02:08.105Z"
   },
   {
    "duration": 111,
    "start_time": "2022-02-10T14:05:17.280Z"
   },
   {
    "duration": 6,
    "start_time": "2022-02-10T14:07:04.044Z"
   },
   {
    "duration": 6,
    "start_time": "2022-02-10T14:07:05.349Z"
   },
   {
    "duration": 8,
    "start_time": "2022-02-10T14:07:42.434Z"
   },
   {
    "duration": 4,
    "start_time": "2022-02-10T14:07:43.638Z"
   },
   {
    "duration": 3394,
    "start_time": "2022-02-10T14:09:57.554Z"
   },
   {
    "duration": 3067,
    "start_time": "2022-02-10T14:10:08.714Z"
   },
   {
    "duration": 2679,
    "start_time": "2022-02-10T14:10:11.784Z"
   },
   {
    "duration": 2605,
    "start_time": "2022-02-10T14:10:14.467Z"
   },
   {
    "duration": 1369,
    "start_time": "2022-02-10T14:10:17.076Z"
   },
   {
    "duration": 21,
    "start_time": "2022-02-10T14:10:18.447Z"
   },
   {
    "duration": 14,
    "start_time": "2022-02-10T14:10:18.470Z"
   },
   {
    "duration": 565,
    "start_time": "2022-02-10T14:10:18.486Z"
   },
   {
    "duration": 25,
    "start_time": "2022-02-10T14:10:19.052Z"
   },
   {
    "duration": 15,
    "start_time": "2022-02-10T14:10:19.080Z"
   },
   {
    "duration": 28,
    "start_time": "2022-02-10T14:10:19.097Z"
   },
   {
    "duration": 12,
    "start_time": "2022-02-10T14:10:19.127Z"
   },
   {
    "duration": 18,
    "start_time": "2022-02-10T14:10:19.141Z"
   },
   {
    "duration": 10,
    "start_time": "2022-02-10T14:10:19.161Z"
   },
   {
    "duration": 51,
    "start_time": "2022-02-10T14:10:19.173Z"
   },
   {
    "duration": 13,
    "start_time": "2022-02-10T14:10:19.226Z"
   },
   {
    "duration": 18,
    "start_time": "2022-02-10T14:10:19.241Z"
   },
   {
    "duration": 12,
    "start_time": "2022-02-10T14:10:19.261Z"
   },
   {
    "duration": 53,
    "start_time": "2022-02-10T14:10:19.275Z"
   },
   {
    "duration": 13,
    "start_time": "2022-02-10T14:10:19.330Z"
   },
   {
    "duration": 21,
    "start_time": "2022-02-10T14:10:19.344Z"
   },
   {
    "duration": 17,
    "start_time": "2022-02-10T14:10:19.367Z"
   },
   {
    "duration": 57,
    "start_time": "2022-02-10T14:10:19.386Z"
   },
   {
    "duration": 5,
    "start_time": "2022-02-10T14:10:19.445Z"
   },
   {
    "duration": 353,
    "start_time": "2022-02-10T14:10:19.453Z"
   },
   {
    "duration": 18,
    "start_time": "2022-02-10T14:10:19.808Z"
   },
   {
    "duration": 19,
    "start_time": "2022-02-10T14:10:19.827Z"
   },
   {
    "duration": 327,
    "start_time": "2022-02-10T14:10:19.850Z"
   },
   {
    "duration": 5,
    "start_time": "2022-02-10T14:10:20.180Z"
   },
   {
    "duration": 396,
    "start_time": "2022-02-10T14:10:20.187Z"
   },
   {
    "duration": 5,
    "start_time": "2022-02-10T14:10:20.586Z"
   },
   {
    "duration": 306,
    "start_time": "2022-02-10T14:10:20.593Z"
   },
   {
    "duration": 4,
    "start_time": "2022-02-10T14:10:20.901Z"
   },
   {
    "duration": 27,
    "start_time": "2022-02-10T14:10:20.918Z"
   },
   {
    "duration": 31,
    "start_time": "2022-02-10T14:10:20.947Z"
   },
   {
    "duration": 285,
    "start_time": "2022-02-10T14:10:20.980Z"
   },
   {
    "duration": 4,
    "start_time": "2022-02-10T14:10:21.267Z"
   },
   {
    "duration": 46,
    "start_time": "2022-02-10T14:10:21.272Z"
   },
   {
    "duration": 271,
    "start_time": "2022-02-10T14:10:21.320Z"
   },
   {
    "duration": 6,
    "start_time": "2022-02-10T14:10:21.593Z"
   },
   {
    "duration": 25,
    "start_time": "2022-02-10T14:10:21.600Z"
   },
   {
    "duration": 23,
    "start_time": "2022-02-10T14:10:21.627Z"
   },
   {
    "duration": 6,
    "start_time": "2022-02-10T14:10:21.652Z"
   },
   {
    "duration": 7,
    "start_time": "2022-02-10T14:10:21.659Z"
   },
   {
    "duration": 374,
    "start_time": "2022-02-10T14:10:21.667Z"
   },
   {
    "duration": 285,
    "start_time": "2022-02-10T14:10:22.043Z"
   },
   {
    "duration": 6,
    "start_time": "2022-02-10T14:10:22.330Z"
   },
   {
    "duration": 7,
    "start_time": "2022-02-10T14:10:22.339Z"
   },
   {
    "duration": 8,
    "start_time": "2022-02-10T14:10:22.348Z"
   },
   {
    "duration": 7,
    "start_time": "2022-02-10T14:10:22.358Z"
   },
   {
    "duration": 56,
    "start_time": "2022-02-10T14:10:22.367Z"
   },
   {
    "duration": 12,
    "start_time": "2022-02-10T14:10:22.425Z"
   },
   {
    "duration": 3374,
    "start_time": "2022-02-10T14:10:22.440Z"
   },
   {
    "duration": 595,
    "start_time": "2022-02-10T14:10:25.222Z"
   },
   {
    "duration": 594,
    "start_time": "2022-02-10T14:10:25.225Z"
   },
   {
    "duration": 593,
    "start_time": "2022-02-10T14:10:25.227Z"
   },
   {
    "duration": 591,
    "start_time": "2022-02-10T14:10:25.230Z"
   },
   {
    "duration": 590,
    "start_time": "2022-02-10T14:10:25.233Z"
   },
   {
    "duration": 588,
    "start_time": "2022-02-10T14:10:25.236Z"
   },
   {
    "duration": 586,
    "start_time": "2022-02-10T14:10:25.239Z"
   },
   {
    "duration": 586,
    "start_time": "2022-02-10T14:10:25.241Z"
   },
   {
    "duration": 584,
    "start_time": "2022-02-10T14:10:25.244Z"
   },
   {
    "duration": 584,
    "start_time": "2022-02-10T14:10:25.246Z"
   },
   {
    "duration": 582,
    "start_time": "2022-02-10T14:10:25.249Z"
   },
   {
    "duration": 581,
    "start_time": "2022-02-10T14:10:25.251Z"
   },
   {
    "duration": 579,
    "start_time": "2022-02-10T14:10:25.254Z"
   },
   {
    "duration": 577,
    "start_time": "2022-02-10T14:10:25.257Z"
   },
   {
    "duration": 576,
    "start_time": "2022-02-10T14:10:25.259Z"
   },
   {
    "duration": 568,
    "start_time": "2022-02-10T14:10:25.268Z"
   },
   {
    "duration": 6,
    "start_time": "2022-02-10T14:13:50.419Z"
   },
   {
    "duration": 6,
    "start_time": "2022-02-10T14:13:51.050Z"
   },
   {
    "duration": 7,
    "start_time": "2022-02-10T14:13:52.626Z"
   },
   {
    "duration": 4,
    "start_time": "2022-02-10T14:13:53.698Z"
   },
   {
    "duration": 8,
    "start_time": "2022-02-10T14:13:58.642Z"
   },
   {
    "duration": 3449,
    "start_time": "2022-02-10T14:13:59.913Z"
   },
   {
    "duration": 7,
    "start_time": "2022-02-10T14:14:13.951Z"
   },
   {
    "duration": 27,
    "start_time": "2022-02-10T14:23:40.370Z"
   },
   {
    "duration": 18,
    "start_time": "2022-02-10T14:23:49.067Z"
   },
   {
    "duration": 10,
    "start_time": "2022-02-10T14:24:32.018Z"
   },
   {
    "duration": 280,
    "start_time": "2022-02-10T14:26:42.833Z"
   },
   {
    "duration": 341,
    "start_time": "2022-02-10T14:26:43.338Z"
   },
   {
    "duration": 337,
    "start_time": "2022-02-10T14:27:01.000Z"
   },
   {
    "duration": 267,
    "start_time": "2022-02-10T14:27:04.607Z"
   },
   {
    "duration": 7,
    "start_time": "2022-02-10T14:27:15.664Z"
   },
   {
    "duration": 7,
    "start_time": "2022-02-10T14:27:29.675Z"
   },
   {
    "duration": 8,
    "start_time": "2022-02-10T14:28:12.459Z"
   },
   {
    "duration": 5,
    "start_time": "2022-02-10T14:28:13.378Z"
   },
   {
    "duration": 5,
    "start_time": "2022-02-10T14:29:02.275Z"
   },
   {
    "duration": 8,
    "start_time": "2022-02-10T14:29:10.266Z"
   },
   {
    "duration": 9,
    "start_time": "2022-02-10T14:29:13.611Z"
   },
   {
    "duration": 5,
    "start_time": "2022-02-10T14:29:17.458Z"
   },
   {
    "duration": 7,
    "start_time": "2022-02-10T14:29:21.135Z"
   },
   {
    "duration": 7,
    "start_time": "2022-02-10T14:29:25.774Z"
   },
   {
    "duration": 5,
    "start_time": "2022-02-10T14:29:26.862Z"
   },
   {
    "duration": 7,
    "start_time": "2022-02-10T14:29:28.696Z"
   },
   {
    "duration": 8,
    "start_time": "2022-02-10T14:29:30.119Z"
   },
   {
    "duration": 9,
    "start_time": "2022-02-10T14:29:33.222Z"
   },
   {
    "duration": 6,
    "start_time": "2022-02-10T14:29:33.783Z"
   },
   {
    "duration": 7,
    "start_time": "2022-02-10T14:29:34.110Z"
   },
   {
    "duration": 7,
    "start_time": "2022-02-10T14:29:36.684Z"
   },
   {
    "duration": 5,
    "start_time": "2022-02-10T14:29:36.991Z"
   },
   {
    "duration": 10,
    "start_time": "2022-02-10T14:32:52.624Z"
   },
   {
    "duration": 4262,
    "start_time": "2022-02-10T15:08:38.684Z"
   },
   {
    "duration": 6,
    "start_time": "2022-02-10T15:08:57.780Z"
   },
   {
    "duration": 13,
    "start_time": "2022-02-10T15:12:46.034Z"
   },
   {
    "duration": 9,
    "start_time": "2022-02-10T15:13:05.469Z"
   },
   {
    "duration": 7,
    "start_time": "2022-02-10T15:13:37.795Z"
   },
   {
    "duration": 139,
    "start_time": "2022-02-10T15:15:45.635Z"
   },
   {
    "duration": 3098,
    "start_time": "2022-02-10T15:17:56.646Z"
   },
   {
    "duration": 3475,
    "start_time": "2022-02-10T15:17:59.746Z"
   },
   {
    "duration": 3397,
    "start_time": "2022-02-10T15:18:03.224Z"
   },
   {
    "duration": 1442,
    "start_time": "2022-02-10T15:18:06.625Z"
   },
   {
    "duration": 28,
    "start_time": "2022-02-10T15:18:08.070Z"
   },
   {
    "duration": 28,
    "start_time": "2022-02-10T15:18:08.101Z"
   },
   {
    "duration": 745,
    "start_time": "2022-02-10T15:18:08.132Z"
   },
   {
    "duration": 33,
    "start_time": "2022-02-10T15:18:08.881Z"
   },
   {
    "duration": 19,
    "start_time": "2022-02-10T15:18:08.918Z"
   },
   {
    "duration": 15,
    "start_time": "2022-02-10T15:18:08.939Z"
   },
   {
    "duration": 16,
    "start_time": "2022-02-10T15:18:08.957Z"
   },
   {
    "duration": 63,
    "start_time": "2022-02-10T15:18:08.976Z"
   },
   {
    "duration": 13,
    "start_time": "2022-02-10T15:18:09.042Z"
   },
   {
    "duration": 13,
    "start_time": "2022-02-10T15:18:09.058Z"
   },
   {
    "duration": 53,
    "start_time": "2022-02-10T15:18:09.074Z"
   },
   {
    "duration": 24,
    "start_time": "2022-02-10T15:18:09.130Z"
   },
   {
    "duration": 16,
    "start_time": "2022-02-10T15:18:09.156Z"
   },
   {
    "duration": 52,
    "start_time": "2022-02-10T15:18:09.174Z"
   },
   {
    "duration": 16,
    "start_time": "2022-02-10T15:18:09.228Z"
   },
   {
    "duration": 23,
    "start_time": "2022-02-10T15:18:09.246Z"
   },
   {
    "duration": 59,
    "start_time": "2022-02-10T15:18:09.271Z"
   },
   {
    "duration": 26,
    "start_time": "2022-02-10T15:18:09.332Z"
   },
   {
    "duration": 6,
    "start_time": "2022-02-10T15:18:09.364Z"
   },
   {
    "duration": 494,
    "start_time": "2022-02-10T15:18:09.374Z"
   },
   {
    "duration": 47,
    "start_time": "2022-02-10T15:18:09.871Z"
   },
   {
    "duration": 27,
    "start_time": "2022-02-10T15:18:09.921Z"
   },
   {
    "duration": 422,
    "start_time": "2022-02-10T15:18:09.950Z"
   },
   {
    "duration": 6,
    "start_time": "2022-02-10T15:18:10.374Z"
   },
   {
    "duration": 424,
    "start_time": "2022-02-10T15:18:10.382Z"
   },
   {
    "duration": 4,
    "start_time": "2022-02-10T15:18:10.809Z"
   },
   {
    "duration": 481,
    "start_time": "2022-02-10T15:18:10.819Z"
   },
   {
    "duration": 17,
    "start_time": "2022-02-10T15:18:11.303Z"
   },
   {
    "duration": 24,
    "start_time": "2022-02-10T15:18:11.322Z"
   },
   {
    "duration": 15,
    "start_time": "2022-02-10T15:18:11.349Z"
   },
   {
    "duration": 326,
    "start_time": "2022-02-10T15:18:11.367Z"
   },
   {
    "duration": 5,
    "start_time": "2022-02-10T15:18:11.696Z"
   },
   {
    "duration": 27,
    "start_time": "2022-02-10T15:18:11.718Z"
   },
   {
    "duration": 276,
    "start_time": "2022-02-10T15:18:11.747Z"
   },
   {
    "duration": 6,
    "start_time": "2022-02-10T15:18:12.026Z"
   },
   {
    "duration": 10,
    "start_time": "2022-02-10T15:18:12.035Z"
   },
   {
    "duration": 30,
    "start_time": "2022-02-10T15:18:12.047Z"
   },
   {
    "duration": 5,
    "start_time": "2022-02-10T15:18:12.120Z"
   },
   {
    "duration": 14,
    "start_time": "2022-02-10T15:18:12.127Z"
   },
   {
    "duration": 371,
    "start_time": "2022-02-10T15:18:12.144Z"
   },
   {
    "duration": 306,
    "start_time": "2022-02-10T15:18:12.517Z"
   },
   {
    "duration": 7,
    "start_time": "2022-02-10T15:18:12.826Z"
   },
   {
    "duration": 10,
    "start_time": "2022-02-10T15:18:12.835Z"
   },
   {
    "duration": 10,
    "start_time": "2022-02-10T15:18:12.847Z"
   },
   {
    "duration": 11,
    "start_time": "2022-02-10T15:18:12.859Z"
   },
   {
    "duration": 51,
    "start_time": "2022-02-10T15:18:12.872Z"
   },
   {
    "duration": 5,
    "start_time": "2022-02-10T15:18:12.925Z"
   },
   {
    "duration": 13,
    "start_time": "2022-02-10T15:18:12.932Z"
   },
   {
    "duration": 10,
    "start_time": "2022-02-10T15:18:12.947Z"
   },
   {
    "duration": 63,
    "start_time": "2022-02-10T15:18:12.960Z"
   },
   {
    "duration": 16,
    "start_time": "2022-02-10T15:18:13.025Z"
   },
   {
    "duration": 14,
    "start_time": "2022-02-10T15:18:13.043Z"
   },
   {
    "duration": 13,
    "start_time": "2022-02-10T15:18:13.059Z"
   },
   {
    "duration": 6,
    "start_time": "2022-02-10T15:18:13.075Z"
   },
   {
    "duration": 46,
    "start_time": "2022-02-10T15:18:13.083Z"
   },
   {
    "duration": 15,
    "start_time": "2022-02-10T15:18:13.131Z"
   },
   {
    "duration": 6,
    "start_time": "2022-02-10T15:18:13.149Z"
   },
   {
    "duration": 62,
    "start_time": "2022-02-10T15:18:13.158Z"
   },
   {
    "duration": 29,
    "start_time": "2022-02-10T15:18:13.223Z"
   },
   {
    "duration": 29,
    "start_time": "2022-02-10T15:18:13.255Z"
   },
   {
    "duration": 394,
    "start_time": "2022-02-10T15:18:13.287Z"
   },
   {
    "duration": 8,
    "start_time": "2022-02-10T15:18:13.684Z"
   },
   {
    "duration": 26,
    "start_time": "2022-02-10T15:18:13.695Z"
   },
   {
    "duration": 13,
    "start_time": "2022-02-10T15:18:13.729Z"
   },
   {
    "duration": 18,
    "start_time": "2022-02-10T15:18:13.744Z"
   },
   {
    "duration": 26,
    "start_time": "2022-02-10T15:18:13.765Z"
   },
   {
    "duration": 30,
    "start_time": "2022-02-10T15:18:13.793Z"
   },
   {
    "duration": 457,
    "start_time": "2022-02-10T18:12:45.760Z"
   },
   {
    "duration": 48257,
    "start_time": "2022-02-10T18:12:59.519Z"
   },
   {
    "duration": 79033,
    "start_time": "2022-02-10T18:13:47.779Z"
   },
   {
    "duration": 71731,
    "start_time": "2022-02-10T18:15:06.821Z"
   },
   {
    "duration": 2230,
    "start_time": "2022-02-10T18:16:18.554Z"
   },
   {
    "duration": 45,
    "start_time": "2022-02-10T18:16:20.787Z"
   },
   {
    "duration": 15,
    "start_time": "2022-02-10T18:16:20.834Z"
   },
   {
    "duration": 52917,
    "start_time": "2022-02-10T18:16:20.852Z"
   },
   {
    "duration": 56,
    "start_time": "2022-02-10T18:17:13.773Z"
   },
   {
    "duration": 34,
    "start_time": "2022-02-10T18:17:13.833Z"
   },
   {
    "duration": 19,
    "start_time": "2022-02-10T18:17:13.869Z"
   },
   {
    "duration": 16,
    "start_time": "2022-02-10T18:17:13.890Z"
   },
   {
    "duration": 26,
    "start_time": "2022-02-10T18:17:13.908Z"
   },
   {
    "duration": 38,
    "start_time": "2022-02-10T18:17:13.936Z"
   },
   {
    "duration": 11,
    "start_time": "2022-02-10T18:17:13.977Z"
   },
   {
    "duration": 14,
    "start_time": "2022-02-10T18:17:13.990Z"
   },
   {
    "duration": 23,
    "start_time": "2022-02-10T18:17:14.007Z"
   },
   {
    "duration": 12,
    "start_time": "2022-02-10T18:17:14.070Z"
   },
   {
    "duration": 18,
    "start_time": "2022-02-10T18:17:14.085Z"
   },
   {
    "duration": 19,
    "start_time": "2022-02-10T18:17:14.105Z"
   },
   {
    "duration": 58,
    "start_time": "2022-02-10T18:17:14.126Z"
   },
   {
    "duration": 20,
    "start_time": "2022-02-10T18:17:14.187Z"
   },
   {
    "duration": 27,
    "start_time": "2022-02-10T18:17:14.209Z"
   },
   {
    "duration": 32,
    "start_time": "2022-02-10T18:17:14.238Z"
   },
   {
    "duration": 485,
    "start_time": "2022-02-10T18:17:14.273Z"
   },
   {
    "duration": 29,
    "start_time": "2022-02-10T18:17:14.761Z"
   },
   {
    "duration": 25,
    "start_time": "2022-02-10T18:17:14.798Z"
   },
   {
    "duration": 493,
    "start_time": "2022-02-10T18:17:14.827Z"
   },
   {
    "duration": 6,
    "start_time": "2022-02-10T18:17:15.322Z"
   },
   {
    "duration": 561,
    "start_time": "2022-02-10T18:17:15.330Z"
   },
   {
    "duration": 8,
    "start_time": "2022-02-10T18:17:15.895Z"
   },
   {
    "duration": 491,
    "start_time": "2022-02-10T18:17:15.906Z"
   },
   {
    "duration": 6,
    "start_time": "2022-02-10T18:17:16.400Z"
   },
   {
    "duration": 33,
    "start_time": "2022-02-10T18:17:16.409Z"
   },
   {
    "duration": 37,
    "start_time": "2022-02-10T18:17:16.445Z"
   },
   {
    "duration": 357,
    "start_time": "2022-02-10T18:17:16.485Z"
   },
   {
    "duration": 5,
    "start_time": "2022-02-10T18:17:16.845Z"
   },
   {
    "duration": 44,
    "start_time": "2022-02-10T18:17:16.853Z"
   },
   {
    "duration": 334,
    "start_time": "2022-02-10T18:17:16.900Z"
   },
   {
    "duration": 8,
    "start_time": "2022-02-10T18:17:17.238Z"
   },
   {
    "duration": 24,
    "start_time": "2022-02-10T18:17:17.248Z"
   },
   {
    "duration": 26,
    "start_time": "2022-02-10T18:17:17.274Z"
   },
   {
    "duration": 6,
    "start_time": "2022-02-10T18:17:17.302Z"
   },
   {
    "duration": 8,
    "start_time": "2022-02-10T18:17:17.310Z"
   },
   {
    "duration": 456,
    "start_time": "2022-02-10T18:17:17.320Z"
   },
   {
    "duration": 385,
    "start_time": "2022-02-10T18:17:17.779Z"
   },
   {
    "duration": 6,
    "start_time": "2022-02-10T18:17:18.169Z"
   },
   {
    "duration": 7,
    "start_time": "2022-02-10T18:17:18.177Z"
   },
   {
    "duration": 7,
    "start_time": "2022-02-10T18:17:18.186Z"
   },
   {
    "duration": 8,
    "start_time": "2022-02-10T18:17:18.196Z"
   },
   {
    "duration": 11,
    "start_time": "2022-02-10T18:17:18.206Z"
   },
   {
    "duration": 56,
    "start_time": "2022-02-10T18:17:18.220Z"
   },
   {
    "duration": 7,
    "start_time": "2022-02-10T18:17:18.278Z"
   },
   {
    "duration": 12,
    "start_time": "2022-02-10T18:17:18.288Z"
   },
   {
    "duration": 12,
    "start_time": "2022-02-10T18:17:18.303Z"
   },
   {
    "duration": 57,
    "start_time": "2022-02-10T18:17:18.317Z"
   },
   {
    "duration": 9,
    "start_time": "2022-02-10T18:17:18.376Z"
   },
   {
    "duration": 11,
    "start_time": "2022-02-10T18:17:18.387Z"
   },
   {
    "duration": 10,
    "start_time": "2022-02-10T18:17:18.400Z"
   },
   {
    "duration": 6,
    "start_time": "2022-02-10T18:17:18.412Z"
   },
   {
    "duration": 54,
    "start_time": "2022-02-10T18:17:18.420Z"
   },
   {
    "duration": 15,
    "start_time": "2022-02-10T18:17:18.477Z"
   },
   {
    "duration": 8,
    "start_time": "2022-02-10T18:17:18.495Z"
   },
   {
    "duration": 6,
    "start_time": "2022-02-10T18:17:18.506Z"
   },
   {
    "duration": 56,
    "start_time": "2022-02-10T18:17:18.515Z"
   },
   {
    "duration": 11,
    "start_time": "2022-02-10T18:17:18.574Z"
   },
   {
    "duration": 386,
    "start_time": "2022-02-10T18:17:18.587Z"
   },
   {
    "duration": 7,
    "start_time": "2022-02-10T18:17:18.975Z"
   },
   {
    "duration": 8,
    "start_time": "2022-02-10T18:17:18.985Z"
   },
   {
    "duration": 8,
    "start_time": "2022-02-10T18:17:18.995Z"
   },
   {
    "duration": 7,
    "start_time": "2022-02-10T18:17:19.005Z"
   },
   {
    "duration": 20,
    "start_time": "2022-02-10T18:17:19.014Z"
   },
   {
    "duration": 37,
    "start_time": "2022-02-10T18:17:19.036Z"
   },
   {
    "duration": 9,
    "start_time": "2022-02-10T18:23:17.830Z"
   },
   {
    "duration": 12,
    "start_time": "2022-02-10T18:25:43.860Z"
   },
   {
    "duration": 29,
    "start_time": "2022-02-10T18:31:28.280Z"
   }
  ],
  "kernelspec": {
   "display_name": "Python 3 (ipykernel)",
   "language": "python",
   "name": "python3"
  },
  "language_info": {
   "codemirror_mode": {
    "name": "ipython",
    "version": 3
   },
   "file_extension": ".py",
   "mimetype": "text/x-python",
   "name": "python",
   "nbconvert_exporter": "python",
   "pygments_lexer": "ipython3",
   "version": "3.9.5"
  },
  "toc": {
   "base_numbering": 1,
   "nav_menu": {},
   "number_sections": true,
   "sideBar": true,
   "skip_h1_title": true,
   "title_cell": "Table of Contents",
   "title_sidebar": "Contents",
   "toc_cell": false,
   "toc_position": {
    "height": "calc(100% - 180px)",
    "left": "10px",
    "top": "150px",
    "width": "165px"
   },
   "toc_section_display": true,
   "toc_window_display": false
  }
 },
 "nbformat": 4,
 "nbformat_minor": 2
}
