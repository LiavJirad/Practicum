{
 "cells": [
  {
   "cell_type": "markdown",
   "metadata": {},
   "source": [
    "# Introduction\n",
    "In this project I will test which model is best to predict user plan (smart or ultra).\n",
    "## Outlines\n",
    "1. I go over the data file and learn it.\n",
    "2. Understand which model has the least error count and choose it.\n",
    "### Tasks\n",
    "I will understand which model is having better prediction score.\n",
    "\n",
    "### Description of Data Source\n",
    "The data is built from users data usage and other phine related uses from cariers.\n",
    "\n",
    "## Table of Contents:\n",
    "1.Unfolding of the data.\n",
    "2. Studying and checking the data.\n",
    "3. Testing the models.\n",
    "4. Conclusions and recommendations."
   ]
  },
  {
   "cell_type": "markdown",
   "metadata": {},
   "source": [
    "### 1. Opening the data"
   ]
  },
  {
   "cell_type": "code",
   "execution_count": 4,
   "metadata": {},
   "outputs": [],
   "source": [
    "import pandas as pd\n",
    "from sklearn.ensemble import RandomForestClassifier \n",
    "from sklearn.linear_model import LogisticRegression \n",
    "from sklearn.metrics import accuracy_score\n",
    "from sklearn.model_selection import train_test_split"
   ]
  },
  {
   "cell_type": "code",
   "execution_count": 5,
   "metadata": {},
   "outputs": [
    {
     "data": {
      "text/plain": [
       "(3214, 5)"
      ]
     },
     "execution_count": 5,
     "metadata": {},
     "output_type": "execute_result"
    }
   ],
   "source": [
    "df = pd.read_csv('/datasets/users_behavior.csv')\n",
    "df.shape"
   ]
  },
  {
   "cell_type": "code",
   "execution_count": 6,
   "metadata": {},
   "outputs": [
    {
     "data": {
      "text/html": [
       "<div>\n",
       "<style scoped>\n",
       "    .dataframe tbody tr th:only-of-type {\n",
       "        vertical-align: middle;\n",
       "    }\n",
       "\n",
       "    .dataframe tbody tr th {\n",
       "        vertical-align: top;\n",
       "    }\n",
       "\n",
       "    .dataframe thead th {\n",
       "        text-align: right;\n",
       "    }\n",
       "</style>\n",
       "<table border=\"1\" class=\"dataframe\">\n",
       "  <thead>\n",
       "    <tr style=\"text-align: right;\">\n",
       "      <th></th>\n",
       "      <th>calls</th>\n",
       "      <th>minutes</th>\n",
       "      <th>messages</th>\n",
       "      <th>mb_used</th>\n",
       "      <th>is_ultra</th>\n",
       "    </tr>\n",
       "  </thead>\n",
       "  <tbody>\n",
       "    <tr>\n",
       "      <th>0</th>\n",
       "      <td>40.0</td>\n",
       "      <td>311.90</td>\n",
       "      <td>83.0</td>\n",
       "      <td>19915.42</td>\n",
       "      <td>0</td>\n",
       "    </tr>\n",
       "    <tr>\n",
       "      <th>1</th>\n",
       "      <td>85.0</td>\n",
       "      <td>516.75</td>\n",
       "      <td>56.0</td>\n",
       "      <td>22696.96</td>\n",
       "      <td>0</td>\n",
       "    </tr>\n",
       "    <tr>\n",
       "      <th>2</th>\n",
       "      <td>77.0</td>\n",
       "      <td>467.66</td>\n",
       "      <td>86.0</td>\n",
       "      <td>21060.45</td>\n",
       "      <td>0</td>\n",
       "    </tr>\n",
       "    <tr>\n",
       "      <th>3</th>\n",
       "      <td>106.0</td>\n",
       "      <td>745.53</td>\n",
       "      <td>81.0</td>\n",
       "      <td>8437.39</td>\n",
       "      <td>1</td>\n",
       "    </tr>\n",
       "    <tr>\n",
       "      <th>4</th>\n",
       "      <td>66.0</td>\n",
       "      <td>418.74</td>\n",
       "      <td>1.0</td>\n",
       "      <td>14502.75</td>\n",
       "      <td>0</td>\n",
       "    </tr>\n",
       "  </tbody>\n",
       "</table>\n",
       "</div>"
      ],
      "text/plain": [
       "   calls  minutes  messages   mb_used  is_ultra\n",
       "0   40.0   311.90      83.0  19915.42         0\n",
       "1   85.0   516.75      56.0  22696.96         0\n",
       "2   77.0   467.66      86.0  21060.45         0\n",
       "3  106.0   745.53      81.0   8437.39         1\n",
       "4   66.0   418.74       1.0  14502.75         0"
      ]
     },
     "execution_count": 6,
     "metadata": {},
     "output_type": "execute_result"
    }
   ],
   "source": [
    "df.head(5)"
   ]
  },
  {
   "cell_type": "markdown",
   "metadata": {},
   "source": [
    "very simple and easy to understand df."
   ]
  },
  {
   "cell_type": "code",
   "execution_count": 7,
   "metadata": {},
   "outputs": [
    {
     "data": {
      "text/html": [
       "<div>\n",
       "<style scoped>\n",
       "    .dataframe tbody tr th:only-of-type {\n",
       "        vertical-align: middle;\n",
       "    }\n",
       "\n",
       "    .dataframe tbody tr th {\n",
       "        vertical-align: top;\n",
       "    }\n",
       "\n",
       "    .dataframe thead th {\n",
       "        text-align: right;\n",
       "    }\n",
       "</style>\n",
       "<table border=\"1\" class=\"dataframe\">\n",
       "  <thead>\n",
       "    <tr style=\"text-align: right;\">\n",
       "      <th></th>\n",
       "      <th>calls</th>\n",
       "      <th>minutes</th>\n",
       "      <th>messages</th>\n",
       "      <th>mb_used</th>\n",
       "      <th>is_ultra</th>\n",
       "    </tr>\n",
       "  </thead>\n",
       "  <tbody>\n",
       "    <tr>\n",
       "      <th>count</th>\n",
       "      <td>3214.000000</td>\n",
       "      <td>3214.000000</td>\n",
       "      <td>3214.000000</td>\n",
       "      <td>3214.000000</td>\n",
       "      <td>3214.000000</td>\n",
       "    </tr>\n",
       "    <tr>\n",
       "      <th>mean</th>\n",
       "      <td>63.038892</td>\n",
       "      <td>438.208787</td>\n",
       "      <td>38.281269</td>\n",
       "      <td>17207.673836</td>\n",
       "      <td>0.306472</td>\n",
       "    </tr>\n",
       "    <tr>\n",
       "      <th>std</th>\n",
       "      <td>33.236368</td>\n",
       "      <td>234.569872</td>\n",
       "      <td>36.148326</td>\n",
       "      <td>7570.968246</td>\n",
       "      <td>0.461100</td>\n",
       "    </tr>\n",
       "    <tr>\n",
       "      <th>min</th>\n",
       "      <td>0.000000</td>\n",
       "      <td>0.000000</td>\n",
       "      <td>0.000000</td>\n",
       "      <td>0.000000</td>\n",
       "      <td>0.000000</td>\n",
       "    </tr>\n",
       "    <tr>\n",
       "      <th>25%</th>\n",
       "      <td>40.000000</td>\n",
       "      <td>274.575000</td>\n",
       "      <td>9.000000</td>\n",
       "      <td>12491.902500</td>\n",
       "      <td>0.000000</td>\n",
       "    </tr>\n",
       "    <tr>\n",
       "      <th>50%</th>\n",
       "      <td>62.000000</td>\n",
       "      <td>430.600000</td>\n",
       "      <td>30.000000</td>\n",
       "      <td>16943.235000</td>\n",
       "      <td>0.000000</td>\n",
       "    </tr>\n",
       "    <tr>\n",
       "      <th>75%</th>\n",
       "      <td>82.000000</td>\n",
       "      <td>571.927500</td>\n",
       "      <td>57.000000</td>\n",
       "      <td>21424.700000</td>\n",
       "      <td>1.000000</td>\n",
       "    </tr>\n",
       "    <tr>\n",
       "      <th>max</th>\n",
       "      <td>244.000000</td>\n",
       "      <td>1632.060000</td>\n",
       "      <td>224.000000</td>\n",
       "      <td>49745.730000</td>\n",
       "      <td>1.000000</td>\n",
       "    </tr>\n",
       "  </tbody>\n",
       "</table>\n",
       "</div>"
      ],
      "text/plain": [
       "             calls      minutes     messages       mb_used     is_ultra\n",
       "count  3214.000000  3214.000000  3214.000000   3214.000000  3214.000000\n",
       "mean     63.038892   438.208787    38.281269  17207.673836     0.306472\n",
       "std      33.236368   234.569872    36.148326   7570.968246     0.461100\n",
       "min       0.000000     0.000000     0.000000      0.000000     0.000000\n",
       "25%      40.000000   274.575000     9.000000  12491.902500     0.000000\n",
       "50%      62.000000   430.600000    30.000000  16943.235000     0.000000\n",
       "75%      82.000000   571.927500    57.000000  21424.700000     1.000000\n",
       "max     244.000000  1632.060000   224.000000  49745.730000     1.000000"
      ]
     },
     "execution_count": 7,
     "metadata": {},
     "output_type": "execute_result"
    }
   ],
   "source": [
    "df.describe()"
   ]
  },
  {
   "cell_type": "code",
   "execution_count": 8,
   "metadata": {},
   "outputs": [
    {
     "name": "stdout",
     "output_type": "stream",
     "text": [
      "<class 'pandas.core.frame.DataFrame'>\n",
      "RangeIndex: 3214 entries, 0 to 3213\n",
      "Data columns (total 5 columns):\n",
      " #   Column    Non-Null Count  Dtype  \n",
      "---  ------    --------------  -----  \n",
      " 0   calls     3214 non-null   float64\n",
      " 1   minutes   3214 non-null   float64\n",
      " 2   messages  3214 non-null   float64\n",
      " 3   mb_used   3214 non-null   float64\n",
      " 4   is_ultra  3214 non-null   int64  \n",
      "dtypes: float64(4), int64(1)\n",
      "memory usage: 125.7 KB\n"
     ]
    }
   ],
   "source": [
    "df.info()"
   ]
  },
  {
   "cell_type": "markdown",
   "metadata": {},
   "source": [
    "All the data is perfectly fine."
   ]
  },
  {
   "cell_type": "markdown",
   "metadata": {},
   "source": [
    "### 2. Spliting the data"
   ]
  },
  {
   "cell_type": "code",
   "execution_count": 9,
   "metadata": {},
   "outputs": [],
   "source": [
    "df_train_all, df_test = train_test_split(df, test_size=0.2, random_state= 12345)"
   ]
  },
  {
   "cell_type": "code",
   "execution_count": 10,
   "metadata": {},
   "outputs": [],
   "source": [
    "df_train, df_valid = train_test_split(df_train_all, test_size=0.25, random_state= 12345)"
   ]
  },
  {
   "cell_type": "code",
   "execution_count": 11,
   "metadata": {},
   "outputs": [],
   "source": [
    "features = df.drop(['is_ultra'], axis = 1)\n",
    "target = df['is_ultra']\n",
    "features_train = df_train.drop(['is_ultra'], axis = 1)\n",
    "target_train = df_train['is_ultra']\n",
    "features_valid = df_valid.drop(['is_ultra'], axis = 1)\n",
    "target_valid = df_valid['is_ultra']"
   ]
  },
  {
   "cell_type": "code",
   "execution_count": 12,
   "metadata": {},
   "outputs": [
    {
     "data": {
      "text/plain": [
       "(643, 5)"
      ]
     },
     "execution_count": 12,
     "metadata": {},
     "output_type": "execute_result"
    }
   ],
   "source": [
    "df_valid.shape"
   ]
  },
  {
   "cell_type": "code",
   "execution_count": 13,
   "metadata": {},
   "outputs": [
    {
     "data": {
      "text/plain": [
       "(643, 5)"
      ]
     },
     "execution_count": 13,
     "metadata": {},
     "output_type": "execute_result"
    }
   ],
   "source": [
    "df_test.shape"
   ]
  },
  {
   "cell_type": "code",
   "execution_count": 14,
   "metadata": {},
   "outputs": [
    {
     "data": {
      "text/plain": [
       "(1928, 5)"
      ]
     },
     "execution_count": 14,
     "metadata": {},
     "output_type": "execute_result"
    }
   ],
   "source": [
    "df_train.shape"
   ]
  },
  {
   "cell_type": "code",
   "execution_count": 15,
   "metadata": {},
   "outputs": [
    {
     "data": {
      "text/plain": [
       "2656    0\n",
       "823     0\n",
       "2566    0\n",
       "1451    0\n",
       "2953    0\n",
       "       ..\n",
       "1043    1\n",
       "2132    1\n",
       "1642    0\n",
       "1495    0\n",
       "510     0\n",
       "Name: is_ultra, Length: 1928, dtype: int64"
      ]
     },
     "execution_count": 15,
     "metadata": {},
     "output_type": "execute_result"
    }
   ],
   "source": [
    "target_train"
   ]
  },
  {
   "cell_type": "code",
   "execution_count": 16,
   "metadata": {},
   "outputs": [
    {
     "data": {
      "text/html": [
       "<div>\n",
       "<style scoped>\n",
       "    .dataframe tbody tr th:only-of-type {\n",
       "        vertical-align: middle;\n",
       "    }\n",
       "\n",
       "    .dataframe tbody tr th {\n",
       "        vertical-align: top;\n",
       "    }\n",
       "\n",
       "    .dataframe thead th {\n",
       "        text-align: right;\n",
       "    }\n",
       "</style>\n",
       "<table border=\"1\" class=\"dataframe\">\n",
       "  <thead>\n",
       "    <tr style=\"text-align: right;\">\n",
       "      <th></th>\n",
       "      <th>calls</th>\n",
       "      <th>minutes</th>\n",
       "      <th>messages</th>\n",
       "      <th>mb_used</th>\n",
       "    </tr>\n",
       "  </thead>\n",
       "  <tbody>\n",
       "    <tr>\n",
       "      <th>2656</th>\n",
       "      <td>30.0</td>\n",
       "      <td>185.07</td>\n",
       "      <td>34.0</td>\n",
       "      <td>17166.53</td>\n",
       "    </tr>\n",
       "    <tr>\n",
       "      <th>823</th>\n",
       "      <td>42.0</td>\n",
       "      <td>290.69</td>\n",
       "      <td>77.0</td>\n",
       "      <td>21507.03</td>\n",
       "    </tr>\n",
       "    <tr>\n",
       "      <th>2566</th>\n",
       "      <td>41.0</td>\n",
       "      <td>289.83</td>\n",
       "      <td>15.0</td>\n",
       "      <td>22151.73</td>\n",
       "    </tr>\n",
       "    <tr>\n",
       "      <th>1451</th>\n",
       "      <td>45.0</td>\n",
       "      <td>333.49</td>\n",
       "      <td>50.0</td>\n",
       "      <td>17275.47</td>\n",
       "    </tr>\n",
       "    <tr>\n",
       "      <th>2953</th>\n",
       "      <td>43.0</td>\n",
       "      <td>300.39</td>\n",
       "      <td>69.0</td>\n",
       "      <td>17277.83</td>\n",
       "    </tr>\n",
       "    <tr>\n",
       "      <th>...</th>\n",
       "      <td>...</td>\n",
       "      <td>...</td>\n",
       "      <td>...</td>\n",
       "      <td>...</td>\n",
       "    </tr>\n",
       "    <tr>\n",
       "      <th>1043</th>\n",
       "      <td>106.0</td>\n",
       "      <td>796.79</td>\n",
       "      <td>23.0</td>\n",
       "      <td>42250.70</td>\n",
       "    </tr>\n",
       "    <tr>\n",
       "      <th>2132</th>\n",
       "      <td>18.0</td>\n",
       "      <td>117.80</td>\n",
       "      <td>0.0</td>\n",
       "      <td>10006.79</td>\n",
       "    </tr>\n",
       "    <tr>\n",
       "      <th>1642</th>\n",
       "      <td>87.0</td>\n",
       "      <td>583.02</td>\n",
       "      <td>1.0</td>\n",
       "      <td>11213.97</td>\n",
       "    </tr>\n",
       "    <tr>\n",
       "      <th>1495</th>\n",
       "      <td>63.0</td>\n",
       "      <td>408.68</td>\n",
       "      <td>63.0</td>\n",
       "      <td>24970.26</td>\n",
       "    </tr>\n",
       "    <tr>\n",
       "      <th>510</th>\n",
       "      <td>83.0</td>\n",
       "      <td>597.83</td>\n",
       "      <td>0.0</td>\n",
       "      <td>16273.02</td>\n",
       "    </tr>\n",
       "  </tbody>\n",
       "</table>\n",
       "<p>1928 rows × 4 columns</p>\n",
       "</div>"
      ],
      "text/plain": [
       "      calls  minutes  messages   mb_used\n",
       "2656   30.0   185.07      34.0  17166.53\n",
       "823    42.0   290.69      77.0  21507.03\n",
       "2566   41.0   289.83      15.0  22151.73\n",
       "1451   45.0   333.49      50.0  17275.47\n",
       "2953   43.0   300.39      69.0  17277.83\n",
       "...     ...      ...       ...       ...\n",
       "1043  106.0   796.79      23.0  42250.70\n",
       "2132   18.0   117.80       0.0  10006.79\n",
       "1642   87.0   583.02       1.0  11213.97\n",
       "1495   63.0   408.68      63.0  24970.26\n",
       "510    83.0   597.83       0.0  16273.02\n",
       "\n",
       "[1928 rows x 4 columns]"
      ]
     },
     "execution_count": 16,
     "metadata": {},
     "output_type": "execute_result"
    }
   ],
   "source": [
    "features_train"
   ]
  },
  {
   "cell_type": "code",
   "execution_count": 17,
   "metadata": {},
   "outputs": [
    {
     "data": {
      "text/plain": [
       "2699    0\n",
       "242     1\n",
       "2854    0\n",
       "1638    0\n",
       "1632    0\n",
       "       ..\n",
       "2551    0\n",
       "1261    0\n",
       "1658    0\n",
       "353     0\n",
       "1806    0\n",
       "Name: is_ultra, Length: 643, dtype: int64"
      ]
     },
     "execution_count": 17,
     "metadata": {},
     "output_type": "execute_result"
    }
   ],
   "source": [
    "target_valid"
   ]
  },
  {
   "cell_type": "code",
   "execution_count": 18,
   "metadata": {},
   "outputs": [
    {
     "data": {
      "text/html": [
       "<div>\n",
       "<style scoped>\n",
       "    .dataframe tbody tr th:only-of-type {\n",
       "        vertical-align: middle;\n",
       "    }\n",
       "\n",
       "    .dataframe tbody tr th {\n",
       "        vertical-align: top;\n",
       "    }\n",
       "\n",
       "    .dataframe thead th {\n",
       "        text-align: right;\n",
       "    }\n",
       "</style>\n",
       "<table border=\"1\" class=\"dataframe\">\n",
       "  <thead>\n",
       "    <tr style=\"text-align: right;\">\n",
       "      <th></th>\n",
       "      <th>calls</th>\n",
       "      <th>minutes</th>\n",
       "      <th>messages</th>\n",
       "      <th>mb_used</th>\n",
       "    </tr>\n",
       "  </thead>\n",
       "  <tbody>\n",
       "    <tr>\n",
       "      <th>2699</th>\n",
       "      <td>71.0</td>\n",
       "      <td>512.53</td>\n",
       "      <td>27.0</td>\n",
       "      <td>15772.68</td>\n",
       "    </tr>\n",
       "    <tr>\n",
       "      <th>242</th>\n",
       "      <td>183.0</td>\n",
       "      <td>1247.04</td>\n",
       "      <td>150.0</td>\n",
       "      <td>29186.41</td>\n",
       "    </tr>\n",
       "    <tr>\n",
       "      <th>2854</th>\n",
       "      <td>34.0</td>\n",
       "      <td>246.06</td>\n",
       "      <td>31.0</td>\n",
       "      <td>8448.76</td>\n",
       "    </tr>\n",
       "    <tr>\n",
       "      <th>1638</th>\n",
       "      <td>63.0</td>\n",
       "      <td>468.66</td>\n",
       "      <td>0.0</td>\n",
       "      <td>11794.34</td>\n",
       "    </tr>\n",
       "    <tr>\n",
       "      <th>1632</th>\n",
       "      <td>4.0</td>\n",
       "      <td>19.85</td>\n",
       "      <td>28.0</td>\n",
       "      <td>13107.42</td>\n",
       "    </tr>\n",
       "    <tr>\n",
       "      <th>...</th>\n",
       "      <td>...</td>\n",
       "      <td>...</td>\n",
       "      <td>...</td>\n",
       "      <td>...</td>\n",
       "    </tr>\n",
       "    <tr>\n",
       "      <th>2551</th>\n",
       "      <td>83.0</td>\n",
       "      <td>539.32</td>\n",
       "      <td>33.0</td>\n",
       "      <td>20967.28</td>\n",
       "    </tr>\n",
       "    <tr>\n",
       "      <th>1261</th>\n",
       "      <td>80.0</td>\n",
       "      <td>552.33</td>\n",
       "      <td>23.0</td>\n",
       "      <td>18457.85</td>\n",
       "    </tr>\n",
       "    <tr>\n",
       "      <th>1658</th>\n",
       "      <td>111.0</td>\n",
       "      <td>899.74</td>\n",
       "      <td>0.0</td>\n",
       "      <td>26866.61</td>\n",
       "    </tr>\n",
       "    <tr>\n",
       "      <th>353</th>\n",
       "      <td>68.0</td>\n",
       "      <td>493.00</td>\n",
       "      <td>29.0</td>\n",
       "      <td>20021.73</td>\n",
       "    </tr>\n",
       "    <tr>\n",
       "      <th>1806</th>\n",
       "      <td>62.0</td>\n",
       "      <td>364.31</td>\n",
       "      <td>0.0</td>\n",
       "      <td>13259.50</td>\n",
       "    </tr>\n",
       "  </tbody>\n",
       "</table>\n",
       "<p>643 rows × 4 columns</p>\n",
       "</div>"
      ],
      "text/plain": [
       "      calls  minutes  messages   mb_used\n",
       "2699   71.0   512.53      27.0  15772.68\n",
       "242   183.0  1247.04     150.0  29186.41\n",
       "2854   34.0   246.06      31.0   8448.76\n",
       "1638   63.0   468.66       0.0  11794.34\n",
       "1632    4.0    19.85      28.0  13107.42\n",
       "...     ...      ...       ...       ...\n",
       "2551   83.0   539.32      33.0  20967.28\n",
       "1261   80.0   552.33      23.0  18457.85\n",
       "1658  111.0   899.74       0.0  26866.61\n",
       "353    68.0   493.00      29.0  20021.73\n",
       "1806   62.0   364.31       0.0  13259.50\n",
       "\n",
       "[643 rows x 4 columns]"
      ]
     },
     "execution_count": 18,
     "metadata": {},
     "output_type": "execute_result"
    }
   ],
   "source": [
    "features_valid"
   ]
  },
  {
   "cell_type": "markdown",
   "metadata": {},
   "source": [
    "### 3. Investigating hyperparameters"
   ]
  },
  {
   "cell_type": "code",
   "execution_count": 38,
   "metadata": {},
   "outputs": [
    {
     "name": "stdout",
     "output_type": "stream",
     "text": [
      "1 0.702954898911353\n",
      "2 0.7573872472783826\n",
      "3 0.744945567651633\n",
      "4 0.7651632970451011\n",
      "5 0.7620528771384136\n",
      "6 0.7698289269051322\n",
      "7 0.7713841368584758\n",
      "8 0.7869362363919129\n",
      "9 0.7838258164852255\n",
      "10 0.7884914463452566\n",
      "11 0.7807153965785381\n",
      "12 0.7822706065318819\n",
      "13 0.7776049766718507\n",
      "14 0.7853810264385692\n",
      "15 0.7838258164852255\n",
      "16 0.7838258164852255\n",
      "17 0.7776049766718507\n",
      "18 0.7869362363919129\n",
      "19 0.7869362363919129\n",
      "20 0.7900466562986003\n",
      "21 0.7884914463452566\n",
      "22 0.7931570762052877\n",
      "23 0.7884914463452566\n",
      "24 0.7900466562986003\n",
      "25 0.7884914463452566\n",
      "26 0.7838258164852255\n",
      "27 0.7822706065318819\n",
      "28 0.7822706065318819\n",
      "29 0.7853810264385692\n",
      "30 0.7884914463452566\n",
      "31 0.7869362363919129\n",
      "32 0.7838258164852255\n",
      "33 0.7869362363919129\n",
      "34 0.7869362363919129\n",
      "35 0.7853810264385692\n",
      "36 0.7884914463452566\n",
      "37 0.7900466562986003\n",
      "38 0.7853810264385692\n",
      "39 0.7822706065318819\n",
      "40 0.7869362363919129\n",
      "41 0.7869362363919129\n",
      "42 0.7900466562986003\n",
      "43 0.7916018662519441\n",
      "44 0.7947122861586314\n",
      "45 0.7931570762052877\n",
      "46 0.7947122861586314\n",
      "47 0.7900466562986003\n",
      "48 0.7900466562986003\n",
      "49 0.7931570762052877\n",
      "50 0.7947122861586314\n",
      "51 0.7916018662519441\n",
      "52 0.7916018662519441\n",
      "53 0.7931570762052877\n",
      "54 0.7931570762052877\n",
      "55 0.7962674961119751\n",
      "56 0.7931570762052877\n",
      "57 0.7931570762052877\n",
      "58 0.7947122861586314\n",
      "59 0.7931570762052877\n",
      "60 0.7962674961119751\n",
      "61 0.7931570762052877\n",
      "62 0.7962674961119751\n",
      "63 0.7947122861586314\n",
      "64 0.7978227060653188\n",
      "65 0.7993779160186625\n",
      "66 0.7978227060653188\n",
      "67 0.7978227060653188\n",
      "68 0.7993779160186625\n",
      "69 0.7993779160186625\n",
      "70 0.7962674961119751\n",
      "71 0.7962674961119751\n",
      "72 0.7978227060653188\n",
      "73 0.7978227060653188\n",
      "74 0.7962674961119751\n",
      "75 0.7978227060653188\n",
      "76 0.7978227060653188\n",
      "77 0.7993779160186625\n",
      "78 0.7993779160186625\n",
      "79 0.7962674961119751\n",
      "80 0.7993779160186625\n",
      "81 0.7962674961119751\n",
      "82 0.7978227060653188\n",
      "83 0.7962674961119751\n",
      "84 0.7978227060653188\n",
      "85 0.7978227060653188\n",
      "86 0.7978227060653188\n",
      "87 0.7962674961119751\n",
      "88 0.7962674961119751\n",
      "89 0.7947122861586314\n",
      "90 0.7978227060653188\n",
      "91 0.7947122861586314\n",
      "92 0.7962674961119751\n",
      "93 0.7931570762052877\n",
      "94 0.7931570762052877\n",
      "95 0.7931570762052877\n",
      "96 0.7931570762052877\n",
      "97 0.7947122861586314\n",
      "98 0.7947122861586314\n",
      "99 0.7947122861586314\n"
     ]
    }
   ],
   "source": [
    "for depth in range(1, 100):\n",
    "    model = RandomForestClassifier(n_estimators = depth, random_state = 12345)\n",
    "    model.fit(features_train, target_train)\n",
    "    print(depth, model.score(features_valid, target_valid))"
   ]
  },
  {
   "cell_type": "markdown",
   "metadata": {},
   "source": [
    "65 is with the best score of 0.7993."
   ]
  },
  {
   "cell_type": "code",
   "execution_count": 39,
   "metadata": {},
   "outputs": [
    {
     "data": {
      "text/plain": [
       "0.7293934681181959"
      ]
     },
     "execution_count": 39,
     "metadata": {},
     "output_type": "execute_result"
    }
   ],
   "source": [
    "model = LogisticRegression(random_state=12345, solver='liblinear') \n",
    "model.fit(features_train, target_train)\n",
    "model.score(features_valid, target_valid)"
   ]
  },
  {
   "cell_type": "markdown",
   "metadata": {},
   "source": [
    "The hyperparameter here is the solver as far as taught and it's best for small data sets as I believe this is."
   ]
  },
  {
   "cell_type": "markdown",
   "metadata": {},
   "source": [
    "#### I'm not testing a 'Decision tree' for it's the least accurate and time isn't an issue at the project."
   ]
  },
  {
   "cell_type": "markdown",
   "metadata": {},
   "source": [
    "### 4. Quality check"
   ]
  },
  {
   "cell_type": "code",
   "execution_count": 40,
   "metadata": {},
   "outputs": [
    {
     "data": {
      "text/plain": [
       "0.7900466562986003"
      ]
     },
     "execution_count": 40,
     "metadata": {},
     "output_type": "execute_result"
    }
   ],
   "source": [
    "features_test = df_test.drop(['is_ultra'], axis = 1)\n",
    "target_test = df_test['is_ultra']\n",
    "model = RandomForestClassifier(n_estimators = 65, random_state = 12345)\n",
    "model.fit(features_train, target_train)\n",
    "model.score(features_test, target_test)"
   ]
  },
  {
   "cell_type": "code",
   "execution_count": 41,
   "metadata": {},
   "outputs": [
    {
     "data": {
      "text/plain": [
       "0.7511664074650077"
      ]
     },
     "execution_count": 41,
     "metadata": {},
     "output_type": "execute_result"
    }
   ],
   "source": [
    "model = LogisticRegression(random_state=12345, solver='liblinear') \n",
    "model.fit(features_train, target_train)\n",
    "model.score(features_test, target_test)"
   ]
  },
  {
   "cell_type": "markdown",
   "metadata": {},
   "source": [
    "The clear winner here is Random Forest Classifier as it's with the best accuracy. Both module pass the threshold."
   ]
  },
  {
   "cell_type": "markdown",
   "metadata": {},
   "source": [
    "### 5. Sanity check"
   ]
  },
  {
   "cell_type": "markdown",
   "metadata": {},
   "source": [
    "It's better than 50% (0.5)."
   ]
  },
  {
   "cell_type": "markdown",
   "metadata": {},
   "source": [
    "# Conclusion\n",
    "After going through the models and figuring out which one of them is the most suited one for prediction the right plan for the right user I have decided that 'RandomForestClassifier' is the right pick.\n",
    "## Additionally\n",
    "I believe there are numerous ways of determining the best model, but this is close enough from my little understanding."
   ]
  }
 ],
 "metadata": {
  "ExecuteTimeLog": [
   {
    "duration": 207,
    "start_time": "2022-03-09T09:34:31.261Z"
   },
   {
    "duration": 609,
    "start_time": "2022-03-09T09:34:34.231Z"
   },
   {
    "duration": 1415,
    "start_time": "2022-03-09T09:34:34.842Z"
   },
   {
    "duration": 29,
    "start_time": "2022-03-09T09:36:07.052Z"
   },
   {
    "duration": 14,
    "start_time": "2022-03-09T09:36:16.851Z"
   },
   {
    "duration": 23,
    "start_time": "2022-03-09T09:36:22.675Z"
   },
   {
    "duration": 21,
    "start_time": "2022-03-09T09:41:32.514Z"
   },
   {
    "duration": 19,
    "start_time": "2022-03-09T09:41:48.730Z"
   },
   {
    "duration": 14,
    "start_time": "2022-03-09T09:41:55.810Z"
   },
   {
    "duration": 9,
    "start_time": "2022-03-09T09:41:56.873Z"
   },
   {
    "duration": 4,
    "start_time": "2022-03-09T10:00:50.397Z"
   },
   {
    "duration": 5,
    "start_time": "2022-03-09T10:00:54.373Z"
   },
   {
    "duration": 12,
    "start_time": "2022-03-09T10:01:00.269Z"
   },
   {
    "duration": 615,
    "start_time": "2022-03-09T10:01:15.542Z"
   },
   {
    "duration": 23,
    "start_time": "2022-03-09T10:01:16.159Z"
   },
   {
    "duration": 10,
    "start_time": "2022-03-09T10:01:16.185Z"
   },
   {
    "duration": 8,
    "start_time": "2022-03-09T10:01:16.197Z"
   },
   {
    "duration": 16,
    "start_time": "2022-03-09T10:01:16.206Z"
   },
   {
    "duration": 20,
    "start_time": "2022-03-09T10:01:16.238Z"
   },
   {
    "duration": 543,
    "start_time": "2022-03-09T10:02:27.691Z"
   },
   {
    "duration": 19,
    "start_time": "2022-03-09T10:02:28.238Z"
   },
   {
    "duration": 10,
    "start_time": "2022-03-09T10:02:28.552Z"
   },
   {
    "duration": 6,
    "start_time": "2022-03-09T10:02:28.977Z"
   },
   {
    "duration": 11,
    "start_time": "2022-03-09T10:02:29.425Z"
   },
   {
    "duration": 12,
    "start_time": "2022-03-09T10:02:29.937Z"
   },
   {
    "duration": 3,
    "start_time": "2022-03-09T10:02:30.520Z"
   },
   {
    "duration": 21,
    "start_time": "2022-03-09T10:02:57.493Z"
   },
   {
    "duration": 256,
    "start_time": "2022-03-09T10:02:57.797Z"
   },
   {
    "duration": 6,
    "start_time": "2022-03-09T10:03:09.265Z"
   },
   {
    "duration": 1084,
    "start_time": "2022-03-09T10:06:59.404Z"
   },
   {
    "duration": 20,
    "start_time": "2022-03-09T10:07:00.490Z"
   },
   {
    "duration": 11,
    "start_time": "2022-03-09T10:07:00.512Z"
   },
   {
    "duration": 17,
    "start_time": "2022-03-09T10:07:00.524Z"
   },
   {
    "duration": 13,
    "start_time": "2022-03-09T10:07:00.543Z"
   },
   {
    "duration": 17,
    "start_time": "2022-03-09T10:07:00.558Z"
   },
   {
    "duration": 9,
    "start_time": "2022-03-09T10:07:00.577Z"
   },
   {
    "duration": 28,
    "start_time": "2022-03-09T10:07:00.588Z"
   },
   {
    "duration": 19,
    "start_time": "2022-03-09T10:07:00.619Z"
   },
   {
    "duration": 4,
    "start_time": "2022-03-09T10:07:00.640Z"
   },
   {
    "duration": 3,
    "start_time": "2022-03-09T10:07:20.597Z"
   },
   {
    "duration": 10,
    "start_time": "2022-03-09T10:07:20.932Z"
   },
   {
    "duration": 6,
    "start_time": "2022-03-09T10:07:21.404Z"
   },
   {
    "duration": 4,
    "start_time": "2022-03-09T10:07:21.981Z"
   },
   {
    "duration": 4,
    "start_time": "2022-03-09T10:07:28.069Z"
   },
   {
    "duration": 3,
    "start_time": "2022-03-09T10:09:49.243Z"
   },
   {
    "duration": 22,
    "start_time": "2022-03-09T10:09:49.504Z"
   },
   {
    "duration": 10,
    "start_time": "2022-03-09T10:09:49.697Z"
   },
   {
    "duration": 7,
    "start_time": "2022-03-09T10:09:50.641Z"
   },
   {
    "duration": 12,
    "start_time": "2022-03-09T10:09:52.528Z"
   },
   {
    "duration": 12,
    "start_time": "2022-03-09T10:09:52.751Z"
   },
   {
    "duration": 3,
    "start_time": "2022-03-09T10:09:52.913Z"
   },
   {
    "duration": 10,
    "start_time": "2022-03-09T10:09:53.105Z"
   },
   {
    "duration": 6,
    "start_time": "2022-03-09T10:09:53.449Z"
   },
   {
    "duration": 5,
    "start_time": "2022-03-09T10:09:53.777Z"
   },
   {
    "duration": 277,
    "start_time": "2022-03-09T10:37:06.479Z"
   },
   {
    "duration": 6,
    "start_time": "2022-03-09T10:40:46.771Z"
   },
   {
    "duration": 6,
    "start_time": "2022-03-09T10:44:49.903Z"
   },
   {
    "duration": 5,
    "start_time": "2022-03-09T10:44:50.132Z"
   },
   {
    "duration": 12,
    "start_time": "2022-03-09T10:44:57.405Z"
   },
   {
    "duration": 3,
    "start_time": "2022-03-09T10:45:08.661Z"
   },
   {
    "duration": 4,
    "start_time": "2022-03-09T10:45:25.473Z"
   },
   {
    "duration": 3,
    "start_time": "2022-03-09T10:45:25.745Z"
   },
   {
    "duration": 6,
    "start_time": "2022-03-09T10:46:00.596Z"
   },
   {
    "duration": 5,
    "start_time": "2022-03-09T10:46:00.853Z"
   },
   {
    "duration": 4,
    "start_time": "2022-03-09T10:46:01.205Z"
   },
   {
    "duration": 4,
    "start_time": "2022-03-09T10:46:01.693Z"
   },
   {
    "duration": 4,
    "start_time": "2022-03-09T10:46:02.013Z"
   },
   {
    "duration": 5,
    "start_time": "2022-03-09T10:51:15.238Z"
   },
   {
    "duration": 5,
    "start_time": "2022-03-09T10:51:15.597Z"
   },
   {
    "duration": 4,
    "start_time": "2022-03-09T10:51:16.773Z"
   },
   {
    "duration": 3,
    "start_time": "2022-03-09T10:51:17.278Z"
   },
   {
    "duration": 4,
    "start_time": "2022-03-09T10:51:17.646Z"
   },
   {
    "duration": 5,
    "start_time": "2022-03-09T10:51:47.297Z"
   },
   {
    "duration": 4,
    "start_time": "2022-03-09T10:51:47.570Z"
   },
   {
    "duration": 3,
    "start_time": "2022-03-09T10:51:47.852Z"
   },
   {
    "duration": 4,
    "start_time": "2022-03-09T10:51:48.249Z"
   },
   {
    "duration": 4,
    "start_time": "2022-03-09T10:51:48.577Z"
   },
   {
    "duration": 5,
    "start_time": "2022-03-09T10:52:20.661Z"
   },
   {
    "duration": 6,
    "start_time": "2022-03-09T10:52:20.981Z"
   },
   {
    "duration": 4,
    "start_time": "2022-03-09T10:52:21.309Z"
   },
   {
    "duration": 4,
    "start_time": "2022-03-09T10:52:21.617Z"
   },
   {
    "duration": 5,
    "start_time": "2022-03-09T10:52:22.005Z"
   },
   {
    "duration": 5,
    "start_time": "2022-03-09T10:53:05.686Z"
   },
   {
    "duration": 5,
    "start_time": "2022-03-09T10:53:05.973Z"
   },
   {
    "duration": 4,
    "start_time": "2022-03-09T10:53:06.270Z"
   },
   {
    "duration": 4,
    "start_time": "2022-03-09T10:53:06.510Z"
   },
   {
    "duration": 4,
    "start_time": "2022-03-09T10:53:06.791Z"
   },
   {
    "duration": 1071,
    "start_time": "2022-03-09T10:55:23.407Z"
   },
   {
    "duration": 20,
    "start_time": "2022-03-09T10:55:24.480Z"
   },
   {
    "duration": 12,
    "start_time": "2022-03-09T10:55:24.502Z"
   },
   {
    "duration": 5,
    "start_time": "2022-03-09T10:55:24.516Z"
   },
   {
    "duration": 6,
    "start_time": "2022-03-09T10:55:24.538Z"
   },
   {
    "duration": 6,
    "start_time": "2022-03-09T10:55:24.545Z"
   },
   {
    "duration": 5,
    "start_time": "2022-03-09T10:55:24.553Z"
   },
   {
    "duration": 6,
    "start_time": "2022-03-09T10:55:24.560Z"
   },
   {
    "duration": 8,
    "start_time": "2022-03-09T10:55:24.569Z"
   },
   {
    "duration": 11,
    "start_time": "2022-03-09T10:55:24.579Z"
   },
   {
    "duration": 45,
    "start_time": "2022-03-09T10:55:24.592Z"
   },
   {
    "duration": 13,
    "start_time": "2022-03-09T10:55:24.639Z"
   },
   {
    "duration": 9,
    "start_time": "2022-03-09T10:55:24.654Z"
   },
   {
    "duration": 14,
    "start_time": "2022-03-09T10:55:24.665Z"
   },
   {
    "duration": 5,
    "start_time": "2022-03-09T10:55:24.681Z"
   },
   {
    "duration": 15,
    "start_time": "2022-03-09T10:55:24.688Z"
   },
   {
    "duration": 7,
    "start_time": "2022-03-09T10:55:24.705Z"
   },
   {
    "duration": 27,
    "start_time": "2022-03-09T10:55:24.713Z"
   },
   {
    "duration": 284,
    "start_time": "2022-03-09T11:30:08.375Z"
   },
   {
    "duration": 1150,
    "start_time": "2022-03-09T11:30:12.730Z"
   },
   {
    "duration": 21,
    "start_time": "2022-03-09T11:30:13.882Z"
   },
   {
    "duration": 11,
    "start_time": "2022-03-09T11:30:13.905Z"
   },
   {
    "duration": 18,
    "start_time": "2022-03-09T11:30:13.919Z"
   },
   {
    "duration": 6,
    "start_time": "2022-03-09T11:30:13.940Z"
   },
   {
    "duration": 7,
    "start_time": "2022-03-09T11:30:13.947Z"
   },
   {
    "duration": 9,
    "start_time": "2022-03-09T11:30:13.956Z"
   },
   {
    "duration": 10,
    "start_time": "2022-03-09T11:30:13.967Z"
   },
   {
    "duration": 9,
    "start_time": "2022-03-09T11:30:13.980Z"
   },
   {
    "duration": 23,
    "start_time": "2022-03-09T11:30:13.990Z"
   },
   {
    "duration": 25,
    "start_time": "2022-03-09T11:30:14.015Z"
   },
   {
    "duration": 20,
    "start_time": "2022-03-09T11:30:14.042Z"
   },
   {
    "duration": 16,
    "start_time": "2022-03-09T11:30:14.064Z"
   },
   {
    "duration": 13,
    "start_time": "2022-03-09T11:30:14.082Z"
   },
   {
    "duration": 5,
    "start_time": "2022-03-09T11:30:14.097Z"
   },
   {
    "duration": 15,
    "start_time": "2022-03-09T11:30:14.103Z"
   },
   {
    "duration": 21,
    "start_time": "2022-03-09T11:30:14.120Z"
   },
   {
    "duration": 6,
    "start_time": "2022-03-09T11:30:14.143Z"
   },
   {
    "duration": 8,
    "start_time": "2022-03-09T11:54:47.091Z"
   },
   {
    "duration": 288,
    "start_time": "2022-03-09T11:54:49.691Z"
   },
   {
    "duration": 188,
    "start_time": "2022-03-09T11:55:12.455Z"
   },
   {
    "duration": 6,
    "start_time": "2022-03-09T11:55:19.552Z"
   },
   {
    "duration": 1073,
    "start_time": "2022-03-09T11:55:26.119Z"
   },
   {
    "duration": 20,
    "start_time": "2022-03-09T11:55:27.194Z"
   },
   {
    "duration": 25,
    "start_time": "2022-03-09T11:55:27.217Z"
   },
   {
    "duration": 5,
    "start_time": "2022-03-09T11:55:27.244Z"
   },
   {
    "duration": 9,
    "start_time": "2022-03-09T11:55:27.251Z"
   },
   {
    "duration": 5,
    "start_time": "2022-03-09T11:55:27.262Z"
   },
   {
    "duration": 6,
    "start_time": "2022-03-09T11:55:27.269Z"
   },
   {
    "duration": 7,
    "start_time": "2022-03-09T11:55:27.277Z"
   },
   {
    "duration": 8,
    "start_time": "2022-03-09T11:55:27.287Z"
   },
   {
    "duration": 44,
    "start_time": "2022-03-09T11:55:27.297Z"
   },
   {
    "duration": 8,
    "start_time": "2022-03-09T11:55:27.343Z"
   },
   {
    "duration": 13,
    "start_time": "2022-03-09T11:55:27.353Z"
   },
   {
    "duration": 9,
    "start_time": "2022-03-09T11:55:27.368Z"
   },
   {
    "duration": 14,
    "start_time": "2022-03-09T11:55:27.379Z"
   },
   {
    "duration": 8,
    "start_time": "2022-03-09T11:55:27.395Z"
   },
   {
    "duration": 40,
    "start_time": "2022-03-09T11:55:27.404Z"
   },
   {
    "duration": 6,
    "start_time": "2022-03-09T11:55:27.446Z"
   },
   {
    "duration": 8,
    "start_time": "2022-03-09T11:55:27.454Z"
   },
   {
    "duration": 1033,
    "start_time": "2022-03-09T11:57:53.969Z"
   },
   {
    "duration": 26,
    "start_time": "2022-03-09T11:57:55.004Z"
   },
   {
    "duration": 13,
    "start_time": "2022-03-09T11:57:55.033Z"
   },
   {
    "duration": 9,
    "start_time": "2022-03-09T11:57:55.048Z"
   },
   {
    "duration": 14,
    "start_time": "2022-03-09T11:57:55.059Z"
   },
   {
    "duration": 12,
    "start_time": "2022-03-09T11:57:55.075Z"
   },
   {
    "duration": 5,
    "start_time": "2022-03-09T11:57:55.089Z"
   },
   {
    "duration": 19,
    "start_time": "2022-03-09T11:57:55.096Z"
   },
   {
    "duration": 15,
    "start_time": "2022-03-09T11:57:55.118Z"
   },
   {
    "duration": 13,
    "start_time": "2022-03-09T11:57:55.137Z"
   },
   {
    "duration": 30,
    "start_time": "2022-03-09T11:57:55.152Z"
   },
   {
    "duration": 22,
    "start_time": "2022-03-09T11:57:55.184Z"
   },
   {
    "duration": 19,
    "start_time": "2022-03-09T11:57:55.208Z"
   },
   {
    "duration": 17,
    "start_time": "2022-03-09T11:57:55.229Z"
   },
   {
    "duration": 8,
    "start_time": "2022-03-09T11:57:55.247Z"
   },
   {
    "duration": 39,
    "start_time": "2022-03-09T11:57:55.257Z"
   },
   {
    "duration": 8,
    "start_time": "2022-03-09T11:57:55.298Z"
   },
   {
    "duration": 28,
    "start_time": "2022-03-09T11:57:55.307Z"
   },
   {
    "duration": 3,
    "start_time": "2022-03-09T12:00:30.919Z"
   },
   {
    "duration": 191,
    "start_time": "2022-03-09T12:00:31.512Z"
   },
   {
    "duration": 14,
    "start_time": "2022-03-09T12:00:31.775Z"
   },
   {
    "duration": 4,
    "start_time": "2022-03-09T12:00:32.089Z"
   },
   {
    "duration": 3,
    "start_time": "2022-03-09T12:01:14.696Z"
   },
   {
    "duration": 284,
    "start_time": "2022-03-09T12:01:14.936Z"
   },
   {
    "duration": 24,
    "start_time": "2022-03-09T12:01:15.222Z"
   },
   {
    "duration": 5,
    "start_time": "2022-03-09T12:01:16.463Z"
   },
   {
    "duration": 3,
    "start_time": "2022-03-09T12:01:22.744Z"
   },
   {
    "duration": 4139,
    "start_time": "2022-03-09T12:01:23.328Z"
   },
   {
    "duration": 168,
    "start_time": "2022-03-09T12:01:27.470Z"
   },
   {
    "duration": 5,
    "start_time": "2022-03-09T12:01:27.640Z"
   },
   {
    "duration": 3,
    "start_time": "2022-03-09T12:01:36.463Z"
   },
   {
    "duration": 52,
    "start_time": "2022-03-09T12:01:36.704Z"
   },
   {
    "duration": 9,
    "start_time": "2022-03-09T12:01:37.000Z"
   },
   {
    "duration": 5,
    "start_time": "2022-03-09T12:01:37.712Z"
   },
   {
    "duration": 3,
    "start_time": "2022-03-09T12:01:42.764Z"
   },
   {
    "duration": 449,
    "start_time": "2022-03-09T12:01:43.065Z"
   },
   {
    "duration": 29,
    "start_time": "2022-03-09T12:01:43.516Z"
   },
   {
    "duration": 5,
    "start_time": "2022-03-09T12:01:43.588Z"
   },
   {
    "duration": 3,
    "start_time": "2022-03-09T12:01:51.804Z"
   },
   {
    "duration": 760,
    "start_time": "2022-03-09T12:01:52.048Z"
   },
   {
    "duration": 36,
    "start_time": "2022-03-09T12:01:52.810Z"
   },
   {
    "duration": 5,
    "start_time": "2022-03-09T12:01:52.848Z"
   },
   {
    "duration": 3,
    "start_time": "2022-03-09T12:12:28.682Z"
   },
   {
    "duration": 660,
    "start_time": "2022-03-09T12:12:29.046Z"
   },
   {
    "duration": 29,
    "start_time": "2022-03-09T12:12:29.762Z"
   },
   {
    "duration": 1035,
    "start_time": "2022-03-09T12:12:43.850Z"
   },
   {
    "duration": 25,
    "start_time": "2022-03-09T12:12:44.887Z"
   },
   {
    "duration": 18,
    "start_time": "2022-03-09T12:12:44.915Z"
   },
   {
    "duration": 22,
    "start_time": "2022-03-09T12:12:44.935Z"
   },
   {
    "duration": 18,
    "start_time": "2022-03-09T12:12:44.959Z"
   },
   {
    "duration": 30,
    "start_time": "2022-03-09T12:12:44.979Z"
   },
   {
    "duration": 30,
    "start_time": "2022-03-09T12:12:45.011Z"
   },
   {
    "duration": 45,
    "start_time": "2022-03-09T12:12:45.043Z"
   },
   {
    "duration": 23,
    "start_time": "2022-03-09T12:12:45.092Z"
   },
   {
    "duration": 30,
    "start_time": "2022-03-09T12:12:45.117Z"
   },
   {
    "duration": 29,
    "start_time": "2022-03-09T12:12:45.148Z"
   },
   {
    "duration": 19,
    "start_time": "2022-03-09T12:12:45.179Z"
   },
   {
    "duration": 13,
    "start_time": "2022-03-09T12:12:45.200Z"
   },
   {
    "duration": 25,
    "start_time": "2022-03-09T12:12:45.215Z"
   },
   {
    "duration": 27,
    "start_time": "2022-03-09T12:12:45.242Z"
   },
   {
    "duration": 683,
    "start_time": "2022-03-09T12:12:45.271Z"
   },
   {
    "duration": 32,
    "start_time": "2022-03-09T12:12:45.956Z"
   },
   {
    "duration": 5,
    "start_time": "2022-03-09T12:12:45.990Z"
   },
   {
    "duration": 33,
    "start_time": "2022-03-09T12:14:04.527Z"
   },
   {
    "duration": 5,
    "start_time": "2022-03-09T12:14:06.528Z"
   },
   {
    "duration": 1330,
    "start_time": "2022-03-13T08:59:27.386Z"
   },
   {
    "duration": 83,
    "start_time": "2022-03-13T08:59:39.979Z"
   },
   {
    "duration": 1236,
    "start_time": "2022-03-13T08:59:47.717Z"
   },
   {
    "duration": 37,
    "start_time": "2022-03-13T08:59:48.955Z"
   },
   {
    "duration": 11,
    "start_time": "2022-03-13T08:59:48.994Z"
   },
   {
    "duration": 5,
    "start_time": "2022-03-13T08:59:49.007Z"
   },
   {
    "duration": 6,
    "start_time": "2022-03-13T08:59:49.014Z"
   },
   {
    "duration": 9,
    "start_time": "2022-03-13T08:59:49.022Z"
   },
   {
    "duration": 6,
    "start_time": "2022-03-13T08:59:49.033Z"
   },
   {
    "duration": 6,
    "start_time": "2022-03-13T08:59:49.041Z"
   },
   {
    "duration": 10,
    "start_time": "2022-03-13T08:59:49.068Z"
   },
   {
    "duration": 18,
    "start_time": "2022-03-13T08:59:49.080Z"
   },
   {
    "duration": 19,
    "start_time": "2022-03-13T08:59:49.100Z"
   },
   {
    "duration": 22,
    "start_time": "2022-03-13T08:59:49.121Z"
   },
   {
    "duration": 9,
    "start_time": "2022-03-13T08:59:49.145Z"
   },
   {
    "duration": 40,
    "start_time": "2022-03-13T08:59:49.155Z"
   },
   {
    "duration": 17,
    "start_time": "2022-03-13T08:59:49.197Z"
   },
   {
    "duration": 784,
    "start_time": "2022-03-13T08:59:49.217Z"
   },
   {
    "duration": 40,
    "start_time": "2022-03-13T08:59:50.004Z"
   },
   {
    "duration": 7,
    "start_time": "2022-03-13T08:59:50.066Z"
   },
   {
    "duration": 51,
    "start_time": "2022-03-13T08:59:50.076Z"
   },
   {
    "duration": 5,
    "start_time": "2022-03-13T08:59:50.129Z"
   },
   {
    "duration": 23,
    "start_time": "2022-03-13T09:00:30.669Z"
   },
   {
    "duration": 7,
    "start_time": "2022-03-13T09:00:54.531Z"
   },
   {
    "duration": 1089,
    "start_time": "2022-03-13T09:19:39.414Z"
   },
   {
    "duration": 21,
    "start_time": "2022-03-13T09:19:40.505Z"
   },
   {
    "duration": 11,
    "start_time": "2022-03-13T09:19:40.528Z"
   },
   {
    "duration": 28,
    "start_time": "2022-03-13T09:19:40.541Z"
   },
   {
    "duration": 7,
    "start_time": "2022-03-13T09:19:40.571Z"
   },
   {
    "duration": 10,
    "start_time": "2022-03-13T09:19:40.579Z"
   },
   {
    "duration": 11,
    "start_time": "2022-03-13T09:19:40.590Z"
   },
   {
    "duration": 356,
    "start_time": "2022-03-13T09:19:40.603Z"
   },
   {
    "duration": -114,
    "start_time": "2022-03-13T09:19:41.077Z"
   },
   {
    "duration": -117,
    "start_time": "2022-03-13T09:19:41.081Z"
   },
   {
    "duration": -118,
    "start_time": "2022-03-13T09:19:41.084Z"
   },
   {
    "duration": -121,
    "start_time": "2022-03-13T09:19:41.088Z"
   },
   {
    "duration": -121,
    "start_time": "2022-03-13T09:19:41.089Z"
   },
   {
    "duration": -120,
    "start_time": "2022-03-13T09:19:41.090Z"
   },
   {
    "duration": -122,
    "start_time": "2022-03-13T09:19:41.093Z"
   },
   {
    "duration": -123,
    "start_time": "2022-03-13T09:19:41.095Z"
   },
   {
    "duration": -123,
    "start_time": "2022-03-13T09:19:41.097Z"
   },
   {
    "duration": -190,
    "start_time": "2022-03-13T09:19:41.165Z"
   },
   {
    "duration": -194,
    "start_time": "2022-03-13T09:19:41.170Z"
   },
   {
    "duration": -194,
    "start_time": "2022-03-13T09:19:41.172Z"
   },
   {
    "duration": -194,
    "start_time": "2022-03-13T09:19:41.173Z"
   },
   {
    "duration": -194,
    "start_time": "2022-03-13T09:19:41.174Z"
   },
   {
    "duration": -194,
    "start_time": "2022-03-13T09:19:41.176Z"
   },
   {
    "duration": 10,
    "start_time": "2022-03-13T09:20:27.662Z"
   },
   {
    "duration": 4,
    "start_time": "2022-03-13T09:20:31.702Z"
   },
   {
    "duration": 5,
    "start_time": "2022-03-13T09:20:33.148Z"
   },
   {
    "duration": 4,
    "start_time": "2022-03-13T09:20:34.943Z"
   },
   {
    "duration": 7,
    "start_time": "2022-03-13T09:20:37.333Z"
   },
   {
    "duration": 11,
    "start_time": "2022-03-13T09:20:42.575Z"
   },
   {
    "duration": 8,
    "start_time": "2022-03-13T09:20:46.603Z"
   },
   {
    "duration": 15,
    "start_time": "2022-03-13T09:20:47.466Z"
   },
   {
    "duration": 8,
    "start_time": "2022-03-13T09:20:47.944Z"
   },
   {
    "duration": 11,
    "start_time": "2022-03-13T09:20:48.249Z"
   },
   {
    "duration": 3,
    "start_time": "2022-03-13T09:20:48.458Z"
   },
   {
    "duration": 514,
    "start_time": "2022-03-13T09:20:48.719Z"
   },
   {
    "duration": 43,
    "start_time": "2022-03-13T09:20:49.235Z"
   },
   {
    "duration": 6,
    "start_time": "2022-03-13T09:20:50.354Z"
   },
   {
    "duration": 29,
    "start_time": "2022-03-13T09:20:50.600Z"
   },
   {
    "duration": 6,
    "start_time": "2022-03-13T09:20:50.887Z"
   },
   {
    "duration": 1158,
    "start_time": "2022-03-13T09:21:44.259Z"
   },
   {
    "duration": 15,
    "start_time": "2022-03-13T09:21:45.419Z"
   },
   {
    "duration": 10,
    "start_time": "2022-03-13T09:21:45.437Z"
   },
   {
    "duration": 30,
    "start_time": "2022-03-13T09:21:45.449Z"
   },
   {
    "duration": 5,
    "start_time": "2022-03-13T09:21:45.481Z"
   },
   {
    "duration": 8,
    "start_time": "2022-03-13T09:21:45.488Z"
   },
   {
    "duration": 6,
    "start_time": "2022-03-13T09:21:45.497Z"
   },
   {
    "duration": 10,
    "start_time": "2022-03-13T09:21:45.504Z"
   },
   {
    "duration": 3,
    "start_time": "2022-03-13T09:21:45.516Z"
   },
   {
    "duration": 5,
    "start_time": "2022-03-13T09:21:45.521Z"
   },
   {
    "duration": 37,
    "start_time": "2022-03-13T09:21:45.528Z"
   },
   {
    "duration": 7,
    "start_time": "2022-03-13T09:21:45.567Z"
   },
   {
    "duration": 14,
    "start_time": "2022-03-13T09:21:45.576Z"
   },
   {
    "duration": 406,
    "start_time": "2022-03-13T09:21:45.592Z"
   },
   {
    "duration": -113,
    "start_time": "2022-03-13T09:21:46.113Z"
   },
   {
    "duration": -118,
    "start_time": "2022-03-13T09:21:46.119Z"
   },
   {
    "duration": -117,
    "start_time": "2022-03-13T09:21:46.120Z"
   },
   {
    "duration": -118,
    "start_time": "2022-03-13T09:21:46.122Z"
   },
   {
    "duration": -118,
    "start_time": "2022-03-13T09:21:46.123Z"
   },
   {
    "duration": -118,
    "start_time": "2022-03-13T09:21:46.124Z"
   },
   {
    "duration": -120,
    "start_time": "2022-03-13T09:21:46.127Z"
   },
   {
    "duration": -120,
    "start_time": "2022-03-13T09:21:46.129Z"
   },
   {
    "duration": -131,
    "start_time": "2022-03-13T09:21:46.141Z"
   },
   {
    "duration": 7,
    "start_time": "2022-03-13T09:22:24.213Z"
   },
   {
    "duration": 11,
    "start_time": "2022-03-13T09:22:24.621Z"
   },
   {
    "duration": 5,
    "start_time": "2022-03-13T09:23:49.300Z"
   },
   {
    "duration": 348,
    "start_time": "2022-03-13T09:24:44.607Z"
   },
   {
    "duration": 210,
    "start_time": "2022-03-13T09:25:08.447Z"
   },
   {
    "duration": 1327,
    "start_time": "2022-03-13T09:26:31.358Z"
   },
   {
    "duration": 21,
    "start_time": "2022-03-13T09:26:32.688Z"
   },
   {
    "duration": 11,
    "start_time": "2022-03-13T09:26:32.712Z"
   },
   {
    "duration": 27,
    "start_time": "2022-03-13T09:26:32.725Z"
   },
   {
    "duration": 8,
    "start_time": "2022-03-13T09:26:32.763Z"
   },
   {
    "duration": 8,
    "start_time": "2022-03-13T09:26:32.773Z"
   },
   {
    "duration": 12,
    "start_time": "2022-03-13T09:26:32.783Z"
   },
   {
    "duration": 6,
    "start_time": "2022-03-13T09:26:32.798Z"
   },
   {
    "duration": 4,
    "start_time": "2022-03-13T09:26:32.806Z"
   },
   {
    "duration": 6,
    "start_time": "2022-03-13T09:26:32.811Z"
   },
   {
    "duration": 5,
    "start_time": "2022-03-13T09:26:32.819Z"
   },
   {
    "duration": 8,
    "start_time": "2022-03-13T09:26:32.826Z"
   },
   {
    "duration": 11,
    "start_time": "2022-03-13T09:26:32.863Z"
   },
   {
    "duration": 6,
    "start_time": "2022-03-13T09:26:32.876Z"
   },
   {
    "duration": 15,
    "start_time": "2022-03-13T09:26:32.883Z"
   },
   {
    "duration": 15,
    "start_time": "2022-03-13T09:26:32.900Z"
   },
   {
    "duration": 352,
    "start_time": "2022-03-13T09:26:32.917Z"
   },
   {
    "duration": -112,
    "start_time": "2022-03-13T09:26:33.382Z"
   },
   {
    "duration": -119,
    "start_time": "2022-03-13T09:26:33.390Z"
   },
   {
    "duration": -119,
    "start_time": "2022-03-13T09:26:33.391Z"
   },
   {
    "duration": -119,
    "start_time": "2022-03-13T09:26:33.392Z"
   },
   {
    "duration": -119,
    "start_time": "2022-03-13T09:26:33.393Z"
   },
   {
    "duration": -119,
    "start_time": "2022-03-13T09:26:33.394Z"
   },
   {
    "duration": 5,
    "start_time": "2022-03-13T09:28:11.485Z"
   },
   {
    "duration": 6,
    "start_time": "2022-03-13T09:29:08.576Z"
   },
   {
    "duration": 5,
    "start_time": "2022-03-13T09:29:09.047Z"
   },
   {
    "duration": 4,
    "start_time": "2022-03-13T09:29:09.368Z"
   },
   {
    "duration": 4,
    "start_time": "2022-03-13T09:29:09.705Z"
   },
   {
    "duration": 6,
    "start_time": "2022-03-13T09:29:09.938Z"
   },
   {
    "duration": 11,
    "start_time": "2022-03-13T09:29:10.373Z"
   },
   {
    "duration": 7,
    "start_time": "2022-03-13T09:29:10.793Z"
   },
   {
    "duration": 11,
    "start_time": "2022-03-13T09:29:11.329Z"
   },
   {
    "duration": 7,
    "start_time": "2022-03-13T09:29:11.961Z"
   },
   {
    "duration": 5,
    "start_time": "2022-03-13T09:29:12.650Z"
   },
   {
    "duration": 6,
    "start_time": "2022-03-13T09:29:25.629Z"
   },
   {
    "duration": 4,
    "start_time": "2022-03-13T09:29:25.874Z"
   },
   {
    "duration": 4,
    "start_time": "2022-03-13T09:29:26.116Z"
   },
   {
    "duration": 4,
    "start_time": "2022-03-13T09:29:26.344Z"
   },
   {
    "duration": 6,
    "start_time": "2022-03-13T09:29:26.592Z"
   },
   {
    "duration": 11,
    "start_time": "2022-03-13T09:29:26.941Z"
   },
   {
    "duration": 8,
    "start_time": "2022-03-13T09:29:27.232Z"
   },
   {
    "duration": 11,
    "start_time": "2022-03-13T09:29:27.653Z"
   },
   {
    "duration": 7,
    "start_time": "2022-03-13T09:29:28.201Z"
   },
   {
    "duration": 6,
    "start_time": "2022-03-13T09:29:29.156Z"
   },
   {
    "duration": 7,
    "start_time": "2022-03-13T09:29:35.599Z"
   },
   {
    "duration": 5,
    "start_time": "2022-03-13T09:29:35.894Z"
   },
   {
    "duration": 5,
    "start_time": "2022-03-13T09:29:36.169Z"
   },
   {
    "duration": 5,
    "start_time": "2022-03-13T09:29:36.439Z"
   },
   {
    "duration": 6,
    "start_time": "2022-03-13T09:29:36.682Z"
   },
   {
    "duration": 11,
    "start_time": "2022-03-13T09:29:36.961Z"
   },
   {
    "duration": 5,
    "start_time": "2022-03-13T09:29:37.323Z"
   },
   {
    "duration": 11,
    "start_time": "2022-03-13T09:29:37.706Z"
   },
   {
    "duration": 7,
    "start_time": "2022-03-13T09:29:38.594Z"
   },
   {
    "duration": 5,
    "start_time": "2022-03-13T09:29:39.233Z"
   },
   {
    "duration": 5,
    "start_time": "2022-03-13T09:29:48.644Z"
   },
   {
    "duration": 4,
    "start_time": "2022-03-13T09:29:48.890Z"
   },
   {
    "duration": 4,
    "start_time": "2022-03-13T09:29:49.103Z"
   },
   {
    "duration": 4,
    "start_time": "2022-03-13T09:29:49.320Z"
   },
   {
    "duration": 6,
    "start_time": "2022-03-13T09:29:49.539Z"
   },
   {
    "duration": 11,
    "start_time": "2022-03-13T09:29:49.765Z"
   },
   {
    "duration": 6,
    "start_time": "2022-03-13T09:29:50.056Z"
   },
   {
    "duration": 16,
    "start_time": "2022-03-13T09:29:50.380Z"
   },
   {
    "duration": 7,
    "start_time": "2022-03-13T09:29:50.865Z"
   },
   {
    "duration": 5,
    "start_time": "2022-03-13T09:29:51.511Z"
   },
   {
    "duration": 1267,
    "start_time": "2022-03-13T09:30:31.015Z"
   },
   {
    "duration": 21,
    "start_time": "2022-03-13T09:30:32.284Z"
   },
   {
    "duration": 11,
    "start_time": "2022-03-13T09:30:32.308Z"
   },
   {
    "duration": 24,
    "start_time": "2022-03-13T09:30:32.321Z"
   },
   {
    "duration": 21,
    "start_time": "2022-03-13T09:30:32.347Z"
   },
   {
    "duration": 6,
    "start_time": "2022-03-13T09:30:32.370Z"
   },
   {
    "duration": 6,
    "start_time": "2022-03-13T09:30:32.378Z"
   },
   {
    "duration": 11,
    "start_time": "2022-03-13T09:30:32.386Z"
   },
   {
    "duration": 4,
    "start_time": "2022-03-13T09:30:32.401Z"
   },
   {
    "duration": 7,
    "start_time": "2022-03-13T09:30:32.407Z"
   },
   {
    "duration": 5,
    "start_time": "2022-03-13T09:30:32.416Z"
   },
   {
    "duration": 42,
    "start_time": "2022-03-13T09:30:32.422Z"
   },
   {
    "duration": 10,
    "start_time": "2022-03-13T09:30:32.466Z"
   },
   {
    "duration": 7,
    "start_time": "2022-03-13T09:30:32.478Z"
   },
   {
    "duration": 14,
    "start_time": "2022-03-13T09:30:32.487Z"
   },
   {
    "duration": 7,
    "start_time": "2022-03-13T09:30:32.503Z"
   },
   {
    "duration": 4,
    "start_time": "2022-03-13T09:30:32.512Z"
   },
   {
    "duration": 4,
    "start_time": "2022-03-13T09:30:32.518Z"
   },
   {
    "duration": 369,
    "start_time": "2022-03-13T09:30:32.523Z"
   },
   {
    "duration": -185,
    "start_time": "2022-03-13T09:30:33.080Z"
   },
   {
    "duration": -204,
    "start_time": "2022-03-13T09:30:33.100Z"
   },
   {
    "duration": -204,
    "start_time": "2022-03-13T09:30:33.101Z"
   },
   {
    "duration": -234,
    "start_time": "2022-03-13T09:30:33.132Z"
   },
   {
    "duration": 1158,
    "start_time": "2022-03-13T09:31:07.335Z"
   },
   {
    "duration": 17,
    "start_time": "2022-03-13T09:31:08.495Z"
   },
   {
    "duration": 9,
    "start_time": "2022-03-13T09:31:08.514Z"
   },
   {
    "duration": 31,
    "start_time": "2022-03-13T09:31:08.525Z"
   },
   {
    "duration": 8,
    "start_time": "2022-03-13T09:31:08.558Z"
   },
   {
    "duration": 28,
    "start_time": "2022-03-13T09:31:08.568Z"
   },
   {
    "duration": 17,
    "start_time": "2022-03-13T09:31:08.597Z"
   },
   {
    "duration": 7,
    "start_time": "2022-03-13T09:31:08.617Z"
   },
   {
    "duration": 7,
    "start_time": "2022-03-13T09:31:08.626Z"
   },
   {
    "duration": 15,
    "start_time": "2022-03-13T09:31:08.635Z"
   },
   {
    "duration": 10,
    "start_time": "2022-03-13T09:31:08.651Z"
   },
   {
    "duration": 8,
    "start_time": "2022-03-13T09:31:08.662Z"
   },
   {
    "duration": 14,
    "start_time": "2022-03-13T09:31:08.672Z"
   },
   {
    "duration": 10,
    "start_time": "2022-03-13T09:31:08.687Z"
   },
   {
    "duration": 13,
    "start_time": "2022-03-13T09:31:08.698Z"
   },
   {
    "duration": 8,
    "start_time": "2022-03-13T09:31:08.713Z"
   },
   {
    "duration": 7,
    "start_time": "2022-03-13T09:31:08.722Z"
   },
   {
    "duration": 5,
    "start_time": "2022-03-13T09:31:08.731Z"
   },
   {
    "duration": 560,
    "start_time": "2022-03-13T09:31:08.738Z"
   },
   {
    "duration": 30,
    "start_time": "2022-03-13T09:31:09.300Z"
   },
   {
    "duration": 5,
    "start_time": "2022-03-13T09:31:09.331Z"
   },
   {
    "duration": 311,
    "start_time": "2022-03-13T09:31:09.337Z"
   },
   {
    "duration": -120,
    "start_time": "2022-03-13T09:31:09.770Z"
   },
   {
    "duration": 265,
    "start_time": "2022-03-13T09:36:47.053Z"
   },
   {
    "duration": 283,
    "start_time": "2022-03-13T09:38:07.089Z"
   },
   {
    "duration": 253,
    "start_time": "2022-03-13T09:38:26.796Z"
   },
   {
    "duration": 256,
    "start_time": "2022-03-13T09:38:35.500Z"
   },
   {
    "duration": 5,
    "start_time": "2022-03-13T09:38:59.689Z"
   },
   {
    "duration": 21,
    "start_time": "2022-03-13T09:39:00.705Z"
   },
   {
    "duration": 13,
    "start_time": "2022-03-13T09:39:00.983Z"
   },
   {
    "duration": 22,
    "start_time": "2022-03-13T09:39:01.204Z"
   },
   {
    "duration": 7,
    "start_time": "2022-03-13T09:39:01.481Z"
   },
   {
    "duration": 8,
    "start_time": "2022-03-13T09:39:01.689Z"
   },
   {
    "duration": 6,
    "start_time": "2022-03-13T09:39:01.902Z"
   },
   {
    "duration": 5,
    "start_time": "2022-03-13T09:39:02.111Z"
   },
   {
    "duration": 4,
    "start_time": "2022-03-13T09:39:02.325Z"
   },
   {
    "duration": 4,
    "start_time": "2022-03-13T09:39:02.552Z"
   },
   {
    "duration": 4,
    "start_time": "2022-03-13T09:39:02.786Z"
   },
   {
    "duration": 9,
    "start_time": "2022-03-13T09:39:02.980Z"
   },
   {
    "duration": 16,
    "start_time": "2022-03-13T09:39:03.156Z"
   },
   {
    "duration": 6,
    "start_time": "2022-03-13T09:39:03.329Z"
   },
   {
    "duration": 11,
    "start_time": "2022-03-13T09:39:03.519Z"
   },
   {
    "duration": 6,
    "start_time": "2022-03-13T09:39:03.701Z"
   },
   {
    "duration": 6,
    "start_time": "2022-03-13T09:39:03.885Z"
   },
   {
    "duration": 227,
    "start_time": "2022-03-13T09:39:04.694Z"
   },
   {
    "duration": 47,
    "start_time": "2022-03-13T09:39:12.721Z"
   },
   {
    "duration": 3,
    "start_time": "2022-03-13T09:39:45.061Z"
   },
   {
    "duration": 591,
    "start_time": "2022-03-13T09:39:46.385Z"
   },
   {
    "duration": 225,
    "start_time": "2022-03-13T09:43:56.298Z"
   },
   {
    "duration": 266,
    "start_time": "2022-03-13T09:44:13.557Z"
   },
   {
    "duration": 225,
    "start_time": "2022-03-13T09:44:27.800Z"
   },
   {
    "duration": 4,
    "start_time": "2022-03-13T09:45:34.292Z"
   },
   {
    "duration": 14,
    "start_time": "2022-03-13T09:45:34.836Z"
   },
   {
    "duration": 17,
    "start_time": "2022-03-13T09:45:35.078Z"
   },
   {
    "duration": 31,
    "start_time": "2022-03-13T09:45:35.469Z"
   },
   {
    "duration": 8,
    "start_time": "2022-03-13T09:45:35.719Z"
   },
   {
    "duration": 5,
    "start_time": "2022-03-13T09:45:35.936Z"
   },
   {
    "duration": 6,
    "start_time": "2022-03-13T09:45:36.146Z"
   },
   {
    "duration": 5,
    "start_time": "2022-03-13T09:45:36.452Z"
   },
   {
    "duration": 4,
    "start_time": "2022-03-13T09:45:36.696Z"
   },
   {
    "duration": 3,
    "start_time": "2022-03-13T09:45:36.893Z"
   },
   {
    "duration": 4,
    "start_time": "2022-03-13T09:45:37.094Z"
   },
   {
    "duration": 5,
    "start_time": "2022-03-13T09:45:37.300Z"
   },
   {
    "duration": 18,
    "start_time": "2022-03-13T09:45:37.749Z"
   },
   {
    "duration": 9,
    "start_time": "2022-03-13T09:45:38.085Z"
   },
   {
    "duration": 12,
    "start_time": "2022-03-13T09:45:38.414Z"
   },
   {
    "duration": 6,
    "start_time": "2022-03-13T09:45:38.788Z"
   },
   {
    "duration": 6,
    "start_time": "2022-03-13T09:45:39.677Z"
   },
   {
    "duration": 60,
    "start_time": "2022-03-13T09:45:40.295Z"
   },
   {
    "duration": 275,
    "start_time": "2022-03-13T09:45:41.254Z"
   },
   {
    "duration": 1744,
    "start_time": "2022-03-13T09:45:52.820Z"
   },
   {
    "duration": 2028,
    "start_time": "2022-03-13T09:46:06.295Z"
   },
   {
    "duration": 2243,
    "start_time": "2022-03-13T09:46:34.834Z"
   },
   {
    "duration": 2419,
    "start_time": "2022-03-13T09:46:41.125Z"
   },
   {
    "duration": 1219,
    "start_time": "2022-03-13T09:57:07.582Z"
   },
   {
    "duration": 23,
    "start_time": "2022-03-13T09:57:08.804Z"
   },
   {
    "duration": 12,
    "start_time": "2022-03-13T09:57:08.829Z"
   },
   {
    "duration": 37,
    "start_time": "2022-03-13T09:57:08.843Z"
   },
   {
    "duration": 6,
    "start_time": "2022-03-13T09:57:08.882Z"
   },
   {
    "duration": 21,
    "start_time": "2022-03-13T09:57:08.890Z"
   },
   {
    "duration": 7,
    "start_time": "2022-03-13T09:57:08.913Z"
   },
   {
    "duration": 4,
    "start_time": "2022-03-13T09:57:08.922Z"
   },
   {
    "duration": 5,
    "start_time": "2022-03-13T09:57:08.929Z"
   },
   {
    "duration": 6,
    "start_time": "2022-03-13T09:57:08.936Z"
   },
   {
    "duration": 7,
    "start_time": "2022-03-13T09:57:08.943Z"
   },
   {
    "duration": 49,
    "start_time": "2022-03-13T09:57:08.951Z"
   },
   {
    "duration": 28,
    "start_time": "2022-03-13T09:57:09.001Z"
   },
   {
    "duration": 8,
    "start_time": "2022-03-13T09:57:09.031Z"
   },
   {
    "duration": 20,
    "start_time": "2022-03-13T09:57:09.041Z"
   },
   {
    "duration": 46,
    "start_time": "2022-03-13T09:57:09.071Z"
   },
   {
    "duration": 7,
    "start_time": "2022-03-13T09:57:09.119Z"
   },
   {
    "duration": 68,
    "start_time": "2022-03-13T09:57:09.128Z"
   },
   {
    "duration": 2215,
    "start_time": "2022-03-13T09:57:09.198Z"
   },
   {
    "duration": 22,
    "start_time": "2022-03-13T10:00:23.992Z"
   },
   {
    "duration": 391,
    "start_time": "2022-03-13T10:03:08.222Z"
   },
   {
    "duration": 1333,
    "start_time": "2022-03-13T10:04:06.171Z"
   },
   {
    "duration": 16,
    "start_time": "2022-03-13T10:04:07.507Z"
   },
   {
    "duration": 20,
    "start_time": "2022-03-13T10:04:07.525Z"
   },
   {
    "duration": 30,
    "start_time": "2022-03-13T10:04:07.547Z"
   },
   {
    "duration": 24,
    "start_time": "2022-03-13T10:04:07.579Z"
   },
   {
    "duration": 8,
    "start_time": "2022-03-13T10:04:07.605Z"
   },
   {
    "duration": 7,
    "start_time": "2022-03-13T10:04:07.615Z"
   },
   {
    "duration": 10,
    "start_time": "2022-03-13T10:04:07.623Z"
   },
   {
    "duration": 5,
    "start_time": "2022-03-13T10:04:07.636Z"
   },
   {
    "duration": 5,
    "start_time": "2022-03-13T10:04:07.643Z"
   },
   {
    "duration": 13,
    "start_time": "2022-03-13T10:04:07.649Z"
   },
   {
    "duration": 32,
    "start_time": "2022-03-13T10:04:07.673Z"
   },
   {
    "duration": 27,
    "start_time": "2022-03-13T10:04:07.707Z"
   },
   {
    "duration": 10,
    "start_time": "2022-03-13T10:04:07.736Z"
   },
   {
    "duration": 24,
    "start_time": "2022-03-13T10:04:07.748Z"
   },
   {
    "duration": 40,
    "start_time": "2022-03-13T10:04:07.775Z"
   },
   {
    "duration": 8,
    "start_time": "2022-03-13T10:04:07.818Z"
   },
   {
    "duration": 48,
    "start_time": "2022-03-13T10:04:07.828Z"
   },
   {
    "duration": 2647,
    "start_time": "2022-03-13T10:04:07.877Z"
   },
   {
    "duration": 20,
    "start_time": "2022-03-13T10:04:10.526Z"
   },
   {
    "duration": 1091,
    "start_time": "2022-03-13T10:04:10.548Z"
   },
   {
    "duration": 713,
    "start_time": "2022-03-13T10:06:16.211Z"
   },
   {
    "duration": 152,
    "start_time": "2022-03-13T10:06:29.524Z"
   },
   {
    "duration": 218,
    "start_time": "2022-03-13T10:13:32.217Z"
   },
   {
    "duration": 71,
    "start_time": "2022-03-13T10:13:39.305Z"
   },
   {
    "duration": 224,
    "start_time": "2022-03-13T10:13:43.609Z"
   },
   {
    "duration": 344,
    "start_time": "2022-03-13T10:13:58.420Z"
   },
   {
    "duration": 220,
    "start_time": "2022-03-13T10:30:19.064Z"
   },
   {
    "duration": 369,
    "start_time": "2022-03-13T10:30:49.729Z"
   },
   {
    "duration": 218,
    "start_time": "2022-03-13T10:31:06.103Z"
   },
   {
    "duration": 235,
    "start_time": "2022-03-13T10:31:12.783Z"
   },
   {
    "duration": 234,
    "start_time": "2022-03-13T10:31:31.099Z"
   },
   {
    "duration": 268,
    "start_time": "2022-03-13T10:33:01.578Z"
   },
   {
    "duration": 381,
    "start_time": "2022-03-13T10:33:43.929Z"
   },
   {
    "duration": 1074,
    "start_time": "2022-03-13T10:34:42.626Z"
   },
   {
    "duration": 735,
    "start_time": "2022-03-13T10:36:54.349Z"
   },
   {
    "duration": 728,
    "start_time": "2022-03-13T10:37:02.816Z"
   },
   {
    "duration": 5,
    "start_time": "2022-03-13T10:37:13.158Z"
   },
   {
    "duration": 6,
    "start_time": "2022-03-13T10:37:16.463Z"
   },
   {
    "duration": 4,
    "start_time": "2022-03-13T10:39:42.818Z"
   },
   {
    "duration": 15,
    "start_time": "2022-03-13T10:39:44.560Z"
   },
   {
    "duration": 9,
    "start_time": "2022-03-13T10:39:44.937Z"
   },
   {
    "duration": 22,
    "start_time": "2022-03-13T10:39:45.250Z"
   },
   {
    "duration": 7,
    "start_time": "2022-03-13T10:39:45.456Z"
   },
   {
    "duration": 5,
    "start_time": "2022-03-13T10:39:45.677Z"
   },
   {
    "duration": 5,
    "start_time": "2022-03-13T10:39:45.875Z"
   },
   {
    "duration": 7,
    "start_time": "2022-03-13T10:39:46.025Z"
   },
   {
    "duration": 4,
    "start_time": "2022-03-13T10:39:46.184Z"
   },
   {
    "duration": 5,
    "start_time": "2022-03-13T10:39:46.367Z"
   },
   {
    "duration": 5,
    "start_time": "2022-03-13T10:39:46.544Z"
   },
   {
    "duration": 5,
    "start_time": "2022-03-13T10:39:46.729Z"
   },
   {
    "duration": 11,
    "start_time": "2022-03-13T10:39:46.904Z"
   },
   {
    "duration": 6,
    "start_time": "2022-03-13T10:39:47.103Z"
   },
   {
    "duration": 11,
    "start_time": "2022-03-13T10:39:47.360Z"
   },
   {
    "duration": 6,
    "start_time": "2022-03-13T10:39:47.640Z"
   },
   {
    "duration": 6,
    "start_time": "2022-03-13T10:39:48.046Z"
   },
   {
    "duration": 44,
    "start_time": "2022-03-13T10:39:48.377Z"
   },
   {
    "duration": 1908,
    "start_time": "2022-03-13T10:39:48.711Z"
   },
   {
    "duration": 16,
    "start_time": "2022-03-13T10:39:50.621Z"
   },
   {
    "duration": 1075,
    "start_time": "2022-03-13T10:39:50.639Z"
   },
   {
    "duration": 138,
    "start_time": "2022-03-13T10:39:51.716Z"
   },
   {
    "duration": 10,
    "start_time": "2022-03-13T10:39:51.856Z"
   },
   {
    "duration": 2039,
    "start_time": "2022-03-13T10:54:46.484Z"
   },
   {
    "duration": 3138,
    "start_time": "2022-03-13T10:54:51.755Z"
   },
   {
    "duration": 1295,
    "start_time": "2022-03-13T10:55:08.257Z"
   },
   {
    "duration": 886,
    "start_time": "2022-03-13T10:55:16.050Z"
   },
   {
    "duration": 915,
    "start_time": "2022-03-13T10:55:19.682Z"
   },
   {
    "duration": 3,
    "start_time": "2022-03-13T10:58:45.860Z"
   },
   {
    "duration": 76,
    "start_time": "2022-03-20T21:16:37.297Z"
   },
   {
    "duration": 1889,
    "start_time": "2022-03-20T21:16:46.523Z"
   },
   {
    "duration": 0,
    "start_time": "2022-03-20T21:16:48.414Z"
   },
   {
    "duration": 0,
    "start_time": "2022-03-20T21:16:48.416Z"
   },
   {
    "duration": 5,
    "start_time": "2022-03-20T21:17:23.375Z"
   },
   {
    "duration": 4,
    "start_time": "2022-03-20T21:17:26.882Z"
   },
   {
    "duration": 30,
    "start_time": "2022-03-20T21:17:30.338Z"
   },
   {
    "duration": 18,
    "start_time": "2022-03-20T21:17:31.010Z"
   },
   {
    "duration": 33,
    "start_time": "2022-03-20T21:17:31.873Z"
   },
   {
    "duration": 17,
    "start_time": "2022-03-20T21:17:32.210Z"
   },
   {
    "duration": 7,
    "start_time": "2022-03-20T21:17:33.362Z"
   },
   {
    "duration": 7,
    "start_time": "2022-03-20T21:17:33.578Z"
   },
   {
    "duration": 9,
    "start_time": "2022-03-20T21:17:33.794Z"
   },
   {
    "duration": 5,
    "start_time": "2022-03-20T21:17:34.010Z"
   },
   {
    "duration": 5,
    "start_time": "2022-03-20T21:17:34.640Z"
   },
   {
    "duration": 5,
    "start_time": "2022-03-20T21:17:34.996Z"
   },
   {
    "duration": 7,
    "start_time": "2022-03-20T21:17:35.242Z"
   },
   {
    "duration": 17,
    "start_time": "2022-03-20T21:17:35.441Z"
   },
   {
    "duration": 7,
    "start_time": "2022-03-20T21:17:35.625Z"
   },
   {
    "duration": 17,
    "start_time": "2022-03-20T21:17:35.825Z"
   },
   {
    "duration": 236,
    "start_time": "2022-03-20T21:17:37.761Z"
   },
   {
    "duration": 3157,
    "start_time": "2022-03-20T21:18:48.465Z"
   },
   {
    "duration": 3204,
    "start_time": "2022-03-20T21:19:06.705Z"
   },
   {
    "duration": 3255,
    "start_time": "2022-03-20T21:19:19.258Z"
   },
   {
    "duration": 5202,
    "start_time": "2022-03-20T21:19:41.641Z"
   },
   {
    "duration": 918,
    "start_time": "2022-03-20T21:22:02.574Z"
   },
   {
    "duration": 1297,
    "start_time": "2022-03-20T21:22:09.437Z"
   },
   {
    "duration": 2877,
    "start_time": "2022-03-20T21:22:40.151Z"
   },
   {
    "duration": 4995,
    "start_time": "2022-03-20T21:22:52.509Z"
   },
   {
    "duration": 7476,
    "start_time": "2022-03-20T21:23:15.125Z"
   },
   {
    "duration": 28829,
    "start_time": "2022-03-20T21:23:30.780Z"
   },
   {
    "duration": 359,
    "start_time": "2022-03-20T21:28:21.998Z"
   },
   {
    "duration": 372,
    "start_time": "2022-03-20T21:28:43.360Z"
   },
   {
    "duration": 27,
    "start_time": "2022-03-20T21:29:30.878Z"
   },
   {
    "duration": 42,
    "start_time": "2022-03-20T21:29:53.519Z"
   },
   {
    "duration": 40,
    "start_time": "2022-03-20T21:30:08.646Z"
   },
   {
    "duration": 29407,
    "start_time": "2022-03-20T21:30:14.781Z"
   },
   {
    "duration": 39,
    "start_time": "2022-03-20T21:32:03.980Z"
   },
   {
    "duration": 40,
    "start_time": "2022-03-20T21:32:23.851Z"
   },
   {
    "duration": 27731,
    "start_time": "2022-03-20T21:33:09.779Z"
   },
   {
    "duration": 23,
    "start_time": "2022-03-20T21:33:43.330Z"
   },
   {
    "duration": 431,
    "start_time": "2022-03-20T21:35:43.367Z"
   },
   {
    "duration": 21,
    "start_time": "2022-03-20T21:36:06.030Z"
   }
  ],
  "kernelspec": {
   "display_name": "Python 3 (ipykernel)",
   "language": "python",
   "name": "python3"
  },
  "language_info": {
   "codemirror_mode": {
    "name": "ipython",
    "version": 3
   },
   "file_extension": ".py",
   "mimetype": "text/x-python",
   "name": "python",
   "nbconvert_exporter": "python",
   "pygments_lexer": "ipython3",
   "version": "3.9.5"
  },
  "toc": {
   "base_numbering": 1,
   "nav_menu": {},
   "number_sections": true,
   "sideBar": true,
   "skip_h1_title": true,
   "title_cell": "Table of Contents",
   "title_sidebar": "Contents",
   "toc_cell": false,
   "toc_position": {},
   "toc_section_display": true,
   "toc_window_display": false
  }
 },
 "nbformat": 4,
 "nbformat_minor": 2
}
