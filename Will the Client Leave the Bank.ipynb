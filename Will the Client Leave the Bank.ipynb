{
 "cells": [
  {
   "cell_type": "markdown",
   "metadata": {},
   "source": [
    "For a week and a half or so I had a problam with the platform (sorry about the delay), I have tried 'Feature Scaling' and 'Upsampling' on top of 'Class weight adjustment' (I didnt know how to place a diffrent threshold."
   ]
  },
  {
   "cell_type": "markdown",
   "metadata": {},
   "source": [
    "# Introduction\n",
    "In this project I will train the best model to predict whether a customer will leave the bank.\n",
    "## Outlines\n",
    "1. I go over the data file and learn it.\n",
    "2. Understand which hyperparameters are the best for the model.\n",
    "### Tasks\n",
    "I will understand which model is having better prediction score.\n",
    "### Description of Data Source\n",
    "The data is built from the bank data.\n",
    "## Table of Contents:\n",
    "1.Unfolding of the data.\n",
    "2. Studying and checking the data.\n",
    "3. Testing the models.\n",
    "4. Conclusions and recommendations."
   ]
  },
  {
   "cell_type": "markdown",
   "metadata": {},
   "source": [
    "### 1. Opening the data"
   ]
  },
  {
   "cell_type": "code",
   "execution_count": 1,
   "metadata": {},
   "outputs": [],
   "source": [
    "import pandas as pd\n",
    "import numpy as np\n",
    "from sklearn.ensemble import RandomForestClassifier \n",
    "from sklearn.linear_model import LogisticRegression \n",
    "from sklearn.model_selection import train_test_split\n",
    "from sklearn.metrics import f1_score, precision_score, recall_score, roc_curve, roc_auc_score\n",
    "from sklearn.utils import shuffle\n",
    "from sklearn.preprocessing import StandardScaler\n",
    "import matplotlib.pyplot as plt"
   ]
  },
  {
   "cell_type": "code",
   "execution_count": 2,
   "metadata": {},
   "outputs": [
    {
     "data": {
      "text/html": [
       "<div>\n",
       "<style scoped>\n",
       "    .dataframe tbody tr th:only-of-type {\n",
       "        vertical-align: middle;\n",
       "    }\n",
       "\n",
       "    .dataframe tbody tr th {\n",
       "        vertical-align: top;\n",
       "    }\n",
       "\n",
       "    .dataframe thead th {\n",
       "        text-align: right;\n",
       "    }\n",
       "</style>\n",
       "<table border=\"1\" class=\"dataframe\">\n",
       "  <thead>\n",
       "    <tr style=\"text-align: right;\">\n",
       "      <th></th>\n",
       "      <th>RowNumber</th>\n",
       "      <th>CustomerId</th>\n",
       "      <th>Surname</th>\n",
       "      <th>CreditScore</th>\n",
       "      <th>Geography</th>\n",
       "      <th>Gender</th>\n",
       "      <th>Age</th>\n",
       "      <th>Tenure</th>\n",
       "      <th>Balance</th>\n",
       "      <th>NumOfProducts</th>\n",
       "      <th>HasCrCard</th>\n",
       "      <th>IsActiveMember</th>\n",
       "      <th>EstimatedSalary</th>\n",
       "      <th>Exited</th>\n",
       "    </tr>\n",
       "  </thead>\n",
       "  <tbody>\n",
       "    <tr>\n",
       "      <th>0</th>\n",
       "      <td>1</td>\n",
       "      <td>15634602</td>\n",
       "      <td>Hargrave</td>\n",
       "      <td>619</td>\n",
       "      <td>France</td>\n",
       "      <td>Female</td>\n",
       "      <td>42</td>\n",
       "      <td>2.0</td>\n",
       "      <td>0.00</td>\n",
       "      <td>1</td>\n",
       "      <td>1</td>\n",
       "      <td>1</td>\n",
       "      <td>101348.88</td>\n",
       "      <td>1</td>\n",
       "    </tr>\n",
       "    <tr>\n",
       "      <th>1</th>\n",
       "      <td>2</td>\n",
       "      <td>15647311</td>\n",
       "      <td>Hill</td>\n",
       "      <td>608</td>\n",
       "      <td>Spain</td>\n",
       "      <td>Female</td>\n",
       "      <td>41</td>\n",
       "      <td>1.0</td>\n",
       "      <td>83807.86</td>\n",
       "      <td>1</td>\n",
       "      <td>0</td>\n",
       "      <td>1</td>\n",
       "      <td>112542.58</td>\n",
       "      <td>0</td>\n",
       "    </tr>\n",
       "    <tr>\n",
       "      <th>2</th>\n",
       "      <td>3</td>\n",
       "      <td>15619304</td>\n",
       "      <td>Onio</td>\n",
       "      <td>502</td>\n",
       "      <td>France</td>\n",
       "      <td>Female</td>\n",
       "      <td>42</td>\n",
       "      <td>8.0</td>\n",
       "      <td>159660.80</td>\n",
       "      <td>3</td>\n",
       "      <td>1</td>\n",
       "      <td>0</td>\n",
       "      <td>113931.57</td>\n",
       "      <td>1</td>\n",
       "    </tr>\n",
       "    <tr>\n",
       "      <th>3</th>\n",
       "      <td>4</td>\n",
       "      <td>15701354</td>\n",
       "      <td>Boni</td>\n",
       "      <td>699</td>\n",
       "      <td>France</td>\n",
       "      <td>Female</td>\n",
       "      <td>39</td>\n",
       "      <td>1.0</td>\n",
       "      <td>0.00</td>\n",
       "      <td>2</td>\n",
       "      <td>0</td>\n",
       "      <td>0</td>\n",
       "      <td>93826.63</td>\n",
       "      <td>0</td>\n",
       "    </tr>\n",
       "    <tr>\n",
       "      <th>4</th>\n",
       "      <td>5</td>\n",
       "      <td>15737888</td>\n",
       "      <td>Mitchell</td>\n",
       "      <td>850</td>\n",
       "      <td>Spain</td>\n",
       "      <td>Female</td>\n",
       "      <td>43</td>\n",
       "      <td>2.0</td>\n",
       "      <td>125510.82</td>\n",
       "      <td>1</td>\n",
       "      <td>1</td>\n",
       "      <td>1</td>\n",
       "      <td>79084.10</td>\n",
       "      <td>0</td>\n",
       "    </tr>\n",
       "    <tr>\n",
       "      <th>...</th>\n",
       "      <td>...</td>\n",
       "      <td>...</td>\n",
       "      <td>...</td>\n",
       "      <td>...</td>\n",
       "      <td>...</td>\n",
       "      <td>...</td>\n",
       "      <td>...</td>\n",
       "      <td>...</td>\n",
       "      <td>...</td>\n",
       "      <td>...</td>\n",
       "      <td>...</td>\n",
       "      <td>...</td>\n",
       "      <td>...</td>\n",
       "      <td>...</td>\n",
       "    </tr>\n",
       "    <tr>\n",
       "      <th>9995</th>\n",
       "      <td>9996</td>\n",
       "      <td>15606229</td>\n",
       "      <td>Obijiaku</td>\n",
       "      <td>771</td>\n",
       "      <td>France</td>\n",
       "      <td>Male</td>\n",
       "      <td>39</td>\n",
       "      <td>5.0</td>\n",
       "      <td>0.00</td>\n",
       "      <td>2</td>\n",
       "      <td>1</td>\n",
       "      <td>0</td>\n",
       "      <td>96270.64</td>\n",
       "      <td>0</td>\n",
       "    </tr>\n",
       "    <tr>\n",
       "      <th>9996</th>\n",
       "      <td>9997</td>\n",
       "      <td>15569892</td>\n",
       "      <td>Johnstone</td>\n",
       "      <td>516</td>\n",
       "      <td>France</td>\n",
       "      <td>Male</td>\n",
       "      <td>35</td>\n",
       "      <td>10.0</td>\n",
       "      <td>57369.61</td>\n",
       "      <td>1</td>\n",
       "      <td>1</td>\n",
       "      <td>1</td>\n",
       "      <td>101699.77</td>\n",
       "      <td>0</td>\n",
       "    </tr>\n",
       "    <tr>\n",
       "      <th>9997</th>\n",
       "      <td>9998</td>\n",
       "      <td>15584532</td>\n",
       "      <td>Liu</td>\n",
       "      <td>709</td>\n",
       "      <td>France</td>\n",
       "      <td>Female</td>\n",
       "      <td>36</td>\n",
       "      <td>7.0</td>\n",
       "      <td>0.00</td>\n",
       "      <td>1</td>\n",
       "      <td>0</td>\n",
       "      <td>1</td>\n",
       "      <td>42085.58</td>\n",
       "      <td>1</td>\n",
       "    </tr>\n",
       "    <tr>\n",
       "      <th>9998</th>\n",
       "      <td>9999</td>\n",
       "      <td>15682355</td>\n",
       "      <td>Sabbatini</td>\n",
       "      <td>772</td>\n",
       "      <td>Germany</td>\n",
       "      <td>Male</td>\n",
       "      <td>42</td>\n",
       "      <td>3.0</td>\n",
       "      <td>75075.31</td>\n",
       "      <td>2</td>\n",
       "      <td>1</td>\n",
       "      <td>0</td>\n",
       "      <td>92888.52</td>\n",
       "      <td>1</td>\n",
       "    </tr>\n",
       "    <tr>\n",
       "      <th>9999</th>\n",
       "      <td>10000</td>\n",
       "      <td>15628319</td>\n",
       "      <td>Walker</td>\n",
       "      <td>792</td>\n",
       "      <td>France</td>\n",
       "      <td>Female</td>\n",
       "      <td>28</td>\n",
       "      <td>NaN</td>\n",
       "      <td>130142.79</td>\n",
       "      <td>1</td>\n",
       "      <td>1</td>\n",
       "      <td>0</td>\n",
       "      <td>38190.78</td>\n",
       "      <td>0</td>\n",
       "    </tr>\n",
       "  </tbody>\n",
       "</table>\n",
       "<p>10000 rows × 14 columns</p>\n",
       "</div>"
      ],
      "text/plain": [
       "      RowNumber  CustomerId    Surname  CreditScore Geography  Gender  Age  \\\n",
       "0             1    15634602   Hargrave          619    France  Female   42   \n",
       "1             2    15647311       Hill          608     Spain  Female   41   \n",
       "2             3    15619304       Onio          502    France  Female   42   \n",
       "3             4    15701354       Boni          699    France  Female   39   \n",
       "4             5    15737888   Mitchell          850     Spain  Female   43   \n",
       "...         ...         ...        ...          ...       ...     ...  ...   \n",
       "9995       9996    15606229   Obijiaku          771    France    Male   39   \n",
       "9996       9997    15569892  Johnstone          516    France    Male   35   \n",
       "9997       9998    15584532        Liu          709    France  Female   36   \n",
       "9998       9999    15682355  Sabbatini          772   Germany    Male   42   \n",
       "9999      10000    15628319     Walker          792    France  Female   28   \n",
       "\n",
       "      Tenure    Balance  NumOfProducts  HasCrCard  IsActiveMember  \\\n",
       "0        2.0       0.00              1          1               1   \n",
       "1        1.0   83807.86              1          0               1   \n",
       "2        8.0  159660.80              3          1               0   \n",
       "3        1.0       0.00              2          0               0   \n",
       "4        2.0  125510.82              1          1               1   \n",
       "...      ...        ...            ...        ...             ...   \n",
       "9995     5.0       0.00              2          1               0   \n",
       "9996    10.0   57369.61              1          1               1   \n",
       "9997     7.0       0.00              1          0               1   \n",
       "9998     3.0   75075.31              2          1               0   \n",
       "9999     NaN  130142.79              1          1               0   \n",
       "\n",
       "      EstimatedSalary  Exited  \n",
       "0           101348.88       1  \n",
       "1           112542.58       0  \n",
       "2           113931.57       1  \n",
       "3            93826.63       0  \n",
       "4            79084.10       0  \n",
       "...               ...     ...  \n",
       "9995         96270.64       0  \n",
       "9996        101699.77       0  \n",
       "9997         42085.58       1  \n",
       "9998         92888.52       1  \n",
       "9999         38190.78       0  \n",
       "\n",
       "[10000 rows x 14 columns]"
      ]
     },
     "execution_count": 2,
     "metadata": {},
     "output_type": "execute_result"
    }
   ],
   "source": [
    "data = pd.read_csv('/datasets/Churn.csv')\n",
    "data"
   ]
  },
  {
   "cell_type": "markdown",
   "metadata": {},
   "source": [
    "Most of the date is made from numericals but some are objects."
   ]
  },
  {
   "cell_type": "code",
   "execution_count": 3,
   "metadata": {},
   "outputs": [
    {
     "data": {
      "text/plain": [
       "(10000, 14)"
      ]
     },
     "execution_count": 3,
     "metadata": {},
     "output_type": "execute_result"
    }
   ],
   "source": [
    "data.shape"
   ]
  },
  {
   "cell_type": "code",
   "execution_count": 4,
   "metadata": {},
   "outputs": [
    {
     "data": {
      "text/html": [
       "<div>\n",
       "<style scoped>\n",
       "    .dataframe tbody tr th:only-of-type {\n",
       "        vertical-align: middle;\n",
       "    }\n",
       "\n",
       "    .dataframe tbody tr th {\n",
       "        vertical-align: top;\n",
       "    }\n",
       "\n",
       "    .dataframe thead th {\n",
       "        text-align: right;\n",
       "    }\n",
       "</style>\n",
       "<table border=\"1\" class=\"dataframe\">\n",
       "  <thead>\n",
       "    <tr style=\"text-align: right;\">\n",
       "      <th></th>\n",
       "      <th>RowNumber</th>\n",
       "      <th>CustomerId</th>\n",
       "      <th>CreditScore</th>\n",
       "      <th>Age</th>\n",
       "      <th>Tenure</th>\n",
       "      <th>Balance</th>\n",
       "      <th>NumOfProducts</th>\n",
       "      <th>HasCrCard</th>\n",
       "      <th>IsActiveMember</th>\n",
       "      <th>EstimatedSalary</th>\n",
       "      <th>Exited</th>\n",
       "    </tr>\n",
       "  </thead>\n",
       "  <tbody>\n",
       "    <tr>\n",
       "      <th>count</th>\n",
       "      <td>10000.00000</td>\n",
       "      <td>1.000000e+04</td>\n",
       "      <td>10000.000000</td>\n",
       "      <td>10000.000000</td>\n",
       "      <td>9091.000000</td>\n",
       "      <td>10000.000000</td>\n",
       "      <td>10000.000000</td>\n",
       "      <td>10000.00000</td>\n",
       "      <td>10000.000000</td>\n",
       "      <td>10000.000000</td>\n",
       "      <td>10000.000000</td>\n",
       "    </tr>\n",
       "    <tr>\n",
       "      <th>mean</th>\n",
       "      <td>5000.50000</td>\n",
       "      <td>1.569094e+07</td>\n",
       "      <td>650.528800</td>\n",
       "      <td>38.921800</td>\n",
       "      <td>4.997690</td>\n",
       "      <td>76485.889288</td>\n",
       "      <td>1.530200</td>\n",
       "      <td>0.70550</td>\n",
       "      <td>0.515100</td>\n",
       "      <td>100090.239881</td>\n",
       "      <td>0.203700</td>\n",
       "    </tr>\n",
       "    <tr>\n",
       "      <th>std</th>\n",
       "      <td>2886.89568</td>\n",
       "      <td>7.193619e+04</td>\n",
       "      <td>96.653299</td>\n",
       "      <td>10.487806</td>\n",
       "      <td>2.894723</td>\n",
       "      <td>62397.405202</td>\n",
       "      <td>0.581654</td>\n",
       "      <td>0.45584</td>\n",
       "      <td>0.499797</td>\n",
       "      <td>57510.492818</td>\n",
       "      <td>0.402769</td>\n",
       "    </tr>\n",
       "    <tr>\n",
       "      <th>min</th>\n",
       "      <td>1.00000</td>\n",
       "      <td>1.556570e+07</td>\n",
       "      <td>350.000000</td>\n",
       "      <td>18.000000</td>\n",
       "      <td>0.000000</td>\n",
       "      <td>0.000000</td>\n",
       "      <td>1.000000</td>\n",
       "      <td>0.00000</td>\n",
       "      <td>0.000000</td>\n",
       "      <td>11.580000</td>\n",
       "      <td>0.000000</td>\n",
       "    </tr>\n",
       "    <tr>\n",
       "      <th>25%</th>\n",
       "      <td>2500.75000</td>\n",
       "      <td>1.562853e+07</td>\n",
       "      <td>584.000000</td>\n",
       "      <td>32.000000</td>\n",
       "      <td>2.000000</td>\n",
       "      <td>0.000000</td>\n",
       "      <td>1.000000</td>\n",
       "      <td>0.00000</td>\n",
       "      <td>0.000000</td>\n",
       "      <td>51002.110000</td>\n",
       "      <td>0.000000</td>\n",
       "    </tr>\n",
       "    <tr>\n",
       "      <th>50%</th>\n",
       "      <td>5000.50000</td>\n",
       "      <td>1.569074e+07</td>\n",
       "      <td>652.000000</td>\n",
       "      <td>37.000000</td>\n",
       "      <td>5.000000</td>\n",
       "      <td>97198.540000</td>\n",
       "      <td>1.000000</td>\n",
       "      <td>1.00000</td>\n",
       "      <td>1.000000</td>\n",
       "      <td>100193.915000</td>\n",
       "      <td>0.000000</td>\n",
       "    </tr>\n",
       "    <tr>\n",
       "      <th>75%</th>\n",
       "      <td>7500.25000</td>\n",
       "      <td>1.575323e+07</td>\n",
       "      <td>718.000000</td>\n",
       "      <td>44.000000</td>\n",
       "      <td>7.000000</td>\n",
       "      <td>127644.240000</td>\n",
       "      <td>2.000000</td>\n",
       "      <td>1.00000</td>\n",
       "      <td>1.000000</td>\n",
       "      <td>149388.247500</td>\n",
       "      <td>0.000000</td>\n",
       "    </tr>\n",
       "    <tr>\n",
       "      <th>max</th>\n",
       "      <td>10000.00000</td>\n",
       "      <td>1.581569e+07</td>\n",
       "      <td>850.000000</td>\n",
       "      <td>92.000000</td>\n",
       "      <td>10.000000</td>\n",
       "      <td>250898.090000</td>\n",
       "      <td>4.000000</td>\n",
       "      <td>1.00000</td>\n",
       "      <td>1.000000</td>\n",
       "      <td>199992.480000</td>\n",
       "      <td>1.000000</td>\n",
       "    </tr>\n",
       "  </tbody>\n",
       "</table>\n",
       "</div>"
      ],
      "text/plain": [
       "         RowNumber    CustomerId   CreditScore           Age       Tenure  \\\n",
       "count  10000.00000  1.000000e+04  10000.000000  10000.000000  9091.000000   \n",
       "mean    5000.50000  1.569094e+07    650.528800     38.921800     4.997690   \n",
       "std     2886.89568  7.193619e+04     96.653299     10.487806     2.894723   \n",
       "min        1.00000  1.556570e+07    350.000000     18.000000     0.000000   \n",
       "25%     2500.75000  1.562853e+07    584.000000     32.000000     2.000000   \n",
       "50%     5000.50000  1.569074e+07    652.000000     37.000000     5.000000   \n",
       "75%     7500.25000  1.575323e+07    718.000000     44.000000     7.000000   \n",
       "max    10000.00000  1.581569e+07    850.000000     92.000000    10.000000   \n",
       "\n",
       "             Balance  NumOfProducts    HasCrCard  IsActiveMember  \\\n",
       "count   10000.000000   10000.000000  10000.00000    10000.000000   \n",
       "mean    76485.889288       1.530200      0.70550        0.515100   \n",
       "std     62397.405202       0.581654      0.45584        0.499797   \n",
       "min         0.000000       1.000000      0.00000        0.000000   \n",
       "25%         0.000000       1.000000      0.00000        0.000000   \n",
       "50%     97198.540000       1.000000      1.00000        1.000000   \n",
       "75%    127644.240000       2.000000      1.00000        1.000000   \n",
       "max    250898.090000       4.000000      1.00000        1.000000   \n",
       "\n",
       "       EstimatedSalary        Exited  \n",
       "count     10000.000000  10000.000000  \n",
       "mean     100090.239881      0.203700  \n",
       "std       57510.492818      0.402769  \n",
       "min          11.580000      0.000000  \n",
       "25%       51002.110000      0.000000  \n",
       "50%      100193.915000      0.000000  \n",
       "75%      149388.247500      0.000000  \n",
       "max      199992.480000      1.000000  "
      ]
     },
     "execution_count": 4,
     "metadata": {},
     "output_type": "execute_result"
    }
   ],
   "source": [
    "data.describe()"
   ]
  },
  {
   "cell_type": "code",
   "execution_count": 5,
   "metadata": {},
   "outputs": [
    {
     "name": "stdout",
     "output_type": "stream",
     "text": [
      "<class 'pandas.core.frame.DataFrame'>\n",
      "RangeIndex: 10000 entries, 0 to 9999\n",
      "Data columns (total 14 columns):\n",
      " #   Column           Non-Null Count  Dtype  \n",
      "---  ------           --------------  -----  \n",
      " 0   RowNumber        10000 non-null  int64  \n",
      " 1   CustomerId       10000 non-null  int64  \n",
      " 2   Surname          10000 non-null  object \n",
      " 3   CreditScore      10000 non-null  int64  \n",
      " 4   Geography        10000 non-null  object \n",
      " 5   Gender           10000 non-null  object \n",
      " 6   Age              10000 non-null  int64  \n",
      " 7   Tenure           9091 non-null   float64\n",
      " 8   Balance          10000 non-null  float64\n",
      " 9   NumOfProducts    10000 non-null  int64  \n",
      " 10  HasCrCard        10000 non-null  int64  \n",
      " 11  IsActiveMember   10000 non-null  int64  \n",
      " 12  EstimatedSalary  10000 non-null  float64\n",
      " 13  Exited           10000 non-null  int64  \n",
      "dtypes: float64(3), int64(8), object(3)\n",
      "memory usage: 1.1+ MB\n"
     ]
    }
   ],
   "source": [
    "data.info()"
   ]
  },
  {
   "cell_type": "code",
   "execution_count": 6,
   "metadata": {},
   "outputs": [],
   "source": [
    "data = data.dropna()"
   ]
  },
  {
   "cell_type": "code",
   "execution_count": 7,
   "metadata": {},
   "outputs": [],
   "source": [
    "data = data.drop(['RowNumber', 'CustomerId', 'Surname'], axis = 1)"
   ]
  },
  {
   "cell_type": "markdown",
   "metadata": {},
   "source": [
    "I think we can work without these."
   ]
  },
  {
   "cell_type": "code",
   "execution_count": 8,
   "metadata": {},
   "outputs": [
    {
     "data": {
      "text/html": [
       "<div>\n",
       "<style scoped>\n",
       "    .dataframe tbody tr th:only-of-type {\n",
       "        vertical-align: middle;\n",
       "    }\n",
       "\n",
       "    .dataframe tbody tr th {\n",
       "        vertical-align: top;\n",
       "    }\n",
       "\n",
       "    .dataframe thead th {\n",
       "        text-align: right;\n",
       "    }\n",
       "</style>\n",
       "<table border=\"1\" class=\"dataframe\">\n",
       "  <thead>\n",
       "    <tr style=\"text-align: right;\">\n",
       "      <th></th>\n",
       "      <th>CreditScore</th>\n",
       "      <th>Age</th>\n",
       "      <th>Tenure</th>\n",
       "      <th>Balance</th>\n",
       "      <th>NumOfProducts</th>\n",
       "      <th>HasCrCard</th>\n",
       "      <th>IsActiveMember</th>\n",
       "      <th>EstimatedSalary</th>\n",
       "      <th>Exited</th>\n",
       "      <th>Geography_Germany</th>\n",
       "      <th>Geography_Spain</th>\n",
       "      <th>Gender_Male</th>\n",
       "    </tr>\n",
       "  </thead>\n",
       "  <tbody>\n",
       "    <tr>\n",
       "      <th>0</th>\n",
       "      <td>619</td>\n",
       "      <td>42</td>\n",
       "      <td>2.0</td>\n",
       "      <td>0.00</td>\n",
       "      <td>1</td>\n",
       "      <td>1</td>\n",
       "      <td>1</td>\n",
       "      <td>101348.88</td>\n",
       "      <td>1</td>\n",
       "      <td>0</td>\n",
       "      <td>0</td>\n",
       "      <td>0</td>\n",
       "    </tr>\n",
       "    <tr>\n",
       "      <th>1</th>\n",
       "      <td>608</td>\n",
       "      <td>41</td>\n",
       "      <td>1.0</td>\n",
       "      <td>83807.86</td>\n",
       "      <td>1</td>\n",
       "      <td>0</td>\n",
       "      <td>1</td>\n",
       "      <td>112542.58</td>\n",
       "      <td>0</td>\n",
       "      <td>0</td>\n",
       "      <td>1</td>\n",
       "      <td>0</td>\n",
       "    </tr>\n",
       "    <tr>\n",
       "      <th>2</th>\n",
       "      <td>502</td>\n",
       "      <td>42</td>\n",
       "      <td>8.0</td>\n",
       "      <td>159660.80</td>\n",
       "      <td>3</td>\n",
       "      <td>1</td>\n",
       "      <td>0</td>\n",
       "      <td>113931.57</td>\n",
       "      <td>1</td>\n",
       "      <td>0</td>\n",
       "      <td>0</td>\n",
       "      <td>0</td>\n",
       "    </tr>\n",
       "    <tr>\n",
       "      <th>3</th>\n",
       "      <td>699</td>\n",
       "      <td>39</td>\n",
       "      <td>1.0</td>\n",
       "      <td>0.00</td>\n",
       "      <td>2</td>\n",
       "      <td>0</td>\n",
       "      <td>0</td>\n",
       "      <td>93826.63</td>\n",
       "      <td>0</td>\n",
       "      <td>0</td>\n",
       "      <td>0</td>\n",
       "      <td>0</td>\n",
       "    </tr>\n",
       "    <tr>\n",
       "      <th>4</th>\n",
       "      <td>850</td>\n",
       "      <td>43</td>\n",
       "      <td>2.0</td>\n",
       "      <td>125510.82</td>\n",
       "      <td>1</td>\n",
       "      <td>1</td>\n",
       "      <td>1</td>\n",
       "      <td>79084.10</td>\n",
       "      <td>0</td>\n",
       "      <td>0</td>\n",
       "      <td>1</td>\n",
       "      <td>0</td>\n",
       "    </tr>\n",
       "    <tr>\n",
       "      <th>...</th>\n",
       "      <td>...</td>\n",
       "      <td>...</td>\n",
       "      <td>...</td>\n",
       "      <td>...</td>\n",
       "      <td>...</td>\n",
       "      <td>...</td>\n",
       "      <td>...</td>\n",
       "      <td>...</td>\n",
       "      <td>...</td>\n",
       "      <td>...</td>\n",
       "      <td>...</td>\n",
       "      <td>...</td>\n",
       "    </tr>\n",
       "    <tr>\n",
       "      <th>9994</th>\n",
       "      <td>800</td>\n",
       "      <td>29</td>\n",
       "      <td>2.0</td>\n",
       "      <td>0.00</td>\n",
       "      <td>2</td>\n",
       "      <td>0</td>\n",
       "      <td>0</td>\n",
       "      <td>167773.55</td>\n",
       "      <td>0</td>\n",
       "      <td>0</td>\n",
       "      <td>0</td>\n",
       "      <td>0</td>\n",
       "    </tr>\n",
       "    <tr>\n",
       "      <th>9995</th>\n",
       "      <td>771</td>\n",
       "      <td>39</td>\n",
       "      <td>5.0</td>\n",
       "      <td>0.00</td>\n",
       "      <td>2</td>\n",
       "      <td>1</td>\n",
       "      <td>0</td>\n",
       "      <td>96270.64</td>\n",
       "      <td>0</td>\n",
       "      <td>0</td>\n",
       "      <td>0</td>\n",
       "      <td>1</td>\n",
       "    </tr>\n",
       "    <tr>\n",
       "      <th>9996</th>\n",
       "      <td>516</td>\n",
       "      <td>35</td>\n",
       "      <td>10.0</td>\n",
       "      <td>57369.61</td>\n",
       "      <td>1</td>\n",
       "      <td>1</td>\n",
       "      <td>1</td>\n",
       "      <td>101699.77</td>\n",
       "      <td>0</td>\n",
       "      <td>0</td>\n",
       "      <td>0</td>\n",
       "      <td>1</td>\n",
       "    </tr>\n",
       "    <tr>\n",
       "      <th>9997</th>\n",
       "      <td>709</td>\n",
       "      <td>36</td>\n",
       "      <td>7.0</td>\n",
       "      <td>0.00</td>\n",
       "      <td>1</td>\n",
       "      <td>0</td>\n",
       "      <td>1</td>\n",
       "      <td>42085.58</td>\n",
       "      <td>1</td>\n",
       "      <td>0</td>\n",
       "      <td>0</td>\n",
       "      <td>0</td>\n",
       "    </tr>\n",
       "    <tr>\n",
       "      <th>9998</th>\n",
       "      <td>772</td>\n",
       "      <td>42</td>\n",
       "      <td>3.0</td>\n",
       "      <td>75075.31</td>\n",
       "      <td>2</td>\n",
       "      <td>1</td>\n",
       "      <td>0</td>\n",
       "      <td>92888.52</td>\n",
       "      <td>1</td>\n",
       "      <td>1</td>\n",
       "      <td>0</td>\n",
       "      <td>1</td>\n",
       "    </tr>\n",
       "  </tbody>\n",
       "</table>\n",
       "<p>9091 rows × 12 columns</p>\n",
       "</div>"
      ],
      "text/plain": [
       "      CreditScore  Age  Tenure    Balance  NumOfProducts  HasCrCard  \\\n",
       "0             619   42     2.0       0.00              1          1   \n",
       "1             608   41     1.0   83807.86              1          0   \n",
       "2             502   42     8.0  159660.80              3          1   \n",
       "3             699   39     1.0       0.00              2          0   \n",
       "4             850   43     2.0  125510.82              1          1   \n",
       "...           ...  ...     ...        ...            ...        ...   \n",
       "9994          800   29     2.0       0.00              2          0   \n",
       "9995          771   39     5.0       0.00              2          1   \n",
       "9996          516   35    10.0   57369.61              1          1   \n",
       "9997          709   36     7.0       0.00              1          0   \n",
       "9998          772   42     3.0   75075.31              2          1   \n",
       "\n",
       "      IsActiveMember  EstimatedSalary  Exited  Geography_Germany  \\\n",
       "0                  1        101348.88       1                  0   \n",
       "1                  1        112542.58       0                  0   \n",
       "2                  0        113931.57       1                  0   \n",
       "3                  0         93826.63       0                  0   \n",
       "4                  1         79084.10       0                  0   \n",
       "...              ...              ...     ...                ...   \n",
       "9994               0        167773.55       0                  0   \n",
       "9995               0         96270.64       0                  0   \n",
       "9996               1        101699.77       0                  0   \n",
       "9997               1         42085.58       1                  0   \n",
       "9998               0         92888.52       1                  1   \n",
       "\n",
       "      Geography_Spain  Gender_Male  \n",
       "0                   0            0  \n",
       "1                   1            0  \n",
       "2                   0            0  \n",
       "3                   0            0  \n",
       "4                   1            0  \n",
       "...               ...          ...  \n",
       "9994                0            0  \n",
       "9995                0            1  \n",
       "9996                0            1  \n",
       "9997                0            0  \n",
       "9998                0            1  \n",
       "\n",
       "[9091 rows x 12 columns]"
      ]
     },
     "execution_count": 8,
     "metadata": {},
     "output_type": "execute_result"
    }
   ],
   "source": [
    "data_ohe = pd.get_dummies(data, drop_first=True)\n",
    "data_ohe"
   ]
  },
  {
   "cell_type": "code",
   "execution_count": 9,
   "metadata": {},
   "outputs": [
    {
     "data": {
      "text/plain": [
       "array([[<AxesSubplot:title={'center':'CreditScore'}>,\n",
       "        <AxesSubplot:title={'center':'Age'}>,\n",
       "        <AxesSubplot:title={'center':'Tenure'}>],\n",
       "       [<AxesSubplot:title={'center':'Balance'}>,\n",
       "        <AxesSubplot:title={'center':'NumOfProducts'}>,\n",
       "        <AxesSubplot:title={'center':'HasCrCard'}>],\n",
       "       [<AxesSubplot:title={'center':'IsActiveMember'}>,\n",
       "        <AxesSubplot:title={'center':'EstimatedSalary'}>,\n",
       "        <AxesSubplot:title={'center':'Exited'}>],\n",
       "       [<AxesSubplot:title={'center':'Geography_Germany'}>,\n",
       "        <AxesSubplot:title={'center':'Geography_Spain'}>,\n",
       "        <AxesSubplot:title={'center':'Gender_Male'}>]], dtype=object)"
      ]
     },
     "execution_count": 9,
     "metadata": {},
     "output_type": "execute_result"
    },
    {
     "data": {
      "image/png": "[encoded data removed]",
      "text/plain": [
       "<Figure size 1800x1080 with 12 Axes>"
      ]
     },
     "metadata": {
      "needs_background": "light"
     },
     "output_type": "display_data"
    }
   ],
   "source": [
    "data_ohe.hist(edgecolor = 'black', linewidth = 1.2, figsize = (25,15))"
   ]
  },
  {
   "cell_type": "markdown",
   "metadata": {},
   "source": [
    "Some features are not balaced due to lack of naturality in the economic sector.\n",
    "Due to the diffrent 'weight' of features such as (age & credit score) balance needs to be achieved. It seems there are less people who exited than stayed so upsampling the 'positive' is needed."
   ]
  },
  {
   "cell_type": "code",
   "execution_count": 10,
   "metadata": {},
   "outputs": [],
   "source": [
    "data_ohe.columns = data_ohe.columns.str.lower()"
   ]
  },
  {
   "cell_type": "markdown",
   "metadata": {},
   "source": [
    "### 2. Spliting the data"
   ]
  },
  {
   "cell_type": "code",
   "execution_count": 11,
   "metadata": {},
   "outputs": [],
   "source": [
    "features = data_ohe[['creditscore','age','tenure','balance','numofproducts','hascrcard','isactivemember','estimatedsalary','geography_germany', 'geography_spain', 'gender_male']]\n",
    "target = data_ohe['exited']\n",
    "\n",
    "features_train, features_remain, target_train, target_remain = train_test_split(features,target, train_size=0.6, random_state=12345)\n",
    "\n",
    "features_valid, features_test, target_valid, target_test = train_test_split(features_remain,target_remain, test_size=0.5, random_state=12345)"
   ]
  },
  {
   "cell_type": "markdown",
   "metadata": {},
   "source": [
    "<div class=\"alert alert-block alert-info\">\n",
    "<b>I changed it to by your recommendation.</b> <a class=\"tocSkip\"></a>\n",
    "</div>"
   ]
  },
  {
   "cell_type": "markdown",
   "metadata": {},
   "source": [
    "Standerdazing numerical features."
   ]
  },
  {
   "cell_type": "code",
   "execution_count": 12,
   "metadata": {},
   "outputs": [],
   "source": [
    "numeric = ['creditscore','age','tenure','balance','numofproducts','hascrcard','isactivemember','estimatedsalary','geography_germany', 'geography_spain', 'gender_male']"
   ]
  },
  {
   "cell_type": "code",
   "execution_count": 13,
   "metadata": {},
   "outputs": [
    {
     "name": "stderr",
     "output_type": "stream",
     "text": [
      "/tmp/ipykernel_83/3916794607.py:3: SettingWithCopyWarning: \n",
      "A value is trying to be set on a copy of a slice from a DataFrame.\n",
      "Try using .loc[row_indexer,col_indexer] = value instead\n",
      "\n",
      "See the caveats in the documentation: https://pandas.pydata.org/pandas-docs/stable/user_guide/indexing.html#returning-a-view-versus-a-copy\n",
      "  features_train[numeric] = scaler.transform(features_train[numeric])\n",
      "/opt/conda/lib/python3.9/site-packages/pandas/core/indexing.py:1738: SettingWithCopyWarning: \n",
      "A value is trying to be set on a copy of a slice from a DataFrame.\n",
      "Try using .loc[row_indexer,col_indexer] = value instead\n",
      "\n",
      "See the caveats in the documentation: https://pandas.pydata.org/pandas-docs/stable/user_guide/indexing.html#returning-a-view-versus-a-copy\n",
      "  self._setitem_single_column(loc, value[:, i].tolist(), pi)\n",
      "/tmp/ipykernel_83/3916794607.py:4: SettingWithCopyWarning: \n",
      "A value is trying to be set on a copy of a slice from a DataFrame.\n",
      "Try using .loc[row_indexer,col_indexer] = value instead\n",
      "\n",
      "See the caveats in the documentation: https://pandas.pydata.org/pandas-docs/stable/user_guide/indexing.html#returning-a-view-versus-a-copy\n",
      "  features_valid[numeric] = scaler.transform(features_valid[numeric])\n",
      "/opt/conda/lib/python3.9/site-packages/pandas/core/indexing.py:1738: SettingWithCopyWarning: \n",
      "A value is trying to be set on a copy of a slice from a DataFrame.\n",
      "Try using .loc[row_indexer,col_indexer] = value instead\n",
      "\n",
      "See the caveats in the documentation: https://pandas.pydata.org/pandas-docs/stable/user_guide/indexing.html#returning-a-view-versus-a-copy\n",
      "  self._setitem_single_column(loc, value[:, i].tolist(), pi)\n"
     ]
    }
   ],
   "source": [
    "scaler = StandardScaler()\n",
    "scaler.fit(features_train[numeric])\n",
    "features_train[numeric] = scaler.transform(features_train[numeric])\n",
    "features_valid[numeric] = scaler.transform(features_valid[numeric])"
   ]
  },
  {
   "cell_type": "markdown",
   "metadata": {},
   "source": [
    "fit_transform() is also an option."
   ]
  },
  {
   "cell_type": "markdown",
   "metadata": {},
   "source": [
    "Upsampling The Data"
   ]
  },
  {
   "cell_type": "code",
   "execution_count": 14,
   "metadata": {},
   "outputs": [],
   "source": [
    "def upsample(features, target, repeat):\n",
    "    features_zeros = features[target == 0]\n",
    "    features_ones = features[target == 1]\n",
    "    target_zeros = target[target == 0]\n",
    "    target_ones = target[target == 1]\n",
    "    return features_upsampled, target_upsampled"
   ]
  },
  {
   "cell_type": "code",
   "execution_count": 15,
   "metadata": {},
   "outputs": [],
   "source": [
    "features_zeros = features_train[target_train == 0]\n",
    "features_ones = features_train[target_train == 1]\n",
    "target_zeros = target_train[target_train == 0]\n",
    "target_ones = target_train[target_train == 1]"
   ]
  },
  {
   "cell_type": "code",
   "execution_count": 16,
   "metadata": {},
   "outputs": [
    {
     "data": {
      "text/plain": [
       "(4328, 11)"
      ]
     },
     "execution_count": 16,
     "metadata": {},
     "output_type": "execute_result"
    }
   ],
   "source": [
    "features_zeros.shape"
   ]
  },
  {
   "cell_type": "code",
   "execution_count": 17,
   "metadata": {},
   "outputs": [
    {
     "data": {
      "text/plain": [
       "(1126, 11)"
      ]
     },
     "execution_count": 17,
     "metadata": {},
     "output_type": "execute_result"
    }
   ],
   "source": [
    "features_ones.shape"
   ]
  },
  {
   "cell_type": "code",
   "execution_count": 18,
   "metadata": {},
   "outputs": [
    {
     "data": {
      "text/plain": [
       "(4328,)"
      ]
     },
     "execution_count": 18,
     "metadata": {},
     "output_type": "execute_result"
    }
   ],
   "source": [
    "target_zeros.shape"
   ]
  },
  {
   "cell_type": "code",
   "execution_count": 19,
   "metadata": {},
   "outputs": [
    {
     "data": {
      "text/plain": [
       "(1126,)"
      ]
     },
     "execution_count": 19,
     "metadata": {},
     "output_type": "execute_result"
    }
   ],
   "source": [
    "target_ones.shape"
   ]
  },
  {
   "cell_type": "markdown",
   "metadata": {},
   "source": [
    "should randomazie upsampling..."
   ]
  },
  {
   "cell_type": "markdown",
   "metadata": {},
   "source": [
    "As shown, the 0 are 4X more than the 1 so upsampling can balance the numbers to recieve 'more' data."
   ]
  },
  {
   "cell_type": "code",
   "execution_count": 20,
   "metadata": {},
   "outputs": [],
   "source": [
    "repeat = 4\n",
    "features_upsampled = pd.concat([features_zeros] + [features_ones] * repeat)\n",
    "target_upsampled = pd.concat([target_zeros] + [target_ones] * repeat)"
   ]
  },
  {
   "cell_type": "code",
   "execution_count": 21,
   "metadata": {},
   "outputs": [],
   "source": [
    "features_upsampled, target_upsampled = upsample(features_train, target_train, 4)"
   ]
  },
  {
   "cell_type": "code",
   "execution_count": 22,
   "metadata": {},
   "outputs": [],
   "source": [
    "features_upsampled, target_upsampled = shuffle(features_upsampled, target_upsampled, random_state=12345)"
   ]
  },
  {
   "cell_type": "code",
   "execution_count": 23,
   "metadata": {},
   "outputs": [],
   "source": [
    "features_zeros = features_upsampled[target_upsampled == 0]\n",
    "features_ones = features_upsampled[target_upsampled == 1]\n",
    "target_zeros = target_upsampled[target_upsampled == 0]\n",
    "target_ones = target_upsampled[target_upsampled == 1]"
   ]
  },
  {
   "cell_type": "code",
   "execution_count": 24,
   "metadata": {},
   "outputs": [
    {
     "data": {
      "text/plain": [
       "(4328, 11)"
      ]
     },
     "execution_count": 24,
     "metadata": {},
     "output_type": "execute_result"
    }
   ],
   "source": [
    "features_zeros.shape"
   ]
  },
  {
   "cell_type": "code",
   "execution_count": 25,
   "metadata": {},
   "outputs": [
    {
     "data": {
      "text/plain": [
       "(4504, 11)"
      ]
     },
     "execution_count": 25,
     "metadata": {},
     "output_type": "execute_result"
    }
   ],
   "source": [
    "features_ones.shape"
   ]
  },
  {
   "cell_type": "code",
   "execution_count": 26,
   "metadata": {},
   "outputs": [
    {
     "data": {
      "text/plain": [
       "(4328,)"
      ]
     },
     "execution_count": 26,
     "metadata": {},
     "output_type": "execute_result"
    }
   ],
   "source": [
    "target_zeros.shape"
   ]
  },
  {
   "cell_type": "code",
   "execution_count": 27,
   "metadata": {},
   "outputs": [
    {
     "data": {
      "text/plain": [
       "(4504,)"
      ]
     },
     "execution_count": 27,
     "metadata": {},
     "output_type": "execute_result"
    }
   ],
   "source": [
    "target_ones.shape"
   ]
  },
  {
   "cell_type": "markdown",
   "metadata": {},
   "source": [
    "There is preety much the same number of 0 as there are 1."
   ]
  },
  {
   "cell_type": "markdown",
   "metadata": {},
   "source": [
    "I changed the number of 'repeat' so there will be the same 1 as there are 0, should I go over a specific part of the course in order the achive understanding?"
   ]
  },
  {
   "cell_type": "markdown",
   "metadata": {},
   "source": [
    "checking f1 score on raw data."
   ]
  },
  {
   "cell_type": "markdown",
   "metadata": {},
   "source": [
    "### 3. Investigating hyperparameters\n"
   ]
  },
  {
   "cell_type": "markdown",
   "metadata": {},
   "source": [
    "Threshold Adjusment"
   ]
  },
  {
   "cell_type": "code",
   "execution_count": 29,
   "metadata": {},
   "outputs": [],
   "source": [
    "model = RandomForestClassifier(random_state=12345, n_estimators = 75)\n",
    "model.fit(features_upsampled, target_upsampled)\n",
    "probabilities_valid = model.predict_proba(features_valid)\n",
    "probabilities_one_valid = probabilities_valid[:, 1]"
   ]
  },
  {
   "cell_type": "code",
   "execution_count": 30,
   "metadata": {},
   "outputs": [
    {
     "name": "stdout",
     "output_type": "stream",
     "text": [
      "Threshold = 0.00 | Precision = 0.218, Recall = 0.992, f1_scores = 0.36\n",
      "Threshold = 0.02 | Precision = 0.228, Recall = 0.981, f1_scores = 0.37\n",
      "Threshold = 0.04 | Precision = 0.255, Recall = 0.979, f1_scores = 0.40\n",
      "Threshold = 0.06 | Precision = 0.267, Recall = 0.968, f1_scores = 0.42\n",
      "Threshold = 0.08 | Precision = 0.292, Recall = 0.950, f1_scores = 0.45\n",
      "Threshold = 0.10 | Precision = 0.305, Recall = 0.942, f1_scores = 0.46\n",
      "Threshold = 0.12 | Precision = 0.327, Recall = 0.923, f1_scores = 0.48\n",
      "Threshold = 0.14 | Precision = 0.345, Recall = 0.910, f1_scores = 0.50\n",
      "Threshold = 0.16 | Precision = 0.368, Recall = 0.889, f1_scores = 0.52\n",
      "Threshold = 0.18 | Precision = 0.380, Recall = 0.870, f1_scores = 0.53\n",
      "Threshold = 0.20 | Precision = 0.400, Recall = 0.836, f1_scores = 0.54\n",
      "Threshold = 0.22 | Precision = 0.411, Recall = 0.828, f1_scores = 0.55\n",
      "Threshold = 0.24 | Precision = 0.434, Recall = 0.801, f1_scores = 0.56\n",
      "Threshold = 0.26 | Precision = 0.454, Recall = 0.790, f1_scores = 0.58\n",
      "Threshold = 0.28 | Precision = 0.472, Recall = 0.772, f1_scores = 0.59\n",
      "Threshold = 0.30 | Precision = 0.491, Recall = 0.764, f1_scores = 0.60\n",
      "Threshold = 0.32 | Precision = 0.513, Recall = 0.737, f1_scores = 0.61\n",
      "Threshold = 0.34 | Precision = 0.527, Recall = 0.732, f1_scores = 0.61\n",
      "Threshold = 0.36 | Precision = 0.552, Recall = 0.695, f1_scores = 0.62\n",
      "Threshold = 0.38 | Precision = 0.569, Recall = 0.682, f1_scores = 0.62\n",
      "Threshold = 0.40 | Precision = 0.589, Recall = 0.655, f1_scores = 0.62\n",
      "Threshold = 0.42 | Precision = 0.613, Recall = 0.650, f1_scores = 0.63\n",
      "Threshold = 0.44 | Precision = 0.640, Recall = 0.618, f1_scores = 0.63\n",
      "Threshold = 0.46 | Precision = 0.643, Recall = 0.602, f1_scores = 0.62\n",
      "Threshold = 0.48 | Precision = 0.673, Recall = 0.573, f1_scores = 0.62\n",
      "Threshold = 0.50 | Precision = 0.688, Recall = 0.568, f1_scores = 0.62\n",
      "Threshold = 0.52 | Precision = 0.696, Recall = 0.541, f1_scores = 0.61\n",
      "Threshold = 0.54 | Precision = 0.710, Recall = 0.533, f1_scores = 0.61\n",
      "Threshold = 0.56 | Precision = 0.725, Recall = 0.504, f1_scores = 0.59\n",
      "Threshold = 0.58 | Precision = 0.744, Recall = 0.501, f1_scores = 0.60\n",
      "Threshold = 0.60 | Precision = 0.778, Recall = 0.483, f1_scores = 0.60\n",
      "Threshold = 0.62 | Precision = 0.779, Recall = 0.459, f1_scores = 0.58\n",
      "Threshold = 0.64 | Precision = 0.799, Recall = 0.422, f1_scores = 0.55\n",
      "Threshold = 0.66 | Precision = 0.803, Recall = 0.411, f1_scores = 0.54\n",
      "Threshold = 0.68 | Precision = 0.825, Recall = 0.387, f1_scores = 0.53\n",
      "Threshold = 0.70 | Precision = 0.827, Recall = 0.379, f1_scores = 0.52\n",
      "Threshold = 0.72 | Precision = 0.846, Recall = 0.350, f1_scores = 0.50\n",
      "Threshold = 0.74 | Precision = 0.854, Recall = 0.326, f1_scores = 0.47\n",
      "Threshold = 0.76 | Precision = 0.878, Recall = 0.305, f1_scores = 0.45\n",
      "Threshold = 0.78 | Precision = 0.881, Recall = 0.276, f1_scores = 0.42\n",
      "Threshold = 0.80 | Precision = 0.881, Recall = 0.236, f1_scores = 0.37\n",
      "Threshold = 0.82 | Precision = 0.867, Recall = 0.207, f1_scores = 0.33\n",
      "Threshold = 0.84 | Precision = 0.875, Recall = 0.167, f1_scores = 0.28\n",
      "Threshold = 0.86 | Precision = 0.875, Recall = 0.149, f1_scores = 0.25\n",
      "Threshold = 0.88 | Precision = 0.844, Recall = 0.101, f1_scores = 0.18\n",
      "Threshold = 0.90 | Precision = 0.875, Recall = 0.093, f1_scores = 0.17\n",
      "Threshold = 0.92 | Precision = 0.880, Recall = 0.058, f1_scores = 0.11\n",
      "Threshold = 0.94 | Precision = 0.842, Recall = 0.042, f1_scores = 0.08\n",
      "Threshold = 0.96 | Precision = 0.833, Recall = 0.013, f1_scores = 0.03\n",
      "Threshold = 0.98 | Precision = 1.000, Recall = 0.005, f1_scores = 0.01\n"
     ]
    }
   ],
   "source": [
    "for threshold in np.arange(0, 1, 0.02):\n",
    "    predicted_valid = probabilities_one_valid > threshold \n",
    "    precision = precision_score(target_valid,predicted_valid)\n",
    "    recall = recall_score(target_valid,predicted_valid)\n",
    "    f1_scores = 2*recall*precision/(recall+precision)\n",
    "\n",
    "    print(\n",
    "        \t'Threshold = {:.2f} | Precision = {:.3f}, Recall = {:.3f}, f1_scores = {:.2f}'.format(\n",
    "            \tthreshold, precision, recall, f1_scores\n",
    "        \t)\n",
    "    \t)"
   ]
  },
  {
   "cell_type": "markdown",
   "metadata": {},
   "source": [
    "adding f1 score to the output."
   ]
  },
  {
   "cell_type": "code",
   "execution_count": 31,
   "metadata": {},
   "outputs": [],
   "source": [
    "model = RandomForestClassifier(n_estimators = 75, random_state=12345)\n",
    "model.fit(features_upsampled, target_upsampled)\n",
    "predicted_valid = model.predict(features_valid)"
   ]
  },
  {
   "cell_type": "code",
   "execution_count": 32,
   "metadata": {
    "scrolled": true
   },
   "outputs": [
    {
     "data": {
      "text/plain": [
       "0.6306306306306306"
      ]
     },
     "execution_count": 32,
     "metadata": {},
     "output_type": "execute_result"
    }
   ],
   "source": [
    "threshold = 0.42\n",
    "\n",
    "predicted_proba = model.predict_proba(features_valid)\n",
    "predicted = (predicted_proba [:,1] >= threshold).astype('int')\n",
    "\n",
    "f1_score(target_valid, predicted)"
   ]
  },
  {
   "cell_type": "markdown",
   "metadata": {},
   "source": [
    "### 4. Quality check\n"
   ]
  },
  {
   "cell_type": "code",
   "execution_count": 33,
   "metadata": {},
   "outputs": [
    {
     "data": {
      "text/plain": [
       "0.622093023255814"
      ]
     },
     "execution_count": 33,
     "metadata": {},
     "output_type": "execute_result"
    }
   ],
   "source": [
    "f1_score(target_valid, predicted_valid)"
   ]
  },
  {
   "cell_type": "code",
   "execution_count": 34,
   "metadata": {},
   "outputs": [
    {
     "data": {
      "text/plain": [
       "0.15699100572363042"
      ]
     },
     "execution_count": 34,
     "metadata": {},
     "output_type": "execute_result"
    }
   ],
   "source": [
    "threshold = 0.42\n",
    "\n",
    "predicted_proba = model.predict_proba(features_test)\n",
    "predicted = (predicted_proba [:,1] >= threshold).astype('int')\n",
    "\n",
    "f1_score(target_test, predicted)"
   ]
  },
  {
   "cell_type": "markdown",
   "metadata": {},
   "source": [
    "The F1 score on the valid data set look promising and above the 0.58 needed score."
   ]
  },
  {
   "cell_type": "code",
   "execution_count": 35,
   "metadata": {},
   "outputs": [
    {
     "data": {
      "text/plain": [
       "0.11798839458413925"
      ]
     },
     "execution_count": 35,
     "metadata": {},
     "output_type": "execute_result"
    }
   ],
   "source": [
    "predicted_test = model.predict(features_test)\n",
    "f1_score(target_test ,predicted_test)"
   ]
  },
  {
   "cell_type": "markdown",
   "metadata": {},
   "source": [
    "The test data set dropped the F1 score by alot."
   ]
  },
  {
   "cell_type": "code",
   "execution_count": 36,
   "metadata": {},
   "outputs": [],
   "source": [
    "model = LogisticRegression(random_state=12345, solver='liblinear') \n",
    "model.fit(features_upsampled, target_upsampled)\n",
    "predicted_valid = model.predict(features_valid)"
   ]
  },
  {
   "cell_type": "code",
   "execution_count": 37,
   "metadata": {},
   "outputs": [
    {
     "data": {
      "text/plain": [
       "0.5081374321880651"
      ]
     },
     "execution_count": 37,
     "metadata": {},
     "output_type": "execute_result"
    }
   ],
   "source": [
    "f1_score(target_valid, predicted_valid)"
   ]
  },
  {
   "cell_type": "markdown",
   "metadata": {},
   "source": [
    "It seems logistic regression isn't the best nodel so far."
   ]
  },
  {
   "cell_type": "code",
   "execution_count": 38,
   "metadata": {},
   "outputs": [
    {
     "data": {
      "text/plain": [
       "0.3235023041474654"
      ]
     },
     "execution_count": 38,
     "metadata": {},
     "output_type": "execute_result"
    }
   ],
   "source": [
    "predicted_test = model.predict(features_test)\n",
    "f1_score(target_test, predicted_test)"
   ]
  },
  {
   "cell_type": "markdown",
   "metadata": {},
   "source": [
    "With the test data set it shown a better result than random forest classifier."
   ]
  },
  {
   "cell_type": "markdown",
   "metadata": {},
   "source": [
    "Balancing The Data"
   ]
  },
  {
   "cell_type": "markdown",
   "metadata": {},
   "source": [
    "Threshold Adjusment"
   ]
  },
  {
   "cell_type": "code",
   "execution_count": 40,
   "metadata": {},
   "outputs": [],
   "source": [
    "model = RandomForestClassifier(random_state=12345, n_estimators = 75, class_weight='balanced')\n",
    "model.fit(features_train, target_train)\n",
    "probabilities_valid = model.predict_proba(features_valid)\n",
    "probabilities_one_valid = probabilities_valid[:, 1]"
   ]
  },
  {
   "cell_type": "code",
   "execution_count": 41,
   "metadata": {},
   "outputs": [
    {
     "name": "stdout",
     "output_type": "stream",
     "text": [
      "Threshold = 0.00 | Precision = 0.223, Recall = 0.995, f1_scores = 0.36\n",
      "Threshold = 0.02 | Precision = 0.238, Recall = 0.981, f1_scores = 0.38\n",
      "Threshold = 0.04 | Precision = 0.277, Recall = 0.960, f1_scores = 0.43\n",
      "Threshold = 0.06 | Precision = 0.295, Recall = 0.947, f1_scores = 0.45\n",
      "Threshold = 0.08 | Precision = 0.327, Recall = 0.926, f1_scores = 0.48\n",
      "Threshold = 0.10 | Precision = 0.345, Recall = 0.915, f1_scores = 0.50\n",
      "Threshold = 0.12 | Precision = 0.374, Recall = 0.883, f1_scores = 0.53\n",
      "Threshold = 0.14 | Precision = 0.395, Recall = 0.873, f1_scores = 0.54\n",
      "Threshold = 0.16 | Precision = 0.436, Recall = 0.851, f1_scores = 0.58\n",
      "Threshold = 0.18 | Precision = 0.457, Recall = 0.833, f1_scores = 0.59\n",
      "Threshold = 0.20 | Precision = 0.487, Recall = 0.785, f1_scores = 0.60\n",
      "Threshold = 0.22 | Precision = 0.501, Recall = 0.767, f1_scores = 0.61\n",
      "Threshold = 0.24 | Precision = 0.529, Recall = 0.737, f1_scores = 0.62\n",
      "Threshold = 0.26 | Precision = 0.542, Recall = 0.721, f1_scores = 0.62\n",
      "Threshold = 0.28 | Precision = 0.572, Recall = 0.671, f1_scores = 0.62\n",
      "Threshold = 0.30 | Precision = 0.597, Recall = 0.653, f1_scores = 0.62\n",
      "Threshold = 0.32 | Precision = 0.621, Recall = 0.626, f1_scores = 0.62\n",
      "Threshold = 0.34 | Precision = 0.639, Recall = 0.621, f1_scores = 0.63\n",
      "Threshold = 0.36 | Precision = 0.666, Recall = 0.576, f1_scores = 0.62\n",
      "Threshold = 0.38 | Precision = 0.682, Recall = 0.568, f1_scores = 0.62\n",
      "Threshold = 0.40 | Precision = 0.699, Recall = 0.541, f1_scores = 0.61\n",
      "Threshold = 0.42 | Precision = 0.712, Recall = 0.525, f1_scores = 0.60\n",
      "Threshold = 0.44 | Precision = 0.744, Recall = 0.509, f1_scores = 0.60\n",
      "Threshold = 0.46 | Precision = 0.743, Recall = 0.491, f1_scores = 0.59\n",
      "Threshold = 0.48 | Precision = 0.765, Recall = 0.475, f1_scores = 0.59\n",
      "Threshold = 0.50 | Precision = 0.774, Recall = 0.472, f1_scores = 0.59\n",
      "Threshold = 0.52 | Precision = 0.794, Recall = 0.440, f1_scores = 0.57\n",
      "Threshold = 0.54 | Precision = 0.806, Recall = 0.430, f1_scores = 0.56\n",
      "Threshold = 0.56 | Precision = 0.819, Recall = 0.408, f1_scores = 0.55\n",
      "Threshold = 0.58 | Precision = 0.825, Recall = 0.401, f1_scores = 0.54\n",
      "Threshold = 0.60 | Precision = 0.835, Recall = 0.363, f1_scores = 0.51\n",
      "Threshold = 0.62 | Precision = 0.830, Recall = 0.350, f1_scores = 0.49\n",
      "Threshold = 0.64 | Precision = 0.854, Recall = 0.326, f1_scores = 0.47\n",
      "Threshold = 0.66 | Precision = 0.861, Recall = 0.313, f1_scores = 0.46\n",
      "Threshold = 0.68 | Precision = 0.888, Recall = 0.294, f1_scores = 0.44\n",
      "Threshold = 0.70 | Precision = 0.886, Recall = 0.268, f1_scores = 0.41\n",
      "Threshold = 0.72 | Precision = 0.895, Recall = 0.249, f1_scores = 0.39\n",
      "Threshold = 0.74 | Precision = 0.883, Recall = 0.220, f1_scores = 0.35\n",
      "Threshold = 0.76 | Precision = 0.893, Recall = 0.199, f1_scores = 0.33\n",
      "Threshold = 0.78 | Precision = 0.887, Recall = 0.167, f1_scores = 0.28\n",
      "Threshold = 0.80 | Precision = 0.906, Recall = 0.127, f1_scores = 0.22\n",
      "Threshold = 0.82 | Precision = 0.917, Recall = 0.117, f1_scores = 0.21\n",
      "Threshold = 0.84 | Precision = 0.909, Recall = 0.080, f1_scores = 0.15\n",
      "Threshold = 0.86 | Precision = 0.900, Recall = 0.072, f1_scores = 0.13\n",
      "Threshold = 0.88 | Precision = 0.895, Recall = 0.045, f1_scores = 0.09\n",
      "Threshold = 0.90 | Precision = 0.867, Recall = 0.034, f1_scores = 0.07\n",
      "Threshold = 0.92 | Precision = 0.857, Recall = 0.016, f1_scores = 0.03\n",
      "Threshold = 0.94 | Precision = 0.750, Recall = 0.008, f1_scores = 0.02\n",
      "Threshold = 0.96 | Precision = 0.000, Recall = 0.000, f1_scores = nan\n",
      "Threshold = 0.98 | Precision = 0.000, Recall = 0.000, f1_scores = nan\n"
     ]
    },
    {
     "name": "stderr",
     "output_type": "stream",
     "text": [
      "/opt/conda/lib/python3.9/site-packages/sklearn/metrics/_classification.py:1245: UndefinedMetricWarning: Precision is ill-defined and being set to 0.0 due to no predicted samples. Use `zero_division` parameter to control this behavior.\n",
      "  _warn_prf(average, modifier, msg_start, len(result))\n",
      "/tmp/ipykernel_83/3757555220.py:5: RuntimeWarning: invalid value encountered in double_scalars\n",
      "  f1_scores = 2*recall*precision/(recall+precision)\n",
      "/opt/conda/lib/python3.9/site-packages/sklearn/metrics/_classification.py:1245: UndefinedMetricWarning: Precision is ill-defined and being set to 0.0 due to no predicted samples. Use `zero_division` parameter to control this behavior.\n",
      "  _warn_prf(average, modifier, msg_start, len(result))\n",
      "/tmp/ipykernel_83/3757555220.py:5: RuntimeWarning: invalid value encountered in double_scalars\n",
      "  f1_scores = 2*recall*precision/(recall+precision)\n"
     ]
    }
   ],
   "source": [
    "for threshold in np.arange(0, 1, 0.02):\n",
    "    predicted_valid = probabilities_one_valid > threshold \n",
    "    precision = precision_score(target_valid,predicted_valid)\n",
    "    recall = recall_score(target_valid,predicted_valid)\n",
    "    f1_scores = 2*recall*precision/(recall+precision)\n",
    "\n",
    "    print(\n",
    "        \t'Threshold = {:.2f} | Precision = {:.3f}, Recall = {:.3f}, f1_scores = {:.2f}'.format(\n",
    "            \tthreshold, precision, recall, f1_scores\n",
    "        \t)\n",
    "    \t)"
   ]
  },
  {
   "cell_type": "code",
   "execution_count": 42,
   "metadata": {},
   "outputs": [],
   "source": [
    "model = RandomForestClassifier(n_estimators = 58, random_state=12345, class_weight='balanced')\n",
    "model.fit(features_train, target_train)\n",
    "predicted_valid = model.predict(features_valid)"
   ]
  },
  {
   "cell_type": "code",
   "execution_count": 43,
   "metadata": {},
   "outputs": [
    {
     "data": {
      "text/plain": [
       "0.6159999999999999"
      ]
     },
     "execution_count": 43,
     "metadata": {},
     "output_type": "execute_result"
    }
   ],
   "source": [
    "threshold = 0.34\n",
    "\n",
    "predicted_proba = model.predict_proba(features_valid)\n",
    "predicted = (predicted_proba [:,1] >= threshold).astype('int')\n",
    "\n",
    "f1_score(target_valid, predicted)"
   ]
  },
  {
   "cell_type": "code",
   "execution_count": 44,
   "metadata": {},
   "outputs": [
    {
     "data": {
      "text/plain": [
       "0.584873949579832"
      ]
     },
     "execution_count": 44,
     "metadata": {},
     "output_type": "execute_result"
    }
   ],
   "source": [
    "f1_score(target_valid, predicted_valid)"
   ]
  },
  {
   "cell_type": "code",
   "execution_count": 45,
   "metadata": {},
   "outputs": [
    {
     "data": {
      "text/plain": [
       "0.1675977653631285"
      ]
     },
     "execution_count": 45,
     "metadata": {},
     "output_type": "execute_result"
    }
   ],
   "source": [
    "threshold = 0.34\n",
    "\n",
    "predicted_proba = model.predict_proba(features_test)\n",
    "predicted = (predicted_proba [:,1] >= threshold).astype('int')\n",
    "\n",
    "f1_score(target_test, predicted)"
   ]
  },
  {
   "cell_type": "code",
   "execution_count": 46,
   "metadata": {},
   "outputs": [
    {
     "data": {
      "text/plain": [
       "0.09049773755656108"
      ]
     },
     "execution_count": 46,
     "metadata": {},
     "output_type": "execute_result"
    }
   ],
   "source": [
    "predicted_test = model.predict(features_test)\n",
    "f1_score(target_test ,predicted_test)"
   ]
  },
  {
   "cell_type": "code",
   "execution_count": 47,
   "metadata": {},
   "outputs": [],
   "source": [
    "model = LogisticRegression(random_state=12345, solver='liblinear', class_weight='balanced') \n",
    "model.fit(features_train, target_train)\n",
    "predicted_valid = model.predict(features_valid)"
   ]
  },
  {
   "cell_type": "code",
   "execution_count": 48,
   "metadata": {},
   "outputs": [
    {
     "data": {
      "text/plain": [
       "0.509731232622799"
      ]
     },
     "execution_count": 48,
     "metadata": {},
     "output_type": "execute_result"
    }
   ],
   "source": [
    "f1_score(target_valid, predicted_valid)"
   ]
  },
  {
   "cell_type": "code",
   "execution_count": 49,
   "metadata": {},
   "outputs": [
    {
     "data": {
      "text/plain": [
       "0.3235023041474654"
      ]
     },
     "execution_count": 49,
     "metadata": {},
     "output_type": "execute_result"
    }
   ],
   "source": [
    "predicted_test = model.predict(features_test)\n",
    "f1_score(target_test, predicted_test)"
   ]
  },
  {
   "cell_type": "markdown",
   "metadata": {},
   "source": [
    "Downsampling The Data"
   ]
  },
  {
   "cell_type": "code",
   "execution_count": 50,
   "metadata": {},
   "outputs": [],
   "source": [
    "def downsample(features, target, fraction):\n",
    "    features_zeros = features[target == 0]\n",
    "    features_ones = features[target == 1]\n",
    "    target_zeros = target[target == 0]\n",
    "    target_ones = target[target == 1]\n",
    "\n",
    "    features_downsampled = pd.concat(\n",
    "        [features_zeros.sample(frac=fraction, random_state=12345)]\n",
    "        + [features_ones])\n",
    "    target_downsampled = pd.concat(\n",
    "        [target_zeros.sample(frac=fraction, random_state=12345)]\n",
    "        + [target_ones])\n",
    "\n",
    "    features_downsampled, target_downsampled = shuffle(\n",
    "        features_downsampled, target_downsampled, random_state=12345)\n",
    "\n",
    "    return features_downsampled, target_downsampled"
   ]
  },
  {
   "cell_type": "code",
   "execution_count": 51,
   "metadata": {},
   "outputs": [],
   "source": [
    "features_downsampled, target_downsampled = downsample(features_train, target_train, 0.4)"
   ]
  },
  {
   "cell_type": "markdown",
   "metadata": {},
   "source": [
    "Threshold Adjusment"
   ]
  },
  {
   "cell_type": "code",
   "execution_count": 53,
   "metadata": {},
   "outputs": [],
   "source": [
    "model = RandomForestClassifier(random_state=12345, n_estimators = 75)\n",
    "model.fit(features_downsampled, target_downsampled)\n",
    "probabilities_valid = model.predict_proba(features_valid)\n",
    "probabilities_one_valid = probabilities_valid[:, 1]"
   ]
  },
  {
   "cell_type": "code",
   "execution_count": 54,
   "metadata": {},
   "outputs": [
    {
     "name": "stdout",
     "output_type": "stream",
     "text": [
      "Threshold = 0.00 | Precision = 0.210, Recall = 1.000, f1_scores = 0.35\n",
      "Threshold = 0.02 | Precision = 0.215, Recall = 1.000, f1_scores = 0.35\n",
      "Threshold = 0.04 | Precision = 0.229, Recall = 0.995, f1_scores = 0.37\n",
      "Threshold = 0.06 | Precision = 0.234, Recall = 0.987, f1_scores = 0.38\n",
      "Threshold = 0.08 | Precision = 0.248, Recall = 0.979, f1_scores = 0.40\n",
      "Threshold = 0.10 | Precision = 0.255, Recall = 0.979, f1_scores = 0.40\n",
      "Threshold = 0.12 | Precision = 0.274, Recall = 0.973, f1_scores = 0.43\n",
      "Threshold = 0.14 | Precision = 0.284, Recall = 0.966, f1_scores = 0.44\n",
      "Threshold = 0.16 | Precision = 0.304, Recall = 0.955, f1_scores = 0.46\n",
      "Threshold = 0.18 | Precision = 0.312, Recall = 0.947, f1_scores = 0.47\n",
      "Threshold = 0.20 | Precision = 0.328, Recall = 0.934, f1_scores = 0.49\n",
      "Threshold = 0.22 | Precision = 0.334, Recall = 0.923, f1_scores = 0.49\n",
      "Threshold = 0.24 | Precision = 0.350, Recall = 0.905, f1_scores = 0.51\n",
      "Threshold = 0.26 | Precision = 0.364, Recall = 0.899, f1_scores = 0.52\n",
      "Threshold = 0.28 | Precision = 0.379, Recall = 0.881, f1_scores = 0.53\n",
      "Threshold = 0.30 | Precision = 0.390, Recall = 0.873, f1_scores = 0.54\n",
      "Threshold = 0.32 | Precision = 0.416, Recall = 0.849, f1_scores = 0.56\n",
      "Threshold = 0.34 | Precision = 0.422, Recall = 0.836, f1_scores = 0.56\n",
      "Threshold = 0.36 | Precision = 0.440, Recall = 0.822, f1_scores = 0.57\n",
      "Threshold = 0.38 | Precision = 0.459, Recall = 0.812, f1_scores = 0.59\n",
      "Threshold = 0.40 | Precision = 0.490, Recall = 0.793, f1_scores = 0.61\n",
      "Threshold = 0.42 | Precision = 0.502, Recall = 0.775, f1_scores = 0.61\n",
      "Threshold = 0.44 | Precision = 0.522, Recall = 0.745, f1_scores = 0.61\n",
      "Threshold = 0.46 | Precision = 0.527, Recall = 0.727, f1_scores = 0.61\n",
      "Threshold = 0.48 | Precision = 0.565, Recall = 0.706, f1_scores = 0.63\n",
      "Threshold = 0.50 | Precision = 0.575, Recall = 0.690, f1_scores = 0.63\n",
      "Threshold = 0.52 | Precision = 0.589, Recall = 0.676, f1_scores = 0.63\n",
      "Threshold = 0.54 | Precision = 0.592, Recall = 0.655, f1_scores = 0.62\n",
      "Threshold = 0.56 | Precision = 0.617, Recall = 0.623, f1_scores = 0.62\n",
      "Threshold = 0.58 | Precision = 0.618, Recall = 0.610, f1_scores = 0.61\n",
      "Threshold = 0.60 | Precision = 0.659, Recall = 0.565, f1_scores = 0.61\n",
      "Threshold = 0.62 | Precision = 0.690, Recall = 0.549, f1_scores = 0.61\n",
      "Threshold = 0.64 | Precision = 0.728, Recall = 0.525, f1_scores = 0.61\n",
      "Threshold = 0.66 | Precision = 0.745, Recall = 0.512, f1_scores = 0.61\n",
      "Threshold = 0.68 | Precision = 0.744, Recall = 0.477, f1_scores = 0.58\n",
      "Threshold = 0.70 | Precision = 0.746, Recall = 0.459, f1_scores = 0.57\n",
      "Threshold = 0.72 | Precision = 0.759, Recall = 0.427, f1_scores = 0.55\n",
      "Threshold = 0.74 | Precision = 0.771, Recall = 0.411, f1_scores = 0.54\n",
      "Threshold = 0.76 | Precision = 0.791, Recall = 0.393, f1_scores = 0.52\n",
      "Threshold = 0.78 | Precision = 0.807, Recall = 0.377, f1_scores = 0.51\n",
      "Threshold = 0.80 | Precision = 0.829, Recall = 0.347, f1_scores = 0.49\n",
      "Threshold = 0.82 | Precision = 0.838, Recall = 0.316, f1_scores = 0.46\n",
      "Threshold = 0.84 | Precision = 0.851, Recall = 0.257, f1_scores = 0.40\n",
      "Threshold = 0.86 | Precision = 0.865, Recall = 0.220, f1_scores = 0.35\n",
      "Threshold = 0.88 | Precision = 0.878, Recall = 0.172, f1_scores = 0.29\n",
      "Threshold = 0.90 | Precision = 0.914, Recall = 0.141, f1_scores = 0.24\n",
      "Threshold = 0.92 | Precision = 0.903, Recall = 0.074, f1_scores = 0.14\n",
      "Threshold = 0.94 | Precision = 0.875, Recall = 0.056, f1_scores = 0.10\n",
      "Threshold = 0.96 | Precision = 0.889, Recall = 0.021, f1_scores = 0.04\n",
      "Threshold = 0.98 | Precision = 0.800, Recall = 0.011, f1_scores = 0.02\n"
     ]
    }
   ],
   "source": [
    "for threshold in np.arange(0, 1, 0.02):\n",
    "    predicted_valid = probabilities_one_valid > threshold \n",
    "    precision = precision_score(target_valid,predicted_valid)\n",
    "    recall = recall_score(target_valid,predicted_valid)\n",
    "    f1_scores = 2*recall*precision/(recall+precision)\n",
    "\n",
    "    print(\n",
    "        \t'Threshold = {:.2f} | Precision = {:.3f}, Recall = {:.3f}, f1_scores = {:.2f}'.format(\n",
    "            \tthreshold, precision, recall, f1_scores\n",
    "        \t)\n",
    "    \t)"
   ]
  },
  {
   "cell_type": "code",
   "execution_count": 55,
   "metadata": {},
   "outputs": [],
   "source": [
    "model = RandomForestClassifier(n_estimators = 68, random_state=12345)\n",
    "model.fit(features_downsampled, target_downsampled)\n",
    "predicted_valid = model.predict(features_valid)"
   ]
  },
  {
   "cell_type": "code",
   "execution_count": 56,
   "metadata": {},
   "outputs": [
    {
     "data": {
      "text/plain": [
       "0.6270783847980999"
      ]
     },
     "execution_count": 56,
     "metadata": {},
     "output_type": "execute_result"
    }
   ],
   "source": [
    "threshold = 0.5\n",
    "\n",
    "predicted_proba = model.predict_proba(features_valid)\n",
    "predicted = (predicted_proba [:,1] >= threshold).astype('int')\n",
    "\n",
    "f1_score(target_valid, predicted)"
   ]
  },
  {
   "cell_type": "code",
   "execution_count": 57,
   "metadata": {},
   "outputs": [
    {
     "data": {
      "text/plain": [
       "0.6262135922330097"
      ]
     },
     "execution_count": 57,
     "metadata": {},
     "output_type": "execute_result"
    }
   ],
   "source": [
    "f1_score(target_valid, predicted_valid)"
   ]
  },
  {
   "cell_type": "code",
   "execution_count": 58,
   "metadata": {},
   "outputs": [
    {
     "data": {
      "text/plain": [
       "0.1675977653631285"
      ]
     },
     "execution_count": 58,
     "metadata": {},
     "output_type": "execute_result"
    }
   ],
   "source": [
    "threshold = 0.5\n",
    "\n",
    "predicted_proba = model.predict_proba(features_test)\n",
    "predicted = (predicted_proba [:,1] >= threshold).astype('int')\n",
    "\n",
    "f1_score(target_test, predicted)"
   ]
  },
  {
   "cell_type": "code",
   "execution_count": 59,
   "metadata": {},
   "outputs": [
    {
     "data": {
      "text/plain": [
       "0.1675977653631285"
      ]
     },
     "execution_count": 59,
     "metadata": {},
     "output_type": "execute_result"
    }
   ],
   "source": [
    "predicted_test = model.predict(features_test)\n",
    "f1_score(target_test ,predicted_test)"
   ]
  },
  {
   "cell_type": "code",
   "execution_count": 60,
   "metadata": {},
   "outputs": [],
   "source": [
    "model = LogisticRegression(random_state=12345, solver='liblinear') \n",
    "model.fit(features_downsampled, target_downsampled)\n",
    "predicted_valid = model.predict(features_valid)"
   ]
  },
  {
   "cell_type": "code",
   "execution_count": 61,
   "metadata": {},
   "outputs": [
    {
     "data": {
      "text/plain": [
       "0.4975609756097561"
      ]
     },
     "execution_count": 61,
     "metadata": {},
     "output_type": "execute_result"
    }
   ],
   "source": [
    "f1_score(target_valid, predicted_valid)"
   ]
  },
  {
   "cell_type": "code",
   "execution_count": 62,
   "metadata": {},
   "outputs": [
    {
     "data": {
      "text/plain": [
       "0.3235023041474654"
      ]
     },
     "execution_count": 62,
     "metadata": {},
     "output_type": "execute_result"
    }
   ],
   "source": [
    "predicted_test = model.predict(features_test)\n",
    "f1_score(target_test, predicted_test)"
   ]
  },
  {
   "cell_type": "markdown",
   "metadata": {},
   "source": [
    "AUC_ROC"
   ]
  },
  {
   "cell_type": "code",
   "execution_count": 63,
   "metadata": {},
   "outputs": [
    {
     "data": {
      "text/plain": [
       "0.8609875252412762"
      ]
     },
     "execution_count": 63,
     "metadata": {},
     "output_type": "execute_result"
    }
   ],
   "source": [
    "model = RandomForestClassifier(n_estimators = 74, random_state=12345, class_weight='balanced')\n",
    "model.fit(features_upsampled, target_upsampled)\n",
    "probabilities_valid = model.predict_proba(features_valid)\n",
    "probabilities_one_valid = probabilities_valid[:, 1]\n",
    "auc_roc = roc_auc_score(target_valid, probabilities_one_valid)\n",
    "auc_roc"
   ]
  },
  {
   "cell_type": "markdown",
   "metadata": {},
   "source": [
    "The auc_roc score of random forest classifier is quit good (I think)"
   ]
  },
  {
   "cell_type": "code",
   "execution_count": 64,
   "metadata": {},
   "outputs": [],
   "source": [
    "fpr, tpr, thresholds = roc_curve(target_valid, probabilities_one_valid)"
   ]
  },
  {
   "cell_type": "code",
   "execution_count": 65,
   "metadata": {},
   "outputs": [
    {
     "data": {
      "image/png": "[encoded data removed]",
      "text/plain": [
       "<Figure size 432x288 with 1 Axes>"
      ]
     },
     "metadata": {
      "needs_background": "light"
     },
     "output_type": "display_data"
    }
   ],
   "source": [
    "plt.figure()\n",
    "plt.plot(fpr, tpr)\n",
    "plt.xlim([0.0, 1.0])\n",
    "plt.ylim([0.0, 1.0])\n",
    "plt.xlabel('False Positive Rate')\n",
    "plt.ylabel('True Positive Rate')\n",
    "plt.title('ROC curve')\n",
    "plt.show()\n",
    "plt.show()"
   ]
  },
  {
   "cell_type": "code",
   "execution_count": 66,
   "metadata": {},
   "outputs": [
    {
     "data": {
      "text/plain": [
       "0.7777479167318597"
      ]
     },
     "execution_count": 66,
     "metadata": {},
     "output_type": "execute_result"
    }
   ],
   "source": [
    "model = LogisticRegression(random_state=12345, solver='liblinear', class_weight='balanced')\n",
    "model.fit(features_upsampled, target_upsampled)\n",
    "probabilities_valid = model.predict_proba(features_valid)\n",
    "probabilities_one_valid = probabilities_valid[:, 1]\n",
    "auc_roc = roc_auc_score(target_valid, probabilities_one_valid)\n",
    "auc_roc"
   ]
  },
  {
   "cell_type": "markdown",
   "metadata": {},
   "source": [
    "Here we can see that logistic regression is less compitant."
   ]
  },
  {
   "cell_type": "code",
   "execution_count": 67,
   "metadata": {},
   "outputs": [],
   "source": [
    "fpr, tpr, thresholds = roc_curve(target_valid, probabilities_one_valid)"
   ]
  },
  {
   "cell_type": "code",
   "execution_count": 68,
   "metadata": {},
   "outputs": [
    {
     "data": {
      "image/png": "[encoded data removed]",
      "text/plain": [
       "<Figure size 432x288 with 1 Axes>"
      ]
     },
     "metadata": {
      "needs_background": "light"
     },
     "output_type": "display_data"
    }
   ],
   "source": [
    "plt.figure()\n",
    "plt.plot(fpr, tpr)\n",
    "plt.xlim([0.0, 1.0])\n",
    "plt.ylim([0.0, 1.0])\n",
    "plt.xlabel('False Positive Rate')\n",
    "plt.ylabel('True Positive Rate')\n",
    "plt.title('ROC curve')\n",
    "plt.show()\n",
    "plt.show()"
   ]
  },
  {
   "cell_type": "markdown",
   "metadata": {},
   "source": [
    "# Conclusion\n",
    "After going through the models and figuring out which one of them is the most suited one for prediction. I have failed to pass the 0.59 F1 score. LogisticRegression had a better F1 score than RandomForestClassifier but in ROC score the opposite is true, Why I do not know.\n",
    "## Additionally\n",
    "For now I will be happy just to know how to improve my skills and my models. "
   ]
  }
 ],
 "metadata": {
  "ExecuteTimeLog": [
   {
    "duration": 1102,
    "start_time": "2022-03-27T08:53:38.778Z"
   },
   {
    "duration": 29,
    "start_time": "2022-03-27T08:53:41.996Z"
   },
   {
    "duration": 1927,
    "start_time": "2022-03-27T08:53:43.016Z"
   },
   {
    "duration": 46,
    "start_time": "2022-03-27T08:53:53.500Z"
   },
   {
    "duration": 10,
    "start_time": "2022-03-27T08:54:34.557Z"
   },
   {
    "duration": 22,
    "start_time": "2022-03-27T08:54:44.469Z"
   },
   {
    "duration": 16,
    "start_time": "2022-03-27T08:57:16.690Z"
   },
   {
    "duration": 10,
    "start_time": "2022-03-27T08:57:24.882Z"
   },
   {
    "duration": 1109,
    "start_time": "2022-03-27T09:02:15.493Z"
   },
   {
    "duration": 45,
    "start_time": "2022-03-27T09:02:16.605Z"
   },
   {
    "duration": 218,
    "start_time": "2022-03-27T09:02:16.652Z"
   },
   {
    "duration": 180,
    "start_time": "2022-03-27T09:02:16.872Z"
   },
   {
    "duration": 267,
    "start_time": "2022-03-27T09:02:17.054Z"
   },
   {
    "duration": 0,
    "start_time": "2022-03-27T09:02:17.323Z"
   },
   {
    "duration": 3,
    "start_time": "2022-03-27T09:03:51.034Z"
   },
   {
    "duration": 39,
    "start_time": "2022-03-27T09:03:51.457Z"
   },
   {
    "duration": 18,
    "start_time": "2022-03-27T09:03:51.921Z"
   },
   {
    "duration": 210,
    "start_time": "2022-03-27T09:03:53.010Z"
   },
   {
    "duration": 95,
    "start_time": "2022-03-27T09:03:55.082Z"
   },
   {
    "duration": 161,
    "start_time": "2022-03-27T09:03:57.457Z"
   },
   {
    "duration": 4,
    "start_time": "2022-03-27T09:04:14.329Z"
   },
   {
    "duration": 23,
    "start_time": "2022-03-27T09:04:15.529Z"
   },
   {
    "duration": 1162,
    "start_time": "2022-03-27T09:04:23.624Z"
   },
   {
    "duration": 48,
    "start_time": "2022-03-27T09:04:24.788Z"
   },
   {
    "duration": 5,
    "start_time": "2022-03-27T09:04:24.837Z"
   },
   {
    "duration": 29,
    "start_time": "2022-03-27T09:04:24.843Z"
   },
   {
    "duration": 7,
    "start_time": "2022-03-27T09:04:24.874Z"
   },
   {
    "duration": 114,
    "start_time": "2022-03-27T09:04:24.882Z"
   },
   {
    "duration": 0,
    "start_time": "2022-03-27T09:04:24.998Z"
   },
   {
    "duration": 8,
    "start_time": "2022-03-27T09:06:55.832Z"
   },
   {
    "duration": 4,
    "start_time": "2022-03-27T09:07:05.238Z"
   },
   {
    "duration": 10,
    "start_time": "2022-03-27T09:07:21.007Z"
   },
   {
    "duration": 34,
    "start_time": "2022-03-27T09:07:25.648Z"
   },
   {
    "duration": 12,
    "start_time": "2022-03-27T09:07:59.662Z"
   },
   {
    "duration": 9,
    "start_time": "2022-03-27T09:09:56.316Z"
   },
   {
    "duration": 1196,
    "start_time": "2022-03-27T09:10:00.956Z"
   },
   {
    "duration": 50,
    "start_time": "2022-03-27T09:10:02.154Z"
   },
   {
    "duration": 4,
    "start_time": "2022-03-27T09:10:02.206Z"
   },
   {
    "duration": 58,
    "start_time": "2022-03-27T09:10:02.212Z"
   },
   {
    "duration": 14,
    "start_time": "2022-03-27T09:10:02.272Z"
   },
   {
    "duration": 32,
    "start_time": "2022-03-27T09:10:02.287Z"
   },
   {
    "duration": 5,
    "start_time": "2022-03-27T09:10:02.321Z"
   },
   {
    "duration": 34,
    "start_time": "2022-03-27T09:10:02.327Z"
   },
   {
    "duration": 8,
    "start_time": "2022-03-27T09:10:02.363Z"
   },
   {
    "duration": 44,
    "start_time": "2022-03-27T09:10:02.372Z"
   },
   {
    "duration": 20,
    "start_time": "2022-03-27T09:10:02.418Z"
   },
   {
    "duration": 17,
    "start_time": "2022-03-27T09:10:35.012Z"
   },
   {
    "duration": 17,
    "start_time": "2022-03-27T09:10:50.060Z"
   },
   {
    "duration": 1068,
    "start_time": "2022-03-27T09:13:39.904Z"
   },
   {
    "duration": 49,
    "start_time": "2022-03-27T09:13:40.973Z"
   },
   {
    "duration": 4,
    "start_time": "2022-03-27T09:13:41.024Z"
   },
   {
    "duration": 63,
    "start_time": "2022-03-27T09:13:41.030Z"
   },
   {
    "duration": 13,
    "start_time": "2022-03-27T09:13:41.096Z"
   },
   {
    "duration": 30,
    "start_time": "2022-03-27T09:13:41.110Z"
   },
   {
    "duration": 22,
    "start_time": "2022-03-27T09:13:41.142Z"
   },
   {
    "duration": 204,
    "start_time": "2022-03-27T09:13:41.165Z"
   },
   {
    "duration": 118,
    "start_time": "2022-03-27T09:13:41.371Z"
   },
   {
    "duration": 954,
    "start_time": "2022-03-27T09:13:41.491Z"
   },
   {
    "duration": 7,
    "start_time": "2022-03-27T09:13:42.447Z"
   },
   {
    "duration": 160,
    "start_time": "2022-03-27T09:13:59.699Z"
   },
   {
    "duration": 178,
    "start_time": "2022-03-27T09:14:07.924Z"
   },
   {
    "duration": 104,
    "start_time": "2022-03-27T09:16:26.298Z"
   },
   {
    "duration": 1106,
    "start_time": "2022-03-27T09:16:30.473Z"
   },
   {
    "duration": 48,
    "start_time": "2022-03-27T09:16:31.581Z"
   },
   {
    "duration": 4,
    "start_time": "2022-03-27T09:16:31.631Z"
   },
   {
    "duration": 41,
    "start_time": "2022-03-27T09:16:31.638Z"
   },
   {
    "duration": 12,
    "start_time": "2022-03-27T09:16:31.682Z"
   },
   {
    "duration": 10,
    "start_time": "2022-03-27T09:16:31.696Z"
   },
   {
    "duration": 31,
    "start_time": "2022-03-27T09:16:31.707Z"
   },
   {
    "duration": 26,
    "start_time": "2022-03-27T09:16:31.740Z"
   },
   {
    "duration": 9,
    "start_time": "2022-03-27T09:16:31.767Z"
   },
   {
    "duration": 49,
    "start_time": "2022-03-27T09:16:31.778Z"
   },
   {
    "duration": 8,
    "start_time": "2022-03-27T09:16:31.838Z"
   },
   {
    "duration": 1145,
    "start_time": "2022-03-27T09:17:40.835Z"
   },
   {
    "duration": 50,
    "start_time": "2022-03-27T09:17:41.982Z"
   },
   {
    "duration": 4,
    "start_time": "2022-03-27T09:17:42.034Z"
   },
   {
    "duration": 61,
    "start_time": "2022-03-27T09:17:42.040Z"
   },
   {
    "duration": 12,
    "start_time": "2022-03-27T09:17:42.103Z"
   },
   {
    "duration": 13,
    "start_time": "2022-03-27T09:17:42.116Z"
   },
   {
    "duration": 15,
    "start_time": "2022-03-27T09:17:42.132Z"
   },
   {
    "duration": 200,
    "start_time": "2022-03-27T09:17:42.149Z"
   },
   {
    "duration": 127,
    "start_time": "2022-03-27T09:17:42.352Z"
   },
   {
    "duration": 1053,
    "start_time": "2022-03-27T09:17:42.481Z"
   },
   {
    "duration": 8,
    "start_time": "2022-03-27T09:17:43.536Z"
   },
   {
    "duration": 1113,
    "start_time": "2022-03-27T09:18:00.486Z"
   },
   {
    "duration": 47,
    "start_time": "2022-03-27T09:18:01.602Z"
   },
   {
    "duration": 5,
    "start_time": "2022-03-27T09:18:01.651Z"
   },
   {
    "duration": 50,
    "start_time": "2022-03-27T09:18:01.658Z"
   },
   {
    "duration": 14,
    "start_time": "2022-03-27T09:18:01.710Z"
   },
   {
    "duration": 10,
    "start_time": "2022-03-27T09:18:01.738Z"
   },
   {
    "duration": 11,
    "start_time": "2022-03-27T09:18:01.750Z"
   },
   {
    "duration": 55,
    "start_time": "2022-03-27T09:18:01.763Z"
   },
   {
    "duration": 8,
    "start_time": "2022-03-27T09:18:01.820Z"
   },
   {
    "duration": 45,
    "start_time": "2022-03-27T09:18:01.830Z"
   },
   {
    "duration": 9,
    "start_time": "2022-03-27T09:18:01.877Z"
   },
   {
    "duration": 95,
    "start_time": "2022-03-27T09:27:40.652Z"
   },
   {
    "duration": 1078,
    "start_time": "2022-03-27T09:28:27.092Z"
   },
   {
    "duration": 50,
    "start_time": "2022-03-27T09:28:28.172Z"
   },
   {
    "duration": 4,
    "start_time": "2022-03-27T09:28:28.223Z"
   },
   {
    "duration": 39,
    "start_time": "2022-03-27T09:28:28.229Z"
   },
   {
    "duration": 12,
    "start_time": "2022-03-27T09:28:28.269Z"
   },
   {
    "duration": 8,
    "start_time": "2022-03-27T09:28:28.282Z"
   },
   {
    "duration": 4,
    "start_time": "2022-03-27T09:28:28.292Z"
   },
   {
    "duration": 42,
    "start_time": "2022-03-27T09:28:28.297Z"
   },
   {
    "duration": 104,
    "start_time": "2022-03-27T09:28:28.340Z"
   },
   {
    "duration": 0,
    "start_time": "2022-03-27T09:28:28.446Z"
   },
   {
    "duration": 0,
    "start_time": "2022-03-27T09:28:28.447Z"
   },
   {
    "duration": 0,
    "start_time": "2022-03-27T09:28:28.448Z"
   },
   {
    "duration": 8,
    "start_time": "2022-03-27T09:28:44.257Z"
   },
   {
    "duration": 37194,
    "start_time": "2022-03-27T09:28:44.897Z"
   },
   {
    "duration": 734,
    "start_time": "2022-03-27T09:29:30.160Z"
   },
   {
    "duration": 6,
    "start_time": "2022-03-27T09:29:32.566Z"
   },
   {
    "duration": 407,
    "start_time": "2022-03-27T09:30:55.268Z"
   },
   {
    "duration": 7,
    "start_time": "2022-03-27T09:30:57.118Z"
   },
   {
    "duration": 1147,
    "start_time": "2022-04-03T15:23:38.594Z"
   },
   {
    "duration": 49,
    "start_time": "2022-04-03T15:23:39.743Z"
   },
   {
    "duration": 4,
    "start_time": "2022-04-03T15:23:39.794Z"
   },
   {
    "duration": 36,
    "start_time": "2022-04-03T15:23:39.799Z"
   },
   {
    "duration": 11,
    "start_time": "2022-04-03T15:23:39.837Z"
   },
   {
    "duration": 11,
    "start_time": "2022-04-03T15:23:39.863Z"
   },
   {
    "duration": 5,
    "start_time": "2022-04-03T15:23:39.875Z"
   },
   {
    "duration": 23,
    "start_time": "2022-04-03T15:23:39.881Z"
   },
   {
    "duration": 7,
    "start_time": "2022-04-03T15:23:39.906Z"
   },
   {
    "duration": 36033,
    "start_time": "2022-04-03T15:23:39.915Z"
   },
   {
    "duration": 404,
    "start_time": "2022-04-03T15:24:15.950Z"
   },
   {
    "duration": 9,
    "start_time": "2022-04-03T15:24:16.356Z"
   },
   {
    "duration": 1193,
    "start_time": "2022-04-03T15:24:16.366Z"
   },
   {
    "duration": 941,
    "start_time": "2022-04-03T15:24:33.916Z"
   },
   {
    "duration": 1071,
    "start_time": "2022-04-03T15:24:39.676Z"
   },
   {
    "duration": 1129,
    "start_time": "2022-04-03T15:24:49.177Z"
   },
   {
    "duration": 1237,
    "start_time": "2022-04-03T15:25:32.938Z"
   },
   {
    "duration": 45,
    "start_time": "2022-04-03T15:25:34.177Z"
   },
   {
    "duration": 4,
    "start_time": "2022-04-03T15:25:34.223Z"
   },
   {
    "duration": 42,
    "start_time": "2022-04-03T15:25:34.229Z"
   },
   {
    "duration": 12,
    "start_time": "2022-04-03T15:25:34.273Z"
   },
   {
    "duration": 10,
    "start_time": "2022-04-03T15:25:34.287Z"
   },
   {
    "duration": 4,
    "start_time": "2022-04-03T15:25:34.299Z"
   },
   {
    "duration": 23,
    "start_time": "2022-04-03T15:25:34.305Z"
   },
   {
    "duration": 1405,
    "start_time": "2022-04-03T15:25:34.330Z"
   },
   {
    "duration": 9,
    "start_time": "2022-04-03T15:25:35.738Z"
   },
   {
    "duration": 36402,
    "start_time": "2022-04-03T15:25:35.748Z"
   },
   {
    "duration": 405,
    "start_time": "2022-04-03T15:26:12.151Z"
   },
   {
    "duration": 8,
    "start_time": "2022-04-03T15:26:12.558Z"
   },
   {
    "duration": 1261,
    "start_time": "2022-04-03T15:51:34.042Z"
   },
   {
    "duration": 45,
    "start_time": "2022-04-03T15:51:35.305Z"
   },
   {
    "duration": 11,
    "start_time": "2022-04-03T15:51:35.352Z"
   },
   {
    "duration": 35,
    "start_time": "2022-04-03T15:51:35.365Z"
   },
   {
    "duration": 12,
    "start_time": "2022-04-03T15:51:35.402Z"
   },
   {
    "duration": 10,
    "start_time": "2022-04-03T15:51:35.415Z"
   },
   {
    "duration": 4,
    "start_time": "2022-04-03T15:51:35.426Z"
   },
   {
    "duration": 50,
    "start_time": "2022-04-03T15:51:35.432Z"
   },
   {
    "duration": 1363,
    "start_time": "2022-04-03T15:51:35.484Z"
   },
   {
    "duration": 7,
    "start_time": "2022-04-03T15:51:36.849Z"
   },
   {
    "duration": 35818,
    "start_time": "2022-04-03T15:51:36.858Z"
   },
   {
    "duration": 399,
    "start_time": "2022-04-03T15:52:12.677Z"
   },
   {
    "duration": 5,
    "start_time": "2022-04-03T15:52:13.078Z"
   },
   {
    "duration": 102,
    "start_time": "2022-04-03T16:02:01.250Z"
   },
   {
    "duration": 1210,
    "start_time": "2022-04-03T16:02:05.970Z"
   },
   {
    "duration": 47,
    "start_time": "2022-04-03T16:02:07.183Z"
   },
   {
    "duration": 4,
    "start_time": "2022-04-03T16:02:07.232Z"
   },
   {
    "duration": 55,
    "start_time": "2022-04-03T16:02:07.237Z"
   },
   {
    "duration": 15,
    "start_time": "2022-04-03T16:02:07.295Z"
   },
   {
    "duration": 13,
    "start_time": "2022-04-03T16:02:07.312Z"
   },
   {
    "duration": 17,
    "start_time": "2022-04-03T16:02:07.327Z"
   },
   {
    "duration": 38,
    "start_time": "2022-04-03T16:02:07.346Z"
   },
   {
    "duration": 2001,
    "start_time": "2022-04-03T16:02:07.386Z"
   },
   {
    "duration": 9,
    "start_time": "2022-04-03T16:02:09.390Z"
   },
   {
    "duration": 4,
    "start_time": "2022-04-03T16:02:09.401Z"
   },
   {
    "duration": 12,
    "start_time": "2022-04-03T16:02:09.407Z"
   },
   {
    "duration": 90,
    "start_time": "2022-04-03T16:02:09.421Z"
   },
   {
    "duration": 109,
    "start_time": "2022-04-03T16:02:09.514Z"
   },
   {
    "duration": 0,
    "start_time": "2022-04-03T16:02:09.625Z"
   },
   {
    "duration": 0,
    "start_time": "2022-04-03T16:02:09.627Z"
   },
   {
    "duration": 0,
    "start_time": "2022-04-03T16:02:09.628Z"
   },
   {
    "duration": 0,
    "start_time": "2022-04-03T16:02:09.629Z"
   },
   {
    "duration": 1205,
    "start_time": "2022-04-03T16:02:39.333Z"
   },
   {
    "duration": 44,
    "start_time": "2022-04-03T16:02:40.540Z"
   },
   {
    "duration": 4,
    "start_time": "2022-04-03T16:02:40.586Z"
   },
   {
    "duration": 35,
    "start_time": "2022-04-03T16:02:40.592Z"
   },
   {
    "duration": 11,
    "start_time": "2022-04-03T16:02:40.630Z"
   },
   {
    "duration": 11,
    "start_time": "2022-04-03T16:02:40.662Z"
   },
   {
    "duration": 6,
    "start_time": "2022-04-03T16:02:40.674Z"
   },
   {
    "duration": 23,
    "start_time": "2022-04-03T16:02:40.681Z"
   },
   {
    "duration": 1322,
    "start_time": "2022-04-03T16:02:40.705Z"
   },
   {
    "duration": 10,
    "start_time": "2022-04-03T16:02:42.029Z"
   },
   {
    "duration": 4,
    "start_time": "2022-04-03T16:02:42.041Z"
   },
   {
    "duration": 13,
    "start_time": "2022-04-03T16:02:42.047Z"
   },
   {
    "duration": 11,
    "start_time": "2022-04-03T16:02:42.062Z"
   },
   {
    "duration": 9,
    "start_time": "2022-04-03T16:02:42.076Z"
   },
   {
    "duration": 6,
    "start_time": "2022-04-03T16:02:42.087Z"
   },
   {
    "duration": 50969,
    "start_time": "2022-04-03T16:02:42.096Z"
   },
   {
    "duration": 580,
    "start_time": "2022-04-03T16:03:33.067Z"
   },
   {
    "duration": 7,
    "start_time": "2022-04-03T16:03:33.649Z"
   },
   {
    "duration": 37,
    "start_time": "2022-04-03T17:03:24.894Z"
   },
   {
    "duration": 7,
    "start_time": "2022-04-03T17:03:25.716Z"
   },
   {
    "duration": 1162,
    "start_time": "2022-04-03T17:03:34.401Z"
   },
   {
    "duration": 47,
    "start_time": "2022-04-03T17:03:35.565Z"
   },
   {
    "duration": 3,
    "start_time": "2022-04-03T17:03:35.614Z"
   },
   {
    "duration": 44,
    "start_time": "2022-04-03T17:03:35.619Z"
   },
   {
    "duration": 11,
    "start_time": "2022-04-03T17:03:35.665Z"
   },
   {
    "duration": 9,
    "start_time": "2022-04-03T17:03:35.678Z"
   },
   {
    "duration": 4,
    "start_time": "2022-04-03T17:03:35.689Z"
   },
   {
    "duration": 30,
    "start_time": "2022-04-03T17:03:35.694Z"
   },
   {
    "duration": 1590,
    "start_time": "2022-04-03T17:03:35.726Z"
   },
   {
    "duration": 9,
    "start_time": "2022-04-03T17:03:37.318Z"
   },
   {
    "duration": 7,
    "start_time": "2022-04-03T17:03:37.329Z"
   },
   {
    "duration": 8,
    "start_time": "2022-04-03T17:03:37.338Z"
   },
   {
    "duration": 85,
    "start_time": "2022-04-03T17:03:37.347Z"
   },
   {
    "duration": 8,
    "start_time": "2022-04-03T17:03:37.434Z"
   },
   {
    "duration": 6,
    "start_time": "2022-04-03T17:03:37.443Z"
   },
   {
    "duration": 37374,
    "start_time": "2022-04-03T17:03:37.451Z"
   },
   {
    "duration": 422,
    "start_time": "2022-04-03T17:04:14.826Z"
   },
   {
    "duration": 15,
    "start_time": "2022-04-03T17:04:15.249Z"
   },
   {
    "duration": 34,
    "start_time": "2022-04-03T17:04:15.265Z"
   },
   {
    "duration": 8,
    "start_time": "2022-04-03T17:04:15.364Z"
   },
   {
    "duration": 270,
    "start_time": "2022-04-03T17:09:51.981Z"
   },
   {
    "duration": 1107,
    "start_time": "2022-04-03T17:10:08.869Z"
   },
   {
    "duration": 47,
    "start_time": "2022-04-03T17:10:09.978Z"
   },
   {
    "duration": 4,
    "start_time": "2022-04-03T17:10:10.028Z"
   },
   {
    "duration": 50,
    "start_time": "2022-04-03T17:10:10.035Z"
   },
   {
    "duration": 12,
    "start_time": "2022-04-03T17:10:10.087Z"
   },
   {
    "duration": 9,
    "start_time": "2022-04-03T17:10:10.101Z"
   },
   {
    "duration": 4,
    "start_time": "2022-04-03T17:10:10.112Z"
   },
   {
    "duration": 26,
    "start_time": "2022-04-03T17:10:10.117Z"
   },
   {
    "duration": 1310,
    "start_time": "2022-04-03T17:10:10.145Z"
   },
   {
    "duration": 8,
    "start_time": "2022-04-03T17:10:11.459Z"
   },
   {
    "duration": 5,
    "start_time": "2022-04-03T17:10:11.468Z"
   },
   {
    "duration": 7,
    "start_time": "2022-04-03T17:10:11.475Z"
   },
   {
    "duration": 8,
    "start_time": "2022-04-03T17:10:11.483Z"
   },
   {
    "duration": 7,
    "start_time": "2022-04-03T17:10:11.492Z"
   },
   {
    "duration": 5,
    "start_time": "2022-04-03T17:10:11.500Z"
   },
   {
    "duration": 37726,
    "start_time": "2022-04-03T17:10:11.506Z"
   },
   {
    "duration": 421,
    "start_time": "2022-04-03T17:10:49.234Z"
   },
   {
    "duration": 9,
    "start_time": "2022-04-03T17:10:49.657Z"
   },
   {
    "duration": 284,
    "start_time": "2022-04-03T17:10:49.667Z"
   },
   {
    "duration": 0,
    "start_time": "2022-04-03T17:10:49.953Z"
   },
   {
    "duration": 1278,
    "start_time": "2022-04-03T17:11:25.568Z"
   },
   {
    "duration": 48,
    "start_time": "2022-04-03T17:11:26.848Z"
   },
   {
    "duration": 5,
    "start_time": "2022-04-03T17:11:26.897Z"
   },
   {
    "duration": 46,
    "start_time": "2022-04-03T17:11:26.903Z"
   },
   {
    "duration": 18,
    "start_time": "2022-04-03T17:11:26.952Z"
   },
   {
    "duration": 11,
    "start_time": "2022-04-03T17:11:26.972Z"
   },
   {
    "duration": 10,
    "start_time": "2022-04-03T17:11:26.984Z"
   },
   {
    "duration": 29,
    "start_time": "2022-04-03T17:11:26.995Z"
   },
   {
    "duration": 1510,
    "start_time": "2022-04-03T17:11:27.025Z"
   },
   {
    "duration": 8,
    "start_time": "2022-04-03T17:11:28.537Z"
   },
   {
    "duration": 6,
    "start_time": "2022-04-03T17:11:28.546Z"
   },
   {
    "duration": 9,
    "start_time": "2022-04-03T17:11:28.553Z"
   },
   {
    "duration": 85,
    "start_time": "2022-04-03T17:11:28.563Z"
   },
   {
    "duration": 12,
    "start_time": "2022-04-03T17:11:28.651Z"
   },
   {
    "duration": 5,
    "start_time": "2022-04-03T17:11:28.664Z"
   },
   {
    "duration": 36202,
    "start_time": "2022-04-03T17:11:28.671Z"
   },
   {
    "duration": 415,
    "start_time": "2022-04-03T17:12:04.874Z"
   },
   {
    "duration": 6,
    "start_time": "2022-04-03T17:12:05.290Z"
   },
   {
    "duration": 195,
    "start_time": "2022-04-03T17:12:05.298Z"
   },
   {
    "duration": 5,
    "start_time": "2022-04-03T17:12:05.495Z"
   },
   {
    "duration": 43,
    "start_time": "2022-04-06T08:46:39.804Z"
   },
   {
    "duration": 1198,
    "start_time": "2022-04-06T08:46:46.224Z"
   },
   {
    "duration": 73,
    "start_time": "2022-04-06T08:46:47.424Z"
   },
   {
    "duration": 4,
    "start_time": "2022-04-06T08:46:47.499Z"
   },
   {
    "duration": 34,
    "start_time": "2022-04-06T08:46:47.506Z"
   },
   {
    "duration": 12,
    "start_time": "2022-04-06T08:46:47.542Z"
   },
   {
    "duration": 11,
    "start_time": "2022-04-06T08:46:47.581Z"
   },
   {
    "duration": 4,
    "start_time": "2022-04-06T08:46:47.594Z"
   },
   {
    "duration": 30,
    "start_time": "2022-04-06T08:46:47.600Z"
   },
   {
    "duration": 1871,
    "start_time": "2022-04-06T08:46:47.631Z"
   },
   {
    "duration": 11,
    "start_time": "2022-04-06T08:46:49.505Z"
   },
   {
    "duration": 6,
    "start_time": "2022-04-06T08:46:49.518Z"
   },
   {
    "duration": 9,
    "start_time": "2022-04-06T08:46:49.526Z"
   },
   {
    "duration": 10,
    "start_time": "2022-04-06T08:46:49.537Z"
   },
   {
    "duration": 7,
    "start_time": "2022-04-06T08:46:49.548Z"
   },
   {
    "duration": 7,
    "start_time": "2022-04-06T08:46:49.557Z"
   },
   {
    "duration": 42738,
    "start_time": "2022-04-06T08:46:49.582Z"
   },
   {
    "duration": 408,
    "start_time": "2022-04-06T08:47:32.322Z"
   },
   {
    "duration": 7,
    "start_time": "2022-04-06T08:47:32.732Z"
   },
   {
    "duration": 258,
    "start_time": "2022-04-06T08:47:32.740Z"
   },
   {
    "duration": 6,
    "start_time": "2022-04-06T08:47:32.999Z"
   },
   {
    "duration": 1207,
    "start_time": "2022-04-06T09:18:08.452Z"
   },
   {
    "duration": 61,
    "start_time": "2022-04-06T09:18:09.661Z"
   },
   {
    "duration": 4,
    "start_time": "2022-04-06T09:18:09.723Z"
   },
   {
    "duration": 35,
    "start_time": "2022-04-06T09:18:09.729Z"
   },
   {
    "duration": 19,
    "start_time": "2022-04-06T09:18:09.766Z"
   },
   {
    "duration": 8,
    "start_time": "2022-04-06T09:18:09.787Z"
   },
   {
    "duration": 4,
    "start_time": "2022-04-06T09:18:09.797Z"
   },
   {
    "duration": 27,
    "start_time": "2022-04-06T09:18:09.803Z"
   },
   {
    "duration": 1657,
    "start_time": "2022-04-06T09:18:09.832Z"
   },
   {
    "duration": 10,
    "start_time": "2022-04-06T09:18:11.491Z"
   },
   {
    "duration": 2,
    "start_time": "2022-04-06T09:18:11.503Z"
   },
   {
    "duration": 10,
    "start_time": "2022-04-06T09:18:11.507Z"
   },
   {
    "duration": 11,
    "start_time": "2022-04-06T09:18:11.519Z"
   },
   {
    "duration": 6,
    "start_time": "2022-04-06T09:18:11.532Z"
   },
   {
    "duration": 5,
    "start_time": "2022-04-06T09:18:11.540Z"
   },
   {
    "duration": 5,
    "start_time": "2022-04-06T09:18:11.547Z"
   },
   {
    "duration": 121,
    "start_time": "2022-04-06T09:18:11.554Z"
   },
   {
    "duration": 0,
    "start_time": "2022-04-06T09:18:11.676Z"
   },
   {
    "duration": 0,
    "start_time": "2022-04-06T09:18:11.681Z"
   },
   {
    "duration": 0,
    "start_time": "2022-04-06T09:18:11.682Z"
   },
   {
    "duration": 0,
    "start_time": "2022-04-06T09:18:11.683Z"
   },
   {
    "duration": 0,
    "start_time": "2022-04-06T09:18:11.684Z"
   },
   {
    "duration": 3,
    "start_time": "2022-04-06T09:18:51.655Z"
   },
   {
    "duration": 1170,
    "start_time": "2022-04-06T09:18:58.033Z"
   },
   {
    "duration": 50,
    "start_time": "2022-04-06T09:18:59.204Z"
   },
   {
    "duration": 4,
    "start_time": "2022-04-06T09:18:59.255Z"
   },
   {
    "duration": 39,
    "start_time": "2022-04-06T09:18:59.261Z"
   },
   {
    "duration": 11,
    "start_time": "2022-04-06T09:18:59.303Z"
   },
   {
    "duration": 10,
    "start_time": "2022-04-06T09:18:59.316Z"
   },
   {
    "duration": 4,
    "start_time": "2022-04-06T09:18:59.328Z"
   },
   {
    "duration": 22,
    "start_time": "2022-04-06T09:18:59.334Z"
   },
   {
    "duration": 1619,
    "start_time": "2022-04-06T09:18:59.357Z"
   },
   {
    "duration": 11,
    "start_time": "2022-04-06T09:19:00.978Z"
   },
   {
    "duration": 4,
    "start_time": "2022-04-06T09:19:00.990Z"
   },
   {
    "duration": 12,
    "start_time": "2022-04-06T09:19:00.995Z"
   },
   {
    "duration": 12,
    "start_time": "2022-04-06T09:19:01.008Z"
   },
   {
    "duration": 7,
    "start_time": "2022-04-06T09:19:01.023Z"
   },
   {
    "duration": 11,
    "start_time": "2022-04-06T09:19:01.032Z"
   },
   {
    "duration": 12,
    "start_time": "2022-04-06T09:19:01.045Z"
   },
   {
    "duration": 39,
    "start_time": "2022-04-06T09:19:01.059Z"
   },
   {
    "duration": 36035,
    "start_time": "2022-04-06T09:19:01.100Z"
   },
   {
    "duration": 462,
    "start_time": "2022-04-06T09:19:37.137Z"
   },
   {
    "duration": 7,
    "start_time": "2022-04-06T09:19:37.601Z"
   },
   {
    "duration": 189,
    "start_time": "2022-04-06T09:19:37.609Z"
   },
   {
    "duration": 5,
    "start_time": "2022-04-06T09:19:37.800Z"
   },
   {
    "duration": 416,
    "start_time": "2022-04-06T09:21:08.578Z"
   },
   {
    "duration": 5,
    "start_time": "2022-04-06T09:21:09.587Z"
   },
   {
    "duration": 231,
    "start_time": "2022-04-06T09:21:10.572Z"
   },
   {
    "duration": 5,
    "start_time": "2022-04-06T09:21:11.283Z"
   },
   {
    "duration": 5,
    "start_time": "2022-04-06T09:30:17.791Z"
   },
   {
    "duration": 1104,
    "start_time": "2022-04-06T09:33:19.613Z"
   },
   {
    "duration": 51,
    "start_time": "2022-04-06T09:33:20.719Z"
   },
   {
    "duration": 3,
    "start_time": "2022-04-06T09:33:20.772Z"
   },
   {
    "duration": 47,
    "start_time": "2022-04-06T09:33:20.777Z"
   },
   {
    "duration": 10,
    "start_time": "2022-04-06T09:33:20.826Z"
   },
   {
    "duration": 11,
    "start_time": "2022-04-06T09:33:20.838Z"
   },
   {
    "duration": 4,
    "start_time": "2022-04-06T09:33:20.851Z"
   },
   {
    "duration": 34,
    "start_time": "2022-04-06T09:33:20.856Z"
   },
   {
    "duration": 1618,
    "start_time": "2022-04-06T09:33:20.892Z"
   },
   {
    "duration": 12,
    "start_time": "2022-04-06T09:33:22.512Z"
   },
   {
    "duration": 3,
    "start_time": "2022-04-06T09:33:22.526Z"
   },
   {
    "duration": 7,
    "start_time": "2022-04-06T09:33:22.531Z"
   },
   {
    "duration": 14,
    "start_time": "2022-04-06T09:33:22.539Z"
   },
   {
    "duration": 6,
    "start_time": "2022-04-06T09:33:22.557Z"
   },
   {
    "duration": 17,
    "start_time": "2022-04-06T09:33:22.564Z"
   },
   {
    "duration": 3,
    "start_time": "2022-04-06T09:33:22.583Z"
   },
   {
    "duration": 28,
    "start_time": "2022-04-06T09:33:22.587Z"
   },
   {
    "duration": 27891,
    "start_time": "2022-04-06T09:33:22.617Z"
   },
   {
    "duration": 422,
    "start_time": "2022-04-06T09:33:50.510Z"
   },
   {
    "duration": 5,
    "start_time": "2022-04-06T09:33:50.933Z"
   },
   {
    "duration": 251,
    "start_time": "2022-04-06T09:33:50.940Z"
   },
   {
    "duration": 6,
    "start_time": "2022-04-06T09:33:51.193Z"
   },
   {
    "duration": 191,
    "start_time": "2022-04-06T09:34:21.431Z"
   },
   {
    "duration": 314,
    "start_time": "2022-04-06T09:38:24.288Z"
   },
   {
    "duration": 254,
    "start_time": "2022-04-06T09:43:54.334Z"
   },
   {
    "duration": 1164,
    "start_time": "2022-04-06T09:51:28.749Z"
   },
   {
    "duration": 49,
    "start_time": "2022-04-06T09:51:29.915Z"
   },
   {
    "duration": 4,
    "start_time": "2022-04-06T09:51:29.966Z"
   },
   {
    "duration": 38,
    "start_time": "2022-04-06T09:51:29.972Z"
   },
   {
    "duration": 11,
    "start_time": "2022-04-06T09:51:30.011Z"
   },
   {
    "duration": 10,
    "start_time": "2022-04-06T09:51:30.023Z"
   },
   {
    "duration": 4,
    "start_time": "2022-04-06T09:51:30.035Z"
   },
   {
    "duration": 41,
    "start_time": "2022-04-06T09:51:30.041Z"
   },
   {
    "duration": 1630,
    "start_time": "2022-04-06T09:51:30.083Z"
   },
   {
    "duration": 11,
    "start_time": "2022-04-06T09:51:31.716Z"
   },
   {
    "duration": 3,
    "start_time": "2022-04-06T09:51:31.729Z"
   },
   {
    "duration": 9,
    "start_time": "2022-04-06T09:51:31.734Z"
   },
   {
    "duration": 8,
    "start_time": "2022-04-06T09:51:31.744Z"
   },
   {
    "duration": 7,
    "start_time": "2022-04-06T09:51:31.753Z"
   },
   {
    "duration": 20,
    "start_time": "2022-04-06T09:51:31.761Z"
   },
   {
    "duration": 2,
    "start_time": "2022-04-06T09:51:31.783Z"
   },
   {
    "duration": 32,
    "start_time": "2022-04-06T09:51:31.787Z"
   },
   {
    "duration": 27484,
    "start_time": "2022-04-06T09:51:31.821Z"
   },
   {
    "duration": 428,
    "start_time": "2022-04-06T09:51:59.307Z"
   },
   {
    "duration": 5,
    "start_time": "2022-04-06T09:51:59.737Z"
   },
   {
    "duration": 297,
    "start_time": "2022-04-06T09:51:59.744Z"
   },
   {
    "duration": 12,
    "start_time": "2022-04-06T09:52:00.043Z"
   },
   {
    "duration": 10,
    "start_time": "2022-04-06T09:52:00.080Z"
   },
   {
    "duration": 13,
    "start_time": "2022-04-06T12:11:21.023Z"
   },
   {
    "duration": 101,
    "start_time": "2022-04-06T12:11:21.620Z"
   },
   {
    "duration": 14,
    "start_time": "2022-04-06T12:11:46.391Z"
   },
   {
    "duration": 15,
    "start_time": "2022-04-06T12:12:04.520Z"
   },
   {
    "duration": 16,
    "start_time": "2022-04-06T12:12:10.959Z"
   },
   {
    "duration": 5,
    "start_time": "2022-04-06T12:12:11.242Z"
   },
   {
    "duration": 17,
    "start_time": "2022-04-06T12:12:24.763Z"
   },
   {
    "duration": 15,
    "start_time": "2022-04-06T12:12:25.075Z"
   },
   {
    "duration": 14,
    "start_time": "2022-04-06T12:50:53.094Z"
   },
   {
    "duration": 5,
    "start_time": "2022-04-06T12:50:53.453Z"
   },
   {
    "duration": 17,
    "start_time": "2022-04-06T12:59:24.713Z"
   },
   {
    "duration": 13,
    "start_time": "2022-04-06T12:59:26.657Z"
   },
   {
    "duration": 25,
    "start_time": "2022-04-06T12:59:59.856Z"
   },
   {
    "duration": 15,
    "start_time": "2022-04-06T13:00:00.525Z"
   },
   {
    "duration": 16,
    "start_time": "2022-04-06T13:01:08.937Z"
   },
   {
    "duration": 15,
    "start_time": "2022-04-06T13:01:10.073Z"
   },
   {
    "duration": 16,
    "start_time": "2022-04-06T13:01:27.961Z"
   },
   {
    "duration": 1229,
    "start_time": "2022-04-06T13:02:47.421Z"
   },
   {
    "duration": 67,
    "start_time": "2022-04-06T13:02:48.652Z"
   },
   {
    "duration": 5,
    "start_time": "2022-04-06T13:02:48.720Z"
   },
   {
    "duration": 57,
    "start_time": "2022-04-06T13:02:48.727Z"
   },
   {
    "duration": 14,
    "start_time": "2022-04-06T13:02:48.785Z"
   },
   {
    "duration": 12,
    "start_time": "2022-04-06T13:02:48.801Z"
   },
   {
    "duration": 10,
    "start_time": "2022-04-06T13:02:48.814Z"
   },
   {
    "duration": 39,
    "start_time": "2022-04-06T13:02:48.825Z"
   },
   {
    "duration": 2312,
    "start_time": "2022-04-06T13:02:48.865Z"
   },
   {
    "duration": 15,
    "start_time": "2022-04-06T13:02:51.180Z"
   },
   {
    "duration": 4,
    "start_time": "2022-04-06T13:02:51.198Z"
   },
   {
    "duration": 16,
    "start_time": "2022-04-06T13:02:51.204Z"
   },
   {
    "duration": 20,
    "start_time": "2022-04-06T13:02:51.221Z"
   },
   {
    "duration": 26,
    "start_time": "2022-04-06T13:02:51.243Z"
   },
   {
    "duration": 18,
    "start_time": "2022-04-06T13:02:51.271Z"
   },
   {
    "duration": 14,
    "start_time": "2022-04-06T13:02:51.291Z"
   },
   {
    "duration": 60,
    "start_time": "2022-04-06T13:02:51.306Z"
   },
   {
    "duration": 28454,
    "start_time": "2022-04-06T13:02:51.367Z"
   },
   {
    "duration": 436,
    "start_time": "2022-04-06T13:03:19.823Z"
   },
   {
    "duration": 6,
    "start_time": "2022-04-06T13:03:20.260Z"
   },
   {
    "duration": 326,
    "start_time": "2022-04-06T13:03:20.268Z"
   },
   {
    "duration": 16,
    "start_time": "2022-04-06T13:03:20.595Z"
   },
   {
    "duration": 70,
    "start_time": "2022-04-06T13:03:20.613Z"
   },
   {
    "duration": 3,
    "start_time": "2022-04-06T13:04:14.980Z"
   },
   {
    "duration": 19,
    "start_time": "2022-04-06T13:04:15.487Z"
   },
   {
    "duration": 7,
    "start_time": "2022-04-06T13:04:15.931Z"
   },
   {
    "duration": 10,
    "start_time": "2022-04-06T13:05:25.220Z"
   },
   {
    "duration": 1230,
    "start_time": "2022-04-06T13:06:13.068Z"
   },
   {
    "duration": 60,
    "start_time": "2022-04-06T13:06:14.300Z"
   },
   {
    "duration": 5,
    "start_time": "2022-04-06T13:06:14.362Z"
   },
   {
    "duration": 47,
    "start_time": "2022-04-06T13:06:14.369Z"
   },
   {
    "duration": 14,
    "start_time": "2022-04-06T13:06:14.418Z"
   },
   {
    "duration": 12,
    "start_time": "2022-04-06T13:06:14.433Z"
   },
   {
    "duration": 5,
    "start_time": "2022-04-06T13:06:14.447Z"
   },
   {
    "duration": 47,
    "start_time": "2022-04-06T13:06:14.454Z"
   },
   {
    "duration": 2350,
    "start_time": "2022-04-06T13:06:14.503Z"
   },
   {
    "duration": 14,
    "start_time": "2022-04-06T13:06:16.856Z"
   },
   {
    "duration": 4,
    "start_time": "2022-04-06T13:06:16.872Z"
   },
   {
    "duration": 22,
    "start_time": "2022-04-06T13:06:16.877Z"
   },
   {
    "duration": 11,
    "start_time": "2022-04-06T13:06:16.901Z"
   },
   {
    "duration": 7,
    "start_time": "2022-04-06T13:06:16.914Z"
   },
   {
    "duration": 5,
    "start_time": "2022-04-06T13:06:16.923Z"
   },
   {
    "duration": 3,
    "start_time": "2022-04-06T13:06:16.929Z"
   },
   {
    "duration": 37,
    "start_time": "2022-04-06T13:06:16.934Z"
   },
   {
    "duration": 33831,
    "start_time": "2022-04-06T13:06:16.973Z"
   },
   {
    "duration": 468,
    "start_time": "2022-04-06T13:06:50.806Z"
   },
   {
    "duration": 13,
    "start_time": "2022-04-06T13:06:51.276Z"
   },
   {
    "duration": 48,
    "start_time": "2022-04-06T13:06:51.290Z"
   },
   {
    "duration": 3,
    "start_time": "2022-04-06T13:06:51.340Z"
   },
   {
    "duration": 63,
    "start_time": "2022-04-06T13:06:51.345Z"
   },
   {
    "duration": 79,
    "start_time": "2022-04-06T13:06:51.409Z"
   },
   {
    "duration": 108,
    "start_time": "2022-04-06T13:06:51.491Z"
   },
   {
    "duration": 1178,
    "start_time": "2022-04-06T13:52:10.117Z"
   },
   {
    "duration": 63,
    "start_time": "2022-04-06T13:52:11.297Z"
   },
   {
    "duration": 4,
    "start_time": "2022-04-06T13:52:11.361Z"
   },
   {
    "duration": 42,
    "start_time": "2022-04-06T13:52:11.367Z"
   },
   {
    "duration": 13,
    "start_time": "2022-04-06T13:52:11.411Z"
   },
   {
    "duration": 10,
    "start_time": "2022-04-06T13:52:11.426Z"
   },
   {
    "duration": 4,
    "start_time": "2022-04-06T13:52:11.438Z"
   },
   {
    "duration": 50,
    "start_time": "2022-04-06T13:52:11.444Z"
   },
   {
    "duration": 1677,
    "start_time": "2022-04-06T13:52:11.496Z"
   },
   {
    "duration": 20,
    "start_time": "2022-04-06T13:52:13.175Z"
   },
   {
    "duration": 7,
    "start_time": "2022-04-06T13:52:13.196Z"
   },
   {
    "duration": 10,
    "start_time": "2022-04-06T13:52:13.205Z"
   },
   {
    "duration": 14,
    "start_time": "2022-04-06T13:52:13.217Z"
   },
   {
    "duration": 5,
    "start_time": "2022-04-06T13:52:13.233Z"
   },
   {
    "duration": 8,
    "start_time": "2022-04-06T13:52:13.240Z"
   },
   {
    "duration": 2,
    "start_time": "2022-04-06T13:52:13.250Z"
   },
   {
    "duration": 27,
    "start_time": "2022-04-06T13:52:13.254Z"
   },
   {
    "duration": 28556,
    "start_time": "2022-04-06T13:52:13.282Z"
   },
   {
    "duration": 427,
    "start_time": "2022-04-06T13:52:41.839Z"
   },
   {
    "duration": 6,
    "start_time": "2022-04-06T13:52:42.267Z"
   },
   {
    "duration": 22,
    "start_time": "2022-04-06T13:52:42.288Z"
   },
   {
    "duration": 2,
    "start_time": "2022-04-06T13:52:42.311Z"
   },
   {
    "duration": 15,
    "start_time": "2022-04-06T13:52:42.315Z"
   },
   {
    "duration": 61,
    "start_time": "2022-04-06T13:52:42.332Z"
   },
   {
    "duration": 110,
    "start_time": "2022-04-06T13:52:42.394Z"
   },
   {
    "duration": 1199,
    "start_time": "2022-04-06T13:53:55.852Z"
   },
   {
    "duration": 54,
    "start_time": "2022-04-06T13:53:57.053Z"
   },
   {
    "duration": 3,
    "start_time": "2022-04-06T13:53:57.109Z"
   },
   {
    "duration": 34,
    "start_time": "2022-04-06T13:53:57.114Z"
   },
   {
    "duration": 11,
    "start_time": "2022-04-06T13:53:57.150Z"
   },
   {
    "duration": 27,
    "start_time": "2022-04-06T13:53:57.162Z"
   },
   {
    "duration": 10,
    "start_time": "2022-04-06T13:53:57.192Z"
   },
   {
    "duration": 23,
    "start_time": "2022-04-06T13:53:57.203Z"
   },
   {
    "duration": 1669,
    "start_time": "2022-04-06T13:53:57.228Z"
   },
   {
    "duration": 11,
    "start_time": "2022-04-06T13:53:58.899Z"
   },
   {
    "duration": 4,
    "start_time": "2022-04-06T13:53:58.911Z"
   },
   {
    "duration": 110,
    "start_time": "2022-04-06T13:53:58.916Z"
   },
   {
    "duration": 0,
    "start_time": "2022-04-06T13:53:59.028Z"
   },
   {
    "duration": 0,
    "start_time": "2022-04-06T13:53:59.029Z"
   },
   {
    "duration": 0,
    "start_time": "2022-04-06T13:53:59.030Z"
   },
   {
    "duration": 0,
    "start_time": "2022-04-06T13:53:59.030Z"
   },
   {
    "duration": 0,
    "start_time": "2022-04-06T13:53:59.031Z"
   },
   {
    "duration": 0,
    "start_time": "2022-04-06T13:53:59.032Z"
   },
   {
    "duration": 0,
    "start_time": "2022-04-06T13:53:59.033Z"
   },
   {
    "duration": 0,
    "start_time": "2022-04-06T13:53:59.034Z"
   },
   {
    "duration": 0,
    "start_time": "2022-04-06T13:53:59.035Z"
   },
   {
    "duration": 0,
    "start_time": "2022-04-06T13:53:59.036Z"
   },
   {
    "duration": 0,
    "start_time": "2022-04-06T13:53:59.037Z"
   },
   {
    "duration": 0,
    "start_time": "2022-04-06T13:53:59.038Z"
   },
   {
    "duration": 0,
    "start_time": "2022-04-06T13:53:59.038Z"
   },
   {
    "duration": 3,
    "start_time": "2022-04-06T13:54:16.594Z"
   },
   {
    "duration": 9,
    "start_time": "2022-04-06T13:54:17.198Z"
   },
   {
    "duration": 15,
    "start_time": "2022-04-06T13:54:18.972Z"
   },
   {
    "duration": 1108,
    "start_time": "2022-04-06T13:54:31.322Z"
   },
   {
    "duration": 56,
    "start_time": "2022-04-06T13:54:32.432Z"
   },
   {
    "duration": 3,
    "start_time": "2022-04-06T13:54:32.490Z"
   },
   {
    "duration": 40,
    "start_time": "2022-04-06T13:54:32.494Z"
   },
   {
    "duration": 10,
    "start_time": "2022-04-06T13:54:32.536Z"
   },
   {
    "duration": 9,
    "start_time": "2022-04-06T13:54:32.548Z"
   },
   {
    "duration": 4,
    "start_time": "2022-04-06T13:54:32.558Z"
   },
   {
    "duration": 40,
    "start_time": "2022-04-06T13:54:32.564Z"
   },
   {
    "duration": 1693,
    "start_time": "2022-04-06T13:54:32.605Z"
   },
   {
    "duration": 11,
    "start_time": "2022-04-06T13:54:34.299Z"
   },
   {
    "duration": 4,
    "start_time": "2022-04-06T13:54:34.312Z"
   },
   {
    "duration": 104,
    "start_time": "2022-04-06T13:54:34.318Z"
   },
   {
    "duration": 0,
    "start_time": "2022-04-06T13:54:34.424Z"
   },
   {
    "duration": 0,
    "start_time": "2022-04-06T13:54:34.425Z"
   },
   {
    "duration": 0,
    "start_time": "2022-04-06T13:54:34.426Z"
   },
   {
    "duration": 0,
    "start_time": "2022-04-06T13:54:34.427Z"
   },
   {
    "duration": 0,
    "start_time": "2022-04-06T13:54:34.428Z"
   },
   {
    "duration": 0,
    "start_time": "2022-04-06T13:54:34.429Z"
   },
   {
    "duration": 0,
    "start_time": "2022-04-06T13:54:34.430Z"
   },
   {
    "duration": 0,
    "start_time": "2022-04-06T13:54:34.431Z"
   },
   {
    "duration": 0,
    "start_time": "2022-04-06T13:54:34.432Z"
   },
   {
    "duration": 0,
    "start_time": "2022-04-06T13:54:34.433Z"
   },
   {
    "duration": 0,
    "start_time": "2022-04-06T13:54:34.434Z"
   },
   {
    "duration": 0,
    "start_time": "2022-04-06T13:54:34.435Z"
   },
   {
    "duration": 0,
    "start_time": "2022-04-06T13:54:34.436Z"
   },
   {
    "duration": 4,
    "start_time": "2022-04-06T13:54:43.298Z"
   },
   {
    "duration": 5,
    "start_time": "2022-04-06T13:54:44.059Z"
   },
   {
    "duration": 8,
    "start_time": "2022-04-06T13:54:44.755Z"
   },
   {
    "duration": 5,
    "start_time": "2022-04-06T13:54:45.819Z"
   },
   {
    "duration": 6,
    "start_time": "2022-04-06T13:54:46.550Z"
   },
   {
    "duration": 1157,
    "start_time": "2022-04-06T13:55:22.967Z"
   },
   {
    "duration": 68,
    "start_time": "2022-04-06T13:55:24.126Z"
   },
   {
    "duration": 5,
    "start_time": "2022-04-06T13:55:24.195Z"
   },
   {
    "duration": 40,
    "start_time": "2022-04-06T13:55:24.201Z"
   },
   {
    "duration": 11,
    "start_time": "2022-04-06T13:55:24.243Z"
   },
   {
    "duration": 9,
    "start_time": "2022-04-06T13:55:24.256Z"
   },
   {
    "duration": 21,
    "start_time": "2022-04-06T13:55:24.266Z"
   },
   {
    "duration": 29,
    "start_time": "2022-04-06T13:55:24.288Z"
   },
   {
    "duration": 1704,
    "start_time": "2022-04-06T13:55:24.318Z"
   },
   {
    "duration": 10,
    "start_time": "2022-04-06T13:55:26.024Z"
   },
   {
    "duration": 3,
    "start_time": "2022-04-06T13:55:26.036Z"
   },
   {
    "duration": 25,
    "start_time": "2022-04-06T13:55:26.040Z"
   },
   {
    "duration": 3,
    "start_time": "2022-04-06T13:55:26.066Z"
   },
   {
    "duration": 6,
    "start_time": "2022-04-06T13:55:26.071Z"
   },
   {
    "duration": 18,
    "start_time": "2022-04-06T13:55:26.078Z"
   },
   {
    "duration": 5,
    "start_time": "2022-04-06T13:55:26.098Z"
   },
   {
    "duration": 6,
    "start_time": "2022-04-06T13:55:26.104Z"
   },
   {
    "duration": 29708,
    "start_time": "2022-04-06T13:55:26.111Z"
   },
   {
    "duration": 543,
    "start_time": "2022-04-06T13:55:55.821Z"
   },
   {
    "duration": 23,
    "start_time": "2022-04-06T13:55:56.366Z"
   },
   {
    "duration": 23,
    "start_time": "2022-04-06T13:55:56.391Z"
   },
   {
    "duration": 2,
    "start_time": "2022-04-06T13:55:56.416Z"
   },
   {
    "duration": 71,
    "start_time": "2022-04-06T13:55:56.419Z"
   },
   {
    "duration": 10,
    "start_time": "2022-04-06T13:55:56.492Z"
   },
   {
    "duration": 21,
    "start_time": "2022-04-06T13:55:56.581Z"
   },
   {
    "duration": 1347,
    "start_time": "2022-04-06T13:56:36.103Z"
   },
   {
    "duration": 53,
    "start_time": "2022-04-06T13:56:37.452Z"
   },
   {
    "duration": 4,
    "start_time": "2022-04-06T13:56:37.506Z"
   },
   {
    "duration": 37,
    "start_time": "2022-04-06T13:56:37.511Z"
   },
   {
    "duration": 10,
    "start_time": "2022-04-06T13:56:37.550Z"
   },
   {
    "duration": 25,
    "start_time": "2022-04-06T13:56:37.562Z"
   },
   {
    "duration": 12,
    "start_time": "2022-04-06T13:56:37.589Z"
   },
   {
    "duration": 22,
    "start_time": "2022-04-06T13:56:37.602Z"
   },
   {
    "duration": 1668,
    "start_time": "2022-04-06T13:56:37.626Z"
   },
   {
    "duration": 10,
    "start_time": "2022-04-06T13:56:39.296Z"
   },
   {
    "duration": 2,
    "start_time": "2022-04-06T13:56:39.308Z"
   },
   {
    "duration": 28,
    "start_time": "2022-04-06T13:56:39.312Z"
   },
   {
    "duration": 3,
    "start_time": "2022-04-06T13:56:39.342Z"
   },
   {
    "duration": 7,
    "start_time": "2022-04-06T13:56:39.347Z"
   },
   {
    "duration": 8,
    "start_time": "2022-04-06T13:56:39.356Z"
   },
   {
    "duration": 18,
    "start_time": "2022-04-06T13:56:39.365Z"
   },
   {
    "duration": 7,
    "start_time": "2022-04-06T13:56:39.384Z"
   },
   {
    "duration": 56503,
    "start_time": "2022-04-06T13:56:39.393Z"
   },
   {
    "duration": 445,
    "start_time": "2022-04-06T13:57:35.898Z"
   },
   {
    "duration": 5,
    "start_time": "2022-04-06T13:57:36.345Z"
   },
   {
    "duration": 20,
    "start_time": "2022-04-06T13:57:36.351Z"
   },
   {
    "duration": 9,
    "start_time": "2022-04-06T13:57:36.381Z"
   },
   {
    "duration": 26,
    "start_time": "2022-04-06T13:57:36.391Z"
   },
   {
    "duration": 78,
    "start_time": "2022-04-06T13:57:36.419Z"
   },
   {
    "duration": 106,
    "start_time": "2022-04-06T13:57:36.499Z"
   },
   {
    "duration": 1185,
    "start_time": "2022-04-06T14:17:04.440Z"
   },
   {
    "duration": 49,
    "start_time": "2022-04-06T14:17:05.627Z"
   },
   {
    "duration": 12,
    "start_time": "2022-04-06T14:17:05.677Z"
   },
   {
    "duration": 43,
    "start_time": "2022-04-06T14:17:05.690Z"
   },
   {
    "duration": 11,
    "start_time": "2022-04-06T14:17:05.735Z"
   },
   {
    "duration": 10,
    "start_time": "2022-04-06T14:17:05.747Z"
   },
   {
    "duration": 6,
    "start_time": "2022-04-06T14:17:05.758Z"
   },
   {
    "duration": 37,
    "start_time": "2022-04-06T14:17:05.766Z"
   },
   {
    "duration": 1661,
    "start_time": "2022-04-06T14:17:05.804Z"
   },
   {
    "duration": 10,
    "start_time": "2022-04-06T14:17:07.467Z"
   },
   {
    "duration": 2,
    "start_time": "2022-04-06T14:17:07.479Z"
   },
   {
    "duration": 33,
    "start_time": "2022-04-06T14:17:07.484Z"
   },
   {
    "duration": 3,
    "start_time": "2022-04-06T14:17:07.519Z"
   },
   {
    "duration": 6,
    "start_time": "2022-04-06T14:17:07.524Z"
   },
   {
    "duration": 4,
    "start_time": "2022-04-06T14:17:07.532Z"
   },
   {
    "duration": 10,
    "start_time": "2022-04-06T14:17:07.538Z"
   },
   {
    "duration": 8,
    "start_time": "2022-04-06T14:17:07.550Z"
   },
   {
    "duration": 56448,
    "start_time": "2022-04-06T14:17:07.559Z"
   },
   {
    "duration": 459,
    "start_time": "2022-04-06T14:18:04.008Z"
   },
   {
    "duration": 15,
    "start_time": "2022-04-06T14:18:04.469Z"
   },
   {
    "duration": 24,
    "start_time": "2022-04-06T14:18:04.486Z"
   },
   {
    "duration": 73,
    "start_time": "2022-04-06T14:18:04.512Z"
   },
   {
    "duration": 10,
    "start_time": "2022-04-06T14:18:04.586Z"
   },
   {
    "duration": 105,
    "start_time": "2022-04-06T14:18:04.598Z"
   },
   {
    "duration": 798,
    "start_time": "2022-04-06T14:23:14.541Z"
   },
   {
    "duration": 7,
    "start_time": "2022-04-06T14:23:16.069Z"
   },
   {
    "duration": 21,
    "start_time": "2022-04-06T14:23:17.494Z"
   },
   {
    "duration": 21,
    "start_time": "2022-04-06T14:23:41.002Z"
   },
   {
    "duration": 6,
    "start_time": "2022-04-06T14:23:42.033Z"
   },
   {
    "duration": 11,
    "start_time": "2022-04-06T14:23:44.010Z"
   },
   {
    "duration": 22,
    "start_time": "2022-04-06T14:23:59.811Z"
   },
   {
    "duration": 108,
    "start_time": "2022-04-06T14:24:09.703Z"
   },
   {
    "duration": 1159,
    "start_time": "2022-04-06T14:24:24.952Z"
   },
   {
    "duration": 48,
    "start_time": "2022-04-06T14:24:26.113Z"
   },
   {
    "duration": 3,
    "start_time": "2022-04-06T14:24:26.163Z"
   },
   {
    "duration": 38,
    "start_time": "2022-04-06T14:24:26.167Z"
   },
   {
    "duration": 10,
    "start_time": "2022-04-06T14:24:26.207Z"
   },
   {
    "duration": 9,
    "start_time": "2022-04-06T14:24:26.219Z"
   },
   {
    "duration": 4,
    "start_time": "2022-04-06T14:24:26.229Z"
   },
   {
    "duration": 22,
    "start_time": "2022-04-06T14:24:26.234Z"
   },
   {
    "duration": 1676,
    "start_time": "2022-04-06T14:24:26.258Z"
   },
   {
    "duration": 11,
    "start_time": "2022-04-06T14:24:27.935Z"
   },
   {
    "duration": 2,
    "start_time": "2022-04-06T14:24:27.948Z"
   },
   {
    "duration": 26,
    "start_time": "2022-04-06T14:24:27.952Z"
   },
   {
    "duration": 9,
    "start_time": "2022-04-06T14:24:27.980Z"
   },
   {
    "duration": 12,
    "start_time": "2022-04-06T14:24:27.993Z"
   },
   {
    "duration": 8,
    "start_time": "2022-04-06T14:24:28.007Z"
   },
   {
    "duration": 6,
    "start_time": "2022-04-06T14:24:28.017Z"
   },
   {
    "duration": 6,
    "start_time": "2022-04-06T14:24:28.025Z"
   },
   {
    "duration": 54666,
    "start_time": "2022-04-06T14:24:28.032Z"
   },
   {
    "duration": 804,
    "start_time": "2022-04-06T14:25:22.702Z"
   },
   {
    "duration": 6,
    "start_time": "2022-04-06T14:25:23.508Z"
   },
   {
    "duration": 21,
    "start_time": "2022-04-06T14:25:23.515Z"
   },
   {
    "duration": 44,
    "start_time": "2022-04-06T14:25:23.538Z"
   },
   {
    "duration": 7,
    "start_time": "2022-04-06T14:25:23.584Z"
   },
   {
    "duration": 110,
    "start_time": "2022-04-06T14:25:23.593Z"
   },
   {
    "duration": 200,
    "start_time": "2022-04-06T14:25:23.705Z"
   },
   {
    "duration": 84,
    "start_time": "2022-04-06T14:25:23.908Z"
   },
   {
    "duration": 111,
    "start_time": "2022-04-06T14:25:40.444Z"
   },
   {
    "duration": 1453,
    "start_time": "2022-04-06T14:25:59.725Z"
   },
   {
    "duration": 58,
    "start_time": "2022-04-06T14:26:01.180Z"
   },
   {
    "duration": 4,
    "start_time": "2022-04-06T14:26:01.240Z"
   },
   {
    "duration": 50,
    "start_time": "2022-04-06T14:26:01.245Z"
   },
   {
    "duration": 10,
    "start_time": "2022-04-06T14:26:01.298Z"
   },
   {
    "duration": 8,
    "start_time": "2022-04-06T14:26:01.309Z"
   },
   {
    "duration": 21,
    "start_time": "2022-04-06T14:26:01.318Z"
   },
   {
    "duration": 28,
    "start_time": "2022-04-06T14:26:01.341Z"
   },
   {
    "duration": 1438,
    "start_time": "2022-04-06T14:26:01.371Z"
   },
   {
    "duration": 10,
    "start_time": "2022-04-06T14:26:02.811Z"
   },
   {
    "duration": 28,
    "start_time": "2022-04-06T14:26:02.840Z"
   },
   {
    "duration": 41,
    "start_time": "2022-04-06T14:26:02.881Z"
   },
   {
    "duration": 3,
    "start_time": "2022-04-06T14:26:02.923Z"
   },
   {
    "duration": 7,
    "start_time": "2022-04-06T14:26:02.929Z"
   },
   {
    "duration": 7,
    "start_time": "2022-04-06T14:26:02.938Z"
   },
   {
    "duration": 7,
    "start_time": "2022-04-06T14:26:02.946Z"
   },
   {
    "duration": 5,
    "start_time": "2022-04-06T14:26:02.954Z"
   },
   {
    "duration": 56419,
    "start_time": "2022-04-06T14:26:02.960Z"
   },
   {
    "duration": 794,
    "start_time": "2022-04-06T14:26:59.385Z"
   },
   {
    "duration": 5,
    "start_time": "2022-04-06T14:27:00.181Z"
   },
   {
    "duration": 34,
    "start_time": "2022-04-06T14:27:00.188Z"
   },
   {
    "duration": 22,
    "start_time": "2022-04-06T14:27:00.223Z"
   },
   {
    "duration": 133,
    "start_time": "2022-04-06T14:27:00.247Z"
   },
   {
    "duration": 14,
    "start_time": "2022-04-06T14:27:00.393Z"
   },
   {
    "duration": 197,
    "start_time": "2022-04-06T14:27:00.409Z"
   },
   {
    "duration": 170,
    "start_time": "2022-04-06T14:27:00.611Z"
   },
   {
    "duration": 107,
    "start_time": "2022-04-06T14:27:00.786Z"
   },
   {
    "duration": 305,
    "start_time": "2022-04-06T14:27:15.966Z"
   },
   {
    "duration": 1443,
    "start_time": "2022-04-06T14:27:35.471Z"
   },
   {
    "duration": 46,
    "start_time": "2022-04-06T14:27:36.916Z"
   },
   {
    "duration": 3,
    "start_time": "2022-04-06T14:27:36.964Z"
   },
   {
    "duration": 37,
    "start_time": "2022-04-06T14:27:36.969Z"
   },
   {
    "duration": 11,
    "start_time": "2022-04-06T14:27:37.008Z"
   },
   {
    "duration": 8,
    "start_time": "2022-04-06T14:27:37.021Z"
   },
   {
    "duration": 5,
    "start_time": "2022-04-06T14:27:37.030Z"
   },
   {
    "duration": 44,
    "start_time": "2022-04-06T14:27:37.036Z"
   },
   {
    "duration": 1387,
    "start_time": "2022-04-06T14:27:37.082Z"
   },
   {
    "duration": 10,
    "start_time": "2022-04-06T14:27:38.471Z"
   },
   {
    "duration": 5,
    "start_time": "2022-04-06T14:27:38.482Z"
   },
   {
    "duration": 35,
    "start_time": "2022-04-06T14:27:38.489Z"
   },
   {
    "duration": 3,
    "start_time": "2022-04-06T14:27:38.527Z"
   },
   {
    "duration": 8,
    "start_time": "2022-04-06T14:27:38.532Z"
   },
   {
    "duration": 5,
    "start_time": "2022-04-06T14:27:38.542Z"
   },
   {
    "duration": 5,
    "start_time": "2022-04-06T14:27:38.548Z"
   },
   {
    "duration": 6,
    "start_time": "2022-04-06T14:27:38.554Z"
   },
   {
    "duration": 55303,
    "start_time": "2022-04-06T14:27:38.561Z"
   },
   {
    "duration": 842,
    "start_time": "2022-04-06T14:28:33.866Z"
   },
   {
    "duration": 7,
    "start_time": "2022-04-06T14:28:34.709Z"
   },
   {
    "duration": 21,
    "start_time": "2022-04-06T14:28:34.718Z"
   },
   {
    "duration": 60,
    "start_time": "2022-04-06T14:28:34.741Z"
   },
   {
    "duration": 90,
    "start_time": "2022-04-06T14:28:34.805Z"
   },
   {
    "duration": 93,
    "start_time": "2022-04-06T14:28:34.900Z"
   },
   {
    "duration": 226,
    "start_time": "2022-04-06T14:28:34.995Z"
   },
   {
    "duration": 9,
    "start_time": "2022-04-06T14:28:35.289Z"
   },
   {
    "duration": 200,
    "start_time": "2022-04-06T14:28:35.301Z"
   },
   {
    "duration": 1594,
    "start_time": "2022-04-06T14:29:52.078Z"
   },
   {
    "duration": 51,
    "start_time": "2022-04-06T14:29:53.674Z"
   },
   {
    "duration": 4,
    "start_time": "2022-04-06T14:29:53.727Z"
   },
   {
    "duration": 34,
    "start_time": "2022-04-06T14:29:53.733Z"
   },
   {
    "duration": 15,
    "start_time": "2022-04-06T14:29:53.769Z"
   },
   {
    "duration": 8,
    "start_time": "2022-04-06T14:29:53.786Z"
   },
   {
    "duration": 6,
    "start_time": "2022-04-06T14:29:53.796Z"
   },
   {
    "duration": 22,
    "start_time": "2022-04-06T14:29:53.804Z"
   },
   {
    "duration": 1565,
    "start_time": "2022-04-06T14:29:53.828Z"
   },
   {
    "duration": 12,
    "start_time": "2022-04-06T14:29:55.395Z"
   },
   {
    "duration": 3,
    "start_time": "2022-04-06T14:29:55.408Z"
   },
   {
    "duration": 26,
    "start_time": "2022-04-06T14:29:55.412Z"
   },
   {
    "duration": 3,
    "start_time": "2022-04-06T14:29:55.439Z"
   },
   {
    "duration": 8,
    "start_time": "2022-04-06T14:29:55.444Z"
   },
   {
    "duration": 5,
    "start_time": "2022-04-06T14:29:55.453Z"
   },
   {
    "duration": 5,
    "start_time": "2022-04-06T14:29:55.459Z"
   },
   {
    "duration": 22,
    "start_time": "2022-04-06T14:29:55.465Z"
   },
   {
    "duration": 57250,
    "start_time": "2022-04-06T14:29:55.489Z"
   },
   {
    "duration": 901,
    "start_time": "2022-04-06T14:30:52.741Z"
   },
   {
    "duration": 5,
    "start_time": "2022-04-06T14:30:53.644Z"
   },
   {
    "duration": 31,
    "start_time": "2022-04-06T14:30:53.651Z"
   },
   {
    "duration": 109,
    "start_time": "2022-04-06T14:30:53.683Z"
   },
   {
    "duration": 95,
    "start_time": "2022-04-06T14:30:53.796Z"
   },
   {
    "duration": 11,
    "start_time": "2022-04-06T14:30:53.895Z"
   },
   {
    "duration": 955,
    "start_time": "2022-04-06T14:30:53.909Z"
   },
   {
    "duration": 4,
    "start_time": "2022-04-06T14:30:54.865Z"
   },
   {
    "duration": 124,
    "start_time": "2022-04-06T14:30:54.870Z"
   },
   {
    "duration": 26,
    "start_time": "2022-04-06T14:30:54.997Z"
   },
   {
    "duration": 7,
    "start_time": "2022-04-06T14:30:55.089Z"
   },
   {
    "duration": 183,
    "start_time": "2022-04-06T14:30:55.100Z"
   },
   {
    "duration": 190,
    "start_time": "2022-04-06T14:51:36.570Z"
   },
   {
    "duration": 5981,
    "start_time": "2022-04-08T09:00:40.467Z"
   },
   {
    "duration": 42,
    "start_time": "2022-04-08T09:00:46.449Z"
   },
   {
    "duration": 5,
    "start_time": "2022-04-08T09:00:46.493Z"
   },
   {
    "duration": 60,
    "start_time": "2022-04-08T09:00:46.500Z"
   },
   {
    "duration": 12,
    "start_time": "2022-04-08T09:00:46.561Z"
   },
   {
    "duration": 9,
    "start_time": "2022-04-08T09:00:46.575Z"
   },
   {
    "duration": 5,
    "start_time": "2022-04-08T09:00:46.585Z"
   },
   {
    "duration": 45,
    "start_time": "2022-04-08T09:00:46.591Z"
   },
   {
    "duration": 1466,
    "start_time": "2022-04-08T09:00:46.638Z"
   },
   {
    "duration": 26,
    "start_time": "2022-04-08T09:00:48.107Z"
   },
   {
    "duration": 2,
    "start_time": "2022-04-08T09:00:48.135Z"
   },
   {
    "duration": 29,
    "start_time": "2022-04-08T09:00:48.139Z"
   },
   {
    "duration": 3,
    "start_time": "2022-04-08T09:00:48.170Z"
   },
   {
    "duration": 10,
    "start_time": "2022-04-08T09:00:48.174Z"
   },
   {
    "duration": 7,
    "start_time": "2022-04-08T09:00:48.186Z"
   },
   {
    "duration": 6,
    "start_time": "2022-04-08T09:00:48.195Z"
   },
   {
    "duration": 30,
    "start_time": "2022-04-08T09:00:48.203Z"
   },
   {
    "duration": 57802,
    "start_time": "2022-04-08T09:00:48.235Z"
   },
   {
    "duration": 832,
    "start_time": "2022-04-08T09:01:46.039Z"
   },
   {
    "duration": 6,
    "start_time": "2022-04-08T09:01:46.873Z"
   },
   {
    "duration": 22,
    "start_time": "2022-04-08T09:01:46.880Z"
   },
   {
    "duration": 46,
    "start_time": "2022-04-08T09:01:46.903Z"
   },
   {
    "duration": 89,
    "start_time": "2022-04-08T09:01:46.951Z"
   },
   {
    "duration": 98,
    "start_time": "2022-04-08T09:01:47.042Z"
   },
   {
    "duration": 1023,
    "start_time": "2022-04-08T09:01:47.142Z"
   },
   {
    "duration": 4,
    "start_time": "2022-04-08T09:01:48.166Z"
   },
   {
    "duration": 114,
    "start_time": "2022-04-08T09:01:48.172Z"
   },
   {
    "duration": 45,
    "start_time": "2022-04-08T09:01:48.289Z"
   },
   {
    "duration": 5,
    "start_time": "2022-04-08T09:01:48.337Z"
   },
   {
    "duration": 161,
    "start_time": "2022-04-08T09:01:48.433Z"
   },
   {
    "duration": 2193,
    "start_time": "2022-04-09T20:23:11.294Z"
   },
   {
    "duration": 65,
    "start_time": "2022-04-09T20:23:13.490Z"
   },
   {
    "duration": 18,
    "start_time": "2022-04-09T20:23:13.557Z"
   },
   {
    "duration": 57,
    "start_time": "2022-04-09T20:23:13.578Z"
   },
   {
    "duration": 49,
    "start_time": "2022-04-09T20:23:13.638Z"
   },
   {
    "duration": 11,
    "start_time": "2022-04-09T20:23:13.689Z"
   },
   {
    "duration": 7,
    "start_time": "2022-04-09T20:23:13.702Z"
   },
   {
    "duration": 73,
    "start_time": "2022-04-09T20:23:13.711Z"
   },
   {
    "duration": 2572,
    "start_time": "2022-04-09T20:23:13.786Z"
   },
   {
    "duration": 164,
    "start_time": "2022-04-09T20:23:16.361Z"
   },
   {
    "duration": 0,
    "start_time": "2022-04-09T20:23:16.528Z"
   },
   {
    "duration": 0,
    "start_time": "2022-04-09T20:23:16.530Z"
   },
   {
    "duration": 0,
    "start_time": "2022-04-09T20:23:16.531Z"
   },
   {
    "duration": 1,
    "start_time": "2022-04-09T20:23:16.532Z"
   },
   {
    "duration": 0,
    "start_time": "2022-04-09T20:23:16.534Z"
   },
   {
    "duration": 0,
    "start_time": "2022-04-09T20:23:16.535Z"
   },
   {
    "duration": 0,
    "start_time": "2022-04-09T20:23:16.536Z"
   },
   {
    "duration": 0,
    "start_time": "2022-04-09T20:23:16.537Z"
   },
   {
    "duration": 0,
    "start_time": "2022-04-09T20:23:16.538Z"
   },
   {
    "duration": 0,
    "start_time": "2022-04-09T20:23:16.540Z"
   },
   {
    "duration": 0,
    "start_time": "2022-04-09T20:23:16.541Z"
   },
   {
    "duration": 0,
    "start_time": "2022-04-09T20:23:16.573Z"
   },
   {
    "duration": 0,
    "start_time": "2022-04-09T20:23:16.575Z"
   },
   {
    "duration": 0,
    "start_time": "2022-04-09T20:23:16.576Z"
   },
   {
    "duration": 0,
    "start_time": "2022-04-09T20:23:16.577Z"
   },
   {
    "duration": 0,
    "start_time": "2022-04-09T20:23:16.579Z"
   },
   {
    "duration": 0,
    "start_time": "2022-04-09T20:23:16.580Z"
   },
   {
    "duration": 0,
    "start_time": "2022-04-09T20:23:16.581Z"
   },
   {
    "duration": 0,
    "start_time": "2022-04-09T20:23:16.583Z"
   },
   {
    "duration": 0,
    "start_time": "2022-04-09T20:23:16.584Z"
   },
   {
    "duration": 1813,
    "start_time": "2022-04-09T20:23:52.294Z"
   },
   {
    "duration": 63,
    "start_time": "2022-04-09T20:23:54.110Z"
   },
   {
    "duration": 6,
    "start_time": "2022-04-09T20:23:54.175Z"
   },
   {
    "duration": 58,
    "start_time": "2022-04-09T20:23:54.183Z"
   },
   {
    "duration": 40,
    "start_time": "2022-04-09T20:23:54.244Z"
   },
   {
    "duration": 11,
    "start_time": "2022-04-09T20:23:54.286Z"
   },
   {
    "duration": 6,
    "start_time": "2022-04-09T20:23:54.299Z"
   },
   {
    "duration": 36,
    "start_time": "2022-04-09T20:23:54.307Z"
   },
   {
    "duration": 2577,
    "start_time": "2022-04-09T20:23:54.345Z"
   },
   {
    "duration": 172,
    "start_time": "2022-04-09T20:23:56.925Z"
   },
   {
    "duration": 0,
    "start_time": "2022-04-09T20:23:57.101Z"
   },
   {
    "duration": 0,
    "start_time": "2022-04-09T20:23:57.104Z"
   },
   {
    "duration": 0,
    "start_time": "2022-04-09T20:23:57.106Z"
   },
   {
    "duration": 0,
    "start_time": "2022-04-09T20:23:57.107Z"
   },
   {
    "duration": 0,
    "start_time": "2022-04-09T20:23:57.109Z"
   },
   {
    "duration": 0,
    "start_time": "2022-04-09T20:23:57.111Z"
   },
   {
    "duration": 0,
    "start_time": "2022-04-09T20:23:57.113Z"
   },
   {
    "duration": 0,
    "start_time": "2022-04-09T20:23:57.114Z"
   },
   {
    "duration": 0,
    "start_time": "2022-04-09T20:23:57.116Z"
   },
   {
    "duration": 0,
    "start_time": "2022-04-09T20:23:57.117Z"
   },
   {
    "duration": 0,
    "start_time": "2022-04-09T20:23:57.118Z"
   },
   {
    "duration": 0,
    "start_time": "2022-04-09T20:23:57.120Z"
   },
   {
    "duration": 0,
    "start_time": "2022-04-09T20:23:57.122Z"
   },
   {
    "duration": 0,
    "start_time": "2022-04-09T20:23:57.123Z"
   },
   {
    "duration": 0,
    "start_time": "2022-04-09T20:23:57.124Z"
   },
   {
    "duration": 0,
    "start_time": "2022-04-09T20:23:57.126Z"
   },
   {
    "duration": 0,
    "start_time": "2022-04-09T20:23:57.127Z"
   },
   {
    "duration": 0,
    "start_time": "2022-04-09T20:23:57.173Z"
   },
   {
    "duration": 0,
    "start_time": "2022-04-09T20:23:57.175Z"
   },
   {
    "duration": 0,
    "start_time": "2022-04-09T20:23:57.176Z"
   },
   {
    "duration": 16,
    "start_time": "2022-04-09T20:28:33.762Z"
   },
   {
    "duration": 5,
    "start_time": "2022-04-09T20:29:33.049Z"
   },
   {
    "duration": 1849,
    "start_time": "2022-04-09T20:29:39.662Z"
   },
   {
    "duration": 62,
    "start_time": "2022-04-09T20:29:41.514Z"
   },
   {
    "duration": 6,
    "start_time": "2022-04-09T20:29:41.579Z"
   },
   {
    "duration": 63,
    "start_time": "2022-04-09T20:29:41.588Z"
   },
   {
    "duration": 19,
    "start_time": "2022-04-09T20:29:41.675Z"
   },
   {
    "duration": 12,
    "start_time": "2022-04-09T20:29:41.697Z"
   },
   {
    "duration": 7,
    "start_time": "2022-04-09T20:29:41.711Z"
   },
   {
    "duration": 79,
    "start_time": "2022-04-09T20:29:41.720Z"
   },
   {
    "duration": 2601,
    "start_time": "2022-04-09T20:29:41.802Z"
   },
   {
    "duration": 5,
    "start_time": "2022-04-09T20:29:44.407Z"
   },
   {
    "duration": 14,
    "start_time": "2022-04-09T20:29:44.415Z"
   },
   {
    "duration": 4,
    "start_time": "2022-04-09T20:29:44.431Z"
   },
   {
    "duration": 170,
    "start_time": "2022-04-09T20:29:44.437Z"
   },
   {
    "duration": 0,
    "start_time": "2022-04-09T20:29:44.610Z"
   },
   {
    "duration": 0,
    "start_time": "2022-04-09T20:29:44.612Z"
   },
   {
    "duration": 0,
    "start_time": "2022-04-09T20:29:44.614Z"
   },
   {
    "duration": 0,
    "start_time": "2022-04-09T20:29:44.615Z"
   },
   {
    "duration": 0,
    "start_time": "2022-04-09T20:29:44.616Z"
   },
   {
    "duration": 0,
    "start_time": "2022-04-09T20:29:44.618Z"
   },
   {
    "duration": 0,
    "start_time": "2022-04-09T20:29:44.619Z"
   },
   {
    "duration": 0,
    "start_time": "2022-04-09T20:29:44.621Z"
   },
   {
    "duration": 0,
    "start_time": "2022-04-09T20:29:44.623Z"
   },
   {
    "duration": 0,
    "start_time": "2022-04-09T20:29:44.624Z"
   },
   {
    "duration": 0,
    "start_time": "2022-04-09T20:29:44.626Z"
   },
   {
    "duration": 0,
    "start_time": "2022-04-09T20:29:44.628Z"
   },
   {
    "duration": 0,
    "start_time": "2022-04-09T20:29:44.629Z"
   },
   {
    "duration": 0,
    "start_time": "2022-04-09T20:29:44.631Z"
   },
   {
    "duration": 0,
    "start_time": "2022-04-09T20:29:44.632Z"
   },
   {
    "duration": 0,
    "start_time": "2022-04-09T20:29:44.674Z"
   },
   {
    "duration": 0,
    "start_time": "2022-04-09T20:29:44.676Z"
   },
   {
    "duration": 0,
    "start_time": "2022-04-09T20:29:44.677Z"
   },
   {
    "duration": 1857,
    "start_time": "2022-04-09T20:30:43.158Z"
   },
   {
    "duration": 66,
    "start_time": "2022-04-09T20:30:45.019Z"
   },
   {
    "duration": 7,
    "start_time": "2022-04-09T20:30:45.088Z"
   },
   {
    "duration": 115,
    "start_time": "2022-04-09T20:30:45.097Z"
   },
   {
    "duration": 29,
    "start_time": "2022-04-09T20:30:45.216Z"
   },
   {
    "duration": 35,
    "start_time": "2022-04-09T20:30:45.248Z"
   },
   {
    "duration": 8,
    "start_time": "2022-04-09T20:30:45.285Z"
   },
   {
    "duration": 40,
    "start_time": "2022-04-09T20:30:45.295Z"
   },
   {
    "duration": 2493,
    "start_time": "2022-04-09T20:30:45.338Z"
   },
   {
    "duration": 5,
    "start_time": "2022-04-09T20:30:47.833Z"
   },
   {
    "duration": 15,
    "start_time": "2022-04-09T20:30:47.840Z"
   },
   {
    "duration": 4,
    "start_time": "2022-04-09T20:30:47.857Z"
   },
   {
    "duration": 52,
    "start_time": "2022-04-09T20:30:47.863Z"
   },
   {
    "duration": 3,
    "start_time": "2022-04-09T20:30:47.920Z"
   },
   {
    "duration": 6,
    "start_time": "2022-04-09T20:30:47.925Z"
   },
   {
    "duration": 6,
    "start_time": "2022-04-09T20:30:47.933Z"
   },
   {
    "duration": 7,
    "start_time": "2022-04-09T20:30:47.942Z"
   },
   {
    "duration": 8,
    "start_time": "2022-04-09T20:30:47.975Z"
   },
   {
    "duration": 339,
    "start_time": "2022-04-09T20:30:47.986Z"
   },
   {
    "duration": 0,
    "start_time": "2022-04-09T20:30:48.328Z"
   },
   {
    "duration": 0,
    "start_time": "2022-04-09T20:30:48.331Z"
   },
   {
    "duration": 0,
    "start_time": "2022-04-09T20:30:48.333Z"
   },
   {
    "duration": 0,
    "start_time": "2022-04-09T20:30:48.335Z"
   },
   {
    "duration": 0,
    "start_time": "2022-04-09T20:30:48.338Z"
   },
   {
    "duration": 0,
    "start_time": "2022-04-09T20:30:48.339Z"
   },
   {
    "duration": 0,
    "start_time": "2022-04-09T20:30:48.342Z"
   },
   {
    "duration": 0,
    "start_time": "2022-04-09T20:30:48.344Z"
   },
   {
    "duration": 0,
    "start_time": "2022-04-09T20:30:48.375Z"
   },
   {
    "duration": 0,
    "start_time": "2022-04-09T20:30:48.377Z"
   },
   {
    "duration": 0,
    "start_time": "2022-04-09T20:30:48.380Z"
   },
   {
    "duration": 0,
    "start_time": "2022-04-09T20:30:48.385Z"
   },
   {
    "duration": 2200,
    "start_time": "2022-04-09T20:31:52.663Z"
   },
   {
    "duration": 94,
    "start_time": "2022-04-09T20:31:54.868Z"
   },
   {
    "duration": 12,
    "start_time": "2022-04-09T20:31:54.964Z"
   },
   {
    "duration": 121,
    "start_time": "2022-04-09T20:31:54.980Z"
   },
   {
    "duration": 17,
    "start_time": "2022-04-09T20:31:55.103Z"
   },
   {
    "duration": 13,
    "start_time": "2022-04-09T20:31:55.122Z"
   },
   {
    "duration": 6,
    "start_time": "2022-04-09T20:31:55.137Z"
   },
   {
    "duration": 54,
    "start_time": "2022-04-09T20:31:55.174Z"
   },
   {
    "duration": 4630,
    "start_time": "2022-04-09T20:31:55.232Z"
   },
   {
    "duration": 6,
    "start_time": "2022-04-09T20:31:59.870Z"
   },
   {
    "duration": 35,
    "start_time": "2022-04-09T20:31:59.879Z"
   },
   {
    "duration": 5,
    "start_time": "2022-04-09T20:31:59.917Z"
   },
   {
    "duration": 57,
    "start_time": "2022-04-09T20:31:59.924Z"
   },
   {
    "duration": 3,
    "start_time": "2022-04-09T20:31:59.983Z"
   },
   {
    "duration": 15,
    "start_time": "2022-04-09T20:31:59.988Z"
   },
   {
    "duration": 26,
    "start_time": "2022-04-09T20:32:00.005Z"
   },
   {
    "duration": 24,
    "start_time": "2022-04-09T20:32:00.033Z"
   },
   {
    "duration": 19,
    "start_time": "2022-04-09T20:32:00.059Z"
   },
   {
    "duration": 182,
    "start_time": "2022-04-09T20:32:00.080Z"
   },
   {
    "duration": 0,
    "start_time": "2022-04-09T20:32:00.265Z"
   },
   {
    "duration": 0,
    "start_time": "2022-04-09T20:32:00.267Z"
   },
   {
    "duration": 0,
    "start_time": "2022-04-09T20:32:00.273Z"
   },
   {
    "duration": 0,
    "start_time": "2022-04-09T20:32:00.274Z"
   },
   {
    "duration": 1,
    "start_time": "2022-04-09T20:32:00.275Z"
   },
   {
    "duration": 0,
    "start_time": "2022-04-09T20:32:00.277Z"
   },
   {
    "duration": 0,
    "start_time": "2022-04-09T20:32:00.278Z"
   },
   {
    "duration": 0,
    "start_time": "2022-04-09T20:32:00.279Z"
   },
   {
    "duration": 0,
    "start_time": "2022-04-09T20:32:00.280Z"
   },
   {
    "duration": 1,
    "start_time": "2022-04-09T20:32:00.281Z"
   },
   {
    "duration": 0,
    "start_time": "2022-04-09T20:32:00.283Z"
   },
   {
    "duration": 0,
    "start_time": "2022-04-09T20:32:00.284Z"
   },
   {
    "duration": 1902,
    "start_time": "2022-04-09T20:33:27.668Z"
   },
   {
    "duration": 62,
    "start_time": "2022-04-09T20:33:29.574Z"
   },
   {
    "duration": 5,
    "start_time": "2022-04-09T20:33:29.638Z"
   },
   {
    "duration": 73,
    "start_time": "2022-04-09T20:33:29.646Z"
   },
   {
    "duration": 18,
    "start_time": "2022-04-09T20:33:29.721Z"
   },
   {
    "duration": 33,
    "start_time": "2022-04-09T20:33:29.741Z"
   },
   {
    "duration": 6,
    "start_time": "2022-04-09T20:33:29.776Z"
   },
   {
    "duration": 41,
    "start_time": "2022-04-09T20:33:29.785Z"
   },
   {
    "duration": 2562,
    "start_time": "2022-04-09T20:33:29.828Z"
   },
   {
    "duration": 5,
    "start_time": "2022-04-09T20:33:32.394Z"
   },
   {
    "duration": 14,
    "start_time": "2022-04-09T20:33:32.402Z"
   },
   {
    "duration": 4,
    "start_time": "2022-04-09T20:33:32.418Z"
   },
   {
    "duration": 63,
    "start_time": "2022-04-09T20:33:32.425Z"
   },
   {
    "duration": 4,
    "start_time": "2022-04-09T20:33:32.490Z"
   },
   {
    "duration": 13,
    "start_time": "2022-04-09T20:33:32.496Z"
   },
   {
    "duration": 4,
    "start_time": "2022-04-09T20:33:32.511Z"
   },
   {
    "duration": 5,
    "start_time": "2022-04-09T20:33:32.518Z"
   },
   {
    "duration": 6,
    "start_time": "2022-04-09T20:33:32.525Z"
   },
   {
    "duration": 49318,
    "start_time": "2022-04-09T20:33:32.533Z"
   },
   {
    "duration": 684,
    "start_time": "2022-04-09T20:34:21.854Z"
   },
   {
    "duration": 8,
    "start_time": "2022-04-09T20:34:22.540Z"
   },
   {
    "duration": 49,
    "start_time": "2022-04-09T20:34:22.551Z"
   },
   {
    "duration": 74,
    "start_time": "2022-04-09T20:34:22.603Z"
   },
   {
    "duration": 96,
    "start_time": "2022-04-09T20:34:22.680Z"
   },
   {
    "duration": 15,
    "start_time": "2022-04-09T20:34:22.778Z"
   },
   {
    "duration": 1048,
    "start_time": "2022-04-09T20:34:22.875Z"
   },
   {
    "duration": 6,
    "start_time": "2022-04-09T20:34:23.926Z"
   },
   {
    "duration": 203,
    "start_time": "2022-04-09T20:34:23.936Z"
   },
   {
    "duration": 42,
    "start_time": "2022-04-09T20:34:24.143Z"
   },
   {
    "duration": 87,
    "start_time": "2022-04-09T20:34:24.187Z"
   },
   {
    "duration": 313,
    "start_time": "2022-04-09T20:34:24.280Z"
   },
   {
    "duration": 536,
    "start_time": "2022-04-09T20:34:55.764Z"
   },
   {
    "duration": 9,
    "start_time": "2022-04-09T20:34:58.649Z"
   },
   {
    "duration": 29,
    "start_time": "2022-04-09T20:34:59.068Z"
   },
   {
    "duration": 29,
    "start_time": "2022-04-09T20:35:00.523Z"
   },
   {
    "duration": 106,
    "start_time": "2022-04-09T20:35:00.576Z"
   },
   {
    "duration": 91,
    "start_time": "2022-04-09T20:35:00.685Z"
   },
   {
    "duration": 812,
    "start_time": "2022-04-09T20:35:00.779Z"
   },
   {
    "duration": 6,
    "start_time": "2022-04-09T20:35:01.595Z"
   },
   {
    "duration": 208,
    "start_time": "2022-04-09T20:35:01.604Z"
   },
   {
    "duration": 64,
    "start_time": "2022-04-09T20:35:01.816Z"
   },
   {
    "duration": 95,
    "start_time": "2022-04-09T20:35:01.883Z"
   },
   {
    "duration": 343,
    "start_time": "2022-04-09T20:35:01.980Z"
   },
   {
    "duration": 2061,
    "start_time": "2022-04-09T20:35:30.376Z"
   },
   {
    "duration": 66,
    "start_time": "2022-04-09T20:35:32.440Z"
   },
   {
    "duration": 7,
    "start_time": "2022-04-09T20:35:32.508Z"
   },
   {
    "duration": 80,
    "start_time": "2022-04-09T20:35:32.518Z"
   },
   {
    "duration": 19,
    "start_time": "2022-04-09T20:35:32.602Z"
   },
   {
    "duration": 11,
    "start_time": "2022-04-09T20:35:32.623Z"
   },
   {
    "duration": 7,
    "start_time": "2022-04-09T20:35:32.636Z"
   },
   {
    "duration": 64,
    "start_time": "2022-04-09T20:35:32.645Z"
   },
   {
    "duration": 2547,
    "start_time": "2022-04-09T20:35:32.711Z"
   },
   {
    "duration": 5,
    "start_time": "2022-04-09T20:35:35.261Z"
   },
   {
    "duration": 21,
    "start_time": "2022-04-09T20:35:35.268Z"
   },
   {
    "duration": 4,
    "start_time": "2022-04-09T20:35:35.292Z"
   },
   {
    "duration": 61,
    "start_time": "2022-04-09T20:35:35.298Z"
   },
   {
    "duration": 3,
    "start_time": "2022-04-09T20:35:35.364Z"
   },
   {
    "duration": 16,
    "start_time": "2022-04-09T20:35:35.373Z"
   },
   {
    "duration": 10,
    "start_time": "2022-04-09T20:35:35.391Z"
   },
   {
    "duration": 6,
    "start_time": "2022-04-09T20:35:35.403Z"
   },
   {
    "duration": 8,
    "start_time": "2022-04-09T20:35:35.411Z"
   },
   {
    "duration": 45558,
    "start_time": "2022-04-09T20:35:35.421Z"
   },
   {
    "duration": 546,
    "start_time": "2022-04-09T20:36:20.981Z"
   },
   {
    "duration": 9,
    "start_time": "2022-04-09T20:36:21.529Z"
   },
   {
    "duration": 48,
    "start_time": "2022-04-09T20:36:21.540Z"
   },
   {
    "duration": 84,
    "start_time": "2022-04-09T20:36:21.590Z"
   },
   {
    "duration": 96,
    "start_time": "2022-04-09T20:36:21.678Z"
   },
   {
    "duration": 21,
    "start_time": "2022-04-09T20:36:21.777Z"
   },
   {
    "duration": 1085,
    "start_time": "2022-04-09T20:36:21.877Z"
   },
   {
    "duration": 11,
    "start_time": "2022-04-09T20:36:22.964Z"
   },
   {
    "duration": 190,
    "start_time": "2022-04-09T20:36:22.977Z"
   },
   {
    "duration": 30,
    "start_time": "2022-04-09T20:36:23.173Z"
   },
   {
    "duration": 10,
    "start_time": "2022-04-09T20:36:23.276Z"
   },
   {
    "duration": 332,
    "start_time": "2022-04-09T20:36:23.376Z"
   },
   {
    "duration": 527,
    "start_time": "2022-04-09T20:38:06.433Z"
   },
   {
    "duration": 1972,
    "start_time": "2022-04-09T20:38:28.945Z"
   },
   {
    "duration": 68,
    "start_time": "2022-04-09T20:38:30.920Z"
   },
   {
    "duration": 6,
    "start_time": "2022-04-09T20:38:30.990Z"
   },
   {
    "duration": 77,
    "start_time": "2022-04-09T20:38:30.998Z"
   },
   {
    "duration": 18,
    "start_time": "2022-04-09T20:38:31.079Z"
   },
   {
    "duration": 12,
    "start_time": "2022-04-09T20:38:31.099Z"
   },
   {
    "duration": 8,
    "start_time": "2022-04-09T20:38:31.114Z"
   },
   {
    "duration": 74,
    "start_time": "2022-04-09T20:38:31.124Z"
   },
   {
    "duration": 2487,
    "start_time": "2022-04-09T20:38:31.200Z"
   },
   {
    "duration": 6,
    "start_time": "2022-04-09T20:38:33.690Z"
   },
   {
    "duration": 16,
    "start_time": "2022-04-09T20:38:33.699Z"
   },
   {
    "duration": 5,
    "start_time": "2022-04-09T20:38:33.718Z"
   },
   {
    "duration": 72,
    "start_time": "2022-04-09T20:38:33.725Z"
   },
   {
    "duration": 4,
    "start_time": "2022-04-09T20:38:33.801Z"
   },
   {
    "duration": 5,
    "start_time": "2022-04-09T20:38:33.807Z"
   },
   {
    "duration": 6,
    "start_time": "2022-04-09T20:38:33.815Z"
   },
   {
    "duration": 8,
    "start_time": "2022-04-09T20:38:33.824Z"
   },
   {
    "duration": 14,
    "start_time": "2022-04-09T20:38:33.835Z"
   },
   {
    "duration": 45771,
    "start_time": "2022-04-09T20:38:33.852Z"
   },
   {
    "duration": 758,
    "start_time": "2022-04-09T20:39:19.625Z"
   },
   {
    "duration": 11,
    "start_time": "2022-04-09T20:39:20.386Z"
   },
   {
    "duration": 63,
    "start_time": "2022-04-09T20:39:20.399Z"
   },
   {
    "duration": 122,
    "start_time": "2022-04-09T20:39:20.465Z"
   },
   {
    "duration": 13,
    "start_time": "2022-04-09T20:39:20.675Z"
   },
   {
    "duration": 90,
    "start_time": "2022-04-09T20:39:20.691Z"
   },
   {
    "duration": 1058,
    "start_time": "2022-04-09T20:39:20.786Z"
   },
   {
    "duration": 7,
    "start_time": "2022-04-09T20:39:21.849Z"
   },
   {
    "duration": 347,
    "start_time": "2022-04-09T20:39:21.859Z"
   },
   {
    "duration": 166,
    "start_time": "2022-04-09T20:39:22.208Z"
   },
   {
    "duration": 5,
    "start_time": "2022-04-09T20:39:22.377Z"
   },
   {
    "duration": 232,
    "start_time": "2022-04-09T20:39:22.385Z"
   },
   {
    "duration": 2085,
    "start_time": "2022-04-11T20:16:54.022Z"
   },
   {
    "duration": 65,
    "start_time": "2022-04-11T20:16:56.110Z"
   },
   {
    "duration": 5,
    "start_time": "2022-04-11T20:16:56.178Z"
   },
   {
    "duration": 82,
    "start_time": "2022-04-11T20:16:56.186Z"
   },
   {
    "duration": 18,
    "start_time": "2022-04-11T20:16:56.270Z"
   },
   {
    "duration": 12,
    "start_time": "2022-04-11T20:16:56.290Z"
   },
   {
    "duration": 10,
    "start_time": "2022-04-11T20:16:56.304Z"
   },
   {
    "duration": 70,
    "start_time": "2022-04-11T20:16:56.316Z"
   },
   {
    "duration": 2760,
    "start_time": "2022-04-11T20:16:56.388Z"
   },
   {
    "duration": 4,
    "start_time": "2022-04-11T20:16:59.152Z"
   },
   {
    "duration": 14,
    "start_time": "2022-04-11T20:16:59.159Z"
   },
   {
    "duration": 5,
    "start_time": "2022-04-11T20:16:59.175Z"
   },
   {
    "duration": 49,
    "start_time": "2022-04-11T20:16:59.182Z"
   },
   {
    "duration": 6,
    "start_time": "2022-04-11T20:16:59.233Z"
   },
   {
    "duration": 35,
    "start_time": "2022-04-11T20:16:59.241Z"
   },
   {
    "duration": 8,
    "start_time": "2022-04-11T20:16:59.278Z"
   },
   {
    "duration": 7,
    "start_time": "2022-04-11T20:16:59.287Z"
   },
   {
    "duration": 8,
    "start_time": "2022-04-11T20:16:59.296Z"
   },
   {
    "duration": 7,
    "start_time": "2022-04-11T20:16:59.306Z"
   },
   {
    "duration": 5,
    "start_time": "2022-04-11T20:16:59.315Z"
   },
   {
    "duration": 3,
    "start_time": "2022-04-11T20:16:59.367Z"
   },
   {
    "duration": 5,
    "start_time": "2022-04-11T20:16:59.372Z"
   },
   {
    "duration": 45824,
    "start_time": "2022-04-11T20:16:59.379Z"
   },
   {
    "duration": 513,
    "start_time": "2022-04-11T20:17:45.205Z"
   },
   {
    "duration": 7,
    "start_time": "2022-04-11T20:17:45.721Z"
   },
   {
    "duration": 49,
    "start_time": "2022-04-11T20:17:45.730Z"
   },
   {
    "duration": 87,
    "start_time": "2022-04-11T20:17:45.781Z"
   },
   {
    "duration": 94,
    "start_time": "2022-04-11T20:17:45.876Z"
   },
   {
    "duration": 96,
    "start_time": "2022-04-11T20:17:45.972Z"
   },
   {
    "duration": 746,
    "start_time": "2022-04-11T20:17:46.071Z"
   },
   {
    "duration": 4,
    "start_time": "2022-04-11T20:17:46.820Z"
   },
   {
    "duration": 196,
    "start_time": "2022-04-11T20:17:46.826Z"
   },
   {
    "duration": 46,
    "start_time": "2022-04-11T20:17:47.024Z"
   },
   {
    "duration": 6,
    "start_time": "2022-04-11T20:17:47.073Z"
   },
   {
    "duration": 244,
    "start_time": "2022-04-11T20:17:47.168Z"
   },
   {
    "duration": 2036,
    "start_time": "2022-04-11T20:32:49.687Z"
   },
   {
    "duration": 74,
    "start_time": "2022-04-11T20:32:51.725Z"
   },
   {
    "duration": 7,
    "start_time": "2022-04-11T20:32:51.802Z"
   },
   {
    "duration": 82,
    "start_time": "2022-04-11T20:32:51.812Z"
   },
   {
    "duration": 20,
    "start_time": "2022-04-11T20:32:51.897Z"
   },
   {
    "duration": 12,
    "start_time": "2022-04-11T20:32:51.920Z"
   },
   {
    "duration": 35,
    "start_time": "2022-04-11T20:32:51.934Z"
   },
   {
    "duration": 62,
    "start_time": "2022-04-11T20:32:51.971Z"
   },
   {
    "duration": 2428,
    "start_time": "2022-04-11T20:32:52.036Z"
   },
   {
    "duration": 5,
    "start_time": "2022-04-11T20:32:54.466Z"
   },
   {
    "duration": 17,
    "start_time": "2022-04-11T20:32:54.473Z"
   },
   {
    "duration": 5,
    "start_time": "2022-04-11T20:32:54.492Z"
   },
   {
    "duration": 73,
    "start_time": "2022-04-11T20:32:54.499Z"
   },
   {
    "duration": 5,
    "start_time": "2022-04-11T20:32:54.576Z"
   },
   {
    "duration": 11,
    "start_time": "2022-04-11T20:32:54.583Z"
   },
   {
    "duration": 5,
    "start_time": "2022-04-11T20:32:54.596Z"
   },
   {
    "duration": 5,
    "start_time": "2022-04-11T20:32:54.604Z"
   },
   {
    "duration": 57,
    "start_time": "2022-04-11T20:32:54.611Z"
   },
   {
    "duration": 5,
    "start_time": "2022-04-11T20:32:54.671Z"
   },
   {
    "duration": 11,
    "start_time": "2022-04-11T20:32:54.678Z"
   },
   {
    "duration": 11,
    "start_time": "2022-04-11T20:32:54.691Z"
   },
   {
    "duration": 7,
    "start_time": "2022-04-11T20:32:54.704Z"
   },
   {
    "duration": 8,
    "start_time": "2022-04-11T20:32:54.714Z"
   },
   {
    "duration": 46,
    "start_time": "2022-04-11T20:32:54.725Z"
   },
   {
    "duration": 19,
    "start_time": "2022-04-11T20:32:54.774Z"
   },
   {
    "duration": 12,
    "start_time": "2022-04-11T20:32:54.796Z"
   },
   {
    "duration": 9,
    "start_time": "2022-04-11T20:32:54.812Z"
   },
   {
    "duration": 47687,
    "start_time": "2022-04-11T20:32:54.823Z"
   },
   {
    "duration": 569,
    "start_time": "2022-04-11T20:33:42.513Z"
   },
   {
    "duration": 8,
    "start_time": "2022-04-11T20:33:43.085Z"
   },
   {
    "duration": 29,
    "start_time": "2022-04-11T20:33:43.096Z"
   },
   {
    "duration": 140,
    "start_time": "2022-04-11T20:33:43.127Z"
   },
   {
    "duration": 94,
    "start_time": "2022-04-11T20:33:43.278Z"
   },
   {
    "duration": 15,
    "start_time": "2022-04-11T20:33:43.374Z"
   },
   {
    "duration": 959,
    "start_time": "2022-04-11T20:33:43.392Z"
   },
   {
    "duration": 15,
    "start_time": "2022-04-11T20:33:44.354Z"
   },
   {
    "duration": 196,
    "start_time": "2022-04-11T20:33:44.371Z"
   },
   {
    "duration": 106,
    "start_time": "2022-04-11T20:33:44.570Z"
   },
   {
    "duration": 90,
    "start_time": "2022-04-11T20:33:44.680Z"
   },
   {
    "duration": 193,
    "start_time": "2022-04-11T20:33:44.773Z"
   },
   {
    "duration": 2139,
    "start_time": "2022-04-11T20:36:19.610Z"
   },
   {
    "duration": 66,
    "start_time": "2022-04-11T20:36:21.752Z"
   },
   {
    "duration": 6,
    "start_time": "2022-04-11T20:36:21.821Z"
   },
   {
    "duration": 77,
    "start_time": "2022-04-11T20:36:21.830Z"
   },
   {
    "duration": 19,
    "start_time": "2022-04-11T20:36:21.911Z"
   },
   {
    "duration": 36,
    "start_time": "2022-04-11T20:36:21.932Z"
   },
   {
    "duration": 5,
    "start_time": "2022-04-11T20:36:21.971Z"
   },
   {
    "duration": 36,
    "start_time": "2022-04-11T20:36:21.978Z"
   },
   {
    "duration": 2319,
    "start_time": "2022-04-11T20:36:22.016Z"
   },
   {
    "duration": 5,
    "start_time": "2022-04-11T20:36:24.337Z"
   },
   {
    "duration": 17,
    "start_time": "2022-04-11T20:36:24.344Z"
   },
   {
    "duration": 14,
    "start_time": "2022-04-11T20:36:24.363Z"
   },
   {
    "duration": 45,
    "start_time": "2022-04-11T20:36:24.380Z"
   },
   {
    "duration": 4,
    "start_time": "2022-04-11T20:36:24.429Z"
   },
   {
    "duration": 27,
    "start_time": "2022-04-11T20:36:24.436Z"
   },
   {
    "duration": 7,
    "start_time": "2022-04-11T20:36:24.465Z"
   },
   {
    "duration": 7,
    "start_time": "2022-04-11T20:36:24.474Z"
   },
   {
    "duration": 6,
    "start_time": "2022-04-11T20:36:24.483Z"
   },
   {
    "duration": 8,
    "start_time": "2022-04-11T20:36:24.492Z"
   },
   {
    "duration": 8,
    "start_time": "2022-04-11T20:36:24.502Z"
   },
   {
    "duration": 8,
    "start_time": "2022-04-11T20:36:24.512Z"
   },
   {
    "duration": 10,
    "start_time": "2022-04-11T20:36:24.568Z"
   },
   {
    "duration": 10,
    "start_time": "2022-04-11T20:36:24.580Z"
   },
   {
    "duration": 6,
    "start_time": "2022-04-11T20:36:24.593Z"
   },
   {
    "duration": 7,
    "start_time": "2022-04-11T20:36:24.601Z"
   },
   {
    "duration": 8,
    "start_time": "2022-04-11T20:36:24.610Z"
   },
   {
    "duration": 49,
    "start_time": "2022-04-11T20:36:24.620Z"
   },
   {
    "duration": 65273,
    "start_time": "2022-04-11T20:36:24.671Z"
   },
   {
    "duration": 759,
    "start_time": "2022-04-11T20:37:29.946Z"
   },
   {
    "duration": 9,
    "start_time": "2022-04-11T20:37:30.707Z"
   },
   {
    "duration": 34,
    "start_time": "2022-04-11T20:37:30.718Z"
   },
   {
    "duration": 26,
    "start_time": "2022-04-11T20:37:30.768Z"
   },
   {
    "duration": 170,
    "start_time": "2022-04-11T20:37:30.797Z"
   },
   {
    "duration": 14,
    "start_time": "2022-04-11T20:37:30.970Z"
   },
   {
    "duration": 1108,
    "start_time": "2022-04-11T20:37:30.986Z"
   },
   {
    "duration": 5,
    "start_time": "2022-04-11T20:37:32.096Z"
   },
   {
    "duration": 188,
    "start_time": "2022-04-11T20:37:32.103Z"
   },
   {
    "duration": 76,
    "start_time": "2022-04-11T20:37:32.294Z"
   },
   {
    "duration": 95,
    "start_time": "2022-04-11T20:37:32.373Z"
   },
   {
    "duration": 186,
    "start_time": "2022-04-11T20:37:32.470Z"
   },
   {
    "duration": 1984,
    "start_time": "2022-04-11T20:39:08.529Z"
   },
   {
    "duration": 66,
    "start_time": "2022-04-11T20:39:10.516Z"
   },
   {
    "duration": 6,
    "start_time": "2022-04-11T20:39:10.584Z"
   },
   {
    "duration": 78,
    "start_time": "2022-04-11T20:39:10.594Z"
   },
   {
    "duration": 20,
    "start_time": "2022-04-11T20:39:10.675Z"
   },
   {
    "duration": 11,
    "start_time": "2022-04-11T20:39:10.697Z"
   },
   {
    "duration": 8,
    "start_time": "2022-04-11T20:39:10.710Z"
   },
   {
    "duration": 72,
    "start_time": "2022-04-11T20:39:10.720Z"
   },
   {
    "duration": 2534,
    "start_time": "2022-04-11T20:39:10.794Z"
   },
   {
    "duration": 4,
    "start_time": "2022-04-11T20:39:13.335Z"
   },
   {
    "duration": 21,
    "start_time": "2022-04-11T20:39:13.342Z"
   },
   {
    "duration": 4,
    "start_time": "2022-04-11T20:39:13.366Z"
   },
   {
    "duration": 43,
    "start_time": "2022-04-11T20:39:13.373Z"
   },
   {
    "duration": 6,
    "start_time": "2022-04-11T20:39:13.419Z"
   },
   {
    "duration": 12,
    "start_time": "2022-04-11T20:39:13.427Z"
   },
   {
    "duration": 5,
    "start_time": "2022-04-11T20:39:13.467Z"
   },
   {
    "duration": 9,
    "start_time": "2022-04-11T20:39:13.474Z"
   },
   {
    "duration": 6,
    "start_time": "2022-04-11T20:39:13.485Z"
   },
   {
    "duration": 6,
    "start_time": "2022-04-11T20:39:13.494Z"
   },
   {
    "duration": 8,
    "start_time": "2022-04-11T20:39:13.502Z"
   },
   {
    "duration": 59,
    "start_time": "2022-04-11T20:39:13.512Z"
   },
   {
    "duration": 8,
    "start_time": "2022-04-11T20:39:13.573Z"
   },
   {
    "duration": 10,
    "start_time": "2022-04-11T20:39:13.583Z"
   },
   {
    "duration": 7,
    "start_time": "2022-04-11T20:39:13.595Z"
   },
   {
    "duration": 7,
    "start_time": "2022-04-11T20:39:13.604Z"
   },
   {
    "duration": 12,
    "start_time": "2022-04-11T20:39:13.613Z"
   },
   {
    "duration": 7,
    "start_time": "2022-04-11T20:39:13.668Z"
   },
   {
    "duration": 67507,
    "start_time": "2022-04-11T20:39:13.682Z"
   },
   {
    "duration": 1340,
    "start_time": "2022-04-11T20:40:21.191Z"
   },
   {
    "duration": 8,
    "start_time": "2022-04-11T20:40:22.534Z"
   },
   {
    "duration": 55,
    "start_time": "2022-04-11T20:40:22.544Z"
   },
   {
    "duration": 70,
    "start_time": "2022-04-11T20:40:22.601Z"
   },
   {
    "duration": 100,
    "start_time": "2022-04-11T20:40:22.674Z"
   },
   {
    "duration": 92,
    "start_time": "2022-04-11T20:40:22.776Z"
   },
   {
    "duration": 1024,
    "start_time": "2022-04-11T20:40:22.872Z"
   },
   {
    "duration": 5,
    "start_time": "2022-04-11T20:40:23.898Z"
   },
   {
    "duration": 195,
    "start_time": "2022-04-11T20:40:23.906Z"
   },
   {
    "duration": 68,
    "start_time": "2022-04-11T20:40:24.104Z"
   },
   {
    "duration": 96,
    "start_time": "2022-04-11T20:40:24.176Z"
   },
   {
    "duration": 184,
    "start_time": "2022-04-11T20:40:24.275Z"
   },
   {
    "duration": 1676,
    "start_time": "2022-04-13T17:01:33.147Z"
   },
   {
    "duration": 67,
    "start_time": "2022-04-13T17:01:34.826Z"
   },
   {
    "duration": 4,
    "start_time": "2022-04-13T17:01:34.895Z"
   },
   {
    "duration": 70,
    "start_time": "2022-04-13T17:01:34.901Z"
   },
   {
    "duration": 13,
    "start_time": "2022-04-13T17:01:34.973Z"
   },
   {
    "duration": 39,
    "start_time": "2022-04-13T17:01:34.988Z"
   },
   {
    "duration": 18,
    "start_time": "2022-04-13T17:01:35.029Z"
   },
   {
    "duration": 55,
    "start_time": "2022-04-13T17:01:35.049Z"
   },
   {
    "duration": 1678,
    "start_time": "2022-04-13T17:01:35.106Z"
   },
   {
    "duration": 3,
    "start_time": "2022-04-13T17:01:36.787Z"
   },
   {
    "duration": 29,
    "start_time": "2022-04-13T17:01:36.792Z"
   },
   {
    "duration": 39,
    "start_time": "2022-04-13T17:01:36.822Z"
   },
   {
    "duration": 53,
    "start_time": "2022-04-13T17:01:36.862Z"
   },
   {
    "duration": 4,
    "start_time": "2022-04-13T17:01:36.917Z"
   },
   {
    "duration": 28,
    "start_time": "2022-04-13T17:01:36.923Z"
   },
   {
    "duration": 41,
    "start_time": "2022-04-13T17:01:36.953Z"
   },
   {
    "duration": 35,
    "start_time": "2022-04-13T17:01:36.996Z"
   },
   {
    "duration": 26,
    "start_time": "2022-04-13T17:01:37.033Z"
   },
   {
    "duration": 24,
    "start_time": "2022-04-13T17:01:37.061Z"
   },
   {
    "duration": 27,
    "start_time": "2022-04-13T17:01:37.086Z"
   },
   {
    "duration": 31,
    "start_time": "2022-04-13T17:01:37.114Z"
   },
   {
    "duration": 37,
    "start_time": "2022-04-13T17:01:37.146Z"
   },
   {
    "duration": 22,
    "start_time": "2022-04-13T17:01:37.185Z"
   },
   {
    "duration": 35,
    "start_time": "2022-04-13T17:01:37.209Z"
   },
   {
    "duration": 22,
    "start_time": "2022-04-13T17:01:37.246Z"
   },
   {
    "duration": 29,
    "start_time": "2022-04-13T17:01:37.270Z"
   },
   {
    "duration": 35,
    "start_time": "2022-04-13T17:01:37.300Z"
   },
   {
    "duration": 47702,
    "start_time": "2022-04-13T17:01:37.338Z"
   },
   {
    "duration": 858,
    "start_time": "2022-04-13T17:02:25.042Z"
   },
   {
    "duration": 6,
    "start_time": "2022-04-13T17:02:25.901Z"
   },
   {
    "duration": 43,
    "start_time": "2022-04-13T17:02:25.909Z"
   },
   {
    "duration": 19,
    "start_time": "2022-04-13T17:02:25.954Z"
   },
   {
    "duration": 62,
    "start_time": "2022-04-13T17:02:25.975Z"
   },
   {
    "duration": 108,
    "start_time": "2022-04-13T17:02:26.039Z"
   },
   {
    "duration": 33738,
    "start_time": "2022-04-13T17:02:26.149Z"
   },
   {
    "duration": 621,
    "start_time": "2022-04-13T17:02:59.889Z"
   },
   {
    "duration": 6,
    "start_time": "2022-04-13T17:03:00.512Z"
   },
   {
    "duration": 46,
    "start_time": "2022-04-13T17:03:00.520Z"
   },
   {
    "duration": 17,
    "start_time": "2022-04-13T17:03:00.568Z"
   },
   {
    "duration": 97,
    "start_time": "2022-04-13T17:03:00.641Z"
   },
   {
    "duration": 34,
    "start_time": "2022-04-13T17:03:00.740Z"
   },
   {
    "duration": 841,
    "start_time": "2022-04-13T17:03:00.838Z"
   },
   {
    "duration": 6,
    "start_time": "2022-04-13T17:03:01.681Z"
   },
   {
    "duration": 154,
    "start_time": "2022-04-13T17:03:01.689Z"
   },
   {
    "duration": 91,
    "start_time": "2022-04-13T17:03:01.846Z"
   },
   {
    "duration": 96,
    "start_time": "2022-04-13T17:03:01.940Z"
   },
   {
    "duration": 142,
    "start_time": "2022-04-13T17:03:02.037Z"
   },
   {
    "duration": 1517,
    "start_time": "2022-04-13T17:04:00.574Z"
   },
   {
    "duration": 52,
    "start_time": "2022-04-13T17:04:02.094Z"
   },
   {
    "duration": 4,
    "start_time": "2022-04-13T17:04:02.149Z"
   },
   {
    "duration": 45,
    "start_time": "2022-04-13T17:04:02.156Z"
   },
   {
    "duration": 36,
    "start_time": "2022-04-13T17:04:02.203Z"
   },
   {
    "duration": 10,
    "start_time": "2022-04-13T17:04:02.242Z"
   },
   {
    "duration": 9,
    "start_time": "2022-04-13T17:04:02.254Z"
   },
   {
    "duration": 33,
    "start_time": "2022-04-13T17:04:02.265Z"
   },
   {
    "duration": 1722,
    "start_time": "2022-04-13T17:04:02.300Z"
   },
   {
    "duration": 4,
    "start_time": "2022-04-13T17:04:04.024Z"
   },
   {
    "duration": 13,
    "start_time": "2022-04-13T17:04:04.029Z"
   },
   {
    "duration": 3,
    "start_time": "2022-04-13T17:04:04.043Z"
   },
   {
    "duration": 42,
    "start_time": "2022-04-13T17:04:04.047Z"
   },
   {
    "duration": 3,
    "start_time": "2022-04-13T17:04:04.091Z"
   },
   {
    "duration": 12,
    "start_time": "2022-04-13T17:04:04.096Z"
   },
   {
    "duration": 5,
    "start_time": "2022-04-13T17:04:04.109Z"
   },
   {
    "duration": 20,
    "start_time": "2022-04-13T17:04:04.116Z"
   },
   {
    "duration": 6,
    "start_time": "2022-04-13T17:04:04.138Z"
   },
   {
    "duration": 6,
    "start_time": "2022-04-13T17:04:04.145Z"
   },
   {
    "duration": 6,
    "start_time": "2022-04-13T17:04:04.153Z"
   },
   {
    "duration": 7,
    "start_time": "2022-04-13T17:04:04.161Z"
   },
   {
    "duration": 6,
    "start_time": "2022-04-13T17:04:04.169Z"
   },
   {
    "duration": 13,
    "start_time": "2022-04-13T17:04:04.177Z"
   },
   {
    "duration": 4,
    "start_time": "2022-04-13T17:04:04.192Z"
   },
   {
    "duration": 7,
    "start_time": "2022-04-13T17:04:04.198Z"
   },
   {
    "duration": 4,
    "start_time": "2022-04-13T17:04:04.234Z"
   },
   {
    "duration": 8,
    "start_time": "2022-04-13T17:04:04.239Z"
   },
   {
    "duration": 46229,
    "start_time": "2022-04-13T17:04:04.251Z"
   },
   {
    "duration": 902,
    "start_time": "2022-04-13T17:04:50.481Z"
   },
   {
    "duration": 6,
    "start_time": "2022-04-13T17:04:51.385Z"
   },
   {
    "duration": 44,
    "start_time": "2022-04-13T17:04:51.393Z"
   },
   {
    "duration": 95,
    "start_time": "2022-04-13T17:04:51.439Z"
   },
   {
    "duration": 97,
    "start_time": "2022-04-13T17:04:51.537Z"
   },
   {
    "duration": 13,
    "start_time": "2022-04-13T17:04:51.636Z"
   },
   {
    "duration": 34057,
    "start_time": "2022-04-13T17:04:51.652Z"
   },
   {
    "duration": 622,
    "start_time": "2022-04-13T17:05:25.711Z"
   },
   {
    "duration": 6,
    "start_time": "2022-04-13T17:05:26.335Z"
   },
   {
    "duration": 35,
    "start_time": "2022-04-13T17:05:26.343Z"
   },
   {
    "duration": 15,
    "start_time": "2022-04-13T17:05:26.380Z"
   },
   {
    "duration": 101,
    "start_time": "2022-04-13T17:05:26.436Z"
   },
   {
    "duration": 15,
    "start_time": "2022-04-13T17:05:26.539Z"
   },
   {
    "duration": 865,
    "start_time": "2022-04-13T17:05:26.558Z"
   },
   {
    "duration": 4,
    "start_time": "2022-04-13T17:05:27.424Z"
   },
   {
    "duration": 132,
    "start_time": "2022-04-13T17:05:27.434Z"
   },
   {
    "duration": 166,
    "start_time": "2022-04-13T17:05:27.568Z"
   },
   {
    "duration": 4,
    "start_time": "2022-04-13T17:05:27.736Z"
   },
   {
    "duration": 137,
    "start_time": "2022-04-13T17:05:27.742Z"
   },
   {
    "duration": 1797,
    "start_time": "2022-04-13T17:07:36.843Z"
   },
   {
    "duration": 54,
    "start_time": "2022-04-13T17:07:38.642Z"
   },
   {
    "duration": 5,
    "start_time": "2022-04-13T17:07:38.697Z"
   },
   {
    "duration": 68,
    "start_time": "2022-04-13T17:07:38.703Z"
   },
   {
    "duration": 13,
    "start_time": "2022-04-13T17:07:38.774Z"
   },
   {
    "duration": 10,
    "start_time": "2022-04-13T17:07:38.789Z"
   },
   {
    "duration": 11,
    "start_time": "2022-04-13T17:07:38.800Z"
   },
   {
    "duration": 50,
    "start_time": "2022-04-13T17:07:38.812Z"
   },
   {
    "duration": 1814,
    "start_time": "2022-04-13T17:07:38.864Z"
   },
   {
    "duration": 4,
    "start_time": "2022-04-13T17:07:40.679Z"
   },
   {
    "duration": 14,
    "start_time": "2022-04-13T17:07:40.684Z"
   },
   {
    "duration": 4,
    "start_time": "2022-04-13T17:07:40.700Z"
   },
   {
    "duration": 35,
    "start_time": "2022-04-13T17:07:40.705Z"
   },
   {
    "duration": 4,
    "start_time": "2022-04-13T17:07:40.743Z"
   },
   {
    "duration": 15,
    "start_time": "2022-04-13T17:07:40.748Z"
   },
   {
    "duration": 4,
    "start_time": "2022-04-13T17:07:40.765Z"
   },
   {
    "duration": 6,
    "start_time": "2022-04-13T17:07:40.771Z"
   },
   {
    "duration": 7,
    "start_time": "2022-04-13T17:07:40.779Z"
   },
   {
    "duration": 7,
    "start_time": "2022-04-13T17:07:40.788Z"
   },
   {
    "duration": 6,
    "start_time": "2022-04-13T17:07:40.797Z"
   },
   {
    "duration": 28,
    "start_time": "2022-04-13T17:07:40.805Z"
   },
   {
    "duration": 6,
    "start_time": "2022-04-13T17:07:40.835Z"
   },
   {
    "duration": 7,
    "start_time": "2022-04-13T17:07:40.843Z"
   },
   {
    "duration": 4,
    "start_time": "2022-04-13T17:07:40.852Z"
   },
   {
    "duration": 8,
    "start_time": "2022-04-13T17:07:40.858Z"
   },
   {
    "duration": 6,
    "start_time": "2022-04-13T17:07:40.867Z"
   },
   {
    "duration": 6,
    "start_time": "2022-04-13T17:07:40.875Z"
   },
   {
    "duration": 46454,
    "start_time": "2022-04-13T17:07:40.883Z"
   },
   {
    "duration": 693,
    "start_time": "2022-04-13T17:08:27.339Z"
   },
   {
    "duration": 6,
    "start_time": "2022-04-13T17:08:28.034Z"
   },
   {
    "duration": 28,
    "start_time": "2022-04-13T17:08:28.042Z"
   },
   {
    "duration": 63,
    "start_time": "2022-04-13T17:08:28.071Z"
   },
   {
    "duration": 98,
    "start_time": "2022-04-13T17:08:28.137Z"
   },
   {
    "duration": 8,
    "start_time": "2022-04-13T17:08:28.237Z"
   },
   {
    "duration": 34109,
    "start_time": "2022-04-13T17:08:28.248Z"
   },
   {
    "duration": 409,
    "start_time": "2022-04-13T17:09:02.359Z"
   },
   {
    "duration": 6,
    "start_time": "2022-04-13T17:09:02.770Z"
   },
   {
    "duration": 26,
    "start_time": "2022-04-13T17:09:02.777Z"
   },
   {
    "duration": 32,
    "start_time": "2022-04-13T17:09:02.804Z"
   },
   {
    "duration": 8,
    "start_time": "2022-04-13T17:09:02.839Z"
   },
   {
    "duration": 192,
    "start_time": "2022-04-13T17:09:02.851Z"
   },
   {
    "duration": 904,
    "start_time": "2022-04-13T17:09:03.045Z"
   },
   {
    "duration": 5,
    "start_time": "2022-04-13T17:09:03.950Z"
   },
   {
    "duration": 129,
    "start_time": "2022-04-13T17:09:03.957Z"
   },
   {
    "duration": 144,
    "start_time": "2022-04-13T17:09:04.089Z"
   },
   {
    "duration": 5,
    "start_time": "2022-04-13T17:09:04.235Z"
   },
   {
    "duration": 173,
    "start_time": "2022-04-13T17:09:04.242Z"
   },
   {
    "duration": 5,
    "start_time": "2022-04-13T17:10:49.507Z"
   },
   {
    "duration": 1535,
    "start_time": "2022-04-13T17:16:04.170Z"
   },
   {
    "duration": 51,
    "start_time": "2022-04-13T17:16:05.707Z"
   },
   {
    "duration": 4,
    "start_time": "2022-04-13T17:16:05.761Z"
   },
   {
    "duration": 43,
    "start_time": "2022-04-13T17:16:05.768Z"
   },
   {
    "duration": 32,
    "start_time": "2022-04-13T17:16:05.814Z"
   },
   {
    "duration": 10,
    "start_time": "2022-04-13T17:16:05.848Z"
   },
   {
    "duration": 6,
    "start_time": "2022-04-13T17:16:05.860Z"
   },
   {
    "duration": 30,
    "start_time": "2022-04-13T17:16:05.868Z"
   },
   {
    "duration": 1723,
    "start_time": "2022-04-13T17:16:05.899Z"
   },
   {
    "duration": 4,
    "start_time": "2022-04-13T17:16:07.624Z"
   },
   {
    "duration": 15,
    "start_time": "2022-04-13T17:16:07.630Z"
   },
   {
    "duration": 6,
    "start_time": "2022-04-13T17:16:07.647Z"
   },
   {
    "duration": 35,
    "start_time": "2022-04-13T17:16:07.655Z"
   },
   {
    "duration": 4,
    "start_time": "2022-04-13T17:16:07.691Z"
   },
   {
    "duration": 9,
    "start_time": "2022-04-13T17:16:07.696Z"
   },
   {
    "duration": 7,
    "start_time": "2022-04-13T17:16:07.707Z"
   },
   {
    "duration": 21,
    "start_time": "2022-04-13T17:16:07.715Z"
   },
   {
    "duration": 7,
    "start_time": "2022-04-13T17:16:07.738Z"
   },
   {
    "duration": 7,
    "start_time": "2022-04-13T17:16:07.746Z"
   },
   {
    "duration": 7,
    "start_time": "2022-04-13T17:16:07.755Z"
   },
   {
    "duration": 6,
    "start_time": "2022-04-13T17:16:07.763Z"
   },
   {
    "duration": 5,
    "start_time": "2022-04-13T17:16:07.771Z"
   },
   {
    "duration": 11,
    "start_time": "2022-04-13T17:16:07.777Z"
   },
   {
    "duration": 5,
    "start_time": "2022-04-13T17:16:07.789Z"
   },
   {
    "duration": 7,
    "start_time": "2022-04-13T17:16:07.795Z"
   },
   {
    "duration": 4,
    "start_time": "2022-04-13T17:16:07.833Z"
   },
   {
    "duration": 7,
    "start_time": "2022-04-13T17:16:07.839Z"
   },
   {
    "duration": 45410,
    "start_time": "2022-04-13T17:16:07.850Z"
   },
   {
    "duration": 689,
    "start_time": "2022-04-13T17:16:53.261Z"
   },
   {
    "duration": 6,
    "start_time": "2022-04-13T17:16:53.952Z"
   },
   {
    "duration": 35,
    "start_time": "2022-04-13T17:16:53.960Z"
   },
   {
    "duration": 40,
    "start_time": "2022-04-13T17:16:53.997Z"
   },
   {
    "duration": 99,
    "start_time": "2022-04-13T17:16:54.039Z"
   },
   {
    "duration": 95,
    "start_time": "2022-04-13T17:16:54.142Z"
   },
   {
    "duration": 33529,
    "start_time": "2022-04-13T17:16:54.240Z"
   },
   {
    "duration": 397,
    "start_time": "2022-04-13T17:17:27.770Z"
   },
   {
    "duration": 6,
    "start_time": "2022-04-13T17:17:28.169Z"
   },
   {
    "duration": 25,
    "start_time": "2022-04-13T17:17:28.177Z"
   },
   {
    "duration": 31,
    "start_time": "2022-04-13T17:17:28.203Z"
   },
   {
    "duration": 99,
    "start_time": "2022-04-13T17:17:28.236Z"
   },
   {
    "duration": 109,
    "start_time": "2022-04-13T17:17:28.338Z"
   },
   {
    "duration": 84,
    "start_time": "2022-04-13T17:17:28.450Z"
   },
   {
    "duration": 103,
    "start_time": "2022-04-13T17:17:28.536Z"
   },
   {
    "duration": 14352,
    "start_time": "2022-04-13T17:17:28.641Z"
   },
   {
    "duration": 225,
    "start_time": "2022-04-13T17:17:42.995Z"
   },
   {
    "duration": 12,
    "start_time": "2022-04-13T17:17:43.222Z"
   },
   {
    "duration": 26,
    "start_time": "2022-04-13T17:17:43.236Z"
   },
   {
    "duration": 13,
    "start_time": "2022-04-13T17:17:43.264Z"
   },
   {
    "duration": 102,
    "start_time": "2022-04-13T17:17:43.336Z"
   },
   {
    "duration": 21,
    "start_time": "2022-04-13T17:17:43.440Z"
   },
   {
    "duration": 870,
    "start_time": "2022-04-13T17:17:43.464Z"
   },
   {
    "duration": 4,
    "start_time": "2022-04-13T17:17:44.335Z"
   },
   {
    "duration": 134,
    "start_time": "2022-04-13T17:17:44.341Z"
   },
   {
    "duration": 62,
    "start_time": "2022-04-13T17:17:44.476Z"
   },
   {
    "duration": 94,
    "start_time": "2022-04-13T17:17:44.541Z"
   },
   {
    "duration": 132,
    "start_time": "2022-04-13T17:17:44.637Z"
   },
   {
    "duration": 9,
    "start_time": "2022-04-13T17:19:03.820Z"
   },
   {
    "duration": 23734,
    "start_time": "2022-04-13T17:19:04.310Z"
   },
   {
    "duration": 331,
    "start_time": "2022-04-13T17:19:47.132Z"
   },
   {
    "duration": 7,
    "start_time": "2022-04-13T17:19:47.627Z"
   },
   {
    "duration": 29,
    "start_time": "2022-04-13T17:19:48.483Z"
   },
   {
    "duration": 29,
    "start_time": "2022-04-13T17:19:49.116Z"
   },
   {
    "duration": 8,
    "start_time": "2022-04-13T17:19:49.551Z"
   },
   {
    "duration": 9,
    "start_time": "2022-04-13T17:19:59.420Z"
   },
   {
    "duration": 30508,
    "start_time": "2022-04-13T17:19:59.715Z"
   },
   {
    "duration": 402,
    "start_time": "2022-04-13T17:20:46.788Z"
   },
   {
    "duration": 6,
    "start_time": "2022-04-13T17:20:47.192Z"
   },
   {
    "duration": 26,
    "start_time": "2022-04-13T17:20:47.747Z"
   },
   {
    "duration": 14,
    "start_time": "2022-04-13T17:20:48.396Z"
   },
   {
    "duration": 6,
    "start_time": "2022-04-13T17:20:48.794Z"
   },
   {
    "duration": 11,
    "start_time": "2022-04-13T17:20:49.251Z"
   },
   {
    "duration": 8,
    "start_time": "2022-04-13T17:20:55.114Z"
   },
   {
    "duration": 21083,
    "start_time": "2022-04-13T17:20:55.524Z"
   },
   {
    "duration": 277,
    "start_time": "2022-04-13T17:22:15.690Z"
   },
   {
    "duration": 6,
    "start_time": "2022-04-13T17:22:15.992Z"
   },
   {
    "duration": 25,
    "start_time": "2022-04-13T17:22:16.713Z"
   },
   {
    "duration": 12,
    "start_time": "2022-04-13T17:22:17.331Z"
   },
   {
    "duration": 6,
    "start_time": "2022-04-13T17:22:17.697Z"
   },
   {
    "duration": 11,
    "start_time": "2022-04-13T17:22:19.297Z"
   },
   {
    "duration": 2035,
    "start_time": "2022-04-18T17:32:46.599Z"
   },
   {
    "duration": 61,
    "start_time": "2022-04-18T17:32:48.636Z"
   },
   {
    "duration": 5,
    "start_time": "2022-04-18T17:32:48.698Z"
   },
   {
    "duration": 52,
    "start_time": "2022-04-18T17:32:48.705Z"
   },
   {
    "duration": 12,
    "start_time": "2022-04-18T17:32:48.758Z"
   },
   {
    "duration": 7,
    "start_time": "2022-04-18T17:32:48.771Z"
   },
   {
    "duration": 4,
    "start_time": "2022-04-18T17:32:48.780Z"
   },
   {
    "duration": 43,
    "start_time": "2022-04-18T17:32:48.785Z"
   },
   {
    "duration": 1449,
    "start_time": "2022-04-18T17:32:48.830Z"
   },
   {
    "duration": 3,
    "start_time": "2022-04-18T17:32:50.282Z"
   },
   {
    "duration": 11,
    "start_time": "2022-04-18T17:32:50.287Z"
   },
   {
    "duration": 4,
    "start_time": "2022-04-18T17:32:50.299Z"
   },
   {
    "duration": 30,
    "start_time": "2022-04-18T17:32:50.304Z"
   },
   {
    "duration": 4,
    "start_time": "2022-04-18T17:32:50.336Z"
   },
   {
    "duration": 11,
    "start_time": "2022-04-18T17:32:50.341Z"
   },
   {
    "duration": 5,
    "start_time": "2022-04-18T17:32:50.354Z"
   },
   {
    "duration": 5,
    "start_time": "2022-04-18T17:32:50.361Z"
   },
   {
    "duration": 6,
    "start_time": "2022-04-18T17:32:50.367Z"
   },
   {
    "duration": 12,
    "start_time": "2022-04-18T17:32:50.375Z"
   },
   {
    "duration": 17,
    "start_time": "2022-04-18T17:32:50.388Z"
   },
   {
    "duration": 28,
    "start_time": "2022-04-18T17:32:50.406Z"
   },
   {
    "duration": 8,
    "start_time": "2022-04-18T17:32:50.436Z"
   },
   {
    "duration": 8,
    "start_time": "2022-04-18T17:32:50.446Z"
   },
   {
    "duration": 9,
    "start_time": "2022-04-18T17:32:50.455Z"
   },
   {
    "duration": 8,
    "start_time": "2022-04-18T17:32:50.466Z"
   },
   {
    "duration": 9,
    "start_time": "2022-04-18T17:32:50.475Z"
   },
   {
    "duration": 9,
    "start_time": "2022-04-18T17:32:50.485Z"
   },
   {
    "duration": 42625,
    "start_time": "2022-04-18T17:32:50.497Z"
   },
   {
    "duration": 707,
    "start_time": "2022-04-18T17:33:33.124Z"
   },
   {
    "duration": 179,
    "start_time": "2022-04-18T17:33:33.833Z"
   },
   {
    "duration": 0,
    "start_time": "2022-04-18T17:33:34.014Z"
   },
   {
    "duration": 0,
    "start_time": "2022-04-18T17:33:34.022Z"
   },
   {
    "duration": 0,
    "start_time": "2022-04-18T17:33:34.023Z"
   },
   {
    "duration": 0,
    "start_time": "2022-04-18T17:33:34.024Z"
   },
   {
    "duration": 0,
    "start_time": "2022-04-18T17:33:34.026Z"
   },
   {
    "duration": 0,
    "start_time": "2022-04-18T17:33:34.027Z"
   },
   {
    "duration": 0,
    "start_time": "2022-04-18T17:33:34.028Z"
   },
   {
    "duration": 0,
    "start_time": "2022-04-18T17:33:34.029Z"
   },
   {
    "duration": 0,
    "start_time": "2022-04-18T17:33:34.031Z"
   },
   {
    "duration": 0,
    "start_time": "2022-04-18T17:33:34.032Z"
   },
   {
    "duration": 0,
    "start_time": "2022-04-18T17:33:34.034Z"
   },
   {
    "duration": 0,
    "start_time": "2022-04-18T17:33:34.035Z"
   },
   {
    "duration": 0,
    "start_time": "2022-04-18T17:33:34.036Z"
   },
   {
    "duration": 0,
    "start_time": "2022-04-18T17:33:34.038Z"
   },
   {
    "duration": 0,
    "start_time": "2022-04-18T17:33:34.039Z"
   },
   {
    "duration": 0,
    "start_time": "2022-04-18T17:33:34.041Z"
   },
   {
    "duration": 0,
    "start_time": "2022-04-18T17:33:34.042Z"
   },
   {
    "duration": 0,
    "start_time": "2022-04-18T17:33:34.043Z"
   },
   {
    "duration": 0,
    "start_time": "2022-04-18T17:33:34.045Z"
   },
   {
    "duration": 0,
    "start_time": "2022-04-18T17:33:34.046Z"
   },
   {
    "duration": 0,
    "start_time": "2022-04-18T17:33:34.047Z"
   },
   {
    "duration": 0,
    "start_time": "2022-04-18T17:33:34.049Z"
   },
   {
    "duration": 0,
    "start_time": "2022-04-18T17:33:34.051Z"
   },
   {
    "duration": 0,
    "start_time": "2022-04-18T17:33:34.053Z"
   },
   {
    "duration": 0,
    "start_time": "2022-04-18T17:33:34.054Z"
   },
   {
    "duration": 0,
    "start_time": "2022-04-18T17:33:34.055Z"
   },
   {
    "duration": 0,
    "start_time": "2022-04-18T17:33:34.056Z"
   },
   {
    "duration": 1641,
    "start_time": "2022-04-18T17:37:23.710Z"
   },
   {
    "duration": 58,
    "start_time": "2022-04-18T17:37:25.354Z"
   },
   {
    "duration": 4,
    "start_time": "2022-04-18T17:37:25.414Z"
   },
   {
    "duration": 56,
    "start_time": "2022-04-18T17:37:25.422Z"
   },
   {
    "duration": 17,
    "start_time": "2022-04-18T17:37:25.480Z"
   },
   {
    "duration": 24,
    "start_time": "2022-04-18T17:37:25.499Z"
   },
   {
    "duration": 6,
    "start_time": "2022-04-18T17:37:25.525Z"
   },
   {
    "duration": 24,
    "start_time": "2022-04-18T17:37:25.533Z"
   },
   {
    "duration": 1444,
    "start_time": "2022-04-18T17:37:25.559Z"
   },
   {
    "duration": 3,
    "start_time": "2022-04-18T17:37:27.007Z"
   },
   {
    "duration": 20,
    "start_time": "2022-04-18T17:37:27.011Z"
   },
   {
    "duration": 3,
    "start_time": "2022-04-18T17:37:27.033Z"
   },
   {
    "duration": 31,
    "start_time": "2022-04-18T17:37:27.038Z"
   },
   {
    "duration": 3,
    "start_time": "2022-04-18T17:37:27.071Z"
   },
   {
    "duration": 8,
    "start_time": "2022-04-18T17:37:27.075Z"
   },
   {
    "duration": 9,
    "start_time": "2022-04-18T17:37:27.084Z"
   },
   {
    "duration": 27,
    "start_time": "2022-04-18T17:37:27.095Z"
   },
   {
    "duration": 4,
    "start_time": "2022-04-18T17:37:27.124Z"
   },
   {
    "duration": 8,
    "start_time": "2022-04-18T17:37:27.129Z"
   },
   {
    "duration": 9,
    "start_time": "2022-04-18T17:37:27.139Z"
   },
   {
    "duration": 11,
    "start_time": "2022-04-18T17:37:27.149Z"
   },
   {
    "duration": 8,
    "start_time": "2022-04-18T17:37:27.162Z"
   },
   {
    "duration": 14,
    "start_time": "2022-04-18T17:37:27.171Z"
   },
   {
    "duration": 6,
    "start_time": "2022-04-18T17:37:27.187Z"
   },
   {
    "duration": 10,
    "start_time": "2022-04-18T17:37:27.195Z"
   },
   {
    "duration": 18,
    "start_time": "2022-04-18T17:37:27.207Z"
   },
   {
    "duration": 7,
    "start_time": "2022-04-18T17:37:27.227Z"
   },
   {
    "duration": 42905,
    "start_time": "2022-04-18T17:37:27.238Z"
   },
   {
    "duration": 625,
    "start_time": "2022-04-18T17:38:10.145Z"
   },
   {
    "duration": 52,
    "start_time": "2022-04-18T17:38:10.772Z"
   },
   {
    "duration": 656,
    "start_time": "2022-04-18T17:38:10.826Z"
   },
   {
    "duration": 5,
    "start_time": "2022-04-18T17:38:11.484Z"
   },
   {
    "duration": 35,
    "start_time": "2022-04-18T17:38:11.491Z"
   },
   {
    "duration": 22,
    "start_time": "2022-04-18T17:38:11.528Z"
   },
   {
    "duration": 171,
    "start_time": "2022-04-18T17:38:11.553Z"
   },
   {
    "duration": 12,
    "start_time": "2022-04-18T17:38:11.725Z"
   },
   {
    "duration": 31349,
    "start_time": "2022-04-18T17:38:11.740Z"
   },
   {
    "duration": 369,
    "start_time": "2022-04-18T17:38:43.091Z"
   },
   {
    "duration": 6,
    "start_time": "2022-04-18T17:38:43.462Z"
   },
   {
    "duration": 20,
    "start_time": "2022-04-18T17:38:43.469Z"
   },
   {
    "duration": 40,
    "start_time": "2022-04-18T17:38:43.490Z"
   },
   {
    "duration": 95,
    "start_time": "2022-04-18T17:38:43.532Z"
   },
   {
    "duration": 95,
    "start_time": "2022-04-18T17:38:43.629Z"
   },
   {
    "duration": 6,
    "start_time": "2022-04-18T17:38:43.727Z"
   },
   {
    "duration": 98,
    "start_time": "2022-04-18T17:38:43.736Z"
   },
   {
    "duration": 19355,
    "start_time": "2022-04-18T17:38:43.836Z"
   },
   {
    "duration": 274,
    "start_time": "2022-04-18T17:39:03.193Z"
   },
   {
    "duration": 7,
    "start_time": "2022-04-18T17:39:03.468Z"
   },
   {
    "duration": 22,
    "start_time": "2022-04-18T17:39:03.477Z"
   },
   {
    "duration": 28,
    "start_time": "2022-04-18T17:39:03.501Z"
   },
   {
    "duration": 6,
    "start_time": "2022-04-18T17:39:03.531Z"
   },
   {
    "duration": 94,
    "start_time": "2022-04-18T17:39:03.538Z"
   },
   {
    "duration": 844,
    "start_time": "2022-04-18T17:39:03.634Z"
   },
   {
    "duration": 4,
    "start_time": "2022-04-18T17:39:04.480Z"
   },
   {
    "duration": 122,
    "start_time": "2022-04-18T17:39:04.485Z"
   },
   {
    "duration": 29,
    "start_time": "2022-04-18T17:39:04.609Z"
   },
   {
    "duration": 86,
    "start_time": "2022-04-18T17:39:04.640Z"
   },
   {
    "duration": 203,
    "start_time": "2022-04-18T17:39:04.728Z"
   },
   {
    "duration": 71,
    "start_time": "2022-04-18T17:43:24.928Z"
   },
   {
    "duration": 112,
    "start_time": "2022-04-18T17:43:30.776Z"
   },
   {
    "duration": 133,
    "start_time": "2022-04-18T17:43:41.721Z"
   },
   {
    "duration": 111,
    "start_time": "2022-04-18T17:44:05.826Z"
   },
   {
    "duration": 1569,
    "start_time": "2022-04-18T18:17:06.597Z"
   },
   {
    "duration": 63,
    "start_time": "2022-04-18T18:17:08.168Z"
   },
   {
    "duration": 4,
    "start_time": "2022-04-18T18:17:08.233Z"
   },
   {
    "duration": 36,
    "start_time": "2022-04-18T18:17:08.239Z"
   },
   {
    "duration": 11,
    "start_time": "2022-04-18T18:17:08.277Z"
   },
   {
    "duration": 8,
    "start_time": "2022-04-18T18:17:08.290Z"
   },
   {
    "duration": 26,
    "start_time": "2022-04-18T18:17:08.300Z"
   },
   {
    "duration": 27,
    "start_time": "2022-04-18T18:17:08.327Z"
   },
   {
    "duration": 1443,
    "start_time": "2022-04-18T18:17:08.356Z"
   },
   {
    "duration": 3,
    "start_time": "2022-04-18T18:17:09.801Z"
   },
   {
    "duration": 18,
    "start_time": "2022-04-18T18:17:09.805Z"
   },
   {
    "duration": 17,
    "start_time": "2022-04-18T18:17:09.824Z"
   },
   {
    "duration": 46,
    "start_time": "2022-04-18T18:17:09.843Z"
   },
   {
    "duration": 3,
    "start_time": "2022-04-18T18:17:09.892Z"
   },
   {
    "duration": 16,
    "start_time": "2022-04-18T18:17:09.896Z"
   },
   {
    "duration": 21,
    "start_time": "2022-04-18T18:17:09.914Z"
   },
   {
    "duration": 21,
    "start_time": "2022-04-18T18:17:09.937Z"
   },
   {
    "duration": 22,
    "start_time": "2022-04-18T18:17:09.959Z"
   },
   {
    "duration": 11,
    "start_time": "2022-04-18T18:17:09.982Z"
   },
   {
    "duration": 19,
    "start_time": "2022-04-18T18:17:09.994Z"
   },
   {
    "duration": 19,
    "start_time": "2022-04-18T18:17:10.015Z"
   },
   {
    "duration": 13,
    "start_time": "2022-04-18T18:17:10.036Z"
   },
   {
    "duration": 23,
    "start_time": "2022-04-18T18:17:10.051Z"
   },
   {
    "duration": 11,
    "start_time": "2022-04-18T18:17:10.076Z"
   },
   {
    "duration": 15,
    "start_time": "2022-04-18T18:17:10.088Z"
   },
   {
    "duration": 26,
    "start_time": "2022-04-18T18:17:10.105Z"
   },
   {
    "duration": 7,
    "start_time": "2022-04-18T18:17:10.132Z"
   },
   {
    "duration": 42928,
    "start_time": "2022-04-18T18:17:10.141Z"
   },
   {
    "duration": 632,
    "start_time": "2022-04-18T18:17:53.070Z"
   },
   {
    "duration": 116,
    "start_time": "2022-04-18T18:17:53.703Z"
   },
   {
    "duration": 621,
    "start_time": "2022-04-18T18:17:53.822Z"
   },
   {
    "duration": 138,
    "start_time": "2022-04-18T18:17:54.445Z"
   },
   {
    "duration": 0,
    "start_time": "2022-04-18T18:17:54.585Z"
   },
   {
    "duration": 0,
    "start_time": "2022-04-18T18:17:54.586Z"
   },
   {
    "duration": 0,
    "start_time": "2022-04-18T18:17:54.587Z"
   },
   {
    "duration": 0,
    "start_time": "2022-04-18T18:17:54.588Z"
   },
   {
    "duration": 0,
    "start_time": "2022-04-18T18:17:54.589Z"
   },
   {
    "duration": 0,
    "start_time": "2022-04-18T18:17:54.590Z"
   },
   {
    "duration": 0,
    "start_time": "2022-04-18T18:17:54.591Z"
   },
   {
    "duration": 0,
    "start_time": "2022-04-18T18:17:54.592Z"
   },
   {
    "duration": 0,
    "start_time": "2022-04-18T18:17:54.592Z"
   },
   {
    "duration": 0,
    "start_time": "2022-04-18T18:17:54.594Z"
   },
   {
    "duration": 0,
    "start_time": "2022-04-18T18:17:54.594Z"
   },
   {
    "duration": 0,
    "start_time": "2022-04-18T18:17:54.595Z"
   },
   {
    "duration": 0,
    "start_time": "2022-04-18T18:17:54.596Z"
   },
   {
    "duration": 0,
    "start_time": "2022-04-18T18:17:54.597Z"
   },
   {
    "duration": 0,
    "start_time": "2022-04-18T18:17:54.598Z"
   },
   {
    "duration": 0,
    "start_time": "2022-04-18T18:17:54.622Z"
   },
   {
    "duration": 0,
    "start_time": "2022-04-18T18:17:54.623Z"
   },
   {
    "duration": 0,
    "start_time": "2022-04-18T18:17:54.630Z"
   },
   {
    "duration": 0,
    "start_time": "2022-04-18T18:17:54.633Z"
   },
   {
    "duration": 1,
    "start_time": "2022-04-18T18:17:54.637Z"
   },
   {
    "duration": 0,
    "start_time": "2022-04-18T18:17:54.638Z"
   },
   {
    "duration": 0,
    "start_time": "2022-04-18T18:17:54.639Z"
   },
   {
    "duration": 0,
    "start_time": "2022-04-18T18:17:54.640Z"
   },
   {
    "duration": 0,
    "start_time": "2022-04-18T18:17:54.642Z"
   },
   {
    "duration": 0,
    "start_time": "2022-04-18T18:17:54.642Z"
   },
   {
    "duration": 0,
    "start_time": "2022-04-18T18:17:54.643Z"
   },
   {
    "duration": 0,
    "start_time": "2022-04-18T18:17:54.644Z"
   },
   {
    "duration": 39,
    "start_time": "2022-04-18T18:18:10.478Z"
   },
   {
    "duration": 6,
    "start_time": "2022-04-18T18:18:14.904Z"
   },
   {
    "duration": 23,
    "start_time": "2022-04-18T18:18:17.069Z"
   },
   {
    "duration": 24,
    "start_time": "2022-04-18T18:18:17.637Z"
   },
   {
    "duration": 6,
    "start_time": "2022-04-18T18:18:17.862Z"
   },
   {
    "duration": 8,
    "start_time": "2022-04-18T18:18:18.245Z"
   },
   {
    "duration": 29973,
    "start_time": "2022-04-18T18:18:18.822Z"
   },
   {
    "duration": 354,
    "start_time": "2022-04-18T18:18:48.797Z"
   },
   {
    "duration": 6,
    "start_time": "2022-04-18T18:18:49.152Z"
   },
   {
    "duration": 20,
    "start_time": "2022-04-18T18:18:49.160Z"
   },
   {
    "duration": 12,
    "start_time": "2022-04-18T18:18:49.181Z"
   },
   {
    "duration": 98,
    "start_time": "2022-04-18T18:18:49.225Z"
   },
   {
    "duration": 9,
    "start_time": "2022-04-18T18:18:49.325Z"
   },
   {
    "duration": 6,
    "start_time": "2022-04-18T18:18:49.423Z"
   },
   {
    "duration": 96,
    "start_time": "2022-04-18T18:18:49.431Z"
   },
   {
    "duration": 1500,
    "start_time": "2022-04-18T18:19:07.371Z"
   },
   {
    "duration": 60,
    "start_time": "2022-04-18T18:19:08.873Z"
   },
   {
    "duration": 4,
    "start_time": "2022-04-18T18:19:08.935Z"
   },
   {
    "duration": 42,
    "start_time": "2022-04-18T18:19:08.941Z"
   },
   {
    "duration": 13,
    "start_time": "2022-04-18T18:19:08.985Z"
   },
   {
    "duration": 26,
    "start_time": "2022-04-18T18:19:08.999Z"
   },
   {
    "duration": 4,
    "start_time": "2022-04-18T18:19:09.027Z"
   },
   {
    "duration": 25,
    "start_time": "2022-04-18T18:19:09.033Z"
   },
   {
    "duration": 1444,
    "start_time": "2022-04-18T18:19:09.059Z"
   },
   {
    "duration": 4,
    "start_time": "2022-04-18T18:19:10.504Z"
   },
   {
    "duration": 22,
    "start_time": "2022-04-18T18:19:10.509Z"
   },
   {
    "duration": 7,
    "start_time": "2022-04-18T18:19:10.532Z"
   },
   {
    "duration": 29,
    "start_time": "2022-04-18T18:19:10.541Z"
   },
   {
    "duration": 3,
    "start_time": "2022-04-18T18:19:10.573Z"
   },
   {
    "duration": 6,
    "start_time": "2022-04-18T18:19:10.578Z"
   },
   {
    "duration": 4,
    "start_time": "2022-04-18T18:19:10.585Z"
   },
   {
    "duration": 5,
    "start_time": "2022-04-18T18:19:10.590Z"
   },
   {
    "duration": 29,
    "start_time": "2022-04-18T18:19:10.596Z"
   },
   {
    "duration": 7,
    "start_time": "2022-04-18T18:19:10.626Z"
   },
   {
    "duration": 8,
    "start_time": "2022-04-18T18:19:10.635Z"
   },
   {
    "duration": 9,
    "start_time": "2022-04-18T18:19:10.644Z"
   },
   {
    "duration": 9,
    "start_time": "2022-04-18T18:19:10.654Z"
   },
   {
    "duration": 22,
    "start_time": "2022-04-18T18:19:10.664Z"
   },
   {
    "duration": 6,
    "start_time": "2022-04-18T18:19:10.687Z"
   },
   {
    "duration": 11,
    "start_time": "2022-04-18T18:19:10.695Z"
   },
   {
    "duration": 8,
    "start_time": "2022-04-18T18:19:10.708Z"
   },
   {
    "duration": 8,
    "start_time": "2022-04-18T18:19:10.718Z"
   },
   {
    "duration": 41307,
    "start_time": "2022-04-18T18:19:10.728Z"
   },
   {
    "duration": 596,
    "start_time": "2022-04-18T18:19:52.037Z"
   },
   {
    "duration": 103,
    "start_time": "2022-04-18T18:19:52.634Z"
   },
   {
    "duration": 610,
    "start_time": "2022-04-18T18:19:52.739Z"
   },
   {
    "duration": 36,
    "start_time": "2022-04-18T18:19:53.350Z"
   },
   {
    "duration": 5,
    "start_time": "2022-04-18T18:19:53.387Z"
   },
   {
    "duration": 39,
    "start_time": "2022-04-18T18:19:53.394Z"
   },
   {
    "duration": 90,
    "start_time": "2022-04-18T18:19:53.435Z"
   },
   {
    "duration": 97,
    "start_time": "2022-04-18T18:19:53.526Z"
   },
   {
    "duration": 9,
    "start_time": "2022-04-18T18:19:53.625Z"
   },
   {
    "duration": 30435,
    "start_time": "2022-04-18T18:19:53.636Z"
   },
   {
    "duration": 358,
    "start_time": "2022-04-18T18:20:24.072Z"
   },
   {
    "duration": 6,
    "start_time": "2022-04-18T18:20:24.432Z"
   },
   {
    "duration": 35,
    "start_time": "2022-04-18T18:20:24.441Z"
   },
   {
    "duration": 47,
    "start_time": "2022-04-18T18:20:24.478Z"
   },
   {
    "duration": 10,
    "start_time": "2022-04-18T18:20:24.527Z"
   },
   {
    "duration": 12,
    "start_time": "2022-04-18T18:20:24.624Z"
   },
   {
    "duration": 85,
    "start_time": "2022-04-18T18:20:24.639Z"
   },
   {
    "duration": 102,
    "start_time": "2022-04-18T18:20:24.726Z"
   },
   {
    "duration": 19407,
    "start_time": "2022-04-18T18:20:24.830Z"
   },
   {
    "duration": 269,
    "start_time": "2022-04-18T18:20:44.239Z"
   },
   {
    "duration": 14,
    "start_time": "2022-04-18T18:20:44.510Z"
   },
   {
    "duration": 25,
    "start_time": "2022-04-18T18:20:44.525Z"
   },
   {
    "duration": 11,
    "start_time": "2022-04-18T18:20:44.552Z"
   },
   {
    "duration": 159,
    "start_time": "2022-04-18T18:20:44.565Z"
   },
   {
    "duration": 8,
    "start_time": "2022-04-18T18:20:44.726Z"
   },
   {
    "duration": 828,
    "start_time": "2022-04-18T18:20:44.736Z"
   },
   {
    "duration": 4,
    "start_time": "2022-04-18T18:20:45.565Z"
   },
   {
    "duration": 113,
    "start_time": "2022-04-18T18:20:45.571Z"
   },
   {
    "duration": 42,
    "start_time": "2022-04-18T18:20:45.686Z"
   },
   {
    "duration": 94,
    "start_time": "2022-04-18T18:20:45.730Z"
   },
   {
    "duration": 214,
    "start_time": "2022-04-18T18:20:45.826Z"
   },
   {
    "duration": 2569,
    "start_time": "2022-04-18T18:34:44.324Z"
   },
   {
    "duration": 256,
    "start_time": "2022-04-18T18:34:46.894Z"
   },
   {
    "duration": 4,
    "start_time": "2022-04-18T18:34:47.152Z"
   },
   {
    "duration": 36,
    "start_time": "2022-04-18T18:34:47.158Z"
   },
   {
    "duration": 27,
    "start_time": "2022-04-18T18:34:47.196Z"
   },
   {
    "duration": 8,
    "start_time": "2022-04-18T18:34:47.225Z"
   },
   {
    "duration": 5,
    "start_time": "2022-04-18T18:34:47.235Z"
   },
   {
    "duration": 24,
    "start_time": "2022-04-18T18:34:47.242Z"
   },
   {
    "duration": 1411,
    "start_time": "2022-04-18T18:34:47.268Z"
   },
   {
    "duration": 3,
    "start_time": "2022-04-18T18:34:48.682Z"
   },
   {
    "duration": 11,
    "start_time": "2022-04-18T18:34:48.686Z"
   },
   {
    "duration": 3,
    "start_time": "2022-04-18T18:34:48.698Z"
   },
   {
    "duration": 30,
    "start_time": "2022-04-18T18:34:48.703Z"
   },
   {
    "duration": 3,
    "start_time": "2022-04-18T18:34:48.735Z"
   },
   {
    "duration": 6,
    "start_time": "2022-04-18T18:34:48.740Z"
   },
   {
    "duration": 9,
    "start_time": "2022-04-18T18:34:48.748Z"
   },
   {
    "duration": 10,
    "start_time": "2022-04-18T18:34:48.758Z"
   },
   {
    "duration": 10,
    "start_time": "2022-04-18T18:34:48.769Z"
   },
   {
    "duration": 9,
    "start_time": "2022-04-18T18:34:48.780Z"
   },
   {
    "duration": 9,
    "start_time": "2022-04-18T18:34:48.791Z"
   },
   {
    "duration": 9,
    "start_time": "2022-04-18T18:34:48.802Z"
   },
   {
    "duration": 10,
    "start_time": "2022-04-18T18:34:48.812Z"
   },
   {
    "duration": 9,
    "start_time": "2022-04-18T18:34:48.824Z"
   },
   {
    "duration": 7,
    "start_time": "2022-04-18T18:34:48.835Z"
   },
   {
    "duration": 9,
    "start_time": "2022-04-18T18:34:48.843Z"
   },
   {
    "duration": 10,
    "start_time": "2022-04-18T18:34:48.854Z"
   },
   {
    "duration": 8,
    "start_time": "2022-04-18T18:34:48.866Z"
   },
   {
    "duration": 43018,
    "start_time": "2022-04-18T18:34:48.877Z"
   },
   {
    "duration": 646,
    "start_time": "2022-04-18T18:35:31.896Z"
   },
   {
    "duration": 113,
    "start_time": "2022-04-18T18:35:32.543Z"
   },
   {
    "duration": 600,
    "start_time": "2022-04-18T18:35:32.657Z"
   },
   {
    "duration": 37,
    "start_time": "2022-04-18T18:35:33.259Z"
   },
   {
    "duration": 5,
    "start_time": "2022-04-18T18:35:33.298Z"
   },
   {
    "duration": 38,
    "start_time": "2022-04-18T18:35:33.305Z"
   },
   {
    "duration": 80,
    "start_time": "2022-04-18T18:35:33.344Z"
   },
   {
    "duration": 9,
    "start_time": "2022-04-18T18:35:33.426Z"
   },
   {
    "duration": 14,
    "start_time": "2022-04-18T18:35:33.523Z"
   },
   {
    "duration": 29567,
    "start_time": "2022-04-18T18:35:33.539Z"
   },
   {
    "duration": 452,
    "start_time": "2022-04-18T18:36:03.107Z"
   },
   {
    "duration": 120,
    "start_time": "2022-04-18T18:36:03.560Z"
   },
   {
    "duration": 360,
    "start_time": "2022-04-18T18:36:03.682Z"
   },
   {
    "duration": 32,
    "start_time": "2022-04-18T18:36:04.044Z"
   },
   {
    "duration": 6,
    "start_time": "2022-04-18T18:36:04.077Z"
   },
   {
    "duration": 41,
    "start_time": "2022-04-18T18:36:04.085Z"
   },
   {
    "duration": 16,
    "start_time": "2022-04-18T18:36:04.128Z"
   },
   {
    "duration": 78,
    "start_time": "2022-04-18T18:36:04.146Z"
   },
   {
    "duration": 97,
    "start_time": "2022-04-18T18:36:04.227Z"
   },
   {
    "duration": 7,
    "start_time": "2022-04-18T18:36:04.326Z"
   },
   {
    "duration": 9,
    "start_time": "2022-04-18T18:36:04.422Z"
   },
   {
    "duration": 19347,
    "start_time": "2022-04-18T18:36:04.433Z"
   },
   {
    "duration": 292,
    "start_time": "2022-04-18T18:36:23.782Z"
   },
   {
    "duration": 121,
    "start_time": "2022-04-18T18:36:24.076Z"
   },
   {
    "duration": 272,
    "start_time": "2022-04-18T18:36:24.199Z"
   },
   {
    "duration": 33,
    "start_time": "2022-04-18T18:36:24.473Z"
   },
   {
    "duration": 20,
    "start_time": "2022-04-18T18:36:24.507Z"
   },
   {
    "duration": 27,
    "start_time": "2022-04-18T18:36:24.528Z"
   },
   {
    "duration": 12,
    "start_time": "2022-04-18T18:36:24.557Z"
   },
   {
    "duration": 153,
    "start_time": "2022-04-18T18:36:24.571Z"
   },
   {
    "duration": 27,
    "start_time": "2022-04-18T18:36:24.726Z"
   },
   {
    "duration": 799,
    "start_time": "2022-04-18T18:36:24.756Z"
   },
   {
    "duration": 4,
    "start_time": "2022-04-18T18:36:25.557Z"
   },
   {
    "duration": 114,
    "start_time": "2022-04-18T18:36:25.563Z"
   },
   {
    "duration": 47,
    "start_time": "2022-04-18T18:36:25.679Z"
   },
   {
    "duration": 5,
    "start_time": "2022-04-18T18:36:25.727Z"
   },
   {
    "duration": 156,
    "start_time": "2022-04-18T18:36:25.822Z"
   },
   {
    "duration": 1557,
    "start_time": "2022-04-18T18:39:05.783Z"
   },
   {
    "duration": 50,
    "start_time": "2022-04-18T18:39:07.342Z"
   },
   {
    "duration": 3,
    "start_time": "2022-04-18T18:39:07.394Z"
   },
   {
    "duration": 50,
    "start_time": "2022-04-18T18:39:07.400Z"
   },
   {
    "duration": 12,
    "start_time": "2022-04-18T18:39:07.451Z"
   },
   {
    "duration": 7,
    "start_time": "2022-04-18T18:39:07.465Z"
   },
   {
    "duration": 4,
    "start_time": "2022-04-18T18:39:07.474Z"
   },
   {
    "duration": 54,
    "start_time": "2022-04-18T18:39:07.480Z"
   },
   {
    "duration": 1452,
    "start_time": "2022-04-18T18:39:07.535Z"
   },
   {
    "duration": 4,
    "start_time": "2022-04-18T18:39:08.990Z"
   },
   {
    "duration": 11,
    "start_time": "2022-04-18T18:39:08.995Z"
   },
   {
    "duration": 3,
    "start_time": "2022-04-18T18:39:09.008Z"
   },
   {
    "duration": 32,
    "start_time": "2022-04-18T18:39:09.013Z"
   },
   {
    "duration": 3,
    "start_time": "2022-04-18T18:39:09.047Z"
   },
   {
    "duration": 11,
    "start_time": "2022-04-18T18:39:09.052Z"
   },
   {
    "duration": 7,
    "start_time": "2022-04-18T18:39:09.065Z"
   },
   {
    "duration": 8,
    "start_time": "2022-04-18T18:39:09.074Z"
   },
   {
    "duration": 10,
    "start_time": "2022-04-18T18:39:09.084Z"
   },
   {
    "duration": 29,
    "start_time": "2022-04-18T18:39:09.095Z"
   },
   {
    "duration": 5,
    "start_time": "2022-04-18T18:39:09.126Z"
   },
   {
    "duration": 7,
    "start_time": "2022-04-18T18:39:09.133Z"
   },
   {
    "duration": 14,
    "start_time": "2022-04-18T18:39:09.142Z"
   },
   {
    "duration": 11,
    "start_time": "2022-04-18T18:39:09.158Z"
   },
   {
    "duration": 11,
    "start_time": "2022-04-18T18:39:09.171Z"
   },
   {
    "duration": 8,
    "start_time": "2022-04-18T18:39:09.184Z"
   },
   {
    "duration": 11,
    "start_time": "2022-04-18T18:39:09.194Z"
   },
   {
    "duration": 10,
    "start_time": "2022-04-18T18:39:09.207Z"
   },
   {
    "duration": 42694,
    "start_time": "2022-04-18T18:39:09.225Z"
   },
   {
    "duration": 663,
    "start_time": "2022-04-18T18:39:51.923Z"
   },
   {
    "duration": 145,
    "start_time": "2022-04-18T18:39:52.587Z"
   },
   {
    "duration": 627,
    "start_time": "2022-04-18T18:39:52.734Z"
   },
   {
    "duration": 38,
    "start_time": "2022-04-18T18:39:53.362Z"
   },
   {
    "duration": 22,
    "start_time": "2022-04-18T18:39:53.401Z"
   },
   {
    "duration": 26,
    "start_time": "2022-04-18T18:39:53.425Z"
   },
   {
    "duration": 77,
    "start_time": "2022-04-18T18:39:53.452Z"
   },
   {
    "duration": 8,
    "start_time": "2022-04-18T18:39:53.531Z"
   },
   {
    "duration": 20,
    "start_time": "2022-04-18T18:39:53.623Z"
   },
   {
    "duration": 30514,
    "start_time": "2022-04-18T18:39:53.646Z"
   },
   {
    "duration": 460,
    "start_time": "2022-04-18T18:40:24.162Z"
   },
   {
    "duration": 137,
    "start_time": "2022-04-18T18:40:24.624Z"
   },
   {
    "duration": 359,
    "start_time": "2022-04-18T18:40:24.763Z"
   },
   {
    "duration": 30,
    "start_time": "2022-04-18T18:40:25.123Z"
   },
   {
    "duration": 6,
    "start_time": "2022-04-18T18:40:25.156Z"
   },
   {
    "duration": 20,
    "start_time": "2022-04-18T18:40:25.164Z"
   },
   {
    "duration": 43,
    "start_time": "2022-04-18T18:40:25.186Z"
   },
   {
    "duration": 97,
    "start_time": "2022-04-18T18:40:25.231Z"
   },
   {
    "duration": 95,
    "start_time": "2022-04-18T18:40:25.330Z"
   },
   {
    "duration": 96,
    "start_time": "2022-04-18T18:40:25.427Z"
   },
   {
    "duration": 12,
    "start_time": "2022-04-18T18:40:25.525Z"
   },
   {
    "duration": 18686,
    "start_time": "2022-04-18T18:40:25.538Z"
   },
   {
    "duration": 307,
    "start_time": "2022-04-18T18:40:44.226Z"
   },
   {
    "duration": 140,
    "start_time": "2022-04-18T18:40:44.535Z"
   },
   {
    "duration": 285,
    "start_time": "2022-04-18T18:40:44.676Z"
   },
   {
    "duration": 29,
    "start_time": "2022-04-18T18:40:44.962Z"
   },
   {
    "duration": 5,
    "start_time": "2022-04-18T18:40:44.993Z"
   },
   {
    "duration": 37,
    "start_time": "2022-04-18T18:40:44.999Z"
   },
   {
    "duration": 11,
    "start_time": "2022-04-18T18:40:45.038Z"
   },
   {
    "duration": 170,
    "start_time": "2022-04-18T18:40:45.051Z"
   },
   {
    "duration": 10,
    "start_time": "2022-04-18T18:40:45.223Z"
   },
   {
    "duration": 805,
    "start_time": "2022-04-18T18:40:45.234Z"
   },
   {
    "duration": 3,
    "start_time": "2022-04-18T18:40:46.041Z"
   },
   {
    "duration": 113,
    "start_time": "2022-04-18T18:40:46.046Z"
   },
   {
    "duration": 20,
    "start_time": "2022-04-18T18:40:46.161Z"
   },
   {
    "duration": 5,
    "start_time": "2022-04-18T18:40:46.224Z"
   },
   {
    "duration": 109,
    "start_time": "2022-04-18T18:40:46.322Z"
   },
   {
    "duration": 1690,
    "start_time": "2022-04-18T18:41:15.939Z"
   },
   {
    "duration": 48,
    "start_time": "2022-04-18T18:41:17.631Z"
   },
   {
    "duration": 4,
    "start_time": "2022-04-18T18:41:17.681Z"
   },
   {
    "duration": 44,
    "start_time": "2022-04-18T18:41:17.687Z"
   },
   {
    "duration": 12,
    "start_time": "2022-04-18T18:41:17.733Z"
   },
   {
    "duration": 9,
    "start_time": "2022-04-18T18:41:17.746Z"
   },
   {
    "duration": 5,
    "start_time": "2022-04-18T18:41:17.756Z"
   },
   {
    "duration": 24,
    "start_time": "2022-04-18T18:41:17.763Z"
   },
   {
    "duration": 1621,
    "start_time": "2022-04-18T18:41:17.790Z"
   },
   {
    "duration": 4,
    "start_time": "2022-04-18T18:41:19.414Z"
   },
   {
    "duration": 19,
    "start_time": "2022-04-18T18:41:19.420Z"
   },
   {
    "duration": 4,
    "start_time": "2022-04-18T18:41:19.441Z"
   },
   {
    "duration": 30,
    "start_time": "2022-04-18T18:41:19.447Z"
   },
   {
    "duration": 4,
    "start_time": "2022-04-18T18:41:19.481Z"
   },
   {
    "duration": 8,
    "start_time": "2022-04-18T18:41:19.486Z"
   },
   {
    "duration": 29,
    "start_time": "2022-04-18T18:41:19.496Z"
   },
   {
    "duration": 5,
    "start_time": "2022-04-18T18:41:19.527Z"
   },
   {
    "duration": 6,
    "start_time": "2022-04-18T18:41:19.534Z"
   },
   {
    "duration": 5,
    "start_time": "2022-04-18T18:41:19.541Z"
   },
   {
    "duration": 9,
    "start_time": "2022-04-18T18:41:19.548Z"
   },
   {
    "duration": 9,
    "start_time": "2022-04-18T18:41:19.558Z"
   },
   {
    "duration": 14,
    "start_time": "2022-04-18T18:41:19.569Z"
   },
   {
    "duration": 8,
    "start_time": "2022-04-18T18:41:19.584Z"
   },
   {
    "duration": 6,
    "start_time": "2022-04-18T18:41:19.593Z"
   },
   {
    "duration": 4,
    "start_time": "2022-04-18T18:41:19.622Z"
   },
   {
    "duration": 6,
    "start_time": "2022-04-18T18:41:19.627Z"
   },
   {
    "duration": 7,
    "start_time": "2022-04-18T18:41:19.635Z"
   },
   {
    "duration": 41531,
    "start_time": "2022-04-18T18:41:19.644Z"
   },
   {
    "duration": 609,
    "start_time": "2022-04-18T18:42:01.177Z"
   },
   {
    "duration": 135,
    "start_time": "2022-04-18T18:42:01.788Z"
   },
   {
    "duration": 607,
    "start_time": "2022-04-18T18:42:01.924Z"
   },
   {
    "duration": 36,
    "start_time": "2022-04-18T18:42:02.532Z"
   },
   {
    "duration": 5,
    "start_time": "2022-04-18T18:42:02.569Z"
   },
   {
    "duration": 23,
    "start_time": "2022-04-18T18:42:02.576Z"
   },
   {
    "duration": 20,
    "start_time": "2022-04-18T18:42:02.623Z"
   },
   {
    "duration": 179,
    "start_time": "2022-04-18T18:42:02.645Z"
   },
   {
    "duration": 10,
    "start_time": "2022-04-18T18:42:02.825Z"
   },
   {
    "duration": 30379,
    "start_time": "2022-04-18T18:42:02.837Z"
   },
   {
    "duration": 430,
    "start_time": "2022-04-18T18:42:33.222Z"
   },
   {
    "duration": 127,
    "start_time": "2022-04-18T18:42:33.653Z"
   },
   {
    "duration": 351,
    "start_time": "2022-04-18T18:42:33.784Z"
   },
   {
    "duration": 29,
    "start_time": "2022-04-18T18:42:34.137Z"
   },
   {
    "duration": 6,
    "start_time": "2022-04-18T18:42:34.168Z"
   },
   {
    "duration": 19,
    "start_time": "2022-04-18T18:42:34.175Z"
   },
   {
    "duration": 41,
    "start_time": "2022-04-18T18:42:34.196Z"
   },
   {
    "duration": 90,
    "start_time": "2022-04-18T18:42:34.239Z"
   },
   {
    "duration": 98,
    "start_time": "2022-04-18T18:42:34.332Z"
   },
   {
    "duration": 90,
    "start_time": "2022-04-18T18:42:34.432Z"
   },
   {
    "duration": 10,
    "start_time": "2022-04-18T18:42:34.525Z"
   },
   {
    "duration": 18818,
    "start_time": "2022-04-18T18:42:34.537Z"
   },
   {
    "duration": 289,
    "start_time": "2022-04-18T18:42:53.357Z"
   },
   {
    "duration": 138,
    "start_time": "2022-04-18T18:42:53.648Z"
   },
   {
    "duration": 271,
    "start_time": "2022-04-18T18:42:53.788Z"
   },
   {
    "duration": 32,
    "start_time": "2022-04-18T18:42:54.061Z"
   },
   {
    "duration": 6,
    "start_time": "2022-04-18T18:42:54.094Z"
   },
   {
    "duration": 33,
    "start_time": "2022-04-18T18:42:54.101Z"
   },
   {
    "duration": 95,
    "start_time": "2022-04-18T18:42:54.136Z"
   },
   {
    "duration": 92,
    "start_time": "2022-04-18T18:42:54.234Z"
   },
   {
    "duration": 9,
    "start_time": "2022-04-18T18:42:54.327Z"
   },
   {
    "duration": 807,
    "start_time": "2022-04-18T18:42:54.338Z"
   },
   {
    "duration": 4,
    "start_time": "2022-04-18T18:42:55.146Z"
   },
   {
    "duration": 115,
    "start_time": "2022-04-18T18:42:55.151Z"
   },
   {
    "duration": 57,
    "start_time": "2022-04-18T18:42:55.267Z"
   },
   {
    "duration": 5,
    "start_time": "2022-04-18T18:42:55.326Z"
   },
   {
    "duration": 108,
    "start_time": "2022-04-18T18:42:55.423Z"
   },
   {
    "duration": 125,
    "start_time": "2022-04-20T18:10:45.717Z"
   },
   {
    "duration": 107,
    "start_time": "2022-04-20T18:10:48.888Z"
   },
   {
    "duration": 135,
    "start_time": "2022-04-20T18:13:10.643Z"
   },
   {
    "duration": 1498,
    "start_time": "2022-04-21T16:57:06.818Z"
   },
   {
    "duration": 42,
    "start_time": "2022-04-21T16:57:08.318Z"
   },
   {
    "duration": 4,
    "start_time": "2022-04-21T16:57:08.362Z"
   },
   {
    "duration": 39,
    "start_time": "2022-04-21T16:57:08.367Z"
   },
   {
    "duration": 11,
    "start_time": "2022-04-21T16:57:08.408Z"
   },
   {
    "duration": 27,
    "start_time": "2022-04-21T16:57:08.420Z"
   },
   {
    "duration": 5,
    "start_time": "2022-04-21T16:57:08.449Z"
   },
   {
    "duration": 25,
    "start_time": "2022-04-21T16:57:08.455Z"
   },
   {
    "duration": 1367,
    "start_time": "2022-04-21T16:57:08.481Z"
   },
   {
    "duration": 3,
    "start_time": "2022-04-21T16:57:09.850Z"
   },
   {
    "duration": 11,
    "start_time": "2022-04-21T16:57:09.854Z"
   },
   {
    "duration": 3,
    "start_time": "2022-04-21T16:57:09.866Z"
   },
   {
    "duration": 32,
    "start_time": "2022-04-21T16:57:09.870Z"
   },
   {
    "duration": 3,
    "start_time": "2022-04-21T16:57:09.905Z"
   },
   {
    "duration": 9,
    "start_time": "2022-04-21T16:57:09.910Z"
   },
   {
    "duration": 28,
    "start_time": "2022-04-21T16:57:09.920Z"
   },
   {
    "duration": 4,
    "start_time": "2022-04-21T16:57:09.950Z"
   },
   {
    "duration": 5,
    "start_time": "2022-04-21T16:57:09.955Z"
   },
   {
    "duration": 4,
    "start_time": "2022-04-21T16:57:09.962Z"
   },
   {
    "duration": 5,
    "start_time": "2022-04-21T16:57:09.968Z"
   },
   {
    "duration": 5,
    "start_time": "2022-04-21T16:57:09.975Z"
   },
   {
    "duration": 4,
    "start_time": "2022-04-21T16:57:09.982Z"
   },
   {
    "duration": 6,
    "start_time": "2022-04-21T16:57:09.988Z"
   },
   {
    "duration": 3,
    "start_time": "2022-04-21T16:57:09.995Z"
   },
   {
    "duration": 48,
    "start_time": "2022-04-21T16:57:10.000Z"
   },
   {
    "duration": 5,
    "start_time": "2022-04-21T16:57:10.050Z"
   },
   {
    "duration": 6,
    "start_time": "2022-04-21T16:57:10.056Z"
   },
   {
    "duration": 38536,
    "start_time": "2022-04-21T16:57:10.063Z"
   },
   {
    "duration": 580,
    "start_time": "2022-04-21T16:57:48.601Z"
   },
   {
    "duration": 117,
    "start_time": "2022-04-21T16:57:49.183Z"
   },
   {
    "duration": 0,
    "start_time": "2022-04-21T16:57:49.302Z"
   },
   {
    "duration": 0,
    "start_time": "2022-04-21T16:57:49.304Z"
   },
   {
    "duration": 0,
    "start_time": "2022-04-21T16:57:49.306Z"
   },
   {
    "duration": 0,
    "start_time": "2022-04-21T16:57:49.307Z"
   },
   {
    "duration": 0,
    "start_time": "2022-04-21T16:57:49.307Z"
   },
   {
    "duration": 0,
    "start_time": "2022-04-21T16:57:49.309Z"
   },
   {
    "duration": 0,
    "start_time": "2022-04-21T16:57:49.309Z"
   },
   {
    "duration": 0,
    "start_time": "2022-04-21T16:57:49.311Z"
   },
   {
    "duration": 0,
    "start_time": "2022-04-21T16:57:49.311Z"
   },
   {
    "duration": 0,
    "start_time": "2022-04-21T16:57:49.312Z"
   },
   {
    "duration": 0,
    "start_time": "2022-04-21T16:57:49.313Z"
   },
   {
    "duration": 0,
    "start_time": "2022-04-21T16:57:49.314Z"
   },
   {
    "duration": 0,
    "start_time": "2022-04-21T16:57:49.315Z"
   },
   {
    "duration": 0,
    "start_time": "2022-04-21T16:57:49.348Z"
   },
   {
    "duration": 0,
    "start_time": "2022-04-21T16:57:49.348Z"
   },
   {
    "duration": 0,
    "start_time": "2022-04-21T16:57:49.349Z"
   },
   {
    "duration": 0,
    "start_time": "2022-04-21T16:57:49.350Z"
   },
   {
    "duration": 0,
    "start_time": "2022-04-21T16:57:49.351Z"
   },
   {
    "duration": 0,
    "start_time": "2022-04-21T16:57:49.352Z"
   },
   {
    "duration": 0,
    "start_time": "2022-04-21T16:57:49.353Z"
   },
   {
    "duration": 0,
    "start_time": "2022-04-21T16:57:49.354Z"
   },
   {
    "duration": 0,
    "start_time": "2022-04-21T16:57:49.355Z"
   },
   {
    "duration": 0,
    "start_time": "2022-04-21T16:57:49.356Z"
   },
   {
    "duration": 0,
    "start_time": "2022-04-21T16:57:49.357Z"
   },
   {
    "duration": 0,
    "start_time": "2022-04-21T16:57:49.358Z"
   },
   {
    "duration": 0,
    "start_time": "2022-04-21T16:57:49.359Z"
   },
   {
    "duration": 0,
    "start_time": "2022-04-21T16:57:49.360Z"
   },
   {
    "duration": 0,
    "start_time": "2022-04-21T16:57:49.360Z"
   },
   {
    "duration": 0,
    "start_time": "2022-04-21T16:57:49.361Z"
   },
   {
    "duration": 1,
    "start_time": "2022-04-21T16:57:49.362Z"
   },
   {
    "duration": 0,
    "start_time": "2022-04-21T16:57:49.364Z"
   },
   {
    "duration": 0,
    "start_time": "2022-04-21T16:57:49.364Z"
   },
   {
    "duration": 0,
    "start_time": "2022-04-21T16:57:49.365Z"
   },
   {
    "duration": 0,
    "start_time": "2022-04-21T16:57:49.366Z"
   },
   {
    "duration": 0,
    "start_time": "2022-04-21T16:57:49.367Z"
   },
   {
    "duration": 12,
    "start_time": "2022-04-21T16:58:40.113Z"
   },
   {
    "duration": 1375,
    "start_time": "2022-04-21T17:00:54.757Z"
   },
   {
    "duration": 39,
    "start_time": "2022-04-21T17:00:56.134Z"
   },
   {
    "duration": 5,
    "start_time": "2022-04-21T17:00:56.175Z"
   },
   {
    "duration": 36,
    "start_time": "2022-04-21T17:00:56.182Z"
   },
   {
    "duration": 33,
    "start_time": "2022-04-21T17:00:56.220Z"
   },
   {
    "duration": 9,
    "start_time": "2022-04-21T17:00:56.254Z"
   },
   {
    "duration": 5,
    "start_time": "2022-04-21T17:00:56.264Z"
   },
   {
    "duration": 22,
    "start_time": "2022-04-21T17:00:56.271Z"
   },
   {
    "duration": 1390,
    "start_time": "2022-04-21T17:00:56.294Z"
   },
   {
    "duration": 3,
    "start_time": "2022-04-21T17:00:57.689Z"
   },
   {
    "duration": 10,
    "start_time": "2022-04-21T17:00:57.694Z"
   },
   {
    "duration": 3,
    "start_time": "2022-04-21T17:00:57.706Z"
   },
   {
    "duration": 28,
    "start_time": "2022-04-21T17:00:57.710Z"
   },
   {
    "duration": 4,
    "start_time": "2022-04-21T17:00:57.740Z"
   },
   {
    "duration": 7,
    "start_time": "2022-04-21T17:00:57.745Z"
   },
   {
    "duration": 4,
    "start_time": "2022-04-21T17:00:57.754Z"
   },
   {
    "duration": 7,
    "start_time": "2022-04-21T17:00:57.760Z"
   },
   {
    "duration": 5,
    "start_time": "2022-04-21T17:00:57.768Z"
   },
   {
    "duration": 6,
    "start_time": "2022-04-21T17:00:57.775Z"
   },
   {
    "duration": 8,
    "start_time": "2022-04-21T17:00:57.783Z"
   },
   {
    "duration": 16,
    "start_time": "2022-04-21T17:00:57.793Z"
   },
   {
    "duration": 6,
    "start_time": "2022-04-21T17:00:57.810Z"
   },
   {
    "duration": 32,
    "start_time": "2022-04-21T17:00:57.817Z"
   },
   {
    "duration": 9,
    "start_time": "2022-04-21T17:00:57.850Z"
   },
   {
    "duration": 5,
    "start_time": "2022-04-21T17:00:57.860Z"
   },
   {
    "duration": 4,
    "start_time": "2022-04-21T17:00:57.867Z"
   },
   {
    "duration": 4,
    "start_time": "2022-04-21T17:00:57.873Z"
   },
   {
    "duration": 39040,
    "start_time": "2022-04-21T17:00:57.881Z"
   },
   {
    "duration": 592,
    "start_time": "2022-04-21T17:01:36.923Z"
   },
   {
    "duration": 111,
    "start_time": "2022-04-21T17:01:37.517Z"
   },
   {
    "duration": 0,
    "start_time": "2022-04-21T17:01:37.630Z"
   },
   {
    "duration": 0,
    "start_time": "2022-04-21T17:01:37.631Z"
   },
   {
    "duration": 0,
    "start_time": "2022-04-21T17:01:37.632Z"
   },
   {
    "duration": 0,
    "start_time": "2022-04-21T17:01:37.633Z"
   },
   {
    "duration": 1,
    "start_time": "2022-04-21T17:01:37.634Z"
   },
   {
    "duration": 0,
    "start_time": "2022-04-21T17:01:37.635Z"
   },
   {
    "duration": 0,
    "start_time": "2022-04-21T17:01:37.647Z"
   },
   {
    "duration": 0,
    "start_time": "2022-04-21T17:01:37.648Z"
   },
   {
    "duration": 0,
    "start_time": "2022-04-21T17:01:37.649Z"
   },
   {
    "duration": 0,
    "start_time": "2022-04-21T17:01:37.650Z"
   },
   {
    "duration": 0,
    "start_time": "2022-04-21T17:01:37.651Z"
   },
   {
    "duration": 0,
    "start_time": "2022-04-21T17:01:37.652Z"
   },
   {
    "duration": 0,
    "start_time": "2022-04-21T17:01:37.653Z"
   },
   {
    "duration": 0,
    "start_time": "2022-04-21T17:01:37.654Z"
   },
   {
    "duration": 0,
    "start_time": "2022-04-21T17:01:37.655Z"
   },
   {
    "duration": 0,
    "start_time": "2022-04-21T17:01:37.656Z"
   },
   {
    "duration": 0,
    "start_time": "2022-04-21T17:01:37.657Z"
   },
   {
    "duration": 0,
    "start_time": "2022-04-21T17:01:37.658Z"
   },
   {
    "duration": 0,
    "start_time": "2022-04-21T17:01:37.659Z"
   },
   {
    "duration": 0,
    "start_time": "2022-04-21T17:01:37.660Z"
   },
   {
    "duration": 0,
    "start_time": "2022-04-21T17:01:37.661Z"
   },
   {
    "duration": 0,
    "start_time": "2022-04-21T17:01:37.662Z"
   },
   {
    "duration": 0,
    "start_time": "2022-04-21T17:01:37.663Z"
   },
   {
    "duration": 0,
    "start_time": "2022-04-21T17:01:37.664Z"
   },
   {
    "duration": 0,
    "start_time": "2022-04-21T17:01:37.665Z"
   },
   {
    "duration": 0,
    "start_time": "2022-04-21T17:01:37.666Z"
   },
   {
    "duration": 0,
    "start_time": "2022-04-21T17:01:37.667Z"
   },
   {
    "duration": 0,
    "start_time": "2022-04-21T17:01:37.668Z"
   },
   {
    "duration": 0,
    "start_time": "2022-04-21T17:01:37.669Z"
   },
   {
    "duration": 0,
    "start_time": "2022-04-21T17:01:37.670Z"
   },
   {
    "duration": 0,
    "start_time": "2022-04-21T17:01:37.671Z"
   },
   {
    "duration": 0,
    "start_time": "2022-04-21T17:01:37.672Z"
   },
   {
    "duration": 0,
    "start_time": "2022-04-21T17:01:37.673Z"
   },
   {
    "duration": 0,
    "start_time": "2022-04-21T17:01:37.674Z"
   },
   {
    "duration": 0,
    "start_time": "2022-04-21T17:01:37.675Z"
   },
   {
    "duration": 14,
    "start_time": "2022-04-21T17:04:33.821Z"
   },
   {
    "duration": 14,
    "start_time": "2022-04-21T17:04:38.038Z"
   },
   {
    "duration": 124,
    "start_time": "2022-04-21T17:05:04.755Z"
   },
   {
    "duration": 128,
    "start_time": "2022-04-21T17:06:23.746Z"
   },
   {
    "duration": 39,
    "start_time": "2022-04-21T17:07:00.673Z"
   },
   {
    "duration": 589,
    "start_time": "2022-04-21T17:07:09.233Z"
   },
   {
    "duration": 39,
    "start_time": "2022-04-21T17:07:10.025Z"
   },
   {
    "duration": 1386,
    "start_time": "2022-04-21T17:07:18.562Z"
   },
   {
    "duration": 41,
    "start_time": "2022-04-21T17:07:19.949Z"
   },
   {
    "duration": 4,
    "start_time": "2022-04-21T17:07:19.991Z"
   },
   {
    "duration": 38,
    "start_time": "2022-04-21T17:07:19.996Z"
   },
   {
    "duration": 20,
    "start_time": "2022-04-21T17:07:20.036Z"
   },
   {
    "duration": 7,
    "start_time": "2022-04-21T17:07:20.058Z"
   },
   {
    "duration": 6,
    "start_time": "2022-04-21T17:07:20.067Z"
   },
   {
    "duration": 23,
    "start_time": "2022-04-21T17:07:20.074Z"
   },
   {
    "duration": 1381,
    "start_time": "2022-04-21T17:07:20.099Z"
   },
   {
    "duration": 3,
    "start_time": "2022-04-21T17:07:21.482Z"
   },
   {
    "duration": 10,
    "start_time": "2022-04-21T17:07:21.487Z"
   },
   {
    "duration": 3,
    "start_time": "2022-04-21T17:07:21.499Z"
   },
   {
    "duration": 29,
    "start_time": "2022-04-21T17:07:21.503Z"
   },
   {
    "duration": 3,
    "start_time": "2022-04-21T17:07:21.536Z"
   },
   {
    "duration": 10,
    "start_time": "2022-04-21T17:07:21.541Z"
   },
   {
    "duration": 4,
    "start_time": "2022-04-21T17:07:21.553Z"
   },
   {
    "duration": 4,
    "start_time": "2022-04-21T17:07:21.559Z"
   },
   {
    "duration": 5,
    "start_time": "2022-04-21T17:07:21.565Z"
   },
   {
    "duration": 5,
    "start_time": "2022-04-21T17:07:21.571Z"
   },
   {
    "duration": 6,
    "start_time": "2022-04-21T17:07:21.577Z"
   },
   {
    "duration": 5,
    "start_time": "2022-04-21T17:07:21.585Z"
   },
   {
    "duration": 5,
    "start_time": "2022-04-21T17:07:21.592Z"
   },
   {
    "duration": 52,
    "start_time": "2022-04-21T17:07:21.598Z"
   },
   {
    "duration": 5,
    "start_time": "2022-04-21T17:07:21.651Z"
   },
   {
    "duration": 6,
    "start_time": "2022-04-21T17:07:21.658Z"
   },
   {
    "duration": 6,
    "start_time": "2022-04-21T17:07:21.665Z"
   },
   {
    "duration": 4,
    "start_time": "2022-04-21T17:07:21.673Z"
   },
   {
    "duration": 38688,
    "start_time": "2022-04-21T17:07:21.679Z"
   },
   {
    "duration": 598,
    "start_time": "2022-04-21T17:08:00.369Z"
   },
   {
    "duration": 139,
    "start_time": "2022-04-21T17:08:00.969Z"
   },
   {
    "duration": 618,
    "start_time": "2022-04-21T17:08:01.110Z"
   },
   {
    "duration": 39,
    "start_time": "2022-04-21T17:08:01.730Z"
   },
   {
    "duration": 5,
    "start_time": "2022-04-21T17:08:01.771Z"
   },
   {
    "duration": 29,
    "start_time": "2022-04-21T17:08:01.778Z"
   },
   {
    "duration": 47,
    "start_time": "2022-04-21T17:08:01.809Z"
   },
   {
    "duration": 6,
    "start_time": "2022-04-21T17:08:01.949Z"
   },
   {
    "duration": 9,
    "start_time": "2022-04-21T17:08:01.956Z"
   },
   {
    "duration": 28513,
    "start_time": "2022-04-21T17:08:01.967Z"
   },
   {
    "duration": 432,
    "start_time": "2022-04-21T17:08:30.482Z"
   },
   {
    "duration": 133,
    "start_time": "2022-04-21T17:08:30.915Z"
   },
   {
    "duration": 342,
    "start_time": "2022-04-21T17:08:31.051Z"
   },
   {
    "duration": 29,
    "start_time": "2022-04-21T17:08:31.395Z"
   },
   {
    "duration": 5,
    "start_time": "2022-04-21T17:08:31.425Z"
   },
   {
    "duration": 32,
    "start_time": "2022-04-21T17:08:31.432Z"
   },
   {
    "duration": 82,
    "start_time": "2022-04-21T17:08:31.466Z"
   },
   {
    "duration": 8,
    "start_time": "2022-04-21T17:08:31.549Z"
   },
   {
    "duration": 11,
    "start_time": "2022-04-21T17:08:31.648Z"
   },
   {
    "duration": 190,
    "start_time": "2022-04-21T17:08:31.661Z"
   },
   {
    "duration": 12,
    "start_time": "2022-04-21T17:08:31.853Z"
   },
   {
    "duration": 17605,
    "start_time": "2022-04-21T17:08:31.867Z"
   },
   {
    "duration": 292,
    "start_time": "2022-04-21T17:08:49.473Z"
   },
   {
    "duration": 130,
    "start_time": "2022-04-21T17:08:49.766Z"
   },
   {
    "duration": 255,
    "start_time": "2022-04-21T17:08:49.898Z"
   },
   {
    "duration": 31,
    "start_time": "2022-04-21T17:08:50.155Z"
   },
   {
    "duration": 5,
    "start_time": "2022-04-21T17:08:50.188Z"
   },
   {
    "duration": 22,
    "start_time": "2022-04-21T17:08:50.194Z"
   },
   {
    "duration": 41,
    "start_time": "2022-04-21T17:08:50.218Z"
   },
   {
    "duration": 94,
    "start_time": "2022-04-21T17:08:50.261Z"
   },
   {
    "duration": 102,
    "start_time": "2022-04-21T17:08:50.357Z"
   },
   {
    "duration": 796,
    "start_time": "2022-04-21T17:08:50.461Z"
   },
   {
    "duration": 4,
    "start_time": "2022-04-21T17:08:51.258Z"
   },
   {
    "duration": 110,
    "start_time": "2022-04-21T17:08:51.263Z"
   },
   {
    "duration": 20,
    "start_time": "2022-04-21T17:08:51.375Z"
   },
   {
    "duration": 6,
    "start_time": "2022-04-21T17:08:51.449Z"
   },
   {
    "duration": 226,
    "start_time": "2022-04-21T17:08:51.457Z"
   },
   {
    "duration": 248,
    "start_time": "2022-04-21T17:10:02.201Z"
   },
   {
    "duration": 10,
    "start_time": "2022-04-21T17:10:25.286Z"
   },
   {
    "duration": 11,
    "start_time": "2022-04-21T17:10:31.534Z"
   },
   {
    "duration": 10,
    "start_time": "2022-04-21T17:10:35.973Z"
   },
   {
    "duration": 1408,
    "start_time": "2022-04-21T17:10:40.393Z"
   },
   {
    "duration": 45,
    "start_time": "2022-04-21T17:10:41.802Z"
   },
   {
    "duration": 4,
    "start_time": "2022-04-21T17:10:41.848Z"
   },
   {
    "duration": 35,
    "start_time": "2022-04-21T17:10:41.853Z"
   },
   {
    "duration": 11,
    "start_time": "2022-04-21T17:10:41.889Z"
   },
   {
    "duration": 14,
    "start_time": "2022-04-21T17:10:41.901Z"
   },
   {
    "duration": 4,
    "start_time": "2022-04-21T17:10:41.917Z"
   },
   {
    "duration": 44,
    "start_time": "2022-04-21T17:10:41.922Z"
   },
   {
    "duration": 1349,
    "start_time": "2022-04-21T17:10:41.967Z"
   },
   {
    "duration": 3,
    "start_time": "2022-04-21T17:10:43.319Z"
   },
   {
    "duration": 11,
    "start_time": "2022-04-21T17:10:43.323Z"
   },
   {
    "duration": 18,
    "start_time": "2022-04-21T17:10:43.336Z"
   },
   {
    "duration": 35,
    "start_time": "2022-04-21T17:10:43.355Z"
   },
   {
    "duration": 4,
    "start_time": "2022-04-21T17:10:43.392Z"
   },
   {
    "duration": 10,
    "start_time": "2022-04-21T17:10:43.397Z"
   },
   {
    "duration": 4,
    "start_time": "2022-04-21T17:10:43.408Z"
   },
   {
    "duration": 4,
    "start_time": "2022-04-21T17:10:43.413Z"
   },
   {
    "duration": 4,
    "start_time": "2022-04-21T17:10:43.419Z"
   },
   {
    "duration": 25,
    "start_time": "2022-04-21T17:10:43.424Z"
   },
   {
    "duration": 5,
    "start_time": "2022-04-21T17:10:43.450Z"
   },
   {
    "duration": 10,
    "start_time": "2022-04-21T17:10:43.456Z"
   },
   {
    "duration": 5,
    "start_time": "2022-04-21T17:10:43.467Z"
   },
   {
    "duration": 6,
    "start_time": "2022-04-21T17:10:43.474Z"
   },
   {
    "duration": 4,
    "start_time": "2022-04-21T17:10:43.482Z"
   },
   {
    "duration": 5,
    "start_time": "2022-04-21T17:10:43.487Z"
   },
   {
    "duration": 4,
    "start_time": "2022-04-21T17:10:43.494Z"
   },
   {
    "duration": 5,
    "start_time": "2022-04-21T17:10:43.500Z"
   },
   {
    "duration": 39898,
    "start_time": "2022-04-21T17:10:43.508Z"
   },
   {
    "duration": 595,
    "start_time": "2022-04-21T17:11:23.407Z"
   },
   {
    "duration": 130,
    "start_time": "2022-04-21T17:11:24.004Z"
   },
   {
    "duration": 587,
    "start_time": "2022-04-21T17:11:24.136Z"
   },
   {
    "duration": 43,
    "start_time": "2022-04-21T17:11:24.725Z"
   },
   {
    "duration": 5,
    "start_time": "2022-04-21T17:11:24.770Z"
   },
   {
    "duration": 21,
    "start_time": "2022-04-21T17:11:24.776Z"
   },
   {
    "duration": 20,
    "start_time": "2022-04-21T17:11:24.798Z"
   },
   {
    "duration": 41,
    "start_time": "2022-04-21T17:11:24.819Z"
   },
   {
    "duration": 93,
    "start_time": "2022-04-21T17:11:24.861Z"
   },
   {
    "duration": 103,
    "start_time": "2022-04-21T17:11:24.956Z"
   },
   {
    "duration": 28572,
    "start_time": "2022-04-21T17:11:25.062Z"
   },
   {
    "duration": 423,
    "start_time": "2022-04-21T17:11:53.636Z"
   },
   {
    "duration": 132,
    "start_time": "2022-04-21T17:11:54.061Z"
   },
   {
    "duration": 347,
    "start_time": "2022-04-21T17:11:54.195Z"
   },
   {
    "duration": 29,
    "start_time": "2022-04-21T17:11:54.543Z"
   },
   {
    "duration": 5,
    "start_time": "2022-04-21T17:11:54.574Z"
   },
   {
    "duration": 20,
    "start_time": "2022-04-21T17:11:54.580Z"
   },
   {
    "duration": 47,
    "start_time": "2022-04-21T17:11:54.601Z"
   },
   {
    "duration": 8,
    "start_time": "2022-04-21T17:11:54.650Z"
   },
   {
    "duration": 9,
    "start_time": "2022-04-21T17:11:54.748Z"
   },
   {
    "duration": 92,
    "start_time": "2022-04-21T17:11:54.759Z"
   },
   {
    "duration": 103,
    "start_time": "2022-04-21T17:11:54.853Z"
   },
   {
    "duration": 17996,
    "start_time": "2022-04-21T17:11:54.958Z"
   },
   {
    "duration": 275,
    "start_time": "2022-04-21T17:12:12.955Z"
   },
   {
    "duration": 129,
    "start_time": "2022-04-21T17:12:13.232Z"
   },
   {
    "duration": 251,
    "start_time": "2022-04-21T17:12:13.363Z"
   },
   {
    "duration": 38,
    "start_time": "2022-04-21T17:12:13.615Z"
   },
   {
    "duration": 5,
    "start_time": "2022-04-21T17:12:13.655Z"
   },
   {
    "duration": 25,
    "start_time": "2022-04-21T17:12:13.661Z"
   },
   {
    "duration": 10,
    "start_time": "2022-04-21T17:12:13.687Z"
   },
   {
    "duration": 53,
    "start_time": "2022-04-21T17:12:13.700Z"
   },
   {
    "duration": 102,
    "start_time": "2022-04-21T17:12:13.756Z"
   },
   {
    "duration": 790,
    "start_time": "2022-04-21T17:12:13.861Z"
   },
   {
    "duration": 4,
    "start_time": "2022-04-21T17:12:14.653Z"
   },
   {
    "duration": 108,
    "start_time": "2022-04-21T17:12:14.658Z"
   },
   {
    "duration": 80,
    "start_time": "2022-04-21T17:12:14.768Z"
   },
   {
    "duration": 5,
    "start_time": "2022-04-21T17:12:14.850Z"
   },
   {
    "duration": 199,
    "start_time": "2022-04-21T17:12:14.857Z"
   },
   {
    "duration": 146,
    "start_time": "2022-04-21T17:12:34.796Z"
   },
   {
    "duration": 119,
    "start_time": "2022-04-21T17:12:45.283Z"
   },
   {
    "duration": 1335,
    "start_time": "2022-04-21T17:13:34.907Z"
   },
   {
    "duration": 44,
    "start_time": "2022-04-21T17:13:36.244Z"
   },
   {
    "duration": 4,
    "start_time": "2022-04-21T17:13:36.290Z"
   },
   {
    "duration": 35,
    "start_time": "2022-04-21T17:13:36.295Z"
   },
   {
    "duration": 19,
    "start_time": "2022-04-21T17:13:36.332Z"
   },
   {
    "duration": 7,
    "start_time": "2022-04-21T17:13:36.353Z"
   },
   {
    "duration": 4,
    "start_time": "2022-04-21T17:13:36.362Z"
   },
   {
    "duration": 22,
    "start_time": "2022-04-21T17:13:36.368Z"
   },
   {
    "duration": 1416,
    "start_time": "2022-04-21T17:13:36.392Z"
   },
   {
    "duration": 3,
    "start_time": "2022-04-21T17:13:37.811Z"
   },
   {
    "duration": 11,
    "start_time": "2022-04-21T17:13:37.816Z"
   },
   {
    "duration": 3,
    "start_time": "2022-04-21T17:13:37.829Z"
   },
   {
    "duration": 29,
    "start_time": "2022-04-21T17:13:37.833Z"
   },
   {
    "duration": 3,
    "start_time": "2022-04-21T17:13:37.864Z"
   },
   {
    "duration": 8,
    "start_time": "2022-04-21T17:13:37.868Z"
   },
   {
    "duration": 5,
    "start_time": "2022-04-21T17:13:37.877Z"
   },
   {
    "duration": 5,
    "start_time": "2022-04-21T17:13:37.883Z"
   },
   {
    "duration": 5,
    "start_time": "2022-04-21T17:13:37.889Z"
   },
   {
    "duration": 4,
    "start_time": "2022-04-21T17:13:37.895Z"
   },
   {
    "duration": 6,
    "start_time": "2022-04-21T17:13:37.901Z"
   },
   {
    "duration": 7,
    "start_time": "2022-04-21T17:13:37.946Z"
   },
   {
    "duration": 6,
    "start_time": "2022-04-21T17:13:37.955Z"
   },
   {
    "duration": 6,
    "start_time": "2022-04-21T17:13:37.963Z"
   },
   {
    "duration": 4,
    "start_time": "2022-04-21T17:13:37.971Z"
   },
   {
    "duration": 4,
    "start_time": "2022-04-21T17:13:37.977Z"
   },
   {
    "duration": 5,
    "start_time": "2022-04-21T17:13:37.983Z"
   },
   {
    "duration": 4,
    "start_time": "2022-04-21T17:13:37.990Z"
   },
   {
    "duration": 39577,
    "start_time": "2022-04-21T17:13:37.999Z"
   },
   {
    "duration": 602,
    "start_time": "2022-04-21T17:14:17.577Z"
   },
   {
    "duration": 130,
    "start_time": "2022-04-21T17:14:18.181Z"
   },
   {
    "duration": 610,
    "start_time": "2022-04-21T17:14:18.312Z"
   },
   {
    "duration": 42,
    "start_time": "2022-04-21T17:14:18.924Z"
   },
   {
    "duration": 5,
    "start_time": "2022-04-21T17:14:18.968Z"
   },
   {
    "duration": 22,
    "start_time": "2022-04-21T17:14:18.974Z"
   },
   {
    "duration": 21,
    "start_time": "2022-04-21T17:14:18.998Z"
   },
   {
    "duration": 43,
    "start_time": "2022-04-21T17:14:19.020Z"
   },
   {
    "duration": 100,
    "start_time": "2022-04-21T17:14:19.147Z"
   },
   {
    "duration": 11,
    "start_time": "2022-04-21T17:14:19.249Z"
   },
   {
    "duration": 28792,
    "start_time": "2022-04-21T17:14:19.262Z"
   },
   {
    "duration": 428,
    "start_time": "2022-04-21T17:14:48.056Z"
   },
   {
    "duration": 130,
    "start_time": "2022-04-21T17:14:48.486Z"
   },
   {
    "duration": 341,
    "start_time": "2022-04-21T17:14:48.618Z"
   },
   {
    "duration": 26,
    "start_time": "2022-04-21T17:14:48.961Z"
   },
   {
    "duration": 4,
    "start_time": "2022-04-21T17:14:48.989Z"
   },
   {
    "duration": 18,
    "start_time": "2022-04-21T17:14:48.994Z"
   },
   {
    "duration": 43,
    "start_time": "2022-04-21T17:14:49.013Z"
   },
   {
    "duration": 7,
    "start_time": "2022-04-21T17:14:49.148Z"
   },
   {
    "duration": 9,
    "start_time": "2022-04-21T17:14:49.156Z"
   },
   {
    "duration": 99,
    "start_time": "2022-04-21T17:14:49.249Z"
   },
   {
    "duration": 16,
    "start_time": "2022-04-21T17:14:49.349Z"
   },
   {
    "duration": 17841,
    "start_time": "2022-04-21T17:14:49.366Z"
   },
   {
    "duration": 270,
    "start_time": "2022-04-21T17:15:07.209Z"
   },
   {
    "duration": 132,
    "start_time": "2022-04-21T17:15:07.480Z"
   },
   {
    "duration": 247,
    "start_time": "2022-04-21T17:15:07.614Z"
   },
   {
    "duration": 30,
    "start_time": "2022-04-21T17:15:07.863Z"
   },
   {
    "duration": 5,
    "start_time": "2022-04-21T17:15:07.894Z"
   },
   {
    "duration": 20,
    "start_time": "2022-04-21T17:15:07.900Z"
   },
   {
    "duration": 39,
    "start_time": "2022-04-21T17:15:07.922Z"
   },
   {
    "duration": 89,
    "start_time": "2022-04-21T17:15:07.963Z"
   },
   {
    "duration": 101,
    "start_time": "2022-04-21T17:15:08.054Z"
   },
   {
    "duration": 790,
    "start_time": "2022-04-21T17:15:08.158Z"
   },
   {
    "duration": 4,
    "start_time": "2022-04-21T17:15:08.950Z"
   },
   {
    "duration": 111,
    "start_time": "2022-04-21T17:15:08.955Z"
   },
   {
    "duration": 82,
    "start_time": "2022-04-21T17:15:09.067Z"
   },
   {
    "duration": 99,
    "start_time": "2022-04-21T17:15:09.151Z"
   },
   {
    "duration": 115,
    "start_time": "2022-04-21T17:15:09.251Z"
   },
   {
    "duration": 12,
    "start_time": "2022-04-21T17:15:11.388Z"
   },
   {
    "duration": 1342,
    "start_time": "2022-04-21T17:15:46.279Z"
   },
   {
    "duration": 40,
    "start_time": "2022-04-21T17:15:47.623Z"
   },
   {
    "duration": 3,
    "start_time": "2022-04-21T17:15:47.665Z"
   },
   {
    "duration": 35,
    "start_time": "2022-04-21T17:15:47.670Z"
   },
   {
    "duration": 10,
    "start_time": "2022-04-21T17:15:47.707Z"
   },
   {
    "duration": 28,
    "start_time": "2022-04-21T17:15:47.719Z"
   },
   {
    "duration": 5,
    "start_time": "2022-04-21T17:15:47.749Z"
   },
   {
    "duration": 23,
    "start_time": "2022-04-21T17:15:47.755Z"
   },
   {
    "duration": 1416,
    "start_time": "2022-04-21T17:15:47.780Z"
   },
   {
    "duration": 3,
    "start_time": "2022-04-21T17:15:49.199Z"
   },
   {
    "duration": 10,
    "start_time": "2022-04-21T17:15:49.204Z"
   },
   {
    "duration": 3,
    "start_time": "2022-04-21T17:15:49.215Z"
   },
   {
    "duration": 28,
    "start_time": "2022-04-21T17:15:49.219Z"
   },
   {
    "duration": 3,
    "start_time": "2022-04-21T17:15:49.249Z"
   },
   {
    "duration": 7,
    "start_time": "2022-04-21T17:15:49.253Z"
   },
   {
    "duration": 4,
    "start_time": "2022-04-21T17:15:49.262Z"
   },
   {
    "duration": 5,
    "start_time": "2022-04-21T17:15:49.267Z"
   },
   {
    "duration": 4,
    "start_time": "2022-04-21T17:15:49.273Z"
   },
   {
    "duration": 4,
    "start_time": "2022-04-21T17:15:49.279Z"
   },
   {
    "duration": 5,
    "start_time": "2022-04-21T17:15:49.285Z"
   },
   {
    "duration": 7,
    "start_time": "2022-04-21T17:15:49.291Z"
   },
   {
    "duration": 49,
    "start_time": "2022-04-21T17:15:49.299Z"
   },
   {
    "duration": 7,
    "start_time": "2022-04-21T17:15:49.350Z"
   },
   {
    "duration": 3,
    "start_time": "2022-04-21T17:15:49.359Z"
   },
   {
    "duration": 6,
    "start_time": "2022-04-21T17:15:49.364Z"
   },
   {
    "duration": 6,
    "start_time": "2022-04-21T17:15:49.371Z"
   },
   {
    "duration": 4,
    "start_time": "2022-04-21T17:15:49.378Z"
   },
   {
    "duration": 39535,
    "start_time": "2022-04-21T17:15:49.386Z"
   },
   {
    "duration": 583,
    "start_time": "2022-04-21T17:16:28.923Z"
   },
   {
    "duration": 125,
    "start_time": "2022-04-21T17:16:29.507Z"
   },
   {
    "duration": 595,
    "start_time": "2022-04-21T17:16:29.633Z"
   },
   {
    "duration": 39,
    "start_time": "2022-04-21T17:16:30.230Z"
   },
   {
    "duration": 5,
    "start_time": "2022-04-21T17:16:30.271Z"
   },
   {
    "duration": 24,
    "start_time": "2022-04-21T17:16:30.277Z"
   },
   {
    "duration": 24,
    "start_time": "2022-04-21T17:16:30.303Z"
   },
   {
    "duration": 41,
    "start_time": "2022-04-21T17:16:30.328Z"
   },
   {
    "duration": 9,
    "start_time": "2022-04-21T17:16:30.448Z"
   },
   {
    "duration": 11,
    "start_time": "2022-04-21T17:16:30.548Z"
   },
   {
    "duration": 28541,
    "start_time": "2022-04-21T17:16:30.561Z"
   },
   {
    "duration": 428,
    "start_time": "2022-04-21T17:16:59.104Z"
   },
   {
    "duration": 130,
    "start_time": "2022-04-21T17:16:59.534Z"
   },
   {
    "duration": 344,
    "start_time": "2022-04-21T17:16:59.666Z"
   },
   {
    "duration": 38,
    "start_time": "2022-04-21T17:17:00.011Z"
   },
   {
    "duration": 5,
    "start_time": "2022-04-21T17:17:00.051Z"
   },
   {
    "duration": 21,
    "start_time": "2022-04-21T17:17:00.057Z"
   },
   {
    "duration": 72,
    "start_time": "2022-04-21T17:17:00.079Z"
   },
   {
    "duration": 100,
    "start_time": "2022-04-21T17:17:00.153Z"
   },
   {
    "duration": 13,
    "start_time": "2022-04-21T17:17:00.255Z"
   },
   {
    "duration": 86,
    "start_time": "2022-04-21T17:17:00.271Z"
   },
   {
    "duration": 9,
    "start_time": "2022-04-21T17:17:00.448Z"
   },
   {
    "duration": 17892,
    "start_time": "2022-04-21T17:17:00.458Z"
   },
   {
    "duration": 298,
    "start_time": "2022-04-21T17:17:18.352Z"
   },
   {
    "duration": 134,
    "start_time": "2022-04-21T17:17:18.652Z"
   },
   {
    "duration": 261,
    "start_time": "2022-04-21T17:17:18.787Z"
   },
   {
    "duration": 31,
    "start_time": "2022-04-21T17:17:19.050Z"
   },
   {
    "duration": 7,
    "start_time": "2022-04-21T17:17:19.083Z"
   },
   {
    "duration": 21,
    "start_time": "2022-04-21T17:17:19.092Z"
   },
   {
    "duration": 46,
    "start_time": "2022-04-21T17:17:19.115Z"
   },
   {
    "duration": 7,
    "start_time": "2022-04-21T17:17:19.249Z"
   },
   {
    "duration": 12,
    "start_time": "2022-04-21T17:17:19.348Z"
   },
   {
    "duration": 805,
    "start_time": "2022-04-21T17:17:19.363Z"
   },
   {
    "duration": 4,
    "start_time": "2022-04-21T17:17:20.169Z"
   },
   {
    "duration": 110,
    "start_time": "2022-04-21T17:17:20.174Z"
   },
   {
    "duration": 64,
    "start_time": "2022-04-21T17:17:20.285Z"
   },
   {
    "duration": 6,
    "start_time": "2022-04-21T17:17:20.351Z"
   },
   {
    "duration": 112,
    "start_time": "2022-04-21T17:17:20.448Z"
   },
   {
    "duration": 16,
    "start_time": "2022-04-21T17:18:26.107Z"
   },
   {
    "duration": 10,
    "start_time": "2022-04-21T17:18:31.595Z"
   },
   {
    "duration": 1355,
    "start_time": "2022-04-21T17:19:05.076Z"
   },
   {
    "duration": 41,
    "start_time": "2022-04-21T17:19:06.433Z"
   },
   {
    "duration": 3,
    "start_time": "2022-04-21T17:19:06.475Z"
   },
   {
    "duration": 40,
    "start_time": "2022-04-21T17:19:06.480Z"
   },
   {
    "duration": 12,
    "start_time": "2022-04-21T17:19:06.522Z"
   },
   {
    "duration": 8,
    "start_time": "2022-04-21T17:19:06.548Z"
   },
   {
    "duration": 5,
    "start_time": "2022-04-21T17:19:06.557Z"
   },
   {
    "duration": 24,
    "start_time": "2022-04-21T17:19:06.564Z"
   },
   {
    "duration": 1379,
    "start_time": "2022-04-21T17:19:06.589Z"
   },
   {
    "duration": 3,
    "start_time": "2022-04-21T17:19:07.970Z"
   },
   {
    "duration": 11,
    "start_time": "2022-04-21T17:19:07.974Z"
   },
   {
    "duration": 3,
    "start_time": "2022-04-21T17:19:07.986Z"
   },
   {
    "duration": 29,
    "start_time": "2022-04-21T17:19:07.990Z"
   },
   {
    "duration": 3,
    "start_time": "2022-04-21T17:19:08.022Z"
   },
   {
    "duration": 8,
    "start_time": "2022-04-21T17:19:08.026Z"
   },
   {
    "duration": 14,
    "start_time": "2022-04-21T17:19:08.035Z"
   },
   {
    "duration": 5,
    "start_time": "2022-04-21T17:19:08.050Z"
   },
   {
    "duration": 8,
    "start_time": "2022-04-21T17:19:08.056Z"
   },
   {
    "duration": 6,
    "start_time": "2022-04-21T17:19:08.065Z"
   },
   {
    "duration": 7,
    "start_time": "2022-04-21T17:19:08.072Z"
   },
   {
    "duration": 7,
    "start_time": "2022-04-21T17:19:08.081Z"
   },
   {
    "duration": 5,
    "start_time": "2022-04-21T17:19:08.089Z"
   },
   {
    "duration": 8,
    "start_time": "2022-04-21T17:19:08.095Z"
   },
   {
    "duration": 4,
    "start_time": "2022-04-21T17:19:08.104Z"
   },
   {
    "duration": 5,
    "start_time": "2022-04-21T17:19:08.109Z"
   },
   {
    "duration": 4,
    "start_time": "2022-04-21T17:19:08.148Z"
   },
   {
    "duration": 7,
    "start_time": "2022-04-21T17:19:08.154Z"
   },
   {
    "duration": 4,
    "start_time": "2022-04-21T17:19:08.162Z"
   },
   {
    "duration": 621,
    "start_time": "2022-04-21T17:19:08.168Z"
   },
   {
    "duration": 129,
    "start_time": "2022-04-21T17:19:08.790Z"
   },
   {
    "duration": 597,
    "start_time": "2022-04-21T17:19:08.921Z"
   },
   {
    "duration": 44,
    "start_time": "2022-04-21T17:19:09.519Z"
   },
   {
    "duration": 5,
    "start_time": "2022-04-21T17:19:09.564Z"
   },
   {
    "duration": 21,
    "start_time": "2022-04-21T17:19:09.571Z"
   },
   {
    "duration": 20,
    "start_time": "2022-04-21T17:19:09.594Z"
   },
   {
    "duration": 44,
    "start_time": "2022-04-21T17:19:09.616Z"
   },
   {
    "duration": 8,
    "start_time": "2022-04-21T17:19:09.748Z"
   },
   {
    "duration": 14,
    "start_time": "2022-04-21T17:19:09.848Z"
   },
   {
    "duration": 85,
    "start_time": "2022-04-21T17:19:09.864Z"
   },
   {
    "duration": 527,
    "start_time": "2022-04-21T17:19:09.952Z"
   },
   {
    "duration": 131,
    "start_time": "2022-04-21T17:19:10.483Z"
   },
   {
    "duration": 342,
    "start_time": "2022-04-21T17:19:10.616Z"
   },
   {
    "duration": 28,
    "start_time": "2022-04-21T17:19:10.960Z"
   },
   {
    "duration": 5,
    "start_time": "2022-04-21T17:19:10.990Z"
   },
   {
    "duration": 23,
    "start_time": "2022-04-21T17:19:10.996Z"
   },
   {
    "duration": 29,
    "start_time": "2022-04-21T17:19:11.020Z"
   },
   {
    "duration": 98,
    "start_time": "2022-04-21T17:19:11.051Z"
   },
   {
    "duration": 102,
    "start_time": "2022-04-21T17:19:11.151Z"
   },
   {
    "duration": 99,
    "start_time": "2022-04-21T17:19:11.256Z"
   },
   {
    "duration": 9,
    "start_time": "2022-04-21T17:19:11.357Z"
   },
   {
    "duration": 2,
    "start_time": "2022-04-21T17:19:11.368Z"
   },
   {
    "duration": 315,
    "start_time": "2022-04-21T17:19:11.372Z"
   },
   {
    "duration": 134,
    "start_time": "2022-04-21T17:19:11.689Z"
   },
   {
    "duration": 256,
    "start_time": "2022-04-21T17:19:11.825Z"
   },
   {
    "duration": 31,
    "start_time": "2022-04-21T17:19:12.083Z"
   },
   {
    "duration": 6,
    "start_time": "2022-04-21T17:19:12.116Z"
   },
   {
    "duration": 42,
    "start_time": "2022-04-21T17:19:12.124Z"
   },
   {
    "duration": 80,
    "start_time": "2022-04-21T17:19:12.168Z"
   },
   {
    "duration": 98,
    "start_time": "2022-04-21T17:19:12.251Z"
   },
   {
    "duration": 9,
    "start_time": "2022-04-21T17:19:12.350Z"
   },
   {
    "duration": 803,
    "start_time": "2022-04-21T17:19:12.361Z"
   },
   {
    "duration": 4,
    "start_time": "2022-04-21T17:19:13.166Z"
   },
   {
    "duration": 113,
    "start_time": "2022-04-21T17:19:13.171Z"
   },
   {
    "duration": 63,
    "start_time": "2022-04-21T17:19:13.286Z"
   },
   {
    "duration": 95,
    "start_time": "2022-04-21T17:19:13.352Z"
   },
   {
    "duration": 108,
    "start_time": "2022-04-21T17:19:13.449Z"
   },
   {
    "duration": 1354,
    "start_time": "2022-04-21T17:20:13.511Z"
   },
   {
    "duration": 47,
    "start_time": "2022-04-21T17:20:14.868Z"
   },
   {
    "duration": 4,
    "start_time": "2022-04-21T17:20:14.916Z"
   },
   {
    "duration": 40,
    "start_time": "2022-04-21T17:20:14.922Z"
   },
   {
    "duration": 12,
    "start_time": "2022-04-21T17:20:14.964Z"
   },
   {
    "duration": 8,
    "start_time": "2022-04-21T17:20:14.977Z"
   },
   {
    "duration": 5,
    "start_time": "2022-04-21T17:20:14.986Z"
   },
   {
    "duration": 26,
    "start_time": "2022-04-21T17:20:14.992Z"
   },
   {
    "duration": 1456,
    "start_time": "2022-04-21T17:20:15.020Z"
   },
   {
    "duration": 3,
    "start_time": "2022-04-21T17:20:16.478Z"
   },
   {
    "duration": 11,
    "start_time": "2022-04-21T17:20:16.483Z"
   },
   {
    "duration": 3,
    "start_time": "2022-04-21T17:20:16.496Z"
   },
   {
    "duration": 33,
    "start_time": "2022-04-21T17:20:16.500Z"
   },
   {
    "duration": 3,
    "start_time": "2022-04-21T17:20:16.536Z"
   },
   {
    "duration": 6,
    "start_time": "2022-04-21T17:20:16.547Z"
   },
   {
    "duration": 4,
    "start_time": "2022-04-21T17:20:16.555Z"
   },
   {
    "duration": 4,
    "start_time": "2022-04-21T17:20:16.560Z"
   },
   {
    "duration": 4,
    "start_time": "2022-04-21T17:20:16.566Z"
   },
   {
    "duration": 3,
    "start_time": "2022-04-21T17:20:16.572Z"
   },
   {
    "duration": 5,
    "start_time": "2022-04-21T17:20:16.577Z"
   },
   {
    "duration": 5,
    "start_time": "2022-04-21T17:20:16.584Z"
   },
   {
    "duration": 5,
    "start_time": "2022-04-21T17:20:16.590Z"
   },
   {
    "duration": 51,
    "start_time": "2022-04-21T17:20:16.597Z"
   },
   {
    "duration": 4,
    "start_time": "2022-04-21T17:20:16.650Z"
   },
   {
    "duration": 10,
    "start_time": "2022-04-21T17:20:16.656Z"
   },
   {
    "duration": 7,
    "start_time": "2022-04-21T17:20:16.668Z"
   },
   {
    "duration": 6,
    "start_time": "2022-04-21T17:20:16.678Z"
   },
   {
    "duration": 7,
    "start_time": "2022-04-21T17:20:16.686Z"
   },
   {
    "duration": 917,
    "start_time": "2022-04-21T17:20:16.695Z"
   },
   {
    "duration": 215,
    "start_time": "2022-04-21T17:20:17.614Z"
   },
   {
    "duration": 639,
    "start_time": "2022-04-21T17:20:17.832Z"
   },
   {
    "duration": 39,
    "start_time": "2022-04-21T17:20:18.473Z"
   },
   {
    "duration": 6,
    "start_time": "2022-04-21T17:20:18.514Z"
   },
   {
    "duration": 45,
    "start_time": "2022-04-21T17:20:18.522Z"
   },
   {
    "duration": 23,
    "start_time": "2022-04-21T17:20:18.569Z"
   },
   {
    "duration": 55,
    "start_time": "2022-04-21T17:20:18.593Z"
   },
   {
    "duration": 96,
    "start_time": "2022-04-21T17:20:18.653Z"
   },
   {
    "duration": 19,
    "start_time": "2022-04-21T17:20:18.750Z"
   },
   {
    "duration": 89,
    "start_time": "2022-04-21T17:20:18.770Z"
   },
   {
    "duration": 453,
    "start_time": "2022-04-21T17:20:18.947Z"
   },
   {
    "duration": 145,
    "start_time": "2022-04-21T17:20:19.404Z"
   },
   {
    "duration": 360,
    "start_time": "2022-04-21T17:20:19.550Z"
   },
   {
    "duration": 37,
    "start_time": "2022-04-21T17:20:19.911Z"
   },
   {
    "duration": 6,
    "start_time": "2022-04-21T17:20:19.950Z"
   },
   {
    "duration": 20,
    "start_time": "2022-04-21T17:20:19.957Z"
   },
   {
    "duration": 19,
    "start_time": "2022-04-21T17:20:19.978Z"
   },
   {
    "duration": 56,
    "start_time": "2022-04-21T17:20:19.999Z"
   },
   {
    "duration": 92,
    "start_time": "2022-04-21T17:20:20.057Z"
   },
   {
    "duration": 14,
    "start_time": "2022-04-21T17:20:20.151Z"
   },
   {
    "duration": 89,
    "start_time": "2022-04-21T17:20:20.167Z"
   },
   {
    "duration": 100,
    "start_time": "2022-04-21T17:20:20.258Z"
   },
   {
    "duration": 2,
    "start_time": "2022-04-21T17:20:20.360Z"
   },
   {
    "duration": 283,
    "start_time": "2022-04-21T17:20:20.364Z"
   },
   {
    "duration": 128,
    "start_time": "2022-04-21T17:20:20.649Z"
   },
   {
    "duration": 249,
    "start_time": "2022-04-21T17:20:20.779Z"
   },
   {
    "duration": 42,
    "start_time": "2022-04-21T17:20:21.029Z"
   },
   {
    "duration": 5,
    "start_time": "2022-04-21T17:20:21.072Z"
   },
   {
    "duration": 22,
    "start_time": "2022-04-21T17:20:21.079Z"
   },
   {
    "duration": 20,
    "start_time": "2022-04-21T17:20:21.102Z"
   },
   {
    "duration": 11,
    "start_time": "2022-04-21T17:20:21.147Z"
   },
   {
    "duration": 101,
    "start_time": "2022-04-21T17:20:21.161Z"
   },
   {
    "duration": 9,
    "start_time": "2022-04-21T17:20:21.348Z"
   },
   {
    "duration": 784,
    "start_time": "2022-04-21T17:20:21.359Z"
   },
   {
    "duration": 5,
    "start_time": "2022-04-21T17:20:22.144Z"
   },
   {
    "duration": 110,
    "start_time": "2022-04-21T17:20:22.151Z"
   },
   {
    "duration": 87,
    "start_time": "2022-04-21T17:20:22.262Z"
   },
   {
    "duration": 5,
    "start_time": "2022-04-21T17:20:22.351Z"
   },
   {
    "duration": 200,
    "start_time": "2022-04-21T17:20:22.357Z"
   },
   {
    "duration": 1582,
    "start_time": "2022-04-21T18:52:41.359Z"
   },
   {
    "duration": 46,
    "start_time": "2022-04-21T18:52:42.943Z"
   },
   {
    "duration": 3,
    "start_time": "2022-04-21T18:52:42.990Z"
   },
   {
    "duration": 35,
    "start_time": "2022-04-21T18:52:42.995Z"
   },
   {
    "duration": 19,
    "start_time": "2022-04-21T18:52:43.031Z"
   },
   {
    "duration": 7,
    "start_time": "2022-04-21T18:52:43.052Z"
   },
   {
    "duration": 4,
    "start_time": "2022-04-21T18:52:43.060Z"
   },
   {
    "duration": 24,
    "start_time": "2022-04-21T18:52:43.066Z"
   },
   {
    "duration": 1376,
    "start_time": "2022-04-21T18:52:43.092Z"
   },
   {
    "duration": 3,
    "start_time": "2022-04-21T18:52:44.470Z"
   },
   {
    "duration": 13,
    "start_time": "2022-04-21T18:52:44.475Z"
   },
   {
    "duration": 3,
    "start_time": "2022-04-21T18:52:44.489Z"
   },
   {
    "duration": 29,
    "start_time": "2022-04-21T18:52:44.493Z"
   },
   {
    "duration": 25,
    "start_time": "2022-04-21T18:52:44.523Z"
   },
   {
    "duration": 7,
    "start_time": "2022-04-21T18:52:44.550Z"
   },
   {
    "duration": 4,
    "start_time": "2022-04-21T18:52:44.558Z"
   },
   {
    "duration": 4,
    "start_time": "2022-04-21T18:52:44.563Z"
   },
   {
    "duration": 7,
    "start_time": "2022-04-21T18:52:44.569Z"
   },
   {
    "duration": 9,
    "start_time": "2022-04-21T18:52:44.577Z"
   },
   {
    "duration": 9,
    "start_time": "2022-04-21T18:52:44.587Z"
   },
   {
    "duration": 7,
    "start_time": "2022-04-21T18:52:44.597Z"
   },
   {
    "duration": 6,
    "start_time": "2022-04-21T18:52:44.605Z"
   },
   {
    "duration": 8,
    "start_time": "2022-04-21T18:52:44.613Z"
   },
   {
    "duration": 3,
    "start_time": "2022-04-21T18:52:44.623Z"
   },
   {
    "duration": 7,
    "start_time": "2022-04-21T18:52:44.648Z"
   },
   {
    "duration": 6,
    "start_time": "2022-04-21T18:52:44.656Z"
   },
   {
    "duration": 4,
    "start_time": "2022-04-21T18:52:44.663Z"
   },
   {
    "duration": 2,
    "start_time": "2022-04-21T18:52:44.671Z"
   },
   {
    "duration": 607,
    "start_time": "2022-04-21T18:52:44.675Z"
   },
   {
    "duration": 133,
    "start_time": "2022-04-21T18:52:45.284Z"
   },
   {
    "duration": 593,
    "start_time": "2022-04-21T18:52:45.418Z"
   },
   {
    "duration": 44,
    "start_time": "2022-04-21T18:52:46.013Z"
   },
   {
    "duration": 6,
    "start_time": "2022-04-21T18:52:46.058Z"
   },
   {
    "duration": 26,
    "start_time": "2022-04-21T18:52:46.065Z"
   },
   {
    "duration": 21,
    "start_time": "2022-04-21T18:52:46.092Z"
   },
   {
    "duration": 48,
    "start_time": "2022-04-21T18:52:46.115Z"
   },
   {
    "duration": 87,
    "start_time": "2022-04-21T18:52:46.165Z"
   },
   {
    "duration": 103,
    "start_time": "2022-04-21T18:52:46.254Z"
   },
   {
    "duration": 192,
    "start_time": "2022-04-21T18:52:46.362Z"
   },
   {
    "duration": 427,
    "start_time": "2022-04-21T18:52:46.556Z"
   },
   {
    "duration": 132,
    "start_time": "2022-04-21T18:52:46.984Z"
   },
   {
    "duration": 337,
    "start_time": "2022-04-21T18:52:47.118Z"
   },
   {
    "duration": 28,
    "start_time": "2022-04-21T18:52:47.457Z"
   },
   {
    "duration": 5,
    "start_time": "2022-04-21T18:52:47.487Z"
   },
   {
    "duration": 19,
    "start_time": "2022-04-21T18:52:47.494Z"
   },
   {
    "duration": 42,
    "start_time": "2022-04-21T18:52:47.515Z"
   },
   {
    "duration": 19,
    "start_time": "2022-04-21T18:52:47.559Z"
   },
   {
    "duration": 99,
    "start_time": "2022-04-21T18:52:47.649Z"
   },
   {
    "duration": 9,
    "start_time": "2022-04-21T18:52:47.750Z"
   },
   {
    "duration": 187,
    "start_time": "2022-04-21T18:52:47.761Z"
   },
   {
    "duration": 9,
    "start_time": "2022-04-21T18:52:47.950Z"
   },
   {
    "duration": 3,
    "start_time": "2022-04-21T18:52:47.961Z"
   },
   {
    "duration": 284,
    "start_time": "2022-04-21T18:52:47.965Z"
   },
   {
    "duration": 137,
    "start_time": "2022-04-21T18:52:48.250Z"
   },
   {
    "duration": 248,
    "start_time": "2022-04-21T18:52:48.388Z"
   },
   {
    "duration": 34,
    "start_time": "2022-04-21T18:52:48.638Z"
   },
   {
    "duration": 5,
    "start_time": "2022-04-21T18:52:48.673Z"
   },
   {
    "duration": 20,
    "start_time": "2022-04-21T18:52:48.680Z"
   },
   {
    "duration": 19,
    "start_time": "2022-04-21T18:52:48.702Z"
   },
   {
    "duration": 40,
    "start_time": "2022-04-21T18:52:48.722Z"
   },
   {
    "duration": 9,
    "start_time": "2022-04-21T18:52:48.848Z"
   },
   {
    "duration": 14,
    "start_time": "2022-04-21T18:52:48.948Z"
   },
   {
    "duration": 771,
    "start_time": "2022-04-21T18:52:48.964Z"
   },
   {
    "duration": 10,
    "start_time": "2022-04-21T18:52:49.737Z"
   },
   {
    "duration": 107,
    "start_time": "2022-04-21T18:52:49.749Z"
   },
   {
    "duration": 22,
    "start_time": "2022-04-21T18:52:49.858Z"
   },
   {
    "duration": 7,
    "start_time": "2022-04-21T18:52:49.947Z"
   },
   {
    "duration": 193,
    "start_time": "2022-04-21T18:52:49.956Z"
   },
   {
    "duration": 2158,
    "start_time": "2022-04-22T15:15:02.089Z"
   },
   {
    "duration": 58,
    "start_time": "2022-04-22T15:15:04.250Z"
   },
   {
    "duration": 4,
    "start_time": "2022-04-22T15:15:04.309Z"
   },
   {
    "duration": 44,
    "start_time": "2022-04-22T15:15:04.315Z"
   },
   {
    "duration": 12,
    "start_time": "2022-04-22T15:15:04.361Z"
   },
   {
    "duration": 8,
    "start_time": "2022-04-22T15:15:04.375Z"
   },
   {
    "duration": 5,
    "start_time": "2022-04-22T15:15:04.384Z"
   },
   {
    "duration": 46,
    "start_time": "2022-04-22T15:15:04.391Z"
   },
   {
    "duration": 1497,
    "start_time": "2022-04-22T15:15:04.438Z"
   },
   {
    "duration": 4,
    "start_time": "2022-04-22T15:15:05.938Z"
   },
   {
    "duration": 13,
    "start_time": "2022-04-22T15:15:05.943Z"
   },
   {
    "duration": 2,
    "start_time": "2022-04-22T15:15:05.958Z"
   },
   {
    "duration": 30,
    "start_time": "2022-04-22T15:15:05.962Z"
   },
   {
    "duration": 4,
    "start_time": "2022-04-22T15:15:05.994Z"
   },
   {
    "duration": 24,
    "start_time": "2022-04-22T15:15:05.999Z"
   },
   {
    "duration": 5,
    "start_time": "2022-04-22T15:15:06.024Z"
   },
   {
    "duration": 4,
    "start_time": "2022-04-22T15:15:06.031Z"
   },
   {
    "duration": 5,
    "start_time": "2022-04-22T15:15:06.037Z"
   },
   {
    "duration": 7,
    "start_time": "2022-04-22T15:15:06.044Z"
   },
   {
    "duration": 10,
    "start_time": "2022-04-22T15:15:06.053Z"
   },
   {
    "duration": 15,
    "start_time": "2022-04-22T15:15:06.064Z"
   },
   {
    "duration": 7,
    "start_time": "2022-04-22T15:15:06.081Z"
   },
   {
    "duration": 34,
    "start_time": "2022-04-22T15:15:06.090Z"
   },
   {
    "duration": 4,
    "start_time": "2022-04-22T15:15:06.126Z"
   },
   {
    "duration": 4,
    "start_time": "2022-04-22T15:15:06.132Z"
   },
   {
    "duration": 7,
    "start_time": "2022-04-22T15:15:06.138Z"
   },
   {
    "duration": 24,
    "start_time": "2022-04-22T15:15:06.147Z"
   },
   {
    "duration": 6,
    "start_time": "2022-04-22T15:15:06.175Z"
   },
   {
    "duration": 643,
    "start_time": "2022-04-22T15:15:06.183Z"
   },
   {
    "duration": 142,
    "start_time": "2022-04-22T15:15:06.828Z"
   },
   {
    "duration": 651,
    "start_time": "2022-04-22T15:15:06.971Z"
   },
   {
    "duration": 39,
    "start_time": "2022-04-22T15:15:07.624Z"
   },
   {
    "duration": 5,
    "start_time": "2022-04-22T15:15:07.665Z"
   },
   {
    "duration": 29,
    "start_time": "2022-04-22T15:15:07.672Z"
   },
   {
    "duration": 41,
    "start_time": "2022-04-22T15:15:07.702Z"
   },
   {
    "duration": 17,
    "start_time": "2022-04-22T15:15:07.745Z"
   },
   {
    "duration": 60,
    "start_time": "2022-04-22T15:15:07.765Z"
   },
   {
    "duration": 103,
    "start_time": "2022-04-22T15:15:07.827Z"
   },
   {
    "duration": 93,
    "start_time": "2022-04-22T15:15:07.935Z"
   },
   {
    "duration": 581,
    "start_time": "2022-04-22T15:15:08.033Z"
   },
   {
    "duration": 145,
    "start_time": "2022-04-22T15:15:08.616Z"
   },
   {
    "duration": 385,
    "start_time": "2022-04-22T15:15:08.763Z"
   },
   {
    "duration": 32,
    "start_time": "2022-04-22T15:15:09.150Z"
   },
   {
    "duration": 6,
    "start_time": "2022-04-22T15:15:09.183Z"
   },
   {
    "duration": 45,
    "start_time": "2022-04-22T15:15:09.190Z"
   },
   {
    "duration": 22,
    "start_time": "2022-04-22T15:15:09.237Z"
   },
   {
    "duration": 15,
    "start_time": "2022-04-22T15:15:09.261Z"
   },
   {
    "duration": 51,
    "start_time": "2022-04-22T15:15:09.279Z"
   },
   {
    "duration": 99,
    "start_time": "2022-04-22T15:15:09.332Z"
   },
   {
    "duration": 95,
    "start_time": "2022-04-22T15:15:09.433Z"
   },
   {
    "duration": 108,
    "start_time": "2022-04-22T15:15:09.530Z"
   },
   {
    "duration": 17,
    "start_time": "2022-04-22T15:15:09.640Z"
   },
   {
    "duration": 299,
    "start_time": "2022-04-22T15:15:09.659Z"
   },
   {
    "duration": 140,
    "start_time": "2022-04-22T15:15:09.960Z"
   },
   {
    "duration": 284,
    "start_time": "2022-04-22T15:15:10.103Z"
   },
   {
    "duration": 39,
    "start_time": "2022-04-22T15:15:10.388Z"
   },
   {
    "duration": 6,
    "start_time": "2022-04-22T15:15:10.428Z"
   },
   {
    "duration": 32,
    "start_time": "2022-04-22T15:15:10.435Z"
   },
   {
    "duration": 23,
    "start_time": "2022-04-22T15:15:10.468Z"
   },
   {
    "duration": 34,
    "start_time": "2022-04-22T15:15:10.493Z"
   },
   {
    "duration": 98,
    "start_time": "2022-04-22T15:15:10.529Z"
   },
   {
    "duration": 103,
    "start_time": "2022-04-22T15:15:10.630Z"
   },
   {
    "duration": 862,
    "start_time": "2022-04-22T15:15:10.736Z"
   },
   {
    "duration": 4,
    "start_time": "2022-04-22T15:15:11.600Z"
   },
   {
    "duration": 127,
    "start_time": "2022-04-22T15:15:11.606Z"
   },
   {
    "duration": 88,
    "start_time": "2022-04-22T15:15:11.735Z"
   },
   {
    "duration": 6,
    "start_time": "2022-04-22T15:15:11.826Z"
   },
   {
    "duration": 117,
    "start_time": "2022-04-22T15:15:11.923Z"
   }
  ],
  "kernelspec": {
   "display_name": "Python 3 (ipykernel)",
   "language": "python",
   "name": "python3"
  },
  "language_info": {
   "codemirror_mode": {
    "name": "ipython",
    "version": 3
   },
   "file_extension": ".py",
   "mimetype": "text/x-python",
   "name": "python",
   "nbconvert_exporter": "python",
   "pygments_lexer": "ipython3",
   "version": "3.9.5"
  },
  "toc": {
   "base_numbering": 1,
   "nav_menu": {},
   "number_sections": true,
   "sideBar": true,
   "skip_h1_title": true,
   "title_cell": "Table of Contents",
   "title_sidebar": "Contents",
   "toc_cell": false,
   "toc_position": {
    "height": "calc(100% - 180px)",
    "left": "10px",
    "top": "150px",
    "width": "165px"
   },
   "toc_section_display": true,
   "toc_window_display": true
  }
 },
 "nbformat": 4,
 "nbformat_minor": 2
}
