{
 "cells": [
  {
   "cell_type": "markdown",
   "metadata": {},
   "source": [
    "# Analyzing borrowers’ risk of defaulting\n",
    "\n",
    "Your project is to prepare a report for a bank’s loan division. You’ll need to find out if a customer’s marital status and number of children has an impact on whether they will default on a loan. The bank already has some data on customers’ credit worthiness.\n",
    "\n",
    "Your report will be considered when building a **credit scoring** of a potential customer. A ** credit scoring ** is used to evaluate the ability of a potential borrower to repay their loan."
   ]
  },
  {
   "cell_type": "markdown",
   "metadata": {},
   "source": [
    "## Open the data file and have a look at the general information. "
   ]
  },
  {
   "cell_type": "code",
   "execution_count": 1,
   "metadata": {},
   "outputs": [
    {
     "name": "stdout",
     "output_type": "stream",
     "text": [
      "<class 'pandas.core.frame.DataFrame'>\n",
      "RangeIndex: 21525 entries, 0 to 21524\n",
      "Data columns (total 12 columns):\n",
      "children            21525 non-null int64\n",
      "days_employed       19351 non-null float64\n",
      "dob_years           21525 non-null int64\n",
      "education           21525 non-null object\n",
      "education_id        21525 non-null int64\n",
      "family_status       21525 non-null object\n",
      "family_status_id    21525 non-null int64\n",
      "gender              21525 non-null object\n",
      "income_type         21525 non-null object\n",
      "debt                21525 non-null int64\n",
      "total_income        19351 non-null float64\n",
      "purpose             21525 non-null object\n",
      "dtypes: float64(2), int64(5), object(5)\n",
      "memory usage: 2.0+ MB\n"
     ]
    },
    {
     "data": {
      "text/html": [
       "<div>\n",
       "<style scoped>\n",
       "    .dataframe tbody tr th:only-of-type {\n",
       "        vertical-align: middle;\n",
       "    }\n",
       "\n",
       "    .dataframe tbody tr th {\n",
       "        vertical-align: top;\n",
       "    }\n",
       "\n",
       "    .dataframe thead th {\n",
       "        text-align: right;\n",
       "    }\n",
       "</style>\n",
       "<table border=\"1\" class=\"dataframe\">\n",
       "  <thead>\n",
       "    <tr style=\"text-align: right;\">\n",
       "      <th></th>\n",
       "      <th>children</th>\n",
       "      <th>days_employed</th>\n",
       "      <th>dob_years</th>\n",
       "      <th>education</th>\n",
       "      <th>education_id</th>\n",
       "      <th>family_status</th>\n",
       "      <th>family_status_id</th>\n",
       "      <th>gender</th>\n",
       "      <th>income_type</th>\n",
       "      <th>debt</th>\n",
       "      <th>total_income</th>\n",
       "      <th>purpose</th>\n",
       "    </tr>\n",
       "  </thead>\n",
       "  <tbody>\n",
       "    <tr>\n",
       "      <td>0</td>\n",
       "      <td>1</td>\n",
       "      <td>-8437.673028</td>\n",
       "      <td>42</td>\n",
       "      <td>bachelor's degree</td>\n",
       "      <td>0</td>\n",
       "      <td>married</td>\n",
       "      <td>0</td>\n",
       "      <td>F</td>\n",
       "      <td>employee</td>\n",
       "      <td>0</td>\n",
       "      <td>40620.102</td>\n",
       "      <td>purchase of the house</td>\n",
       "    </tr>\n",
       "    <tr>\n",
       "      <td>1</td>\n",
       "      <td>1</td>\n",
       "      <td>-4024.803754</td>\n",
       "      <td>36</td>\n",
       "      <td>secondary education</td>\n",
       "      <td>1</td>\n",
       "      <td>married</td>\n",
       "      <td>0</td>\n",
       "      <td>F</td>\n",
       "      <td>employee</td>\n",
       "      <td>0</td>\n",
       "      <td>17932.802</td>\n",
       "      <td>car purchase</td>\n",
       "    </tr>\n",
       "    <tr>\n",
       "      <td>2</td>\n",
       "      <td>0</td>\n",
       "      <td>-5623.422610</td>\n",
       "      <td>33</td>\n",
       "      <td>Secondary Education</td>\n",
       "      <td>1</td>\n",
       "      <td>married</td>\n",
       "      <td>0</td>\n",
       "      <td>M</td>\n",
       "      <td>employee</td>\n",
       "      <td>0</td>\n",
       "      <td>23341.752</td>\n",
       "      <td>purchase of the house</td>\n",
       "    </tr>\n",
       "    <tr>\n",
       "      <td>3</td>\n",
       "      <td>3</td>\n",
       "      <td>-4124.747207</td>\n",
       "      <td>32</td>\n",
       "      <td>secondary education</td>\n",
       "      <td>1</td>\n",
       "      <td>married</td>\n",
       "      <td>0</td>\n",
       "      <td>M</td>\n",
       "      <td>employee</td>\n",
       "      <td>0</td>\n",
       "      <td>42820.568</td>\n",
       "      <td>supplementary education</td>\n",
       "    </tr>\n",
       "    <tr>\n",
       "      <td>4</td>\n",
       "      <td>0</td>\n",
       "      <td>340266.072047</td>\n",
       "      <td>53</td>\n",
       "      <td>secondary education</td>\n",
       "      <td>1</td>\n",
       "      <td>civil partnership</td>\n",
       "      <td>1</td>\n",
       "      <td>F</td>\n",
       "      <td>retiree</td>\n",
       "      <td>0</td>\n",
       "      <td>25378.572</td>\n",
       "      <td>to have a wedding</td>\n",
       "    </tr>\n",
       "    <tr>\n",
       "      <td>5</td>\n",
       "      <td>0</td>\n",
       "      <td>-926.185831</td>\n",
       "      <td>27</td>\n",
       "      <td>bachelor's degree</td>\n",
       "      <td>0</td>\n",
       "      <td>civil partnership</td>\n",
       "      <td>1</td>\n",
       "      <td>M</td>\n",
       "      <td>business</td>\n",
       "      <td>0</td>\n",
       "      <td>40922.170</td>\n",
       "      <td>purchase of the house</td>\n",
       "    </tr>\n",
       "    <tr>\n",
       "      <td>6</td>\n",
       "      <td>0</td>\n",
       "      <td>-2879.202052</td>\n",
       "      <td>43</td>\n",
       "      <td>bachelor's degree</td>\n",
       "      <td>0</td>\n",
       "      <td>married</td>\n",
       "      <td>0</td>\n",
       "      <td>F</td>\n",
       "      <td>business</td>\n",
       "      <td>0</td>\n",
       "      <td>38484.156</td>\n",
       "      <td>housing transactions</td>\n",
       "    </tr>\n",
       "    <tr>\n",
       "      <td>7</td>\n",
       "      <td>0</td>\n",
       "      <td>-152.779569</td>\n",
       "      <td>50</td>\n",
       "      <td>SECONDARY EDUCATION</td>\n",
       "      <td>1</td>\n",
       "      <td>married</td>\n",
       "      <td>0</td>\n",
       "      <td>M</td>\n",
       "      <td>employee</td>\n",
       "      <td>0</td>\n",
       "      <td>21731.829</td>\n",
       "      <td>education</td>\n",
       "    </tr>\n",
       "    <tr>\n",
       "      <td>8</td>\n",
       "      <td>2</td>\n",
       "      <td>-6929.865299</td>\n",
       "      <td>35</td>\n",
       "      <td>BACHELOR'S DEGREE</td>\n",
       "      <td>0</td>\n",
       "      <td>civil partnership</td>\n",
       "      <td>1</td>\n",
       "      <td>F</td>\n",
       "      <td>employee</td>\n",
       "      <td>0</td>\n",
       "      <td>15337.093</td>\n",
       "      <td>having a wedding</td>\n",
       "    </tr>\n",
       "    <tr>\n",
       "      <td>9</td>\n",
       "      <td>0</td>\n",
       "      <td>-2188.756445</td>\n",
       "      <td>41</td>\n",
       "      <td>secondary education</td>\n",
       "      <td>1</td>\n",
       "      <td>married</td>\n",
       "      <td>0</td>\n",
       "      <td>M</td>\n",
       "      <td>employee</td>\n",
       "      <td>0</td>\n",
       "      <td>23108.150</td>\n",
       "      <td>purchase of the house for my family</td>\n",
       "    </tr>\n",
       "  </tbody>\n",
       "</table>\n",
       "</div>"
      ],
      "text/plain": [
       "   children  days_employed  dob_years            education  education_id  \\\n",
       "0         1   -8437.673028         42    bachelor's degree             0   \n",
       "1         1   -4024.803754         36  secondary education             1   \n",
       "2         0   -5623.422610         33  Secondary Education             1   \n",
       "3         3   -4124.747207         32  secondary education             1   \n",
       "4         0  340266.072047         53  secondary education             1   \n",
       "5         0    -926.185831         27    bachelor's degree             0   \n",
       "6         0   -2879.202052         43    bachelor's degree             0   \n",
       "7         0    -152.779569         50  SECONDARY EDUCATION             1   \n",
       "8         2   -6929.865299         35    BACHELOR'S DEGREE             0   \n",
       "9         0   -2188.756445         41  secondary education             1   \n",
       "\n",
       "       family_status  family_status_id gender income_type  debt  total_income  \\\n",
       "0            married                 0      F    employee     0     40620.102   \n",
       "1            married                 0      F    employee     0     17932.802   \n",
       "2            married                 0      M    employee     0     23341.752   \n",
       "3            married                 0      M    employee     0     42820.568   \n",
       "4  civil partnership                 1      F     retiree     0     25378.572   \n",
       "5  civil partnership                 1      M    business     0     40922.170   \n",
       "6            married                 0      F    business     0     38484.156   \n",
       "7            married                 0      M    employee     0     21731.829   \n",
       "8  civil partnership                 1      F    employee     0     15337.093   \n",
       "9            married                 0      M    employee     0     23108.150   \n",
       "\n",
       "                               purpose  \n",
       "0                purchase of the house  \n",
       "1                         car purchase  \n",
       "2                purchase of the house  \n",
       "3              supplementary education  \n",
       "4                    to have a wedding  \n",
       "5                purchase of the house  \n",
       "6                 housing transactions  \n",
       "7                            education  \n",
       "8                     having a wedding  \n",
       "9  purchase of the house for my family  "
      ]
     },
     "execution_count": 1,
     "metadata": {},
     "output_type": "execute_result"
    }
   ],
   "source": [
    "import pandas as pd\n",
    "data = pd.read_csv('/datasets/credit_scoring_eng.csv')\n",
    "from pymystem3 import Mystem\n",
    "from collections import Counter\n",
    "m = Mystem()\n",
    "data.columns.str.lower()\n",
    "data.info()\n",
    "data.head(10)"
   ]
  },
  {
   "cell_type": "markdown",
   "metadata": {},
   "source": [
    "### Conclusion"
   ]
  },
  {
   "cell_type": "markdown",
   "metadata": {},
   "source": [
    "Lots of information, should be sufficient. Even Though some parts of it are irrelevant."
   ]
  },
  {
   "cell_type": "markdown",
   "metadata": {},
   "source": [
    "## Data preprocessing"
   ]
  },
  {
   "cell_type": "markdown",
   "metadata": {},
   "source": [
    "### Processing missing values"
   ]
  },
  {
   "cell_type": "code",
   "execution_count": 2,
   "metadata": {},
   "outputs": [],
   "source": [
    "data = data.drop(columns = ['days_employed', 'dob_years', 'education', 'education_id', 'gender'])"
   ]
  },
  {
   "cell_type": "code",
   "execution_count": 3,
   "metadata": {},
   "outputs": [
    {
     "name": "stdout",
     "output_type": "stream",
     "text": [
      "<class 'pandas.core.frame.DataFrame'>\n",
      "RangeIndex: 19351 entries, 0 to 19350\n",
      "Data columns (total 7 columns):\n",
      "children            19351 non-null int64\n",
      "family_status       19351 non-null object\n",
      "family_status_id    19351 non-null int64\n",
      "income_type         19351 non-null object\n",
      "debt                19351 non-null int64\n",
      "total_income        19351 non-null float64\n",
      "purpose             19351 non-null object\n",
      "dtypes: float64(1), int64(3), object(3)\n",
      "memory usage: 1.0+ MB\n"
     ]
    }
   ],
   "source": [
    "data = data.dropna().reset_index(drop=True)\n",
    "data.info()"
   ]
  },
  {
   "cell_type": "markdown",
   "metadata": {},
   "source": [
    "### Conclusion"
   ]
  },
  {
   "cell_type": "markdown",
   "metadata": {},
   "source": [
    "Some information is troublesome probably due to human error. Most of the values can't be restored. 'family_status' and 'familiy_status_id' can fill one another."
   ]
  },
  {
   "cell_type": "markdown",
   "metadata": {},
   "source": [
    "### Data type replacement"
   ]
  },
  {
   "cell_type": "code",
   "execution_count": 4,
   "metadata": {},
   "outputs": [
    {
     "data": {
      "text/html": [
       "<div>\n",
       "<style scoped>\n",
       "    .dataframe tbody tr th:only-of-type {\n",
       "        vertical-align: middle;\n",
       "    }\n",
       "\n",
       "    .dataframe tbody tr th {\n",
       "        vertical-align: top;\n",
       "    }\n",
       "\n",
       "    .dataframe thead th {\n",
       "        text-align: right;\n",
       "    }\n",
       "</style>\n",
       "<table border=\"1\" class=\"dataframe\">\n",
       "  <thead>\n",
       "    <tr style=\"text-align: right;\">\n",
       "      <th></th>\n",
       "      <th>children</th>\n",
       "      <th>family_status</th>\n",
       "      <th>family_status_id</th>\n",
       "      <th>income_type</th>\n",
       "      <th>debt</th>\n",
       "      <th>total_income</th>\n",
       "      <th>purpose</th>\n",
       "    </tr>\n",
       "  </thead>\n",
       "  <tbody>\n",
       "    <tr>\n",
       "      <td>0</td>\n",
       "      <td>1</td>\n",
       "      <td>married</td>\n",
       "      <td>0</td>\n",
       "      <td>employee</td>\n",
       "      <td>0</td>\n",
       "      <td>40620.102</td>\n",
       "      <td>purchase of the house</td>\n",
       "    </tr>\n",
       "    <tr>\n",
       "      <td>1</td>\n",
       "      <td>1</td>\n",
       "      <td>married</td>\n",
       "      <td>0</td>\n",
       "      <td>employee</td>\n",
       "      <td>0</td>\n",
       "      <td>17932.802</td>\n",
       "      <td>car purchase</td>\n",
       "    </tr>\n",
       "    <tr>\n",
       "      <td>2</td>\n",
       "      <td>0</td>\n",
       "      <td>married</td>\n",
       "      <td>0</td>\n",
       "      <td>employee</td>\n",
       "      <td>0</td>\n",
       "      <td>23341.752</td>\n",
       "      <td>purchase of the house</td>\n",
       "    </tr>\n",
       "    <tr>\n",
       "      <td>3</td>\n",
       "      <td>3</td>\n",
       "      <td>married</td>\n",
       "      <td>0</td>\n",
       "      <td>employee</td>\n",
       "      <td>0</td>\n",
       "      <td>42820.568</td>\n",
       "      <td>supplementary education</td>\n",
       "    </tr>\n",
       "    <tr>\n",
       "      <td>4</td>\n",
       "      <td>0</td>\n",
       "      <td>civil partnership</td>\n",
       "      <td>1</td>\n",
       "      <td>retiree</td>\n",
       "      <td>0</td>\n",
       "      <td>25378.572</td>\n",
       "      <td>to have a wedding</td>\n",
       "    </tr>\n",
       "  </tbody>\n",
       "</table>\n",
       "</div>"
      ],
      "text/plain": [
       "   children      family_status  family_status_id income_type  debt  \\\n",
       "0         1            married                 0    employee     0   \n",
       "1         1            married                 0    employee     0   \n",
       "2         0            married                 0    employee     0   \n",
       "3         3            married                 0    employee     0   \n",
       "4         0  civil partnership                 1     retiree     0   \n",
       "\n",
       "   total_income                  purpose  \n",
       "0     40620.102    purchase of the house  \n",
       "1     17932.802             car purchase  \n",
       "2     23341.752    purchase of the house  \n",
       "3     42820.568  supplementary education  \n",
       "4     25378.572        to have a wedding  "
      ]
     },
     "execution_count": 4,
     "metadata": {},
     "output_type": "execute_result"
    }
   ],
   "source": [
    "data['children'] = data['children'].abs()\n",
    "grouped_data = data.groupby('income_type').median()\n",
    "data['total_income'].fillna('grouped_data', inplace = True)"
   ]
  },
  {
   "cell_type": "markdown",
   "metadata": {},
   "source": [
    "### Conclusion"
   ]
  },
  {
   "cell_type": "markdown",
   "metadata": {},
   "source": [
    "The data is now in order and complete. Eliminating negative children."
   ]
  },
  {
   "cell_type": "markdown",
   "metadata": {},
   "source": [
    "### Processing duplicates"
   ]
  },
  {
   "cell_type": "code",
   "execution_count": 5,
   "metadata": {},
   "outputs": [
    {
     "name": "stdout",
     "output_type": "stream",
     "text": [
      "<class 'pandas.core.frame.DataFrame'>\n",
      "RangeIndex: 19351 entries, 0 to 19350\n",
      "Data columns (total 7 columns):\n",
      "children            19351 non-null int64\n",
      "family_status       19351 non-null object\n",
      "family_status_id    19351 non-null int64\n",
      "income_type         19351 non-null object\n",
      "debt                19351 non-null int64\n",
      "total_income        19351 non-null float64\n",
      "purpose             19351 non-null object\n",
      "dtypes: float64(1), int64(3), object(3)\n",
      "memory usage: 1.0+ MB\n"
     ]
    }
   ],
   "source": [
    "data.drop_duplicates().reset_index()\n",
    "data.info()"
   ]
  },
  {
   "cell_type": "markdown",
   "metadata": {},
   "source": [
    "### Conclusion"
   ]
  },
  {
   "cell_type": "markdown",
   "metadata": {},
   "source": [
    "There are no duplicates as I can see but the check has been done.\n"
   ]
  },
  {
   "cell_type": "markdown",
   "metadata": {},
   "source": [
    "### Categorizing Data"
   ]
  },
  {
   "cell_type": "code",
   "execution_count": 6,
   "metadata": {},
   "outputs": [],
   "source": [
    "def income_lvl(x):\n",
    "    if x<= 16488.504500:\n",
    "        return 'low'\n",
    "    elif x>= 16488.504500 and x<= 23202.870000:\n",
    "        return 'sufficient'\n",
    "    elif x>= 23202.870001 and x<= 32549.611000:\n",
    "        return 'average'\n",
    "    elif x>= 32549.611001:\n",
    "        return 'wealthy'\n",
    "    else:\n",
    "        return 'other'"
   ]
  },
  {
   "cell_type": "code",
   "execution_count": 7,
   "metadata": {},
   "outputs": [],
   "source": [
    "data['clean_income'] = data['total_income'].apply(income_lvl)"
   ]
  },
  {
   "cell_type": "code",
   "execution_count": 8,
   "metadata": {},
   "outputs": [],
   "source": [
    "housing_category = ['purchase of the house', 'housing transactions',\n",
    "                    'purchase of the house for my family', 'buy real estate', 'buy commercial real estate',\n",
    "                    'buy residential real estate', 'construction of own property', 'property', 'building a property',\n",
    "                    'transactions with commercial real estate', 'housing', 'transactions with my real estate', 'purchase of my own house',\n",
    "                    'real estate transactions', 'buying property for renting out', 'building a real estate', 'housing renovation', 'house', 'real estate', 'realestate', 'commercial',\n",
    "                    'residential', 'transactions', 'building', 'real', \n",
    "                    'estate']\n",
    "\n",
    "car_category = ['car purchase', 'buying a second-hand car', 'buying my own car', 'cars', 'second-hand car purchase', 'car', 'to own a car', 'purchase of a car', 'to buy a car']\n",
    "\n",
    "wedding_category = ['to have a wedding', 'having a wedding', 'wedding ceremony', 'wedding', 'ceremony']\n",
    "\n",
    "education_category = ['supplementary education', 'education', 'to become educated', 'getting an education', 'to get a supplementary education', 'getting higher education', 'profile education', 'university education', 'going to university', 'university', 'educated']"
   ]
  },
  {
   "cell_type": "code",
   "execution_count": null,
   "metadata": {},
   "outputs": [],
   "source": []
  },
  {
   "cell_type": "code",
   "execution_count": 9,
   "metadata": {},
   "outputs": [],
   "source": [
    "def lemmatazation_func(line):\n",
    "    lemmatized = m.lemmatize(line)\n",
    "    if any (word in lemmatized for word in housing_category):\n",
    "        return 'housing'\n",
    "    elif any (word in lemmatized for word in car_category): \n",
    "        return 'cars'\n",
    "    elif any (word in lemmatized for word in wedding_category):\n",
    "        return 'weddings'\n",
    "    elif any (word in lemmatized for word in education_category):\n",
    "        return 'education'\n",
    "    else:\n",
    "        return 'other'\n",
    "    "
   ]
  },
  {
   "cell_type": "code",
   "execution_count": 10,
   "metadata": {},
   "outputs": [],
   "source": [
    "data['clean_purpose'] = data['purpose'].apply(lemmatazation_func)"
   ]
  },
  {
   "cell_type": "markdown",
   "metadata": {},
   "source": [
    "### Conclusion"
   ]
  },
  {
   "cell_type": "markdown",
   "metadata": {},
   "source": [
    "Four groups for two columns were created in order to arrange the data in a visually pleasant way and in order to assess the situation."
   ]
  },
  {
   "cell_type": "markdown",
   "metadata": {},
   "source": [
    "## Answer these questions"
   ]
  },
  {
   "cell_type": "markdown",
   "metadata": {},
   "source": [
    "- Is there a relation between having kids and repaying a loan on time?"
   ]
  },
  {
   "cell_type": "code",
   "execution_count": 11,
   "metadata": {},
   "outputs": [
    {
     "data": {
      "text/html": [
       "<div>\n",
       "<style scoped>\n",
       "    .dataframe tbody tr th:only-of-type {\n",
       "        vertical-align: middle;\n",
       "    }\n",
       "\n",
       "    .dataframe tbody tr th {\n",
       "        vertical-align: top;\n",
       "    }\n",
       "\n",
       "    .dataframe thead th {\n",
       "        text-align: right;\n",
       "    }\n",
       "</style>\n",
       "<table border=\"1\" class=\"dataframe\">\n",
       "  <thead>\n",
       "    <tr style=\"text-align: right;\">\n",
       "      <th>debt</th>\n",
       "      <th>children</th>\n",
       "      <th>0</th>\n",
       "      <th>1</th>\n",
       "      <th>All</th>\n",
       "    </tr>\n",
       "  </thead>\n",
       "  <tbody>\n",
       "    <tr>\n",
       "      <td>0</td>\n",
       "      <td>0</td>\n",
       "      <td>11758.0</td>\n",
       "      <td>952.0</td>\n",
       "      <td>12710</td>\n",
       "    </tr>\n",
       "    <tr>\n",
       "      <td>1</td>\n",
       "      <td>1</td>\n",
       "      <td>3978.0</td>\n",
       "      <td>409.0</td>\n",
       "      <td>4387</td>\n",
       "    </tr>\n",
       "    <tr>\n",
       "      <td>2</td>\n",
       "      <td>2</td>\n",
       "      <td>1674.0</td>\n",
       "      <td>177.0</td>\n",
       "      <td>1851</td>\n",
       "    </tr>\n",
       "    <tr>\n",
       "      <td>3</td>\n",
       "      <td>3</td>\n",
       "      <td>272.0</td>\n",
       "      <td>22.0</td>\n",
       "      <td>294</td>\n",
       "    </tr>\n",
       "    <tr>\n",
       "      <td>4</td>\n",
       "      <td>4</td>\n",
       "      <td>31.0</td>\n",
       "      <td>3.0</td>\n",
       "      <td>34</td>\n",
       "    </tr>\n",
       "    <tr>\n",
       "      <td>5</td>\n",
       "      <td>5</td>\n",
       "      <td>8.0</td>\n",
       "      <td>NaN</td>\n",
       "      <td>8</td>\n",
       "    </tr>\n",
       "    <tr>\n",
       "      <td>6</td>\n",
       "      <td>20</td>\n",
       "      <td>59.0</td>\n",
       "      <td>8.0</td>\n",
       "      <td>67</td>\n",
       "    </tr>\n",
       "    <tr>\n",
       "      <td>7</td>\n",
       "      <td>All</td>\n",
       "      <td>17780.0</td>\n",
       "      <td>1571.0</td>\n",
       "      <td>19351</td>\n",
       "    </tr>\n",
       "  </tbody>\n",
       "</table>\n",
       "</div>"
      ],
      "text/plain": [
       "debt children        0       1    All\n",
       "0           0  11758.0   952.0  12710\n",
       "1           1   3978.0   409.0   4387\n",
       "2           2   1674.0   177.0   1851\n",
       "3           3    272.0    22.0    294\n",
       "4           4     31.0     3.0     34\n",
       "5           5      8.0     NaN      8\n",
       "6          20     59.0     8.0     67\n",
       "7         All  17780.0  1571.0  19351"
      ]
     },
     "execution_count": 11,
     "metadata": {},
     "output_type": "execute_result"
    }
   ],
   "source": [
    "kids_loan_relation = pd.pivot_table(data, index = 'children', columns = 'debt', values = 'family_status_id', aggfunc = 'count', margins = True).reset_index()\n",
    "kids_loan_relation"
   ]
  },
  {
   "cell_type": "code",
   "execution_count": 12,
   "metadata": {},
   "outputs": [],
   "source": [
    "kids_loan_relation.fillna(0, inplace = True)"
   ]
  },
  {
   "cell_type": "code",
   "execution_count": 13,
   "metadata": {},
   "outputs": [
    {
     "data": {
      "text/html": [
       "<div>\n",
       "<style scoped>\n",
       "    .dataframe tbody tr th:only-of-type {\n",
       "        vertical-align: middle;\n",
       "    }\n",
       "\n",
       "    .dataframe tbody tr th {\n",
       "        vertical-align: top;\n",
       "    }\n",
       "\n",
       "    .dataframe thead th {\n",
       "        text-align: right;\n",
       "    }\n",
       "</style>\n",
       "<table border=\"1\" class=\"dataframe\">\n",
       "  <thead>\n",
       "    <tr style=\"text-align: right;\">\n",
       "      <th>debt</th>\n",
       "      <th>children</th>\n",
       "      <th>0</th>\n",
       "      <th>1</th>\n",
       "      <th>All</th>\n",
       "      <th>relation</th>\n",
       "    </tr>\n",
       "  </thead>\n",
       "  <tbody>\n",
       "    <tr>\n",
       "      <td>0</td>\n",
       "      <td>0</td>\n",
       "      <td>11758.0</td>\n",
       "      <td>952.0</td>\n",
       "      <td>12710</td>\n",
       "      <td>7.490165</td>\n",
       "    </tr>\n",
       "    <tr>\n",
       "      <td>1</td>\n",
       "      <td>1</td>\n",
       "      <td>3978.0</td>\n",
       "      <td>409.0</td>\n",
       "      <td>4387</td>\n",
       "      <td>9.323000</td>\n",
       "    </tr>\n",
       "    <tr>\n",
       "      <td>2</td>\n",
       "      <td>2</td>\n",
       "      <td>1674.0</td>\n",
       "      <td>177.0</td>\n",
       "      <td>1851</td>\n",
       "      <td>9.562399</td>\n",
       "    </tr>\n",
       "    <tr>\n",
       "      <td>3</td>\n",
       "      <td>3</td>\n",
       "      <td>272.0</td>\n",
       "      <td>22.0</td>\n",
       "      <td>294</td>\n",
       "      <td>7.482993</td>\n",
       "    </tr>\n",
       "    <tr>\n",
       "      <td>4</td>\n",
       "      <td>4</td>\n",
       "      <td>31.0</td>\n",
       "      <td>3.0</td>\n",
       "      <td>34</td>\n",
       "      <td>8.823529</td>\n",
       "    </tr>\n",
       "    <tr>\n",
       "      <td>5</td>\n",
       "      <td>5</td>\n",
       "      <td>8.0</td>\n",
       "      <td>0.0</td>\n",
       "      <td>8</td>\n",
       "      <td>0.000000</td>\n",
       "    </tr>\n",
       "    <tr>\n",
       "      <td>6</td>\n",
       "      <td>20</td>\n",
       "      <td>59.0</td>\n",
       "      <td>8.0</td>\n",
       "      <td>67</td>\n",
       "      <td>11.940299</td>\n",
       "    </tr>\n",
       "    <tr>\n",
       "      <td>7</td>\n",
       "      <td>All</td>\n",
       "      <td>17780.0</td>\n",
       "      <td>1571.0</td>\n",
       "      <td>19351</td>\n",
       "      <td>8.118443</td>\n",
       "    </tr>\n",
       "  </tbody>\n",
       "</table>\n",
       "</div>"
      ],
      "text/plain": [
       "debt children        0       1    All   relation\n",
       "0           0  11758.0   952.0  12710   7.490165\n",
       "1           1   3978.0   409.0   4387   9.323000\n",
       "2           2   1674.0   177.0   1851   9.562399\n",
       "3           3    272.0    22.0    294   7.482993\n",
       "4           4     31.0     3.0     34   8.823529\n",
       "5           5      8.0     0.0      8   0.000000\n",
       "6          20     59.0     8.0     67  11.940299\n",
       "7         All  17780.0  1571.0  19351   8.118443"
      ]
     },
     "execution_count": 13,
     "metadata": {},
     "output_type": "execute_result"
    }
   ],
   "source": [
    "kids_loan_relation['relation'] = (kids_loan_relation[1] / kids_loan_relation['All']) * 100\n",
    "kids_loan_relation"
   ]
  },
  {
   "cell_type": "markdown",
   "metadata": {},
   "source": [
    "### Conclusion"
   ]
  },
  {
   "cell_type": "markdown",
   "metadata": {},
   "source": [
    "The relation between number of children and the repaying a loan is not direct from 0 - 4 children, with 5 children there is a unique result of having paid the loan but with 20 children (is legitimate in Israel) there is a spike in the number of people who didn't repay their loan."
   ]
  },
  {
   "cell_type": "markdown",
   "metadata": {},
   "source": [
    "- Is there a relation between marital status and repaying a loan on time?"
   ]
  },
  {
   "cell_type": "code",
   "execution_count": 14,
   "metadata": {},
   "outputs": [
    {
     "data": {
      "text/html": [
       "<div>\n",
       "<style scoped>\n",
       "    .dataframe tbody tr th:only-of-type {\n",
       "        vertical-align: middle;\n",
       "    }\n",
       "\n",
       "    .dataframe tbody tr th {\n",
       "        vertical-align: top;\n",
       "    }\n",
       "\n",
       "    .dataframe thead th {\n",
       "        text-align: right;\n",
       "    }\n",
       "</style>\n",
       "<table border=\"1\" class=\"dataframe\">\n",
       "  <thead>\n",
       "    <tr style=\"text-align: right;\">\n",
       "      <th>debt</th>\n",
       "      <th>family_status</th>\n",
       "      <th>0</th>\n",
       "      <th>1</th>\n",
       "      <th>All</th>\n",
       "    </tr>\n",
       "  </thead>\n",
       "  <tbody>\n",
       "    <tr>\n",
       "      <td>0</td>\n",
       "      <td>civil partnership</td>\n",
       "      <td>3396</td>\n",
       "      <td>339</td>\n",
       "      <td>3735</td>\n",
       "    </tr>\n",
       "    <tr>\n",
       "      <td>1</td>\n",
       "      <td>divorced</td>\n",
       "      <td>1007</td>\n",
       "      <td>76</td>\n",
       "      <td>1083</td>\n",
       "    </tr>\n",
       "    <tr>\n",
       "      <td>2</td>\n",
       "      <td>married</td>\n",
       "      <td>10297</td>\n",
       "      <td>846</td>\n",
       "      <td>11143</td>\n",
       "    </tr>\n",
       "    <tr>\n",
       "      <td>3</td>\n",
       "      <td>unmarried</td>\n",
       "      <td>2271</td>\n",
       "      <td>254</td>\n",
       "      <td>2525</td>\n",
       "    </tr>\n",
       "    <tr>\n",
       "      <td>4</td>\n",
       "      <td>widow / widower</td>\n",
       "      <td>809</td>\n",
       "      <td>56</td>\n",
       "      <td>865</td>\n",
       "    </tr>\n",
       "    <tr>\n",
       "      <td>5</td>\n",
       "      <td>All</td>\n",
       "      <td>17780</td>\n",
       "      <td>1571</td>\n",
       "      <td>19351</td>\n",
       "    </tr>\n",
       "  </tbody>\n",
       "</table>\n",
       "</div>"
      ],
      "text/plain": [
       "debt      family_status      0     1    All\n",
       "0     civil partnership   3396   339   3735\n",
       "1              divorced   1007    76   1083\n",
       "2               married  10297   846  11143\n",
       "3             unmarried   2271   254   2525\n",
       "4       widow / widower    809    56    865\n",
       "5                   All  17780  1571  19351"
      ]
     },
     "execution_count": 14,
     "metadata": {},
     "output_type": "execute_result"
    }
   ],
   "source": [
    "marital_loan_relation = pd.pivot_table(data, index = 'family_status', columns = 'debt', values = 'family_status_id', aggfunc = 'count', margins = True).reset_index()\n",
    "marital_loan_relation"
   ]
  },
  {
   "cell_type": "code",
   "execution_count": 15,
   "metadata": {},
   "outputs": [
    {
     "data": {
      "text/html": [
       "<div>\n",
       "<style scoped>\n",
       "    .dataframe tbody tr th:only-of-type {\n",
       "        vertical-align: middle;\n",
       "    }\n",
       "\n",
       "    .dataframe tbody tr th {\n",
       "        vertical-align: top;\n",
       "    }\n",
       "\n",
       "    .dataframe thead th {\n",
       "        text-align: right;\n",
       "    }\n",
       "</style>\n",
       "<table border=\"1\" class=\"dataframe\">\n",
       "  <thead>\n",
       "    <tr style=\"text-align: right;\">\n",
       "      <th>debt</th>\n",
       "      <th>family_status</th>\n",
       "      <th>0</th>\n",
       "      <th>1</th>\n",
       "      <th>All</th>\n",
       "      <th>relation</th>\n",
       "    </tr>\n",
       "  </thead>\n",
       "  <tbody>\n",
       "    <tr>\n",
       "      <td>0</td>\n",
       "      <td>civil partnership</td>\n",
       "      <td>3396</td>\n",
       "      <td>339</td>\n",
       "      <td>3735</td>\n",
       "      <td>9.076305</td>\n",
       "    </tr>\n",
       "    <tr>\n",
       "      <td>1</td>\n",
       "      <td>divorced</td>\n",
       "      <td>1007</td>\n",
       "      <td>76</td>\n",
       "      <td>1083</td>\n",
       "      <td>7.017544</td>\n",
       "    </tr>\n",
       "    <tr>\n",
       "      <td>2</td>\n",
       "      <td>married</td>\n",
       "      <td>10297</td>\n",
       "      <td>846</td>\n",
       "      <td>11143</td>\n",
       "      <td>7.592210</td>\n",
       "    </tr>\n",
       "    <tr>\n",
       "      <td>3</td>\n",
       "      <td>unmarried</td>\n",
       "      <td>2271</td>\n",
       "      <td>254</td>\n",
       "      <td>2525</td>\n",
       "      <td>10.059406</td>\n",
       "    </tr>\n",
       "    <tr>\n",
       "      <td>4</td>\n",
       "      <td>widow / widower</td>\n",
       "      <td>809</td>\n",
       "      <td>56</td>\n",
       "      <td>865</td>\n",
       "      <td>6.473988</td>\n",
       "    </tr>\n",
       "    <tr>\n",
       "      <td>5</td>\n",
       "      <td>All</td>\n",
       "      <td>17780</td>\n",
       "      <td>1571</td>\n",
       "      <td>19351</td>\n",
       "      <td>8.118443</td>\n",
       "    </tr>\n",
       "  </tbody>\n",
       "</table>\n",
       "</div>"
      ],
      "text/plain": [
       "debt      family_status      0     1    All   relation\n",
       "0     civil partnership   3396   339   3735   9.076305\n",
       "1              divorced   1007    76   1083   7.017544\n",
       "2               married  10297   846  11143   7.592210\n",
       "3             unmarried   2271   254   2525  10.059406\n",
       "4       widow / widower    809    56    865   6.473988\n",
       "5                   All  17780  1571  19351   8.118443"
      ]
     },
     "execution_count": 15,
     "metadata": {},
     "output_type": "execute_result"
    }
   ],
   "source": [
    "marital_loan_relation['relation'] = (marital_loan_relation[1] / marital_loan_relation['All']) * 100\n",
    "marital_loan_relation"
   ]
  },
  {
   "cell_type": "markdown",
   "metadata": {},
   "source": [
    "### Conclusion"
   ]
  },
  {
   "cell_type": "markdown",
   "metadata": {},
   "source": [
    "Widows are inclined to return the loan more than other marital status, unmarried people are the worst. civil partnership is quite close to unmarried people."
   ]
  },
  {
   "cell_type": "markdown",
   "metadata": {},
   "source": [
    "- Is there a relation between income level and repaying a loan on time?"
   ]
  },
  {
   "cell_type": "code",
   "execution_count": 16,
   "metadata": {},
   "outputs": [
    {
     "data": {
      "text/html": [
       "<div>\n",
       "<style scoped>\n",
       "    .dataframe tbody tr th:only-of-type {\n",
       "        vertical-align: middle;\n",
       "    }\n",
       "\n",
       "    .dataframe tbody tr th {\n",
       "        vertical-align: top;\n",
       "    }\n",
       "\n",
       "    .dataframe thead th {\n",
       "        text-align: right;\n",
       "    }\n",
       "</style>\n",
       "<table border=\"1\" class=\"dataframe\">\n",
       "  <thead>\n",
       "    <tr style=\"text-align: right;\">\n",
       "      <th>debt</th>\n",
       "      <th>clean_income</th>\n",
       "      <th>0</th>\n",
       "      <th>1</th>\n",
       "      <th>All</th>\n",
       "    </tr>\n",
       "  </thead>\n",
       "  <tbody>\n",
       "    <tr>\n",
       "      <td>0</td>\n",
       "      <td>average</td>\n",
       "      <td>4411</td>\n",
       "      <td>426</td>\n",
       "      <td>4837</td>\n",
       "    </tr>\n",
       "    <tr>\n",
       "      <td>1</td>\n",
       "      <td>low</td>\n",
       "      <td>4455</td>\n",
       "      <td>383</td>\n",
       "      <td>4838</td>\n",
       "    </tr>\n",
       "    <tr>\n",
       "      <td>2</td>\n",
       "      <td>sufficient</td>\n",
       "      <td>4417</td>\n",
       "      <td>421</td>\n",
       "      <td>4838</td>\n",
       "    </tr>\n",
       "    <tr>\n",
       "      <td>3</td>\n",
       "      <td>wealthy</td>\n",
       "      <td>4497</td>\n",
       "      <td>341</td>\n",
       "      <td>4838</td>\n",
       "    </tr>\n",
       "    <tr>\n",
       "      <td>4</td>\n",
       "      <td>All</td>\n",
       "      <td>17780</td>\n",
       "      <td>1571</td>\n",
       "      <td>19351</td>\n",
       "    </tr>\n",
       "  </tbody>\n",
       "</table>\n",
       "</div>"
      ],
      "text/plain": [
       "debt clean_income      0     1    All\n",
       "0         average   4411   426   4837\n",
       "1             low   4455   383   4838\n",
       "2      sufficient   4417   421   4838\n",
       "3         wealthy   4497   341   4838\n",
       "4             All  17780  1571  19351"
      ]
     },
     "execution_count": 16,
     "metadata": {},
     "output_type": "execute_result"
    }
   ],
   "source": [
    "income_loan_relation = pd.pivot_table(data, index = 'clean_income', columns = 'debt', values = 'family_status_id', aggfunc = 'count', margins = True).reset_index()\n",
    "income_loan_relation"
   ]
  },
  {
   "cell_type": "code",
   "execution_count": 17,
   "metadata": {},
   "outputs": [
    {
     "data": {
      "text/html": [
       "<div>\n",
       "<style scoped>\n",
       "    .dataframe tbody tr th:only-of-type {\n",
       "        vertical-align: middle;\n",
       "    }\n",
       "\n",
       "    .dataframe tbody tr th {\n",
       "        vertical-align: top;\n",
       "    }\n",
       "\n",
       "    .dataframe thead th {\n",
       "        text-align: right;\n",
       "    }\n",
       "</style>\n",
       "<table border=\"1\" class=\"dataframe\">\n",
       "  <thead>\n",
       "    <tr style=\"text-align: right;\">\n",
       "      <th>debt</th>\n",
       "      <th>clean_income</th>\n",
       "      <th>0</th>\n",
       "      <th>1</th>\n",
       "      <th>All</th>\n",
       "      <th>relation</th>\n",
       "    </tr>\n",
       "  </thead>\n",
       "  <tbody>\n",
       "    <tr>\n",
       "      <td>0</td>\n",
       "      <td>average</td>\n",
       "      <td>4411</td>\n",
       "      <td>426</td>\n",
       "      <td>4837</td>\n",
       "      <td>8.807112</td>\n",
       "    </tr>\n",
       "    <tr>\n",
       "      <td>1</td>\n",
       "      <td>low</td>\n",
       "      <td>4455</td>\n",
       "      <td>383</td>\n",
       "      <td>4838</td>\n",
       "      <td>7.916494</td>\n",
       "    </tr>\n",
       "    <tr>\n",
       "      <td>2</td>\n",
       "      <td>sufficient</td>\n",
       "      <td>4417</td>\n",
       "      <td>421</td>\n",
       "      <td>4838</td>\n",
       "      <td>8.701943</td>\n",
       "    </tr>\n",
       "    <tr>\n",
       "      <td>3</td>\n",
       "      <td>wealthy</td>\n",
       "      <td>4497</td>\n",
       "      <td>341</td>\n",
       "      <td>4838</td>\n",
       "      <td>7.048367</td>\n",
       "    </tr>\n",
       "    <tr>\n",
       "      <td>4</td>\n",
       "      <td>All</td>\n",
       "      <td>17780</td>\n",
       "      <td>1571</td>\n",
       "      <td>19351</td>\n",
       "      <td>8.118443</td>\n",
       "    </tr>\n",
       "  </tbody>\n",
       "</table>\n",
       "</div>"
      ],
      "text/plain": [
       "debt clean_income      0     1    All  relation\n",
       "0         average   4411   426   4837  8.807112\n",
       "1             low   4455   383   4838  7.916494\n",
       "2      sufficient   4417   421   4838  8.701943\n",
       "3         wealthy   4497   341   4838  7.048367\n",
       "4             All  17780  1571  19351  8.118443"
      ]
     },
     "execution_count": 17,
     "metadata": {},
     "output_type": "execute_result"
    }
   ],
   "source": [
    "income_loan_relation['relation'] = (income_loan_relation[1] / income_loan_relation['All']) * 100\n",
    "income_loan_relation"
   ]
  },
  {
   "cell_type": "markdown",
   "metadata": {},
   "source": [
    "### Conclusion"
   ]
  },
  {
   "cell_type": "markdown",
   "metadata": {},
   "source": [
    "There isn't a correlation between income level and the inclination to repay the loan. But the lowest and wealthiest are better at paying loans."
   ]
  },
  {
   "cell_type": "markdown",
   "metadata": {},
   "source": [
    "- How do different loan purposes affect on-time repayment of the loan?"
   ]
  },
  {
   "cell_type": "code",
   "execution_count": 18,
   "metadata": {},
   "outputs": [
    {
     "data": {
      "text/html": [
       "<div>\n",
       "<style scoped>\n",
       "    .dataframe tbody tr th:only-of-type {\n",
       "        vertical-align: middle;\n",
       "    }\n",
       "\n",
       "    .dataframe tbody tr th {\n",
       "        vertical-align: top;\n",
       "    }\n",
       "\n",
       "    .dataframe thead th {\n",
       "        text-align: right;\n",
       "    }\n",
       "</style>\n",
       "<table border=\"1\" class=\"dataframe\">\n",
       "  <thead>\n",
       "    <tr style=\"text-align: right;\">\n",
       "      <th>debt</th>\n",
       "      <th>clean_purpose</th>\n",
       "      <th>0</th>\n",
       "      <th>1</th>\n",
       "      <th>All</th>\n",
       "    </tr>\n",
       "  </thead>\n",
       "  <tbody>\n",
       "    <tr>\n",
       "      <td>0</td>\n",
       "      <td>cars</td>\n",
       "      <td>3530</td>\n",
       "      <td>367</td>\n",
       "      <td>3897</td>\n",
       "    </tr>\n",
       "    <tr>\n",
       "      <td>1</td>\n",
       "      <td>education</td>\n",
       "      <td>3266</td>\n",
       "      <td>331</td>\n",
       "      <td>3597</td>\n",
       "    </tr>\n",
       "    <tr>\n",
       "      <td>2</td>\n",
       "      <td>housing</td>\n",
       "      <td>9043</td>\n",
       "      <td>715</td>\n",
       "      <td>9758</td>\n",
       "    </tr>\n",
       "    <tr>\n",
       "      <td>3</td>\n",
       "      <td>weddings</td>\n",
       "      <td>1941</td>\n",
       "      <td>158</td>\n",
       "      <td>2099</td>\n",
       "    </tr>\n",
       "    <tr>\n",
       "      <td>4</td>\n",
       "      <td>All</td>\n",
       "      <td>17780</td>\n",
       "      <td>1571</td>\n",
       "      <td>19351</td>\n",
       "    </tr>\n",
       "  </tbody>\n",
       "</table>\n",
       "</div>"
      ],
      "text/plain": [
       "debt clean_purpose      0     1    All\n",
       "0             cars   3530   367   3897\n",
       "1        education   3266   331   3597\n",
       "2          housing   9043   715   9758\n",
       "3         weddings   1941   158   2099\n",
       "4              All  17780  1571  19351"
      ]
     },
     "execution_count": 18,
     "metadata": {},
     "output_type": "execute_result"
    }
   ],
   "source": [
    "purpose_loan_relation = pd.pivot_table(data, index = 'clean_purpose', columns = 'debt', values = 'family_status_id', aggfunc = 'count', margins = True).reset_index()\n",
    "purpose_loan_relation"
   ]
  },
  {
   "cell_type": "code",
   "execution_count": 19,
   "metadata": {},
   "outputs": [
    {
     "data": {
      "text/html": [
       "<div>\n",
       "<style scoped>\n",
       "    .dataframe tbody tr th:only-of-type {\n",
       "        vertical-align: middle;\n",
       "    }\n",
       "\n",
       "    .dataframe tbody tr th {\n",
       "        vertical-align: top;\n",
       "    }\n",
       "\n",
       "    .dataframe thead th {\n",
       "        text-align: right;\n",
       "    }\n",
       "</style>\n",
       "<table border=\"1\" class=\"dataframe\">\n",
       "  <thead>\n",
       "    <tr style=\"text-align: right;\">\n",
       "      <th>debt</th>\n",
       "      <th>clean_purpose</th>\n",
       "      <th>0</th>\n",
       "      <th>1</th>\n",
       "      <th>All</th>\n",
       "      <th>relation</th>\n",
       "    </tr>\n",
       "  </thead>\n",
       "  <tbody>\n",
       "    <tr>\n",
       "      <td>0</td>\n",
       "      <td>cars</td>\n",
       "      <td>3530</td>\n",
       "      <td>367</td>\n",
       "      <td>3897</td>\n",
       "      <td>9.417501</td>\n",
       "    </tr>\n",
       "    <tr>\n",
       "      <td>1</td>\n",
       "      <td>education</td>\n",
       "      <td>3266</td>\n",
       "      <td>331</td>\n",
       "      <td>3597</td>\n",
       "      <td>9.202113</td>\n",
       "    </tr>\n",
       "    <tr>\n",
       "      <td>2</td>\n",
       "      <td>housing</td>\n",
       "      <td>9043</td>\n",
       "      <td>715</td>\n",
       "      <td>9758</td>\n",
       "      <td>7.327321</td>\n",
       "    </tr>\n",
       "    <tr>\n",
       "      <td>3</td>\n",
       "      <td>weddings</td>\n",
       "      <td>1941</td>\n",
       "      <td>158</td>\n",
       "      <td>2099</td>\n",
       "      <td>7.527394</td>\n",
       "    </tr>\n",
       "    <tr>\n",
       "      <td>4</td>\n",
       "      <td>All</td>\n",
       "      <td>17780</td>\n",
       "      <td>1571</td>\n",
       "      <td>19351</td>\n",
       "      <td>8.118443</td>\n",
       "    </tr>\n",
       "  </tbody>\n",
       "</table>\n",
       "</div>"
      ],
      "text/plain": [
       "debt clean_purpose      0     1    All  relation\n",
       "0             cars   3530   367   3897  9.417501\n",
       "1        education   3266   331   3597  9.202113\n",
       "2          housing   9043   715   9758  7.327321\n",
       "3         weddings   1941   158   2099  7.527394\n",
       "4              All  17780  1571  19351  8.118443"
      ]
     },
     "execution_count": 19,
     "metadata": {},
     "output_type": "execute_result"
    }
   ],
   "source": [
    "purpose_loan_relation['relation'] = (purpose_loan_relation[1] / purpose_loan_relation['All']) * 100\n",
    "purpose_loan_relation"
   ]
  },
  {
   "cell_type": "markdown",
   "metadata": {},
   "source": [
    "### Conclusion"
   ]
  },
  {
   "cell_type": "markdown",
   "metadata": {},
   "source": [
    "Car buyers and education lovers are risky but housing and wedding personal are safe bet for loaners."
   ]
  },
  {
   "cell_type": "markdown",
   "metadata": {},
   "source": [
    "## General conclusion"
   ]
  },
  {
   "cell_type": "markdown",
   "metadata": {},
   "source": [
    "As it seems, there are many direct correlations between repaying a loan and peoples 'condition' in several ways. 0, 3 and 5 are the magic numbers as number of children to loan payments positive correlation, unmarried and civil partnership are the worst at replying loans, the wealthy and the poor pay loans better than the rest and loans concerning car and education are less likely to repay on time. Overall wealthy widow people with 5 children that take a loan for a house are perfect for business."
   ]
  }
 ],
 "metadata": {
  "ExecuteTimeLog": [
   {
    "duration": 708,
    "start_time": "2021-10-13T18:42:33.760Z"
   },
   {
    "duration": 38,
    "start_time": "2021-10-13T18:42:40.094Z"
   },
   {
    "duration": 47,
    "start_time": "2021-10-13T18:42:53.359Z"
   },
   {
    "duration": 351,
    "start_time": "2021-10-14T09:10:12.723Z"
   },
   {
    "duration": 541,
    "start_time": "2021-10-14T09:10:26.896Z"
   },
   {
    "duration": 250,
    "start_time": "2021-10-14T09:13:13.343Z"
   },
   {
    "duration": 267,
    "start_time": "2021-10-14T09:13:24.770Z"
   },
   {
    "duration": 260,
    "start_time": "2021-10-14T09:13:40.815Z"
   },
   {
    "duration": 260,
    "start_time": "2021-10-14T09:13:49.884Z"
   },
   {
    "duration": 241,
    "start_time": "2021-10-14T09:14:23.519Z"
   },
   {
    "duration": 254,
    "start_time": "2021-10-14T09:15:18.035Z"
   },
   {
    "duration": 249,
    "start_time": "2021-10-14T09:15:29.031Z"
   },
   {
    "duration": 244,
    "start_time": "2021-10-14T09:16:15.973Z"
   },
   {
    "duration": 614,
    "start_time": "2021-10-14T09:17:45.581Z"
   },
   {
    "duration": 12,
    "start_time": "2021-10-14T09:18:11.890Z"
   },
   {
    "duration": -388,
    "start_time": "2021-10-14T09:19:41.629Z"
   },
   {
    "duration": 6926,
    "start_time": "2021-10-14T09:19:48.988Z"
   },
   {
    "duration": 7484,
    "start_time": "2021-10-14T09:20:26.798Z"
   },
   {
    "duration": 6738,
    "start_time": "2021-10-14T09:20:57.735Z"
   },
   {
    "duration": 23,
    "start_time": "2021-10-14T09:23:35.461Z"
   },
   {
    "duration": 6029,
    "start_time": "2021-10-14T09:23:55.457Z"
   },
   {
    "duration": 7277,
    "start_time": "2021-10-14T09:24:08.993Z"
   },
   {
    "duration": 192,
    "start_time": "2021-10-14T09:24:41.549Z"
   },
   {
    "duration": 245,
    "start_time": "2021-10-14T09:24:48.947Z"
   },
   {
    "duration": 5,
    "start_time": "2021-10-14T09:25:20.104Z"
   },
   {
    "duration": 9,
    "start_time": "2021-10-14T09:25:42.629Z"
   },
   {
    "duration": 13,
    "start_time": "2021-10-14T09:26:06.832Z"
   },
   {
    "duration": 10,
    "start_time": "2021-10-14T09:26:38.615Z"
   },
   {
    "duration": 264,
    "start_time": "2021-10-14T09:31:00.043Z"
   },
   {
    "duration": 251,
    "start_time": "2021-10-14T09:31:07.927Z"
   },
   {
    "duration": 1417,
    "start_time": "2021-10-14T09:31:13.227Z"
   },
   {
    "duration": 501,
    "start_time": "2021-10-14T09:45:14.151Z"
   },
   {
    "duration": 271,
    "start_time": "2021-10-14T09:45:41.418Z"
   },
   {
    "duration": 381,
    "start_time": "2021-10-14T09:45:46.304Z"
   },
   {
    "duration": 12,
    "start_time": "2021-10-14T09:45:59.760Z"
   },
   {
    "duration": 18,
    "start_time": "2021-10-14T09:46:26.402Z"
   },
   {
    "duration": 20,
    "start_time": "2021-10-14T09:46:55.597Z"
   },
   {
    "duration": 7739,
    "start_time": "2021-10-14T09:47:05.530Z"
   },
   {
    "duration": 245,
    "start_time": "2021-10-14T09:47:29.135Z"
   },
   {
    "duration": 262,
    "start_time": "2021-10-14T09:48:01.002Z"
   },
   {
    "duration": 19,
    "start_time": "2021-10-14T09:48:06.752Z"
   },
   {
    "duration": 326,
    "start_time": "2021-10-14T09:56:34.328Z"
   },
   {
    "duration": 54,
    "start_time": "2021-10-14T09:56:38.604Z"
   },
   {
    "duration": 53,
    "start_time": "2021-10-14T10:01:13.991Z"
   },
   {
    "duration": 12,
    "start_time": "2021-10-14T10:01:40.724Z"
   },
   {
    "duration": 270,
    "start_time": "2021-10-14T10:02:50.503Z"
   },
   {
    "duration": 257,
    "start_time": "2021-10-14T10:02:53.842Z"
   },
   {
    "duration": 11,
    "start_time": "2021-10-14T10:03:09.881Z"
   },
   {
    "duration": 21,
    "start_time": "2021-10-14T10:03:20.345Z"
   },
   {
    "duration": 18,
    "start_time": "2021-10-14T10:04:31.159Z"
   },
   {
    "duration": 12,
    "start_time": "2021-10-14T10:04:40.056Z"
   },
   {
    "duration": 80,
    "start_time": "2021-10-14T10:07:50.618Z"
   },
   {
    "duration": 95,
    "start_time": "2021-10-14T10:07:55.065Z"
   },
   {
    "duration": 9,
    "start_time": "2021-10-14T10:08:01.042Z"
   },
   {
    "duration": 83,
    "start_time": "2021-10-14T10:08:20.545Z"
   },
   {
    "duration": 11,
    "start_time": "2021-10-14T10:08:37.482Z"
   },
   {
    "duration": 12,
    "start_time": "2021-10-14T10:09:28.240Z"
   },
   {
    "duration": 7,
    "start_time": "2021-10-14T10:09:41.177Z"
   },
   {
    "duration": 10,
    "start_time": "2021-10-14T10:12:27.137Z"
   },
   {
    "duration": 81,
    "start_time": "2021-10-14T10:15:20.748Z"
   },
   {
    "duration": 9,
    "start_time": "2021-10-14T10:15:36.426Z"
   },
   {
    "duration": 9,
    "start_time": "2021-10-14T10:16:28.812Z"
   },
   {
    "duration": 76,
    "start_time": "2021-10-14T10:16:43.942Z"
   },
   {
    "duration": 11,
    "start_time": "2021-10-14T10:16:51.719Z"
   },
   {
    "duration": 10,
    "start_time": "2021-10-14T10:16:59.928Z"
   },
   {
    "duration": 327,
    "start_time": "2021-10-14T10:18:15.802Z"
   },
   {
    "duration": 301,
    "start_time": "2021-10-14T10:18:41.711Z"
   },
   {
    "duration": 240,
    "start_time": "2021-10-14T10:18:52.090Z"
   },
   {
    "duration": 9,
    "start_time": "2021-10-14T10:19:17.813Z"
   },
   {
    "duration": 10,
    "start_time": "2021-10-14T10:20:01.169Z"
   },
   {
    "duration": 11,
    "start_time": "2021-10-14T10:20:26.847Z"
   },
   {
    "duration": 234,
    "start_time": "2021-10-14T10:20:39.646Z"
   },
   {
    "duration": 6,
    "start_time": "2021-10-14T10:20:54.544Z"
   },
   {
    "duration": 7,
    "start_time": "2021-10-14T10:21:31.234Z"
   },
   {
    "duration": 7,
    "start_time": "2021-10-14T10:22:35.733Z"
   },
   {
    "duration": 8,
    "start_time": "2021-10-14T10:23:27.310Z"
   },
   {
    "duration": 8,
    "start_time": "2021-10-14T10:23:35.556Z"
   },
   {
    "duration": 7,
    "start_time": "2021-10-14T10:24:06.124Z"
   },
   {
    "duration": 7,
    "start_time": "2021-10-14T10:25:09.967Z"
   },
   {
    "duration": 7,
    "start_time": "2021-10-14T10:25:22.157Z"
   },
   {
    "duration": 7,
    "start_time": "2021-10-14T10:25:39.142Z"
   },
   {
    "duration": 7,
    "start_time": "2021-10-14T10:25:55.043Z"
   },
   {
    "duration": 18,
    "start_time": "2021-10-14T10:45:25.419Z"
   },
   {
    "duration": 17,
    "start_time": "2021-10-14T10:46:13.023Z"
   },
   {
    "duration": 263,
    "start_time": "2021-10-14T10:48:17.322Z"
   },
   {
    "duration": 18,
    "start_time": "2021-10-14T10:48:26.637Z"
   },
   {
    "duration": 242,
    "start_time": "2021-10-14T10:49:58.357Z"
   },
   {
    "duration": 104,
    "start_time": "2021-10-14T10:50:02.424Z"
   },
   {
    "duration": 81,
    "start_time": "2021-10-14T10:50:10.378Z"
   },
   {
    "duration": 255,
    "start_time": "2021-10-14T10:50:15.538Z"
   },
   {
    "duration": 11,
    "start_time": "2021-10-14T10:50:44.786Z"
   },
   {
    "duration": 18,
    "start_time": "2021-10-14T10:52:51.293Z"
   },
   {
    "duration": 255,
    "start_time": "2021-10-14T10:54:13.123Z"
   },
   {
    "duration": 7,
    "start_time": "2021-10-14T10:54:31.086Z"
   },
   {
    "duration": 7,
    "start_time": "2021-10-14T11:02:48.518Z"
   },
   {
    "duration": 7,
    "start_time": "2021-10-14T11:03:27.111Z"
   },
   {
    "duration": 7,
    "start_time": "2021-10-14T11:03:41.596Z"
   },
   {
    "duration": 6,
    "start_time": "2021-10-14T11:03:57.460Z"
   },
   {
    "duration": 5,
    "start_time": "2021-10-14T11:08:27.718Z"
   },
   {
    "duration": 8,
    "start_time": "2021-10-14T11:10:41.338Z"
   },
   {
    "duration": 5,
    "start_time": "2021-10-14T11:10:57.078Z"
   },
   {
    "duration": 13,
    "start_time": "2021-10-14T11:11:25.603Z"
   },
   {
    "duration": 6,
    "start_time": "2021-10-14T11:11:30.402Z"
   },
   {
    "duration": 18,
    "start_time": "2021-10-14T11:11:49.371Z"
   },
   {
    "duration": 12,
    "start_time": "2021-10-14T11:11:57.500Z"
   },
   {
    "duration": 6,
    "start_time": "2021-10-14T11:12:44.189Z"
   },
   {
    "duration": 4,
    "start_time": "2021-10-14T11:17:10.728Z"
   },
   {
    "duration": 6,
    "start_time": "2021-10-14T11:17:24.071Z"
   },
   {
    "duration": 4,
    "start_time": "2021-10-14T11:17:38.388Z"
   },
   {
    "duration": 5,
    "start_time": "2021-10-14T11:17:58.528Z"
   },
   {
    "duration": 4,
    "start_time": "2021-10-14T11:18:22.483Z"
   },
   {
    "duration": 4,
    "start_time": "2021-10-14T11:18:25.037Z"
   },
   {
    "duration": 3,
    "start_time": "2021-10-14T11:18:36.712Z"
   },
   {
    "duration": 4,
    "start_time": "2021-10-14T11:18:39.146Z"
   },
   {
    "duration": 5,
    "start_time": "2021-10-14T11:18:54.840Z"
   },
   {
    "duration": 6,
    "start_time": "2021-10-14T11:19:56.065Z"
   },
   {
    "duration": 5,
    "start_time": "2021-10-14T11:20:43.311Z"
   },
   {
    "duration": 290,
    "start_time": "2021-10-14T11:21:06.098Z"
   },
   {
    "duration": 65,
    "start_time": "2021-10-14T11:21:13.095Z"
   },
   {
    "duration": 5,
    "start_time": "2021-10-14T11:21:18.864Z"
   },
   {
    "duration": 6,
    "start_time": "2021-10-14T11:21:37.564Z"
   },
   {
    "duration": 5,
    "start_time": "2021-10-14T11:21:46.227Z"
   },
   {
    "duration": 6,
    "start_time": "2021-10-14T11:24:49.249Z"
   },
   {
    "duration": 4,
    "start_time": "2021-10-14T11:24:55.167Z"
   },
   {
    "duration": 266,
    "start_time": "2021-10-14T11:32:13.280Z"
   },
   {
    "duration": 665,
    "start_time": "2021-10-14T11:33:03.226Z"
   },
   {
    "duration": 282,
    "start_time": "2021-10-14T11:33:33.456Z"
   },
   {
    "duration": 416,
    "start_time": "2021-10-14T11:34:27.836Z"
   },
   {
    "duration": 443,
    "start_time": "2021-10-14T11:35:01.352Z"
   },
   {
    "duration": 259,
    "start_time": "2021-10-14T11:36:21.632Z"
   },
   {
    "duration": 269,
    "start_time": "2021-10-14T11:38:46.086Z"
   },
   {
    "duration": 265,
    "start_time": "2021-10-14T11:39:31.143Z"
   },
   {
    "duration": 255,
    "start_time": "2021-10-14T11:42:46.041Z"
   },
   {
    "duration": 249,
    "start_time": "2021-10-14T11:43:13.668Z"
   },
   {
    "duration": 339,
    "start_time": "2021-10-14T11:45:40.058Z"
   },
   {
    "duration": 6685,
    "start_time": "2021-10-14T11:49:33.497Z"
   },
   {
    "duration": -253,
    "start_time": "2021-10-14T11:49:50.000Z"
   },
   {
    "duration": 6726,
    "start_time": "2021-10-14T11:49:58.429Z"
   },
   {
    "duration": -259,
    "start_time": "2021-10-14T11:50:13.855Z"
   },
   {
    "duration": 1697,
    "start_time": "2021-10-14T11:50:17.885Z"
   },
   {
    "duration": 2993,
    "start_time": "2021-10-14T11:50:20.160Z"
   },
   {
    "duration": 80,
    "start_time": "2021-10-14T11:50:48.136Z"
   },
   {
    "duration": 1979,
    "start_time": "2021-10-14T11:50:57.379Z"
   },
   {
    "duration": 6328,
    "start_time": "2021-10-14T11:51:03.424Z"
   },
   {
    "duration": 12,
    "start_time": "2021-10-14T11:51:16.436Z"
   },
   {
    "duration": 260,
    "start_time": "2021-10-14T11:52:47.189Z"
   },
   {
    "duration": 238,
    "start_time": "2021-10-14T11:53:36.381Z"
   },
   {
    "duration": 257,
    "start_time": "2021-10-14T11:53:47.758Z"
   },
   {
    "duration": 264,
    "start_time": "2021-10-14T11:53:51.253Z"
   },
   {
    "duration": 283,
    "start_time": "2021-10-14T11:53:56.036Z"
   },
   {
    "duration": 629,
    "start_time": "2021-10-14T11:54:13.860Z"
   },
   {
    "duration": 6548,
    "start_time": "2021-10-14T11:54:22.546Z"
   },
   {
    "duration": 5993,
    "start_time": "2021-10-14T11:54:48.182Z"
   },
   {
    "duration": 6922,
    "start_time": "2021-10-14T11:55:04.612Z"
   },
   {
    "duration": 99,
    "start_time": "2021-10-14T11:57:43.211Z"
   },
   {
    "duration": 78,
    "start_time": "2021-10-14T11:57:59.639Z"
   },
   {
    "duration": 81,
    "start_time": "2021-10-14T11:58:07.676Z"
   },
   {
    "duration": 83,
    "start_time": "2021-10-14T11:58:13.697Z"
   },
   {
    "duration": 84,
    "start_time": "2021-10-14T11:58:25.537Z"
   },
   {
    "duration": 294,
    "start_time": "2021-10-14T11:58:51.497Z"
   },
   {
    "duration": 243,
    "start_time": "2021-10-14T11:58:59.128Z"
   },
   {
    "duration": 605,
    "start_time": "2021-10-14T11:59:07.176Z"
   },
   {
    "duration": 22,
    "start_time": "2021-10-14T11:59:10.063Z"
   },
   {
    "duration": 17,
    "start_time": "2021-10-14T11:59:30.770Z"
   },
   {
    "duration": 6,
    "start_time": "2021-10-14T12:01:39.636Z"
   },
   {
    "duration": 4,
    "start_time": "2021-10-14T12:01:50.950Z"
   },
   {
    "duration": 6,
    "start_time": "2021-10-14T12:01:58.611Z"
   },
   {
    "duration": 5,
    "start_time": "2021-10-14T12:02:06.053Z"
   },
   {
    "duration": 4,
    "start_time": "2021-10-14T12:02:28.344Z"
   },
   {
    "duration": 6,
    "start_time": "2021-10-14T12:03:03.646Z"
   },
   {
    "duration": 5,
    "start_time": "2021-10-14T12:03:13.377Z"
   },
   {
    "duration": 292,
    "start_time": "2021-10-14T12:04:47.303Z"
   },
   {
    "duration": 7,
    "start_time": "2021-10-14T12:04:54.024Z"
   },
   {
    "duration": 7,
    "start_time": "2021-10-14T12:05:08.784Z"
   },
   {
    "duration": 7,
    "start_time": "2021-10-14T12:05:18.035Z"
   },
   {
    "duration": 9,
    "start_time": "2021-10-14T12:05:34.880Z"
   },
   {
    "duration": 9,
    "start_time": "2021-10-14T12:05:50.216Z"
   },
   {
    "duration": 8,
    "start_time": "2021-10-14T12:06:18.133Z"
   },
   {
    "duration": 9,
    "start_time": "2021-10-14T12:06:31.009Z"
   },
   {
    "duration": 4,
    "start_time": "2021-10-14T12:34:37.381Z"
   },
   {
    "duration": 20,
    "start_time": "2021-10-14T12:46:50.025Z"
   },
   {
    "duration": 20,
    "start_time": "2021-10-14T12:46:52.736Z"
   },
   {
    "duration": 30,
    "start_time": "2021-10-14T12:47:01.107Z"
   },
   {
    "duration": 6,
    "start_time": "2021-10-14T12:47:14.088Z"
   },
   {
    "duration": 14,
    "start_time": "2021-10-14T12:47:18.009Z"
   },
   {
    "duration": 265,
    "start_time": "2021-10-14T12:47:41.821Z"
   },
   {
    "duration": 254,
    "start_time": "2021-10-14T12:47:53.349Z"
   },
   {
    "duration": 257,
    "start_time": "2021-10-14T12:47:56.953Z"
   },
   {
    "duration": 264,
    "start_time": "2021-10-14T12:48:06.308Z"
   },
   {
    "duration": 15,
    "start_time": "2021-10-14T12:48:15.067Z"
   },
   {
    "duration": 258,
    "start_time": "2021-10-14T12:48:44.052Z"
   },
   {
    "duration": 4,
    "start_time": "2021-10-14T12:48:54.480Z"
   },
   {
    "duration": 11,
    "start_time": "2021-10-14T12:49:01.259Z"
   },
   {
    "duration": 4,
    "start_time": "2021-10-14T12:49:49.433Z"
   },
   {
    "duration": 4,
    "start_time": "2021-10-14T12:49:51.117Z"
   },
   {
    "duration": 246,
    "start_time": "2021-10-14T12:51:43.351Z"
   },
   {
    "duration": 251,
    "start_time": "2021-10-14T12:51:57.700Z"
   },
   {
    "duration": 245,
    "start_time": "2021-10-14T12:52:24.471Z"
   },
   {
    "duration": 254,
    "start_time": "2021-10-14T12:52:30.435Z"
   },
   {
    "duration": 49,
    "start_time": "2021-10-14T12:52:35.860Z"
   },
   {
    "duration": 234,
    "start_time": "2021-10-14T12:52:38.207Z"
   },
   {
    "duration": 29,
    "start_time": "2021-10-14T12:52:43.568Z"
   },
   {
    "duration": 22,
    "start_time": "2021-10-14T12:52:55.682Z"
   },
   {
    "duration": 335,
    "start_time": "2021-10-14T12:53:05.338Z"
   },
   {
    "duration": 9,
    "start_time": "2021-10-14T12:53:28.229Z"
   },
   {
    "duration": 12,
    "start_time": "2021-10-14T12:53:30.451Z"
   },
   {
    "duration": 52,
    "start_time": "2021-10-14T12:54:02.255Z"
   },
   {
    "duration": 6,
    "start_time": "2021-10-14T12:54:04.720Z"
   },
   {
    "duration": 11,
    "start_time": "2021-10-14T12:54:07.150Z"
   },
   {
    "duration": 4,
    "start_time": "2021-10-14T12:54:12.323Z"
   },
   {
    "duration": 10,
    "start_time": "2021-10-14T12:55:44.580Z"
   },
   {
    "duration": 646,
    "start_time": "2021-10-14T13:23:37.252Z"
   },
   {
    "duration": 6,
    "start_time": "2021-10-14T13:24:34.513Z"
   },
   {
    "duration": -325,
    "start_time": "2021-10-14T13:25:06.076Z"
   },
   {
    "duration": 8796,
    "start_time": "2021-10-14T13:25:09.873Z"
   },
   {
    "duration": 547,
    "start_time": "2021-10-14T13:34:33.269Z"
   },
   {
    "duration": 544,
    "start_time": "2021-10-14T13:34:48.420Z"
   },
   {
    "duration": 81,
    "start_time": "2021-10-14T13:35:45.420Z"
   },
   {
    "duration": 1126,
    "start_time": "2021-10-14T13:35:53.440Z"
   },
   {
    "duration": 1183,
    "start_time": "2021-10-14T13:35:59.181Z"
   },
   {
    "duration": 9,
    "start_time": "2021-10-14T13:38:35.645Z"
   },
   {
    "duration": 4,
    "start_time": "2021-10-14T13:44:33.404Z"
   },
   {
    "duration": 957,
    "start_time": "2021-10-14T13:57:59.903Z"
   },
   {
    "duration": 5,
    "start_time": "2021-10-14T13:58:11.775Z"
   },
   {
    "duration": 89,
    "start_time": "2021-10-14T13:58:39.985Z"
   },
   {
    "duration": 274,
    "start_time": "2021-10-14T14:02:47.863Z"
   },
   {
    "duration": 453,
    "start_time": "2021-10-14T14:02:56.373Z"
   },
   {
    "duration": 5,
    "start_time": "2021-10-14T14:20:44.655Z"
   },
   {
    "duration": 80,
    "start_time": "2021-10-14T15:40:35.035Z"
   },
   {
    "duration": 50,
    "start_time": "2021-10-14T15:41:51.693Z"
   },
   {
    "duration": 6,
    "start_time": "2021-10-14T15:41:55.027Z"
   },
   {
    "duration": 12,
    "start_time": "2021-10-14T15:41:56.664Z"
   },
   {
    "duration": 4,
    "start_time": "2021-10-14T15:41:59.258Z"
   },
   {
    "duration": 4,
    "start_time": "2021-10-14T15:43:37.624Z"
   },
   {
    "duration": 4,
    "start_time": "2021-10-14T15:43:40.006Z"
   },
   {
    "duration": 285,
    "start_time": "2021-10-14T15:43:43.479Z"
   },
   {
    "duration": 3,
    "start_time": "2021-10-14T15:43:47.503Z"
   },
   {
    "duration": 416,
    "start_time": "2021-10-14T15:43:54.160Z"
   },
   {
    "duration": 632,
    "start_time": "2021-10-14T15:49:36.583Z"
   },
   {
    "duration": 3,
    "start_time": "2021-10-14T15:51:48.723Z"
   },
   {
    "duration": 417,
    "start_time": "2021-10-14T15:53:02.727Z"
   },
   {
    "duration": 447,
    "start_time": "2021-10-14T15:54:01.653Z"
   },
   {
    "duration": 3,
    "start_time": "2021-10-14T15:54:03.507Z"
   },
   {
    "duration": 469,
    "start_time": "2021-10-14T15:54:04.931Z"
   },
   {
    "duration": 54,
    "start_time": "2021-10-14T15:56:00.095Z"
   },
   {
    "duration": 6,
    "start_time": "2021-10-14T15:56:02.556Z"
   },
   {
    "duration": 11,
    "start_time": "2021-10-14T15:56:04.222Z"
   },
   {
    "duration": 4,
    "start_time": "2021-10-14T15:56:06.180Z"
   },
   {
    "duration": 701,
    "start_time": "2021-10-14T16:26:18.628Z"
   },
   {
    "duration": 278,
    "start_time": "2021-10-14T16:26:24.261Z"
   },
   {
    "duration": -354,
    "start_time": "2021-10-14T16:35:27.460Z"
   },
   {
    "duration": 52,
    "start_time": "2021-10-14T16:35:50.217Z"
   },
   {
    "duration": 5,
    "start_time": "2021-10-14T16:35:53.383Z"
   },
   {
    "duration": 11,
    "start_time": "2021-10-14T16:35:55.207Z"
   },
   {
    "duration": 4,
    "start_time": "2021-10-14T16:35:57.396Z"
   },
   {
    "duration": 4,
    "start_time": "2021-10-14T16:35:59.858Z"
   },
   {
    "duration": 4,
    "start_time": "2021-10-14T16:36:01.746Z"
   },
   {
    "duration": 316,
    "start_time": "2021-10-14T16:36:05.358Z"
   },
   {
    "duration": 3,
    "start_time": "2021-10-14T16:36:12.574Z"
   },
   {
    "duration": 407,
    "start_time": "2021-10-14T16:36:14.715Z"
   },
   {
    "duration": 3,
    "start_time": "2021-10-14T16:36:55.371Z"
   },
   {
    "duration": 53,
    "start_time": "2021-10-14T16:37:01.385Z"
   },
   {
    "duration": 6,
    "start_time": "2021-10-14T16:37:03.738Z"
   },
   {
    "duration": 13,
    "start_time": "2021-10-14T16:37:05.185Z"
   },
   {
    "duration": 4,
    "start_time": "2021-10-14T16:37:06.960Z"
   },
   {
    "duration": 3,
    "start_time": "2021-10-14T16:37:09.744Z"
   },
   {
    "duration": 3,
    "start_time": "2021-10-14T16:37:11.354Z"
   },
   {
    "duration": 3,
    "start_time": "2021-10-14T16:37:12.743Z"
   },
   {
    "duration": 4,
    "start_time": "2021-10-14T16:37:14.704Z"
   },
   {
    "duration": 5,
    "start_time": "2021-10-14T16:37:41.055Z"
   },
   {
    "duration": 1999,
    "start_time": "2021-10-14T16:37:45.361Z"
   },
   {
    "duration": 10,
    "start_time": "2021-10-14T16:37:48.969Z"
   },
   {
    "duration": 56,
    "start_time": "2021-10-14T16:38:09.109Z"
   },
   {
    "duration": 6,
    "start_time": "2021-10-14T16:38:12.144Z"
   },
   {
    "duration": 9,
    "start_time": "2021-10-14T16:38:13.349Z"
   },
   {
    "duration": 4,
    "start_time": "2021-10-14T16:38:16.203Z"
   },
   {
    "duration": 4,
    "start_time": "2021-10-14T16:38:19.007Z"
   },
   {
    "duration": 4,
    "start_time": "2021-10-14T16:38:20.747Z"
   },
   {
    "duration": 28,
    "start_time": "2021-10-14T16:38:21.801Z"
   },
   {
    "duration": 4,
    "start_time": "2021-10-14T16:38:23.087Z"
   },
   {
    "duration": 2061,
    "start_time": "2021-10-14T16:38:29.817Z"
   },
   {
    "duration": 9,
    "start_time": "2021-10-14T16:38:33.315Z"
   },
   {
    "duration": 8,
    "start_time": "2021-10-14T16:41:23.012Z"
   },
   {
    "duration": 21,
    "start_time": "2021-10-14T16:43:03.248Z"
   },
   {
    "duration": 4,
    "start_time": "2021-10-14T16:45:51.480Z"
   },
   {
    "duration": 1485,
    "start_time": "2021-10-14T16:45:53.841Z"
   },
   {
    "duration": 8,
    "start_time": "2021-10-14T16:45:55.504Z"
   },
   {
    "duration": 4,
    "start_time": "2021-10-14T16:47:45.394Z"
   },
   {
    "duration": 1435,
    "start_time": "2021-10-14T16:47:47.888Z"
   },
   {
    "duration": 7,
    "start_time": "2021-10-14T16:47:49.741Z"
   },
   {
    "duration": 5,
    "start_time": "2021-10-14T16:48:31.566Z"
   },
   {
    "duration": 1397,
    "start_time": "2021-10-14T16:48:34.136Z"
   },
   {
    "duration": 9,
    "start_time": "2021-10-14T16:48:36.678Z"
   },
   {
    "duration": 9,
    "start_time": "2021-10-14T16:55:42.611Z"
   },
   {
    "duration": 6042,
    "start_time": "2021-10-14T16:57:35.440Z"
   },
   {
    "duration": -366,
    "start_time": "2021-10-14T16:57:41.850Z"
   },
   {
    "duration": 13,
    "start_time": "2021-10-14T16:57:41.561Z"
   },
   {
    "duration": 8,
    "start_time": "2021-10-14T16:57:43.145Z"
   },
   {
    "duration": 4,
    "start_time": "2021-10-14T16:58:23.805Z"
   },
   {
    "duration": 8,
    "start_time": "2021-10-14T16:58:25.048Z"
   },
   {
    "duration": 8,
    "start_time": "2021-10-14T16:58:25.490Z"
   },
   {
    "duration": 4,
    "start_time": "2021-10-14T16:58:43.444Z"
   },
   {
    "duration": 4,
    "start_time": "2021-10-14T16:58:45.538Z"
   },
   {
    "duration": 28,
    "start_time": "2021-10-14T16:58:47.603Z"
   },
   {
    "duration": 3,
    "start_time": "2021-10-14T16:58:50.090Z"
   },
   {
    "duration": 4,
    "start_time": "2021-10-14T16:58:51.674Z"
   },
   {
    "duration": 2044,
    "start_time": "2021-10-14T16:58:53.630Z"
   },
   {
    "duration": 9,
    "start_time": "2021-10-14T16:58:55.676Z"
   },
   {
    "duration": 3,
    "start_time": "2021-10-14T16:59:13.818Z"
   },
   {
    "duration": 9,
    "start_time": "2021-10-14T16:59:14.351Z"
   },
   {
    "duration": 4,
    "start_time": "2021-10-14T16:59:14.949Z"
   },
   {
    "duration": 29,
    "start_time": "2021-10-14T16:59:15.464Z"
   },
   {
    "duration": 4,
    "start_time": "2021-10-14T16:59:16.016Z"
   },
   {
    "duration": 2151,
    "start_time": "2021-10-14T16:59:16.862Z"
   },
   {
    "duration": 9,
    "start_time": "2021-10-14T16:59:19.015Z"
   },
   {
    "duration": 4,
    "start_time": "2021-10-14T17:01:36.315Z"
   },
   {
    "duration": 1429,
    "start_time": "2021-10-14T17:01:36.946Z"
   },
   {
    "duration": 8,
    "start_time": "2021-10-14T17:01:38.377Z"
   },
   {
    "duration": 12,
    "start_time": "2021-10-14T17:01:39.500Z"
   },
   {
    "duration": 11,
    "start_time": "2021-10-14T17:01:50.633Z"
   },
   {
    "duration": 11,
    "start_time": "2021-10-14T17:01:52.361Z"
   },
   {
    "duration": 53,
    "start_time": "2021-10-14T17:02:09.067Z"
   },
   {
    "duration": 6,
    "start_time": "2021-10-14T17:02:12.224Z"
   },
   {
    "duration": 11,
    "start_time": "2021-10-14T17:02:14.202Z"
   },
   {
    "duration": 4,
    "start_time": "2021-10-14T17:02:15.944Z"
   },
   {
    "duration": 3,
    "start_time": "2021-10-14T17:02:18.875Z"
   },
   {
    "duration": 9,
    "start_time": "2021-10-14T17:02:20.428Z"
   },
   {
    "duration": 5,
    "start_time": "2021-10-14T17:02:22.167Z"
   },
   {
    "duration": 29,
    "start_time": "2021-10-14T17:02:23.713Z"
   },
   {
    "duration": 4,
    "start_time": "2021-10-14T17:02:25.384Z"
   },
   {
    "duration": 2138,
    "start_time": "2021-10-14T17:02:27.137Z"
   },
   {
    "duration": 8,
    "start_time": "2021-10-14T17:02:29.278Z"
   },
   {
    "duration": 20,
    "start_time": "2021-10-14T17:02:29.288Z"
   },
   {
    "duration": 5,
    "start_time": "2021-10-14T17:12:05.591Z"
   },
   {
    "duration": 1396,
    "start_time": "2021-10-14T17:12:06.122Z"
   },
   {
    "duration": 7,
    "start_time": "2021-10-14T17:12:07.521Z"
   },
   {
    "duration": 5,
    "start_time": "2021-10-14T17:13:55.444Z"
   },
   {
    "duration": 29,
    "start_time": "2021-10-14T17:13:56.199Z"
   },
   {
    "duration": 5,
    "start_time": "2021-10-14T17:13:56.837Z"
   },
   {
    "duration": 2177,
    "start_time": "2021-10-14T17:13:57.498Z"
   },
   {
    "duration": 9,
    "start_time": "2021-10-14T17:13:59.678Z"
   },
   {
    "duration": 11,
    "start_time": "2021-10-14T17:13:59.689Z"
   },
   {
    "duration": 10,
    "start_time": "2021-10-14T17:14:07.238Z"
   },
   {
    "duration": 20,
    "start_time": "2021-10-14T17:14:18.118Z"
   },
   {
    "duration": 15,
    "start_time": "2021-10-14T17:14:39.078Z"
   },
   {
    "duration": 20,
    "start_time": "2021-10-14T17:15:55.873Z"
   },
   {
    "duration": 4,
    "start_time": "2021-10-14T17:16:27.449Z"
   },
   {
    "duration": 1409,
    "start_time": "2021-10-14T17:16:28.091Z"
   },
   {
    "duration": 9,
    "start_time": "2021-10-14T17:16:29.502Z"
   },
   {
    "duration": 20,
    "start_time": "2021-10-14T17:16:30.339Z"
   },
   {
    "duration": 4,
    "start_time": "2021-10-14T17:18:26.214Z"
   },
   {
    "duration": 1319,
    "start_time": "2021-10-14T17:18:27.389Z"
   },
   {
    "duration": 7,
    "start_time": "2021-10-14T17:18:28.710Z"
   },
   {
    "duration": 18,
    "start_time": "2021-10-14T17:18:32.976Z"
   },
   {
    "duration": 56,
    "start_time": "2021-10-14T17:18:39.823Z"
   },
   {
    "duration": 6,
    "start_time": "2021-10-14T17:18:41.999Z"
   },
   {
    "duration": 11,
    "start_time": "2021-10-14T17:18:42.405Z"
   },
   {
    "duration": 4,
    "start_time": "2021-10-14T17:18:43.797Z"
   },
   {
    "duration": 4,
    "start_time": "2021-10-14T17:18:45.349Z"
   },
   {
    "duration": 9,
    "start_time": "2021-10-14T17:18:45.535Z"
   },
   {
    "duration": 3,
    "start_time": "2021-10-14T17:18:46.284Z"
   },
   {
    "duration": 29,
    "start_time": "2021-10-14T17:18:47.206Z"
   },
   {
    "duration": 4,
    "start_time": "2021-10-14T17:18:47.908Z"
   },
   {
    "duration": 2027,
    "start_time": "2021-10-14T17:18:49.306Z"
   },
   {
    "duration": 21,
    "start_time": "2021-10-14T17:18:51.335Z"
   },
   {
    "duration": 4,
    "start_time": "2021-10-14T17:20:48.905Z"
   },
   {
    "duration": 1444,
    "start_time": "2021-10-14T17:20:50.205Z"
   },
   {
    "duration": 7,
    "start_time": "2021-10-14T17:20:51.651Z"
   },
   {
    "duration": 52,
    "start_time": "2021-10-14T17:23:54.596Z"
   },
   {
    "duration": 5,
    "start_time": "2021-10-14T17:23:57.565Z"
   },
   {
    "duration": 11,
    "start_time": "2021-10-14T17:23:58.050Z"
   },
   {
    "duration": 4,
    "start_time": "2021-10-14T17:23:59.967Z"
   },
   {
    "duration": 4,
    "start_time": "2021-10-14T17:24:03.868Z"
   },
   {
    "duration": 9,
    "start_time": "2021-10-14T17:24:04.729Z"
   },
   {
    "duration": 5,
    "start_time": "2021-10-14T17:24:07.114Z"
   },
   {
    "duration": 31,
    "start_time": "2021-10-14T17:24:07.976Z"
   },
   {
    "duration": 4,
    "start_time": "2021-10-14T17:24:08.890Z"
   },
   {
    "duration": 1985,
    "start_time": "2021-10-14T17:24:10.250Z"
   },
   {
    "duration": 9,
    "start_time": "2021-10-14T17:24:12.250Z"
   },
   {
    "duration": 20,
    "start_time": "2021-10-14T17:24:17.950Z"
   },
   {
    "duration": 4,
    "start_time": "2021-10-14T17:25:09.667Z"
   },
   {
    "duration": 29,
    "start_time": "2021-10-14T17:25:10.027Z"
   },
   {
    "duration": 4,
    "start_time": "2021-10-14T17:25:10.445Z"
   },
   {
    "duration": 2095,
    "start_time": "2021-10-14T17:25:10.902Z"
   },
   {
    "duration": 8,
    "start_time": "2021-10-14T17:25:13.000Z"
   },
   {
    "duration": 39,
    "start_time": "2021-10-14T17:25:13.011Z"
   },
   {
    "duration": 4,
    "start_time": "2021-10-14T17:25:55.327Z"
   },
   {
    "duration": 29,
    "start_time": "2021-10-14T17:25:55.738Z"
   },
   {
    "duration": 4,
    "start_time": "2021-10-14T17:25:56.139Z"
   },
   {
    "duration": 2076,
    "start_time": "2021-10-14T17:25:56.527Z"
   },
   {
    "duration": 9,
    "start_time": "2021-10-14T17:25:58.605Z"
   },
   {
    "duration": 40,
    "start_time": "2021-10-14T17:25:58.616Z"
   },
   {
    "duration": 5,
    "start_time": "2021-10-14T17:26:11.318Z"
   },
   {
    "duration": 32,
    "start_time": "2021-10-14T17:26:11.784Z"
   },
   {
    "duration": 4,
    "start_time": "2021-10-14T17:26:12.146Z"
   },
   {
    "duration": 2126,
    "start_time": "2021-10-14T17:26:12.775Z"
   },
   {
    "duration": 8,
    "start_time": "2021-10-14T17:26:14.904Z"
   },
   {
    "duration": 21,
    "start_time": "2021-10-14T17:26:16.565Z"
   },
   {
    "duration": 4,
    "start_time": "2021-10-14T17:26:32.799Z"
   },
   {
    "duration": 30,
    "start_time": "2021-10-14T17:26:33.283Z"
   },
   {
    "duration": 4,
    "start_time": "2021-10-14T17:26:33.721Z"
   },
   {
    "duration": 2113,
    "start_time": "2021-10-14T17:26:34.080Z"
   },
   {
    "duration": 9,
    "start_time": "2021-10-14T17:26:36.201Z"
   },
   {
    "duration": 21,
    "start_time": "2021-10-14T17:26:36.211Z"
   },
   {
    "duration": 4,
    "start_time": "2021-10-14T17:27:10.818Z"
   },
   {
    "duration": 29,
    "start_time": "2021-10-14T17:27:11.547Z"
   },
   {
    "duration": 4,
    "start_time": "2021-10-14T17:27:12.039Z"
   },
   {
    "duration": 2056,
    "start_time": "2021-10-14T17:27:12.472Z"
   },
   {
    "duration": 24,
    "start_time": "2021-10-14T17:27:14.530Z"
   },
   {
    "duration": 25,
    "start_time": "2021-10-14T17:27:14.556Z"
   },
   {
    "duration": 5,
    "start_time": "2021-10-14T17:28:06.773Z"
   },
   {
    "duration": 28,
    "start_time": "2021-10-14T17:28:07.237Z"
   },
   {
    "duration": 4,
    "start_time": "2021-10-14T17:28:07.643Z"
   },
   {
    "duration": 2137,
    "start_time": "2021-10-14T17:28:08.049Z"
   },
   {
    "duration": 10,
    "start_time": "2021-10-14T17:28:10.189Z"
   },
   {
    "duration": 10,
    "start_time": "2021-10-14T17:28:10.382Z"
   },
   {
    "duration": 70,
    "start_time": "2021-10-15T11:30:06.088Z"
   },
   {
    "duration": 7,
    "start_time": "2021-10-15T11:30:12.214Z"
   },
   {
    "duration": 13,
    "start_time": "2021-10-15T11:30:12.404Z"
   },
   {
    "duration": 4,
    "start_time": "2021-10-15T11:30:14.645Z"
   },
   {
    "duration": 4,
    "start_time": "2021-10-15T11:30:17.891Z"
   },
   {
    "duration": 11,
    "start_time": "2021-10-15T11:30:18.048Z"
   },
   {
    "duration": 5,
    "start_time": "2021-10-15T11:30:19.654Z"
   },
   {
    "duration": 33,
    "start_time": "2021-10-15T11:30:20.092Z"
   },
   {
    "duration": 4,
    "start_time": "2021-10-15T11:30:21.721Z"
   },
   {
    "duration": 2544,
    "start_time": "2021-10-15T11:30:22.351Z"
   },
   {
    "duration": 528,
    "start_time": "2021-10-15T11:30:25.726Z"
   },
   {
    "duration": 61,
    "start_time": "2021-10-15T11:30:47.341Z"
   },
   {
    "duration": 268,
    "start_time": "2021-10-15T11:32:42.610Z"
   },
   {
    "duration": 105,
    "start_time": "2021-10-15T11:33:09.241Z"
   },
   {
    "duration": 277,
    "start_time": "2021-10-15T11:33:59.656Z"
   },
   {
    "duration": 5,
    "start_time": "2021-10-15T11:35:04.775Z"
   },
   {
    "duration": 4,
    "start_time": "2021-10-15T11:35:16.083Z"
   },
   {
    "duration": 262,
    "start_time": "2021-10-15T11:36:31.364Z"
   },
   {
    "duration": 656,
    "start_time": "2021-10-15T11:36:54.851Z"
   },
   {
    "duration": 253,
    "start_time": "2021-10-15T11:37:07.741Z"
   },
   {
    "duration": 54,
    "start_time": "2021-10-15T11:37:19.116Z"
   },
   {
    "duration": 261,
    "start_time": "2021-10-15T11:40:02.028Z"
   },
   {
    "duration": 39,
    "start_time": "2021-10-15T11:40:43.558Z"
   },
   {
    "duration": 40,
    "start_time": "2021-10-15T11:41:11.779Z"
   },
   {
    "duration": 22,
    "start_time": "2021-10-15T11:43:26.014Z"
   },
   {
    "duration": 280,
    "start_time": "2021-10-15T11:43:39.419Z"
   },
   {
    "duration": 73,
    "start_time": "2021-10-15T11:44:10.791Z"
   },
   {
    "duration": 123,
    "start_time": "2021-10-15T11:44:52.409Z"
   },
   {
    "duration": 685,
    "start_time": "2021-10-15T11:45:06.799Z"
   },
   {
    "duration": 62,
    "start_time": "2021-10-15T11:45:20.742Z"
   },
   {
    "duration": 42,
    "start_time": "2021-10-15T11:46:00.701Z"
   },
   {
    "duration": 41,
    "start_time": "2021-10-15T11:46:34.614Z"
   },
   {
    "duration": 249,
    "start_time": "2021-10-15T11:46:58.282Z"
   },
   {
    "duration": 56,
    "start_time": "2021-10-15T11:47:13.073Z"
   },
   {
    "duration": 12,
    "start_time": "2021-10-15T11:49:55.722Z"
   },
   {
    "duration": 10,
    "start_time": "2021-10-15T11:50:08.226Z"
   },
   {
    "duration": 539,
    "start_time": "2021-10-15T11:51:45.169Z"
   },
   {
    "duration": 6,
    "start_time": "2021-10-15T11:52:12.212Z"
   },
   {
    "duration": 5,
    "start_time": "2021-10-15T11:52:21.433Z"
   },
   {
    "duration": 7,
    "start_time": "2021-10-15T11:52:30.123Z"
   },
   {
    "duration": 52,
    "start_time": "2021-10-15T12:35:05.129Z"
   },
   {
    "duration": 6,
    "start_time": "2021-10-15T12:35:07.630Z"
   },
   {
    "duration": 12,
    "start_time": "2021-10-15T12:35:08.175Z"
   },
   {
    "duration": 4,
    "start_time": "2021-10-15T12:35:10.409Z"
   },
   {
    "duration": 8,
    "start_time": "2021-10-15T12:35:10.621Z"
   },
   {
    "duration": 3,
    "start_time": "2021-10-15T12:35:13.845Z"
   },
   {
    "duration": 9,
    "start_time": "2021-10-15T12:35:14.031Z"
   },
   {
    "duration": 4,
    "start_time": "2021-10-15T12:35:14.193Z"
   },
   {
    "duration": 3,
    "start_time": "2021-10-15T12:35:14.431Z"
   },
   {
    "duration": 4,
    "start_time": "2021-10-15T12:35:14.565Z"
   },
   {
    "duration": 1929,
    "start_time": "2021-10-15T12:35:14.712Z"
   },
   {
    "duration": 43,
    "start_time": "2021-10-15T12:35:17.539Z"
   },
   {
    "duration": 10,
    "start_time": "2021-10-15T12:35:39.904Z"
   },
   {
    "duration": 315,
    "start_time": "2021-10-15T12:36:02.578Z"
   },
   {
    "duration": 7,
    "start_time": "2021-10-15T12:36:27.627Z"
   },
   {
    "duration": 8,
    "start_time": "2021-10-15T12:36:35.522Z"
   },
   {
    "duration": 6,
    "start_time": "2021-10-15T12:37:03.749Z"
   },
   {
    "duration": 269,
    "start_time": "2021-10-15T12:37:39.267Z"
   },
   {
    "duration": 245,
    "start_time": "2021-10-15T12:37:48.530Z"
   },
   {
    "duration": 9,
    "start_time": "2021-10-15T12:38:27.618Z"
   },
   {
    "duration": 51,
    "start_time": "2021-10-15T12:38:32.525Z"
   },
   {
    "duration": 5,
    "start_time": "2021-10-15T12:38:33.369Z"
   },
   {
    "duration": 10,
    "start_time": "2021-10-15T12:38:33.513Z"
   },
   {
    "duration": 4,
    "start_time": "2021-10-15T12:38:34.224Z"
   },
   {
    "duration": 7,
    "start_time": "2021-10-15T12:38:34.394Z"
   },
   {
    "duration": 3,
    "start_time": "2021-10-15T12:38:36.140Z"
   },
   {
    "duration": 9,
    "start_time": "2021-10-15T12:38:36.285Z"
   },
   {
    "duration": 4,
    "start_time": "2021-10-15T12:38:36.479Z"
   },
   {
    "duration": 24,
    "start_time": "2021-10-15T12:38:36.667Z"
   },
   {
    "duration": 4,
    "start_time": "2021-10-15T12:38:36.826Z"
   },
   {
    "duration": 2098,
    "start_time": "2021-10-15T12:38:37.003Z"
   },
   {
    "duration": 48,
    "start_time": "2021-10-15T12:38:40.515Z"
   },
   {
    "duration": 10,
    "start_time": "2021-10-15T12:38:44.582Z"
   },
   {
    "duration": 317,
    "start_time": "2021-10-15T12:39:58.899Z"
   },
   {
    "duration": 53,
    "start_time": "2021-10-15T12:40:54.451Z"
   },
   {
    "duration": 5,
    "start_time": "2021-10-15T12:40:55.186Z"
   },
   {
    "duration": 9,
    "start_time": "2021-10-15T12:40:55.539Z"
   },
   {
    "duration": 5,
    "start_time": "2021-10-15T12:40:56.275Z"
   },
   {
    "duration": 3,
    "start_time": "2021-10-15T12:40:57.720Z"
   },
   {
    "duration": 1238,
    "start_time": "2021-10-15T12:40:57.896Z"
   },
   {
    "duration": -442,
    "start_time": "2021-10-15T12:40:59.578Z"
   },
   {
    "duration": -442,
    "start_time": "2021-10-15T12:40:59.579Z"
   },
   {
    "duration": -443,
    "start_time": "2021-10-15T12:40:59.581Z"
   },
   {
    "duration": -444,
    "start_time": "2021-10-15T12:40:59.583Z"
   },
   {
    "duration": 255,
    "start_time": "2021-10-15T12:40:59.633Z"
   },
   {
    "duration": 40,
    "start_time": "2021-10-15T12:41:06.903Z"
   },
   {
    "duration": 11,
    "start_time": "2021-10-15T12:41:08.587Z"
   },
   {
    "duration": 249,
    "start_time": "2021-10-15T12:41:41.663Z"
   },
   {
    "duration": -512,
    "start_time": "2021-10-15T12:41:42.425Z"
   },
   {
    "duration": 8,
    "start_time": "2021-10-15T12:41:42.091Z"
   },
   {
    "duration": 4,
    "start_time": "2021-10-15T12:41:42.687Z"
   },
   {
    "duration": 4,
    "start_time": "2021-10-15T12:41:44.131Z"
   },
   {
    "duration": 2210,
    "start_time": "2021-10-15T12:41:44.320Z"
   },
   {
    "duration": -203,
    "start_time": "2021-10-15T12:41:46.735Z"
   },
   {
    "duration": -315,
    "start_time": "2021-10-15T12:41:46.848Z"
   },
   {
    "duration": -317,
    "start_time": "2021-10-15T12:41:46.851Z"
   },
   {
    "duration": -317,
    "start_time": "2021-10-15T12:41:46.852Z"
   },
   {
    "duration": -318,
    "start_time": "2021-10-15T12:41:46.854Z"
   },
   {
    "duration": -319,
    "start_time": "2021-10-15T12:41:46.856Z"
   },
   {
    "duration": 53,
    "start_time": "2021-10-15T12:42:00.969Z"
   },
   {
    "duration": 5,
    "start_time": "2021-10-15T12:42:05.232Z"
   },
   {
    "duration": 9,
    "start_time": "2021-10-15T12:42:06.191Z"
   },
   {
    "duration": 7,
    "start_time": "2021-10-15T12:42:07.073Z"
   },
   {
    "duration": 4,
    "start_time": "2021-10-15T12:42:09.572Z"
   },
   {
    "duration": 4,
    "start_time": "2021-10-15T12:42:13.586Z"
   },
   {
    "duration": 9,
    "start_time": "2021-10-15T12:42:14.980Z"
   },
   {
    "duration": 5,
    "start_time": "2021-10-15T12:42:16.093Z"
   },
   {
    "duration": 26,
    "start_time": "2021-10-15T12:42:17.163Z"
   },
   {
    "duration": 4,
    "start_time": "2021-10-15T12:42:17.550Z"
   },
   {
    "duration": 1973,
    "start_time": "2021-10-15T12:42:18.272Z"
   },
   {
    "duration": 49,
    "start_time": "2021-10-15T12:42:24.783Z"
   },
   {
    "duration": 10,
    "start_time": "2021-10-15T12:42:28.197Z"
   },
   {
    "duration": 50,
    "start_time": "2021-10-15T13:13:06.222Z"
   },
   {
    "duration": 6,
    "start_time": "2021-10-15T13:13:10.210Z"
   },
   {
    "duration": 10,
    "start_time": "2021-10-15T13:13:11.022Z"
   },
   {
    "duration": 4,
    "start_time": "2021-10-15T13:13:13.216Z"
   },
   {
    "duration": 4,
    "start_time": "2021-10-15T13:13:18.634Z"
   },
   {
    "duration": 9,
    "start_time": "2021-10-15T13:13:19.512Z"
   },
   {
    "duration": 5,
    "start_time": "2021-10-15T13:13:20.349Z"
   },
   {
    "duration": 26,
    "start_time": "2021-10-15T13:13:21.174Z"
   },
   {
    "duration": 4,
    "start_time": "2021-10-15T13:13:21.929Z"
   },
   {
    "duration": 2064,
    "start_time": "2021-10-15T13:13:22.842Z"
   },
   {
    "duration": 44,
    "start_time": "2021-10-15T13:13:35.291Z"
   },
   {
    "duration": 11,
    "start_time": "2021-10-15T13:13:36.830Z"
   },
   {
    "duration": 51,
    "start_time": "2021-10-15T13:18:41.666Z"
   },
   {
    "duration": 6,
    "start_time": "2021-10-15T13:18:44.876Z"
   },
   {
    "duration": 11,
    "start_time": "2021-10-15T13:18:46.141Z"
   },
   {
    "duration": 9,
    "start_time": "2021-10-15T13:18:46.691Z"
   },
   {
    "duration": 50,
    "start_time": "2021-10-15T13:20:37.524Z"
   },
   {
    "duration": 5,
    "start_time": "2021-10-15T13:20:44.765Z"
   },
   {
    "duration": 11,
    "start_time": "2021-10-15T13:20:45.379Z"
   },
   {
    "duration": 4,
    "start_time": "2021-10-15T13:20:47.103Z"
   },
   {
    "duration": 4,
    "start_time": "2021-10-15T13:20:51.992Z"
   },
   {
    "duration": 9,
    "start_time": "2021-10-15T13:20:52.424Z"
   },
   {
    "duration": 5,
    "start_time": "2021-10-15T13:20:53.001Z"
   },
   {
    "duration": 25,
    "start_time": "2021-10-15T13:20:53.562Z"
   },
   {
    "duration": 4,
    "start_time": "2021-10-15T13:20:54.230Z"
   },
   {
    "duration": 1969,
    "start_time": "2021-10-15T13:20:54.847Z"
   },
   {
    "duration": 12,
    "start_time": "2021-10-15T13:21:02.920Z"
   },
   {
    "duration": 45,
    "start_time": "2021-10-15T13:21:08.487Z"
   },
   {
    "duration": 41,
    "start_time": "2021-10-15T13:21:15.258Z"
   },
   {
    "duration": 11,
    "start_time": "2021-10-15T13:21:17.609Z"
   },
   {
    "duration": 10,
    "start_time": "2021-10-15T13:21:20.256Z"
   },
   {
    "duration": 10,
    "start_time": "2021-10-15T13:21:51.740Z"
   },
   {
    "duration": 10,
    "start_time": "2021-10-15T13:21:52.987Z"
   },
   {
    "duration": 410,
    "start_time": "2021-10-15T13:22:56.827Z"
   },
   {
    "duration": 85,
    "start_time": "2021-10-15T13:23:12.742Z"
   },
   {
    "duration": 11,
    "start_time": "2021-10-15T13:23:21.312Z"
   },
   {
    "duration": 255,
    "start_time": "2021-10-15T13:24:18.413Z"
   },
   {
    "duration": 262,
    "start_time": "2021-10-15T13:24:26.808Z"
   },
   {
    "duration": 55,
    "start_time": "2021-10-15T13:28:26.416Z"
   },
   {
    "duration": 692,
    "start_time": "2021-10-15T13:28:35.356Z"
   },
   {
    "duration": 6,
    "start_time": "2021-10-15T13:28:36.050Z"
   },
   {
    "duration": 12,
    "start_time": "2021-10-15T13:28:36.058Z"
   },
   {
    "duration": 3,
    "start_time": "2021-10-15T13:28:36.072Z"
   },
   {
    "duration": 6,
    "start_time": "2021-10-15T13:28:36.077Z"
   },
   {
    "duration": 11,
    "start_time": "2021-10-15T13:28:36.085Z"
   },
   {
    "duration": 7,
    "start_time": "2021-10-15T13:28:36.097Z"
   },
   {
    "duration": 13,
    "start_time": "2021-10-15T13:28:36.106Z"
   },
   {
    "duration": 5,
    "start_time": "2021-10-15T13:28:36.121Z"
   },
   {
    "duration": 2157,
    "start_time": "2021-10-15T13:28:36.128Z"
   },
   {
    "duration": 54,
    "start_time": "2021-10-15T13:28:38.287Z"
   },
   {
    "duration": 27,
    "start_time": "2021-10-15T13:28:38.343Z"
   },
   {
    "duration": 679,
    "start_time": "2021-10-15T13:34:40.447Z"
   },
   {
    "duration": 6,
    "start_time": "2021-10-15T13:34:41.128Z"
   },
   {
    "duration": 14,
    "start_time": "2021-10-15T13:34:41.136Z"
   },
   {
    "duration": 3,
    "start_time": "2021-10-15T13:34:41.152Z"
   },
   {
    "duration": 8,
    "start_time": "2021-10-15T13:34:41.157Z"
   },
   {
    "duration": 11,
    "start_time": "2021-10-15T13:34:41.166Z"
   },
   {
    "duration": 6,
    "start_time": "2021-10-15T13:34:41.178Z"
   },
   {
    "duration": 12,
    "start_time": "2021-10-15T13:34:41.185Z"
   },
   {
    "duration": 6,
    "start_time": "2021-10-15T13:34:41.199Z"
   },
   {
    "duration": 2130,
    "start_time": "2021-10-15T13:34:41.206Z"
   },
   {
    "duration": 70,
    "start_time": "2021-10-15T13:34:43.338Z"
   },
   {
    "duration": 16,
    "start_time": "2021-10-15T13:34:43.409Z"
   },
   {
    "duration": 4,
    "start_time": "2021-10-15T13:34:43.427Z"
   },
   {
    "duration": 4,
    "start_time": "2021-10-15T13:34:59.580Z"
   },
   {
    "duration": 748,
    "start_time": "2021-10-15T13:35:03.202Z"
   },
   {
    "duration": 6,
    "start_time": "2021-10-15T13:35:03.952Z"
   },
   {
    "duration": 17,
    "start_time": "2021-10-15T13:35:03.960Z"
   },
   {
    "duration": 5,
    "start_time": "2021-10-15T13:35:03.979Z"
   },
   {
    "duration": 9,
    "start_time": "2021-10-15T13:35:03.986Z"
   },
   {
    "duration": 17,
    "start_time": "2021-10-15T13:35:03.997Z"
   },
   {
    "duration": 6,
    "start_time": "2021-10-15T13:35:04.016Z"
   },
   {
    "duration": 15,
    "start_time": "2021-10-15T13:35:04.025Z"
   },
   {
    "duration": 7,
    "start_time": "2021-10-15T13:35:04.042Z"
   },
   {
    "duration": 2142,
    "start_time": "2021-10-15T13:35:04.051Z"
   },
   {
    "duration": 327,
    "start_time": "2021-10-15T13:35:06.195Z"
   },
   {
    "duration": -120,
    "start_time": "2021-10-15T13:35:06.644Z"
   },
   {
    "duration": -122,
    "start_time": "2021-10-15T13:35:06.647Z"
   },
   {
    "duration": 822,
    "start_time": "2021-10-15T13:35:19.381Z"
   },
   {
    "duration": 6,
    "start_time": "2021-10-15T13:35:20.206Z"
   },
   {
    "duration": 16,
    "start_time": "2021-10-15T13:35:20.214Z"
   },
   {
    "duration": 4,
    "start_time": "2021-10-15T13:35:20.232Z"
   },
   {
    "duration": 6,
    "start_time": "2021-10-15T13:35:20.238Z"
   },
   {
    "duration": 26,
    "start_time": "2021-10-15T13:35:20.246Z"
   },
   {
    "duration": 5,
    "start_time": "2021-10-15T13:35:20.275Z"
   },
   {
    "duration": 6,
    "start_time": "2021-10-15T13:35:20.283Z"
   },
   {
    "duration": 6,
    "start_time": "2021-10-15T13:35:20.291Z"
   },
   {
    "duration": 2068,
    "start_time": "2021-10-15T13:35:20.299Z"
   },
   {
    "duration": 53,
    "start_time": "2021-10-15T13:35:22.369Z"
   },
   {
    "duration": 2,
    "start_time": "2021-10-15T13:35:22.424Z"
   },
   {
    "duration": 19,
    "start_time": "2021-10-15T13:35:22.428Z"
   },
   {
    "duration": 673,
    "start_time": "2021-10-15T13:35:41.863Z"
   },
   {
    "duration": 5,
    "start_time": "2021-10-15T13:35:42.538Z"
   },
   {
    "duration": 28,
    "start_time": "2021-10-15T13:35:42.545Z"
   },
   {
    "duration": 4,
    "start_time": "2021-10-15T13:35:42.575Z"
   },
   {
    "duration": 16,
    "start_time": "2021-10-15T13:35:42.581Z"
   },
   {
    "duration": 16,
    "start_time": "2021-10-15T13:35:42.599Z"
   },
   {
    "duration": 6,
    "start_time": "2021-10-15T13:35:42.616Z"
   },
   {
    "duration": 22,
    "start_time": "2021-10-15T13:35:42.624Z"
   },
   {
    "duration": 13,
    "start_time": "2021-10-15T13:35:42.648Z"
   },
   {
    "duration": 2101,
    "start_time": "2021-10-15T13:35:42.663Z"
   },
   {
    "duration": 56,
    "start_time": "2021-10-15T13:35:44.767Z"
   },
   {
    "duration": 4,
    "start_time": "2021-10-15T13:35:44.825Z"
   },
   {
    "duration": 33,
    "start_time": "2021-10-15T13:35:44.831Z"
   },
   {
    "duration": 44,
    "start_time": "2021-10-15T13:45:57.279Z"
   },
   {
    "duration": 682,
    "start_time": "2021-10-15T13:46:40.868Z"
   },
   {
    "duration": 6,
    "start_time": "2021-10-15T13:46:41.551Z"
   },
   {
    "duration": 17,
    "start_time": "2021-10-15T13:46:41.559Z"
   },
   {
    "duration": 13,
    "start_time": "2021-10-15T13:46:41.578Z"
   },
   {
    "duration": 6,
    "start_time": "2021-10-15T13:46:41.593Z"
   },
   {
    "duration": 23,
    "start_time": "2021-10-15T13:46:41.600Z"
   },
   {
    "duration": 16,
    "start_time": "2021-10-15T13:46:41.625Z"
   },
   {
    "duration": 22,
    "start_time": "2021-10-15T13:46:41.644Z"
   },
   {
    "duration": 13,
    "start_time": "2021-10-15T13:46:41.668Z"
   },
   {
    "duration": 2118,
    "start_time": "2021-10-15T13:46:41.683Z"
   },
   {
    "duration": 67,
    "start_time": "2021-10-15T13:46:43.803Z"
   },
   {
    "duration": 4,
    "start_time": "2021-10-15T13:46:43.872Z"
   },
   {
    "duration": 28,
    "start_time": "2021-10-15T13:46:43.877Z"
   },
   {
    "duration": 43,
    "start_time": "2021-10-15T13:46:43.907Z"
   },
   {
    "duration": 17,
    "start_time": "2021-10-15T13:46:43.952Z"
   },
   {
    "duration": 645,
    "start_time": "2021-10-15T13:52:37.174Z"
   },
   {
    "duration": 6,
    "start_time": "2021-10-15T13:52:37.821Z"
   },
   {
    "duration": 24,
    "start_time": "2021-10-15T13:52:37.829Z"
   },
   {
    "duration": 30,
    "start_time": "2021-10-15T13:52:37.855Z"
   },
   {
    "duration": 26,
    "start_time": "2021-10-15T13:52:37.887Z"
   },
   {
    "duration": 33,
    "start_time": "2021-10-15T13:52:37.914Z"
   },
   {
    "duration": 40,
    "start_time": "2021-10-15T13:52:37.949Z"
   },
   {
    "duration": 29,
    "start_time": "2021-10-15T13:52:37.991Z"
   },
   {
    "duration": 11,
    "start_time": "2021-10-15T13:52:38.023Z"
   },
   {
    "duration": 2255,
    "start_time": "2021-10-15T13:52:38.036Z"
   },
   {
    "duration": 52,
    "start_time": "2021-10-15T13:52:40.294Z"
   },
   {
    "duration": 16,
    "start_time": "2021-10-15T13:52:40.347Z"
   },
   {
    "duration": 17,
    "start_time": "2021-10-15T13:52:40.365Z"
   },
   {
    "duration": 41,
    "start_time": "2021-10-15T13:52:40.383Z"
   },
   {
    "duration": 9,
    "start_time": "2021-10-15T13:52:40.425Z"
   },
   {
    "duration": 63,
    "start_time": "2021-10-15T13:52:40.435Z"
   },
   {
    "duration": 8,
    "start_time": "2021-10-15T13:52:40.500Z"
   },
   {
    "duration": 1029,
    "start_time": "2021-10-15T13:58:57.066Z"
   },
   {
    "duration": 5,
    "start_time": "2021-10-15T13:58:58.098Z"
   },
   {
    "duration": 18,
    "start_time": "2021-10-15T13:58:58.105Z"
   },
   {
    "duration": 6,
    "start_time": "2021-10-15T13:58:58.125Z"
   },
   {
    "duration": 5,
    "start_time": "2021-10-15T13:58:58.133Z"
   },
   {
    "duration": 24,
    "start_time": "2021-10-15T13:58:58.140Z"
   },
   {
    "duration": 5,
    "start_time": "2021-10-15T13:58:58.166Z"
   },
   {
    "duration": 8,
    "start_time": "2021-10-15T13:58:58.174Z"
   },
   {
    "duration": 6,
    "start_time": "2021-10-15T13:58:58.184Z"
   },
   {
    "duration": 2032,
    "start_time": "2021-10-15T13:58:58.192Z"
   },
   {
    "duration": 72,
    "start_time": "2021-10-15T13:59:00.226Z"
   },
   {
    "duration": 4,
    "start_time": "2021-10-15T13:59:00.300Z"
   },
   {
    "duration": 29,
    "start_time": "2021-10-15T13:59:00.305Z"
   },
   {
    "duration": 45,
    "start_time": "2021-10-15T13:59:00.336Z"
   },
   {
    "duration": 8,
    "start_time": "2021-10-15T13:59:00.382Z"
   },
   {
    "duration": 59,
    "start_time": "2021-10-15T13:59:00.391Z"
   },
   {
    "duration": 9,
    "start_time": "2021-10-15T13:59:00.451Z"
   },
   {
    "duration": 46,
    "start_time": "2021-10-15T13:59:00.463Z"
   },
   {
    "duration": 8,
    "start_time": "2021-10-15T13:59:00.511Z"
   },
   {
    "duration": 312,
    "start_time": "2021-10-15T14:12:42.376Z"
   },
   {
    "duration": 635,
    "start_time": "2021-10-15T14:12:50.389Z"
   },
   {
    "duration": 5,
    "start_time": "2021-10-15T14:12:51.026Z"
   },
   {
    "duration": 16,
    "start_time": "2021-10-15T14:12:51.033Z"
   },
   {
    "duration": 4,
    "start_time": "2021-10-15T14:12:51.051Z"
   },
   {
    "duration": 315,
    "start_time": "2021-10-15T14:12:51.057Z"
   },
   {
    "duration": -124,
    "start_time": "2021-10-15T14:12:51.498Z"
   },
   {
    "duration": -127,
    "start_time": "2021-10-15T14:12:51.502Z"
   },
   {
    "duration": -128,
    "start_time": "2021-10-15T14:12:51.504Z"
   },
   {
    "duration": -129,
    "start_time": "2021-10-15T14:12:51.506Z"
   },
   {
    "duration": -139,
    "start_time": "2021-10-15T14:12:51.517Z"
   },
   {
    "duration": -142,
    "start_time": "2021-10-15T14:12:51.520Z"
   },
   {
    "duration": -143,
    "start_time": "2021-10-15T14:12:51.522Z"
   },
   {
    "duration": -145,
    "start_time": "2021-10-15T14:12:51.525Z"
   },
   {
    "duration": -146,
    "start_time": "2021-10-15T14:12:51.527Z"
   },
   {
    "duration": -228,
    "start_time": "2021-10-15T14:12:51.610Z"
   },
   {
    "duration": -231,
    "start_time": "2021-10-15T14:12:51.614Z"
   },
   {
    "duration": -235,
    "start_time": "2021-10-15T14:12:51.618Z"
   },
   {
    "duration": -238,
    "start_time": "2021-10-15T14:12:51.623Z"
   },
   {
    "duration": -240,
    "start_time": "2021-10-15T14:12:51.626Z"
   },
   {
    "duration": -242,
    "start_time": "2021-10-15T14:12:51.629Z"
   },
   {
    "duration": 693,
    "start_time": "2021-10-15T14:13:20.332Z"
   },
   {
    "duration": 6,
    "start_time": "2021-10-15T14:13:21.028Z"
   },
   {
    "duration": 13,
    "start_time": "2021-10-15T14:13:21.037Z"
   },
   {
    "duration": 4,
    "start_time": "2021-10-15T14:13:21.053Z"
   },
   {
    "duration": 6,
    "start_time": "2021-10-15T14:13:21.063Z"
   },
   {
    "duration": 15,
    "start_time": "2021-10-15T14:13:21.071Z"
   },
   {
    "duration": 10,
    "start_time": "2021-10-15T14:13:21.087Z"
   },
   {
    "duration": 5,
    "start_time": "2021-10-15T14:13:21.100Z"
   },
   {
    "duration": 5,
    "start_time": "2021-10-15T14:13:21.108Z"
   },
   {
    "duration": 2095,
    "start_time": "2021-10-15T14:13:21.115Z"
   },
   {
    "duration": 71,
    "start_time": "2021-10-15T14:13:23.212Z"
   },
   {
    "duration": 4,
    "start_time": "2021-10-15T14:13:23.284Z"
   },
   {
    "duration": 19,
    "start_time": "2021-10-15T14:13:23.289Z"
   },
   {
    "duration": 39,
    "start_time": "2021-10-15T14:13:23.310Z"
   },
   {
    "duration": 9,
    "start_time": "2021-10-15T14:13:23.364Z"
   },
   {
    "duration": 42,
    "start_time": "2021-10-15T14:13:23.375Z"
   },
   {
    "duration": 9,
    "start_time": "2021-10-15T14:13:23.419Z"
   },
   {
    "duration": 62,
    "start_time": "2021-10-15T14:13:23.430Z"
   },
   {
    "duration": 9,
    "start_time": "2021-10-15T14:13:23.494Z"
   },
   {
    "duration": 614,
    "start_time": "2021-10-15T14:25:57.323Z"
   },
   {
    "duration": 5,
    "start_time": "2021-10-15T14:25:57.939Z"
   },
   {
    "duration": 16,
    "start_time": "2021-10-15T14:25:57.946Z"
   },
   {
    "duration": 4,
    "start_time": "2021-10-15T14:25:57.964Z"
   },
   {
    "duration": 6,
    "start_time": "2021-10-15T14:25:57.969Z"
   },
   {
    "duration": 10,
    "start_time": "2021-10-15T14:25:57.976Z"
   },
   {
    "duration": 9,
    "start_time": "2021-10-15T14:25:57.988Z"
   },
   {
    "duration": 10,
    "start_time": "2021-10-15T14:25:57.999Z"
   },
   {
    "duration": 4,
    "start_time": "2021-10-15T14:25:58.012Z"
   },
   {
    "duration": 2232,
    "start_time": "2021-10-15T14:25:58.018Z"
   },
   {
    "duration": 66,
    "start_time": "2021-10-15T14:26:00.265Z"
   },
   {
    "duration": 4,
    "start_time": "2021-10-15T14:26:00.332Z"
   },
   {
    "duration": 30,
    "start_time": "2021-10-15T14:26:00.338Z"
   },
   {
    "duration": 40,
    "start_time": "2021-10-15T14:26:00.370Z"
   },
   {
    "duration": 8,
    "start_time": "2021-10-15T14:26:00.412Z"
   },
   {
    "duration": 70,
    "start_time": "2021-10-15T14:26:00.422Z"
   },
   {
    "duration": 9,
    "start_time": "2021-10-15T14:26:00.494Z"
   },
   {
    "duration": 61,
    "start_time": "2021-10-15T14:26:00.505Z"
   },
   {
    "duration": 9,
    "start_time": "2021-10-15T14:26:00.568Z"
   },
   {
    "duration": 601,
    "start_time": "2021-10-15T16:31:12.562Z"
   },
   {
    "duration": 6,
    "start_time": "2021-10-15T16:31:13.165Z"
   },
   {
    "duration": 13,
    "start_time": "2021-10-15T16:31:13.173Z"
   },
   {
    "duration": 4,
    "start_time": "2021-10-15T16:31:13.188Z"
   },
   {
    "duration": 7,
    "start_time": "2021-10-15T16:31:13.194Z"
   },
   {
    "duration": 10,
    "start_time": "2021-10-15T16:31:13.203Z"
   },
   {
    "duration": 6,
    "start_time": "2021-10-15T16:31:13.214Z"
   },
   {
    "duration": 5,
    "start_time": "2021-10-15T16:31:13.246Z"
   },
   {
    "duration": 5,
    "start_time": "2021-10-15T16:31:13.253Z"
   },
   {
    "duration": 1990,
    "start_time": "2021-10-15T16:31:13.260Z"
   },
   {
    "duration": 46,
    "start_time": "2021-10-15T16:31:15.252Z"
   },
   {
    "duration": 3,
    "start_time": "2021-10-15T16:31:15.300Z"
   },
   {
    "duration": 19,
    "start_time": "2021-10-15T16:31:15.305Z"
   },
   {
    "duration": 45,
    "start_time": "2021-10-15T16:31:15.326Z"
   },
   {
    "duration": 7,
    "start_time": "2021-10-15T16:31:15.373Z"
   },
   {
    "duration": 37,
    "start_time": "2021-10-15T16:31:15.382Z"
   },
   {
    "duration": 8,
    "start_time": "2021-10-15T16:31:15.420Z"
   },
   {
    "duration": 35,
    "start_time": "2021-10-15T16:31:15.445Z"
   },
   {
    "duration": 10,
    "start_time": "2021-10-15T16:31:15.481Z"
   },
   {
    "duration": 879,
    "start_time": "2021-10-19T08:06:16.336Z"
   },
   {
    "duration": 86,
    "start_time": "2021-10-19T08:08:50.908Z"
   },
   {
    "duration": 847,
    "start_time": "2021-10-19T08:53:55.089Z"
   },
   {
    "duration": 7,
    "start_time": "2021-10-19T08:53:55.939Z"
   },
   {
    "duration": 14,
    "start_time": "2021-10-19T08:53:55.957Z"
   },
   {
    "duration": 9,
    "start_time": "2021-10-19T08:53:55.974Z"
   },
   {
    "duration": 8,
    "start_time": "2021-10-19T08:53:55.985Z"
   },
   {
    "duration": 19,
    "start_time": "2021-10-19T08:53:55.995Z"
   },
   {
    "duration": 6,
    "start_time": "2021-10-19T08:53:56.016Z"
   },
   {
    "duration": 34,
    "start_time": "2021-10-19T08:53:56.025Z"
   },
   {
    "duration": 2810,
    "start_time": "2021-10-19T08:53:56.062Z"
   },
   {
    "duration": 84,
    "start_time": "2021-10-19T08:53:58.875Z"
   },
   {
    "duration": 5,
    "start_time": "2021-10-19T08:53:58.962Z"
   },
   {
    "duration": 34,
    "start_time": "2021-10-19T08:53:58.970Z"
   },
   {
    "duration": 78,
    "start_time": "2021-10-19T08:53:59.007Z"
   },
   {
    "duration": 14,
    "start_time": "2021-10-19T08:53:59.088Z"
   },
   {
    "duration": 86,
    "start_time": "2021-10-19T08:53:59.104Z"
   },
   {
    "duration": 14,
    "start_time": "2021-10-19T08:53:59.193Z"
   },
   {
    "duration": 87,
    "start_time": "2021-10-19T08:53:59.209Z"
   },
   {
    "duration": 12,
    "start_time": "2021-10-19T08:53:59.298Z"
   },
   {
    "duration": 8,
    "start_time": "2021-10-19T08:54:22.571Z"
   },
   {
    "duration": 8,
    "start_time": "2021-10-19T08:54:44.867Z"
   },
   {
    "duration": 6,
    "start_time": "2021-10-19T08:55:15.651Z"
   },
   {
    "duration": 7,
    "start_time": "2021-10-19T08:55:47.451Z"
   },
   {
    "duration": 128,
    "start_time": "2021-10-19T08:57:25.759Z"
   },
   {
    "duration": 461,
    "start_time": "2021-10-19T08:57:37.677Z"
   },
   {
    "duration": 374,
    "start_time": "2021-10-19T08:57:48.356Z"
   },
   {
    "duration": 472,
    "start_time": "2021-10-19T08:59:00.989Z"
   },
   {
    "duration": 480,
    "start_time": "2021-10-19T09:12:17.795Z"
   },
   {
    "duration": 14,
    "start_time": "2021-10-19T09:12:29.818Z"
   },
   {
    "duration": 11,
    "start_time": "2021-10-19T09:13:08.099Z"
   },
   {
    "duration": 9,
    "start_time": "2021-10-19T09:13:28.131Z"
   },
   {
    "duration": 386,
    "start_time": "2021-10-19T09:14:27.291Z"
   },
   {
    "duration": 881,
    "start_time": "2021-10-19T09:14:56.536Z"
   },
   {
    "duration": 7,
    "start_time": "2021-10-19T09:14:57.420Z"
   },
   {
    "duration": 27,
    "start_time": "2021-10-19T09:14:57.430Z"
   },
   {
    "duration": 6,
    "start_time": "2021-10-19T09:14:57.461Z"
   },
   {
    "duration": 5,
    "start_time": "2021-10-19T09:14:57.470Z"
   },
   {
    "duration": 15,
    "start_time": "2021-10-19T09:14:57.477Z"
   },
   {
    "duration": 10,
    "start_time": "2021-10-19T09:14:57.494Z"
   },
   {
    "duration": 10,
    "start_time": "2021-10-19T09:14:57.508Z"
   },
   {
    "duration": 2696,
    "start_time": "2021-10-19T09:14:57.522Z"
   },
   {
    "duration": 91,
    "start_time": "2021-10-19T09:15:00.221Z"
   },
   {
    "duration": 5,
    "start_time": "2021-10-19T09:15:00.315Z"
   },
   {
    "duration": 37,
    "start_time": "2021-10-19T09:15:00.322Z"
   },
   {
    "duration": 63,
    "start_time": "2021-10-19T09:15:00.362Z"
   },
   {
    "duration": 35,
    "start_time": "2021-10-19T09:15:00.428Z"
   },
   {
    "duration": 62,
    "start_time": "2021-10-19T09:15:00.465Z"
   },
   {
    "duration": 37,
    "start_time": "2021-10-19T09:15:00.530Z"
   },
   {
    "duration": 85,
    "start_time": "2021-10-19T09:15:00.569Z"
   },
   {
    "duration": 12,
    "start_time": "2021-10-19T09:15:00.656Z"
   },
   {
    "duration": 10,
    "start_time": "2021-10-19T09:15:31.458Z"
   },
   {
    "duration": 14,
    "start_time": "2021-10-19T09:15:51.330Z"
   },
   {
    "duration": 1009,
    "start_time": "2021-10-19T09:16:03.543Z"
   },
   {
    "duration": 7,
    "start_time": "2021-10-19T09:16:04.554Z"
   },
   {
    "duration": 18,
    "start_time": "2021-10-19T09:16:04.564Z"
   },
   {
    "duration": 7,
    "start_time": "2021-10-19T09:16:04.585Z"
   },
   {
    "duration": 12,
    "start_time": "2021-10-19T09:16:04.594Z"
   },
   {
    "duration": 20,
    "start_time": "2021-10-19T09:16:04.609Z"
   },
   {
    "duration": 32,
    "start_time": "2021-10-19T09:16:04.632Z"
   },
   {
    "duration": 13,
    "start_time": "2021-10-19T09:16:04.669Z"
   },
   {
    "duration": 2972,
    "start_time": "2021-10-19T09:16:04.686Z"
   },
   {
    "duration": 70,
    "start_time": "2021-10-19T09:16:07.661Z"
   },
   {
    "duration": 5,
    "start_time": "2021-10-19T09:16:07.734Z"
   },
   {
    "duration": 38,
    "start_time": "2021-10-19T09:16:07.742Z"
   },
   {
    "duration": 81,
    "start_time": "2021-10-19T09:16:07.783Z"
   },
   {
    "duration": 13,
    "start_time": "2021-10-19T09:16:07.866Z"
   },
   {
    "duration": 104,
    "start_time": "2021-10-19T09:16:07.882Z"
   },
   {
    "duration": 13,
    "start_time": "2021-10-19T09:16:07.988Z"
   },
   {
    "duration": 81,
    "start_time": "2021-10-19T09:16:08.003Z"
   },
   {
    "duration": 12,
    "start_time": "2021-10-19T09:16:08.086Z"
   },
   {
    "duration": 569,
    "start_time": "2021-10-19T09:17:37.304Z"
   },
   {
    "duration": 409,
    "start_time": "2021-10-19T09:17:45.489Z"
   },
   {
    "duration": 85,
    "start_time": "2021-10-19T09:18:01.248Z"
   },
   {
    "duration": 866,
    "start_time": "2021-10-19T09:18:21.240Z"
   },
   {
    "duration": 6,
    "start_time": "2021-10-19T09:18:22.109Z"
   },
   {
    "duration": 17,
    "start_time": "2021-10-19T09:18:22.118Z"
   },
   {
    "duration": 20,
    "start_time": "2021-10-19T09:18:22.138Z"
   },
   {
    "duration": 8,
    "start_time": "2021-10-19T09:18:22.161Z"
   },
   {
    "duration": 16,
    "start_time": "2021-10-19T09:18:22.172Z"
   },
   {
    "duration": 10,
    "start_time": "2021-10-19T09:18:22.190Z"
   },
   {
    "duration": 9,
    "start_time": "2021-10-19T09:18:22.204Z"
   },
   {
    "duration": 2756,
    "start_time": "2021-10-19T09:18:22.216Z"
   },
   {
    "duration": 69,
    "start_time": "2021-10-19T09:18:24.974Z"
   },
   {
    "duration": 5,
    "start_time": "2021-10-19T09:18:25.057Z"
   },
   {
    "duration": 24,
    "start_time": "2021-10-19T09:18:25.064Z"
   },
   {
    "duration": 75,
    "start_time": "2021-10-19T09:18:25.090Z"
   },
   {
    "duration": 12,
    "start_time": "2021-10-19T09:18:25.168Z"
   },
   {
    "duration": 82,
    "start_time": "2021-10-19T09:18:25.182Z"
   },
   {
    "duration": 22,
    "start_time": "2021-10-19T09:18:25.267Z"
   },
   {
    "duration": 82,
    "start_time": "2021-10-19T09:18:25.291Z"
   },
   {
    "duration": 14,
    "start_time": "2021-10-19T09:18:25.376Z"
   },
   {
    "duration": 39,
    "start_time": "2021-10-19T09:25:14.891Z"
   },
   {
    "duration": 859,
    "start_time": "2021-10-19T09:25:50.383Z"
   },
   {
    "duration": 6,
    "start_time": "2021-10-19T09:25:51.245Z"
   },
   {
    "duration": 15,
    "start_time": "2021-10-19T09:25:51.259Z"
   },
   {
    "duration": 7,
    "start_time": "2021-10-19T09:25:51.276Z"
   },
   {
    "duration": 45,
    "start_time": "2021-10-19T09:25:51.285Z"
   },
   {
    "duration": 29,
    "start_time": "2021-10-19T09:25:51.332Z"
   },
   {
    "duration": 20,
    "start_time": "2021-10-19T09:25:51.363Z"
   },
   {
    "duration": 6,
    "start_time": "2021-10-19T09:25:51.387Z"
   },
   {
    "duration": 8,
    "start_time": "2021-10-19T09:25:51.395Z"
   },
   {
    "duration": 2629,
    "start_time": "2021-10-19T09:25:51.405Z"
   },
   {
    "duration": 82,
    "start_time": "2021-10-19T09:25:54.036Z"
   },
   {
    "duration": 4,
    "start_time": "2021-10-19T09:25:54.121Z"
   },
   {
    "duration": 52,
    "start_time": "2021-10-19T09:25:54.127Z"
   },
   {
    "duration": 65,
    "start_time": "2021-10-19T09:25:54.182Z"
   },
   {
    "duration": 13,
    "start_time": "2021-10-19T09:25:54.249Z"
   },
   {
    "duration": 75,
    "start_time": "2021-10-19T09:25:54.264Z"
   },
   {
    "duration": 13,
    "start_time": "2021-10-19T09:25:54.341Z"
   },
   {
    "duration": 74,
    "start_time": "2021-10-19T09:25:54.356Z"
   },
   {
    "duration": 12,
    "start_time": "2021-10-19T09:25:54.432Z"
   },
   {
    "duration": 899,
    "start_time": "2021-10-19T09:27:13.756Z"
   },
   {
    "duration": 6,
    "start_time": "2021-10-19T09:27:14.658Z"
   },
   {
    "duration": 16,
    "start_time": "2021-10-19T09:27:14.667Z"
   },
   {
    "duration": 6,
    "start_time": "2021-10-19T09:27:14.685Z"
   },
   {
    "duration": 73,
    "start_time": "2021-10-19T09:27:14.693Z"
   },
   {
    "duration": 6,
    "start_time": "2021-10-19T09:27:14.769Z"
   },
   {
    "duration": 20,
    "start_time": "2021-10-19T09:27:14.778Z"
   },
   {
    "duration": 8,
    "start_time": "2021-10-19T09:27:14.803Z"
   },
   {
    "duration": 20,
    "start_time": "2021-10-19T09:27:14.814Z"
   },
   {
    "duration": 3180,
    "start_time": "2021-10-19T09:27:14.859Z"
   },
   {
    "duration": 93,
    "start_time": "2021-10-19T09:27:18.041Z"
   },
   {
    "duration": 20,
    "start_time": "2021-10-19T09:27:18.138Z"
   },
   {
    "duration": 42,
    "start_time": "2021-10-19T09:27:18.161Z"
   },
   {
    "duration": 87,
    "start_time": "2021-10-19T09:27:18.206Z"
   },
   {
    "duration": 18,
    "start_time": "2021-10-19T09:27:18.296Z"
   },
   {
    "duration": 100,
    "start_time": "2021-10-19T09:27:18.317Z"
   },
   {
    "duration": 12,
    "start_time": "2021-10-19T09:27:18.419Z"
   },
   {
    "duration": 94,
    "start_time": "2021-10-19T09:27:18.434Z"
   },
   {
    "duration": 28,
    "start_time": "2021-10-19T09:27:18.531Z"
   },
   {
    "duration": 841,
    "start_time": "2021-10-19T09:40:06.096Z"
   },
   {
    "duration": 6,
    "start_time": "2021-10-19T09:40:06.940Z"
   },
   {
    "duration": 36,
    "start_time": "2021-10-19T09:40:06.949Z"
   },
   {
    "duration": 15,
    "start_time": "2021-10-19T09:40:06.987Z"
   },
   {
    "duration": 57,
    "start_time": "2021-10-19T09:40:07.005Z"
   },
   {
    "duration": 5,
    "start_time": "2021-10-19T09:40:07.064Z"
   },
   {
    "duration": 28,
    "start_time": "2021-10-19T09:40:07.071Z"
   },
   {
    "duration": 19,
    "start_time": "2021-10-19T09:40:07.102Z"
   },
   {
    "duration": 26,
    "start_time": "2021-10-19T09:40:07.124Z"
   },
   {
    "duration": 2666,
    "start_time": "2021-10-19T09:40:07.153Z"
   },
   {
    "duration": 90,
    "start_time": "2021-10-19T09:40:09.821Z"
   },
   {
    "duration": 5,
    "start_time": "2021-10-19T09:40:09.913Z"
   },
   {
    "duration": 29,
    "start_time": "2021-10-19T09:40:09.920Z"
   },
   {
    "duration": 72,
    "start_time": "2021-10-19T09:40:09.951Z"
   },
   {
    "duration": 12,
    "start_time": "2021-10-19T09:40:10.026Z"
   },
   {
    "duration": 71,
    "start_time": "2021-10-19T09:40:10.041Z"
   },
   {
    "duration": 12,
    "start_time": "2021-10-19T09:40:10.115Z"
   },
   {
    "duration": 82,
    "start_time": "2021-10-19T09:40:10.129Z"
   },
   {
    "duration": 12,
    "start_time": "2021-10-19T09:40:10.213Z"
   },
   {
    "duration": 109,
    "start_time": "2021-10-20T10:06:18.835Z"
   },
   {
    "duration": 880,
    "start_time": "2021-10-20T10:10:52.028Z"
   },
   {
    "duration": 6,
    "start_time": "2021-10-20T10:10:52.911Z"
   },
   {
    "duration": 16,
    "start_time": "2021-10-20T10:10:52.921Z"
   },
   {
    "duration": 469,
    "start_time": "2021-10-20T10:10:52.940Z"
   },
   {
    "duration": -1660,
    "start_time": "2021-10-20T10:10:55.073Z"
   },
   {
    "duration": -1747,
    "start_time": "2021-10-20T10:10:55.161Z"
   },
   {
    "duration": -1753,
    "start_time": "2021-10-20T10:10:55.169Z"
   },
   {
    "duration": -1769,
    "start_time": "2021-10-20T10:10:55.186Z"
   },
   {
    "duration": -1785,
    "start_time": "2021-10-20T10:10:55.204Z"
   },
   {
    "duration": -1820,
    "start_time": "2021-10-20T10:10:55.240Z"
   },
   {
    "duration": -1836,
    "start_time": "2021-10-20T10:10:55.257Z"
   },
   {
    "duration": -1846,
    "start_time": "2021-10-20T10:10:55.268Z"
   },
   {
    "duration": -1864,
    "start_time": "2021-10-20T10:10:55.288Z"
   },
   {
    "duration": -1880,
    "start_time": "2021-10-20T10:10:55.305Z"
   },
   {
    "duration": -1895,
    "start_time": "2021-10-20T10:10:55.321Z"
   },
   {
    "duration": -1902,
    "start_time": "2021-10-20T10:10:55.330Z"
   },
   {
    "duration": -1917,
    "start_time": "2021-10-20T10:10:55.346Z"
   },
   {
    "duration": -1932,
    "start_time": "2021-10-20T10:10:55.362Z"
   },
   {
    "duration": -1942,
    "start_time": "2021-10-20T10:10:55.373Z"
   },
   {
    "duration": 881,
    "start_time": "2021-10-20T10:11:26.980Z"
   },
   {
    "duration": 6,
    "start_time": "2021-10-20T10:11:27.864Z"
   },
   {
    "duration": 29,
    "start_time": "2021-10-20T10:11:27.873Z"
   },
   {
    "duration": 14,
    "start_time": "2021-10-20T10:11:27.904Z"
   },
   {
    "duration": 56,
    "start_time": "2021-10-20T10:11:27.920Z"
   },
   {
    "duration": 4,
    "start_time": "2021-10-20T10:11:27.978Z"
   },
   {
    "duration": 25,
    "start_time": "2021-10-20T10:11:27.985Z"
   },
   {
    "duration": 8,
    "start_time": "2021-10-20T10:11:28.014Z"
   },
   {
    "duration": 15,
    "start_time": "2021-10-20T10:11:28.025Z"
   },
   {
    "duration": 2816,
    "start_time": "2021-10-20T10:11:28.042Z"
   },
   {
    "duration": 88,
    "start_time": "2021-10-20T10:11:30.860Z"
   },
   {
    "duration": 5,
    "start_time": "2021-10-20T10:11:30.950Z"
   },
   {
    "duration": 31,
    "start_time": "2021-10-20T10:11:30.957Z"
   },
   {
    "duration": 67,
    "start_time": "2021-10-20T10:11:30.991Z"
   },
   {
    "duration": 13,
    "start_time": "2021-10-20T10:11:31.061Z"
   },
   {
    "duration": 81,
    "start_time": "2021-10-20T10:11:31.076Z"
   },
   {
    "duration": 12,
    "start_time": "2021-10-20T10:11:31.160Z"
   },
   {
    "duration": 83,
    "start_time": "2021-10-20T10:11:31.174Z"
   },
   {
    "duration": 13,
    "start_time": "2021-10-20T10:11:31.260Z"
   },
   {
    "duration": 639,
    "start_time": "2021-10-20T10:12:10.043Z"
   },
   {
    "duration": 17,
    "start_time": "2021-10-20T10:12:25.741Z"
   },
   {
    "duration": 110,
    "start_time": "2021-10-20T10:13:31.753Z"
   },
   {
    "duration": 125,
    "start_time": "2021-10-20T10:13:46.759Z"
   },
   {
    "duration": 460,
    "start_time": "2021-10-20T10:14:03.103Z"
   },
   {
    "duration": 338,
    "start_time": "2021-10-20T10:14:13.504Z"
   },
   {
    "duration": 887,
    "start_time": "2021-10-20T10:14:52.275Z"
   },
   {
    "duration": 6,
    "start_time": "2021-10-20T10:14:53.165Z"
   },
   {
    "duration": 34,
    "start_time": "2021-10-20T10:14:53.174Z"
   },
   {
    "duration": 4,
    "start_time": "2021-10-20T10:14:53.211Z"
   },
   {
    "duration": 40,
    "start_time": "2021-10-20T10:14:53.218Z"
   },
   {
    "duration": 5,
    "start_time": "2021-10-20T10:14:53.260Z"
   },
   {
    "duration": 41,
    "start_time": "2021-10-20T10:14:53.267Z"
   },
   {
    "duration": 8,
    "start_time": "2021-10-20T10:14:53.311Z"
   },
   {
    "duration": 8,
    "start_time": "2021-10-20T10:14:53.322Z"
   },
   {
    "duration": 2768,
    "start_time": "2021-10-20T10:14:53.332Z"
   },
   {
    "duration": 71,
    "start_time": "2021-10-20T10:14:56.104Z"
   },
   {
    "duration": 25,
    "start_time": "2021-10-20T10:14:56.178Z"
   },
   {
    "duration": 32,
    "start_time": "2021-10-20T10:14:56.206Z"
   },
   {
    "duration": 67,
    "start_time": "2021-10-20T10:14:56.240Z"
   },
   {
    "duration": 13,
    "start_time": "2021-10-20T10:14:56.310Z"
   },
   {
    "duration": 76,
    "start_time": "2021-10-20T10:14:56.326Z"
   },
   {
    "duration": 13,
    "start_time": "2021-10-20T10:14:56.404Z"
   },
   {
    "duration": 84,
    "start_time": "2021-10-20T10:14:56.420Z"
   },
   {
    "duration": 13,
    "start_time": "2021-10-20T10:14:56.506Z"
   },
   {
    "duration": 9,
    "start_time": "2021-10-20T10:15:20.791Z"
   },
   {
    "duration": 423,
    "start_time": "2021-10-20T10:15:31.239Z"
   },
   {
    "duration": 11,
    "start_time": "2021-10-20T10:15:48.892Z"
   },
   {
    "duration": 524,
    "start_time": "2021-10-20T10:16:03.121Z"
   },
   {
    "duration": 10,
    "start_time": "2021-10-20T10:16:11.040Z"
   },
   {
    "duration": 867,
    "start_time": "2021-10-20T10:16:38.796Z"
   },
   {
    "duration": 6,
    "start_time": "2021-10-20T10:16:39.666Z"
   },
   {
    "duration": 29,
    "start_time": "2021-10-20T10:16:39.675Z"
   },
   {
    "duration": 14,
    "start_time": "2021-10-20T10:16:39.706Z"
   },
   {
    "duration": 37,
    "start_time": "2021-10-20T10:16:39.723Z"
   },
   {
    "duration": 4,
    "start_time": "2021-10-20T10:16:39.762Z"
   },
   {
    "duration": 45,
    "start_time": "2021-10-20T10:16:39.769Z"
   },
   {
    "duration": 8,
    "start_time": "2021-10-20T10:16:39.818Z"
   },
   {
    "duration": 14,
    "start_time": "2021-10-20T10:16:39.829Z"
   },
   {
    "duration": 2932,
    "start_time": "2021-10-20T10:16:39.846Z"
   },
   {
    "duration": 89,
    "start_time": "2021-10-20T10:16:42.781Z"
   },
   {
    "duration": 6,
    "start_time": "2021-10-20T10:16:42.873Z"
   },
   {
    "duration": 19,
    "start_time": "2021-10-20T10:16:42.902Z"
   },
   {
    "duration": 85,
    "start_time": "2021-10-20T10:16:42.925Z"
   },
   {
    "duration": 14,
    "start_time": "2021-10-20T10:16:43.013Z"
   },
   {
    "duration": 91,
    "start_time": "2021-10-20T10:16:43.030Z"
   },
   {
    "duration": 15,
    "start_time": "2021-10-20T10:16:43.124Z"
   },
   {
    "duration": 87,
    "start_time": "2021-10-20T10:16:43.142Z"
   },
   {
    "duration": 13,
    "start_time": "2021-10-20T10:16:43.232Z"
   },
   {
    "duration": 856,
    "start_time": "2021-10-20T10:18:26.414Z"
   },
   {
    "duration": 8,
    "start_time": "2021-10-20T10:18:27.273Z"
   },
   {
    "duration": 29,
    "start_time": "2021-10-20T10:18:27.284Z"
   },
   {
    "duration": 31,
    "start_time": "2021-10-20T10:18:27.316Z"
   },
   {
    "duration": 37,
    "start_time": "2021-10-20T10:18:27.350Z"
   },
   {
    "duration": 13,
    "start_time": "2021-10-20T10:18:27.389Z"
   },
   {
    "duration": 25,
    "start_time": "2021-10-20T10:18:27.405Z"
   },
   {
    "duration": 24,
    "start_time": "2021-10-20T10:18:27.434Z"
   },
   {
    "duration": 31,
    "start_time": "2021-10-20T10:18:27.460Z"
   },
   {
    "duration": 2845,
    "start_time": "2021-10-20T10:18:27.493Z"
   },
   {
    "duration": 85,
    "start_time": "2021-10-20T10:18:30.341Z"
   },
   {
    "duration": 4,
    "start_time": "2021-10-20T10:18:30.428Z"
   },
   {
    "duration": 41,
    "start_time": "2021-10-20T10:18:30.435Z"
   },
   {
    "duration": 68,
    "start_time": "2021-10-20T10:18:30.479Z"
   },
   {
    "duration": 13,
    "start_time": "2021-10-20T10:18:30.549Z"
   },
   {
    "duration": 87,
    "start_time": "2021-10-20T10:18:30.565Z"
   },
   {
    "duration": 14,
    "start_time": "2021-10-20T10:18:30.655Z"
   },
   {
    "duration": 85,
    "start_time": "2021-10-20T10:18:30.672Z"
   },
   {
    "duration": 14,
    "start_time": "2021-10-20T10:18:30.761Z"
   },
   {
    "duration": 873,
    "start_time": "2021-10-27T10:21:44.728Z"
   },
   {
    "duration": 6,
    "start_time": "2021-10-27T10:21:45.604Z"
   },
   {
    "duration": 25,
    "start_time": "2021-10-27T10:21:45.614Z"
   },
   {
    "duration": 15,
    "start_time": "2021-10-27T10:21:45.643Z"
   },
   {
    "duration": 72,
    "start_time": "2021-10-27T10:21:45.660Z"
   },
   {
    "duration": 6,
    "start_time": "2021-10-27T10:21:45.735Z"
   },
   {
    "duration": 16,
    "start_time": "2021-10-27T10:21:45.744Z"
   },
   {
    "duration": 36,
    "start_time": "2021-10-27T10:21:45.765Z"
   },
   {
    "duration": 26,
    "start_time": "2021-10-27T10:21:45.804Z"
   },
   {
    "duration": 2876,
    "start_time": "2021-10-27T10:21:45.833Z"
   },
   {
    "duration": 71,
    "start_time": "2021-10-27T10:21:48.712Z"
   },
   {
    "duration": 18,
    "start_time": "2021-10-27T10:21:48.785Z"
   },
   {
    "duration": 22,
    "start_time": "2021-10-27T10:21:48.806Z"
   },
   {
    "duration": 82,
    "start_time": "2021-10-27T10:21:48.830Z"
   },
   {
    "duration": 13,
    "start_time": "2021-10-27T10:21:48.914Z"
   },
   {
    "duration": 82,
    "start_time": "2021-10-27T10:21:48.929Z"
   },
   {
    "duration": 13,
    "start_time": "2021-10-27T10:21:49.014Z"
   },
   {
    "duration": 82,
    "start_time": "2021-10-27T10:21:49.030Z"
   },
   {
    "duration": 12,
    "start_time": "2021-10-27T10:21:49.115Z"
   },
   {
    "duration": 969,
    "start_time": "2021-10-27T10:22:36.960Z"
   },
   {
    "duration": 7,
    "start_time": "2021-10-27T10:22:37.931Z"
   },
   {
    "duration": 45,
    "start_time": "2021-10-27T10:22:37.940Z"
   },
   {
    "duration": 17,
    "start_time": "2021-10-27T10:22:37.988Z"
   },
   {
    "duration": 35,
    "start_time": "2021-10-27T10:22:38.007Z"
   },
   {
    "duration": 5,
    "start_time": "2021-10-27T10:22:38.045Z"
   },
   {
    "duration": 29,
    "start_time": "2021-10-27T10:22:38.052Z"
   },
   {
    "duration": 15,
    "start_time": "2021-10-27T10:22:38.085Z"
   },
   {
    "duration": 19,
    "start_time": "2021-10-27T10:22:38.103Z"
   },
   {
    "duration": 2783,
    "start_time": "2021-10-27T10:22:38.125Z"
   },
   {
    "duration": 70,
    "start_time": "2021-10-27T10:22:40.911Z"
   },
   {
    "duration": 17,
    "start_time": "2021-10-27T10:22:40.984Z"
   },
   {
    "duration": 22,
    "start_time": "2021-10-27T10:22:41.004Z"
   },
   {
    "duration": 79,
    "start_time": "2021-10-27T10:22:41.029Z"
   },
   {
    "duration": 12,
    "start_time": "2021-10-27T10:22:41.111Z"
   },
   {
    "duration": 76,
    "start_time": "2021-10-27T10:22:41.126Z"
   },
   {
    "duration": 14,
    "start_time": "2021-10-27T10:22:41.205Z"
   },
   {
    "duration": 84,
    "start_time": "2021-10-27T10:22:41.221Z"
   },
   {
    "duration": 12,
    "start_time": "2021-10-27T10:22:41.307Z"
   },
   {
    "duration": 884,
    "start_time": "2021-10-28T13:38:18.265Z"
   },
   {
    "duration": 7,
    "start_time": "2021-10-28T13:38:19.152Z"
   },
   {
    "duration": 40,
    "start_time": "2021-10-28T13:38:19.162Z"
   },
   {
    "duration": 30,
    "start_time": "2021-10-28T13:38:19.206Z"
   },
   {
    "duration": 26,
    "start_time": "2021-10-28T13:38:19.239Z"
   },
   {
    "duration": 37,
    "start_time": "2021-10-28T13:38:19.268Z"
   },
   {
    "duration": 20,
    "start_time": "2021-10-28T13:38:19.308Z"
   },
   {
    "duration": 7,
    "start_time": "2021-10-28T13:38:19.331Z"
   },
   {
    "duration": 8,
    "start_time": "2021-10-28T13:38:19.343Z"
   },
   {
    "duration": 3681,
    "start_time": "2021-10-28T13:38:19.354Z"
   },
   {
    "duration": 75,
    "start_time": "2021-10-28T13:38:23.038Z"
   },
   {
    "duration": 4,
    "start_time": "2021-10-28T13:38:23.115Z"
   },
   {
    "duration": 26,
    "start_time": "2021-10-28T13:38:23.121Z"
   },
   {
    "duration": 62,
    "start_time": "2021-10-28T13:38:23.150Z"
   },
   {
    "duration": 13,
    "start_time": "2021-10-28T13:38:23.215Z"
   },
   {
    "duration": 72,
    "start_time": "2021-10-28T13:38:23.231Z"
   },
   {
    "duration": 15,
    "start_time": "2021-10-28T13:38:23.306Z"
   },
   {
    "duration": 90,
    "start_time": "2021-10-28T13:38:23.324Z"
   },
   {
    "duration": 16,
    "start_time": "2021-10-28T13:38:23.417Z"
   }
  ],
  "kernelspec": {
   "display_name": "Python 3 (ipykernel)",
   "language": "python",
   "name": "python3"
  },
  "language_info": {
   "codemirror_mode": {
    "name": "ipython",
    "version": 3
   },
   "file_extension": ".py",
   "mimetype": "text/x-python",
   "name": "python",
   "nbconvert_exporter": "python",
   "pygments_lexer": "ipython3",
   "version": "3.9.5"
  },
  "toc": {
   "base_numbering": 1,
   "nav_menu": {},
   "number_sections": true,
   "sideBar": false,
   "skip_h1_title": true,
   "title_cell": "Table of Contents",
   "title_sidebar": "Contents",
   "toc_cell": false,
   "toc_position": {
    "height": "47.7px",
    "left": "253.267px",
    "top": "135.7px",
    "width": "159px"
   },
   "toc_section_display": false,
   "toc_window_display": true
  }
 },
 "nbformat": 4,
 "nbformat_minor": 2
}
