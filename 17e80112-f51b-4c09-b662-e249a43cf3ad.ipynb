{
 "cells": [
  {
   "cell_type": "markdown",
   "metadata": {},
   "source": [
    "# Introduction\n",
    "##### The goal of this project is to analyze which telecome plan is bringing more revenue.\n",
    "### Outlines\n",
    "##### Assess the data and make decisions about handling the data\n",
    "##### Perform computations, hypothesis testing and logistic regression on the data\n",
    "##### Make recommendations backed by my work"
   ]
  },
  {
   "cell_type": "code",
   "execution_count": 1,
   "metadata": {},
   "outputs": [
    {
     "name": "stdout",
     "output_type": "stream",
     "text": [
      "Defaulting to user installation because normal site-packages is not writeable\n",
      "Requirement already up-to-date: seaborn in /home/jovyan/.local/lib/python3.7/site-packages (0.11.2)\n",
      "Requirement already satisfied, skipping upgrade: pandas>=0.23 in /home/jovyan/.local/lib/python3.7/site-packages (from seaborn) (1.3.4)\n",
      "Requirement already satisfied, skipping upgrade: matplotlib>=2.2 in /opt/conda/lib/python3.7/site-packages (from seaborn) (3.1.0)\n",
      "Requirement already satisfied, skipping upgrade: numpy>=1.15 in /opt/conda/lib/python3.7/site-packages (from seaborn) (1.19.5)\n",
      "Requirement already satisfied, skipping upgrade: scipy>=1.0 in /opt/conda/lib/python3.7/site-packages (from seaborn) (1.4.1)\n",
      "Requirement already satisfied, skipping upgrade: python-dateutil>=2.7.3 in /opt/conda/lib/python3.7/site-packages (from pandas>=0.23->seaborn) (2.8.1)\n",
      "Requirement already satisfied, skipping upgrade: pytz>=2017.3 in /opt/conda/lib/python3.7/site-packages (from pandas>=0.23->seaborn) (2021.1)\n",
      "Requirement already satisfied, skipping upgrade: cycler>=0.10 in /opt/conda/lib/python3.7/site-packages (from matplotlib>=2.2->seaborn) (0.10.0)\n",
      "Requirement already satisfied, skipping upgrade: pyparsing!=2.0.4,!=2.1.2,!=2.1.6,>=2.0.1 in /opt/conda/lib/python3.7/site-packages (from matplotlib>=2.2->seaborn) (2.4.7)\n",
      "Requirement already satisfied, skipping upgrade: kiwisolver>=1.0.1 in /opt/conda/lib/python3.7/site-packages (from matplotlib>=2.2->seaborn) (1.3.1)\n",
      "Requirement already satisfied, skipping upgrade: six>=1.5 in /opt/conda/lib/python3.7/site-packages (from python-dateutil>=2.7.3->pandas>=0.23->seaborn) (1.15.0)\n",
      "Note: you may need to restart the kernel to use updated packages.\n"
     ]
    }
   ],
   "source": [
    "pip install -U seaborn"
   ]
  },
  {
   "cell_type": "code",
   "execution_count": 2,
   "metadata": {},
   "outputs": [
    {
     "name": "stdout",
     "output_type": "stream",
     "text": [
      "Defaulting to user installation because normal site-packages is not writeable\n",
      "Requirement already up-to-date: pandas in /home/jovyan/.local/lib/python3.7/site-packages (1.3.4)\n",
      "Requirement already satisfied, skipping upgrade: numpy>=1.17.3; platform_machine != \"aarch64\" and platform_machine != \"arm64\" and python_version < \"3.10\" in /opt/conda/lib/python3.7/site-packages (from pandas) (1.19.5)\n",
      "Requirement already satisfied, skipping upgrade: python-dateutil>=2.7.3 in /opt/conda/lib/python3.7/site-packages (from pandas) (2.8.1)\n",
      "Requirement already satisfied, skipping upgrade: pytz>=2017.3 in /opt/conda/lib/python3.7/site-packages (from pandas) (2021.1)\n",
      "Requirement already satisfied, skipping upgrade: six>=1.5 in /opt/conda/lib/python3.7/site-packages (from python-dateutil>=2.7.3->pandas) (1.15.0)\n",
      "Note: you may need to restart the kernel to use updated packages.\n"
     ]
    }
   ],
   "source": [
    "pip install -U pandas"
   ]
  },
  {
   "cell_type": "code",
   "execution_count": 3,
   "metadata": {
    "scrolled": true
   },
   "outputs": [
    {
     "name": "stdout",
     "output_type": "stream",
     "text": [
      "<class 'pandas.core.frame.DataFrame'>\n",
      "RangeIndex: 137735 entries, 0 to 137734\n",
      "Data columns (total 4 columns):\n",
      " #   Column     Non-Null Count   Dtype  \n",
      "---  ------     --------------   -----  \n",
      " 0   id         137735 non-null  object \n",
      " 1   user_id    137735 non-null  int64  \n",
      " 2   call_date  137735 non-null  object \n",
      " 3   duration   137735 non-null  float64\n",
      "dtypes: float64(1), int64(1), object(2)\n",
      "memory usage: 4.2+ MB\n"
     ]
    },
    {
     "data": {
      "text/html": [
       "<div>\n",
       "<style scoped>\n",
       "    .dataframe tbody tr th:only-of-type {\n",
       "        vertical-align: middle;\n",
       "    }\n",
       "\n",
       "    .dataframe tbody tr th {\n",
       "        vertical-align: top;\n",
       "    }\n",
       "\n",
       "    .dataframe thead th {\n",
       "        text-align: right;\n",
       "    }\n",
       "</style>\n",
       "<table border=\"1\" class=\"dataframe\">\n",
       "  <thead>\n",
       "    <tr style=\"text-align: right;\">\n",
       "      <th></th>\n",
       "      <th>id</th>\n",
       "      <th>user_id</th>\n",
       "      <th>call_date</th>\n",
       "      <th>duration</th>\n",
       "    </tr>\n",
       "  </thead>\n",
       "  <tbody>\n",
       "    <tr>\n",
       "      <th>0</th>\n",
       "      <td>1000_93</td>\n",
       "      <td>1000</td>\n",
       "      <td>2018-12-27</td>\n",
       "      <td>9.0</td>\n",
       "    </tr>\n",
       "    <tr>\n",
       "      <th>1</th>\n",
       "      <td>1000_145</td>\n",
       "      <td>1000</td>\n",
       "      <td>2018-12-27</td>\n",
       "      <td>14.0</td>\n",
       "    </tr>\n",
       "    <tr>\n",
       "      <th>2</th>\n",
       "      <td>1000_247</td>\n",
       "      <td>1000</td>\n",
       "      <td>2018-12-27</td>\n",
       "      <td>15.0</td>\n",
       "    </tr>\n",
       "    <tr>\n",
       "      <th>3</th>\n",
       "      <td>1000_309</td>\n",
       "      <td>1000</td>\n",
       "      <td>2018-12-28</td>\n",
       "      <td>6.0</td>\n",
       "    </tr>\n",
       "    <tr>\n",
       "      <th>4</th>\n",
       "      <td>1000_380</td>\n",
       "      <td>1000</td>\n",
       "      <td>2018-12-30</td>\n",
       "      <td>5.0</td>\n",
       "    </tr>\n",
       "    <tr>\n",
       "      <th>5</th>\n",
       "      <td>1000_388</td>\n",
       "      <td>1000</td>\n",
       "      <td>2018-12-31</td>\n",
       "      <td>3.0</td>\n",
       "    </tr>\n",
       "    <tr>\n",
       "      <th>6</th>\n",
       "      <td>1000_510</td>\n",
       "      <td>1000</td>\n",
       "      <td>2018-12-27</td>\n",
       "      <td>6.0</td>\n",
       "    </tr>\n",
       "    <tr>\n",
       "      <th>7</th>\n",
       "      <td>1000_521</td>\n",
       "      <td>1000</td>\n",
       "      <td>2018-12-28</td>\n",
       "      <td>15.0</td>\n",
       "    </tr>\n",
       "    <tr>\n",
       "      <th>8</th>\n",
       "      <td>1000_530</td>\n",
       "      <td>1000</td>\n",
       "      <td>2018-12-28</td>\n",
       "      <td>6.0</td>\n",
       "    </tr>\n",
       "    <tr>\n",
       "      <th>9</th>\n",
       "      <td>1000_544</td>\n",
       "      <td>1000</td>\n",
       "      <td>2018-12-26</td>\n",
       "      <td>5.0</td>\n",
       "    </tr>\n",
       "  </tbody>\n",
       "</table>\n",
       "</div>"
      ],
      "text/plain": [
       "         id  user_id   call_date  duration\n",
       "0   1000_93     1000  2018-12-27       9.0\n",
       "1  1000_145     1000  2018-12-27      14.0\n",
       "2  1000_247     1000  2018-12-27      15.0\n",
       "3  1000_309     1000  2018-12-28       6.0\n",
       "4  1000_380     1000  2018-12-30       5.0\n",
       "5  1000_388     1000  2018-12-31       3.0\n",
       "6  1000_510     1000  2018-12-27       6.0\n",
       "7  1000_521     1000  2018-12-28      15.0\n",
       "8  1000_530     1000  2018-12-28       6.0\n",
       "9  1000_544     1000  2018-12-26       5.0"
      ]
     },
     "execution_count": 3,
     "metadata": {},
     "output_type": "execute_result"
    }
   ],
   "source": [
    "import pandas as pd\n",
    "import numpy as np\n",
    "import seaborn as sns\n",
    "import matplotlib.pyplot as plt\n",
    "from scipy import stats\n",
    "data_calls = pd.read_csv('/datasets/megaline_calls.csv')\n",
    "data_calls.columns.str.lower()\n",
    "data_calls['duration'] = np.ceil(data_calls['duration'])\n",
    "data_calls.info()\n",
    "data_calls.head(10)"
   ]
  },
  {
   "cell_type": "markdown",
   "metadata": {},
   "source": [
    "The information looks meticulously gathered each time a person made a call."
   ]
  },
  {
   "cell_type": "code",
   "execution_count": 4,
   "metadata": {},
   "outputs": [
    {
     "data": {
      "image/png": "[encoded data removed]",
      "text/plain": [
       "<Figure size 432x288 with 1 Axes>"
      ]
     },
     "metadata": {
      "needs_background": "light"
     },
     "output_type": "display_data"
    }
   ],
   "source": [
    "data_calls['month'] = pd.DatetimeIndex(data_calls['call_date']).month\n",
    "data_calls_per_user = data_calls.groupby(['user_id', 'month'])['duration'].sum()\n",
    "data_calls_per_user = data_calls_per_user.to_frame()\n",
    "data_calls_per_user\n",
    "data_calls_per_user.hist()\n",
    "plt.show()"
   ]
  },
  {
   "cell_type": "markdown",
   "metadata": {},
   "source": [
    "The calls are grouped in month as required."
   ]
  },
  {
   "cell_type": "code",
   "execution_count": 5,
   "metadata": {},
   "outputs": [
    {
     "name": "stdout",
     "output_type": "stream",
     "text": [
      "<class 'pandas.core.frame.DataFrame'>\n",
      "RangeIndex: 104825 entries, 0 to 104824\n",
      "Data columns (total 4 columns):\n",
      " #   Column        Non-Null Count   Dtype  \n",
      "---  ------        --------------   -----  \n",
      " 0   id            104825 non-null  object \n",
      " 1   user_id       104825 non-null  int64  \n",
      " 2   session_date  104825 non-null  object \n",
      " 3   mb_used       104825 non-null  float64\n",
      "dtypes: float64(1), int64(1), object(2)\n",
      "memory usage: 3.2+ MB\n"
     ]
    },
    {
     "data": {
      "text/html": [
       "<div>\n",
       "<style scoped>\n",
       "    .dataframe tbody tr th:only-of-type {\n",
       "        vertical-align: middle;\n",
       "    }\n",
       "\n",
       "    .dataframe tbody tr th {\n",
       "        vertical-align: top;\n",
       "    }\n",
       "\n",
       "    .dataframe thead th {\n",
       "        text-align: right;\n",
       "    }\n",
       "</style>\n",
       "<table border=\"1\" class=\"dataframe\">\n",
       "  <thead>\n",
       "    <tr style=\"text-align: right;\">\n",
       "      <th></th>\n",
       "      <th>id</th>\n",
       "      <th>user_id</th>\n",
       "      <th>session_date</th>\n",
       "      <th>mb_used</th>\n",
       "    </tr>\n",
       "  </thead>\n",
       "  <tbody>\n",
       "    <tr>\n",
       "      <th>0</th>\n",
       "      <td>1000_13</td>\n",
       "      <td>1000</td>\n",
       "      <td>2018-12-29</td>\n",
       "      <td>89.86</td>\n",
       "    </tr>\n",
       "    <tr>\n",
       "      <th>1</th>\n",
       "      <td>1000_204</td>\n",
       "      <td>1000</td>\n",
       "      <td>2018-12-31</td>\n",
       "      <td>0.00</td>\n",
       "    </tr>\n",
       "    <tr>\n",
       "      <th>2</th>\n",
       "      <td>1000_379</td>\n",
       "      <td>1000</td>\n",
       "      <td>2018-12-28</td>\n",
       "      <td>660.40</td>\n",
       "    </tr>\n",
       "    <tr>\n",
       "      <th>3</th>\n",
       "      <td>1000_413</td>\n",
       "      <td>1000</td>\n",
       "      <td>2018-12-26</td>\n",
       "      <td>270.99</td>\n",
       "    </tr>\n",
       "    <tr>\n",
       "      <th>4</th>\n",
       "      <td>1000_442</td>\n",
       "      <td>1000</td>\n",
       "      <td>2018-12-27</td>\n",
       "      <td>880.22</td>\n",
       "    </tr>\n",
       "    <tr>\n",
       "      <th>5</th>\n",
       "      <td>1001_0</td>\n",
       "      <td>1001</td>\n",
       "      <td>2018-08-24</td>\n",
       "      <td>284.68</td>\n",
       "    </tr>\n",
       "    <tr>\n",
       "      <th>6</th>\n",
       "      <td>1001_3</td>\n",
       "      <td>1001</td>\n",
       "      <td>2018-12-09</td>\n",
       "      <td>656.04</td>\n",
       "    </tr>\n",
       "    <tr>\n",
       "      <th>7</th>\n",
       "      <td>1001_4</td>\n",
       "      <td>1001</td>\n",
       "      <td>2018-11-04</td>\n",
       "      <td>16.97</td>\n",
       "    </tr>\n",
       "    <tr>\n",
       "      <th>8</th>\n",
       "      <td>1001_10</td>\n",
       "      <td>1001</td>\n",
       "      <td>2018-11-27</td>\n",
       "      <td>135.18</td>\n",
       "    </tr>\n",
       "    <tr>\n",
       "      <th>9</th>\n",
       "      <td>1001_15</td>\n",
       "      <td>1001</td>\n",
       "      <td>2018-12-13</td>\n",
       "      <td>761.92</td>\n",
       "    </tr>\n",
       "  </tbody>\n",
       "</table>\n",
       "</div>"
      ],
      "text/plain": [
       "         id  user_id session_date  mb_used\n",
       "0   1000_13     1000   2018-12-29    89.86\n",
       "1  1000_204     1000   2018-12-31     0.00\n",
       "2  1000_379     1000   2018-12-28   660.40\n",
       "3  1000_413     1000   2018-12-26   270.99\n",
       "4  1000_442     1000   2018-12-27   880.22\n",
       "5    1001_0     1001   2018-08-24   284.68\n",
       "6    1001_3     1001   2018-12-09   656.04\n",
       "7    1001_4     1001   2018-11-04    16.97\n",
       "8   1001_10     1001   2018-11-27   135.18\n",
       "9   1001_15     1001   2018-12-13   761.92"
      ]
     },
     "execution_count": 5,
     "metadata": {},
     "output_type": "execute_result"
    }
   ],
   "source": [
    "data_internet = pd.read_csv('/datasets/megaline_internet.csv')\n",
    "data_internet.columns.str.lower()\n",
    "data_internet.info()\n",
    "data_internet.head(10)"
   ]
  },
  {
   "cell_type": "markdown",
   "metadata": {},
   "source": [
    "The usage of internet is in mb and calculated per day."
   ]
  },
  {
   "cell_type": "code",
   "execution_count": 6,
   "metadata": {},
   "outputs": [
    {
     "data": {
      "image/png": "[encoded data removed]",
      "text/plain": [
       "<Figure size 432x288 with 1 Axes>"
      ]
     },
     "metadata": {
      "needs_background": "light"
     },
     "output_type": "display_data"
    }
   ],
   "source": [
    "data_internet['month'] = pd.DatetimeIndex(data_internet['session_date']).month\n",
    "data_internet_per_user=data_internet.groupby(['user_id','month'])['mb_used'].sum()\n",
    "data_internet_per_user=data_internet_per_user.to_frame()\n",
    "data_internet_per_user\n",
    "data_internet_per_user.hist()\n",
    "plt.show()"
   ]
  },
  {
   "cell_type": "markdown",
   "metadata": {},
   "source": [
    "The information is grouped by month and later on will be converted into gb."
   ]
  },
  {
   "cell_type": "code",
   "execution_count": 7,
   "metadata": {},
   "outputs": [
    {
     "name": "stdout",
     "output_type": "stream",
     "text": [
      "<class 'pandas.core.frame.DataFrame'>\n",
      "RangeIndex: 76051 entries, 0 to 76050\n",
      "Data columns (total 3 columns):\n",
      " #   Column        Non-Null Count  Dtype \n",
      "---  ------        --------------  ----- \n",
      " 0   messages      76051 non-null  object\n",
      " 1   user_id       76051 non-null  int64 \n",
      " 2   message_date  76051 non-null  object\n",
      "dtypes: int64(1), object(2)\n",
      "memory usage: 1.7+ MB\n"
     ]
    },
    {
     "data": {
      "text/html": [
       "<div>\n",
       "<style scoped>\n",
       "    .dataframe tbody tr th:only-of-type {\n",
       "        vertical-align: middle;\n",
       "    }\n",
       "\n",
       "    .dataframe tbody tr th {\n",
       "        vertical-align: top;\n",
       "    }\n",
       "\n",
       "    .dataframe thead th {\n",
       "        text-align: right;\n",
       "    }\n",
       "</style>\n",
       "<table border=\"1\" class=\"dataframe\">\n",
       "  <thead>\n",
       "    <tr style=\"text-align: right;\">\n",
       "      <th></th>\n",
       "      <th>messages</th>\n",
       "      <th>user_id</th>\n",
       "      <th>message_date</th>\n",
       "    </tr>\n",
       "  </thead>\n",
       "  <tbody>\n",
       "    <tr>\n",
       "      <th>0</th>\n",
       "      <td>1000_125</td>\n",
       "      <td>1000</td>\n",
       "      <td>2018-12-27</td>\n",
       "    </tr>\n",
       "    <tr>\n",
       "      <th>1</th>\n",
       "      <td>1000_160</td>\n",
       "      <td>1000</td>\n",
       "      <td>2018-12-31</td>\n",
       "    </tr>\n",
       "    <tr>\n",
       "      <th>2</th>\n",
       "      <td>1000_223</td>\n",
       "      <td>1000</td>\n",
       "      <td>2018-12-31</td>\n",
       "    </tr>\n",
       "    <tr>\n",
       "      <th>3</th>\n",
       "      <td>1000_251</td>\n",
       "      <td>1000</td>\n",
       "      <td>2018-12-27</td>\n",
       "    </tr>\n",
       "    <tr>\n",
       "      <th>4</th>\n",
       "      <td>1000_255</td>\n",
       "      <td>1000</td>\n",
       "      <td>2018-12-26</td>\n",
       "    </tr>\n",
       "    <tr>\n",
       "      <th>5</th>\n",
       "      <td>1000_346</td>\n",
       "      <td>1000</td>\n",
       "      <td>2018-12-29</td>\n",
       "    </tr>\n",
       "    <tr>\n",
       "      <th>6</th>\n",
       "      <td>1000_386</td>\n",
       "      <td>1000</td>\n",
       "      <td>2018-12-30</td>\n",
       "    </tr>\n",
       "    <tr>\n",
       "      <th>7</th>\n",
       "      <td>1000_413</td>\n",
       "      <td>1000</td>\n",
       "      <td>2018-12-31</td>\n",
       "    </tr>\n",
       "    <tr>\n",
       "      <th>8</th>\n",
       "      <td>1000_502</td>\n",
       "      <td>1000</td>\n",
       "      <td>2018-12-27</td>\n",
       "    </tr>\n",
       "    <tr>\n",
       "      <th>9</th>\n",
       "      <td>1000_525</td>\n",
       "      <td>1000</td>\n",
       "      <td>2018-12-28</td>\n",
       "    </tr>\n",
       "  </tbody>\n",
       "</table>\n",
       "</div>"
      ],
      "text/plain": [
       "   messages  user_id message_date\n",
       "0  1000_125     1000   2018-12-27\n",
       "1  1000_160     1000   2018-12-31\n",
       "2  1000_223     1000   2018-12-31\n",
       "3  1000_251     1000   2018-12-27\n",
       "4  1000_255     1000   2018-12-26\n",
       "5  1000_346     1000   2018-12-29\n",
       "6  1000_386     1000   2018-12-30\n",
       "7  1000_413     1000   2018-12-31\n",
       "8  1000_502     1000   2018-12-27\n",
       "9  1000_525     1000   2018-12-28"
      ]
     },
     "execution_count": 7,
     "metadata": {},
     "output_type": "execute_result"
    }
   ],
   "source": [
    "data_messages = pd.read_csv('/datasets/megaline_messages.csv')\n",
    "data_messages.columns.str.lower()\n",
    "data_messages = data_messages.rename(columns = {'id' : 'messages'})\n",
    "data_messages.info()\n",
    "data_messages.head(10)"
   ]
  },
  {
   "cell_type": "markdown",
   "metadata": {},
   "source": [
    "The messages are simply counted each time a message is sent."
   ]
  },
  {
   "cell_type": "code",
   "execution_count": 8,
   "metadata": {},
   "outputs": [
    {
     "data": {
      "image/png": "[encoded data removed]",
      "text/plain": [
       "<Figure size 432x288 with 1 Axes>"
      ]
     },
     "metadata": {
      "needs_background": "light"
     },
     "output_type": "display_data"
    }
   ],
   "source": [
    "data_messages['month'] = pd.DatetimeIndex(data_messages['message_date']).month\n",
    "data_messages_per_user = data_messages.groupby(['user_id', 'month'])['messages'].count()\n",
    "data_messages_per_user = data_messages_per_user.to_frame()\n",
    "data_messages_per_user\n",
    "data_messages_per_user.hist()\n",
    "plt.show()"
   ]
  },
  {
   "cell_type": "markdown",
   "metadata": {},
   "source": [
    "I counted the messages per month."
   ]
  },
  {
   "cell_type": "code",
   "execution_count": 9,
   "metadata": {},
   "outputs": [
    {
     "name": "stdout",
     "output_type": "stream",
     "text": [
      "<class 'pandas.core.frame.DataFrame'>\n",
      "RangeIndex: 500 entries, 0 to 499\n",
      "Data columns (total 8 columns):\n",
      " #   Column      Non-Null Count  Dtype \n",
      "---  ------      --------------  ----- \n",
      " 0   user_id     500 non-null    int64 \n",
      " 1   first_name  500 non-null    object\n",
      " 2   last_name   500 non-null    object\n",
      " 3   age         500 non-null    int64 \n",
      " 4   city        500 non-null    object\n",
      " 5   reg_date    500 non-null    object\n",
      " 6   plan        500 non-null    object\n",
      " 7   churn_date  34 non-null     object\n",
      "dtypes: int64(2), object(6)\n",
      "memory usage: 31.4+ KB\n"
     ]
    },
    {
     "data": {
      "text/html": [
       "<div>\n",
       "<style scoped>\n",
       "    .dataframe tbody tr th:only-of-type {\n",
       "        vertical-align: middle;\n",
       "    }\n",
       "\n",
       "    .dataframe tbody tr th {\n",
       "        vertical-align: top;\n",
       "    }\n",
       "\n",
       "    .dataframe thead th {\n",
       "        text-align: right;\n",
       "    }\n",
       "</style>\n",
       "<table border=\"1\" class=\"dataframe\">\n",
       "  <thead>\n",
       "    <tr style=\"text-align: right;\">\n",
       "      <th></th>\n",
       "      <th>user_id</th>\n",
       "      <th>plan</th>\n",
       "    </tr>\n",
       "  </thead>\n",
       "  <tbody>\n",
       "    <tr>\n",
       "      <th>0</th>\n",
       "      <td>1000</td>\n",
       "      <td>ultimate</td>\n",
       "    </tr>\n",
       "    <tr>\n",
       "      <th>1</th>\n",
       "      <td>1001</td>\n",
       "      <td>surf</td>\n",
       "    </tr>\n",
       "    <tr>\n",
       "      <th>2</th>\n",
       "      <td>1002</td>\n",
       "      <td>surf</td>\n",
       "    </tr>\n",
       "    <tr>\n",
       "      <th>3</th>\n",
       "      <td>1003</td>\n",
       "      <td>surf</td>\n",
       "    </tr>\n",
       "    <tr>\n",
       "      <th>4</th>\n",
       "      <td>1004</td>\n",
       "      <td>surf</td>\n",
       "    </tr>\n",
       "    <tr>\n",
       "      <th>...</th>\n",
       "      <td>...</td>\n",
       "      <td>...</td>\n",
       "    </tr>\n",
       "    <tr>\n",
       "      <th>495</th>\n",
       "      <td>1495</td>\n",
       "      <td>surf</td>\n",
       "    </tr>\n",
       "    <tr>\n",
       "      <th>496</th>\n",
       "      <td>1496</td>\n",
       "      <td>surf</td>\n",
       "    </tr>\n",
       "    <tr>\n",
       "      <th>497</th>\n",
       "      <td>1497</td>\n",
       "      <td>ultimate</td>\n",
       "    </tr>\n",
       "    <tr>\n",
       "      <th>498</th>\n",
       "      <td>1498</td>\n",
       "      <td>surf</td>\n",
       "    </tr>\n",
       "    <tr>\n",
       "      <th>499</th>\n",
       "      <td>1499</td>\n",
       "      <td>surf</td>\n",
       "    </tr>\n",
       "  </tbody>\n",
       "</table>\n",
       "<p>500 rows × 2 columns</p>\n",
       "</div>"
      ],
      "text/plain": [
       "     user_id      plan\n",
       "0       1000  ultimate\n",
       "1       1001      surf\n",
       "2       1002      surf\n",
       "3       1003      surf\n",
       "4       1004      surf\n",
       "..       ...       ...\n",
       "495     1495      surf\n",
       "496     1496      surf\n",
       "497     1497  ultimate\n",
       "498     1498      surf\n",
       "499     1499      surf\n",
       "\n",
       "[500 rows x 2 columns]"
      ]
     },
     "execution_count": 9,
     "metadata": {},
     "output_type": "execute_result"
    }
   ],
   "source": [
    "data_users = pd.read_csv('/datasets/megaline_users.csv')\n",
    "data_users.columns.str.lower()\n",
    "data_users.info()\n",
    "data_users.head(10)\n",
    "data_users[['user_id', 'plan']]"
   ]
  },
  {
   "cell_type": "markdown",
   "metadata": {},
   "source": [
    "The users are separated into two groups, surf (the cheaper one) and ultimate (the expensive one)."
   ]
  },
  {
   "cell_type": "code",
   "execution_count": 10,
   "metadata": {},
   "outputs": [
    {
     "name": "stdout",
     "output_type": "stream",
     "text": [
      "<class 'pandas.core.frame.DataFrame'>\n",
      "RangeIndex: 2 entries, 0 to 1\n",
      "Data columns (total 8 columns):\n",
      " #   Column                 Non-Null Count  Dtype  \n",
      "---  ------                 --------------  -----  \n",
      " 0   messages_included      2 non-null      int64  \n",
      " 1   mb_per_month_included  2 non-null      int64  \n",
      " 2   minutes_included       2 non-null      int64  \n",
      " 3   usd_monthly_pay        2 non-null      int64  \n",
      " 4   usd_per_gb             2 non-null      int64  \n",
      " 5   usd_per_message        2 non-null      float64\n",
      " 6   usd_per_minute         2 non-null      float64\n",
      " 7   plan_name              2 non-null      object \n",
      "dtypes: float64(2), int64(5), object(1)\n",
      "memory usage: 256.0+ bytes\n"
     ]
    },
    {
     "data": {
      "text/html": [
       "<div>\n",
       "<style scoped>\n",
       "    .dataframe tbody tr th:only-of-type {\n",
       "        vertical-align: middle;\n",
       "    }\n",
       "\n",
       "    .dataframe tbody tr th {\n",
       "        vertical-align: top;\n",
       "    }\n",
       "\n",
       "    .dataframe thead th {\n",
       "        text-align: right;\n",
       "    }\n",
       "</style>\n",
       "<table border=\"1\" class=\"dataframe\">\n",
       "  <thead>\n",
       "    <tr style=\"text-align: right;\">\n",
       "      <th></th>\n",
       "      <th>messages_included</th>\n",
       "      <th>mb_per_month_included</th>\n",
       "      <th>minutes_included</th>\n",
       "      <th>usd_monthly_pay</th>\n",
       "      <th>usd_per_gb</th>\n",
       "      <th>usd_per_message</th>\n",
       "      <th>usd_per_minute</th>\n",
       "      <th>plan_name</th>\n",
       "    </tr>\n",
       "  </thead>\n",
       "  <tbody>\n",
       "    <tr>\n",
       "      <th>0</th>\n",
       "      <td>50</td>\n",
       "      <td>15360</td>\n",
       "      <td>500</td>\n",
       "      <td>20</td>\n",
       "      <td>10</td>\n",
       "      <td>0.03</td>\n",
       "      <td>0.03</td>\n",
       "      <td>surf</td>\n",
       "    </tr>\n",
       "    <tr>\n",
       "      <th>1</th>\n",
       "      <td>1000</td>\n",
       "      <td>30720</td>\n",
       "      <td>3000</td>\n",
       "      <td>70</td>\n",
       "      <td>7</td>\n",
       "      <td>0.01</td>\n",
       "      <td>0.01</td>\n",
       "      <td>ultimate</td>\n",
       "    </tr>\n",
       "  </tbody>\n",
       "</table>\n",
       "</div>"
      ],
      "text/plain": [
       "   messages_included  mb_per_month_included  minutes_included  \\\n",
       "0                 50                  15360               500   \n",
       "1               1000                  30720              3000   \n",
       "\n",
       "   usd_monthly_pay  usd_per_gb  usd_per_message  usd_per_minute plan_name  \n",
       "0               20          10             0.03            0.03      surf  \n",
       "1               70           7             0.01            0.01  ultimate  "
      ]
     },
     "execution_count": 10,
     "metadata": {},
     "output_type": "execute_result"
    }
   ],
   "source": [
    "data_plans = pd.read_csv('/datasets/megaline_plans.csv')\n",
    "data_plans.columns.str.lower()\n",
    "data_plans.info()\n",
    "data_plans.head(10)"
   ]
  },
  {
   "cell_type": "markdown",
   "metadata": {},
   "source": [
    "The plans explained."
   ]
  },
  {
   "cell_type": "code",
   "execution_count": 11,
   "metadata": {},
   "outputs": [],
   "source": [
    "data_internet_per_user['mb_used'] = data_internet_per_user['mb_used'].apply(np.ceil)\n",
    "data_internet_per_user = data_internet_per_user.rename(columns = {'mb_used' : 'gb_used'})\n",
    "data_internet_per_user['gb_used'] = (data_internet_per_user['gb_used'] / 1024).apply(np.ceil)"
   ]
  },
  {
   "cell_type": "markdown",
   "metadata": {},
   "source": [
    "Converting mb into gb and rounding the numbers as requested."
   ]
  },
  {
   "cell_type": "code",
   "execution_count": 12,
   "metadata": {},
   "outputs": [],
   "source": [
    "cluster_0 = pd.merge(left = data_internet_per_user, right = data_calls_per_user,\n",
    "                     how = 'outer' ,on = ['user_id', 'month']).fillna(0)\n",
    "cluster_1 = pd.merge(left = cluster_0, right = data_messages_per_user,\n",
    "                     how = 'outer' ,on = ['user_id', 'month']).fillna(0)\n",
    "cluster_2 =  pd.merge(left = cluster_1, right = data_users[['user_id', 'plan']],\n",
    "                     how = 'outer' ,on = 'user_id').fillna(0)"
   ]
  },
  {
   "cell_type": "markdown",
   "metadata": {},
   "source": [
    "Merging the data."
   ]
  },
  {
   "cell_type": "code",
   "execution_count": 13,
   "metadata": {},
   "outputs": [
    {
     "data": {
      "text/html": [
       "<div>\n",
       "<style scoped>\n",
       "    .dataframe tbody tr th:only-of-type {\n",
       "        vertical-align: middle;\n",
       "    }\n",
       "\n",
       "    .dataframe tbody tr th {\n",
       "        vertical-align: top;\n",
       "    }\n",
       "\n",
       "    .dataframe thead th {\n",
       "        text-align: right;\n",
       "    }\n",
       "</style>\n",
       "<table border=\"1\" class=\"dataframe\">\n",
       "  <thead>\n",
       "    <tr style=\"text-align: right;\">\n",
       "      <th></th>\n",
       "      <th>user_id</th>\n",
       "      <th>gb_used</th>\n",
       "      <th>duration</th>\n",
       "      <th>messages</th>\n",
       "      <th>plan</th>\n",
       "    </tr>\n",
       "  </thead>\n",
       "  <tbody>\n",
       "    <tr>\n",
       "      <th>0</th>\n",
       "      <td>1000</td>\n",
       "      <td>2.0</td>\n",
       "      <td>124.0</td>\n",
       "      <td>11.0</td>\n",
       "      <td>ultimate</td>\n",
       "    </tr>\n",
       "    <tr>\n",
       "      <th>1</th>\n",
       "      <td>1001</td>\n",
       "      <td>7.0</td>\n",
       "      <td>182.0</td>\n",
       "      <td>30.0</td>\n",
       "      <td>surf</td>\n",
       "    </tr>\n",
       "    <tr>\n",
       "      <th>2</th>\n",
       "      <td>1001</td>\n",
       "      <td>14.0</td>\n",
       "      <td>315.0</td>\n",
       "      <td>44.0</td>\n",
       "      <td>surf</td>\n",
       "    </tr>\n",
       "    <tr>\n",
       "      <th>3</th>\n",
       "      <td>1001</td>\n",
       "      <td>22.0</td>\n",
       "      <td>393.0</td>\n",
       "      <td>53.0</td>\n",
       "      <td>surf</td>\n",
       "    </tr>\n",
       "    <tr>\n",
       "      <th>4</th>\n",
       "      <td>1001</td>\n",
       "      <td>19.0</td>\n",
       "      <td>426.0</td>\n",
       "      <td>36.0</td>\n",
       "      <td>surf</td>\n",
       "    </tr>\n",
       "    <tr>\n",
       "      <th>...</th>\n",
       "      <td>...</td>\n",
       "      <td>...</td>\n",
       "      <td>...</td>\n",
       "      <td>...</td>\n",
       "      <td>...</td>\n",
       "    </tr>\n",
       "    <tr>\n",
       "      <th>2298</th>\n",
       "      <td>1307</td>\n",
       "      <td>0.0</td>\n",
       "      <td>0.0</td>\n",
       "      <td>0.0</td>\n",
       "      <td>surf</td>\n",
       "    </tr>\n",
       "    <tr>\n",
       "      <th>2299</th>\n",
       "      <td>1319</td>\n",
       "      <td>0.0</td>\n",
       "      <td>0.0</td>\n",
       "      <td>0.0</td>\n",
       "      <td>surf</td>\n",
       "    </tr>\n",
       "    <tr>\n",
       "      <th>2300</th>\n",
       "      <td>1378</td>\n",
       "      <td>0.0</td>\n",
       "      <td>0.0</td>\n",
       "      <td>0.0</td>\n",
       "      <td>surf</td>\n",
       "    </tr>\n",
       "    <tr>\n",
       "      <th>2301</th>\n",
       "      <td>1463</td>\n",
       "      <td>0.0</td>\n",
       "      <td>0.0</td>\n",
       "      <td>0.0</td>\n",
       "      <td>ultimate</td>\n",
       "    </tr>\n",
       "    <tr>\n",
       "      <th>2302</th>\n",
       "      <td>1473</td>\n",
       "      <td>0.0</td>\n",
       "      <td>0.0</td>\n",
       "      <td>0.0</td>\n",
       "      <td>surf</td>\n",
       "    </tr>\n",
       "  </tbody>\n",
       "</table>\n",
       "<p>2303 rows × 5 columns</p>\n",
       "</div>"
      ],
      "text/plain": [
       "      user_id  gb_used  duration  messages      plan\n",
       "0        1000      2.0     124.0      11.0  ultimate\n",
       "1        1001      7.0     182.0      30.0      surf\n",
       "2        1001     14.0     315.0      44.0      surf\n",
       "3        1001     22.0     393.0      53.0      surf\n",
       "4        1001     19.0     426.0      36.0      surf\n",
       "...       ...      ...       ...       ...       ...\n",
       "2298     1307      0.0       0.0       0.0      surf\n",
       "2299     1319      0.0       0.0       0.0      surf\n",
       "2300     1378      0.0       0.0       0.0      surf\n",
       "2301     1463      0.0       0.0       0.0  ultimate\n",
       "2302     1473      0.0       0.0       0.0      surf\n",
       "\n",
       "[2303 rows x 5 columns]"
      ]
     },
     "execution_count": 13,
     "metadata": {},
     "output_type": "execute_result"
    }
   ],
   "source": [
    "cluster_2"
   ]
  },
  {
   "cell_type": "code",
   "execution_count": 14,
   "metadata": {},
   "outputs": [
    {
     "data": {
      "text/plain": [
       "user_id     0.0\n",
       "gb_used     0.0\n",
       "duration    0.0\n",
       "messages    0.0\n",
       "plan        0.0\n",
       "dtype: float64"
      ]
     },
     "execution_count": 14,
     "metadata": {},
     "output_type": "execute_result"
    }
   ],
   "source": [
    "cluster_2.isna().sum()*100/len(cluster_2)\n",
    "pd.DataFrame(round((cluster_2.isna().mean()*100),2)).style.background_gradient('coolwarm')\n",
    "cluster_2.isna().mean() * 100"
   ]
  },
  {
   "cell_type": "markdown",
   "metadata": {},
   "source": [
    "Checking for missing information."
   ]
  },
  {
   "cell_type": "code",
   "execution_count": 15,
   "metadata": {},
   "outputs": [
    {
     "data": {
      "text/html": [
       "<div>\n",
       "<style scoped>\n",
       "    .dataframe tbody tr th:only-of-type {\n",
       "        vertical-align: middle;\n",
       "    }\n",
       "\n",
       "    .dataframe tbody tr th {\n",
       "        vertical-align: top;\n",
       "    }\n",
       "\n",
       "    .dataframe thead th {\n",
       "        text-align: right;\n",
       "    }\n",
       "</style>\n",
       "<table border=\"1\" class=\"dataframe\">\n",
       "  <thead>\n",
       "    <tr style=\"text-align: right;\">\n",
       "      <th></th>\n",
       "      <th>index</th>\n",
       "      <th>user_id</th>\n",
       "      <th>gb_used</th>\n",
       "      <th>duration</th>\n",
       "      <th>messages</th>\n",
       "      <th>plan</th>\n",
       "    </tr>\n",
       "  </thead>\n",
       "  <tbody>\n",
       "    <tr>\n",
       "      <th>0</th>\n",
       "      <td>0</td>\n",
       "      <td>1000</td>\n",
       "      <td>2.0</td>\n",
       "      <td>124.0</td>\n",
       "      <td>11.0</td>\n",
       "      <td>ultimate</td>\n",
       "    </tr>\n",
       "    <tr>\n",
       "      <th>1</th>\n",
       "      <td>1</td>\n",
       "      <td>1001</td>\n",
       "      <td>7.0</td>\n",
       "      <td>182.0</td>\n",
       "      <td>30.0</td>\n",
       "      <td>surf</td>\n",
       "    </tr>\n",
       "    <tr>\n",
       "      <th>2</th>\n",
       "      <td>2</td>\n",
       "      <td>1001</td>\n",
       "      <td>14.0</td>\n",
       "      <td>315.0</td>\n",
       "      <td>44.0</td>\n",
       "      <td>surf</td>\n",
       "    </tr>\n",
       "    <tr>\n",
       "      <th>3</th>\n",
       "      <td>3</td>\n",
       "      <td>1001</td>\n",
       "      <td>22.0</td>\n",
       "      <td>393.0</td>\n",
       "      <td>53.0</td>\n",
       "      <td>surf</td>\n",
       "    </tr>\n",
       "    <tr>\n",
       "      <th>4</th>\n",
       "      <td>4</td>\n",
       "      <td>1001</td>\n",
       "      <td>19.0</td>\n",
       "      <td>426.0</td>\n",
       "      <td>36.0</td>\n",
       "      <td>surf</td>\n",
       "    </tr>\n",
       "    <tr>\n",
       "      <th>...</th>\n",
       "      <td>...</td>\n",
       "      <td>...</td>\n",
       "      <td>...</td>\n",
       "      <td>...</td>\n",
       "      <td>...</td>\n",
       "      <td>...</td>\n",
       "    </tr>\n",
       "    <tr>\n",
       "      <th>2296</th>\n",
       "      <td>2298</td>\n",
       "      <td>1307</td>\n",
       "      <td>0.0</td>\n",
       "      <td>0.0</td>\n",
       "      <td>0.0</td>\n",
       "      <td>surf</td>\n",
       "    </tr>\n",
       "    <tr>\n",
       "      <th>2297</th>\n",
       "      <td>2299</td>\n",
       "      <td>1319</td>\n",
       "      <td>0.0</td>\n",
       "      <td>0.0</td>\n",
       "      <td>0.0</td>\n",
       "      <td>surf</td>\n",
       "    </tr>\n",
       "    <tr>\n",
       "      <th>2298</th>\n",
       "      <td>2300</td>\n",
       "      <td>1378</td>\n",
       "      <td>0.0</td>\n",
       "      <td>0.0</td>\n",
       "      <td>0.0</td>\n",
       "      <td>surf</td>\n",
       "    </tr>\n",
       "    <tr>\n",
       "      <th>2299</th>\n",
       "      <td>2301</td>\n",
       "      <td>1463</td>\n",
       "      <td>0.0</td>\n",
       "      <td>0.0</td>\n",
       "      <td>0.0</td>\n",
       "      <td>ultimate</td>\n",
       "    </tr>\n",
       "    <tr>\n",
       "      <th>2300</th>\n",
       "      <td>2302</td>\n",
       "      <td>1473</td>\n",
       "      <td>0.0</td>\n",
       "      <td>0.0</td>\n",
       "      <td>0.0</td>\n",
       "      <td>surf</td>\n",
       "    </tr>\n",
       "  </tbody>\n",
       "</table>\n",
       "<p>2301 rows × 6 columns</p>\n",
       "</div>"
      ],
      "text/plain": [
       "      index  user_id  gb_used  duration  messages      plan\n",
       "0         0     1000      2.0     124.0      11.0  ultimate\n",
       "1         1     1001      7.0     182.0      30.0      surf\n",
       "2         2     1001     14.0     315.0      44.0      surf\n",
       "3         3     1001     22.0     393.0      53.0      surf\n",
       "4         4     1001     19.0     426.0      36.0      surf\n",
       "...     ...      ...      ...       ...       ...       ...\n",
       "2296   2298     1307      0.0       0.0       0.0      surf\n",
       "2297   2299     1319      0.0       0.0       0.0      surf\n",
       "2298   2300     1378      0.0       0.0       0.0      surf\n",
       "2299   2301     1463      0.0       0.0       0.0  ultimate\n",
       "2300   2302     1473      0.0       0.0       0.0      surf\n",
       "\n",
       "[2301 rows x 6 columns]"
      ]
     },
     "execution_count": 15,
     "metadata": {},
     "output_type": "execute_result"
    }
   ],
   "source": [
    "cluster_2.drop_duplicates().reset_index()"
   ]
  },
  {
   "cell_type": "markdown",
   "metadata": {},
   "source": [
    "Dropping duplicates."
   ]
  },
  {
   "cell_type": "code",
   "execution_count": 16,
   "metadata": {},
   "outputs": [],
   "source": [
    "def cost(row):\n",
    "    internet = row['gb_used']\n",
    "    calls = row['duration']\n",
    "    messages = row['messages']\n",
    "    plan = row['plan']\n",
    "    if plan == 'ultimate':\n",
    "        plan_cost = 70\n",
    "    else:\n",
    "        plan_cost = 20\n",
    "    if  internet > 30 and plan == 'ultimate':\n",
    "        Excess_Internet = internet % 30\n",
    "        internet_cost = Excess_Internet * 7\n",
    "    else:\n",
    "        internet_cost = 0\n",
    "    if  internet > 15 and plan == 'surf':\n",
    "        Excess_Internet = internet % 15\n",
    "        internet_cost = Excess_Internet * 10\n",
    "    else:\n",
    "        internet_cost = 0\n",
    "    if  calls > 3000 and plan == 'ultimate':\n",
    "        excess_calls = calls % 3000\n",
    "        calls_cost = Excess_calls * 0.01\n",
    "    else:\n",
    "        calls_cost = 0\n",
    "    if  calls > 500 and plan == 'surf':\n",
    "        excess_calls = calls % 500\n",
    "        calls_cost = excess_calls * 0.03\n",
    "    else:\n",
    "        calls_cost = 0\n",
    "    if  messages > 1000 and plan == 'ultimate':\n",
    "        excess_messages = messages % 1000\n",
    "        messages_cost = Excess_messages * 0.01\n",
    "    else:\n",
    "        messages_cost = 0\n",
    "    if  messages > 50 and plan == 'surf':\n",
    "        excess_messages = messages % 50\n",
    "        messages_cost = excess_messages * 0.03\n",
    "    else:\n",
    "        messages_cost = 0\n",
    "    total_cost = messages_cost + calls_cost + internet_cost + plan_cost\n",
    "    return total_cost"
   ]
  },
  {
   "cell_type": "markdown",
   "metadata": {},
   "source": [
    "Calculating all the revenue from each user with the specified costs."
   ]
  },
  {
   "cell_type": "code",
   "execution_count": 17,
   "metadata": {},
   "outputs": [
    {
     "data": {
      "text/plain": [
       "plan\n",
       "surf        [7.0, 14.0, 22.0, 19.0, 15.0, 27.0, 21.0, 24.0...\n",
       "ultimate    [2.0, 3.0, 32.0, 17.0, 24.0, 15.0, 7.0, 21.0, ...\n",
       "Name: gb_used, dtype: object"
      ]
     },
     "execution_count": 17,
     "metadata": {},
     "output_type": "execute_result"
    }
   ],
   "source": [
    "cluster_2['total_cost'] = cluster_2.apply(cost, axis=1)\n",
    "cluster_2.groupby(['plan'])['gb_used'].unique()"
   ]
  },
  {
   "cell_type": "code",
   "execution_count": 18,
   "metadata": {},
   "outputs": [
    {
     "data": {
      "text/html": [
       "<div>\n",
       "<style scoped>\n",
       "    .dataframe tbody tr th:only-of-type {\n",
       "        vertical-align: middle;\n",
       "    }\n",
       "\n",
       "    .dataframe tbody tr th {\n",
       "        vertical-align: top;\n",
       "    }\n",
       "\n",
       "    .dataframe thead th {\n",
       "        text-align: right;\n",
       "    }\n",
       "</style>\n",
       "<table border=\"1\" class=\"dataframe\">\n",
       "  <thead>\n",
       "    <tr style=\"text-align: right;\">\n",
       "      <th></th>\n",
       "      <th>user_id</th>\n",
       "      <th>gb_used</th>\n",
       "      <th>duration</th>\n",
       "      <th>messages</th>\n",
       "      <th>total_cost</th>\n",
       "    </tr>\n",
       "  </thead>\n",
       "  <tbody>\n",
       "    <tr>\n",
       "      <th>count</th>\n",
       "      <td>2303.000000</td>\n",
       "      <td>2303.000000</td>\n",
       "      <td>2303.000000</td>\n",
       "      <td>2303.000000</td>\n",
       "      <td>2303.000000</td>\n",
       "    </tr>\n",
       "    <tr>\n",
       "      <th>mean</th>\n",
       "      <td>1246.214937</td>\n",
       "      <td>16.797221</td>\n",
       "      <td>427.419453</td>\n",
       "      <td>33.022579</td>\n",
       "      <td>57.830734</td>\n",
       "    </tr>\n",
       "    <tr>\n",
       "      <th>std</th>\n",
       "      <td>143.044136</td>\n",
       "      <td>7.857946</td>\n",
       "      <td>237.490294</td>\n",
       "      <td>34.065907</td>\n",
       "      <td>31.849554</td>\n",
       "    </tr>\n",
       "    <tr>\n",
       "      <th>min</th>\n",
       "      <td>1000.000000</td>\n",
       "      <td>0.000000</td>\n",
       "      <td>0.000000</td>\n",
       "      <td>0.000000</td>\n",
       "      <td>20.000000</td>\n",
       "    </tr>\n",
       "    <tr>\n",
       "      <th>25%</th>\n",
       "      <td>1122.000000</td>\n",
       "      <td>12.000000</td>\n",
       "      <td>262.500000</td>\n",
       "      <td>3.000000</td>\n",
       "      <td>22.670000</td>\n",
       "    </tr>\n",
       "    <tr>\n",
       "      <th>50%</th>\n",
       "      <td>1245.000000</td>\n",
       "      <td>17.000000</td>\n",
       "      <td>424.000000</td>\n",
       "      <td>25.000000</td>\n",
       "      <td>70.000000</td>\n",
       "    </tr>\n",
       "    <tr>\n",
       "      <th>75%</th>\n",
       "      <td>1368.000000</td>\n",
       "      <td>21.000000</td>\n",
       "      <td>571.500000</td>\n",
       "      <td>51.000000</td>\n",
       "      <td>70.000000</td>\n",
       "    </tr>\n",
       "    <tr>\n",
       "      <th>max</th>\n",
       "      <td>1499.000000</td>\n",
       "      <td>70.000000</td>\n",
       "      <td>1510.000000</td>\n",
       "      <td>266.000000</td>\n",
       "      <td>168.910000</td>\n",
       "    </tr>\n",
       "  </tbody>\n",
       "</table>\n",
       "</div>"
      ],
      "text/plain": [
       "           user_id      gb_used     duration     messages   total_cost\n",
       "count  2303.000000  2303.000000  2303.000000  2303.000000  2303.000000\n",
       "mean   1246.214937    16.797221   427.419453    33.022579    57.830734\n",
       "std     143.044136     7.857946   237.490294    34.065907    31.849554\n",
       "min    1000.000000     0.000000     0.000000     0.000000    20.000000\n",
       "25%    1122.000000    12.000000   262.500000     3.000000    22.670000\n",
       "50%    1245.000000    17.000000   424.000000    25.000000    70.000000\n",
       "75%    1368.000000    21.000000   571.500000    51.000000    70.000000\n",
       "max    1499.000000    70.000000  1510.000000   266.000000   168.910000"
      ]
     },
     "execution_count": 18,
     "metadata": {},
     "output_type": "execute_result"
    }
   ],
   "source": [
    "cluster_2.describe()"
   ]
  },
  {
   "cell_type": "code",
   "execution_count": 19,
   "metadata": {},
   "outputs": [
    {
     "data": {
      "text/html": [
       "<div>\n",
       "<style scoped>\n",
       "    .dataframe tbody tr th:only-of-type {\n",
       "        vertical-align: middle;\n",
       "    }\n",
       "\n",
       "    .dataframe tbody tr th {\n",
       "        vertical-align: top;\n",
       "    }\n",
       "\n",
       "    .dataframe thead th {\n",
       "        text-align: right;\n",
       "    }\n",
       "</style>\n",
       "<table border=\"1\" class=\"dataframe\">\n",
       "  <thead>\n",
       "    <tr style=\"text-align: right;\">\n",
       "      <th></th>\n",
       "      <th>plan</th>\n",
       "      <th>mean</th>\n",
       "      <th>median</th>\n",
       "    </tr>\n",
       "  </thead>\n",
       "  <tbody>\n",
       "    <tr>\n",
       "      <th>0</th>\n",
       "      <td>surf</td>\n",
       "      <td>52.250906</td>\n",
       "      <td>40.0</td>\n",
       "    </tr>\n",
       "    <tr>\n",
       "      <th>1</th>\n",
       "      <td>ultimate</td>\n",
       "      <td>70.000000</td>\n",
       "      <td>70.0</td>\n",
       "    </tr>\n",
       "  </tbody>\n",
       "</table>\n",
       "</div>"
      ],
      "text/plain": [
       "       plan       mean  median\n",
       "0      surf  52.250906    40.0\n",
       "1  ultimate  70.000000    70.0"
      ]
     },
     "execution_count": 19,
     "metadata": {},
     "output_type": "execute_result"
    }
   ],
   "source": [
    "cluster_2.groupby(['plan'])['total_cost'].agg(['mean', 'median']).reset_index()"
   ]
  },
  {
   "cell_type": "code",
   "execution_count": 20,
   "metadata": {},
   "outputs": [
    {
     "data": {
      "image/png": "[encoded data removed]",
      "text/plain": [
       "<Figure size 432x288 with 2 Axes>"
      ]
     },
     "metadata": {
      "needs_background": "light"
     },
     "output_type": "display_data"
    }
   ],
   "source": [
    "cluster_2.total_cost.hist(by = cluster_2['plan'], bins = 10)\n",
    "plt.show()"
   ]
  },
  {
   "cell_type": "markdown",
   "metadata": {},
   "source": [
    "The surf program is skewed to the right (extra cost for extra use).\n",
    "There is seem to be a problem with the ultimate dispersion but I couldn't find it."
   ]
  },
  {
   "cell_type": "code",
   "execution_count": 21,
   "metadata": {},
   "outputs": [
    {
     "data": {
      "text/plain": [
       "31.84955364184849"
      ]
     },
     "execution_count": 21,
     "metadata": {},
     "output_type": "execute_result"
    }
   ],
   "source": [
    "cluster_2.total_cost.std()"
   ]
  },
  {
   "cell_type": "code",
   "execution_count": 22,
   "metadata": {},
   "outputs": [
    {
     "data": {
      "text/plain": [
       "0.5507374977807206"
      ]
     },
     "execution_count": 22,
     "metadata": {},
     "output_type": "execute_result"
    }
   ],
   "source": [
    "lj = cluster_2.total_cost.std() / cluster_2.total_cost.mean()\n",
    "lj"
   ]
  },
  {
   "cell_type": "code",
   "execution_count": 23,
   "metadata": {},
   "outputs": [],
   "source": [
    "def cluster_2_stat (total_cost):\n",
    "    ax = cluster_2.hist(by = cluster_2['plan'], bins = 11)\n",
    "    mean = cluster_2[total_cost].mean()\n",
    "    std = cluster_2[total_cost].std()\n",
    "    var = cluster_2[total_cost].var()\n",
    "    cv = std / mean\n",
    "    plt.show()\n",
    "    print(\"Average is\", mean)\n",
    "    print(cluster_2.groupby(['plan'])[total_cost].mean())\n",
    "    if cv > 1:\n",
    "        print(\"Varies a lot\")\n",
    "    else:\n",
    "         print(\"Centered around average\")   "
   ]
  },
  {
   "cell_type": "code",
   "execution_count": 24,
   "metadata": {},
   "outputs": [
    {
     "data": {
      "image/png": "[encoded data removed]",
      "text/plain": [
       "<Figure size 432x288 with 2 Axes>"
      ]
     },
     "metadata": {
      "needs_background": "light"
     },
     "output_type": "display_data"
    },
    {
     "name": "stdout",
     "output_type": "stream",
     "text": [
      "Average is 57.830733825445066\n",
      "plan\n",
      "surf        52.250906\n",
      "ultimate    70.000000\n",
      "Name: total_cost, dtype: float64\n",
      "Centered around average\n"
     ]
    }
   ],
   "source": [
    "cluster_2_stat('total_cost')"
   ]
  },
  {
   "cell_type": "markdown",
   "metadata": {},
   "source": [
    "Most users use the amount that was given (maybe less) and few use more than they should (perhaps moving to ultimate is much better for them)."
   ]
  },
  {
   "cell_type": "code",
   "execution_count": 25,
   "metadata": {},
   "outputs": [],
   "source": [
    "surf = cluster_2.query('plan == \"surf\"')\n",
    "ultimate = cluster_2.query('plan == \"ultimate\"')\n",
    "sample0 = surf.total_cost\n",
    "sample1 = ultimate.total_cost"
   ]
  },
  {
   "cell_type": "code",
   "execution_count": 26,
   "metadata": {},
   "outputs": [
    {
     "data": {
      "image/png": "[encoded data removed]",
      "text/plain": [
       "<Figure size 432x288 with 1 Axes>"
      ]
     },
     "metadata": {
      "needs_background": "light"
     },
     "output_type": "display_data"
    }
   ],
   "source": [
    "sample0.hist()\n",
    "plt.show()"
   ]
  },
  {
   "cell_type": "code",
   "execution_count": 27,
   "metadata": {},
   "outputs": [
    {
     "data": {
      "text/plain": [
       "82504.18"
      ]
     },
     "execution_count": 27,
     "metadata": {},
     "output_type": "execute_result"
    }
   ],
   "source": [
    "sample0.sum()\n"
   ]
  },
  {
   "cell_type": "code",
   "execution_count": 28,
   "metadata": {},
   "outputs": [
    {
     "data": {
      "text/plain": [
       "50680.0"
      ]
     },
     "execution_count": 28,
     "metadata": {},
     "output_type": "execute_result"
    }
   ],
   "source": [
    "sample1.sum()"
   ]
  },
  {
   "cell_type": "markdown",
   "metadata": {},
   "source": [
    "The distribution of surf users is quite astonishing, there are plenty of people who exeed their plan and pay exra (probably need to upgrad to the ultimate program)."
   ]
  },
  {
   "cell_type": "code",
   "execution_count": 29,
   "metadata": {},
   "outputs": [
    {
     "data": {
      "image/png": "[encoded data removed]",
      "text/plain": [
       "<Figure size 432x288 with 1 Axes>"
      ]
     },
     "metadata": {
      "needs_background": "light"
     },
     "output_type": "display_data"
    }
   ],
   "source": [
    "sample1.hist()\n",
    "plt.show()"
   ]
  },
  {
   "cell_type": "code",
   "execution_count": 30,
   "metadata": {},
   "outputs": [
    {
     "data": {
      "image/png": "[encoded data removed]",
      "text/plain": [
       "<Figure size 432x288 with 1 Axes>"
      ]
     },
     "metadata": {
      "needs_background": "light"
     },
     "output_type": "display_data"
    }
   ],
   "source": [
    "sns.histplot(cluster_2 ,x='messages',hue='plan')\n",
    "plt.ylabel(\"count\", size=14)\n",
    "plt.xlabel(\"sms\", size=14)\n",
    "plt.title(\"distribution of monthly sms per plan\", size=14)\n",
    "plt.show()"
   ]
  },
  {
   "cell_type": "code",
   "execution_count": 31,
   "metadata": {},
   "outputs": [
    {
     "data": {
      "image/png": "[encoded data removed]",
      "text/plain": [
       "<Figure size 432x288 with 1 Axes>"
      ]
     },
     "metadata": {
      "needs_background": "light"
     },
     "output_type": "display_data"
    }
   ],
   "source": [
    "sns.histplot(cluster_2 ,x='duration',hue='plan')\n",
    "plt.ylabel(\"count\", size=14)\n",
    "plt.xlabel(\"calls\", size=14)\n",
    "plt.title(\"distribution of monthly calls per plan\", size=14)\n",
    "plt.show()"
   ]
  },
  {
   "cell_type": "code",
   "execution_count": 32,
   "metadata": {},
   "outputs": [
    {
     "data": {
      "image/png": "[encoded data removed]",
      "text/plain": [
       "<Figure size 432x288 with 1 Axes>"
      ]
     },
     "metadata": {
      "needs_background": "light"
     },
     "output_type": "display_data"
    }
   ],
   "source": [
    "sns.histplot(cluster_2 ,x='gb_used',hue='plan')\n",
    "plt.ylabel(\"count\", size=14)\n",
    "plt.xlabel(\"gb\", size=14)\n",
    "plt.title(\"distribution of monthly data usage per plan\", size=14)\n",
    "plt.show()"
   ]
  },
  {
   "cell_type": "markdown",
   "metadata": {},
   "source": [
    "There seems to be a problem with my calculation, it's hard to believe each and every person in the ultimate program is kept within its boundaries."
   ]
  },
  {
   "cell_type": "code",
   "execution_count": 33,
   "metadata": {},
   "outputs": [],
   "source": [
    "p_value = stats.ttest_ind(sample0, sample1).pvalue"
   ]
  },
  {
   "cell_type": "markdown",
   "metadata": {},
   "source": [
    "H0: As the assignment requires I need to test the total revenue from each plan. Average of sample 0 is not equel to average of sample 1.\n",
    "    \n",
    "H1: We don't have enough evidance to say that avrages of sample 0 and sample 1 are not the same."
   ]
  },
  {
   "cell_type": "code",
   "execution_count": 34,
   "metadata": {},
   "outputs": [
    {
     "name": "stdout",
     "output_type": "stream",
     "text": [
      "Reject hypotheses: average of sample 0 is not equel to average of sample 1\n"
     ]
    }
   ],
   "source": [
    "p_value = p_value.astype(int)\n",
    "alpha = 0.05\n",
    "if p_value < alpha:\n",
    "    print('Reject hypotheses: average of sample 0 is not equel to average of sample 1')\n",
    "else:\n",
    "    print(\"Fail to reject hypotheses: we don't have enough evidance to say that avrages of sample 0 and sample 1 \\\n",
    "    are not the same\")"
   ]
  },
  {
   "cell_type": "code",
   "execution_count": 35,
   "metadata": {},
   "outputs": [
    {
     "data": {
      "text/html": [
       "<div>\n",
       "<style scoped>\n",
       "    .dataframe tbody tr th:only-of-type {\n",
       "        vertical-align: middle;\n",
       "    }\n",
       "\n",
       "    .dataframe tbody tr th {\n",
       "        vertical-align: top;\n",
       "    }\n",
       "\n",
       "    .dataframe thead th {\n",
       "        text-align: right;\n",
       "    }\n",
       "</style>\n",
       "<table border=\"1\" class=\"dataframe\">\n",
       "  <thead>\n",
       "    <tr style=\"text-align: right;\">\n",
       "      <th></th>\n",
       "      <th>user_id</th>\n",
       "      <th>first_name</th>\n",
       "      <th>last_name</th>\n",
       "      <th>age</th>\n",
       "      <th>city</th>\n",
       "      <th>reg_date</th>\n",
       "      <th>plan</th>\n",
       "      <th>churn_date</th>\n",
       "    </tr>\n",
       "  </thead>\n",
       "  <tbody>\n",
       "    <tr>\n",
       "      <th>0</th>\n",
       "      <td>1000</td>\n",
       "      <td>Anamaria</td>\n",
       "      <td>Bauer</td>\n",
       "      <td>45</td>\n",
       "      <td>Atlanta-Sandy Springs-Roswell, GA MSA</td>\n",
       "      <td>2018-12-24</td>\n",
       "      <td>ultimate</td>\n",
       "      <td>NaN</td>\n",
       "    </tr>\n",
       "    <tr>\n",
       "      <th>1</th>\n",
       "      <td>1001</td>\n",
       "      <td>Mickey</td>\n",
       "      <td>Wilkerson</td>\n",
       "      <td>28</td>\n",
       "      <td>Seattle-Tacoma-Bellevue, WA MSA</td>\n",
       "      <td>2018-08-13</td>\n",
       "      <td>surf</td>\n",
       "      <td>NaN</td>\n",
       "    </tr>\n",
       "    <tr>\n",
       "      <th>2</th>\n",
       "      <td>1002</td>\n",
       "      <td>Carlee</td>\n",
       "      <td>Hoffman</td>\n",
       "      <td>36</td>\n",
       "      <td>Las Vegas-Henderson-Paradise, NV MSA</td>\n",
       "      <td>2018-10-21</td>\n",
       "      <td>surf</td>\n",
       "      <td>NaN</td>\n",
       "    </tr>\n",
       "    <tr>\n",
       "      <th>3</th>\n",
       "      <td>1003</td>\n",
       "      <td>Reynaldo</td>\n",
       "      <td>Jenkins</td>\n",
       "      <td>52</td>\n",
       "      <td>Tulsa, OK MSA</td>\n",
       "      <td>2018-01-28</td>\n",
       "      <td>surf</td>\n",
       "      <td>NaN</td>\n",
       "    </tr>\n",
       "    <tr>\n",
       "      <th>4</th>\n",
       "      <td>1004</td>\n",
       "      <td>Leonila</td>\n",
       "      <td>Thompson</td>\n",
       "      <td>40</td>\n",
       "      <td>Seattle-Tacoma-Bellevue, WA MSA</td>\n",
       "      <td>2018-05-23</td>\n",
       "      <td>surf</td>\n",
       "      <td>NaN</td>\n",
       "    </tr>\n",
       "    <tr>\n",
       "      <th>...</th>\n",
       "      <td>...</td>\n",
       "      <td>...</td>\n",
       "      <td>...</td>\n",
       "      <td>...</td>\n",
       "      <td>...</td>\n",
       "      <td>...</td>\n",
       "      <td>...</td>\n",
       "      <td>...</td>\n",
       "    </tr>\n",
       "    <tr>\n",
       "      <th>495</th>\n",
       "      <td>1495</td>\n",
       "      <td>Fidel</td>\n",
       "      <td>Sharpe</td>\n",
       "      <td>67</td>\n",
       "      <td>New York-Newark-Jersey City, NY-NJ-PA MSA</td>\n",
       "      <td>2018-09-04</td>\n",
       "      <td>surf</td>\n",
       "      <td>NaN</td>\n",
       "    </tr>\n",
       "    <tr>\n",
       "      <th>496</th>\n",
       "      <td>1496</td>\n",
       "      <td>Ariel</td>\n",
       "      <td>Shepherd</td>\n",
       "      <td>49</td>\n",
       "      <td>New Orleans-Metairie, LA MSA</td>\n",
       "      <td>2018-02-20</td>\n",
       "      <td>surf</td>\n",
       "      <td>NaN</td>\n",
       "    </tr>\n",
       "    <tr>\n",
       "      <th>497</th>\n",
       "      <td>1497</td>\n",
       "      <td>Donte</td>\n",
       "      <td>Barrera</td>\n",
       "      <td>49</td>\n",
       "      <td>Los Angeles-Long Beach-Anaheim, CA MSA</td>\n",
       "      <td>2018-12-10</td>\n",
       "      <td>ultimate</td>\n",
       "      <td>NaN</td>\n",
       "    </tr>\n",
       "    <tr>\n",
       "      <th>498</th>\n",
       "      <td>1498</td>\n",
       "      <td>Scot</td>\n",
       "      <td>Williamson</td>\n",
       "      <td>51</td>\n",
       "      <td>New York-Newark-Jersey City, NY-NJ-PA MSA</td>\n",
       "      <td>2018-02-04</td>\n",
       "      <td>surf</td>\n",
       "      <td>NaN</td>\n",
       "    </tr>\n",
       "    <tr>\n",
       "      <th>499</th>\n",
       "      <td>1499</td>\n",
       "      <td>Shena</td>\n",
       "      <td>Dickson</td>\n",
       "      <td>37</td>\n",
       "      <td>Orlando-Kissimmee-Sanford, FL MSA</td>\n",
       "      <td>2018-05-06</td>\n",
       "      <td>surf</td>\n",
       "      <td>NaN</td>\n",
       "    </tr>\n",
       "  </tbody>\n",
       "</table>\n",
       "<p>500 rows × 8 columns</p>\n",
       "</div>"
      ],
      "text/plain": [
       "     user_id first_name   last_name  age  \\\n",
       "0       1000   Anamaria       Bauer   45   \n",
       "1       1001     Mickey   Wilkerson   28   \n",
       "2       1002     Carlee     Hoffman   36   \n",
       "3       1003   Reynaldo     Jenkins   52   \n",
       "4       1004    Leonila    Thompson   40   \n",
       "..       ...        ...         ...  ...   \n",
       "495     1495      Fidel      Sharpe   67   \n",
       "496     1496      Ariel    Shepherd   49   \n",
       "497     1497      Donte     Barrera   49   \n",
       "498     1498       Scot  Williamson   51   \n",
       "499     1499      Shena     Dickson   37   \n",
       "\n",
       "                                          city    reg_date      plan  \\\n",
       "0        Atlanta-Sandy Springs-Roswell, GA MSA  2018-12-24  ultimate   \n",
       "1              Seattle-Tacoma-Bellevue, WA MSA  2018-08-13      surf   \n",
       "2         Las Vegas-Henderson-Paradise, NV MSA  2018-10-21      surf   \n",
       "3                                Tulsa, OK MSA  2018-01-28      surf   \n",
       "4              Seattle-Tacoma-Bellevue, WA MSA  2018-05-23      surf   \n",
       "..                                         ...         ...       ...   \n",
       "495  New York-Newark-Jersey City, NY-NJ-PA MSA  2018-09-04      surf   \n",
       "496               New Orleans-Metairie, LA MSA  2018-02-20      surf   \n",
       "497     Los Angeles-Long Beach-Anaheim, CA MSA  2018-12-10  ultimate   \n",
       "498  New York-Newark-Jersey City, NY-NJ-PA MSA  2018-02-04      surf   \n",
       "499          Orlando-Kissimmee-Sanford, FL MSA  2018-05-06      surf   \n",
       "\n",
       "    churn_date  \n",
       "0          NaN  \n",
       "1          NaN  \n",
       "2          NaN  \n",
       "3          NaN  \n",
       "4          NaN  \n",
       "..         ...  \n",
       "495        NaN  \n",
       "496        NaN  \n",
       "497        NaN  \n",
       "498        NaN  \n",
       "499        NaN  \n",
       "\n",
       "[500 rows x 8 columns]"
      ]
     },
     "execution_count": 35,
     "metadata": {},
     "output_type": "execute_result"
    }
   ],
   "source": [
    "data_users"
   ]
  },
  {
   "cell_type": "code",
   "execution_count": 36,
   "metadata": {},
   "outputs": [],
   "source": [
    "ny_nj_area = ['New York-Newark-Jersey City, NY-NJ-PA MSA',\n",
    "              'Philadelphia-Camden-Wilmington, PA-NJ-DE-MD MSA',\n",
    "             'Buffalo-Cheektowaga, NY MSA', 'Rochester, NY MSA']"
   ]
  },
  {
   "cell_type": "markdown",
   "metadata": {},
   "source": [
    "Specified area for users is selected and gathered."
   ]
  },
  {
   "cell_type": "code",
   "execution_count": 37,
   "metadata": {},
   "outputs": [],
   "source": [
    "the_wanted_area = data_users.query('city == @ny_nj_area')\n",
    "the_rest = data_users.query('city != @ny_nj_area')"
   ]
  },
  {
   "cell_type": "code",
   "execution_count": 38,
   "metadata": {},
   "outputs": [],
   "source": [
    "sample2 = the_wanted_area['user_id'].reset_index()\n",
    "sample3 = the_rest['user_id'].reset_index()"
   ]
  },
  {
   "cell_type": "code",
   "execution_count": 39,
   "metadata": {},
   "outputs": [
    {
     "name": "stderr",
     "output_type": "stream",
     "text": [
      "/home/jovyan/.local/lib/python3.7/site-packages/pandas/core/computation/ops.py:413: FutureWarning: Automatic reindexing on DataFrame vs Series comparisons is deprecated and will raise ValueError in a future version.  Do `left, right = left.align(right, axis=1, copy=False)` before e.g. `left == right`\n",
      "  return self.func(left, right)\n"
     ]
    }
   ],
   "source": [
    "sample2_id = cluster_2.query('@cluster_2.user_id == @sample2')\n",
    "sample3_id = cluster_2.query('@cluster_2.user_id == @sample3')\n",
    "sample2_total = sample2_id.total_cost\n",
    "sample3_total = sample3_id.total_cost"
   ]
  },
  {
   "cell_type": "markdown",
   "metadata": {},
   "source": [
    "Problem with this part unable to filter users by query."
   ]
  },
  {
   "cell_type": "code",
   "execution_count": 40,
   "metadata": {},
   "outputs": [],
   "source": [
    "p_value1 = stats.ttest_ind(sample2_total, sample3_total).pvalue"
   ]
  },
  {
   "cell_type": "markdown",
   "metadata": {},
   "source": [
    "H0: As the assignment requires I need to test the total revenue from users in a certain location compared to the rest of the users. Average of sample 2 is not equel to average of sample 3.\n",
    "\n",
    "H1: We don't have enough evidance to say that avrages of sample 2 and sample 3 are not the same."
   ]
  },
  {
   "cell_type": "code",
   "execution_count": 41,
   "metadata": {},
   "outputs": [
    {
     "name": "stdout",
     "output_type": "stream",
     "text": [
      "Reject hypotheses: average of sample 2 is not equel to average of sample 3\n"
     ]
    }
   ],
   "source": [
    "p_value1 = p_value1.astype(int)\n",
    "alpha = 0.05\n",
    "if p_value1 <= alpha:\n",
    "    print('Reject hypotheses: average of sample 2 is not equel to average of sample 3')\n",
    "else:\n",
    "    print(\"Fail to reject hypotheses: we don't have enough evidance to say that avrages of sample 2 and sample 3 \\\n",
    "    are not the same\")"
   ]
  },
  {
   "cell_type": "code",
   "execution_count": 42,
   "metadata": {},
   "outputs": [
    {
     "data": {
      "text/plain": [
       "-9223372036854775808"
      ]
     },
     "execution_count": 42,
     "metadata": {},
     "output_type": "execute_result"
    }
   ],
   "source": [
    "p_value1"
   ]
  },
  {
   "cell_type": "markdown",
   "metadata": {},
   "source": [
    "The 2 samples show that they are not equal so there is a difference in averages."
   ]
  },
  {
   "cell_type": "markdown",
   "metadata": {},
   "source": [
    "# Conclusion\n",
    "\n",
    "After the investigation several outcomes have been revealed:\n",
    "\n",
    "1. The surf users revenue is 82095.13 while the ultimate revenue is 50680.0 that is quite substantial in favor of the surf plan (that is without calculating how much the company is spending on each call, message and gb).\n",
    "\n",
    "2. It's hard to say which group is more profitable (via location) there seems to be a problem with my query filter.\n",
    "\n",
    "## Overall \n",
    "\n",
    "I suggest that in order to preserve the cliental the company should offer the surf users to move to the ultimate plan but no offer a downgrade to the ultimate users (they entered the plan in order to be a peacefull mind and knew about a cheaper plan but are 'wealthy' enough to be at the same plan regardless of use)."
   ]
  }
 ],
 "metadata": {
  "ExecuteTimeLog": [
   {
    "duration": 1192,
    "start_time": "2021-11-12T15:31:05.155Z"
   },
   {
    "duration": 119,
    "start_time": "2021-11-12T15:31:40.719Z"
   },
   {
    "duration": 1267,
    "start_time": "2021-11-12T15:34:35.273Z"
   },
   {
    "duration": 98,
    "start_time": "2021-11-12T15:34:36.541Z"
   },
   {
    "duration": 66,
    "start_time": "2021-11-12T15:34:36.642Z"
   },
   {
    "duration": 24,
    "start_time": "2021-11-12T15:34:36.709Z"
   },
   {
    "duration": 38,
    "start_time": "2021-11-12T15:34:36.735Z"
   },
   {
    "duration": 1263,
    "start_time": "2021-11-12T16:09:25.024Z"
   },
   {
    "duration": 97,
    "start_time": "2021-11-12T16:09:26.289Z"
   },
   {
    "duration": 68,
    "start_time": "2021-11-12T16:09:26.389Z"
   },
   {
    "duration": 25,
    "start_time": "2021-11-12T16:09:26.459Z"
   },
   {
    "duration": 60,
    "start_time": "2021-11-12T16:09:26.485Z"
   },
   {
    "duration": 181,
    "start_time": "2021-11-12T16:17:14.604Z"
   },
   {
    "duration": 1374,
    "start_time": "2021-11-12T16:17:23.681Z"
   },
   {
    "duration": 110,
    "start_time": "2021-11-12T16:17:25.058Z"
   },
   {
    "duration": 79,
    "start_time": "2021-11-12T16:17:25.170Z"
   },
   {
    "duration": 25,
    "start_time": "2021-11-12T16:17:25.252Z"
   },
   {
    "duration": 36,
    "start_time": "2021-11-12T16:17:25.279Z"
   },
   {
    "duration": 1256,
    "start_time": "2021-11-12T16:18:19.182Z"
   },
   {
    "duration": 102,
    "start_time": "2021-11-12T16:18:20.440Z"
   },
   {
    "duration": 74,
    "start_time": "2021-11-12T16:18:20.544Z"
   },
   {
    "duration": 25,
    "start_time": "2021-11-12T16:18:20.619Z"
   },
   {
    "duration": 38,
    "start_time": "2021-11-12T16:18:20.645Z"
   },
   {
    "duration": 1424,
    "start_time": "2021-11-12T16:20:09.299Z"
   },
   {
    "duration": 100,
    "start_time": "2021-11-12T16:20:10.726Z"
   },
   {
    "duration": 68,
    "start_time": "2021-11-12T16:20:10.828Z"
   },
   {
    "duration": 24,
    "start_time": "2021-11-12T16:20:10.898Z"
   },
   {
    "duration": 37,
    "start_time": "2021-11-12T16:20:10.924Z"
   },
   {
    "duration": 1493,
    "start_time": "2021-11-12T16:21:32.514Z"
   },
   {
    "duration": 145,
    "start_time": "2021-11-12T16:21:34.009Z"
   },
   {
    "duration": 92,
    "start_time": "2021-11-12T16:21:34.156Z"
   },
   {
    "duration": 25,
    "start_time": "2021-11-12T16:21:34.250Z"
   },
   {
    "duration": 38,
    "start_time": "2021-11-12T16:21:34.278Z"
   },
   {
    "duration": 1285,
    "start_time": "2021-11-12T16:25:20.839Z"
   },
   {
    "duration": 122,
    "start_time": "2021-11-12T16:25:22.126Z"
   },
   {
    "duration": 483,
    "start_time": "2021-11-12T16:25:21.766Z"
   },
   {
    "duration": 483,
    "start_time": "2021-11-12T16:25:21.767Z"
   },
   {
    "duration": 483,
    "start_time": "2021-11-12T16:25:21.768Z"
   },
   {
    "duration": 106,
    "start_time": "2021-11-12T16:25:33.740Z"
   },
   {
    "duration": 1265,
    "start_time": "2021-11-12T16:25:56.399Z"
   },
   {
    "duration": 108,
    "start_time": "2021-11-12T16:25:57.666Z"
   },
   {
    "duration": 73,
    "start_time": "2021-11-12T16:25:57.777Z"
   },
   {
    "duration": 27,
    "start_time": "2021-11-12T16:25:57.852Z"
   },
   {
    "duration": 46,
    "start_time": "2021-11-12T16:25:57.881Z"
   },
   {
    "duration": 182,
    "start_time": "2021-11-12T16:27:45.585Z"
   },
   {
    "duration": 145,
    "start_time": "2021-11-12T16:27:58.592Z"
   },
   {
    "duration": 1305,
    "start_time": "2021-11-12T16:29:20.391Z"
   },
   {
    "duration": 142,
    "start_time": "2021-11-12T16:29:21.698Z"
   },
   {
    "duration": 63,
    "start_time": "2021-11-12T16:29:21.842Z"
   },
   {
    "duration": 25,
    "start_time": "2021-11-12T16:29:21.907Z"
   },
   {
    "duration": 36,
    "start_time": "2021-11-12T16:29:21.934Z"
   },
   {
    "duration": 117,
    "start_time": "2021-11-12T16:32:16.575Z"
   },
   {
    "duration": 204,
    "start_time": "2021-11-12T16:32:36.487Z"
   },
   {
    "duration": 1551,
    "start_time": "2021-11-12T16:32:45.211Z"
   },
   {
    "duration": 133,
    "start_time": "2021-11-12T16:32:46.765Z"
   },
   {
    "duration": 89,
    "start_time": "2021-11-12T16:32:46.907Z"
   },
   {
    "duration": 29,
    "start_time": "2021-11-12T16:32:46.998Z"
   },
   {
    "duration": 40,
    "start_time": "2021-11-12T16:32:47.029Z"
   },
   {
    "duration": 1206,
    "start_time": "2021-11-12T16:33:32.833Z"
   },
   {
    "duration": 104,
    "start_time": "2021-11-12T16:33:34.041Z"
   },
   {
    "duration": 64,
    "start_time": "2021-11-12T16:33:34.147Z"
   },
   {
    "duration": 23,
    "start_time": "2021-11-12T16:33:34.213Z"
   },
   {
    "duration": 59,
    "start_time": "2021-11-12T16:33:34.237Z"
   },
   {
    "duration": 1288,
    "start_time": "2021-11-12T16:33:58.604Z"
   },
   {
    "duration": 105,
    "start_time": "2021-11-12T16:33:59.893Z"
   },
   {
    "duration": 69,
    "start_time": "2021-11-12T16:34:00.000Z"
   },
   {
    "duration": 25,
    "start_time": "2021-11-12T16:34:00.071Z"
   },
   {
    "duration": 45,
    "start_time": "2021-11-12T16:34:00.097Z"
   },
   {
    "duration": 1227,
    "start_time": "2021-11-12T16:34:32.524Z"
   },
   {
    "duration": 106,
    "start_time": "2021-11-12T16:34:33.753Z"
   },
   {
    "duration": 65,
    "start_time": "2021-11-12T16:34:33.860Z"
   },
   {
    "duration": 23,
    "start_time": "2021-11-12T16:34:33.927Z"
   },
   {
    "duration": 37,
    "start_time": "2021-11-12T16:34:33.952Z"
   },
   {
    "duration": 1315,
    "start_time": "2021-11-12T16:59:04.531Z"
   },
   {
    "duration": 432,
    "start_time": "2021-11-12T16:59:05.848Z"
   },
   {
    "duration": 374,
    "start_time": "2021-11-12T16:59:05.908Z"
   },
   {
    "duration": 375,
    "start_time": "2021-11-12T16:59:05.909Z"
   },
   {
    "duration": 375,
    "start_time": "2021-11-12T16:59:05.910Z"
   },
   {
    "duration": 376,
    "start_time": "2021-11-12T16:59:05.911Z"
   },
   {
    "duration": 1322,
    "start_time": "2021-11-12T17:03:02.192Z"
   },
   {
    "duration": 466,
    "start_time": "2021-11-12T17:03:03.516Z"
   },
   {
    "duration": 234,
    "start_time": "2021-11-12T17:03:03.749Z"
   },
   {
    "duration": 233,
    "start_time": "2021-11-12T17:03:03.751Z"
   },
   {
    "duration": 233,
    "start_time": "2021-11-12T17:03:03.752Z"
   },
   {
    "duration": 234,
    "start_time": "2021-11-12T17:03:03.752Z"
   },
   {
    "duration": 1208,
    "start_time": "2021-11-12T17:03:37.843Z"
   },
   {
    "duration": 42,
    "start_time": "2021-11-12T17:03:39.053Z"
   },
   {
    "duration": 104,
    "start_time": "2021-11-12T17:03:39.107Z"
   },
   {
    "duration": 66,
    "start_time": "2021-11-12T17:03:39.212Z"
   },
   {
    "duration": 22,
    "start_time": "2021-11-12T17:03:39.280Z"
   },
   {
    "duration": 36,
    "start_time": "2021-11-12T17:03:39.304Z"
   },
   {
    "duration": 35,
    "start_time": "2021-11-12T17:04:02.404Z"
   },
   {
    "duration": 1217,
    "start_time": "2021-11-12T17:04:15.725Z"
   },
   {
    "duration": 40,
    "start_time": "2021-11-12T17:04:16.944Z"
   },
   {
    "duration": 108,
    "start_time": "2021-11-12T17:04:16.986Z"
   },
   {
    "duration": 68,
    "start_time": "2021-11-12T17:04:17.096Z"
   },
   {
    "duration": 25,
    "start_time": "2021-11-12T17:04:17.166Z"
   },
   {
    "duration": 39,
    "start_time": "2021-11-12T17:04:17.193Z"
   },
   {
    "duration": 1287,
    "start_time": "2021-11-12T17:05:13.272Z"
   },
   {
    "duration": 56,
    "start_time": "2021-11-12T17:05:14.561Z"
   },
   {
    "duration": 111,
    "start_time": "2021-11-12T17:05:14.619Z"
   },
   {
    "duration": 65,
    "start_time": "2021-11-12T17:05:14.732Z"
   },
   {
    "duration": 24,
    "start_time": "2021-11-12T17:05:14.807Z"
   },
   {
    "duration": 50,
    "start_time": "2021-11-12T17:05:14.833Z"
   },
   {
    "duration": 1297,
    "start_time": "2021-11-12T17:05:59.506Z"
   },
   {
    "duration": 46,
    "start_time": "2021-11-12T17:06:00.805Z"
   },
   {
    "duration": 126,
    "start_time": "2021-11-12T17:06:00.853Z"
   },
   {
    "duration": 84,
    "start_time": "2021-11-12T17:06:00.981Z"
   },
   {
    "duration": 31,
    "start_time": "2021-11-12T17:06:01.067Z"
   },
   {
    "duration": 49,
    "start_time": "2021-11-12T17:06:01.101Z"
   },
   {
    "duration": 1362,
    "start_time": "2021-11-12T17:06:35.779Z"
   },
   {
    "duration": 35,
    "start_time": "2021-11-12T17:06:37.143Z"
   },
   {
    "duration": 27,
    "start_time": "2021-11-12T17:06:37.180Z"
   },
   {
    "duration": 105,
    "start_time": "2021-11-12T17:06:37.209Z"
   },
   {
    "duration": 66,
    "start_time": "2021-11-12T17:06:37.316Z"
   },
   {
    "duration": 24,
    "start_time": "2021-11-12T17:06:37.383Z"
   },
   {
    "duration": 38,
    "start_time": "2021-11-12T17:06:37.408Z"
   },
   {
    "duration": 1228,
    "start_time": "2021-11-12T17:07:19.020Z"
   },
   {
    "duration": 34,
    "start_time": "2021-11-12T17:07:20.250Z"
   },
   {
    "duration": 7,
    "start_time": "2021-11-12T17:07:20.286Z"
   },
   {
    "duration": 115,
    "start_time": "2021-11-12T17:07:20.295Z"
   },
   {
    "duration": 67,
    "start_time": "2021-11-12T17:07:20.411Z"
   },
   {
    "duration": 24,
    "start_time": "2021-11-12T17:07:20.479Z"
   },
   {
    "duration": 42,
    "start_time": "2021-11-12T17:07:20.504Z"
   },
   {
    "duration": 45,
    "start_time": "2021-11-12T17:07:47.131Z"
   },
   {
    "duration": 1198,
    "start_time": "2021-11-12T17:11:22.452Z"
   },
   {
    "duration": 58,
    "start_time": "2021-11-12T17:11:23.651Z"
   },
   {
    "duration": 106,
    "start_time": "2021-11-12T17:11:23.711Z"
   },
   {
    "duration": 65,
    "start_time": "2021-11-12T17:11:23.818Z"
   },
   {
    "duration": 8860,
    "start_time": "2021-11-12T17:11:23.885Z"
   },
   {
    "duration": 159,
    "start_time": "2021-11-12T17:11:32.588Z"
   },
   {
    "duration": 159,
    "start_time": "2021-11-12T17:11:32.589Z"
   },
   {
    "duration": 1201,
    "start_time": "2021-11-12T17:11:52.340Z"
   },
   {
    "duration": 49,
    "start_time": "2021-11-12T17:11:53.542Z"
   },
   {
    "duration": 114,
    "start_time": "2021-11-12T17:11:53.593Z"
   },
   {
    "duration": 67,
    "start_time": "2021-11-12T17:11:53.709Z"
   },
   {
    "duration": 206,
    "start_time": "2021-11-12T17:11:53.777Z"
   },
   {
    "duration": 31,
    "start_time": "2021-11-12T17:11:53.984Z"
   },
   {
    "duration": 35,
    "start_time": "2021-11-12T17:11:54.016Z"
   },
   {
    "duration": 1882,
    "start_time": "2021-11-12T17:13:14.314Z"
   },
   {
    "duration": 50,
    "start_time": "2021-11-12T17:13:16.206Z"
   },
   {
    "duration": 112,
    "start_time": "2021-11-12T17:13:16.258Z"
   },
   {
    "duration": 440,
    "start_time": "2021-11-12T17:13:16.372Z"
   },
   {
    "duration": 515,
    "start_time": "2021-11-12T17:13:16.299Z"
   },
   {
    "duration": 415,
    "start_time": "2021-11-12T17:13:16.400Z"
   },
   {
    "duration": 414,
    "start_time": "2021-11-12T17:13:16.401Z"
   },
   {
    "duration": 411,
    "start_time": "2021-11-12T17:13:16.405Z"
   },
   {
    "duration": 1232,
    "start_time": "2021-11-12T17:13:46.718Z"
   },
   {
    "duration": 55,
    "start_time": "2021-11-12T17:13:47.951Z"
   },
   {
    "duration": 106,
    "start_time": "2021-11-12T17:13:48.008Z"
   },
   {
    "duration": 33,
    "start_time": "2021-11-12T17:13:48.116Z"
   },
   {
    "duration": 74,
    "start_time": "2021-11-12T17:13:48.151Z"
   },
   {
    "duration": 249,
    "start_time": "2021-11-12T17:13:48.226Z"
   },
   {
    "duration": 24,
    "start_time": "2021-11-12T17:13:48.477Z"
   },
   {
    "duration": 45,
    "start_time": "2021-11-12T17:13:48.506Z"
   },
   {
    "duration": 1280,
    "start_time": "2021-11-12T17:38:32.169Z"
   },
   {
    "duration": 49,
    "start_time": "2021-11-12T17:38:33.451Z"
   },
   {
    "duration": 108,
    "start_time": "2021-11-12T17:38:33.502Z"
   },
   {
    "duration": 33,
    "start_time": "2021-11-12T17:38:33.612Z"
   },
   {
    "duration": 72,
    "start_time": "2021-11-12T17:38:33.647Z"
   },
   {
    "duration": 30,
    "start_time": "2021-11-12T17:38:33.720Z"
   },
   {
    "duration": 24,
    "start_time": "2021-11-12T17:38:33.751Z"
   },
   {
    "duration": 38,
    "start_time": "2021-11-12T17:38:33.777Z"
   },
   {
    "duration": 1369,
    "start_time": "2021-11-12T17:40:38.898Z"
   },
   {
    "duration": 54,
    "start_time": "2021-11-12T17:40:40.269Z"
   },
   {
    "duration": 104,
    "start_time": "2021-11-12T17:40:40.325Z"
   },
   {
    "duration": 472,
    "start_time": "2021-11-12T17:40:40.431Z"
   },
   {
    "duration": 512,
    "start_time": "2021-11-12T17:40:40.393Z"
   },
   {
    "duration": 511,
    "start_time": "2021-11-12T17:40:40.395Z"
   },
   {
    "duration": 414,
    "start_time": "2021-11-12T17:40:40.492Z"
   },
   {
    "duration": 409,
    "start_time": "2021-11-12T17:40:40.498Z"
   },
   {
    "duration": 1273,
    "start_time": "2021-11-12T17:41:32.684Z"
   },
   {
    "duration": 56,
    "start_time": "2021-11-12T17:41:33.958Z"
   },
   {
    "duration": 103,
    "start_time": "2021-11-12T17:41:34.016Z"
   },
   {
    "duration": 472,
    "start_time": "2021-11-12T17:41:34.121Z"
   },
   {
    "duration": 521,
    "start_time": "2021-11-12T17:41:34.074Z"
   },
   {
    "duration": 434,
    "start_time": "2021-11-12T17:41:34.162Z"
   },
   {
    "duration": 434,
    "start_time": "2021-11-12T17:41:34.163Z"
   },
   {
    "duration": 433,
    "start_time": "2021-11-12T17:41:34.165Z"
   },
   {
    "duration": 1263,
    "start_time": "2021-11-12T17:41:50.406Z"
   },
   {
    "duration": 56,
    "start_time": "2021-11-12T17:41:51.671Z"
   },
   {
    "duration": 105,
    "start_time": "2021-11-12T17:41:51.729Z"
   },
   {
    "duration": 71,
    "start_time": "2021-11-12T17:41:51.836Z"
   },
   {
    "duration": 74,
    "start_time": "2021-11-12T17:41:51.909Z"
   },
   {
    "duration": 35,
    "start_time": "2021-11-12T17:41:51.985Z"
   },
   {
    "duration": 24,
    "start_time": "2021-11-12T17:41:52.022Z"
   },
   {
    "duration": 39,
    "start_time": "2021-11-12T17:41:52.048Z"
   },
   {
    "duration": 1233,
    "start_time": "2021-11-12T17:43:10.924Z"
   },
   {
    "duration": 63,
    "start_time": "2021-11-12T17:43:12.159Z"
   },
   {
    "duration": 100,
    "start_time": "2021-11-12T17:43:12.224Z"
   },
   {
    "duration": 53,
    "start_time": "2021-11-12T17:43:12.326Z"
   },
   {
    "duration": 79,
    "start_time": "2021-11-12T17:43:12.381Z"
   },
   {
    "duration": 47,
    "start_time": "2021-11-12T17:43:12.462Z"
   },
   {
    "duration": 28,
    "start_time": "2021-11-12T17:43:12.511Z"
   },
   {
    "duration": 45,
    "start_time": "2021-11-12T17:43:12.541Z"
   },
   {
    "duration": 1696,
    "start_time": "2021-11-13T13:04:17.384Z"
   },
   {
    "duration": 107,
    "start_time": "2021-11-13T13:04:19.083Z"
   },
   {
    "duration": 152,
    "start_time": "2021-11-13T13:04:19.194Z"
   },
   {
    "duration": 53,
    "start_time": "2021-11-13T13:04:19.366Z"
   },
   {
    "duration": 105,
    "start_time": "2021-11-13T13:04:19.422Z"
   },
   {
    "duration": 68,
    "start_time": "2021-11-13T13:04:19.529Z"
   },
   {
    "duration": 33,
    "start_time": "2021-11-13T13:04:19.599Z"
   },
   {
    "duration": 76,
    "start_time": "2021-11-13T13:04:19.635Z"
   },
   {
    "duration": 68,
    "start_time": "2021-11-13T13:04:35.028Z"
   },
   {
    "duration": 84,
    "start_time": "2021-11-13T13:05:40.260Z"
   },
   {
    "duration": 1681,
    "start_time": "2021-11-13T13:05:49.273Z"
   },
   {
    "duration": 91,
    "start_time": "2021-11-13T13:05:50.956Z"
   },
   {
    "duration": 166,
    "start_time": "2021-11-13T13:05:51.063Z"
   },
   {
    "duration": 82,
    "start_time": "2021-11-13T13:05:51.231Z"
   },
   {
    "duration": 114,
    "start_time": "2021-11-13T13:05:51.315Z"
   },
   {
    "duration": 74,
    "start_time": "2021-11-13T13:05:51.431Z"
   },
   {
    "duration": 33,
    "start_time": "2021-11-13T13:05:51.508Z"
   },
   {
    "duration": 100,
    "start_time": "2021-11-13T13:05:51.544Z"
   },
   {
    "duration": 1721,
    "start_time": "2021-11-13T13:06:17.658Z"
   },
   {
    "duration": 102,
    "start_time": "2021-11-13T13:06:19.383Z"
   },
   {
    "duration": 149,
    "start_time": "2021-11-13T13:06:19.489Z"
   },
   {
    "duration": 93,
    "start_time": "2021-11-13T13:06:19.641Z"
   },
   {
    "duration": 100,
    "start_time": "2021-11-13T13:06:19.736Z"
   },
   {
    "duration": 72,
    "start_time": "2021-11-13T13:06:19.838Z"
   },
   {
    "duration": 32,
    "start_time": "2021-11-13T13:06:19.913Z"
   },
   {
    "duration": 64,
    "start_time": "2021-11-13T13:06:19.960Z"
   },
   {
    "duration": 196,
    "start_time": "2021-11-13T13:07:16.828Z"
   },
   {
    "duration": 191,
    "start_time": "2021-11-13T13:07:29.739Z"
   },
   {
    "duration": 2410,
    "start_time": "2021-11-13T13:09:10.937Z"
   },
   {
    "duration": 94,
    "start_time": "2021-11-13T13:09:13.349Z"
   },
   {
    "duration": 156,
    "start_time": "2021-11-13T13:09:13.458Z"
   },
   {
    "duration": 98,
    "start_time": "2021-11-13T13:09:13.617Z"
   },
   {
    "duration": 96,
    "start_time": "2021-11-13T13:09:13.718Z"
   },
   {
    "duration": 74,
    "start_time": "2021-11-13T13:09:13.817Z"
   },
   {
    "duration": 33,
    "start_time": "2021-11-13T13:09:13.893Z"
   },
   {
    "duration": 63,
    "start_time": "2021-11-13T13:09:13.929Z"
   },
   {
    "duration": 85,
    "start_time": "2021-11-13T13:09:41.813Z"
   },
   {
    "duration": 1697,
    "start_time": "2021-11-13T13:09:52.946Z"
   },
   {
    "duration": 86,
    "start_time": "2021-11-13T13:09:54.646Z"
   },
   {
    "duration": 165,
    "start_time": "2021-11-13T13:09:54.735Z"
   },
   {
    "duration": 103,
    "start_time": "2021-11-13T13:09:54.903Z"
   },
   {
    "duration": 100,
    "start_time": "2021-11-13T13:09:55.008Z"
   },
   {
    "duration": 65,
    "start_time": "2021-11-13T13:09:55.111Z"
   },
   {
    "duration": 33,
    "start_time": "2021-11-13T13:09:55.179Z"
   },
   {
    "duration": 63,
    "start_time": "2021-11-13T13:09:55.215Z"
   },
   {
    "duration": 1792,
    "start_time": "2021-11-13T13:10:35.410Z"
   },
   {
    "duration": 104,
    "start_time": "2021-11-13T13:10:37.205Z"
   },
   {
    "duration": 193,
    "start_time": "2021-11-13T13:10:37.313Z"
   },
   {
    "duration": 121,
    "start_time": "2021-11-13T13:10:37.510Z"
   },
   {
    "duration": 109,
    "start_time": "2021-11-13T13:10:37.634Z"
   },
   {
    "duration": 76,
    "start_time": "2021-11-13T13:10:37.745Z"
   },
   {
    "duration": 52,
    "start_time": "2021-11-13T13:10:37.823Z"
   },
   {
    "duration": 58,
    "start_time": "2021-11-13T13:10:37.881Z"
   },
   {
    "duration": 2312,
    "start_time": "2021-11-13T13:12:52.871Z"
   },
   {
    "duration": 101,
    "start_time": "2021-11-13T13:12:55.186Z"
   },
   {
    "duration": 214,
    "start_time": "2021-11-13T13:12:55.292Z"
   },
   {
    "duration": 102,
    "start_time": "2021-11-13T13:12:55.509Z"
   },
   {
    "duration": 111,
    "start_time": "2021-11-13T13:12:55.614Z"
   },
   {
    "duration": 73,
    "start_time": "2021-11-13T13:12:55.728Z"
   },
   {
    "duration": 34,
    "start_time": "2021-11-13T13:12:55.804Z"
   },
   {
    "duration": 84,
    "start_time": "2021-11-13T13:12:55.843Z"
   },
   {
    "duration": 1863,
    "start_time": "2021-11-13T13:13:15.044Z"
   },
   {
    "duration": 103,
    "start_time": "2021-11-13T13:13:16.910Z"
   },
   {
    "duration": 175,
    "start_time": "2021-11-13T13:13:17.016Z"
   },
   {
    "duration": 102,
    "start_time": "2021-11-13T13:13:17.194Z"
   },
   {
    "duration": 119,
    "start_time": "2021-11-13T13:13:17.300Z"
   },
   {
    "duration": 80,
    "start_time": "2021-11-13T13:13:17.422Z"
   },
   {
    "duration": 33,
    "start_time": "2021-11-13T13:13:17.505Z"
   },
   {
    "duration": 65,
    "start_time": "2021-11-13T13:13:17.542Z"
   },
   {
    "duration": 2266,
    "start_time": "2021-11-13T13:13:45.628Z"
   },
   {
    "duration": 143,
    "start_time": "2021-11-13T13:13:47.898Z"
   },
   {
    "duration": 219,
    "start_time": "2021-11-13T13:13:48.061Z"
   },
   {
    "duration": 105,
    "start_time": "2021-11-13T13:13:48.283Z"
   },
   {
    "duration": 115,
    "start_time": "2021-11-13T13:13:48.390Z"
   },
   {
    "duration": 80,
    "start_time": "2021-11-13T13:13:48.507Z"
   },
   {
    "duration": 34,
    "start_time": "2021-11-13T13:13:48.590Z"
   },
   {
    "duration": 72,
    "start_time": "2021-11-13T13:13:48.627Z"
   },
   {
    "duration": 1804,
    "start_time": "2021-11-13T13:14:29.901Z"
   },
   {
    "duration": 592,
    "start_time": "2021-11-13T13:14:31.707Z"
   },
   {
    "duration": 1507,
    "start_time": "2021-11-13T13:14:30.795Z"
   },
   {
    "duration": 1507,
    "start_time": "2021-11-13T13:14:30.797Z"
   },
   {
    "duration": 1507,
    "start_time": "2021-11-13T13:14:30.798Z"
   },
   {
    "duration": 1508,
    "start_time": "2021-11-13T13:14:30.799Z"
   },
   {
    "duration": 1509,
    "start_time": "2021-11-13T13:14:30.800Z"
   },
   {
    "duration": 1518,
    "start_time": "2021-11-13T13:14:30.801Z"
   },
   {
    "duration": 1750,
    "start_time": "2021-11-13T13:14:50.124Z"
   },
   {
    "duration": 112,
    "start_time": "2021-11-13T13:14:51.877Z"
   },
   {
    "duration": 154,
    "start_time": "2021-11-13T13:14:51.993Z"
   },
   {
    "duration": 91,
    "start_time": "2021-11-13T13:14:52.151Z"
   },
   {
    "duration": 133,
    "start_time": "2021-11-13T13:14:52.245Z"
   },
   {
    "duration": 58,
    "start_time": "2021-11-13T13:14:52.381Z"
   },
   {
    "duration": 58,
    "start_time": "2021-11-13T13:14:52.441Z"
   },
   {
    "duration": 89,
    "start_time": "2021-11-13T13:14:52.502Z"
   },
   {
    "duration": 1858,
    "start_time": "2021-11-13T13:15:04.839Z"
   },
   {
    "duration": 127,
    "start_time": "2021-11-13T13:15:06.700Z"
   },
   {
    "duration": 153,
    "start_time": "2021-11-13T13:15:06.830Z"
   },
   {
    "duration": 90,
    "start_time": "2021-11-13T13:15:06.986Z"
   },
   {
    "duration": 105,
    "start_time": "2021-11-13T13:15:07.078Z"
   },
   {
    "duration": 53,
    "start_time": "2021-11-13T13:15:07.185Z"
   },
   {
    "duration": 40,
    "start_time": "2021-11-13T13:15:07.259Z"
   },
   {
    "duration": 82,
    "start_time": "2021-11-13T13:15:07.302Z"
   },
   {
    "duration": 1731,
    "start_time": "2021-11-13T13:15:43.722Z"
   },
   {
    "duration": 127,
    "start_time": "2021-11-13T13:15:45.460Z"
   },
   {
    "duration": 150,
    "start_time": "2021-11-13T13:15:45.590Z"
   },
   {
    "duration": 95,
    "start_time": "2021-11-13T13:15:45.743Z"
   },
   {
    "duration": 99,
    "start_time": "2021-11-13T13:15:45.841Z"
   },
   {
    "duration": 70,
    "start_time": "2021-11-13T13:15:45.943Z"
   },
   {
    "duration": 46,
    "start_time": "2021-11-13T13:15:46.016Z"
   },
   {
    "duration": 64,
    "start_time": "2021-11-13T13:15:46.067Z"
   },
   {
    "duration": 1752,
    "start_time": "2021-11-13T13:16:49.922Z"
   },
   {
    "duration": 106,
    "start_time": "2021-11-13T13:16:51.677Z"
   },
   {
    "duration": 151,
    "start_time": "2021-11-13T13:16:51.787Z"
   },
   {
    "duration": 94,
    "start_time": "2021-11-13T13:16:51.941Z"
   },
   {
    "duration": 110,
    "start_time": "2021-11-13T13:16:52.038Z"
   },
   {
    "duration": 59,
    "start_time": "2021-11-13T13:16:52.161Z"
   },
   {
    "duration": 52,
    "start_time": "2021-11-13T13:16:52.223Z"
   },
   {
    "duration": 58,
    "start_time": "2021-11-13T13:16:52.279Z"
   },
   {
    "duration": 1918,
    "start_time": "2021-11-13T13:17:09.674Z"
   },
   {
    "duration": 105,
    "start_time": "2021-11-13T13:17:11.596Z"
   },
   {
    "duration": 148,
    "start_time": "2021-11-13T13:17:11.706Z"
   },
   {
    "duration": 114,
    "start_time": "2021-11-13T13:17:11.860Z"
   },
   {
    "duration": 108,
    "start_time": "2021-11-13T13:17:11.976Z"
   },
   {
    "duration": 54,
    "start_time": "2021-11-13T13:17:12.086Z"
   },
   {
    "duration": 44,
    "start_time": "2021-11-13T13:17:12.143Z"
   },
   {
    "duration": 56,
    "start_time": "2021-11-13T13:17:12.190Z"
   },
   {
    "duration": 1700,
    "start_time": "2021-11-13T13:18:42.053Z"
   },
   {
    "duration": 112,
    "start_time": "2021-11-13T13:18:43.760Z"
   },
   {
    "duration": 150,
    "start_time": "2021-11-13T13:18:43.875Z"
   },
   {
    "duration": 117,
    "start_time": "2021-11-13T13:18:44.028Z"
   },
   {
    "duration": 103,
    "start_time": "2021-11-13T13:18:44.148Z"
   },
   {
    "duration": 63,
    "start_time": "2021-11-13T13:18:44.259Z"
   },
   {
    "duration": 54,
    "start_time": "2021-11-13T13:18:44.324Z"
   },
   {
    "duration": 56,
    "start_time": "2021-11-13T13:18:44.381Z"
   },
   {
    "duration": 1824,
    "start_time": "2021-11-13T13:19:12.739Z"
   },
   {
    "duration": 96,
    "start_time": "2021-11-13T13:19:14.570Z"
   },
   {
    "duration": 143,
    "start_time": "2021-11-13T13:19:14.670Z"
   },
   {
    "duration": 63,
    "start_time": "2021-11-13T13:19:14.816Z"
   },
   {
    "duration": 100,
    "start_time": "2021-11-13T13:19:14.882Z"
   },
   {
    "duration": 59,
    "start_time": "2021-11-13T13:19:14.984Z"
   },
   {
    "duration": 36,
    "start_time": "2021-11-13T13:19:15.065Z"
   },
   {
    "duration": 73,
    "start_time": "2021-11-13T13:19:15.104Z"
   },
   {
    "duration": 1667,
    "start_time": "2021-11-13T13:19:56.873Z"
   },
   {
    "duration": 97,
    "start_time": "2021-11-13T13:19:58.542Z"
   },
   {
    "duration": 167,
    "start_time": "2021-11-13T13:19:58.642Z"
   },
   {
    "duration": 88,
    "start_time": "2021-11-13T13:19:58.813Z"
   },
   {
    "duration": 111,
    "start_time": "2021-11-13T13:19:58.904Z"
   },
   {
    "duration": 92,
    "start_time": "2021-11-13T13:19:59.018Z"
   },
   {
    "duration": 52,
    "start_time": "2021-11-13T13:19:59.113Z"
   },
   {
    "duration": 69,
    "start_time": "2021-11-13T13:19:59.169Z"
   },
   {
    "duration": 1857,
    "start_time": "2021-11-13T13:27:42.334Z"
   },
   {
    "duration": 100,
    "start_time": "2021-11-13T13:27:44.194Z"
   },
   {
    "duration": 143,
    "start_time": "2021-11-13T13:27:44.297Z"
   },
   {
    "duration": 79,
    "start_time": "2021-11-13T13:27:44.443Z"
   },
   {
    "duration": 107,
    "start_time": "2021-11-13T13:27:44.525Z"
   },
   {
    "duration": 70,
    "start_time": "2021-11-13T13:27:44.634Z"
   },
   {
    "duration": 32,
    "start_time": "2021-11-13T13:27:44.706Z"
   },
   {
    "duration": 72,
    "start_time": "2021-11-13T13:27:44.762Z"
   },
   {
    "duration": 1728,
    "start_time": "2021-11-13T13:28:11.778Z"
   },
   {
    "duration": 101,
    "start_time": "2021-11-13T13:28:13.509Z"
   },
   {
    "duration": 159,
    "start_time": "2021-11-13T13:28:13.613Z"
   },
   {
    "duration": 65,
    "start_time": "2021-11-13T13:28:13.775Z"
   },
   {
    "duration": 113,
    "start_time": "2021-11-13T13:28:13.859Z"
   },
   {
    "duration": 63,
    "start_time": "2021-11-13T13:28:13.975Z"
   },
   {
    "duration": 51,
    "start_time": "2021-11-13T13:28:14.040Z"
   },
   {
    "duration": 60,
    "start_time": "2021-11-13T13:28:14.094Z"
   },
   {
    "duration": 1822,
    "start_time": "2021-11-13T13:29:07.501Z"
   },
   {
    "duration": 101,
    "start_time": "2021-11-13T13:29:09.326Z"
   },
   {
    "duration": 167,
    "start_time": "2021-11-13T13:29:09.430Z"
   },
   {
    "duration": 93,
    "start_time": "2021-11-13T13:29:09.600Z"
   },
   {
    "duration": 102,
    "start_time": "2021-11-13T13:29:09.696Z"
   },
   {
    "duration": 75,
    "start_time": "2021-11-13T13:29:09.800Z"
   },
   {
    "duration": 39,
    "start_time": "2021-11-13T13:29:09.878Z"
   },
   {
    "duration": 73,
    "start_time": "2021-11-13T13:29:09.920Z"
   },
   {
    "duration": 25,
    "start_time": "2021-11-13T13:29:09.996Z"
   },
   {
    "duration": 23,
    "start_time": "2021-11-13T13:29:10.023Z"
   },
   {
    "duration": 1737,
    "start_time": "2021-11-13T15:16:43.781Z"
   },
   {
    "duration": 93,
    "start_time": "2021-11-13T15:16:45.520Z"
   },
   {
    "duration": 157,
    "start_time": "2021-11-13T15:16:45.617Z"
   },
   {
    "duration": 89,
    "start_time": "2021-11-13T15:16:45.777Z"
   },
   {
    "duration": 89,
    "start_time": "2021-11-13T15:16:45.871Z"
   },
   {
    "duration": 60,
    "start_time": "2021-11-13T15:16:45.964Z"
   },
   {
    "duration": 58,
    "start_time": "2021-11-13T15:16:46.026Z"
   },
   {
    "duration": 105,
    "start_time": "2021-11-13T15:16:46.086Z"
   },
   {
    "duration": 25,
    "start_time": "2021-11-13T15:16:46.194Z"
   },
   {
    "duration": 37,
    "start_time": "2021-11-13T15:16:46.222Z"
   },
   {
    "duration": 1643,
    "start_time": "2021-11-13T15:22:13.892Z"
   },
   {
    "duration": 99,
    "start_time": "2021-11-13T15:22:15.537Z"
   },
   {
    "duration": 158,
    "start_time": "2021-11-13T15:22:15.639Z"
   },
   {
    "duration": 77,
    "start_time": "2021-11-13T15:22:15.799Z"
   },
   {
    "duration": 96,
    "start_time": "2021-11-13T15:22:15.879Z"
   },
   {
    "duration": 92,
    "start_time": "2021-11-13T15:22:15.979Z"
   },
   {
    "duration": 37,
    "start_time": "2021-11-13T15:22:16.074Z"
   },
   {
    "duration": 98,
    "start_time": "2021-11-13T15:22:16.116Z"
   },
   {
    "duration": 36,
    "start_time": "2021-11-13T15:22:16.217Z"
   },
   {
    "duration": 31,
    "start_time": "2021-11-13T15:22:16.256Z"
   },
   {
    "duration": 1724,
    "start_time": "2021-11-13T15:22:52.923Z"
   },
   {
    "duration": 83,
    "start_time": "2021-11-13T15:22:54.670Z"
   },
   {
    "duration": 153,
    "start_time": "2021-11-13T15:22:54.761Z"
   },
   {
    "duration": 87,
    "start_time": "2021-11-13T15:22:54.917Z"
   },
   {
    "duration": 122,
    "start_time": "2021-11-13T15:22:55.007Z"
   },
   {
    "duration": 73,
    "start_time": "2021-11-13T15:22:55.132Z"
   },
   {
    "duration": 35,
    "start_time": "2021-11-13T15:22:55.207Z"
   },
   {
    "duration": 69,
    "start_time": "2021-11-13T15:22:55.261Z"
   },
   {
    "duration": 27,
    "start_time": "2021-11-13T15:22:55.335Z"
   },
   {
    "duration": 27,
    "start_time": "2021-11-13T15:22:55.364Z"
   },
   {
    "duration": 1656,
    "start_time": "2021-11-13T15:23:26.886Z"
   },
   {
    "duration": 95,
    "start_time": "2021-11-13T15:23:28.544Z"
   },
   {
    "duration": 155,
    "start_time": "2021-11-13T15:23:28.641Z"
   },
   {
    "duration": 89,
    "start_time": "2021-11-13T15:23:28.798Z"
   },
   {
    "duration": 116,
    "start_time": "2021-11-13T15:23:28.890Z"
   },
   {
    "duration": 553,
    "start_time": "2021-11-13T15:23:29.009Z"
   },
   {
    "duration": 1613,
    "start_time": "2021-11-13T15:23:27.954Z"
   },
   {
    "duration": 1512,
    "start_time": "2021-11-13T15:23:28.057Z"
   },
   {
    "duration": 1506,
    "start_time": "2021-11-13T15:23:28.066Z"
   },
   {
    "duration": 1504,
    "start_time": "2021-11-13T15:23:28.070Z"
   },
   {
    "duration": 1772,
    "start_time": "2021-11-13T15:24:21.559Z"
   },
   {
    "duration": 108,
    "start_time": "2021-11-13T15:24:23.334Z"
   },
   {
    "duration": 180,
    "start_time": "2021-11-13T15:24:23.445Z"
   },
   {
    "duration": 74,
    "start_time": "2021-11-13T15:24:23.627Z"
   },
   {
    "duration": 113,
    "start_time": "2021-11-13T15:24:23.704Z"
   },
   {
    "duration": 73,
    "start_time": "2021-11-13T15:24:23.819Z"
   },
   {
    "duration": 34,
    "start_time": "2021-11-13T15:24:23.895Z"
   },
   {
    "duration": 71,
    "start_time": "2021-11-13T15:24:23.932Z"
   },
   {
    "duration": 25,
    "start_time": "2021-11-13T15:24:24.006Z"
   },
   {
    "duration": 23,
    "start_time": "2021-11-13T15:24:24.034Z"
   },
   {
    "duration": 1693,
    "start_time": "2021-11-13T15:25:12.561Z"
   },
   {
    "duration": 104,
    "start_time": "2021-11-13T15:25:14.266Z"
   },
   {
    "duration": 145,
    "start_time": "2021-11-13T15:25:14.374Z"
   },
   {
    "duration": 81,
    "start_time": "2021-11-13T15:25:14.521Z"
   },
   {
    "duration": 596,
    "start_time": "2021-11-13T15:25:14.604Z"
   },
   {
    "duration": 1611,
    "start_time": "2021-11-13T15:25:13.592Z"
   },
   {
    "duration": 1516,
    "start_time": "2021-11-13T15:25:13.688Z"
   },
   {
    "duration": 1516,
    "start_time": "2021-11-13T15:25:13.689Z"
   },
   {
    "duration": 1516,
    "start_time": "2021-11-13T15:25:13.690Z"
   },
   {
    "duration": 1518,
    "start_time": "2021-11-13T15:25:13.690Z"
   },
   {
    "duration": 1727,
    "start_time": "2021-11-13T15:25:33.931Z"
   },
   {
    "duration": 96,
    "start_time": "2021-11-13T15:25:35.667Z"
   },
   {
    "duration": 152,
    "start_time": "2021-11-13T15:25:35.768Z"
   },
   {
    "duration": 82,
    "start_time": "2021-11-13T15:25:35.922Z"
   },
   {
    "duration": 1710,
    "start_time": "2021-11-13T15:25:36.007Z"
   },
   {
    "duration": 1222,
    "start_time": "2021-11-13T15:25:36.498Z"
   },
   {
    "duration": 1221,
    "start_time": "2021-11-13T15:25:36.500Z"
   },
   {
    "duration": 1220,
    "start_time": "2021-11-13T15:25:36.502Z"
   },
   {
    "duration": 1220,
    "start_time": "2021-11-13T15:25:36.504Z"
   },
   {
    "duration": 1222,
    "start_time": "2021-11-13T15:25:36.504Z"
   },
   {
    "duration": 1672,
    "start_time": "2021-11-13T15:25:56.777Z"
   },
   {
    "duration": 116,
    "start_time": "2021-11-13T15:25:58.452Z"
   },
   {
    "duration": 155,
    "start_time": "2021-11-13T15:25:58.572Z"
   },
   {
    "duration": 81,
    "start_time": "2021-11-13T15:25:58.730Z"
   },
   {
    "duration": 118,
    "start_time": "2021-11-13T15:25:58.813Z"
   },
   {
    "duration": 76,
    "start_time": "2021-11-13T15:25:58.933Z"
   },
   {
    "duration": 32,
    "start_time": "2021-11-13T15:25:59.012Z"
   },
   {
    "duration": 65,
    "start_time": "2021-11-13T15:25:59.063Z"
   },
   {
    "duration": 25,
    "start_time": "2021-11-13T15:25:59.130Z"
   },
   {
    "duration": 28,
    "start_time": "2021-11-13T15:25:59.157Z"
   },
   {
    "duration": 1651,
    "start_time": "2021-11-13T17:18:02.687Z"
   },
   {
    "duration": 95,
    "start_time": "2021-11-13T17:18:04.341Z"
   },
   {
    "duration": 159,
    "start_time": "2021-11-13T17:18:04.439Z"
   },
   {
    "duration": 83,
    "start_time": "2021-11-13T17:18:04.600Z"
   },
   {
    "duration": 106,
    "start_time": "2021-11-13T17:18:04.685Z"
   },
   {
    "duration": 53,
    "start_time": "2021-11-13T17:18:04.793Z"
   },
   {
    "duration": 58,
    "start_time": "2021-11-13T17:18:04.866Z"
   },
   {
    "duration": 37,
    "start_time": "2021-11-13T17:18:04.926Z"
   },
   {
    "duration": 556,
    "start_time": "2021-11-13T17:18:04.970Z"
   },
   {
    "duration": 1689,
    "start_time": "2021-11-13T17:18:03.840Z"
   },
   {
    "duration": 1688,
    "start_time": "2021-11-13T17:18:03.842Z"
   },
   {
    "duration": 1860,
    "start_time": "2021-11-13T17:18:31.742Z"
   },
   {
    "duration": 111,
    "start_time": "2021-11-13T17:18:33.605Z"
   },
   {
    "duration": 173,
    "start_time": "2021-11-13T17:18:33.720Z"
   },
   {
    "duration": 84,
    "start_time": "2021-11-13T17:18:33.896Z"
   },
   {
    "duration": 105,
    "start_time": "2021-11-13T17:18:33.983Z"
   },
   {
    "duration": 54,
    "start_time": "2021-11-13T17:18:34.091Z"
   },
   {
    "duration": 56,
    "start_time": "2021-11-13T17:18:34.161Z"
   },
   {
    "duration": 32,
    "start_time": "2021-11-13T17:18:34.220Z"
   },
   {
    "duration": 577,
    "start_time": "2021-11-13T17:18:34.255Z"
   },
   {
    "duration": 1577,
    "start_time": "2021-11-13T17:18:33.258Z"
   },
   {
    "duration": 1577,
    "start_time": "2021-11-13T17:18:33.259Z"
   },
   {
    "duration": 1734,
    "start_time": "2021-11-13T17:19:27.833Z"
   },
   {
    "duration": 104,
    "start_time": "2021-11-13T17:19:29.570Z"
   },
   {
    "duration": 141,
    "start_time": "2021-11-13T17:19:29.679Z"
   },
   {
    "duration": 83,
    "start_time": "2021-11-13T17:19:29.823Z"
   },
   {
    "duration": 102,
    "start_time": "2021-11-13T17:19:29.908Z"
   },
   {
    "duration": 76,
    "start_time": "2021-11-13T17:19:30.013Z"
   },
   {
    "duration": 56,
    "start_time": "2021-11-13T17:19:30.091Z"
   },
   {
    "duration": 38,
    "start_time": "2021-11-13T17:19:30.150Z"
   },
   {
    "duration": 35,
    "start_time": "2021-11-13T17:19:30.191Z"
   },
   {
    "duration": 53,
    "start_time": "2021-11-13T17:19:30.228Z"
   },
   {
    "duration": 148,
    "start_time": "2021-11-13T17:19:30.284Z"
   },
   {
    "duration": 1857,
    "start_time": "2021-11-13T17:22:27.634Z"
   },
   {
    "duration": 92,
    "start_time": "2021-11-13T17:22:29.494Z"
   },
   {
    "duration": 149,
    "start_time": "2021-11-13T17:22:29.590Z"
   },
   {
    "duration": 82,
    "start_time": "2021-11-13T17:22:29.743Z"
   },
   {
    "duration": 110,
    "start_time": "2021-11-13T17:22:29.828Z"
   },
   {
    "duration": 75,
    "start_time": "2021-11-13T17:22:29.941Z"
   },
   {
    "duration": 58,
    "start_time": "2021-11-13T17:22:30.018Z"
   },
   {
    "duration": 36,
    "start_time": "2021-11-13T17:22:30.081Z"
   },
   {
    "duration": 601,
    "start_time": "2021-11-13T17:22:30.120Z"
   },
   {
    "duration": 1677,
    "start_time": "2021-11-13T17:22:29.046Z"
   },
   {
    "duration": 1677,
    "start_time": "2021-11-13T17:22:29.048Z"
   },
   {
    "duration": 1640,
    "start_time": "2021-11-13T17:22:42.206Z"
   },
   {
    "duration": 91,
    "start_time": "2021-11-13T17:22:43.848Z"
   },
   {
    "duration": 193,
    "start_time": "2021-11-13T17:22:43.943Z"
   },
   {
    "duration": 93,
    "start_time": "2021-11-13T17:22:44.140Z"
   },
   {
    "duration": 126,
    "start_time": "2021-11-13T17:22:44.236Z"
   },
   {
    "duration": 58,
    "start_time": "2021-11-13T17:22:44.366Z"
   },
   {
    "duration": 61,
    "start_time": "2021-11-13T17:22:44.428Z"
   },
   {
    "duration": 32,
    "start_time": "2021-11-13T17:22:44.492Z"
   },
   {
    "duration": 55,
    "start_time": "2021-11-13T17:22:44.527Z"
   },
   {
    "duration": 20,
    "start_time": "2021-11-13T17:22:44.587Z"
   },
   {
    "duration": 155,
    "start_time": "2021-11-13T17:22:44.609Z"
   },
   {
    "duration": 20,
    "start_time": "2021-11-13T17:37:04.715Z"
   },
   {
    "duration": 17,
    "start_time": "2021-11-13T17:37:17.996Z"
   },
   {
    "duration": 1759,
    "start_time": "2021-11-13T18:06:00.778Z"
   },
   {
    "duration": 96,
    "start_time": "2021-11-13T18:06:02.541Z"
   },
   {
    "duration": 163,
    "start_time": "2021-11-13T18:06:02.641Z"
   },
   {
    "duration": 85,
    "start_time": "2021-11-13T18:06:02.808Z"
   },
   {
    "duration": 102,
    "start_time": "2021-11-13T18:06:02.896Z"
   },
   {
    "duration": 81,
    "start_time": "2021-11-13T18:06:03.001Z"
   },
   {
    "duration": 45,
    "start_time": "2021-11-13T18:06:03.085Z"
   },
   {
    "duration": 36,
    "start_time": "2021-11-13T18:06:03.133Z"
   },
   {
    "duration": 28,
    "start_time": "2021-11-13T18:06:03.175Z"
   },
   {
    "duration": 32,
    "start_time": "2021-11-13T18:06:03.206Z"
   },
   {
    "duration": 37,
    "start_time": "2021-11-13T18:06:03.241Z"
   },
   {
    "duration": 120,
    "start_time": "2021-11-13T18:06:03.281Z"
   },
   {
    "duration": 1817,
    "start_time": "2021-11-13T18:07:31.485Z"
   },
   {
    "duration": 96,
    "start_time": "2021-11-13T18:07:33.305Z"
   },
   {
    "duration": 143,
    "start_time": "2021-11-13T18:07:33.404Z"
   },
   {
    "duration": 74,
    "start_time": "2021-11-13T18:07:33.550Z"
   },
   {
    "duration": 112,
    "start_time": "2021-11-13T18:07:33.627Z"
   },
   {
    "duration": 65,
    "start_time": "2021-11-13T18:07:33.742Z"
   },
   {
    "duration": 62,
    "start_time": "2021-11-13T18:07:33.809Z"
   },
   {
    "duration": 36,
    "start_time": "2021-11-13T18:07:33.876Z"
   },
   {
    "duration": 9,
    "start_time": "2021-11-13T18:07:33.918Z"
   },
   {
    "duration": 63,
    "start_time": "2021-11-13T18:07:33.929Z"
   },
   {
    "duration": 19,
    "start_time": "2021-11-13T18:07:33.995Z"
   },
   {
    "duration": 126,
    "start_time": "2021-11-13T18:07:34.016Z"
   },
   {
    "duration": 1750,
    "start_time": "2021-11-13T18:08:26.585Z"
   },
   {
    "duration": 100,
    "start_time": "2021-11-13T18:08:28.337Z"
   },
   {
    "duration": 155,
    "start_time": "2021-11-13T18:08:28.440Z"
   },
   {
    "duration": 89,
    "start_time": "2021-11-13T18:08:28.598Z"
   },
   {
    "duration": 108,
    "start_time": "2021-11-13T18:08:28.689Z"
   },
   {
    "duration": 80,
    "start_time": "2021-11-13T18:08:28.800Z"
   },
   {
    "duration": 46,
    "start_time": "2021-11-13T18:08:28.884Z"
   },
   {
    "duration": 48,
    "start_time": "2021-11-13T18:08:28.933Z"
   },
   {
    "duration": 28,
    "start_time": "2021-11-13T18:08:28.987Z"
   },
   {
    "duration": 47,
    "start_time": "2021-11-13T18:08:29.017Z"
   },
   {
    "duration": 23,
    "start_time": "2021-11-13T18:08:29.067Z"
   },
   {
    "duration": 168,
    "start_time": "2021-11-13T18:08:29.093Z"
   },
   {
    "duration": 1710,
    "start_time": "2021-11-13T18:08:56.143Z"
   },
   {
    "duration": 89,
    "start_time": "2021-11-13T18:08:57.855Z"
   },
   {
    "duration": 153,
    "start_time": "2021-11-13T18:08:57.960Z"
   },
   {
    "duration": 87,
    "start_time": "2021-11-13T18:08:58.116Z"
   },
   {
    "duration": 107,
    "start_time": "2021-11-13T18:08:58.205Z"
   },
   {
    "duration": 72,
    "start_time": "2021-11-13T18:08:58.314Z"
   },
   {
    "duration": 54,
    "start_time": "2021-11-13T18:08:58.389Z"
   },
   {
    "duration": 39,
    "start_time": "2021-11-13T18:08:58.446Z"
   },
   {
    "duration": 7,
    "start_time": "2021-11-13T18:08:58.488Z"
   },
   {
    "duration": 31,
    "start_time": "2021-11-13T18:08:58.498Z"
   },
   {
    "duration": 52,
    "start_time": "2021-11-13T18:08:58.531Z"
   },
   {
    "duration": 135,
    "start_time": "2021-11-13T18:08:58.586Z"
   },
   {
    "duration": 1734,
    "start_time": "2021-11-13T18:09:46.147Z"
   },
   {
    "duration": 106,
    "start_time": "2021-11-13T18:09:47.886Z"
   },
   {
    "duration": 145,
    "start_time": "2021-11-13T18:09:47.996Z"
   },
   {
    "duration": 79,
    "start_time": "2021-11-13T18:09:48.144Z"
   },
   {
    "duration": 109,
    "start_time": "2021-11-13T18:09:48.225Z"
   },
   {
    "duration": 67,
    "start_time": "2021-11-13T18:09:48.337Z"
   },
   {
    "duration": 45,
    "start_time": "2021-11-13T18:09:48.406Z"
   },
   {
    "duration": 40,
    "start_time": "2021-11-13T18:09:48.463Z"
   },
   {
    "duration": 18,
    "start_time": "2021-11-13T18:09:48.506Z"
   },
   {
    "duration": 45,
    "start_time": "2021-11-13T18:09:48.526Z"
   },
   {
    "duration": 17,
    "start_time": "2021-11-13T18:09:48.575Z"
   },
   {
    "duration": 120,
    "start_time": "2021-11-13T18:09:48.595Z"
   },
   {
    "duration": 1794,
    "start_time": "2021-11-13T18:12:41.378Z"
   },
   {
    "duration": 107,
    "start_time": "2021-11-13T18:12:43.176Z"
   },
   {
    "duration": 145,
    "start_time": "2021-11-13T18:12:43.285Z"
   },
   {
    "duration": 87,
    "start_time": "2021-11-13T18:12:43.433Z"
   },
   {
    "duration": 107,
    "start_time": "2021-11-13T18:12:43.522Z"
   },
   {
    "duration": 64,
    "start_time": "2021-11-13T18:12:43.632Z"
   },
   {
    "duration": 45,
    "start_time": "2021-11-13T18:12:43.698Z"
   },
   {
    "duration": 41,
    "start_time": "2021-11-13T18:12:43.745Z"
   },
   {
    "duration": 17,
    "start_time": "2021-11-13T18:12:43.791Z"
   },
   {
    "duration": 70,
    "start_time": "2021-11-13T18:12:43.811Z"
   },
   {
    "duration": 19,
    "start_time": "2021-11-13T18:12:43.884Z"
   },
   {
    "duration": 196,
    "start_time": "2021-11-13T18:12:43.906Z"
   },
   {
    "duration": 1727,
    "start_time": "2021-11-13T18:12:51.620Z"
   },
   {
    "duration": 92,
    "start_time": "2021-11-13T18:12:53.350Z"
   },
   {
    "duration": 158,
    "start_time": "2021-11-13T18:12:53.445Z"
   },
   {
    "duration": 87,
    "start_time": "2021-11-13T18:12:53.606Z"
   },
   {
    "duration": 106,
    "start_time": "2021-11-13T18:12:53.696Z"
   },
   {
    "duration": 78,
    "start_time": "2021-11-13T18:12:53.804Z"
   },
   {
    "duration": 49,
    "start_time": "2021-11-13T18:12:53.884Z"
   },
   {
    "duration": 38,
    "start_time": "2021-11-13T18:12:53.938Z"
   },
   {
    "duration": 19,
    "start_time": "2021-11-13T18:12:53.979Z"
   },
   {
    "duration": 32,
    "start_time": "2021-11-13T18:12:54.001Z"
   },
   {
    "duration": 46,
    "start_time": "2021-11-13T18:12:54.035Z"
   },
   {
    "duration": 124,
    "start_time": "2021-11-13T18:12:54.083Z"
   },
   {
    "duration": 1657,
    "start_time": "2021-11-13T18:31:19.177Z"
   },
   {
    "duration": 98,
    "start_time": "2021-11-13T18:31:20.837Z"
   },
   {
    "duration": 167,
    "start_time": "2021-11-13T18:31:20.938Z"
   },
   {
    "duration": 90,
    "start_time": "2021-11-13T18:31:21.108Z"
   },
   {
    "duration": 103,
    "start_time": "2021-11-13T18:31:21.201Z"
   },
   {
    "duration": 71,
    "start_time": "2021-11-13T18:31:21.306Z"
   },
   {
    "duration": 45,
    "start_time": "2021-11-13T18:31:21.379Z"
   },
   {
    "duration": 34,
    "start_time": "2021-11-13T18:31:21.427Z"
   },
   {
    "duration": 33,
    "start_time": "2021-11-13T18:31:21.465Z"
   },
   {
    "duration": 33,
    "start_time": "2021-11-13T18:31:21.500Z"
   },
   {
    "duration": 44,
    "start_time": "2021-11-13T18:31:21.535Z"
   },
   {
    "duration": 10,
    "start_time": "2021-11-13T18:31:21.582Z"
   },
   {
    "duration": 2628,
    "start_time": "2021-11-13T18:32:34.115Z"
   },
   {
    "duration": 114,
    "start_time": "2021-11-13T18:32:36.745Z"
   },
   {
    "duration": 151,
    "start_time": "2021-11-13T18:32:36.864Z"
   },
   {
    "duration": 89,
    "start_time": "2021-11-13T18:32:37.017Z"
   },
   {
    "duration": 112,
    "start_time": "2021-11-13T18:32:37.109Z"
   },
   {
    "duration": 76,
    "start_time": "2021-11-13T18:32:37.224Z"
   },
   {
    "duration": 47,
    "start_time": "2021-11-13T18:32:37.302Z"
   },
   {
    "duration": 47,
    "start_time": "2021-11-13T18:32:37.353Z"
   },
   {
    "duration": 20,
    "start_time": "2021-11-13T18:32:37.404Z"
   },
   {
    "duration": 46,
    "start_time": "2021-11-13T18:32:37.427Z"
   },
   {
    "duration": 20,
    "start_time": "2021-11-13T18:32:37.477Z"
   },
   {
    "duration": 33,
    "start_time": "2021-11-13T18:32:37.499Z"
   },
   {
    "duration": 630,
    "start_time": "2021-11-13T18:32:37.534Z"
   },
   {
    "duration": 1848,
    "start_time": "2021-11-13T18:33:39.779Z"
   },
   {
    "duration": 103,
    "start_time": "2021-11-13T18:33:41.631Z"
   },
   {
    "duration": 175,
    "start_time": "2021-11-13T18:33:41.737Z"
   },
   {
    "duration": 84,
    "start_time": "2021-11-13T18:33:41.915Z"
   },
   {
    "duration": 105,
    "start_time": "2021-11-13T18:33:42.001Z"
   },
   {
    "duration": 78,
    "start_time": "2021-11-13T18:33:42.109Z"
   },
   {
    "duration": 59,
    "start_time": "2021-11-13T18:33:42.190Z"
   },
   {
    "duration": 60,
    "start_time": "2021-11-13T18:33:42.252Z"
   },
   {
    "duration": 19,
    "start_time": "2021-11-13T18:33:42.316Z"
   },
   {
    "duration": 52,
    "start_time": "2021-11-13T18:33:42.337Z"
   },
   {
    "duration": 17,
    "start_time": "2021-11-13T18:33:42.391Z"
   },
   {
    "duration": 9,
    "start_time": "2021-11-13T18:33:42.411Z"
   },
   {
    "duration": 1750,
    "start_time": "2021-11-13T18:33:54.676Z"
   },
   {
    "duration": 92,
    "start_time": "2021-11-13T18:33:56.429Z"
   },
   {
    "duration": 167,
    "start_time": "2021-11-13T18:33:56.524Z"
   },
   {
    "duration": 92,
    "start_time": "2021-11-13T18:33:56.694Z"
   },
   {
    "duration": 112,
    "start_time": "2021-11-13T18:33:56.789Z"
   },
   {
    "duration": 86,
    "start_time": "2021-11-13T18:33:56.905Z"
   },
   {
    "duration": 45,
    "start_time": "2021-11-13T18:33:56.994Z"
   },
   {
    "duration": 43,
    "start_time": "2021-11-13T18:33:57.043Z"
   },
   {
    "duration": 15,
    "start_time": "2021-11-13T18:33:57.089Z"
   },
   {
    "duration": 60,
    "start_time": "2021-11-13T18:33:57.107Z"
   },
   {
    "duration": 17,
    "start_time": "2021-11-13T18:33:57.171Z"
   },
   {
    "duration": 12,
    "start_time": "2021-11-13T18:33:57.191Z"
   },
   {
    "duration": 13065,
    "start_time": "2021-11-13T18:33:57.205Z"
   },
   {
    "duration": 1745,
    "start_time": "2021-11-13T18:34:48.543Z"
   },
   {
    "duration": 105,
    "start_time": "2021-11-13T18:34:50.291Z"
   },
   {
    "duration": 151,
    "start_time": "2021-11-13T18:34:50.399Z"
   },
   {
    "duration": 72,
    "start_time": "2021-11-13T18:34:50.552Z"
   },
   {
    "duration": 104,
    "start_time": "2021-11-13T18:34:50.626Z"
   },
   {
    "duration": 61,
    "start_time": "2021-11-13T18:34:50.733Z"
   },
   {
    "duration": 45,
    "start_time": "2021-11-13T18:34:50.797Z"
   },
   {
    "duration": 44,
    "start_time": "2021-11-13T18:34:50.845Z"
   },
   {
    "duration": 16,
    "start_time": "2021-11-13T18:34:50.892Z"
   },
   {
    "duration": 40,
    "start_time": "2021-11-13T18:34:50.911Z"
   },
   {
    "duration": 24,
    "start_time": "2021-11-13T18:34:50.954Z"
   },
   {
    "duration": 10,
    "start_time": "2021-11-13T18:34:50.981Z"
   },
   {
    "duration": 1086,
    "start_time": "2021-11-13T18:34:50.993Z"
   },
   {
    "duration": 1825,
    "start_time": "2021-11-13T18:35:42.259Z"
   },
   {
    "duration": 101,
    "start_time": "2021-11-13T18:35:44.087Z"
   },
   {
    "duration": 144,
    "start_time": "2021-11-13T18:35:44.191Z"
   },
   {
    "duration": 75,
    "start_time": "2021-11-13T18:35:44.338Z"
   },
   {
    "duration": 109,
    "start_time": "2021-11-13T18:35:44.416Z"
   },
   {
    "duration": 71,
    "start_time": "2021-11-13T18:35:44.527Z"
   },
   {
    "duration": 44,
    "start_time": "2021-11-13T18:35:44.600Z"
   },
   {
    "duration": 39,
    "start_time": "2021-11-13T18:35:44.646Z"
   },
   {
    "duration": 15,
    "start_time": "2021-11-13T18:35:44.688Z"
   },
   {
    "duration": 57,
    "start_time": "2021-11-13T18:35:44.706Z"
   },
   {
    "duration": 19,
    "start_time": "2021-11-13T18:35:44.765Z"
   },
   {
    "duration": 9,
    "start_time": "2021-11-13T18:35:44.786Z"
   },
   {
    "duration": 162,
    "start_time": "2021-11-13T18:35:44.798Z"
   },
   {
    "duration": 1644,
    "start_time": "2021-11-13T18:36:23.108Z"
   },
   {
    "duration": 90,
    "start_time": "2021-11-13T18:36:24.754Z"
   },
   {
    "duration": 202,
    "start_time": "2021-11-13T18:36:24.848Z"
   },
   {
    "duration": 73,
    "start_time": "2021-11-13T18:36:25.065Z"
   },
   {
    "duration": 102,
    "start_time": "2021-11-13T18:36:25.141Z"
   },
   {
    "duration": 61,
    "start_time": "2021-11-13T18:36:25.259Z"
   },
   {
    "duration": 55,
    "start_time": "2021-11-13T18:36:25.323Z"
   },
   {
    "duration": 34,
    "start_time": "2021-11-13T18:36:25.382Z"
   },
   {
    "duration": 15,
    "start_time": "2021-11-13T18:36:25.419Z"
   },
   {
    "duration": 54,
    "start_time": "2021-11-13T18:36:25.436Z"
   },
   {
    "duration": 22,
    "start_time": "2021-11-13T18:36:25.492Z"
   },
   {
    "duration": 9,
    "start_time": "2021-11-13T18:36:25.516Z"
   },
   {
    "duration": 170,
    "start_time": "2021-11-13T18:36:25.528Z"
   },
   {
    "duration": 1671,
    "start_time": "2021-11-13T18:37:44.907Z"
   },
   {
    "duration": 103,
    "start_time": "2021-11-13T18:37:46.581Z"
   },
   {
    "duration": 182,
    "start_time": "2021-11-13T18:37:46.687Z"
   },
   {
    "duration": 63,
    "start_time": "2021-11-13T18:37:46.875Z"
   },
   {
    "duration": 104,
    "start_time": "2021-11-13T18:37:46.940Z"
   },
   {
    "duration": 63,
    "start_time": "2021-11-13T18:37:47.047Z"
   },
   {
    "duration": 55,
    "start_time": "2021-11-13T18:37:47.113Z"
   },
   {
    "duration": 37,
    "start_time": "2021-11-13T18:37:47.174Z"
   },
   {
    "duration": 17,
    "start_time": "2021-11-13T18:37:47.214Z"
   },
   {
    "duration": 40,
    "start_time": "2021-11-13T18:37:47.234Z"
   },
   {
    "duration": 18,
    "start_time": "2021-11-13T18:37:47.277Z"
   },
   {
    "duration": 9,
    "start_time": "2021-11-13T18:37:47.298Z"
   },
   {
    "duration": 161,
    "start_time": "2021-11-13T18:37:47.309Z"
   },
   {
    "duration": 1974,
    "start_time": "2021-11-13T18:38:45.342Z"
   },
   {
    "duration": 91,
    "start_time": "2021-11-13T18:38:47.319Z"
   },
   {
    "duration": 254,
    "start_time": "2021-11-13T18:38:47.413Z"
   },
   {
    "duration": 64,
    "start_time": "2021-11-13T18:38:47.672Z"
   },
   {
    "duration": 124,
    "start_time": "2021-11-13T18:38:47.738Z"
   },
   {
    "duration": 62,
    "start_time": "2021-11-13T18:38:47.864Z"
   },
   {
    "duration": 58,
    "start_time": "2021-11-13T18:38:47.928Z"
   },
   {
    "duration": 32,
    "start_time": "2021-11-13T18:38:47.989Z"
   },
   {
    "duration": 16,
    "start_time": "2021-11-13T18:38:48.023Z"
   },
   {
    "duration": 53,
    "start_time": "2021-11-13T18:38:48.041Z"
   },
   {
    "duration": 16,
    "start_time": "2021-11-13T18:38:48.097Z"
   },
   {
    "duration": 9,
    "start_time": "2021-11-13T18:38:48.116Z"
   },
   {
    "duration": 179,
    "start_time": "2021-11-13T18:38:48.128Z"
   },
   {
    "duration": 1873,
    "start_time": "2021-11-13T18:43:41.135Z"
   },
   {
    "duration": 104,
    "start_time": "2021-11-13T18:43:43.011Z"
   },
   {
    "duration": 161,
    "start_time": "2021-11-13T18:43:43.118Z"
   },
   {
    "duration": 95,
    "start_time": "2021-11-13T18:43:43.282Z"
   },
   {
    "duration": 114,
    "start_time": "2021-11-13T18:43:43.379Z"
   },
   {
    "duration": 88,
    "start_time": "2021-11-13T18:43:43.496Z"
   },
   {
    "duration": 47,
    "start_time": "2021-11-13T18:43:43.587Z"
   },
   {
    "duration": 43,
    "start_time": "2021-11-13T18:43:43.638Z"
   },
   {
    "duration": 29,
    "start_time": "2021-11-13T18:43:43.684Z"
   },
   {
    "duration": 33,
    "start_time": "2021-11-13T18:43:43.715Z"
   },
   {
    "duration": 32,
    "start_time": "2021-11-13T18:43:43.751Z"
   },
   {
    "duration": 11,
    "start_time": "2021-11-13T18:43:43.786Z"
   },
   {
    "duration": 183,
    "start_time": "2021-11-13T18:43:43.799Z"
   },
   {
    "duration": 1670,
    "start_time": "2021-11-13T18:45:32.787Z"
   },
   {
    "duration": 105,
    "start_time": "2021-11-13T18:45:34.460Z"
   },
   {
    "duration": 152,
    "start_time": "2021-11-13T18:45:34.570Z"
   },
   {
    "duration": 80,
    "start_time": "2021-11-13T18:45:34.725Z"
   },
   {
    "duration": 115,
    "start_time": "2021-11-13T18:45:34.807Z"
   },
   {
    "duration": 69,
    "start_time": "2021-11-13T18:45:34.924Z"
   },
   {
    "duration": 46,
    "start_time": "2021-11-13T18:45:34.995Z"
   },
   {
    "duration": 47,
    "start_time": "2021-11-13T18:45:35.044Z"
   },
   {
    "duration": 18,
    "start_time": "2021-11-13T18:45:35.095Z"
   },
   {
    "duration": 46,
    "start_time": "2021-11-13T18:45:35.116Z"
   },
   {
    "duration": 20,
    "start_time": "2021-11-13T18:45:35.166Z"
   },
   {
    "duration": 15,
    "start_time": "2021-11-13T18:45:35.188Z"
   },
   {
    "duration": 167,
    "start_time": "2021-11-13T18:45:35.206Z"
   },
   {
    "duration": 1673,
    "start_time": "2021-11-14T11:23:19.390Z"
   },
   {
    "duration": 116,
    "start_time": "2021-11-14T11:23:21.067Z"
   },
   {
    "duration": 151,
    "start_time": "2021-11-14T11:23:21.187Z"
   },
   {
    "duration": 77,
    "start_time": "2021-11-14T11:23:21.341Z"
   },
   {
    "duration": 113,
    "start_time": "2021-11-14T11:23:21.421Z"
   },
   {
    "duration": 69,
    "start_time": "2021-11-14T11:23:21.536Z"
   },
   {
    "duration": 44,
    "start_time": "2021-11-14T11:23:21.607Z"
   },
   {
    "duration": 33,
    "start_time": "2021-11-14T11:23:21.671Z"
   },
   {
    "duration": 19,
    "start_time": "2021-11-14T11:23:21.710Z"
   },
   {
    "duration": 67,
    "start_time": "2021-11-14T11:23:21.732Z"
   },
   {
    "duration": 17,
    "start_time": "2021-11-14T11:23:21.802Z"
   },
   {
    "duration": 9,
    "start_time": "2021-11-14T11:23:21.822Z"
   },
   {
    "duration": 183,
    "start_time": "2021-11-14T11:23:21.833Z"
   },
   {
    "duration": 19,
    "start_time": "2021-11-14T11:23:22.018Z"
   },
   {
    "duration": 531,
    "start_time": "2021-11-14T11:24:40.989Z"
   },
   {
    "duration": 25,
    "start_time": "2021-11-14T11:24:59.830Z"
   },
   {
    "duration": 27,
    "start_time": "2021-11-14T11:29:38.360Z"
   },
   {
    "duration": 125,
    "start_time": "2021-11-14T11:37:08.512Z"
   },
   {
    "duration": 16,
    "start_time": "2021-11-14T11:38:55.523Z"
   },
   {
    "duration": 1082,
    "start_time": "2021-11-14T11:44:36.928Z"
   },
   {
    "duration": 386,
    "start_time": "2021-11-14T11:45:10.820Z"
   },
   {
    "duration": 1829,
    "start_time": "2021-11-14T11:45:20.785Z"
   },
   {
    "duration": 101,
    "start_time": "2021-11-14T11:45:22.616Z"
   },
   {
    "duration": 177,
    "start_time": "2021-11-14T11:45:22.720Z"
   },
   {
    "duration": 87,
    "start_time": "2021-11-14T11:45:22.900Z"
   },
   {
    "duration": 110,
    "start_time": "2021-11-14T11:45:22.989Z"
   },
   {
    "duration": 71,
    "start_time": "2021-11-14T11:45:23.102Z"
   },
   {
    "duration": 75,
    "start_time": "2021-11-14T11:45:23.176Z"
   },
   {
    "duration": 41,
    "start_time": "2021-11-14T11:45:23.255Z"
   },
   {
    "duration": 13,
    "start_time": "2021-11-14T11:45:23.298Z"
   },
   {
    "duration": 61,
    "start_time": "2021-11-14T11:45:23.313Z"
   },
   {
    "duration": 17,
    "start_time": "2021-11-14T11:45:23.378Z"
   },
   {
    "duration": 13,
    "start_time": "2021-11-14T11:45:23.398Z"
   },
   {
    "duration": 204,
    "start_time": "2021-11-14T11:45:23.413Z"
   },
   {
    "duration": 9,
    "start_time": "2021-11-14T11:45:23.620Z"
   },
   {
    "duration": 580,
    "start_time": "2021-11-14T11:45:23.632Z"
   },
   {
    "duration": 498,
    "start_time": "2021-11-14T11:45:41.240Z"
   },
   {
    "duration": 463,
    "start_time": "2021-11-14T11:46:00.485Z"
   },
   {
    "duration": 460,
    "start_time": "2021-11-14T11:46:07.694Z"
   },
   {
    "duration": 479,
    "start_time": "2021-11-14T11:46:16.280Z"
   },
   {
    "duration": 869,
    "start_time": "2021-11-14T11:46:28.658Z"
   },
   {
    "duration": 568,
    "start_time": "2021-11-14T11:46:37.971Z"
   },
   {
    "duration": 309,
    "start_time": "2021-11-14T11:47:43.601Z"
   },
   {
    "duration": 1664,
    "start_time": "2021-11-14T11:48:27.327Z"
   },
   {
    "duration": 125,
    "start_time": "2021-11-14T11:48:28.994Z"
   },
   {
    "duration": 165,
    "start_time": "2021-11-14T11:48:29.123Z"
   },
   {
    "duration": 93,
    "start_time": "2021-11-14T11:48:29.290Z"
   },
   {
    "duration": 103,
    "start_time": "2021-11-14T11:48:29.386Z"
   },
   {
    "duration": 74,
    "start_time": "2021-11-14T11:48:29.492Z"
   },
   {
    "duration": 65,
    "start_time": "2021-11-14T11:48:29.570Z"
   },
   {
    "duration": 43,
    "start_time": "2021-11-14T11:48:29.637Z"
   },
   {
    "duration": 16,
    "start_time": "2021-11-14T11:48:29.683Z"
   },
   {
    "duration": 76,
    "start_time": "2021-11-14T11:48:29.701Z"
   },
   {
    "duration": 20,
    "start_time": "2021-11-14T11:48:29.779Z"
   },
   {
    "duration": 12,
    "start_time": "2021-11-14T11:48:29.802Z"
   },
   {
    "duration": 184,
    "start_time": "2021-11-14T11:48:29.817Z"
   },
   {
    "duration": 17,
    "start_time": "2021-11-14T11:48:30.004Z"
   },
   {
    "duration": 336,
    "start_time": "2021-11-14T11:48:30.023Z"
   },
   {
    "duration": 1900,
    "start_time": "2021-11-14T11:52:45.403Z"
   },
   {
    "duration": 104,
    "start_time": "2021-11-14T11:52:47.306Z"
   },
   {
    "duration": 173,
    "start_time": "2021-11-14T11:52:47.413Z"
   },
   {
    "duration": 88,
    "start_time": "2021-11-14T11:52:47.589Z"
   },
   {
    "duration": 105,
    "start_time": "2021-11-14T11:52:47.679Z"
   },
   {
    "duration": 89,
    "start_time": "2021-11-14T11:52:47.788Z"
   },
   {
    "duration": 79,
    "start_time": "2021-11-14T11:52:47.880Z"
   },
   {
    "duration": 36,
    "start_time": "2021-11-14T11:52:47.963Z"
   },
   {
    "duration": 18,
    "start_time": "2021-11-14T11:52:48.002Z"
   },
   {
    "duration": 78,
    "start_time": "2021-11-14T11:52:48.022Z"
   },
   {
    "duration": 17,
    "start_time": "2021-11-14T11:52:48.103Z"
   },
   {
    "duration": 42,
    "start_time": "2021-11-14T11:52:48.124Z"
   },
   {
    "duration": 166,
    "start_time": "2021-11-14T11:52:48.170Z"
   },
   {
    "duration": 43,
    "start_time": "2021-11-14T11:52:48.339Z"
   },
   {
    "duration": 543,
    "start_time": "2021-11-14T11:52:48.384Z"
   },
   {
    "duration": 1729,
    "start_time": "2021-11-14T11:54:43.588Z"
   },
   {
    "duration": 99,
    "start_time": "2021-11-14T11:54:45.320Z"
   },
   {
    "duration": 164,
    "start_time": "2021-11-14T11:54:45.422Z"
   },
   {
    "duration": 97,
    "start_time": "2021-11-14T11:54:45.590Z"
   },
   {
    "duration": 111,
    "start_time": "2021-11-14T11:54:45.690Z"
   },
   {
    "duration": 76,
    "start_time": "2021-11-14T11:54:45.804Z"
   },
   {
    "duration": 86,
    "start_time": "2021-11-14T11:54:45.882Z"
   },
   {
    "duration": 35,
    "start_time": "2021-11-14T11:54:45.971Z"
   },
   {
    "duration": 15,
    "start_time": "2021-11-14T11:54:46.010Z"
   },
   {
    "duration": 71,
    "start_time": "2021-11-14T11:54:46.028Z"
   },
   {
    "duration": 19,
    "start_time": "2021-11-14T11:54:46.102Z"
   },
   {
    "duration": 41,
    "start_time": "2021-11-14T11:54:46.124Z"
   },
   {
    "duration": 760,
    "start_time": "2021-11-14T11:54:46.171Z"
   },
   {
    "duration": -168,
    "start_time": "2021-11-14T11:54:47.101Z"
   },
   {
    "duration": -171,
    "start_time": "2021-11-14T11:54:47.106Z"
   },
   {
    "duration": 1648,
    "start_time": "2021-11-14T11:55:36.220Z"
   },
   {
    "duration": 112,
    "start_time": "2021-11-14T11:55:37.871Z"
   },
   {
    "duration": 150,
    "start_time": "2021-11-14T11:55:37.987Z"
   },
   {
    "duration": 84,
    "start_time": "2021-11-14T11:55:38.140Z"
   },
   {
    "duration": 118,
    "start_time": "2021-11-14T11:55:38.227Z"
   },
   {
    "duration": 64,
    "start_time": "2021-11-14T11:55:38.361Z"
   },
   {
    "duration": 77,
    "start_time": "2021-11-14T11:55:38.427Z"
   },
   {
    "duration": 33,
    "start_time": "2021-11-14T11:55:38.508Z"
   },
   {
    "duration": 19,
    "start_time": "2021-11-14T11:55:38.544Z"
   },
   {
    "duration": 35,
    "start_time": "2021-11-14T11:55:38.568Z"
   },
   {
    "duration": 16,
    "start_time": "2021-11-14T11:55:38.605Z"
   },
   {
    "duration": 51,
    "start_time": "2021-11-14T11:55:38.624Z"
   },
   {
    "duration": 640,
    "start_time": "2021-11-14T11:55:38.678Z"
   },
   {
    "duration": -193,
    "start_time": "2021-11-14T11:55:39.514Z"
   },
   {
    "duration": -196,
    "start_time": "2021-11-14T11:55:39.519Z"
   },
   {
    "duration": 1678,
    "start_time": "2021-11-14T11:56:04.455Z"
   },
   {
    "duration": 103,
    "start_time": "2021-11-14T11:56:06.136Z"
   },
   {
    "duration": 157,
    "start_time": "2021-11-14T11:56:06.242Z"
   },
   {
    "duration": 81,
    "start_time": "2021-11-14T11:56:06.402Z"
   },
   {
    "duration": 105,
    "start_time": "2021-11-14T11:56:06.485Z"
   },
   {
    "duration": 76,
    "start_time": "2021-11-14T11:56:06.593Z"
   },
   {
    "duration": 58,
    "start_time": "2021-11-14T11:56:06.672Z"
   },
   {
    "duration": 36,
    "start_time": "2021-11-14T11:56:06.732Z"
   },
   {
    "duration": 16,
    "start_time": "2021-11-14T11:56:06.773Z"
   },
   {
    "duration": 32,
    "start_time": "2021-11-14T11:56:06.792Z"
   },
   {
    "duration": 25,
    "start_time": "2021-11-14T11:56:06.859Z"
   },
   {
    "duration": 9,
    "start_time": "2021-11-14T11:56:06.887Z"
   },
   {
    "duration": 651,
    "start_time": "2021-11-14T11:56:06.898Z"
   },
   {
    "duration": -223,
    "start_time": "2021-11-14T11:56:07.775Z"
   },
   {
    "duration": -228,
    "start_time": "2021-11-14T11:56:07.781Z"
   },
   {
    "duration": 516,
    "start_time": "2021-11-14T11:57:14.403Z"
   },
   {
    "duration": 9657,
    "start_time": "2021-11-14T11:57:51.291Z"
   },
   {
    "duration": 522,
    "start_time": "2021-11-14T11:58:21.560Z"
   },
   {
    "duration": 136,
    "start_time": "2021-11-14T11:58:39.913Z"
   },
   {
    "duration": 520,
    "start_time": "2021-11-14T11:59:03.776Z"
   },
   {
    "duration": 517,
    "start_time": "2021-11-14T11:59:40.822Z"
   },
   {
    "duration": 504,
    "start_time": "2021-11-14T11:59:46.043Z"
   },
   {
    "duration": 562,
    "start_time": "2021-11-14T12:00:03.550Z"
   },
   {
    "duration": 504,
    "start_time": "2021-11-14T12:00:38.884Z"
   },
   {
    "duration": 494,
    "start_time": "2021-11-14T12:01:22.308Z"
   },
   {
    "duration": 516,
    "start_time": "2021-11-14T12:01:33.973Z"
   },
   {
    "duration": 135,
    "start_time": "2021-11-14T12:01:49.739Z"
   },
   {
    "duration": 132,
    "start_time": "2021-11-14T12:02:44.217Z"
   },
   {
    "duration": 1821,
    "start_time": "2021-11-14T12:02:59.908Z"
   },
   {
    "duration": 101,
    "start_time": "2021-11-14T12:03:01.732Z"
   },
   {
    "duration": 175,
    "start_time": "2021-11-14T12:03:01.837Z"
   },
   {
    "duration": 87,
    "start_time": "2021-11-14T12:03:02.015Z"
   },
   {
    "duration": 118,
    "start_time": "2021-11-14T12:03:02.104Z"
   },
   {
    "duration": 75,
    "start_time": "2021-11-14T12:03:02.224Z"
   },
   {
    "duration": 118,
    "start_time": "2021-11-14T12:03:02.301Z"
   },
   {
    "duration": 35,
    "start_time": "2021-11-14T12:03:02.422Z"
   },
   {
    "duration": 44,
    "start_time": "2021-11-14T12:03:02.463Z"
   },
   {
    "duration": 32,
    "start_time": "2021-11-14T12:03:02.510Z"
   },
   {
    "duration": 33,
    "start_time": "2021-11-14T12:03:02.544Z"
   },
   {
    "duration": 11,
    "start_time": "2021-11-14T12:03:02.579Z"
   },
   {
    "duration": 161,
    "start_time": "2021-11-14T12:03:02.593Z"
   },
   {
    "duration": 26,
    "start_time": "2021-11-14T12:03:02.757Z"
   },
   {
    "duration": 565,
    "start_time": "2021-11-14T12:03:02.785Z"
   },
   {
    "duration": 820,
    "start_time": "2021-11-14T12:03:20.473Z"
   },
   {
    "duration": 131,
    "start_time": "2021-11-14T12:03:24.908Z"
   },
   {
    "duration": 7040,
    "start_time": "2021-11-14T12:04:09.210Z"
   },
   {
    "duration": 1114,
    "start_time": "2021-11-14T12:04:25.902Z"
   },
   {
    "duration": 507,
    "start_time": "2021-11-14T12:04:33.891Z"
   },
   {
    "duration": 346,
    "start_time": "2021-11-16T16:41:07.262Z"
   },
   {
    "duration": 1645,
    "start_time": "2021-11-16T16:41:27.646Z"
   },
   {
    "duration": 86,
    "start_time": "2021-11-16T16:41:29.294Z"
   },
   {
    "duration": 203,
    "start_time": "2021-11-16T16:41:29.383Z"
   },
   {
    "duration": 114,
    "start_time": "2021-11-16T16:41:29.589Z"
   },
   {
    "duration": 138,
    "start_time": "2021-11-16T16:41:29.706Z"
   },
   {
    "duration": 103,
    "start_time": "2021-11-16T16:41:29.846Z"
   },
   {
    "duration": 51,
    "start_time": "2021-11-16T16:41:29.952Z"
   },
   {
    "duration": 32,
    "start_time": "2021-11-16T16:41:30.007Z"
   },
   {
    "duration": 15,
    "start_time": "2021-11-16T16:41:30.042Z"
   },
   {
    "duration": 35,
    "start_time": "2021-11-16T16:41:30.060Z"
   },
   {
    "duration": 39,
    "start_time": "2021-11-16T16:41:30.098Z"
   },
   {
    "duration": 11,
    "start_time": "2021-11-16T16:41:30.140Z"
   },
   {
    "duration": 149,
    "start_time": "2021-11-16T16:41:30.154Z"
   },
   {
    "duration": 25,
    "start_time": "2021-11-16T16:41:30.305Z"
   },
   {
    "duration": 513,
    "start_time": "2021-11-16T16:41:30.333Z"
   },
   {
    "duration": 422,
    "start_time": "2021-11-16T16:41:30.848Z"
   },
   {
    "duration": 312,
    "start_time": "2021-11-16T16:41:47.029Z"
   },
   {
    "duration": 274,
    "start_time": "2021-11-16T16:42:44.188Z"
   },
   {
    "duration": 1718,
    "start_time": "2021-11-16T16:45:21.111Z"
   },
   {
    "duration": 82,
    "start_time": "2021-11-16T16:45:22.832Z"
   },
   {
    "duration": 159,
    "start_time": "2021-11-16T16:45:22.917Z"
   },
   {
    "duration": 81,
    "start_time": "2021-11-16T16:45:23.079Z"
   },
   {
    "duration": 105,
    "start_time": "2021-11-16T16:45:23.163Z"
   },
   {
    "duration": 71,
    "start_time": "2021-11-16T16:45:23.270Z"
   },
   {
    "duration": 52,
    "start_time": "2021-11-16T16:45:23.344Z"
   },
   {
    "duration": 34,
    "start_time": "2021-11-16T16:45:23.399Z"
   },
   {
    "duration": 30,
    "start_time": "2021-11-16T16:45:23.438Z"
   },
   {
    "duration": 57,
    "start_time": "2021-11-16T16:45:23.471Z"
   },
   {
    "duration": 22,
    "start_time": "2021-11-16T16:45:23.531Z"
   },
   {
    "duration": 10,
    "start_time": "2021-11-16T16:45:23.556Z"
   },
   {
    "duration": 151,
    "start_time": "2021-11-16T16:45:23.569Z"
   },
   {
    "duration": 24,
    "start_time": "2021-11-16T16:45:23.723Z"
   },
   {
    "duration": 539,
    "start_time": "2021-11-16T16:45:23.749Z"
   },
   {
    "duration": 16,
    "start_time": "2021-11-16T16:54:36.363Z"
   },
   {
    "duration": 6,
    "start_time": "2021-11-16T16:55:05.304Z"
   },
   {
    "duration": 5,
    "start_time": "2021-11-16T16:58:00.130Z"
   },
   {
    "duration": 7,
    "start_time": "2021-11-16T16:58:06.212Z"
   },
   {
    "duration": 2019,
    "start_time": "2021-11-16T16:58:39.700Z"
   },
   {
    "duration": 91,
    "start_time": "2021-11-16T16:58:41.723Z"
   },
   {
    "duration": 155,
    "start_time": "2021-11-16T16:58:41.818Z"
   },
   {
    "duration": 78,
    "start_time": "2021-11-16T16:58:41.976Z"
   },
   {
    "duration": 101,
    "start_time": "2021-11-16T16:58:42.057Z"
   },
   {
    "duration": 68,
    "start_time": "2021-11-16T16:58:42.161Z"
   },
   {
    "duration": 43,
    "start_time": "2021-11-16T16:58:42.231Z"
   },
   {
    "duration": 32,
    "start_time": "2021-11-16T16:58:42.278Z"
   },
   {
    "duration": 27,
    "start_time": "2021-11-16T16:58:42.314Z"
   },
   {
    "duration": 33,
    "start_time": "2021-11-16T16:58:42.344Z"
   },
   {
    "duration": 17,
    "start_time": "2021-11-16T16:58:42.379Z"
   },
   {
    "duration": 33,
    "start_time": "2021-11-16T16:58:42.399Z"
   },
   {
    "duration": 140,
    "start_time": "2021-11-16T16:58:42.434Z"
   },
   {
    "duration": 17,
    "start_time": "2021-11-16T16:58:42.576Z"
   },
   {
    "duration": 521,
    "start_time": "2021-11-16T16:58:42.595Z"
   },
   {
    "duration": 11,
    "start_time": "2021-11-16T16:58:43.119Z"
   },
   {
    "duration": 9,
    "start_time": "2021-11-16T16:58:43.133Z"
   },
   {
    "duration": 458,
    "start_time": "2021-11-16T16:59:05.406Z"
   },
   {
    "duration": 7,
    "start_time": "2021-11-16T16:59:09.755Z"
   },
   {
    "duration": 1787,
    "start_time": "2021-11-16T19:04:47.615Z"
   },
   {
    "duration": 92,
    "start_time": "2021-11-16T19:04:49.405Z"
   },
   {
    "duration": 210,
    "start_time": "2021-11-16T19:04:49.502Z"
   },
   {
    "duration": 123,
    "start_time": "2021-11-16T19:04:49.716Z"
   },
   {
    "duration": 136,
    "start_time": "2021-11-16T19:04:49.841Z"
   },
   {
    "duration": 100,
    "start_time": "2021-11-16T19:04:49.980Z"
   },
   {
    "duration": 45,
    "start_time": "2021-11-16T19:04:50.083Z"
   },
   {
    "duration": 32,
    "start_time": "2021-11-16T19:04:50.132Z"
   },
   {
    "duration": 45,
    "start_time": "2021-11-16T19:04:50.166Z"
   },
   {
    "duration": 48,
    "start_time": "2021-11-16T19:04:50.213Z"
   },
   {
    "duration": 16,
    "start_time": "2021-11-16T19:04:50.264Z"
   },
   {
    "duration": 23,
    "start_time": "2021-11-16T19:04:50.282Z"
   },
   {
    "duration": 141,
    "start_time": "2021-11-16T19:04:50.308Z"
   },
   {
    "duration": 16,
    "start_time": "2021-11-16T19:04:50.451Z"
   },
   {
    "duration": 531,
    "start_time": "2021-11-16T19:04:50.469Z"
   },
   {
    "duration": 7,
    "start_time": "2021-11-16T19:04:51.002Z"
   },
   {
    "duration": 33,
    "start_time": "2021-11-16T19:04:51.011Z"
   },
   {
    "duration": 28,
    "start_time": "2021-11-16T19:04:51.046Z"
   },
   {
    "duration": 474,
    "start_time": "2021-11-16T19:04:51.076Z"
   },
   {
    "duration": 6,
    "start_time": "2021-11-16T19:05:16.831Z"
   },
   {
    "duration": 1677,
    "start_time": "2021-11-16T19:05:28.769Z"
   },
   {
    "duration": 91,
    "start_time": "2021-11-16T19:05:30.448Z"
   },
   {
    "duration": 153,
    "start_time": "2021-11-16T19:05:30.542Z"
   },
   {
    "duration": 71,
    "start_time": "2021-11-16T19:05:30.698Z"
   },
   {
    "duration": 116,
    "start_time": "2021-11-16T19:05:30.772Z"
   },
   {
    "duration": 66,
    "start_time": "2021-11-16T19:05:30.891Z"
   },
   {
    "duration": 53,
    "start_time": "2021-11-16T19:05:30.959Z"
   },
   {
    "duration": 33,
    "start_time": "2021-11-16T19:05:31.016Z"
   },
   {
    "duration": 19,
    "start_time": "2021-11-16T19:05:31.052Z"
   },
   {
    "duration": 61,
    "start_time": "2021-11-16T19:05:31.073Z"
   },
   {
    "duration": 19,
    "start_time": "2021-11-16T19:05:31.137Z"
   },
   {
    "duration": 31,
    "start_time": "2021-11-16T19:05:31.159Z"
   },
   {
    "duration": 157,
    "start_time": "2021-11-16T19:05:31.192Z"
   },
   {
    "duration": 18,
    "start_time": "2021-11-16T19:05:31.352Z"
   },
   {
    "duration": 553,
    "start_time": "2021-11-16T19:05:31.373Z"
   },
   {
    "duration": 7,
    "start_time": "2021-11-16T19:05:31.930Z"
   },
   {
    "duration": 24,
    "start_time": "2021-11-16T19:05:31.940Z"
   },
   {
    "duration": 16,
    "start_time": "2021-11-16T19:05:31.966Z"
   },
   {
    "duration": 22,
    "start_time": "2021-11-16T19:05:31.984Z"
   },
   {
    "duration": 738,
    "start_time": "2021-11-16T19:06:23.479Z"
   },
   {
    "duration": 610,
    "start_time": "2021-11-16T19:06:37.361Z"
   },
   {
    "duration": 777,
    "start_time": "2021-11-16T19:07:20.428Z"
   },
   {
    "duration": 6,
    "start_time": "2021-11-16T19:07:40.014Z"
   },
   {
    "duration": 2165,
    "start_time": "2021-11-16T19:07:44.576Z"
   },
   {
    "duration": 93,
    "start_time": "2021-11-16T19:07:46.744Z"
   },
   {
    "duration": 143,
    "start_time": "2021-11-16T19:07:46.840Z"
   },
   {
    "duration": 78,
    "start_time": "2021-11-16T19:07:46.985Z"
   },
   {
    "duration": 105,
    "start_time": "2021-11-16T19:07:47.065Z"
   },
   {
    "duration": 75,
    "start_time": "2021-11-16T19:07:47.173Z"
   },
   {
    "duration": 44,
    "start_time": "2021-11-16T19:07:47.250Z"
   },
   {
    "duration": 32,
    "start_time": "2021-11-16T19:07:47.297Z"
   },
   {
    "duration": 15,
    "start_time": "2021-11-16T19:07:47.332Z"
   },
   {
    "duration": 38,
    "start_time": "2021-11-16T19:07:47.349Z"
   },
   {
    "duration": 43,
    "start_time": "2021-11-16T19:07:47.390Z"
   },
   {
    "duration": 12,
    "start_time": "2021-11-16T19:07:47.436Z"
   },
   {
    "duration": 158,
    "start_time": "2021-11-16T19:07:47.451Z"
   },
   {
    "duration": 26,
    "start_time": "2021-11-16T19:07:47.611Z"
   },
   {
    "duration": 533,
    "start_time": "2021-11-16T19:07:47.640Z"
   },
   {
    "duration": 8,
    "start_time": "2021-11-16T19:07:48.176Z"
   },
   {
    "duration": 13,
    "start_time": "2021-11-16T19:07:48.187Z"
   },
   {
    "duration": 8,
    "start_time": "2021-11-16T19:07:48.228Z"
   },
   {
    "duration": 1182,
    "start_time": "2021-11-16T19:07:48.239Z"
   },
   {
    "duration": 939,
    "start_time": "2021-11-16T19:08:03.207Z"
   },
   {
    "duration": 1695,
    "start_time": "2021-11-16T19:08:39.379Z"
   },
   {
    "duration": 141,
    "start_time": "2021-11-16T19:08:41.077Z"
   },
   {
    "duration": 210,
    "start_time": "2021-11-16T19:08:41.230Z"
   },
   {
    "duration": 119,
    "start_time": "2021-11-16T19:08:41.444Z"
   },
   {
    "duration": 97,
    "start_time": "2021-11-16T19:08:41.566Z"
   },
   {
    "duration": 73,
    "start_time": "2021-11-16T19:08:41.666Z"
   },
   {
    "duration": 44,
    "start_time": "2021-11-16T19:08:41.741Z"
   },
   {
    "duration": 31,
    "start_time": "2021-11-16T19:08:41.788Z"
   },
   {
    "duration": 17,
    "start_time": "2021-11-16T19:08:41.827Z"
   },
   {
    "duration": 34,
    "start_time": "2021-11-16T19:08:41.846Z"
   },
   {
    "duration": 17,
    "start_time": "2021-11-16T19:08:41.882Z"
   },
   {
    "duration": 34,
    "start_time": "2021-11-16T19:08:41.901Z"
   },
   {
    "duration": 141,
    "start_time": "2021-11-16T19:08:41.938Z"
   },
   {
    "duration": 16,
    "start_time": "2021-11-16T19:08:42.082Z"
   },
   {
    "duration": 786,
    "start_time": "2021-11-16T19:08:42.101Z"
   },
   {
    "duration": 8,
    "start_time": "2021-11-16T19:08:42.890Z"
   },
   {
    "duration": 28,
    "start_time": "2021-11-16T19:08:42.902Z"
   },
   {
    "duration": 13,
    "start_time": "2021-11-16T19:08:42.933Z"
   },
   {
    "duration": 801,
    "start_time": "2021-11-16T19:08:42.948Z"
   },
   {
    "duration": 7,
    "start_time": "2021-11-16T19:21:17.214Z"
   },
   {
    "duration": 6,
    "start_time": "2021-11-16T19:21:19.790Z"
   },
   {
    "duration": 6,
    "start_time": "2021-11-16T19:58:18.228Z"
   },
   {
    "duration": 1630,
    "start_time": "2021-11-16T19:58:22.869Z"
   },
   {
    "duration": 84,
    "start_time": "2021-11-16T19:58:24.502Z"
   },
   {
    "duration": 146,
    "start_time": "2021-11-16T19:58:24.590Z"
   },
   {
    "duration": 65,
    "start_time": "2021-11-16T19:58:24.738Z"
   },
   {
    "duration": 109,
    "start_time": "2021-11-16T19:58:24.805Z"
   },
   {
    "duration": 63,
    "start_time": "2021-11-16T19:58:24.916Z"
   },
   {
    "duration": 54,
    "start_time": "2021-11-16T19:58:24.981Z"
   },
   {
    "duration": 32,
    "start_time": "2021-11-16T19:58:25.039Z"
   },
   {
    "duration": 14,
    "start_time": "2021-11-16T19:58:25.074Z"
   },
   {
    "duration": 58,
    "start_time": "2021-11-16T19:58:25.090Z"
   },
   {
    "duration": 16,
    "start_time": "2021-11-16T19:58:25.151Z"
   },
   {
    "duration": 10,
    "start_time": "2021-11-16T19:58:25.170Z"
   },
   {
    "duration": 163,
    "start_time": "2021-11-16T19:58:25.182Z"
   },
   {
    "duration": 16,
    "start_time": "2021-11-16T19:58:25.348Z"
   },
   {
    "duration": 516,
    "start_time": "2021-11-16T19:58:25.366Z"
   },
   {
    "duration": 6,
    "start_time": "2021-11-16T19:58:25.884Z"
   },
   {
    "duration": 15,
    "start_time": "2021-11-16T19:58:25.892Z"
   },
   {
    "duration": 22,
    "start_time": "2021-11-16T19:58:25.909Z"
   },
   {
    "duration": 742,
    "start_time": "2021-11-16T19:58:25.933Z"
   },
   {
    "duration": 1683,
    "start_time": "2021-11-16T20:06:51.194Z"
   },
   {
    "duration": 99,
    "start_time": "2021-11-16T20:06:52.881Z"
   },
   {
    "duration": 146,
    "start_time": "2021-11-16T20:06:52.983Z"
   },
   {
    "duration": 64,
    "start_time": "2021-11-16T20:06:53.132Z"
   },
   {
    "duration": 110,
    "start_time": "2021-11-16T20:06:53.199Z"
   },
   {
    "duration": 65,
    "start_time": "2021-11-16T20:06:53.312Z"
   },
   {
    "duration": 51,
    "start_time": "2021-11-16T20:06:53.381Z"
   },
   {
    "duration": 38,
    "start_time": "2021-11-16T20:06:53.436Z"
   },
   {
    "duration": 18,
    "start_time": "2021-11-16T20:06:53.478Z"
   },
   {
    "duration": 68,
    "start_time": "2021-11-16T20:06:53.499Z"
   },
   {
    "duration": 24,
    "start_time": "2021-11-16T20:06:53.570Z"
   },
   {
    "duration": 33,
    "start_time": "2021-11-16T20:06:53.597Z"
   },
   {
    "duration": 142,
    "start_time": "2021-11-16T20:06:53.632Z"
   },
   {
    "duration": 16,
    "start_time": "2021-11-16T20:06:53.777Z"
   },
   {
    "duration": 534,
    "start_time": "2021-11-16T20:06:53.795Z"
   },
   {
    "duration": 6,
    "start_time": "2021-11-16T20:06:54.332Z"
   },
   {
    "duration": 6,
    "start_time": "2021-11-16T20:06:54.341Z"
   },
   {
    "duration": 7,
    "start_time": "2021-11-16T20:06:54.349Z"
   },
   {
    "duration": 1348,
    "start_time": "2021-11-16T20:06:54.358Z"
   },
   {
    "duration": 1682,
    "start_time": "2021-11-16T20:07:21.410Z"
   },
   {
    "duration": 91,
    "start_time": "2021-11-16T20:07:23.095Z"
   },
   {
    "duration": 143,
    "start_time": "2021-11-16T20:07:23.189Z"
   },
   {
    "duration": 72,
    "start_time": "2021-11-16T20:07:23.335Z"
   },
   {
    "duration": 139,
    "start_time": "2021-11-16T20:07:23.435Z"
   },
   {
    "duration": 101,
    "start_time": "2021-11-16T20:07:23.578Z"
   },
   {
    "duration": 56,
    "start_time": "2021-11-16T20:07:23.682Z"
   },
   {
    "duration": 42,
    "start_time": "2021-11-16T20:07:23.744Z"
   },
   {
    "duration": 35,
    "start_time": "2021-11-16T20:07:23.789Z"
   },
   {
    "duration": 57,
    "start_time": "2021-11-16T20:07:23.828Z"
   },
   {
    "duration": 25,
    "start_time": "2021-11-16T20:07:23.888Z"
   },
   {
    "duration": 14,
    "start_time": "2021-11-16T20:07:23.929Z"
   },
   {
    "duration": 157,
    "start_time": "2021-11-16T20:07:23.947Z"
   },
   {
    "duration": 24,
    "start_time": "2021-11-16T20:07:24.106Z"
   },
   {
    "duration": 506,
    "start_time": "2021-11-16T20:07:24.133Z"
   },
   {
    "duration": 7,
    "start_time": "2021-11-16T20:07:24.641Z"
   },
   {
    "duration": 10,
    "start_time": "2021-11-16T20:07:24.650Z"
   },
   {
    "duration": 19,
    "start_time": "2021-11-16T20:07:24.663Z"
   },
   {
    "duration": 1038,
    "start_time": "2021-11-16T20:07:24.684Z"
   },
   {
    "duration": 2450,
    "start_time": "2021-11-16T20:08:37.797Z"
   },
   {
    "duration": 141,
    "start_time": "2021-11-16T20:08:40.250Z"
   },
   {
    "duration": 208,
    "start_time": "2021-11-16T20:08:40.395Z"
   },
   {
    "duration": 126,
    "start_time": "2021-11-16T20:08:40.607Z"
   },
   {
    "duration": 110,
    "start_time": "2021-11-16T20:08:40.736Z"
   },
   {
    "duration": 103,
    "start_time": "2021-11-16T20:08:40.849Z"
   },
   {
    "duration": 56,
    "start_time": "2021-11-16T20:08:40.955Z"
   },
   {
    "duration": 52,
    "start_time": "2021-11-16T20:08:41.017Z"
   },
   {
    "duration": 16,
    "start_time": "2021-11-16T20:08:41.073Z"
   },
   {
    "duration": 64,
    "start_time": "2021-11-16T20:08:41.092Z"
   },
   {
    "duration": 23,
    "start_time": "2021-11-16T20:08:41.159Z"
   },
   {
    "duration": 15,
    "start_time": "2021-11-16T20:08:41.185Z"
   },
   {
    "duration": 151,
    "start_time": "2021-11-16T20:08:41.202Z"
   },
   {
    "duration": 23,
    "start_time": "2021-11-16T20:08:41.356Z"
   },
   {
    "duration": 826,
    "start_time": "2021-11-16T20:08:41.382Z"
   },
   {
    "duration": 19,
    "start_time": "2021-11-16T20:08:42.211Z"
   },
   {
    "duration": 10,
    "start_time": "2021-11-16T20:08:42.233Z"
   },
   {
    "duration": 7,
    "start_time": "2021-11-16T20:08:42.245Z"
   },
   {
    "duration": 929,
    "start_time": "2021-11-16T20:08:42.255Z"
   },
   {
    "duration": 23,
    "start_time": "2021-11-16T20:10:16.668Z"
   },
   {
    "duration": 2573,
    "start_time": "2021-11-16T20:11:24.838Z"
   },
   {
    "duration": 143,
    "start_time": "2021-11-16T20:11:27.414Z"
   },
   {
    "duration": 205,
    "start_time": "2021-11-16T20:11:27.562Z"
   },
   {
    "duration": 115,
    "start_time": "2021-11-16T20:11:27.771Z"
   },
   {
    "duration": 143,
    "start_time": "2021-11-16T20:11:27.889Z"
   },
   {
    "duration": 102,
    "start_time": "2021-11-16T20:11:28.035Z"
   },
   {
    "duration": 53,
    "start_time": "2021-11-16T20:11:28.140Z"
   },
   {
    "duration": 42,
    "start_time": "2021-11-16T20:11:28.196Z"
   },
   {
    "duration": 14,
    "start_time": "2021-11-16T20:11:28.241Z"
   },
   {
    "duration": 32,
    "start_time": "2021-11-16T20:11:28.258Z"
   },
   {
    "duration": 51,
    "start_time": "2021-11-16T20:11:28.292Z"
   },
   {
    "duration": 10,
    "start_time": "2021-11-16T20:11:28.345Z"
   },
   {
    "duration": 151,
    "start_time": "2021-11-16T20:11:28.358Z"
   },
   {
    "duration": 25,
    "start_time": "2021-11-16T20:11:28.511Z"
   },
   {
    "duration": 19,
    "start_time": "2021-11-16T20:11:28.539Z"
   },
   {
    "duration": 814,
    "start_time": "2021-11-16T20:11:28.561Z"
   },
   {
    "duration": 8,
    "start_time": "2021-11-16T20:11:29.378Z"
   },
   {
    "duration": 12,
    "start_time": "2021-11-16T20:11:29.389Z"
   },
   {
    "duration": 31,
    "start_time": "2021-11-16T20:11:29.404Z"
   },
   {
    "duration": 999,
    "start_time": "2021-11-16T20:11:29.438Z"
   },
   {
    "duration": 1668,
    "start_time": "2021-11-16T20:13:03.229Z"
   },
   {
    "duration": 91,
    "start_time": "2021-11-16T20:13:04.900Z"
   },
   {
    "duration": 144,
    "start_time": "2021-11-16T20:13:04.994Z"
   },
   {
    "duration": 64,
    "start_time": "2021-11-16T20:13:05.141Z"
   },
   {
    "duration": 108,
    "start_time": "2021-11-16T20:13:05.207Z"
   },
   {
    "duration": 55,
    "start_time": "2021-11-16T20:13:05.329Z"
   },
   {
    "duration": 46,
    "start_time": "2021-11-16T20:13:05.386Z"
   },
   {
    "duration": 30,
    "start_time": "2021-11-16T20:13:05.435Z"
   },
   {
    "duration": 13,
    "start_time": "2021-11-16T20:13:05.469Z"
   },
   {
    "duration": 52,
    "start_time": "2021-11-16T20:13:05.485Z"
   },
   {
    "duration": 17,
    "start_time": "2021-11-16T20:13:05.539Z"
   },
   {
    "duration": 11,
    "start_time": "2021-11-16T20:13:05.558Z"
   },
   {
    "duration": 155,
    "start_time": "2021-11-16T20:13:05.572Z"
   },
   {
    "duration": 22,
    "start_time": "2021-11-16T20:13:05.730Z"
   },
   {
    "duration": 25,
    "start_time": "2021-11-16T20:13:05.754Z"
   },
   {
    "duration": 512,
    "start_time": "2021-11-16T20:13:05.782Z"
   },
   {
    "duration": 6,
    "start_time": "2021-11-16T20:13:06.297Z"
   },
   {
    "duration": 36,
    "start_time": "2021-11-16T20:13:06.305Z"
   },
   {
    "duration": 23,
    "start_time": "2021-11-16T20:13:06.343Z"
   },
   {
    "duration": 939,
    "start_time": "2021-11-16T20:13:06.369Z"
   },
   {
    "duration": 1634,
    "start_time": "2021-11-16T20:16:14.639Z"
   },
   {
    "duration": 90,
    "start_time": "2021-11-16T20:16:16.276Z"
   },
   {
    "duration": 244,
    "start_time": "2021-11-16T20:16:16.369Z"
   },
   {
    "duration": 73,
    "start_time": "2021-11-16T20:16:16.616Z"
   },
   {
    "duration": 104,
    "start_time": "2021-11-16T20:16:16.691Z"
   },
   {
    "duration": 64,
    "start_time": "2021-11-16T20:16:16.798Z"
   },
   {
    "duration": 42,
    "start_time": "2021-11-16T20:16:16.864Z"
   },
   {
    "duration": 30,
    "start_time": "2021-11-16T20:16:16.910Z"
   },
   {
    "duration": 20,
    "start_time": "2021-11-16T20:16:16.943Z"
   },
   {
    "duration": 45,
    "start_time": "2021-11-16T20:16:16.965Z"
   },
   {
    "duration": 23,
    "start_time": "2021-11-16T20:16:17.013Z"
   },
   {
    "duration": 20,
    "start_time": "2021-11-16T20:16:17.038Z"
   },
   {
    "duration": 155,
    "start_time": "2021-11-16T20:16:17.060Z"
   },
   {
    "duration": 20,
    "start_time": "2021-11-16T20:16:17.217Z"
   },
   {
    "duration": 42,
    "start_time": "2021-11-16T20:16:17.240Z"
   },
   {
    "duration": 500,
    "start_time": "2021-11-16T20:16:17.284Z"
   },
   {
    "duration": 6,
    "start_time": "2021-11-16T20:16:17.787Z"
   },
   {
    "duration": 6,
    "start_time": "2021-11-16T20:16:17.796Z"
   },
   {
    "duration": 26,
    "start_time": "2021-11-16T20:16:17.804Z"
   },
   {
    "duration": 1003,
    "start_time": "2021-11-16T20:16:17.833Z"
   },
   {
    "duration": 2248,
    "start_time": "2021-11-16T20:17:01.861Z"
   },
   {
    "duration": 117,
    "start_time": "2021-11-16T20:17:04.113Z"
   },
   {
    "duration": 163,
    "start_time": "2021-11-16T20:17:04.234Z"
   },
   {
    "duration": 83,
    "start_time": "2021-11-16T20:17:04.400Z"
   },
   {
    "duration": 147,
    "start_time": "2021-11-16T20:17:04.486Z"
   },
   {
    "duration": 107,
    "start_time": "2021-11-16T20:17:04.636Z"
   },
   {
    "duration": 55,
    "start_time": "2021-11-16T20:17:04.746Z"
   },
   {
    "duration": 34,
    "start_time": "2021-11-16T20:17:04.806Z"
   },
   {
    "duration": 20,
    "start_time": "2021-11-16T20:17:04.844Z"
   },
   {
    "duration": 62,
    "start_time": "2021-11-16T20:17:04.867Z"
   },
   {
    "duration": 26,
    "start_time": "2021-11-16T20:17:04.933Z"
   },
   {
    "duration": 13,
    "start_time": "2021-11-16T20:17:04.962Z"
   },
   {
    "duration": 259,
    "start_time": "2021-11-16T20:17:04.978Z"
   },
   {
    "duration": 31,
    "start_time": "2021-11-16T20:17:05.240Z"
   },
   {
    "duration": 21,
    "start_time": "2021-11-16T20:17:05.274Z"
   },
   {
    "duration": 763,
    "start_time": "2021-11-16T20:17:05.299Z"
   },
   {
    "duration": 7,
    "start_time": "2021-11-16T20:17:06.065Z"
   },
   {
    "duration": 11,
    "start_time": "2021-11-16T20:17:06.075Z"
   },
   {
    "duration": 44,
    "start_time": "2021-11-16T20:17:06.089Z"
   },
   {
    "duration": 1225,
    "start_time": "2021-11-16T20:17:06.136Z"
   },
   {
    "duration": 2236,
    "start_time": "2021-11-16T20:17:51.671Z"
   },
   {
    "duration": 146,
    "start_time": "2021-11-16T20:17:53.911Z"
   },
   {
    "duration": 188,
    "start_time": "2021-11-16T20:17:54.061Z"
   },
   {
    "duration": 87,
    "start_time": "2021-11-16T20:17:54.252Z"
   },
   {
    "duration": 137,
    "start_time": "2021-11-16T20:17:54.342Z"
   },
   {
    "duration": 101,
    "start_time": "2021-11-16T20:17:54.482Z"
   },
   {
    "duration": 56,
    "start_time": "2021-11-16T20:17:54.586Z"
   },
   {
    "duration": 42,
    "start_time": "2021-11-16T20:17:54.645Z"
   },
   {
    "duration": 18,
    "start_time": "2021-11-16T20:17:54.693Z"
   },
   {
    "duration": 64,
    "start_time": "2021-11-16T20:17:54.714Z"
   },
   {
    "duration": 27,
    "start_time": "2021-11-16T20:17:54.781Z"
   },
   {
    "duration": 14,
    "start_time": "2021-11-16T20:17:54.831Z"
   },
   {
    "duration": 260,
    "start_time": "2021-11-16T20:17:54.848Z"
   },
   {
    "duration": 40,
    "start_time": "2021-11-16T20:17:55.111Z"
   },
   {
    "duration": 17,
    "start_time": "2021-11-16T20:17:55.153Z"
   },
   {
    "duration": 521,
    "start_time": "2021-11-16T20:17:55.172Z"
   },
   {
    "duration": 7,
    "start_time": "2021-11-16T20:17:55.696Z"
   },
   {
    "duration": 26,
    "start_time": "2021-11-16T20:17:55.706Z"
   },
   {
    "duration": 15,
    "start_time": "2021-11-16T20:17:55.735Z"
   },
   {
    "duration": 1183,
    "start_time": "2021-11-16T20:17:55.753Z"
   },
   {
    "duration": 6,
    "start_time": "2021-11-16T20:18:03.954Z"
   },
   {
    "duration": 915,
    "start_time": "2021-11-16T20:18:05.724Z"
   },
   {
    "duration": 9,
    "start_time": "2021-11-16T20:18:53.679Z"
   },
   {
    "duration": 939,
    "start_time": "2021-11-16T20:18:54.847Z"
   },
   {
    "duration": 1977,
    "start_time": "2021-11-16T20:20:12.621Z"
   },
   {
    "duration": 97,
    "start_time": "2021-11-16T20:20:14.601Z"
   },
   {
    "duration": 220,
    "start_time": "2021-11-16T20:20:14.703Z"
   },
   {
    "duration": 66,
    "start_time": "2021-11-16T20:20:14.930Z"
   },
   {
    "duration": 159,
    "start_time": "2021-11-16T20:20:14.999Z"
   },
   {
    "duration": 107,
    "start_time": "2021-11-16T20:20:15.162Z"
   },
   {
    "duration": 54,
    "start_time": "2021-11-16T20:20:15.272Z"
   },
   {
    "duration": 36,
    "start_time": "2021-11-16T20:20:15.332Z"
   },
   {
    "duration": 16,
    "start_time": "2021-11-16T20:20:15.371Z"
   },
   {
    "duration": 62,
    "start_time": "2021-11-16T20:20:15.390Z"
   },
   {
    "duration": 26,
    "start_time": "2021-11-16T20:20:15.455Z"
   },
   {
    "duration": 13,
    "start_time": "2021-11-16T20:20:15.485Z"
   },
   {
    "duration": 167,
    "start_time": "2021-11-16T20:20:15.501Z"
   },
   {
    "duration": 21,
    "start_time": "2021-11-16T20:20:15.671Z"
   },
   {
    "duration": 44,
    "start_time": "2021-11-16T20:20:15.695Z"
   },
   {
    "duration": 523,
    "start_time": "2021-11-16T20:20:15.741Z"
   },
   {
    "duration": 8,
    "start_time": "2021-11-16T20:20:16.267Z"
   },
   {
    "duration": 8,
    "start_time": "2021-11-16T20:20:16.279Z"
   },
   {
    "duration": 40,
    "start_time": "2021-11-16T20:20:16.290Z"
   },
   {
    "duration": 1033,
    "start_time": "2021-11-16T20:20:16.332Z"
   },
   {
    "duration": 6,
    "start_time": "2021-11-16T20:21:01.619Z"
   },
   {
    "duration": 434,
    "start_time": "2021-11-16T20:21:03.401Z"
   },
   {
    "duration": 6,
    "start_time": "2021-11-16T20:21:11.400Z"
   },
   {
    "duration": 906,
    "start_time": "2021-11-16T20:21:11.956Z"
   },
   {
    "duration": 6,
    "start_time": "2021-11-16T20:21:29.087Z"
   },
   {
    "duration": 828,
    "start_time": "2021-11-16T20:21:29.469Z"
   },
   {
    "duration": 6,
    "start_time": "2021-11-16T20:21:45.436Z"
   },
   {
    "duration": 876,
    "start_time": "2021-11-16T20:21:45.765Z"
   },
   {
    "duration": -710,
    "start_time": "2021-11-16T20:23:18.161Z"
   },
   {
    "duration": -709,
    "start_time": "2021-11-16T20:23:18.162Z"
   },
   {
    "duration": -708,
    "start_time": "2021-11-16T20:23:18.163Z"
   },
   {
    "duration": -708,
    "start_time": "2021-11-16T20:23:18.165Z"
   },
   {
    "duration": -707,
    "start_time": "2021-11-16T20:23:18.166Z"
   },
   {
    "duration": -706,
    "start_time": "2021-11-16T20:23:18.168Z"
   },
   {
    "duration": -705,
    "start_time": "2021-11-16T20:23:18.169Z"
   },
   {
    "duration": -704,
    "start_time": "2021-11-16T20:23:18.170Z"
   },
   {
    "duration": -704,
    "start_time": "2021-11-16T20:23:18.171Z"
   },
   {
    "duration": -643,
    "start_time": "2021-11-16T20:23:18.173Z"
   },
   {
    "duration": -642,
    "start_time": "2021-11-16T20:23:18.174Z"
   },
   {
    "duration": -642,
    "start_time": "2021-11-16T20:23:18.175Z"
   },
   {
    "duration": -676,
    "start_time": "2021-11-16T20:23:18.211Z"
   },
   {
    "duration": -755,
    "start_time": "2021-11-16T20:23:18.292Z"
   },
   {
    "duration": -754,
    "start_time": "2021-11-16T20:23:18.293Z"
   },
   {
    "duration": -753,
    "start_time": "2021-11-16T20:23:18.294Z"
   },
   {
    "duration": -752,
    "start_time": "2021-11-16T20:23:18.295Z"
   },
   {
    "duration": -751,
    "start_time": "2021-11-16T20:23:18.296Z"
   },
   {
    "duration": -750,
    "start_time": "2021-11-16T20:23:18.297Z"
   },
   {
    "duration": -750,
    "start_time": "2021-11-16T20:23:18.299Z"
   },
   {
    "duration": 1752,
    "start_time": "2021-11-16T20:23:26.337Z"
   },
   {
    "duration": 104,
    "start_time": "2021-11-16T20:23:28.091Z"
   },
   {
    "duration": 212,
    "start_time": "2021-11-16T20:23:28.199Z"
   },
   {
    "duration": 123,
    "start_time": "2021-11-16T20:23:28.415Z"
   },
   {
    "duration": 143,
    "start_time": "2021-11-16T20:23:28.541Z"
   },
   {
    "duration": 96,
    "start_time": "2021-11-16T20:23:28.687Z"
   },
   {
    "duration": 54,
    "start_time": "2021-11-16T20:23:28.786Z"
   },
   {
    "duration": 41,
    "start_time": "2021-11-16T20:23:28.845Z"
   },
   {
    "duration": 23,
    "start_time": "2021-11-16T20:23:28.889Z"
   },
   {
    "duration": 45,
    "start_time": "2021-11-16T20:23:28.914Z"
   },
   {
    "duration": 20,
    "start_time": "2021-11-16T20:23:28.961Z"
   },
   {
    "duration": 11,
    "start_time": "2021-11-16T20:23:28.984Z"
   },
   {
    "duration": 139,
    "start_time": "2021-11-16T20:23:29.030Z"
   },
   {
    "duration": 22,
    "start_time": "2021-11-16T20:23:29.171Z"
   },
   {
    "duration": 42,
    "start_time": "2021-11-16T20:23:29.195Z"
   },
   {
    "duration": 506,
    "start_time": "2021-11-16T20:23:29.239Z"
   },
   {
    "duration": 6,
    "start_time": "2021-11-16T20:23:29.748Z"
   },
   {
    "duration": 11,
    "start_time": "2021-11-16T20:23:29.756Z"
   },
   {
    "duration": 9,
    "start_time": "2021-11-16T20:23:29.770Z"
   },
   {
    "duration": 1306,
    "start_time": "2021-11-16T20:23:29.782Z"
   },
   {
    "duration": 6,
    "start_time": "2021-11-16T20:24:24.828Z"
   },
   {
    "duration": 885,
    "start_time": "2021-11-16T20:24:25.481Z"
   },
   {
    "duration": 1702,
    "start_time": "2021-11-16T20:24:32.086Z"
   },
   {
    "duration": 91,
    "start_time": "2021-11-16T20:24:33.791Z"
   },
   {
    "duration": 145,
    "start_time": "2021-11-16T20:24:33.885Z"
   },
   {
    "duration": 67,
    "start_time": "2021-11-16T20:24:34.033Z"
   },
   {
    "duration": 112,
    "start_time": "2021-11-16T20:24:34.103Z"
   },
   {
    "duration": 55,
    "start_time": "2021-11-16T20:24:34.229Z"
   },
   {
    "duration": 48,
    "start_time": "2021-11-16T20:24:34.287Z"
   },
   {
    "duration": 32,
    "start_time": "2021-11-16T20:24:34.339Z"
   },
   {
    "duration": 15,
    "start_time": "2021-11-16T20:24:34.374Z"
   },
   {
    "duration": 55,
    "start_time": "2021-11-16T20:24:34.391Z"
   },
   {
    "duration": 17,
    "start_time": "2021-11-16T20:24:34.449Z"
   },
   {
    "duration": 11,
    "start_time": "2021-11-16T20:24:34.468Z"
   },
   {
    "duration": 163,
    "start_time": "2021-11-16T20:24:34.481Z"
   },
   {
    "duration": 20,
    "start_time": "2021-11-16T20:24:34.647Z"
   },
   {
    "duration": 17,
    "start_time": "2021-11-16T20:24:34.670Z"
   },
   {
    "duration": 544,
    "start_time": "2021-11-16T20:24:34.689Z"
   },
   {
    "duration": 6,
    "start_time": "2021-11-16T20:24:35.235Z"
   },
   {
    "duration": 12,
    "start_time": "2021-11-16T20:24:35.243Z"
   },
   {
    "duration": 8,
    "start_time": "2021-11-16T20:24:35.258Z"
   },
   {
    "duration": 1055,
    "start_time": "2021-11-16T20:24:35.269Z"
   },
   {
    "duration": 7,
    "start_time": "2021-11-16T20:24:58.585Z"
   },
   {
    "duration": 853,
    "start_time": "2021-11-16T20:24:59.093Z"
   },
   {
    "duration": 6,
    "start_time": "2021-11-16T20:25:55.701Z"
   },
   {
    "duration": 857,
    "start_time": "2021-11-16T20:25:56.418Z"
   },
   {
    "duration": 6,
    "start_time": "2021-11-16T20:26:30.989Z"
   },
   {
    "duration": 882,
    "start_time": "2021-11-16T20:26:31.220Z"
   },
   {
    "duration": 98,
    "start_time": "2021-11-16T20:27:39.535Z"
   },
   {
    "duration": 847,
    "start_time": "2021-11-16T20:27:40.198Z"
   },
   {
    "duration": 1600,
    "start_time": "2021-11-16T20:27:49.875Z"
   },
   {
    "duration": 100,
    "start_time": "2021-11-16T20:27:51.478Z"
   },
   {
    "duration": 144,
    "start_time": "2021-11-16T20:27:51.581Z"
   },
   {
    "duration": 68,
    "start_time": "2021-11-16T20:27:51.727Z"
   },
   {
    "duration": 112,
    "start_time": "2021-11-16T20:27:51.798Z"
   },
   {
    "duration": 67,
    "start_time": "2021-11-16T20:27:51.912Z"
   },
   {
    "duration": 51,
    "start_time": "2021-11-16T20:27:51.981Z"
   },
   {
    "duration": 32,
    "start_time": "2021-11-16T20:27:52.035Z"
   },
   {
    "duration": 14,
    "start_time": "2021-11-16T20:27:52.071Z"
   },
   {
    "duration": 57,
    "start_time": "2021-11-16T20:27:52.088Z"
   },
   {
    "duration": 18,
    "start_time": "2021-11-16T20:27:52.147Z"
   },
   {
    "duration": 11,
    "start_time": "2021-11-16T20:27:52.168Z"
   },
   {
    "duration": 155,
    "start_time": "2021-11-16T20:27:52.182Z"
   },
   {
    "duration": 18,
    "start_time": "2021-11-16T20:27:52.340Z"
   },
   {
    "duration": 22,
    "start_time": "2021-11-16T20:27:52.361Z"
   },
   {
    "duration": 532,
    "start_time": "2021-11-16T20:27:52.385Z"
   },
   {
    "duration": 12,
    "start_time": "2021-11-16T20:27:52.920Z"
   },
   {
    "duration": 10,
    "start_time": "2021-11-16T20:27:52.934Z"
   },
   {
    "duration": 109,
    "start_time": "2021-11-16T20:27:52.946Z"
   },
   {
    "duration": -317,
    "start_time": "2021-11-16T20:27:53.376Z"
   },
   {
    "duration": 6,
    "start_time": "2021-11-16T20:30:45.877Z"
   },
   {
    "duration": 1030,
    "start_time": "2021-11-16T20:30:46.186Z"
   },
   {
    "duration": 1658,
    "start_time": "2021-11-16T20:31:52.639Z"
   },
   {
    "duration": 84,
    "start_time": "2021-11-16T20:31:54.300Z"
   },
   {
    "duration": 209,
    "start_time": "2021-11-16T20:31:54.388Z"
   },
   {
    "duration": 76,
    "start_time": "2021-11-16T20:31:54.601Z"
   },
   {
    "duration": 105,
    "start_time": "2021-11-16T20:31:54.679Z"
   },
   {
    "duration": 68,
    "start_time": "2021-11-16T20:31:54.786Z"
   },
   {
    "duration": 43,
    "start_time": "2021-11-16T20:31:54.856Z"
   },
   {
    "duration": 43,
    "start_time": "2021-11-16T20:31:54.901Z"
   },
   {
    "duration": 25,
    "start_time": "2021-11-16T20:31:54.948Z"
   },
   {
    "duration": 41,
    "start_time": "2021-11-16T20:31:54.975Z"
   },
   {
    "duration": 18,
    "start_time": "2021-11-16T20:31:55.018Z"
   },
   {
    "duration": 10,
    "start_time": "2021-11-16T20:31:55.039Z"
   },
   {
    "duration": 154,
    "start_time": "2021-11-16T20:31:55.051Z"
   },
   {
    "duration": 23,
    "start_time": "2021-11-16T20:31:55.207Z"
   },
   {
    "duration": 24,
    "start_time": "2021-11-16T20:31:55.233Z"
   },
   {
    "duration": 522,
    "start_time": "2021-11-16T20:31:55.260Z"
   },
   {
    "duration": 7,
    "start_time": "2021-11-16T20:31:55.784Z"
   },
   {
    "duration": 12,
    "start_time": "2021-11-16T20:31:55.794Z"
   },
   {
    "duration": 111,
    "start_time": "2021-11-16T20:31:55.808Z"
   },
   {
    "duration": -327,
    "start_time": "2021-11-16T20:31:56.248Z"
   },
   {
    "duration": 6,
    "start_time": "2021-11-16T20:32:01.668Z"
   },
   {
    "duration": 1121,
    "start_time": "2021-11-16T20:32:02.173Z"
   },
   {
    "duration": 6,
    "start_time": "2021-11-16T20:32:13.688Z"
   },
   {
    "duration": 718,
    "start_time": "2021-11-16T20:32:14.103Z"
   },
   {
    "duration": 6,
    "start_time": "2021-11-16T20:34:20.048Z"
   },
   {
    "duration": 3231,
    "start_time": "2021-11-16T20:34:21.084Z"
   },
   {
    "duration": 5,
    "start_time": "2021-11-16T20:34:27.060Z"
   },
   {
    "duration": 3200,
    "start_time": "2021-11-16T20:34:27.498Z"
   },
   {
    "duration": 1626,
    "start_time": "2021-11-16T20:34:35.441Z"
   },
   {
    "duration": 93,
    "start_time": "2021-11-16T20:34:37.070Z"
   },
   {
    "duration": 139,
    "start_time": "2021-11-16T20:34:37.166Z"
   },
   {
    "duration": 83,
    "start_time": "2021-11-16T20:34:37.308Z"
   },
   {
    "duration": 107,
    "start_time": "2021-11-16T20:34:37.393Z"
   },
   {
    "duration": 63,
    "start_time": "2021-11-16T20:34:37.502Z"
   },
   {
    "duration": 44,
    "start_time": "2021-11-16T20:34:37.568Z"
   },
   {
    "duration": 45,
    "start_time": "2021-11-16T20:34:37.615Z"
   },
   {
    "duration": 17,
    "start_time": "2021-11-16T20:34:37.663Z"
   },
   {
    "duration": 47,
    "start_time": "2021-11-16T20:34:37.682Z"
   },
   {
    "duration": 19,
    "start_time": "2021-11-16T20:34:37.732Z"
   },
   {
    "duration": 23,
    "start_time": "2021-11-16T20:34:37.754Z"
   },
   {
    "duration": 160,
    "start_time": "2021-11-16T20:34:37.780Z"
   },
   {
    "duration": 21,
    "start_time": "2021-11-16T20:34:37.942Z"
   },
   {
    "duration": 28,
    "start_time": "2021-11-16T20:34:37.966Z"
   },
   {
    "duration": 521,
    "start_time": "2021-11-16T20:34:37.997Z"
   },
   {
    "duration": 11,
    "start_time": "2021-11-16T20:34:38.521Z"
   },
   {
    "duration": 8,
    "start_time": "2021-11-16T20:34:38.535Z"
   },
   {
    "duration": 7,
    "start_time": "2021-11-16T20:34:38.546Z"
   },
   {
    "duration": 3174,
    "start_time": "2021-11-16T20:34:38.556Z"
   },
   {
    "duration": 6,
    "start_time": "2021-11-16T20:34:52.780Z"
   },
   {
    "duration": 784,
    "start_time": "2021-11-16T20:34:53.945Z"
   },
   {
    "duration": 1933,
    "start_time": "2021-11-17T07:50:57.218Z"
   },
   {
    "duration": 82,
    "start_time": "2021-11-17T07:50:59.153Z"
   },
   {
    "duration": 147,
    "start_time": "2021-11-17T07:50:59.238Z"
   },
   {
    "duration": 81,
    "start_time": "2021-11-17T07:50:59.388Z"
   },
   {
    "duration": 97,
    "start_time": "2021-11-17T07:50:59.471Z"
   },
   {
    "duration": 57,
    "start_time": "2021-11-17T07:50:59.571Z"
   },
   {
    "duration": 77,
    "start_time": "2021-11-17T07:50:59.631Z"
   },
   {
    "duration": 32,
    "start_time": "2021-11-17T07:50:59.711Z"
   },
   {
    "duration": 14,
    "start_time": "2021-11-17T07:50:59.746Z"
   },
   {
    "duration": 35,
    "start_time": "2021-11-17T07:50:59.762Z"
   },
   {
    "duration": 19,
    "start_time": "2021-11-17T07:50:59.800Z"
   },
   {
    "duration": 12,
    "start_time": "2021-11-17T07:50:59.822Z"
   },
   {
    "duration": 143,
    "start_time": "2021-11-17T07:50:59.868Z"
   },
   {
    "duration": 21,
    "start_time": "2021-11-17T07:51:00.014Z"
   },
   {
    "duration": 42,
    "start_time": "2021-11-17T07:51:00.038Z"
   },
   {
    "duration": 527,
    "start_time": "2021-11-17T07:51:00.082Z"
   },
   {
    "duration": 6,
    "start_time": "2021-11-17T07:51:00.612Z"
   },
   {
    "duration": 31,
    "start_time": "2021-11-17T07:51:00.620Z"
   },
   {
    "duration": 36,
    "start_time": "2021-11-17T07:51:00.653Z"
   },
   {
    "duration": 789,
    "start_time": "2021-11-17T07:51:00.691Z"
   },
   {
    "duration": 513,
    "start_time": "2021-11-17T07:51:01.483Z"
   },
   {
    "duration": 1628,
    "start_time": "2021-11-17T07:54:02.681Z"
   },
   {
    "duration": 95,
    "start_time": "2021-11-17T07:54:04.311Z"
   },
   {
    "duration": 149,
    "start_time": "2021-11-17T07:54:04.409Z"
   },
   {
    "duration": 72,
    "start_time": "2021-11-17T07:54:04.566Z"
   },
   {
    "duration": 107,
    "start_time": "2021-11-17T07:54:04.640Z"
   },
   {
    "duration": 70,
    "start_time": "2021-11-17T07:54:04.749Z"
   },
   {
    "duration": 62,
    "start_time": "2021-11-17T07:54:04.821Z"
   },
   {
    "duration": 31,
    "start_time": "2021-11-17T07:54:04.885Z"
   },
   {
    "duration": 12,
    "start_time": "2021-11-17T07:54:04.920Z"
   },
   {
    "duration": 53,
    "start_time": "2021-11-17T07:54:04.935Z"
   },
   {
    "duration": 18,
    "start_time": "2021-11-17T07:54:04.991Z"
   },
   {
    "duration": 12,
    "start_time": "2021-11-17T07:54:05.011Z"
   },
   {
    "duration": 146,
    "start_time": "2021-11-17T07:54:05.025Z"
   },
   {
    "duration": 20,
    "start_time": "2021-11-17T07:54:05.173Z"
   },
   {
    "duration": 21,
    "start_time": "2021-11-17T07:54:05.196Z"
   },
   {
    "duration": 523,
    "start_time": "2021-11-17T07:54:05.219Z"
   },
   {
    "duration": 6,
    "start_time": "2021-11-17T07:54:05.744Z"
   },
   {
    "duration": 6,
    "start_time": "2021-11-17T07:54:05.768Z"
   },
   {
    "duration": 11,
    "start_time": "2021-11-17T07:54:05.777Z"
   },
   {
    "duration": 765,
    "start_time": "2021-11-17T07:54:05.791Z"
   },
   {
    "duration": 435,
    "start_time": "2021-11-17T07:54:06.558Z"
   },
   {
    "duration": 297,
    "start_time": "2021-11-17T07:54:46.115Z"
   },
   {
    "duration": 300,
    "start_time": "2021-11-17T07:54:53.664Z"
   },
   {
    "duration": 286,
    "start_time": "2021-11-17T07:55:07.938Z"
   },
   {
    "duration": 286,
    "start_time": "2021-11-17T07:55:36.710Z"
   },
   {
    "duration": 16,
    "start_time": "2021-11-17T07:55:47.446Z"
   },
   {
    "duration": 278,
    "start_time": "2021-11-17T07:56:34.048Z"
   },
   {
    "duration": 2045,
    "start_time": "2021-11-17T07:57:33.764Z"
   },
   {
    "duration": 83,
    "start_time": "2021-11-17T07:57:35.730Z"
   },
   {
    "duration": 83,
    "start_time": "2021-11-17T07:57:35.731Z"
   },
   {
    "duration": -26,
    "start_time": "2021-11-17T07:57:35.842Z"
   },
   {
    "duration": -29,
    "start_time": "2021-11-17T07:57:35.846Z"
   },
   {
    "duration": -28,
    "start_time": "2021-11-17T07:57:35.847Z"
   },
   {
    "duration": -28,
    "start_time": "2021-11-17T07:57:35.848Z"
   },
   {
    "duration": -28,
    "start_time": "2021-11-17T07:57:35.849Z"
   },
   {
    "duration": -28,
    "start_time": "2021-11-17T07:57:35.851Z"
   },
   {
    "duration": -28,
    "start_time": "2021-11-17T07:57:35.852Z"
   },
   {
    "duration": -27,
    "start_time": "2021-11-17T07:57:35.853Z"
   },
   {
    "duration": -27,
    "start_time": "2021-11-17T07:57:35.854Z"
   },
   {
    "duration": -27,
    "start_time": "2021-11-17T07:57:35.855Z"
   },
   {
    "duration": -26,
    "start_time": "2021-11-17T07:57:35.856Z"
   },
   {
    "duration": -27,
    "start_time": "2021-11-17T07:57:35.858Z"
   },
   {
    "duration": -26,
    "start_time": "2021-11-17T07:57:35.859Z"
   },
   {
    "duration": -26,
    "start_time": "2021-11-17T07:57:35.860Z"
   },
   {
    "duration": -25,
    "start_time": "2021-11-17T07:57:35.861Z"
   },
   {
    "duration": -25,
    "start_time": "2021-11-17T07:57:35.862Z"
   },
   {
    "duration": -24,
    "start_time": "2021-11-17T07:57:35.863Z"
   },
   {
    "duration": -24,
    "start_time": "2021-11-17T07:57:35.864Z"
   },
   {
    "duration": -24,
    "start_time": "2021-11-17T07:57:35.865Z"
   },
   {
    "duration": 1728,
    "start_time": "2021-11-17T07:57:53.334Z"
   },
   {
    "duration": 84,
    "start_time": "2021-11-17T07:57:55.068Z"
   },
   {
    "duration": 159,
    "start_time": "2021-11-17T07:57:55.155Z"
   },
   {
    "duration": 83,
    "start_time": "2021-11-17T07:57:55.317Z"
   },
   {
    "duration": 95,
    "start_time": "2021-11-17T07:57:55.402Z"
   },
   {
    "duration": 71,
    "start_time": "2021-11-17T07:57:55.500Z"
   },
   {
    "duration": 56,
    "start_time": "2021-11-17T07:57:55.573Z"
   },
   {
    "duration": 31,
    "start_time": "2021-11-17T07:57:55.631Z"
   },
   {
    "duration": 14,
    "start_time": "2021-11-17T07:57:55.666Z"
   },
   {
    "duration": 36,
    "start_time": "2021-11-17T07:57:55.684Z"
   },
   {
    "duration": 45,
    "start_time": "2021-11-17T07:57:55.723Z"
   },
   {
    "duration": 11,
    "start_time": "2021-11-17T07:57:55.771Z"
   },
   {
    "duration": 148,
    "start_time": "2021-11-17T07:57:55.785Z"
   },
   {
    "duration": 33,
    "start_time": "2021-11-17T07:57:55.936Z"
   },
   {
    "duration": 17,
    "start_time": "2021-11-17T07:57:55.971Z"
   },
   {
    "duration": 630,
    "start_time": "2021-11-17T07:57:55.990Z"
   },
   {
    "duration": 7,
    "start_time": "2021-11-17T07:57:56.623Z"
   },
   {
    "duration": 10,
    "start_time": "2021-11-17T07:57:56.633Z"
   },
   {
    "duration": 6,
    "start_time": "2021-11-17T07:57:56.668Z"
   },
   {
    "duration": 866,
    "start_time": "2021-11-17T07:57:56.676Z"
   },
   {
    "duration": 23,
    "start_time": "2021-11-17T07:57:57.544Z"
   },
   {
    "duration": 6,
    "start_time": "2021-11-17T07:57:57.569Z"
   },
   {
    "duration": 1711,
    "start_time": "2021-11-17T08:00:37.627Z"
   },
   {
    "duration": 97,
    "start_time": "2021-11-17T08:00:39.342Z"
   },
   {
    "duration": 148,
    "start_time": "2021-11-17T08:00:39.442Z"
   },
   {
    "duration": 83,
    "start_time": "2021-11-17T08:00:39.593Z"
   },
   {
    "duration": 95,
    "start_time": "2021-11-17T08:00:39.679Z"
   },
   {
    "duration": 61,
    "start_time": "2021-11-17T08:00:39.777Z"
   },
   {
    "duration": 60,
    "start_time": "2021-11-17T08:00:39.841Z"
   },
   {
    "duration": 31,
    "start_time": "2021-11-17T08:00:39.904Z"
   },
   {
    "duration": 39,
    "start_time": "2021-11-17T08:00:39.940Z"
   },
   {
    "duration": 35,
    "start_time": "2021-11-17T08:00:39.982Z"
   },
   {
    "duration": 28,
    "start_time": "2021-11-17T08:00:40.020Z"
   },
   {
    "duration": 27,
    "start_time": "2021-11-17T08:00:40.051Z"
   },
   {
    "duration": 140,
    "start_time": "2021-11-17T08:00:40.081Z"
   },
   {
    "duration": 19,
    "start_time": "2021-11-17T08:00:40.224Z"
   },
   {
    "duration": 36,
    "start_time": "2021-11-17T08:00:40.246Z"
   },
   {
    "duration": 541,
    "start_time": "2021-11-17T08:00:40.284Z"
   },
   {
    "duration": 6,
    "start_time": "2021-11-17T08:00:40.828Z"
   },
   {
    "duration": 31,
    "start_time": "2021-11-17T08:00:40.837Z"
   },
   {
    "duration": 7,
    "start_time": "2021-11-17T08:00:40.876Z"
   },
   {
    "duration": 906,
    "start_time": "2021-11-17T08:00:40.886Z"
   },
   {
    "duration": 12,
    "start_time": "2021-11-17T08:00:41.795Z"
   },
   {
    "duration": 10,
    "start_time": "2021-11-17T08:00:41.810Z"
   },
   {
    "duration": 8,
    "start_time": "2021-11-17T08:00:54.371Z"
   },
   {
    "duration": 1647,
    "start_time": "2021-11-17T08:04:58.067Z"
   },
   {
    "duration": 95,
    "start_time": "2021-11-17T08:04:59.718Z"
   },
   {
    "duration": 141,
    "start_time": "2021-11-17T08:04:59.816Z"
   },
   {
    "duration": 65,
    "start_time": "2021-11-17T08:04:59.967Z"
   },
   {
    "duration": 109,
    "start_time": "2021-11-17T08:05:00.034Z"
   },
   {
    "duration": 70,
    "start_time": "2021-11-17T08:05:00.145Z"
   },
   {
    "duration": 49,
    "start_time": "2021-11-17T08:05:00.218Z"
   },
   {
    "duration": 31,
    "start_time": "2021-11-17T08:05:00.270Z"
   },
   {
    "duration": 15,
    "start_time": "2021-11-17T08:05:00.305Z"
   },
   {
    "duration": 53,
    "start_time": "2021-11-17T08:05:00.323Z"
   },
   {
    "duration": 18,
    "start_time": "2021-11-17T08:05:00.379Z"
   },
   {
    "duration": 18,
    "start_time": "2021-11-17T08:05:00.399Z"
   },
   {
    "duration": 150,
    "start_time": "2021-11-17T08:05:00.419Z"
   },
   {
    "duration": 22,
    "start_time": "2021-11-17T08:05:00.571Z"
   },
   {
    "duration": 27,
    "start_time": "2021-11-17T08:05:00.595Z"
   },
   {
    "duration": 520,
    "start_time": "2021-11-17T08:05:00.624Z"
   },
   {
    "duration": 7,
    "start_time": "2021-11-17T08:05:01.146Z"
   },
   {
    "duration": 17,
    "start_time": "2021-11-17T08:05:01.155Z"
   },
   {
    "duration": 9,
    "start_time": "2021-11-17T08:05:01.175Z"
   },
   {
    "duration": 794,
    "start_time": "2021-11-17T08:05:01.187Z"
   },
   {
    "duration": 12,
    "start_time": "2021-11-17T08:05:01.983Z"
   },
   {
    "duration": 10,
    "start_time": "2021-11-17T08:05:01.997Z"
   },
   {
    "duration": 14,
    "start_time": "2021-11-17T08:05:02.010Z"
   },
   {
    "duration": 23,
    "start_time": "2021-11-17T11:51:10.072Z"
   },
   {
    "duration": 1666,
    "start_time": "2021-11-17T11:57:42.703Z"
   },
   {
    "duration": 97,
    "start_time": "2021-11-17T11:57:44.372Z"
   },
   {
    "duration": 150,
    "start_time": "2021-11-17T11:57:44.472Z"
   },
   {
    "duration": 82,
    "start_time": "2021-11-17T11:57:44.624Z"
   },
   {
    "duration": 114,
    "start_time": "2021-11-17T11:57:44.709Z"
   },
   {
    "duration": 78,
    "start_time": "2021-11-17T11:57:44.825Z"
   },
   {
    "duration": 50,
    "start_time": "2021-11-17T11:57:44.905Z"
   },
   {
    "duration": 41,
    "start_time": "2021-11-17T11:57:44.959Z"
   },
   {
    "duration": 22,
    "start_time": "2021-11-17T11:57:45.004Z"
   },
   {
    "duration": 47,
    "start_time": "2021-11-17T11:57:45.028Z"
   },
   {
    "duration": 19,
    "start_time": "2021-11-17T11:57:45.077Z"
   },
   {
    "duration": 10,
    "start_time": "2021-11-17T11:57:45.099Z"
   },
   {
    "duration": 148,
    "start_time": "2021-11-17T11:57:45.111Z"
   },
   {
    "duration": 27,
    "start_time": "2021-11-17T11:57:45.261Z"
   },
   {
    "duration": 15,
    "start_time": "2021-11-17T11:57:45.291Z"
   },
   {
    "duration": 550,
    "start_time": "2021-11-17T11:57:45.309Z"
   },
   {
    "duration": 13,
    "start_time": "2021-11-17T11:57:45.861Z"
   },
   {
    "duration": 8,
    "start_time": "2021-11-17T11:57:45.877Z"
   },
   {
    "duration": 6,
    "start_time": "2021-11-17T11:57:45.887Z"
   },
   {
    "duration": 921,
    "start_time": "2021-11-17T11:57:45.896Z"
   },
   {
    "duration": 11,
    "start_time": "2021-11-17T11:57:46.819Z"
   },
   {
    "duration": 9,
    "start_time": "2021-11-17T11:57:46.832Z"
   },
   {
    "duration": 30,
    "start_time": "2021-11-17T11:57:46.845Z"
   },
   {
    "duration": 6,
    "start_time": "2021-11-17T11:57:46.877Z"
   },
   {
    "duration": 33,
    "start_time": "2021-11-17T12:06:17.258Z"
   },
   {
    "duration": 9,
    "start_time": "2021-11-17T12:06:25.091Z"
   },
   {
    "duration": 8,
    "start_time": "2021-11-17T12:06:33.026Z"
   },
   {
    "duration": 8,
    "start_time": "2021-11-17T12:07:07.564Z"
   },
   {
    "duration": 407,
    "start_time": "2021-11-17T12:08:05.215Z"
   },
   {
    "duration": 253,
    "start_time": "2021-11-17T12:08:09.989Z"
   },
   {
    "duration": 7,
    "start_time": "2021-11-17T12:08:15.033Z"
   },
   {
    "duration": 1671,
    "start_time": "2021-11-17T12:15:50.300Z"
   },
   {
    "duration": 109,
    "start_time": "2021-11-17T12:15:51.974Z"
   },
   {
    "duration": 147,
    "start_time": "2021-11-17T12:15:52.086Z"
   },
   {
    "duration": 75,
    "start_time": "2021-11-17T12:15:52.236Z"
   },
   {
    "duration": 108,
    "start_time": "2021-11-17T12:15:52.313Z"
   },
   {
    "duration": 75,
    "start_time": "2021-11-17T12:15:52.424Z"
   },
   {
    "duration": 50,
    "start_time": "2021-11-17T12:15:52.501Z"
   },
   {
    "duration": 42,
    "start_time": "2021-11-17T12:15:52.555Z"
   },
   {
    "duration": 13,
    "start_time": "2021-11-17T12:15:52.600Z"
   },
   {
    "duration": 60,
    "start_time": "2021-11-17T12:15:52.615Z"
   },
   {
    "duration": 21,
    "start_time": "2021-11-17T12:15:52.678Z"
   },
   {
    "duration": 9,
    "start_time": "2021-11-17T12:15:52.702Z"
   },
   {
    "duration": 168,
    "start_time": "2021-11-17T12:15:52.714Z"
   },
   {
    "duration": 21,
    "start_time": "2021-11-17T12:15:52.885Z"
   },
   {
    "duration": 19,
    "start_time": "2021-11-17T12:15:52.909Z"
   },
   {
    "duration": 578,
    "start_time": "2021-11-17T12:15:52.930Z"
   },
   {
    "duration": 6,
    "start_time": "2021-11-17T12:15:53.510Z"
   },
   {
    "duration": 10,
    "start_time": "2021-11-17T12:15:53.518Z"
   },
   {
    "duration": 6,
    "start_time": "2021-11-17T12:15:53.531Z"
   },
   {
    "duration": 880,
    "start_time": "2021-11-17T12:15:53.567Z"
   },
   {
    "duration": 22,
    "start_time": "2021-11-17T12:15:54.450Z"
   },
   {
    "duration": 5,
    "start_time": "2021-11-17T12:15:54.476Z"
   },
   {
    "duration": 6,
    "start_time": "2021-11-17T12:15:54.487Z"
   },
   {
    "duration": 9,
    "start_time": "2021-11-17T12:15:54.496Z"
   },
   {
    "duration": 14,
    "start_time": "2021-11-17T12:15:54.507Z"
   },
   {
    "duration": 9,
    "start_time": "2021-11-17T12:15:54.524Z"
   },
   {
    "duration": 410,
    "start_time": "2021-11-17T12:16:45.371Z"
   },
   {
    "duration": 257,
    "start_time": "2021-11-17T12:17:50.748Z"
   },
   {
    "duration": 5,
    "start_time": "2021-11-17T12:18:28.518Z"
   },
   {
    "duration": 266,
    "start_time": "2021-11-17T12:18:33.514Z"
   },
   {
    "duration": 5,
    "start_time": "2021-11-17T12:19:36.219Z"
   },
   {
    "duration": 4,
    "start_time": "2021-11-17T12:20:54.151Z"
   },
   {
    "duration": 6,
    "start_time": "2021-11-17T12:20:55.987Z"
   },
   {
    "duration": 5,
    "start_time": "2021-11-17T12:21:02.885Z"
   },
   {
    "duration": 4,
    "start_time": "2021-11-17T12:22:34.488Z"
   },
   {
    "duration": 8,
    "start_time": "2021-11-17T12:22:46.078Z"
   },
   {
    "duration": 23,
    "start_time": "2021-11-17T12:23:06.893Z"
   },
   {
    "duration": 5,
    "start_time": "2021-11-17T12:23:27.584Z"
   },
   {
    "duration": 8,
    "start_time": "2021-11-17T12:23:28.617Z"
   },
   {
    "duration": 4,
    "start_time": "2021-11-17T12:23:48.928Z"
   },
   {
    "duration": 4,
    "start_time": "2021-11-17T12:24:21.568Z"
   },
   {
    "duration": 1631,
    "start_time": "2021-11-17T12:24:27.918Z"
   },
   {
    "duration": 93,
    "start_time": "2021-11-17T12:24:29.553Z"
   },
   {
    "duration": 150,
    "start_time": "2021-11-17T12:24:29.650Z"
   },
   {
    "duration": 85,
    "start_time": "2021-11-17T12:24:29.803Z"
   },
   {
    "duration": 108,
    "start_time": "2021-11-17T12:24:29.891Z"
   },
   {
    "duration": 80,
    "start_time": "2021-11-17T12:24:30.002Z"
   },
   {
    "duration": 52,
    "start_time": "2021-11-17T12:24:30.085Z"
   },
   {
    "duration": 34,
    "start_time": "2021-11-17T12:24:30.143Z"
   },
   {
    "duration": 20,
    "start_time": "2021-11-17T12:24:30.181Z"
   },
   {
    "duration": 36,
    "start_time": "2021-11-17T12:24:30.204Z"
   },
   {
    "duration": 39,
    "start_time": "2021-11-17T12:24:30.243Z"
   },
   {
    "duration": 31,
    "start_time": "2021-11-17T12:24:30.285Z"
   },
   {
    "duration": 168,
    "start_time": "2021-11-17T12:24:30.318Z"
   },
   {
    "duration": 22,
    "start_time": "2021-11-17T12:24:30.489Z"
   },
   {
    "duration": 25,
    "start_time": "2021-11-17T12:24:30.513Z"
   },
   {
    "duration": 544,
    "start_time": "2021-11-17T12:24:30.540Z"
   },
   {
    "duration": 6,
    "start_time": "2021-11-17T12:24:31.087Z"
   },
   {
    "duration": 11,
    "start_time": "2021-11-17T12:24:31.095Z"
   },
   {
    "duration": 8,
    "start_time": "2021-11-17T12:24:31.109Z"
   },
   {
    "duration": 784,
    "start_time": "2021-11-17T12:24:31.120Z"
   },
   {
    "duration": 14,
    "start_time": "2021-11-17T12:24:31.907Z"
   },
   {
    "duration": 8,
    "start_time": "2021-11-17T12:24:31.923Z"
   },
   {
    "duration": 35,
    "start_time": "2021-11-17T12:24:31.937Z"
   },
   {
    "duration": 25,
    "start_time": "2021-11-17T12:24:31.975Z"
   },
   {
    "duration": 12,
    "start_time": "2021-11-17T12:24:32.003Z"
   },
   {
    "duration": 14,
    "start_time": "2021-11-17T12:24:32.018Z"
   },
   {
    "duration": 2231,
    "start_time": "2021-11-17T17:57:13.206Z"
   },
   {
    "duration": 143,
    "start_time": "2021-11-17T17:57:15.441Z"
   },
   {
    "duration": 140,
    "start_time": "2021-11-17T17:57:15.588Z"
   },
   {
    "duration": 83,
    "start_time": "2021-11-17T17:57:15.730Z"
   },
   {
    "duration": 97,
    "start_time": "2021-11-17T17:57:15.815Z"
   },
   {
    "duration": 71,
    "start_time": "2021-11-17T17:57:15.914Z"
   },
   {
    "duration": 48,
    "start_time": "2021-11-17T17:57:15.987Z"
   },
   {
    "duration": 42,
    "start_time": "2021-11-17T17:57:16.039Z"
   },
   {
    "duration": 15,
    "start_time": "2021-11-17T17:57:16.084Z"
   },
   {
    "duration": 34,
    "start_time": "2021-11-17T17:57:16.101Z"
   },
   {
    "duration": 44,
    "start_time": "2021-11-17T17:57:16.137Z"
   },
   {
    "duration": 10,
    "start_time": "2021-11-17T17:57:16.183Z"
   },
   {
    "duration": 142,
    "start_time": "2021-11-17T17:57:16.195Z"
   },
   {
    "duration": 22,
    "start_time": "2021-11-17T17:57:16.340Z"
   },
   {
    "duration": 21,
    "start_time": "2021-11-17T17:57:16.381Z"
   },
   {
    "duration": 764,
    "start_time": "2021-11-17T17:57:16.405Z"
   },
   {
    "duration": 13,
    "start_time": "2021-11-17T17:57:17.172Z"
   },
   {
    "duration": 12,
    "start_time": "2021-11-17T17:57:17.188Z"
   },
   {
    "duration": 8,
    "start_time": "2021-11-17T17:57:17.203Z"
   },
   {
    "duration": 886,
    "start_time": "2021-11-17T17:57:17.214Z"
   },
   {
    "duration": 11,
    "start_time": "2021-11-17T17:57:18.102Z"
   },
   {
    "duration": 8,
    "start_time": "2021-11-17T17:57:18.115Z"
   },
   {
    "duration": 5,
    "start_time": "2021-11-17T17:57:18.128Z"
   },
   {
    "duration": 72,
    "start_time": "2021-11-17T17:57:18.136Z"
   },
   {
    "duration": 4,
    "start_time": "2021-11-17T17:57:18.211Z"
   },
   {
    "duration": 4,
    "start_time": "2021-11-17T17:57:18.219Z"
   },
   {
    "duration": 10,
    "start_time": "2021-11-17T17:57:18.226Z"
   },
   {
    "duration": 8036,
    "start_time": "2021-11-17T17:57:18.239Z"
   },
   {
    "duration": 709,
    "start_time": "2021-11-17T17:57:25.569Z"
   },
   {
    "duration": 1678,
    "start_time": "2021-11-17T17:57:48.958Z"
   },
   {
    "duration": 84,
    "start_time": "2021-11-17T17:57:50.638Z"
   },
   {
    "duration": 148,
    "start_time": "2021-11-17T17:57:50.725Z"
   },
   {
    "duration": 68,
    "start_time": "2021-11-17T17:57:50.876Z"
   },
   {
    "duration": 103,
    "start_time": "2021-11-17T17:57:50.946Z"
   },
   {
    "duration": 61,
    "start_time": "2021-11-17T17:57:51.051Z"
   },
   {
    "duration": 48,
    "start_time": "2021-11-17T17:57:51.115Z"
   },
   {
    "duration": 34,
    "start_time": "2021-11-17T17:57:51.165Z"
   },
   {
    "duration": 18,
    "start_time": "2021-11-17T17:57:51.203Z"
   },
   {
    "duration": 33,
    "start_time": "2021-11-17T17:57:51.224Z"
   },
   {
    "duration": 17,
    "start_time": "2021-11-17T17:57:51.282Z"
   },
   {
    "duration": 9,
    "start_time": "2021-11-17T17:57:51.301Z"
   },
   {
    "duration": 154,
    "start_time": "2021-11-17T17:57:51.312Z"
   },
   {
    "duration": 29,
    "start_time": "2021-11-17T17:57:51.470Z"
   },
   {
    "duration": 23,
    "start_time": "2021-11-17T17:57:51.503Z"
   },
   {
    "duration": 506,
    "start_time": "2021-11-17T17:57:51.529Z"
   },
   {
    "duration": 7,
    "start_time": "2021-11-17T17:57:52.039Z"
   },
   {
    "duration": 33,
    "start_time": "2021-11-17T17:57:52.048Z"
   },
   {
    "duration": 6,
    "start_time": "2021-11-17T17:57:52.084Z"
   },
   {
    "duration": 736,
    "start_time": "2021-11-17T17:57:52.092Z"
   },
   {
    "duration": 13,
    "start_time": "2021-11-17T17:57:52.831Z"
   },
   {
    "duration": 6,
    "start_time": "2021-11-17T17:57:52.847Z"
   },
   {
    "duration": 6,
    "start_time": "2021-11-17T17:57:52.883Z"
   },
   {
    "duration": 31,
    "start_time": "2021-11-17T17:57:52.893Z"
   },
   {
    "duration": 9,
    "start_time": "2021-11-17T17:57:52.927Z"
   },
   {
    "duration": 5,
    "start_time": "2021-11-17T17:57:52.938Z"
   },
   {
    "duration": 38,
    "start_time": "2021-11-17T17:57:52.948Z"
   },
   {
    "duration": 8,
    "start_time": "2021-11-17T17:57:52.989Z"
   },
   {
    "duration": 11,
    "start_time": "2021-11-17T17:57:52.999Z"
   },
   {
    "duration": 1709,
    "start_time": "2021-11-17T17:58:18.017Z"
   },
   {
    "duration": 91,
    "start_time": "2021-11-17T17:58:19.728Z"
   },
   {
    "duration": 145,
    "start_time": "2021-11-17T17:58:19.822Z"
   },
   {
    "duration": 74,
    "start_time": "2021-11-17T17:58:19.969Z"
   },
   {
    "duration": 103,
    "start_time": "2021-11-17T17:58:20.045Z"
   },
   {
    "duration": 67,
    "start_time": "2021-11-17T17:58:20.150Z"
   },
   {
    "duration": 50,
    "start_time": "2021-11-17T17:58:20.219Z"
   },
   {
    "duration": 32,
    "start_time": "2021-11-17T17:58:20.271Z"
   },
   {
    "duration": 15,
    "start_time": "2021-11-17T17:58:20.307Z"
   },
   {
    "duration": 33,
    "start_time": "2021-11-17T17:58:20.325Z"
   },
   {
    "duration": 17,
    "start_time": "2021-11-17T17:58:20.381Z"
   },
   {
    "duration": 10,
    "start_time": "2021-11-17T17:58:20.400Z"
   },
   {
    "duration": 158,
    "start_time": "2021-11-17T17:58:20.413Z"
   },
   {
    "duration": 24,
    "start_time": "2021-11-17T17:58:20.574Z"
   },
   {
    "duration": 41,
    "start_time": "2021-11-17T17:58:20.600Z"
   },
   {
    "duration": 504,
    "start_time": "2021-11-17T17:58:20.644Z"
   },
   {
    "duration": 5,
    "start_time": "2021-11-17T17:58:21.150Z"
   },
   {
    "duration": 26,
    "start_time": "2021-11-17T17:58:21.157Z"
   },
   {
    "duration": 6,
    "start_time": "2021-11-17T17:58:21.185Z"
   },
   {
    "duration": 802,
    "start_time": "2021-11-17T17:58:21.193Z"
   },
   {
    "duration": 11,
    "start_time": "2021-11-17T17:58:21.997Z"
   },
   {
    "duration": 7,
    "start_time": "2021-11-17T17:58:22.011Z"
   },
   {
    "duration": 7,
    "start_time": "2021-11-17T17:58:22.020Z"
   },
   {
    "duration": 60,
    "start_time": "2021-11-17T17:58:22.030Z"
   },
   {
    "duration": 10,
    "start_time": "2021-11-17T17:58:22.093Z"
   },
   {
    "duration": 7,
    "start_time": "2021-11-17T17:58:22.105Z"
   },
   {
    "duration": 12,
    "start_time": "2021-11-17T17:58:22.118Z"
   },
   {
    "duration": 13,
    "start_time": "2021-11-17T17:58:22.133Z"
   },
   {
    "duration": 40,
    "start_time": "2021-11-17T17:58:22.148Z"
   },
   {
    "duration": 13,
    "start_time": "2021-11-17T17:58:34.530Z"
   },
   {
    "duration": 1647,
    "start_time": "2021-11-17T18:50:21.915Z"
   },
   {
    "duration": 83,
    "start_time": "2021-11-17T18:50:23.564Z"
   },
   {
    "duration": 147,
    "start_time": "2021-11-17T18:50:23.650Z"
   },
   {
    "duration": 83,
    "start_time": "2021-11-17T18:50:23.800Z"
   },
   {
    "duration": 98,
    "start_time": "2021-11-17T18:50:23.885Z"
   },
   {
    "duration": 54,
    "start_time": "2021-11-17T18:50:23.986Z"
   },
   {
    "duration": 52,
    "start_time": "2021-11-17T18:50:24.043Z"
   },
   {
    "duration": 32,
    "start_time": "2021-11-17T18:50:24.098Z"
   },
   {
    "duration": 15,
    "start_time": "2021-11-17T18:50:24.136Z"
   },
   {
    "duration": 58,
    "start_time": "2021-11-17T18:50:24.154Z"
   },
   {
    "duration": 18,
    "start_time": "2021-11-17T18:50:24.215Z"
   },
   {
    "duration": 9,
    "start_time": "2021-11-17T18:50:24.236Z"
   },
   {
    "duration": 167,
    "start_time": "2021-11-17T18:50:24.247Z"
   },
   {
    "duration": 21,
    "start_time": "2021-11-17T18:50:24.417Z"
   },
   {
    "duration": 43,
    "start_time": "2021-11-17T18:50:24.440Z"
   },
   {
    "duration": 521,
    "start_time": "2021-11-17T18:50:24.485Z"
   },
   {
    "duration": 7,
    "start_time": "2021-11-17T18:50:25.008Z"
   },
   {
    "duration": 18,
    "start_time": "2021-11-17T18:50:25.017Z"
   },
   {
    "duration": 14,
    "start_time": "2021-11-17T18:50:25.038Z"
   },
   {
    "duration": 886,
    "start_time": "2021-11-17T18:50:25.054Z"
   },
   {
    "duration": 11,
    "start_time": "2021-11-17T18:50:25.942Z"
   },
   {
    "duration": 26,
    "start_time": "2021-11-17T18:50:25.956Z"
   },
   {
    "duration": 6,
    "start_time": "2021-11-17T18:50:25.985Z"
   },
   {
    "duration": 24,
    "start_time": "2021-11-17T18:50:25.993Z"
   },
   {
    "duration": 3,
    "start_time": "2021-11-17T18:50:26.020Z"
   },
   {
    "duration": 4,
    "start_time": "2021-11-17T18:50:26.026Z"
   },
   {
    "duration": 52,
    "start_time": "2021-11-17T18:50:26.035Z"
   },
   {
    "duration": 11,
    "start_time": "2021-11-17T18:50:26.090Z"
   },
   {
    "duration": 20,
    "start_time": "2021-11-17T18:50:26.104Z"
   },
   {
    "duration": 23,
    "start_time": "2021-11-17T18:50:26.127Z"
   },
   {
    "duration": 1646,
    "start_time": "2021-11-17T18:51:35.489Z"
   },
   {
    "duration": 88,
    "start_time": "2021-11-17T18:51:37.138Z"
   },
   {
    "duration": 151,
    "start_time": "2021-11-17T18:51:37.230Z"
   },
   {
    "duration": 64,
    "start_time": "2021-11-17T18:51:37.384Z"
   },
   {
    "duration": 107,
    "start_time": "2021-11-17T18:51:37.451Z"
   },
   {
    "duration": 70,
    "start_time": "2021-11-17T18:51:37.562Z"
   },
   {
    "duration": 49,
    "start_time": "2021-11-17T18:51:37.635Z"
   },
   {
    "duration": 31,
    "start_time": "2021-11-17T18:51:37.687Z"
   },
   {
    "duration": 15,
    "start_time": "2021-11-17T18:51:37.725Z"
   },
   {
    "duration": 61,
    "start_time": "2021-11-17T18:51:37.743Z"
   },
   {
    "duration": 18,
    "start_time": "2021-11-17T18:51:37.806Z"
   },
   {
    "duration": 9,
    "start_time": "2021-11-17T18:51:37.826Z"
   },
   {
    "duration": 148,
    "start_time": "2021-11-17T18:51:37.838Z"
   },
   {
    "duration": 20,
    "start_time": "2021-11-17T18:51:37.988Z"
   },
   {
    "duration": 16,
    "start_time": "2021-11-17T18:51:38.010Z"
   },
   {
    "duration": 532,
    "start_time": "2021-11-17T18:51:38.028Z"
   },
   {
    "duration": 18,
    "start_time": "2021-11-17T18:51:38.563Z"
   },
   {
    "duration": 7,
    "start_time": "2021-11-17T18:51:38.583Z"
   },
   {
    "duration": 6,
    "start_time": "2021-11-17T18:51:38.593Z"
   },
   {
    "duration": 761,
    "start_time": "2021-11-17T18:51:38.601Z"
   },
   {
    "duration": 23,
    "start_time": "2021-11-17T18:51:39.365Z"
   },
   {
    "duration": 8,
    "start_time": "2021-11-17T18:51:39.391Z"
   },
   {
    "duration": 7,
    "start_time": "2021-11-17T18:51:39.401Z"
   },
   {
    "duration": 24,
    "start_time": "2021-11-17T18:51:39.410Z"
   },
   {
    "duration": 45,
    "start_time": "2021-11-17T18:51:39.437Z"
   },
   {
    "duration": 3,
    "start_time": "2021-11-17T18:51:39.485Z"
   },
   {
    "duration": 10,
    "start_time": "2021-11-17T18:51:39.495Z"
   },
   {
    "duration": 11,
    "start_time": "2021-11-17T18:51:39.509Z"
   },
   {
    "duration": 19,
    "start_time": "2021-11-17T18:51:39.523Z"
   },
   {
    "duration": 19,
    "start_time": "2021-11-17T18:51:39.583Z"
   },
   {
    "duration": 6,
    "start_time": "2021-11-17T18:51:39.604Z"
   },
   {
    "duration": 445,
    "start_time": "2021-11-17T18:51:39.613Z"
   },
   {
    "duration": 1694,
    "start_time": "2021-11-17T18:52:44.520Z"
   },
   {
    "duration": 139,
    "start_time": "2021-11-17T18:52:46.218Z"
   },
   {
    "duration": 152,
    "start_time": "2021-11-17T18:52:46.361Z"
   },
   {
    "duration": 85,
    "start_time": "2021-11-17T18:52:46.517Z"
   },
   {
    "duration": 104,
    "start_time": "2021-11-17T18:52:46.605Z"
   },
   {
    "duration": 71,
    "start_time": "2021-11-17T18:52:46.712Z"
   },
   {
    "duration": 57,
    "start_time": "2021-11-17T18:52:46.786Z"
   },
   {
    "duration": 63,
    "start_time": "2021-11-17T18:52:46.846Z"
   },
   {
    "duration": 14,
    "start_time": "2021-11-17T18:52:46.913Z"
   },
   {
    "duration": 56,
    "start_time": "2021-11-17T18:52:46.931Z"
   },
   {
    "duration": 16,
    "start_time": "2021-11-17T18:52:46.989Z"
   },
   {
    "duration": 10,
    "start_time": "2021-11-17T18:52:47.007Z"
   },
   {
    "duration": 148,
    "start_time": "2021-11-17T18:52:47.019Z"
   },
   {
    "duration": 22,
    "start_time": "2021-11-17T18:52:47.170Z"
   },
   {
    "duration": 26,
    "start_time": "2021-11-17T18:52:47.195Z"
   },
   {
    "duration": 769,
    "start_time": "2021-11-17T18:52:47.224Z"
   },
   {
    "duration": 7,
    "start_time": "2021-11-17T18:52:47.996Z"
   },
   {
    "duration": 9,
    "start_time": "2021-11-17T18:52:48.006Z"
   },
   {
    "duration": 15,
    "start_time": "2021-11-17T18:52:48.017Z"
   },
   {
    "duration": 768,
    "start_time": "2021-11-17T18:52:48.034Z"
   },
   {
    "duration": 11,
    "start_time": "2021-11-17T18:52:48.804Z"
   },
   {
    "duration": 9,
    "start_time": "2021-11-17T18:52:48.818Z"
   },
   {
    "duration": 10,
    "start_time": "2021-11-17T18:52:48.830Z"
   },
   {
    "duration": 70,
    "start_time": "2021-11-17T18:52:48.842Z"
   },
   {
    "duration": 8,
    "start_time": "2021-11-17T18:52:48.915Z"
   },
   {
    "duration": 11,
    "start_time": "2021-11-17T18:52:48.926Z"
   },
   {
    "duration": 20,
    "start_time": "2021-11-17T18:52:48.943Z"
   },
   {
    "duration": 18,
    "start_time": "2021-11-17T18:52:48.966Z"
   },
   {
    "duration": 18,
    "start_time": "2021-11-17T18:52:48.987Z"
   },
   {
    "duration": 26,
    "start_time": "2021-11-17T18:52:49.008Z"
   },
   {
    "duration": 14,
    "start_time": "2021-11-17T18:52:49.037Z"
   },
   {
    "duration": 544,
    "start_time": "2021-11-17T18:52:49.053Z"
   },
   {
    "duration": 348,
    "start_time": "2021-11-17T18:53:32.447Z"
   },
   {
    "duration": 10,
    "start_time": "2021-11-17T18:55:04.065Z"
   },
   {
    "duration": 1765,
    "start_time": "2021-11-17T19:07:18.701Z"
   },
   {
    "duration": 88,
    "start_time": "2021-11-17T19:07:20.469Z"
   },
   {
    "duration": 155,
    "start_time": "2021-11-17T19:07:20.559Z"
   },
   {
    "duration": 83,
    "start_time": "2021-11-17T19:07:20.716Z"
   },
   {
    "duration": 100,
    "start_time": "2021-11-17T19:07:20.801Z"
   },
   {
    "duration": 79,
    "start_time": "2021-11-17T19:07:20.903Z"
   },
   {
    "duration": 58,
    "start_time": "2021-11-17T19:07:20.985Z"
   },
   {
    "duration": 42,
    "start_time": "2021-11-17T19:07:21.048Z"
   },
   {
    "duration": 19,
    "start_time": "2021-11-17T19:07:21.094Z"
   },
   {
    "duration": 69,
    "start_time": "2021-11-17T19:07:21.116Z"
   },
   {
    "duration": 26,
    "start_time": "2021-11-17T19:07:21.188Z"
   },
   {
    "duration": 14,
    "start_time": "2021-11-17T19:07:21.217Z"
   },
   {
    "duration": 255,
    "start_time": "2021-11-17T19:07:21.235Z"
   },
   {
    "duration": 26,
    "start_time": "2021-11-17T19:07:21.493Z"
   },
   {
    "duration": 21,
    "start_time": "2021-11-17T19:07:21.521Z"
   },
   {
    "duration": 565,
    "start_time": "2021-11-17T19:07:21.545Z"
   },
   {
    "duration": 6,
    "start_time": "2021-11-17T19:07:22.113Z"
   },
   {
    "duration": 13,
    "start_time": "2021-11-17T19:07:22.121Z"
   },
   {
    "duration": 6,
    "start_time": "2021-11-17T19:07:22.136Z"
   },
   {
    "duration": 772,
    "start_time": "2021-11-17T19:07:22.144Z"
   },
   {
    "duration": 11,
    "start_time": "2021-11-17T19:07:22.918Z"
   },
   {
    "duration": 15,
    "start_time": "2021-11-17T19:07:22.931Z"
   },
   {
    "duration": 5,
    "start_time": "2021-11-17T19:07:22.951Z"
   },
   {
    "duration": 24,
    "start_time": "2021-11-17T19:07:22.983Z"
   },
   {
    "duration": 7,
    "start_time": "2021-11-17T19:07:23.009Z"
   },
   {
    "duration": 6,
    "start_time": "2021-11-17T19:07:23.019Z"
   },
   {
    "duration": 13,
    "start_time": "2021-11-17T19:07:23.027Z"
   },
   {
    "duration": 43,
    "start_time": "2021-11-17T19:07:23.042Z"
   },
   {
    "duration": 13,
    "start_time": "2021-11-17T19:07:23.087Z"
   },
   {
    "duration": 19,
    "start_time": "2021-11-17T19:07:23.102Z"
   },
   {
    "duration": 2355,
    "start_time": "2021-11-17T19:07:23.123Z"
   },
   {
    "duration": 4,
    "start_time": "2021-11-17T19:07:25.480Z"
   },
   {
    "duration": 16,
    "start_time": "2021-11-17T19:07:25.486Z"
   },
   {
    "duration": 5,
    "start_time": "2021-11-17T19:08:41.903Z"
   },
   {
    "duration": 211,
    "start_time": "2021-11-18T13:48:15.665Z"
   },
   {
    "duration": 172,
    "start_time": "2021-11-18T13:48:29.715Z"
   },
   {
    "duration": 1987,
    "start_time": "2021-11-18T13:48:36.538Z"
   },
   {
    "duration": 54,
    "start_time": "2021-11-18T13:48:38.527Z"
   },
   {
    "duration": 99,
    "start_time": "2021-11-18T13:48:38.583Z"
   },
   {
    "duration": 47,
    "start_time": "2021-11-18T13:48:38.684Z"
   },
   {
    "duration": 71,
    "start_time": "2021-11-18T13:48:38.733Z"
   },
   {
    "duration": 36,
    "start_time": "2021-11-18T13:48:38.805Z"
   },
   {
    "duration": 25,
    "start_time": "2021-11-18T13:48:38.843Z"
   },
   {
    "duration": 25,
    "start_time": "2021-11-18T13:48:38.870Z"
   },
   {
    "duration": 7,
    "start_time": "2021-11-18T13:48:38.896Z"
   },
   {
    "duration": 20,
    "start_time": "2021-11-18T13:48:38.905Z"
   },
   {
    "duration": 10,
    "start_time": "2021-11-18T13:48:38.927Z"
   },
   {
    "duration": 5,
    "start_time": "2021-11-18T13:48:38.939Z"
   },
   {
    "duration": 91,
    "start_time": "2021-11-18T13:48:38.945Z"
   },
   {
    "duration": 5,
    "start_time": "2021-11-18T13:48:39.038Z"
   },
   {
    "duration": 14,
    "start_time": "2021-11-18T13:48:39.044Z"
   },
   {
    "duration": 17,
    "start_time": "2021-11-18T13:48:39.060Z"
   },
   {
    "duration": 324,
    "start_time": "2021-11-18T13:48:39.091Z"
   },
   {
    "duration": 4,
    "start_time": "2021-11-18T13:48:39.416Z"
   },
   {
    "duration": 23,
    "start_time": "2021-11-18T13:48:39.421Z"
   },
   {
    "duration": 9,
    "start_time": "2021-11-18T13:48:39.446Z"
   },
   {
    "duration": 453,
    "start_time": "2021-11-18T13:48:39.457Z"
   },
   {
    "duration": 7,
    "start_time": "2021-11-18T13:48:39.912Z"
   },
   {
    "duration": 6,
    "start_time": "2021-11-18T13:48:39.921Z"
   },
   {
    "duration": 8,
    "start_time": "2021-11-18T13:48:39.928Z"
   },
   {
    "duration": 16,
    "start_time": "2021-11-18T13:48:39.937Z"
   },
   {
    "duration": 2,
    "start_time": "2021-11-18T13:48:39.954Z"
   },
   {
    "duration": 9,
    "start_time": "2021-11-18T13:48:39.957Z"
   },
   {
    "duration": 26,
    "start_time": "2021-11-18T13:48:39.967Z"
   },
   {
    "duration": 9,
    "start_time": "2021-11-18T13:48:39.994Z"
   },
   {
    "duration": 14,
    "start_time": "2021-11-18T13:48:40.005Z"
   },
   {
    "duration": 1173,
    "start_time": "2021-11-18T13:48:40.020Z"
   },
   {
    "duration": 3,
    "start_time": "2021-11-18T13:48:41.194Z"
   },
   {
    "duration": 25,
    "start_time": "2021-11-18T13:48:41.199Z"
   },
   {
    "duration": 12,
    "start_time": "2021-11-18T13:48:41.226Z"
   },
   {
    "duration": 1263,
    "start_time": "2021-11-18T14:06:33.769Z"
   },
   {
    "duration": 75,
    "start_time": "2021-11-18T14:06:35.034Z"
   },
   {
    "duration": 106,
    "start_time": "2021-11-18T14:06:35.111Z"
   },
   {
    "duration": 45,
    "start_time": "2021-11-18T14:06:35.218Z"
   },
   {
    "duration": 77,
    "start_time": "2021-11-18T14:06:35.264Z"
   },
   {
    "duration": 36,
    "start_time": "2021-11-18T14:06:35.343Z"
   },
   {
    "duration": 91,
    "start_time": "2021-11-18T14:06:35.380Z"
   },
   {
    "duration": 24,
    "start_time": "2021-11-18T14:06:35.474Z"
   },
   {
    "duration": 14,
    "start_time": "2021-11-18T14:06:35.500Z"
   },
   {
    "duration": 23,
    "start_time": "2021-11-18T14:06:35.515Z"
   },
   {
    "duration": 11,
    "start_time": "2021-11-18T14:06:35.539Z"
   },
   {
    "duration": 21,
    "start_time": "2021-11-18T14:06:35.552Z"
   },
   {
    "duration": 80,
    "start_time": "2021-11-18T14:06:35.575Z"
   },
   {
    "duration": 262,
    "start_time": "2021-11-18T14:06:35.657Z"
   },
   {
    "duration": 12,
    "start_time": "2021-11-18T14:06:35.921Z"
   },
   {
    "duration": 13,
    "start_time": "2021-11-18T14:06:35.934Z"
   },
   {
    "duration": 318,
    "start_time": "2021-11-18T14:06:35.949Z"
   },
   {
    "duration": 5,
    "start_time": "2021-11-18T14:06:36.269Z"
   },
   {
    "duration": 21,
    "start_time": "2021-11-18T14:06:36.276Z"
   },
   {
    "duration": 5,
    "start_time": "2021-11-18T14:06:36.299Z"
   },
   {
    "duration": 453,
    "start_time": "2021-11-18T14:06:36.306Z"
   },
   {
    "duration": 7,
    "start_time": "2021-11-18T14:06:36.760Z"
   },
   {
    "duration": 16,
    "start_time": "2021-11-18T14:06:36.770Z"
   },
   {
    "duration": 9,
    "start_time": "2021-11-18T14:06:36.788Z"
   },
   {
    "duration": 17,
    "start_time": "2021-11-18T14:06:36.799Z"
   },
   {
    "duration": 14,
    "start_time": "2021-11-18T14:06:36.818Z"
   },
   {
    "duration": 11,
    "start_time": "2021-11-18T14:06:36.834Z"
   },
   {
    "duration": 9,
    "start_time": "2021-11-18T14:06:36.847Z"
   },
   {
    "duration": 16,
    "start_time": "2021-11-18T14:06:36.858Z"
   },
   {
    "duration": 12,
    "start_time": "2021-11-18T14:06:36.876Z"
   },
   {
    "duration": 1159,
    "start_time": "2021-11-18T14:06:36.889Z"
   },
   {
    "duration": 4,
    "start_time": "2021-11-18T14:06:38.049Z"
   },
   {
    "duration": 8,
    "start_time": "2021-11-18T14:06:38.054Z"
   },
   {
    "duration": 8,
    "start_time": "2021-11-18T14:06:38.064Z"
   },
   {
    "duration": 1179,
    "start_time": "2021-11-18T14:08:57.859Z"
   },
   {
    "duration": 59,
    "start_time": "2021-11-18T14:08:59.039Z"
   },
   {
    "duration": 100,
    "start_time": "2021-11-18T14:08:59.100Z"
   },
   {
    "duration": 43,
    "start_time": "2021-11-18T14:08:59.202Z"
   },
   {
    "duration": 76,
    "start_time": "2021-11-18T14:08:59.246Z"
   },
   {
    "duration": 39,
    "start_time": "2021-11-18T14:08:59.324Z"
   },
   {
    "duration": 55,
    "start_time": "2021-11-18T14:08:59.364Z"
   },
   {
    "duration": 25,
    "start_time": "2021-11-18T14:08:59.421Z"
   },
   {
    "duration": 8,
    "start_time": "2021-11-18T14:08:59.448Z"
   },
   {
    "duration": 24,
    "start_time": "2021-11-18T14:08:59.457Z"
   },
   {
    "duration": 10,
    "start_time": "2021-11-18T14:08:59.482Z"
   },
   {
    "duration": 250,
    "start_time": "2021-11-18T14:08:59.494Z"
   },
   {
    "duration": 15,
    "start_time": "2021-11-18T14:08:59.746Z"
   },
   {
    "duration": 5,
    "start_time": "2021-11-18T14:08:59.763Z"
   },
   {
    "duration": 77,
    "start_time": "2021-11-18T14:08:59.769Z"
   },
   {
    "duration": 12,
    "start_time": "2021-11-18T14:08:59.847Z"
   },
   {
    "duration": 14,
    "start_time": "2021-11-18T14:08:59.860Z"
   },
   {
    "duration": 325,
    "start_time": "2021-11-18T14:08:59.875Z"
   },
   {
    "duration": 4,
    "start_time": "2021-11-18T14:09:00.202Z"
   },
   {
    "duration": 12,
    "start_time": "2021-11-18T14:09:00.207Z"
   },
   {
    "duration": 6,
    "start_time": "2021-11-18T14:09:00.220Z"
   },
   {
    "duration": 465,
    "start_time": "2021-11-18T14:09:00.227Z"
   },
   {
    "duration": 7,
    "start_time": "2021-11-18T14:09:00.695Z"
   },
   {
    "duration": 8,
    "start_time": "2021-11-18T14:09:00.704Z"
   },
   {
    "duration": 8,
    "start_time": "2021-11-18T14:09:00.713Z"
   },
   {
    "duration": 30,
    "start_time": "2021-11-18T14:09:00.723Z"
   },
   {
    "duration": 13,
    "start_time": "2021-11-18T14:09:00.754Z"
   },
   {
    "duration": 21,
    "start_time": "2021-11-18T14:09:00.768Z"
   },
   {
    "duration": 19,
    "start_time": "2021-11-18T14:09:00.790Z"
   },
   {
    "duration": 100,
    "start_time": "2021-11-18T14:09:00.811Z"
   },
   {
    "duration": 20,
    "start_time": "2021-11-18T14:09:00.913Z"
   },
   {
    "duration": 1082,
    "start_time": "2021-11-18T14:09:00.935Z"
   },
   {
    "duration": 3,
    "start_time": "2021-11-18T14:09:02.019Z"
   },
   {
    "duration": 21,
    "start_time": "2021-11-18T14:09:02.024Z"
   },
   {
    "duration": 17,
    "start_time": "2021-11-18T14:09:02.047Z"
   },
   {
    "duration": 23,
    "start_time": "2021-11-18T14:10:38.597Z"
   },
   {
    "duration": 58,
    "start_time": "2021-11-18T14:25:44.852Z"
   },
   {
    "duration": 61,
    "start_time": "2021-11-18T14:27:14.040Z"
   },
   {
    "duration": 5,
    "start_time": "2021-11-18T14:36:05.656Z"
   },
   {
    "duration": 5,
    "start_time": "2021-11-18T14:36:32.577Z"
   },
   {
    "duration": 59,
    "start_time": "2021-11-18T14:37:52.336Z"
   },
   {
    "duration": 14,
    "start_time": "2021-11-18T14:38:24.657Z"
   },
   {
    "duration": 1221,
    "start_time": "2021-11-19T12:36:10.887Z"
   },
   {
    "duration": 66,
    "start_time": "2021-11-19T12:36:12.110Z"
   },
   {
    "duration": 99,
    "start_time": "2021-11-19T12:36:12.178Z"
   },
   {
    "duration": 44,
    "start_time": "2021-11-19T12:36:12.279Z"
   },
   {
    "duration": 74,
    "start_time": "2021-11-19T12:36:12.325Z"
   },
   {
    "duration": 47,
    "start_time": "2021-11-19T12:36:12.401Z"
   },
   {
    "duration": 38,
    "start_time": "2021-11-19T12:36:12.449Z"
   },
   {
    "duration": 25,
    "start_time": "2021-11-19T12:36:12.489Z"
   },
   {
    "duration": 12,
    "start_time": "2021-11-19T12:36:12.516Z"
   },
   {
    "duration": 22,
    "start_time": "2021-11-19T12:36:12.530Z"
   },
   {
    "duration": 13,
    "start_time": "2021-11-19T12:36:12.553Z"
   },
   {
    "duration": 912,
    "start_time": "2021-11-19T12:36:12.568Z"
   },
   {
    "duration": 14,
    "start_time": "2021-11-19T12:36:13.482Z"
   },
   {
    "duration": 6,
    "start_time": "2021-11-19T12:36:13.498Z"
   },
   {
    "duration": 96,
    "start_time": "2021-11-19T12:36:13.506Z"
   },
   {
    "duration": 22,
    "start_time": "2021-11-19T12:36:13.604Z"
   },
   {
    "duration": 25,
    "start_time": "2021-11-19T12:36:13.628Z"
   },
   {
    "duration": 313,
    "start_time": "2021-11-19T12:36:13.655Z"
   },
   {
    "duration": 6,
    "start_time": "2021-11-19T12:36:13.970Z"
   },
   {
    "duration": 8,
    "start_time": "2021-11-19T12:36:13.978Z"
   },
   {
    "duration": 6,
    "start_time": "2021-11-19T12:36:13.988Z"
   },
   {
    "duration": 493,
    "start_time": "2021-11-19T12:36:13.996Z"
   },
   {
    "duration": 7,
    "start_time": "2021-11-19T12:36:14.493Z"
   },
   {
    "duration": 7,
    "start_time": "2021-11-19T12:36:14.502Z"
   },
   {
    "duration": 5,
    "start_time": "2021-11-19T12:36:14.511Z"
   },
   {
    "duration": 35,
    "start_time": "2021-11-19T12:36:14.518Z"
   },
   {
    "duration": 6,
    "start_time": "2021-11-19T12:36:14.555Z"
   },
   {
    "duration": 17,
    "start_time": "2021-11-19T12:36:14.563Z"
   },
   {
    "duration": 9,
    "start_time": "2021-11-19T12:36:14.582Z"
   },
   {
    "duration": 83,
    "start_time": "2021-11-19T12:36:14.593Z"
   },
   {
    "duration": 16,
    "start_time": "2021-11-19T12:36:14.678Z"
   },
   {
    "duration": 1174,
    "start_time": "2021-11-19T12:36:14.696Z"
   },
   {
    "duration": 4,
    "start_time": "2021-11-19T12:36:15.872Z"
   },
   {
    "duration": 8,
    "start_time": "2021-11-19T12:36:15.878Z"
   },
   {
    "duration": 10,
    "start_time": "2021-11-19T12:36:15.889Z"
   },
   {
    "duration": 11,
    "start_time": "2021-11-19T12:48:28.064Z"
   },
   {
    "duration": 1695,
    "start_time": "2021-11-22T13:47:35.569Z"
   },
   {
    "duration": 11966,
    "start_time": "2021-11-22T13:47:37.267Z"
   },
   {
    "duration": -173,
    "start_time": "2021-11-22T13:47:49.413Z"
   },
   {
    "duration": -175,
    "start_time": "2021-11-22T13:47:49.417Z"
   },
   {
    "duration": -176,
    "start_time": "2021-11-22T13:47:49.420Z"
   },
   {
    "duration": -177,
    "start_time": "2021-11-22T13:47:49.423Z"
   },
   {
    "duration": -176,
    "start_time": "2021-11-22T13:47:49.425Z"
   },
   {
    "duration": -278,
    "start_time": "2021-11-22T13:47:49.530Z"
   },
   {
    "duration": -314,
    "start_time": "2021-11-22T13:47:49.568Z"
   },
   {
    "duration": -314,
    "start_time": "2021-11-22T13:47:49.570Z"
   },
   {
    "duration": -314,
    "start_time": "2021-11-22T13:47:49.572Z"
   },
   {
    "duration": -312,
    "start_time": "2021-11-22T13:47:49.573Z"
   },
   {
    "duration": -312,
    "start_time": "2021-11-22T13:47:49.575Z"
   },
   {
    "duration": -311,
    "start_time": "2021-11-22T13:47:49.576Z"
   },
   {
    "duration": -312,
    "start_time": "2021-11-22T13:47:49.579Z"
   },
   {
    "duration": -314,
    "start_time": "2021-11-22T13:47:49.584Z"
   },
   {
    "duration": -315,
    "start_time": "2021-11-22T13:47:49.587Z"
   },
   {
    "duration": -314,
    "start_time": "2021-11-22T13:47:49.588Z"
   },
   {
    "duration": -313,
    "start_time": "2021-11-22T13:47:49.589Z"
   },
   {
    "duration": -349,
    "start_time": "2021-11-22T13:47:49.627Z"
   },
   {
    "duration": -350,
    "start_time": "2021-11-22T13:47:49.630Z"
   },
   {
    "duration": -351,
    "start_time": "2021-11-22T13:47:49.634Z"
   },
   {
    "duration": -351,
    "start_time": "2021-11-22T13:47:49.636Z"
   },
   {
    "duration": -351,
    "start_time": "2021-11-22T13:47:49.638Z"
   },
   {
    "duration": -350,
    "start_time": "2021-11-22T13:47:49.639Z"
   },
   {
    "duration": -349,
    "start_time": "2021-11-22T13:47:49.641Z"
   },
   {
    "duration": -348,
    "start_time": "2021-11-22T13:47:49.642Z"
   },
   {
    "duration": -348,
    "start_time": "2021-11-22T13:47:49.644Z"
   },
   {
    "duration": -348,
    "start_time": "2021-11-22T13:47:49.646Z"
   },
   {
    "duration": -348,
    "start_time": "2021-11-22T13:47:49.648Z"
   },
   {
    "duration": -440,
    "start_time": "2021-11-22T13:47:49.742Z"
   },
   {
    "duration": -384,
    "start_time": "2021-11-22T13:47:49.744Z"
   },
   {
    "duration": -382,
    "start_time": "2021-11-22T13:47:49.745Z"
   },
   {
    "duration": -382,
    "start_time": "2021-11-22T13:47:49.747Z"
   },
   {
    "duration": -381,
    "start_time": "2021-11-22T13:47:49.748Z"
   },
   {
    "duration": 2197,
    "start_time": "2021-11-22T13:48:41.094Z"
   },
   {
    "duration": 97,
    "start_time": "2021-11-22T13:48:43.293Z"
   },
   {
    "duration": 139,
    "start_time": "2021-11-22T13:48:43.393Z"
   },
   {
    "duration": 77,
    "start_time": "2021-11-22T13:48:43.535Z"
   },
   {
    "duration": 140,
    "start_time": "2021-11-22T13:48:43.614Z"
   },
   {
    "duration": 97,
    "start_time": "2021-11-22T13:48:43.767Z"
   },
   {
    "duration": 46,
    "start_time": "2021-11-22T13:48:43.867Z"
   },
   {
    "duration": 36,
    "start_time": "2021-11-22T13:48:43.917Z"
   },
   {
    "duration": 23,
    "start_time": "2021-11-22T13:48:43.956Z"
   },
   {
    "duration": 48,
    "start_time": "2021-11-22T13:48:43.982Z"
   },
   {
    "duration": 44,
    "start_time": "2021-11-22T13:48:44.033Z"
   },
   {
    "duration": 972,
    "start_time": "2021-11-22T13:48:44.080Z"
   },
   {
    "duration": 25,
    "start_time": "2021-11-22T13:48:45.054Z"
   },
   {
    "duration": 10,
    "start_time": "2021-11-22T13:48:45.081Z"
   },
   {
    "duration": 200,
    "start_time": "2021-11-22T13:48:45.093Z"
   },
   {
    "duration": 49,
    "start_time": "2021-11-22T13:48:45.296Z"
   },
   {
    "duration": 23,
    "start_time": "2021-11-22T13:48:45.370Z"
   },
   {
    "duration": 813,
    "start_time": "2021-11-22T13:48:45.396Z"
   },
   {
    "duration": 6,
    "start_time": "2021-11-22T13:48:46.211Z"
   },
   {
    "duration": 9,
    "start_time": "2021-11-22T13:48:46.219Z"
   },
   {
    "duration": 30,
    "start_time": "2021-11-22T13:48:46.230Z"
   },
   {
    "duration": 757,
    "start_time": "2021-11-22T13:48:46.264Z"
   },
   {
    "duration": 10,
    "start_time": "2021-11-22T13:48:47.026Z"
   },
   {
    "duration": 21,
    "start_time": "2021-11-22T13:48:47.039Z"
   },
   {
    "duration": 12,
    "start_time": "2021-11-22T13:48:47.063Z"
   },
   {
    "duration": 24,
    "start_time": "2021-11-22T13:48:47.078Z"
   },
   {
    "duration": 7,
    "start_time": "2021-11-22T13:48:47.104Z"
   },
   {
    "duration": 14,
    "start_time": "2021-11-22T13:48:47.113Z"
   },
   {
    "duration": 36,
    "start_time": "2021-11-22T13:48:47.129Z"
   },
   {
    "duration": 101,
    "start_time": "2021-11-22T13:48:47.167Z"
   },
   {
    "duration": 13,
    "start_time": "2021-11-22T13:48:47.270Z"
   },
   {
    "duration": 2355,
    "start_time": "2021-11-22T13:48:47.285Z"
   },
   {
    "duration": 6,
    "start_time": "2021-11-22T13:48:49.643Z"
   },
   {
    "duration": 18,
    "start_time": "2021-11-22T13:48:49.652Z"
   },
   {
    "duration": 12,
    "start_time": "2021-11-22T13:48:49.673Z"
   },
   {
    "duration": 729,
    "start_time": "2021-11-22T13:50:16.358Z"
   },
   {
    "duration": 1761,
    "start_time": "2021-11-22T13:50:28.392Z"
   },
   {
    "duration": 146,
    "start_time": "2021-11-22T13:50:30.159Z"
   },
   {
    "duration": 210,
    "start_time": "2021-11-22T13:50:30.309Z"
   },
   {
    "duration": 562,
    "start_time": "2021-11-22T13:50:30.523Z"
   },
   {
    "duration": 100,
    "start_time": "2021-11-22T13:50:31.088Z"
   },
   {
    "duration": 85,
    "start_time": "2021-11-22T13:50:31.191Z"
   },
   {
    "duration": 43,
    "start_time": "2021-11-22T13:50:31.279Z"
   },
   {
    "duration": 33,
    "start_time": "2021-11-22T13:50:31.326Z"
   },
   {
    "duration": 14,
    "start_time": "2021-11-22T13:50:31.364Z"
   },
   {
    "duration": 49,
    "start_time": "2021-11-22T13:50:31.381Z"
   },
   {
    "duration": 46,
    "start_time": "2021-11-22T13:50:31.433Z"
   },
   {
    "duration": 896,
    "start_time": "2021-11-22T13:50:31.482Z"
   },
   {
    "duration": 34,
    "start_time": "2021-11-22T13:50:32.381Z"
   },
   {
    "duration": 13,
    "start_time": "2021-11-22T13:50:32.418Z"
   },
   {
    "duration": 156,
    "start_time": "2021-11-22T13:50:32.433Z"
   },
   {
    "duration": 37,
    "start_time": "2021-11-22T13:50:32.592Z"
   },
   {
    "duration": 36,
    "start_time": "2021-11-22T13:50:32.631Z"
   },
   {
    "duration": 494,
    "start_time": "2021-11-22T13:50:32.669Z"
   },
   {
    "duration": 6,
    "start_time": "2021-11-22T13:50:33.165Z"
   },
   {
    "duration": 16,
    "start_time": "2021-11-22T13:50:33.173Z"
   },
   {
    "duration": 12,
    "start_time": "2021-11-22T13:50:33.191Z"
   },
   {
    "duration": 829,
    "start_time": "2021-11-22T13:50:33.205Z"
   },
   {
    "duration": 26,
    "start_time": "2021-11-22T13:50:34.038Z"
   },
   {
    "duration": 7,
    "start_time": "2021-11-22T13:50:34.067Z"
   },
   {
    "duration": 10,
    "start_time": "2021-11-22T13:50:34.076Z"
   },
   {
    "duration": 22,
    "start_time": "2021-11-22T13:50:34.089Z"
   },
   {
    "duration": 3,
    "start_time": "2021-11-22T13:50:34.114Z"
   },
   {
    "duration": 42,
    "start_time": "2021-11-22T13:50:34.120Z"
   },
   {
    "duration": 12,
    "start_time": "2021-11-22T13:50:34.165Z"
   },
   {
    "duration": 15,
    "start_time": "2021-11-22T13:50:34.179Z"
   },
   {
    "duration": 13,
    "start_time": "2021-11-22T13:50:34.196Z"
   },
   {
    "duration": 2171,
    "start_time": "2021-11-22T13:50:34.211Z"
   },
   {
    "duration": 6,
    "start_time": "2021-11-22T13:50:36.384Z"
   },
   {
    "duration": 8,
    "start_time": "2021-11-22T13:50:36.393Z"
   },
   {
    "duration": 7,
    "start_time": "2021-11-22T13:50:36.404Z"
   },
   {
    "duration": 551,
    "start_time": "2021-11-22T13:51:16.111Z"
   },
   {
    "duration": 308,
    "start_time": "2021-11-22T13:51:37.871Z"
   },
   {
    "duration": 1757,
    "start_time": "2021-11-22T13:51:44.071Z"
   },
   {
    "duration": 379,
    "start_time": "2021-11-22T13:51:45.831Z"
   },
   {
    "duration": 139,
    "start_time": "2021-11-22T13:51:46.213Z"
   },
   {
    "duration": 352,
    "start_time": "2021-11-22T13:51:46.355Z"
   },
   {
    "duration": 100,
    "start_time": "2021-11-22T13:51:46.709Z"
   },
   {
    "duration": 338,
    "start_time": "2021-11-22T13:51:46.811Z"
   },
   {
    "duration": 44,
    "start_time": "2021-11-22T13:51:47.160Z"
   },
   {
    "duration": 33,
    "start_time": "2021-11-22T13:51:47.206Z"
   },
   {
    "duration": 14,
    "start_time": "2021-11-22T13:51:47.243Z"
   },
   {
    "duration": 45,
    "start_time": "2021-11-22T13:51:47.261Z"
   },
   {
    "duration": 25,
    "start_time": "2021-11-22T13:51:47.308Z"
   },
   {
    "duration": 903,
    "start_time": "2021-11-22T13:51:47.336Z"
   },
   {
    "duration": 28,
    "start_time": "2021-11-22T13:51:48.242Z"
   },
   {
    "duration": 9,
    "start_time": "2021-11-22T13:51:48.272Z"
   },
   {
    "duration": 142,
    "start_time": "2021-11-22T13:51:48.283Z"
   },
   {
    "duration": 48,
    "start_time": "2021-11-22T13:51:48.427Z"
   },
   {
    "duration": 16,
    "start_time": "2021-11-22T13:51:48.478Z"
   },
   {
    "duration": 613,
    "start_time": "2021-11-22T13:51:48.496Z"
   },
   {
    "duration": 6,
    "start_time": "2021-11-22T13:51:49.111Z"
   },
   {
    "duration": 16,
    "start_time": "2021-11-22T13:51:49.120Z"
   },
   {
    "duration": 20,
    "start_time": "2021-11-22T13:51:49.139Z"
   },
   {
    "duration": 777,
    "start_time": "2021-11-22T13:51:49.162Z"
   },
   {
    "duration": 22,
    "start_time": "2021-11-22T13:51:49.942Z"
   },
   {
    "duration": 5,
    "start_time": "2021-11-22T13:51:49.966Z"
   },
   {
    "duration": 7,
    "start_time": "2021-11-22T13:51:49.973Z"
   },
   {
    "duration": 25,
    "start_time": "2021-11-22T13:51:49.982Z"
   },
   {
    "duration": 4,
    "start_time": "2021-11-22T13:51:50.012Z"
   },
   {
    "duration": 48,
    "start_time": "2021-11-22T13:51:50.019Z"
   },
   {
    "duration": 16,
    "start_time": "2021-11-22T13:51:50.070Z"
   },
   {
    "duration": 16,
    "start_time": "2021-11-22T13:51:50.089Z"
   },
   {
    "duration": 15,
    "start_time": "2021-11-22T13:51:50.108Z"
   },
   {
    "duration": 2222,
    "start_time": "2021-11-22T13:51:50.126Z"
   },
   {
    "duration": 9,
    "start_time": "2021-11-22T13:51:52.350Z"
   },
   {
    "duration": 8,
    "start_time": "2021-11-22T13:51:52.361Z"
   },
   {
    "duration": 11,
    "start_time": "2021-11-22T13:51:52.371Z"
   },
   {
    "duration": 1926,
    "start_time": "2021-11-22T13:52:41.945Z"
   },
   {
    "duration": 403,
    "start_time": "2021-11-22T13:52:43.874Z"
   },
   {
    "duration": 144,
    "start_time": "2021-11-22T13:52:44.280Z"
   },
   {
    "duration": 346,
    "start_time": "2021-11-22T13:52:44.426Z"
   },
   {
    "duration": 102,
    "start_time": "2021-11-22T13:52:44.775Z"
   },
   {
    "duration": 348,
    "start_time": "2021-11-22T13:52:44.880Z"
   },
   {
    "duration": 44,
    "start_time": "2021-11-22T13:52:45.231Z"
   },
   {
    "duration": 37,
    "start_time": "2021-11-22T13:52:45.279Z"
   },
   {
    "duration": 68,
    "start_time": "2021-11-22T13:52:45.321Z"
   },
   {
    "duration": 35,
    "start_time": "2021-11-22T13:52:45.391Z"
   },
   {
    "duration": 18,
    "start_time": "2021-11-22T13:52:45.428Z"
   },
   {
    "duration": 1555,
    "start_time": "2021-11-22T13:52:45.448Z"
   },
   {
    "duration": 39,
    "start_time": "2021-11-22T13:52:47.006Z"
   },
   {
    "duration": 90,
    "start_time": "2021-11-22T13:52:47.048Z"
   },
   {
    "duration": 250,
    "start_time": "2021-11-22T13:52:47.141Z"
   },
   {
    "duration": 33,
    "start_time": "2021-11-22T13:52:47.394Z"
   },
   {
    "duration": 34,
    "start_time": "2021-11-22T13:52:47.429Z"
   },
   {
    "duration": 599,
    "start_time": "2021-11-22T13:52:47.466Z"
   },
   {
    "duration": 6,
    "start_time": "2021-11-22T13:52:48.067Z"
   },
   {
    "duration": 11,
    "start_time": "2021-11-22T13:52:48.075Z"
   },
   {
    "duration": 6,
    "start_time": "2021-11-22T13:52:48.089Z"
   },
   {
    "duration": 867,
    "start_time": "2021-11-22T13:52:48.097Z"
   },
   {
    "duration": 11,
    "start_time": "2021-11-22T13:52:48.968Z"
   },
   {
    "duration": 6,
    "start_time": "2021-11-22T13:52:48.982Z"
   },
   {
    "duration": 7,
    "start_time": "2021-11-22T13:52:48.991Z"
   },
   {
    "duration": 26,
    "start_time": "2021-11-22T13:52:49.001Z"
   },
   {
    "duration": 5,
    "start_time": "2021-11-22T13:52:49.030Z"
   },
   {
    "duration": 12,
    "start_time": "2021-11-22T13:52:49.037Z"
   },
   {
    "duration": 13,
    "start_time": "2021-11-22T13:52:49.051Z"
   },
   {
    "duration": 15,
    "start_time": "2021-11-22T13:52:49.067Z"
   },
   {
    "duration": 20,
    "start_time": "2021-11-22T13:52:49.084Z"
   },
   {
    "duration": 2620,
    "start_time": "2021-11-22T13:52:49.106Z"
   },
   {
    "duration": 4,
    "start_time": "2021-11-22T13:52:51.729Z"
   },
   {
    "duration": 8,
    "start_time": "2021-11-22T13:52:51.736Z"
   },
   {
    "duration": 6,
    "start_time": "2021-11-22T13:52:51.747Z"
   },
   {
    "duration": 1794,
    "start_time": "2021-11-24T10:24:01.224Z"
   },
   {
    "duration": 392,
    "start_time": "2021-11-24T10:24:03.020Z"
   },
   {
    "duration": 188,
    "start_time": "2021-11-24T10:24:03.418Z"
   },
   {
    "duration": 374,
    "start_time": "2021-11-24T10:24:03.609Z"
   },
   {
    "duration": 107,
    "start_time": "2021-11-24T10:24:03.985Z"
   },
   {
    "duration": 349,
    "start_time": "2021-11-24T10:24:04.094Z"
   },
   {
    "duration": 49,
    "start_time": "2021-11-24T10:24:04.447Z"
   },
   {
    "duration": 32,
    "start_time": "2021-11-24T10:24:04.499Z"
   },
   {
    "duration": 40,
    "start_time": "2021-11-24T10:24:04.533Z"
   },
   {
    "duration": 33,
    "start_time": "2021-11-24T10:24:04.575Z"
   },
   {
    "duration": 18,
    "start_time": "2021-11-24T10:24:04.610Z"
   },
   {
    "duration": 624,
    "start_time": "2021-11-24T10:24:04.630Z"
   },
   {
    "duration": 23,
    "start_time": "2021-11-24T10:24:05.257Z"
   },
   {
    "duration": 10,
    "start_time": "2021-11-24T10:24:05.283Z"
   },
   {
    "duration": 154,
    "start_time": "2021-11-24T10:24:05.295Z"
   },
   {
    "duration": 42,
    "start_time": "2021-11-24T10:24:05.452Z"
   },
   {
    "duration": 17,
    "start_time": "2021-11-24T10:24:05.496Z"
   },
   {
    "duration": 605,
    "start_time": "2021-11-24T10:24:05.516Z"
   },
   {
    "duration": 6,
    "start_time": "2021-11-24T10:24:06.123Z"
   },
   {
    "duration": 37,
    "start_time": "2021-11-24T10:24:06.132Z"
   },
   {
    "duration": 14,
    "start_time": "2021-11-24T10:24:06.171Z"
   },
   {
    "duration": 787,
    "start_time": "2021-11-24T10:24:06.189Z"
   },
   {
    "duration": 10,
    "start_time": "2021-11-24T10:24:06.979Z"
   },
   {
    "duration": 335,
    "start_time": "2021-11-24T10:24:06.992Z"
   },
   {
    "duration": 308,
    "start_time": "2021-11-24T10:24:07.330Z"
   },
   {
    "duration": 5,
    "start_time": "2021-11-24T10:24:07.640Z"
   },
   {
    "duration": 23,
    "start_time": "2021-11-24T10:24:07.647Z"
   },
   {
    "duration": 25,
    "start_time": "2021-11-24T10:24:07.672Z"
   },
   {
    "duration": 6,
    "start_time": "2021-11-24T10:24:07.700Z"
   },
   {
    "duration": 14,
    "start_time": "2021-11-24T10:24:07.708Z"
   },
   {
    "duration": 45,
    "start_time": "2021-11-24T10:24:07.725Z"
   },
   {
    "duration": 15,
    "start_time": "2021-11-24T10:24:07.772Z"
   },
   {
    "duration": 13,
    "start_time": "2021-11-24T10:24:07.790Z"
   },
   {
    "duration": 2237,
    "start_time": "2021-11-24T10:24:07.805Z"
   },
   {
    "duration": 4,
    "start_time": "2021-11-24T10:24:10.045Z"
   },
   {
    "duration": 16,
    "start_time": "2021-11-24T10:24:10.051Z"
   },
   {
    "duration": 22,
    "start_time": "2021-11-24T10:24:10.070Z"
   },
   {
    "duration": 1601,
    "start_time": "2021-11-24T11:11:44.811Z"
   },
   {
    "duration": 382,
    "start_time": "2021-11-24T11:11:46.415Z"
   },
   {
    "duration": 143,
    "start_time": "2021-11-24T11:11:46.800Z"
   },
   {
    "duration": 365,
    "start_time": "2021-11-24T11:11:46.946Z"
   },
   {
    "duration": 104,
    "start_time": "2021-11-24T11:11:47.313Z"
   },
   {
    "duration": 340,
    "start_time": "2021-11-24T11:11:47.420Z"
   },
   {
    "duration": 45,
    "start_time": "2021-11-24T11:11:47.763Z"
   },
   {
    "duration": 32,
    "start_time": "2021-11-24T11:11:47.812Z"
   },
   {
    "duration": 27,
    "start_time": "2021-11-24T11:11:47.847Z"
   },
   {
    "duration": 34,
    "start_time": "2021-11-24T11:11:47.877Z"
   },
   {
    "duration": 19,
    "start_time": "2021-11-24T11:11:47.914Z"
   },
   {
    "duration": 656,
    "start_time": "2021-11-24T11:11:47.935Z"
   },
   {
    "duration": 25,
    "start_time": "2021-11-24T11:11:48.594Z"
   },
   {
    "duration": 10,
    "start_time": "2021-11-24T11:11:48.621Z"
   },
   {
    "duration": 167,
    "start_time": "2021-11-24T11:11:48.633Z"
   },
   {
    "duration": 34,
    "start_time": "2021-11-24T11:11:48.803Z"
   },
   {
    "duration": 38,
    "start_time": "2021-11-24T11:11:48.840Z"
   },
   {
    "duration": 594,
    "start_time": "2021-11-24T11:11:48.880Z"
   },
   {
    "duration": 6,
    "start_time": "2021-11-24T11:11:49.476Z"
   },
   {
    "duration": 12,
    "start_time": "2021-11-24T11:11:49.484Z"
   },
   {
    "duration": 7,
    "start_time": "2021-11-24T11:11:49.499Z"
   },
   {
    "duration": 788,
    "start_time": "2021-11-24T11:11:49.509Z"
   },
   {
    "duration": 10,
    "start_time": "2021-11-24T11:11:50.303Z"
   },
   {
    "duration": 425,
    "start_time": "2021-11-24T11:11:50.316Z"
   },
   {
    "duration": 310,
    "start_time": "2021-11-24T11:11:50.744Z"
   },
   {
    "duration": 10,
    "start_time": "2021-11-24T11:11:51.056Z"
   },
   {
    "duration": 18,
    "start_time": "2021-11-24T11:11:51.068Z"
   },
   {
    "duration": 29,
    "start_time": "2021-11-24T11:11:51.088Z"
   },
   {
    "duration": 7,
    "start_time": "2021-11-24T11:11:51.119Z"
   },
   {
    "duration": 15,
    "start_time": "2021-11-24T11:11:51.128Z"
   },
   {
    "duration": 23,
    "start_time": "2021-11-24T11:11:51.146Z"
   },
   {
    "duration": 13,
    "start_time": "2021-11-24T11:11:51.172Z"
   },
   {
    "duration": 16,
    "start_time": "2021-11-24T11:11:51.188Z"
   },
   {
    "duration": 2287,
    "start_time": "2021-11-24T11:11:51.206Z"
   },
   {
    "duration": 7,
    "start_time": "2021-11-24T11:11:53.495Z"
   },
   {
    "duration": 10,
    "start_time": "2021-11-24T11:11:53.505Z"
   },
   {
    "duration": 7,
    "start_time": "2021-11-24T11:11:53.517Z"
   },
   {
    "duration": 8,
    "start_time": "2021-11-24T11:11:53.527Z"
   },
   {
    "duration": 8,
    "start_time": "2021-11-24T11:11:53.568Z"
   },
   {
    "duration": 9,
    "start_time": "2021-11-24T11:14:56.113Z"
   },
   {
    "duration": 6,
    "start_time": "2021-11-24T11:15:01.559Z"
   },
   {
    "duration": 7,
    "start_time": "2021-11-24T11:15:13.703Z"
   },
   {
    "duration": 7,
    "start_time": "2021-11-24T11:15:25.823Z"
   },
   {
    "duration": 6,
    "start_time": "2021-11-24T11:15:27.839Z"
   },
   {
    "duration": 20,
    "start_time": "2021-11-24T11:18:40.504Z"
   },
   {
    "duration": 22,
    "start_time": "2021-11-24T11:18:59.976Z"
   },
   {
    "duration": 20,
    "start_time": "2021-11-24T11:19:08.816Z"
   },
   {
    "duration": 19,
    "start_time": "2021-11-24T11:19:15.688Z"
   },
   {
    "duration": 1685,
    "start_time": "2021-11-24T11:19:48.872Z"
   },
   {
    "duration": 409,
    "start_time": "2021-11-24T11:19:50.559Z"
   },
   {
    "duration": 139,
    "start_time": "2021-11-24T11:19:50.971Z"
   },
   {
    "duration": 371,
    "start_time": "2021-11-24T11:19:51.113Z"
   },
   {
    "duration": 115,
    "start_time": "2021-11-24T11:19:51.487Z"
   },
   {
    "duration": 377,
    "start_time": "2021-11-24T11:19:51.605Z"
   },
   {
    "duration": 54,
    "start_time": "2021-11-24T11:19:51.985Z"
   },
   {
    "duration": 33,
    "start_time": "2021-11-24T11:19:52.043Z"
   },
   {
    "duration": 13,
    "start_time": "2021-11-24T11:19:52.080Z"
   },
   {
    "duration": 36,
    "start_time": "2021-11-24T11:19:52.095Z"
   },
   {
    "duration": 44,
    "start_time": "2021-11-24T11:19:52.133Z"
   },
   {
    "duration": 633,
    "start_time": "2021-11-24T11:19:52.180Z"
   },
   {
    "duration": 23,
    "start_time": "2021-11-24T11:19:52.815Z"
   },
   {
    "duration": 9,
    "start_time": "2021-11-24T11:19:52.841Z"
   },
   {
    "duration": 146,
    "start_time": "2021-11-24T11:19:52.868Z"
   },
   {
    "duration": 50,
    "start_time": "2021-11-24T11:19:53.016Z"
   },
   {
    "duration": 16,
    "start_time": "2021-11-24T11:19:53.069Z"
   },
   {
    "duration": 587,
    "start_time": "2021-11-24T11:19:53.088Z"
   },
   {
    "duration": 7,
    "start_time": "2021-11-24T11:19:53.677Z"
   },
   {
    "duration": 9,
    "start_time": "2021-11-24T11:19:53.687Z"
   },
   {
    "duration": 9,
    "start_time": "2021-11-24T11:19:53.698Z"
   },
   {
    "duration": 828,
    "start_time": "2021-11-24T11:19:53.709Z"
   },
   {
    "duration": 25,
    "start_time": "2021-11-24T11:19:54.542Z"
   },
   {
    "duration": 333,
    "start_time": "2021-11-24T11:19:54.570Z"
   },
   {
    "duration": 6,
    "start_time": "2021-11-24T11:19:54.905Z"
   },
   {
    "duration": 7,
    "start_time": "2021-11-24T11:19:54.914Z"
   },
   {
    "duration": 503,
    "start_time": "2021-11-24T11:19:54.924Z"
   },
   {
    "duration": 6,
    "start_time": "2021-11-24T11:19:55.431Z"
   },
   {
    "duration": 28,
    "start_time": "2021-11-24T11:19:55.440Z"
   },
   {
    "duration": 28,
    "start_time": "2021-11-24T11:19:55.471Z"
   },
   {
    "duration": 10,
    "start_time": "2021-11-24T11:19:55.502Z"
   },
   {
    "duration": 17,
    "start_time": "2021-11-24T11:19:55.515Z"
   },
   {
    "duration": 12,
    "start_time": "2021-11-24T11:19:55.534Z"
   },
   {
    "duration": 14,
    "start_time": "2021-11-24T11:19:55.567Z"
   },
   {
    "duration": 22,
    "start_time": "2021-11-24T11:19:55.584Z"
   },
   {
    "duration": 2609,
    "start_time": "2021-11-24T11:19:55.608Z"
   },
   {
    "duration": 4,
    "start_time": "2021-11-24T11:19:58.220Z"
   },
   {
    "duration": 13,
    "start_time": "2021-11-24T11:19:58.227Z"
   },
   {
    "duration": 27,
    "start_time": "2021-11-24T11:19:58.242Z"
   },
   {
    "duration": 21,
    "start_time": "2021-11-24T11:20:12.019Z"
   },
   {
    "duration": 2523,
    "start_time": "2021-11-24T11:20:33.099Z"
   },
   {
    "duration": 19,
    "start_time": "2021-11-24T11:20:37.867Z"
   },
   {
    "duration": 2336,
    "start_time": "2021-11-24T11:21:03.658Z"
   },
   {
    "duration": 22,
    "start_time": "2021-11-24T11:21:05.996Z"
   },
   {
    "duration": 456,
    "start_time": "2021-11-24T11:21:37.091Z"
   },
   {
    "duration": 20,
    "start_time": "2021-11-24T11:21:37.883Z"
   },
   {
    "duration": 353,
    "start_time": "2021-11-24T11:22:13.820Z"
   },
   {
    "duration": 2694,
    "start_time": "2021-11-24T11:22:46.886Z"
   },
   {
    "duration": 19,
    "start_time": "2021-11-24T11:22:49.582Z"
   },
   {
    "duration": 1682,
    "start_time": "2021-11-24T11:23:50.359Z"
   },
   {
    "duration": 386,
    "start_time": "2021-11-24T11:23:52.043Z"
   },
   {
    "duration": 143,
    "start_time": "2021-11-24T11:23:52.433Z"
   },
   {
    "duration": 358,
    "start_time": "2021-11-24T11:23:52.578Z"
   },
   {
    "duration": 97,
    "start_time": "2021-11-24T11:23:52.939Z"
   },
   {
    "duration": 344,
    "start_time": "2021-11-24T11:23:53.038Z"
   },
   {
    "duration": 44,
    "start_time": "2021-11-24T11:23:53.384Z"
   },
   {
    "duration": 32,
    "start_time": "2021-11-24T11:23:53.433Z"
   },
   {
    "duration": 14,
    "start_time": "2021-11-24T11:23:53.468Z"
   },
   {
    "duration": 36,
    "start_time": "2021-11-24T11:23:53.484Z"
   },
   {
    "duration": 48,
    "start_time": "2021-11-24T11:23:53.523Z"
   },
   {
    "duration": 607,
    "start_time": "2021-11-24T11:23:53.573Z"
   },
   {
    "duration": 24,
    "start_time": "2021-11-24T11:23:54.182Z"
   },
   {
    "duration": 9,
    "start_time": "2021-11-24T11:23:54.208Z"
   },
   {
    "duration": 155,
    "start_time": "2021-11-24T11:23:54.220Z"
   },
   {
    "duration": 34,
    "start_time": "2021-11-24T11:23:54.378Z"
   },
   {
    "duration": 17,
    "start_time": "2021-11-24T11:23:54.414Z"
   },
   {
    "duration": 621,
    "start_time": "2021-11-24T11:23:54.433Z"
   },
   {
    "duration": 13,
    "start_time": "2021-11-24T11:23:55.058Z"
   },
   {
    "duration": 11,
    "start_time": "2021-11-24T11:23:55.074Z"
   },
   {
    "duration": 15,
    "start_time": "2021-11-24T11:23:55.088Z"
   },
   {
    "duration": 876,
    "start_time": "2021-11-24T11:23:55.105Z"
   },
   {
    "duration": 10,
    "start_time": "2021-11-24T11:23:55.986Z"
   },
   {
    "duration": 351,
    "start_time": "2021-11-24T11:23:55.999Z"
   },
   {
    "duration": 5,
    "start_time": "2021-11-24T11:23:56.352Z"
   },
   {
    "duration": 11,
    "start_time": "2021-11-24T11:23:56.360Z"
   },
   {
    "duration": 288,
    "start_time": "2021-11-24T11:23:56.373Z"
   },
   {
    "duration": 5,
    "start_time": "2021-11-24T11:23:56.668Z"
   },
   {
    "duration": 12,
    "start_time": "2021-11-24T11:23:56.676Z"
   },
   {
    "duration": 35,
    "start_time": "2021-11-24T11:23:56.691Z"
   },
   {
    "duration": 7,
    "start_time": "2021-11-24T11:23:56.729Z"
   },
   {
    "duration": 13,
    "start_time": "2021-11-24T11:23:56.738Z"
   },
   {
    "duration": 11,
    "start_time": "2021-11-24T11:23:56.754Z"
   },
   {
    "duration": 18,
    "start_time": "2021-11-24T11:23:56.768Z"
   },
   {
    "duration": 15,
    "start_time": "2021-11-24T11:23:56.788Z"
   },
   {
    "duration": 2596,
    "start_time": "2021-11-24T11:23:56.806Z"
   },
   {
    "duration": 19,
    "start_time": "2021-11-24T11:23:59.404Z"
   },
   {
    "duration": 7,
    "start_time": "2021-11-24T11:23:59.425Z"
   },
   {
    "duration": 16,
    "start_time": "2021-11-24T11:23:59.434Z"
   },
   {
    "duration": 5,
    "start_time": "2021-11-24T11:23:59.468Z"
   },
   {
    "duration": 467,
    "start_time": "2021-11-24T11:24:19.651Z"
   },
   {
    "duration": 2292,
    "start_time": "2021-11-24T11:24:26.460Z"
   },
   {
    "duration": 19,
    "start_time": "2021-11-24T11:24:29.514Z"
   },
   {
    "duration": 1787,
    "start_time": "2021-11-24T11:24:39.067Z"
   },
   {
    "duration": 402,
    "start_time": "2021-11-24T11:24:40.856Z"
   },
   {
    "duration": 165,
    "start_time": "2021-11-24T11:24:41.261Z"
   },
   {
    "duration": 378,
    "start_time": "2021-11-24T11:24:41.429Z"
   },
   {
    "duration": 123,
    "start_time": "2021-11-24T11:24:41.809Z"
   },
   {
    "duration": 359,
    "start_time": "2021-11-24T11:24:41.935Z"
   },
   {
    "duration": 43,
    "start_time": "2021-11-24T11:24:42.297Z"
   },
   {
    "duration": 33,
    "start_time": "2021-11-24T11:24:42.343Z"
   },
   {
    "duration": 14,
    "start_time": "2021-11-24T11:24:42.379Z"
   },
   {
    "duration": 33,
    "start_time": "2021-11-24T11:24:42.396Z"
   },
   {
    "duration": 38,
    "start_time": "2021-11-24T11:24:42.431Z"
   },
   {
    "duration": 692,
    "start_time": "2021-11-24T11:24:42.472Z"
   },
   {
    "duration": 26,
    "start_time": "2021-11-24T11:24:43.167Z"
   },
   {
    "duration": 10,
    "start_time": "2021-11-24T11:24:43.196Z"
   },
   {
    "duration": 152,
    "start_time": "2021-11-24T11:24:43.208Z"
   },
   {
    "duration": 35,
    "start_time": "2021-11-24T11:24:43.363Z"
   },
   {
    "duration": 16,
    "start_time": "2021-11-24T11:24:43.400Z"
   },
   {
    "duration": 610,
    "start_time": "2021-11-24T11:24:43.418Z"
   },
   {
    "duration": 6,
    "start_time": "2021-11-24T11:24:44.030Z"
   },
   {
    "duration": 29,
    "start_time": "2021-11-24T11:24:44.038Z"
   },
   {
    "duration": 6,
    "start_time": "2021-11-24T11:24:44.069Z"
   },
   {
    "duration": 810,
    "start_time": "2021-11-24T11:24:44.077Z"
   },
   {
    "duration": 11,
    "start_time": "2021-11-24T11:24:44.892Z"
   },
   {
    "duration": 337,
    "start_time": "2021-11-24T11:24:44.906Z"
   },
   {
    "duration": 5,
    "start_time": "2021-11-24T11:24:45.246Z"
   },
   {
    "duration": 6,
    "start_time": "2021-11-24T11:24:45.268Z"
   },
   {
    "duration": 313,
    "start_time": "2021-11-24T11:24:45.277Z"
   },
   {
    "duration": 6,
    "start_time": "2021-11-24T11:24:45.593Z"
   },
   {
    "duration": 12,
    "start_time": "2021-11-24T11:24:45.602Z"
   },
   {
    "duration": 53,
    "start_time": "2021-11-24T11:24:45.617Z"
   },
   {
    "duration": 15,
    "start_time": "2021-11-24T11:24:45.672Z"
   },
   {
    "duration": 27,
    "start_time": "2021-11-24T11:24:45.690Z"
   },
   {
    "duration": 14,
    "start_time": "2021-11-24T11:24:45.719Z"
   },
   {
    "duration": 23,
    "start_time": "2021-11-24T11:24:45.735Z"
   },
   {
    "duration": 20,
    "start_time": "2021-11-24T11:24:45.760Z"
   },
   {
    "duration": 2262,
    "start_time": "2021-11-24T11:24:45.782Z"
   },
   {
    "duration": 27,
    "start_time": "2021-11-24T11:24:48.047Z"
   },
   {
    "duration": 12,
    "start_time": "2021-11-24T11:24:48.077Z"
   },
   {
    "duration": 8,
    "start_time": "2021-11-24T11:24:48.091Z"
   },
   {
    "duration": 12,
    "start_time": "2021-11-24T11:24:48.101Z"
   },
   {
    "duration": 93,
    "start_time": "2021-11-24T11:24:59.121Z"
   },
   {
    "duration": 455,
    "start_time": "2021-11-24T11:25:05.424Z"
   },
   {
    "duration": 338,
    "start_time": "2021-11-24T11:25:36.882Z"
   },
   {
    "duration": 2323,
    "start_time": "2021-11-24T11:25:48.139Z"
   },
   {
    "duration": 19,
    "start_time": "2021-11-24T11:25:51.146Z"
   },
   {
    "duration": 440,
    "start_time": "2021-11-24T11:31:29.196Z"
   },
   {
    "duration": 322,
    "start_time": "2021-11-24T11:31:54.684Z"
   },
   {
    "duration": 22,
    "start_time": "2021-11-24T11:31:57.727Z"
   },
   {
    "duration": 8,
    "start_time": "2021-11-24T11:32:25.292Z"
   },
   {
    "duration": 3,
    "start_time": "2021-11-24T11:32:49.460Z"
   },
   {
    "duration": 1463,
    "start_time": "2021-11-24T11:32:51.692Z"
   },
   {
    "duration": 1441,
    "start_time": "2021-11-24T11:33:10.990Z"
   },
   {
    "duration": 1689,
    "start_time": "2021-11-24T11:33:31.270Z"
   },
   {
    "duration": 382,
    "start_time": "2021-11-24T11:33:32.961Z"
   },
   {
    "duration": 155,
    "start_time": "2021-11-24T11:33:33.347Z"
   },
   {
    "duration": 470,
    "start_time": "2021-11-24T11:33:33.506Z"
   },
   {
    "duration": 108,
    "start_time": "2021-11-24T11:33:33.978Z"
   },
   {
    "duration": 342,
    "start_time": "2021-11-24T11:33:34.088Z"
   },
   {
    "duration": 66,
    "start_time": "2021-11-24T11:33:34.432Z"
   },
   {
    "duration": 31,
    "start_time": "2021-11-24T11:33:34.502Z"
   },
   {
    "duration": 12,
    "start_time": "2021-11-24T11:33:34.536Z"
   },
   {
    "duration": 45,
    "start_time": "2021-11-24T11:33:34.551Z"
   },
   {
    "duration": 19,
    "start_time": "2021-11-24T11:33:34.598Z"
   },
   {
    "duration": 643,
    "start_time": "2021-11-24T11:33:34.619Z"
   },
   {
    "duration": 24,
    "start_time": "2021-11-24T11:33:35.264Z"
   },
   {
    "duration": 9,
    "start_time": "2021-11-24T11:33:35.290Z"
   },
   {
    "duration": 153,
    "start_time": "2021-11-24T11:33:35.301Z"
   },
   {
    "duration": 39,
    "start_time": "2021-11-24T11:33:35.457Z"
   },
   {
    "duration": 17,
    "start_time": "2021-11-24T11:33:35.499Z"
   },
   {
    "duration": 608,
    "start_time": "2021-11-24T11:33:35.519Z"
   },
   {
    "duration": 6,
    "start_time": "2021-11-24T11:33:36.130Z"
   },
   {
    "duration": 30,
    "start_time": "2021-11-24T11:33:36.139Z"
   },
   {
    "duration": 14,
    "start_time": "2021-11-24T11:33:36.171Z"
   },
   {
    "duration": 780,
    "start_time": "2021-11-24T11:33:36.187Z"
   },
   {
    "duration": 11,
    "start_time": "2021-11-24T11:33:36.971Z"
   },
   {
    "duration": 327,
    "start_time": "2021-11-24T11:33:36.986Z"
   },
   {
    "duration": 6,
    "start_time": "2021-11-24T11:33:37.315Z"
   },
   {
    "duration": 9,
    "start_time": "2021-11-24T11:33:37.323Z"
   },
   {
    "duration": 329,
    "start_time": "2021-11-24T11:33:37.334Z"
   },
   {
    "duration": 5,
    "start_time": "2021-11-24T11:33:37.666Z"
   },
   {
    "duration": 9,
    "start_time": "2021-11-24T11:33:37.673Z"
   },
   {
    "duration": 25,
    "start_time": "2021-11-24T11:33:37.685Z"
   },
   {
    "duration": 6,
    "start_time": "2021-11-24T11:33:37.713Z"
   },
   {
    "duration": 50,
    "start_time": "2021-11-24T11:33:37.721Z"
   },
   {
    "duration": 11,
    "start_time": "2021-11-24T11:33:37.774Z"
   },
   {
    "duration": 8,
    "start_time": "2021-11-24T11:33:37.788Z"
   },
   {
    "duration": 11,
    "start_time": "2021-11-24T11:33:37.798Z"
   },
   {
    "duration": 443,
    "start_time": "2021-11-24T11:33:37.811Z"
   },
   {
    "duration": -373,
    "start_time": "2021-11-24T11:33:38.630Z"
   },
   {
    "duration": -373,
    "start_time": "2021-11-24T11:33:38.632Z"
   },
   {
    "duration": -373,
    "start_time": "2021-11-24T11:33:38.633Z"
   },
   {
    "duration": -374,
    "start_time": "2021-11-24T11:33:38.635Z"
   },
   {
    "duration": 1738,
    "start_time": "2021-11-24T11:34:33.338Z"
   },
   {
    "duration": 404,
    "start_time": "2021-11-24T11:34:35.078Z"
   },
   {
    "duration": 146,
    "start_time": "2021-11-24T11:34:35.486Z"
   },
   {
    "duration": 360,
    "start_time": "2021-11-24T11:34:35.635Z"
   },
   {
    "duration": 102,
    "start_time": "2021-11-24T11:34:35.997Z"
   },
   {
    "duration": 348,
    "start_time": "2021-11-24T11:34:36.101Z"
   },
   {
    "duration": 59,
    "start_time": "2021-11-24T11:34:36.451Z"
   },
   {
    "duration": 32,
    "start_time": "2021-11-24T11:34:36.515Z"
   },
   {
    "duration": 13,
    "start_time": "2021-11-24T11:34:36.551Z"
   },
   {
    "duration": 35,
    "start_time": "2021-11-24T11:34:36.566Z"
   },
   {
    "duration": 19,
    "start_time": "2021-11-24T11:34:36.603Z"
   },
   {
    "duration": 614,
    "start_time": "2021-11-24T11:34:36.624Z"
   },
   {
    "duration": 33,
    "start_time": "2021-11-24T11:34:37.240Z"
   },
   {
    "duration": 9,
    "start_time": "2021-11-24T11:34:37.275Z"
   },
   {
    "duration": 142,
    "start_time": "2021-11-24T11:34:37.287Z"
   },
   {
    "duration": 49,
    "start_time": "2021-11-24T11:34:37.432Z"
   },
   {
    "duration": 17,
    "start_time": "2021-11-24T11:34:37.484Z"
   },
   {
    "duration": 615,
    "start_time": "2021-11-24T11:34:37.503Z"
   },
   {
    "duration": 6,
    "start_time": "2021-11-24T11:34:38.120Z"
   },
   {
    "duration": 16,
    "start_time": "2021-11-24T11:34:38.128Z"
   },
   {
    "duration": 24,
    "start_time": "2021-11-24T11:34:38.147Z"
   },
   {
    "duration": 796,
    "start_time": "2021-11-24T11:34:38.174Z"
   },
   {
    "duration": 12,
    "start_time": "2021-11-24T11:34:38.976Z"
   },
   {
    "duration": 328,
    "start_time": "2021-11-24T11:34:38.992Z"
   },
   {
    "duration": 7,
    "start_time": "2021-11-24T11:34:39.323Z"
   },
   {
    "duration": 34,
    "start_time": "2021-11-24T11:34:39.333Z"
   },
   {
    "duration": 307,
    "start_time": "2021-11-24T11:34:39.370Z"
   },
   {
    "duration": 5,
    "start_time": "2021-11-24T11:34:39.680Z"
   },
   {
    "duration": 14,
    "start_time": "2021-11-24T11:34:39.687Z"
   },
   {
    "duration": 26,
    "start_time": "2021-11-24T11:34:39.703Z"
   },
   {
    "duration": 8,
    "start_time": "2021-11-24T11:34:39.732Z"
   },
   {
    "duration": 14,
    "start_time": "2021-11-24T11:34:39.768Z"
   },
   {
    "duration": 18,
    "start_time": "2021-11-24T11:34:39.784Z"
   },
   {
    "duration": 13,
    "start_time": "2021-11-24T11:34:39.804Z"
   },
   {
    "duration": 12,
    "start_time": "2021-11-24T11:34:39.819Z"
   },
   {
    "duration": 467,
    "start_time": "2021-11-24T11:34:39.834Z"
   },
   {
    "duration": -361,
    "start_time": "2021-11-24T11:34:40.665Z"
   },
   {
    "duration": -363,
    "start_time": "2021-11-24T11:34:40.668Z"
   },
   {
    "duration": -363,
    "start_time": "2021-11-24T11:34:40.669Z"
   },
   {
    "duration": -364,
    "start_time": "2021-11-24T11:34:40.671Z"
   },
   {
    "duration": 331,
    "start_time": "2021-11-24T11:34:50.268Z"
   },
   {
    "duration": 328,
    "start_time": "2021-11-24T11:34:55.870Z"
   },
   {
    "duration": 328,
    "start_time": "2021-11-24T11:35:08.222Z"
   },
   {
    "duration": 395,
    "start_time": "2021-11-24T11:35:33.501Z"
   },
   {
    "duration": 1787,
    "start_time": "2021-11-24T11:35:45.761Z"
   },
   {
    "duration": 384,
    "start_time": "2021-11-24T11:35:47.550Z"
   },
   {
    "duration": 145,
    "start_time": "2021-11-24T11:35:47.937Z"
   },
   {
    "duration": 504,
    "start_time": "2021-11-24T11:35:48.085Z"
   },
   {
    "duration": 108,
    "start_time": "2021-11-24T11:35:48.592Z"
   },
   {
    "duration": 352,
    "start_time": "2021-11-24T11:35:48.703Z"
   },
   {
    "duration": 62,
    "start_time": "2021-11-24T11:35:49.058Z"
   },
   {
    "duration": 33,
    "start_time": "2021-11-24T11:35:49.125Z"
   },
   {
    "duration": 14,
    "start_time": "2021-11-24T11:35:49.161Z"
   },
   {
    "duration": 33,
    "start_time": "2021-11-24T11:35:49.177Z"
   },
   {
    "duration": 17,
    "start_time": "2021-11-24T11:35:49.213Z"
   },
   {
    "duration": 604,
    "start_time": "2021-11-24T11:35:49.233Z"
   },
   {
    "duration": 32,
    "start_time": "2021-11-24T11:35:49.839Z"
   },
   {
    "duration": 8,
    "start_time": "2021-11-24T11:35:49.874Z"
   },
   {
    "duration": 148,
    "start_time": "2021-11-24T11:35:49.885Z"
   },
   {
    "duration": 44,
    "start_time": "2021-11-24T11:35:50.036Z"
   },
   {
    "duration": 17,
    "start_time": "2021-11-24T11:35:50.082Z"
   },
   {
    "duration": 602,
    "start_time": "2021-11-24T11:35:50.101Z"
   },
   {
    "duration": 6,
    "start_time": "2021-11-24T11:35:50.705Z"
   },
   {
    "duration": 15,
    "start_time": "2021-11-24T11:35:50.713Z"
   },
   {
    "duration": 12,
    "start_time": "2021-11-24T11:35:50.730Z"
   },
   {
    "duration": 784,
    "start_time": "2021-11-24T11:35:50.744Z"
   },
   {
    "duration": 11,
    "start_time": "2021-11-24T11:35:51.533Z"
   },
   {
    "duration": 334,
    "start_time": "2021-11-24T11:35:51.546Z"
   },
   {
    "duration": 6,
    "start_time": "2021-11-24T11:35:51.882Z"
   },
   {
    "duration": 14,
    "start_time": "2021-11-24T11:35:51.890Z"
   },
   {
    "duration": 324,
    "start_time": "2021-11-24T11:35:51.906Z"
   },
   {
    "duration": 5,
    "start_time": "2021-11-24T11:35:52.233Z"
   },
   {
    "duration": 27,
    "start_time": "2021-11-24T11:35:52.240Z"
   },
   {
    "duration": 30,
    "start_time": "2021-11-24T11:35:52.270Z"
   },
   {
    "duration": 9,
    "start_time": "2021-11-24T11:35:52.303Z"
   },
   {
    "duration": 20,
    "start_time": "2021-11-24T11:35:52.314Z"
   },
   {
    "duration": 16,
    "start_time": "2021-11-24T11:35:52.337Z"
   },
   {
    "duration": 14,
    "start_time": "2021-11-24T11:35:52.356Z"
   },
   {
    "duration": 6,
    "start_time": "2021-11-24T11:35:52.373Z"
   },
   {
    "duration": 439,
    "start_time": "2021-11-24T11:35:52.381Z"
   },
   {
    "duration": -361,
    "start_time": "2021-11-24T11:35:53.184Z"
   },
   {
    "duration": -362,
    "start_time": "2021-11-24T11:35:53.186Z"
   },
   {
    "duration": -362,
    "start_time": "2021-11-24T11:35:53.188Z"
   },
   {
    "duration": -363,
    "start_time": "2021-11-24T11:35:53.190Z"
   },
   {
    "duration": 8,
    "start_time": "2021-11-24T11:39:09.110Z"
   },
   {
    "duration": 302,
    "start_time": "2021-11-24T11:40:24.785Z"
   },
   {
    "duration": 275,
    "start_time": "2021-11-24T11:40:39.575Z"
   },
   {
    "duration": 19,
    "start_time": "2021-11-24T11:40:40.576Z"
   },
   {
    "duration": 313,
    "start_time": "2021-11-24T11:41:26.680Z"
   },
   {
    "duration": 279,
    "start_time": "2021-11-24T11:42:06.865Z"
   },
   {
    "duration": 4,
    "start_time": "2021-11-24T11:42:07.809Z"
   },
   {
    "duration": 7,
    "start_time": "2021-11-24T11:42:27.192Z"
   },
   {
    "duration": 18,
    "start_time": "2021-11-24T11:42:42.345Z"
   },
   {
    "duration": 1143,
    "start_time": "2021-11-24T16:48:08.448Z"
   },
   {
    "duration": 202,
    "start_time": "2021-11-24T16:48:09.592Z"
   },
   {
    "duration": 91,
    "start_time": "2021-11-24T16:48:09.796Z"
   },
   {
    "duration": 198,
    "start_time": "2021-11-24T16:48:09.889Z"
   },
   {
    "duration": 66,
    "start_time": "2021-11-24T16:48:10.089Z"
   },
   {
    "duration": 175,
    "start_time": "2021-11-24T16:48:10.157Z"
   },
   {
    "duration": 40,
    "start_time": "2021-11-24T16:48:10.333Z"
   },
   {
    "duration": 25,
    "start_time": "2021-11-24T16:48:10.376Z"
   },
   {
    "duration": 9,
    "start_time": "2021-11-24T16:48:10.403Z"
   },
   {
    "duration": 22,
    "start_time": "2021-11-24T16:48:10.414Z"
   },
   {
    "duration": 12,
    "start_time": "2021-11-24T16:48:10.438Z"
   },
   {
    "duration": 768,
    "start_time": "2021-11-24T16:48:10.451Z"
   },
   {
    "duration": 14,
    "start_time": "2021-11-24T16:48:11.220Z"
   },
   {
    "duration": 5,
    "start_time": "2021-11-24T16:48:11.235Z"
   },
   {
    "duration": 90,
    "start_time": "2021-11-24T16:48:11.242Z"
   },
   {
    "duration": 19,
    "start_time": "2021-11-24T16:48:11.334Z"
   },
   {
    "duration": 9,
    "start_time": "2021-11-24T16:48:11.355Z"
   },
   {
    "duration": 353,
    "start_time": "2021-11-24T16:48:11.366Z"
   },
   {
    "duration": 3,
    "start_time": "2021-11-24T16:48:11.721Z"
   },
   {
    "duration": 11,
    "start_time": "2021-11-24T16:48:11.726Z"
   },
   {
    "duration": 5,
    "start_time": "2021-11-24T16:48:11.738Z"
   },
   {
    "duration": 413,
    "start_time": "2021-11-24T16:48:11.744Z"
   },
   {
    "duration": 6,
    "start_time": "2021-11-24T16:48:12.160Z"
   },
   {
    "duration": 194,
    "start_time": "2021-11-24T16:48:12.168Z"
   },
   {
    "duration": 3,
    "start_time": "2021-11-24T16:48:12.364Z"
   },
   {
    "duration": 17,
    "start_time": "2021-11-24T16:48:12.369Z"
   },
   {
    "duration": 173,
    "start_time": "2021-11-24T16:48:12.387Z"
   },
   {
    "duration": 4,
    "start_time": "2021-11-24T16:48:12.562Z"
   },
   {
    "duration": 5,
    "start_time": "2021-11-24T16:48:12.568Z"
   },
   {
    "duration": 23,
    "start_time": "2021-11-24T16:48:12.575Z"
   },
   {
    "duration": 2,
    "start_time": "2021-11-24T16:48:12.600Z"
   },
   {
    "duration": 11,
    "start_time": "2021-11-24T16:48:12.604Z"
   },
   {
    "duration": 6,
    "start_time": "2021-11-24T16:48:12.617Z"
   },
   {
    "duration": 545,
    "start_time": "2021-11-24T16:48:12.625Z"
   },
   {
    "duration": -247,
    "start_time": "2021-11-24T16:48:13.419Z"
   },
   {
    "duration": -251,
    "start_time": "2021-11-24T16:48:13.423Z"
   },
   {
    "duration": -253,
    "start_time": "2021-11-24T16:48:13.427Z"
   },
   {
    "duration": 13,
    "start_time": "2021-11-24T16:53:10.057Z"
   },
   {
    "duration": 231,
    "start_time": "2021-11-24T16:53:52.695Z"
   },
   {
    "duration": 3073,
    "start_time": "2021-11-24T16:54:31.061Z"
   },
   {
    "duration": 81,
    "start_time": "2021-11-24T16:54:41.586Z"
   },
   {
    "duration": -114,
    "start_time": "2021-11-24T16:54:41.784Z"
   },
   {
    "duration": -119,
    "start_time": "2021-11-24T16:54:41.790Z"
   },
   {
    "duration": -126,
    "start_time": "2021-11-24T16:54:41.797Z"
   },
   {
    "duration": -212,
    "start_time": "2021-11-24T16:54:41.884Z"
   },
   {
    "duration": -216,
    "start_time": "2021-11-24T16:54:41.889Z"
   },
   {
    "duration": -221,
    "start_time": "2021-11-24T16:54:41.895Z"
   },
   {
    "duration": -225,
    "start_time": "2021-11-24T16:54:41.900Z"
   },
   {
    "duration": -228,
    "start_time": "2021-11-24T16:54:41.904Z"
   },
   {
    "duration": -233,
    "start_time": "2021-11-24T16:54:41.910Z"
   },
   {
    "duration": -237,
    "start_time": "2021-11-24T16:54:41.915Z"
   },
   {
    "duration": -240,
    "start_time": "2021-11-24T16:54:41.919Z"
   },
   {
    "duration": -246,
    "start_time": "2021-11-24T16:54:41.925Z"
   },
   {
    "duration": -249,
    "start_time": "2021-11-24T16:54:41.929Z"
   },
   {
    "duration": -252,
    "start_time": "2021-11-24T16:54:41.933Z"
   },
   {
    "duration": -255,
    "start_time": "2021-11-24T16:54:41.937Z"
   },
   {
    "duration": -259,
    "start_time": "2021-11-24T16:54:41.942Z"
   },
   {
    "duration": -262,
    "start_time": "2021-11-24T16:54:41.946Z"
   },
   {
    "duration": -265,
    "start_time": "2021-11-24T16:54:41.950Z"
   },
   {
    "duration": -269,
    "start_time": "2021-11-24T16:54:41.955Z"
   },
   {
    "duration": -272,
    "start_time": "2021-11-24T16:54:41.959Z"
   },
   {
    "duration": -277,
    "start_time": "2021-11-24T16:54:41.964Z"
   },
   {
    "duration": 263,
    "start_time": "2021-11-24T16:54:41.689Z"
   },
   {
    "duration": -89,
    "start_time": "2021-11-24T16:54:42.044Z"
   },
   {
    "duration": -93,
    "start_time": "2021-11-24T16:54:42.049Z"
   },
   {
    "duration": -96,
    "start_time": "2021-11-24T16:54:42.053Z"
   },
   {
    "duration": -100,
    "start_time": "2021-11-24T16:54:42.059Z"
   },
   {
    "duration": -104,
    "start_time": "2021-11-24T16:54:42.064Z"
   },
   {
    "duration": -108,
    "start_time": "2021-11-24T16:54:42.069Z"
   },
   {
    "duration": -112,
    "start_time": "2021-11-24T16:54:42.074Z"
   },
   {
    "duration": -115,
    "start_time": "2021-11-24T16:54:42.079Z"
   },
   {
    "duration": -118,
    "start_time": "2021-11-24T16:54:42.083Z"
   },
   {
    "duration": -192,
    "start_time": "2021-11-24T16:54:42.158Z"
   },
   {
    "duration": -231,
    "start_time": "2021-11-24T16:54:42.198Z"
   },
   {
    "duration": -234,
    "start_time": "2021-11-24T16:54:42.203Z"
   },
   {
    "duration": -238,
    "start_time": "2021-11-24T16:54:42.208Z"
   },
   {
    "duration": -242,
    "start_time": "2021-11-24T16:54:42.213Z"
   },
   {
    "duration": -244,
    "start_time": "2021-11-24T16:54:42.217Z"
   },
   {
    "duration": -247,
    "start_time": "2021-11-24T16:54:42.221Z"
   },
   {
    "duration": -250,
    "start_time": "2021-11-24T16:54:42.225Z"
   },
   {
    "duration": -266,
    "start_time": "2021-11-24T16:54:42.242Z"
   },
   {
    "duration": 2569,
    "start_time": "2021-11-24T16:54:54.477Z"
   },
   {
    "duration": 6306,
    "start_time": "2021-11-24T16:54:57.048Z"
   },
   {
    "duration": 2371,
    "start_time": "2021-11-24T16:55:10.279Z"
   },
   {
    "duration": 2574,
    "start_time": "2021-11-24T16:55:12.652Z"
   },
   {
    "duration": 1188,
    "start_time": "2021-11-24T16:55:15.228Z"
   },
   {
    "duration": 759,
    "start_time": "2021-11-24T16:55:16.418Z"
   },
   {
    "duration": 98,
    "start_time": "2021-11-24T16:55:17.178Z"
   },
   {
    "duration": 181,
    "start_time": "2021-11-24T16:55:17.277Z"
   },
   {
    "duration": 67,
    "start_time": "2021-11-24T16:55:17.459Z"
   },
   {
    "duration": 178,
    "start_time": "2021-11-24T16:55:17.529Z"
   },
   {
    "duration": 38,
    "start_time": "2021-11-24T16:55:17.709Z"
   },
   {
    "duration": 25,
    "start_time": "2021-11-24T16:55:17.749Z"
   },
   {
    "duration": 5,
    "start_time": "2021-11-24T16:55:17.775Z"
   },
   {
    "duration": 23,
    "start_time": "2021-11-24T16:55:17.781Z"
   },
   {
    "duration": 13,
    "start_time": "2021-11-24T16:55:17.805Z"
   },
   {
    "duration": 56,
    "start_time": "2021-11-24T16:55:17.820Z"
   },
   {
    "duration": 22,
    "start_time": "2021-11-24T16:55:17.878Z"
   },
   {
    "duration": 6,
    "start_time": "2021-11-24T16:55:17.901Z"
   },
   {
    "duration": 44,
    "start_time": "2021-11-24T16:55:17.909Z"
   },
   {
    "duration": 39,
    "start_time": "2021-11-24T16:55:17.955Z"
   },
   {
    "duration": 9,
    "start_time": "2021-11-24T16:55:17.995Z"
   },
   {
    "duration": 327,
    "start_time": "2021-11-24T16:55:18.005Z"
   },
   {
    "duration": 4,
    "start_time": "2021-11-24T16:55:18.333Z"
   },
   {
    "duration": 13,
    "start_time": "2021-11-24T16:55:18.338Z"
   },
   {
    "duration": 4,
    "start_time": "2021-11-24T16:55:18.354Z"
   },
   {
    "duration": 407,
    "start_time": "2021-11-24T16:55:18.360Z"
   },
   {
    "duration": 6,
    "start_time": "2021-11-24T16:55:18.769Z"
   },
   {
    "duration": 160,
    "start_time": "2021-11-24T16:55:18.788Z"
   },
   {
    "duration": 4,
    "start_time": "2021-11-24T16:55:18.949Z"
   },
   {
    "duration": 6,
    "start_time": "2021-11-24T16:55:18.954Z"
   },
   {
    "duration": 164,
    "start_time": "2021-11-24T16:55:18.962Z"
   },
   {
    "duration": 306,
    "start_time": "2021-11-24T16:55:19.128Z"
   },
   {
    "duration": 13,
    "start_time": "2021-11-24T16:55:19.435Z"
   },
   {
    "duration": 95,
    "start_time": "2021-11-24T16:55:19.449Z"
   },
   {
    "duration": -255,
    "start_time": "2021-11-24T16:55:19.800Z"
   },
   {
    "duration": -260,
    "start_time": "2021-11-24T16:55:19.806Z"
   },
   {
    "duration": -263,
    "start_time": "2021-11-24T16:55:19.810Z"
   },
   {
    "duration": -266,
    "start_time": "2021-11-24T16:55:19.814Z"
   },
   {
    "duration": -271,
    "start_time": "2021-11-24T16:55:19.820Z"
   },
   {
    "duration": -276,
    "start_time": "2021-11-24T16:55:19.825Z"
   },
   {
    "duration": -279,
    "start_time": "2021-11-24T16:55:19.829Z"
   },
   {
    "duration": -283,
    "start_time": "2021-11-24T16:55:19.834Z"
   },
   {
    "duration": -286,
    "start_time": "2021-11-24T16:55:19.838Z"
   },
   {
    "duration": -289,
    "start_time": "2021-11-24T16:55:19.842Z"
   },
   {
    "duration": 3560,
    "start_time": "2021-11-25T10:07:05.412Z"
   },
   {
    "duration": 6936,
    "start_time": "2021-11-25T10:07:08.974Z"
   },
   {
    "duration": 1383,
    "start_time": "2021-11-25T10:07:15.912Z"
   },
   {
    "duration": 394,
    "start_time": "2021-11-25T10:07:17.297Z"
   },
   {
    "duration": -2006,
    "start_time": "2021-11-25T10:07:19.700Z"
   },
   {
    "duration": -2014,
    "start_time": "2021-11-25T10:07:19.709Z"
   },
   {
    "duration": -2019,
    "start_time": "2021-11-25T10:07:19.715Z"
   },
   {
    "duration": -2021,
    "start_time": "2021-11-25T10:07:19.718Z"
   },
   {
    "duration": -2030,
    "start_time": "2021-11-25T10:07:19.727Z"
   },
   {
    "duration": -2034,
    "start_time": "2021-11-25T10:07:19.732Z"
   },
   {
    "duration": -2037,
    "start_time": "2021-11-25T10:07:19.736Z"
   },
   {
    "duration": -2044,
    "start_time": "2021-11-25T10:07:19.744Z"
   },
   {
    "duration": -2050,
    "start_time": "2021-11-25T10:07:19.751Z"
   },
   {
    "duration": -2058,
    "start_time": "2021-11-25T10:07:19.760Z"
   },
   {
    "duration": -2061,
    "start_time": "2021-11-25T10:07:19.764Z"
   },
   {
    "duration": -2064,
    "start_time": "2021-11-25T10:07:19.768Z"
   },
   {
    "duration": -2072,
    "start_time": "2021-11-25T10:07:19.777Z"
   },
   {
    "duration": -2075,
    "start_time": "2021-11-25T10:07:19.781Z"
   },
   {
    "duration": -2112,
    "start_time": "2021-11-25T10:07:19.819Z"
   },
   {
    "duration": -2122,
    "start_time": "2021-11-25T10:07:19.830Z"
   },
   {
    "duration": -2250,
    "start_time": "2021-11-25T10:07:19.958Z"
   },
   {
    "duration": -2356,
    "start_time": "2021-11-25T10:07:20.065Z"
   },
   {
    "duration": -2359,
    "start_time": "2021-11-25T10:07:20.069Z"
   },
   {
    "duration": -2364,
    "start_time": "2021-11-25T10:07:20.075Z"
   },
   {
    "duration": -2368,
    "start_time": "2021-11-25T10:07:20.080Z"
   },
   {
    "duration": -2371,
    "start_time": "2021-11-25T10:07:20.084Z"
   },
   {
    "duration": -2375,
    "start_time": "2021-11-25T10:07:20.089Z"
   },
   {
    "duration": -2380,
    "start_time": "2021-11-25T10:07:20.095Z"
   },
   {
    "duration": -2383,
    "start_time": "2021-11-25T10:07:20.099Z"
   },
   {
    "duration": -2386,
    "start_time": "2021-11-25T10:07:20.103Z"
   },
   {
    "duration": -2391,
    "start_time": "2021-11-25T10:07:20.108Z"
   },
   {
    "duration": -2394,
    "start_time": "2021-11-25T10:07:20.112Z"
   },
   {
    "duration": -2397,
    "start_time": "2021-11-25T10:07:20.116Z"
   },
   {
    "duration": -2410,
    "start_time": "2021-11-25T10:07:20.130Z"
   },
   {
    "duration": -2418,
    "start_time": "2021-11-25T10:07:20.139Z"
   },
   {
    "duration": -2423,
    "start_time": "2021-11-25T10:07:20.145Z"
   },
   {
    "duration": -2426,
    "start_time": "2021-11-25T10:07:20.149Z"
   },
   {
    "duration": -2431,
    "start_time": "2021-11-25T10:07:20.154Z"
   },
   {
    "duration": -2436,
    "start_time": "2021-11-25T10:07:20.160Z"
   },
   {
    "duration": 2538,
    "start_time": "2021-11-25T10:08:34.737Z"
   },
   {
    "duration": 2675,
    "start_time": "2021-11-25T10:08:37.278Z"
   },
   {
    "duration": 1717,
    "start_time": "2021-11-25T10:08:39.956Z"
   },
   {
    "duration": -1951,
    "start_time": "2021-11-25T10:08:43.627Z"
   },
   {
    "duration": -1959,
    "start_time": "2021-11-25T10:08:43.636Z"
   },
   {
    "duration": -2011,
    "start_time": "2021-11-25T10:08:43.689Z"
   },
   {
    "duration": -2035,
    "start_time": "2021-11-25T10:08:43.714Z"
   },
   {
    "duration": -2048,
    "start_time": "2021-11-25T10:08:43.729Z"
   },
   {
    "duration": -2063,
    "start_time": "2021-11-25T10:08:43.745Z"
   },
   {
    "duration": -2074,
    "start_time": "2021-11-25T10:08:43.757Z"
   },
   {
    "duration": -2083,
    "start_time": "2021-11-25T10:08:43.767Z"
   },
   {
    "duration": -2094,
    "start_time": "2021-11-25T10:08:43.779Z"
   },
   {
    "duration": -2104,
    "start_time": "2021-11-25T10:08:43.791Z"
   },
   {
    "duration": -2111,
    "start_time": "2021-11-25T10:08:43.799Z"
   },
   {
    "duration": -2128,
    "start_time": "2021-11-25T10:08:43.817Z"
   },
   {
    "duration": -2138,
    "start_time": "2021-11-25T10:08:43.828Z"
   },
   {
    "duration": -2145,
    "start_time": "2021-11-25T10:08:43.836Z"
   },
   {
    "duration": -2153,
    "start_time": "2021-11-25T10:08:43.845Z"
   },
   {
    "duration": -2160,
    "start_time": "2021-11-25T10:08:43.853Z"
   },
   {
    "duration": -2170,
    "start_time": "2021-11-25T10:08:43.864Z"
   },
   {
    "duration": -2178,
    "start_time": "2021-11-25T10:08:43.873Z"
   },
   {
    "duration": -2185,
    "start_time": "2021-11-25T10:08:43.881Z"
   },
   {
    "duration": -2193,
    "start_time": "2021-11-25T10:08:43.890Z"
   },
   {
    "duration": -2199,
    "start_time": "2021-11-25T10:08:43.897Z"
   },
   {
    "duration": -2208,
    "start_time": "2021-11-25T10:08:43.907Z"
   },
   {
    "duration": -2259,
    "start_time": "2021-11-25T10:08:43.959Z"
   },
   {
    "duration": -2304,
    "start_time": "2021-11-25T10:08:44.004Z"
   },
   {
    "duration": -2308,
    "start_time": "2021-11-25T10:08:44.009Z"
   },
   {
    "duration": -2312,
    "start_time": "2021-11-25T10:08:44.014Z"
   },
   {
    "duration": -2316,
    "start_time": "2021-11-25T10:08:44.019Z"
   },
   {
    "duration": -2327,
    "start_time": "2021-11-25T10:08:44.031Z"
   },
   {
    "duration": -2332,
    "start_time": "2021-11-25T10:08:44.037Z"
   },
   {
    "duration": -2337,
    "start_time": "2021-11-25T10:08:44.042Z"
   },
   {
    "duration": -2340,
    "start_time": "2021-11-25T10:08:44.046Z"
   },
   {
    "duration": -2343,
    "start_time": "2021-11-25T10:08:44.050Z"
   },
   {
    "duration": -2347,
    "start_time": "2021-11-25T10:08:44.055Z"
   },
   {
    "duration": -2351,
    "start_time": "2021-11-25T10:08:44.060Z"
   },
   {
    "duration": -2354,
    "start_time": "2021-11-25T10:08:44.064Z"
   },
   {
    "duration": -2358,
    "start_time": "2021-11-25T10:08:44.069Z"
   },
   {
    "duration": 2475,
    "start_time": "2021-11-25T10:09:28.601Z"
   },
   {
    "duration": 2786,
    "start_time": "2021-11-25T10:09:31.078Z"
   },
   {
    "duration": 1361,
    "start_time": "2021-11-25T10:09:33.867Z"
   },
   {
    "duration": 697,
    "start_time": "2021-11-25T10:09:35.230Z"
   },
   {
    "duration": 268,
    "start_time": "2021-11-25T10:09:35.929Z"
   },
   {
    "duration": 207,
    "start_time": "2021-11-25T10:09:36.199Z"
   },
   {
    "duration": 162,
    "start_time": "2021-11-25T10:09:36.408Z"
   },
   {
    "duration": 204,
    "start_time": "2021-11-25T10:09:36.572Z"
   },
   {
    "duration": 39,
    "start_time": "2021-11-25T10:09:36.779Z"
   },
   {
    "duration": 30,
    "start_time": "2021-11-25T10:09:36.820Z"
   },
   {
    "duration": 5,
    "start_time": "2021-11-25T10:09:36.852Z"
   },
   {
    "duration": 30,
    "start_time": "2021-11-25T10:09:36.858Z"
   },
   {
    "duration": 15,
    "start_time": "2021-11-25T10:09:36.890Z"
   },
   {
    "duration": 77,
    "start_time": "2021-11-25T10:09:36.907Z"
   },
   {
    "duration": 16,
    "start_time": "2021-11-25T10:09:36.986Z"
   },
   {
    "duration": 17,
    "start_time": "2021-11-25T10:09:37.004Z"
   },
   {
    "duration": 72,
    "start_time": "2021-11-25T10:09:37.023Z"
   },
   {
    "duration": 21,
    "start_time": "2021-11-25T10:09:37.097Z"
   },
   {
    "duration": 10,
    "start_time": "2021-11-25T10:09:37.119Z"
   },
   {
    "duration": 366,
    "start_time": "2021-11-25T10:09:37.144Z"
   },
   {
    "duration": 5,
    "start_time": "2021-11-25T10:09:37.512Z"
   },
   {
    "duration": 6,
    "start_time": "2021-11-25T10:09:37.519Z"
   },
   {
    "duration": 21,
    "start_time": "2021-11-25T10:09:37.527Z"
   },
   {
    "duration": 447,
    "start_time": "2021-11-25T10:09:37.550Z"
   },
   {
    "duration": 8,
    "start_time": "2021-11-25T10:09:37.999Z"
   },
   {
    "duration": 193,
    "start_time": "2021-11-25T10:09:38.009Z"
   },
   {
    "duration": 3,
    "start_time": "2021-11-25T10:09:38.206Z"
   },
   {
    "duration": 6,
    "start_time": "2021-11-25T10:09:38.211Z"
   },
   {
    "duration": 184,
    "start_time": "2021-11-25T10:09:38.218Z"
   },
   {
    "duration": 3,
    "start_time": "2021-11-25T10:09:38.404Z"
   },
   {
    "duration": 6,
    "start_time": "2021-11-25T10:09:38.409Z"
   },
   {
    "duration": 29,
    "start_time": "2021-11-25T10:09:38.417Z"
   },
   {
    "duration": 4,
    "start_time": "2021-11-25T10:09:38.448Z"
   },
   {
    "duration": 9,
    "start_time": "2021-11-25T10:09:38.453Z"
   },
   {
    "duration": 6,
    "start_time": "2021-11-25T10:09:38.464Z"
   },
   {
    "duration": 384,
    "start_time": "2021-11-25T10:09:38.472Z"
   },
   {
    "duration": -1943,
    "start_time": "2021-11-25T10:09:40.801Z"
   },
   {
    "duration": -1952,
    "start_time": "2021-11-25T10:09:40.811Z"
   },
   {
    "duration": -1959,
    "start_time": "2021-11-25T10:09:40.819Z"
   },
   {
    "duration": 347,
    "start_time": "2021-11-25T10:12:30.267Z"
   },
   {
    "duration": 287,
    "start_time": "2021-11-25T10:13:32.374Z"
   },
   {
    "duration": 298,
    "start_time": "2021-11-25T10:13:40.415Z"
   },
   {
    "duration": 3517,
    "start_time": "2021-11-25T10:13:50.597Z"
   },
   {
    "duration": 2878,
    "start_time": "2021-11-25T10:13:54.116Z"
   },
   {
    "duration": 1346,
    "start_time": "2021-11-25T10:13:56.996Z"
   },
   {
    "duration": 698,
    "start_time": "2021-11-25T10:13:58.344Z"
   },
   {
    "duration": 116,
    "start_time": "2021-11-25T10:13:59.044Z"
   },
   {
    "duration": 225,
    "start_time": "2021-11-25T10:13:59.162Z"
   },
   {
    "duration": 79,
    "start_time": "2021-11-25T10:13:59.389Z"
   },
   {
    "duration": 230,
    "start_time": "2021-11-25T10:13:59.470Z"
   },
   {
    "duration": 40,
    "start_time": "2021-11-25T10:13:59.703Z"
   },
   {
    "duration": 28,
    "start_time": "2021-11-25T10:13:59.746Z"
   },
   {
    "duration": 6,
    "start_time": "2021-11-25T10:13:59.775Z"
   },
   {
    "duration": 41,
    "start_time": "2021-11-25T10:13:59.782Z"
   },
   {
    "duration": 17,
    "start_time": "2021-11-25T10:13:59.825Z"
   },
   {
    "duration": 81,
    "start_time": "2021-11-25T10:13:59.843Z"
   },
   {
    "duration": 16,
    "start_time": "2021-11-25T10:13:59.927Z"
   },
   {
    "duration": 19,
    "start_time": "2021-11-25T10:13:59.946Z"
   },
   {
    "duration": 81,
    "start_time": "2021-11-25T10:13:59.967Z"
   },
   {
    "duration": 23,
    "start_time": "2021-11-25T10:14:00.050Z"
   },
   {
    "duration": 13,
    "start_time": "2021-11-25T10:14:00.075Z"
   },
   {
    "duration": 393,
    "start_time": "2021-11-25T10:14:00.090Z"
   },
   {
    "duration": 5,
    "start_time": "2021-11-25T10:14:00.485Z"
   },
   {
    "duration": 17,
    "start_time": "2021-11-25T10:14:00.491Z"
   },
   {
    "duration": 25,
    "start_time": "2021-11-25T10:14:00.510Z"
   },
   {
    "duration": 478,
    "start_time": "2021-11-25T10:14:00.537Z"
   },
   {
    "duration": 8,
    "start_time": "2021-11-25T10:14:01.017Z"
   },
   {
    "duration": 202,
    "start_time": "2021-11-25T10:14:01.027Z"
   },
   {
    "duration": 4,
    "start_time": "2021-11-25T10:14:01.232Z"
   },
   {
    "duration": 45,
    "start_time": "2021-11-25T10:14:01.238Z"
   },
   {
    "duration": 206,
    "start_time": "2021-11-25T10:14:01.285Z"
   },
   {
    "duration": 367,
    "start_time": "2021-11-25T10:14:01.494Z"
   },
   {
    "duration": 379,
    "start_time": "2021-11-25T10:14:01.863Z"
   },
   {
    "duration": -1985,
    "start_time": "2021-11-25T10:14:04.230Z"
   },
   {
    "duration": -2009,
    "start_time": "2021-11-25T10:14:04.255Z"
   },
   {
    "duration": -2038,
    "start_time": "2021-11-25T10:14:04.285Z"
   },
   {
    "duration": -2043,
    "start_time": "2021-11-25T10:14:04.292Z"
   },
   {
    "duration": -2046,
    "start_time": "2021-11-25T10:14:04.297Z"
   },
   {
    "duration": -2049,
    "start_time": "2021-11-25T10:14:04.301Z"
   },
   {
    "duration": -2052,
    "start_time": "2021-11-25T10:14:04.306Z"
   },
   {
    "duration": -2057,
    "start_time": "2021-11-25T10:14:04.312Z"
   },
   {
    "duration": -2059,
    "start_time": "2021-11-25T10:14:04.316Z"
   },
   {
    "duration": -2063,
    "start_time": "2021-11-25T10:14:04.321Z"
   },
   {
    "duration": -2067,
    "start_time": "2021-11-25T10:14:04.327Z"
   },
   {
    "duration": 366,
    "start_time": "2021-11-25T10:14:50.653Z"
   },
   {
    "duration": 424,
    "start_time": "2021-11-25T10:14:55.006Z"
   },
   {
    "duration": 517,
    "start_time": "2021-11-25T10:15:50.948Z"
   },
   {
    "duration": 3206,
    "start_time": "2021-11-25T15:47:47.929Z"
   },
   {
    "duration": 6411,
    "start_time": "2021-11-25T15:47:51.137Z"
   },
   {
    "duration": 1328,
    "start_time": "2021-11-25T15:47:57.551Z"
   },
   {
    "duration": 609,
    "start_time": "2021-11-25T15:47:58.881Z"
   },
   {
    "duration": 109,
    "start_time": "2021-11-25T15:47:59.491Z"
   },
   {
    "duration": 214,
    "start_time": "2021-11-25T15:47:59.601Z"
   },
   {
    "duration": 72,
    "start_time": "2021-11-25T15:47:59.817Z"
   },
   {
    "duration": 213,
    "start_time": "2021-11-25T15:47:59.892Z"
   },
   {
    "duration": 40,
    "start_time": "2021-11-25T15:48:00.107Z"
   },
   {
    "duration": 29,
    "start_time": "2021-11-25T15:48:00.150Z"
   },
   {
    "duration": 5,
    "start_time": "2021-11-25T15:48:00.180Z"
   },
   {
    "duration": 27,
    "start_time": "2021-11-25T15:48:00.186Z"
   },
   {
    "duration": 12,
    "start_time": "2021-11-25T15:48:00.215Z"
   },
   {
    "duration": 75,
    "start_time": "2021-11-25T15:48:00.230Z"
   },
   {
    "duration": 18,
    "start_time": "2021-11-25T15:48:00.307Z"
   },
   {
    "duration": 7,
    "start_time": "2021-11-25T15:48:00.327Z"
   },
   {
    "duration": 72,
    "start_time": "2021-11-25T15:48:00.336Z"
   },
   {
    "duration": 20,
    "start_time": "2021-11-25T15:48:00.410Z"
   },
   {
    "duration": 9,
    "start_time": "2021-11-25T15:48:00.432Z"
   },
   {
    "duration": 480,
    "start_time": "2021-11-25T15:48:00.443Z"
   },
   {
    "duration": 5,
    "start_time": "2021-11-25T15:48:00.924Z"
   },
   {
    "duration": 19,
    "start_time": "2021-11-25T15:48:00.930Z"
   },
   {
    "duration": 10,
    "start_time": "2021-11-25T15:48:00.954Z"
   },
   {
    "duration": 437,
    "start_time": "2021-11-25T15:48:00.967Z"
   },
   {
    "duration": 9,
    "start_time": "2021-11-25T15:48:01.406Z"
   },
   {
    "duration": 195,
    "start_time": "2021-11-25T15:48:01.416Z"
   },
   {
    "duration": 4,
    "start_time": "2021-11-25T15:48:01.613Z"
   },
   {
    "duration": 22,
    "start_time": "2021-11-25T15:48:01.618Z"
   },
   {
    "duration": 183,
    "start_time": "2021-11-25T15:48:01.642Z"
   },
   {
    "duration": 344,
    "start_time": "2021-11-25T15:48:01.826Z"
   },
   {
    "duration": 346,
    "start_time": "2021-11-25T15:48:02.172Z"
   },
   {
    "duration": 414,
    "start_time": "2021-11-25T15:48:02.520Z"
   },
   {
    "duration": 4,
    "start_time": "2021-11-25T15:48:02.936Z"
   },
   {
    "duration": 31,
    "start_time": "2021-11-25T15:48:02.942Z"
   },
   {
    "duration": 37,
    "start_time": "2021-11-25T15:48:02.975Z"
   },
   {
    "duration": 22,
    "start_time": "2021-11-25T15:48:03.014Z"
   },
   {
    "duration": 30,
    "start_time": "2021-11-25T15:48:03.037Z"
   },
   {
    "duration": 59,
    "start_time": "2021-11-25T15:48:03.068Z"
   },
   {
    "duration": 481,
    "start_time": "2021-11-25T15:48:03.128Z"
   },
   {
    "duration": -1760,
    "start_time": "2021-11-25T15:48:05.372Z"
   },
   {
    "duration": -1763,
    "start_time": "2021-11-25T15:48:05.376Z"
   },
   {
    "duration": -1764,
    "start_time": "2021-11-25T15:48:05.379Z"
   },
   {
    "duration": 2356,
    "start_time": "2021-11-25T15:48:41.068Z"
   },
   {
    "duration": 2596,
    "start_time": "2021-11-25T15:48:43.426Z"
   },
   {
    "duration": 1313,
    "start_time": "2021-11-25T15:48:46.025Z"
   },
   {
    "duration": 639,
    "start_time": "2021-11-25T15:48:47.341Z"
   },
   {
    "duration": 111,
    "start_time": "2021-11-25T15:48:47.981Z"
   },
   {
    "duration": 216,
    "start_time": "2021-11-25T15:48:48.094Z"
   },
   {
    "duration": 73,
    "start_time": "2021-11-25T15:48:48.312Z"
   },
   {
    "duration": 197,
    "start_time": "2021-11-25T15:48:48.387Z"
   },
   {
    "duration": 39,
    "start_time": "2021-11-25T15:48:48.586Z"
   },
   {
    "duration": 27,
    "start_time": "2021-11-25T15:48:48.627Z"
   },
   {
    "duration": 5,
    "start_time": "2021-11-25T15:48:48.655Z"
   },
   {
    "duration": 18,
    "start_time": "2021-11-25T15:48:48.662Z"
   },
   {
    "duration": 13,
    "start_time": "2021-11-25T15:48:48.682Z"
   },
   {
    "duration": 77,
    "start_time": "2021-11-25T15:48:48.697Z"
   },
   {
    "duration": 15,
    "start_time": "2021-11-25T15:48:48.777Z"
   },
   {
    "duration": 6,
    "start_time": "2021-11-25T15:48:48.795Z"
   },
   {
    "duration": 67,
    "start_time": "2021-11-25T15:48:48.803Z"
   },
   {
    "duration": 21,
    "start_time": "2021-11-25T15:48:48.872Z"
   },
   {
    "duration": 10,
    "start_time": "2021-11-25T15:48:48.895Z"
   },
   {
    "duration": 371,
    "start_time": "2021-11-25T15:48:48.907Z"
   },
   {
    "duration": 4,
    "start_time": "2021-11-25T15:48:49.280Z"
   },
   {
    "duration": 9,
    "start_time": "2021-11-25T15:48:49.285Z"
   },
   {
    "duration": 8,
    "start_time": "2021-11-25T15:48:49.297Z"
   },
   {
    "duration": 442,
    "start_time": "2021-11-25T15:48:49.308Z"
   },
   {
    "duration": 14,
    "start_time": "2021-11-25T15:48:49.752Z"
   },
   {
    "duration": 175,
    "start_time": "2021-11-25T15:48:49.768Z"
   },
   {
    "duration": 3,
    "start_time": "2021-11-25T15:48:49.945Z"
   },
   {
    "duration": 14,
    "start_time": "2021-11-25T15:48:49.950Z"
   },
   {
    "duration": 173,
    "start_time": "2021-11-25T15:48:49.966Z"
   },
   {
    "duration": 339,
    "start_time": "2021-11-25T15:48:50.141Z"
   },
   {
    "duration": 395,
    "start_time": "2021-11-25T15:48:50.482Z"
   },
   {
    "duration": 409,
    "start_time": "2021-11-25T15:48:50.879Z"
   },
   {
    "duration": 3,
    "start_time": "2021-11-25T15:48:51.290Z"
   },
   {
    "duration": 10,
    "start_time": "2021-11-25T15:48:51.295Z"
   },
   {
    "duration": 21,
    "start_time": "2021-11-25T15:48:51.307Z"
   },
   {
    "duration": 3,
    "start_time": "2021-11-25T15:48:51.330Z"
   },
   {
    "duration": 8,
    "start_time": "2021-11-25T15:48:51.334Z"
   },
   {
    "duration": 20,
    "start_time": "2021-11-25T15:48:51.344Z"
   },
   {
    "duration": 230,
    "start_time": "2021-11-25T15:48:51.366Z"
   },
   {
    "duration": 3,
    "start_time": "2021-11-25T15:48:51.598Z"
   },
   {
    "duration": 7,
    "start_time": "2021-11-25T15:48:51.603Z"
   },
   {
    "duration": 10,
    "start_time": "2021-11-25T15:48:51.612Z"
   }
  ],
  "kernelspec": {
   "display_name": "Python 3 (ipykernel)",
   "language": "python",
   "name": "python3"
  },
  "language_info": {
   "codemirror_mode": {
    "name": "ipython",
    "version": 3
   },
   "file_extension": ".py",
   "mimetype": "text/x-python",
   "name": "python",
   "nbconvert_exporter": "python",
   "pygments_lexer": "ipython3",
   "version": "3.9.5"
  },
  "toc": {
   "base_numbering": 1,
   "nav_menu": {},
   "number_sections": true,
   "sideBar": true,
   "skip_h1_title": true,
   "title_cell": "Table of Contents",
   "title_sidebar": "Contents",
   "toc_cell": false,
   "toc_position": {},
   "toc_section_display": true,
   "toc_window_display": false
  }
 },
 "nbformat": 4,
 "nbformat_minor": 2
}
